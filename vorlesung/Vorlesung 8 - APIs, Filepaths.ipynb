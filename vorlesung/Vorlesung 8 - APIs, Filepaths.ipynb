{
 "cells": [
  {
   "cell_type": "markdown",
   "id": "d9a3430d",
   "metadata": {
    "slideshow": {
     "slide_type": "slide"
    }
   },
   "source": [
    "# Datenjournalismus in Python - \n",
    "# Eine praktische Einführung in die Programmierung\n",
    "\n",
    "\n",
    "### Natalie Widmann\n",
    "\n",
    "\n",
    "\n",
    "\n",
    "Wintersemester 2022 / 2023\n",
    "\n",
    "\n",
    "Universität Leipzig\n",
    "\n",
    "\n",
    "\n"
   ]
  },
  {
   "cell_type": "markdown",
   "id": "31364e0e",
   "metadata": {
    "slideshow": {
     "slide_type": "slide"
    }
   },
   "source": [
    "\n",
    "\n",
    "![Timeline](../imgs/timeline.png)"
   ]
  },
  {
   "cell_type": "markdown",
   "id": "7e785d50",
   "metadata": {
    "slideshow": {
     "slide_type": "slide"
    }
   },
   "source": [
    "# Teil III - APIs und Webscraping\n"
   ]
  },
  {
   "cell_type": "markdown",
   "id": "f02fda06",
   "metadata": {
    "slideshow": {
     "slide_type": "slide"
    }
   },
   "source": [
    "# Inhalte\n",
    "\n",
    "## - was wir lernen\n",
    "\n",
    "- Was sind APIs\n",
    "- Daten abrufen und speichern\n",
    "- Filepfade\n",
    "\n",
    "\n",
    "\n"
   ]
  },
  {
   "cell_type": "markdown",
   "id": "9402d417",
   "metadata": {},
   "source": [
    "### Challenges of datafiles\n",
    "\n",
    "But why use an API instead of a static CSV dataset you can download from the web? APIs are useful in the following cases:\n",
    "\n",
    "- The data is changing quickly. An example of this is stock price data. It doesn’t really make sense to regenerate a dataset and download it every minute — this will take a lot of bandwidth, and be pretty slow.\n",
    "- You want a small piece of a much larger set of data. Reddit comments are one example. What if you want to just pull your own comments on Reddit? It doesn’t make much sense to download the entire Reddit database, then filter just your own comments.\n",
    "- There is repeated computation involved. Spotify has an API that can tell you the genre of a piece of music. You could theoretically create your own classifier, and use it to compute music categories, but you’ll never have as much data as Spotify does.\n"
   ]
  },
  {
   "cell_type": "markdown",
   "id": "a5890ec7",
   "metadata": {
    "slideshow": {
     "slide_type": "slide"
    }
   },
   "source": [
    "# Was sind APIs?\n",
    "\n",
    "An API, or Application Programming Interface, is a server that you can use to retrieve and send data to using code. APIs are most commonly used to retrieve data, and that will be the focus of this beginner tutorial.\n",
    "\n",
    "When we want to receive data from an API, we need to make a request. Requests are used all over the web. For instance, when you visited this blog post, your web browser made a request to the Dataquest web server, which responded with the content of this web page.\n",
    "\n",
    "API requests work in exactly the same way – you make a request to an API server for data, and it responds to your request.\n"
   ]
  },
  {
   "cell_type": "markdown",
   "id": "74807880",
   "metadata": {},
   "source": [
    "![API](../imgs/API.png)"
   ]
  },
  {
   "cell_type": "markdown",
   "id": "8226e3e0",
   "metadata": {},
   "source": [
    "### Unser erster API Request in Python\n",
    "\n",
    "Dafür benutzen wir das `requests` python package.\n",
    "\n",
    "Dokumentation: https://requests.readthedocs.io/en/latest/"
   ]
  },
  {
   "cell_type": "code",
   "execution_count": 1,
   "id": "00df5096",
   "metadata": {},
   "outputs": [
    {
     "name": "stdout",
     "output_type": "stream",
     "text": [
      "Defaulting to user installation because normal site-packages is not writeable\n",
      "Requirement already satisfied: requests in /usr/lib/python3/dist-packages (2.22.0)\n"
     ]
    }
   ],
   "source": [
    "!pip install requests"
   ]
  },
  {
   "cell_type": "code",
   "execution_count": 2,
   "id": "9a1de631",
   "metadata": {},
   "outputs": [],
   "source": [
    "import requests"
   ]
  },
  {
   "cell_type": "markdown",
   "id": "4397bdab",
   "metadata": {},
   "source": [
    "Um Daten einer API abzufragen verwendet man einen sogenannten `GET` request.\n",
    "Dafür hat das `request` package die Funktion `requests.get()`.\n",
    "Diese nimmt als Argument die url entgegen."
   ]
  },
  {
   "cell_type": "code",
   "execution_count": 32,
   "id": "a62af060",
   "metadata": {},
   "outputs": [],
   "source": [
    "#url = 'https://api.open-notify.org/this-api-doesnt-exist'\n",
    "url = 'http://api.open-notify.org/astros.json'\n",
    "response = requests.get(url)"
   ]
  },
  {
   "cell_type": "code",
   "execution_count": 30,
   "id": "cfc14916",
   "metadata": {},
   "outputs": [
    {
     "data": {
      "text/plain": [
       "['__attrs__',\n",
       " '__bool__',\n",
       " '__class__',\n",
       " '__delattr__',\n",
       " '__dict__',\n",
       " '__dir__',\n",
       " '__doc__',\n",
       " '__enter__',\n",
       " '__eq__',\n",
       " '__exit__',\n",
       " '__format__',\n",
       " '__ge__',\n",
       " '__getattribute__',\n",
       " '__getstate__',\n",
       " '__gt__',\n",
       " '__hash__',\n",
       " '__init__',\n",
       " '__init_subclass__',\n",
       " '__iter__',\n",
       " '__le__',\n",
       " '__lt__',\n",
       " '__module__',\n",
       " '__ne__',\n",
       " '__new__',\n",
       " '__nonzero__',\n",
       " '__reduce__',\n",
       " '__reduce_ex__',\n",
       " '__repr__',\n",
       " '__setattr__',\n",
       " '__setstate__',\n",
       " '__sizeof__',\n",
       " '__str__',\n",
       " '__subclasshook__',\n",
       " '__weakref__',\n",
       " '_content',\n",
       " '_content_consumed',\n",
       " '_next',\n",
       " 'apparent_encoding',\n",
       " 'close',\n",
       " 'connection',\n",
       " 'content',\n",
       " 'cookies',\n",
       " 'elapsed',\n",
       " 'encoding',\n",
       " 'headers',\n",
       " 'history',\n",
       " 'is_permanent_redirect',\n",
       " 'is_redirect',\n",
       " 'iter_content',\n",
       " 'iter_lines',\n",
       " 'json',\n",
       " 'links',\n",
       " 'next',\n",
       " 'ok',\n",
       " 'raise_for_status',\n",
       " 'raw',\n",
       " 'reason',\n",
       " 'request',\n",
       " 'status_code',\n",
       " 'text',\n",
       " 'url']"
      ]
     },
     "execution_count": 30,
     "metadata": {},
     "output_type": "execute_result"
    }
   ],
   "source": [
    "dir(response)"
   ]
  },
  {
   "cell_type": "code",
   "execution_count": 18,
   "id": "b22d35db",
   "metadata": {},
   "outputs": [
    {
     "data": {
      "text/plain": [
       "<Response [200]>"
      ]
     },
     "execution_count": 18,
     "metadata": {},
     "output_type": "execute_result"
    }
   ],
   "source": [
    "response"
   ]
  },
  {
   "cell_type": "markdown",
   "id": "4e1f23c7",
   "metadata": {},
   "source": [
    "### Status Codes\n",
    "\n",
    "Die Antwort eines request, enthält einen response Code der sagt ob die Anfrage erfolgreich war.\n",
    "\n",
    "Der Status Code wird über `.status_code` abgerufen."
   ]
  },
  {
   "cell_type": "code",
   "execution_count": 8,
   "id": "5eb96cca",
   "metadata": {},
   "outputs": [
    {
     "data": {
      "text/plain": [
       "200"
      ]
     },
     "execution_count": 8,
     "metadata": {},
     "output_type": "execute_result"
    }
   ],
   "source": [
    "response.status_code"
   ]
  },
  {
   "cell_type": "markdown",
   "id": "a0f9afbd",
   "metadata": {},
   "source": [
    "### Relevante Status Codes\n",
    "\n",
    "\n",
    "| Status Code  | Bedeutung  | \n",
    "|----------|:-------------  |\n",
    "| **200** | OK. Eine Verbindung zur API konnte hergestellt werden. |\n",
    "| **204** | Eine API Verbindung wurde hergestellt aber keine Daten übertragen |\n",
    "| **400** | Eine API Verbindung wurde hergestellt aber keine Daten übertragen |\n",
    "| **401** | Authentifizierungsfehler!  |\n",
    "| **403** |\tZugang zum Endpunkt ist nicht gestattet. |\n",
    "| **404** | Die API / url wurde nicht gefunden. |\n",
    "| **500** |\tInterner Server Fehler. |\n"
   ]
  },
  {
   "cell_type": "markdown",
   "id": "2344d120",
   "metadata": {},
   "source": [
    "### API Data\n",
    "\n",
    "Die Daten der API können über `.json()` abgerufen werden."
   ]
  },
  {
   "cell_type": "code",
   "execution_count": 24,
   "id": "42175341",
   "metadata": {},
   "outputs": [],
   "source": [
    "data = response.json()"
   ]
  },
  {
   "cell_type": "code",
   "execution_count": 26,
   "id": "8f7d765f",
   "metadata": {},
   "outputs": [
    {
     "data": {
      "text/plain": [
       "{'people': [{'craft': 'Tiangong', 'name': 'Cai Xuzhe'},\n",
       "  {'craft': 'Tiangong', 'name': 'Chen Dong'},\n",
       "  {'craft': 'Tiangong', 'name': 'Liu Yang'},\n",
       "  {'craft': 'ISS', 'name': 'Sergey Prokopyev'},\n",
       "  {'craft': 'ISS', 'name': 'Dmitry Petelin'},\n",
       "  {'craft': 'ISS', 'name': 'Frank Rubio'},\n",
       "  {'craft': 'ISS', 'name': 'Nicole Mann'},\n",
       "  {'craft': 'ISS', 'name': 'Josh Cassada'},\n",
       "  {'craft': 'ISS', 'name': 'Koichi Wakata'},\n",
       "  {'craft': 'ISS', 'name': 'Anna Kikina'},\n",
       "  {'craft': 'Shenzhou 15', 'name': 'Fei Junlong'},\n",
       "  {'craft': 'Shenzhou 15', 'name': 'Deng Qingming'},\n",
       "  {'craft': 'Shenzhou 15', 'name': 'Zhang Lu'}],\n",
       " 'number': 13,\n",
       " 'message': 'success'}"
      ]
     },
     "execution_count": 26,
     "metadata": {},
     "output_type": "execute_result"
    }
   ],
   "source": [
    "data"
   ]
  },
  {
   "cell_type": "code",
   "execution_count": null,
   "id": "25a24e08",
   "metadata": {},
   "outputs": [],
   "source": [
    "type(data)"
   ]
  },
  {
   "cell_type": "markdown",
   "id": "393e97ca",
   "metadata": {},
   "source": [
    "#### Welche Daten sind verfügbar?\n",
    "\n",
    "Zeige alle Keys im Dictionary an."
   ]
  },
  {
   "cell_type": "code",
   "execution_count": 27,
   "id": "ed319310",
   "metadata": {},
   "outputs": [
    {
     "data": {
      "text/plain": [
       "dict_keys(['people', 'number', 'message'])"
      ]
     },
     "execution_count": 27,
     "metadata": {},
     "output_type": "execute_result"
    }
   ],
   "source": []
  },
  {
   "cell_type": "markdown",
   "id": "52ebd952",
   "metadata": {},
   "source": [
    "Zeige die Anzahl an Menschen an, die gerade im All ist"
   ]
  },
  {
   "cell_type": "code",
   "execution_count": null,
   "id": "cb18df43",
   "metadata": {},
   "outputs": [],
   "source": []
  },
  {
   "cell_type": "markdown",
   "id": "249ccbe5",
   "metadata": {},
   "source": [
    "Drucke die Namen aller Menschen im All aus"
   ]
  },
  {
   "cell_type": "code",
   "execution_count": null,
   "id": "cbc0128a",
   "metadata": {},
   "outputs": [],
   "source": []
  },
  {
   "cell_type": "markdown",
   "id": "0da68c10",
   "metadata": {},
   "source": [
    "## Daten lokal speichern"
   ]
  },
  {
   "cell_type": "code",
   "execution_count": 35,
   "id": "d113f127",
   "metadata": {},
   "outputs": [],
   "source": [
    "import json\n",
    "\n",
    "with open(\"astronauts.json\", \"w\") as outfile:\n",
    "    json.dump(data, outfile)"
   ]
  },
  {
   "cell_type": "markdown",
   "id": "b39c983f",
   "metadata": {},
   "source": [
    "### Reading JSON\n"
   ]
  },
  {
   "cell_type": "code",
   "execution_count": 36,
   "id": "6e8d9713",
   "metadata": {
    "scrolled": true
   },
   "outputs": [
    {
     "name": "stdout",
     "output_type": "stream",
     "text": [
      "{'people': [{'craft': 'Tiangong', 'name': 'Cai Xuzhe'}, {'craft': 'Tiangong', 'name': 'Chen Dong'}, {'craft': 'Tiangong', 'name': 'Liu Yang'}, {'craft': 'ISS', 'name': 'Sergey Prokopyev'}, {'craft': 'ISS', 'name': 'Dmitry Petelin'}, {'craft': 'ISS', 'name': 'Frank Rubio'}, {'craft': 'ISS', 'name': 'Nicole Mann'}, {'craft': 'ISS', 'name': 'Josh Cassada'}, {'craft': 'ISS', 'name': 'Koichi Wakata'}, {'craft': 'ISS', 'name': 'Anna Kikina'}, {'craft': 'Shenzhou 15', 'name': 'Fei Junlong'}, {'craft': 'Shenzhou 15', 'name': 'Deng Qingming'}, {'craft': 'Shenzhou 15', 'name': 'Zhang Lu'}], 'number': 13, 'message': 'success'}\n",
      "{'people': [{'craft': 'Tiangong', 'name': 'Cai Xuzhe'}, {'craft': 'Tiangong', 'name': 'Chen Dong'}, {'craft': 'Tiangong', 'name': 'Liu Yang'}, {'craft': 'ISS', 'name': 'Sergey Prokopyev'}, {'craft': 'ISS', 'name': 'Dmitry Petelin'}, {'craft': 'ISS', 'name': 'Frank Rubio'}, {'craft': 'ISS', 'name': 'Nicole Mann'}, {'craft': 'ISS', 'name': 'Josh Cassada'}, {'craft': 'ISS', 'name': 'Koichi Wakata'}, {'craft': 'ISS', 'name': 'Anna Kikina'}, {'craft': 'Shenzhou 15', 'name': 'Fei Junlong'}, {'craft': 'Shenzhou 15', 'name': 'Deng Qingming'}, {'craft': 'Shenzhou 15', 'name': 'Zhang Lu'}], 'number': 13, 'message': 'success'}\n"
     ]
    }
   ],
   "source": [
    "import json\n",
    " \n",
    "with open('astronauts.json', 'r') as openfile:\n",
    "    new_data = json.load(openfile)\n",
    " \n",
    "print(new_data)\n",
    "print(new_data)"
   ]
  },
  {
   "cell_type": "markdown",
   "id": "88613b58",
   "metadata": {},
   "source": [
    "### File Paths"
   ]
  },
  {
   "cell_type": "code",
   "execution_count": 37,
   "id": "6a583f41",
   "metadata": {},
   "outputs": [],
   "source": []
  },
  {
   "cell_type": "code",
   "execution_count": 39,
   "id": "e0b3a685",
   "metadata": {},
   "outputs": [
    {
     "data": {
      "text/plain": [
       "{'meta': {'abgeordnetenwatch_api': {'version': '2.3',\n",
       "   'changelog': 'https://www.abgeordnetenwatch.de/api/version-changelog/aktuell',\n",
       "   'licence': 'CC0 1.0',\n",
       "   'licence_link': 'https://creativecommons.org/publicdomain/zero/1.0/deed.de',\n",
       "   'documentation': 'https://www.abgeordnetenwatch.de/api/entitaeten/parliament'},\n",
       "  'status': 'ok',\n",
       "  'status_message': '',\n",
       "  'result': {'count': 18, 'total': 18, 'range_start': 0, 'range_end': 100}},\n",
       " 'data': [{'id': 18,\n",
       "   'entity_type': 'parliament',\n",
       "   'label': 'Schleswig-Holstein',\n",
       "   'api_url': 'https://www.abgeordnetenwatch.de/api/v2/parliaments/18',\n",
       "   'abgeordnetenwatch_url': 'https://www.abgeordnetenwatch.de/schleswig-holstein',\n",
       "   'label_external_long': 'Landtag Schleswig-Holstein',\n",
       "   'current_project': {'id': 138,\n",
       "    'entity_type': 'parliament_period',\n",
       "    'label': 'Schleswig-Holstein 2022 - 2027',\n",
       "    'api_url': 'https://www.abgeordnetenwatch.de/api/v2/parliament-periods/138',\n",
       "    'abgeordnetenwatch_url': 'https://www.abgeordnetenwatch.de/schleswig-holstein'}},\n",
       "  {'id': 17,\n",
       "   'entity_type': 'parliament',\n",
       "   'label': 'Sachsen',\n",
       "   'api_url': 'https://www.abgeordnetenwatch.de/api/v2/parliaments/17',\n",
       "   'abgeordnetenwatch_url': 'https://www.abgeordnetenwatch.de/sachsen',\n",
       "   'label_external_long': 'Landtag Sachsen',\n",
       "   'current_project': {'id': 119,\n",
       "    'entity_type': 'parliament_period',\n",
       "    'label': 'Sachsen 2019 - 2024',\n",
       "    'api_url': 'https://www.abgeordnetenwatch.de/api/v2/parliament-periods/119',\n",
       "    'abgeordnetenwatch_url': 'https://www.abgeordnetenwatch.de/sachsen'}},\n",
       "  {'id': 16,\n",
       "   'entity_type': 'parliament',\n",
       "   'label': 'Brandenburg',\n",
       "   'api_url': 'https://www.abgeordnetenwatch.de/api/v2/parliaments/16',\n",
       "   'abgeordnetenwatch_url': 'https://www.abgeordnetenwatch.de/brandenburg',\n",
       "   'label_external_long': 'Landtag Brandenburg',\n",
       "   'current_project': {'id': 120,\n",
       "    'entity_type': 'parliament_period',\n",
       "    'label': 'Brandenburg 2019 - 2024',\n",
       "    'api_url': 'https://www.abgeordnetenwatch.de/api/v2/parliament-periods/120',\n",
       "    'abgeordnetenwatch_url': 'https://www.abgeordnetenwatch.de/brandenburg'}},\n",
       "  {'id': 15,\n",
       "   'entity_type': 'parliament',\n",
       "   'label': 'Thüringen',\n",
       "   'api_url': 'https://www.abgeordnetenwatch.de/api/v2/parliaments/15',\n",
       "   'abgeordnetenwatch_url': 'https://www.abgeordnetenwatch.de/thueringen',\n",
       "   'label_external_long': 'Landtag Thüringen',\n",
       "   'current_project': {'id': 121,\n",
       "    'entity_type': 'parliament_period',\n",
       "    'label': 'Thüringen 2019 - 2024',\n",
       "    'api_url': 'https://www.abgeordnetenwatch.de/api/v2/parliament-periods/121',\n",
       "    'abgeordnetenwatch_url': 'https://www.abgeordnetenwatch.de/thueringen'}},\n",
       "  {'id': 14,\n",
       "   'entity_type': 'parliament',\n",
       "   'label': 'Saarland',\n",
       "   'api_url': 'https://www.abgeordnetenwatch.de/api/v2/parliaments/14',\n",
       "   'abgeordnetenwatch_url': 'https://www.abgeordnetenwatch.de/saarland',\n",
       "   'label_external_long': 'Landtag Saarland',\n",
       "   'current_project': {'id': 137,\n",
       "    'entity_type': 'parliament_period',\n",
       "    'label': 'Saarland 2022 - 2027',\n",
       "    'api_url': 'https://www.abgeordnetenwatch.de/api/v2/parliament-periods/137',\n",
       "    'abgeordnetenwatch_url': 'https://www.abgeordnetenwatch.de/saarland'}},\n",
       "  {'id': 13,\n",
       "   'entity_type': 'parliament',\n",
       "   'label': 'Bayern',\n",
       "   'api_url': 'https://www.abgeordnetenwatch.de/api/v2/parliaments/13',\n",
       "   'abgeordnetenwatch_url': 'https://www.abgeordnetenwatch.de/bayern',\n",
       "   'label_external_long': 'Landtag Bayern',\n",
       "   'current_project': {'id': 115,\n",
       "    'entity_type': 'parliament_period',\n",
       "    'label': 'Bayern 2018 - 2023',\n",
       "    'api_url': 'https://www.abgeordnetenwatch.de/api/v2/parliament-periods/115',\n",
       "    'abgeordnetenwatch_url': 'https://www.abgeordnetenwatch.de/bayern'}},\n",
       "  {'id': 12,\n",
       "   'entity_type': 'parliament',\n",
       "   'label': 'Niedersachsen',\n",
       "   'api_url': 'https://www.abgeordnetenwatch.de/api/v2/parliaments/12',\n",
       "   'abgeordnetenwatch_url': 'https://www.abgeordnetenwatch.de/niedersachsen',\n",
       "   'label_external_long': 'Landtag Niedersachsen',\n",
       "   'current_project': {'id': 143,\n",
       "    'entity_type': 'parliament_period',\n",
       "    'label': 'Niedersachsen 2022 - 2027',\n",
       "    'api_url': 'https://www.abgeordnetenwatch.de/api/v2/parliament-periods/143',\n",
       "    'abgeordnetenwatch_url': 'https://www.abgeordnetenwatch.de/niedersachsen'}},\n",
       "  {'id': 11,\n",
       "   'entity_type': 'parliament',\n",
       "   'label': 'Hessen',\n",
       "   'api_url': 'https://www.abgeordnetenwatch.de/api/v2/parliaments/11',\n",
       "   'abgeordnetenwatch_url': 'https://www.abgeordnetenwatch.de/hessen',\n",
       "   'label_external_long': 'Landtag Hessen',\n",
       "   'current_project': {'id': 116,\n",
       "    'entity_type': 'parliament_period',\n",
       "    'label': 'Hessen 2018 - 2023',\n",
       "    'api_url': 'https://www.abgeordnetenwatch.de/api/v2/parliament-periods/116',\n",
       "    'abgeordnetenwatch_url': 'https://www.abgeordnetenwatch.de/hessen'}},\n",
       "  {'id': 10,\n",
       "   'entity_type': 'parliament',\n",
       "   'label': 'Bremen',\n",
       "   'api_url': 'https://www.abgeordnetenwatch.de/api/v2/parliaments/10',\n",
       "   'abgeordnetenwatch_url': 'https://www.abgeordnetenwatch.de/bremen',\n",
       "   'label_external_long': 'Bürgerschaft Bremen',\n",
       "   'current_project': {'id': 118,\n",
       "    'entity_type': 'parliament_period',\n",
       "    'label': 'Bremen 2019 - 2023',\n",
       "    'api_url': 'https://www.abgeordnetenwatch.de/api/v2/parliament-periods/118',\n",
       "    'abgeordnetenwatch_url': 'https://www.abgeordnetenwatch.de/bremen'}},\n",
       "  {'id': 9,\n",
       "   'entity_type': 'parliament',\n",
       "   'label': 'Mecklenburg-Vorpommern',\n",
       "   'api_url': 'https://www.abgeordnetenwatch.de/api/v2/parliaments/9',\n",
       "   'abgeordnetenwatch_url': 'https://www.abgeordnetenwatch.de/mecklenburg-vorpommern',\n",
       "   'label_external_long': 'Landtag Mecklenburg-Vorpommern',\n",
       "   'current_project': {'id': 134,\n",
       "    'entity_type': 'parliament_period',\n",
       "    'label': 'Mecklenburg-Vorpommern 2021 - 2026',\n",
       "    'api_url': 'https://www.abgeordnetenwatch.de/api/v2/parliament-periods/134',\n",
       "    'abgeordnetenwatch_url': 'https://www.abgeordnetenwatch.de/mecklenburg-vorpommern'}},\n",
       "  {'id': 8,\n",
       "   'entity_type': 'parliament',\n",
       "   'label': 'Sachsen-Anhalt',\n",
       "   'api_url': 'https://www.abgeordnetenwatch.de/api/v2/parliaments/8',\n",
       "   'abgeordnetenwatch_url': 'https://www.abgeordnetenwatch.de/sachsen-anhalt',\n",
       "   'label_external_long': 'Landtag Sachsen-Anhalt',\n",
       "   'current_project': {'id': 131,\n",
       "    'entity_type': 'parliament_period',\n",
       "    'label': 'Sachsen-Anhalt 2021 - 2026',\n",
       "    'api_url': 'https://www.abgeordnetenwatch.de/api/v2/parliament-periods/131',\n",
       "    'abgeordnetenwatch_url': 'https://www.abgeordnetenwatch.de/sachsen-anhalt'}},\n",
       "  {'id': 7,\n",
       "   'entity_type': 'parliament',\n",
       "   'label': 'Rheinland-Pfalz',\n",
       "   'api_url': 'https://www.abgeordnetenwatch.de/api/v2/parliaments/7',\n",
       "   'abgeordnetenwatch_url': 'https://www.abgeordnetenwatch.de/rheinland-pfalz',\n",
       "   'label_external_long': 'Landtag Rheinland-Pfalz',\n",
       "   'current_project': {'id': 127,\n",
       "    'entity_type': 'parliament_period',\n",
       "    'label': 'Rheinland-Pfalz 2021 - 2026',\n",
       "    'api_url': 'https://www.abgeordnetenwatch.de/api/v2/parliament-periods/127',\n",
       "    'abgeordnetenwatch_url': 'https://www.abgeordnetenwatch.de/rheinland-pfalz'}},\n",
       "  {'id': 6,\n",
       "   'entity_type': 'parliament',\n",
       "   'label': 'Baden-Württemberg',\n",
       "   'api_url': 'https://www.abgeordnetenwatch.de/api/v2/parliaments/6',\n",
       "   'abgeordnetenwatch_url': 'https://www.abgeordnetenwatch.de/baden-wuerttemberg',\n",
       "   'label_external_long': 'Landtag Baden-Württemberg',\n",
       "   'current_project': {'id': 126,\n",
       "    'entity_type': 'parliament_period',\n",
       "    'label': 'Baden-Württemberg 2021 - 2026',\n",
       "    'api_url': 'https://www.abgeordnetenwatch.de/api/v2/parliament-periods/126',\n",
       "    'abgeordnetenwatch_url': 'https://www.abgeordnetenwatch.de/baden-wuerttemberg'}},\n",
       "  {'id': 5,\n",
       "   'entity_type': 'parliament',\n",
       "   'label': 'Bundestag',\n",
       "   'api_url': 'https://www.abgeordnetenwatch.de/api/v2/parliaments/5',\n",
       "   'abgeordnetenwatch_url': 'https://www.abgeordnetenwatch.de/bundestag',\n",
       "   'label_external_long': 'Bundestag',\n",
       "   'current_project': {'id': 132,\n",
       "    'entity_type': 'parliament_period',\n",
       "    'label': 'Bundestag 2021 - 2025',\n",
       "    'api_url': 'https://www.abgeordnetenwatch.de/api/v2/parliament-periods/132',\n",
       "    'abgeordnetenwatch_url': 'https://www.abgeordnetenwatch.de/bundestag'}},\n",
       "  {'id': 4,\n",
       "   'entity_type': 'parliament',\n",
       "   'label': 'Nordrhein-Westfalen',\n",
       "   'api_url': 'https://www.abgeordnetenwatch.de/api/v2/parliaments/4',\n",
       "   'abgeordnetenwatch_url': 'https://www.abgeordnetenwatch.de/nordrhein-westfalen',\n",
       "   'label_external_long': 'Landtag Nordrhein-Westfalen',\n",
       "   'current_project': {'id': 139,\n",
       "    'entity_type': 'parliament_period',\n",
       "    'label': 'Nordrhein-Westfalen 2022 - 2027',\n",
       "    'api_url': 'https://www.abgeordnetenwatch.de/api/v2/parliament-periods/139',\n",
       "    'abgeordnetenwatch_url': 'https://www.abgeordnetenwatch.de/nordrhein-westfalen'}},\n",
       "  {'id': 3,\n",
       "   'entity_type': 'parliament',\n",
       "   'label': 'Hamburg',\n",
       "   'api_url': 'https://www.abgeordnetenwatch.de/api/v2/parliaments/3',\n",
       "   'abgeordnetenwatch_url': 'https://www.abgeordnetenwatch.de/hamburg',\n",
       "   'label_external_long': 'Bürgerschaft Hamburg',\n",
       "   'current_project': {'id': 122,\n",
       "    'entity_type': 'parliament_period',\n",
       "    'label': 'Hamburg 2020 - 2025',\n",
       "    'api_url': 'https://www.abgeordnetenwatch.de/api/v2/parliament-periods/122',\n",
       "    'abgeordnetenwatch_url': 'https://www.abgeordnetenwatch.de/hamburg'}},\n",
       "  {'id': 2,\n",
       "   'entity_type': 'parliament',\n",
       "   'label': 'Berlin',\n",
       "   'api_url': 'https://www.abgeordnetenwatch.de/api/v2/parliaments/2',\n",
       "   'abgeordnetenwatch_url': 'https://www.abgeordnetenwatch.de/berlin',\n",
       "   'label_external_long': 'Abgeordnetenhaus Berlin',\n",
       "   'current_project': {'id': 133,\n",
       "    'entity_type': 'parliament_period',\n",
       "    'label': 'Berlin 2021 - 2026',\n",
       "    'api_url': 'https://www.abgeordnetenwatch.de/api/v2/parliament-periods/133',\n",
       "    'abgeordnetenwatch_url': 'https://www.abgeordnetenwatch.de/berlin'}},\n",
       "  {'id': 1,\n",
       "   'entity_type': 'parliament',\n",
       "   'label': 'EU-Parlament',\n",
       "   'api_url': 'https://www.abgeordnetenwatch.de/api/v2/parliaments/1',\n",
       "   'abgeordnetenwatch_url': 'https://www.abgeordnetenwatch.de/eu',\n",
       "   'label_external_long': 'EU-Parlament',\n",
       "   'current_project': {'id': 117,\n",
       "    'entity_type': 'parliament_period',\n",
       "    'label': 'EU-Parlament 2019 - 2024',\n",
       "    'api_url': 'https://www.abgeordnetenwatch.de/api/v2/parliament-periods/117',\n",
       "    'abgeordnetenwatch_url': 'https://www.abgeordnetenwatch.de/eu'}}]}"
      ]
     },
     "execution_count": 39,
     "metadata": {},
     "output_type": "execute_result"
    }
   ],
   "source": [
    "response.json()"
   ]
  },
  {
   "cell_type": "markdown",
   "id": "909c2a1a",
   "metadata": {},
   "source": [
    "## Twitter API"
   ]
  },
  {
   "cell_type": "code",
   "execution_count": 53,
   "id": "85679f2a",
   "metadata": {},
   "outputs": [],
   "source": [
    "with open('.env', 'r') as f:\n",
    "    TOKEN = f.readline()"
   ]
  },
  {
   "cell_type": "code",
   "execution_count": 54,
   "id": "04011913",
   "metadata": {},
   "outputs": [],
   "source": [
    "def create_headers(token):\n",
    "    headers = {\"Authorization\": \"Bearer {}\".format(token)}\n",
    "    return headers"
   ]
  },
  {
   "cell_type": "code",
   "execution_count": 77,
   "id": "ab410eb7",
   "metadata": {},
   "outputs": [],
   "source": [
    "def create_url(keyword, max_results = 10):\n",
    "    \n",
    "    search_url = \"https://api.twitter.com/2/tweets/search/recent\" #Change to the endpoint you want to collect data from\n",
    "\n",
    "    #change params based on the endpoint you are using\n",
    "    query_params = {'query': keyword,\n",
    "                    'max_results': max_results,\n",
    "                    'expansions': 'author_id,in_reply_to_user_id,geo.place_id',\n",
    "                    'tweet.fields': 'id,text,author_id,in_reply_to_user_id,geo,conversation_id,created_at,lang,public_metrics,referenced_tweets,reply_settings,source',\n",
    "                    'user.fields': 'id,name,username,created_at,description,public_metrics,verified',\n",
    "                    'place.fields': 'full_name,id,country,country_code,geo,name,place_type',\n",
    "                    'next_token': {}}\n",
    "    return (search_url, query_params)"
   ]
  },
  {
   "cell_type": "code",
   "execution_count": 78,
   "id": "7b3df16c",
   "metadata": {},
   "outputs": [],
   "source": [
    "def connect_to_endpoint(url, headers, params, next_token = None):\n",
    "    params['next_token'] = next_token   #params object received from create_url function\n",
    "    response = requests.request(\"GET\", url, headers = headers, params = params)\n",
    "    print(\"Endpoint Response Code: \" + str(response.status_code))\n",
    "    if response.status_code != 200:\n",
    "        raise Exception(response.status_code, response.text)\n",
    "    return response.json()"
   ]
  },
  {
   "cell_type": "code",
   "execution_count": 91,
   "id": "d064f47a",
   "metadata": {},
   "outputs": [],
   "source": [
    "headers = create_headers(TOKEN)\n",
    "keyword = \"Musk lang:de\"\n",
    "start_time = \"2021-03-01T00:00:00.000Z\"\n",
    "end_time = \"2021-03-31T00:00:00.000Z\"\n",
    "max_results = 15"
   ]
  },
  {
   "cell_type": "code",
   "execution_count": 92,
   "id": "02f382fb",
   "metadata": {},
   "outputs": [
    {
     "name": "stdout",
     "output_type": "stream",
     "text": [
      "Endpoint Response Code: 200\n"
     ]
    }
   ],
   "source": [
    "url = create_url(keyword, max_results)\n",
    "json_response = connect_to_endpoint(url[0], headers, url[1])"
   ]
  },
  {
   "cell_type": "code",
   "execution_count": 93,
   "id": "b8c2d18e",
   "metadata": {},
   "outputs": [
    {
     "data": {
      "text/plain": [
       "{'data': [{'in_reply_to_user_id': '1509990162595467265',\n",
       "   'id': '1599864361287553024',\n",
       "   'conversation_id': '1599863110000869376',\n",
       "   'reply_settings': 'everyone',\n",
       "   'public_metrics': {'retweet_count': 0,\n",
       "    'reply_count': 0,\n",
       "    'like_count': 0,\n",
       "    'quote_count': 0},\n",
       "   'edit_history_tweet_ids': ['1599864361287553024'],\n",
       "   'text': '@S04Juulius Schon lustig alles und jeden auf der Welt anprangern aber 9€ im Monat Dauerauftrag an Elon Musk.',\n",
       "   'referenced_tweets': [{'type': 'replied_to', 'id': '1599863110000869376'}],\n",
       "   'lang': 'de',\n",
       "   'source': 'Twitter for iPhone',\n",
       "   'created_at': '2022-12-05T20:32:42.000Z',\n",
       "   'author_id': '1033905116540219394'},\n",
       "  {'id': '1599864273185882113',\n",
       "   'conversation_id': '1599864273185882113',\n",
       "   'reply_settings': 'everyone',\n",
       "   'public_metrics': {'retweet_count': 379,\n",
       "    'reply_count': 0,\n",
       "    'like_count': 0,\n",
       "    'quote_count': 0},\n",
       "   'edit_history_tweet_ids': ['1599864273185882113'],\n",
       "   'text': 'RT @maxotte_says: \"Was Musk mit #twittergate macht, ist Licht in eine koordinierte Verschwörung zu bringen, die uns politisch und ideologis…',\n",
       "   'referenced_tweets': [{'type': 'retweeted', 'id': '1599315859805044736'}],\n",
       "   'lang': 'de',\n",
       "   'source': 'Twitter for Android',\n",
       "   'created_at': '2022-12-05T20:32:21.000Z',\n",
       "   'author_id': '1439986327596974085'},\n",
       "  {'id': '1599864249236717568',\n",
       "   'conversation_id': '1599864249236717568',\n",
       "   'reply_settings': 'everyone',\n",
       "   'public_metrics': {'retweet_count': 56,\n",
       "    'reply_count': 0,\n",
       "    'like_count': 0,\n",
       "    'quote_count': 0},\n",
       "   'edit_history_tweet_ids': ['1599864249236717568'],\n",
       "   'text': 'RT @Dennis_Hohloch: Elon #Musk legt interne Dokumente zur #Zensur bei #Twitter offen und vergleicht die Veröffentlichung mit der der #Stasi…',\n",
       "   'referenced_tweets': [{'type': 'retweeted', 'id': '1599801025325858816'}],\n",
       "   'lang': 'de',\n",
       "   'source': 'Twitter for Android',\n",
       "   'created_at': '2022-12-05T20:32:15.000Z',\n",
       "   'author_id': '731147905252360193'},\n",
       "  {'in_reply_to_user_id': '280569249',\n",
       "   'id': '1599864219628806144',\n",
       "   'conversation_id': '1599787121253883904',\n",
       "   'reply_settings': 'everyone',\n",
       "   'public_metrics': {'retweet_count': 0,\n",
       "    'reply_count': 0,\n",
       "    'like_count': 0,\n",
       "    'quote_count': 0},\n",
       "   'edit_history_tweet_ids': ['1599864219628806144'],\n",
       "   'text': '@Hoellenaufsicht Ja, tatsächlich. Weil die NYT eine Kampagne gegen Musk fährt 🤷🏼\\u200d♂️',\n",
       "   'referenced_tweets': [{'type': 'replied_to', 'id': '1599787121253883904'}],\n",
       "   'lang': 'de',\n",
       "   'source': 'Twitter for Android',\n",
       "   'created_at': '2022-12-05T20:32:08.000Z',\n",
       "   'author_id': '1381214456856907778'},\n",
       "  {'id': '1599864177492865024',\n",
       "   'conversation_id': '1599864177492865024',\n",
       "   'reply_settings': 'everyone',\n",
       "   'public_metrics': {'retweet_count': 542,\n",
       "    'reply_count': 0,\n",
       "    'like_count': 0,\n",
       "    'quote_count': 0},\n",
       "   'edit_history_tweet_ids': ['1599864177492865024'],\n",
       "   'text': 'RT @MrJonasDanner: Was Elon Musk bisher ganz konkret bei Twitter geändert hat\\n\\n- 30.000 Accounts gesperrt, die Kinderpornos verbreiten\\n- Co…',\n",
       "   'referenced_tweets': [{'type': 'retweeted', 'id': '1599759998023659520'}],\n",
       "   'lang': 'de',\n",
       "   'source': 'Twitter for iPhone',\n",
       "   'created_at': '2022-12-05T20:31:58.000Z',\n",
       "   'author_id': '1394973294'},\n",
       "  {'in_reply_to_user_id': '82705743',\n",
       "   'id': '1599864157406314496',\n",
       "   'conversation_id': '1599809496162902022',\n",
       "   'reply_settings': 'everyone',\n",
       "   'public_metrics': {'retweet_count': 0,\n",
       "    'reply_count': 0,\n",
       "    'like_count': 0,\n",
       "    'quote_count': 0},\n",
       "   'edit_history_tweet_ids': ['1599864157406314496'],\n",
       "   'text': '@MichaelBSverige @Karl_Lauterbach #Twitter-Sperre von #Lauterbach überfällig! #Musk 💪',\n",
       "   'referenced_tweets': [{'type': 'replied_to', 'id': '1599809496162902022'}],\n",
       "   'lang': 'de',\n",
       "   'source': 'Twitter Web App',\n",
       "   'created_at': '2022-12-05T20:31:53.000Z',\n",
       "   'author_id': '1421893411473342469'},\n",
       "  {'in_reply_to_user_id': '17366149',\n",
       "   'id': '1599864018759712768',\n",
       "   'conversation_id': '1599728459546238981',\n",
       "   'reply_settings': 'everyone',\n",
       "   'public_metrics': {'retweet_count': 0,\n",
       "    'reply_count': 0,\n",
       "    'like_count': 0,\n",
       "    'quote_count': 0},\n",
       "   'edit_history_tweet_ids': ['1599864018759712768'],\n",
       "   'text': '@Touni @watson_news Habe die Watson App gelöscht. Braucht man nicht sowas. Jeder gefühlt 3. Artikel beinhaltete sinnlose, nicht wirklich richtig recherchierte Aussagen gegen Musk &amp; Twitter.',\n",
       "   'referenced_tweets': [{'type': 'replied_to', 'id': '1599739112395014144'}],\n",
       "   'lang': 'de',\n",
       "   'source': 'Twitter for iPhone',\n",
       "   'created_at': '2022-12-05T20:31:20.000Z',\n",
       "   'author_id': '1514837547159068673'},\n",
       "  {'id': '1599863965554597888',\n",
       "   'conversation_id': '1599863965554597888',\n",
       "   'reply_settings': 'everyone',\n",
       "   'public_metrics': {'retweet_count': 48,\n",
       "    'reply_count': 0,\n",
       "    'like_count': 0,\n",
       "    'quote_count': 0},\n",
       "   'edit_history_tweet_ids': ['1599863965554597888'],\n",
       "   'text': 'RT @richtig__falsch: Wussten Sie, dass Elon Musk überlegt, ein Team von medizinischen Experten zusammenzustellen, um alle bisherigen Aussag…',\n",
       "   'referenced_tweets': [{'type': 'retweeted', 'id': '1599780520766111751'}],\n",
       "   'lang': 'de',\n",
       "   'source': 'Twitter for Android',\n",
       "   'created_at': '2022-12-05T20:31:08.000Z',\n",
       "   'author_id': '1439986327596974085'},\n",
       "  {'id': '1599863956432162818',\n",
       "   'conversation_id': '1599863956432162818',\n",
       "   'reply_settings': 'everyone',\n",
       "   'public_metrics': {'retweet_count': 0,\n",
       "    'reply_count': 0,\n",
       "    'like_count': 0,\n",
       "    'quote_count': 0},\n",
       "   'edit_history_tweet_ids': ['1599863956432162818'],\n",
       "   'text': 'Einordnung von rechts und links: The Twitter files on Hunter Biden. https://t.co/5Pjg8VBoAj',\n",
       "   'lang': 'de',\n",
       "   'source': 'Buffer',\n",
       "   'created_at': '2022-12-05T20:31:05.000Z',\n",
       "   'author_id': '156701169'},\n",
       "  {'id': '1599863955706347521',\n",
       "   'conversation_id': '1599863955706347521',\n",
       "   'reply_settings': 'everyone',\n",
       "   'public_metrics': {'retweet_count': 108,\n",
       "    'reply_count': 0,\n",
       "    'like_count': 0,\n",
       "    'quote_count': 0},\n",
       "   'edit_history_tweet_ids': ['1599863955706347521'],\n",
       "   'text': 'RT @Rot_Okt: Elon Musk hat dem Journalisten Matt Taibbi kürzlich Tausende Twitter-Dokumente übergeben, damit er sie auswertet. Das bisherig…',\n",
       "   'referenced_tweets': [{'type': 'retweeted', 'id': '1599736058190893057'}],\n",
       "   'lang': 'de',\n",
       "   'source': 'Twitter for iPhone',\n",
       "   'created_at': '2022-12-05T20:31:05.000Z',\n",
       "   'author_id': '1266018104368340993'},\n",
       "  {'id': '1599863936337465344',\n",
       "   'conversation_id': '1599863936337465344',\n",
       "   'reply_settings': 'everyone',\n",
       "   'public_metrics': {'retweet_count': 68,\n",
       "    'reply_count': 0,\n",
       "    'like_count': 0,\n",
       "    'quote_count': 0},\n",
       "   'edit_history_tweet_ids': ['1599863936337465344'],\n",
       "   'text': 'RT @BILD: Musk teilt brisante Vorwürfe - Hat Twitter heikle Berichte über Bidens Sohn zensiert? https://t.co/QlYvVVKoQE',\n",
       "   'referenced_tweets': [{'type': 'retweeted', 'id': '1599784701715271680'}],\n",
       "   'lang': 'de',\n",
       "   'source': 'Twitter for iPhone',\n",
       "   'created_at': '2022-12-05T20:31:01.000Z',\n",
       "   'author_id': '1394973294'},\n",
       "  {'id': '1599863918834307072',\n",
       "   'conversation_id': '1599863918834307072',\n",
       "   'reply_settings': 'everyone',\n",
       "   'public_metrics': {'retweet_count': 542,\n",
       "    'reply_count': 0,\n",
       "    'like_count': 0,\n",
       "    'quote_count': 0},\n",
       "   'edit_history_tweet_ids': ['1599863918834307072'],\n",
       "   'text': 'RT @MrJonasDanner: Was Elon Musk bisher ganz konkret bei Twitter geändert hat\\n\\n- 30.000 Accounts gesperrt, die Kinderpornos verbreiten\\n- Co…',\n",
       "   'referenced_tweets': [{'type': 'retweeted', 'id': '1599759998023659520'}],\n",
       "   'lang': 'de',\n",
       "   'source': 'Twitter for iPad',\n",
       "   'created_at': '2022-12-05T20:30:56.000Z',\n",
       "   'author_id': '1477469492624166915'},\n",
       "  {'id': '1599863917949263873',\n",
       "   'conversation_id': '1599863917949263873',\n",
       "   'reply_settings': 'everyone',\n",
       "   'public_metrics': {'retweet_count': 542,\n",
       "    'reply_count': 0,\n",
       "    'like_count': 0,\n",
       "    'quote_count': 0},\n",
       "   'edit_history_tweet_ids': ['1599863917949263873'],\n",
       "   'text': 'RT @MrJonasDanner: Was Elon Musk bisher ganz konkret bei Twitter geändert hat\\n\\n- 30.000 Accounts gesperrt, die Kinderpornos verbreiten\\n- Co…',\n",
       "   'referenced_tweets': [{'type': 'retweeted', 'id': '1599759998023659520'}],\n",
       "   'lang': 'de',\n",
       "   'source': 'Twitter for iPhone',\n",
       "   'created_at': '2022-12-05T20:30:56.000Z',\n",
       "   'author_id': '1563578274483441665'},\n",
       "  {'id': '1599863836424577024',\n",
       "   'conversation_id': '1599863836424577024',\n",
       "   'reply_settings': 'everyone',\n",
       "   'public_metrics': {'retweet_count': 2,\n",
       "    'reply_count': 0,\n",
       "    'like_count': 0,\n",
       "    'quote_count': 0},\n",
       "   'edit_history_tweet_ids': ['1599863836424577024'],\n",
       "   'text': \"RT @NerdyGerdyMan: Elon Musk hat interne Mails von #Twitter veröffentlicht, die beweisen, wie Twitter #Biden's Korruptionsskandale im US-Wa…\",\n",
       "   'referenced_tweets': [{'type': 'retweeted', 'id': '1599785896118669313'}],\n",
       "   'lang': 'de',\n",
       "   'source': 'Twitter Web App',\n",
       "   'created_at': '2022-12-05T20:30:37.000Z',\n",
       "   'author_id': '110774602'},\n",
       "  {'id': '1599863835606716418',\n",
       "   'conversation_id': '1599863835606716418',\n",
       "   'reply_settings': 'everyone',\n",
       "   'public_metrics': {'retweet_count': 169,\n",
       "    'reply_count': 0,\n",
       "    'like_count': 0,\n",
       "    'quote_count': 0},\n",
       "   'edit_history_tweet_ids': ['1599863835606716418'],\n",
       "   'text': 'RT @nikitheblogger: Niedersachsens SPD-Ministerpräsident und Corona-Hardliner Weil kündigt an, Twitter zu verlassen.\\nDas ist ja großartig!…',\n",
       "   'referenced_tweets': [{'type': 'retweeted', 'id': '1599750991326621696'}],\n",
       "   'lang': 'de',\n",
       "   'source': 'Twitter for iPad',\n",
       "   'created_at': '2022-12-05T20:30:37.000Z',\n",
       "   'author_id': '263751838'}],\n",
       " 'includes': {'users': [{'public_metrics': {'followers_count': 426,\n",
       "     'following_count': 292,\n",
       "     'tweet_count': 10721,\n",
       "     'listed_count': 2},\n",
       "    'verified': False,\n",
       "    'description': 'Die meisten Probleme entstehen durch mangelnde Kommunikation, die anderen durch mangelnde Bildung',\n",
       "    'id': '1033905116540219394',\n",
       "    'username': 'dorschball',\n",
       "    'name': 'Dorschball',\n",
       "    'created_at': '2018-08-27T02:32:43.000Z'},\n",
       "   {'public_metrics': {'followers_count': 706,\n",
       "     'following_count': 521,\n",
       "     'tweet_count': 1111,\n",
       "     'listed_count': 0},\n",
       "    'verified': False,\n",
       "    'description': 'schalke',\n",
       "    'id': '1509990162595467265',\n",
       "    'username': 'S04Juulius',\n",
       "    'name': 'Julius',\n",
       "    'created_at': '2022-04-01T20:24:51.000Z'},\n",
       "   {'public_metrics': {'followers_count': 415,\n",
       "     'following_count': 368,\n",
       "     'tweet_count': 29545,\n",
       "     'listed_count': 0},\n",
       "    'verified': False,\n",
       "    'description': '',\n",
       "    'id': '1439986327596974085',\n",
       "    'username': 'McRip15',\n",
       "    'name': 'Mc Rip',\n",
       "    'created_at': '2021-09-20T16:14:51.000Z'},\n",
       "   {'public_metrics': {'followers_count': 239,\n",
       "     'following_count': 76,\n",
       "     'tweet_count': 50390,\n",
       "     'listed_count': 1},\n",
       "    'verified': False,\n",
       "    'description': '',\n",
       "    'id': '731147905252360193',\n",
       "    'username': 'Ralf26649',\n",
       "    'name': 'Ralf',\n",
       "    'created_at': '2016-05-13T15:43:39.000Z'},\n",
       "   {'public_metrics': {'followers_count': 385,\n",
       "     'following_count': 714,\n",
       "     'tweet_count': 3146,\n",
       "     'listed_count': 4},\n",
       "    'verified': False,\n",
       "    'description': 'Reaktionär | Old Soul | Waldgänger',\n",
       "    'id': '1381214456856907778',\n",
       "    'username': 'GeorgTemesi',\n",
       "    'name': 'Georg Temesi',\n",
       "    'created_at': '2021-04-11T11:56:14.000Z'},\n",
       "   {'public_metrics': {'followers_count': 65751,\n",
       "     'following_count': 1054,\n",
       "     'tweet_count': 75183,\n",
       "     'listed_count': 303},\n",
       "    'verified': False,\n",
       "    'description': 'Laut BILD “Ex-FDP-Influencerin” // leitet Digitale Kommunikation @polisphere // Meinungen sind von mir und so gemeint',\n",
       "    'id': '280569249',\n",
       "    'username': 'Hoellenaufsicht',\n",
       "    'name': 'Mareile',\n",
       "    'created_at': '2011-04-11T15:55:26.000Z'},\n",
       "   {'public_metrics': {'followers_count': 227,\n",
       "     'following_count': 181,\n",
       "     'tweet_count': 25913,\n",
       "     'listed_count': 4},\n",
       "    'verified': False,\n",
       "    'description': 'Entrepreneur - Engineer - 888 - White Tiger - Bitcoin - ExMatrix - 🌿 - Hard Assets',\n",
       "    'id': '1394973294',\n",
       "    'username': 'Boulanger888',\n",
       "    'name': 'Francois Boulanger',\n",
       "    'created_at': '2013-05-01T16:17:35.000Z'},\n",
       "   {'public_metrics': {'followers_count': 33,\n",
       "     'following_count': 30,\n",
       "     'tweet_count': 3421,\n",
       "     'listed_count': 3},\n",
       "    'verified': False,\n",
       "    'description': '',\n",
       "    'id': '1421893411473342469',\n",
       "    'username': 'BlogHaltern',\n",
       "    'name': 'blog-haltern',\n",
       "    'created_at': '2021-08-01T18:00:14.000Z'},\n",
       "   {'public_metrics': {'followers_count': 1541,\n",
       "     'following_count': 1124,\n",
       "     'tweet_count': 5413,\n",
       "     'listed_count': 1},\n",
       "    'verified': False,\n",
       "    'description': 'Der Schlaue ist schlau und stellt sich dumm, beim Dummen ist es anders herum. #Satire Das ist alles von der Kunstfreiheit gedeckt!',\n",
       "    'id': '82705743',\n",
       "    'username': 'MichaelBSverige',\n",
       "    'name': '🐀 Michael B. 🇸🇪',\n",
       "    'created_at': '2009-10-15T20:31:36.000Z'},\n",
       "   {'public_metrics': {'followers_count': 27,\n",
       "     'following_count': 166,\n",
       "     'tweet_count': 90,\n",
       "     'listed_count': 0},\n",
       "    'verified': False,\n",
       "    'description': '👨🏻\\u200d💻 \\uf8ff Technology & Tesla enthusiast. 💻 MS-Consultant ✈️ World traveller.',\n",
       "    'id': '1514837547159068673',\n",
       "    'username': 'Tw1tt3rDave',\n",
       "    'name': 'David',\n",
       "    'created_at': '2022-04-15T05:26:49.000Z'},\n",
       "   {'public_metrics': {'followers_count': 757,\n",
       "     'following_count': 527,\n",
       "     'tweet_count': 26666,\n",
       "     'listed_count': 42},\n",
       "    'verified': False,\n",
       "    'description': 'Bärner, 29, ITler, Pilot, Mac, Reisen, usw. https://t.co/BWTWULl86E',\n",
       "    'id': '17366149',\n",
       "    'username': 'Touni',\n",
       "    'name': 'Touni',\n",
       "    'created_at': '2008-11-13T14:53:55.000Z'},\n",
       "   {'public_metrics': {'followers_count': 15361,\n",
       "     'following_count': 579,\n",
       "     'tweet_count': 20910,\n",
       "     'listed_count': 181},\n",
       "    'verified': False,\n",
       "    'description': 'Journalist, Podcaster, Autor • 🌱🌞🐮🚘 🏘️ bei Sonne & Stahl auf der Suche nach Lösungen • ✍️ @derStandardat • 🎧 Erklär mir die Welt • andreas.sator@gmail.com',\n",
       "    'id': '156701169',\n",
       "    'username': 'a_sator',\n",
       "    'name': 'Andreas Sator',\n",
       "    'created_at': '2010-06-17T17:24:17.000Z'},\n",
       "   {'public_metrics': {'followers_count': 290,\n",
       "     'following_count': 456,\n",
       "     'tweet_count': 8668,\n",
       "     'listed_count': 0},\n",
       "    'verified': False,\n",
       "    'description': '#Rhlp weltoffen + Patriot mit dem Drang zu hinterfragen 🇩🇪 🇮🇱 🇺🇸 ⚜️#TeamReitschuster #ungeimpftunddasbleibtso!!!',\n",
       "    'id': '1266018104368340993',\n",
       "    'username': 'LePatriot78',\n",
       "    'name': 'der_Bretone',\n",
       "    'created_at': '2020-05-28T14:47:14.000Z'},\n",
       "   {'public_metrics': {'followers_count': 12,\n",
       "     'following_count': 23,\n",
       "     'tweet_count': 478,\n",
       "     'listed_count': 0},\n",
       "    'verified': False,\n",
       "    'description': '',\n",
       "    'id': '1477469492624166915',\n",
       "    'username': 'JulianLindner6',\n",
       "    'name': 'Julian Lindner',\n",
       "    'created_at': '2022-01-02T02:40:31.000Z'},\n",
       "   {'public_metrics': {'followers_count': 1,\n",
       "     'following_count': 95,\n",
       "     'tweet_count': 170,\n",
       "     'listed_count': 0},\n",
       "    'verified': False,\n",
       "    'description': '',\n",
       "    'id': '1563578274483441665',\n",
       "    'username': '6p6wsyqjxh',\n",
       "    'name': 'Slaytanic Schorsch',\n",
       "    'created_at': '2022-08-27T17:25:07.000Z'},\n",
       "   {'public_metrics': {'followers_count': 1464,\n",
       "     'following_count': 601,\n",
       "     'tweet_count': 160633,\n",
       "     'listed_count': 82},\n",
       "    'verified': False,\n",
       "    'description': 'Anti-Imperialist, Socialist, #DKP, Gaddafist (hence the green flag!), triple vaccinated',\n",
       "    'id': '110774602',\n",
       "    'username': 'NerdyGerdyMan',\n",
       "    'name': 'Z.Z. von Schnerk ☮️🚩📗⌛',\n",
       "    'created_at': '2010-02-02T18:46:50.000Z'},\n",
       "   {'public_metrics': {'followers_count': 1791,\n",
       "     'following_count': 5000,\n",
       "     'tweet_count': 78915,\n",
       "     'listed_count': 25},\n",
       "    'verified': False,\n",
       "    'description': 'Die Gedanken sind frei',\n",
       "    'id': '263751838',\n",
       "    'username': 'Fernsehen01',\n",
       "    'name': 'D.K.',\n",
       "    'created_at': '2011-03-10T17:33:00.000Z'}]},\n",
       " 'meta': {'newest_id': '1599864361287553024',\n",
       "  'oldest_id': '1599863835606716418',\n",
       "  'result_count': 15,\n",
       "  'next_token': 'b26v89c19zqg8o3fpzhn0i4fy68oaew1ced35lusgie7x'}}"
      ]
     },
     "execution_count": 93,
     "metadata": {},
     "output_type": "execute_result"
    }
   ],
   "source": [
    "json_response"
   ]
  }
 ],
 "metadata": {
  "celltoolbar": "Slideshow",
  "kernelspec": {
   "display_name": "Python 3 (ipykernel)",
   "language": "python",
   "name": "python3"
  },
  "language_info": {
   "codemirror_mode": {
    "name": "ipython",
    "version": 3
   },
   "file_extension": ".py",
   "mimetype": "text/x-python",
   "name": "python",
   "nbconvert_exporter": "python",
   "pygments_lexer": "ipython3",
   "version": "3.9.15"
  }
 },
 "nbformat": 4,
 "nbformat_minor": 5
}
