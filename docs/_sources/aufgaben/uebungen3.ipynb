{
 "cells": [
  {
   "cell_type": "markdown",
   "metadata": {},
   "source": [
    "# Listen, Funktionen und Schleifen\n"
   ]
  },
  {
   "cell_type": "markdown",
   "metadata": {},
   "source": [
    "## Listen"
   ]
  },
  {
   "cell_type": "markdown",
   "metadata": {},
   "source": [
    "Initialisiere eine Liste mit den Werten folgenden Werten: dein Alter, die letzten Ziffern deiner Postleitzahl, dein Geburtsjahr und die ersten zwei Ziffern deiner Matrikelnummer."
   ]
  },
  {
   "cell_type": "code",
   "execution_count": null,
   "metadata": {},
   "outputs": [],
   "source": [
    "# Dein Code"
   ]
  },
  {
   "cell_type": "code",
   "execution_count": null,
   "metadata": {
    "tags": [
     "skip-execution",
     "hide-input"
    ]
   },
   "outputs": [],
   "source": [
    "meine_list =  [25, 317, 1997, 37]"
   ]
  },
  {
   "cell_type": "markdown",
   "metadata": {},
   "source": [
    "Füge der Liste die Werte 64, 17, 45 hinzu."
   ]
  },
  {
   "cell_type": "code",
   "execution_count": null,
   "metadata": {},
   "outputs": [],
   "source": [
    "# Dein Code"
   ]
  },
  {
   "cell_type": "code",
   "execution_count": null,
   "metadata": {
    "tags": [
     "skip-execution",
     "hide-input"
    ]
   },
   "outputs": [],
   "source": [
    "# Möglichkeit 1\n",
    "meine_list.extend([64, 17, 45])\n",
    "\n",
    "# Möglichkeit 2\n",
    "meine_list.append(64)\n",
    "meine_list.append(17)"
   ]
  },
  {
   "cell_type": "markdown",
   "metadata": {},
   "source": [
    "Erweitere deine Liste mit der Liste 'abc'"
   ]
  },
  {
   "cell_type": "code",
   "execution_count": null,
   "metadata": {},
   "outputs": [],
   "source": [
    "abc = [1,6,1,4]"
   ]
  },
  {
   "cell_type": "code",
   "execution_count": null,
   "metadata": {
    "tags": [
     "skip-execution",
     "hide-input"
    ]
   },
   "outputs": [],
   "source": [
    "# Möglichkeit 1\n",
    "meine_list.extend(abc)\n",
    "\n",
    "# Möglichkeit 2\n",
    "meine_list = meine_list + abc\n",
    "\n",
    "# Möglichkeit 3\n",
    "meine_list += abc"
   ]
  },
  {
   "cell_type": "markdown",
   "metadata": {},
   "source": [
    "Ersetze den 10. Wert deiner Liste mit 9."
   ]
  },
  {
   "cell_type": "code",
   "execution_count": null,
   "metadata": {},
   "outputs": [],
   "source": [
    "# Dein Code"
   ]
  },
  {
   "cell_type": "code",
   "execution_count": null,
   "metadata": {
    "tags": [
     "skip-execution",
     "hide-input"
    ]
   },
   "outputs": [],
   "source": [
    "meine_list[9] = 9"
   ]
  },
  {
   "cell_type": "markdown",
   "metadata": {},
   "source": [
    "Gib die letzten 3 Werte deiner Liste aus"
   ]
  },
  {
   "cell_type": "code",
   "execution_count": null,
   "metadata": {},
   "outputs": [],
   "source": [
    "# Dein Code"
   ]
  },
  {
   "cell_type": "code",
   "execution_count": null,
   "metadata": {
    "tags": [
     "skip-execution",
     "hide-input"
    ]
   },
   "outputs": [],
   "source": [
    "# Hier wird der Doppelpunkt gebraucht um eine Sequenz statt eines einzelnen Werts auszugeben.\n",
    "print(meine_list[-3:])\n",
    "\n",
    "# Zusatz: Mit dieser Schreibweise kann auch eine Schrittweite angegeben werden.\n",
    "# In diesem Fall wird ab der Stelle 4  (inklusive) jeder zweite Wert bis zum Wert 10 (exklusive) der Liste ausgegeben.\n",
    "print(meine_list[4:10:2])"
   ]
  },
  {
   "cell_type": "markdown",
   "metadata": {},
   "source": [
    "Lösche den Wert an index 4 und gib diesen zurück "
   ]
  },
  {
   "cell_type": "code",
   "execution_count": null,
   "metadata": {},
   "outputs": [],
   "source": [
    "# Dein Code"
   ]
  },
  {
   "cell_type": "code",
   "execution_count": null,
   "metadata": {
    "tags": [
     "hide-input",
     "skip-execution"
    ]
   },
   "outputs": [],
   "source": [
    "# Pop löscht den Wert am angegebenen INDEX und gibt diesen auch zürck.\n",
    "a = meine_list.pop(1)\n",
    "print(a)\n",
    "\n",
    "# Zusatz: Remove löscht den ersten vorkommenden WERT, der als Parameter angeben wurde.\n",
    "meine_list.remove(1)"
   ]
  },
  {
   "cell_type": "markdown",
   "metadata": {},
   "source": [
    "\n",
    "Gegeben sei die Liste von Listen 'schachbrett'. In ihr sind die Positionen von Schachfiguren gespeichert.\n"
   ]
  },
  {
   "cell_type": "code",
   "execution_count": null,
   "metadata": {},
   "outputs": [],
   "source": [
    "schachbrett = [['schwarzes Pferd', 'schwarzer Bauer', None, None, None, None, 'weisser Bauer', None],\n",
    "               [None, None, None, None, None, None, 'schwarzer Bauer', None],\n",
    "               [None, None, None, None, None, None, 'schwarzer König', None],\n",
    "               ['schwarzer Bauer', None, None, 'weisser Turm', None, None, None, None],\n",
    "               [None, None, 'weisser König' , None, 'schwarzer Läufer', 'schwarzer Bauer', None, None],\n",
    "               [None, None, None, None, None, None, None, None],\n",
    "               [None, None, 'weisse Dame', None, None, None, None, None],\n",
    "               ['schwarzer Bauer', None, None, None, None, 'schwarze Dame', None, None]]"
   ]
  },
  {
   "cell_type": "markdown",
   "metadata": {},
   "source": [
    "Wie groß ist das Schachbrett? Gib die Länge und Breite des Spielfeldees aus"
   ]
  },
  {
   "cell_type": "code",
   "execution_count": null,
   "metadata": {},
   "outputs": [],
   "source": [
    "# Dein Code"
   ]
  },
  {
   "cell_type": "code",
   "execution_count": null,
   "metadata": {
    "tags": [
     "skip-execution",
     "hide-input"
    ]
   },
   "outputs": [],
   "source": [
    "print(len(schachbrett))\n",
    "print(len(schachbrett[1]))"
   ]
  },
  {
   "cell_type": "markdown",
   "metadata": {},
   "source": [
    "Welche Figur steht in der 5. Reihe, auf Position 6?"
   ]
  },
  {
   "cell_type": "code",
   "execution_count": null,
   "metadata": {},
   "outputs": [],
   "source": [
    "# Dein Code"
   ]
  },
  {
   "cell_type": "code",
   "execution_count": null,
   "metadata": {
    "tags": [
     "skip-execution",
     "hide-input"
    ]
   },
   "outputs": [],
   "source": [
    "print(schachbrett[4][5])"
   ]
  },
  {
   "cell_type": "markdown",
   "metadata": {},
   "source": [
    "Bewege die schwarze Dame diagonal zwei Felder weit über das Spielfeld und gebe ihre neue Position aus."
   ]
  },
  {
   "cell_type": "code",
   "execution_count": null,
   "metadata": {},
   "outputs": [],
   "source": [
    "# Dein Code"
   ]
  },
  {
   "cell_type": "code",
   "execution_count": null,
   "metadata": {
    "tags": [
     "hide-input",
     "skip-execution"
    ]
   },
   "outputs": [],
   "source": [
    "\n",
    "# Dein Code\n",
    "\"\"\"\n",
    "Mit dieser Lösung können die Felder EINMALIG getauscht werden.\n",
    "Die Werte sind hier hart codiert und\n",
    "\"\"\"\n",
    "#schachbrett[5][3] = 'schwarze Dame'\n",
    "#schachbrett[7][5] = None\n",
    "\n",
    "tmp = schachbrett[7][5]\n",
    "schachbrett[7][5] = schachbrett[5][3]\n",
    "schachbrett[5][3] = tmp\n",
    "\n",
    "print(schachbrett)\n"
   ]
  },
  {
   "cell_type": "markdown",
   "metadata": {},
   "source": [
    "## Aufgabe 2: Funktionen"
   ]
  },
  {
   "cell_type": "markdown",
   "metadata": {},
   "source": [
    "Schreibe eine Funktion, die prüft ob zwei Wörter gleich sind.\n",
    "Teste die Funktion mit mehreren Wortpaaren."
   ]
  },
  {
   "cell_type": "code",
   "execution_count": null,
   "metadata": {},
   "outputs": [],
   "source": [
    "# Dein Code"
   ]
  },
  {
   "cell_type": "code",
   "execution_count": null,
   "metadata": {
    "tags": [
     "skip-execution",
     "hide-input"
    ]
   },
   "outputs": [],
   "source": [
    "# Möglichkeit 1\n",
    "def similiar(a: str, b: str) -> bool:\n",
    "    \"\"\"\n",
    "    Die Funktion vergleicht zwei Strings auf Gleichheit.\n",
    "    :param a: Ein Wort, das verglichen werden soll.\n",
    "    :param b: Ein zweites Wort, das verglichen werden soll.\n",
    "    :return: True, falls die Worte gleich sind. False, sonst.\n",
    "    \"\"\"\n",
    "    if a == b:\n",
    "        print(f'{a} ist das gleich Wort wie {b}')\n",
    "        return True\n",
    "    else:\n",
    "        print(f'{a} ist nicht das gleich Wort wie {b}')\n",
    "        return False\n",
    "\n",
    "# Möglichkeit 2\n",
    "def similiar2(a, b):\n",
    "    \"\"\"\n",
    "    Diese Funktion gibt das gleiche Ergebnis, wie die obige, nur kürzer.\n",
    "    :param a:\n",
    "    :param b:\n",
    "    :return:\n",
    "    \"\"\"\n",
    "    return a==b\n",
    "\n",
    "\n",
    "print(similiar([1,2,3], 'Test'))\n",
    "a = similiar('Welt', 'Welt')\n",
    "\n",
    "similiar2('Udo', 'Jürgens')"
   ]
  },
  {
   "cell_type": "markdown",
   "metadata": {},
   "source": [
    "Schreibe eine Funktion, die als Eingabe eine Liste erhält und das arithmetische Mittel dieser Liste berechnet und zurückgibt. Teste diese Funktion mit deiner erstellten Liste aus Aufgabe 1."
   ]
  },
  {
   "cell_type": "code",
   "execution_count": null,
   "metadata": {},
   "outputs": [],
   "source": [
    "# Dein Code"
   ]
  },
  {
   "cell_type": "code",
   "execution_count": null,
   "metadata": {
    "tags": [
     "hide-input",
     "skip-execution"
    ]
   },
   "outputs": [],
   "source": [
    "def arith_mitte(liste:list)-> float:\n",
    "    \"\"\"\n",
    "    Berechnet das arithmetische Mittel, einer gegeben Liste.\n",
    "    :param liste:\n",
    "    :return:\n",
    "    \"\"\"\n",
    "    return round(sum(liste)/len(liste), 2)\n",
    "\n",
    "arith_mitte(meine_list)\n"
   ]
  },
  {
   "cell_type": "markdown",
   "metadata": {},
   "source": [
    "Schreibe eine Funktion, die überprüft, ob ein König an der gegebenen Position steht (in unserem Beispiel steht die schwarze Dame auf [7][5]) und falls ein König existiert ihn in die angegebene Richtung bewegt. Die Richtung wird in den Himmelsrichtungen angegeben (d.h. NO = Nord-Ost usw.) und es soll überprüft werden, ob der König auf ein leeres Feld versetzt wird oder ob er sich über den Spielfeldrand hinaus bewegt. Falls sich der König auf ein Feld mit einer gleichfarbigen Figur stellen würde, bewegt sich der König nicht. Falls es eine andersfarbige Figur ist, wird diese geschlagen und der König wechselt das Feld.\n"
   ]
  },
  {
   "cell_type": "code",
   "execution_count": null,
   "metadata": {},
   "outputs": [],
   "source": [
    "# Dein Code"
   ]
  },
  {
   "cell_type": "code",
   "execution_count": null,
   "metadata": {
    "tags": [
     "hide-input",
     "skip-execution"
    ]
   },
   "outputs": [],
   "source": [
    "def bewege_koenig(reihe:int, feld:int, richtung:str):\n",
    "\n",
    "    # Hier wird zuerst überprüft, ob das Feld überhaupt auf dem Schachbrett existiert.\n",
    "    if not (0 <= reihe < len(schachbrett) and 0 <= feld < len(schachbrett)):\n",
    "        print(\"Gebe ein Feld an das existiert\")\n",
    "        return\n",
    "    # Hier wird geprüft, ob ein König auf dem angegebenen Feld steht.\n",
    "    if schachbrett[reihe][feld] is None:\n",
    "        print(\"Auf dem Feld steht keine Figur.\")\n",
    "        return\n",
    "    if not(\"König\" in schachbrett[reihe][feld]):\n",
    "        print(\"Auf dem Feld steht kein König.\")\n",
    "        return\n",
    "\n",
    "    # Hier wird die Richtung überprüft und das Feld auf das der König gestellt wird berechnet. Anschließend wird die Funktion ziehen aufgerufen um den König auf das neue Feld zu ziehen.\n",
    "    if richtung == \"N\":\n",
    "        neue_reihe = reihe - 1\n",
    "        neues_feld = feld\n",
    "        ziehen(reihe, feld, neue_reihe, neues_feld)\n",
    "    elif richtung == \"S\":\n",
    "        neue_reihe = reihe + 1\n",
    "        neues_feld = feld\n",
    "        ziehen(reihe, feld, neue_reihe, neues_feld)\n",
    "    elif richtung == \"W\":\n",
    "        neue_reihe = reihe\n",
    "        neues_feld = feld - 1\n",
    "        ziehen(reihe, feld, neue_reihe, neues_feld)\n",
    "    elif richtung == \"O\":\n",
    "        neue_reihe = reihe\n",
    "        neues_feld = feld + 1\n",
    "        ziehen(reihe, feld, neue_reihe, neues_feld)\n",
    "    elif richtung == \"NW\":\n",
    "        neue_reihe = reihe - 1\n",
    "        neues_feld = feld - 1\n",
    "        ziehen(reihe, feld, neue_reihe, neues_feld)\n",
    "    elif richtung == \"NO\":\n",
    "        neue_reihe = reihe - 1\n",
    "        neues_feld = feld + 1\n",
    "        ziehen(reihe, feld, neue_reihe, neues_feld)\n",
    "    elif richtung == \"SO\":\n",
    "        neue_reihe = reihe + 1\n",
    "        neues_feld = feld + 1\n",
    "        ziehen(reihe, feld, neue_reihe, neues_feld)\n",
    "    elif richtung == \"SW\":\n",
    "        neue_reihe = reihe + 1\n",
    "        neues_feld = feld - 1\n",
    "        ziehen(reihe, feld, neue_reihe, neues_feld)\n",
    "\n",
    "\n",
    "# ziehen ist eine Hilfsfunktion, welche überprüft, ob das neue Feld in der neuen Reihe existiert und ob sich eine Figur der gleichen Farbe auf dem neuen Feld befindet. Falls das neue Feld existiert und sich keine gleichfarbige Figur darauf befindet, zieht die figur vom angegebenen Feld auf das neue Feld.\n",
    "def ziehen(reihe:int, feld:int, neue_reihe:int, neues_feld:int):\n",
    "    if not(0 <= neue_reihe < len(schachbrett) and 0 <= neues_feld < len(schachbrett)):\n",
    "        print(\"Der König kann sich nur auf dem Schachfeld bewegen.\")\n",
    "        return\n",
    "    if schachbrett[neue_reihe][neues_feld] is not None:\n",
    "        if (\"schwarz\" in schachbrett[reihe][feld] and \"schwarz\" in schachbrett[neue_reihe][neues_feld]) or (\"weiss\" in schachbrett[reihe][feld] and \"weiss\" in schachbrett[neue_reihe][neues_feld]):\n",
    "            print(\"Auf dem Feld steht bereits eine gleichfarbige Figur.\")\n",
    "            return\n",
    "        else:\n",
    "            schachbrett[neue_reihe][neues_feld] = schachbrett[reihe][feld]\n",
    "            schachbrett[reihe][feld] = None\n",
    "    else:\n",
    "        schachbrett[neue_reihe][neues_feld] = schachbrett[reihe][feld]\n",
    "        schachbrett[reihe][feld] = None\n",
    "\n",
    "\n",
    "bewege_koenig(2, 6, \"N\")\n",
    "print(schachbrett)"
   ]
  },
  {
   "cell_type": "markdown",
   "metadata": {},
   "source": [
    "## for-Schleifen"
   ]
  },
  {
   "cell_type": "markdown",
   "metadata": {},
   "source": [
    "Schreibe eine for-Schleife die Buchstaben in dem Wort `Donau-Dampfschifffahrtsgesellschaft` zählt"
   ]
  },
  {
   "cell_type": "code",
   "execution_count": null,
   "metadata": {},
   "outputs": [],
   "source": [
    "# Dein Code"
   ]
  },
  {
   "cell_type": "code",
   "execution_count": null,
   "metadata": {
    "tags": [
     "skip-execution",
     "hide-input"
    ]
   },
   "outputs": [],
   "source": [
    "text = 'Donau-Dampfschifffahrtsgesellschaft'\n",
    "\n",
    "counter = int()\n",
    "for zeichen in text:\n",
    "    if zeichen.isalpha():\n",
    "        counter += 1\n",
    "\n",
    "\n",
    "for buchstabe in text:\n",
    "    print(len(text))\n",
    "\n",
    "print(counter)"
   ]
  },
  {
   "cell_type": "markdown",
   "metadata": {},
   "source": [
    "Gib alle durch zwei teilbaren Werte der in Aufgabe 1 definierten Liste aus."
   ]
  },
  {
   "cell_type": "code",
   "execution_count": null,
   "metadata": {},
   "outputs": [],
   "source": [
    "# Dein Code"
   ]
  },
  {
   "cell_type": "code",
   "execution_count": null,
   "metadata": {
    "tags": [
     "skip-execution",
     "hide-input"
    ]
   },
   "outputs": [],
   "source": [
    "for nummer in meine_list:\n",
    "    if nummer%2 == 0:\n",
    "        print(nummer)\n",
    "\n"
   ]
  },
  {
   "cell_type": "markdown",
   "metadata": {},
   "source": [
    "Finde auf dem Schachbrett die Position des weißen Königs"
   ]
  },
  {
   "cell_type": "code",
   "execution_count": null,
   "metadata": {},
   "outputs": [],
   "source": [
    "# Dein Code"
   ]
  },
  {
   "cell_type": "code",
   "execution_count": null,
   "metadata": {
    "tags": [
     "hide-input",
     "skip-execution"
    ]
   },
   "outputs": [],
   "source": [
    "gesuchte_figur = 'weisser König'\n",
    "for reihe in schachbrett:\n",
    "    if gesuchte_figur in reihe:\n",
    "        print(schachbrett.index(reihe), reihe.index(gesuchte_figur))\n"
   ]
  },
  {
   "cell_type": "markdown",
   "metadata": {},
   "source": [
    "Finde heraus wie viele schwarze Bauern es auf dem Spielfeld gibt."
   ]
  },
  {
   "cell_type": "code",
   "execution_count": null,
   "metadata": {},
   "outputs": [],
   "source": [
    "# Dein Code"
   ]
  },
  {
   "cell_type": "code",
   "execution_count": null,
   "metadata": {
    "tags": [
     "hide-input",
     "skip-execution"
    ]
   },
   "outputs": [],
   "source": [
    "# Möglichkeit 1\n",
    "print(sum(sublist.count('schwarzer Bauer') for sublist in schachbrett))\n",
    "\n",
    "# Möglichkeit 2\n",
    "counter = 0\n",
    "for sublist in schachbrett:\n",
    "    counter += sublist.count('schwarzer Bauer')\n",
    "print(counter)"
   ]
  },
  {
   "cell_type": "markdown",
   "metadata": {},
   "source": [
    "## Bonusaufgaben"
   ]
  },
  {
   "cell_type": "markdown",
   "metadata": {},
   "source": [
    "\n",
    "Modifiziere die Funktion für den König so, dass sich diese modifizierte Funktion auf die Damen anwenden lassen. Hierbei wird zusätzlich zur Position und der Richtung auch noch die anzahl der Felder übergeben die sich die Königin bewegt."
   ]
  },
  {
   "cell_type": "code",
   "execution_count": null,
   "metadata": {},
   "outputs": [],
   "source": [
    "# Dein Code\n"
   ]
  },
  {
   "cell_type": "markdown",
   "metadata": {},
   "source": [
    "Recherchiere im Internet nach Sortieralgorithmen und schreibe eine Funktion der einen Sortieralgorithmus deiner Wahl implementiert. Teste die Funktion mit deiner Liste."
   ]
  },
  {
   "cell_type": "code",
   "execution_count": null,
   "metadata": {},
   "outputs": [],
   "source": [
    "# Dein Code\n"
   ]
  }
 ],
 "metadata": {
  "celltoolbar": "Tags",
  "kernelspec": {
   "display_name": "Python 3 (ipykernel)",
   "language": "python",
   "name": "python3"
  },
  "language_info": {
   "codemirror_mode": {
    "name": "ipython",
    "version": 3
   },
   "file_extension": ".py",
   "mimetype": "text/x-python",
   "name": "python",
   "nbconvert_exporter": "python",
   "pygments_lexer": "ipython3",
   "version": "3.9.15"
  },
  "vscode": {
   "interpreter": {
    "hash": "f9f85f796d01129d0dd105a088854619f454435301f6ffec2fea96ecbd9be4ac"
   }
  }
 },
 "nbformat": 4,
 "nbformat_minor": 1
}
