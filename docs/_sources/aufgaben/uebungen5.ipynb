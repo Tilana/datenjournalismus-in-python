{
 "cells": [
  {
   "cell_type": "markdown",
   "metadata": {},
   "source": [
    "# Packages & Pandas\n",
    "\n",
    "## Pakete"
   ]
  },
  {
   "cell_type": "markdown",
   "metadata": {},
   "source": [
    "Importiere das Modul \"math\" und runde mit \"floor\" den Wert 2.77259 ab."
   ]
  },
  {
   "cell_type": "code",
   "execution_count": 1,
   "metadata": {
    "tags": [
     "hide-input"
    ]
   },
   "outputs": [
    {
     "data": {
      "text/plain": [
       "2"
      ]
     },
     "execution_count": 1,
     "metadata": {},
     "output_type": "execute_result"
    }
   ],
   "source": [
    "import math\n",
    "\n",
    "math.floor(2.77259)"
   ]
  },
  {
   "cell_type": "markdown",
   "metadata": {},
   "source": [
    "Importiere aus dem Modul \"math\" die Funktion \"log\" als einzige Funktion und berechne den Logarithmus von 100 zur Basis 4"
   ]
  },
  {
   "cell_type": "code",
   "execution_count": 2,
   "metadata": {
    "tags": [
     "hide-input"
    ]
   },
   "outputs": [
    {
     "data": {
      "text/plain": [
       "3.3219280948873626"
      ]
     },
     "execution_count": 2,
     "metadata": {},
     "output_type": "execute_result"
    }
   ],
   "source": [
    "from math import log\n",
    "log(100, 4)\n"
   ]
  },
  {
   "cell_type": "markdown",
   "metadata": {},
   "source": [
    "Importiere die Funktion \"sqrt\" aus dem Modul \"math\" als die Funktion \"wurzel_aus\"."
   ]
  },
  {
   "cell_type": "code",
   "execution_count": 4,
   "metadata": {
    "tags": [
     "hide-input"
    ]
   },
   "outputs": [
    {
     "ename": "NameError",
     "evalue": "name 'math' is not defined",
     "output_type": "error",
     "traceback": [
      "\u001B[0;31m---------------------------------------------------------------------------\u001B[0m",
      "\u001B[0;31mNameError\u001B[0m                                 Traceback (most recent call last)",
      "Cell \u001B[0;32mIn [4], line 4\u001B[0m\n\u001B[1;32m      2\u001B[0m \u001B[38;5;28;01mfrom\u001B[39;00m \u001B[38;5;21;01mmath\u001B[39;00m \u001B[38;5;28;01mimport\u001B[39;00m sqrt \u001B[38;5;28;01mas\u001B[39;00m wurzel_aus\n\u001B[1;32m      3\u001B[0m wurzel_aus(\u001B[38;5;241m25\u001B[39m)\n\u001B[0;32m----> 4\u001B[0m math\u001B[38;5;241m.\u001B[39msqrt(\u001B[38;5;241m25\u001B[39m)\n",
      "\u001B[0;31mNameError\u001B[0m: name 'math' is not defined"
     ]
    }
   ],
   "source": [
    "from math import sqrt as wurzel_aus\n",
    "wurzel_aus(25)\n"
   ]
  },
  {
   "cell_type": "markdown",
   "metadata": {},
   "source": [
    "### Ratespiel\n",
    "Schreibe ein kleines Ratespiel.\n",
    "Erstelle dazu eine Zufallszahl zwischen 0 und 1000, die erraten werden soll.\n",
    "Anschließend soll die:der Spieler:in eine Zahl raten.\n",
    "Je nachdem soll dann ein Hinweis gegeben werden, ob die Zahl zu hoch oder zu tief ist.\n",
    "Falls die richtige Zahl erraten wurde, soll das Spiel mit einem Glückwunsch beendet werden.\n",
    "Die:der Spieler:in soll so viele Versuche haben, bis die Lösung erraten wurde."
   ]
  },
  {
   "cell_type": "code",
   "execution_count": 10,
   "metadata": {
    "tags": [
     "hide-input"
    ]
   },
   "outputs": [
    {
     "name": "stdout",
     "output_type": "stream",
     "text": [
      "Leider Falsch. Die Zahl ist kleiner\n",
      "Leider Falsch. Die Zahl ist kleiner\n",
      "Leider Falsch. Die Zahl ist kleiner\n",
      "Leider Falsch. Die Zahl ist kleiner\n",
      "Leider Falsch. Die Zahl ist kleiner\n",
      "Leider Falsch. Die Zahl ist kleiner\n",
      "Leider Falsch. Die Zahl ist größer\n",
      "Leider Falsch. Die Zahl ist größer\n",
      "Leider Falsch. Die Zahl ist größer\n",
      "Leider Falsch. Die Zahl ist kleiner\n",
      "Herzlichen Glückwunsch!\n"
     ]
    }
   ],
   "source": [
    "from random import randint\n",
    "'''\n",
    "Nach dem Laden der Funktion aus dem Paket 'random'\n",
    "kann eine Zufallszahl generiert werden.\n",
    "Bedenke, dass das untere Limit inklusiv und die obere Schranke\n",
    "exklusiv ist.'''\n",
    "zufallszahl = randint(0, 101)\n",
    "gelöst = False\n",
    "while not gelöst:\n",
    "    antwort = int(input(\"Deine geratene Zahl: \"))\n",
    "    if antwort == zufallszahl:\n",
    "        gelöst = True\n",
    "        print(\"Herzlichen Glückwunsch!\")\n",
    "    elif antwort<zufallszahl:\n",
    "        print('Leider Falsch. Die Zahl ist größer')\n",
    "    elif antwort>zufallszahl:\n",
    "        print('Leider Falsch. Die Zahl ist kleiner')\n"
   ]
  },
  {
   "cell_type": "markdown",
   "metadata": {},
   "source": [
    "## Pandas"
   ]
  },
  {
   "cell_type": "markdown",
   "metadata": {},
   "source": [
    "Mithilfe von [PageViewer](https://pageviews.wmcloud.org/?project=en.wikipedia.org&platform=all-access&agent=user&redirects=0&range=latest-20&pages=) ist es möglich die Aufrufzahlen von verschiedenen Webseiten einzusehen.\n",
    "Wähle 5 Seiten der englischsprachigen Wikipedia und vergleiche die Aufrufzahlen der letzten 30 Tage.\n",
    "Lade das Ergebnis als `csv` Datei herunter und lese es mit dem *pandas*-Paket ein."
   ]
  },
  {
   "cell_type": "code",
   "execution_count": 3,
   "metadata": {
    "tags": [
     "hide-input"
    ]
   },
   "outputs": [
    {
     "data": {
      "text/html": [
       "<div>\n",
       "<style scoped>\n",
       "    .dataframe tbody tr th:only-of-type {\n",
       "        vertical-align: middle;\n",
       "    }\n",
       "\n",
       "    .dataframe tbody tr th {\n",
       "        vertical-align: top;\n",
       "    }\n",
       "\n",
       "    .dataframe thead th {\n",
       "        text-align: right;\n",
       "    }\n",
       "</style>\n",
       "<table border=\"1\" class=\"dataframe\">\n",
       "  <thead>\n",
       "    <tr style=\"text-align: right;\">\n",
       "      <th></th>\n",
       "      <th>Date</th>\n",
       "      <th>Josip Broz Tito</th>\n",
       "      <th>Saban Saulic</th>\n",
       "      <th>Bijelo Dugme</th>\n",
       "    </tr>\n",
       "  </thead>\n",
       "  <tbody>\n",
       "    <tr>\n",
       "      <th>0</th>\n",
       "      <td>2022-10-26</td>\n",
       "      <td>2300</td>\n",
       "      <td>5</td>\n",
       "      <td>192</td>\n",
       "    </tr>\n",
       "    <tr>\n",
       "      <th>1</th>\n",
       "      <td>2022-10-27</td>\n",
       "      <td>2440</td>\n",
       "      <td>4</td>\n",
       "      <td>192</td>\n",
       "    </tr>\n",
       "    <tr>\n",
       "      <th>2</th>\n",
       "      <td>2022-10-28</td>\n",
       "      <td>2314</td>\n",
       "      <td>0</td>\n",
       "      <td>223</td>\n",
       "    </tr>\n",
       "    <tr>\n",
       "      <th>3</th>\n",
       "      <td>2022-10-29</td>\n",
       "      <td>2253</td>\n",
       "      <td>2</td>\n",
       "      <td>238</td>\n",
       "    </tr>\n",
       "    <tr>\n",
       "      <th>4</th>\n",
       "      <td>2022-10-30</td>\n",
       "      <td>2258</td>\n",
       "      <td>0</td>\n",
       "      <td>274</td>\n",
       "    </tr>\n",
       "    <tr>\n",
       "      <th>5</th>\n",
       "      <td>2022-10-31</td>\n",
       "      <td>2425</td>\n",
       "      <td>3</td>\n",
       "      <td>207</td>\n",
       "    </tr>\n",
       "    <tr>\n",
       "      <th>6</th>\n",
       "      <td>2022-11-01</td>\n",
       "      <td>2682</td>\n",
       "      <td>1</td>\n",
       "      <td>237</td>\n",
       "    </tr>\n",
       "    <tr>\n",
       "      <th>7</th>\n",
       "      <td>2022-11-02</td>\n",
       "      <td>2625</td>\n",
       "      <td>3</td>\n",
       "      <td>196</td>\n",
       "    </tr>\n",
       "    <tr>\n",
       "      <th>8</th>\n",
       "      <td>2022-11-03</td>\n",
       "      <td>2505</td>\n",
       "      <td>4</td>\n",
       "      <td>178</td>\n",
       "    </tr>\n",
       "    <tr>\n",
       "      <th>9</th>\n",
       "      <td>2022-11-04</td>\n",
       "      <td>2267</td>\n",
       "      <td>5</td>\n",
       "      <td>231</td>\n",
       "    </tr>\n",
       "    <tr>\n",
       "      <th>10</th>\n",
       "      <td>2022-11-05</td>\n",
       "      <td>2257</td>\n",
       "      <td>0</td>\n",
       "      <td>247</td>\n",
       "    </tr>\n",
       "    <tr>\n",
       "      <th>11</th>\n",
       "      <td>2022-11-06</td>\n",
       "      <td>2379</td>\n",
       "      <td>2</td>\n",
       "      <td>271</td>\n",
       "    </tr>\n",
       "    <tr>\n",
       "      <th>12</th>\n",
       "      <td>2022-11-07</td>\n",
       "      <td>2513</td>\n",
       "      <td>2</td>\n",
       "      <td>207</td>\n",
       "    </tr>\n",
       "    <tr>\n",
       "      <th>13</th>\n",
       "      <td>2022-11-08</td>\n",
       "      <td>2548</td>\n",
       "      <td>2</td>\n",
       "      <td>227</td>\n",
       "    </tr>\n",
       "    <tr>\n",
       "      <th>14</th>\n",
       "      <td>2022-11-09</td>\n",
       "      <td>2189</td>\n",
       "      <td>1</td>\n",
       "      <td>173</td>\n",
       "    </tr>\n",
       "    <tr>\n",
       "      <th>15</th>\n",
       "      <td>2022-11-10</td>\n",
       "      <td>2279</td>\n",
       "      <td>2</td>\n",
       "      <td>185</td>\n",
       "    </tr>\n",
       "    <tr>\n",
       "      <th>16</th>\n",
       "      <td>2022-11-11</td>\n",
       "      <td>2347</td>\n",
       "      <td>3</td>\n",
       "      <td>267</td>\n",
       "    </tr>\n",
       "    <tr>\n",
       "      <th>17</th>\n",
       "      <td>2022-11-12</td>\n",
       "      <td>2168</td>\n",
       "      <td>3</td>\n",
       "      <td>294</td>\n",
       "    </tr>\n",
       "    <tr>\n",
       "      <th>18</th>\n",
       "      <td>2022-11-13</td>\n",
       "      <td>2461</td>\n",
       "      <td>2</td>\n",
       "      <td>340</td>\n",
       "    </tr>\n",
       "    <tr>\n",
       "      <th>19</th>\n",
       "      <td>2022-11-14</td>\n",
       "      <td>2525</td>\n",
       "      <td>2</td>\n",
       "      <td>202</td>\n",
       "    </tr>\n",
       "    <tr>\n",
       "      <th>20</th>\n",
       "      <td>2022-11-15</td>\n",
       "      <td>2528</td>\n",
       "      <td>3</td>\n",
       "      <td>231</td>\n",
       "    </tr>\n",
       "  </tbody>\n",
       "</table>\n",
       "</div>"
      ],
      "text/plain": [
       "          Date  Josip Broz Tito  Saban Saulic  Bijelo Dugme\n",
       "0   2022-10-26             2300             5           192\n",
       "1   2022-10-27             2440             4           192\n",
       "2   2022-10-28             2314             0           223\n",
       "3   2022-10-29             2253             2           238\n",
       "4   2022-10-30             2258             0           274\n",
       "5   2022-10-31             2425             3           207\n",
       "6   2022-11-01             2682             1           237\n",
       "7   2022-11-02             2625             3           196\n",
       "8   2022-11-03             2505             4           178\n",
       "9   2022-11-04             2267             5           231\n",
       "10  2022-11-05             2257             0           247\n",
       "11  2022-11-06             2379             2           271\n",
       "12  2022-11-07             2513             2           207\n",
       "13  2022-11-08             2548             2           227\n",
       "14  2022-11-09             2189             1           173\n",
       "15  2022-11-10             2279             2           185\n",
       "16  2022-11-11             2347             3           267\n",
       "17  2022-11-12             2168             3           294\n",
       "18  2022-11-13             2461             2           340\n",
       "19  2022-11-14             2525             2           202\n",
       "20  2022-11-15             2528             3           231"
      ]
     },
     "execution_count": 3,
     "metadata": {},
     "output_type": "execute_result"
    }
   ],
   "source": [
    "import pandas as pd\n",
    "'''\n",
    "Um eine bestimmte Datei zu laden, muss der Funktion read_[Dateityp]\n",
    "der Pfad zu dieser Datei gegeben werden. Dazu gibt es zwei Möglichkeiten:\n",
    "1. Den Pfad relativ zum Arbeitsverzeichnis angeben.\n",
    "    So spart man sich Zeit, einen unnötig langen Dateipfad\n",
    "    und außerdem können diese Pfade auch in kollaborativen\n",
    "    Projekten mit vielen Beteiligten ohne Probleme\n",
    "    verwendet werden.\n",
    "2. Den Gesamtpfad zur Datei auf dem Rechner angeben.\n",
    "    Das ist die umständlichere Variante, der gesamte\n",
    "    Dateipfad ist sehr indiviudell, weshalb in\n",
    "    kollaborativen Projekten an dieser Stelle jeder\n",
    "    Beteiligte seinen eigenen Pfad zur Datei angeben müsste,\n",
    "    das führt zu Konflikten beim Zusammenführen des Codes\n",
    "    und ist außerdem viel umständlicher und länger als\n",
    "    die 1. Möglichkeit.\n",
    "'''\n",
    "data = pd.read_csv('data/pageviews-20221026-20221115.csv')\n",
    "data"
   ]
  },
  {
   "cell_type": "markdown",
   "metadata": {},
   "source": [
    "Welche Seite wurde in dem Zeitraum am häufigsten besucht?\n",
    "Gib die Seite und die Gesamtzahl der Aufrufe an."
   ]
  },
  {
   "cell_type": "code",
   "execution_count": 7,
   "metadata": {
    "tags": [
     "hide-input"
    ]
   },
   "outputs": [
    {
     "name": "stdout",
     "output_type": "stream",
     "text": [
      "Josip Broz Tito    50263\n",
      "Saban Saulic          49\n",
      "Bijelo Dugme        4812\n",
      "dtype: int64\n",
      "Josip Broz Tito    50263\n",
      "dtype: int64\n",
      "50263\n",
      "Josip Broz Tito\n"
     ]
    },
    {
     "data": {
      "text/plain": "Josip Broz Tito    50263\nSaban Saulic          49\nBijelo Dugme        4812\ndtype: int64"
     },
     "execution_count": 7,
     "metadata": {},
     "output_type": "execute_result"
    }
   ],
   "source": [
    "'''\n",
    "Eine Möglichkeit ist es einen neuen Dataframe 'summe' zu erstellen\n",
    "und anschließend nach dem maximalen Wert in diesem Dataframe zu suchen.\n",
    "'''\n",
    "summe = data.sum(numeric_only=True)\n",
    "print('Der Dataframe \"summe\" nach der Erstellung')\n",
    "print(summe)\n",
    "print('Die Zeile mit dem Maximalwert in \"summe\"')\n",
    "print(summe[summe == summe.max()])\n",
    "\n",
    "'''\n",
    "Eine weitere Möglichkeit ist das Abfragen des Maximalwerts und des Index des Maximalwerts.\n",
    "Beachte, das die folgenden beiden Zeilen auch auf den Dataframe 'summe' angewandt werden könnten und das selbe Ergebnis hätten.\n",
    "'''\n",
    "print(data.sum(numeric_only=True).max())\n",
    "print(data.sum(numeric_only=True).idxmax())\n"
   ]
  },
  {
   "cell_type": "markdown",
   "metadata": {},
   "source": [
    "Wie oft wurde jede Seite im Durchschnitt aufgerufen"
   ]
  },
  {
   "cell_type": "code",
   "execution_count": 4,
   "metadata": {
    "tags": [
     "hide-input"
    ]
   },
   "outputs": [
    {
     "name": "stderr",
     "output_type": "stream",
     "text": [
      "/tmp/ipykernel_4215/4124686999.py:2: FutureWarning: The default value of numeric_only in DataFrame.mean is deprecated. In a future version, it will default to False. In addition, specifying 'numeric_only=None' is deprecated. Select only valid columns or specify the value of numeric_only to silence this warning.\n",
      "  data.mean()\n"
     ]
    },
    {
     "data": {
      "text/plain": [
       "Josip Broz Tito    2393.476190\n",
       "Saban Saulic          2.333333\n",
       "Bijelo Dugme        229.142857\n",
       "dtype: float64"
      ]
     },
     "execution_count": 4,
     "metadata": {},
     "output_type": "execute_result"
    }
   ],
   "source": [
    "'''\n",
    "Die Funktion 'mean' errechnet für alle Columns den Durchschnittswert.\n",
    "Da in unserem DataFrame auch Strings auftauchen, müssen wir den Eingabeparameter auf\n",
    "'numeric_only' setzen.'''\n",
    "data.mean(numeric_only=True)\n",
    "\n",
    "'''\n",
    "Die gleiche Funktion 'mean' taucht auch in der Funktion 'describe' auf.'''\n",
    "#data.describe()\n"
   ]
  },
  {
   "cell_type": "markdown",
   "metadata": {},
   "source": [
    "Wie oft wurde jede Seite am 03. November 2022 abgerufen?"
   ]
  },
  {
   "cell_type": "code",
   "execution_count": 5,
   "metadata": {
    "tags": [
     "hide-input"
    ]
   },
   "outputs": [
    {
     "data": {
      "text/html": [
       "<div>\n",
       "<style scoped>\n",
       "    .dataframe tbody tr th:only-of-type {\n",
       "        vertical-align: middle;\n",
       "    }\n",
       "\n",
       "    .dataframe tbody tr th {\n",
       "        vertical-align: top;\n",
       "    }\n",
       "\n",
       "    .dataframe thead th {\n",
       "        text-align: right;\n",
       "    }\n",
       "</style>\n",
       "<table border=\"1\" class=\"dataframe\">\n",
       "  <thead>\n",
       "    <tr style=\"text-align: right;\">\n",
       "      <th></th>\n",
       "      <th>Date</th>\n",
       "      <th>Josip Broz Tito</th>\n",
       "      <th>Saban Saulic</th>\n",
       "      <th>Bijelo Dugme</th>\n",
       "    </tr>\n",
       "  </thead>\n",
       "  <tbody>\n",
       "    <tr>\n",
       "      <th>8</th>\n",
       "      <td>2022-11-03</td>\n",
       "      <td>2505</td>\n",
       "      <td>4</td>\n",
       "      <td>178</td>\n",
       "    </tr>\n",
       "  </tbody>\n",
       "</table>\n",
       "</div>"
      ],
      "text/plain": [
       "         Date  Josip Broz Tito  Saban Saulic  Bijelo Dugme\n",
       "8  2022-11-03             2505             4           178"
      ]
     },
     "execution_count": 5,
     "metadata": {},
     "output_type": "execute_result"
    }
   ],
   "source": [
    "'''\n",
    "Um einen bestimmten Wert in einer Column zu suchen,\n",
    "müssen wir auch angeben in welcher Spalte wir suchen wollen.\n",
    "\n",
    "Hier wird also der angegeben String mit jedem Wert in der Column 'Date'\n",
    "'''\n",
    "data[data['Date']=='2022-11-03']"
   ]
  },
  {
   "cell_type": "markdown",
   "metadata": {},
   "source": [
    "Sortiere den Dataframe nach der Anzahl der Aufrufe der am wenigsten besuchten Seite."
   ]
  },
  {
   "cell_type": "code",
   "execution_count": 27,
   "metadata": {
    "tags": [
     "hide-input"
    ]
   },
   "outputs": [
    {
     "data": {
      "text/html": [
       "<div>\n",
       "<style scoped>\n",
       "    .dataframe tbody tr th:only-of-type {\n",
       "        vertical-align: middle;\n",
       "    }\n",
       "\n",
       "    .dataframe tbody tr th {\n",
       "        vertical-align: top;\n",
       "    }\n",
       "\n",
       "    .dataframe thead th {\n",
       "        text-align: right;\n",
       "    }\n",
       "</style>\n",
       "<table border=\"1\" class=\"dataframe\">\n",
       "  <thead>\n",
       "    <tr style=\"text-align: right;\">\n",
       "      <th></th>\n",
       "      <th>Date</th>\n",
       "      <th>Josip Broz Tito</th>\n",
       "      <th>Saban Saulic</th>\n",
       "      <th>Bijelo Dugme</th>\n",
       "    </tr>\n",
       "  </thead>\n",
       "  <tbody>\n",
       "    <tr>\n",
       "      <th>10</th>\n",
       "      <td>2022-11-05</td>\n",
       "      <td>2257</td>\n",
       "      <td>0</td>\n",
       "      <td>247</td>\n",
       "    </tr>\n",
       "    <tr>\n",
       "      <th>2</th>\n",
       "      <td>2022-10-28</td>\n",
       "      <td>2314</td>\n",
       "      <td>0</td>\n",
       "      <td>223</td>\n",
       "    </tr>\n",
       "    <tr>\n",
       "      <th>4</th>\n",
       "      <td>2022-10-30</td>\n",
       "      <td>2258</td>\n",
       "      <td>0</td>\n",
       "      <td>274</td>\n",
       "    </tr>\n",
       "    <tr>\n",
       "      <th>6</th>\n",
       "      <td>2022-11-01</td>\n",
       "      <td>2682</td>\n",
       "      <td>1</td>\n",
       "      <td>237</td>\n",
       "    </tr>\n",
       "    <tr>\n",
       "      <th>14</th>\n",
       "      <td>2022-11-09</td>\n",
       "      <td>2189</td>\n",
       "      <td>1</td>\n",
       "      <td>173</td>\n",
       "    </tr>\n",
       "    <tr>\n",
       "      <th>18</th>\n",
       "      <td>2022-11-13</td>\n",
       "      <td>2461</td>\n",
       "      <td>2</td>\n",
       "      <td>340</td>\n",
       "    </tr>\n",
       "    <tr>\n",
       "      <th>3</th>\n",
       "      <td>2022-10-29</td>\n",
       "      <td>2253</td>\n",
       "      <td>2</td>\n",
       "      <td>238</td>\n",
       "    </tr>\n",
       "    <tr>\n",
       "      <th>15</th>\n",
       "      <td>2022-11-10</td>\n",
       "      <td>2279</td>\n",
       "      <td>2</td>\n",
       "      <td>185</td>\n",
       "    </tr>\n",
       "    <tr>\n",
       "      <th>19</th>\n",
       "      <td>2022-11-14</td>\n",
       "      <td>2525</td>\n",
       "      <td>2</td>\n",
       "      <td>202</td>\n",
       "    </tr>\n",
       "    <tr>\n",
       "      <th>11</th>\n",
       "      <td>2022-11-06</td>\n",
       "      <td>2379</td>\n",
       "      <td>2</td>\n",
       "      <td>271</td>\n",
       "    </tr>\n",
       "    <tr>\n",
       "      <th>12</th>\n",
       "      <td>2022-11-07</td>\n",
       "      <td>2513</td>\n",
       "      <td>2</td>\n",
       "      <td>207</td>\n",
       "    </tr>\n",
       "    <tr>\n",
       "      <th>13</th>\n",
       "      <td>2022-11-08</td>\n",
       "      <td>2548</td>\n",
       "      <td>2</td>\n",
       "      <td>227</td>\n",
       "    </tr>\n",
       "    <tr>\n",
       "      <th>17</th>\n",
       "      <td>2022-11-12</td>\n",
       "      <td>2168</td>\n",
       "      <td>3</td>\n",
       "      <td>294</td>\n",
       "    </tr>\n",
       "    <tr>\n",
       "      <th>16</th>\n",
       "      <td>2022-11-11</td>\n",
       "      <td>2347</td>\n",
       "      <td>3</td>\n",
       "      <td>267</td>\n",
       "    </tr>\n",
       "    <tr>\n",
       "      <th>20</th>\n",
       "      <td>2022-11-15</td>\n",
       "      <td>2528</td>\n",
       "      <td>3</td>\n",
       "      <td>231</td>\n",
       "    </tr>\n",
       "    <tr>\n",
       "      <th>7</th>\n",
       "      <td>2022-11-02</td>\n",
       "      <td>2625</td>\n",
       "      <td>3</td>\n",
       "      <td>196</td>\n",
       "    </tr>\n",
       "    <tr>\n",
       "      <th>5</th>\n",
       "      <td>2022-10-31</td>\n",
       "      <td>2425</td>\n",
       "      <td>3</td>\n",
       "      <td>207</td>\n",
       "    </tr>\n",
       "    <tr>\n",
       "      <th>8</th>\n",
       "      <td>2022-11-03</td>\n",
       "      <td>2505</td>\n",
       "      <td>4</td>\n",
       "      <td>178</td>\n",
       "    </tr>\n",
       "    <tr>\n",
       "      <th>1</th>\n",
       "      <td>2022-10-27</td>\n",
       "      <td>2440</td>\n",
       "      <td>4</td>\n",
       "      <td>192</td>\n",
       "    </tr>\n",
       "    <tr>\n",
       "      <th>9</th>\n",
       "      <td>2022-11-04</td>\n",
       "      <td>2267</td>\n",
       "      <td>5</td>\n",
       "      <td>231</td>\n",
       "    </tr>\n",
       "    <tr>\n",
       "      <th>0</th>\n",
       "      <td>2022-10-26</td>\n",
       "      <td>2300</td>\n",
       "      <td>5</td>\n",
       "      <td>192</td>\n",
       "    </tr>\n",
       "  </tbody>\n",
       "</table>\n",
       "</div>"
      ],
      "text/plain": [
       "          Date  Josip Broz Tito  Saban Saulic  Bijelo Dugme\n",
       "10  2022-11-05             2257             0           247\n",
       "2   2022-10-28             2314             0           223\n",
       "4   2022-10-30             2258             0           274\n",
       "6   2022-11-01             2682             1           237\n",
       "14  2022-11-09             2189             1           173\n",
       "18  2022-11-13             2461             2           340\n",
       "3   2022-10-29             2253             2           238\n",
       "15  2022-11-10             2279             2           185\n",
       "19  2022-11-14             2525             2           202\n",
       "11  2022-11-06             2379             2           271\n",
       "12  2022-11-07             2513             2           207\n",
       "13  2022-11-08             2548             2           227\n",
       "17  2022-11-12             2168             3           294\n",
       "16  2022-11-11             2347             3           267\n",
       "20  2022-11-15             2528             3           231\n",
       "7   2022-11-02             2625             3           196\n",
       "5   2022-10-31             2425             3           207\n",
       "8   2022-11-03             2505             4           178\n",
       "1   2022-10-27             2440             4           192\n",
       "9   2022-11-04             2267             5           231\n",
       "0   2022-10-26             2300             5           192"
      ]
     },
     "execution_count": 27,
     "metadata": {},
     "output_type": "execute_result"
    }
   ],
   "source": [
    "'''\n",
    "Falls wir schon im Vorfeld wissen, welche Seite die wenigsten Aufrufe hat,\n",
    "können wir die einfach direkt angeben.\n",
    "'''\n",
    "data.sort_values(by='Saban Saulic', ascending=True)\n"
   ]
  },
  {
   "cell_type": "code",
   "execution_count": 6,
   "metadata": {
    "tags": [
     "hide-input"
    ]
   },
   "outputs": [
    {
     "data": {
      "text/html": [
       "<div>\n",
       "<style scoped>\n",
       "    .dataframe tbody tr th:only-of-type {\n",
       "        vertical-align: middle;\n",
       "    }\n",
       "\n",
       "    .dataframe tbody tr th {\n",
       "        vertical-align: top;\n",
       "    }\n",
       "\n",
       "    .dataframe thead th {\n",
       "        text-align: right;\n",
       "    }\n",
       "</style>\n",
       "<table border=\"1\" class=\"dataframe\">\n",
       "  <thead>\n",
       "    <tr style=\"text-align: right;\">\n",
       "      <th></th>\n",
       "      <th>Date</th>\n",
       "      <th>Josip Broz Tito</th>\n",
       "      <th>Saban Saulic</th>\n",
       "      <th>Bijelo Dugme</th>\n",
       "    </tr>\n",
       "  </thead>\n",
       "  <tbody>\n",
       "    <tr>\n",
       "      <th>10</th>\n",
       "      <td>2022-11-05</td>\n",
       "      <td>2257</td>\n",
       "      <td>0</td>\n",
       "      <td>247</td>\n",
       "    </tr>\n",
       "    <tr>\n",
       "      <th>2</th>\n",
       "      <td>2022-10-28</td>\n",
       "      <td>2314</td>\n",
       "      <td>0</td>\n",
       "      <td>223</td>\n",
       "    </tr>\n",
       "    <tr>\n",
       "      <th>4</th>\n",
       "      <td>2022-10-30</td>\n",
       "      <td>2258</td>\n",
       "      <td>0</td>\n",
       "      <td>274</td>\n",
       "    </tr>\n",
       "    <tr>\n",
       "      <th>6</th>\n",
       "      <td>2022-11-01</td>\n",
       "      <td>2682</td>\n",
       "      <td>1</td>\n",
       "      <td>237</td>\n",
       "    </tr>\n",
       "    <tr>\n",
       "      <th>14</th>\n",
       "      <td>2022-11-09</td>\n",
       "      <td>2189</td>\n",
       "      <td>1</td>\n",
       "      <td>173</td>\n",
       "    </tr>\n",
       "    <tr>\n",
       "      <th>18</th>\n",
       "      <td>2022-11-13</td>\n",
       "      <td>2461</td>\n",
       "      <td>2</td>\n",
       "      <td>340</td>\n",
       "    </tr>\n",
       "    <tr>\n",
       "      <th>3</th>\n",
       "      <td>2022-10-29</td>\n",
       "      <td>2253</td>\n",
       "      <td>2</td>\n",
       "      <td>238</td>\n",
       "    </tr>\n",
       "    <tr>\n",
       "      <th>15</th>\n",
       "      <td>2022-11-10</td>\n",
       "      <td>2279</td>\n",
       "      <td>2</td>\n",
       "      <td>185</td>\n",
       "    </tr>\n",
       "    <tr>\n",
       "      <th>19</th>\n",
       "      <td>2022-11-14</td>\n",
       "      <td>2525</td>\n",
       "      <td>2</td>\n",
       "      <td>202</td>\n",
       "    </tr>\n",
       "    <tr>\n",
       "      <th>11</th>\n",
       "      <td>2022-11-06</td>\n",
       "      <td>2379</td>\n",
       "      <td>2</td>\n",
       "      <td>271</td>\n",
       "    </tr>\n",
       "    <tr>\n",
       "      <th>12</th>\n",
       "      <td>2022-11-07</td>\n",
       "      <td>2513</td>\n",
       "      <td>2</td>\n",
       "      <td>207</td>\n",
       "    </tr>\n",
       "    <tr>\n",
       "      <th>13</th>\n",
       "      <td>2022-11-08</td>\n",
       "      <td>2548</td>\n",
       "      <td>2</td>\n",
       "      <td>227</td>\n",
       "    </tr>\n",
       "    <tr>\n",
       "      <th>17</th>\n",
       "      <td>2022-11-12</td>\n",
       "      <td>2168</td>\n",
       "      <td>3</td>\n",
       "      <td>294</td>\n",
       "    </tr>\n",
       "    <tr>\n",
       "      <th>16</th>\n",
       "      <td>2022-11-11</td>\n",
       "      <td>2347</td>\n",
       "      <td>3</td>\n",
       "      <td>267</td>\n",
       "    </tr>\n",
       "    <tr>\n",
       "      <th>20</th>\n",
       "      <td>2022-11-15</td>\n",
       "      <td>2528</td>\n",
       "      <td>3</td>\n",
       "      <td>231</td>\n",
       "    </tr>\n",
       "    <tr>\n",
       "      <th>7</th>\n",
       "      <td>2022-11-02</td>\n",
       "      <td>2625</td>\n",
       "      <td>3</td>\n",
       "      <td>196</td>\n",
       "    </tr>\n",
       "    <tr>\n",
       "      <th>5</th>\n",
       "      <td>2022-10-31</td>\n",
       "      <td>2425</td>\n",
       "      <td>3</td>\n",
       "      <td>207</td>\n",
       "    </tr>\n",
       "    <tr>\n",
       "      <th>8</th>\n",
       "      <td>2022-11-03</td>\n",
       "      <td>2505</td>\n",
       "      <td>4</td>\n",
       "      <td>178</td>\n",
       "    </tr>\n",
       "    <tr>\n",
       "      <th>1</th>\n",
       "      <td>2022-10-27</td>\n",
       "      <td>2440</td>\n",
       "      <td>4</td>\n",
       "      <td>192</td>\n",
       "    </tr>\n",
       "    <tr>\n",
       "      <th>9</th>\n",
       "      <td>2022-11-04</td>\n",
       "      <td>2267</td>\n",
       "      <td>5</td>\n",
       "      <td>231</td>\n",
       "    </tr>\n",
       "    <tr>\n",
       "      <th>0</th>\n",
       "      <td>2022-10-26</td>\n",
       "      <td>2300</td>\n",
       "      <td>5</td>\n",
       "      <td>192</td>\n",
       "    </tr>\n",
       "  </tbody>\n",
       "</table>\n",
       "</div>"
      ],
      "text/plain": [
       "          Date  Josip Broz Tito  Saban Saulic  Bijelo Dugme\n",
       "10  2022-11-05             2257             0           247\n",
       "2   2022-10-28             2314             0           223\n",
       "4   2022-10-30             2258             0           274\n",
       "6   2022-11-01             2682             1           237\n",
       "14  2022-11-09             2189             1           173\n",
       "18  2022-11-13             2461             2           340\n",
       "3   2022-10-29             2253             2           238\n",
       "15  2022-11-10             2279             2           185\n",
       "19  2022-11-14             2525             2           202\n",
       "11  2022-11-06             2379             2           271\n",
       "12  2022-11-07             2513             2           207\n",
       "13  2022-11-08             2548             2           227\n",
       "17  2022-11-12             2168             3           294\n",
       "16  2022-11-11             2347             3           267\n",
       "20  2022-11-15             2528             3           231\n",
       "7   2022-11-02             2625             3           196\n",
       "5   2022-10-31             2425             3           207\n",
       "8   2022-11-03             2505             4           178\n",
       "1   2022-10-27             2440             4           192\n",
       "9   2022-11-04             2267             5           231\n",
       "0   2022-10-26             2300             5           192"
      ]
     },
     "execution_count": 6,
     "metadata": {},
     "output_type": "execute_result"
    }
   ],
   "source": [
    "'''\n",
    "Falls wir nicht sicher sagen können, nach welcher Column wir suchen,\n",
    "müssen wir zuerst herausfinden, welche die richtige ist.\n",
    "'''\n",
    "data.sort_values(by=data.sum(numeric_only=True).idxmin(), ascending=True)\n"
   ]
  },
  {
   "cell_type": "code",
   "execution_count": null,
   "metadata": {},
   "outputs": [],
   "source": []
  }
 ],
 "metadata": {
  "celltoolbar": "Tags",
  "kernelspec": {
   "display_name": "Python 3 (ipykernel)",
   "language": "python",
   "name": "python3"
  },
  "language_info": {
   "codemirror_mode": {
    "name": "ipython",
    "version": 3
   },
   "file_extension": ".py",
   "mimetype": "text/x-python",
   "name": "python",
   "nbconvert_exporter": "python",
   "pygments_lexer": "ipython3",
   "version": "3.10.6"
  },
  "vscode": {
   "interpreter": {
    "hash": "f9f85f796d01129d0dd105a088854619f454435301f6ffec2fea96ecbd9be4ac"
   }
  }
 },
 "nbformat": 4,
 "nbformat_minor": 1
}
