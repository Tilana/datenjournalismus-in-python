{
 "cells": [
  {
   "cell_type": "markdown",
   "id": "e4369257",
   "metadata": {},
   "source": [
    "# Übungsbaltt 4\n",
    "\n",
    "## *while*-Schleifen"
   ]
  },
  {
   "cell_type": "markdown",
   "id": "12ba88b1",
   "metadata": {},
   "source": [
    "Gib mithilfe einer while-Schleife alle ungeraden Werte der gegebenen Liste aus."
   ]
  },
  {
   "cell_type": "code",
   "execution_count": 3,
   "id": "d808af57",
   "metadata": {},
   "outputs": [
    {
     "name": "stdout",
     "output_type": "stream",
     "text": [
      "9 27 45 63 81 99 117 135 153 171 189 207 225 243 261 279 297 315 333 351 369 387 405 423 441 459 477 495 513 531 549 567 585 603 621 639 657 675 693 711 729 747 765 783 801 819 837 855 873 891 909 927 945 963 981 999 1017 1035 1053 1071 1089 1107 1125 1143 1161 1179 1197 1215 1233 1251 1269 1287 1305 1323 1341 1359 1377 1395 1413 1431 1449 1467 1485 1503 1521 1539 1557 1575 1593 1611 1629 1647 1665 1683 1701 1719 1737 1755 1773 1791 1809 1827 1845 1863 1881 1899 1917 1935 1953 1971 1989 2007 2025 2043 2061 2079 2097 2115 2133 2151 2169 2187 2205 2223 2241 2259 2277 2295 2313 2331 2349 2367 2385 2403 2421 2439 2457 2475 2493 2511 2529 2547 2565 2583 2601 2619 2637 2655 2673 2691 2709 2727 2745 2763 2781 2799 2817 2835 2853 2871 2889 2907 2925 2943 2961 2979 2997 3015 3033 3051 3069 3087 3105 3123 3141 3159 3177 3195 3213 3231 3249 3267 3285 3303 3321 3339 3357 3375 3393 3411 3429 3447 3465 3483 3501 3519 3537 3555 3573 3591 3609 3627 3645 3663 3681 3699 3717 3735 3753 3771 3789 3807 3825 3843 3861 3879 3897 3915 3933 3951 3969 3987 4005 4023 4041 4059 4077 4095 4113 4131 4149 4167 4185 4203 4221 4239 4257 4275 4293 4311 4329 4347 4365 4383 4401 4419 4437 4455 4473 4491 4509 4527 4545 4563 4581 4599 4617 4635 4653 4671 4689 4707 4725 4743 4761 4779 4797 4815 4833 4851 4869 4887 4905 4923 4941 4959 4977 4995 5013 5031 5049 5067 5085 5103 5121 5139 5157 5175 5193 5211 5229 5247 5265 5283 5301 5319 5337 5355 5373 5391 5409 5427 5445 5463 5481 5499 5517 5535 5553 5571 5589 5607 5625 5643 5661 5679 5697 5715 5733 5751 5769 5787 5805 5823 5841 5859 5877 5895 5913 5931 5949 5967 5985 6003 6021 6039 6057 6075 6093 6111 6129 6147 6165 6183 6201 6219 6237 6255 6273 6291 6309 6327 6345 6363 6381 6399 6417 6435 6453 6471 6489 6507 6525 6543 6561 6579 6597 6615 6633 6651 6669 6687 6705 6723 6741 6759 6777 6795 6813 6831 6849 6867 6885 6903 6921 6939 6957 6975 6993 7011 7029 7047 7065 7083 7101 7119 7137 7155 7173 7191 7209 7227 7245 7263 7281 7299 7317 7335 7353 7371 7389 7407 7425 7443 7461 7479 7497 7515 7533 7551 7569 7587 7605 7623 7641 7659 7677 7695 7713 7731 7749 7767 7785 7803 7821 7839 7857 7875 7893 7911 7929 7947 7965 7983 8001 8019 8037 8055 8073 8091 8109 8127 8145 8163 8181 8199 8217 8235 8253 8271 8289 8307 8325 8343 8361 8379 8397 8415 8433 8451 8469 8487 8505 8523 8541 8559 8577 8595 8613 8631 8649 8667 8685 8703 8721 8739 8757 8775 8793 8811 8829 8847 8865 8883 8901 8919 8937 8955 8973 8991 9009 9027 9045 9063 9081 9099 9117 9135 9153 9171 9189 9207 9225 9243 9261 9279 9297 9315 9333 9351 9369 9387 9405 9423 9441 9459 9477 9495 9513 9531 9549 9567 9585 9603 9621 9639 9657 9675 9693 9711 9729 9747 9765 9783 9801 9819 9837 9855 9873 9891 9909 9927 9945 9963 9981 9999 "
     ]
    }
   ],
   "source": [
    "# Dein Code\n",
    "viele_zahlen = [x for x in range(0, 10000) if x%9==0]\n",
    "i = 0\n",
    "while i < len(viele_zahlen):\n",
    "    if viele_zahlen[i]%2 ==1:\n",
    "        print(viele_zahlen[i])\n",
    "    i += 1\n",
    "\n",
    "for i in viele_zahlen:\n",
    "    if i % 2 == 1:\n",
    "        print(i)"
   ]
  },
  {
   "cell_type": "markdown",
   "metadata": {
    "collapsed": false
   },
   "source": [
    "Schreibe eine Funktion, die alle ganzen Zahlen zwischen 1 und einem Wert x die durch 3 und durch 7 teilbar sind in einer Liste zurückgibt.\n",
    "Verwende hier eine Zählervariable, die in einer *while*-Schleife hochgezählt wird.\n",
    "Nutze *continue*, um Werte zu überspringen, die nicht zur Ergebnisliste hinzugefügt werden sollen.\n",
    "Nutze *break*, wenn das angegebene Maximum erreicht wurde, um die *while*-Schleife zu beenden."
   ]
  },
  {
   "cell_type": "code",
   "execution_count": 8,
   "metadata": {
    "collapsed": false
   },
   "outputs": [
    {
     "ename": "TypeError",
     "evalue": "'<' not supported between instances of 'int' and 'str'",
     "output_type": "error",
     "traceback": [
      "\u001B[0;31m---------------------------------------------------------------------------\u001B[0m",
      "\u001B[0;31mTypeError\u001B[0m                                 Traceback (most recent call last)",
      "Cell \u001B[0;32mIn [8], line 11\u001B[0m\n\u001B[1;32m      7\u001B[0m         i \u001B[38;5;241m+\u001B[39m\u001B[38;5;241m=\u001B[39m \u001B[38;5;241m1\u001B[39m\n\u001B[1;32m      9\u001B[0m     \u001B[38;5;28;01mreturn\u001B[39;00m zahlen3_7\n\u001B[0;32m---> 11\u001B[0m \u001B[38;5;28mprint\u001B[39m(durch3und4(\u001B[38;5;124m\"\u001B[39m\u001B[38;5;124m1000\u001B[39m\u001B[38;5;124m\"\u001B[39m))\n",
      "Cell \u001B[0;32mIn [8], line 4\u001B[0m, in \u001B[0;36mdurch3und4\u001B[0;34m(letzteZahl)\u001B[0m\n\u001B[1;32m      2\u001B[0m i \u001B[38;5;241m=\u001B[39m \u001B[38;5;241m1\u001B[39m\n\u001B[1;32m      3\u001B[0m zahlen3_7 \u001B[38;5;241m=\u001B[39m []\n\u001B[0;32m----> 4\u001B[0m \u001B[38;5;28;01mwhile\u001B[39;00m \u001B[43mi\u001B[49m\u001B[43m \u001B[49m\u001B[38;5;241;43m<\u001B[39;49m\u001B[43m \u001B[49m\u001B[43mletzteZahl\u001B[49m:\n\u001B[1;32m      5\u001B[0m     \u001B[38;5;28;01mif\u001B[39;00m i\u001B[38;5;241m%\u001B[39m\u001B[38;5;241m3\u001B[39m \u001B[38;5;241m==\u001B[39m\u001B[38;5;241m0\u001B[39m \u001B[38;5;129;01mand\u001B[39;00m i\u001B[38;5;241m%\u001B[39m\u001B[38;5;241m7\u001B[39m\u001B[38;5;241m==\u001B[39m\u001B[38;5;241m0\u001B[39m:\n\u001B[1;32m      6\u001B[0m         zahlen3_7\u001B[38;5;241m.\u001B[39mappend(i)\n",
      "\u001B[0;31mTypeError\u001B[0m: '<' not supported between instances of 'int' and 'str'"
     ]
    }
   ],
   "source": [
    "def durch3und4(letzteZahl:int)->list :\n",
    "    i = 1\n",
    "    zahlen3_7 = []\n",
    "    while i < letzteZahl:\n",
    "        if i%3 ==0 and i%7==0:\n",
    "            zahlen3_7.append(i)\n",
    "        i += 1\n",
    "    return zahlen3_7\n",
    "\n",
    "print(durch3und4(1000))"
   ]
  },
  {
   "cell_type": "code",
   "execution_count": 10,
   "id": "62603aff",
   "metadata": {},
   "outputs": [],
   "source": [
    "schachbrett = [['schwarzes Pferd', 'schwarzer Bauer', None, None, None, None, 'weisser Bauer', None],\n",
    "               [None, None, None, None, None, None, 'schwarzer Bauer', None],\n",
    "               [None, None, None, None, None, None, 'schwarzer König', None],\n",
    "               ['schwarzer Bauer', None, None, 'weisser Turm', None, None, None, None],\n",
    "               [None, None, 'weisser König' , None, 'schwarzer Läufer', 'schwarzer Bauer', None, None],\n",
    "               [None, None, None, None, None, None, None, None],\n",
    "               [None, None, 'weisse Dame', None, None, None, None, None],\n",
    "               ['schwarzer Bauer', None, None, None, None, 'schwarze Dame', None, None]]"
   ]
  },
  {
   "cell_type": "markdown",
   "id": "c78dde76",
   "metadata": {},
   "source": [
    "Bewege den weissen Turm so lange nach rechts bis er entweder am Spielfeldrand oder vor einer anderen Figur steht."
   ]
  },
  {
   "cell_type": "code",
   "execution_count": 18,
   "outputs": [
    {
     "ename": "KeyboardInterrupt",
     "evalue": "",
     "output_type": "error",
     "traceback": [
      "\u001B[0;31m---------------------------------------------------------------------------\u001B[0m",
      "\u001B[0;31mKeyboardInterrupt\u001B[0m                         Traceback (most recent call last)",
      "Cell \u001B[0;32mIn [18], line 9\u001B[0m\n\u001B[1;32m      7\u001B[0m reiheWT[nächstesFeld] \u001B[38;5;241m=\u001B[39m reiheWT[positionWT]\n\u001B[1;32m      8\u001B[0m reiheWT[positionWT] \u001B[38;5;241m=\u001B[39m tmp\n\u001B[0;32m----> 9\u001B[0m positionWT \u001B[38;5;241m=\u001B[39m nächstesFeld\n\u001B[1;32m     10\u001B[0m nächstesFeld \u001B[38;5;241m=\u001B[39m positionWT\u001B[38;5;241m+\u001B[39m\u001B[38;5;241m1\u001B[39m\n\u001B[1;32m     11\u001B[0m \u001B[38;5;28;01mif\u001B[39;00m nächstesFeld \u001B[38;5;241m==\u001B[39m \u001B[38;5;28mlen\u001B[39m(reiheWT):\n",
      "Cell \u001B[0;32mIn [18], line 9\u001B[0m\n\u001B[1;32m      7\u001B[0m reiheWT[nächstesFeld] \u001B[38;5;241m=\u001B[39m reiheWT[positionWT]\n\u001B[1;32m      8\u001B[0m reiheWT[positionWT] \u001B[38;5;241m=\u001B[39m tmp\n\u001B[0;32m----> 9\u001B[0m positionWT \u001B[38;5;241m=\u001B[39m nächstesFeld\n\u001B[1;32m     10\u001B[0m nächstesFeld \u001B[38;5;241m=\u001B[39m positionWT\u001B[38;5;241m+\u001B[39m\u001B[38;5;241m1\u001B[39m\n\u001B[1;32m     11\u001B[0m \u001B[38;5;28;01mif\u001B[39;00m nächstesFeld \u001B[38;5;241m==\u001B[39m \u001B[38;5;28mlen\u001B[39m(reiheWT):\n",
      "File \u001B[0;32m~/.local/share/JetBrains/Toolbox/apps/PyCharm-P/ch-0/222.4345.23/plugins/python/helpers/pydev/_pydevd_bundle/pydevd_frame.py:880\u001B[0m, in \u001B[0;36mPyDBFrame.trace_dispatch\u001B[0;34m(self, frame, event, arg)\u001B[0m\n\u001B[1;32m    877\u001B[0m             stop \u001B[38;5;241m=\u001B[39m \u001B[38;5;28;01mFalse\u001B[39;00m\n\u001B[1;32m    879\u001B[0m \u001B[38;5;28;01mif\u001B[39;00m plugin_stop:\n\u001B[0;32m--> 880\u001B[0m     stopped_on_plugin \u001B[38;5;241m=\u001B[39m \u001B[43mplugin_manager\u001B[49m\u001B[38;5;241;43m.\u001B[39;49m\u001B[43mstop\u001B[49m\u001B[43m(\u001B[49m\u001B[43mmain_debugger\u001B[49m\u001B[43m,\u001B[49m\u001B[43m \u001B[49m\u001B[43mframe\u001B[49m\u001B[43m,\u001B[49m\u001B[43m \u001B[49m\u001B[43mevent\u001B[49m\u001B[43m,\u001B[49m\u001B[43m \u001B[49m\u001B[38;5;28;43mself\u001B[39;49m\u001B[38;5;241;43m.\u001B[39;49m\u001B[43m_args\u001B[49m\u001B[43m,\u001B[49m\u001B[43m \u001B[49m\u001B[43mstop_info\u001B[49m\u001B[43m,\u001B[49m\u001B[43m \u001B[49m\u001B[43marg\u001B[49m\u001B[43m,\u001B[49m\u001B[43m \u001B[49m\u001B[43mstep_cmd\u001B[49m\u001B[43m)\u001B[49m\n\u001B[1;32m    881\u001B[0m \u001B[38;5;28;01melif\u001B[39;00m stop:\n\u001B[1;32m    882\u001B[0m     \u001B[38;5;28;01mif\u001B[39;00m is_line:\n",
      "File \u001B[0;32m~/.local/share/JetBrains/Toolbox/apps/PyCharm-P/ch-0/222.4345.23/plugins/python/helpers-pro/jupyter_debug/pydev_jupyter_plugin.py:169\u001B[0m, in \u001B[0;36mstop\u001B[0;34m(plugin, pydb, frame, event, args, stop_info, arg, step_cmd)\u001B[0m\n\u001B[1;32m    167\u001B[0m     frame \u001B[38;5;241m=\u001B[39m suspend_jupyter(main_debugger, thread, frame, step_cmd)\n\u001B[1;32m    168\u001B[0m     \u001B[38;5;28;01mif\u001B[39;00m frame:\n\u001B[0;32m--> 169\u001B[0m         \u001B[43mmain_debugger\u001B[49m\u001B[38;5;241;43m.\u001B[39;49m\u001B[43mdo_wait_suspend\u001B[49m\u001B[43m(\u001B[49m\u001B[43mthread\u001B[49m\u001B[43m,\u001B[49m\u001B[43m \u001B[49m\u001B[43mframe\u001B[49m\u001B[43m,\u001B[49m\u001B[43m \u001B[49m\u001B[43mevent\u001B[49m\u001B[43m,\u001B[49m\u001B[43m \u001B[49m\u001B[43marg\u001B[49m\u001B[43m)\u001B[49m\n\u001B[1;32m    170\u001B[0m         \u001B[38;5;28;01mreturn\u001B[39;00m \u001B[38;5;28;01mTrue\u001B[39;00m\n\u001B[1;32m    171\u001B[0m \u001B[38;5;28;01mreturn\u001B[39;00m \u001B[38;5;28;01mFalse\u001B[39;00m\n",
      "File \u001B[0;32m~/.local/share/JetBrains/Toolbox/apps/PyCharm-P/ch-0/222.4345.23/plugins/python/helpers/pydev/pydevd.py:1160\u001B[0m, in \u001B[0;36mPyDB.do_wait_suspend\u001B[0;34m(self, thread, frame, event, arg, send_suspend_message, is_unhandled_exception)\u001B[0m\n\u001B[1;32m   1157\u001B[0m         from_this_thread\u001B[38;5;241m.\u001B[39mappend(frame_id)\n\u001B[1;32m   1159\u001B[0m \u001B[38;5;28;01mwith\u001B[39;00m \u001B[38;5;28mself\u001B[39m\u001B[38;5;241m.\u001B[39m_threads_suspended_single_notification\u001B[38;5;241m.\u001B[39mnotify_thread_suspended(thread_id, stop_reason):\n\u001B[0;32m-> 1160\u001B[0m     \u001B[38;5;28;43mself\u001B[39;49m\u001B[38;5;241;43m.\u001B[39;49m\u001B[43m_do_wait_suspend\u001B[49m\u001B[43m(\u001B[49m\u001B[43mthread\u001B[49m\u001B[43m,\u001B[49m\u001B[43m \u001B[49m\u001B[43mframe\u001B[49m\u001B[43m,\u001B[49m\u001B[43m \u001B[49m\u001B[43mevent\u001B[49m\u001B[43m,\u001B[49m\u001B[43m \u001B[49m\u001B[43marg\u001B[49m\u001B[43m,\u001B[49m\u001B[43m \u001B[49m\u001B[43msuspend_type\u001B[49m\u001B[43m,\u001B[49m\u001B[43m \u001B[49m\u001B[43mfrom_this_thread\u001B[49m\u001B[43m)\u001B[49m\n",
      "File \u001B[0;32m~/.local/share/JetBrains/Toolbox/apps/PyCharm-P/ch-0/222.4345.23/plugins/python/helpers/pydev/pydevd.py:1175\u001B[0m, in \u001B[0;36mPyDB._do_wait_suspend\u001B[0;34m(self, thread, frame, event, arg, suspend_type, from_this_thread)\u001B[0m\n\u001B[1;32m   1172\u001B[0m             \u001B[38;5;28mself\u001B[39m\u001B[38;5;241m.\u001B[39m_call_mpl_hook()\n\u001B[1;32m   1174\u001B[0m         \u001B[38;5;28mself\u001B[39m\u001B[38;5;241m.\u001B[39mprocess_internal_commands()\n\u001B[0;32m-> 1175\u001B[0m         \u001B[43mtime\u001B[49m\u001B[38;5;241;43m.\u001B[39;49m\u001B[43msleep\u001B[49m\u001B[43m(\u001B[49m\u001B[38;5;241;43m0.01\u001B[39;49m\u001B[43m)\u001B[49m\n\u001B[1;32m   1177\u001B[0m \u001B[38;5;28mself\u001B[39m\u001B[38;5;241m.\u001B[39mcancel_async_evaluation(get_current_thread_id(thread), \u001B[38;5;28mstr\u001B[39m(\u001B[38;5;28mid\u001B[39m(frame)))\n\u001B[1;32m   1179\u001B[0m \u001B[38;5;66;03m# process any stepping instructions\u001B[39;00m\n",
      "\u001B[0;31mKeyboardInterrupt\u001B[0m: "
     ]
    }
   ],
   "source": [
    "# Dein Code\n",
    "reiheWT = schachbrett[3]\n",
    "positionWT = reiheWT.index(\"weisser Turm\")\n",
    "nächstesFeld = positionWT+1\n",
    "while not reiheWT[nächstesFeld]:\n",
    "    tmp = reiheWT[nächstesFeld]\n",
    "    reiheWT[nächstesFeld] = reiheWT[positionWT]\n",
    "    reiheWT[positionWT] = tmp\n",
    "    positionWT = nächstesFeld\n",
    "    nächstesFeld = positionWT+1\n",
    "    if nächstesFeld == len(reiheWT):\n",
    "        break\n",
    "\n",
    "print(positionWT)"
   ],
   "metadata": {
    "collapsed": false
   }
  },
  {
   "cell_type": "markdown",
   "metadata": {
    "collapsed": false
   },
   "source": [
    "## Dictionaries\n",
    "\n",
    "Erstelle ein Dictionary *blumen* in dem für jede Blume die Farben ihrer Blüten gespeichert werden. Speichere direkt drei Einträge zu Rose, Enzian und Margeriten."
   ]
  },
  {
   "cell_type": "code",
   "execution_count": 32,
   "metadata": {
    "collapsed": false
   },
   "outputs": [
    {
     "name": "stdout",
     "output_type": "stream",
     "text": [
      "{'Rose': 'rot', 'Enzian': 'blau', 'margeriten': 'weiß'}\n"
     ]
    }
   ],
   "source": [
    "# Dein Code\n",
    "blumen = {'Rose': 'rot',\n",
    "          'Enzian': 'blau',\n",
    "          'margeriten': 'weiß'}\n",
    "\n",
    "print(blumen)"
   ]
  },
  {
   "cell_type": "markdown",
   "metadata": {
    "collapsed": false
   },
   "source": [
    "Füge deine Lieblingsblume zu *blumen* hinzu."
   ]
  },
  {
   "cell_type": "code",
   "execution_count": 25,
   "metadata": {
    "collapsed": false
   },
   "outputs": [
    {
     "name": "stdout",
     "output_type": "stream",
     "text": [
      "{'rose': 'rot', 'enzian': 'blau', 'margeriten': 'weiß', 'tulpe': 'pink'}\n"
     ]
    }
   ],
   "source": [
    "# Dein Code\n",
    "blumen['tulpe'] = 'pink'\n",
    "print(blumen)"
   ]
  },
  {
   "cell_type": "markdown",
   "metadata": {
    "collapsed": false
   },
   "source": [
    "Entferne den Eintrag zu Enzian."
   ]
  },
  {
   "cell_type": "code",
   "execution_count": 23,
   "metadata": {
    "collapsed": false
   },
   "outputs": [
    {
     "name": "stdout",
     "output_type": "stream",
     "text": [
      "{'rose': 'rot', 'margeriten': 'weiß', 'tulpe': 'pink'}\n",
      "{'margeriten': 'weiß', 'tulpe': 'pink'}\n"
     ]
    }
   ],
   "source": [
    "# Dein Code\n",
    "#del(blumen['enzian'])\n",
    "print(blumen)\n",
    "blumen.pop('rose')\n",
    "print(blumen)"
   ]
  },
  {
   "cell_type": "markdown",
   "source": [
    "Gib für alle gespeicherten Blumen die Blütenfarbe aus."
   ],
   "metadata": {
    "collapsed": false
   }
  },
  {
   "cell_type": "code",
   "execution_count": 28,
   "outputs": [
    {
     "name": "stdout",
     "output_type": "stream",
     "text": [
      "rot\n",
      "blau\n",
      "weiß\n",
      "pink\n",
      "rot\n",
      "blau\n",
      "weiß\n",
      "pink\n"
     ]
    }
   ],
   "source": [
    "# Dein Code\n",
    "for farbe in blumen.values():\n",
    "    print(farbe)\n",
    "\n",
    "for blume in blumen.keys():\n",
    "    print(blumen[blume])"
   ],
   "metadata": {
    "collapsed": false
   }
  },
  {
   "cell_type": "code",
   "execution_count": 30,
   "outputs": [
    {
     "name": "stdout",
     "output_type": "stream",
     "text": [
      "{'Rose': 'rot', 'enzian': 'blau', 'margeriten': 'weiß'}\n"
     ]
    }
   ],
   "source": [
    "print(blumen)"
   ],
   "metadata": {
    "collapsed": false
   }
  },
  {
   "cell_type": "code",
   "execution_count": 37,
   "outputs": [
    {
     "name": "stdout",
     "output_type": "stream",
     "text": [
      "['Enzian', 'margeriten', 'Rose']\n"
     ]
    }
   ],
   "source": [
    "blumen = (sorted(blumen, key=lambda d: d.lower()))\n",
    "print(blumen)"
   ],
   "metadata": {
    "collapsed": false
   }
  },
  {
   "cell_type": "code",
   "execution_count": null,
   "outputs": [],
   "source": [],
   "metadata": {
    "collapsed": false
   }
  }
 ],
 "metadata": {
  "kernelspec": {
   "display_name": "Python 3.9.15 64-bit",
   "language": "python",
   "name": "python3"
  },
  "language_info": {
   "codemirror_mode": {
    "name": "ipython",
    "version": 3
   },
   "file_extension": ".py",
   "mimetype": "text/x-python",
   "name": "python",
   "nbconvert_exporter": "python",
   "pygments_lexer": "ipython3",
   "version": "3.9.15"
  },
  "vscode": {
   "interpreter": {
    "hash": "f9f85f796d01129d0dd105a088854619f454435301f6ffec2fea96ecbd9be4ac"
   }
  }
 },
 "nbformat": 4,
 "nbformat_minor": 5
}
