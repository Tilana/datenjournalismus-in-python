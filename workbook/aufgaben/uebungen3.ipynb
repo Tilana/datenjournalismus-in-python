{
 "cells": [
  {
   "cell_type": "markdown",
   "metadata": {},
   "source": [
    "# Listen, Funktionen und Schleifen\n"
   ]
  },
  {
   "cell_type": "markdown",
   "metadata": {},
   "source": [
    "## Listen"
   ]
  },
  {
   "cell_type": "markdown",
   "metadata": {},
   "source": [
    "Initialisiere eine Liste mit den Werten folgenden Werten: dein Alter, die letzten Ziffern deiner Postleitzahl, dein Geburtsjahr und die ersten zwei Ziffern deiner Matrikelnummer."
   ]
  },
  {
   "cell_type": "code",
   "execution_count": 2,
   "metadata": {},
   "outputs": [],
   "source": [
    "\n",
    "# Dein Code\n",
    "liste = [25, 107, 1997, 11 ]\n"
   ]
  },
  {
   "cell_type": "markdown",
   "metadata": {},
   "source": [
    "Füge der Liste die Werte 64, 17, 45 hinzu."
   ]
  },
  {
   "cell_type": "code",
   "execution_count": 3,
   "metadata": {},
   "outputs": [],
   "source": [
    "\n",
    "# Dein Code\n",
    "liste.append(64)\n",
    "liste.extend([17, 45])\n"
   ]
  },
  {
   "cell_type": "markdown",
   "metadata": {},
   "source": [
    "Erweitere deine Liste mit der Liste 'abc'"
   ]
  },
  {
   "cell_type": "code",
   "execution_count": 4,
   "metadata": {},
   "outputs": [
    {
     "name": "stdout",
     "output_type": "stream",
     "text": [
      "[25, 107, 1997, 11, 64, 17, 45, 1, 6, 1, 4, 1, 6, 1, 4, 1, 6, 1, 4]\n"
     ]
    }
   ],
   "source": [
    "abc = [1,6,1,4]\n",
    "\n",
    "liste.extend(abc)\n",
    "\n",
    "liste += abc\n",
    "\n",
    "liste = liste + abc\n",
    "\n",
    "print(liste)"
   ]
  },
  {
   "cell_type": "markdown",
   "metadata": {},
   "source": [
    "Ersetze den 10. Wert deiner Liste mit 9."
   ]
  },
  {
   "cell_type": "code",
   "execution_count": null,
   "metadata": {},
   "outputs": [],
   "source": [
    "# Dein Code\n",
    "liste[9] = 9\n"
   ]
  },
  {
   "cell_type": "markdown",
   "metadata": {},
   "source": [
    "Gib die letzten 3 Werte deiner Liste aus"
   ]
  },
  {
   "cell_type": "code",
   "execution_count": 10,
   "metadata": {},
   "outputs": [
    {
     "name": "stdout",
     "output_type": "stream",
     "text": [
      "[6, 4, 6, 4, 6, 4]\n"
     ]
    }
   ],
   "source": [
    "# Dein Code\n",
    "print(liste[8::2])"
   ]
  },
  {
   "cell_type": "markdown",
   "metadata": {},
   "source": [
    "\n",
    "Gegeben sei die Liste von Listen 'schachbrett'. In ihr sind die Positionen von Schachfiguren gespeichert.\n"
   ]
  },
  {
   "cell_type": "code",
   "execution_count": 18,
   "metadata": {},
   "outputs": [],
   "source": [
    "schachbrett = [['schwarzes Pferd', 'schwarzer Bauer', None, None, None, None, 'weisser Bauer', None],\n",
    "               [None, None, None, None, None, None, 'schwarzer Bauer', None],\n",
    "               [None, None, None, None, None, None, 'schwarzer König', None],\n",
    "               ['schwarzer Bauer', None, None, 'weisser Turm', None, None, None, None],\n",
    "               [None, None, 'weisser König' , None, 'schwarzer Läufer', 'schwarzer Bauer', None, None],\n",
    "               [None, None, None, None, None, None, None, None],\n",
    "               [None, None, 'weisse Dame', None, None, None, None, None],\n",
    "               ['schwarzer Bauer', None, None, None, None, 'schwarze Dame', None, None]]"
   ]
  },
  {
   "cell_type": "markdown",
   "metadata": {},
   "source": [
    "Wie groß ist das Schachbrett? Gib die Länge und Breite des Spielfeldees aus"
   ]
  },
  {
   "cell_type": "code",
   "execution_count": 13,
   "metadata": {},
   "outputs": [
    {
     "name": "stdout",
     "output_type": "stream",
     "text": [
      "8\n",
      "8\n"
     ]
    }
   ],
   "source": [
    "\n",
    "# Dein Code\n",
    "print(len(schachbrett))\n",
    "print(len(schachbrett[0]))\n",
    "\n"
   ]
  },
  {
   "cell_type": "markdown",
   "metadata": {},
   "source": [
    "Welche Figur steht in der 5. Reihe, auf Position 6?"
   ]
  },
  {
   "cell_type": "code",
   "execution_count": 14,
   "metadata": {},
   "outputs": [
    {
     "name": "stdout",
     "output_type": "stream",
     "text": [
      "schwarzer Bauer\n"
     ]
    }
   ],
   "source": [
    "\n",
    "# Dein Code\n",
    "print(schachbrett[4][5])\n"
   ]
  },
  {
   "cell_type": "markdown",
   "metadata": {},
   "source": [
    "Bewege die schwarze Dame diagonal zwei Felder weit über das Spielfeld und gebe ihre neue Position aus."
   ]
  },
  {
   "cell_type": "code",
   "execution_count": 23,
   "metadata": {},
   "outputs": [
    {
     "name": "stdout",
     "output_type": "stream",
     "text": [
      "[['schwarzes Pferd', 'schwarzer Bauer', None, None, None, None, 'weisser Bauer', None], [None, None, None, None, None, None, 'schwarzer Bauer', None], [None, None, None, None, None, None, 'schwarzer König', None], ['schwarzer Bauer', None, None, 'weisser Turm', None, None, None, None], [None, None, 'weisser König', None, 'schwarzer Läufer', 'schwarzer Bauer', None, None], [None, None, None, None, None, None, None, 'schwarze Dame'], [None, None, 'weisse Dame', None, None, None, None, None], ['schwarzer Bauer', None, None, None, None, None, None, None]]\n",
      "7\n"
     ]
    }
   ],
   "source": [
    "\n",
    "# Dein Cod\n",
    "tmp = schachbrett[5][7]\n",
    "schachbrett[5][7] = schachbrett[7][5]\n",
    "\n",
    "schachbrett[7][5] = tmp\n",
    "\n",
    "#schachbrett[7-2][5+2] = schachbrett[7][5]\n",
    "#schachbrett[7][5] = None\n",
    "\n",
    "print(schachbrett)\n",
    "\n",
    "print(schachbrett[5].index('schwarze Dame'))\n",
    "\n",
    "gesuchte_figur = s´'schw'\n",
    "for reihe in schachbrett:\n",
    "    if 'schwarze Dame' in reihe:\n",
    "        print(reihe.index('schwarze Dame'))"
   ]
  },
  {
   "cell_type": "markdown",
   "metadata": {},
   "source": [
    "## Aufgabe 2: Funktionen"
   ]
  },
  {
   "cell_type": "markdown",
   "metadata": {},
   "source": [
    "Schreibe eine Funktion, die prüft ob zwei Wörter gleich sind.\n",
    "Teste die Funktion mit mehreren Wortpaaren."
   ]
  },
  {
   "cell_type": "code",
   "execution_count": null,
   "metadata": {},
   "outputs": [],
   "source": [
    "\n",
    "# Dein Code\n",
    "\n",
    "\n"
   ]
  },
  {
   "cell_type": "markdown",
   "metadata": {},
   "source": [
    "Schreibe eine Funktion, die als Eingabe eine Liste erhält und das arithmetische Mittel dieser Liste berechnet und zurückgibt. Teste diese Funktion mit deiner erstellten Liste aus Aufgabe 1."
   ]
  },
  {
   "cell_type": "code",
   "execution_count": null,
   "metadata": {},
   "outputs": [],
   "source": [
    "\n",
    "# Dein Code\n"
   ]
  },
  {
   "cell_type": "markdown",
   "metadata": {},
   "source": [
    "Schreibe eine Funktion, die überprüft, ob ein König an der gegebenen Position steht (in unserem Beispiel steht die schwarze Dame auf [7][5]) und falls ein König existiert ihn in die angegebene Richtung bewegt. Die Richtung wird in den Himmelsrichtungen angegeben (d.h. NO = Nord-Ost usw.) und es soll überprüft werden, ob der König auf ein leeres Feld versetzt wird oder ob er sich über den Spielfeldrand hinaus bewegt. Falls sich der König auf ein Feld mit einer gleichfarbigen Figur stellen würde, bewegt sich der König nicht. Falls es eine andersfarbige Figur ist, wird diese geschlagen und der König wechselt das Feld.\n"
   ]
  },
  {
   "cell_type": "code",
   "execution_count": null,
   "metadata": {},
   "outputs": [],
   "source": [
    "# Dein Code\n"
   ]
  },
  {
   "cell_type": "markdown",
   "metadata": {},
   "source": [
    "## for-Schleifen"
   ]
  },
  {
   "cell_type": "markdown",
   "metadata": {},
   "source": [
    "Schreibe eine for-Schleife die Buchstaben in dem Wort `Donau-Dampfschifffahrtsgesellschaft` zählt"
   ]
  },
  {
   "cell_type": "code",
   "execution_count": null,
   "metadata": {},
   "outputs": [],
   "source": [
    "# Dein Code\n"
   ]
  },
  {
   "cell_type": "markdown",
   "metadata": {},
   "source": [
    "Gib alle durch zwei teilbaren Werte der in Aufgabe 1 definierten Liste aus."
   ]
  },
  {
   "cell_type": "code",
   "execution_count": null,
   "metadata": {},
   "outputs": [],
   "source": [
    "# Dein Code\n"
   ]
  },
  {
   "cell_type": "markdown",
   "metadata": {},
   "source": [
    "Finde auf dem Schachbrett die Position des weißen Königs"
   ]
  },
  {
   "cell_type": "code",
   "execution_count": null,
   "metadata": {},
   "outputs": [],
   "source": [
    "# Dein Code\n"
   ]
  },
  {
   "cell_type": "markdown",
   "metadata": {},
   "source": [
    "Finde heraus wie viele schwarze Bauern es auf dem Spielfeld gibt."
   ]
  },
  {
   "cell_type": "code",
   "execution_count": null,
   "metadata": {},
   "outputs": [],
   "source": [
    "# Dein Code\n"
   ]
  },
  {
   "cell_type": "markdown",
   "metadata": {},
   "source": [
    "## Bonusaufgaben"
   ]
  },
  {
   "cell_type": "markdown",
   "metadata": {},
   "source": [
    "\n",
    "Modifiziere die Funktion für den König so, dass sich diese modifizierte Funktion auf die Damen anwenden lassen. Hierbei wird zusätzlich zur Position und der Richtung auch noch die anzahl der Felder übergeben die sich die Königin bewegt."
   ]
  },
  {
   "cell_type": "code",
   "execution_count": null,
   "metadata": {},
   "outputs": [],
   "source": [
    "# Dein Code\n"
   ]
  },
  {
   "cell_type": "markdown",
   "metadata": {},
   "source": [
    "Recherchiere im Internet nach Sortieralgorithmen und schreibe eine Funktion der einen Sortieralgorithmus deiner Wahl implementiert. Teste die Funktion mit deiner Liste."
   ]
  },
  {
   "cell_type": "code",
   "execution_count": null,
   "metadata": {},
   "outputs": [],
   "source": [
    "# Dein Code\n"
   ]
  }
 ],
 "metadata": {
  "kernelspec": {
   "display_name": "Python 3 (ipykernel)",
   "language": "python",
   "name": "python3"
  },
  "language_info": {
   "codemirror_mode": {
    "name": "ipython",
    "version": 3
   },
   "file_extension": ".py",
   "mimetype": "text/x-python",
   "name": "python",
   "nbconvert_exporter": "python",
   "pygments_lexer": "ipython3",
   "version": "3.9.15"
  }
 },
 "nbformat": 4,
 "nbformat_minor": 1
}
