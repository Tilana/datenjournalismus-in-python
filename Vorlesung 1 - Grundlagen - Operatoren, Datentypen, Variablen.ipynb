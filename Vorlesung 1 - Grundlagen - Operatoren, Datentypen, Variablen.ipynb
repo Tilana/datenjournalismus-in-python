{
 "cells": [
  {
   "cell_type": "markdown",
   "id": "71c14673",
   "metadata": {
    "slideshow": {
     "slide_type": "slide"
    }
   },
   "source": [
    "# Datenjournalismus in Python - \n",
    "# Eine praktische Einführung in die Programmierung\n",
    "\n",
    "\n",
    "### Natalie Widmann\n",
    "\n",
    "\n",
    "\n",
    "\n",
    "Wintersemester 2022 / 2023\n",
    "\n",
    "\n",
    "Universität Leipzig\n",
    "\n",
    "\n",
    "\n"
   ]
  },
  {
   "cell_type": "markdown",
   "id": "f6ca51e0",
   "metadata": {
    "slideshow": {
     "slide_type": "slide"
    }
   },
   "source": [
    "# Agenda\n",
    "\n",
    "1. Kurs: Ziele & Organisation\n",
    "2. Motivation - Warum überhaupt programmieren lernen?\n",
    "3. Python als Taschenrechner - Oder wie reich ist Jeff Bezos?\n",
    "4. Von der Praxis zur Theorie\n",
    "    - Variablen\n",
    "    - Datentypen\n",
    "    - Inbuilt Functions\n",
    "    - Fehlermeldungen\n",
    "\n",
    "\n"
   ]
  },
  {
   "cell_type": "markdown",
   "id": "aa222d21",
   "metadata": {
    "slideshow": {
     "slide_type": "slide"
    }
   },
   "source": [
    "# Motivation - Warum überhaupt programmieren lernen?\n",
    "\n",
    "\n"
   ]
  },
  {
   "cell_type": "markdown",
   "id": "dad2ecd6",
   "metadata": {
    "cell_style": "split",
    "slideshow": {
     "slide_type": "slide"
    }
   },
   "source": [
    "## Daten als Grundlage für Journalismus\n",
    "\n",
    "Journalismus basiert fast immer auf Daten. Manchmal sind es nur einzelne Zahlen.\n",
    "Aber immer öfter\n",
    "Daten helfen uns:\n",
    " \n",
    "\n",
    "- Trends zu verstehen\n",
    "- Dimensionen greifbar zu machen\n",
    "- Ereignisse in Kontext zu setzen\n",
    "- in Interaktion mit Leser:innen zu treten"
   ]
  },
  {
   "cell_type": "markdown",
   "id": "9e098307",
   "metadata": {
    "cell_style": "split",
    "slideshow": {
     "slide_type": "-"
    }
   },
   "source": [
    "![Radmesser](./imgs/radmesser_tagesspiegel.png)"
   ]
  },
  {
   "cell_type": "markdown",
   "id": "1737b1e6",
   "metadata": {
    "cell_style": "split",
    "slideshow": {
     "slide_type": "slide"
    }
   },
   "source": [
    "![Klimawandel - Morgenpost](./imgs/klimawandel_morgenpost.png)"
   ]
  },
  {
   "cell_type": "markdown",
   "id": "884a10f9",
   "metadata": {
    "cell_style": "split",
    "slideshow": {
     "slide_type": "-"
    }
   },
   "source": [
    "![Merkel nach Zahlen](./imgs/asylanträge_merkel_br.png)"
   ]
  },
  {
   "cell_type": "markdown",
   "id": "3150a977",
   "metadata": {
    "cell_style": "split",
    "slideshow": {
     "slide_type": "slide"
    }
   },
   "source": [
    "## Daten, Daten, Daten\n",
    "\n",
    "\n",
    "Manchmal ist die Datenflut so überwältigend, dass Recherchen nur mit technischen Mitteln möglich sind.\n",
    "\n",
    "### Paradise Paper\n",
    "\n",
    "- 21 verschiedene Datenquellen\n",
    "- ca. 13,4 Millionen Dokumente oder 1,4 Terrabyte an Daten\n",
    "- mehr als 380 Journalist:innen aus 67 Ländern\n",
    " \n"
   ]
  },
  {
   "cell_type": "markdown",
   "id": "46e7e6e9",
   "metadata": {
    "cell_style": "split"
   },
   "source": [
    "![Paradisepaper](./imgs/pardisepaper.png)"
   ]
  },
  {
   "cell_type": "markdown",
   "id": "c0ce46c5",
   "metadata": {
    "slideshow": {
     "slide_type": "slide"
    }
   },
   "source": [
    "## Direkte Auswertung & Schnelles Prototyping\n",
    "\n",
    "Auch wenn ihr ein Team mit Entwickler:innen, Designer:innen und Co habt, könnt ihr Ideen schnell ausprobieren, Stichprobendaten auswerten und euer Team davon überzeugen.\n",
    "\n",
    "\n",
    "## Digitale Produktentwicklung\n",
    "\n",
    "- Aufwände abschätzen\n",
    "- Gemeinsame Sprache mit Entwickler:innen\n",
    "\n",
    "## Möglichkeiten kennen und kreativ sein\n",
    "\n",
    "- Machinelles Lernen als Hilfsmittel in der Recherche\n",
    "- Algortihmischen Bias aufdecken\n",
    "- aktueller Stand von Deep Fake Technologie\n"
   ]
  },
  {
   "cell_type": "markdown",
   "id": "0349b25c",
   "metadata": {
    "cell_style": "split",
    "slideshow": {
     "slide_type": "slide"
    }
   },
   "source": [
    "    \n",
    "![BR Fake Reviews](./imgs/fakereviews_br.png)\n",
    "\n",
    "https://interaktiv.br.de/falsche-google-bewertungen/\n",
    "\n",
    "\n",
    "\n",
    "\n"
   ]
  },
  {
   "cell_type": "markdown",
   "id": "b7d7e50b",
   "metadata": {
    "cell_style": "split"
   },
   "source": [
    "![Spy Planes](./imgs/spyplanes_buzzfeed.png)\n",
    "\n",
    "https://www.buzzfeednews.com/article/peteraldhous/hidden-spy-planes\n",
    "\n",
    "\n",
    "\n"
   ]
  },
  {
   "cell_type": "markdown",
   "id": "281f9b8e",
   "metadata": {
    "cell_style": "split",
    "slideshow": {
     "slide_type": "slide"
    }
   },
   "source": [
    "![Machine Bias](./imgs/machinebias_propublica.png)\n",
    "\n",
    "https://www.propublica.org/article/machine-bias-risk-assessments-in-criminal-sentencing\n",
    "\n",
    "\n",
    "\n",
    "\n",
    "\n"
   ]
  },
  {
   "cell_type": "markdown",
   "id": "43529459",
   "metadata": {
    "cell_style": "split"
   },
   "source": [
    "![Dalle](./imgs/dalle.png)\n",
    "\n",
    "https://openai.com/dall-e-2/\n",
    "\n",
    "\n",
    "\n",
    "\n"
   ]
  },
  {
   "cell_type": "markdown",
   "id": "09a0f62d",
   "metadata": {
    "cell_style": "split",
    "slideshow": {
     "slide_type": "slide"
    }
   },
   "source": [
    "# Python\n",
    "\n",
    "Python wurde 1991 von Guido van Rossom veröffentlicht und ist mittlerweile eine der beliebtesten Programmiersprachen. Gründe dafür sind:\n",
    "\n",
    "- die **Vielseitigkeit** - von Datenanalyse und Visualisierung über Webentwicklung bis hin zu maschinellem Lernen\n",
    "\n",
    "- die **Einfachheit** - Python ist übersichtlich und leicht zu lernen.\n",
    "\n",
    "- **Open Source Community** - die aktive Community behebt Fehler, entwickelt Python stets weiter und hilft bei Problemen\n"
   ]
  },
  {
   "cell_type": "markdown",
   "id": "f870219a",
   "metadata": {
    "cell_style": "split",
    "slideshow": {
     "slide_type": "-"
    }
   },
   "source": [
    "![RedMonk Programmiersprachen Ranking](./imgs/redmonk.png)\n",
    "\n",
    "\n",
    "\n",
    "\n",
    "\n"
   ]
  },
  {
   "cell_type": "markdown",
   "id": "98d19586",
   "metadata": {
    "cell_style": "center",
    "slideshow": {
     "slide_type": "slide"
    }
   },
   "source": [
    "# Unser erster Code"
   ]
  },
  {
   "cell_type": "code",
   "execution_count": 1,
   "id": "8c1e569a",
   "metadata": {
    "slideshow": {
     "slide_type": "-"
    }
   },
   "outputs": [
    {
     "name": "stdout",
     "output_type": "stream",
     "text": [
      "Hello World!\n"
     ]
    }
   ],
   "source": [
    "print('Hello World!')\n",
    "\n"
   ]
  },
  {
   "cell_type": "markdown",
   "id": "3cca3719",
   "metadata": {
    "slideshow": {
     "slide_type": "slide"
    }
   },
   "source": [
    "# Python als Taschenrechner\n",
    "\n",
    "Python kann als einfacher Taschenrechner verwendet werden.\n",
    "\n",
    "\n",
    "Die Syntax:\n",
    "\n",
    "- Die Operatoren +, -, * und / werden wie gewohnt verwendet\n",
    "- Mit ** wird potenziert\n",
    "- Mit Klammern werden Ausdrücke gruppiert\n",
    "- Mit \\# beginnt ein Kommentar.\n",
    "  Kommentare dienen beschreiben de Code und werden nicht ausgeführt\n",
    "\n",
    "        "
   ]
  },
  {
   "cell_type": "code",
   "execution_count": 15,
   "id": "b8f5763f",
   "metadata": {
    "slideshow": {
     "slide_type": "slide"
    }
   },
   "outputs": [
    {
     "data": {
      "text/plain": [
       "11"
      ]
     },
     "execution_count": 15,
     "metadata": {},
     "output_type": "execute_result"
    }
   ],
   "source": [
    "# Addition\n",
    "5 + 6"
   ]
  },
  {
   "cell_type": "code",
   "execution_count": 18,
   "id": "b0adfd86",
   "metadata": {
    "slideshow": {
     "slide_type": "fragment"
    }
   },
   "outputs": [
    {
     "data": {
      "text/plain": [
       "16"
      ]
     },
     "execution_count": 18,
     "metadata": {},
     "output_type": "execute_result"
    }
   ],
   "source": [
    "# Subtraktion\n",
    "20 - 4"
   ]
  },
  {
   "cell_type": "code",
   "execution_count": 19,
   "id": "21a79966",
   "metadata": {
    "slideshow": {
     "slide_type": "fragment"
    }
   },
   "outputs": [
    {
     "data": {
      "text/plain": [
       "12"
      ]
     },
     "execution_count": 19,
     "metadata": {},
     "output_type": "execute_result"
    }
   ],
   "source": [
    "# Multiplikation\n",
    "2 * 6"
   ]
  },
  {
   "cell_type": "code",
   "execution_count": 20,
   "id": "39e06c4c",
   "metadata": {
    "slideshow": {
     "slide_type": "fragment"
    }
   },
   "outputs": [
    {
     "data": {
      "text/plain": [
       "4.5"
      ]
     },
     "execution_count": 20,
     "metadata": {},
     "output_type": "execute_result"
    }
   ],
   "source": [
    "# Division\n",
    "9 / 2"
   ]
  },
  {
   "cell_type": "code",
   "execution_count": 21,
   "id": "93c3ca2b",
   "metadata": {
    "slideshow": {
     "slide_type": "fragment"
    }
   },
   "outputs": [
    {
     "data": {
      "text/plain": [
       "8"
      ]
     },
     "execution_count": 21,
     "metadata": {},
     "output_type": "execute_result"
    }
   ],
   "source": [
    "# Potenzieren\n",
    "2 ** 3"
   ]
  },
  {
   "cell_type": "code",
   "execution_count": 25,
   "id": "20d1d5e2",
   "metadata": {
    "slideshow": {
     "slide_type": "fragment"
    }
   },
   "outputs": [
    {
     "data": {
      "text/plain": [
       "20"
      ]
     },
     "execution_count": 25,
     "metadata": {},
     "output_type": "execute_result"
    }
   ],
   "source": [
    "# Mit Klammern\n",
    "(4 + (2 * 3)) * 2"
   ]
  },
  {
   "cell_type": "markdown",
   "id": "a06229c0",
   "metadata": {
    "cell_style": "split",
    "slideshow": {
     "slide_type": "slide"
    }
   },
   "source": [
    "![Vergleich zum Reichtum von Jeff Bezos](./imgs/bezos.png)\n"
   ]
  },
  {
   "cell_type": "markdown",
   "id": "7cf88de1",
   "metadata": {
    "cell_style": "split"
   },
   "source": [
    "# Wie reich ist Jeff Bezos?\n",
    "\n",
    "\n",
    "Mit 150 Mrd. USD ist Jeff Bezos auf Platz 4 der reichsten Menschen der Welt.\n",
    "\n",
    "\n",
    "### Beispiele\n",
    "\n",
    "Grafik links: Datenvisualisierung von Mona Chalabi in [9 Ways to Imagine Jeff Bezos’ Wealth](https://www.nytimes.com/interactive/2022/04/07/magazine/jeff-bezos-net-worth.html) der New York Times, April 2022.\n",
    "\n",
    "1 Pixel Wealth:\n",
    "https://mkorostoff.github.io/1-pixel-wealth/"
   ]
  },
  {
   "cell_type": "markdown",
   "id": "c5db0722",
   "metadata": {
    "slideshow": {
     "slide_type": "slide"
    }
   },
   "source": [
    "# Hands On - Jeff Bezos Wealth\n",
    "\n",
    "## Wie lange muss man arbeiten um so reich zu werden?\n",
    "\n",
    "- Mit einem deutschen Durchschnittseinkommen? \n",
    "\n",
    "    Das aktuelle monatliche Durchschnittseinkommen beträgt 4100 Euro brutto bei einer Vollzeitstelle. Für eine Person in Steuerklasse I läuft das auf ca. 1588 Euro netto hinaus.\n",
    "\n"
   ]
  },
  {
   "cell_type": "code",
   "execution_count": 15,
   "id": "1ba31886",
   "metadata": {
    "slideshow": {
     "slide_type": "slide"
    }
   },
   "outputs": [
    {
     "name": "stdout",
     "output_type": "stream",
     "text": [
      "154500000000.0\n"
     ]
    }
   ],
   "source": [
    "# 1. Schritt: USD in € umrechnen (Kurs: 1,03)\n",
    "print(150000000000 * 1.03)"
   ]
  },
  {
   "cell_type": "code",
   "execution_count": 19,
   "id": "2de729a1",
   "metadata": {
    "slideshow": {
     "slide_type": "fragment"
    }
   },
   "outputs": [
    {
     "name": "stdout",
     "output_type": "stream",
     "text": [
      "154500000000.0\n"
     ]
    }
   ],
   "source": [
    "# 1. Schritt: USD in € umrechnen (Kurs: 1,03)\n",
    "vermoegen_in_usd = 150000000000\n",
    "kurs = 1.03\n",
    "vermoegen = vermoegen_in_usd * kurs\n",
    "\n",
    "print(vermoegen)"
   ]
  },
  {
   "cell_type": "code",
   "execution_count": 27,
   "id": "264fd8c9",
   "metadata": {
    "slideshow": {
     "slide_type": "fragment"
    }
   },
   "outputs": [
    {
     "name": "stdout",
     "output_type": "stream",
     "text": [
      "19056\n"
     ]
    }
   ],
   "source": [
    "# 2. Schritt: Von Monatsgehalt auf durchschnittliches Jahreseinkommen\n",
    "netto_pro_monat = 1588\n",
    "einkommen = 12 * netto_pro_monat\n",
    "print(einkommen)"
   ]
  },
  {
   "cell_type": "code",
   "execution_count": 28,
   "id": "64c79c43",
   "metadata": {
    "slideshow": {
     "slide_type": "fragment"
    }
   },
   "outputs": [
    {
     "name": "stdout",
     "output_type": "stream",
     "text": [
      "8107682.619647355\n"
     ]
    }
   ],
   "source": [
    "# 3. Schritt: Berechnung der Arbeitszeit in Jahren\n",
    "jahre = vermoegen/ einkommen\n",
    "print(jahre)"
   ]
  },
  {
   "cell_type": "markdown",
   "id": "b8607c54",
   "metadata": {
    "slideshow": {
     "slide_type": "slide"
    }
   },
   "source": [
    "# Die Welt vor 8 Millionen Jahren..."
   ]
  },
  {
   "cell_type": "markdown",
   "id": "f7059a63",
   "metadata": {
    "cell_style": "split",
    "slideshow": {
     "slide_type": "-"
    }
   },
   "source": [
    "<div align=\"center\">\n",
    "<img src=\"./imgs/menschenaffen.png\" width=\"600\"/ >\n",
    "    \n",
    "Vor 8 Millionen Jahren gab es noch keine Menschen auf der Erde. Das Suptropische Klima in Europa kühlt langsam ab und damit sterben auch die meisten europäischen Arten der Menschenartigen aus. Einzig der Oreopithecus überlebt vorest auf einer Insel bei Sardinien/Korsika\n",
    "\n",
    "\n",
    "Quelle: http://www.oteripedia.de/Neogen\n",
    "</div>\n",
    "\n"
   ]
  },
  {
   "cell_type": "markdown",
   "id": "1aa13da8",
   "metadata": {
    "cell_style": "split",
    "slideshow": {
     "slide_type": "-"
    }
   },
   "source": [
    "<div align=\"center\">\n",
    "<img src=\"./imgs/argentavis.png\" width=\"600\"/>\n",
    "    \n",
    "In Südamerika existiert der größte Vogel, der jemals auf der Erde lebte. Der Argentavis magnificens ist wahrscheinlich mit dem Geier verwandt und hat eine Flügelspannweite von 7,20 Metern. Er ist doppelt so groß wie der größte heutige Vogel, der Andenkondor mit 3,30 Metern Flügelspannweite. Die Flügelfläche des Argentavis magnificens beträgt 7 Quadratmeter. Der Vogel wiegt 70-78 Kilogramm. \n",
    "</div>\n",
    "\n"
   ]
  },
  {
   "cell_type": "markdown",
   "id": "4b9d9fa2",
   "metadata": {},
   "source": [
    "### Wie lange dauert es als Top Manager"
   ]
  },
  {
   "cell_type": "code",
   "execution_count": 18,
   "id": "6a5c9da9",
   "metadata": {
    "slideshow": {
     "slide_type": "slide"
    }
   },
   "outputs": [
    {
     "name": "stdout",
     "output_type": "stream",
     "text": [
      "1545000.0\n"
     ]
    }
   ],
   "source": [
    "# Wie lange dauert es als Top-Manager so viel Geld anzuhäufen?\n",
    "einkommen = 100000\n",
    "jahre = vermoegen/ einkommen\n",
    "print(jahre)"
   ]
  },
  {
   "cell_type": "markdown",
   "id": "efddc422",
   "metadata": {
    "slideshow": {
     "slide_type": "slide"
    }
   },
   "source": [
    "### Die Welt vor 1,5 Millionen Jahren"
   ]
  },
  {
   "cell_type": "markdown",
   "id": "49a230d4",
   "metadata": {
    "cell_style": "split",
    "slideshow": {
     "slide_type": "-"
    }
   },
   "source": [
    "![Homo Erectus](./imgs/homo_erectus.png)\n",
    "\n"
   ]
  },
  {
   "cell_type": "markdown",
   "id": "c6920ec0",
   "metadata": {
    "cell_style": "split",
    "slideshow": {
     "slide_type": "-"
    }
   },
   "source": [
    "Im heutigen Kenia lebt der Homo erectus. Er benutzt Faustkeile und ist wahrscheinlich in der Lage Feuer zu machen.\n",
    "\n",
    "Bis er Europa erreicht vergehen weitere 300.000 Jahre.\n",
    "\n",
    "\n",
    "\n",
    "\n",
    "\n",
    "\n",
    "\n",
    "Quelle: http://www.oteripedia.de/Pleistoz%C3%A4n"
   ]
  },
  {
   "cell_type": "markdown",
   "id": "d320738d",
   "metadata": {},
   "source": [
    "# Zurück zu Jeff Bezos: Was macht man mit so viel Geld?"
   ]
  },
  {
   "cell_type": "code",
   "execution_count": 5,
   "id": "e2575623",
   "metadata": {},
   "outputs": [
    {
     "name": "stdout",
     "output_type": "stream",
     "text": [
      "8178.930651138168\n"
     ]
    }
   ],
   "source": [
    "vermoegen = 154500000000\n",
    "\n",
    "# Wie oft könnte er das Banksy's geschreddertes Bild mit Wert von ca. 18,89 Millionen Euro kaufen?\n",
    "kosten_banksy = 18890000 \n",
    "anzahl = vermoegen / kosten_banksy\n",
    "print(anzahl)"
   ]
  },
  {
   "cell_type": "code",
   "execution_count": 4,
   "id": "a018e448",
   "metadata": {},
   "outputs": [
    {
     "name": "stdout",
     "output_type": "stream",
     "text": [
      "1973.6842105263158\n"
     ]
    }
   ],
   "source": [
    "# Wie viele Boeing 737-700 zum Preis von 76 Millionen kann er kaufen?\n",
    "kosten_boeing737 = 76000000      \n",
    "anzahl = vermoegen / kosten_boeing737\n",
    "print(anzahl)"
   ]
  },
  {
   "cell_type": "markdown",
   "id": "9ce5dfe4",
   "metadata": {
    "slideshow": {
     "slide_type": "slide"
    }
   },
   "source": [
    "## Eine kleines Programm dafür..."
   ]
  },
  {
   "cell_type": "code",
   "execution_count": null,
   "id": "561a56de",
   "metadata": {
    "slideshow": {
     "slide_type": "fragment"
    }
   },
   "outputs": [],
   "source": [
    "# Wie oft kann Jeff sich X kaufen\n",
    "vermoegen = 154500000000\n",
    "\n",
    "dinge = input('Dinge: ')\n",
    "kosten = input('Kosten:')\n",
    "\n",
    "anzahl = vermoegen / float(kosten)\n",
    "\n",
    "antwort = f'Bezos kann sich {anzahl} {ding} zum Preis von {kosten} € kaufen.'\n",
    "print(antwort)\n"
   ]
  },
  {
   "cell_type": "markdown",
   "id": "cc1d8c6b",
   "metadata": {
    "slideshow": {
     "slide_type": "slide"
    }
   },
   "source": [
    "# Von der Praxis zur Theorie...."
   ]
  },
  {
   "cell_type": "markdown",
   "id": "70e80535",
   "metadata": {
    "slideshow": {
     "slide_type": "slide"
    }
   },
   "source": [
    "## Variablen\n",
    "\n",
    "Eine Variable ist die Zuweisung eines Wertes zu einem Namen.\n",
    "\n",
    "```\n",
    "<name> = <wert>\n",
    "```\n"
   ]
  },
  {
   "cell_type": "code",
   "execution_count": null,
   "id": "54a3262c",
   "metadata": {
    "slideshow": {
     "slide_type": "-"
    }
   },
   "outputs": [],
   "source": [
    "pi = 3.141592\n",
    "print(pi)"
   ]
  },
  {
   "cell_type": "markdown",
   "id": "f98e3e39",
   "metadata": {
    "slideshow": {
     "slide_type": "fragment"
    }
   },
   "source": [
    "Variablen können sich ändern:"
   ]
  },
  {
   "cell_type": "code",
   "execution_count": null,
   "id": "aee2544c",
   "metadata": {},
   "outputs": [],
   "source": [
    "favourite_fruit = \"banana\"\n",
    "print(favourite_fruit)\n",
    "favourite_fruit = \"strawberry\"\n",
    "print(favourite_fruit)"
   ]
  },
  {
   "cell_type": "code",
   "execution_count": null,
   "id": "73c7866b",
   "metadata": {
    "slideshow": {
     "slide_type": "fragment"
    }
   },
   "outputs": [],
   "source": [
    "vermoegen = 1200\n",
    "kosten_fahrrad = 300\n",
    "vermoegen = vermoegen - kosten_fahrrad\n",
    "print(vermoegen)"
   ]
  },
  {
   "cell_type": "markdown",
   "id": "0af4ed4d",
   "metadata": {
    "slideshow": {
     "slide_type": "slide"
    }
   },
   "source": [
    "## Variablenamen - Regeln & praktische Tipps\n",
    "\n",
    "1. Variablennamen sollten verständlich und aussagekräftig sein\n",
    "\n",
    "2. Variablennamen beginnen immer mit einem Buchstaben oder Unterstrich\n",
    "\n",
    "3. Der Rest des Variablennamens besteht aus Buchstaben, Zahlen oder Unterstrichen\n",
    "\n",
    "4. Variablennamen sind casesensitive (Groß- und Kleinschreibung wird unterschieden)\n",
    "\n",
    "5. Variablennamen können eingebaute Funktionen überscheiben. Daher immer einzigartige, eigenständige Namen verwenden\n",
    "\n"
   ]
  },
  {
   "cell_type": "markdown",
   "id": "c3438422",
   "metadata": {
    "slideshow": {
     "slide_type": "slide"
    }
   },
   "source": [
    "1. Variablennamen sollten verständlich und aussagekräftig sein"
   ]
  },
  {
   "cell_type": "code",
   "execution_count": null,
   "id": "8062f321",
   "metadata": {
    "cell_style": "split",
    "slideshow": {
     "slide_type": "fragment"
    }
   },
   "outputs": [],
   "source": [
    "X = 40075.017\n",
    "print(X)"
   ]
  },
  {
   "cell_type": "code",
   "execution_count": null,
   "id": "78b83e6f",
   "metadata": {
    "cell_style": "split",
    "slideshow": {
     "slide_type": "fragment"
    }
   },
   "outputs": [],
   "source": [
    "erdumfang = 40075.017\n",
    "print(erdumfang)"
   ]
  },
  {
   "cell_type": "markdown",
   "id": "1bebe2b9",
   "metadata": {
    "slideshow": {
     "slide_type": "slide"
    }
   },
   "source": [
    "2. Variablennamen beginnen immer mit einem Buchstaben oder Unterstrich"
   ]
  },
  {
   "cell_type": "code",
   "execution_count": null,
   "id": "41aae09d",
   "metadata": {
    "cell_style": "split",
    "slideshow": {
     "slide_type": "fragment"
    }
   },
   "outputs": [],
   "source": [
    "€ = 172\n",
    "print(€)"
   ]
  },
  {
   "cell_type": "code",
   "execution_count": null,
   "id": "1011c01d",
   "metadata": {
    "cell_style": "split",
    "slideshow": {
     "slide_type": "fragment"
    }
   },
   "outputs": [],
   "source": [
    "euro = 172\n",
    "print(euro)"
   ]
  },
  {
   "cell_type": "code",
   "execution_count": null,
   "id": "3cfefbfe",
   "metadata": {
    "cell_style": "split",
    "slideshow": {
     "slide_type": "fragment"
    }
   },
   "outputs": [],
   "source": [
    "10 = 'zehn'"
   ]
  },
  {
   "cell_type": "code",
   "execution_count": null,
   "id": "505b92ee",
   "metadata": {
    "cell_style": "split",
    "slideshow": {
     "slide_type": "fragment"
    }
   },
   "outputs": [],
   "source": [
    "_10 = 'zehn'"
   ]
  },
  {
   "cell_type": "markdown",
   "id": "0b64fcb1",
   "metadata": {
    "slideshow": {
     "slide_type": "slide"
    }
   },
   "source": [
    "3. Der Rest des Variablennamens kann aus Buchstaben, Zahlen oder Unterstrichen zusammengesetzt sein"
   ]
  },
  {
   "cell_type": "code",
   "execution_count": null,
   "id": "794958f5",
   "metadata": {},
   "outputs": [],
   "source": [
    "student_883245_geburtstag = \"03.09.1996\""
   ]
  },
  {
   "cell_type": "code",
   "execution_count": null,
   "id": "0c1ccf27",
   "metadata": {},
   "outputs": [],
   "source": [
    "student_$10_geburtstag = \"21.02.2001\""
   ]
  },
  {
   "cell_type": "markdown",
   "id": "f7646d06",
   "metadata": {},
   "source": [
    "4. Variablennamen sind casesensitive (Groß- und Kleinschreibung wird unterschieden)"
   ]
  },
  {
   "cell_type": "code",
   "execution_count": null,
   "id": "9068ffea",
   "metadata": {},
   "outputs": [],
   "source": [
    "name = \"Gundula\"\n",
    "print(Name)"
   ]
  },
  {
   "cell_type": "markdown",
   "id": "3b409703",
   "metadata": {},
   "source": [
    "5. Variablennamen können eingebaute Funktionen überscheiben. Daher immer einzigartige, eigenständige Namen verwenden"
   ]
  },
  {
   "cell_type": "code",
   "execution_count": null,
   "id": "d41a981d",
   "metadata": {},
   "outputs": [],
   "source": [
    "x = 3\n",
    "y = 7\n",
    "x = x + y \n",
    "z = x - 7\n",
    "print(z)"
   ]
  },
  {
   "cell_type": "code",
   "execution_count": null,
   "id": "3d91ecf4",
   "metadata": {},
   "outputs": [],
   "source": [
    "help(print)\n",
    "print = \"ACHTUNG - Variabelname entspricht dem Namen einer eingebauten Funktion\"\n",
    "print(print)\n",
    "help(print)"
   ]
  },
  {
   "cell_type": "markdown",
   "id": "a80a6844",
   "metadata": {
    "slideshow": {
     "slide_type": "slide"
    }
   },
   "source": [
    "## Datentypen\n",
    "\n",
    "\n",
    "- **int** - Integer (ganze Zahl) bspw. 4, -72, 12947\n",
    "- **float** - Float (Gleitkommazahl) bspw. 3.2, 4.9813, -2.3, 4.0\n",
    "- **string** - String bspw. 'Hello', \"vorname nachname!\"\n",
    "- **bool**- Boolean: True oder False\n",
    "\n",
    "\n"
   ]
  },
  {
   "cell_type": "code",
   "execution_count": null,
   "id": "8e893320",
   "metadata": {},
   "outputs": [],
   "source": [
    "a = 2\n",
    "b = 300\n",
    "c = -12\n",
    "d = 90348752\n",
    "type(a)"
   ]
  },
  {
   "cell_type": "code",
   "execution_count": null,
   "id": "6aed0509",
   "metadata": {},
   "outputs": [],
   "source": [
    "a + b\n",
    "type(d / a)"
   ]
  },
  {
   "cell_type": "markdown",
   "id": "d1bfe66b",
   "metadata": {},
   "source": [
    "## Eingebaute Funktionen\n",
    "\n",
    "- sind fester Bestandteil der Programmiersprache\n",
    "\n",
    "\n",
    "- Die folgenden Funktionen haben wir schon kennengelernt:\n",
    "\n",
    "    - **print** - zeigt den Wert einer Variable in der Konsole\n",
    "    - **input** - nimmt Input von Nutzer:innen entgegen \n",
    "    - **type** - gibt den Datentyp einer Variabel oder eines Objektes zurück\n",
    "    - **help** - Beschreibung einer Funktion\n",
    "\n"
   ]
  },
  {
   "cell_type": "code",
   "execution_count": 16,
   "id": "f1f2b2b8",
   "metadata": {},
   "outputs": [
    {
     "name": "stdout",
     "output_type": "stream",
     "text": [
      "Help on built-in function print in module builtins:\n",
      "\n",
      "print(...)\n",
      "    print(value, ..., sep=' ', end='\\n', file=sys.stdout, flush=False)\n",
      "    \n",
      "    Prints the values to a stream, or to sys.stdout by default.\n",
      "    Optional keyword arguments:\n",
      "    file:  a file-like object (stream); defaults to the current sys.stdout.\n",
      "    sep:   string inserted between values, default a space.\n",
      "    end:   string appended after the last value, default a newline.\n",
      "    flush: whether to forcibly flush the stream.\n",
      "\n"
     ]
    }
   ],
   "source": [
    "help(print)"
   ]
  },
  {
   "cell_type": "code",
   "execution_count": 17,
   "id": "d8820a80",
   "metadata": {},
   "outputs": [
    {
     "name": "stdout",
     "output_type": "stream",
     "text": [
      "Help on int object:\n",
      "\n",
      "class int(object)\n",
      " |  int([x]) -> integer\n",
      " |  int(x, base=10) -> integer\n",
      " |  \n",
      " |  Convert a number or string to an integer, or return 0 if no arguments\n",
      " |  are given.  If x is a number, return x.__int__().  For floating point\n",
      " |  numbers, this truncates towards zero.\n",
      " |  \n",
      " |  If x is not a number or if base is given, then x must be a string,\n",
      " |  bytes, or bytearray instance representing an integer literal in the\n",
      " |  given base.  The literal can be preceded by '+' or '-' and be surrounded\n",
      " |  by whitespace.  The base defaults to 10.  Valid bases are 0 and 2-36.\n",
      " |  Base 0 means to interpret the base from the string as an integer literal.\n",
      " |  >>> int('0b100', base=0)\n",
      " |  4\n",
      " |  \n",
      " |  Built-in subclasses:\n",
      " |      bool\n",
      " |  \n",
      " |  Methods defined here:\n",
      " |  \n",
      " |  __abs__(self, /)\n",
      " |      abs(self)\n",
      " |  \n",
      " |  __add__(self, value, /)\n",
      " |      Return self+value.\n",
      " |  \n",
      " |  __and__(self, value, /)\n",
      " |      Return self&value.\n",
      " |  \n",
      " |  __bool__(self, /)\n",
      " |      self != 0\n",
      " |  \n",
      " |  __ceil__(...)\n",
      " |      Ceiling of an Integral returns itself.\n",
      " |  \n",
      " |  __divmod__(self, value, /)\n",
      " |      Return divmod(self, value).\n",
      " |  \n",
      " |  __eq__(self, value, /)\n",
      " |      Return self==value.\n",
      " |  \n",
      " |  __float__(self, /)\n",
      " |      float(self)\n",
      " |  \n",
      " |  __floor__(...)\n",
      " |      Flooring an Integral returns itself.\n",
      " |  \n",
      " |  __floordiv__(self, value, /)\n",
      " |      Return self//value.\n",
      " |  \n",
      " |  __format__(self, format_spec, /)\n",
      " |      Default object formatter.\n",
      " |  \n",
      " |  __ge__(self, value, /)\n",
      " |      Return self>=value.\n",
      " |  \n",
      " |  __getattribute__(self, name, /)\n",
      " |      Return getattr(self, name).\n",
      " |  \n",
      " |  __getnewargs__(self, /)\n",
      " |  \n",
      " |  __gt__(self, value, /)\n",
      " |      Return self>value.\n",
      " |  \n",
      " |  __hash__(self, /)\n",
      " |      Return hash(self).\n",
      " |  \n",
      " |  __index__(self, /)\n",
      " |      Return self converted to an integer, if self is suitable for use as an index into a list.\n",
      " |  \n",
      " |  __int__(self, /)\n",
      " |      int(self)\n",
      " |  \n",
      " |  __invert__(self, /)\n",
      " |      ~self\n",
      " |  \n",
      " |  __le__(self, value, /)\n",
      " |      Return self<=value.\n",
      " |  \n",
      " |  __lshift__(self, value, /)\n",
      " |      Return self<<value.\n",
      " |  \n",
      " |  __lt__(self, value, /)\n",
      " |      Return self<value.\n",
      " |  \n",
      " |  __mod__(self, value, /)\n",
      " |      Return self%value.\n",
      " |  \n",
      " |  __mul__(self, value, /)\n",
      " |      Return self*value.\n",
      " |  \n",
      " |  __ne__(self, value, /)\n",
      " |      Return self!=value.\n",
      " |  \n",
      " |  __neg__(self, /)\n",
      " |      -self\n",
      " |  \n",
      " |  __or__(self, value, /)\n",
      " |      Return self|value.\n",
      " |  \n",
      " |  __pos__(self, /)\n",
      " |      +self\n",
      " |  \n",
      " |  __pow__(self, value, mod=None, /)\n",
      " |      Return pow(self, value, mod).\n",
      " |  \n",
      " |  __radd__(self, value, /)\n",
      " |      Return value+self.\n",
      " |  \n",
      " |  __rand__(self, value, /)\n",
      " |      Return value&self.\n",
      " |  \n",
      " |  __rdivmod__(self, value, /)\n",
      " |      Return divmod(value, self).\n",
      " |  \n",
      " |  __repr__(self, /)\n",
      " |      Return repr(self).\n",
      " |  \n",
      " |  __rfloordiv__(self, value, /)\n",
      " |      Return value//self.\n",
      " |  \n",
      " |  __rlshift__(self, value, /)\n",
      " |      Return value<<self.\n",
      " |  \n",
      " |  __rmod__(self, value, /)\n",
      " |      Return value%self.\n",
      " |  \n",
      " |  __rmul__(self, value, /)\n",
      " |      Return value*self.\n",
      " |  \n",
      " |  __ror__(self, value, /)\n",
      " |      Return value|self.\n",
      " |  \n",
      " |  __round__(...)\n",
      " |      Rounding an Integral returns itself.\n",
      " |      Rounding with an ndigits argument also returns an integer.\n",
      " |  \n",
      " |  __rpow__(self, value, mod=None, /)\n",
      " |      Return pow(value, self, mod).\n",
      " |  \n",
      " |  __rrshift__(self, value, /)\n",
      " |      Return value>>self.\n",
      " |  \n",
      " |  __rshift__(self, value, /)\n",
      " |      Return self>>value.\n",
      " |  \n",
      " |  __rsub__(self, value, /)\n",
      " |      Return value-self.\n",
      " |  \n",
      " |  __rtruediv__(self, value, /)\n",
      " |      Return value/self.\n",
      " |  \n",
      " |  __rxor__(self, value, /)\n",
      " |      Return value^self.\n",
      " |  \n",
      " |  __sizeof__(self, /)\n",
      " |      Returns size in memory, in bytes.\n",
      " |  \n",
      " |  __sub__(self, value, /)\n",
      " |      Return self-value.\n",
      " |  \n",
      " |  __truediv__(self, value, /)\n",
      " |      Return self/value.\n",
      " |  \n",
      " |  __trunc__(...)\n",
      " |      Truncating an Integral returns itself.\n",
      " |  \n",
      " |  __xor__(self, value, /)\n",
      " |      Return self^value.\n",
      " |  \n",
      " |  as_integer_ratio(self, /)\n",
      " |      Return integer ratio.\n",
      " |      \n",
      " |      Return a pair of integers, whose ratio is exactly equal to the original int\n",
      " |      and with a positive denominator.\n",
      " |      \n",
      " |      >>> (10).as_integer_ratio()\n",
      " |      (10, 1)\n",
      " |      >>> (-10).as_integer_ratio()\n",
      " |      (-10, 1)\n",
      " |      >>> (0).as_integer_ratio()\n",
      " |      (0, 1)\n",
      " |  \n",
      " |  bit_length(self, /)\n",
      " |      Number of bits necessary to represent self in binary.\n",
      " |      \n",
      " |      >>> bin(37)\n",
      " |      '0b100101'\n",
      " |      >>> (37).bit_length()\n",
      " |      6\n",
      " |  \n",
      " |  conjugate(...)\n",
      " |      Returns self, the complex conjugate of any int.\n",
      " |  \n",
      " |  to_bytes(self, /, length, byteorder, *, signed=False)\n",
      " |      Return an array of bytes representing an integer.\n",
      " |      \n",
      " |      length\n",
      " |        Length of bytes object to use.  An OverflowError is raised if the\n",
      " |        integer is not representable with the given number of bytes.\n",
      " |      byteorder\n",
      " |        The byte order used to represent the integer.  If byteorder is 'big',\n",
      " |        the most significant byte is at the beginning of the byte array.  If\n",
      " |        byteorder is 'little', the most significant byte is at the end of the\n",
      " |        byte array.  To request the native byte order of the host system, use\n",
      " |        `sys.byteorder' as the byte order value.\n",
      " |      signed\n",
      " |        Determines whether two's complement is used to represent the integer.\n",
      " |        If signed is False and a negative integer is given, an OverflowError\n",
      " |        is raised.\n",
      " |  \n",
      " |  ----------------------------------------------------------------------\n",
      " |  Class methods defined here:\n",
      " |  \n",
      " |  from_bytes(bytes, byteorder, *, signed=False) from builtins.type\n",
      " |      Return the integer represented by the given array of bytes.\n",
      " |      \n",
      " |      bytes\n",
      " |        Holds the array of bytes to convert.  The argument must either\n",
      " |        support the buffer protocol or be an iterable object producing bytes.\n",
      " |        Bytes and bytearray are examples of built-in objects that support the\n",
      " |        buffer protocol.\n",
      " |      byteorder\n",
      " |        The byte order used to represent the integer.  If byteorder is 'big',\n",
      " |        the most significant byte is at the beginning of the byte array.  If\n",
      " |        byteorder is 'little', the most significant byte is at the end of the\n",
      " |        byte array.  To request the native byte order of the host system, use\n",
      " |        `sys.byteorder' as the byte order value.\n",
      " |      signed\n",
      " |        Indicates whether two's complement is used to represent the integer.\n",
      " |  \n",
      " |  ----------------------------------------------------------------------\n",
      " |  Static methods defined here:\n",
      " |  \n",
      " |  __new__(*args, **kwargs) from builtins.type\n",
      " |      Create and return a new object.  See help(type) for accurate signature.\n",
      " |  \n",
      " |  ----------------------------------------------------------------------\n",
      " |  Data descriptors defined here:\n",
      " |  \n",
      " |  denominator\n",
      " |      the denominator of a rational number in lowest terms\n",
      " |  \n",
      " |  imag\n",
      " |      the imaginary part of a complex number\n",
      " |  \n",
      " |  numerator\n",
      " |      the numerator of a rational number in lowest terms\n",
      " |  \n",
      " |  real\n",
      " |      the real part of a complex number\n",
      "\n"
     ]
    }
   ],
   "source": [
    "help(3)"
   ]
  },
  {
   "cell_type": "markdown",
   "id": "120609cd",
   "metadata": {
    "slideshow": {
     "slide_type": "slide"
    }
   },
   "source": [
    "## Fehlermeldungen\n",
    "\n",
    "Direktes Feedback dass meist recht genau sagt wo der Fehler liegt:\n",
    "\n",
    "\n"
   ]
  },
  {
   "cell_type": "code",
   "execution_count": null,
   "id": "7e76c5fa",
   "metadata": {
    "slideshow": {
     "slide_type": "fragment"
    }
   },
   "outputs": [],
   "source": [
    "print \"zwanzig\""
   ]
  },
  {
   "cell_type": "code",
   "execution_count": null,
   "id": "b8364444",
   "metadata": {
    "slideshow": {
     "slide_type": "fragment"
    }
   },
   "outputs": [],
   "source": [
    "'zehn' + 3"
   ]
  },
  {
   "cell_type": "code",
   "execution_count": null,
   "id": "5ae9718f",
   "metadata": {
    "slideshow": {
     "slide_type": "fragment"
    }
   },
   "outputs": [],
   "source": [
    "1_variable = 'wert'"
   ]
  },
  {
   "cell_type": "markdown",
   "id": "a690d525",
   "metadata": {
    "slideshow": {
     "slide_type": "slide"
    }
   },
   "source": [
    "# Praxis Tipps\n",
    "\n",
    "\n",
    "### #1 Üben, Üben, Üben\n",
    "\n",
    "### #2 Fehler helfen beim Lernen\n",
    "\n",
    "### #3 Lest die Fehlermeldungen\n",
    "\n",
    "### #4 Tauscht euch aus\n",
    "\n"
   ]
  },
  {
   "cell_type": "code",
   "execution_count": 19,
   "id": "b9aaf20f",
   "metadata": {
    "slideshow": {
     "slide_type": "skip"
    }
   },
   "outputs": [
    {
     "data": {
      "text/html": [
       "<div id=\"07770aeb72c6df96\"></div>\n",
       "    <script type=\"text/javascript\">\n",
       "        $(function(){\n",
       "            var p = $(\"#07770aeb72c6df96\");\n",
       "            if (p.length==0) return;\n",
       "            while (!p.hasClass(\"cell\")) {\n",
       "                p=p.parent();\n",
       "                if (p.prop(\"tagName\") ==\"body\") return;\n",
       "            }\n",
       "            var cell = p;\n",
       "            cell.find(\".input\").addClass(\"hide-in-slideshow\")\n",
       "        });\n",
       "    </script>"
      ]
     },
     "metadata": {},
     "output_type": "display_data"
    }
   ],
   "source": [
    "def hide_code_in_slideshow():   \n",
    "    from IPython import display\n",
    "    import binascii\n",
    "    import os\n",
    "    uid = binascii.hexlify(os.urandom(8)).decode()    \n",
    "    html = \"\"\"<div id=\"%s\"></div>\n",
    "    <script type=\"text/javascript\">\n",
    "        $(function(){\n",
    "            var p = $(\"#%s\");\n",
    "            if (p.length==0) return;\n",
    "            while (!p.hasClass(\"cell\")) {\n",
    "                p=p.parent();\n",
    "                if (p.prop(\"tagName\") ==\"body\") return;\n",
    "            }\n",
    "            var cell = p;\n",
    "            cell.find(\".input\").addClass(\"hide-in-slideshow\")\n",
    "        });\n",
    "    </script>\"\"\" % (uid, uid)\n",
    "    display.display_html(html, raw=True)\n",
    "    \n",
    "hide_code_in_slideshow()\n"
   ]
  }
 ],
 "metadata": {
  "celltoolbar": "Slideshow",
  "kernelspec": {
   "display_name": "Python 3 (ipykernel)",
   "language": "python",
   "name": "python3"
  },
  "language_info": {
   "codemirror_mode": {
    "name": "ipython",
    "version": 3
   },
   "file_extension": ".py",
   "mimetype": "text/x-python",
   "name": "python",
   "nbconvert_exporter": "python",
   "pygments_lexer": "ipython3",
   "version": "3.8.10"
  }
 },
 "nbformat": 4,
 "nbformat_minor": 5
}
