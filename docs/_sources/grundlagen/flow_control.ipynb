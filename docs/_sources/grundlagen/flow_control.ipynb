{
 "cells": [
  {
   "cell_type": "markdown",
   "metadata": {},
   "source": [
    "# Flow Control\n",
    "\n",
    "Für mehr Kontrolle in For- und While-Schleifen sorgen die folgenden Anweisungen:\n",
    "\n",
    "**break** - bricht eine Schleife frühzeitig ab\n",
    "\n",
    "**continue** - überspringt die aktuelle Iteration. Der Rest der Schleife wird jedoch weiter ausgeführt \n",
    "\n",
    "**pass** - ignoriert eine Bedingung und führt die Schleife weiter aus"
   ]
  },
  {
   "cell_type": "code",
   "execution_count": 19,
   "metadata": {},
   "outputs": [
    {
     "name": "stdout",
     "output_type": "stream",
     "text": [
      "Start Loop\n",
      "\n",
      "Number is 0\n",
      "Number is 1\n",
      "Number is 2\n",
      "Number is 3\n",
      "Number is 4\n",
      "Number is 5\n",
      "Number is 6\n",
      "Number is 7\n",
      "Number is 8\n",
      "Number is 9\n",
      "\n",
      " End Loop\n"
     ]
    }
   ],
   "source": [
    "# Normale Schleife\n",
    "print('Start Loop\\n')\n",
    "\n",
    "for number in range(10):\n",
    "    print('Number is ' + str(number))\n",
    "\n",
    "print('\\n End Loop')"
   ]
  },
  {
   "cell_type": "code",
   "execution_count": 8,
   "metadata": {},
   "outputs": [
    {
     "name": "stdout",
     "output_type": "stream",
     "text": [
      "Start Loop\n",
      "\n",
      "Number is 0\n",
      "Number is 1\n",
      "Number is 2\n",
      "Number is 3\n",
      "Number is 4\n",
      "\n",
      " End Loop\n"
     ]
    }
   ],
   "source": [
    "# Break\n",
    "print('Start Loop\\n')\n",
    "\n",
    "for number in range(10):\n",
    "    if number == 5:\n",
    "        break    \n",
    "    print('Number is ' + str(number))\n",
    "\n",
    "print('\\n End Loop')"
   ]
  },
  {
   "cell_type": "code",
   "execution_count": 9,
   "metadata": {
    "scrolled": false
   },
   "outputs": [
    {
     "name": "stdout",
     "output_type": "stream",
     "text": [
      "Start Loop\n",
      "\n",
      "Number is 0\n",
      "Number is 1\n",
      "Number is 2\n",
      "Number is 3\n",
      "Number is 4\n",
      "Number is 6\n",
      "Number is 7\n",
      "Number is 8\n",
      "Number is 9\n",
      "\n",
      " End Loop\n"
     ]
    }
   ],
   "source": [
    "# Continue\n",
    "print('Start Loop\\n')\n",
    "\n",
    "for number in range(10):\n",
    "    if number == 5:\n",
    "        continue    \n",
    "    print('Number is ' + str(number))\n",
    "\n",
    "print('\\n End Loop')"
   ]
  },
  {
   "cell_type": "code",
   "execution_count": 10,
   "metadata": {
    "scrolled": false
   },
   "outputs": [
    {
     "name": "stdout",
     "output_type": "stream",
     "text": [
      "Start Loop\n",
      "\n",
      "Number is 0\n",
      "Number is 1\n",
      "Number is 2\n",
      "Number is 3\n",
      "Number is 4\n",
      "Number is 5\n",
      "Number is 6\n",
      "Number is 7\n",
      "Number is 8\n",
      "Number is 9\n",
      "\n",
      " End Loop\n"
     ]
    }
   ],
   "source": [
    "# Pass\n",
    "print('Start Loop\\n')\n",
    "\n",
    "for number in range(10):\n",
    "    if number == 5:\n",
    "        pass    \n",
    "    print('Number is ' + str(number))\n",
    "\n",
    "print('\\n End Loop')"
   ]
  },
  {
   "cell_type": "markdown",
   "metadata": {},
   "source": [
    "## Pass\n",
    "\n",
    "`pass` wird häufig auch als Platzhalter eingefügt wenn beispielweise Funktionen noch nicht implementiert sind."
   ]
  },
  {
   "cell_type": "code",
   "execution_count": 18,
   "metadata": {},
   "outputs": [],
   "source": [
    "def my_function():\n",
    "    pass\n",
    "\n",
    "my_function()"
   ]
  }
 ],
 "metadata": {
  "kernelspec": {
   "display_name": "Python 3 (ipykernel)",
   "language": "python",
   "name": "python3"
  },
  "language_info": {
   "codemirror_mode": {
    "name": "ipython",
    "version": 3
   },
   "file_extension": ".py",
   "mimetype": "text/x-python",
   "name": "python",
   "nbconvert_exporter": "python",
   "pygments_lexer": "ipython3",
   "version": "3.9.15"
  }
 },
 "nbformat": 4,
 "nbformat_minor": 2
}
