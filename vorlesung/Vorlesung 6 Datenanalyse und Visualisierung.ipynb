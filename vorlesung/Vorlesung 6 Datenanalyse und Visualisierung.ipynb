{
 "cells": [
  {
   "cell_type": "markdown",
   "id": "d9a3430d",
   "metadata": {
    "slideshow": {
     "slide_type": "slide"
    }
   },
   "source": [
    "# Datenjournalismus in Python - \n",
    "# Eine praktische Einführung in die Programmierung\n",
    "\n",
    "\n",
    "### Natalie Widmann\n",
    "\n",
    "\n",
    "\n",
    "\n",
    "Wintersemester 2022 / 2023\n",
    "\n",
    "\n",
    "Universität Leipzig\n",
    "\n",
    "\n",
    "\n"
   ]
  },
  {
   "cell_type": "markdown",
   "id": "ecac78fb",
   "metadata": {
    "slideshow": {
     "slide_type": "slide"
    }
   },
   "source": [
    "## Was sind Daten?\n",
    "\n",
    "\n",
    "### Strukturierte Daten\n",
    "\n",
    "Strukturierte Daten sind gut organisiert und so formattiert, dass es einfach ist sie zu durchsuchen, sie maschinell zu lesen oder zu verarbeiten. Das einfachste Beispiel ist eine Tabelle in der jede Spalte eine Kategorie oder einen Wert festlegt. \n",
    "\n",
    "\n",
    "### Unstrukturierte Daten\n",
    "\n",
    "Im Gegensatz dazu sind unstrukturierte Daten nicht in einem bestimmten Format oder einer festgelegten Struktur verfügbar. Dazu zählen Texte, Bilder, Social Media Feeds, aber auch Audio Files, etc.\n",
    "\n",
    "\n",
    "### Semi-Strukturierte Daten\n",
    "\n",
    "Semi-strukturierte Daten bilden eine Mischform. Beispielsweise eine Tabelle mit E-Mail Daten, in der Empfänger, Betreff, Datum und Absender strukturierte Informationen enthalten, der eigentliche Text jedoch unstrukturiert ist. "
   ]
  },
  {
   "cell_type": "markdown",
   "id": "218a0599",
   "metadata": {
    "slideshow": {
     "slide_type": "slide"
    }
   },
   "source": [
    "## Was sind Daten?\n",
    "\n",
    "![Daten](../imgs/data.png)"
   ]
  },
  {
   "cell_type": "markdown",
   "id": "a1c7d68a",
   "metadata": {
    "slideshow": {
     "slide_type": "slide"
    }
   },
   "source": [
    "### Aggregated figures for Natural Disasters in EM-DAT\n",
    "\n",
    "Link: https://data.humdata.org/dataset/emdat-country-profiles\n",
    "\n",
    "\n",
    "In 1988, the **Centre for Research on the Epidemiology of Disasters (CRED)** launched the **Emergency Events Database (EM-DAT)**. EM-DAT was created with the initial support of the **World Health Organisation (WHO) and the Belgian Government**.\n",
    "\n",
    "The main objective of the database is to **serve the purposes of humanitarian action at national and international levels**. The initiative aims to rationalise decision making for disaster preparedness, as well as provide an objective base for vulnerability assessment and priority setting.\n",
    "\n",
    "EM-DAT contains essential core data on the **occurrence and effects of over 22,000 mass disasters in the world from 1900 to the present day**. The database is compiled from various sources, including UN agencies, non-governmental organisations, insurance companies, research institutes and press agencies.\n",
    "\n"
   ]
  },
  {
   "cell_type": "code",
   "execution_count": 1,
   "id": "8658426c",
   "metadata": {
    "slideshow": {
     "slide_type": "slide"
    }
   },
   "outputs": [
    {
     "name": "stdout",
     "output_type": "stream",
     "text": [
      "Defaulting to user installation because normal site-packages is not writeable\n",
      "Requirement already satisfied: pandas in /home/natalie/.local/lib/python3.9/site-packages (1.5.1)\n",
      "Requirement already satisfied: numpy>=1.20.3 in /home/natalie/.local/lib/python3.9/site-packages (from pandas) (1.23.4)\n",
      "Requirement already satisfied: pytz>=2020.1 in /home/natalie/.local/lib/python3.9/site-packages (from pandas) (2022.6)\n",
      "Requirement already satisfied: python-dateutil>=2.8.1 in /home/natalie/.local/lib/python3.9/site-packages (from pandas) (2.8.2)\n",
      "Requirement already satisfied: six>=1.5 in /usr/lib/python3/dist-packages (from python-dateutil>=2.8.1->pandas) (1.14.0)\n",
      "Defaulting to user installation because normal site-packages is not writeable\n",
      "Requirement already satisfied: openpyxl in /home/natalie/.local/lib/python3.9/site-packages (3.0.10)\n",
      "Requirement already satisfied: et-xmlfile in /home/natalie/.local/lib/python3.9/site-packages (from openpyxl) (1.1.0)\n"
     ]
    }
   ],
   "source": [
    "# Install a pip package im Jupyter Notebook\n",
    "!pip3 install pandas\n",
    "!pip3 install openpyxl"
   ]
  },
  {
   "cell_type": "code",
   "execution_count": 2,
   "id": "9f32b8a8",
   "metadata": {
    "slideshow": {
     "slide_type": "slide"
    }
   },
   "outputs": [
    {
     "name": "stderr",
     "output_type": "stream",
     "text": [
      "/home/natalie/.local/lib/python3.9/site-packages/openpyxl/styles/stylesheet.py:226: UserWarning: Workbook contains no default style, apply openpyxl's default\n",
      "  warn(\"Workbook contains no default style, apply openpyxl's default\")\n"
     ]
    }
   ],
   "source": [
    "import pandas as pd\n",
    "data = pd.read_excel('../data/emdat.xlsx', engine=\"openpyxl\")"
   ]
  },
  {
   "cell_type": "code",
   "execution_count": 3,
   "id": "8c93e778",
   "metadata": {},
   "outputs": [
    {
     "data": {
      "text/html": [
       "<div>\n",
       "<style scoped>\n",
       "    .dataframe tbody tr th:only-of-type {\n",
       "        vertical-align: middle;\n",
       "    }\n",
       "\n",
       "    .dataframe tbody tr th {\n",
       "        vertical-align: top;\n",
       "    }\n",
       "\n",
       "    .dataframe thead th {\n",
       "        text-align: right;\n",
       "    }\n",
       "</style>\n",
       "<table border=\"1\" class=\"dataframe\">\n",
       "  <thead>\n",
       "    <tr style=\"text-align: right;\">\n",
       "      <th></th>\n",
       "      <th>Year</th>\n",
       "      <th>Country</th>\n",
       "      <th>ISO</th>\n",
       "      <th>Disaster Group</th>\n",
       "      <th>Disaster Subroup</th>\n",
       "      <th>Disaster Type</th>\n",
       "      <th>Disaster Subtype</th>\n",
       "      <th>Total Events</th>\n",
       "      <th>Total Affected</th>\n",
       "      <th>Total Deaths</th>\n",
       "      <th>Total Damage (USD, original)</th>\n",
       "      <th>Total Damage (USD, adjusted)</th>\n",
       "      <th>CPI</th>\n",
       "    </tr>\n",
       "  </thead>\n",
       "  <tbody>\n",
       "    <tr>\n",
       "      <th>0</th>\n",
       "      <td>#date +occurred</td>\n",
       "      <td>#country +name</td>\n",
       "      <td>#country +code</td>\n",
       "      <td>#cause +group</td>\n",
       "      <td>#cause +subgroup</td>\n",
       "      <td>#cause +type</td>\n",
       "      <td>#cause +subtype</td>\n",
       "      <td>#frequency</td>\n",
       "      <td>#affected +ind</td>\n",
       "      <td>#affected +ind +killed</td>\n",
       "      <td>NaN</td>\n",
       "      <td>#value +usd</td>\n",
       "      <td>NaN</td>\n",
       "    </tr>\n",
       "    <tr>\n",
       "      <th>1</th>\n",
       "      <td>1900</td>\n",
       "      <td>Cabo Verde</td>\n",
       "      <td>CPV</td>\n",
       "      <td>Natural</td>\n",
       "      <td>Climatological</td>\n",
       "      <td>Drought</td>\n",
       "      <td>Drought</td>\n",
       "      <td>1</td>\n",
       "      <td>NaN</td>\n",
       "      <td>11000</td>\n",
       "      <td>NaN</td>\n",
       "      <td>NaN</td>\n",
       "      <td>3.077091</td>\n",
       "    </tr>\n",
       "    <tr>\n",
       "      <th>2</th>\n",
       "      <td>1900</td>\n",
       "      <td>India</td>\n",
       "      <td>IND</td>\n",
       "      <td>Natural</td>\n",
       "      <td>Climatological</td>\n",
       "      <td>Drought</td>\n",
       "      <td>Drought</td>\n",
       "      <td>1</td>\n",
       "      <td>NaN</td>\n",
       "      <td>1250000</td>\n",
       "      <td>NaN</td>\n",
       "      <td>NaN</td>\n",
       "      <td>3.077091</td>\n",
       "    </tr>\n",
       "    <tr>\n",
       "      <th>3</th>\n",
       "      <td>1900</td>\n",
       "      <td>Jamaica</td>\n",
       "      <td>JAM</td>\n",
       "      <td>Natural</td>\n",
       "      <td>Hydrological</td>\n",
       "      <td>Flood</td>\n",
       "      <td>NaN</td>\n",
       "      <td>1</td>\n",
       "      <td>NaN</td>\n",
       "      <td>300</td>\n",
       "      <td>NaN</td>\n",
       "      <td>NaN</td>\n",
       "      <td>3.077091</td>\n",
       "    </tr>\n",
       "    <tr>\n",
       "      <th>4</th>\n",
       "      <td>1900</td>\n",
       "      <td>Japan</td>\n",
       "      <td>JPN</td>\n",
       "      <td>Natural</td>\n",
       "      <td>Geophysical</td>\n",
       "      <td>Volcanic activity</td>\n",
       "      <td>Ash fall</td>\n",
       "      <td>1</td>\n",
       "      <td>NaN</td>\n",
       "      <td>30</td>\n",
       "      <td>NaN</td>\n",
       "      <td>NaN</td>\n",
       "      <td>3.077091</td>\n",
       "    </tr>\n",
       "    <tr>\n",
       "      <th>...</th>\n",
       "      <td>...</td>\n",
       "      <td>...</td>\n",
       "      <td>...</td>\n",
       "      <td>...</td>\n",
       "      <td>...</td>\n",
       "      <td>...</td>\n",
       "      <td>...</td>\n",
       "      <td>...</td>\n",
       "      <td>...</td>\n",
       "      <td>...</td>\n",
       "      <td>...</td>\n",
       "      <td>...</td>\n",
       "      <td>...</td>\n",
       "    </tr>\n",
       "    <tr>\n",
       "      <th>10338</th>\n",
       "      <td>2022</td>\n",
       "      <td>Yemen</td>\n",
       "      <td>YEM</td>\n",
       "      <td>Natural</td>\n",
       "      <td>Hydrological</td>\n",
       "      <td>Flood</td>\n",
       "      <td>Flash flood</td>\n",
       "      <td>1</td>\n",
       "      <td>3400</td>\n",
       "      <td>13</td>\n",
       "      <td>NaN</td>\n",
       "      <td>NaN</td>\n",
       "      <td>NaN</td>\n",
       "    </tr>\n",
       "    <tr>\n",
       "      <th>10339</th>\n",
       "      <td>2022</td>\n",
       "      <td>South Africa</td>\n",
       "      <td>ZAF</td>\n",
       "      <td>Natural</td>\n",
       "      <td>Hydrological</td>\n",
       "      <td>Flood</td>\n",
       "      <td>NaN</td>\n",
       "      <td>7</td>\n",
       "      <td>143119</td>\n",
       "      <td>562</td>\n",
       "      <td>3.164000e+09</td>\n",
       "      <td>NaN</td>\n",
       "      <td>NaN</td>\n",
       "    </tr>\n",
       "    <tr>\n",
       "      <th>10340</th>\n",
       "      <td>2022</td>\n",
       "      <td>Zambia</td>\n",
       "      <td>ZMB</td>\n",
       "      <td>Natural</td>\n",
       "      <td>Hydrological</td>\n",
       "      <td>Flood</td>\n",
       "      <td>NaN</td>\n",
       "      <td>1</td>\n",
       "      <td>15000</td>\n",
       "      <td>3</td>\n",
       "      <td>NaN</td>\n",
       "      <td>NaN</td>\n",
       "      <td>NaN</td>\n",
       "    </tr>\n",
       "    <tr>\n",
       "      <th>10341</th>\n",
       "      <td>2022</td>\n",
       "      <td>Zimbabwe</td>\n",
       "      <td>ZWE</td>\n",
       "      <td>Natural</td>\n",
       "      <td>Hydrological</td>\n",
       "      <td>Flood</td>\n",
       "      <td>NaN</td>\n",
       "      <td>1</td>\n",
       "      <td>NaN</td>\n",
       "      <td>NaN</td>\n",
       "      <td>NaN</td>\n",
       "      <td>NaN</td>\n",
       "      <td>NaN</td>\n",
       "    </tr>\n",
       "    <tr>\n",
       "      <th>10342</th>\n",
       "      <td>2022</td>\n",
       "      <td>Zimbabwe</td>\n",
       "      <td>ZWE</td>\n",
       "      <td>Natural</td>\n",
       "      <td>Meteorological</td>\n",
       "      <td>Storm</td>\n",
       "      <td>Tropical cyclone</td>\n",
       "      <td>1</td>\n",
       "      <td>3000</td>\n",
       "      <td>NaN</td>\n",
       "      <td>NaN</td>\n",
       "      <td>NaN</td>\n",
       "      <td>NaN</td>\n",
       "    </tr>\n",
       "  </tbody>\n",
       "</table>\n",
       "<p>10343 rows × 13 columns</p>\n",
       "</div>"
      ],
      "text/plain": [
       "                  Year         Country             ISO Disaster Group  \\\n",
       "0      #date +occurred  #country +name  #country +code  #cause +group   \n",
       "1                 1900      Cabo Verde             CPV        Natural   \n",
       "2                 1900           India             IND        Natural   \n",
       "3                 1900         Jamaica             JAM        Natural   \n",
       "4                 1900           Japan             JPN        Natural   \n",
       "...                ...             ...             ...            ...   \n",
       "10338             2022           Yemen             YEM        Natural   \n",
       "10339             2022    South Africa             ZAF        Natural   \n",
       "10340             2022          Zambia             ZMB        Natural   \n",
       "10341             2022        Zimbabwe             ZWE        Natural   \n",
       "10342             2022        Zimbabwe             ZWE        Natural   \n",
       "\n",
       "       Disaster Subroup      Disaster Type  Disaster Subtype Total Events  \\\n",
       "0      #cause +subgroup       #cause +type   #cause +subtype   #frequency   \n",
       "1        Climatological            Drought           Drought            1   \n",
       "2        Climatological            Drought           Drought            1   \n",
       "3          Hydrological              Flood               NaN            1   \n",
       "4           Geophysical  Volcanic activity          Ash fall            1   \n",
       "...                 ...                ...               ...          ...   \n",
       "10338      Hydrological              Flood       Flash flood            1   \n",
       "10339      Hydrological              Flood               NaN            7   \n",
       "10340      Hydrological              Flood               NaN            1   \n",
       "10341      Hydrological              Flood               NaN            1   \n",
       "10342    Meteorological              Storm  Tropical cyclone            1   \n",
       "\n",
       "       Total Affected            Total Deaths  Total Damage (USD, original)  \\\n",
       "0      #affected +ind  #affected +ind +killed                           NaN   \n",
       "1                 NaN                   11000                           NaN   \n",
       "2                 NaN                 1250000                           NaN   \n",
       "3                 NaN                     300                           NaN   \n",
       "4                 NaN                      30                           NaN   \n",
       "...               ...                     ...                           ...   \n",
       "10338            3400                      13                           NaN   \n",
       "10339          143119                     562                  3.164000e+09   \n",
       "10340           15000                       3                           NaN   \n",
       "10341             NaN                     NaN                           NaN   \n",
       "10342            3000                     NaN                           NaN   \n",
       "\n",
       "      Total Damage (USD, adjusted)       CPI  \n",
       "0                      #value +usd       NaN  \n",
       "1                              NaN  3.077091  \n",
       "2                              NaN  3.077091  \n",
       "3                              NaN  3.077091  \n",
       "4                              NaN  3.077091  \n",
       "...                            ...       ...  \n",
       "10338                          NaN       NaN  \n",
       "10339                          NaN       NaN  \n",
       "10340                          NaN       NaN  \n",
       "10341                          NaN       NaN  \n",
       "10342                          NaN       NaN  \n",
       "\n",
       "[10343 rows x 13 columns]"
      ]
     },
     "execution_count": 3,
     "metadata": {},
     "output_type": "execute_result"
    }
   ],
   "source": [
    "data"
   ]
  },
  {
   "cell_type": "markdown",
   "id": "e9751370",
   "metadata": {},
   "source": [
    "## Data Cleaning\n",
    "\n",
    "Entferne erste Zeile"
   ]
  },
  {
   "cell_type": "code",
   "execution_count": 4,
   "id": "2b0a3698",
   "metadata": {
    "slideshow": {
     "slide_type": "fragment"
    }
   },
   "outputs": [],
   "source": [
    "data = data.drop(index=0)"
   ]
  },
  {
   "cell_type": "markdown",
   "id": "27d31bfb",
   "metadata": {},
   "source": [
    "Änderung des Datentyps für integeger und float Spalten"
   ]
  },
  {
   "cell_type": "code",
   "execution_count": 5,
   "id": "5d5deef2",
   "metadata": {
    "slideshow": {
     "slide_type": "slide"
    }
   },
   "outputs": [],
   "source": [
    "cols = ['Year', 'Total Events', 'Total Affected', 'Total Deaths', 'Total Damage (USD, adjusted)']\n",
    "for col in cols:\n",
    "    data[col] = pd.to_numeric(data[col])"
   ]
  },
  {
   "cell_type": "code",
   "execution_count": 6,
   "id": "0a134e4c",
   "metadata": {
    "scrolled": true
   },
   "outputs": [
    {
     "data": {
      "text/html": [
       "<div>\n",
       "<style scoped>\n",
       "    .dataframe tbody tr th:only-of-type {\n",
       "        vertical-align: middle;\n",
       "    }\n",
       "\n",
       "    .dataframe tbody tr th {\n",
       "        vertical-align: top;\n",
       "    }\n",
       "\n",
       "    .dataframe thead th {\n",
       "        text-align: right;\n",
       "    }\n",
       "</style>\n",
       "<table border=\"1\" class=\"dataframe\">\n",
       "  <thead>\n",
       "    <tr style=\"text-align: right;\">\n",
       "      <th></th>\n",
       "      <th>Year</th>\n",
       "      <th>Country</th>\n",
       "      <th>ISO</th>\n",
       "      <th>Disaster Group</th>\n",
       "      <th>Disaster Subroup</th>\n",
       "      <th>Disaster Type</th>\n",
       "      <th>Disaster Subtype</th>\n",
       "      <th>Total Events</th>\n",
       "      <th>Total Affected</th>\n",
       "      <th>Total Deaths</th>\n",
       "      <th>Total Damage (USD, original)</th>\n",
       "      <th>Total Damage (USD, adjusted)</th>\n",
       "      <th>CPI</th>\n",
       "    </tr>\n",
       "  </thead>\n",
       "  <tbody>\n",
       "    <tr>\n",
       "      <th>1</th>\n",
       "      <td>1900</td>\n",
       "      <td>Cabo Verde</td>\n",
       "      <td>CPV</td>\n",
       "      <td>Natural</td>\n",
       "      <td>Climatological</td>\n",
       "      <td>Drought</td>\n",
       "      <td>Drought</td>\n",
       "      <td>1</td>\n",
       "      <td>NaN</td>\n",
       "      <td>11000.0</td>\n",
       "      <td>NaN</td>\n",
       "      <td>NaN</td>\n",
       "      <td>3.077091</td>\n",
       "    </tr>\n",
       "    <tr>\n",
       "      <th>2</th>\n",
       "      <td>1900</td>\n",
       "      <td>India</td>\n",
       "      <td>IND</td>\n",
       "      <td>Natural</td>\n",
       "      <td>Climatological</td>\n",
       "      <td>Drought</td>\n",
       "      <td>Drought</td>\n",
       "      <td>1</td>\n",
       "      <td>NaN</td>\n",
       "      <td>1250000.0</td>\n",
       "      <td>NaN</td>\n",
       "      <td>NaN</td>\n",
       "      <td>3.077091</td>\n",
       "    </tr>\n",
       "    <tr>\n",
       "      <th>3</th>\n",
       "      <td>1900</td>\n",
       "      <td>Jamaica</td>\n",
       "      <td>JAM</td>\n",
       "      <td>Natural</td>\n",
       "      <td>Hydrological</td>\n",
       "      <td>Flood</td>\n",
       "      <td>NaN</td>\n",
       "      <td>1</td>\n",
       "      <td>NaN</td>\n",
       "      <td>300.0</td>\n",
       "      <td>NaN</td>\n",
       "      <td>NaN</td>\n",
       "      <td>3.077091</td>\n",
       "    </tr>\n",
       "    <tr>\n",
       "      <th>4</th>\n",
       "      <td>1900</td>\n",
       "      <td>Japan</td>\n",
       "      <td>JPN</td>\n",
       "      <td>Natural</td>\n",
       "      <td>Geophysical</td>\n",
       "      <td>Volcanic activity</td>\n",
       "      <td>Ash fall</td>\n",
       "      <td>1</td>\n",
       "      <td>NaN</td>\n",
       "      <td>30.0</td>\n",
       "      <td>NaN</td>\n",
       "      <td>NaN</td>\n",
       "      <td>3.077091</td>\n",
       "    </tr>\n",
       "    <tr>\n",
       "      <th>5</th>\n",
       "      <td>1900</td>\n",
       "      <td>Turkey</td>\n",
       "      <td>TUR</td>\n",
       "      <td>Natural</td>\n",
       "      <td>Geophysical</td>\n",
       "      <td>Earthquake</td>\n",
       "      <td>Ground movement</td>\n",
       "      <td>1</td>\n",
       "      <td>NaN</td>\n",
       "      <td>140.0</td>\n",
       "      <td>NaN</td>\n",
       "      <td>NaN</td>\n",
       "      <td>3.077091</td>\n",
       "    </tr>\n",
       "    <tr>\n",
       "      <th>...</th>\n",
       "      <td>...</td>\n",
       "      <td>...</td>\n",
       "      <td>...</td>\n",
       "      <td>...</td>\n",
       "      <td>...</td>\n",
       "      <td>...</td>\n",
       "      <td>...</td>\n",
       "      <td>...</td>\n",
       "      <td>...</td>\n",
       "      <td>...</td>\n",
       "      <td>...</td>\n",
       "      <td>...</td>\n",
       "      <td>...</td>\n",
       "    </tr>\n",
       "    <tr>\n",
       "      <th>10338</th>\n",
       "      <td>2022</td>\n",
       "      <td>Yemen</td>\n",
       "      <td>YEM</td>\n",
       "      <td>Natural</td>\n",
       "      <td>Hydrological</td>\n",
       "      <td>Flood</td>\n",
       "      <td>Flash flood</td>\n",
       "      <td>1</td>\n",
       "      <td>3400.0</td>\n",
       "      <td>13.0</td>\n",
       "      <td>NaN</td>\n",
       "      <td>NaN</td>\n",
       "      <td>NaN</td>\n",
       "    </tr>\n",
       "    <tr>\n",
       "      <th>10339</th>\n",
       "      <td>2022</td>\n",
       "      <td>South Africa</td>\n",
       "      <td>ZAF</td>\n",
       "      <td>Natural</td>\n",
       "      <td>Hydrological</td>\n",
       "      <td>Flood</td>\n",
       "      <td>NaN</td>\n",
       "      <td>7</td>\n",
       "      <td>143119.0</td>\n",
       "      <td>562.0</td>\n",
       "      <td>3.164000e+09</td>\n",
       "      <td>NaN</td>\n",
       "      <td>NaN</td>\n",
       "    </tr>\n",
       "    <tr>\n",
       "      <th>10340</th>\n",
       "      <td>2022</td>\n",
       "      <td>Zambia</td>\n",
       "      <td>ZMB</td>\n",
       "      <td>Natural</td>\n",
       "      <td>Hydrological</td>\n",
       "      <td>Flood</td>\n",
       "      <td>NaN</td>\n",
       "      <td>1</td>\n",
       "      <td>15000.0</td>\n",
       "      <td>3.0</td>\n",
       "      <td>NaN</td>\n",
       "      <td>NaN</td>\n",
       "      <td>NaN</td>\n",
       "    </tr>\n",
       "    <tr>\n",
       "      <th>10341</th>\n",
       "      <td>2022</td>\n",
       "      <td>Zimbabwe</td>\n",
       "      <td>ZWE</td>\n",
       "      <td>Natural</td>\n",
       "      <td>Hydrological</td>\n",
       "      <td>Flood</td>\n",
       "      <td>NaN</td>\n",
       "      <td>1</td>\n",
       "      <td>NaN</td>\n",
       "      <td>NaN</td>\n",
       "      <td>NaN</td>\n",
       "      <td>NaN</td>\n",
       "      <td>NaN</td>\n",
       "    </tr>\n",
       "    <tr>\n",
       "      <th>10342</th>\n",
       "      <td>2022</td>\n",
       "      <td>Zimbabwe</td>\n",
       "      <td>ZWE</td>\n",
       "      <td>Natural</td>\n",
       "      <td>Meteorological</td>\n",
       "      <td>Storm</td>\n",
       "      <td>Tropical cyclone</td>\n",
       "      <td>1</td>\n",
       "      <td>3000.0</td>\n",
       "      <td>NaN</td>\n",
       "      <td>NaN</td>\n",
       "      <td>NaN</td>\n",
       "      <td>NaN</td>\n",
       "    </tr>\n",
       "  </tbody>\n",
       "</table>\n",
       "<p>10342 rows × 13 columns</p>\n",
       "</div>"
      ],
      "text/plain": [
       "       Year       Country  ISO Disaster Group Disaster Subroup  \\\n",
       "1      1900    Cabo Verde  CPV        Natural   Climatological   \n",
       "2      1900         India  IND        Natural   Climatological   \n",
       "3      1900       Jamaica  JAM        Natural     Hydrological   \n",
       "4      1900         Japan  JPN        Natural      Geophysical   \n",
       "5      1900        Turkey  TUR        Natural      Geophysical   \n",
       "...     ...           ...  ...            ...              ...   \n",
       "10338  2022         Yemen  YEM        Natural     Hydrological   \n",
       "10339  2022  South Africa  ZAF        Natural     Hydrological   \n",
       "10340  2022        Zambia  ZMB        Natural     Hydrological   \n",
       "10341  2022      Zimbabwe  ZWE        Natural     Hydrological   \n",
       "10342  2022      Zimbabwe  ZWE        Natural   Meteorological   \n",
       "\n",
       "           Disaster Type  Disaster Subtype  Total Events  Total Affected  \\\n",
       "1                Drought           Drought             1             NaN   \n",
       "2                Drought           Drought             1             NaN   \n",
       "3                  Flood               NaN             1             NaN   \n",
       "4      Volcanic activity          Ash fall             1             NaN   \n",
       "5             Earthquake   Ground movement             1             NaN   \n",
       "...                  ...               ...           ...             ...   \n",
       "10338              Flood       Flash flood             1          3400.0   \n",
       "10339              Flood               NaN             7        143119.0   \n",
       "10340              Flood               NaN             1         15000.0   \n",
       "10341              Flood               NaN             1             NaN   \n",
       "10342              Storm  Tropical cyclone             1          3000.0   \n",
       "\n",
       "       Total Deaths  Total Damage (USD, original)  \\\n",
       "1           11000.0                           NaN   \n",
       "2         1250000.0                           NaN   \n",
       "3             300.0                           NaN   \n",
       "4              30.0                           NaN   \n",
       "5             140.0                           NaN   \n",
       "...             ...                           ...   \n",
       "10338          13.0                           NaN   \n",
       "10339         562.0                  3.164000e+09   \n",
       "10340           3.0                           NaN   \n",
       "10341           NaN                           NaN   \n",
       "10342           NaN                           NaN   \n",
       "\n",
       "       Total Damage (USD, adjusted)       CPI  \n",
       "1                               NaN  3.077091  \n",
       "2                               NaN  3.077091  \n",
       "3                               NaN  3.077091  \n",
       "4                               NaN  3.077091  \n",
       "5                               NaN  3.077091  \n",
       "...                             ...       ...  \n",
       "10338                           NaN       NaN  \n",
       "10339                           NaN       NaN  \n",
       "10340                           NaN       NaN  \n",
       "10341                           NaN       NaN  \n",
       "10342                           NaN       NaN  \n",
       "\n",
       "[10342 rows x 13 columns]"
      ]
     },
     "execution_count": 6,
     "metadata": {},
     "output_type": "execute_result"
    }
   ],
   "source": [
    "data"
   ]
  },
  {
   "cell_type": "markdown",
   "id": "80edafb1",
   "metadata": {},
   "source": [
    "Entferne irrelevante Spalten, hier: *ISO, Disaster Group, Total Damage (USD, adjusted)*"
   ]
  },
  {
   "cell_type": "code",
   "execution_count": 7,
   "id": "2841e65c",
   "metadata": {},
   "outputs": [],
   "source": [
    "cols = ['ISO', 'Disaster Group', 'Total Damage (USD, adjusted)']\n",
    "data = data.drop(cols, axis=1)"
   ]
  },
  {
   "cell_type": "code",
   "execution_count": 8,
   "id": "3348360e",
   "metadata": {},
   "outputs": [
    {
     "data": {
      "text/html": [
       "<div>\n",
       "<style scoped>\n",
       "    .dataframe tbody tr th:only-of-type {\n",
       "        vertical-align: middle;\n",
       "    }\n",
       "\n",
       "    .dataframe tbody tr th {\n",
       "        vertical-align: top;\n",
       "    }\n",
       "\n",
       "    .dataframe thead th {\n",
       "        text-align: right;\n",
       "    }\n",
       "</style>\n",
       "<table border=\"1\" class=\"dataframe\">\n",
       "  <thead>\n",
       "    <tr style=\"text-align: right;\">\n",
       "      <th></th>\n",
       "      <th>Year</th>\n",
       "      <th>Country</th>\n",
       "      <th>Disaster Subroup</th>\n",
       "      <th>Disaster Type</th>\n",
       "      <th>Disaster Subtype</th>\n",
       "      <th>Total Events</th>\n",
       "      <th>Total Affected</th>\n",
       "      <th>Total Deaths</th>\n",
       "      <th>Total Damage (USD, original)</th>\n",
       "      <th>CPI</th>\n",
       "    </tr>\n",
       "  </thead>\n",
       "  <tbody>\n",
       "    <tr>\n",
       "      <th>1</th>\n",
       "      <td>1900</td>\n",
       "      <td>Cabo Verde</td>\n",
       "      <td>Climatological</td>\n",
       "      <td>Drought</td>\n",
       "      <td>Drought</td>\n",
       "      <td>1</td>\n",
       "      <td>NaN</td>\n",
       "      <td>11000.0</td>\n",
       "      <td>NaN</td>\n",
       "      <td>3.077091</td>\n",
       "    </tr>\n",
       "    <tr>\n",
       "      <th>2</th>\n",
       "      <td>1900</td>\n",
       "      <td>India</td>\n",
       "      <td>Climatological</td>\n",
       "      <td>Drought</td>\n",
       "      <td>Drought</td>\n",
       "      <td>1</td>\n",
       "      <td>NaN</td>\n",
       "      <td>1250000.0</td>\n",
       "      <td>NaN</td>\n",
       "      <td>3.077091</td>\n",
       "    </tr>\n",
       "    <tr>\n",
       "      <th>3</th>\n",
       "      <td>1900</td>\n",
       "      <td>Jamaica</td>\n",
       "      <td>Hydrological</td>\n",
       "      <td>Flood</td>\n",
       "      <td>NaN</td>\n",
       "      <td>1</td>\n",
       "      <td>NaN</td>\n",
       "      <td>300.0</td>\n",
       "      <td>NaN</td>\n",
       "      <td>3.077091</td>\n",
       "    </tr>\n",
       "    <tr>\n",
       "      <th>4</th>\n",
       "      <td>1900</td>\n",
       "      <td>Japan</td>\n",
       "      <td>Geophysical</td>\n",
       "      <td>Volcanic activity</td>\n",
       "      <td>Ash fall</td>\n",
       "      <td>1</td>\n",
       "      <td>NaN</td>\n",
       "      <td>30.0</td>\n",
       "      <td>NaN</td>\n",
       "      <td>3.077091</td>\n",
       "    </tr>\n",
       "    <tr>\n",
       "      <th>5</th>\n",
       "      <td>1900</td>\n",
       "      <td>Turkey</td>\n",
       "      <td>Geophysical</td>\n",
       "      <td>Earthquake</td>\n",
       "      <td>Ground movement</td>\n",
       "      <td>1</td>\n",
       "      <td>NaN</td>\n",
       "      <td>140.0</td>\n",
       "      <td>NaN</td>\n",
       "      <td>3.077091</td>\n",
       "    </tr>\n",
       "    <tr>\n",
       "      <th>...</th>\n",
       "      <td>...</td>\n",
       "      <td>...</td>\n",
       "      <td>...</td>\n",
       "      <td>...</td>\n",
       "      <td>...</td>\n",
       "      <td>...</td>\n",
       "      <td>...</td>\n",
       "      <td>...</td>\n",
       "      <td>...</td>\n",
       "      <td>...</td>\n",
       "    </tr>\n",
       "    <tr>\n",
       "      <th>10338</th>\n",
       "      <td>2022</td>\n",
       "      <td>Yemen</td>\n",
       "      <td>Hydrological</td>\n",
       "      <td>Flood</td>\n",
       "      <td>Flash flood</td>\n",
       "      <td>1</td>\n",
       "      <td>3400.0</td>\n",
       "      <td>13.0</td>\n",
       "      <td>NaN</td>\n",
       "      <td>NaN</td>\n",
       "    </tr>\n",
       "    <tr>\n",
       "      <th>10339</th>\n",
       "      <td>2022</td>\n",
       "      <td>South Africa</td>\n",
       "      <td>Hydrological</td>\n",
       "      <td>Flood</td>\n",
       "      <td>NaN</td>\n",
       "      <td>7</td>\n",
       "      <td>143119.0</td>\n",
       "      <td>562.0</td>\n",
       "      <td>3.164000e+09</td>\n",
       "      <td>NaN</td>\n",
       "    </tr>\n",
       "    <tr>\n",
       "      <th>10340</th>\n",
       "      <td>2022</td>\n",
       "      <td>Zambia</td>\n",
       "      <td>Hydrological</td>\n",
       "      <td>Flood</td>\n",
       "      <td>NaN</td>\n",
       "      <td>1</td>\n",
       "      <td>15000.0</td>\n",
       "      <td>3.0</td>\n",
       "      <td>NaN</td>\n",
       "      <td>NaN</td>\n",
       "    </tr>\n",
       "    <tr>\n",
       "      <th>10341</th>\n",
       "      <td>2022</td>\n",
       "      <td>Zimbabwe</td>\n",
       "      <td>Hydrological</td>\n",
       "      <td>Flood</td>\n",
       "      <td>NaN</td>\n",
       "      <td>1</td>\n",
       "      <td>NaN</td>\n",
       "      <td>NaN</td>\n",
       "      <td>NaN</td>\n",
       "      <td>NaN</td>\n",
       "    </tr>\n",
       "    <tr>\n",
       "      <th>10342</th>\n",
       "      <td>2022</td>\n",
       "      <td>Zimbabwe</td>\n",
       "      <td>Meteorological</td>\n",
       "      <td>Storm</td>\n",
       "      <td>Tropical cyclone</td>\n",
       "      <td>1</td>\n",
       "      <td>3000.0</td>\n",
       "      <td>NaN</td>\n",
       "      <td>NaN</td>\n",
       "      <td>NaN</td>\n",
       "    </tr>\n",
       "  </tbody>\n",
       "</table>\n",
       "<p>10342 rows × 10 columns</p>\n",
       "</div>"
      ],
      "text/plain": [
       "       Year       Country Disaster Subroup      Disaster Type  \\\n",
       "1      1900    Cabo Verde   Climatological            Drought   \n",
       "2      1900         India   Climatological            Drought   \n",
       "3      1900       Jamaica     Hydrological              Flood   \n",
       "4      1900         Japan      Geophysical  Volcanic activity   \n",
       "5      1900        Turkey      Geophysical         Earthquake   \n",
       "...     ...           ...              ...                ...   \n",
       "10338  2022         Yemen     Hydrological              Flood   \n",
       "10339  2022  South Africa     Hydrological              Flood   \n",
       "10340  2022        Zambia     Hydrological              Flood   \n",
       "10341  2022      Zimbabwe     Hydrological              Flood   \n",
       "10342  2022      Zimbabwe   Meteorological              Storm   \n",
       "\n",
       "       Disaster Subtype  Total Events  Total Affected  Total Deaths  \\\n",
       "1               Drought             1             NaN       11000.0   \n",
       "2               Drought             1             NaN     1250000.0   \n",
       "3                   NaN             1             NaN         300.0   \n",
       "4              Ash fall             1             NaN          30.0   \n",
       "5       Ground movement             1             NaN         140.0   \n",
       "...                 ...           ...             ...           ...   \n",
       "10338       Flash flood             1          3400.0          13.0   \n",
       "10339               NaN             7        143119.0         562.0   \n",
       "10340               NaN             1         15000.0           3.0   \n",
       "10341               NaN             1             NaN           NaN   \n",
       "10342  Tropical cyclone             1          3000.0           NaN   \n",
       "\n",
       "       Total Damage (USD, original)       CPI  \n",
       "1                               NaN  3.077091  \n",
       "2                               NaN  3.077091  \n",
       "3                               NaN  3.077091  \n",
       "4                               NaN  3.077091  \n",
       "5                               NaN  3.077091  \n",
       "...                             ...       ...  \n",
       "10338                           NaN       NaN  \n",
       "10339                  3.164000e+09       NaN  \n",
       "10340                           NaN       NaN  \n",
       "10341                           NaN       NaN  \n",
       "10342                           NaN       NaN  \n",
       "\n",
       "[10342 rows x 10 columns]"
      ]
     },
     "execution_count": 8,
     "metadata": {},
     "output_type": "execute_result"
    }
   ],
   "source": [
    "data"
   ]
  },
  {
   "cell_type": "markdown",
   "id": "45654a46",
   "metadata": {},
   "source": [
    "### Duplikate finden und entfernen\n",
    "\n",
    "`.duplicated()` findet Zeilen mit genau den gleichen Werte.\n",
    "\n",
    "Mit `drop_duplicates()` können diese entfernt werden."
   ]
  },
  {
   "cell_type": "code",
   "execution_count": 15,
   "id": "317407a8",
   "metadata": {
    "scrolled": true
   },
   "outputs": [
    {
     "data": {
      "text/plain": [
       "1        False\n",
       "2        False\n",
       "3        False\n",
       "4        False\n",
       "5        False\n",
       "         ...  \n",
       "10338    False\n",
       "10339    False\n",
       "10340    False\n",
       "10341    False\n",
       "10342    False\n",
       "Length: 10342, dtype: bool"
      ]
     },
     "execution_count": 15,
     "metadata": {},
     "output_type": "execute_result"
    }
   ],
   "source": [
    "data.duplicated()"
   ]
  },
  {
   "cell_type": "code",
   "execution_count": 10,
   "id": "a94051aa",
   "metadata": {},
   "outputs": [
    {
     "data": {
      "text/html": [
       "<div>\n",
       "<style scoped>\n",
       "    .dataframe tbody tr th:only-of-type {\n",
       "        vertical-align: middle;\n",
       "    }\n",
       "\n",
       "    .dataframe tbody tr th {\n",
       "        vertical-align: top;\n",
       "    }\n",
       "\n",
       "    .dataframe thead th {\n",
       "        text-align: right;\n",
       "    }\n",
       "</style>\n",
       "<table border=\"1\" class=\"dataframe\">\n",
       "  <thead>\n",
       "    <tr style=\"text-align: right;\">\n",
       "      <th></th>\n",
       "      <th>Year</th>\n",
       "      <th>Country</th>\n",
       "      <th>Disaster Subroup</th>\n",
       "      <th>Disaster Type</th>\n",
       "      <th>Disaster Subtype</th>\n",
       "      <th>Total Events</th>\n",
       "      <th>Total Affected</th>\n",
       "      <th>Total Deaths</th>\n",
       "      <th>Total Damage (USD, original)</th>\n",
       "      <th>CPI</th>\n",
       "    </tr>\n",
       "  </thead>\n",
       "  <tbody>\n",
       "    <tr>\n",
       "      <th>1</th>\n",
       "      <td>1900</td>\n",
       "      <td>Cabo Verde</td>\n",
       "      <td>Climatological</td>\n",
       "      <td>Drought</td>\n",
       "      <td>Drought</td>\n",
       "      <td>1</td>\n",
       "      <td>NaN</td>\n",
       "      <td>11000.0</td>\n",
       "      <td>NaN</td>\n",
       "      <td>3.077091</td>\n",
       "    </tr>\n",
       "    <tr>\n",
       "      <th>2</th>\n",
       "      <td>1900</td>\n",
       "      <td>India</td>\n",
       "      <td>Climatological</td>\n",
       "      <td>Drought</td>\n",
       "      <td>Drought</td>\n",
       "      <td>1</td>\n",
       "      <td>NaN</td>\n",
       "      <td>1250000.0</td>\n",
       "      <td>NaN</td>\n",
       "      <td>3.077091</td>\n",
       "    </tr>\n",
       "    <tr>\n",
       "      <th>3</th>\n",
       "      <td>1900</td>\n",
       "      <td>Jamaica</td>\n",
       "      <td>Hydrological</td>\n",
       "      <td>Flood</td>\n",
       "      <td>NaN</td>\n",
       "      <td>1</td>\n",
       "      <td>NaN</td>\n",
       "      <td>300.0</td>\n",
       "      <td>NaN</td>\n",
       "      <td>3.077091</td>\n",
       "    </tr>\n",
       "    <tr>\n",
       "      <th>4</th>\n",
       "      <td>1900</td>\n",
       "      <td>Japan</td>\n",
       "      <td>Geophysical</td>\n",
       "      <td>Volcanic activity</td>\n",
       "      <td>Ash fall</td>\n",
       "      <td>1</td>\n",
       "      <td>NaN</td>\n",
       "      <td>30.0</td>\n",
       "      <td>NaN</td>\n",
       "      <td>3.077091</td>\n",
       "    </tr>\n",
       "    <tr>\n",
       "      <th>5</th>\n",
       "      <td>1900</td>\n",
       "      <td>Turkey</td>\n",
       "      <td>Geophysical</td>\n",
       "      <td>Earthquake</td>\n",
       "      <td>Ground movement</td>\n",
       "      <td>1</td>\n",
       "      <td>NaN</td>\n",
       "      <td>140.0</td>\n",
       "      <td>NaN</td>\n",
       "      <td>3.077091</td>\n",
       "    </tr>\n",
       "    <tr>\n",
       "      <th>...</th>\n",
       "      <td>...</td>\n",
       "      <td>...</td>\n",
       "      <td>...</td>\n",
       "      <td>...</td>\n",
       "      <td>...</td>\n",
       "      <td>...</td>\n",
       "      <td>...</td>\n",
       "      <td>...</td>\n",
       "      <td>...</td>\n",
       "      <td>...</td>\n",
       "    </tr>\n",
       "    <tr>\n",
       "      <th>10338</th>\n",
       "      <td>2022</td>\n",
       "      <td>Yemen</td>\n",
       "      <td>Hydrological</td>\n",
       "      <td>Flood</td>\n",
       "      <td>Flash flood</td>\n",
       "      <td>1</td>\n",
       "      <td>3400.0</td>\n",
       "      <td>13.0</td>\n",
       "      <td>NaN</td>\n",
       "      <td>NaN</td>\n",
       "    </tr>\n",
       "    <tr>\n",
       "      <th>10339</th>\n",
       "      <td>2022</td>\n",
       "      <td>South Africa</td>\n",
       "      <td>Hydrological</td>\n",
       "      <td>Flood</td>\n",
       "      <td>NaN</td>\n",
       "      <td>7</td>\n",
       "      <td>143119.0</td>\n",
       "      <td>562.0</td>\n",
       "      <td>3.164000e+09</td>\n",
       "      <td>NaN</td>\n",
       "    </tr>\n",
       "    <tr>\n",
       "      <th>10340</th>\n",
       "      <td>2022</td>\n",
       "      <td>Zambia</td>\n",
       "      <td>Hydrological</td>\n",
       "      <td>Flood</td>\n",
       "      <td>NaN</td>\n",
       "      <td>1</td>\n",
       "      <td>15000.0</td>\n",
       "      <td>3.0</td>\n",
       "      <td>NaN</td>\n",
       "      <td>NaN</td>\n",
       "    </tr>\n",
       "    <tr>\n",
       "      <th>10341</th>\n",
       "      <td>2022</td>\n",
       "      <td>Zimbabwe</td>\n",
       "      <td>Hydrological</td>\n",
       "      <td>Flood</td>\n",
       "      <td>NaN</td>\n",
       "      <td>1</td>\n",
       "      <td>NaN</td>\n",
       "      <td>NaN</td>\n",
       "      <td>NaN</td>\n",
       "      <td>NaN</td>\n",
       "    </tr>\n",
       "    <tr>\n",
       "      <th>10342</th>\n",
       "      <td>2022</td>\n",
       "      <td>Zimbabwe</td>\n",
       "      <td>Meteorological</td>\n",
       "      <td>Storm</td>\n",
       "      <td>Tropical cyclone</td>\n",
       "      <td>1</td>\n",
       "      <td>3000.0</td>\n",
       "      <td>NaN</td>\n",
       "      <td>NaN</td>\n",
       "      <td>NaN</td>\n",
       "    </tr>\n",
       "  </tbody>\n",
       "</table>\n",
       "<p>10342 rows × 10 columns</p>\n",
       "</div>"
      ],
      "text/plain": [
       "       Year       Country Disaster Subroup      Disaster Type  \\\n",
       "1      1900    Cabo Verde   Climatological            Drought   \n",
       "2      1900         India   Climatological            Drought   \n",
       "3      1900       Jamaica     Hydrological              Flood   \n",
       "4      1900         Japan      Geophysical  Volcanic activity   \n",
       "5      1900        Turkey      Geophysical         Earthquake   \n",
       "...     ...           ...              ...                ...   \n",
       "10338  2022         Yemen     Hydrological              Flood   \n",
       "10339  2022  South Africa     Hydrological              Flood   \n",
       "10340  2022        Zambia     Hydrological              Flood   \n",
       "10341  2022      Zimbabwe     Hydrological              Flood   \n",
       "10342  2022      Zimbabwe   Meteorological              Storm   \n",
       "\n",
       "       Disaster Subtype  Total Events  Total Affected  Total Deaths  \\\n",
       "1               Drought             1             NaN       11000.0   \n",
       "2               Drought             1             NaN     1250000.0   \n",
       "3                   NaN             1             NaN         300.0   \n",
       "4              Ash fall             1             NaN          30.0   \n",
       "5       Ground movement             1             NaN         140.0   \n",
       "...                 ...           ...             ...           ...   \n",
       "10338       Flash flood             1          3400.0          13.0   \n",
       "10339               NaN             7        143119.0         562.0   \n",
       "10340               NaN             1         15000.0           3.0   \n",
       "10341               NaN             1             NaN           NaN   \n",
       "10342  Tropical cyclone             1          3000.0           NaN   \n",
       "\n",
       "       Total Damage (USD, original)       CPI  \n",
       "1                               NaN  3.077091  \n",
       "2                               NaN  3.077091  \n",
       "3                               NaN  3.077091  \n",
       "4                               NaN  3.077091  \n",
       "5                               NaN  3.077091  \n",
       "...                             ...       ...  \n",
       "10338                           NaN       NaN  \n",
       "10339                  3.164000e+09       NaN  \n",
       "10340                           NaN       NaN  \n",
       "10341                           NaN       NaN  \n",
       "10342                           NaN       NaN  \n",
       "\n",
       "[10342 rows x 10 columns]"
      ]
     },
     "execution_count": 10,
     "metadata": {},
     "output_type": "execute_result"
    }
   ],
   "source": [
    "data.drop_duplicates()"
   ]
  },
  {
   "cell_type": "markdown",
   "id": "02da4dd0",
   "metadata": {},
   "source": [
    "## Daten speichern"
   ]
  },
  {
   "cell_type": "code",
   "execution_count": 11,
   "id": "f50ad4ff",
   "metadata": {},
   "outputs": [],
   "source": [
    "data.to_csv('../data/clean_emdat.csv')"
   ]
  },
  {
   "cell_type": "markdown",
   "id": "a7b46ca7",
   "metadata": {},
   "source": [
    "Daten neu laden"
   ]
  },
  {
   "cell_type": "code",
   "execution_count": null,
   "id": "98f0e8d5",
   "metadata": {},
   "outputs": [],
   "source": []
  },
  {
   "cell_type": "markdown",
   "id": "2e424631",
   "metadata": {
    "slideshow": {
     "slide_type": "slide"
    }
   },
   "source": [
    "## Weitere Recherchefragen\n",
    "\n",
    "- Wie viele Naturkatastrophen gab es in Deutschland?\n",
    "- Welchen Anteil haben die unterschiedlichen Naturkatastrophentypen daran?\n",
    "- Welche Naturkatastrophen fordern die meisten Todesopfer?\n",
    "- Wie hat sich die Anzahl der Naturkatastrophen über die Jahre hin entwickelt?\n",
    "- Wie stark ist ein Land von Naturkatastrophen betroffen?\n",
    "- Welche Länder sind von Naturkatastrophen betroffen haben aber vergleichsweise geringe Todesfälle?\n"
   ]
  },
  {
   "cell_type": "markdown",
   "id": "3b0620e2",
   "metadata": {},
   "source": [
    "#### Wie viele Naturkatastrophen gab es in Deutschland?"
   ]
  },
  {
   "cell_type": "code",
   "execution_count": null,
   "id": "2d1d13f8",
   "metadata": {},
   "outputs": [],
   "source": []
  },
  {
   "cell_type": "markdown",
   "id": "174d1a49",
   "metadata": {},
   "source": [
    "Korrektur der Ländernamen"
   ]
  },
  {
   "cell_type": "code",
   "execution_count": 12,
   "id": "5d463a9d",
   "metadata": {
    "slideshow": {
     "slide_type": "slide"
    }
   },
   "outputs": [
    {
     "name": "stdout",
     "output_type": "stream",
     "text": [
      "Germany Fed Rep\n",
      "Germany Dem Rep\n",
      "Germany\n"
     ]
    }
   ],
   "source": [
    "# Vorkommen von Deutschland\n",
    "for country in data['Country'].unique():\n",
    "    if 'german' in country.lower():\n",
    "        print(country)"
   ]
  },
  {
   "cell_type": "markdown",
   "id": "64e4ab94",
   "metadata": {},
   "source": [
    "Funktion die dies bereinigt"
   ]
  },
  {
   "cell_type": "code",
   "execution_count": 13,
   "id": "7f57be66",
   "metadata": {},
   "outputs": [
    {
     "ename": "SyntaxError",
     "evalue": "invalid syntax (26193582.py, line 1)",
     "output_type": "error",
     "traceback": [
      "\u001b[0;36m  Cell \u001b[0;32mIn [13], line 1\u001b[0;36m\u001b[0m\n\u001b[0;31m    def clean_country\u001b[0m\n\u001b[0m                     ^\u001b[0m\n\u001b[0;31mSyntaxError\u001b[0m\u001b[0;31m:\u001b[0m invalid syntax\n"
     ]
    }
   ],
   "source": [
    "def clean_country\n"
   ]
  },
  {
   "cell_type": "code",
   "execution_count": null,
   "id": "3db4e733",
   "metadata": {},
   "outputs": [],
   "source": [
    "text = 'Germany Fed Rep'\n",
    "text = 'Mexico'\n",
    "clean_country(text)"
   ]
  },
  {
   "cell_type": "markdown",
   "id": "0d77e32c",
   "metadata": {},
   "source": [
    "Anwendung der Funktion auf alle Werte einer Spalte"
   ]
  },
  {
   "cell_type": "code",
   "execution_count": null,
   "id": "2e7c65ba",
   "metadata": {},
   "outputs": [],
   "source": [
    "for index, row in data.iterrows():\n",
    "    data.loc[index, \"Country\"] = clean_country(row['Country'])"
   ]
  },
  {
   "cell_type": "code",
   "execution_count": 16,
   "id": "35d4a2d1",
   "metadata": {},
   "outputs": [
    {
     "name": "stdout",
     "output_type": "stream",
     "text": [
      "Help on _LocIndexer in module pandas.core.indexing object:\n",
      "\n",
      "class _LocIndexer(_LocationIndexer)\n",
      " |  Access a group of rows and columns by label(s) or a boolean array.\n",
      " |  \n",
      " |  ``.loc[]`` is primarily label based, but may also be used with a\n",
      " |  boolean array.\n",
      " |  \n",
      " |  Allowed inputs are:\n",
      " |  \n",
      " |  - A single label, e.g. ``5`` or ``'a'``, (note that ``5`` is\n",
      " |    interpreted as a *label* of the index, and **never** as an\n",
      " |    integer position along the index).\n",
      " |  - A list or array of labels, e.g. ``['a', 'b', 'c']``.\n",
      " |  - A slice object with labels, e.g. ``'a':'f'``.\n",
      " |  \n",
      " |    .. warning:: Note that contrary to usual python slices, **both** the\n",
      " |        start and the stop are included\n",
      " |  \n",
      " |  - A boolean array of the same length as the axis being sliced,\n",
      " |    e.g. ``[True, False, True]``.\n",
      " |  - An alignable boolean Series. The index of the key will be aligned before\n",
      " |    masking.\n",
      " |  - An alignable Index. The Index of the returned selection will be the input.\n",
      " |  - A ``callable`` function with one argument (the calling Series or\n",
      " |    DataFrame) and that returns valid output for indexing (one of the above)\n",
      " |  \n",
      " |  See more at :ref:`Selection by Label <indexing.label>`.\n",
      " |  \n",
      " |  Raises\n",
      " |  ------\n",
      " |  KeyError\n",
      " |      If any items are not found.\n",
      " |  IndexingError\n",
      " |      If an indexed key is passed and its index is unalignable to the frame index.\n",
      " |  \n",
      " |  See Also\n",
      " |  --------\n",
      " |  DataFrame.at : Access a single value for a row/column label pair.\n",
      " |  DataFrame.iloc : Access group of rows and columns by integer position(s).\n",
      " |  DataFrame.xs : Returns a cross-section (row(s) or column(s)) from the\n",
      " |      Series/DataFrame.\n",
      " |  Series.loc : Access group of values using labels.\n",
      " |  \n",
      " |  Examples\n",
      " |  --------\n",
      " |  **Getting values**\n",
      " |  \n",
      " |  >>> df = pd.DataFrame([[1, 2], [4, 5], [7, 8]],\n",
      " |  ...      index=['cobra', 'viper', 'sidewinder'],\n",
      " |  ...      columns=['max_speed', 'shield'])\n",
      " |  >>> df\n",
      " |              max_speed  shield\n",
      " |  cobra               1       2\n",
      " |  viper               4       5\n",
      " |  sidewinder          7       8\n",
      " |  \n",
      " |  Single label. Note this returns the row as a Series.\n",
      " |  \n",
      " |  >>> df.loc['viper']\n",
      " |  max_speed    4\n",
      " |  shield       5\n",
      " |  Name: viper, dtype: int64\n",
      " |  \n",
      " |  List of labels. Note using ``[[]]`` returns a DataFrame.\n",
      " |  \n",
      " |  >>> df.loc[['viper', 'sidewinder']]\n",
      " |              max_speed  shield\n",
      " |  viper               4       5\n",
      " |  sidewinder          7       8\n",
      " |  \n",
      " |  Single label for row and column\n",
      " |  \n",
      " |  >>> df.loc['cobra', 'shield']\n",
      " |  2\n",
      " |  \n",
      " |  Slice with labels for row and single label for column. As mentioned\n",
      " |  above, note that both the start and stop of the slice are included.\n",
      " |  \n",
      " |  >>> df.loc['cobra':'viper', 'max_speed']\n",
      " |  cobra    1\n",
      " |  viper    4\n",
      " |  Name: max_speed, dtype: int64\n",
      " |  \n",
      " |  Boolean list with the same length as the row axis\n",
      " |  \n",
      " |  >>> df.loc[[False, False, True]]\n",
      " |              max_speed  shield\n",
      " |  sidewinder          7       8\n",
      " |  \n",
      " |  Alignable boolean Series:\n",
      " |  \n",
      " |  >>> df.loc[pd.Series([False, True, False],\n",
      " |  ...        index=['viper', 'sidewinder', 'cobra'])]\n",
      " |              max_speed  shield\n",
      " |  sidewinder          7       8\n",
      " |  \n",
      " |  Index (same behavior as ``df.reindex``)\n",
      " |  \n",
      " |  >>> df.loc[pd.Index([\"cobra\", \"viper\"], name=\"foo\")]\n",
      " |         max_speed  shield\n",
      " |  foo\n",
      " |  cobra          1       2\n",
      " |  viper          4       5\n",
      " |  \n",
      " |  Conditional that returns a boolean Series\n",
      " |  \n",
      " |  >>> df.loc[df['shield'] > 6]\n",
      " |              max_speed  shield\n",
      " |  sidewinder          7       8\n",
      " |  \n",
      " |  Conditional that returns a boolean Series with column labels specified\n",
      " |  \n",
      " |  >>> df.loc[df['shield'] > 6, ['max_speed']]\n",
      " |              max_speed\n",
      " |  sidewinder          7\n",
      " |  \n",
      " |  Callable that returns a boolean Series\n",
      " |  \n",
      " |  >>> df.loc[lambda df: df['shield'] == 8]\n",
      " |              max_speed  shield\n",
      " |  sidewinder          7       8\n",
      " |  \n",
      " |  **Setting values**\n",
      " |  \n",
      " |  Set value for all items matching the list of labels\n",
      " |  \n",
      " |  >>> df.loc[['viper', 'sidewinder'], ['shield']] = 50\n",
      " |  >>> df\n",
      " |              max_speed  shield\n",
      " |  cobra               1       2\n",
      " |  viper               4      50\n",
      " |  sidewinder          7      50\n",
      " |  \n",
      " |  Set value for an entire row\n",
      " |  \n",
      " |  >>> df.loc['cobra'] = 10\n",
      " |  >>> df\n",
      " |              max_speed  shield\n",
      " |  cobra              10      10\n",
      " |  viper               4      50\n",
      " |  sidewinder          7      50\n",
      " |  \n",
      " |  Set value for an entire column\n",
      " |  \n",
      " |  >>> df.loc[:, 'max_speed'] = 30\n",
      " |  >>> df\n",
      " |              max_speed  shield\n",
      " |  cobra              30      10\n",
      " |  viper              30      50\n",
      " |  sidewinder         30      50\n",
      " |  \n",
      " |  Set value for rows matching callable condition\n",
      " |  \n",
      " |  >>> df.loc[df['shield'] > 35] = 0\n",
      " |  >>> df\n",
      " |              max_speed  shield\n",
      " |  cobra              30      10\n",
      " |  viper               0       0\n",
      " |  sidewinder          0       0\n",
      " |  \n",
      " |  **Getting values on a DataFrame with an index that has integer labels**\n",
      " |  \n",
      " |  Another example using integers for the index\n",
      " |  \n",
      " |  >>> df = pd.DataFrame([[1, 2], [4, 5], [7, 8]],\n",
      " |  ...      index=[7, 8, 9], columns=['max_speed', 'shield'])\n",
      " |  >>> df\n",
      " |     max_speed  shield\n",
      " |  7          1       2\n",
      " |  8          4       5\n",
      " |  9          7       8\n",
      " |  \n",
      " |  Slice with integer labels for rows. As mentioned above, note that both\n",
      " |  the start and stop of the slice are included.\n",
      " |  \n",
      " |  >>> df.loc[7:9]\n",
      " |     max_speed  shield\n",
      " |  7          1       2\n",
      " |  8          4       5\n",
      " |  9          7       8\n",
      " |  \n",
      " |  **Getting values with a MultiIndex**\n",
      " |  \n",
      " |  A number of examples using a DataFrame with a MultiIndex\n",
      " |  \n",
      " |  >>> tuples = [\n",
      " |  ...    ('cobra', 'mark i'), ('cobra', 'mark ii'),\n",
      " |  ...    ('sidewinder', 'mark i'), ('sidewinder', 'mark ii'),\n",
      " |  ...    ('viper', 'mark ii'), ('viper', 'mark iii')\n",
      " |  ... ]\n",
      " |  >>> index = pd.MultiIndex.from_tuples(tuples)\n",
      " |  >>> values = [[12, 2], [0, 4], [10, 20],\n",
      " |  ...         [1, 4], [7, 1], [16, 36]]\n",
      " |  >>> df = pd.DataFrame(values, columns=['max_speed', 'shield'], index=index)\n",
      " |  >>> df\n",
      " |                       max_speed  shield\n",
      " |  cobra      mark i           12       2\n",
      " |             mark ii           0       4\n",
      " |  sidewinder mark i           10      20\n",
      " |             mark ii           1       4\n",
      " |  viper      mark ii           7       1\n",
      " |             mark iii         16      36\n",
      " |  \n",
      " |  Single label. Note this returns a DataFrame with a single index.\n",
      " |  \n",
      " |  >>> df.loc['cobra']\n",
      " |           max_speed  shield\n",
      " |  mark i          12       2\n",
      " |  mark ii          0       4\n",
      " |  \n",
      " |  Single index tuple. Note this returns a Series.\n",
      " |  \n",
      " |  >>> df.loc[('cobra', 'mark ii')]\n",
      " |  max_speed    0\n",
      " |  shield       4\n",
      " |  Name: (cobra, mark ii), dtype: int64\n",
      " |  \n",
      " |  Single label for row and column. Similar to passing in a tuple, this\n",
      " |  returns a Series.\n",
      " |  \n",
      " |  >>> df.loc['cobra', 'mark i']\n",
      " |  max_speed    12\n",
      " |  shield        2\n",
      " |  Name: (cobra, mark i), dtype: int64\n",
      " |  \n",
      " |  Single tuple. Note using ``[[]]`` returns a DataFrame.\n",
      " |  \n",
      " |  >>> df.loc[[('cobra', 'mark ii')]]\n",
      " |                 max_speed  shield\n",
      " |  cobra mark ii          0       4\n",
      " |  \n",
      " |  Single tuple for the index with a single label for the column\n",
      " |  \n",
      " |  >>> df.loc[('cobra', 'mark i'), 'shield']\n",
      " |  2\n",
      " |  \n",
      " |  Slice from index tuple to single label\n",
      " |  \n",
      " |  >>> df.loc[('cobra', 'mark i'):'viper']\n",
      " |                       max_speed  shield\n",
      " |  cobra      mark i           12       2\n",
      " |             mark ii           0       4\n",
      " |  sidewinder mark i           10      20\n",
      " |             mark ii           1       4\n",
      " |  viper      mark ii           7       1\n",
      " |             mark iii         16      36\n",
      " |  \n",
      " |  Slice from index tuple to index tuple\n",
      " |  \n",
      " |  >>> df.loc[('cobra', 'mark i'):('viper', 'mark ii')]\n",
      " |                      max_speed  shield\n",
      " |  cobra      mark i          12       2\n",
      " |             mark ii          0       4\n",
      " |  sidewinder mark i          10      20\n",
      " |             mark ii          1       4\n",
      " |  viper      mark ii          7       1\n",
      " |  \n",
      " |  Please see the :ref:`user guide<advanced.advanced_hierarchical>`\n",
      " |  for more details and explanations of advanced indexing.\n",
      " |  \n",
      " |  Method resolution order:\n",
      " |      _LocIndexer\n",
      " |      _LocationIndexer\n",
      " |      pandas._libs.indexing.NDFrameIndexerBase\n",
      " |      builtins.object\n",
      " |  \n",
      " |  Data and other attributes defined here:\n",
      " |  \n",
      " |  __annotations__ = {'_takeable': 'bool'}\n",
      " |  \n",
      " |  ----------------------------------------------------------------------\n",
      " |  Methods inherited from _LocationIndexer:\n",
      " |  \n",
      " |  __call__(self: '_LocationIndexerT', axis=None) -> '_LocationIndexerT'\n",
      " |      Call self as a function.\n",
      " |  \n",
      " |  __getitem__(self, key)\n",
      " |  \n",
      " |  __setitem__(self, key, value) -> 'None'\n",
      " |  \n",
      " |  ----------------------------------------------------------------------\n",
      " |  Data descriptors inherited from _LocationIndexer:\n",
      " |  \n",
      " |  __dict__\n",
      " |      dictionary for instance variables (if defined)\n",
      " |  \n",
      " |  __weakref__\n",
      " |      list of weak references to the object (if defined)\n",
      " |  \n",
      " |  ----------------------------------------------------------------------\n",
      " |  Data and other attributes inherited from _LocationIndexer:\n",
      " |  \n",
      " |  axis = None\n",
      " |  \n",
      " |  ----------------------------------------------------------------------\n",
      " |  Methods inherited from pandas._libs.indexing.NDFrameIndexerBase:\n",
      " |  \n",
      " |  __init__(self, /, *args, **kwargs)\n",
      " |      Initialize self.  See help(type(self)) for accurate signature.\n",
      " |  \n",
      " |  __reduce__ = __reduce_cython__(...)\n",
      " |  \n",
      " |  __setstate__ = __setstate_cython__(...)\n",
      " |  \n",
      " |  ----------------------------------------------------------------------\n",
      " |  Static methods inherited from pandas._libs.indexing.NDFrameIndexerBase:\n",
      " |  \n",
      " |  __new__(*args, **kwargs) from builtins.type\n",
      " |      Create and return a new object.  See help(type) for accurate signature.\n",
      " |  \n",
      " |  ----------------------------------------------------------------------\n",
      " |  Data descriptors inherited from pandas._libs.indexing.NDFrameIndexerBase:\n",
      " |  \n",
      " |  name\n",
      " |  \n",
      " |  ndim\n",
      " |  \n",
      " |  obj\n",
      "\n"
     ]
    }
   ],
   "source": [
    "help(data.loc)"
   ]
  },
  {
   "cell_type": "code",
   "execution_count": null,
   "id": "c9f9646e",
   "metadata": {},
   "outputs": [],
   "source": [
    "data[data['Country'] == 'Germany']"
   ]
  },
  {
   "cell_type": "markdown",
   "id": "eaa814b4",
   "metadata": {},
   "source": [
    "**oder** (viel übersichtlicher und effizienter)\n",
    "\n",
    "mit `apply()` kann eine Funktion auf eine komplette Spalte oder Zeile des Dataframes angewendet werden"
   ]
  },
  {
   "cell_type": "code",
   "execution_count": null,
   "id": "221bb2bf",
   "metadata": {},
   "outputs": [],
   "source": [
    "data['Country'] = data['Country'].apply(clean_country)"
   ]
  },
  {
   "cell_type": "code",
   "execution_count": null,
   "id": "4a40731a",
   "metadata": {
    "scrolled": false
   },
   "outputs": [],
   "source": [
    "data[data['Country'] == 'Germany']"
   ]
  },
  {
   "cell_type": "markdown",
   "id": "a5d55b9f",
   "metadata": {},
   "source": [
    "#### Welchen Anteil haben die unterschiedlichen Naturkatastrophentypen daran?"
   ]
  },
  {
   "cell_type": "code",
   "execution_count": 20,
   "id": "6a931f5e",
   "metadata": {},
   "outputs": [],
   "source": [
    "germany_data = data[data['Country'] == 'Germany']"
   ]
  },
  {
   "cell_type": "code",
   "execution_count": null,
   "id": "b222f6ef",
   "metadata": {},
   "outputs": [],
   "source": []
  },
  {
   "cell_type": "markdown",
   "id": "163fa3cb",
   "metadata": {},
   "source": [
    "# Visualisierung von DataFrames\n",
    "\n",
    "Matplotlib is a comprehensive library for creating static, animated, and interactive visualizations in Python. Matplotlib makes easy things easy and hard things possible.\n",
    "\n",
    "Install [matplotlib](https://matplotlib.org/)"
   ]
  },
  {
   "cell_type": "code",
   "execution_count": 17,
   "id": "14287eb9",
   "metadata": {},
   "outputs": [
    {
     "name": "stdout",
     "output_type": "stream",
     "text": [
      "Defaulting to user installation because normal site-packages is not writeable\n",
      "Requirement already satisfied: pip in /home/natalie/.local/lib/python3.9/site-packages (22.3.1)\n",
      "Defaulting to user installation because normal site-packages is not writeable\n",
      "Requirement already satisfied: Pillow in /home/natalie/.local/lib/python3.9/site-packages (9.3.0)\n",
      "Defaulting to user installation because normal site-packages is not writeable\n",
      "Requirement already satisfied: matplotlib in /home/natalie/.local/lib/python3.9/site-packages (3.6.2)\n",
      "Requirement already satisfied: python-dateutil>=2.7 in /home/natalie/.local/lib/python3.9/site-packages (from matplotlib) (2.8.2)\n",
      "Requirement already satisfied: kiwisolver>=1.0.1 in /home/natalie/.local/lib/python3.9/site-packages (from matplotlib) (1.4.4)\n",
      "Requirement already satisfied: cycler>=0.10 in /home/natalie/.local/lib/python3.9/site-packages (from matplotlib) (0.11.0)\n",
      "Requirement already satisfied: pillow>=6.2.0 in /home/natalie/.local/lib/python3.9/site-packages (from matplotlib) (9.3.0)\n",
      "Requirement already satisfied: packaging>=20.0 in /home/natalie/.local/lib/python3.9/site-packages (from matplotlib) (21.3)\n",
      "Requirement already satisfied: contourpy>=1.0.1 in /home/natalie/.local/lib/python3.9/site-packages (from matplotlib) (1.0.6)\n",
      "Requirement already satisfied: pyparsing>=2.2.1 in /home/natalie/.local/lib/python3.9/site-packages (from matplotlib) (3.0.9)\n",
      "Requirement already satisfied: numpy>=1.19 in /home/natalie/.local/lib/python3.9/site-packages (from matplotlib) (1.23.4)\n",
      "Requirement already satisfied: fonttools>=4.22.0 in /home/natalie/.local/lib/python3.9/site-packages (from matplotlib) (4.38.0)\n",
      "Requirement already satisfied: six>=1.5 in /usr/lib/python3/dist-packages (from python-dateutil>=2.7->matplotlib) (1.14.0)\n"
     ]
    }
   ],
   "source": [
    "!pip3 install --upgrade pip\n",
    "!pip3 install --upgrade Pillow\n",
    "!pip3 install matplotlib\n",
    "#!pip3 install seaborn"
   ]
  },
  {
   "cell_type": "code",
   "execution_count": 18,
   "id": "b5da17db",
   "metadata": {},
   "outputs": [],
   "source": [
    "import matplotlib.pyplot as plt\n",
    "#import seaborn as sns"
   ]
  },
  {
   "cell_type": "code",
   "execution_count": 19,
   "id": "d319deff",
   "metadata": {},
   "outputs": [
    {
     "ename": "NameError",
     "evalue": "name 'germany_data' is not defined",
     "output_type": "error",
     "traceback": [
      "\u001b[0;31m---------------------------------------------------------------------------\u001b[0m",
      "\u001b[0;31mNameError\u001b[0m                                 Traceback (most recent call last)",
      "Cell \u001b[0;32mIn [19], line 1\u001b[0m\n\u001b[0;32m----> 1\u001b[0m germany_data[\u001b[38;5;124m'\u001b[39m\u001b[38;5;124mDisaster Type\u001b[39m\u001b[38;5;124m'\u001b[39m]\u001b[38;5;241m.\u001b[39mvalue_counts()\n",
      "\u001b[0;31mNameError\u001b[0m: name 'germany_data' is not defined"
     ]
    }
   ],
   "source": [
    "germany_data['Disaster Type'].value_counts()"
   ]
  },
  {
   "cell_type": "code",
   "execution_count": 21,
   "id": "64fcf496",
   "metadata": {
    "scrolled": true
   },
   "outputs": [
    {
     "data": {
      "image/png": "[encoded data removed]",
      "text/plain": [
       "<Figure size 640x480 with 1 Axes>"
      ]
     },
     "metadata": {},
     "output_type": "display_data"
    }
   ],
   "source": [
    "fig = germany_data['Disaster Type'].value_counts().plot(kind='bar')"
   ]
  },
  {
   "cell_type": "code",
   "execution_count": 22,
   "id": "2cf2e38e",
   "metadata": {
    "scrolled": true
   },
   "outputs": [
    {
     "data": {
      "text/plain": [
       "<AxesSubplot: ylabel='Disaster Type'>"
      ]
     },
     "execution_count": 22,
     "metadata": {},
     "output_type": "execute_result"
    },
    {
     "data": {
      "image/png": "[encoded data removed]",
      "text/plain": [
       "<Figure size 640x480 with 1 Axes>"
      ]
     },
     "metadata": {},
     "output_type": "display_data"
    }
   ],
   "source": [
    "germany_data['Disaster Type'].value_counts().plot(kind='pie')"
   ]
  },
  {
   "cell_type": "markdown",
   "id": "027893cb",
   "metadata": {},
   "source": [
    "#### Welche Naturkatastrophensubtypen kommen vor?"
   ]
  },
  {
   "cell_type": "code",
   "execution_count": 23,
   "id": "043db4e6",
   "metadata": {},
   "outputs": [
    {
     "data": {
      "text/plain": [
       "<AxesSubplot: ylabel='Disaster Subtype'>"
      ]
     },
     "execution_count": 23,
     "metadata": {},
     "output_type": "execute_result"
    },
    {
     "data": {
      "image/png": "[encoded data removed]",
      "text/plain": [
       "<Figure size 640x480 with 1 Axes>"
      ]
     },
     "metadata": {},
     "output_type": "display_data"
    }
   ],
   "source": [
    "germany_data['Disaster Subtype'].value_counts().plot(kind='pie')"
   ]
  },
  {
   "cell_type": "markdown",
   "id": "ce40a536",
   "metadata": {},
   "source": [
    "## Fehlende Werte - NaNs Values\n",
    "\n",
    "Wo fehlen Werte im Datensatz?\n",
    "Wie viele fehlen?"
   ]
  },
  {
   "cell_type": "code",
   "execution_count": null,
   "id": "d7265ae6",
   "metadata": {},
   "outputs": [],
   "source": [
    "germany_data"
   ]
  },
  {
   "cell_type": "markdown",
   "id": "d3699c46",
   "metadata": {},
   "source": [
    "Wie viele Werte pro Spalte sind NaN?"
   ]
  },
  {
   "cell_type": "code",
   "execution_count": null,
   "id": "6b05c717",
   "metadata": {},
   "outputs": [],
   "source": [
    "germany_data.info()"
   ]
  },
  {
   "cell_type": "code",
   "execution_count": null,
   "id": "801e0007",
   "metadata": {},
   "outputs": [],
   "source": [
    "data.isnull()"
   ]
  },
  {
   "cell_type": "code",
   "execution_count": null,
   "id": "fa11bccb",
   "metadata": {},
   "outputs": [],
   "source": [
    "data.isnull().sum()"
   ]
  },
  {
   "cell_type": "markdown",
   "id": "49359a60",
   "metadata": {},
   "source": [
    "### Möglichkeiten zum Umgang\n",
    "\n",
    "- Zeilen mit fehlenden Werten entfernen\n",
    "- fehlende Werte ersetzen\n"
   ]
  },
  {
   "cell_type": "markdown",
   "id": "eb244f4c",
   "metadata": {},
   "source": [
    "#### Alle Zeilen mit NaN Werten entfernen\n",
    "\n",
    "`dropna()` "
   ]
  },
  {
   "cell_type": "code",
   "execution_count": null,
   "id": "65b84c5d",
   "metadata": {},
   "outputs": [],
   "source": [
    "clean_data = germany_data.dropna()\n",
    "clean_data"
   ]
  },
  {
   "cell_type": "markdown",
   "id": "905d5c01",
   "metadata": {},
   "source": [
    "Entferne nur Zeilen die in einer bestimmten Spalte NaN Werte haben"
   ]
  },
  {
   "cell_type": "code",
   "execution_count": null,
   "id": "87de22bb",
   "metadata": {},
   "outputs": [],
   "source": [
    "clean_data = germany_data.dropna(subset=['Disaster Subtype', 'Total Affected'])"
   ]
  },
  {
   "cell_type": "markdown",
   "id": "446724b7",
   "metadata": {},
   "source": [
    "### Fehlende Werte entfernen\n",
    "\n",
    "**Vorteile**\n",
    "- einfache Handhabung\n",
    "- verständliche Methodik\n",
    "\n",
    "\n",
    "**Nachteile**\n",
    "- ein großer Teil der Daten wird nicht ausgewertet\n",
    "- fehlende Werte können eine ganz andere Geschichte erzählen\n",
    "- die Konsistenz über unterschiedliche Fragestellungen hinweg muss sichergestellt sein\n"
   ]
  },
  {
   "cell_type": "markdown",
   "id": "349cc57d",
   "metadata": {},
   "source": [
    "### Fehlende Werte ersetzen\n",
    "\n",
    "Mit `.fillna()` können alle NaN Werte in einem DataFrame oder einer Series automatisch ersetzt werden."
   ]
  },
  {
   "cell_type": "code",
   "execution_count": null,
   "id": "7d0fc284",
   "metadata": {},
   "outputs": [],
   "source": [
    "data.fillna(0)"
   ]
  },
  {
   "cell_type": "code",
   "execution_count": null,
   "id": "eb863439",
   "metadata": {},
   "outputs": [],
   "source": [
    "data[\"Disaster Subtype\"].fillna(\"No Subtype\", inplace=True)"
   ]
  },
  {
   "cell_type": "code",
   "execution_count": null,
   "id": "d4c71693",
   "metadata": {
    "scrolled": true
   },
   "outputs": [],
   "source": [
    "data"
   ]
  },
  {
   "cell_type": "markdown",
   "id": "3a963197",
   "metadata": {},
   "source": [
    "Welche Werte für Total Affected, Total Deaths oder Total Damage?\n",
    "\n",
    "- 0\n",
    "- arithmetisches Mittel\n",
    "- Median\n",
    "- Berechnung aus anderen Spalten"
   ]
  },
  {
   "cell_type": "code",
   "execution_count": null,
   "id": "219263af",
   "metadata": {},
   "outputs": [],
   "source": [
    "data[\"Total Deaths\"].fillna(0, inplace=True)"
   ]
  },
  {
   "cell_type": "code",
   "execution_count": null,
   "id": "c06714bb",
   "metadata": {},
   "outputs": [],
   "source": [
    "data[\"Total Affected\"].fillna(data['Total Deaths'], inplace=True)"
   ]
  },
  {
   "cell_type": "code",
   "execution_count": null,
   "id": "f0919c85",
   "metadata": {},
   "outputs": [],
   "source": [
    "data"
   ]
  },
  {
   "cell_type": "markdown",
   "id": "98ac5334",
   "metadata": {},
   "source": [
    "### Fehlende Werte ersetzen\n",
    "\n",
    "**Vorteile**\n",
    "- Verwendung möglichst aller Daten\n",
    "- genaue Analyse der fehlenden Werte kann zu neuen Erkenntnissen führen\n",
    "\n",
    "\n",
    "**Nachteile**\n",
    "- keine Standard Methodik\n",
    "- eventuelle Verfälschung der Daten\n",
    "\n"
   ]
  },
  {
   "cell_type": "markdown",
   "id": "4ddd6d49",
   "metadata": {},
   "source": [
    "## Daten speichern"
   ]
  },
  {
   "cell_type": "code",
   "execution_count": 11,
   "id": "4978504c",
   "metadata": {},
   "outputs": [],
   "source": [
    "data.to_csv('../data/clean_emdat.csv')"
   ]
  },
  {
   "cell_type": "markdown",
   "id": "7204827f",
   "metadata": {
    "slideshow": {
     "slide_type": "slide"
    }
   },
   "source": [
    "## Recherchefragen\n",
    "\n",
    "#### Welche Naturkatastrophen fordern die meisten Todesopfer?"
   ]
  },
  {
   "cell_type": "markdown",
   "id": "a6957897",
   "metadata": {},
   "source": [
    "`.groupby()` gruppiert einen DataFrame nach den Werten einer oder mehreren Spalten.\n",
    "\n",
    "Die Spalten nach denen man Gruppieren möchte werden als Argument übergeben. Danach folgt die gewünschte Berechnung auf dieser Gruppe. Das Ergebnis wird als DataFrame zurückgegeben. "
   ]
  },
  {
   "cell_type": "code",
   "execution_count": 27,
   "id": "119dd523",
   "metadata": {
    "scrolled": true
   },
   "outputs": [
    {
     "name": "stderr",
     "output_type": "stream",
     "text": [
      "/tmp/ipykernel_302661/3612715955.py:1: FutureWarning: The default value of numeric_only in DataFrameGroupBy.sum is deprecated. In a future version, numeric_only will default to False. Either specify numeric_only or select only columns which should be valid for the function.\n",
      "  data.groupby('Disaster Type').sum()\n"
     ]
    },
    {
     "data": {
      "text/html": [
       "<div>\n",
       "<style scoped>\n",
       "    .dataframe tbody tr th:only-of-type {\n",
       "        vertical-align: middle;\n",
       "    }\n",
       "\n",
       "    .dataframe tbody tr th {\n",
       "        vertical-align: top;\n",
       "    }\n",
       "\n",
       "    .dataframe thead th {\n",
       "        text-align: right;\n",
       "    }\n",
       "</style>\n",
       "<table border=\"1\" class=\"dataframe\">\n",
       "  <thead>\n",
       "    <tr style=\"text-align: right;\">\n",
       "      <th></th>\n",
       "      <th>Year</th>\n",
       "      <th>Total Events</th>\n",
       "      <th>Total Affected</th>\n",
       "      <th>Total Deaths</th>\n",
       "      <th>Total Damage (USD, original)</th>\n",
       "      <th>CPI</th>\n",
       "    </tr>\n",
       "    <tr>\n",
       "      <th>Disaster Type</th>\n",
       "      <th></th>\n",
       "      <th></th>\n",
       "      <th></th>\n",
       "      <th></th>\n",
       "      <th></th>\n",
       "      <th></th>\n",
       "    </tr>\n",
       "  </thead>\n",
       "  <tbody>\n",
       "    <tr>\n",
       "      <th>Animal accident</th>\n",
       "      <td>2014</td>\n",
       "      <td>1</td>\n",
       "      <td>5.000000e+00</td>\n",
       "      <td>12.0</td>\n",
       "      <td>0.000000e+00</td>\n",
       "      <td>87.366298</td>\n",
       "    </tr>\n",
       "    <tr>\n",
       "      <th>Drought</th>\n",
       "      <td>1543555</td>\n",
       "      <td>792</td>\n",
       "      <td>2.862115e+09</td>\n",
       "      <td>11733889.0</td>\n",
       "      <td>2.098881e+11</td>\n",
       "      <td>43039.824471</td>\n",
       "    </tr>\n",
       "    <tr>\n",
       "      <th>Earthquake</th>\n",
       "      <td>2134925</td>\n",
       "      <td>1576</td>\n",
       "      <td>2.047664e+08</td>\n",
       "      <td>2343594.0</td>\n",
       "      <td>8.653494e+11</td>\n",
       "      <td>46522.663819</td>\n",
       "    </tr>\n",
       "    <tr>\n",
       "      <th>Extreme temperature</th>\n",
       "      <td>1115693</td>\n",
       "      <td>607</td>\n",
       "      <td>1.036420e+08</td>\n",
       "      <td>194056.0</td>\n",
       "      <td>6.886634e+10</td>\n",
       "      <td>38106.532522</td>\n",
       "    </tr>\n",
       "    <tr>\n",
       "      <th>Flood</th>\n",
       "      <td>7604541</td>\n",
       "      <td>5730</td>\n",
       "      <td>3.961051e+09</td>\n",
       "      <td>7002950.0</td>\n",
       "      <td>9.771118e+11</td>\n",
       "      <td>239869.775450</td>\n",
       "    </tr>\n",
       "    <tr>\n",
       "      <th>Fog</th>\n",
       "      <td>1952</td>\n",
       "      <td>1</td>\n",
       "      <td>0.000000e+00</td>\n",
       "      <td>4000.0</td>\n",
       "      <td>0.000000e+00</td>\n",
       "      <td>9.822074</td>\n",
       "    </tr>\n",
       "    <tr>\n",
       "      <th>Glacial lake outburst</th>\n",
       "      <td>4043</td>\n",
       "      <td>3</td>\n",
       "      <td>2.400000e+01</td>\n",
       "      <td>262.0</td>\n",
       "      <td>2.100000e+08</td>\n",
       "      <td>100.000000</td>\n",
       "    </tr>\n",
       "    <tr>\n",
       "      <th>Insect infestation</th>\n",
       "      <td>183314</td>\n",
       "      <td>95</td>\n",
       "      <td>2.802200e+06</td>\n",
       "      <td>0.0</td>\n",
       "      <td>2.292000e+08</td>\n",
       "      <td>4880.908507</td>\n",
       "    </tr>\n",
       "    <tr>\n",
       "      <th>Landslide</th>\n",
       "      <td>1277348</td>\n",
       "      <td>789</td>\n",
       "      <td>1.476713e+07</td>\n",
       "      <td>67417.0</td>\n",
       "      <td>1.125893e+10</td>\n",
       "      <td>36989.405750</td>\n",
       "    </tr>\n",
       "    <tr>\n",
       "      <th>Mass movement (dry)</th>\n",
       "      <td>93320</td>\n",
       "      <td>48</td>\n",
       "      <td>2.753400e+04</td>\n",
       "      <td>4644.0</td>\n",
       "      <td>2.090000e+08</td>\n",
       "      <td>2269.255805</td>\n",
       "    </tr>\n",
       "    <tr>\n",
       "      <th>Storm</th>\n",
       "      <td>5473348</td>\n",
       "      <td>4579</td>\n",
       "      <td>1.256015e+09</td>\n",
       "      <td>1403607.0</td>\n",
       "      <td>1.749046e+12</td>\n",
       "      <td>149355.146763</td>\n",
       "    </tr>\n",
       "    <tr>\n",
       "      <th>Volcanic activity</th>\n",
       "      <td>457628</td>\n",
       "      <td>269</td>\n",
       "      <td>9.987892e+06</td>\n",
       "      <td>86893.0</td>\n",
       "      <td>6.326912e+09</td>\n",
       "      <td>12030.182594</td>\n",
       "    </tr>\n",
       "    <tr>\n",
       "      <th>Wildfire</th>\n",
       "      <td>744227</td>\n",
       "      <td>453</td>\n",
       "      <td>1.836692e+07</td>\n",
       "      <td>4653.0</td>\n",
       "      <td>1.290320e+11</td>\n",
       "      <td>23624.803026</td>\n",
       "    </tr>\n",
       "  </tbody>\n",
       "</table>\n",
       "</div>"
      ],
      "text/plain": [
       "                          Year  Total Events  Total Affected  Total Deaths  \\\n",
       "Disaster Type                                                                \n",
       "Animal accident           2014             1    5.000000e+00          12.0   \n",
       "Drought                1543555           792    2.862115e+09    11733889.0   \n",
       "Earthquake             2134925          1576    2.047664e+08     2343594.0   \n",
       "Extreme temperature    1115693           607    1.036420e+08      194056.0   \n",
       "Flood                  7604541          5730    3.961051e+09     7002950.0   \n",
       "Fog                       1952             1    0.000000e+00        4000.0   \n",
       "Glacial lake outburst     4043             3    2.400000e+01         262.0   \n",
       "Insect infestation      183314            95    2.802200e+06           0.0   \n",
       "Landslide              1277348           789    1.476713e+07       67417.0   \n",
       "Mass movement (dry)      93320            48    2.753400e+04        4644.0   \n",
       "Storm                  5473348          4579    1.256015e+09     1403607.0   \n",
       "Volcanic activity       457628           269    9.987892e+06       86893.0   \n",
       "Wildfire                744227           453    1.836692e+07        4653.0   \n",
       "\n",
       "                       Total Damage (USD, original)            CPI  \n",
       "Disaster Type                                                       \n",
       "Animal accident                        0.000000e+00      87.366298  \n",
       "Drought                                2.098881e+11   43039.824471  \n",
       "Earthquake                             8.653494e+11   46522.663819  \n",
       "Extreme temperature                    6.886634e+10   38106.532522  \n",
       "Flood                                  9.771118e+11  239869.775450  \n",
       "Fog                                    0.000000e+00       9.822074  \n",
       "Glacial lake outburst                  2.100000e+08     100.000000  \n",
       "Insect infestation                     2.292000e+08    4880.908507  \n",
       "Landslide                              1.125893e+10   36989.405750  \n",
       "Mass movement (dry)                    2.090000e+08    2269.255805  \n",
       "Storm                                  1.749046e+12  149355.146763  \n",
       "Volcanic activity                      6.326912e+09   12030.182594  \n",
       "Wildfire                               1.290320e+11   23624.803026  "
      ]
     },
     "execution_count": 27,
     "metadata": {},
     "output_type": "execute_result"
    }
   ],
   "source": [
    "data.groupby('Disaster Type').sum()"
   ]
  },
  {
   "cell_type": "code",
   "execution_count": 26,
   "id": "f4f4e7fe",
   "metadata": {
    "scrolled": true
   },
   "outputs": [
    {
     "data": {
      "text/plain": [
       "Disaster Type\n",
       "Animal accident                12.0\n",
       "Drought                  11733889.0\n",
       "Earthquake                2343594.0\n",
       "Extreme temperature        194056.0\n",
       "Flood                     7002950.0\n",
       "Fog                          4000.0\n",
       "Glacial lake outburst         262.0\n",
       "Insect infestation              0.0\n",
       "Landslide                   67417.0\n",
       "Mass movement (dry)          4644.0\n",
       "Storm                     1403607.0\n",
       "Volcanic activity           86893.0\n",
       "Wildfire                     4653.0\n",
       "Name: Total Deaths, dtype: float64"
      ]
     },
     "execution_count": 26,
     "metadata": {},
     "output_type": "execute_result"
    }
   ],
   "source": [
    "data.groupby('Disaster Type')['Total Deaths'].sum()"
   ]
  },
  {
   "cell_type": "markdown",
   "id": "30e0d1a0",
   "metadata": {},
   "source": [
    "`.groupby()` kann auch auf mehrere Spalten gleichzeitig angewendet werden"
   ]
  },
  {
   "cell_type": "code",
   "execution_count": 30,
   "id": "61a1cf0b",
   "metadata": {},
   "outputs": [
    {
     "data": {
      "text/plain": [
       "Disaster Type         Disaster Subtype                \n",
       "Drought               Drought                             11733812.0\n",
       "Earthquake            Ground movement                      2075949.0\n",
       "                      Tsunami                               267424.0\n",
       "Extreme temperature   Cold wave                              17765.0\n",
       "                      Heat wave                             172555.0\n",
       "                      Severe winter conditions                3736.0\n",
       "Flood                 Coastal flood                           5352.0\n",
       "                      Flash flood                            70835.0\n",
       "                      Riverine flood                       4445926.0\n",
       "Insect infestation    Grasshopper                                0.0\n",
       "                      Locust                                     0.0\n",
       "Landslide             Avalanche                               5227.0\n",
       "                      Landslide                              41435.0\n",
       "                      Mudslide                                4913.0\n",
       "                      Rockfall                                 128.0\n",
       "                      Subsidence                               287.0\n",
       "Mass movement (dry)   Avalanche                                349.0\n",
       "                      Landslide                               3774.0\n",
       "                      Rockfall                                 477.0\n",
       "                      Subsidence                                34.0\n",
       "Storm                 Convective storm                       22730.0\n",
       "                      Extra-tropical storm                     558.0\n",
       "                      Tropical cyclone                     1355184.0\n",
       "Volcanic activity     Ash fall                               85831.0\n",
       "                      Lava flow                                 33.0\n",
       "                      Pyroclastic flow                         513.0\n",
       "Wildfire              Forest fire                             3334.0\n",
       "                      Land fire (Brush, Bush, Pasture)         966.0\n",
       "Name: Total Deaths, dtype: float64"
      ]
     },
     "execution_count": 30,
     "metadata": {},
     "output_type": "execute_result"
    }
   ],
   "source": [
    "data.groupby(['Disaster Type', 'Disaster Subtype'])['Total Deaths'].sum()"
   ]
  },
  {
   "cell_type": "markdown",
   "id": "1b8fce19",
   "metadata": {},
   "source": [
    "#### Visualisierung"
   ]
  },
  {
   "cell_type": "code",
   "execution_count": null,
   "id": "d31c1948",
   "metadata": {},
   "outputs": [],
   "source": [
    "data.groupby('Disaster Type')['Total Deaths'].sum().plot(kind='pie')"
   ]
  },
  {
   "cell_type": "markdown",
   "id": "831be8d4",
   "metadata": {},
   "source": [
    "Welche Unterschiede gibt es zwischen den Ländern?"
   ]
  },
  {
   "cell_type": "code",
   "execution_count": null,
   "id": "b5f44033",
   "metadata": {},
   "outputs": [],
   "source": [
    "country = 'India'\n",
    "country_data = data[data['Country'] == country]\n",
    "country_data.groupby('Disaster Type')['Total Deaths'].sum().plot(kind='pie')"
   ]
  },
  {
   "cell_type": "markdown",
   "id": "969368ee",
   "metadata": {},
   "source": [
    "#### Wie hat sich die Anzahl der Naturkatastrophen über die Jahre hin entwickelt?"
   ]
  },
  {
   "cell_type": "code",
   "execution_count": null,
   "id": "d7712420",
   "metadata": {},
   "outputs": [],
   "source": []
  },
  {
   "cell_type": "markdown",
   "id": "7a95806d",
   "metadata": {},
   "source": [
    "## Länderdashboard"
   ]
  },
  {
   "cell_type": "code",
   "execution_count": null,
   "id": "1a42939a",
   "metadata": {},
   "outputs": [],
   "source": [
    "def plot_pie(country_data):\n",
    "    country_data.groupby('Disaster Type')['Total Deaths'].sum().plot(kind='pie', title='Anteil an getöten Menschen nach Naturkatastrophentyp')\n",
    "    plt.show()"
   ]
  },
  {
   "cell_type": "code",
   "execution_count": null,
   "id": "a2f865f6",
   "metadata": {},
   "outputs": [],
   "source": [
    "def plot_time_evolution(country_data):\n",
    "    yearly_events = country_data.groupby('Year')['Total Events'].sum()\n",
    "    yearly_events.plot(kind='line', x='Year', y='Total Events', title='Anzahl an Naturkatastrophen pro Jahr')\n",
    "    plt.show()"
   ]
  },
  {
   "cell_type": "code",
   "execution_count": null,
   "id": "6b15a7fd",
   "metadata": {},
   "outputs": [],
   "source": [
    "def death_overview(country_data):\n",
    "    total_deaths = country_data[\"Total Deaths\"].sum()\n",
    "    print(f'Getötete Menschen seit 1900: {total_deaths:,.0f}')"
   ]
  },
  {
   "cell_type": "code",
   "execution_count": null,
   "id": "a40045ec",
   "metadata": {},
   "outputs": [],
   "source": [
    "def compute_anteil(country_total, world_total):\n",
    "    anteil = round(country_total / (world_total / 100.0), 2)\n",
    "    print(f'{anteil}% aller Menschen die weltweit von Naturkatastrophen betroffen sind leben hier.')"
   ]
  },
  {
   "cell_type": "code",
   "execution_count": null,
   "id": "409ea3bb",
   "metadata": {},
   "outputs": [],
   "source": [
    "def analyze(data, country):\n",
    "    print(f'Naturkatastrophen in {country.upper()} \\n')\n",
    "    country_data = data[data['Country'] == country]\n",
    "    \n",
    "    compute_anteil(country_data['Total Affected'].sum(), data['Total Affected'].sum())\n",
    "    death_overview(country_data)\n",
    "    plot_pie(country_data)\n",
    "    plot_time_evolution(country_data)"
   ]
  },
  {
   "cell_type": "code",
   "execution_count": null,
   "id": "ee148b1a",
   "metadata": {
    "scrolled": true
   },
   "outputs": [],
   "source": [
    "analyze(data, 'Bangladesh')"
   ]
  },
  {
   "cell_type": "markdown",
   "id": "d2a9d7a5",
   "metadata": {},
   "source": [
    "### Überblick über die Welt\n",
    "\n",
    "Wie können wir die selbstdefinierte Funktion `analyze()` anpassen, so dass auch eine Gesamtstatistik, die alle Länder der Welt enthält abgefragt werden kann?"
   ]
  },
  {
   "cell_type": "code",
   "execution_count": null,
   "id": "6b94080d",
   "metadata": {},
   "outputs": [],
   "source": [
    "def analyze(data, country):\n",
    "    print(f'Naturkatastrophen in {country.upper()} \\n')\n",
    "    country_data = data[data['Country'] == country]\n",
    "    stats_overview(country_data)\n",
    "    plot_pie(country_data)\n",
    "    plot_time_evolution(country_data)"
   ]
  },
  {
   "cell_type": "code",
   "execution_count": null,
   "id": "b2ef99a8",
   "metadata": {},
   "outputs": [],
   "source": [
    "analyze(data, 'world')"
   ]
  },
  {
   "cell_type": "markdown",
   "id": "e74a7453",
   "metadata": {
    "slideshow": {
     "slide_type": "slide"
    }
   },
   "source": [
    "# Zeit für Feedback\n",
    "\n",
    "\n",
    "\n",
    "Link: https://ahaslides.com/3VAQJ\n",
    "\n",
    "![Feedback QR Code](../imgs/qrcode_vl6.png)\n",
    "\n"
   ]
  }
 ],
 "metadata": {
  "kernelspec": {
   "display_name": "Python 3 (ipykernel)",
   "language": "python",
   "name": "python3"
  },
  "language_info": {
   "codemirror_mode": {
    "name": "ipython",
    "version": 3
   },
   "file_extension": ".py",
   "mimetype": "text/x-python",
   "name": "python",
   "nbconvert_exporter": "python",
   "pygments_lexer": "ipython3",
   "version": "3.9.15"
  }
 },
 "nbformat": 4,
 "nbformat_minor": 5
}
