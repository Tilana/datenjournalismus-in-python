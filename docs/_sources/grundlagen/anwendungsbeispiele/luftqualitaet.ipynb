{
 "cells": [
  {
   "cell_type": "markdown",
   "id": "39061754",
   "metadata": {
    "slideshow": {
     "slide_type": "slide"
    }
   },
   "source": [
    "# Analyse der Luftqualität in Leipzig\n",
    "\n",
    "Wir analysieren die Luftqualität in Leipzig basierend auf den Daten des [Geoportals Leipzig](https://geoportal.leipzig.de/arcgis/apps/experiencebuilder/experience/?id=8a13182739c74c228ff27a0ec8fb7202)\n",
    "\n",
    "Python Grundlagen:\n",
    "- Listen\n",
    "- if-Bedingungen\n",
    "- For-Schleifen."
   ]
  },
  {
   "cell_type": "markdown",
   "id": "1f407c7a",
   "metadata": {
    "slideshow": {
     "slide_type": "slide"
    }
   },
   "source": [
    "![Luftqualitätsmonitor in Leipzig](../../../imgs/luftqualitaet_leipzig.png)\n",
    "\n"
   ]
  },
  {
   "cell_type": "markdown",
   "id": "47f2a517",
   "metadata": {
    "slideshow": {
     "slide_type": "slide"
    }
   },
   "source": [
    "## Hintergrund PM10\n",
    "\n",
    "Atmosphärische Partikel (PM) sind mikroskopische feste oder flüssige Materie, die in der Luft suspendiert sind. [...] Von größter Bedeutung für die Bevölkerungsgesundheit sind die Partikel, die klein genug sind, um in die tiefsten Teile der Lunge eingeatmet zu werden. Diese **Partikel haben einen Durchmesser von weniger als 10 Mikrometer** (ungefähr 1/7 der Dicke eines menschlichen Haares) und sind als PM10 definiert. PM10 ist eine **Mischung aus Materialien wie Rauch, Ruß, Staub, Salz, Säuren und Metallen.** [...] PM10 wird häufig als Nebel wahrgenommen, den man auch als **Smog** bezeichnet. **PM10 gehört zu den schädlichsten aller Luftschadstoffe**, da\n",
    "\n",
    "- PM10 kann die Anzahl und den Schweregrad von Asthmaanfällen erhöhen\n",
    "- PM10 verursacht oder verschlimmert Bronchitis und andere Lungenerkrankungen\n",
    "- PM10 reduziert die Fähigkeit des Körpers, Infektionen zu bekämpfen\n",
    "\n",
    "Quelle: https://www.meteoblue.com/de/wetter/outdoorsports/airquality/leipzig_deutschland_2879139"
   ]
  },
  {
   "cell_type": "markdown",
   "id": "1515beb3",
   "metadata": {
    "slideshow": {
     "slide_type": "slide"
    }
   },
   "source": [
    "## PM10 Daten"
   ]
  },
  {
   "cell_type": "code",
   "execution_count": 1,
   "id": "28b060d3",
   "metadata": {
    "slideshow": {
     "slide_type": "-"
    }
   },
   "outputs": [
    {
     "name": "stdout",
     "output_type": "stream",
     "text": [
      "[15, 15, 16, 19, 23, 23, 40, 37, 38, 29, 16]\n",
      "<class 'list'>\n"
     ]
    }
   ],
   "source": [
    "# Feinstaub PM10 in Mikrometer / Kubikmeter\n",
    "pm10 = [15, 15, 16, 19, 23, 23, 40, 37, 38, 29, 16]\n",
    "print(pm10)\n",
    "print(type(pm10))"
   ]
  },
  {
   "cell_type": "markdown",
   "id": "8ca632e1",
   "metadata": {
    "slideshow": {
     "slide_type": "slide"
    }
   },
   "source": [
    "## Luftqualität Leipzig - Erste Analyse\n",
    "\n",
    "- Wie viele Messungen sind vorhanden?\n",
    "\n",
    "- Was ist der maximale Feinstaubwert? Welcher der minimale? Wie ist die Temperatur im Durchschnitt?\n",
    "\n"
   ]
  },
  {
   "cell_type": "code",
   "execution_count": 2,
   "id": "5a8317b2",
   "metadata": {
    "slideshow": {
     "slide_type": "fragment"
    }
   },
   "outputs": [
    {
     "data": {
      "text/plain": [
       "11"
      ]
     },
     "execution_count": 2,
     "metadata": {},
     "output_type": "execute_result"
    }
   ],
   "source": [
    "# Anzahl an Messungen entspricht der Länge der List\n",
    "len(pm10)"
   ]
  },
  {
   "cell_type": "markdown",
   "id": "e6fcb215",
   "metadata": {
    "slideshow": {
     "slide_type": "slide"
    }
   },
   "source": [
    "Grundlegende Statistik"
   ]
  },
  {
   "cell_type": "code",
   "execution_count": 3,
   "id": "cbd8d3a4",
   "metadata": {
    "slideshow": {
     "slide_type": "fragment"
    }
   },
   "outputs": [
    {
     "data": {
      "text/plain": [
       "40"
      ]
     },
     "execution_count": 3,
     "metadata": {},
     "output_type": "execute_result"
    }
   ],
   "source": [
    "# Maximum\n",
    "max(pm10)"
   ]
  },
  {
   "cell_type": "code",
   "execution_count": 4,
   "id": "8c9cd185",
   "metadata": {
    "slideshow": {
     "slide_type": "fragment"
    }
   },
   "outputs": [
    {
     "data": {
      "text/plain": [
       "15"
      ]
     },
     "execution_count": 4,
     "metadata": {},
     "output_type": "execute_result"
    }
   ],
   "source": [
    "# Minimum\n",
    "min(pm10)"
   ]
  },
  {
   "cell_type": "code",
   "execution_count": 5,
   "id": "800906a8",
   "metadata": {
    "slideshow": {
     "slide_type": "fragment"
    }
   },
   "outputs": [
    {
     "data": {
      "text/plain": [
       "24.636363636363637"
      ]
     },
     "execution_count": 5,
     "metadata": {},
     "output_type": "execute_result"
    }
   ],
   "source": [
    "# Durchschnitt\n",
    "sum(pm10) / len(pm10)"
   ]
  },
  {
   "cell_type": "code",
   "execution_count": 6,
   "id": "d3838077",
   "metadata": {
    "slideshow": {
     "slide_type": "slide"
    }
   },
   "outputs": [
    {
     "name": "stdout",
     "output_type": "stream",
     "text": [
      "Häufigkeit Min Wert:\n",
      "2\n",
      "Häufigkeit Max Wert:\n",
      "1\n"
     ]
    }
   ],
   "source": [
    "# Feinstaub PM10\n",
    "pm10 = [15, 15, 16, 19, 23, 23, 40, 37, 38, 29, 16]\n",
    "\n",
    "# Wie häufig sind die Min / Max Messwerte?\n",
    "print('Häufigkeit Min Wert:')\n",
    "print(pm10.count(min(pm10)))\n",
    "\n",
    "print('Häufigkeit Max Wert:')\n",
    "print(pm10.count(max(pm10)))\n"
   ]
  },
  {
   "cell_type": "code",
   "execution_count": 7,
   "id": "b4189180",
   "metadata": {
    "slideshow": {
     "slide_type": "fragment"
    }
   },
   "outputs": [
    {
     "name": "stdout",
     "output_type": "stream",
     "text": [
      "7\n"
     ]
    }
   ],
   "source": [
    "# An welchem Tag (nach Beginn der Messung) wurde der maximale Wert erreicht?\n",
    "print(pm10.index(40) + 1)"
   ]
  },
  {
   "cell_type": "code",
   "execution_count": 8,
   "id": "15569e45",
   "metadata": {
    "slideshow": {
     "slide_type": "slide"
    }
   },
   "outputs": [
    {
     "name": "stdout",
     "output_type": "stream",
     "text": [
      "[15, 15, 16, 16, 19, 23, 23, 29, 37, 38, 40]\n",
      "[40, 38, 37, 29, 23, 23, 19, 16, 16, 15, 15]\n"
     ]
    }
   ],
   "source": [
    "# Liste sortieren\n",
    "pm10.sort()\n",
    "print(pm10)\n",
    "\n",
    "pm10.sort(reverse=True)\n",
    "print(pm10)"
   ]
  },
  {
   "cell_type": "markdown",
   "id": "98c582cb",
   "metadata": {},
   "source": [
    "## Warnsystem\n",
    "\n",
    "Ziel: Ein Warnsystem falls die Luftqualität in den gelben Bereich abrutscht.\n",
    "\n",
    "![Warnsystem](../../../imgs/qualitaetsindex.png)\n",
    "\n",
    "\n"
   ]
  },
  {
   "cell_type": "code",
   "execution_count": 9,
   "id": "e8b092da",
   "metadata": {},
   "outputs": [],
   "source": [
    "pm10 = [15, 15, 16, 19, 23, 23, 40, 37, 38, 29, 16]"
   ]
  },
  {
   "cell_type": "code",
   "execution_count": 10,
   "id": "55c31f7c",
   "metadata": {},
   "outputs": [
    {
     "name": "stdout",
     "output_type": "stream",
     "text": [
      "15\n",
      "15\n",
      "16\n",
      "19\n",
      "23\n",
      "23\n",
      "40\n",
      "37\n",
      "38\n",
      "29\n",
      "16\n"
     ]
    }
   ],
   "source": [
    "# 1. Schritt: Gib jeden Messwert aus\n",
    "for messwert in pm10:\n",
    "    print(messwert)"
   ]
  },
  {
   "cell_type": "code",
   "execution_count": 11,
   "id": "ade0ad53",
   "metadata": {
    "scrolled": true
   },
   "outputs": [
    {
     "name": "stdout",
     "output_type": "stream",
     "text": [
      "15\n",
      "15\n",
      "16\n",
      "19\n",
      "23\n",
      "23\n",
      "40\n",
      "Achtung: Die Luftqualität ist mäßig\n",
      "37\n",
      "Achtung: Die Luftqualität ist mäßig\n",
      "38\n",
      "Achtung: Die Luftqualität ist mäßig\n",
      "29\n",
      "16\n"
     ]
    }
   ],
   "source": [
    "# 2. Schritt: Falls die Schwelle von 36 Mikrogramm PM10 erreicht werden gib eine Warnung aus\n",
    "for messwert in pm10:\n",
    "    print(messwert)\n",
    "    if messwert >= 36:\n",
    "        print('Achtung: Die Luftqualität ist mäßig')"
   ]
  },
  {
   "cell_type": "markdown",
   "id": "ee6419cd",
   "metadata": {},
   "source": [
    " ## Aufgaben:\n",
    " \n",
    " Angenommen:\n",
    " \n",
    " (1) Die Stadt Leipzig verkündet, dasss die Messstation falsch geeicht wurden und alle Werte zum 1,3 µg/m³ zu niedrig sind.\n",
    "    Erstelle eine neue Liste mit den angepassten Messwerten\n",
    "    \n",
    " (2) Werte über 36 µg/m³ sind gesundheitsschädlich. Wie oft wurden diese Grenze überschritten?\n",
    " \n",
    " (3) Wie weit liegen die Messwerte über oder unter der Grenze von 36 µg/m³"
   ]
  },
  {
   "cell_type": "code",
   "execution_count": 12,
   "id": "ddfef1c2",
   "metadata": {},
   "outputs": [
    {
     "name": "stdout",
     "output_type": "stream",
     "text": [
      "[16.3, 16.3, 17.3, 20.3, 24.3, 24.3, 41.3, 38.3, 39.3, 30.3, 17.3]\n"
     ]
    }
   ],
   "source": [
    "# (1) Korrektur der Messwerte\n",
    "pm10_korrekt = []\n",
    "for messwert in pm10:\n",
    "    pm10_korrekt.append(messwert + 1.3)\n",
    "    \n",
    "print(pm10_korrekt)"
   ]
  },
  {
   "cell_type": "code",
   "execution_count": 13,
   "id": "ed678e5d",
   "metadata": {},
   "outputs": [
    {
     "name": "stdout",
     "output_type": "stream",
     "text": [
      "3\n"
     ]
    }
   ],
   "source": [
    "# (2) Gesundheitsschädliche Werte\n",
    "count = 0\n",
    "for messwert in pm10_korrekt:\n",
    "    if messwert > 36:\n",
    "        count = count + 1\n",
    "print(count)"
   ]
  },
  {
   "cell_type": "code",
   "execution_count": 14,
   "id": "eaeadd01",
   "metadata": {},
   "outputs": [
    {
     "name": "stdout",
     "output_type": "stream",
     "text": [
      "[-19.7, -19.7, -18.7, -15.7, -11.7, -11.7, 5.3, 2.3, 3.3, -5.7, -18.7]\n"
     ]
    }
   ],
   "source": [
    "# (3) Differenz zur Grenze\n",
    "diff = []\n",
    "for messwert in pm10_korrekt:\n",
    "    differenz = round(messwert - 36, 2)\n",
    "    diff.append(differenz)\n",
    "\n",
    "print(diff)"
   ]
  }
 ],
 "metadata": {
  "kernelspec": {
   "display_name": "Python 3.9.15 64-bit",
   "language": "python",
   "name": "python3"
  },
  "language_info": {
   "codemirror_mode": {
    "name": "ipython",
    "version": 3
   },
   "file_extension": ".py",
   "mimetype": "text/x-python",
   "name": "python",
   "nbconvert_exporter": "python",
   "pygments_lexer": "ipython3",
   "version": "3.9.15"
  },
  "vscode": {
   "interpreter": {
    "hash": "f9f85f796d01129d0dd105a088854619f454435301f6ffec2fea96ecbd9be4ac"
   }
  }
 },
 "nbformat": 4,
 "nbformat_minor": 5
}
