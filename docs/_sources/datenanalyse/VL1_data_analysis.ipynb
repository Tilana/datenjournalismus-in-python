{
 "cells": [
  {
   "cell_type": "markdown",
   "id": "939e1de3-3987-422e-8a5b-c5000905de11",
   "metadata": {
    "slideshow": {
     "slide_type": "slide"
    },
    "vscode": {
     "languageId": "plaintext"
    }
   },
   "source": [
    "# Datenanalyse Teil I\n",
    "\n",
    "\n",
    "### Natalie Widmann\n",
    "\n",
    "\n",
    "\n",
    "\n",
    "Wintersemester 2024 / 2025\n",
    "\n",
    "\n"
   ]
  },
  {
   "cell_type": "markdown",
   "id": "a8d16a0f",
   "metadata": {
    "slideshow": {
     "slide_type": "slide"
    }
   },
   "source": [
    "## Datenanalyse und -verarbeitung  in Python\n",
    "\n",
    "\n",
    "### Ziele\n",
    "\n",
    "- Verständnis der Analyseschritte im Datenjournalismus\n",
    "- Eplorative Analyse von strukturierten Daten\n",
    "- Grundkenntnisse bei der Visualisierung von Daten\n",
    "- Kennenlernen von Python Package Pandas"
   ]
  },
  {
   "cell_type": "markdown",
   "id": "a072b5a7",
   "metadata": {
    "slideshow": {
     "slide_type": "slide"
    }
   },
   "source": [
    "\n",
    "\n",
    "![Datenpipeline](../../imgs/datapipeline.png)\n"
   ]
  },
  {
   "cell_type": "markdown",
   "id": "ecac78fb",
   "metadata": {
    "slideshow": {
     "slide_type": "slide"
    }
   },
   "source": [
    "## Was sind Daten?\n",
    "\n",
    "\n",
    "### Strukturierte Daten\n",
    "\n",
    "Strukturierte Daten sind gut organisiert und so formattiert, dass es einfach ist sie zu durchsuchen, sie maschinell zu lesen oder zu verarbeiten. Das einfachste Beispiel ist eine Tabelle in der jede Spalte eine Kategorie oder einen Wert festlegt. \n",
    "\n",
    "\n",
    "### Unstrukturierte Daten\n",
    "\n",
    "Im Gegensatz dazu sind unstrukturierte Daten nicht in einem bestimmten Format oder einer festgelegten Struktur verfügbar. Dazu zählen Texte, Bilder, Social Media Feeds, aber auch Audio Files, etc.\n",
    "\n",
    "\n",
    "### Semi-Strukturierte Daten\n",
    "\n",
    "Semi-strukturierte Daten bilden eine Mischform. Beispielsweise eine Tabelle mit E-Mail Daten, in der Empfänger, Betreff, Datum und Absender strukturierte Informationen enthalten, der eigentliche Text jedoch unstrukturiert ist. "
   ]
  },
  {
   "cell_type": "markdown",
   "id": "218a0599",
   "metadata": {
    "slideshow": {
     "slide_type": "slide"
    }
   },
   "source": [
    "## Was sind Daten?\n",
    "\n",
    "![Daten](../../imgs/data.png)\n"
   ]
  },
  {
   "cell_type": "markdown",
   "id": "d32aa6b1",
   "metadata": {
    "slideshow": {
     "slide_type": "slide"
    }
   },
   "source": [
    "## Pandas\n",
    "\n",
    "\n",
    "[Pandas](https://pandas.pydata.org/) ist ein Python Package und ist abgeleitet aus \"Python and data analysis\".\n",
    "\n",
    "Pandas stellt die Grundfunktionalitäten für das Arbeiten mit strukturierten Daten zur Verfügung.\n",
    "\n",
    " "
   ]
  },
  {
   "cell_type": "markdown",
   "id": "763c00c7",
   "metadata": {
    "slideshow": {
     "slide_type": "slide"
    }
   },
   "source": [
    "#### Installation von Python Packages\n",
    "\n",
    "Packages die von der Python Community zur Verfügung gestellt werden, müssen vor der Verwendung installiert werden.\n",
    "Dafür können Packagemanager wie [`pip`](https://pypi.org/project/pip/) verwendet werden.\n",
    "\n",
    "Weitere Tipps für die Installation von Python Packages in Windows, Linux und Mac gibt es [hier](https://packaging.python.org/en/latest/tutorials/installing-packages/).\n",
    "\n",
    "In Jupyter Notebooks können Packages wie folgt installiert werden:"
   ]
  },
  {
   "cell_type": "code",
   "execution_count": null,
   "id": "75c9c32d",
   "metadata": {
    "slideshow": {
     "slide_type": "slide"
    }
   },
   "outputs": [],
   "source": [
    "# Install a pip package im Jupyter Notebook\n",
    "import sys\n",
    "!pip install pandas\n",
    "!pip install openpyxl"
   ]
  },
  {
   "cell_type": "code",
   "execution_count": null,
   "id": "b097f6e1",
   "metadata": {
    "slideshow": {
     "slide_type": "fragment"
    }
   },
   "outputs": [],
   "source": [
    "import pandas as pd\n",
    "\n",
    "pd.set_option('display.float_format', '{:.2f}'.format)"
   ]
  },
  {
   "cell_type": "markdown",
   "id": "8cbd6538",
   "metadata": {},
   "source": [
    "## Idee, Daten finden & Verifikation\n"
   ]
  },
  {
   "cell_type": "markdown",
   "id": "78518cf8",
   "metadata": {
    "slideshow": {
     "slide_type": "slide"
    }
   },
   "source": [
    "### Aggregated figures for Natural Disasters in EM-DAT\n",
    "\n",
    "Link: https://data.humdata.org/dataset/emdat-country-profiles\n",
    "\n",
    "\n",
    "In 1988, the **Centre for Research on the Epidemiology of Disasters (CRED)** launched the **Emergency Events Database (EM-DAT)**. EM-DAT was created with the initial support of the **World Health Organisation (WHO) and the Belgian Government**.\n",
    "\n",
    "The main objective of the database is to **serve the purposes of humanitarian action at national and international levels**. The initiative aims to rationalise decision making for disaster preparedness, as well as provide an objective base for vulnerability assessment and priority setting.\n",
    "\n",
    "EM-DAT contains essential core data on the **occurrence and effects of over 22,000 mass disasters in the world from 1900 to the present day**. The database is compiled from various sources, including UN agencies, non-governmental organisations, insurance companies, research institutes and press agencies.\n",
    "\n"
   ]
  },
  {
   "cell_type": "markdown",
   "id": "f9115b73-9ce7-4463-a2dd-5986457de4fe",
   "metadata": {},
   "source": [
    "### Was ist die Geschichte?\n",
    "\n",
    "#### Mögliche Ansätze / Fragen an die Daten\n",
    "\n",
    "- Steigt die Anzahl an Naturkatastrophen weltweit?\n",
    "- In welchem Jahr gabe es die meisten Naturkatastrophen?\n",
    "- Welche Länder sind am stärksten von Naturkatastrophen betroffen?\n",
    "- Wie ist die Situation in Deutschland?\n",
    "- Welche Länder sind von Naturkatastrophen betroffen haben aber vergleichsweise geringe Todesfälle?\n",
    "- Welche Naturkatastrophen sind am tödlichsten?"
   ]
  },
  {
   "cell_type": "markdown",
   "id": "a49d4f73-3bf3-4b6d-b42d-2f093b8f3b98",
   "metadata": {},
   "source": [
    "### Daten einlesen mit Pandas\n",
    "\n",
    "siehe auch:\n",
    "- [Doku - 02 Read & Write](https://pandas.pydata.org/docs/getting_started/intro_tutorials/02_read_write.html)\n",
    "- [IO tools](https://pandas.pydata.org/docs/user_guide/io.html)\n"
   ]
  },
  {
   "cell_type": "code",
   "execution_count": null,
   "id": "9249fd9c-56ce-4526-9efc-4f6f446a93c9",
   "metadata": {},
   "outputs": [],
   "source": [
    "data_url = \"https://data.humdata.org/dataset/74163686-a029-4e27-8fbf-c5bfcd13f953/resource/c5ce40d6-07b1-4f36-955a-d6196436ff6b/download/emdat-country-profiles_2024_12_02.xlsx\"\n",
    "data = pd.read_excel(data_url, engine=\"openpyxl\")\n",
    "data"
   ]
  },
  {
   "cell_type": "markdown",
   "id": "cc9f683e",
   "metadata": {},
   "source": [
    "## Datenexploration und -bereinigung\n",
    "\n",
    "### Überblick über die Daten"
   ]
  },
  {
   "cell_type": "markdown",
   "id": "7dc49149",
   "metadata": {
    "slideshow": {
     "slide_type": "slide"
    }
   },
   "source": [
    "- Wie groß ist der Datensatz?\n",
    "- Wie viele Zeilen und wie viele Spalten sind vorhanden?\n",
    "\n",
    "\n",
    "siehe auch:\n",
    "- "
   ]
  },
  {
   "cell_type": "code",
   "execution_count": null,
   "id": "bf897d90",
   "metadata": {
    "slideshow": {
     "slide_type": "fragment"
    }
   },
   "outputs": [],
   "source": [
    "data.shape"
   ]
  },
  {
   "cell_type": "markdown",
   "id": "5d881c06",
   "metadata": {
    "slideshow": {
     "slide_type": "slide"
    }
   },
   "source": [
    "- Die Spaltennamen"
   ]
  },
  {
   "cell_type": "code",
   "execution_count": null,
   "id": "f25be8ad",
   "metadata": {},
   "outputs": [],
   "source": [
    "data.columns"
   ]
  },
  {
   "cell_type": "markdown",
   "id": "1524e2ba",
   "metadata": {
    "slideshow": {
     "slide_type": "slide"
    }
   },
   "source": [
    "`info()` für mehr Infos über die Spalten"
   ]
  },
  {
   "cell_type": "code",
   "execution_count": null,
   "id": "dcc799e7",
   "metadata": {},
   "outputs": [],
   "source": [
    "data.info()"
   ]
  },
  {
   "cell_type": "markdown",
   "id": "247febdd",
   "metadata": {},
   "source": [
    "`describe()` zeigt die grundlegenden statistischen Eigenschaften von Spalten mit numerischem Datentyp, also `int` und `float`. \n",
    "\n",
    "Die Methode berechnet:\n",
    "- die Anzahl an fehlenden Werten\n",
    "- Durchschnitt\n",
    "- Standardabweichung\n",
    "- Zahlenrange\n",
    "- Media\n",
    "- 0.25 und 0.75 Quartile"
   ]
  },
  {
   "cell_type": "code",
   "execution_count": null,
   "id": "9ac15f1c",
   "metadata": {},
   "outputs": [],
   "source": [
    "data.describe()"
   ]
  },
  {
   "cell_type": "markdown",
   "id": "97f571f5",
   "metadata": {
    "slideshow": {
     "slide_type": "slide"
    }
   },
   "source": [
    "### Data Cleaning\n",
    "\n",
    "\n",
    "- Erste Zeile im DataFrame entfernen"
   ]
  },
  {
   "cell_type": "markdown",
   "id": "8e993bd8-d477-40f0-8fd3-b9188a20d5d7",
   "metadata": {
    "slideshow": {
     "slide_type": "slide"
    }
   },
   "source": [
    "1. Möglichkeit: Slicing"
   ]
  },
  {
   "cell_type": "code",
   "execution_count": null,
   "id": "be97bb4d-053f-4fb2-b2c7-b6b4c6f3ac32",
   "metadata": {},
   "outputs": [],
   "source": [
    "data[1:]"
   ]
  },
  {
   "cell_type": "code",
   "execution_count": null,
   "id": "a0d644aa",
   "metadata": {
    "slideshow": {
     "slide_type": "fragment"
    }
   },
   "outputs": [],
   "source": [
    "data.index"
   ]
  },
  {
   "cell_type": "code",
   "execution_count": null,
   "id": "7c954e1a-a64d-4468-9678-11af11b564c2",
   "metadata": {},
   "outputs": [],
   "source": [
    "data[200:220]"
   ]
  },
  {
   "cell_type": "markdown",
   "id": "4759ee0d-d547-485d-addf-fc5ed5bc2ee2",
   "metadata": {},
   "source": [
    "2. Möglichkeit: Drop\n",
    "\n",
    "siehe auch: [Drop](https://pandas.pydata.org/docs/reference/api/pandas.DataFrame.drop.html#pandas.DataFrame.drop)"
   ]
  },
  {
   "cell_type": "code",
   "execution_count": null,
   "id": "6c52dd67",
   "metadata": {
    "slideshow": {
     "slide_type": "fragment"
    }
   },
   "outputs": [],
   "source": [
    "data.drop(index=0)"
   ]
  },
  {
   "cell_type": "code",
   "execution_count": null,
   "id": "849f9bf0-4cb3-4fce-b9ca-8478bc65efb8",
   "metadata": {},
   "outputs": [],
   "source": [
    "data = data.drop(index=0)\n",
    "data"
   ]
  },
  {
   "cell_type": "code",
   "execution_count": null,
   "id": "493a5ed0-9257-425c-b5b9-1daa9d5eec32",
   "metadata": {},
   "outputs": [],
   "source": [
    "data.drop(['Year'], axis=1)\n",
    "data"
   ]
  },
  {
   "cell_type": "markdown",
   "id": "ebe60fbe-a933-4acc-867c-1c8046627dd5",
   "metadata": {},
   "source": [
    "- Entferne irrelevante Spalten"
   ]
  },
  {
   "cell_type": "code",
   "execution_count": null,
   "id": "88916f07-5398-4bfc-98b5-6a819510d522",
   "metadata": {},
   "outputs": [],
   "source": [
    "cols = ['ISO', 'Disaster Group', 'Total Damage (USD, adjusted)', 'CPI']\n",
    "data.drop(cols, axis=1, inplace=True)"
   ]
  },
  {
   "cell_type": "markdown",
   "id": "c5ee8d0b-c386-4e1e-9deb-8ff9f919cab2",
   "metadata": {},
   "source": [
    "### Einzelne Spalten auswählen und besser verstehen\n",
    "\n",
    "siehe auch:\n",
    "- [Pandas Indexing](https://pandas.pydata.org/docs/user_guide/indexing.html)\n",
    "\n",
    "Auf die Werte einer Spalte kann `<dataframe>['<spaltenname>']` zugegriffen werden."
   ]
  },
  {
   "cell_type": "code",
   "execution_count": null,
   "id": "ef64293a",
   "metadata": {},
   "outputs": [],
   "source": [
    "data['Year']"
   ]
  },
  {
   "cell_type": "markdown",
   "id": "70437f47-f31a-44ca-85ad-09c5fcb7ed02",
   "metadata": {},
   "source": [
    "Mehrere Spalten können über eine Liste ausgewählt werden"
   ]
  },
  {
   "cell_type": "code",
   "execution_count": null,
   "id": "d0fb8c6f-b161-4876-925c-f9c274527c58",
   "metadata": {},
   "outputs": [],
   "source": [
    "data[['Year', 'Country']]"
   ]
  },
  {
   "cell_type": "code",
   "execution_count": null,
   "id": "629722d7-5386-4b49-ba34-26f00d053648",
   "metadata": {},
   "outputs": [],
   "source": [
    "columns = ['Year', 'Country', 'Total Events', 'Total Affected']\n",
    "data[columns]"
   ]
  },
  {
   "cell_type": "markdown",
   "id": "3a37d84b",
   "metadata": {
    "slideshow": {
     "slide_type": "slide"
    }
   },
   "source": [
    "### Datentypen abfragen und anpassen\n",
    "\n",
    "siehe auch:\n",
    "- [basic dtypes](https://pandas.pydata.org/docs/user_guide/basics.html#basics-dtypes)\n",
    "- [pandas arrays, scalars and datatypes](https://pandas.pydata.org/docs/reference/arrays.html)"
   ]
  },
  {
   "cell_type": "code",
   "execution_count": null,
   "id": "92766868-cd21-4915-8b45-5bb3e9482482",
   "metadata": {},
   "outputs": [],
   "source": [
    "data.describe()"
   ]
  },
  {
   "cell_type": "code",
   "execution_count": null,
   "id": "2a818728",
   "metadata": {
    "slideshow": {
     "slide_type": "-"
    }
   },
   "outputs": [],
   "source": [
    "data.info()"
   ]
  },
  {
   "cell_type": "code",
   "execution_count": null,
   "id": "0e99a323",
   "metadata": {
    "slideshow": {
     "slide_type": "slide"
    }
   },
   "outputs": [],
   "source": [
    "# Datentyp Abfrage mit dem Attribut\n",
    "data['Year'].dtype"
   ]
  },
  {
   "cell_type": "code",
   "execution_count": null,
   "id": "4b8fa26b",
   "metadata": {
    "slideshow": {
     "slide_type": "fragment"
    }
   },
   "outputs": [],
   "source": [
    "# Umwandlung des Datentyp\n",
    "data[\"Year\"] = pd.to_numeric(data[\"Year\"])\n",
    "data['Year'].dtype"
   ]
  },
  {
   "cell_type": "code",
   "execution_count": null,
   "id": "a596c7c9-4787-4a81-84f2-b78da0cb3b7c",
   "metadata": {},
   "outputs": [],
   "source": [
    "data.columns"
   ]
  },
  {
   "cell_type": "code",
   "execution_count": null,
   "id": "eeaf4901",
   "metadata": {
    "slideshow": {
     "slide_type": "slide"
    }
   },
   "outputs": [],
   "source": [
    "# Auf alle integer und float Spalten anwenden\n",
    "cols = ['Total Events', 'Total Affected', 'Total Deaths', 'Total Damage (USD, original)']\n",
    "for col in cols:\n",
    "    data[col] = pd.to_numeric(data[col])"
   ]
  },
  {
   "cell_type": "code",
   "execution_count": null,
   "id": "959fc091",
   "metadata": {
    "slideshow": {
     "slide_type": "fragment"
    }
   },
   "outputs": [],
   "source": [
    "data.info()"
   ]
  },
  {
   "cell_type": "code",
   "execution_count": null,
   "id": "114799fa-b4b8-4562-a1ec-7f7958bb0b25",
   "metadata": {
    "slideshow": {
     "slide_type": "fragment"
    }
   },
   "outputs": [],
   "source": [
    "data.describe()"
   ]
  },
  {
   "cell_type": "markdown",
   "id": "87c3f21f",
   "metadata": {
    "slideshow": {
     "slide_type": "slide"
    }
   },
   "source": [
    "### Überblick über die numerischen Daten"
   ]
  },
  {
   "cell_type": "code",
   "execution_count": null,
   "id": "08a33f19",
   "metadata": {
    "slideshow": {
     "slide_type": "fragment"
    }
   },
   "outputs": [],
   "source": [
    "data.describe()"
   ]
  },
  {
   "cell_type": "markdown",
   "id": "c7a2d7ed",
   "metadata": {
    "slideshow": {
     "slide_type": "slide"
    }
   },
   "source": [
    "### Überblick über die Objekt Daten\n",
    "\n",
    "- Welche Länder kommen im Datensatz vor?"
   ]
  },
  {
   "cell_type": "code",
   "execution_count": null,
   "id": "74ee2ed3-c07c-409e-bcc9-3fcc4ba92227",
   "metadata": {},
   "outputs": [],
   "source": [
    "data['Country'].unique()"
   ]
  },
  {
   "cell_type": "code",
   "execution_count": null,
   "id": "4d34411d",
   "metadata": {
    "slideshow": {
     "slide_type": "fragment"
    }
   },
   "outputs": [],
   "source": [
    "# Unterschiedliche Länder\n",
    "countries = data['Country'].unique()\n",
    "countries"
   ]
  },
  {
   "cell_type": "code",
   "execution_count": null,
   "id": "6142f9d2",
   "metadata": {
    "slideshow": {
     "slide_type": "slide"
    }
   },
   "outputs": [],
   "source": [
    "len(countries)"
   ]
  },
  {
   "cell_type": "code",
   "execution_count": null,
   "id": "36f63e50-bc62-4b18-b2dc-a4dce432483a",
   "metadata": {},
   "outputs": [],
   "source": [
    "sorted(countries)"
   ]
  },
  {
   "cell_type": "code",
   "execution_count": null,
   "id": "71987dce",
   "metadata": {
    "slideshow": {
     "slide_type": "fragment"
    }
   },
   "outputs": [],
   "source": [
    "# Vorkommen von Ländern der Liste\n",
    "'Germany' in countries"
   ]
  },
  {
   "cell_type": "code",
   "execution_count": null,
   "id": "72add74d",
   "metadata": {
    "slideshow": {
     "slide_type": "slide"
    }
   },
   "outputs": [],
   "source": [
    "# Vorkommen von Deutschland\n",
    "for country in countries:\n",
    "    if 'german' in country.lower():\n",
    "        print(country)"
   ]
  },
  {
   "cell_type": "markdown",
   "id": "bcfd8b55-90f8-4119-86b2-2392a0617ab9",
   "metadata": {},
   "source": [
    "### Was sind die unterschiedlichen Katastrophentypen?"
   ]
  },
  {
   "cell_type": "code",
   "execution_count": null,
   "id": "39ff979a-3b81-43b9-9a58-e5af8674f643",
   "metadata": {},
   "outputs": [],
   "source": [
    "data.columns"
   ]
  },
  {
   "cell_type": "code",
   "execution_count": null,
   "id": "e4c4f414",
   "metadata": {
    "slideshow": {
     "slide_type": "slide"
    }
   },
   "outputs": [],
   "source": [
    " data['Disaster Type'].unique()"
   ]
  },
  {
   "cell_type": "markdown",
   "id": "4f3a83af",
   "metadata": {
    "slideshow": {
     "slide_type": "slide"
    }
   },
   "source": [
    "`.value_counts()` zeigt wie oft eine Spalte die unterschiedlichen Werte annimmt."
   ]
  },
  {
   "cell_type": "code",
   "execution_count": null,
   "id": "1a19b4cc",
   "metadata": {
    "slideshow": {
     "slide_type": "slide"
    }
   },
   "outputs": [],
   "source": [
    "data['Disaster Type'].value_counts()"
   ]
  },
  {
   "cell_type": "markdown",
   "id": "4fa0ce6c",
   "metadata": {
    "slideshow": {
     "slide_type": "slide"
    }
   },
   "source": [
    "Mit dem Argument `normalize=True` wird das Vorkommen der Werte automatisch ins Verhältnis gesetzt."
   ]
  },
  {
   "cell_type": "code",
   "execution_count": null,
   "id": "7b3170f7",
   "metadata": {
    "slideshow": {
     "slide_type": "fragment"
    }
   },
   "outputs": [],
   "source": [
    "data['Disaster Type'].value_counts(normalize=True)"
   ]
  },
  {
   "cell_type": "markdown",
   "id": "20ca1ba6",
   "metadata": {
    "slideshow": {
     "slide_type": "slide"
    }
   },
   "source": [
    "\n",
    "### Dataframes Sortieren\n",
    "\n",
    "Dataframes können anhand einer oder meherer Spalten sortiert werden.\n",
    "\n",
    "- Bei welchen Katastrophe waren am meisten Menschen betroffen?\n",
    "- Welche Naturkatastrophen waren am tödlichsten?\n"
   ]
  },
  {
   "cell_type": "code",
   "execution_count": null,
   "id": "becc18ac",
   "metadata": {
    "slideshow": {
     "slide_type": "fragment"
    }
   },
   "outputs": [],
   "source": [
    "data.sort_values(by=\"Total Affected\")"
   ]
  },
  {
   "cell_type": "code",
   "execution_count": null,
   "id": "d901776c",
   "metadata": {
    "slideshow": {
     "slide_type": "slide"
    }
   },
   "outputs": [],
   "source": [
    "data.sort_values(by=\"Total Affected\", ascending=False).head(10)"
   ]
  },
  {
   "cell_type": "code",
   "execution_count": null,
   "id": "6e45c7ee-4766-4446-ba1c-19fc1014ab16",
   "metadata": {},
   "outputs": [],
   "source": [
    "data.sort_values(by=\"Total Deaths\", ascending=False).head(10)"
   ]
  },
  {
   "cell_type": "code",
   "execution_count": null,
   "id": "00f3550e",
   "metadata": {
    "slideshow": {
     "slide_type": "slide"
    }
   },
   "outputs": [],
   "source": [
    "# Mehrere Argumente zum Sortieren sind möglich\n",
    "data.sort_values(by=[\"Disaster Subroup\", \"Total Affected\"], ascending=[False, False]).head(n=10)"
   ]
  },
  {
   "cell_type": "markdown",
   "id": "82727efa",
   "metadata": {
    "slideshow": {
     "slide_type": "slide"
    }
   },
   "source": [
    "### Analyse einzelner Aspekte durch Filtern von Daten\n",
    "\n",
    "- Wie viele Naturkatastrophen gab es in Deutschland seit 2000?\n",
    "- Welchen Anteil haben Stürme?\n",
    "- Wie viele Menschen sind jedes Jahr betroffen?\n"
   ]
  },
  {
   "cell_type": "markdown",
   "id": "f8639ced-8ed2-49ab-b6b5-ada55dbe55af",
   "metadata": {},
   "source": [
    "Um diese Fragen zu beantworten filtern wir die Daten auf Deutschland und berechnen Statistiken.\n",
    "\n",
    "Siehe auch:\n",
    "\n",
    "- [Selecting Subsets in Pandas](https://pandas.pydata.org/docs/getting_started/intro_tutorials/03_subset_data.html)\n",
    "- [Indexing and Selecting Data](https://pandas.pydata.org/docs/user_guide/indexing.html)\n",
    "- [How to Calculate Summary Statistics?](https://pandas.pydata.org/docs/getting_started/intro_tutorials/06_calculate_statistics.html)"
   ]
  },
  {
   "cell_type": "code",
   "execution_count": null,
   "id": "ab4cdd8f",
   "metadata": {
    "slideshow": {
     "slide_type": "fragment"
    }
   },
   "outputs": [],
   "source": [
    "data[data['Country'] == 'Germany']"
   ]
  },
  {
   "cell_type": "code",
   "execution_count": null,
   "id": "0390e515-0b28-477d-9010-28ee6a8a1e81",
   "metadata": {
    "slideshow": {
     "slide_type": "fragment"
    }
   },
   "outputs": [],
   "source": [
    "german_data = data[data['Country'] == 'Germany']\n",
    "german_data.head(5)"
   ]
  },
  {
   "cell_type": "markdown",
   "id": "4aaee2e1-c817-40bd-a4d4-41d9ba2e1807",
   "metadata": {},
   "source": [
    "## Aufgaben\n",
    "\n",
    "- Wie viele Naturkatastrophen gab es in Deutschland seit 2000?"
   ]
  },
  {
   "cell_type": "code",
   "execution_count": null,
   "id": "d5862a71-517a-4593-9d61-e5d73413dd92",
   "metadata": {},
   "outputs": [],
   "source": []
  },
  {
   "cell_type": "markdown",
   "id": "0fc2668e-9eef-4e49-9b58-217069115354",
   "metadata": {},
   "source": [
    "- Wann und was waren die schlimmsten Naturkatastrophen in Deutschland?"
   ]
  },
  {
   "cell_type": "code",
   "execution_count": null,
   "id": "fa6eeaee-4abe-4ba1-9436-a117a7ab2fe9",
   "metadata": {},
   "outputs": [],
   "source": []
  },
  {
   "cell_type": "markdown",
   "id": "1fc061ba-70cb-4fc3-b133-f628f6c3f556",
   "metadata": {},
   "source": [
    "- Wie viele Menschen waren insgesamt in Deutschland von Naturkatastrophen betroffen?"
   ]
  },
  {
   "cell_type": "code",
   "execution_count": null,
   "id": "00380255-9c66-491e-b5b8-c24649d7b970",
   "metadata": {},
   "outputs": [],
   "source": []
  },
  {
   "cell_type": "markdown",
   "id": "a5244cfb-8253-4fb6-8c75-1275014add50",
   "metadata": {},
   "source": [
    "- Wie viele Menschen sind 2024 in Deutschland bei Naturkatastrophen ums Leben gekommen?"
   ]
  },
  {
   "cell_type": "code",
   "execution_count": null,
   "id": "73caaa0b-ef4e-4abe-9e48-adba25d2dd8d",
   "metadata": {},
   "outputs": [],
   "source": []
  },
  {
   "cell_type": "markdown",
   "id": "6c060a6b-9dac-400e-8a51-51982f26bbbf",
   "metadata": {},
   "source": [
    "- Bei welchen Katastrophen in Deutschland starben mehr als 15 Personen?"
   ]
  },
  {
   "cell_type": "code",
   "execution_count": null,
   "id": "6a15cb33-0b2a-438c-a522-b044f9afdac6",
   "metadata": {},
   "outputs": [],
   "source": []
  },
  {
   "cell_type": "markdown",
   "id": "53a4b853-ae71-4635-abc9-2e2b09e1db66",
   "metadata": {},
   "source": [
    "- Wie oft kommen die einzelnen Naturkatastrophentypen in Deutschland vor?"
   ]
  },
  {
   "cell_type": "code",
   "execution_count": null,
   "id": "f1431ad2-8cf4-41ca-b3c6-bfcc25a154fb",
   "metadata": {},
   "outputs": [],
   "source": []
  },
  {
   "cell_type": "markdown",
   "id": "3cbb805c-fc96-41b0-8fcd-227049923339",
   "metadata": {},
   "source": [
    "### Groupby\n",
    "\n",
    "Die groupby-Funktion in Pandas wird verwendet, um Daten in Gruppen basierend auf einem oder mehreren Spaltenwerten zu organisieren.\n",
    "Auf diesen Gruppen können dann weitere Funktionen wie Berechnungen oder Transformationen angewendet werden.\n",
    "\n",
    "##### Der Ablauf\n",
    "\n",
    "- **Gruppieren**: Daten werden nach bestimmten Spaltenwerten gruppiert.\n",
    "- **Anwenden**: Auf jede Gruppe wird eine Operation (z. B. sum, mean, count) angewendet.\n",
    "- **Kombinieren**: Die Ergebnisse werden in einem neuen DataFrame oder Series zusammengefasst.\n"
   ]
  },
  {
   "cell_type": "markdown",
   "id": "c0657c40-dad4-4b8c-9d6c-a5a06393f679",
   "metadata": {},
   "source": [
    "- Wie viele Menschen waren je Naturkatastrophentyp in Deutschland betroffen?"
   ]
  },
  {
   "cell_type": "code",
   "execution_count": null,
   "id": "407d15af-1830-4919-9e96-0d40e1c99f76",
   "metadata": {},
   "outputs": [],
   "source": [
    "german_data.groupby(['Disaster Type'])['Total Affected'].sum()"
   ]
  },
  {
   "cell_type": "markdown",
   "id": "c1e37b04-54d7-42d4-b7a7-815b32ff33f5",
   "metadata": {},
   "source": [
    "- Wie viele Menschen sind pro Jahr von Naturkatastrophen betroffen?"
   ]
  },
  {
   "cell_type": "code",
   "execution_count": null,
   "id": "dffd0c90-d1ca-4985-8c02-ef9326b38a46",
   "metadata": {},
   "outputs": [],
   "source": [
    "german_data.groupby(['Year'])['Total Affected'].sum()"
   ]
  },
  {
   "cell_type": "markdown",
   "id": "90cf255f-09d2-476c-a3fe-0e0ab42fe653",
   "metadata": {},
   "source": [
    "- Wie viele Menschen sind in Deutschland pro Jahr und Katastrophentyp betroffen?"
   ]
  },
  {
   "cell_type": "code",
   "execution_count": null,
   "id": "8d3a0702-5791-4997-ab7b-31ec348b4af4",
   "metadata": {},
   "outputs": [],
   "source": [
    "german_data.groupby(['Year', 'Disaster Type'])['Total Deaths'].sum()"
   ]
  }
 ],
 "metadata": {
  "celltoolbar": "Slideshow",
  "kernelspec": {
   "display_name": "Python 3 (ipykernel)",
   "language": "python",
   "name": "python3"
  },
  "language_info": {
   "codemirror_mode": {
    "name": "ipython",
    "version": 3
   },
   "file_extension": ".py",
   "mimetype": "text/x-python",
   "name": "python",
   "nbconvert_exporter": "python",
   "pygments_lexer": "ipython3",
   "version": "3.11.7"
  }
 },
 "nbformat": 4,
 "nbformat_minor": 5
}
