{
 "cells": [
  {
   "cell_type": "markdown",
   "id": "4e900faa",
   "metadata": {
    "slideshow": {
     "slide_type": "slide"
    }
   },
   "source": [
    "# While Loop\n",
    "\n",
    "\n",
    "Bei einer While Schleife wird eine Funktion so lange ausgeführt, bis eine Bedingung erreicht wird.\n",
    "\n",
    "\n",
    "## Syntax\n",
    "\n",
    "`while` ist das Schlüsselwort der While Schleife. Darauf folgt eine Bedingung - also ein Wahrheitswert: Ist die Bedingung `wahr` werden die Anweisung im Codeblock in der Schleife asugeführt. Ist die Bedingung `False` wird der Code übersprungen und die Schleife beendet.\n",
    "\n",
    "\n",
    "![WhileLoop](../../imgs/whileloop.png)\n",
    "\n",
    "\n",
    "### Beispiel"
   ]
  },
  {
   "cell_type": "code",
   "execution_count": null,
   "id": "8ad81d6c",
   "metadata": {},
   "outputs": [],
   "source": [
    "# Solange x kleiner als 10 ist gebe X auf der Konsole aus\n",
    "x = 1\n",
    "while x < 10:\n",
    "    print(x)\n",
    "    x = x + 1     # x wird um eine Zahl erhöht"
   ]
  },
  {
   "cell_type": "markdown",
   "id": "bb191f19",
   "metadata": {},
   "source": [
    "## Achtung! Endlosschleife\n",
    "\n",
    "Eine Endlosschleife ist eine While Schleife ohne Abbruchbedingung oder mit einer Abbruchbedingung die immer `True` ist.\n",
    "\n",
    "Das heißt die Anwendung wird immer wieder ausgeführt - so lange bis die Ausführung manuell gestoppt wird (Strg + C) oder Python geschlossen wird.\n",
    "\n"
   ]
  },
  {
   "cell_type": "code",
   "execution_count": null,
   "id": "318b6664",
   "metadata": {
    "tags": [
     "skip-execution",
     "hide-output"
    ]
   },
   "outputs": [],
   "source": [
    "# Endlosschleife\n",
    "print('While Loop Start \\n')\n",
    "\n",
    "x = 1\n",
    "while True:\n",
    "    print(x)\n",
    "    x = x + 1\n",
    "    \n",
    "print('\\nWhile Loop Ende')"
   ]
  },
  {
   "cell_type": "code",
   "execution_count": null,
   "id": "4a7c6ce9",
   "metadata": {},
   "outputs": [],
   "source": []
  }
 ],
 "metadata": {
  "celltoolbar": "Tags",
  "kernelspec": {
   "display_name": "Python 3 (ipykernel)",
   "language": "python",
   "name": "python3"
  },
  "language_info": {
   "codemirror_mode": {
    "name": "ipython",
    "version": 3
   },
   "file_extension": ".py",
   "mimetype": "text/x-python",
   "name": "python",
   "nbconvert_exporter": "python",
   "pygments_lexer": "ipython3",
   "version": "3.9.15"
  },
  "vscode": {
   "interpreter": {
    "hash": "f9f85f796d01129d0dd105a088854619f454435301f6ffec2fea96ecbd9be4ac"
   }
  }
 },
 "nbformat": 4,
 "nbformat_minor": 5
}
