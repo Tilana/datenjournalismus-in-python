{
 "cells": [
  {
   "cell_type": "markdown",
   "metadata": {},
   "source": [
    "# Weitere Schritte mit Pandas"
   ]
  },
  {
   "cell_type": "markdown",
   "metadata": {},
   "source": [
    "## Indexing & Cleaning\n",
    "\n",
    "Lade deinen Datensatz von letzter Woche relativ zu deinem Arbeitsverzeichnis.\n",
    "Formatiere deinen DataFrame anschließend so, dass die Column 'Date' als neuer Index fungiert."
   ]
  },
  {
   "cell_type": "code",
   "execution_count": 10,
   "metadata": {},
   "outputs": [
    {
     "data": {
      "text/plain": "            Josip Broz Tito  Saban Saulic  Bijelo Dugme\nDate                                                   \n2022-10-26             2300             5           192\n2022-10-27             2440             4           192\n2022-10-28             2314             0           223\n2022-10-29             2253             2           238\n2022-10-30             2258             0           274\n2022-10-31             2425             3           207\n2022-11-01             2682             1           237\n2022-11-02             2625             3           196\n2022-11-03             2505             4           178\n2022-11-04             2267             5           231\n2022-11-05             2257             0           247\n2022-11-06             2379             2           271\n2022-11-07             2513             2           207\n2022-11-08             2548             2           227\n2022-11-09             2189             1           173\n2022-11-10             2279             2           185\n2022-11-11             2347             3           267\n2022-11-12             2168             3           294\n2022-11-13             2461             2           340\n2022-11-14             2525             2           202\n2022-11-15             2528             3           231",
      "text/html": "<div>\n<style scoped>\n    .dataframe tbody tr th:only-of-type {\n        vertical-align: middle;\n    }\n\n    .dataframe tbody tr th {\n        vertical-align: top;\n    }\n\n    .dataframe thead th {\n        text-align: right;\n    }\n</style>\n<table border=\"1\" class=\"dataframe\">\n  <thead>\n    <tr style=\"text-align: right;\">\n      <th></th>\n      <th>Josip Broz Tito</th>\n      <th>Saban Saulic</th>\n      <th>Bijelo Dugme</th>\n    </tr>\n    <tr>\n      <th>Date</th>\n      <th></th>\n      <th></th>\n      <th></th>\n    </tr>\n  </thead>\n  <tbody>\n    <tr>\n      <th>2022-10-26</th>\n      <td>2300</td>\n      <td>5</td>\n      <td>192</td>\n    </tr>\n    <tr>\n      <th>2022-10-27</th>\n      <td>2440</td>\n      <td>4</td>\n      <td>192</td>\n    </tr>\n    <tr>\n      <th>2022-10-28</th>\n      <td>2314</td>\n      <td>0</td>\n      <td>223</td>\n    </tr>\n    <tr>\n      <th>2022-10-29</th>\n      <td>2253</td>\n      <td>2</td>\n      <td>238</td>\n    </tr>\n    <tr>\n      <th>2022-10-30</th>\n      <td>2258</td>\n      <td>0</td>\n      <td>274</td>\n    </tr>\n    <tr>\n      <th>2022-10-31</th>\n      <td>2425</td>\n      <td>3</td>\n      <td>207</td>\n    </tr>\n    <tr>\n      <th>2022-11-01</th>\n      <td>2682</td>\n      <td>1</td>\n      <td>237</td>\n    </tr>\n    <tr>\n      <th>2022-11-02</th>\n      <td>2625</td>\n      <td>3</td>\n      <td>196</td>\n    </tr>\n    <tr>\n      <th>2022-11-03</th>\n      <td>2505</td>\n      <td>4</td>\n      <td>178</td>\n    </tr>\n    <tr>\n      <th>2022-11-04</th>\n      <td>2267</td>\n      <td>5</td>\n      <td>231</td>\n    </tr>\n    <tr>\n      <th>2022-11-05</th>\n      <td>2257</td>\n      <td>0</td>\n      <td>247</td>\n    </tr>\n    <tr>\n      <th>2022-11-06</th>\n      <td>2379</td>\n      <td>2</td>\n      <td>271</td>\n    </tr>\n    <tr>\n      <th>2022-11-07</th>\n      <td>2513</td>\n      <td>2</td>\n      <td>207</td>\n    </tr>\n    <tr>\n      <th>2022-11-08</th>\n      <td>2548</td>\n      <td>2</td>\n      <td>227</td>\n    </tr>\n    <tr>\n      <th>2022-11-09</th>\n      <td>2189</td>\n      <td>1</td>\n      <td>173</td>\n    </tr>\n    <tr>\n      <th>2022-11-10</th>\n      <td>2279</td>\n      <td>2</td>\n      <td>185</td>\n    </tr>\n    <tr>\n      <th>2022-11-11</th>\n      <td>2347</td>\n      <td>3</td>\n      <td>267</td>\n    </tr>\n    <tr>\n      <th>2022-11-12</th>\n      <td>2168</td>\n      <td>3</td>\n      <td>294</td>\n    </tr>\n    <tr>\n      <th>2022-11-13</th>\n      <td>2461</td>\n      <td>2</td>\n      <td>340</td>\n    </tr>\n    <tr>\n      <th>2022-11-14</th>\n      <td>2525</td>\n      <td>2</td>\n      <td>202</td>\n    </tr>\n    <tr>\n      <th>2022-11-15</th>\n      <td>2528</td>\n      <td>3</td>\n      <td>231</td>\n    </tr>\n  </tbody>\n</table>\n</div>"
     },
     "execution_count": 10,
     "metadata": {},
     "output_type": "execute_result"
    }
   ],
   "source": [
    "# Dein Code\n",
    "import pandas as pd\n",
    "'''\n",
    "Um eine bestimmte Spalte als Index zu verwenden, kann entweder der Name oder die Stelle der Spalte beim Laden dem Attribut 'index_col' mitgegeben werden.\n",
    "Alternativ kann auch später noch eine bestimmte Column als Index gesetzt werden.\n",
    "Ein gesetzter Index wird im späteren Verlauf bei wichtigen Berechnungen (z.B. mean, sum) ignoriert.\n",
    "Auch bei der Visualisierung vereinfacht ein gut gewählter Index die Arbeit und macht die Diagramme anschaulicher.\n",
    "'''\n",
    "data = pd.read_csv('data/pageviews-20221026-20221115.csv', index_col='Date')\n",
    "#data = pd.read_csv('data/pageviews-20221026-20221115.csv', index_col=0)\n",
    "#data = data.set_index('Date')\n",
    "data\n"
   ]
  },
  {
   "cell_type": "markdown",
   "metadata": {},
   "source": [
    "Lösche die Column mit den wenigsten Seitenaufrufen"
   ]
  },
  {
   "cell_type": "code",
   "execution_count": 11,
   "metadata": {},
   "outputs": [],
   "source": [
    "# Dein Code\n",
    "'''\n",
    "Zwei mögliche Wege zum Löschen von Spalten sind die drop und die pop Funktion.\n",
    "Die drop Funktion wird default auf Zeilen angewandt und hat als Rückgabewert den jeweiligen Dataframe ohne die angegebene Zeile.\n",
    "In dem das Argument 'axis' auf 1 gesetzt wird, kann mit drop auch eine Column angegeben werden, die dann aus dem zurückgegebenen Dataframe gelöscht wird.\n",
    "Beachte, dass drop keine permanenten Änderungen am jeweiligen Dataframe vornimmt, um mit drop eine permanente Änderung zu erreichen, muss eine Neuzuweisung passieren (siehe erste auskommentierte Zeile).\n",
    "'''\n",
    "min_seitenaufrufe = data.sum().idxmin()\n",
    "data.drop(min_seitenaufrufe, axis=1)\n",
    "#data = data.drop(min_seitenaufrufe, axis=1)\n",
    "'''\n",
    "Die pop Funktion verhält sich dagegen ganz anders.\n",
    "Ihr Rückgabewert ist/sind genau die angegebene(n) Column(s).\n",
    "Die Änderungen sind außerdem permanent und die Funktion lässt sich ausschließlich auf Columns anwenden.\n",
    "'''\n",
    "gelöschte_spalte = data.pop(min_seitenaufrufe)\n",
    "\n",
    "restlicher_dataframe = data\n"
   ]
  },
  {
   "cell_type": "markdown",
   "metadata": {},
   "source": [
    "Füge dem DataFrame eine weitere Zeile hinzu, in der die durchschnittlichen Aufrufzahlen der jeweiligen Seite angezeigt werden."
   ]
  },
  {
   "cell_type": "code",
   "execution_count": 19,
   "metadata": {},
   "outputs": [
    {
     "data": {
      "text/plain": "              Josip Broz Tito  Bijelo Dugme  Tagesdurchschnitt\nDate                                                          \n2022-10-26         2300.00000    192.000000                1.0\n2022-10-27         2440.00000    192.000000                5.0\n2022-10-28         2314.00000    223.000000                NaN\n2022-10-29         2253.00000    238.000000                NaN\n2022-10-30         2258.00000    274.000000                NaN\n2022-10-31         2425.00000    207.000000                NaN\n2022-11-01         2682.00000    237.000000                NaN\n2022-11-02         2625.00000    196.000000                NaN\n2022-11-03         2505.00000    178.000000                NaN\n2022-11-04         2267.00000    231.000000                NaN\n2022-11-05         2257.00000    247.000000                NaN\n2022-11-06         2379.00000    271.000000                NaN\n2022-11-07         2513.00000    207.000000                NaN\n2022-11-08         2548.00000    227.000000                NaN\n2022-11-09         2189.00000    173.000000                NaN\n2022-11-10         2279.00000    185.000000                NaN\n2022-11-11         2347.00000    267.000000                NaN\n2022-11-12         2168.00000    294.000000                NaN\n2022-11-13         2461.00000    340.000000                NaN\n2022-11-14         2525.00000    202.000000                NaN\n2022-11-15         2528.00000    231.000000                NaN\nDurchschnitt       2393.47619    229.142857                NaN",
      "text/html": "<div>\n<style scoped>\n    .dataframe tbody tr th:only-of-type {\n        vertical-align: middle;\n    }\n\n    .dataframe tbody tr th {\n        vertical-align: top;\n    }\n\n    .dataframe thead th {\n        text-align: right;\n    }\n</style>\n<table border=\"1\" class=\"dataframe\">\n  <thead>\n    <tr style=\"text-align: right;\">\n      <th></th>\n      <th>Josip Broz Tito</th>\n      <th>Bijelo Dugme</th>\n      <th>Tagesdurchschnitt</th>\n    </tr>\n    <tr>\n      <th>Date</th>\n      <th></th>\n      <th></th>\n      <th></th>\n    </tr>\n  </thead>\n  <tbody>\n    <tr>\n      <th>2022-10-26</th>\n      <td>2300.00000</td>\n      <td>192.000000</td>\n      <td>1.0</td>\n    </tr>\n    <tr>\n      <th>2022-10-27</th>\n      <td>2440.00000</td>\n      <td>192.000000</td>\n      <td>5.0</td>\n    </tr>\n    <tr>\n      <th>2022-10-28</th>\n      <td>2314.00000</td>\n      <td>223.000000</td>\n      <td>NaN</td>\n    </tr>\n    <tr>\n      <th>2022-10-29</th>\n      <td>2253.00000</td>\n      <td>238.000000</td>\n      <td>NaN</td>\n    </tr>\n    <tr>\n      <th>2022-10-30</th>\n      <td>2258.00000</td>\n      <td>274.000000</td>\n      <td>NaN</td>\n    </tr>\n    <tr>\n      <th>2022-10-31</th>\n      <td>2425.00000</td>\n      <td>207.000000</td>\n      <td>NaN</td>\n    </tr>\n    <tr>\n      <th>2022-11-01</th>\n      <td>2682.00000</td>\n      <td>237.000000</td>\n      <td>NaN</td>\n    </tr>\n    <tr>\n      <th>2022-11-02</th>\n      <td>2625.00000</td>\n      <td>196.000000</td>\n      <td>NaN</td>\n    </tr>\n    <tr>\n      <th>2022-11-03</th>\n      <td>2505.00000</td>\n      <td>178.000000</td>\n      <td>NaN</td>\n    </tr>\n    <tr>\n      <th>2022-11-04</th>\n      <td>2267.00000</td>\n      <td>231.000000</td>\n      <td>NaN</td>\n    </tr>\n    <tr>\n      <th>2022-11-05</th>\n      <td>2257.00000</td>\n      <td>247.000000</td>\n      <td>NaN</td>\n    </tr>\n    <tr>\n      <th>2022-11-06</th>\n      <td>2379.00000</td>\n      <td>271.000000</td>\n      <td>NaN</td>\n    </tr>\n    <tr>\n      <th>2022-11-07</th>\n      <td>2513.00000</td>\n      <td>207.000000</td>\n      <td>NaN</td>\n    </tr>\n    <tr>\n      <th>2022-11-08</th>\n      <td>2548.00000</td>\n      <td>227.000000</td>\n      <td>NaN</td>\n    </tr>\n    <tr>\n      <th>2022-11-09</th>\n      <td>2189.00000</td>\n      <td>173.000000</td>\n      <td>NaN</td>\n    </tr>\n    <tr>\n      <th>2022-11-10</th>\n      <td>2279.00000</td>\n      <td>185.000000</td>\n      <td>NaN</td>\n    </tr>\n    <tr>\n      <th>2022-11-11</th>\n      <td>2347.00000</td>\n      <td>267.000000</td>\n      <td>NaN</td>\n    </tr>\n    <tr>\n      <th>2022-11-12</th>\n      <td>2168.00000</td>\n      <td>294.000000</td>\n      <td>NaN</td>\n    </tr>\n    <tr>\n      <th>2022-11-13</th>\n      <td>2461.00000</td>\n      <td>340.000000</td>\n      <td>NaN</td>\n    </tr>\n    <tr>\n      <th>2022-11-14</th>\n      <td>2525.00000</td>\n      <td>202.000000</td>\n      <td>NaN</td>\n    </tr>\n    <tr>\n      <th>2022-11-15</th>\n      <td>2528.00000</td>\n      <td>231.000000</td>\n      <td>NaN</td>\n    </tr>\n    <tr>\n      <th>Durchschnitt</th>\n      <td>2393.47619</td>\n      <td>229.142857</td>\n      <td>NaN</td>\n    </tr>\n  </tbody>\n</table>\n</div>"
     },
     "execution_count": 19,
     "metadata": {},
     "output_type": "execute_result"
    }
   ],
   "source": [
    "# Dein Code\n",
    "'''\n",
    "Um neue Zeilen und Spalten hinzuzufügen, werden unterschiedliche Schreibweisen verwendet.\n",
    "Neue Zeilen müssen mit hilfe von loc zugewiesen werden, neue Spalten mit der bekannten Zuweisung in eckigen Klammern.\n",
    "Beachte in diesem Fall, dass sich der Parameter 'axis' genau umgekehrt zu drop verhält.\n",
    "Default wird die Funktion auf jede Spalte angewandt, um den Durchschnitt einer Zeile zu errechnen, muss 'axis' auf 1 gesetzt werden.\n",
    "'''\n",
    "data.loc['Durchschnitt'] = data.mean()\n",
    "data['Tagesdurchschnitt'] = [1,2,3,4,5,6,7,8,9,10,11,12,13,14,15,16,17,18,19,20,21,22]\n",
    "data['Tagesdurchschnitt'] = {'2022-10-26':1, '2022-10-27': 5}\n",
    "data"
   ]
  },
  {
   "cell_type": "markdown",
   "metadata": {},
   "source": [
    "## Visualisierung\n",
    "\n",
    "Visualisiere die Seitenaufrufe deiner gewählten Seiten, aber ohne den Durchschnittswert auszugeben.\n"
   ]
  },
  {
   "cell_type": "code",
   "execution_count": 13,
   "metadata": {},
   "outputs": [
    {
     "data": {
      "text/plain": "<Figure size 640x480 with 1 Axes>",
      "image/png": "[encoded data removed]"
     },
     "metadata": {},
     "output_type": "display_data"
    }
   ],
   "source": [
    "# Dein Code\n",
    "import matplotlib\n",
    "'''\n",
    "Hier können wir uns zum Vorteil machen, dass drop keine permanenten Änderungen vornimmt.\n",
    "Wir können alle Durchschnitte droppen und anschließend den Dataframe plotten, ohne dass die Durchschnitte komplett verloren sind.\n",
    "Der letzte Funktionsaufruf 'get_figure' wird benötigt um den Graphen in eine Datenstruktur zu bringen, die auch als Bilddatei gespeichert werden kann.\n",
    "'''\n",
    "fig = data.drop('Tagesdurchschnitt', axis=1).drop('Durchschnitt').plot(kind='line').get_figure()\n",
    "# Alternative Diagramme\n",
    "#fig1 = data.sum().plot(kind='pie')"
   ]
  },
  {
   "cell_type": "markdown",
   "metadata": {},
   "source": [
    "Speichere deinen DataFrame in einer Markdown-Datei und auch das Ergebnis der Visualisierung als png-Datei."
   ]
  },
  {
   "cell_type": "code",
   "execution_count": 14,
   "metadata": {},
   "outputs": [],
   "source": [
    "# Dein Code\n",
    "data.to_markdown('markdown_file.md')\n",
    "fig.savefig('graph.png')"
   ]
  },
  {
   "cell_type": "markdown",
   "metadata": {},
   "source": [
    "# Rechercheaufgabe\n",
    "## Input/Output in Python\n",
    "Recherchiere zuerst was **JSON**, **TXT** und **PICKLE** ist.\n",
    "Schreibe deine Daten (Name, E-Mail-Adresse, Traumberuf) in ein dictionary.\n",
    "Speichere dieses Dictionary anschließend in drei Versionen: 'visitenkarte.txt', 'visitenkarte.json' und 'visitenkarte.pkl' relativ zu deinem Arbeitsverzeichnis in dem Ordner 'meine_visitenkarten'.\n"
   ]
  },
  {
   "cell_type": "code",
   "execution_count": 15,
   "metadata": {},
   "outputs": [],
   "source": [
    "# Dein Code\n",
    "'''\n",
    "Egal ob eine Datei gelesen oder geschrieben werden soll, zuerst muss jede Datei geöffnet werden.\n",
    "Das passiert in Python am besten durch 'with open('PATH/TO/FILE/FILENAME.txt', 'MODUS') as file'.\n",
    "\n",
    "open('PATH/TO/FILE/FILENAME.txt', 'MODUS'):\n",
    "    Dieser Teil öffnet die angegebene Datei im gewählten Modus.\n",
    "\n",
    "    MODUS Es gibt verschiedene Modi in denen eine Datei geöffnet werden kann:\n",
    "        'w': öffnet/erstellt die Datei und überschreibt alle Inhalte der Datei.\n",
    "        'r': öffnet die Datei und ermöglicht das Lesen der Inhalte. (default)\n",
    "        'x': erstellt die Datei und ermöglicht das Schreiben in die Datei, falls die Datei schon existiert, wird ein Fehler geworfen.\n",
    "        'a': öffnet/erstellt die Datei und ergänzt die Inhalte (bereits bestehende Inhalte bleiben erhalten)\n",
    "\n",
    "        Außerdem wird zwischen Text und Binary-Codierung unterschieden.\n",
    "        't': Textmodus, zum Lesen/Schreiben von Strings und Texten. (default)\n",
    "        'b': Binarymodus, zum Lesen/Schreiben von Datentypen u.ä.\n",
    "\n",
    "        Um mehrere Modi gleichzeitig auszuführen, kann mit '+' kombiniert werden.\n",
    "        Beispiel: open('PATH/TO/FILE/FILENAME.txt', 'w+r') öffnet die Datei im Textmodus (da weder b noch t angegeben wurde) und ermöglicht das Schreiben und Lesen einer Datei.\n",
    "\n",
    "'''\n",
    "import pickle\n",
    "import json\n",
    "meine_daten = {'Name': 'Jonas',\n",
    "               'Mail': 'jr74xaqo',\n",
    "               'Traumberuf': 'Feuerwehr'}\n",
    "\n",
    "with open('visitenkarte.txt', 'w') as file:\n",
    "    file.write(str(meine_daten))\n",
    "\n",
    "with open('visitenkarte.pkl', 'wb') as file:\n",
    "    pickle.dump(meine_daten, file)\n",
    "\n",
    "with open('visitenkarte.json', 'w') as file:\n",
    "    json.dump(meine_daten, file)\n"
   ]
  },
  {
   "cell_type": "markdown",
   "metadata": {},
   "source": [
    "Lese die Datei 'visitenkarte.json' jetzt ein und gib in der Konsole den Traumberuf aus.\n",
    "Versuche das Gleiche mit den anderen Dateitypen"
   ]
  },
  {
   "cell_type": "code",
   "execution_count": 16,
   "metadata": {},
   "outputs": [
    {
     "data": {
      "text/plain": "[\"{'Name': 'Jonas', 'Mail': 'jr74xaqo', 'Traumberuf': 'Feuerwehr'}\"]"
     },
     "execution_count": 16,
     "metadata": {},
     "output_type": "execute_result"
    }
   ],
   "source": [
    "# Dein Code\n",
    "\n",
    "with open('visitenkarte.txt', 'r') as file:\n",
    "    data0 = file.readlines()\n",
    "\n",
    "with open('visitenkarte.pkl', 'rb') as file:\n",
    "    data1 = pickle.load(file)\n",
    "\n",
    "with open('visitenkarte.json', 'r') as file:\n",
    "    data2 = json.load(file)\n",
    "\n",
    "data1['Traumberuf']\n",
    "data0\n"
   ]
  },
  {
   "cell_type": "code",
   "execution_count": 17,
   "outputs": [
    {
     "ename": "FileNotFoundError",
     "evalue": "[Errno 2] No such file or directory: 'data/netflix_titles.csv'",
     "output_type": "error",
     "traceback": [
      "\u001B[0;31m---------------------------------------------------------------------------\u001B[0m",
      "\u001B[0;31mFileNotFoundError\u001B[0m                         Traceback (most recent call last)",
      "Cell \u001B[0;32mIn [17], line 2\u001B[0m\n\u001B[1;32m      1\u001B[0m \u001B[38;5;28;01mimport\u001B[39;00m \u001B[38;5;21;01mpandas\u001B[39;00m \u001B[38;5;28;01mas\u001B[39;00m \u001B[38;5;21;01mpd\u001B[39;00m\n\u001B[0;32m----> 2\u001B[0m data \u001B[38;5;241m=\u001B[39m pd\u001B[38;5;241m.\u001B[39mread_csv(\u001B[38;5;124m'\u001B[39m\u001B[38;5;124mdata/netflix_titles.csv\u001B[39m\u001B[38;5;124m'\u001B[39m)\n",
      "File \u001B[0;32m~/anaconda3/envs/rise-environment/lib/python3.10/site-packages/pandas/util/_decorators.py:211\u001B[0m, in \u001B[0;36mdeprecate_kwarg.<locals>._deprecate_kwarg.<locals>.wrapper\u001B[0;34m(*args, **kwargs)\u001B[0m\n\u001B[1;32m    209\u001B[0m     \u001B[38;5;28;01melse\u001B[39;00m:\n\u001B[1;32m    210\u001B[0m         kwargs[new_arg_name] \u001B[38;5;241m=\u001B[39m new_arg_value\n\u001B[0;32m--> 211\u001B[0m \u001B[38;5;28;01mreturn\u001B[39;00m \u001B[43mfunc\u001B[49m\u001B[43m(\u001B[49m\u001B[38;5;241;43m*\u001B[39;49m\u001B[43margs\u001B[49m\u001B[43m,\u001B[49m\u001B[43m \u001B[49m\u001B[38;5;241;43m*\u001B[39;49m\u001B[38;5;241;43m*\u001B[39;49m\u001B[43mkwargs\u001B[49m\u001B[43m)\u001B[49m\n",
      "File \u001B[0;32m~/anaconda3/envs/rise-environment/lib/python3.10/site-packages/pandas/util/_decorators.py:331\u001B[0m, in \u001B[0;36mdeprecate_nonkeyword_arguments.<locals>.decorate.<locals>.wrapper\u001B[0;34m(*args, **kwargs)\u001B[0m\n\u001B[1;32m    325\u001B[0m \u001B[38;5;28;01mif\u001B[39;00m \u001B[38;5;28mlen\u001B[39m(args) \u001B[38;5;241m>\u001B[39m num_allow_args:\n\u001B[1;32m    326\u001B[0m     warnings\u001B[38;5;241m.\u001B[39mwarn(\n\u001B[1;32m    327\u001B[0m         msg\u001B[38;5;241m.\u001B[39mformat(arguments\u001B[38;5;241m=\u001B[39m_format_argument_list(allow_args)),\n\u001B[1;32m    328\u001B[0m         \u001B[38;5;167;01mFutureWarning\u001B[39;00m,\n\u001B[1;32m    329\u001B[0m         stacklevel\u001B[38;5;241m=\u001B[39mfind_stack_level(),\n\u001B[1;32m    330\u001B[0m     )\n\u001B[0;32m--> 331\u001B[0m \u001B[38;5;28;01mreturn\u001B[39;00m \u001B[43mfunc\u001B[49m\u001B[43m(\u001B[49m\u001B[38;5;241;43m*\u001B[39;49m\u001B[43margs\u001B[49m\u001B[43m,\u001B[49m\u001B[43m \u001B[49m\u001B[38;5;241;43m*\u001B[39;49m\u001B[38;5;241;43m*\u001B[39;49m\u001B[43mkwargs\u001B[49m\u001B[43m)\u001B[49m\n",
      "File \u001B[0;32m~/anaconda3/envs/rise-environment/lib/python3.10/site-packages/pandas/io/parsers/readers.py:950\u001B[0m, in \u001B[0;36mread_csv\u001B[0;34m(filepath_or_buffer, sep, delimiter, header, names, index_col, usecols, squeeze, prefix, mangle_dupe_cols, dtype, engine, converters, true_values, false_values, skipinitialspace, skiprows, skipfooter, nrows, na_values, keep_default_na, na_filter, verbose, skip_blank_lines, parse_dates, infer_datetime_format, keep_date_col, date_parser, dayfirst, cache_dates, iterator, chunksize, compression, thousands, decimal, lineterminator, quotechar, quoting, doublequote, escapechar, comment, encoding, encoding_errors, dialect, error_bad_lines, warn_bad_lines, on_bad_lines, delim_whitespace, low_memory, memory_map, float_precision, storage_options)\u001B[0m\n\u001B[1;32m    935\u001B[0m kwds_defaults \u001B[38;5;241m=\u001B[39m _refine_defaults_read(\n\u001B[1;32m    936\u001B[0m     dialect,\n\u001B[1;32m    937\u001B[0m     delimiter,\n\u001B[0;32m   (...)\u001B[0m\n\u001B[1;32m    946\u001B[0m     defaults\u001B[38;5;241m=\u001B[39m{\u001B[38;5;124m\"\u001B[39m\u001B[38;5;124mdelimiter\u001B[39m\u001B[38;5;124m\"\u001B[39m: \u001B[38;5;124m\"\u001B[39m\u001B[38;5;124m,\u001B[39m\u001B[38;5;124m\"\u001B[39m},\n\u001B[1;32m    947\u001B[0m )\n\u001B[1;32m    948\u001B[0m kwds\u001B[38;5;241m.\u001B[39mupdate(kwds_defaults)\n\u001B[0;32m--> 950\u001B[0m \u001B[38;5;28;01mreturn\u001B[39;00m \u001B[43m_read\u001B[49m\u001B[43m(\u001B[49m\u001B[43mfilepath_or_buffer\u001B[49m\u001B[43m,\u001B[49m\u001B[43m \u001B[49m\u001B[43mkwds\u001B[49m\u001B[43m)\u001B[49m\n",
      "File \u001B[0;32m~/anaconda3/envs/rise-environment/lib/python3.10/site-packages/pandas/io/parsers/readers.py:605\u001B[0m, in \u001B[0;36m_read\u001B[0;34m(filepath_or_buffer, kwds)\u001B[0m\n\u001B[1;32m    602\u001B[0m _validate_names(kwds\u001B[38;5;241m.\u001B[39mget(\u001B[38;5;124m\"\u001B[39m\u001B[38;5;124mnames\u001B[39m\u001B[38;5;124m\"\u001B[39m, \u001B[38;5;28;01mNone\u001B[39;00m))\n\u001B[1;32m    604\u001B[0m \u001B[38;5;66;03m# Create the parser.\u001B[39;00m\n\u001B[0;32m--> 605\u001B[0m parser \u001B[38;5;241m=\u001B[39m \u001B[43mTextFileReader\u001B[49m\u001B[43m(\u001B[49m\u001B[43mfilepath_or_buffer\u001B[49m\u001B[43m,\u001B[49m\u001B[43m \u001B[49m\u001B[38;5;241;43m*\u001B[39;49m\u001B[38;5;241;43m*\u001B[39;49m\u001B[43mkwds\u001B[49m\u001B[43m)\u001B[49m\n\u001B[1;32m    607\u001B[0m \u001B[38;5;28;01mif\u001B[39;00m chunksize \u001B[38;5;129;01mor\u001B[39;00m iterator:\n\u001B[1;32m    608\u001B[0m     \u001B[38;5;28;01mreturn\u001B[39;00m parser\n",
      "File \u001B[0;32m~/anaconda3/envs/rise-environment/lib/python3.10/site-packages/pandas/io/parsers/readers.py:1442\u001B[0m, in \u001B[0;36mTextFileReader.__init__\u001B[0;34m(self, f, engine, **kwds)\u001B[0m\n\u001B[1;32m   1439\u001B[0m     \u001B[38;5;28mself\u001B[39m\u001B[38;5;241m.\u001B[39moptions[\u001B[38;5;124m\"\u001B[39m\u001B[38;5;124mhas_index_names\u001B[39m\u001B[38;5;124m\"\u001B[39m] \u001B[38;5;241m=\u001B[39m kwds[\u001B[38;5;124m\"\u001B[39m\u001B[38;5;124mhas_index_names\u001B[39m\u001B[38;5;124m\"\u001B[39m]\n\u001B[1;32m   1441\u001B[0m \u001B[38;5;28mself\u001B[39m\u001B[38;5;241m.\u001B[39mhandles: IOHandles \u001B[38;5;241m|\u001B[39m \u001B[38;5;28;01mNone\u001B[39;00m \u001B[38;5;241m=\u001B[39m \u001B[38;5;28;01mNone\u001B[39;00m\n\u001B[0;32m-> 1442\u001B[0m \u001B[38;5;28mself\u001B[39m\u001B[38;5;241m.\u001B[39m_engine \u001B[38;5;241m=\u001B[39m \u001B[38;5;28;43mself\u001B[39;49m\u001B[38;5;241;43m.\u001B[39;49m\u001B[43m_make_engine\u001B[49m\u001B[43m(\u001B[49m\u001B[43mf\u001B[49m\u001B[43m,\u001B[49m\u001B[43m \u001B[49m\u001B[38;5;28;43mself\u001B[39;49m\u001B[38;5;241;43m.\u001B[39;49m\u001B[43mengine\u001B[49m\u001B[43m)\u001B[49m\n",
      "File \u001B[0;32m~/anaconda3/envs/rise-environment/lib/python3.10/site-packages/pandas/io/parsers/readers.py:1735\u001B[0m, in \u001B[0;36mTextFileReader._make_engine\u001B[0;34m(self, f, engine)\u001B[0m\n\u001B[1;32m   1733\u001B[0m     \u001B[38;5;28;01mif\u001B[39;00m \u001B[38;5;124m\"\u001B[39m\u001B[38;5;124mb\u001B[39m\u001B[38;5;124m\"\u001B[39m \u001B[38;5;129;01mnot\u001B[39;00m \u001B[38;5;129;01min\u001B[39;00m mode:\n\u001B[1;32m   1734\u001B[0m         mode \u001B[38;5;241m+\u001B[39m\u001B[38;5;241m=\u001B[39m \u001B[38;5;124m\"\u001B[39m\u001B[38;5;124mb\u001B[39m\u001B[38;5;124m\"\u001B[39m\n\u001B[0;32m-> 1735\u001B[0m \u001B[38;5;28mself\u001B[39m\u001B[38;5;241m.\u001B[39mhandles \u001B[38;5;241m=\u001B[39m \u001B[43mget_handle\u001B[49m\u001B[43m(\u001B[49m\n\u001B[1;32m   1736\u001B[0m \u001B[43m    \u001B[49m\u001B[43mf\u001B[49m\u001B[43m,\u001B[49m\n\u001B[1;32m   1737\u001B[0m \u001B[43m    \u001B[49m\u001B[43mmode\u001B[49m\u001B[43m,\u001B[49m\n\u001B[1;32m   1738\u001B[0m \u001B[43m    \u001B[49m\u001B[43mencoding\u001B[49m\u001B[38;5;241;43m=\u001B[39;49m\u001B[38;5;28;43mself\u001B[39;49m\u001B[38;5;241;43m.\u001B[39;49m\u001B[43moptions\u001B[49m\u001B[38;5;241;43m.\u001B[39;49m\u001B[43mget\u001B[49m\u001B[43m(\u001B[49m\u001B[38;5;124;43m\"\u001B[39;49m\u001B[38;5;124;43mencoding\u001B[39;49m\u001B[38;5;124;43m\"\u001B[39;49m\u001B[43m,\u001B[49m\u001B[43m \u001B[49m\u001B[38;5;28;43;01mNone\u001B[39;49;00m\u001B[43m)\u001B[49m\u001B[43m,\u001B[49m\n\u001B[1;32m   1739\u001B[0m \u001B[43m    \u001B[49m\u001B[43mcompression\u001B[49m\u001B[38;5;241;43m=\u001B[39;49m\u001B[38;5;28;43mself\u001B[39;49m\u001B[38;5;241;43m.\u001B[39;49m\u001B[43moptions\u001B[49m\u001B[38;5;241;43m.\u001B[39;49m\u001B[43mget\u001B[49m\u001B[43m(\u001B[49m\u001B[38;5;124;43m\"\u001B[39;49m\u001B[38;5;124;43mcompression\u001B[39;49m\u001B[38;5;124;43m\"\u001B[39;49m\u001B[43m,\u001B[49m\u001B[43m \u001B[49m\u001B[38;5;28;43;01mNone\u001B[39;49;00m\u001B[43m)\u001B[49m\u001B[43m,\u001B[49m\n\u001B[1;32m   1740\u001B[0m \u001B[43m    \u001B[49m\u001B[43mmemory_map\u001B[49m\u001B[38;5;241;43m=\u001B[39;49m\u001B[38;5;28;43mself\u001B[39;49m\u001B[38;5;241;43m.\u001B[39;49m\u001B[43moptions\u001B[49m\u001B[38;5;241;43m.\u001B[39;49m\u001B[43mget\u001B[49m\u001B[43m(\u001B[49m\u001B[38;5;124;43m\"\u001B[39;49m\u001B[38;5;124;43mmemory_map\u001B[39;49m\u001B[38;5;124;43m\"\u001B[39;49m\u001B[43m,\u001B[49m\u001B[43m \u001B[49m\u001B[38;5;28;43;01mFalse\u001B[39;49;00m\u001B[43m)\u001B[49m\u001B[43m,\u001B[49m\n\u001B[1;32m   1741\u001B[0m \u001B[43m    \u001B[49m\u001B[43mis_text\u001B[49m\u001B[38;5;241;43m=\u001B[39;49m\u001B[43mis_text\u001B[49m\u001B[43m,\u001B[49m\n\u001B[1;32m   1742\u001B[0m \u001B[43m    \u001B[49m\u001B[43merrors\u001B[49m\u001B[38;5;241;43m=\u001B[39;49m\u001B[38;5;28;43mself\u001B[39;49m\u001B[38;5;241;43m.\u001B[39;49m\u001B[43moptions\u001B[49m\u001B[38;5;241;43m.\u001B[39;49m\u001B[43mget\u001B[49m\u001B[43m(\u001B[49m\u001B[38;5;124;43m\"\u001B[39;49m\u001B[38;5;124;43mencoding_errors\u001B[39;49m\u001B[38;5;124;43m\"\u001B[39;49m\u001B[43m,\u001B[49m\u001B[43m \u001B[49m\u001B[38;5;124;43m\"\u001B[39;49m\u001B[38;5;124;43mstrict\u001B[39;49m\u001B[38;5;124;43m\"\u001B[39;49m\u001B[43m)\u001B[49m\u001B[43m,\u001B[49m\n\u001B[1;32m   1743\u001B[0m \u001B[43m    \u001B[49m\u001B[43mstorage_options\u001B[49m\u001B[38;5;241;43m=\u001B[39;49m\u001B[38;5;28;43mself\u001B[39;49m\u001B[38;5;241;43m.\u001B[39;49m\u001B[43moptions\u001B[49m\u001B[38;5;241;43m.\u001B[39;49m\u001B[43mget\u001B[49m\u001B[43m(\u001B[49m\u001B[38;5;124;43m\"\u001B[39;49m\u001B[38;5;124;43mstorage_options\u001B[39;49m\u001B[38;5;124;43m\"\u001B[39;49m\u001B[43m,\u001B[49m\u001B[43m \u001B[49m\u001B[38;5;28;43;01mNone\u001B[39;49;00m\u001B[43m)\u001B[49m\u001B[43m,\u001B[49m\n\u001B[1;32m   1744\u001B[0m \u001B[43m\u001B[49m\u001B[43m)\u001B[49m\n\u001B[1;32m   1745\u001B[0m \u001B[38;5;28;01massert\u001B[39;00m \u001B[38;5;28mself\u001B[39m\u001B[38;5;241m.\u001B[39mhandles \u001B[38;5;129;01mis\u001B[39;00m \u001B[38;5;129;01mnot\u001B[39;00m \u001B[38;5;28;01mNone\u001B[39;00m\n\u001B[1;32m   1746\u001B[0m f \u001B[38;5;241m=\u001B[39m \u001B[38;5;28mself\u001B[39m\u001B[38;5;241m.\u001B[39mhandles\u001B[38;5;241m.\u001B[39mhandle\n",
      "File \u001B[0;32m~/anaconda3/envs/rise-environment/lib/python3.10/site-packages/pandas/io/common.py:856\u001B[0m, in \u001B[0;36mget_handle\u001B[0;34m(path_or_buf, mode, encoding, compression, memory_map, is_text, errors, storage_options)\u001B[0m\n\u001B[1;32m    851\u001B[0m \u001B[38;5;28;01melif\u001B[39;00m \u001B[38;5;28misinstance\u001B[39m(handle, \u001B[38;5;28mstr\u001B[39m):\n\u001B[1;32m    852\u001B[0m     \u001B[38;5;66;03m# Check whether the filename is to be opened in binary mode.\u001B[39;00m\n\u001B[1;32m    853\u001B[0m     \u001B[38;5;66;03m# Binary mode does not support 'encoding' and 'newline'.\u001B[39;00m\n\u001B[1;32m    854\u001B[0m     \u001B[38;5;28;01mif\u001B[39;00m ioargs\u001B[38;5;241m.\u001B[39mencoding \u001B[38;5;129;01mand\u001B[39;00m \u001B[38;5;124m\"\u001B[39m\u001B[38;5;124mb\u001B[39m\u001B[38;5;124m\"\u001B[39m \u001B[38;5;129;01mnot\u001B[39;00m \u001B[38;5;129;01min\u001B[39;00m ioargs\u001B[38;5;241m.\u001B[39mmode:\n\u001B[1;32m    855\u001B[0m         \u001B[38;5;66;03m# Encoding\u001B[39;00m\n\u001B[0;32m--> 856\u001B[0m         handle \u001B[38;5;241m=\u001B[39m \u001B[38;5;28;43mopen\u001B[39;49m\u001B[43m(\u001B[49m\n\u001B[1;32m    857\u001B[0m \u001B[43m            \u001B[49m\u001B[43mhandle\u001B[49m\u001B[43m,\u001B[49m\n\u001B[1;32m    858\u001B[0m \u001B[43m            \u001B[49m\u001B[43mioargs\u001B[49m\u001B[38;5;241;43m.\u001B[39;49m\u001B[43mmode\u001B[49m\u001B[43m,\u001B[49m\n\u001B[1;32m    859\u001B[0m \u001B[43m            \u001B[49m\u001B[43mencoding\u001B[49m\u001B[38;5;241;43m=\u001B[39;49m\u001B[43mioargs\u001B[49m\u001B[38;5;241;43m.\u001B[39;49m\u001B[43mencoding\u001B[49m\u001B[43m,\u001B[49m\n\u001B[1;32m    860\u001B[0m \u001B[43m            \u001B[49m\u001B[43merrors\u001B[49m\u001B[38;5;241;43m=\u001B[39;49m\u001B[43merrors\u001B[49m\u001B[43m,\u001B[49m\n\u001B[1;32m    861\u001B[0m \u001B[43m            \u001B[49m\u001B[43mnewline\u001B[49m\u001B[38;5;241;43m=\u001B[39;49m\u001B[38;5;124;43m\"\u001B[39;49m\u001B[38;5;124;43m\"\u001B[39;49m\u001B[43m,\u001B[49m\n\u001B[1;32m    862\u001B[0m \u001B[43m        \u001B[49m\u001B[43m)\u001B[49m\n\u001B[1;32m    863\u001B[0m     \u001B[38;5;28;01melse\u001B[39;00m:\n\u001B[1;32m    864\u001B[0m         \u001B[38;5;66;03m# Binary mode\u001B[39;00m\n\u001B[1;32m    865\u001B[0m         handle \u001B[38;5;241m=\u001B[39m \u001B[38;5;28mopen\u001B[39m(handle, ioargs\u001B[38;5;241m.\u001B[39mmode)\n",
      "\u001B[0;31mFileNotFoundError\u001B[0m: [Errno 2] No such file or directory: 'data/netflix_titles.csv'"
     ]
    }
   ],
   "source": [
    "\n",
    "import pandas as pd\n",
    "data = pd.read_csv('data/netflix_titles.csv')\n"
   ],
   "metadata": {
    "collapsed": false
   }
  },
  {
   "cell_type": "code",
   "execution_count": null,
   "outputs": [],
   "source": [
    "data.groupby(['country', 'title']).max('release_year')"
   ],
   "metadata": {
    "collapsed": false
   }
  },
  {
   "cell_type": "code",
   "execution_count": null,
   "outputs": [],
   "source": [],
   "metadata": {
    "collapsed": false
   }
  }
 ],
 "metadata": {
  "kernelspec": {
   "display_name": "Python 3 (ipykernel)",
   "language": "python",
   "name": "python3"
  },
  "language_info": {
   "codemirror_mode": {
    "name": "ipython",
    "version": 3
   },
   "file_extension": ".py",
   "mimetype": "text/x-python",
   "name": "python",
   "nbconvert_exporter": "python",
   "pygments_lexer": "ipython3",
   "version": "3.10.6"
  }
 },
 "nbformat": 4,
 "nbformat_minor": 1
}
