{
 "cells": [
  {
   "cell_type": "markdown",
   "id": "d1bfe66b",
   "metadata": {},
   "source": [
    "# Operatoren, Datentypen & built-in Functions \n",
    "\n",
    "\n",
    "\n"
   ]
  },
  {
   "cell_type": "markdown",
   "id": "4706a77c",
   "metadata": {},
   "source": [
    "**Dividiere zwei Zahlen. Was passiert wenn du durch 0 teilst?**"
   ]
  },
  {
   "cell_type": "code",
   "execution_count": 1,
   "id": "78408bf3",
   "metadata": {},
   "outputs": [
    {
     "ename": "ZeroDivisionError",
     "evalue": "division by zero",
     "output_type": "error",
     "traceback": [
      "\u001b[0;31m---------------------------------------------------------------------------\u001b[0m",
      "\u001b[0;31mZeroDivisionError\u001b[0m                         Traceback (most recent call last)",
      "Cell \u001b[0;32mIn [1], line 2\u001b[0m\n\u001b[1;32m      1\u001b[0m \u001b[38;5;66;03m# Code\u001b[39;00m\n\u001b[0;32m----> 2\u001b[0m x \u001b[38;5;241m=\u001b[39m \u001b[38;5;241m8\u001b[39m\u001b[38;5;241m/\u001b[39m\u001b[38;5;241m0\u001b[39m\n",
      "\u001b[0;31mZeroDivisionError\u001b[0m: division by zero"
     ]
    }
   ],
   "source": [
    "# Code\n",
    "x = 8/0\n",
    "\n"
   ]
  },
  {
   "cell_type": "markdown",
   "id": "f2584587",
   "metadata": {},
   "source": [
    "**Welchen Datentyp haben die folgenden Variablen?**\n",
    "(im Zweifel einfach Ausprobieren)\n",
    "\n",
    "```\n",
    "a = -23\n",
    "b = 14.99999\n",
    "c = 'student_548399'\n",
    "d = 0.0\n",
    "e = True\n",
    "f = \"546\"\n",
    "g = -9.87\n",
    "h = False\n",
    "```"
   ]
  },
  {
   "cell_type": "markdown",
   "id": "251bb5b6",
   "metadata": {},
   "source": [
    "**Speichere deinen Namen als Variabel und gib ihn auf der Konsole aus**"
   ]
  },
  {
   "cell_type": "code",
   "execution_count": 2,
   "id": "7fcbe8af",
   "metadata": {},
   "outputs": [
    {
     "name": "stdout",
     "output_type": "stream",
     "text": [
      "Justus\n"
     ]
    }
   ],
   "source": [
    "# Code\n",
    "x = 'Justus'\n",
    "print(x)\n",
    "\"\"\"Mit = kann ich Variablen zuweisen.\n",
    "Variablen sollten \"\"\""
   ]
  },
  {
   "cell_type": "code",
   "execution_count": null,
   "id": "e01c0841",
   "metadata": {
    "tags": [
     "hide-input"
    ]
   },
   "outputs": [],
   "source": [
    "# Mögliche Lösung\n",
    "name = 'Eduard'\n",
    "print(name)"
   ]
  },
  {
   "cell_type": "markdown",
   "id": "fa400639",
   "metadata": {},
   "source": [
    "**Erstelle ein Programm, das einen beliebigen Namen als Eingabe entgegennimmt und 'Hallo < name >' auf der Konsole ausgibt.**"
   ]
  },
  {
   "cell_type": "code",
   "execution_count": 35,
   "id": "ac55b348",
   "metadata": {},
   "outputs": [
    {
     "name": "stdout",
     "output_type": "stream",
     "text": [
      "Wie alt bist du ?123\n",
      "Wie alt bist du ?223\n"
     ]
    },
    {
     "ename": "TypeError",
     "evalue": "unsupported operand type(s) for -: 'str' and 'str'",
     "output_type": "error",
     "traceback": [
      "\u001b[0;31m---------------------------------------------------------------------------\u001b[0m",
      "\u001b[0;31mTypeError\u001b[0m                                 Traceback (most recent call last)",
      "Cell \u001b[0;32mIn [35], line 4\u001b[0m\n\u001b[1;32m      2\u001b[0m x \u001b[38;5;241m=\u001b[39m \u001b[38;5;28minput\u001b[39m(\u001b[38;5;124m'\u001b[39m\u001b[38;5;124mWie alt bist du ?1\u001b[39m\u001b[38;5;124m'\u001b[39m)\n\u001b[1;32m      3\u001b[0m y \u001b[38;5;241m=\u001b[39m \u001b[38;5;28minput\u001b[39m(\u001b[38;5;124m'\u001b[39m\u001b[38;5;124mWie alt bist du ?2\u001b[39m\u001b[38;5;124m'\u001b[39m)\n\u001b[0;32m----> 4\u001b[0m \u001b[38;5;28mprint\u001b[39m(x\u001b[38;5;241m-\u001b[39my)\n\u001b[1;32m      5\u001b[0m \u001b[38;5;28mprint\u001b[39m(\u001b[38;5;124m'\u001b[39m\u001b[38;5;124mHallo\u001b[39m\u001b[38;5;124m'\u001b[39m, x, \u001b[38;5;241m1\u001b[39m, \u001b[38;5;241m2\u001b[39m, )\n",
      "\u001b[0;31mTypeError\u001b[0m: unsupported operand type(s) for -: 'str' and 'str'"
     ]
    }
   ],
   "source": [
    "# Code\n",
    "x = input('Wie alt bist du ?1')\n",
    "y = input('Wie alt bist du ?2')\n",
    "print(x-y)\n",
    "print('Hallo', x, 1, 2, )\n"
   ]
  },
  {
   "cell_type": "code",
   "execution_count": null,
   "id": "3ae326f6",
   "metadata": {
    "tags": [
     "hide-input",
     "skip-execution"
    ]
   },
   "outputs": [],
   "source": [
    "# Mögliche Lösung\n",
    "name = input()\n",
    "print('Hallo', name)"
   ]
  },
  {
   "cell_type": "markdown",
   "id": "c3a6b752",
   "metadata": {},
   "source": [
    "**Was ist das Ergebnis des folgenden Codes?**"
   ]
  },
  {
   "cell_type": "code",
   "execution_count": 8,
   "id": "74c5a8af",
   "metadata": {
    "tags": [
     "skip-execution"
    ]
   },
   "outputs": [
    {
     "data": {
      "text/plain": [
       "7"
      ]
     },
     "execution_count": 8,
     "metadata": {},
     "output_type": "execute_result"
    }
   ],
   "source": [
    "3 + 2 * 3 - (9 - 8) * 2\n"
   ]
  },
  {
   "cell_type": "markdown",
   "id": "56c3e74b",
   "metadata": {},
   "source": [
    "**Welche der folgenden Variablennamen sind erlaubt?**\n",
    "(im Zweifel einfach Ausprobieren)\n",
    "\n",
    "```\n",
    "_570 = 'abc'\n",
    "\n",
    "test%variabel = 'abc'\n",
    "\n",
    "12 = 'abc'\n",
    "\n",
    "VARIABEL = 'abc'\n",
    "\n",
    "_ = 'abc'\n",
    "\n",
    "X = 'abc'\n",
    "\n",
    "print = 'abc'\n",
    "\n",
    "test_123 = 'abc'\n",
    "\n",
    "```"
   ]
  },
  {
   "cell_type": "code",
   "execution_count": 38,
   "id": "ace1ff5a",
   "metadata": {},
   "outputs": [
    {
     "data": {
      "text/plain": [
       "184"
      ]
     },
     "execution_count": 38,
     "metadata": {},
     "output_type": "execute_result"
    }
   ],
   "source": [
    "a = 120\n",
    "b = 64\n",
    "a + b\n"
   ]
  },
  {
   "cell_type": "markdown",
   "id": "a75a744a",
   "metadata": {},
   "source": [
    "**Schreibe ein Programm, das 20 Meter pro Sekunde (m/s) in Kilometer pro Stunde (km/h) umwandelt**"
   ]
  },
  {
   "cell_type": "code",
   "execution_count": 20,
   "id": "bc8bab35",
   "metadata": {},
   "outputs": [
    {
     "name": "stdout",
     "output_type": "stream",
     "text": [
      "72.0\n"
     ]
    }
   ],
   "source": [
    "# Code\n",
    "m_s = 20\n",
    "kmh = m_s*3.6\n",
    "print(kmh)"
   ]
  },
  {
   "cell_type": "code",
   "execution_count": null,
   "id": "9b600916",
   "metadata": {
    "scrolled": true,
    "tags": [
     "hide-input"
    ]
   },
   "outputs": [],
   "source": [
    "# Mögliche Lösung\n",
    "meter_pro_sek = 20\n",
    "km_pro_std = meter_pro_sek * 3.6\n",
    "print(km_pro_std)"
   ]
  },
  {
   "cell_type": "markdown",
   "id": "8bb482ef",
   "metadata": {},
   "source": [
    "**Schreibe ein Programm, das eine beliebiege Meter pro Sekunde (m/s) Eingabe in Kilometer pro Stunde (km/h) umwandelt**"
   ]
  },
  {
   "cell_type": "code",
   "execution_count": 31,
   "id": "bf16bf9f",
   "metadata": {},
   "outputs": [
    {
     "name": "stdout",
     "output_type": "stream",
     "text": [
      "Wie viel m/s bist du gefharen?12,5\n"
     ]
    },
    {
     "ename": "ValueError",
     "evalue": "could not convert string to float: '12,5'",
     "output_type": "error",
     "traceback": [
      "\u001b[0;31m---------------------------------------------------------------------------\u001b[0m",
      "\u001b[0;31mValueError\u001b[0m                                Traceback (most recent call last)",
      "Cell \u001b[0;32mIn [31], line 2\u001b[0m\n\u001b[1;32m      1\u001b[0m \u001b[38;5;66;03m# Code\u001b[39;00m\n\u001b[0;32m----> 2\u001b[0m m_s \u001b[38;5;241m=\u001b[39m \u001b[38;5;28mfloat\u001b[39m(\u001b[38;5;28minput\u001b[39m(\u001b[38;5;124m\"\u001b[39m\u001b[38;5;124mWie viel m/s bist du gefharen?\u001b[39m\u001b[38;5;124m\"\u001b[39m))\n\u001b[1;32m      3\u001b[0m \u001b[38;5;28mprint\u001b[39m(\u001b[38;5;28mtype\u001b[39m(m_s))\n\u001b[1;32m      4\u001b[0m km_h \u001b[38;5;241m=\u001b[39m m_s \u001b[38;5;241m*\u001b[39m \u001b[38;5;241m3.6\u001b[39m\n",
      "\u001b[0;31mValueError\u001b[0m: could not convert string to float: '12,5'"
     ]
    }
   ],
   "source": [
    "# Code\n",
    "m_s = float(input(\"Wie viel m/s bist du gefharen?\"))\n",
    "print(type(m_s))\n",
    "km_h = m_s * 3.6\n",
    "print(km_h, 'km/h')\n"
   ]
  },
  {
   "cell_type": "code",
   "execution_count": null,
   "id": "d8881c56",
   "metadata": {
    "scrolled": true,
    "tags": [
     "hide-input",
     "skip-execution"
    ]
   },
   "outputs": [],
   "source": [
    "# Mögliche Lösung\n",
    "meter_pro_sek = float(input())\n",
    "km_pro_std = meter_pro_sek * 3.6\n",
    "print(km_pro_std)"
   ]
  },
  {
   "cell_type": "code",
   "execution_count": null,
   "id": "00b6cb1c",
   "metadata": {},
   "outputs": [],
   "source": []
  }
 ],
 "metadata": {
  "celltoolbar": "Tags",
  "kernelspec": {
   "display_name": "Python 3 (ipykernel)",
   "language": "python",
   "name": "python3"
  },
  "language_info": {
   "codemirror_mode": {
    "name": "ipython",
    "version": 3
   },
   "file_extension": ".py",
   "mimetype": "text/x-python",
   "name": "python",
   "nbconvert_exporter": "python",
   "pygments_lexer": "ipython3",
   "version": "3.10.6"
  },
  "livereveal": {
   "autolaunch": true
  },
  "vscode": {
   "interpreter": {
    "hash": "f9f85f796d01129d0dd105a088854619f454435301f6ffec2fea96ecbd9be4ac"
   }
  }
 },
 "nbformat": 4,
 "nbformat_minor": 5
}
