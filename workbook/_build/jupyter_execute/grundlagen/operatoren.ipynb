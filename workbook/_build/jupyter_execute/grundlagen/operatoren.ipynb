{
 "cells": [
  {
   "cell_type": "markdown",
   "id": "3cca3719",
   "metadata": {
    "slideshow": {
     "slide_type": "slide"
    }
   },
   "source": [
    "# Operatoren \n",
    "\n",
    "Python kann als einfacher Taschenrechner verwendet werden. Dabei helfen artithmetische Operatoren:\n",
    "\n",
    "| Operatoren  | Beschreibung  | \n",
    "|----------|:-------------  |\n",
    "| + |  Addition |\n",
    "| - |  Subtraktion|\n",
    "| / |  Division |\n",
    "| * |  Mulitplikation |\n",
    "| // |  Ganzzahl-Division |\n",
    "| % |  Modulo - Rest der Division|\n",
    "| ** |  Potenzierung |\n",
    "\n",
    "\n",
    "\n",
    "Bei der Ausführung wird die Rechenregel \"Punkt vor Strich\" eingehalten.\n",
    "Mit Klammern können Ausdrücke gruppiert werden.\n"
   ]
  },
  {
   "cell_type": "code",
   "execution_count": 1,
   "id": "b8f5763f",
   "metadata": {
    "slideshow": {
     "slide_type": "slide"
    }
   },
   "outputs": [
    {
     "data": {
      "text/plain": [
       "11"
      ]
     },
     "execution_count": 1,
     "metadata": {},
     "output_type": "execute_result"
    }
   ],
   "source": [
    "# Addition\n",
    "5 + 6"
   ]
  },
  {
   "cell_type": "code",
   "execution_count": 2,
   "id": "b0adfd86",
   "metadata": {
    "slideshow": {
     "slide_type": "fragment"
    }
   },
   "outputs": [
    {
     "data": {
      "text/plain": [
       "16"
      ]
     },
     "execution_count": 2,
     "metadata": {},
     "output_type": "execute_result"
    }
   ],
   "source": [
    "# Subtraktion\n",
    "20 - 4"
   ]
  },
  {
   "cell_type": "code",
   "execution_count": 3,
   "id": "21a79966",
   "metadata": {
    "slideshow": {
     "slide_type": "fragment"
    }
   },
   "outputs": [
    {
     "data": {
      "text/plain": [
       "12"
      ]
     },
     "execution_count": 3,
     "metadata": {},
     "output_type": "execute_result"
    }
   ],
   "source": [
    "# Multiplikation\n",
    "2 * 6"
   ]
  },
  {
   "cell_type": "code",
   "execution_count": 4,
   "id": "39e06c4c",
   "metadata": {
    "slideshow": {
     "slide_type": "fragment"
    }
   },
   "outputs": [
    {
     "data": {
      "text/plain": [
       "4.5"
      ]
     },
     "execution_count": 4,
     "metadata": {},
     "output_type": "execute_result"
    }
   ],
   "source": [
    "# Division\n",
    "9 / 2"
   ]
  },
  {
   "cell_type": "code",
   "execution_count": 5,
   "id": "0bb39d8b",
   "metadata": {
    "slideshow": {
     "slide_type": "fragment"
    }
   },
   "outputs": [
    {
     "data": {
      "text/plain": [
       "4"
      ]
     },
     "execution_count": 5,
     "metadata": {},
     "output_type": "execute_result"
    }
   ],
   "source": [
    "# Ganzzahl-Division\n",
    "9 // 2"
   ]
  },
  {
   "cell_type": "code",
   "execution_count": 6,
   "id": "459ed4bd",
   "metadata": {
    "slideshow": {
     "slide_type": "fragment"
    }
   },
   "outputs": [
    {
     "data": {
      "text/plain": [
       "1"
      ]
     },
     "execution_count": 6,
     "metadata": {},
     "output_type": "execute_result"
    }
   ],
   "source": [
    "# Modulo\n",
    "9 % 2"
   ]
  },
  {
   "cell_type": "code",
   "execution_count": 7,
   "id": "93c3ca2b",
   "metadata": {
    "slideshow": {
     "slide_type": "fragment"
    }
   },
   "outputs": [
    {
     "data": {
      "text/plain": [
       "8"
      ]
     },
     "execution_count": 7,
     "metadata": {},
     "output_type": "execute_result"
    }
   ],
   "source": [
    "# Potenzieren\n",
    "2 ** 3"
   ]
  },
  {
   "cell_type": "code",
   "execution_count": 8,
   "id": "4a5705eb",
   "metadata": {
    "slideshow": {
     "slide_type": "fragment"
    }
   },
   "outputs": [
    {
     "data": {
      "text/plain": [
       "10"
      ]
     },
     "execution_count": 8,
     "metadata": {},
     "output_type": "execute_result"
    }
   ],
   "source": [
    "# Rechenreihenfolge \n",
    "4 + 2 * 3"
   ]
  },
  {
   "cell_type": "code",
   "execution_count": 9,
   "id": "20d1d5e2",
   "metadata": {
    "slideshow": {
     "slide_type": "fragment"
    }
   },
   "outputs": [
    {
     "data": {
      "text/plain": [
       "18"
      ]
     },
     "execution_count": 9,
     "metadata": {},
     "output_type": "execute_result"
    }
   ],
   "source": [
    "# Mit Klammern\n",
    "(4 + 2) * 3"
   ]
  }
 ],
 "metadata": {
  "celltoolbar": "Slideshow",
  "kernelspec": {
   "display_name": "Python 3.9.13 64-bit",
   "language": "python",
   "name": "python3"
  },
  "language_info": {
   "codemirror_mode": {
    "name": "ipython",
    "version": 3
   },
   "file_extension": ".py",
   "mimetype": "text/x-python",
   "name": "python",
   "nbconvert_exporter": "python",
   "pygments_lexer": "ipython3",
   "version": "3.8.10"
  },
  "livereveal": {
   "autolaunch": true
  },
  "vscode": {
   "interpreter": {
    "hash": "f9f85f796d01129d0dd105a088854619f454435301f6ffec2fea96ecbd9be4ac"
   }
  }
 },
 "nbformat": 4,
 "nbformat_minor": 5
}