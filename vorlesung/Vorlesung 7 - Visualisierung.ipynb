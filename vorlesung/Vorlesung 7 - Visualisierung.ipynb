{
 "cells": [
  {
   "cell_type": "markdown",
   "id": "d9a3430d",
   "metadata": {
    "slideshow": {
     "slide_type": "slide"
    }
   },
   "source": [
    "# Datenjournalismus in Python - \n",
    "# Eine praktische Einführung in die Programmierung\n",
    "\n",
    "\n",
    "### Natalie Widmann\n",
    "\n",
    "\n",
    "\n",
    "\n",
    "Wintersemester 2022 / 2023\n",
    "\n",
    "\n",
    "Universität Leipzig\n",
    "\n",
    "\n",
    "\n"
   ]
  },
  {
   "cell_type": "markdown",
   "id": "a1c7d68a",
   "metadata": {
    "slideshow": {
     "slide_type": "slide"
    }
   },
   "source": [
    "### Ziel\n",
    "\n",
    "Wir visualisieren die Daten im EM-DAT Datensatz und bauen ein Länderdashboard damit.\n"
   ]
  },
  {
   "cell_type": "markdown",
   "id": "a3b3b413",
   "metadata": {},
   "source": [
    "![Datenpipeline](../imgs/datapipeline.png)"
   ]
  },
  {
   "cell_type": "code",
   "execution_count": null,
   "id": "8658426c",
   "metadata": {
    "slideshow": {
     "slide_type": "slide"
    }
   },
   "outputs": [],
   "source": [
    "# Install a pip package im Jupyter Notebook\n",
    "!pip3 install pandas\n",
    "!pip3 install openpyxl"
   ]
  },
  {
   "cell_type": "code",
   "execution_count": null,
   "id": "9f32b8a8",
   "metadata": {
    "slideshow": {
     "slide_type": "slide"
    }
   },
   "outputs": [],
   "source": [
    "import pandas as pd\n",
    "data = pd.read_csv('../data/clean_emdat.csv', index_col=0)"
   ]
  },
  {
   "cell_type": "code",
   "execution_count": null,
   "id": "8c93e778",
   "metadata": {},
   "outputs": [],
   "source": [
    "data"
   ]
  },
  {
   "cell_type": "code",
   "execution_count": null,
   "id": "0a134e4c",
   "metadata": {
    "scrolled": true
   },
   "outputs": [],
   "source": [
    "data.info()"
   ]
  },
  {
   "cell_type": "markdown",
   "id": "e1cc61e8",
   "metadata": {},
   "source": [
    "## Das Dashboard..."
   ]
  },
  {
   "cell_type": "markdown",
   "id": "2e424631",
   "metadata": {
    "slideshow": {
     "slide_type": "slide"
    }
   },
   "source": [
    "## Recherchefragen\n",
    "\n",
    "- Wie viele Todesopfer gibt es in einem Land?\n",
    "- Wie stark ist ein Land von Naturkatastrophen betroffen?\n",
    "- Welchen Anteil haben die unterschiedlichen Naturkatastrophentypen daran?\n",
    "- Wie hat sich die Anzahl der Naturkatastrophen über die Jahre hin entwickelt?"
   ]
  },
  {
   "cell_type": "markdown",
   "id": "f0905851",
   "metadata": {},
   "source": [
    "### Wie viele Todesopfer gibt es in einem Land?"
   ]
  },
  {
   "cell_type": "markdown",
   "id": "3b0620e2",
   "metadata": {},
   "source": [
    "#### Wie viele Todesopfer gibt es insgesamt?"
   ]
  },
  {
   "cell_type": "code",
   "execution_count": null,
   "id": "1f37395f",
   "metadata": {},
   "outputs": [],
   "source": [
    "data[\"Total Deaths\"].sum()"
   ]
  },
  {
   "cell_type": "markdown",
   "id": "c18901cc",
   "metadata": {},
   "source": [
    "#### Wie viele Todesopfer gibt es insgesamt in Deutschland?"
   ]
  },
  {
   "cell_type": "code",
   "execution_count": null,
   "id": "2d1d13f8",
   "metadata": {},
   "outputs": [],
   "source": [
    "data['Country'] == 'Germany'"
   ]
  },
  {
   "cell_type": "code",
   "execution_count": null,
   "id": "70d135df",
   "metadata": {},
   "outputs": [],
   "source": [
    "data[data['Country'] == 'Germany']"
   ]
  },
  {
   "cell_type": "markdown",
   "id": "174d1a49",
   "metadata": {},
   "source": [
    "#### Korrektur der Ländernamen für Deutschland"
   ]
  },
  {
   "cell_type": "code",
   "execution_count": null,
   "id": "5d463a9d",
   "metadata": {
    "slideshow": {
     "slide_type": "slide"
    }
   },
   "outputs": [],
   "source": [
    "# Vorkommen von Deutschland\n",
    "for country in data['Country'].unique():\n",
    "    if 'german' in country.lower():\n",
    "        print(country)"
   ]
  },
  {
   "cell_type": "markdown",
   "id": "64e4ab94",
   "metadata": {},
   "source": [
    "Schreibe eine Funktion die dies bereinigt.\n",
    "\n",
    "**Eingabe**: beliebiger Ländername (bspw. Indonesia, Belgium, Germany Fed Rep, etc.)\n",
    "\n",
    "**Ausgabe**: der Ländername oder Germany falls einer der oben gelisteten Namen eingegeben wurde"
   ]
  },
  {
   "cell_type": "code",
   "execution_count": null,
   "id": "7f57be66",
   "metadata": {},
   "outputs": [],
   "source": [
    "def clean_country"
   ]
  },
  {
   "cell_type": "code",
   "execution_count": null,
   "id": "3db4e733",
   "metadata": {},
   "outputs": [],
   "source": [
    "text = 'Germany Fed Rep'\n",
    "clean_text = clean_country(text)\n",
    "print(text)"
   ]
  },
  {
   "cell_type": "markdown",
   "id": "0d77e32c",
   "metadata": {},
   "source": [
    "Anwendung der Funktion auf alle Werte einer Spalte"
   ]
  },
  {
   "cell_type": "code",
   "execution_count": null,
   "id": "2e7c65ba",
   "metadata": {},
   "outputs": [],
   "source": [
    "for index, row in data.iterrows():\n",
    "    data.loc[index, \"Country\"] = clean_country(row['Country'])"
   ]
  },
  {
   "cell_type": "code",
   "execution_count": null,
   "id": "35d4a2d1",
   "metadata": {},
   "outputs": [],
   "source": [
    "help(data.loc)"
   ]
  },
  {
   "cell_type": "code",
   "execution_count": null,
   "id": "c9f9646e",
   "metadata": {},
   "outputs": [],
   "source": [
    "data[data['Country'] == 'Germany']"
   ]
  },
  {
   "cell_type": "markdown",
   "id": "eaa814b4",
   "metadata": {},
   "source": [
    "**Alternative Lösungsmöglichkeit** (viel übersichtlicher und effizienter)\n",
    "\n",
    "mit `apply()` kann eine Funktion auf eine komplette Spalte oder Zeile des Dataframes angewendet werden"
   ]
  },
  {
   "cell_type": "code",
   "execution_count": null,
   "id": "221bb2bf",
   "metadata": {},
   "outputs": [],
   "source": [
    "data['Country'] = data['Country'].apply(clean_country)"
   ]
  },
  {
   "cell_type": "code",
   "execution_count": null,
   "id": "2c1fce6f",
   "metadata": {},
   "outputs": [],
   "source": [
    "data[data['Country'] == 'Germany']"
   ]
  },
  {
   "cell_type": "markdown",
   "id": "4447e446",
   "metadata": {},
   "source": [
    "#### Wie viele Todesopfer gab es insgesamt in Deutschland?"
   ]
  },
  {
   "cell_type": "code",
   "execution_count": null,
   "id": "4a40731a",
   "metadata": {
    "scrolled": false
   },
   "outputs": [],
   "source": [
    "data[data['Country'] == 'Germany']"
   ]
  },
  {
   "cell_type": "markdown",
   "id": "ca38217d",
   "metadata": {},
   "source": [
    "#### Wie viele Todesopfer gab es insgesamt in Indien?"
   ]
  },
  {
   "cell_type": "code",
   "execution_count": null,
   "id": "1080db45",
   "metadata": {},
   "outputs": [],
   "source": []
  },
  {
   "cell_type": "markdown",
   "id": "d01c83b6",
   "metadata": {},
   "source": [
    "#### Allgemeine Funktion die Gesamtzahl der Todesopfer eines Landes ausgibt"
   ]
  },
  {
   "cell_type": "code",
   "execution_count": null,
   "id": "3e88539f",
   "metadata": {},
   "outputs": [],
   "source": []
  },
  {
   "cell_type": "markdown",
   "id": "a5d55b9f",
   "metadata": {},
   "source": [
    "## Dashboard Teil II\n",
    "\n",
    "### Welchen Anteil haben die unterschiedlichen Naturkatastrophentypen in Deutschland?"
   ]
  },
  {
   "cell_type": "code",
   "execution_count": null,
   "id": "b222f6ef",
   "metadata": {},
   "outputs": [],
   "source": []
  },
  {
   "cell_type": "markdown",
   "id": "163fa3cb",
   "metadata": {},
   "source": [
    "# Visualisierung von DataFrames\n",
    "\n",
    "[Matplotlib](https://matplotlib.org/) is a comprehensive library for creating static, animated, and interactive visualizations in Python.\n",
    "\n",
    "Matplotlib makes easy things easy and hard things possible.\n",
    "\n",
    "Install matplotlib:"
   ]
  },
  {
   "cell_type": "code",
   "execution_count": null,
   "id": "14287eb9",
   "metadata": {},
   "outputs": [],
   "source": [
    "!pip3 install --upgrade pip\n",
    "!pip3 install --upgrade Pillow\n",
    "!pip3 install matplotlib\n",
    "\n",
    "import matplotlib.pyplot as plt"
   ]
  },
  {
   "cell_type": "code",
   "execution_count": null,
   "id": "03f4af2b",
   "metadata": {},
   "outputs": [],
   "source": [
    "germany_data = data[data['Country'] == 'Germany']"
   ]
  },
  {
   "cell_type": "code",
   "execution_count": null,
   "id": "d319deff",
   "metadata": {},
   "outputs": [],
   "source": [
    "germany_data['Disaster Type'].value_counts()"
   ]
  },
  {
   "cell_type": "code",
   "execution_count": null,
   "id": "64fcf496",
   "metadata": {
    "scrolled": true
   },
   "outputs": [],
   "source": [
    "germany_data['Disaster Type'].value_counts().plot()"
   ]
  },
  {
   "cell_type": "code",
   "execution_count": null,
   "id": "2cf2e38e",
   "metadata": {
    "scrolled": true
   },
   "outputs": [],
   "source": [
    "germany_data['Disaster Type'].value_counts().plot(kind='pie')"
   ]
  },
  {
   "cell_type": "markdown",
   "id": "7204827f",
   "metadata": {
    "slideshow": {
     "slide_type": "slide"
    }
   },
   "source": [
    "## Recherchefragen\n",
    "\n",
    "#### Welche Naturkatastrophen fordern die meisten Todesopfer?"
   ]
  },
  {
   "cell_type": "markdown",
   "id": "a6957897",
   "metadata": {},
   "source": [
    "`.groupby()` gruppiert einen DataFrame nach den Werten einer oder mehreren Spalten.\n",
    "\n",
    "Die Spalten nach denen man Gruppieren möchte werden als Argument übergeben. Danach folgt die gewünschte Berechnung auf dieser Gruppe. Das Ergebnis wird als DataFrame zurückgegeben. "
   ]
  },
  {
   "cell_type": "code",
   "execution_count": null,
   "id": "57224183",
   "metadata": {},
   "outputs": [],
   "source": [
    "data"
   ]
  },
  {
   "cell_type": "code",
   "execution_count": null,
   "id": "99bc48aa",
   "metadata": {},
   "outputs": [],
   "source": [
    "data['Total Deaths'].sum()"
   ]
  },
  {
   "cell_type": "code",
   "execution_count": null,
   "id": "f4f4e7fe",
   "metadata": {
    "scrolled": true
   },
   "outputs": [],
   "source": [
    "data.groupby('Disaster Type')['Total Deaths'].sum()"
   ]
  },
  {
   "cell_type": "code",
   "execution_count": null,
   "id": "119dd523",
   "metadata": {
    "scrolled": true
   },
   "outputs": [],
   "source": [
    "data.groupby('Disaster Type').sum()"
   ]
  },
  {
   "cell_type": "markdown",
   "id": "30e0d1a0",
   "metadata": {},
   "source": [
    "`.groupby()` kann auch auf mehrere Spalten gleichzeitig angewendet werden"
   ]
  },
  {
   "cell_type": "code",
   "execution_count": null,
   "id": "61a1cf0b",
   "metadata": {},
   "outputs": [],
   "source": [
    "data.groupby(['Disaster Type', 'Disaster Subtype'])['Total Deaths'].sum()"
   ]
  },
  {
   "cell_type": "markdown",
   "id": "1b8fce19",
   "metadata": {},
   "source": [
    "### Visualisierung"
   ]
  },
  {
   "cell_type": "code",
   "execution_count": null,
   "id": "d31c1948",
   "metadata": {},
   "outputs": [],
   "source": [
    "data.groupby('Disaster Type')['Total Deaths'].sum().plot(kind='pie')"
   ]
  },
  {
   "cell_type": "markdown",
   "id": "7ba15cb5",
   "metadata": {},
   "source": [
    "#### Welche Naturkatastrophen fordern die meisten Todesopfer in Deutschland?"
   ]
  },
  {
   "cell_type": "code",
   "execution_count": null,
   "id": "b5f44033",
   "metadata": {},
   "outputs": [],
   "source": []
  },
  {
   "cell_type": "markdown",
   "id": "831be8d4",
   "metadata": {},
   "source": [
    "#### Generelle Funktion"
   ]
  },
  {
   "cell_type": "code",
   "execution_count": null,
   "id": "5f9d7b89",
   "metadata": {},
   "outputs": [],
   "source": [
    "country = 'Germany'\n",
    "country_data = data[data['Country'] == country]\n",
    "country_data.groupby('Disaster Type')['Total Deaths'].sum().plot(kind='pie')"
   ]
  },
  {
   "cell_type": "code",
   "execution_count": null,
   "id": "ed2fe77b",
   "metadata": {},
   "outputs": [],
   "source": [
    "def plot_death_by_disastertype"
   ]
  },
  {
   "cell_type": "markdown",
   "id": "969368ee",
   "metadata": {},
   "source": [
    "## Dashboard Teil III\n",
    "\n",
    "#### Wie hat sich die Anzahl der Naturkatastrophen über die Jahre hin entwickelt?"
   ]
  },
  {
   "cell_type": "code",
   "execution_count": null,
   "id": "83944f77",
   "metadata": {},
   "outputs": [],
   "source": [
    "germany_data"
   ]
  },
  {
   "cell_type": "markdown",
   "id": "9c012e7f",
   "metadata": {},
   "source": [
    "**Berechne für jedes Jahr die Summe aus allen `Events`**"
   ]
  },
  {
   "cell_type": "code",
   "execution_count": null,
   "id": "70ea7baa",
   "metadata": {},
   "outputs": [],
   "source": []
  },
  {
   "cell_type": "code",
   "execution_count": null,
   "id": "d7712420",
   "metadata": {},
   "outputs": [],
   "source": [
    "yearly_events = data.groupby('Year')['Total Events'].sum()\n",
    "yearly_events.plot(kind='line', x='Year', y='Total Events', title='Anzahl an Naturkatastrophen pro Jahr')"
   ]
  },
  {
   "cell_type": "markdown",
   "id": "e1435bcd",
   "metadata": {},
   "source": [
    "**Plotte für Deutschland die Entwicklung der Anzahl an Naturkatastrophen über die Jahre hinweg**"
   ]
  },
  {
   "cell_type": "code",
   "execution_count": null,
   "id": "cb4d9790",
   "metadata": {},
   "outputs": [],
   "source": []
  },
  {
   "cell_type": "markdown",
   "id": "609b8d41",
   "metadata": {},
   "source": [
    "**Generelle Funktion**"
   ]
  },
  {
   "cell_type": "code",
   "execution_count": null,
   "id": "7d5589be",
   "metadata": {},
   "outputs": [],
   "source": []
  },
  {
   "cell_type": "markdown",
   "id": "7a95806d",
   "metadata": {},
   "source": [
    "## Länderdashboard"
   ]
  },
  {
   "cell_type": "code",
   "execution_count": null,
   "id": "1a42939a",
   "metadata": {},
   "outputs": [],
   "source": [
    "def plot_pie(country_data):\n",
    "    country_data.groupby('Disaster Type')['Total Deaths'].sum().plot(kind='pie', title='Anteil an getöten Menschen nach Naturkatastrophentyp')\n",
    "    plt.show()"
   ]
  },
  {
   "cell_type": "code",
   "execution_count": null,
   "id": "a2f865f6",
   "metadata": {},
   "outputs": [],
   "source": [
    "def plot_time_evolution(country_data):\n",
    "    yearly_events = country_data.groupby('Year')['Total Events'].sum()\n",
    "    yearly_events.plot(kind='line', x='Year', y='Total Events', title='Anzahl an Naturkatastrophen pro Jahr')\n",
    "    plt.show()"
   ]
  },
  {
   "cell_type": "code",
   "execution_count": null,
   "id": "6b15a7fd",
   "metadata": {},
   "outputs": [],
   "source": [
    "def death_overview(country_data):\n",
    "    total_deaths = country_data[\"Total Deaths\"].sum()\n",
    "    print(f'Getötete Menschen seit 1900: {total_deaths:,.0f}')"
   ]
  },
  {
   "cell_type": "code",
   "execution_count": null,
   "id": "a40045ec",
   "metadata": {},
   "outputs": [],
   "source": [
    "def compute_anteil(country_total, world_total):\n",
    "    anteil = round(country_total / (world_total / 100.0), 2)\n",
    "    print(f'{anteil}% aller Menschen die weltweit von Naturkatastrophen betroffen sind leben hier.')"
   ]
  },
  {
   "cell_type": "code",
   "execution_count": null,
   "id": "409ea3bb",
   "metadata": {},
   "outputs": [],
   "source": [
    "def analyze(data, country):\n",
    "    print(f'Naturkatastrophen in {country.upper()} \\n')\n",
    "    country_data = data[data['Country'] == country]\n",
    "    \n",
    "    compute_anteil(country_data['Total Affected'].sum(), data['Total Affected'].sum())\n",
    "    death_overview(country_data)\n",
    "    plot_pie(country_data)\n",
    "    plot_time_evolution(country_data)"
   ]
  },
  {
   "cell_type": "code",
   "execution_count": null,
   "id": "ee148b1a",
   "metadata": {},
   "outputs": [],
   "source": [
    "analyze(data, 'Bangladesh')"
   ]
  },
  {
   "cell_type": "markdown",
   "id": "d2a9d7a5",
   "metadata": {},
   "source": [
    "### Überblick über die Welt\n",
    "\n",
    "Wie können wir die selbstdefinierte Funktion `analyze()` anpassen, so dass auch eine Gesamtstatistik, die alle Länder der Welt enthält abgefragt werden kann?"
   ]
  },
  {
   "cell_type": "code",
   "execution_count": null,
   "id": "4d215f83",
   "metadata": {},
   "outputs": [],
   "source": [
    "def analyze(data, country):\n",
    "    print(f'Naturkatastrophen in {country.upper()} \\n')\n",
    "    country_data = data[data['Country'] == country]\n",
    "    \n",
    "    compute_anteil(country_data['Total Affected'].sum(), data['Total Affected'].sum())\n",
    "    death_overview(country_data)\n",
    "    plot_pie(country_data)\n",
    "    plot_time_evolution(country_data)"
   ]
  },
  {
   "cell_type": "code",
   "execution_count": null,
   "id": "b2ef99a8",
   "metadata": {},
   "outputs": [],
   "source": [
    "analyze(data, 'world')"
   ]
  },
  {
   "cell_type": "markdown",
   "id": "e74a7453",
   "metadata": {
    "slideshow": {
     "slide_type": "slide"
    }
   },
   "source": [
    "# Zeit für Feedback\n",
    "\n",
    "\n",
    "\n",
    "Link: https://ahaslides.com/HP3D5\n",
    "\n",
    "![Feedback QR Code](../imgs/qrcode_vl7.png)\n",
    "\n"
   ]
  },
  {
   "cell_type": "code",
   "execution_count": null,
   "id": "49d58eea",
   "metadata": {},
   "outputs": [],
   "source": []
  }
 ],
 "metadata": {
  "celltoolbar": "Slideshow",
  "kernelspec": {
   "display_name": "Python 3 (ipykernel)",
   "language": "python",
   "name": "python3"
  },
  "language_info": {
   "codemirror_mode": {
    "name": "ipython",
    "version": 3
   },
   "file_extension": ".py",
   "mimetype": "text/x-python",
   "name": "python",
   "nbconvert_exporter": "python",
   "pygments_lexer": "ipython3",
   "version": "3.9.15"
  }
 },
 "nbformat": 4,
 "nbformat_minor": 5
}
