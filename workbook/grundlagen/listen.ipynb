{
 "cells": [
  {
   "cell_type": "markdown",
   "id": "ecac78fb",
   "metadata": {
    "slideshow": {
     "slide_type": "slide"
    }
   },
   "source": [
    "# Listen\n",
    "\n",
    "Ein Datentyp zur Darstellung von Sequenzen oder mehreren zusammengehörigen Objekten.\n",
    "\n",
    "## Syntax\n",
    "\n",
    "```\n",
    "<list_name> = [<object1>, <object2>, <object3>, ...]\n",
    "\n",
    "obst = ['Kiwi', 'Apfel', 'Brombeere', 'Mandarine']\n",
    "```\n",
    "\n"
   ]
  },
  {
   "cell_type": "markdown",
   "id": "4b961de2",
   "metadata": {
    "slideshow": {
     "slide_type": "slide"
    }
   },
   "source": [
    "Eine Liste kann aus unterschiedlichen Elementen bestehen"
   ]
  },
  {
   "cell_type": "code",
   "execution_count": 1,
   "id": "8eeaa1b2",
   "metadata": {},
   "outputs": [
    {
     "name": "stdout",
     "output_type": "stream",
     "text": [
      "[2, 3, 5, 7, 11, 13, 17, 19, 23, 29]\n",
      "[True, False, False, True, True, True]\n",
      "['Merkur', 'Vater', 'Erde', 'Mars', 'Jupiter', 'Saturn', 'Uranus', 'Neptun']\n",
      "[]\n"
     ]
    }
   ],
   "source": [
    "# Listen\n",
    "primzahlen = [2, 3, 5, 7, 11, 13, 17, 19, 23, 29]\n",
    "print(primzahlen)\n",
    "\n",
    "code = [True, False, False, True, True, True]\n",
    "print(code)\n",
    "\n",
    "planeten = ['Merkur', 'Vater', 'Erde', 'Mars', 'Jupiter', 'Saturn', 'Uranus', 'Neptun']\n",
    "print(planeten)\n",
    "\n",
    "# Leere Liste\n",
    "leere_liste = []\n",
    "print(leere_liste)"
   ]
  },
  {
   "cell_type": "markdown",
   "id": "238c2c6f",
   "metadata": {
    "slideshow": {
     "slide_type": "fragment"
    }
   },
   "source": [
    "Datentypen können auch gemischt werden"
   ]
  },
  {
   "cell_type": "code",
   "execution_count": 86,
   "id": "05e40a2f",
   "metadata": {},
   "outputs": [],
   "source": [
    "sonstiges = [7, 'Hello', -12, True, 62.9, False, 'Ende']"
   ]
  },
  {
   "cell_type": "markdown",
   "id": "32aa20c6",
   "metadata": {
    "slideshow": {
     "slide_type": "fragment"
    }
   },
   "source": [
    "## Länge\n",
    "\n",
    "Die Länge einer Liste wird mit `len(<list>)` abgefragt.\n"
   ]
  },
  {
   "cell_type": "code",
   "execution_count": 5,
   "id": "7ff48aca",
   "metadata": {},
   "outputs": [
    {
     "data": {
      "text/plain": [
       "7"
      ]
     },
     "execution_count": 5,
     "metadata": {},
     "output_type": "execute_result"
    }
   ],
   "source": [
    "sonstiges = [7, 'Hello', -12, True, 62.9, False, 'Ende']\n",
    "len(sonstiges)"
   ]
  },
  {
   "cell_type": "markdown",
   "id": "80bba146",
   "metadata": {
    "slideshow": {
     "slide_type": "slide"
    }
   },
   "source": [
    "## List Methoden - Beispiele\n",
    "\n",
    "| Methode  | Beschreibung  | \n",
    "|----------|:-------------  |\n",
    "| sort() |  Sortiert die Liste (aufsteigend, absteigend) |\n",
    "| index()  |  Gibt den Index eines Elements zurück |\n",
    "| count()  |  Gibt die Anzal des vorhandenen Listeneintrages zurück |\n",
    "| append() |  Fügt ein Element am Ende der Liste hinzu |\n",
    "| extend() |  Hängt eine andere Liste am Ende an  |\n",
    "| insert() |  Fügt ein Element in die Liste ein |\n",
    "| remove() |  Löscht ein Element aus der Liste |\n",
    "\n",
    "\n",
    "**Erinnerung**: Mit `dir(<object>)` werden alle Methoden eines Objektes angezeigt.\n",
    "\n"
   ]
  },
  {
   "cell_type": "code",
   "execution_count": null,
   "id": "68fc58e0",
   "metadata": {},
   "outputs": [],
   "source": [
    "colors.count('red')"
   ]
  },
  {
   "cell_type": "markdown",
   "id": "866b792b",
   "metadata": {},
   "source": [
    "## Index\n",
    "\n",
    "Jedes Element in einer Liste ist einem Index zugeordnet. Über diesen Index kann man das Element zugreifen.\n",
    "\n",
    "Der Index startet immer bei 0.\n",
    "\n",
    "![ListIndex](../../imgs/ListIndex.png)\n",
    "\n",
    "**Die Syntax**\n",
    "\n",
    "```\n",
    "    <listname>[<index>]\n",
    "```\n",
    "\n",
    "**Beispiel**\n",
    "\n",
    "```\n",
    "   farben = ['gelb', 'rot', 'blau', 'grün', 'weiß']\n",
    "   farben[0]\n",
    "\n",
    "```"
   ]
  },
  {
   "cell_type": "code",
   "execution_count": 44,
   "id": "fb1fb05b",
   "metadata": {
    "slideshow": {
     "slide_type": "slide"
    }
   },
   "outputs": [
    {
     "name": "stdout",
     "output_type": "stream",
     "text": [
      "gelb\n",
      "rot\n",
      "blau\n"
     ]
    }
   ],
   "source": [
    "# Indexing\n",
    "farben = ['gelb', 'rot', 'blau', 'grün', 'weiß']\n",
    "\n",
    "# Element an Index X\n",
    "print(farben[0])\n",
    "\n",
    "print(farben[1])\n",
    "\n",
    "print(farben[2])\n",
    "\n"
   ]
  },
  {
   "cell_type": "code",
   "execution_count": 1,
   "id": "837fe80e",
   "metadata": {
    "slideshow": {
     "slide_type": "slide"
    }
   },
   "outputs": [
    {
     "ename": "NameError",
     "evalue": "name 'farben' is not defined",
     "output_type": "error",
     "traceback": [
      "\u001b[0;31m---------------------------------------------------------------------------\u001b[0m",
      "\u001b[0;31mNameError\u001b[0m                                 Traceback (most recent call last)",
      "Cell \u001b[0;32mIn [1], line 2\u001b[0m\n\u001b[1;32m      1\u001b[0m \u001b[39m# Wenn der Index gleich oder größer ist als die Länge der Liste, wird ein Fehler zurückgegeben\u001b[39;00m\n\u001b[0;32m----> 2\u001b[0m \u001b[39mprint\u001b[39m(\u001b[39mlen\u001b[39m(farben))\n\u001b[1;32m      3\u001b[0m \u001b[39mprint\u001b[39m(farben[\u001b[39m5\u001b[39m])\n\u001b[1;32m      4\u001b[0m \u001b[39mprint\u001b[39m(farben[\u001b[39m10\u001b[39m])\n",
      "\u001b[0;31mNameError\u001b[0m: name 'farben' is not defined"
     ]
    }
   ],
   "source": [
    "# Wenn der Index gleich oder größer ist als die Länge der Liste, wird ein Fehler zurückgegeben\n",
    "print(len(farben))\n",
    "print(farben[5])\n",
    "print(farben[10])"
   ]
  },
  {
   "cell_type": "markdown",
   "id": "7a234bee",
   "metadata": {
    "slideshow": {
     "slide_type": "slide"
    }
   },
   "source": [
    "## Negative Indizes\n",
    "\n",
    "Indizes können auch negativ sein. Dies bedeutet das vom Ende der Liste her gezählt wird.\n",
    "\n",
    "Der Index -1 ist dem letzten Element zugeordnet.\n",
    "\n",
    "\n"
   ]
  },
  {
   "cell_type": "code",
   "execution_count": null,
   "id": "38f35408",
   "metadata": {},
   "outputs": [],
   "source": [
    "farben = ['gelb', 'rot', 'blau', 'grün', 'weiß']\n",
    "print(farben[-1])"
   ]
  },
  {
   "cell_type": "code",
   "execution_count": 56,
   "id": "b381027c",
   "metadata": {},
   "outputs": [
    {
     "name": "stdout",
     "output_type": "stream",
     "text": [
      "blau\n"
     ]
    }
   ],
   "source": [
    "print(farben[-3])"
   ]
  },
  {
   "cell_type": "markdown",
   "id": "a0d93f50",
   "metadata": {
    "slideshow": {
     "slide_type": "slide"
    }
   },
   "source": [
    "# Nested Lists\n",
    "\n",
    "Listen können auch Listen beinhalten.\n",
    "\n"
   ]
  },
  {
   "cell_type": "code",
   "execution_count": 2,
   "id": "ecc9760f",
   "metadata": {},
   "outputs": [],
   "source": [
    "sonstiges = [1, 7, 23, ['a', 'b', 'c'], 18, True, []]"
   ]
  },
  {
   "cell_type": "code",
   "execution_count": 3,
   "id": "dfd75735",
   "metadata": {},
   "outputs": [
    {
     "name": "stdout",
     "output_type": "stream",
     "text": [
      "<class 'int'>\n",
      "<class 'int'>\n",
      "<class 'int'>\n",
      "<class 'list'>\n",
      "<class 'int'>\n",
      "<class 'bool'>\n",
      "<class 'list'>\n"
     ]
    }
   ],
   "source": [
    "# Datentyp der einzelnen Listeneinträge\n",
    "for elem in sonstiges:\n",
    "    print(type(elem))"
   ]
  },
  {
   "cell_type": "code",
   "execution_count": 6,
   "id": "de31abb1",
   "metadata": {},
   "outputs": [
    {
     "name": "stdout",
     "output_type": "stream",
     "text": [
      "['a', 'b', 'c']\n",
      "a\n",
      "['b', 'c']\n"
     ]
    }
   ],
   "source": [
    "# Indexing der Liste in der Liste\n",
    "print(sonstiges[3])\n",
    "print(sonstiges[3][0])\n",
    "print(sonstiges[3][1:3])"
   ]
  }
 ],
 "metadata": {
  "kernelspec": {
   "display_name": "Python 3 (ipykernel)",
   "language": "python",
   "name": "python3"
  },
  "language_info": {
   "codemirror_mode": {
    "name": "ipython",
    "version": 3
   },
   "file_extension": ".py",
   "mimetype": "text/x-python",
   "name": "python",
   "nbconvert_exporter": "python",
   "pygments_lexer": "ipython3",
   "version": "3.9.15"
  },
  "vscode": {
   "interpreter": {
    "hash": "f9f85f796d01129d0dd105a088854619f454435301f6ffec2fea96ecbd9be4ac"
   }
  }
 },
 "nbformat": 4,
 "nbformat_minor": 5
}
