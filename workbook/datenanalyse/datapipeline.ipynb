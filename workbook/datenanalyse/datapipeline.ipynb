{
 "cells": [
  {
   "cell_type": "markdown",
   "id": "218a0599",
   "metadata": {
    "slideshow": {
     "slide_type": "slide"
    }
   },
   "source": [
    "# Datenanalyse und -verarbeitung\n",
    "\n",
    "\n",
    "## Ziele\n",
    "\n",
    "- Verständnis der Datenverarbeitung\n",
    "- kritisches Hinterfragen der Datenqualität\n",
    "- strukturierte Daten bearbeiten und analysieren mit Pandas\n",
    "- Visualisierung von Daten\n",
    "- Python Packages verwenden\n",
    "- unterschiedliche Datenformate (csv, json, excel, txt) einlesen und speichern"
   ]
  },
  {
   "cell_type": "markdown",
   "id": "ecac78fb",
   "metadata": {
    "slideshow": {
     "slide_type": "slide"
    }
   },
   "source": [
    "## Was sind Daten?\n",
    "\n",
    "\n",
    "### Strukturierte Daten\n",
    "\n",
    "Strukturierte Daten sind gut organisiert und so formattiert, dass es einfach ist sie zu durchsuchen, sie maschinell zu lesen oder zu verarbeiten. Das einfachste Beispiel ist eine Tabelle in der jede Spalte eine Kategorie festlegt. \n",
    "\n",
    "\n",
    "### Unstrukturierte Daten\n",
    "\n",
    "Im Gegensatz dazu sind unstrukturierte Daten nicht in einem bestimmten Format oder einer festgelegten Struktur verfügbar. Dazu zählen Texte, Bilder, Social Media Feeds, aber auch Audio Files, etc.\n",
    "\n",
    "\n",
    "### Semi-Strukturierte Daten\n",
    "\n",
    "Semi-strukturierte Daten bilden eine Mischform. Beispielsweise eine Tabelle mit E-Mail Daten, in der Empfänger, Betreff, Datum und Absender strukturierte Informationen enthalten, der eigentliche Text jedoch unstrukturiert ist. "
   ]
  },
  {
   "cell_type": "markdown",
   "id": "06b08853",
   "metadata": {},
   "source": [
    "## Datenpipeline"
   ]
  },
  {
   "cell_type": "markdown",
   "id": "a28f3311",
   "metadata": {
    "slideshow": {
     "slide_type": "slide"
    }
   },
   "source": [
    "\n",
    "\n",
    "![Datenpipeline](../../imgs/datapipeline.png)\n"
   ]
  }
 ],
 "metadata": {
  "celltoolbar": "Slideshow",
  "kernelspec": {
   "display_name": "Python 3.9.15 64-bit",
   "language": "python",
   "name": "python3"
  },
  "language_info": {
   "codemirror_mode": {
    "name": "ipython",
    "version": 3
   },
   "file_extension": ".py",
   "mimetype": "text/x-python",
   "name": "python",
   "nbconvert_exporter": "python",
   "pygments_lexer": "ipython3",
   "version": "3.9.15"
  },
  "vscode": {
   "interpreter": {
    "hash": "f9f85f796d01129d0dd105a088854619f454435301f6ffec2fea96ecbd9be4ac"
   }
  }
 },
 "nbformat": 4,
 "nbformat_minor": 5
}
