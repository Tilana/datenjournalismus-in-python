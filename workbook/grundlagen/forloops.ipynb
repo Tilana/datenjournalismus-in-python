{
 "cells": [
  {
   "cell_type": "markdown",
   "id": "5e4c49a2",
   "metadata": {},
   "source": [
    "# For Loops\n",
    "\n",
    "\n",
    "Schleifen - auch **Loops** genannt, ermöglichen eine einfache Wiederholung einer Funktion.\n",
    "\n",
    "\n",
    "Bei **For-Loops** wird über ein Objekt iteriert.\n",
    "\n",
    "Beispielsweise: *Für jedes Element in einer Liste, führe eine Funktion aus.* oder *Für jedes Zeichen in der Zeichenkette, führe eine Funktion aus.*\n",
    "\n",
    "\n",
    "## Syntax\n",
    "\n",
    "`for` leitet als Schlüsselwort die Schleife ein. Darauf folgt ein frei wählbarer Variablenname mit dem das einzelne Element in der Liste bezeichnet wird. Danach kommt `in` und der Listenname über den iterriert wird.\n",
    "\n",
    "![ForLoop](../../imgs/forloop.png)"
   ]
  },
  {
   "cell_type": "code",
   "execution_count": 2,
   "id": "de07bdc0",
   "metadata": {},
   "outputs": [
    {
     "name": "stdout",
     "output_type": "stream",
     "text": [
      "0\n",
      "1\n",
      "2\n",
      "3\n",
      "4\n",
      "5\n",
      "6\n",
      "7\n",
      "8\n",
      "9\n",
      "10\n"
     ]
    }
   ],
   "source": [
    "# Gib jede Zahl in der Liste aus\n",
    "for zahl in [0, 1, 2, 3, 4, 5, 6, 7, 8, 9, 10]:\n",
    "    print(zahl)\n"
   ]
  },
  {
   "cell_type": "code",
   "execution_count": 4,
   "id": "e7c8a2f6",
   "metadata": {},
   "outputs": [
    {
     "name": "stdout",
     "output_type": "stream",
     "text": [
      "Hallo Urs\n",
      "Hallo Gundula\n",
      "Hallo Amer\n",
      "Hallo Ina\n",
      "Hallo Sasan\n"
     ]
    }
   ],
   "source": [
    "# Für jeden Namen in der Liste, gib 'Hallo <name>' aus\n",
    "teilnehmer = ['Urs', 'Gundula', 'Amer', 'Ina', 'Sasan']\n",
    "for name in teilnehmer:\n",
    "    print ('Hallo {}'.format(name))"
   ]
  },
  {
   "cell_type": "code",
   "execution_count": 5,
   "id": "25032e81",
   "metadata": {},
   "outputs": [
    {
     "name": "stdout",
     "output_type": "stream",
     "text": [
      "H\n",
      "a\n",
      "l\n",
      "l\n",
      "o\n",
      " \n",
      "W\n",
      "e\n",
      "l\n",
      "t\n",
      "!\n",
      "!\n"
     ]
    }
   ],
   "source": [
    "# Auch strings sind iterierbar:\n",
    "text = \"hallo welt!!\"\n",
    "for character in text:\n",
    "    if character == 'h' or character == 'w':\n",
    "        print(character.upper())\n",
    "    else:\n",
    "        print(character)"
   ]
  }
 ],
 "metadata": {
  "kernelspec": {
   "display_name": "Python 3 (ipykernel)",
   "language": "python",
   "name": "python3"
  },
  "language_info": {
   "codemirror_mode": {
    "name": "ipython",
    "version": 3
   },
   "file_extension": ".py",
   "mimetype": "text/x-python",
   "name": "python",
   "nbconvert_exporter": "python",
   "pygments_lexer": "ipython3",
   "version": "3.9.15"
  }
 },
 "nbformat": 4,
 "nbformat_minor": 5
}
