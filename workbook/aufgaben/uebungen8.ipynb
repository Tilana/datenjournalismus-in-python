{
 "cells": [
  {
   "cell_type": "markdown",
   "metadata": {},
   "source": [
    "# Übung 8\n",
    "\n",
    "## Können Sie mir mal die Webseite kratzen? - Scraping mit BeautifulSoup"
   ]
  },
  {
   "cell_type": "markdown",
   "metadata": {},
   "source": [
    "Stelle eine GET-Request an deine liebste Wikipedia-Seite."
   ]
  },
  {
   "cell_type": "code",
   "execution_count": null,
   "metadata": {},
   "outputs": [],
   "source": [
    "# Dein Code\n",
    "'''\n",
    "Wie schon bei der API beginnen wir hier damit eine get-Anfrage an einen Webserver unserer Wahl zu stellen.\n",
    "Der Antworttext ist hier normalerweise eine in HTML codierte Webseite.\n",
    "'''\n",
    "import requests\n",
    "result = requests.get('https://de.wikipedia.org/wiki/Milovan_%C4%90ilas')\n",
    "result.text\n",
    "\n"
   ]
  },
  {
   "cell_type": "markdown",
   "metadata": {},
   "source": [
    "Installiere, falls nicht bereits geschehen Beautiful Soup."
   ]
  },
  {
   "cell_type": "code",
   "execution_count": null,
   "metadata": {},
   "outputs": [],
   "source": [
    "# Dein Code\n"
   ]
  },
  {
   "cell_type": "markdown",
   "metadata": {},
   "source": [
    "Erstelle eine BeautifulSoup aus dem Text der Anfrage."
   ]
  },
  {
   "cell_type": "code",
   "execution_count": null,
   "metadata": {},
   "outputs": [],
   "source": [
    "# Dein Code\n",
    "'''\n",
    "Um diesen sehr langen und unübersichtlichen Text besser zu verarbeiten, überführen wir den erhaltenen String in ein BeautifulSoup Datenobjekt.\n",
    "Jetzt ist die Webseite mit den Funktionalitäten von BeautifulSoup durchsuchbar.\n",
    "Wichtig ist hier, dass ein Parser benötigt wird, der das HTML \"verstehen\" kann. Je nach dem Format der erhaltenen Antwort, kann auch ein anderer Parser z.B. für xml, benötigt werden.\n",
    "'''\n",
    "from bs4 import BeautifulSoup\n",
    "soup = BeautifulSoup(result.text, 'html.parser')\n",
    "soup\n"
   ]
  },
  {
   "cell_type": "markdown",
   "metadata": {},
   "source": [
    "Lass dir nur den Text des Artikels ausgeben."
   ]
  },
  {
   "cell_type": "code",
   "execution_count": null,
   "metadata": {},
   "outputs": [],
   "source": [
    "# Dein Code\n",
    "'''\n",
    "Eine der wichtigsten Funktionen von BeautifulSoup ist wohl find_all.\n",
    "Damit lässt sich nach bestimmten HTML-Tags suchen.\n",
    "Die wichtigsten HTML-Tags sind:\n",
    "<p> Paragraph </p>\n",
    "<a> Hyperlink (Anchor) </a>\n",
    "<ol> geordnete Liste </ol>\n",
    "<ul> ungeordnete Liste </ul>\n",
    "<li> Listeneintrag </li>\n",
    "\n",
    "In diesem Fall wissen wir, dass der gesamte Text in dieser Webseite innerhalb von einem Parargraph-Tag steht.\n",
    "'''\n",
    "text = ''\n",
    "for p in soup.find_all('p'):\n",
    "    text += p.text\n",
    "#text\n",
    "\n",
    "soup.get_text()\n"
   ]
  },
  {
   "cell_type": "markdown",
   "metadata": {},
   "source": [
    "Filtere alle Hyperlinks heraus."
   ]
  },
  {
   "cell_type": "code",
   "execution_count": null,
   "metadata": {},
   "outputs": [],
   "source": [
    "# Dein Code\n",
    "'''\n",
    "Mithilfe der get Funktion können wir auf Attribute der jeweiligen Tags zugreifen.\n",
    "So können wir z.B. die verlinkten Webseiten in einer Seite finden in dem wir uns das href-Attribut eines Anchor-Tags geben lassen.\n",
    "'''\n",
    "for link in soup.find_all('a'):\n",
    "    print(link.get('href'))\n"
   ]
  },
  {
   "cell_type": "markdown",
   "metadata": {},
   "source": [
    "Finde alle \\<p\\> Tags und Speichere sie in einer Liste"
   ]
  },
  {
   "cell_type": "code",
   "execution_count": null,
   "metadata": {},
   "outputs": [],
   "source": [
    "# Dein Code\n",
    "absaetze = soup.find_all('p')\n",
    "absaetze"
   ]
  },
  {
   "cell_type": "markdown",
   "metadata": {},
   "source": [
    "Filtere jetzt nur die Hyperlinks von der Seite, die im Text vorkommen."
   ]
  },
  {
   "cell_type": "code",
   "execution_count": null,
   "metadata": {},
   "outputs": [],
   "source": [
    "# Dein Code\n",
    "for p in absaetze:\n",
    "    print(p.text)\n",
    "    for link in p.find_all('a'):\n",
    "        print(link.get('href'))\n",
    "\n"
   ]
  },
  {
   "cell_type": "code",
   "execution_count": null,
   "outputs": [],
   "source": [],
   "metadata": {
    "collapsed": false
   }
  }
 ],
 "metadata": {
  "kernelspec": {
   "display_name": "Python 3 (ipykernel)",
   "language": "python",
   "name": "python3"
  },
  "language_info": {
   "codemirror_mode": {
    "name": "ipython",
    "version": 3
   },
   "file_extension": ".py",
   "mimetype": "text/x-python",
   "name": "python",
   "nbconvert_exporter": "python",
   "pygments_lexer": "ipython3",
   "version": "3.9.15"
  }
 },
 "nbformat": 4,
 "nbformat_minor": 1
}
