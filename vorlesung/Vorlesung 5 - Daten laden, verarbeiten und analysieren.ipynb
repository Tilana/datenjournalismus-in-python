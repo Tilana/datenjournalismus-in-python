{
 "cells": [
  {
   "cell_type": "markdown",
   "id": "d9a3430d",
   "metadata": {
    "slideshow": {
     "slide_type": "slide"
    }
   },
   "source": [
    "# Datenjournalismus in Python - \n",
    "# Eine praktische Einführung in die Programmierung\n",
    "\n",
    "\n",
    "### Natalie Widmann\n",
    "\n",
    "\n",
    "\n",
    "\n",
    "Wintersemester 2022 / 2023\n",
    "\n",
    "\n",
    "Universität Leipzig\n",
    "\n",
    "\n",
    "\n"
   ]
  },
  {
   "cell_type": "markdown",
   "id": "104bdb95",
   "metadata": {
    "slideshow": {
     "slide_type": "slide"
    }
   },
   "source": [
    "## Organisatorisches\n",
    "\n",
    "### Projekt\n",
    "\n",
    "- Projektpräsentation und Kursabschluss: 26. Januar 2023\n",
    "- Projektabgabe: 16. Februar 2023"
   ]
  },
  {
   "cell_type": "markdown",
   "id": "31364e0e",
   "metadata": {
    "slideshow": {
     "slide_type": "slide"
    }
   },
   "source": [
    "\n",
    "\n",
    "![Timeline](../imgs/timeline.png)"
   ]
  },
  {
   "cell_type": "markdown",
   "id": "cc76fc0a",
   "metadata": {
    "slideshow": {
     "slide_type": "slide"
    }
   },
   "source": [
    "# Blick zurück: Teil I - Grundlagen in Python"
   ]
  },
  {
   "cell_type": "markdown",
   "id": "e883a43e",
   "metadata": {
    "slideshow": {
     "slide_type": "slide"
    }
   },
   "source": [
    "\n",
    "- Code lesen, verstehen und selbst schreiben\n",
    "- Python Programme ausführen und Fehler analysieren\n",
    "- einfache Daten (Listen oder Dictionaries) bearbeiten und analysieren\n",
    "- Strings modellieren und Informationen extrahieren\n",
    "- Berechnungen ausführen und Vergleiche anstellen"
   ]
  },
  {
   "cell_type": "markdown",
   "id": "208243ef",
   "metadata": {
    "slideshow": {
     "slide_type": "fragment"
    }
   },
   "source": [
    "- Anwendungsbeispiele aus dem journalistischen Alltag:\n",
    "    - Jeff Bezos Rechner\n",
    "    - Automatisierten Texte\n",
    "    - Luftqualität in Leipzig\n",
    "    - Nebeneinkünfte von Lokalpolitker:innen in Rheinlandpfalz"
   ]
  },
  {
   "cell_type": "markdown",
   "id": "a28f3311",
   "metadata": {
    "slideshow": {
     "slide_type": "slide"
    }
   },
   "source": [
    "\n",
    "\n",
    "![Datenpipeline](../imgs/datapipeline.png)\n"
   ]
  },
  {
   "cell_type": "markdown",
   "id": "218a0599",
   "metadata": {
    "slideshow": {
     "slide_type": "slide"
    }
   },
   "source": [
    "## Teil II - Datenanalyse und -verarbeitung  in Python\n",
    "\n",
    "\n",
    "### Ziele\n",
    "\n",
    "- Verständnis der Datenverarbeitung\n",
    "- strukturierte Daten bearbeiten und analysieren mit Pandas\n",
    "- Visualisierung von Daten\n",
    "- Python Packages verwenden\n",
    "- unterschiedliche Datenformate (csv, json, excel, txt) einlesen und speichern"
   ]
  },
  {
   "cell_type": "markdown",
   "id": "c4a90b6d",
   "metadata": {
    "slideshow": {
     "slide_type": "slide"
    }
   },
   "source": [
    "## Pandas\n",
    "\n",
    "\n",
    "[Pandas](https://pandas.pydata.org/) ist ein Python Package und ist abgeleitet aus \"Python and data analysis\".\n",
    "\n",
    "Pandas stellt die Grundfunktionalitäten für das Arbeiten mit strukturierten Daten zur Verfügung.\n",
    "\n",
    "\n",
    "![pandas](../imgs/pandas.png)\n",
    "\n",
    "Photo by <a href=\"https://unsplash.com/@stonewyq?utm_source=unsplash&utm_medium=referral&utm_content=creditCopyText\">Stone Wang</a> on <a href=\"https://unsplash.com/s/photos/pandas?utm_source=unsplash&utm_medium=referral&utm_content=creditCopyText\">Unsplash</a>\n",
    "  "
   ]
  },
  {
   "cell_type": "markdown",
   "id": "683e8e1b",
   "metadata": {
    "slideshow": {
     "slide_type": "slide"
    }
   },
   "source": [
    "## Python Packages\n",
    "\n",
    "Packages, auch Module genannt, sind vorgefertigte Code-Pakete, deren Funktionen wir wir verwenden können ohne diese selbst programmieren zu müssen.\n",
    "\n",
    "Manche Packages sind in Python vorinstalliert und müssen nur noch importiert werden.\n",
    "\n",
    "Beispiele:\n",
    "\n",
    "- [math](https://docs.python.org/3/library/math.html)\n",
    "- [random](https://docs.python.org/3/library/random.html)\n",
    "- [datetime](https://docs.python.org/3/library/datetime.html)"
   ]
  },
  {
   "cell_type": "code",
   "execution_count": null,
   "id": "d97aece7",
   "metadata": {
    "slideshow": {
     "slide_type": "slide"
    }
   },
   "outputs": [],
   "source": [
    "# Zufälliger Integer Wert mit random package\n",
    "import random\n",
    "print(random.randint(10,20))"
   ]
  },
  {
   "cell_type": "code",
   "execution_count": null,
   "id": "30512768",
   "metadata": {
    "slideshow": {
     "slide_type": "fragment"
    }
   },
   "outputs": [],
   "source": [
    "# das heutige Datum über datetime ausgeben lassen\n",
    "import datetime\n",
    "print(datetime.datetime.today())"
   ]
  },
  {
   "cell_type": "markdown",
   "id": "114bdee3",
   "metadata": {
    "slideshow": {
     "slide_type": "slide"
    }
   },
   "source": [
    "## Installation von Python Packages\n",
    "\n",
    "Packages die von der Python Community zur Verfügung gestellt werden, müssen vor der Verwendung installiert werden. Dafür kann [`pip`](https://pypi.org/project/pip/) als Packagemanager verwendet werden.\n",
    "\n",
    "Tipps für die Installation von Python Packages in Windows, Linux und Mac gibt es hier: https://packaging.python.org/en/latest/tutorials/installing-packages/\n",
    "\n",
    "In Jupyter Notebooks können Packages wie folgt installiert werden:"
   ]
  },
  {
   "cell_type": "code",
   "execution_count": null,
   "id": "8658426c",
   "metadata": {
    "slideshow": {
     "slide_type": "slide"
    }
   },
   "outputs": [],
   "source": [
    "# Install a pip package im Jupyter Notebook\n",
    "import sys\n",
    "!{sys.executable} -m pip install pandas\n",
    "!{sys.executable} -m pip install openpyxl"
   ]
  },
  {
   "cell_type": "code",
   "execution_count": null,
   "id": "11d68e8c",
   "metadata": {
    "slideshow": {
     "slide_type": "fragment"
    }
   },
   "outputs": [],
   "source": [
    "import pandas"
   ]
  },
  {
   "cell_type": "markdown",
   "id": "00dbcea5",
   "metadata": {},
   "source": [
    "## Idee, Daten finden & Verifikation\n",
    "\n",
    "![Datenpipeline1](../imgs/datenpipeline1.png)"
   ]
  },
  {
   "cell_type": "markdown",
   "id": "a1c7d68a",
   "metadata": {
    "slideshow": {
     "slide_type": "slide"
    }
   },
   "source": [
    "### Aggregated figures for Natural Disasters in EM-DAT\n",
    "\n",
    "Link: https://data.humdata.org/dataset/emdat-country-profiles\n",
    "\n",
    "\n",
    "In 1988, the **Centre for Research on the Epidemiology of Disasters (CRED)** launched the **Emergency Events Database (EM-DAT)**. EM-DAT was created with the initial support of the **World Health Organisation (WHO) and the Belgian Government**.\n",
    "\n",
    "The main objective of the database is to **serve the purposes of humanitarian action at national and international levels**. The initiative aims to rationalise decision making for disaster preparedness, as well as provide an objective base for vulnerability assessment and priority setting.\n",
    "\n",
    "EM-DAT contains essential core data on the **occurrence and effects of over 22,000 mass disasters in the world from 1900 to the present day**. The database is compiled from various sources, including UN agencies, non-governmental organisations, insurance companies, research institutes and press agencies.\n",
    "\n"
   ]
  },
  {
   "cell_type": "code",
   "execution_count": null,
   "id": "9f32b8a8",
   "metadata": {
    "slideshow": {
     "slide_type": "slide"
    }
   },
   "outputs": [],
   "source": [
    "import pandas as pd\n",
    "data = pd.read_excel('../data/emdat.xlsx', engine=\"openpyxl\")"
   ]
  },
  {
   "cell_type": "code",
   "execution_count": null,
   "id": "671573a4",
   "metadata": {
    "slideshow": {
     "slide_type": "fragment"
    }
   },
   "outputs": [],
   "source": [
    "data"
   ]
  },
  {
   "cell_type": "markdown",
   "id": "cb08fe91",
   "metadata": {
    "slideshow": {
     "slide_type": "slide"
    }
   },
   "source": [
    "## Datenexploration und -bereinigung\n",
    "\n",
    "![Datenpipeline1](../imgs/datenpipeline2.png)"
   ]
  },
  {
   "cell_type": "markdown",
   "id": "ab2ae8ed",
   "metadata": {},
   "source": [
    "### Überblick über die Daten"
   ]
  },
  {
   "cell_type": "code",
   "execution_count": null,
   "id": "4ac5fabb",
   "metadata": {},
   "outputs": [],
   "source": [
    "# head() gibt die ersten 5 Zeilen aus\n",
    "data.head()"
   ]
  },
  {
   "cell_type": "markdown",
   "id": "9b432f58",
   "metadata": {
    "slideshow": {
     "slide_type": "slide"
    }
   },
   "source": [
    "Wie groß ist der Datensatz? Wie viele Zeilen und wie viele Spalten sind vorhanden?"
   ]
  },
  {
   "cell_type": "code",
   "execution_count": null,
   "id": "ac6b7bba",
   "metadata": {
    "slideshow": {
     "slide_type": "fragment"
    }
   },
   "outputs": [],
   "source": [
    "data.shape"
   ]
  },
  {
   "cell_type": "code",
   "execution_count": null,
   "id": "b9d178c2",
   "metadata": {
    "slideshow": {
     "slide_type": "fragment"
    }
   },
   "outputs": [],
   "source": [
    "print(f'Anzahl an Zeilen: {data.shape[0]}')\n",
    "print(f'Anzahl an Spalten: {data.shape[1]}')"
   ]
  },
  {
   "cell_type": "markdown",
   "id": "e9bc2ad0",
   "metadata": {
    "slideshow": {
     "slide_type": "slide"
    }
   },
   "source": [
    "Die Spaltennamen"
   ]
  },
  {
   "cell_type": "code",
   "execution_count": null,
   "id": "66dca6ff",
   "metadata": {},
   "outputs": [],
   "source": [
    "print(data.columns)"
   ]
  },
  {
   "cell_type": "markdown",
   "id": "3010422c",
   "metadata": {
    "slideshow": {
     "slide_type": "slide"
    }
   },
   "source": [
    "`info()` für mehr Infos über die Spalten"
   ]
  },
  {
   "cell_type": "code",
   "execution_count": null,
   "id": "2034253b",
   "metadata": {},
   "outputs": [],
   "source": [
    "print(data.info())"
   ]
  },
  {
   "cell_type": "markdown",
   "id": "9404b205",
   "metadata": {},
   "source": [
    "`describe()` zeigt die grundlegenden statistischen Eigenschaften von Spalten mit numerischem Datentyp, also `int` und `float`. \n",
    "\n",
    "Die Methode berechnet:\n",
    "- die Anzahl an fehlenden Werten\n",
    "- Durchschnitt\n",
    "- Standardabweichung\n",
    "- Zahlenrange\n",
    "- Media\n",
    "- 0.25 und 0.75 Quartile"
   ]
  },
  {
   "cell_type": "code",
   "execution_count": null,
   "id": "ae62f539",
   "metadata": {},
   "outputs": [],
   "source": [
    "data.describe()"
   ]
  },
  {
   "cell_type": "markdown",
   "id": "ee542e79",
   "metadata": {},
   "source": [
    "`.unique()` zeigt die unterschiedlichen Werte einer Spalte an"
   ]
  },
  {
   "cell_type": "code",
   "execution_count": null,
   "id": "0b9ad1c6",
   "metadata": {},
   "outputs": [],
   "source": [
    "data['Year'].unique()"
   ]
  },
  {
   "cell_type": "markdown",
   "id": "f2ef53b5",
   "metadata": {
    "slideshow": {
     "slide_type": "slide"
    }
   },
   "source": [
    "### Data Cleaning: erste Zeile im DataFrame entfernen"
   ]
  },
  {
   "cell_type": "code",
   "execution_count": null,
   "id": "97870d3f",
   "metadata": {
    "slideshow": {
     "slide_type": "fragment"
    }
   },
   "outputs": [],
   "source": [
    "data.index"
   ]
  },
  {
   "cell_type": "code",
   "execution_count": null,
   "id": "2b0a3698",
   "metadata": {
    "slideshow": {
     "slide_type": "fragment"
    }
   },
   "outputs": [],
   "source": [
    "data = data.drop(index=0)"
   ]
  },
  {
   "cell_type": "code",
   "execution_count": null,
   "id": "85befa3a",
   "metadata": {
    "slideshow": {
     "slide_type": "fragment"
    }
   },
   "outputs": [],
   "source": [
    "data"
   ]
  },
  {
   "cell_type": "markdown",
   "id": "4935a41b",
   "metadata": {
    "slideshow": {
     "slide_type": "slide"
    }
   },
   "source": [
    "### Datentypen abfragen und anpassen"
   ]
  },
  {
   "cell_type": "code",
   "execution_count": null,
   "id": "04ac1d6a",
   "metadata": {
    "slideshow": {
     "slide_type": "-"
    }
   },
   "outputs": [],
   "source": [
    "data.info()"
   ]
  },
  {
   "cell_type": "code",
   "execution_count": null,
   "id": "7203f08b",
   "metadata": {
    "slideshow": {
     "slide_type": "slide"
    }
   },
   "outputs": [],
   "source": [
    "# Datentyp Abfrage mit dem Attribut\n",
    "data['Year'].dtype"
   ]
  },
  {
   "cell_type": "code",
   "execution_count": null,
   "id": "220f4a17",
   "metadata": {
    "slideshow": {
     "slide_type": "fragment"
    }
   },
   "outputs": [],
   "source": [
    "# Umwandlung des Datentyp\n",
    "data[\"Year\"] = pd.to_numeric(data[\"Year\"])\n",
    "data['Year'].dtype"
   ]
  },
  {
   "cell_type": "code",
   "execution_count": null,
   "id": "5d5deef2",
   "metadata": {
    "slideshow": {
     "slide_type": "slide"
    }
   },
   "outputs": [],
   "source": [
    "# Auf alle integer und float Spalten anwenden\n",
    "cols = ['Total Events', 'Total Affected', 'Total Deaths', 'Total Damage (USD, adjusted)']\n",
    "for col in cols:\n",
    "    data[col] = pd.to_numeric(data[col])"
   ]
  },
  {
   "cell_type": "code",
   "execution_count": null,
   "id": "7262afa6",
   "metadata": {
    "slideshow": {
     "slide_type": "fragment"
    }
   },
   "outputs": [],
   "source": [
    "data.info()"
   ]
  },
  {
   "cell_type": "markdown",
   "id": "4a8134be",
   "metadata": {
    "slideshow": {
     "slide_type": "slide"
    }
   },
   "source": [
    "### Überblick über die numerischen Daten"
   ]
  },
  {
   "cell_type": "code",
   "execution_count": null,
   "id": "1efa5eb1",
   "metadata": {
    "slideshow": {
     "slide_type": "fragment"
    }
   },
   "outputs": [],
   "source": [
    "data.describe()"
   ]
  },
  {
   "cell_type": "markdown",
   "id": "adc44585",
   "metadata": {
    "slideshow": {
     "slide_type": "slide"
    }
   },
   "source": [
    "### Überblick über die Objekt Daten"
   ]
  },
  {
   "cell_type": "code",
   "execution_count": null,
   "id": "e84a83b6",
   "metadata": {
    "slideshow": {
     "slide_type": "fragment"
    }
   },
   "outputs": [],
   "source": [
    "# Unterschiedliche Länder\n",
    "countries = data['Country'].unique()\n",
    "print(countries)"
   ]
  },
  {
   "cell_type": "code",
   "execution_count": null,
   "id": "c53cf0ba",
   "metadata": {
    "slideshow": {
     "slide_type": "slide"
    }
   },
   "outputs": [],
   "source": [
    "print(len(countries))"
   ]
  },
  {
   "cell_type": "code",
   "execution_count": null,
   "id": "9fc641b4",
   "metadata": {
    "slideshow": {
     "slide_type": "fragment"
    }
   },
   "outputs": [],
   "source": [
    "# Vorkommen von Ländern der Liste\n",
    "'Germany' in countries"
   ]
  },
  {
   "cell_type": "code",
   "execution_count": null,
   "id": "5d463a9d",
   "metadata": {
    "slideshow": {
     "slide_type": "slide"
    }
   },
   "outputs": [],
   "source": [
    "# Vorkommen von Deutschland\n",
    "for country in countries:\n",
    "    if 'german' in country.lower():\n",
    "        print(country)"
   ]
  },
  {
   "cell_type": "code",
   "execution_count": null,
   "id": "6e3b83f2",
   "metadata": {
    "slideshow": {
     "slide_type": "slide"
    }
   },
   "outputs": [],
   "source": [
    " data['Disaster Group'].unique()"
   ]
  },
  {
   "cell_type": "markdown",
   "id": "d2861c7c",
   "metadata": {
    "slideshow": {
     "slide_type": "slide"
    }
   },
   "source": [
    "`.value_counts()` zeigt wie oft eine Spalte die unterschiedlichen Werte annimmt."
   ]
  },
  {
   "cell_type": "code",
   "execution_count": null,
   "id": "b851ac5a",
   "metadata": {
    "slideshow": {
     "slide_type": "slide"
    }
   },
   "outputs": [],
   "source": [
    "data['Disaster Subroup'].value_counts()"
   ]
  },
  {
   "cell_type": "markdown",
   "id": "31df3147",
   "metadata": {
    "slideshow": {
     "slide_type": "slide"
    }
   },
   "source": [
    "Mit dem Argument `normalize=True` wird das Vorkommen der Werte automatisch ins Verhältnis gesetzt."
   ]
  },
  {
   "cell_type": "code",
   "execution_count": null,
   "id": "e46e0c83",
   "metadata": {
    "slideshow": {
     "slide_type": "fragment"
    }
   },
   "outputs": [],
   "source": [
    "data['Disaster Subroup'].value_counts(normalize=True)"
   ]
  },
  {
   "cell_type": "code",
   "execution_count": null,
   "id": "21e83271",
   "metadata": {
    "slideshow": {
     "slide_type": "slide"
    }
   },
   "outputs": [],
   "source": [
    "data['Disaster Type'].value_counts()"
   ]
  },
  {
   "cell_type": "code",
   "execution_count": null,
   "id": "7901115f",
   "metadata": {
    "slideshow": {
     "slide_type": "fragment"
    }
   },
   "outputs": [],
   "source": [
    "data['Disaster Type'].value_counts(normalize=True)"
   ]
  },
  {
   "cell_type": "markdown",
   "id": "cc34fc4f",
   "metadata": {
    "slideshow": {
     "slide_type": "slide"
    }
   },
   "source": [
    "\n",
    "### Dataframes Sortieren\n",
    "\n",
    "Dataframes können anhand einer oder meherer Spalten sortiert werden.\n",
    "\n"
   ]
  },
  {
   "cell_type": "code",
   "execution_count": null,
   "id": "2bf97184",
   "metadata": {
    "slideshow": {
     "slide_type": "fragment"
    }
   },
   "outputs": [],
   "source": [
    "data.sort_values(by=\"Total Affected\")"
   ]
  },
  {
   "cell_type": "code",
   "execution_count": null,
   "id": "677e8f0f",
   "metadata": {
    "slideshow": {
     "slide_type": "slide"
    }
   },
   "outputs": [],
   "source": [
    "# 10 schlimmsten Naturkatastrophen\n",
    "data.sort_values(by=\"Total Affected\", ascending=False).head(n=10)"
   ]
  },
  {
   "cell_type": "code",
   "execution_count": null,
   "id": "35e6e5ce",
   "metadata": {
    "slideshow": {
     "slide_type": "slide"
    }
   },
   "outputs": [],
   "source": [
    "# Mehrere Argumente zum Sortieren sind möglich\n",
    "data.sort_values(by=[\"Disaster Type\", \"Total Affected\"], ascending=[True, False]).head(n=10)"
   ]
  },
  {
   "cell_type": "markdown",
   "id": "e30334c3",
   "metadata": {
    "slideshow": {
     "slide_type": "slide"
    }
   },
   "source": [
    "### Indexing and Retriving Data\n",
    "\n",
    "Auf die Werte einer Spalte kann `<dataframe>['<spaltenname>']` zugegriffen werden."
   ]
  },
  {
   "cell_type": "code",
   "execution_count": null,
   "id": "07a19ea6",
   "metadata": {
    "slideshow": {
     "slide_type": "fragment"
    }
   },
   "outputs": [],
   "source": [
    "data['Year']"
   ]
  },
  {
   "cell_type": "markdown",
   "id": "f50107b2",
   "metadata": {
    "slideshow": {
     "slide_type": "slide"
    }
   },
   "source": [
    "Darauf können weitere Operationen oder Methoden angewendet werden:"
   ]
  },
  {
   "cell_type": "code",
   "execution_count": null,
   "id": "69da5df1",
   "metadata": {
    "slideshow": {
     "slide_type": "fragment"
    }
   },
   "outputs": [],
   "source": [
    "data['Year'] + 10"
   ]
  },
  {
   "cell_type": "code",
   "execution_count": null,
   "id": "0edb1489",
   "metadata": {
    "slideshow": {
     "slide_type": "fragment"
    }
   },
   "outputs": [],
   "source": [
    "data['Year'].mean()"
   ]
  },
  {
   "cell_type": "markdown",
   "id": "2c18fa28",
   "metadata": {
    "slideshow": {
     "slide_type": "slide"
    }
   },
   "source": [
    "Mehrere Spalten werden ausgewählt indem eine Liste von Spaltennamen übergeben wird"
   ]
  },
  {
   "cell_type": "code",
   "execution_count": null,
   "id": "79dfe3ee",
   "metadata": {
    "slideshow": {
     "slide_type": "fragment"
    }
   },
   "outputs": [],
   "source": [
    "data[['Year', 'Country', 'Disaster Type', 'Total Affected']]"
   ]
  },
  {
   "cell_type": "markdown",
   "id": "546d7efd",
   "metadata": {
    "slideshow": {
     "slide_type": "slide"
    }
   },
   "source": [
    "### Boolean Indexing\n",
    "\n",
    "Die ausgewählten Daten können auch gefilteret werden, in dem eine Bedingung mitgegeben wird.\n"
   ]
  },
  {
   "cell_type": "code",
   "execution_count": null,
   "id": "849dc05b",
   "metadata": {
    "slideshow": {
     "slide_type": "fragment"
    }
   },
   "outputs": [],
   "source": [
    "data[data['Country'] == 'Germany']"
   ]
  },
  {
   "cell_type": "code",
   "execution_count": null,
   "id": "4e20ed36",
   "metadata": {
    "slideshow": {
     "slide_type": "slide"
    }
   },
   "outputs": [],
   "source": [
    "data[data['Total Deaths'] >= 1000]"
   ]
  },
  {
   "cell_type": "markdown",
   "id": "88f0f748",
   "metadata": {
    "slideshow": {
     "slide_type": "slide"
    }
   },
   "source": [
    "Wie viele Menschen sind im Schnitt pro Erdbeben betroffen?"
   ]
  },
  {
   "cell_type": "code",
   "execution_count": null,
   "id": "746c12de",
   "metadata": {
    "slideshow": {
     "slide_type": "slide"
    }
   },
   "outputs": [],
   "source": [
    "data[data['Disaster Type'] == 'Earthquake']"
   ]
  },
  {
   "cell_type": "code",
   "execution_count": null,
   "id": "d222991e",
   "metadata": {
    "slideshow": {
     "slide_type": "slide"
    }
   },
   "outputs": [],
   "source": [
    "data[data['Disaster Type'] == 'Earthquake']['Total Affected']"
   ]
  },
  {
   "cell_type": "code",
   "execution_count": null,
   "id": "55b2747e",
   "metadata": {
    "slideshow": {
     "slide_type": "slide"
    }
   },
   "outputs": [],
   "source": [
    "data[data['Disaster Type'] == 'Earthquake']['Total Affected'].mean()"
   ]
  },
  {
   "cell_type": "markdown",
   "id": "2e424631",
   "metadata": {
    "slideshow": {
     "slide_type": "slide"
    }
   },
   "source": [
    "### Weitere Recherchefragen\n",
    "\n",
    "- Wie viele Naturkatastrophen gab es in Deutschland?\n",
    "- In welchem Jahr gabe es die meisten Naturkatastrophen?\n",
    "- Welche Länder sind am stärksten von Naturkatastrophen betroffen?\n",
    "- Welche Länder sind von Naturkatastrophen betroffen haben aber vergleichsweise geringe Todesfälle?\n",
    "- Welche Naturkatastrophen sind am tödlichsten?"
   ]
  },
  {
   "cell_type": "markdown",
   "id": "e74a7453",
   "metadata": {
    "slideshow": {
     "slide_type": "slide"
    }
   },
   "source": [
    "# Zeit für Feedback\n",
    "\n",
    "\n",
    "\n",
    "Link: https://ahaslides.com/QOCLW\n",
    "\n",
    "![Feedback QR Code](../imgs/qrcode_vl5.png)\n",
    "\n"
   ]
  }
 ],
 "metadata": {
  "celltoolbar": "Slideshow",
  "kernelspec": {
   "display_name": "Python 3 (ipykernel)",
   "language": "python",
   "name": "python3"
  },
  "language_info": {
   "codemirror_mode": {
    "name": "ipython",
    "version": 3
   },
   "file_extension": ".py",
   "mimetype": "text/x-python",
   "name": "python",
   "nbconvert_exporter": "python",
   "pygments_lexer": "ipython3",
   "version": "3.9.15"
  }
 },
 "nbformat": 4,
 "nbformat_minor": 5
}
