{
 "cells": [
  {
   "cell_type": "markdown",
   "id": "d9a3430d",
   "metadata": {
    "slideshow": {
     "slide_type": "slide"
    }
   },
   "source": [
    "# Datenjournalismus in Python - \n",
    "# Eine praktische Einführung in die Programmierung\n",
    "\n",
    "\n",
    "### Natalie Widmann\n",
    "\n",
    "\n",
    "\n",
    "\n",
    "Wintersemester 2022 / 2023\n",
    "\n",
    "\n",
    "Universität Leipzig\n",
    "\n",
    "\n",
    "\n"
   ]
  },
  {
   "cell_type": "markdown",
   "id": "f0b0ef9a",
   "metadata": {
    "slideshow": {
     "slide_type": "slide"
    }
   },
   "source": [
    "# Recap: Letzte Vorlesung..."
   ]
  },
  {
   "cell_type": "markdown",
   "id": "2cd7e7e5",
   "metadata": {
    "slideshow": {
     "slide_type": "slide"
    }
   },
   "source": [
    "## Wie oft kann Jeff sich X zum Preis von y € kaufen?\n",
    "### Eine kleines Programm dafür..."
   ]
  },
  {
   "cell_type": "code",
   "execution_count": null,
   "id": "561a56de",
   "metadata": {
    "slideshow": {
     "slide_type": "fragment"
    }
   },
   "outputs": [],
   "source": [
    "# Wie oft kann Jeff sich X kaufen\n",
    "vermoegen = 154500000000\n",
    "\n",
    "dinge = input('Dinge: ')\n",
    "kosten = input('Kosten:')\n",
    "\n",
    "anzahl = vermoegen / float(kosten)\n",
    "\n",
    "antwort = f'Bezos kann sich {anzahl} {dinge} zum Preis von {kosten} € kaufen.'\n",
    "print(antwort)\n"
   ]
  },
  {
   "cell_type": "markdown",
   "id": "9ce5dfe4",
   "metadata": {
    "slideshow": {
     "slide_type": "slide"
    }
   },
   "source": [
    "# input() \n",
    "\n",
    "Die Input funktion nimmt die Eingabe eines:r Nutzer:in entgegen.\n",
    "Die Eingabe ist immer eine Zeichenkette, auch wenn sie nur aus Zahlen besteht.\n"
   ]
  },
  {
   "cell_type": "code",
   "execution_count": null,
   "id": "43021f81",
   "metadata": {
    "slideshow": {
     "slide_type": "fragment"
    }
   },
   "outputs": [],
   "source": [
    "# Eingabe wird als Variable gespeichert und ausgegeben\n",
    "eingabe = input()\n",
    "print(eingabe)"
   ]
  },
  {
   "cell_type": "code",
   "execution_count": null,
   "id": "82e13c6e",
   "metadata": {
    "slideshow": {
     "slide_type": "fragment"
    }
   },
   "outputs": [],
   "source": [
    "# Datentyp der Eingabe ist immer string\n",
    "print(type(eingabe))"
   ]
  },
  {
   "cell_type": "code",
   "execution_count": null,
   "id": "de260c64",
   "metadata": {
    "slideshow": {
     "slide_type": "fragment"
    }
   },
   "outputs": [],
   "source": [
    "# Mit Casting kann der Datentyp angepasst werden\n",
    "var = input()\n",
    "var = float(var)\n",
    "type(var)"
   ]
  },
  {
   "cell_type": "code",
   "execution_count": null,
   "id": "de50ab7f",
   "metadata": {
    "slideshow": {
     "slide_type": "slide"
    }
   },
   "outputs": [],
   "source": [
    "# Wie oft kann Jeff sich X kaufen\n",
    "vermoegen = 154500000000\n",
    "\n",
    "dinge = input('Dinge: ')\n",
    "kosten = input('Kosten:')\n",
    "\n",
    "anzahl = vermoegen / float(kosten)\n",
    "\n",
    "antwort = f'Bezos kann sich {anzahl} {dinge} zum Preis von {kosten} € kaufen.'\n",
    "print(antwort)\n"
   ]
  },
  {
   "cell_type": "markdown",
   "id": "67bdf519",
   "metadata": {
    "slideshow": {
     "slide_type": "slide"
    }
   },
   "source": [
    "# f-Strings oder Literal String Interpolation\n",
    "\n",
    "f-Strings ermöglichen es Werte von Variablen in einen String einzubetten.\n",
    "\n",
    "### Syntax\n",
    "\n",
    "Der f-String wird iniitiert, indem ein `f` vor den String gestellt wird.\n",
    "\n",
    "Die Platzhalter für die Variablenwerte werden in geschweifte Klammern geschrieben.\n",
    "\n",
    "\n"
   ]
  },
  {
   "cell_type": "code",
   "execution_count": null,
   "id": "d9859420",
   "metadata": {
    "slideshow": {
     "slide_type": "fragment"
    }
   },
   "outputs": [],
   "source": [
    "name = 'Theo'\n",
    "satz = f'Hallo, mein Name ist {name}.'\n",
    "print(satz)"
   ]
  },
  {
   "cell_type": "code",
   "execution_count": null,
   "id": "da3c286e",
   "metadata": {
    "slideshow": {
     "slide_type": "slide"
    }
   },
   "outputs": [],
   "source": [
    "# Bisherige (umständlichere) Variante\n",
    "name = 'Theo'\n",
    "satzanfang = 'Hallo, mein Name ist '\n",
    "satz = satzanfang + name + '.'\n",
    "print(satz)"
   ]
  },
  {
   "cell_type": "markdown",
   "id": "28263cc7",
   "metadata": {
    "slideshow": {
     "slide_type": "slide"
    }
   },
   "source": [
    "Mit f-Strings wird der Datentyp der Variablen automatisch erkannt und richtig formattiert."
   ]
  },
  {
   "cell_type": "code",
   "execution_count": null,
   "id": "3e183963",
   "metadata": {
    "slideshow": {
     "slide_type": "-"
    }
   },
   "outputs": [],
   "source": [
    "name = 'Theo'\n",
    "alter = 25\n",
    "satz = f'Hallo, mein Name ist {name}. Ich bin {alter} Jahre alt.'\n",
    "print(satz)"
   ]
  },
  {
   "cell_type": "markdown",
   "id": "32751f1b",
   "metadata": {
    "slideshow": {
     "slide_type": "slide"
    }
   },
   "source": [
    "Und Werte können damit berechnet werden."
   ]
  },
  {
   "cell_type": "code",
   "execution_count": null,
   "id": "79cd89c6",
   "metadata": {
    "slideshow": {
     "slide_type": "-"
    }
   },
   "outputs": [],
   "source": [
    "a = 32.91\n",
    "b = 15.6211\n",
    "ergebnis = f'Das Ergebnis ist {a + b}'\n",
    "print(ergebnis)"
   ]
  },
  {
   "cell_type": "code",
   "execution_count": null,
   "id": "a85405ae",
   "metadata": {
    "slideshow": {
     "slide_type": "fragment"
    }
   },
   "outputs": [],
   "source": [
    "# Das Ergebnis runden mit 2 Nachkommastellen\n",
    "a = 32.91\n",
    "b = 15.6211\n",
    "ergebnis = f'Das Ergebnis ist {a + b:.2f}'\n",
    "print(ergebnis)"
   ]
  },
  {
   "cell_type": "code",
   "execution_count": null,
   "id": "a3a55b85",
   "metadata": {
    "slideshow": {
     "slide_type": "slide"
    }
   },
   "outputs": [],
   "source": [
    "# Kommas als Tausendermarkierung nutzen\n",
    "wert = 1452775.1\n",
    "satz = f'Die leserliche Zahl ist {wert:,}'\n",
    "print(satz)"
   ]
  },
  {
   "cell_type": "code",
   "execution_count": null,
   "id": "e0497fe1",
   "metadata": {
    "slideshow": {
     "slide_type": "fragment"
    }
   },
   "outputs": [],
   "source": [
    "# Und die Kombination\n",
    "wert = 1452775.112892311\n",
    "satz = f'Die leserliche Zahl ist {wert:,.2f}'\n",
    "print(satz)"
   ]
  },
  {
   "cell_type": "code",
   "execution_count": null,
   "id": "bde26d5c",
   "metadata": {
    "slideshow": {
     "slide_type": "slide"
    }
   },
   "outputs": [],
   "source": [
    "# Wie oft kann Jeff sich X kaufen\n",
    "vermoegen = 154500000000\n",
    "\n",
    "dinge = input('Dinge: ')\n",
    "kosten = input('Kosten:')\n",
    "\n",
    "anzahl = vermoegen / float(kosten)\n",
    "\n",
    "antwort = f'Bezos kann sich {anzahl:,.0f} {dinge} zum Preis von {kosten} € kaufen.'\n",
    "print(antwort)\n"
   ]
  },
  {
   "cell_type": "markdown",
   "id": "7e785d50",
   "metadata": {
    "slideshow": {
     "slide_type": "slide"
    }
   },
   "source": [
    "# Vorlesung 2: Strings, Methoden, Vergleichsoperatoren & Kontrollstrukturen\n",
    "\n",
    "Wir automatisieren Texte und lernen dabei:\n",
    "\n",
    "- mit strings und ihren Methoden umzugehen\n",
    "- Vergleichsoperatoren und deren Verknüpfung\n",
    "- neue Kontrollstrukturen, wie die if-else Bedingungen, kennen\n",
    "\n"
   ]
  },
  {
   "cell_type": "markdown",
   "id": "a89d1d53",
   "metadata": {
    "cell_style": "split",
    "slideshow": {
     "slide_type": "slide"
    }
   },
   "source": [
    "# Automatisierte Wahlberichterstattung\n",
    "\n",
    "\n",
    "- Ergebnisse der Landtagswahlen für jeden Wahlkreis und jede Gemeinde in NRW\n",
    "\n",
    "- über 500 Artikel in unterschiedlichen Zuständen (Vorbericht, vorläufiges Ergebnis, amtliches Endergebnis)\n",
    "\n",
    "- redaktionell ist dies am Wahlabend nicht umsetzbar\n",
    "\n"
   ]
  },
  {
   "cell_type": "markdown",
   "id": "f57365e9",
   "metadata": {
    "cell_style": "split"
   },
   "source": [
    "\n",
    "![Automatisierte Wahlberichterstattung - WDR](../imgs/wdr_autom_bericht.png)"
   ]
  },
  {
   "cell_type": "markdown",
   "id": "eafbed5e",
   "metadata": {
    "slideshow": {
     "slide_type": "slide"
    }
   },
   "source": [
    "# Los geht's..."
   ]
  },
  {
   "cell_type": "code",
   "execution_count": null,
   "id": "e882243d",
   "metadata": {
    "slideshow": {
     "slide_type": "fragment"
    }
   },
   "outputs": [],
   "source": [
    "titel = 'Wahlen in Leipzig'\n",
    "print(titel)"
   ]
  },
  {
   "cell_type": "code",
   "execution_count": null,
   "id": "ad7c9ae7",
   "metadata": {
    "slideshow": {
     "slide_type": "slide"
    }
   },
   "outputs": [],
   "source": [
    "# mit veränderbarem Stadtnamen\n",
    "stadt = 'Görlitz'\n",
    "titel = f'Wahlen in {stadt}'\n",
    "print(titel)"
   ]
  },
  {
   "cell_type": "code",
   "execution_count": null,
   "id": "ba33fd2c",
   "metadata": {
    "slideshow": {
     "slide_type": "fragment"
    }
   },
   "outputs": [],
   "source": [
    "stadt = 'Görlitz'\n",
    "titel = f'Wahlen in {stadt}'\n",
    "teaser = f'In {stadt} wurde heute gewählt. ...'\n",
    "print(titel, teaser, sep='\\n\\n')\n"
   ]
  },
  {
   "cell_type": "markdown",
   "id": "817ba3a4",
   "metadata": {
    "slideshow": {
     "slide_type": "slide"
    }
   },
   "source": [
    "Wie können wir den Titel in Großbuchstaben ausgeben?"
   ]
  },
  {
   "cell_type": "code",
   "execution_count": null,
   "id": "ab92fa12",
   "metadata": {
    "scrolled": true,
    "slideshow": {
     "slide_type": "fragment"
    }
   },
   "outputs": [],
   "source": [
    "stadt = 'Görlitz'\n",
    "titel = f'WAHLEN IN {stadt}'\n",
    "teaser = f'In {stadt} wurde heute gewählt. ...'\n",
    "print(titel, teaser, sep='\\n\\n')\n"
   ]
  },
  {
   "cell_type": "code",
   "execution_count": null,
   "id": "2ec6fe67",
   "metadata": {
    "slideshow": {
     "slide_type": "fragment"
    }
   },
   "outputs": [],
   "source": [
    "stadt = 'Görlitz'\n",
    "titel = f'Wahlen in {stadt}'\n",
    "teaser = f'In {stadt} wurde heute gewählt. ...'\n",
    "print(titel.upper(), teaser, sep='\\n\\n')\n"
   ]
  },
  {
   "cell_type": "markdown",
   "id": "8316ffb5",
   "metadata": {
    "cell_style": "center",
    "slideshow": {
     "slide_type": "slide"
    }
   },
   "source": [
    "# Methoden\n",
    "\n",
    "\n",
    "Methoden sind Funktionen, die aufgrund des Datentyps verfügbar sind.\n",
    "\n",
    "Sie verändern ein Objekt oder berechnen neue Werte anhand der Objektdaten.\n",
    "\n",
    "\n",
    "\n",
    "## Syntax:\n",
    "\n",
    "\n",
    "Dem Objekt folgt ein Punkt, ein valider Methodenname, sowie runde Klammern.\n",
    "\n",
    "Parameter Methoden können kein, ein oder mehrerer Argumente entgegen nehmen.\n",
    "\n",
    "\n",
    "```\n",
    "    objekt.methode()\n",
    "    \n",
    "    objekt.methode(arg1, arg2, arg3)\n",
    "   \n",
    "```\n",
    "\n"
   ]
  },
  {
   "cell_type": "markdown",
   "id": "95a080e8",
   "metadata": {
    "cell_style": "center",
    "slideshow": {
     "slide_type": "slide"
    }
   },
   "source": [
    "# String Methoden - Beispiele\n",
    "\n",
    "| Methods  | Beschreibung  | \n",
    "|----------|:-------------  |\n",
    "| lower() |  Converts a string into lower case |\n",
    "| upper() |  Converts a string into upper case |\n",
    "| strip() | Returns a trimmed version of the string |\n",
    "| split() |\tSplits the string at the specified separator, and returns a list |\n",
    "| replace()\t| Returns a string where a specified value is replaced with a specified value |\n",
    "| format() |\tFormats specified values in a string |\n",
    "\n",
    "\n",
    "Mit `dir(<object>)` werden alle Methoden eines Objektes angezeigt.\n"
   ]
  },
  {
   "cell_type": "code",
   "execution_count": null,
   "id": "d28d81ee",
   "metadata": {
    "slideshow": {
     "slide_type": "slide"
    }
   },
   "outputs": [],
   "source": [
    "# upper() - verwandelt einen string in Großbuchstaben\n",
    "titel = 'Hello World'\n",
    "print(titel.upper())"
   ]
  },
  {
   "cell_type": "code",
   "execution_count": null,
   "id": "10fa88da",
   "metadata": {
    "slideshow": {
     "slide_type": "fragment"
    }
   },
   "outputs": [],
   "source": [
    "# strip() - löscht voranstehende oder nachfolgende Leerzeichen eines Textes\n",
    "stadt = '   Landeshauptstadt Leipzig  '\n",
    "print(stadt)\n",
    "print(stadt.strip())"
   ]
  },
  {
   "cell_type": "code",
   "execution_count": null,
   "id": "e181e8d2",
   "metadata": {
    "slideshow": {
     "slide_type": "slide"
    }
   },
   "outputs": [],
   "source": [
    "# split() - trennt einen String an einem Zeichen\n",
    "kandidatin = 'Hahnenbach, Angelika'\n",
    "nachname, vorname = kandidatin.split(',')\n",
    "print(vorname, nachname)"
   ]
  },
  {
   "cell_type": "code",
   "execution_count": null,
   "id": "e423332e",
   "metadata": {
    "slideshow": {
     "slide_type": "fragment"
    }
   },
   "outputs": [],
   "source": [
    "# format() - ersetzt Platzhalter im String mit Werten\n",
    "# alternative zu f-strings\n",
    "text = 'Hallo ich bin {} und {} Jahre alt'.format('Kathrin', 27)\n",
    "print(text)"
   ]
  },
  {
   "cell_type": "code",
   "execution_count": null,
   "id": "5b67e14a",
   "metadata": {
    "scrolled": true,
    "slideshow": {
     "slide_type": "slide"
    }
   },
   "outputs": [],
   "source": [
    "# dir() zeigt alle verfügbaren Properties und Methoden eines Objektes an\n",
    "dir('Beispiel String')"
   ]
  },
  {
   "cell_type": "markdown",
   "id": "c55e6b03",
   "metadata": {
    "slideshow": {
     "slide_type": "slide"
    }
   },
   "source": [
    "# Aufgabe für Zuhause:\n",
    "\n",
    "Probiert die unterschiedlichen string Methoden aus und schaut was genau passiert und ob Argumente benötigt werden."
   ]
  },
  {
   "cell_type": "markdown",
   "id": "2b3261c1",
   "metadata": {
    "slideshow": {
     "slide_type": "slide"
    }
   },
   "source": [
    "## Zurück zu den automatisierten Wahltexten..\n",
    "\n",
    "...diesmal mit .format() anstatt f-strings"
   ]
  },
  {
   "cell_type": "code",
   "execution_count": null,
   "id": "9e6fa51c",
   "metadata": {
    "slideshow": {
     "slide_type": "fragment"
    }
   },
   "outputs": [],
   "source": [
    "# Titel und Teaser\n",
    "stadt = 'Görlitz'\n",
    "\n",
    "titel = 'Wahlen in {}'.format(stadt)\n",
    "teaser = 'In {} wurde heute gewählt.'.format(stadt)\n",
    "\n",
    "print(titel, teaser, sep='\\n\\n')"
   ]
  },
  {
   "cell_type": "code",
   "execution_count": null,
   "id": "7f8e5fe3",
   "metadata": {
    "slideshow": {
     "slide_type": "slide"
    }
   },
   "outputs": [],
   "source": [
    "# Text\n",
    "kandidatin = 'Marianne Klingenstein'\n",
    "prozent = 37.4\n",
    "\n",
    "text = '{} gewinnt mit {} Prozent der Stimmen.'.format(kandidatin, prozent)\n",
    "\n",
    "print(text)"
   ]
  },
  {
   "cell_type": "code",
   "execution_count": null,
   "id": "64b7585e",
   "metadata": {
    "slideshow": {
     "slide_type": "fragment"
    }
   },
   "outputs": [],
   "source": [
    "artikel = teaser + text\n",
    "\n",
    "print(titel.upper(), artikel, sep='\\n\\n')"
   ]
  },
  {
   "cell_type": "code",
   "execution_count": null,
   "id": "a0a260be",
   "metadata": {
    "slideshow": {
     "slide_type": "fragment"
    }
   },
   "outputs": [],
   "source": [
    "artikel = teaser + ' ' + text\n",
    "\n",
    "print(titel.upper(), artikel, sep='\\n\\n')"
   ]
  },
  {
   "cell_type": "markdown",
   "id": "6ffd9c33",
   "metadata": {
    "slideshow": {
     "slide_type": "slide"
    }
   },
   "source": [
    "## Was wenn mehrere Kandidat:innen antreten?"
   ]
  },
  {
   "cell_type": "code",
   "execution_count": null,
   "id": "e805b781",
   "metadata": {
    "slideshow": {
     "slide_type": "fragment"
    }
   },
   "outputs": [],
   "source": [
    "kandidatin1 = 'Helmut Wiese'\n",
    "prozent1 = 36.7\n",
    "\n",
    "kandidatin2 = 'Gundula Lobrecht'\n",
    "prozent2 = 17.4\n",
    "\n",
    "text = '{} gewinnt mit {} Prozent der Stimmen.'\n",
    "\n",
    "if prozent1 > prozent2:\n",
    "    text = text.format(kandidatin1, prozent1)\n",
    "else:\n",
    "    text = text.format(kandidatin2, prozent2)\n",
    "    \n",
    "print(text)\n"
   ]
  },
  {
   "cell_type": "markdown",
   "id": "0064b8dd",
   "metadata": {
    "cell_style": "split",
    "slideshow": {
     "slide_type": "slide"
    }
   },
   "source": [
    "# Kontrollstrukturen: if - else Fallunterscheidung\n",
    "\n",
    "\n",
    "Bei der *if-Bedingung* wird ein Teil des Codes nur dann ausgefüllt falls eine Bedingung erfüllt ist.\n",
    "\n",
    "Anders gesagt: \"Wenn dies, dann mach das\". \n",
    "\n",
    "### Syntax\n",
    "\n",
    "`if` ist das Schlüsselwort für die Fallunterscheidung. Dahinter folgt die eigentlich Bedingung, die ein Wahrheitswert (Boolean: entweder `True` oder `False` sein muss.\n",
    "Eingerückt befindet sich der Code der ausgeführt wird, falls die Bedingung zu `True` evaluiert.\n",
    "\n",
    "\n",
    "\n"
   ]
  },
  {
   "cell_type": "markdown",
   "id": "964673a0",
   "metadata": {
    "cell_style": "split",
    "slideshow": {
     "slide_type": "-"
    }
   },
   "source": [
    "![if](../imgs/if.png)"
   ]
  },
  {
   "cell_type": "code",
   "execution_count": null,
   "id": "00eabba8",
   "metadata": {
    "slideshow": {
     "slide_type": "slide"
    }
   },
   "outputs": [],
   "source": [
    "# Wenn die Person älter als 18, gebe \"Person ist volljährig\" aus\n",
    "alter = 18\n",
    "if alter >= 18:\n",
    "    print('Person ist volljährig')"
   ]
  },
  {
   "cell_type": "code",
   "execution_count": null,
   "id": "e0477730",
   "metadata": {
    "slideshow": {
     "slide_type": "fragment"
    }
   },
   "outputs": [],
   "source": [
    "# Wenn eine Zahl durch 2 teilbar ist, gib \"Zahl ist gerade\" aus\n",
    "zahl = 31\n",
    "if (zahl % 2) == 0:\n",
    "    print('Zahl ist gerade')"
   ]
  },
  {
   "cell_type": "markdown",
   "id": "26767c71",
   "metadata": {
    "slideshow": {
     "slide_type": "slide"
    }
   },
   "source": [
    "\n",
    "## if-else - Bedingung \n",
    "\n",
    "\n",
    "Bei der *if-else* Bedingung wird zusätzlich zur *if* Bedingung, eine andere Anweisung ausgeführt falls die Bedingung nicht `True` ist.\n",
    "\n",
    "\n",
    "Anders gesagt: \"Wenn dies, dann führe Option 1 aus, wenn nicht Option 2\".  \n",
    "\n",
    "\n",
    "\n",
    "### Syntax\n",
    "\n",
    "\n",
    "```\n",
    "\n",
    "if <bedingung>:\n",
    "    # Code falls Bedingung True\n",
    "else:\n",
    "    # Code falls Bedingung False\n",
    "\n",
    "```\n"
   ]
  },
  {
   "cell_type": "markdown",
   "id": "8eea9066",
   "metadata": {
    "slideshow": {
     "slide_type": "slide"
    }
   },
   "source": [
    "### Beispiele"
   ]
  },
  {
   "cell_type": "code",
   "execution_count": null,
   "id": "aec5feba",
   "metadata": {
    "scrolled": true,
    "slideshow": {
     "slide_type": "fragment"
    }
   },
   "outputs": [],
   "source": [
    "# Gib an ob eine Person volljährig ist oder nicht\n",
    "alter = 14\n",
    "if alter >= 18:\n",
    "    print('Person ist volljährig.')\n",
    "else:\n",
    "    print('Person ist minderjährig.')"
   ]
  },
  {
   "cell_type": "code",
   "execution_count": null,
   "id": "de1d74d1",
   "metadata": {
    "slideshow": {
     "slide_type": "fragment"
    }
   },
   "outputs": [],
   "source": [
    "# Teile zwei Zahlen durcheinander. Gib eine Fehlermeldung falls der Zähler = 0 ist\n",
    "a = 20\n",
    "b = 0\n",
    "if b != 0:\n",
    "    print(a/b)\n",
    "else:\n",
    "    print('Achtung: durch 0 kann man nicht teilen!')"
   ]
  },
  {
   "cell_type": "markdown",
   "id": "26ec63fe",
   "metadata": {
    "slideshow": {
     "slide_type": "slide"
    }
   },
   "source": [
    "## Zurück zur Wahlberichterstattung:"
   ]
  },
  {
   "cell_type": "code",
   "execution_count": null,
   "id": "ec573093",
   "metadata": {
    "slideshow": {
     "slide_type": "-"
    }
   },
   "outputs": [],
   "source": [
    "kandidatin1 = 'Helmut Wiese'\n",
    "prozent1 = 36.7\n",
    "\n",
    "kandidatin2 = 'Gundula Lobrecht'\n",
    "prozent2 = 17.4\n",
    "\n",
    "text = '{} gewinnt mit {} Prozent der Stimmen.'\n",
    "\n",
    "if prozent1 > prozent2:\n",
    "    text = text.format(kandidatin1, prozent1)\n",
    "else:\n",
    "    text = text.format(kandidatin2, prozent2)\n",
    "    \n",
    "print(text)\n"
   ]
  },
  {
   "cell_type": "markdown",
   "id": "c49642a2",
   "metadata": {
    "slideshow": {
     "slide_type": "slide"
    }
   },
   "source": [
    "## Was passiert bei Gleichstand?"
   ]
  },
  {
   "cell_type": "code",
   "execution_count": null,
   "id": "d40f8d0f",
   "metadata": {
    "slideshow": {
     "slide_type": "fragment"
    }
   },
   "outputs": [],
   "source": [
    "kandidat1 = 'Helmut Wiese'\n",
    "prozent1 = 29.5\n",
    "\n",
    "kandidat2 = 'Gundula Lobrecht'\n",
    "prozent2 = 29.5\n",
    "\n",
    "text = '{} gewinnt mit {} Prozent der Stimmen.'\n",
    "\n",
    "if prozent1 > prozent2:\n",
    "    text = text.format(kandidat1, prozent1)\n",
    "else:\n",
    "    text = text.format(kandidat2, prozent2)\n",
    "    \n",
    "print(text)\n"
   ]
  },
  {
   "cell_type": "code",
   "execution_count": null,
   "id": "9a8bae83",
   "metadata": {
    "slideshow": {
     "slide_type": "slide"
    }
   },
   "outputs": [],
   "source": [
    "kandidat1 = 'Helmut Wiese'\n",
    "prozent1 = 29.5\n",
    "\n",
    "kandidat2 = 'Gundula Lobrecht'\n",
    "prozent2 = 29.5\n",
    "\n",
    "text = '{} gewinnt mit {} Prozent der Stimmen.'\n",
    "\n",
    "if prozent1 > prozent2:\n",
    "    text = text.format(kandidat1, prozent1)\n",
    "elif prozent1 < prozent2:\n",
    "    text = text.format(kandidat2, prozent2)\n",
    "else:\n",
    "    text = 'Die Wahl ist unentschieden. {} und {} erhalten beide {} Prozent der Stimmen.'\n",
    "    text = text.format(kandidat1, kandidat2, prozent1)\n",
    "    \n",
    "print(text)\n"
   ]
  },
  {
   "cell_type": "markdown",
   "id": "90612be2",
   "metadata": {
    "cell_style": "split",
    "slideshow": {
     "slide_type": "slide"
    }
   },
   "source": [
    "\n",
    "## Fallunterscheidung mit mehreren Bedingungen: elif \n",
    "\n",
    "Mit *elif* können mehr als zwei Bedingungen überprüft und zur Ausführung von unterschiedlichen Anweisungen führen. \n",
    "\n",
    "Das Schlüsselwort ist zusammengesetzt aus *else* und *if*. Das heißt, die Anweisung wird nur ausgeführt wenn die vorherige Bedingung `False`wahr und die jetzige Bedingung `True` ist.\n",
    "  \n",
    "\n",
    "\n",
    "### Syntax\n",
    "\n",
    "\n",
    "```\n",
    "\n",
    "if <bedingung1>:\n",
    "    # Code falls Bedingung True\n",
    "elif <bedingung2>:\n",
    "    # Code falls Bedingung1 = False und Bedingung2 = True\n",
    "else:\n",
    "    # Code falls Bedingung1 = False und Bedingung2 = False\n",
    "\n",
    "```\n",
    "\n",
    "\n",
    "Es können beliebig viele *elif*-Bedingungen eingebaut werden.\n",
    "\n",
    "\n",
    "- **if** ist notwendig\n",
    "- **elif** optional, auch mehrere möglich\n",
    "- **else** optional, nur eine else Bedingung möglich\n",
    "\n",
    "\n",
    "\n",
    "\n",
    "\n"
   ]
  },
  {
   "cell_type": "markdown",
   "id": "4364107e",
   "metadata": {
    "cell_style": "split",
    "slideshow": {
     "slide_type": "-"
    }
   },
   "source": [
    "![elif](../imgs/elif.png)"
   ]
  },
  {
   "cell_type": "markdown",
   "id": "dafa988d",
   "metadata": {
    "slideshow": {
     "slide_type": "slide"
    }
   },
   "source": [
    "### Ausführung\n",
    "\n",
    "Jede Bedingung wird nacheinander abgearbeitet. Das Schema ist wie folgt:\n",
    "\n",
    "Die Bedingung wird evaluiert falls diese\n",
    "\n",
    "- **wahr** (`True`) ist: führe die Anweisung aus und überspringe alle anderen Bedingungen\n",
    "\n",
    "- **falsch** (`False`) ist: springe zur nächsten Bedingung\n",
    "\n",
    "\n",
    "### Beispiele"
   ]
  },
  {
   "cell_type": "code",
   "execution_count": null,
   "id": "79a607b1",
   "metadata": {
    "slideshow": {
     "slide_type": "slide"
    }
   },
   "outputs": [],
   "source": [
    "# Beispiele if - else Bedingung\n",
    "\n",
    "x = 10\n",
    "\n",
    "if x == 0:\n",
    "    print('x ist Null.')\n",
    "elif x > 0:\n",
    "    print('x ist postiv.')\n",
    "else:\n",
    "    print('x ist negativ.')"
   ]
  },
  {
   "cell_type": "code",
   "execution_count": null,
   "id": "2a61ac27",
   "metadata": {
    "slideshow": {
     "slide_type": "slide"
    }
   },
   "outputs": [],
   "source": [
    "# Temperatureinordnung\n",
    "grad = 12\n",
    "if grad > 30:\n",
    "    print('Vieeel zu heiß!')\n",
    "elif grad >= 25:\n",
    "    print('Angenehm warm: Pack die Badehose ein.')\n",
    "elif grad >= 12:\n",
    "    print('Bestes Wanderwetter.')\n",
    "elif grad > 0:\n",
    "    print(\"Kalt... Aber wozu gibt's warme Klamotten?\")\n",
    "else:\n",
    "    print('Brrrrrrrrrr')"
   ]
  },
  {
   "cell_type": "markdown",
   "id": "c326ad99",
   "metadata": {
    "slideshow": {
     "slide_type": "slide"
    }
   },
   "source": [
    "\n",
    "## Vergleichsoperatoren\n",
    "\n",
    "Vergleichsoperatoren helfen Werte miteinander zu vergleichen. Vergleiche evaluieren immer zu Wahrheitswerten (`Boolean`).\n",
    "\n",
    "| Operator  | Beschreibung  | \n",
    "|----------|:-------------  |\n",
    "| == |  ist gleich |\n",
    "| != |  ist ungleich |\n",
    "| > | ist größer |\n",
    "| < | ist kleiner |\n",
    "| >=\t| ist größer oder gleich |\n",
    "| <= |\tist kleiner oder gleich|\n",
    "\n",
    "\n",
    "\n"
   ]
  },
  {
   "cell_type": "markdown",
   "id": "33413543",
   "metadata": {
    "slideshow": {
     "slide_type": "slide"
    }
   },
   "source": [
    "# Vergleichsoperatoren - Beispiele"
   ]
  },
  {
   "cell_type": "code",
   "execution_count": null,
   "id": "952d601f",
   "metadata": {
    "slideshow": {
     "slide_type": "-"
    }
   },
   "outputs": [],
   "source": [
    "# Gleichheit\n",
    "print(3 == 5)"
   ]
  },
  {
   "cell_type": "code",
   "execution_count": null,
   "id": "894e2817",
   "metadata": {
    "slideshow": {
     "slide_type": "fragment"
    }
   },
   "outputs": [],
   "source": [
    "# Ungleichheit\n",
    "a = 4\n",
    "b = 7\n",
    "var = a != b\n",
    "print(var)\n",
    "print(type(var))"
   ]
  },
  {
   "cell_type": "code",
   "execution_count": null,
   "id": "fc2718c6",
   "metadata": {
    "slideshow": {
     "slide_type": "fragment"
    }
   },
   "outputs": [],
   "source": [
    "str1 = 'wuasfieamasnfee'\n",
    "str2 = 'wuasfieamosnfee'\n",
    "print(str1 == str2)"
   ]
  },
  {
   "cell_type": "markdown",
   "id": "f2ae0f34",
   "metadata": {
    "slideshow": {
     "slide_type": "slide"
    }
   },
   "source": [
    "\n",
    "## Boolean (logische) Operatoren\n",
    "\n",
    "Mit logische Operatoren können mehrere Vergleiche miteinander verknüpft werden.\n",
    "Dafür gibt es die Operatorn `and` (und) und `or` (oder).\n",
    " \n",
    "\n",
    "`not` ist ein Operator der den Wert umkehrt.\n",
    "Also aus `True` wird `False` und umgekehrt."
   ]
  },
  {
   "cell_type": "code",
   "execution_count": null,
   "id": "d2ba07ec",
   "metadata": {
    "slideshow": {
     "slide_type": "fragment"
    }
   },
   "outputs": [],
   "source": [
    "# Verknüfung mit and\n",
    "a = 3\n",
    "b = -1\n",
    "if a > 0 and b > 0:\n",
    "    print('Beide Werte sind positiv.')"
   ]
  },
  {
   "cell_type": "code",
   "execution_count": null,
   "id": "4818276f",
   "metadata": {
    "scrolled": false,
    "slideshow": {
     "slide_type": "slide"
    }
   },
   "outputs": [],
   "source": [
    "# Verknüpfung mit or\n",
    "if a > 0 or b > 0:\n",
    "    print('Mindestens ein Wert ist positiv.')"
   ]
  },
  {
   "cell_type": "code",
   "execution_count": null,
   "id": "20cb6eb1",
   "metadata": {
    "slideshow": {
     "slide_type": "fragment"
    }
   },
   "outputs": [],
   "source": [
    "# not\n",
    "var = True\n",
    "print(var)\n",
    "print(not var)"
   ]
  },
  {
   "cell_type": "markdown",
   "id": "343f7581",
   "metadata": {
    "slideshow": {
     "slide_type": "slide"
    }
   },
   "source": [
    "# Zurück zu den automatisierten Wahltexten"
   ]
  },
  {
   "cell_type": "code",
   "execution_count": null,
   "id": "6038502a",
   "metadata": {},
   "outputs": [],
   "source": [
    "kandidat1 = 'Helmut Wiese'\n",
    "prozent1 = 29.5\n",
    "\n",
    "kandidat2 = 'Gundula Lobrecht'\n",
    "prozent2 = 29.5\n",
    "\n",
    "text = '{} gewinnt mit {} Prozent der Stimmen.'\n",
    "\n",
    "if prozent1 > prozent2:\n",
    "    text = text.format(kandidat1, prozent1)\n",
    "elif prozent1 < prozent2:\n",
    "    text = text.format(kandidat2, prozent2)\n",
    "else:\n",
    "    text = 'Die Wahl ist unentschieden. {} und {} erhalten beide {} Prozent der Stimmen.'\n",
    "    text = text.format(kandidat1, kandidat2, prozent1)\n",
    "    \n",
    "print(text)\n"
   ]
  },
  {
   "cell_type": "code",
   "execution_count": null,
   "id": "5e16557c",
   "metadata": {
    "slideshow": {
     "slide_type": "slide"
    }
   },
   "outputs": [],
   "source": [
    "stadt = 'Görlitz'\n",
    "titel = 'Wahlen in {}'.format(stadt)\n",
    "\n",
    "kandidat1 = 'Helmut Wiese'\n",
    "prozent1 = 9.25\n",
    "\n",
    "kandidat2 = 'Gundula Lobrecht'\n",
    "prozent2 = 41.5\n",
    "\n",
    "text = '{} gewinnt mit {} Prozent der Stimmen.'\n",
    "\n",
    "if prozent1 > prozent2:\n",
    "    text = text.format(kandidat1, prozent1)\n",
    "elif prozent1 < prozent2:\n",
    "    text = text.format(kandidat2, prozent2)\n",
    "else:\n",
    "    text = 'Die Wahl ist unentschieden. {} und {} erhalten beide {} Prozent der Stimmen.'\n",
    "    text = text.format(kandidat1, kandidat2, prozent1)\n",
    "    \n",
    "\n",
    "print(titel.upper(), text, sep='\\n\\n')\n"
   ]
  },
  {
   "cell_type": "markdown",
   "id": "e68814cf",
   "metadata": {
    "slideshow": {
     "slide_type": "slide"
    }
   },
   "source": [
    "## Ein bisschen mehr Kontext...\n",
    "\n",
    "Wie groß ist der Vorsprung der führenden Kandidatin oder des führenden Kandidaten?"
   ]
  },
  {
   "cell_type": "code",
   "execution_count": null,
   "id": "9fa9b4a0",
   "metadata": {
    "slideshow": {
     "slide_type": "slide"
    }
   },
   "outputs": [],
   "source": [
    "stadt = 'Görlitz'\n",
    "titel = 'Wahlen in {}'.format(stadt)\n",
    "\n",
    "kandidat1 = 'Helmut Wiese'\n",
    "prozent1 = 59.5\n",
    "\n",
    "kandidat2 = 'Gundula Lobrecht'\n",
    "prozent2 = 49.5\n",
    "\n",
    "text_gewinner = '{} gewinnt mit {} Prozent der Stimmen.'\n",
    "text_vorsprung = 'Dies entspricht einem Vorsprung von {} Prozentpunkten zu {}.'\n",
    "\n",
    "if prozent1 > prozent2:\n",
    "    vorsprung = prozent1 - prozent2\n",
    "    text_vorsprung = text_vorsprung.format(vorsprung, kandidat2)\n",
    "    text_gewinner = text_gewinner.format(kandidat1, prozent1)   \n",
    "elif prozent1 < prozent2:\n",
    "    vorsprung = prozent2 - prozent1\n",
    "    text_vorsprung = text_vorsprung.format(vorsprung, kandidat1)\n",
    "    text_gewinner = text.format(kandidat2, prozent2)   \n",
    "else:\n",
    "    text_vorsprung = 'Die Wahl ist unentschieden. {} und {} erhalten beide {} Prozent der Stimmen.'\n",
    "    text_gewinner = text.format(kandidat1, kandidat2, prozent1)\n",
    "    \n",
    "print(titel.upper(), text_gewinner + ' ' + text_vorsprung, sep='\\n\\n')\n"
   ]
  },
  {
   "cell_type": "markdown",
   "id": "cf46b2e8",
   "metadata": {
    "slideshow": {
     "slide_type": "slide"
    }
   },
   "source": [
    "# Neu strukturiert..."
   ]
  },
  {
   "cell_type": "code",
   "execution_count": null,
   "id": "c88d37e9",
   "metadata": {
    "slideshow": {
     "slide_type": "slide"
    }
   },
   "outputs": [],
   "source": [
    "stadt = 'Görlitz'\n",
    "titel = 'Wahlen in {}'.format(stadt)\n",
    "\n",
    "kandidat1 = 'Helmut Wiese'\n",
    "prozent1 = 29.8\n",
    "kandidat2 = 'Gundula Lobrecht'\n",
    "prozent2 = 32.7\n",
    "\n",
    "if prozent1 == prozent2:\n",
    "    text = 'Die Wahl ist unentschieden. {} und {} erhalten beide {} Prozent der Stimmen.'\n",
    "    text = text.format(kandidat1, kandidat2, prozent1)\n",
    "else:\n",
    "    text_gewinner = '{} gewinnt mit {} Prozent der Stimmen.'\n",
    "    text_vorsprung = ' Dies entspricht einem Vorsprung von {} Prozentpunkten.' \n",
    "    gewinner = kandidat1\n",
    "    gewinner_prozent = prozent1\n",
    "    vorsprung = round(prozent1 - prozent2, 1)\n",
    "    \n",
    "    if prozent2 > prozent1:\n",
    "        gewinner = kandidat2\n",
    "        gewinner_prozent = prozent2\n",
    "        vorsprung = round(prozent2 - prozent1, 1)\n",
    "\n",
    "    text_gewinner = text_gewinner.format(gewinner, gewinner_prozent)\n",
    "    text_vorsprung = text_vorsprung.format(vorsprung)\n",
    "    text = text_gewinner + text_vorsprung\n",
    "        \n",
    "print(titel.upper(), text, sep='\\n\\n')"
   ]
  },
  {
   "cell_type": "markdown",
   "id": "ca12016b",
   "metadata": {
    "slideshow": {
     "slide_type": "slide"
    }
   },
   "source": [
    "# Ein bisschen mehr Kontext\n",
    "Wie kann der Vorsprung von dem:der Erstplatzierten zu dem:der Zweitplatzierten bewertet werden?\n",
    "\n",
    "Ist er minimal, knapp oder erheblich?"
   ]
  },
  {
   "cell_type": "code",
   "execution_count": null,
   "id": "3ee39169",
   "metadata": {
    "slideshow": {
     "slide_type": "slide"
    }
   },
   "outputs": [],
   "source": [
    "# Und noch ein bisschen Kontext\n",
    "stadt = 'Görlitz'\n",
    "titel = 'Wahlen in {}'.format(stadt)\n",
    "\n",
    "kandidat1 = 'Helmut Wiese'\n",
    "prozent1 = 29.5\n",
    "\n",
    "kandidat2 = 'Gundula Lobrecht'\n",
    "prozent2 = 28.7\n",
    "\n",
    "\n",
    "if prozent1 == prozent2:\n",
    "    text = 'Die Wahl ist unentschieden. {} und {} erhalten beide {} Prozent der Stimmen.'\n",
    "    text = text.format(kandidat1, kandidat2, prozent1)\n",
    "else:\n",
    "    text = '{} gewinnt mit {} Prozent der Stimmen.'\n",
    "    vorsprung = ' Dies ist ein {} Vorsprung von {} Prozentpunkten.'\n",
    "    gewinner = kandidat1\n",
    "    prozent = prozent1\n",
    "    differenz = prozent1 - prozent2\n",
    "    \n",
    "    if prozent2 > prozent1:\n",
    "        gewinner = kandidat2\n",
    "        prozent = prozent2\n",
    "        differenz = prozent2 - prozent1\n",
    "        \n",
    "    text = text.format(gewinner, prozent)\n",
    "    \n",
    "    # bestimme das Ausmaß des Abstands zwischen Gewinner:in und Zweitplatzierter:m\n",
    "    differenz = round(differenz, 1)\n",
    "    \n",
    "    if differenz >= 0 and differenz <= 1:\n",
    "        ausmass = 'minimaler'\n",
    "    elif differenz > 1 and differenz < 3:\n",
    "        ausmass = 'knapper'\n",
    "    elif differenz >= 3 and differenz < 5:\n",
    "        ausmass = ''\n",
    "    elif differenz >= 5:\n",
    "        ausmass = 'erheblicher'\n",
    "    vorsprung = vorsprung.format(ausmass, differenz)\n",
    "    \n",
    "article = text + vorsprung + amtsinhaber    \n",
    "print(titel, article, sep='\\n\\n')\n"
   ]
  },
  {
   "cell_type": "markdown",
   "id": "6fb55503",
   "metadata": {
    "slideshow": {
     "slide_type": "slide"
    }
   },
   "source": [
    "# Ein bisschen mehr Kontext..\n",
    "\n",
    "Ein Satz zum:zur neuen Amtsinhaber:in der Stadt"
   ]
  },
  {
   "cell_type": "code",
   "execution_count": null,
   "id": "7d304ab8",
   "metadata": {
    "slideshow": {
     "slide_type": "slide"
    }
   },
   "outputs": [],
   "source": [
    "# Und noch ein bisschen Kontext\n",
    "stadt = 'Görlitz'\n",
    "titel = 'Wahlen in {}'.format(stadt)\n",
    "\n",
    "kandidat1 = 'Helmut Wiese'\n",
    "prozent1 = 29.5\n",
    "\n",
    "kandidat2 = 'Gundula Lobrecht'\n",
    "prozent2 = 28.7\n",
    "\n",
    "\n",
    "if prozent1 == prozent2:\n",
    "    text = 'Die Wahl ist unentschieden. {} und {} erhalten beide {} Prozent der Stimmen.'\n",
    "    text = text.format(kandidat1, kandidat2, prozent1)\n",
    "else:\n",
    "    text = '{} gewinnt mit {} Prozent der Stimmen.'\n",
    "    vorsprung = ' Dies ist ein {} Vorsprung von {} Prozentpunkten.'\n",
    "    gewinner = kandidat1\n",
    "    prozent = prozent1\n",
    "    differenz = prozent1 - prozent2\n",
    "    \n",
    "    if prozent2 > prozent1:\n",
    "        gewinner = kandidat2\n",
    "        prozent = prozent2\n",
    "        differenz = prozent2 - prozent1\n",
    "        \n",
    "    text = text.format(gewinner, prozent)\n",
    "    \n",
    "    # bestimme das Ausmaß des Abstands zwischen Gewinner:in und Zweitplatzierter:m\n",
    "    differenz = round(differenz, 1)\n",
    "    \n",
    "    if differenz >= 0 and differenz <= 1:\n",
    "        ausmass = 'minimaler'\n",
    "    elif differenz > 1 and differenz < 3:\n",
    "        ausmass = 'knapper'\n",
    "    elif differenz >= 3 and differenz < 5:\n",
    "        ausmass = ''\n",
    "    elif differenz >= 5:\n",
    "        ausmass = 'erheblicher'\n",
    "    vorsprung = vorsprung.format(ausmass, differenz)\n",
    "    \n",
    "    amtsinhaber = ' {} wird neuer Bürgermeister von {}.'\n",
    "    amtsinhaber = amtsinhaber.format(gewinner, stadt)\n",
    "    \n",
    "article = text + vorsprung + amtsinhaber    \n",
    "print(titel, article, sep='\\n\\n')\n"
   ]
  },
  {
   "cell_type": "markdown",
   "id": "95fd1a9f",
   "metadata": {
    "slideshow": {
     "slide_type": "slide"
    }
   },
   "source": [
    "Und jetzt noch korrekt gegendert..."
   ]
  },
  {
   "cell_type": "code",
   "execution_count": null,
   "id": "3f0183c3",
   "metadata": {
    "slideshow": {
     "slide_type": "slide"
    }
   },
   "outputs": [],
   "source": [
    "# Und noch ein bisschen Kontext\n",
    "stadt = 'Görlitz'\n",
    "titel = 'Wahlen in {}'.format(stadt)\n",
    "\n",
    "kandidat1 = 'Helmut Wiese'\n",
    "prozent1 = 29.5\n",
    "\n",
    "kandidat2 = 'Gundula Lobrecht'\n",
    "prozent2 = 38.7\n",
    "\n",
    "\n",
    "if prozent1 == prozent2:\n",
    "    text = 'Die Wahl ist unentschieden. {} und {} erhalten beide {} Prozent der Stimmen.'\n",
    "    text = text.format(kandidat1, kandidat2, prozent1)\n",
    "else:\n",
    "    text = '{} gewinnt mit {} Prozent der Stimmen.'\n",
    "    vorsprung = ' Dies ist ein {} Vorsprung von {} Prozentpunkten.'\n",
    "    gewinner = kandidat1\n",
    "    prozent = prozent1\n",
    "    differenz = prozent1 - prozent2\n",
    "    \n",
    "    if prozent2 > prozent1:\n",
    "        gewinner = kandidat2\n",
    "        prozent = prozent2\n",
    "        differenz = prozent2 - prozent1\n",
    "        \n",
    "    text = text.format(gewinner, prozent)\n",
    "    \n",
    "    # bestimme das Ausmaß des Abstands zwischen Gewinner:in und Zweitplatzierter:m\n",
    "    differenz = round(differenz, 1)\n",
    "    \n",
    "    if differenz >= 0 and differenz <= 1:\n",
    "        ausmass = 'minimaler'\n",
    "    elif differenz > 1 and differenz < 3:\n",
    "        ausmass = 'knapper'\n",
    "    elif differenz >= 3 and differenz < 5:\n",
    "        ausmass = ''\n",
    "    elif differenz >= 5:\n",
    "        ausmass = 'erheblicher'\n",
    "    vorsprung = vorsprung.format(ausmass, differenz)\n",
    "    \n",
    "    amtsinhaber = ' {} wird neuer Bürgermeister von {}.'\n",
    "    amtsinhaber = amtsinhaber.format(gewinner, stadt)\n",
    "    if gewinner == kandidat2:\n",
    "        amtsinhaber = amtsinhaber.replace('neuer Bürgermeister', 'neue Bürgermeisterin')\n",
    "    \n",
    "article = text + vorsprung + amtsinhaber    \n",
    "print(titel, article, sep='\\n\\n')\n"
   ]
  },
  {
   "cell_type": "markdown",
   "id": "e74a7453",
   "metadata": {
    "slideshow": {
     "slide_type": "slide"
    }
   },
   "source": [
    "# Zeit für Feedback\n",
    "\n",
    "\n",
    "\n",
    "Link: https://ahaslides.com/76EMY\n",
    "\n",
    "![Feedback QR Code](../imgs/qrcode_vl2.png)\n",
    "\n"
   ]
  }
 ],
 "metadata": {
  "celltoolbar": "Slideshow",
  "kernelspec": {
   "display_name": "Python 3 (ipykernel)",
   "language": "python",
   "name": "python3"
  },
  "language_info": {
   "codemirror_mode": {
    "name": "ipython",
    "version": 3
   },
   "file_extension": ".py",
   "mimetype": "text/x-python",
   "name": "python",
   "nbconvert_exporter": "python",
   "pygments_lexer": "ipython3",
   "version": "3.9.13"
  },
  "livereveal": {
   "autolaunch": true
  },
  "vscode": {
   "interpreter": {
    "hash": "f9f85f796d01129d0dd105a088854619f454435301f6ffec2fea96ecbd9be4ac"
   }
  }
 },
 "nbformat": 4,
 "nbformat_minor": 5
}
