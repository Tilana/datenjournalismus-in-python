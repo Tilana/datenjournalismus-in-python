{
 "cells": [
  {
   "cell_type": "markdown",
   "source": [
    "# Übung 5"
   ],
   "metadata": {
    "collapsed": false
   }
  },
  {
   "cell_type": "markdown",
   "source": [
    "## Pakete"
   ],
   "metadata": {
    "collapsed": false
   }
  },
  {
   "cell_type": "markdown",
   "source": [],
   "metadata": {
    "collapsed": false
   }
  },
  {
   "cell_type": "markdown",
   "source": [
    "## Pandas"
   ],
   "metadata": {
    "collapsed": false
   }
  },
  {
   "cell_type": "markdown",
   "source": [
    "Mithilfe von [PageViewer](https://pageviews.wmcloud.org/?project=en.wikipedia.org&platform=all-access&agent=user&redirects=0&range=latest-20&pages=) ist es möglich die Aufrufzahlen von verschiedenen Webseiten einzusehen.\n",
    "Wähle 5 Seiten der englischsprachigen Wikipedia und vergleiche die Aufrufzahlen der letzten 30 Tage.\n",
    "Lade das Ergebnis herunter und lese es mit dem *pandas*-Paket ein."
   ],
   "metadata": {
    "collapsed": false
   }
  },
  {
   "cell_type": "code",
   "execution_count": 47,
   "metadata": {
    "collapsed": true
   },
   "outputs": [
    {
     "data": {
      "text/plain": "          Date  Josip Broz Tito  Saban Saulic  Bijelo Dugme\n0   2022-10-26             2300             5           192\n1   2022-10-27             2440             4           192\n2   2022-10-28             2314             0           223\n3   2022-10-29             2253             2           238\n4   2022-10-30             2258             0           274\n5   2022-10-31             2425             3           207\n6   2022-11-01             2682             1           237\n7   2022-11-02             2625             3           196\n8   2022-11-03             2505             4           178\n9   2022-11-04             2267             5           231\n10  2022-11-05             2257             0           247\n11  2022-11-06             2379             2           271\n12  2022-11-07             2513             2           207\n13  2022-11-08             2548             2           227\n14  2022-11-09             2189             1           173\n15  2022-11-10             2279             2           185\n16  2022-11-11             2347             3           267\n17  2022-11-12             2168             3           294\n18  2022-11-13             2461             2           340\n19  2022-11-14             2525             2           202\n20  2022-11-15             2528             3           231",
      "text/html": "<div>\n<style scoped>\n    .dataframe tbody tr th:only-of-type {\n        vertical-align: middle;\n    }\n\n    .dataframe tbody tr th {\n        vertical-align: top;\n    }\n\n    .dataframe thead th {\n        text-align: right;\n    }\n</style>\n<table border=\"1\" class=\"dataframe\">\n  <thead>\n    <tr style=\"text-align: right;\">\n      <th></th>\n      <th>Date</th>\n      <th>Josip Broz Tito</th>\n      <th>Saban Saulic</th>\n      <th>Bijelo Dugme</th>\n    </tr>\n  </thead>\n  <tbody>\n    <tr>\n      <th>0</th>\n      <td>2022-10-26</td>\n      <td>2300</td>\n      <td>5</td>\n      <td>192</td>\n    </tr>\n    <tr>\n      <th>1</th>\n      <td>2022-10-27</td>\n      <td>2440</td>\n      <td>4</td>\n      <td>192</td>\n    </tr>\n    <tr>\n      <th>2</th>\n      <td>2022-10-28</td>\n      <td>2314</td>\n      <td>0</td>\n      <td>223</td>\n    </tr>\n    <tr>\n      <th>3</th>\n      <td>2022-10-29</td>\n      <td>2253</td>\n      <td>2</td>\n      <td>238</td>\n    </tr>\n    <tr>\n      <th>4</th>\n      <td>2022-10-30</td>\n      <td>2258</td>\n      <td>0</td>\n      <td>274</td>\n    </tr>\n    <tr>\n      <th>5</th>\n      <td>2022-10-31</td>\n      <td>2425</td>\n      <td>3</td>\n      <td>207</td>\n    </tr>\n    <tr>\n      <th>6</th>\n      <td>2022-11-01</td>\n      <td>2682</td>\n      <td>1</td>\n      <td>237</td>\n    </tr>\n    <tr>\n      <th>7</th>\n      <td>2022-11-02</td>\n      <td>2625</td>\n      <td>3</td>\n      <td>196</td>\n    </tr>\n    <tr>\n      <th>8</th>\n      <td>2022-11-03</td>\n      <td>2505</td>\n      <td>4</td>\n      <td>178</td>\n    </tr>\n    <tr>\n      <th>9</th>\n      <td>2022-11-04</td>\n      <td>2267</td>\n      <td>5</td>\n      <td>231</td>\n    </tr>\n    <tr>\n      <th>10</th>\n      <td>2022-11-05</td>\n      <td>2257</td>\n      <td>0</td>\n      <td>247</td>\n    </tr>\n    <tr>\n      <th>11</th>\n      <td>2022-11-06</td>\n      <td>2379</td>\n      <td>2</td>\n      <td>271</td>\n    </tr>\n    <tr>\n      <th>12</th>\n      <td>2022-11-07</td>\n      <td>2513</td>\n      <td>2</td>\n      <td>207</td>\n    </tr>\n    <tr>\n      <th>13</th>\n      <td>2022-11-08</td>\n      <td>2548</td>\n      <td>2</td>\n      <td>227</td>\n    </tr>\n    <tr>\n      <th>14</th>\n      <td>2022-11-09</td>\n      <td>2189</td>\n      <td>1</td>\n      <td>173</td>\n    </tr>\n    <tr>\n      <th>15</th>\n      <td>2022-11-10</td>\n      <td>2279</td>\n      <td>2</td>\n      <td>185</td>\n    </tr>\n    <tr>\n      <th>16</th>\n      <td>2022-11-11</td>\n      <td>2347</td>\n      <td>3</td>\n      <td>267</td>\n    </tr>\n    <tr>\n      <th>17</th>\n      <td>2022-11-12</td>\n      <td>2168</td>\n      <td>3</td>\n      <td>294</td>\n    </tr>\n    <tr>\n      <th>18</th>\n      <td>2022-11-13</td>\n      <td>2461</td>\n      <td>2</td>\n      <td>340</td>\n    </tr>\n    <tr>\n      <th>19</th>\n      <td>2022-11-14</td>\n      <td>2525</td>\n      <td>2</td>\n      <td>202</td>\n    </tr>\n    <tr>\n      <th>20</th>\n      <td>2022-11-15</td>\n      <td>2528</td>\n      <td>3</td>\n      <td>231</td>\n    </tr>\n  </tbody>\n</table>\n</div>"
     },
     "execution_count": 47,
     "metadata": {},
     "output_type": "execute_result"
    }
   ],
   "source": [
    "import pandas as pd\n",
    "\n",
    "# Dein Code\n",
    "df = pd.read_csv('pageviews-20221026-20221115.csv')\n",
    "df"
   ]
  },
  {
   "cell_type": "markdown",
   "source": [
    "Welche Seite wurde in dem Zeitraum am häufigsten besucht?\n",
    "Gib die Seite und die Gesamtzahl der Aufrufe an."
   ],
   "metadata": {
    "collapsed": false
   }
  },
  {
   "cell_type": "code",
   "execution_count": null,
   "outputs": [],
   "source": [
    "# Dein Code\n"
   ],
   "metadata": {
    "collapsed": false
   }
  },
  {
   "cell_type": "markdown",
   "source": [
    "Wie oft wurde jede Seite im Durchschnitt aufgerufen"
   ],
   "metadata": {
    "collapsed": false
   }
  },
  {
   "cell_type": "code",
   "execution_count": null,
   "outputs": [],
   "source": [
    "# Dein Code\n"
   ],
   "metadata": {
    "collapsed": false
   }
  },
  {
   "cell_type": "markdown",
   "source": [
    "Wie oft wurde jede Seite am 03. November 2022 abgerufen?"
   ],
   "metadata": {
    "collapsed": false
   }
  },
  {
   "cell_type": "code",
   "execution_count": null,
   "outputs": [],
   "source": [
    "# Dein Code\n"
   ],
   "metadata": {
    "collapsed": false
   }
  },
  {
   "cell_type": "markdown",
   "source": [
    "Sortiere den Dataframe nach der Anzahl der Aufrufe der am wenigsten besuchten Seite."
   ],
   "metadata": {
    "collapsed": false
   }
  },
  {
   "cell_type": "code",
   "execution_count": 50,
   "outputs": [
    {
     "ename": "TypeError",
     "evalue": "Must provide 'func' or tuples of '(column, aggfunc).",
     "output_type": "error",
     "traceback": [
      "\u001B[0;31m---------------------------------------------------------------------------\u001B[0m",
      "\u001B[0;31mTypeError\u001B[0m                                 Traceback (most recent call last)",
      "Cell \u001B[0;32mIn [50], line 2\u001B[0m\n\u001B[1;32m      1\u001B[0m \u001B[38;5;66;03m# Dein Code\u001B[39;00m\n\u001B[0;32m----> 2\u001B[0m df\u001B[38;5;241m.\u001B[39maggregate()\n",
      "File \u001B[0;32m~/anaconda3/envs/rise-environment/lib/python3.10/site-packages/pandas/core/frame.py:9326\u001B[0m, in \u001B[0;36mDataFrame.aggregate\u001B[0;34m(self, func, axis, *args, **kwargs)\u001B[0m\n\u001B[1;32m   9322\u001B[0m \u001B[38;5;28;01mfrom\u001B[39;00m \u001B[38;5;21;01mpandas\u001B[39;00m\u001B[38;5;21;01m.\u001B[39;00m\u001B[38;5;21;01mcore\u001B[39;00m\u001B[38;5;21;01m.\u001B[39;00m\u001B[38;5;21;01mapply\u001B[39;00m \u001B[38;5;28;01mimport\u001B[39;00m frame_apply\n\u001B[1;32m   9324\u001B[0m axis \u001B[38;5;241m=\u001B[39m \u001B[38;5;28mself\u001B[39m\u001B[38;5;241m.\u001B[39m_get_axis_number(axis)\n\u001B[0;32m-> 9326\u001B[0m relabeling, func, columns, order \u001B[38;5;241m=\u001B[39m \u001B[43mreconstruct_func\u001B[49m\u001B[43m(\u001B[49m\u001B[43mfunc\u001B[49m\u001B[43m,\u001B[49m\u001B[43m \u001B[49m\u001B[38;5;241;43m*\u001B[39;49m\u001B[38;5;241;43m*\u001B[39;49m\u001B[43mkwargs\u001B[49m\u001B[43m)\u001B[49m\n\u001B[1;32m   9328\u001B[0m op \u001B[38;5;241m=\u001B[39m frame_apply(\u001B[38;5;28mself\u001B[39m, func\u001B[38;5;241m=\u001B[39mfunc, axis\u001B[38;5;241m=\u001B[39maxis, args\u001B[38;5;241m=\u001B[39margs, kwargs\u001B[38;5;241m=\u001B[39mkwargs)\n\u001B[1;32m   9329\u001B[0m result \u001B[38;5;241m=\u001B[39m op\u001B[38;5;241m.\u001B[39magg()\n",
      "File \u001B[0;32m~/anaconda3/envs/rise-environment/lib/python3.10/site-packages/pandas/core/apply.py:1279\u001B[0m, in \u001B[0;36mreconstruct_func\u001B[0;34m(func, **kwargs)\u001B[0m\n\u001B[1;32m   1273\u001B[0m         \u001B[38;5;28;01mraise\u001B[39;00m SpecificationError(\n\u001B[1;32m   1274\u001B[0m             \u001B[38;5;124m\"\u001B[39m\u001B[38;5;124mFunction names must be unique if there is no new column names \u001B[39m\u001B[38;5;124m\"\u001B[39m\n\u001B[1;32m   1275\u001B[0m             \u001B[38;5;124m\"\u001B[39m\u001B[38;5;124massigned\u001B[39m\u001B[38;5;124m\"\u001B[39m\n\u001B[1;32m   1276\u001B[0m         )\n\u001B[1;32m   1277\u001B[0m     \u001B[38;5;28;01melif\u001B[39;00m func \u001B[38;5;129;01mis\u001B[39;00m \u001B[38;5;28;01mNone\u001B[39;00m:\n\u001B[1;32m   1278\u001B[0m         \u001B[38;5;66;03m# nicer error message\u001B[39;00m\n\u001B[0;32m-> 1279\u001B[0m         \u001B[38;5;28;01mraise\u001B[39;00m \u001B[38;5;167;01mTypeError\u001B[39;00m(\u001B[38;5;124m\"\u001B[39m\u001B[38;5;124mMust provide \u001B[39m\u001B[38;5;124m'\u001B[39m\u001B[38;5;124mfunc\u001B[39m\u001B[38;5;124m'\u001B[39m\u001B[38;5;124m or tuples of \u001B[39m\u001B[38;5;124m'\u001B[39m\u001B[38;5;124m(column, aggfunc).\u001B[39m\u001B[38;5;124m\"\u001B[39m)\n\u001B[1;32m   1281\u001B[0m \u001B[38;5;28;01mif\u001B[39;00m relabeling:\n\u001B[1;32m   1282\u001B[0m     func, columns, order \u001B[38;5;241m=\u001B[39m normalize_keyword_aggregation(kwargs)\n",
      "\u001B[0;31mTypeError\u001B[0m: Must provide 'func' or tuples of '(column, aggfunc)."
     ]
    }
   ],
   "source": [
    "# Dein Code\n"
   ],
   "metadata": {
    "collapsed": false
   }
  },
  {
   "cell_type": "markdown",
   "source": [
    "Speichere die Werte der letzten fünf Tage als Markdown-Datei."
   ],
   "metadata": {
    "collapsed": false
   }
  },
  {
   "cell_type": "code",
   "execution_count": null,
   "outputs": [],
   "source": [],
   "metadata": {
    "collapsed": false
   }
  },
  {
   "cell_type": "markdown",
   "source": [],
   "metadata": {
    "collapsed": false
   }
  }
 ],
 "metadata": {
  "kernelspec": {
   "display_name": "Python 3",
   "language": "python",
   "name": "python3"
  },
  "language_info": {
   "codemirror_mode": {
    "name": "ipython",
    "version": 2
   },
   "file_extension": ".py",
   "mimetype": "text/x-python",
   "name": "python",
   "nbconvert_exporter": "python",
   "pygments_lexer": "ipython2",
   "version": "2.7.6"
  }
 },
 "nbformat": 4,
 "nbformat_minor": 0
}
