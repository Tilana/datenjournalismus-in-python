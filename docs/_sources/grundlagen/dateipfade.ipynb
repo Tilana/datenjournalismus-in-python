{
 "cells": [
  {
   "cell_type": "markdown",
   "id": "88613b58",
   "metadata": {},
   "source": [
    "# Dateipfade\n",
    "\n",
    "\n",
    "In Python, es gibt zwei Arten von Dateipfaden: **relative Pfade** und **absolute Pfade**.\n",
    "\n",
    "\n",
    "**Absolute Pfade** sind Pfade, die von der Wurzel des Dateisystems ausgehen. Zum Beispiel, wenn die Datei \"data.txt\" in dem Ordner `C:\\users\\meinname` gespeichert ist, würde der absolute Pfad zu dieser Datei `C:\\users\\meinname\\data.txt` lauten.\n",
    "\n",
    "\n",
    "**Relative Pfade** sind Pfade, die sich auf einen Pfad beziehen, der von dem aktuellen Verzeichnis des Programms ausgeht. Zum Beispiel, wenn Sie eine Datei namens `data.txt` in demselben Ordner speichern, in dem Ihr Python-Skript liegt, würde der relative Pfad zu dieser Datei `data.txt` lauten.\n",
    "\n"
   ]
  },
  {
   "cell_type": "code",
   "execution_count": 12,
   "id": "827c88c1",
   "metadata": {},
   "outputs": [],
   "source": [
    "relativer_pfad = './data.txt'\n",
    "with open(relativer_pfad, \"w\") as f:\n",
    "    f.write('Das ist ein Testtext.')"
   ]
  },
  {
   "cell_type": "markdown",
   "id": "9e11eb61",
   "metadata": {},
   "source": [
    "### Anzeigen des aktuellen Ordners"
   ]
  },
  {
   "cell_type": "code",
   "execution_count": 13,
   "id": "e7bb857b",
   "metadata": {},
   "outputs": [
    {
     "data": {
      "text/plain": [
       "'/home/natalie/Documents/Datenjournalismus in Python/Code/vorlesung'"
      ]
     },
     "execution_count": 13,
     "metadata": {},
     "output_type": "execute_result"
    }
   ],
   "source": [
    "import os\n",
    "os.getcwd()    # cwd steht für current working directory"
   ]
  },
  {
   "cell_type": "code",
   "execution_count": 14,
   "id": "75c100f1",
   "metadata": {},
   "outputs": [],
   "source": [
    "absoluter_pfad = '/home/natalie/Documents/Datenjournalismus in Python/Code/vorlesung/'\n",
    "filename = 'data.txt'\n",
    "\n",
    "pfad = absoluter_pfad + filename\n",
    "with open(pfad, \"r\") as f:\n",
    "    test = f.read()"
   ]
  },
  {
   "cell_type": "code",
   "execution_count": 15,
   "id": "d4d9efd5",
   "metadata": {},
   "outputs": [
    {
     "data": {
      "text/plain": [
       "'Das ist ein Testtext.'"
      ]
     },
     "execution_count": 15,
     "metadata": {},
     "output_type": "execute_result"
    }
   ],
   "source": [
    "test"
   ]
  },
  {
   "cell_type": "markdown",
   "id": "435694cc",
   "metadata": {},
   "source": [
    "#### Relative Pfade\n",
    "\n",
    "Bei relativen Dateipfaden können wir mit `..` eine Ebene höher navigieren.\n",
    "\n",
    "`./` bedeutet im aktuellen Verzeichnis.\n",
    "\n"
   ]
  },
  {
   "cell_type": "code",
   "execution_count": null,
   "id": "181bc7b3",
   "metadata": {},
   "outputs": [],
   "source": [
    "# Erstelle einen Ordner eine Ebene höher als das aktuelle Arbeitsverzeichnis\n",
    "import os\n",
    "os.mkdir('../../testdata')"
   ]
  },
  {
   "cell_type": "code",
   "execution_count": 20,
   "id": "e8481564",
   "metadata": {},
   "outputs": [
    {
     "name": "stdout",
     "output_type": "stream",
     "text": [
      "Help on built-in function mkdir in module posix:\n",
      "\n",
      "mkdir(path, mode=511, *, dir_fd=None)\n",
      "    Create a directory.\n",
      "    \n",
      "    If dir_fd is not None, it should be a file descriptor open to a directory,\n",
      "      and path should be relative; path will then be relative to that directory.\n",
      "    dir_fd may not be implemented on your platform.\n",
      "      If it is unavailable, using it will raise a NotImplementedError.\n",
      "    \n",
      "    The mode argument is ignored on Windows.\n",
      "\n"
     ]
    }
   ],
   "source": [
    "help(os.mkdir)"
   ]
  },
  {
   "cell_type": "code",
   "execution_count": null,
   "id": "6710a6b1",
   "metadata": {},
   "outputs": [],
   "source": [
    "# Speichere eine Datei in dem neuen Ordner\n",
    "relativer_pfad = '../testdata/data.txt'\n",
    "with open(relativer_pfad, \"w\") as f:\n",
    "    f.write('Das ist ein Testtext 2.')"
   ]
  }
 ],
 "metadata": {
  "celltoolbar": "Slideshow",
  "kernelspec": {
   "display_name": "Python 3 (ipykernel)",
   "language": "python",
   "name": "python3"
  },
  "language_info": {
   "codemirror_mode": {
    "name": "ipython",
    "version": 3
   },
   "file_extension": ".py",
   "mimetype": "text/x-python",
   "name": "python",
   "nbconvert_exporter": "python",
   "pygments_lexer": "ipython3",
   "version": "3.9.15"
  }
 },
 "nbformat": 4,
 "nbformat_minor": 5
}
