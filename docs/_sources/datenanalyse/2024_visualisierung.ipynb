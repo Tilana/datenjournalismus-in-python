{
 "cells": [
  {
   "cell_type": "markdown",
   "id": "d9a3430d",
   "metadata": {
    "slideshow": {
     "slide_type": "slide"
    }
   },
   "source": [
    "# Datenanalyse Teil II - Visualisierungen\n",
    "\n",
    "### Natalie Widmann\n",
    "\n",
    "\n",
    "\n",
    "\n",
    "Wintersemester 2024 / 2025\n",
    "\n",
    "\n",
    "Universität Leipzig\n",
    "\n",
    "\n",
    "\n"
   ]
  },
  {
   "cell_type": "markdown",
   "id": "a1c7d68a",
   "metadata": {
    "slideshow": {
     "slide_type": "slide"
    }
   },
   "source": [
    "### Ziel\n",
    "\n",
    "- Wiederholung und Aufgaben zur Datenanalyse mit Pandas\n",
    "- Grundlagen der Datenvisualisierungen\n",
    "\n"
   ]
  },
  {
   "cell_type": "markdown",
   "id": "a3b3b413",
   "metadata": {},
   "source": [
    "![Datenpipeline](../../imgs/datapipeline.png)"
   ]
  },
  {
   "cell_type": "code",
   "execution_count": null,
   "id": "8658426c",
   "metadata": {
    "scrolled": true,
    "slideshow": {
     "slide_type": "slide"
    }
   },
   "outputs": [],
   "source": [
    "# Install a pip package im Jupyter Notebook\n",
    "!pip3 install pandas"
   ]
  },
  {
   "cell_type": "code",
   "execution_count": null,
   "id": "42071cdf-8ade-4232-a32c-138c88aaab59",
   "metadata": {},
   "outputs": [],
   "source": [
    "import pandas as pd\n",
    "pd.set_option('display.float_format', '{:.2f}'.format)"
   ]
  },
  {
   "cell_type": "markdown",
   "id": "bc7f4d47-2bd2-461d-98af-0b65e0d18cc5",
   "metadata": {},
   "source": [
    "# Load Data"
   ]
  },
  {
   "cell_type": "code",
   "execution_count": null,
   "id": "9f32b8a8",
   "metadata": {
    "scrolled": true,
    "slideshow": {
     "slide_type": "slide"
    }
   },
   "outputs": [],
   "source": [
    "data_url = \"https://data.humdata.org/dataset/74163686-a029-4e27-8fbf-c5bfcd13f953/resource/c5ce40d6-07b1-4f36-955a-d6196436ff6b/download/emdat-country-profiles_2024_12_02.xlsx\"\n",
    "data = pd.read_excel(data_url, engine=\"openpyxl\")\n",
    "data"
   ]
  },
  {
   "cell_type": "markdown",
   "id": "072199b9-1e7f-4518-adb5-68d1cd499aaf",
   "metadata": {},
   "source": [
    "## Data Cleaning"
   ]
  },
  {
   "cell_type": "code",
   "execution_count": null,
   "id": "8c93e778",
   "metadata": {},
   "outputs": [],
   "source": [
    "# Data Cleaning\n",
    "data = data.drop(index=0)\n",
    "\n",
    "cols = ['Year', 'Total Events', 'Total Affected', 'Total Deaths', 'Total Damage (USD, adjusted)']\n",
    "for col in cols:\n",
    "    data[col] = pd.to_numeric(data[col])\n",
    "\n",
    "\n",
    "cols = ['ISO', 'Disaster Group', 'Total Damage (USD, adjusted)', 'CPI']\n",
    "data.drop(cols, axis=1, inplace=True)"
   ]
  },
  {
   "cell_type": "code",
   "execution_count": null,
   "id": "0a134e4c",
   "metadata": {},
   "outputs": [],
   "source": [
    "data"
   ]
  },
  {
   "cell_type": "markdown",
   "id": "71e4ffd8-02c0-4fba-bbcb-e31d1effbc3c",
   "metadata": {},
   "source": [
    "## Recap - Die Wichtigsten Pandas Funktionen\n",
    "\n",
    "\n",
    "| **Funktion**               | **Beschreibung**                                                                 |\n",
    "|----------------------------|---------------------------------------------------------------------------------|\n",
    "| `df.head(n)`              | Zeigt die ersten `n` Zeilen des DataFrames an. Standardmäßig 5 Zeilen.           |\n",
    "| `df.info()`               | Gibt eine Übersicht über die Struktur des DataFrames, einschließlich Datentypen. |\n",
    "| `df.describe()`           | Liefert deskriptive Statistiken für numerische Spalten.                          |\n",
    "| `df.columns`              | Listet alle Spaltennamen des DataFrames auf.                                     |\n",
    "| `df.index`                | Zeigt den Index des DataFrames an.                                               |\n",
    "| `df.dtypes`               | Zeigt die Datentypen jeder Spalte an.                                            |\n",
    "| `df.sort_values(by='Spalte')`| Sortiert den DataFrame basierend auf einer bestimmten Spalte.                 |\n",
    "| `df.groupby('Spalte')`    | Gruppiert den DataFrame nach einer Spalte und ermöglicht Aggregationen.          |\n",
    "| `df.apply()`              | Wendet eine Funktion auf Spalten oder Zeilen an.                                 |\n",
    "| `df['Spalte'].unique()`             | Gibt die eindeutigen Werte in jeder Spalte zurück.                     |\n",
    "| `df['Spalte'.value_counts()`       | Zählt die Häufigkeit von Werten in einer Spalte.                                 |\n",
    "| `df['Spalte'].mean()`           | Berechnet den Durchschnitt der Werte in der Spalte.                        |\n",
    "| `df['Spalte'].min()`            | Gibt den kleinsten Wert in der Spalte zurück.                              |\n",
    "| `df['Spalte'].max()`            | Gibt den größten Wert in der Spalte zurück.                                |\n",
    "| `df['Spalte'].sum()`            | Berechnet die Summe aller Werte in der Spalte.                             |\n",
    "\n"
   ]
  },
  {
   "cell_type": "code",
   "execution_count": null,
   "id": "e3f579dd-3d44-4bf7-a3c8-d4101e89992e",
   "metadata": {},
   "outputs": [],
   "source": []
  },
  {
   "cell_type": "markdown",
   "id": "460bedc8-ded6-4bde-800b-d057c3ba19d9",
   "metadata": {},
   "source": [
    "## Groupby\n",
    "Die groupby-Funktion in Pandas wird verwendet, um Daten in Gruppen basierend auf einem oder mehreren Spaltenwerten zu organisieren. Auf diesen Gruppen können dann weitere Funktionen wie Berechnungen oder Transformationen angewendet werden.\n",
    "\n",
    "### Der Ablauf\n",
    "- Gruppieren: Daten werden nach bestimmten Spaltenwerten gruppiert.\n",
    "- Anwenden: Auf jede Gruppe wird eine Operation (z. B. sum, mean, count) angewendet.\n",
    "- Kombinieren: Die Ergebnisse werden in einem neuen DataFrame oder Series zusammengefasst."
   ]
  },
  {
   "cell_type": "code",
   "execution_count": null,
   "id": "764060c4-c81e-44dc-98bd-ace78694f18f",
   "metadata": {},
   "outputs": [],
   "source": []
  },
  {
   "cell_type": "markdown",
   "id": "7ed16e09-e086-46f6-ad64-ccfeff0d307c",
   "metadata": {},
   "source": [
    "- Wie viele Menschen waren je Naturkatastrophentyp betroffen?"
   ]
  },
  {
   "cell_type": "code",
   "execution_count": null,
   "id": "0e821747-8ee6-4c74-a418-44d882abe1bc",
   "metadata": {},
   "outputs": [],
   "source": []
  },
  {
   "cell_type": "markdown",
   "id": "9c8be5ba-04b2-4d43-b305-c0585ce05f81",
   "metadata": {},
   "source": [
    "- Wie viele Menschen sind pro Jahr von Naturkatastrophen betroffen?"
   ]
  },
  {
   "cell_type": "code",
   "execution_count": null,
   "id": "564965f1-70d7-435e-9af8-1140868d1de6",
   "metadata": {},
   "outputs": [],
   "source": []
  },
  {
   "cell_type": "markdown",
   "id": "1d797fda-c2fa-4d99-9fba-d5a2c78f737d",
   "metadata": {},
   "source": [
    "- Wie viele Menschen sind in Deutschland pro Jahr und Katastrophentyp betroffen?"
   ]
  },
  {
   "cell_type": "code",
   "execution_count": null,
   "id": "7164ac83-6009-4d5a-a392-b1f2cfb2e3d4",
   "metadata": {},
   "outputs": [],
   "source": []
  },
  {
   "cell_type": "markdown",
   "id": "886c80df-2876-485b-a482-3eec27a1caff",
   "metadata": {},
   "source": [
    "## Apply\n",
    "\n",
    "Die apply-Funktion in Pandas wird verwendet, um eine benutzerdefinierte Funktion auf jede Zeile oder Spalte eines DataFrames oder auf jeden Wert einer Serie anzuwenden. Sie bietet Flexibilität, komplexe Berechnungen oder Transformationen effizient durchzuführen.\n",
    "\n",
    "#### Syntax\n",
    "\n",
    "`df['Spalte'].apply(func)`"
   ]
  },
  {
   "cell_type": "code",
   "execution_count": null,
   "id": "a86514ad-c722-441e-a06f-3c804c2c452e",
   "metadata": {},
   "outputs": [],
   "source": [
    "def process_country(value):\n",
    "    return value.lower().strip()"
   ]
  },
  {
   "cell_type": "code",
   "execution_count": null,
   "id": "a6f51531-cea1-4fbb-9e3a-d312bbee6a32",
   "metadata": {},
   "outputs": [],
   "source": [
    "process_country(' aeDWEASF  ')"
   ]
  },
  {
   "cell_type": "code",
   "execution_count": null,
   "id": "f79121d3-f936-4754-888e-6d2c864f2a08",
   "metadata": {},
   "outputs": [],
   "source": [
    "data['Country'].apply(process_country)"
   ]
  },
  {
   "cell_type": "markdown",
   "id": "e1cc61e8",
   "metadata": {},
   "source": [
    "## Aufgaben"
   ]
  },
  {
   "cell_type": "markdown",
   "id": "8f4a5488-2309-4d14-b061-ea6a1fb78c37",
   "metadata": {},
   "source": [
    "- Wie viele Naturkatastrophen gab es in Deutschland seit 2000?"
   ]
  },
  {
   "cell_type": "code",
   "execution_count": null,
   "id": "5b31e9a5-4d27-4122-8082-3c4c9a0792de",
   "metadata": {},
   "outputs": [],
   "source": []
  },
  {
   "cell_type": "markdown",
   "id": "01df17eb-4e34-4529-862f-fa74530e9f9b",
   "metadata": {},
   "source": [
    "- Wann und was waren die schlimmsten Naturkatastrophen in Deutschland?"
   ]
  },
  {
   "cell_type": "code",
   "execution_count": null,
   "id": "49111d1a-5a3d-4183-b4f3-977d51057d76",
   "metadata": {},
   "outputs": [],
   "source": []
  },
  {
   "cell_type": "markdown",
   "id": "54413bf4-634b-40c7-8dca-e9ee702396da",
   "metadata": {},
   "source": [
    "- Wie viele Menschen waren insgesamt in Deutschland von Naturkatastrophen betroffen?\n"
   ]
  },
  {
   "cell_type": "code",
   "execution_count": null,
   "id": "6901f041-5ac0-4595-b309-a956ab6688d2",
   "metadata": {},
   "outputs": [],
   "source": []
  },
  {
   "cell_type": "markdown",
   "id": "646989ef-eb05-4af8-8cbc-7a602450ec63",
   "metadata": {},
   "source": [
    "- Wie viele Menschen waren insgesamt in Deutschland von Naturkatastrophen betroffen?\n"
   ]
  },
  {
   "cell_type": "code",
   "execution_count": null,
   "id": "cbdef9b1-8247-4aed-bab2-a2e28f7c1e2e",
   "metadata": {},
   "outputs": [],
   "source": []
  },
  {
   "cell_type": "markdown",
   "id": "d241fe81-0506-4456-897d-b2fdf9dc241f",
   "metadata": {},
   "source": [
    "- Wie viele Menschen sind 2024 in Deutschland bei Naturkatastrophen ums Leben gekommen?"
   ]
  },
  {
   "cell_type": "code",
   "execution_count": null,
   "id": "f359fb56-d6bb-45cd-a7ae-4746627e58e4",
   "metadata": {},
   "outputs": [],
   "source": []
  },
  {
   "cell_type": "markdown",
   "id": "a80a2b78-beaa-42ef-8d9c-764a500aad08",
   "metadata": {},
   "source": [
    "- Bei welchen Katastrophen in Deutschland starben mehr als 15 Personen?"
   ]
  },
  {
   "cell_type": "code",
   "execution_count": null,
   "id": "6d92bd39-6463-46ca-90e7-bdb1bc8651c5",
   "metadata": {},
   "outputs": [],
   "source": []
  },
  {
   "cell_type": "markdown",
   "id": "72ef8245-b642-4d60-a4eb-416b49a9109a",
   "metadata": {},
   "source": [
    "- Wie oft kommen die einzelnen Naturkatastrophentypen in Deutschland vor?"
   ]
  },
  {
   "cell_type": "code",
   "execution_count": null,
   "id": "380a1453-d4b2-47ee-b478-333f447516a8",
   "metadata": {},
   "outputs": [],
   "source": []
  },
  {
   "cell_type": "markdown",
   "id": "28945103-3808-44be-b171-ce2db114a988",
   "metadata": {},
   "source": [
    "## Einführungen in Datenvisualisierungen\n",
    "\n",
    "**Ziel:**\n",
    "- schnelle Visualisierung\n",
    "- besseres Verständnis der Daten\n",
    "- Schärfung und Überprüfung der Thesen\n",
    "\n",
    "**Nicht**\n",
    "- schöne publizierbare Visualisierung\n",
    "\n"
   ]
  },
  {
   "cell_type": "markdown",
   "id": "163fa3cb",
   "metadata": {},
   "source": [
    "### Matplotlib\n",
    "[Matplotlib](https://matplotlib.org/) is a comprehensive library for creating static, animated, and interactive visualizations in Python.\n",
    "\n",
    "Matplotlib makes easy things easy and hard things possible.\n",
    "\n",
    "Install matplotlib:"
   ]
  },
  {
   "cell_type": "code",
   "execution_count": null,
   "id": "14287eb9",
   "metadata": {
    "scrolled": true
   },
   "outputs": [],
   "source": [
    "!pip3 install --upgrade pip\n",
    "!pip3 install --upgrade Pillow\n",
    "!pip3 install matplotlib\n",
    "\n",
    "import matplotlib.pyplot as plt"
   ]
  },
  {
   "cell_type": "code",
   "execution_count": null,
   "id": "d319deff",
   "metadata": {
    "scrolled": true
   },
   "outputs": [],
   "source": [
    "data['Disaster Type'].value_counts()"
   ]
  },
  {
   "cell_type": "code",
   "execution_count": null,
   "id": "64fcf496",
   "metadata": {},
   "outputs": [],
   "source": [
    "data['Disaster Type'].value_counts().plot(kind='bar')"
   ]
  },
  {
   "cell_type": "code",
   "execution_count": null,
   "id": "2cf2e38e",
   "metadata": {},
   "outputs": [],
   "source": [
    "data['Disaster Type'].value_counts().plot(kind='pie')"
   ]
  },
  {
   "cell_type": "markdown",
   "id": "1ab3f6e0-668d-4e25-ab24-8815f0caf1b6",
   "metadata": {},
   "source": [
    "### Plot mit Titel, X- und Y-Achse"
   ]
  },
  {
   "cell_type": "code",
   "execution_count": null,
   "id": "998d8b21-15e0-476e-be57-2a15e0736cce",
   "metadata": {},
   "outputs": [],
   "source": [
    "disaster_counts = data.groupby('Disaster Type')['Total Events'].sum()\n",
    "disaster_counts.plot(kind='bar', color='skyblue', title='Anzahl an Naturkatastrophen nach Typ seit 2000')\n",
    "\n",
    "plt.xlabel('Disaster Type')\n",
    "plt.ylabel('Number of Events')\n",
    "plt.show()"
   ]
  },
  {
   "cell_type": "markdown",
   "id": "a7f7ab5f-4d20-4069-97b9-e7da1cfdffcd",
   "metadata": {},
   "source": [
    "**Aufgabe**\n",
    "\n",
    "Erstelle ein Diagramm das zeigt, wie sich die Anzahl an Naturkatastrophen pro Jahr entwickelt hat."
   ]
  },
  {
   "cell_type": "markdown",
   "id": "879e0110-1096-4ec3-88a8-c57d9d8da09c",
   "metadata": {},
   "source": [
    "1. Berechne die Anzahl der Naturkatastrophen pro Jahr"
   ]
  },
  {
   "cell_type": "code",
   "execution_count": null,
   "id": "bd7114ef-f918-4caa-8391-5fa2227f6f99",
   "metadata": {},
   "outputs": [],
   "source": []
  },
  {
   "cell_type": "markdown",
   "id": "37d16e96-2a9c-4dcb-b3e3-30983985ae8f",
   "metadata": {},
   "source": [
    "2. Erstelle ein BarChart mit den Jahren auf der x-Achse und der Anzahl auf der y-Achse"
   ]
  },
  {
   "cell_type": "code",
   "execution_count": null,
   "id": "28633374-82f1-4339-bd23-64c27a3760eb",
   "metadata": {},
   "outputs": [],
   "source": []
  },
  {
   "cell_type": "markdown",
   "id": "bb65d066-dd9e-4eb3-8d07-0317d1daa672",
   "metadata": {},
   "source": [
    "- Wie hat sich die Anzahl der Betroffenen Menschen über die Jahre entwickelt?"
   ]
  },
  {
   "cell_type": "code",
   "execution_count": null,
   "id": "b2e0f2d4-57a4-47ef-94ee-122ce0b8837b",
   "metadata": {},
   "outputs": [],
   "source": []
  },
  {
   "cell_type": "markdown",
   "id": "df356ddd-694b-464c-81d3-7c32bf612434",
   "metadata": {},
   "source": [
    "### Pivot Table\n",
    "\n",
    "Die pivot_table-Funktion in Pandas dient dazu, Daten umzustrukturieren und zu aggregieren. Sie funktioniert ähnlich wie Pivot-Tabellen in Excel und wird häufig verwendet, um Daten in einer übersichtlicheren Form darzustellen.\n",
    "\n",
    "**Syntax**\n",
    "\n",
    "```pd.pivot_table(data, values, index, columns, aggfunc)```\n",
    "\n",
    "| **Begriff**       | **Beschreibung**                                                                                     |\n",
    "|--------------------|-----------------------------------------------------------------------------------------------------|\n",
    "| `data`            | Der DataFrame, der umstrukturiert werden soll.                                                      |\n",
    "| `values`          | Die Spalte, deren Werte aggregiert werden sollen (optional, wenn `aggfunc` ohne spezifische Werte arbeitet). |\n",
    "| `index`           | Die Spalte(n), die die **Zeilen** der Pivot-Tabelle darstellen.                                      |\n",
    "| `columns`         | Die Spalte(n), die die **Spalten** der Pivot-Tabelle darstellen.                                     |\n",
    "| `aggfunc`         | Die Aggregationsfunktion, die auf die Werte angewendet wird, z. B. `sum`, `mean`, `size`.           |\n",
    "\n"
   ]
  },
  {
   "cell_type": "code",
   "execution_count": null,
   "id": "f8e01cce-838e-47ed-8b4f-105943e1e5ab",
   "metadata": {},
   "outputs": [],
   "source": [
    "data.pivot_table(\n",
    "    index='Year', columns='Disaster Type', values='Total Events', aggfunc='sum', fill_value=0\n",
    ")"
   ]
  },
  {
   "cell_type": "code",
   "execution_count": null,
   "id": "fd21050b-46ff-47a9-9e19-45160c2f228e",
   "metadata": {},
   "outputs": [],
   "source": [
    "data.pivot_table(\n",
    "    index='Country', columns='Disaster Type', values='Total Events', aggfunc='mean', fill_value=0\n",
    ")"
   ]
  },
  {
   "cell_type": "markdown",
   "id": "48a5f943-f849-4198-99b9-de7880150323",
   "metadata": {},
   "source": [
    "### Stacked Bar Chart"
   ]
  },
  {
   "cell_type": "code",
   "execution_count": null,
   "id": "19922bcb-99b4-4b17-900e-cccd4b3b0915",
   "metadata": {},
   "outputs": [],
   "source": [
    "disaster_counts = data.pivot_table(\n",
    "    index='Year', columns='Disaster Type', values='Total Events', aggfunc='sum', fill_value=0\n",
    ")\n",
    "\n",
    "# stacked bar chart\n",
    "disaster_counts.plot(kind='bar', stacked=True, figsize=(10, 6), colormap='tab10')\n",
    "plt.title('Naturkatastrophen pro Jahr und Typ')\n",
    "plt.xlabel('Jahr')\n",
    "plt.ylabel('Anzahl')\n",
    "plt.legend(title='Typen', bbox_to_anchor=(1.05, 1), loc='upper left')\n",
    "plt.tight_layout()\n",
    "plt.show()"
   ]
  },
  {
   "cell_type": "markdown",
   "id": "c4250f4a-f60d-469f-8e70-4ebeda11cd95",
   "metadata": {},
   "source": [
    "### Karte"
   ]
  },
  {
   "cell_type": "code",
   "execution_count": null,
   "id": "d0b35592-572f-4098-9559-21f875e81eae",
   "metadata": {},
   "outputs": [],
   "source": [
    "summary = data.groupby('Country')['Total Events'].sum().reset_index()\n",
    "summary.head()"
   ]
  },
  {
   "cell_type": "code",
   "execution_count": null,
   "id": "a1b84ca8-682c-4a40-9d6e-621faac3fed2",
   "metadata": {},
   "outputs": [],
   "source": [
    "import plotly.express as px\n",
    "\n",
    "fig = px.choropleth(\n",
    "    summary,\n",
    "    locations=\"Country\",\n",
    "    locationmode=\"country names\",\n",
    "    color=\"Total Events\",\n",
    "    title=\"Anzahl an Naturkatastrophen pro Land\",\n",
    "    color_continuous_scale=px.colors.sequential.Plasma\n",
    ")\n",
    "\n",
    "# Increase figure size\n",
    "fig.update_layout(\n",
    "    width=1000,  \n",
    "    height=800 \n",
    ")\n",
    "\n",
    "fig.show()"
   ]
  },
  {
   "cell_type": "code",
   "execution_count": null,
   "id": "876e44ba-b98f-4f4a-aecb-c6f5b7f8824f",
   "metadata": {},
   "outputs": [],
   "source": []
  }
 ],
 "metadata": {
  "celltoolbar": "Slideshow",
  "kernelspec": {
   "display_name": "Python 3 (ipykernel)",
   "language": "python",
   "name": "python3"
  },
  "language_info": {
   "codemirror_mode": {
    "name": "ipython",
    "version": 3
   },
   "file_extension": ".py",
   "mimetype": "text/x-python",
   "name": "python",
   "nbconvert_exporter": "python",
   "pygments_lexer": "ipython3",
   "version": "3.11.7"
  },
  "vscode": {
   "interpreter": {
    "hash": "f9f85f796d01129d0dd105a088854619f454435301f6ffec2fea96ecbd9be4ac"
   }
  }
 },
 "nbformat": 4,
 "nbformat_minor": 5
}
