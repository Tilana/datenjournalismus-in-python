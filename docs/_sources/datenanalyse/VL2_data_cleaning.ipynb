{
 "cells": [
  {
   "cell_type": "markdown",
   "id": "d9a3430d",
   "metadata": {
    "slideshow": {
     "slide_type": "slide"
    }
   },
   "source": [
    "# Datenanalyse Teil II\n",
    "\n",
    "### Natalie Widmann\n",
    "\n",
    "\n",
    "\n",
    "Wintersemester 2024 / 2025\n",
    "\n",
    "\n",
    "\n",
    "\n"
   ]
  },
  {
   "cell_type": "markdown",
   "id": "a1c7d68a",
   "metadata": {
    "slideshow": {
     "slide_type": "slide"
    }
   },
   "source": [
    "### Aggregated figures for Natural Disasters in EM-DAT\n",
    "\n",
    "Link: https://data.humdata.org/dataset/emdat-country-profiles\n",
    "\n",
    "\n",
    "In 1988, the **Centre for Research on the Epidemiology of Disasters (CRED)** launched the **Emergency Events Database (EM-DAT)**. EM-DAT was created with the initial support of the **World Health Organisation (WHO) and the Belgian Government**.\n",
    "\n",
    "The main objective of the database is to **serve the purposes of humanitarian action at national and international levels**. The initiative aims to rationalise decision making for disaster preparedness, as well as provide an objective base for vulnerability assessment and priority setting.\n",
    "\n",
    "EM-DAT contains essential core data on the **occurrence and effects of over 22,000 mass disasters in the world from 1900 to the present day**. The database is compiled from various sources, including UN agencies, non-governmental organisations, insurance companies, research institutes and press agencies.\n",
    "\n"
   ]
  },
  {
   "cell_type": "code",
   "execution_count": null,
   "id": "8658426c",
   "metadata": {
    "slideshow": {
     "slide_type": "slide"
    }
   },
   "outputs": [],
   "source": [
    "# Install a pip package im Jupyter Notebook\n",
    "!pip3 install pandas\n",
    "!pip3 install openpyxl"
   ]
  },
  {
   "cell_type": "code",
   "execution_count": null,
   "id": "9f32b8a8",
   "metadata": {
    "slideshow": {
     "slide_type": "slide"
    }
   },
   "outputs": [],
   "source": [
    "import pandas as pd\n",
    "pd.set_option('display.float_format', '{:.2f}'.format)\n",
    "\n",
    "data_url = \"https://data.humdata.org/dataset/74163686-a029-4e27-8fbf-c5bfcd13f953/resource/c5ce40d6-07b1-4f36-955a-d6196436ff6b/download/emdat-country-profiles_2024_11_25.xlsx\"\n",
    "data = pd.read_excel(data_url, engine=\"openpyxl\")\n",
    "data"
   ]
  },
  {
   "cell_type": "markdown",
   "id": "e9751370",
   "metadata": {},
   "source": [
    "## Data Cleaning\n",
    "\n",
    "Entferne erste Zeile"
   ]
  },
  {
   "cell_type": "code",
   "execution_count": null,
   "id": "2b0a3698",
   "metadata": {
    "slideshow": {
     "slide_type": "-"
    }
   },
   "outputs": [],
   "source": [
    "data = data.drop(index=0)"
   ]
  },
  {
   "cell_type": "code",
   "execution_count": null,
   "id": "8262da20",
   "metadata": {},
   "outputs": [],
   "source": [
    "data.info()"
   ]
  },
  {
   "cell_type": "markdown",
   "id": "27d31bfb",
   "metadata": {},
   "source": [
    "Änderung des Datentyps für integeger und float Spalten"
   ]
  },
  {
   "cell_type": "code",
   "execution_count": null,
   "id": "5d5deef2",
   "metadata": {
    "slideshow": {
     "slide_type": "slide"
    }
   },
   "outputs": [],
   "source": [
    "cols = ['Year', 'Total Events', 'Total Affected', 'Total Deaths', 'Total Damage (USD, adjusted)']\n",
    "for col in cols:\n",
    "    data[col] = pd.to_numeric(data[col])"
   ]
  },
  {
   "cell_type": "code",
   "execution_count": null,
   "id": "0a134e4c",
   "metadata": {
    "scrolled": true
   },
   "outputs": [],
   "source": [
    "data.info()"
   ]
  },
  {
   "cell_type": "markdown",
   "id": "80edafb1",
   "metadata": {},
   "source": [
    "Entferne irrelevante Spalten, hier: *ISO, Disaster Group, Total Damage (USD, adjusted)*"
   ]
  },
  {
   "cell_type": "code",
   "execution_count": null,
   "id": "2841e65c",
   "metadata": {},
   "outputs": [],
   "source": [
    "cols = ['ISO', 'Disaster Group', 'Total Damage (USD, adjusted)', 'CPI']\n",
    "data.drop(cols, axis=1, inplace=True)"
   ]
  },
  {
   "cell_type": "code",
   "execution_count": 1,
   "id": "3348360e",
   "metadata": {},
   "outputs": [
    {
     "ename": "NameError",
     "evalue": "name 'data' is not defined",
     "output_type": "error",
     "traceback": [
      "\u001b[0;31m---------------------------------------------------------------------------\u001b[0m",
      "\u001b[0;31mNameError\u001b[0m                                 Traceback (most recent call last)",
      "Cell \u001b[0;32mIn[1], line 1\u001b[0m\n\u001b[0;32m----> 1\u001b[0m data\n",
      "\u001b[0;31mNameError\u001b[0m: name 'data' is not defined"
     ]
    }
   ],
   "source": [
    "data"
   ]
  },
  {
   "cell_type": "markdown",
   "id": "ce40a536",
   "metadata": {},
   "source": [
    "## Fehlende Werte - NaNs Values\n",
    "\n",
    "Wo fehlen Werte im Datensatz?\n",
    "Wie viele fehlen?"
   ]
  },
  {
   "cell_type": "code",
   "execution_count": null,
   "id": "d7265ae6",
   "metadata": {},
   "outputs": [],
   "source": [
    "len(data)"
   ]
  },
  {
   "cell_type": "markdown",
   "id": "d3699c46",
   "metadata": {},
   "source": [
    "#### Wie viele Werte pro Spalte sind NaN?"
   ]
  },
  {
   "cell_type": "code",
   "execution_count": null,
   "id": "6b05c717",
   "metadata": {},
   "outputs": [],
   "source": [
    "data.info()"
   ]
  },
  {
   "cell_type": "code",
   "execution_count": null,
   "id": "c00b5ddd",
   "metadata": {},
   "outputs": [],
   "source": [
    "data['Total Affected'].isnull()"
   ]
  },
  {
   "cell_type": "code",
   "execution_count": null,
   "id": "d624f100-c0dd-4552-b885-650073749935",
   "metadata": {},
   "outputs": [],
   "source": [
    "data['Total Affected'].isnull().sum()"
   ]
  },
  {
   "cell_type": "code",
   "execution_count": null,
   "id": "801e0007",
   "metadata": {},
   "outputs": [],
   "source": [
    "data.isnull()"
   ]
  },
  {
   "cell_type": "code",
   "execution_count": null,
   "id": "fa11bccb",
   "metadata": {},
   "outputs": [],
   "source": [
    "data.isnull().sum()"
   ]
  },
  {
   "cell_type": "markdown",
   "id": "49359a60",
   "metadata": {},
   "source": [
    "### Möglichkeiten zum Umgang mit fehlenden Werte\n",
    "\n",
    "- Zeilen mit fehlenden Werten entfernen\n",
    "- fehlende Werte ersetzen\n"
   ]
  },
  {
   "cell_type": "markdown",
   "id": "eb244f4c",
   "metadata": {},
   "source": [
    "#### Alle Zeilen mit NaN Werten entfernen\n",
    "\n",
    "`dropna()` "
   ]
  },
  {
   "cell_type": "code",
   "execution_count": null,
   "id": "65b84c5d",
   "metadata": {},
   "outputs": [],
   "source": [
    "clean_data = data.dropna()\n",
    "clean_data"
   ]
  },
  {
   "cell_type": "markdown",
   "id": "905d5c01",
   "metadata": {},
   "source": [
    "Entferne nur Zeilen die in einer bestimmten Spalte NaN Werte haben"
   ]
  },
  {
   "cell_type": "code",
   "execution_count": null,
   "id": "87de22bb",
   "metadata": {},
   "outputs": [],
   "source": [
    "clean_data = data.dropna(subset=['Disaster Subtype', 'Total Affected'])\n",
    "clean_data"
   ]
  },
  {
   "cell_type": "markdown",
   "id": "446724b7",
   "metadata": {},
   "source": [
    "### Fehlende Werte entfernen\n",
    "\n",
    "**Vorteile**\n",
    "- einfache Handhabung\n",
    "- verständliche Methodik\n",
    "\n",
    "\n",
    "**Nachteile**\n",
    "- ein großer Teil der Daten wird nicht ausgewertet\n",
    "- fehlende Werte können eine ganz andere Geschichte erzählen\n",
    "- die Konsistenz über unterschiedliche Fragestellungen hinweg muss sichergestellt sein\n"
   ]
  },
  {
   "cell_type": "markdown",
   "id": "349cc57d",
   "metadata": {},
   "source": [
    "### Fehlende Werte ersetzen\n",
    "\n",
    "Mit `.fillna()` können alle NaN Werte in einem DataFrame oder einer Series automatisch ersetzt werden.\n",
    "\n",
    "Das Argument `inplace=True` wendet die Methode direkt auf den DataFrame an."
   ]
  },
  {
   "cell_type": "code",
   "execution_count": null,
   "id": "7d0fc284",
   "metadata": {},
   "outputs": [],
   "source": [
    "data.fillna(0)"
   ]
  },
  {
   "cell_type": "markdown",
   "id": "3a963197",
   "metadata": {},
   "source": [
    "Welche Werte für Total Affected, Total Deaths oder Total Damage?\n",
    "\n",
    "- 0\n",
    "- arithmetisches Mittel\n",
    "- Median\n",
    "- Berechnung aus anderen Spalten"
   ]
  },
  {
   "cell_type": "code",
   "execution_count": null,
   "id": "219263af",
   "metadata": {},
   "outputs": [],
   "source": [
    "data[\"Total Deaths\"].fillna(0, inplace=True)"
   ]
  },
  {
   "cell_type": "code",
   "execution_count": null,
   "id": "c06714bb",
   "metadata": {},
   "outputs": [],
   "source": [
    "data[\"Total Affected\"].fillna(data['Total Deaths'], inplace=True)"
   ]
  },
  {
   "cell_type": "code",
   "execution_count": null,
   "id": "a213720c-6273-4f76-8800-e3bea312a578",
   "metadata": {},
   "outputs": [],
   "source": [
    "data['Total Damage (USD, original)'].mean()"
   ]
  },
  {
   "cell_type": "code",
   "execution_count": null,
   "id": "84f28603",
   "metadata": {},
   "outputs": [],
   "source": [
    "data['Total Damage (USD, original)'] = data['Total Damage (USD, original)'].fillna(data['Total Damage (USD, original)'].mean())"
   ]
  },
  {
   "cell_type": "code",
   "execution_count": null,
   "id": "f0919c85",
   "metadata": {},
   "outputs": [],
   "source": [
    "data"
   ]
  },
  {
   "cell_type": "markdown",
   "id": "98ac5334",
   "metadata": {},
   "source": [
    "### Fehlende Werte ersetzen\n",
    "\n",
    "**Vorteile**\n",
    "- Verwendung möglichst aller Daten\n",
    "- genaue Analyse der fehlenden Werte kann zu neuen Erkenntnissen führen\n",
    "\n",
    "\n",
    "**Nachteile**\n",
    "- keine Standard Methodik\n",
    "- eventuelle Verfälschung der Daten\n",
    "\n"
   ]
  },
  {
   "cell_type": "markdown",
   "id": "45654a46",
   "metadata": {},
   "source": [
    "## Duplikate\n",
    "\n",
    "`.duplicated()` findet Zeilen mit genau den gleichen Werte.\n",
    "\n",
    "Mit `drop_duplicates()` können diese entfernt werden."
   ]
  },
  {
   "cell_type": "code",
   "execution_count": null,
   "id": "317407a8",
   "metadata": {
    "scrolled": true
   },
   "outputs": [],
   "source": [
    "data.duplicated().sum()"
   ]
  },
  {
   "cell_type": "code",
   "execution_count": null,
   "id": "a94051aa",
   "metadata": {},
   "outputs": [],
   "source": [
    "data.drop_duplicates()"
   ]
  },
  {
   "cell_type": "markdown",
   "id": "4ddd6d49",
   "metadata": {},
   "source": [
    "## Daten speichern & Neu laden"
   ]
  },
  {
   "cell_type": "code",
   "execution_count": null,
   "id": "4978504c",
   "metadata": {},
   "outputs": [],
   "source": [
    "data.to_csv('../../data/clean_emdat.csv')"
   ]
  },
  {
   "cell_type": "code",
   "execution_count": null,
   "id": "9f9833ea-5a6d-4a6b-b565-8b355e4f4913",
   "metadata": {},
   "outputs": [],
   "source": []
  }
 ],
 "metadata": {
  "celltoolbar": "Slideshow",
  "kernelspec": {
   "display_name": "Python 3 (ipykernel)",
   "language": "python",
   "name": "python3"
  },
  "language_info": {
   "codemirror_mode": {
    "name": "ipython",
    "version": 3
   },
   "file_extension": ".py",
   "mimetype": "text/x-python",
   "name": "python",
   "nbconvert_exporter": "python",
   "pygments_lexer": "ipython3",
   "version": "3.11.7"
  }
 },
 "nbformat": 4,
 "nbformat_minor": 5
}
