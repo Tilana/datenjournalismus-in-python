{
 "cells": [
  {
   "cell_type": "markdown",
   "id": "bf032515",
   "metadata": {},
   "source": [
    "# Dictionaries\n",
    "\n",
    "Ein Dictionary ist ein weiterer Datentyp in Python, der es ermöglicht strukturierte Daten darzustellen.\n",
    "Übersetzt heißt Dictionary Wörterbuch. Dieser Funktion ähnlich ermöglichen Dictionaries es, Objektpaare abzubilden.\n",
    "\n",
    "\n",
    "## Syntax\n",
    "\n",
    "Die Objektpaare bestehen jeweils aus einem `Key` (Schlüssel) und einem `Value` (Wert).\n",
    "\n",
    "\n",
    " Mit dem Schlüssel kann man auf den Wert zugreifen.\n",
    " \n"
   ]
  },
  {
   "cell_type": "markdown",
   "id": "c72b77bf",
   "metadata": {},
   "source": [
    "### Beispiele"
   ]
  },
  {
   "cell_type": "code",
   "execution_count": 24,
   "id": "7988bb18",
   "metadata": {},
   "outputs": [
    {
     "name": "stdout",
     "output_type": "stream",
     "text": [
      "{'Baum': 'tree', 'Haus': 'house', 'Auto': 'car'}\n"
     ]
    },
    {
     "data": {
      "text/plain": [
       "dict"
      ]
     },
     "execution_count": 24,
     "metadata": {},
     "output_type": "execute_result"
    }
   ],
   "source": [
    "# Deutsch - Englisch WÖrterbuch\n",
    "woerterbuch = {'Baum': 'tree', 'Haus': 'house', 'Auto': 'car'} \n",
    "\n",
    "print(woerterbuch)\n",
    "type(woerterbuch)"
   ]
  },
  {
   "cell_type": "code",
   "execution_count": 25,
   "id": "a801e324",
   "metadata": {},
   "outputs": [
    {
     "data": {
      "text/plain": [
       "'house'"
      ]
     },
     "execution_count": 25,
     "metadata": {},
     "output_type": "execute_result"
    }
   ],
   "source": [
    "woerterbuch['Haus']"
   ]
  },
  {
   "cell_type": "code",
   "execution_count": 2,
   "id": "c565ab6a",
   "metadata": {},
   "outputs": [],
   "source": [
    "# Städte und ihre Einwohner:innen\n",
    "städte_einwohner = {\"Berlin\": 3_669_491,\n",
    "                    \"Hamburg\": 1_847_253,\n",
    "                    \"München\": 1_484_226,\n",
    "                    \"Köln\": 1_087_863,\n",
    "                    \"Frankfurt am Main\": 763_380,\n",
    "                    \"Stuttgart\": 635_911,\n",
    "                    \"Düsseldorf\": 621_877,\n",
    "                    \"Leipzig\": 593_145,\n",
    "                    \"Dortmund\": 588_250,\n",
    "                    \"Essen\": 582_760,\n",
    "                    \"Bremen\": 567_559,\n",
    "                    \"Dresden\": 556_780,\n",
    "                    \"Hannover\": 536_925,\n",
    "                    \"Nürnberg\": 518_370}"
   ]
  },
  {
   "cell_type": "code",
   "execution_count": 3,
   "id": "e5c93b78",
   "metadata": {},
   "outputs": [
    {
     "data": {
      "text/plain": [
       "556780"
      ]
     },
     "execution_count": 3,
     "metadata": {},
     "output_type": "execute_result"
    }
   ],
   "source": [
    "städte_einwohner['Dresden']"
   ]
  },
  {
   "cell_type": "markdown",
   "id": "e1dfbbb0",
   "metadata": {},
   "source": [
    "## Schlüssel prüfen\n",
    "\n",
    "Der Zugriff auf einen nicht vorhandene Schlüssel ergibt einen KeyError:"
   ]
  },
  {
   "cell_type": "code",
   "execution_count": 4,
   "id": "8118b895",
   "metadata": {},
   "outputs": [
    {
     "ename": "KeyError",
     "evalue": "'Konstanz'",
     "output_type": "error",
     "traceback": [
      "\u001b[0;31m---------------------------------------------------------------------------\u001b[0m",
      "\u001b[0;31mKeyError\u001b[0m                                  Traceback (most recent call last)",
      "Cell \u001b[0;32mIn [4], line 2\u001b[0m\n\u001b[1;32m      1\u001b[0m \u001b[38;5;66;03m# Zugriff auf nicht vorhandene Schlüssel ergibt einen KeyError\u001b[39;00m\n\u001b[0;32m----> 2\u001b[0m städte_einwohner[\u001b[38;5;124m\"\u001b[39m\u001b[38;5;124mKonstanz\u001b[39m\u001b[38;5;124m\"\u001b[39m]\n",
      "\u001b[0;31mKeyError\u001b[0m: 'Konstanz'"
     ]
    }
   ],
   "source": [
    "städte_einwohner[\"Konstanz\"]"
   ]
  },
  {
   "cell_type": "code",
   "execution_count": null,
   "id": "5030c756",
   "metadata": {},
   "outputs": [],
   "source": [
    "Um das zu verhindern kann mit `in` oder `not in` die Existenz eines Schlüssels in einem Dictionary überprüft werden"
   ]
  },
  {
   "cell_type": "code",
   "execution_count": 13,
   "id": "8c1f914b",
   "metadata": {},
   "outputs": [
    {
     "data": {
      "text/plain": [
       "False"
      ]
     },
     "execution_count": 13,
     "metadata": {},
     "output_type": "execute_result"
    }
   ],
   "source": [
    "# in\n",
    "'Konstanz' in städte_einwohner"
   ]
  },
  {
   "cell_type": "code",
   "execution_count": 16,
   "id": "f0b25471",
   "metadata": {},
   "outputs": [
    {
     "name": "stdout",
     "output_type": "stream",
     "text": [
      "Konstanz nicht in Dictionary\n"
     ]
    }
   ],
   "source": [
    "if 'Konstanz' not in städte_einwohner:\n",
    "    print('Konstanz nicht in Dictionary')\n",
    "else:\n",
    "    print(städte_einwohner['Konstanz'])"
   ]
  },
  {
   "cell_type": "markdown",
   "id": "9f0fa2df",
   "metadata": {},
   "source": [
    "## Leeres Dictionary erstellen\n",
    "\n",
    "Es gib zwei Möglichkeiten ein leeres Dictionary zu erstellen:"
   ]
  },
  {
   "cell_type": "code",
   "execution_count": 9,
   "id": "cc0b4c0a",
   "metadata": {},
   "outputs": [
    {
     "data": {
      "text/plain": [
       "dict"
      ]
     },
     "execution_count": 9,
     "metadata": {},
     "output_type": "execute_result"
    }
   ],
   "source": [
    "# Leeres Dictionary\n",
    "empty_dict = {}\n",
    "type(empty_dict)"
   ]
  },
  {
   "cell_type": "code",
   "execution_count": 10,
   "id": "17c0b416",
   "metadata": {},
   "outputs": [
    {
     "data": {
      "text/plain": [
       "dict"
      ]
     },
     "execution_count": 10,
     "metadata": {},
     "output_type": "execute_result"
    }
   ],
   "source": [
    "# Leeres Dictionary\n",
    "empty_dict = dict()\n",
    "type(empty_dict)"
   ]
  },
  {
   "cell_type": "markdown",
   "id": "db22c032",
   "metadata": {},
   "source": [
    "## Hinzufügen / Überschreiben der Schlüssel-Objekt Paare\n",
    "\n",
    "Schlüssel-Objekt Paare können mit dem folgenden Aufruf überschrieben oder neu hinzugefügt werden:"
   ]
  },
  {
   "cell_type": "code",
   "execution_count": 17,
   "id": "1fb29d01",
   "metadata": {},
   "outputs": [
    {
     "name": "stdout",
     "output_type": "stream",
     "text": [
      "{}\n",
      "{'Tisch': 'table'}\n"
     ]
    }
   ],
   "source": [
    "# Definition des Wörterbuchs\n",
    "woerterbuch = {} \n",
    "print(woerterbuch)\n",
    "\n",
    "# Hinzufügen eines weiteren Eintrags\n",
    "woerterbuch['Tisch'] = 'table'\n",
    "print(woerterbuch)"
   ]
  },
  {
   "cell_type": "code",
   "execution_count": 7,
   "id": "2335faf3",
   "metadata": {},
   "outputs": [
    {
     "name": "stdout",
     "output_type": "stream",
     "text": [
      "{'Baum': 'tree', 'Haus': 'Huse', 'Auto': 'car'}\n",
      "{'Baum': 'tree', 'Haus': 'house', 'Auto': 'car'}\n"
     ]
    }
   ],
   "source": [
    "# Definition des Wörterbuchs\n",
    "woerterbuch = {'Baum': 'tree', 'Haus': 'Huse', 'Auto': 'car'} \n",
    "print(woerterbuch)\n",
    "\n",
    "# Korrektur eines Eintrags\n",
    "woerterbuch['Haus'] = 'house'\n",
    "print(woerterbuch)"
   ]
  },
  {
   "cell_type": "markdown",
   "id": "7dfbf8cc",
   "metadata": {},
   "source": [
    "## Schlüssel-Objekt Paar löschen\n",
    "\n",
    "Mit `del <dict>[<key>]` wird der *key* und der zugehörige *value* aus dem Dictionary gelöscht."
   ]
  },
  {
   "cell_type": "code",
   "execution_count": 18,
   "id": "24228f50",
   "metadata": {},
   "outputs": [
    {
     "name": "stdout",
     "output_type": "stream",
     "text": [
      "{'Baum': 'tree', 'Haus': 'house', 'Auto': 'car'}\n",
      "{'Haus': 'house', 'Auto': 'car'}\n"
     ]
    }
   ],
   "source": [
    "# Definition des Wörterbuchs\n",
    "woerterbuch = {'Baum': 'tree', 'Haus': 'house', 'Auto': 'car'} \n",
    "print(woerterbuch)\n",
    "\n",
    "# Löschen eines Eintrags\n",
    "del woerterbuch['Baum']\n",
    "print(woerterbuch)"
   ]
  },
  {
   "cell_type": "markdown",
   "id": "6e703b05",
   "metadata": {},
   "source": [
    "Ohne *key* wird das gesamte Dictionary gelöscht."
   ]
  },
  {
   "cell_type": "code",
   "execution_count": 20,
   "id": "96d6c2b4",
   "metadata": {},
   "outputs": [
    {
     "ename": "NameError",
     "evalue": "name 'woerterbuch' is not defined",
     "output_type": "error",
     "traceback": [
      "\u001b[0;31m---------------------------------------------------------------------------\u001b[0m",
      "\u001b[0;31mNameError\u001b[0m                                 Traceback (most recent call last)",
      "Cell \u001b[0;32mIn [20], line 3\u001b[0m\n\u001b[1;32m      1\u001b[0m \u001b[38;5;66;03m# Löschen des dictionaries\u001b[39;00m\n\u001b[1;32m      2\u001b[0m \u001b[38;5;28;01mdel\u001b[39;00m woerterbuch\n\u001b[0;32m----> 3\u001b[0m \u001b[38;5;28mprint\u001b[39m(woerterbuch)\n",
      "\u001b[0;31mNameError\u001b[0m: name 'woerterbuch' is not defined"
     ]
    }
   ],
   "source": [
    "# Löschen des dictionaries\n",
    "del woerterbuch\n",
    "print(woerterbuch)"
   ]
  },
  {
   "cell_type": "markdown",
   "id": "1e33adf3",
   "metadata": {},
   "source": [
    "## Durch Dictionaries iterieren\n",
    "\n",
    "Um auf alle Einträge eines Dictionaries nacheinander zuzugreifen kann durch Dictionaries iteriert werden."
   ]
  },
  {
   "cell_type": "code",
   "execution_count": 22,
   "id": "2fc24671",
   "metadata": {},
   "outputs": [
    {
     "name": "stdout",
     "output_type": "stream",
     "text": [
      "In Berlin wohnen 3669491 Menschen.\n",
      "In Hamburg wohnen 1847253 Menschen.\n",
      "In München wohnen 1484226 Menschen.\n",
      "In Köln wohnen 1087863 Menschen.\n",
      "In Frankfurt am Main wohnen 763380 Menschen.\n"
     ]
    }
   ],
   "source": [
    "städte_einwohner = {\"Berlin\": 3_669_491,\n",
    "                    \"Hamburg\": 1_847_253,\n",
    "                    \"München\": 1_484_226,\n",
    "                    \"Köln\": 1_087_863,\n",
    "                    \"Frankfurt am Main\": 763_380}"
   ]
  },
  {
   "cell_type": "code",
   "execution_count": null,
   "id": "cd29192d",
   "metadata": {},
   "outputs": [],
   "source": [
    "# Möglichkeit 1\n",
    "for stadt in städte_einwohner:\n",
    "    einwohner = städte_einwohner[stadt\n",
    "    print(f'In {stadt} wohnen {einwohner} Menschen.')"
   ]
  },
  {
   "cell_type": "code",
   "execution_count": 23,
   "id": "fb881860",
   "metadata": {},
   "outputs": [
    {
     "name": "stdout",
     "output_type": "stream",
     "text": [
      "In Berlin wohnen 3669491 Menschen.\n",
      "In Hamburg wohnen 1847253 Menschen.\n",
      "In München wohnen 1484226 Menschen.\n",
      "In Köln wohnen 1087863 Menschen.\n",
      "In Frankfurt am Main wohnen 763380 Menschen.\n"
     ]
    }
   ],
   "source": [
    "# Möglichkeit 2\n",
    "for stadt, einwohner in städte_einwohner.items():\n",
    "    print(f'In {stadt} wohnen {einwohner} Menschen.')"
   ]
  },
  {
   "cell_type": "markdown",
   "id": "027b1a3f",
   "metadata": {},
   "source": [
    "# Dictionary Methoden\n",
    "\n",
    "Die folgenden Methoden sind für Dictionaries verfügbar:\n",
    "\n",
    " |  Methode  | \tBeschreibung | \n",
    "|----------|:-------------  |\n",
    " | .clear()  | \tLöscht alle Einträge des Dictionarys  | \n",
    " | .copy() \t | Erstellt eine Kopie | \n",
    " | .fromkeys()  | \tErstellt eine Kopie aus den Schlüsseln eines Dictionary | \n",
    " | .get() \t | Liest einen Wert zu einem übergebenen Schlüssel aus  | \n",
    " | .items()  | \tGibt alles Schlüssel und Werte aus | \n",
    " | .keys()  | \tZeit die Schlüssel eines Dictionary an  | \n",
    " | .pop()  | \tlöscht den Eintrag aus dem Dictionary des übergebenen Schlüssels und liefert dessen Inhalt als Rückgabewert  | \n",
    " | .popitem()  | \tLiefert einen Eintrag als Tupel zurück und löscht den Eintrag aus dem Dictionary (im Gegensatz zu pop() muss kein Schlüssel übergeben werden)  | \n",
    " | .setdefault()  | \tliefert den Wert eines Eintrags aus dem Dictionary, wenn der Schlüssel vorhanden ist. Ist kein entsprechender Schlüssel vorhanden, wird ein Schlüssel mit dem Wert im Dictionary gespeichert  | \n",
    " | .update()  | \tAktualisiert einen Wert, wenn der Schlüssel vorhanden ist. Wenn noch kein entsprechender Schlüssel vorhanden ist, wird Wert und Schlüssel eingetragen  | \n",
    " | .values()  | \tLiefert alle Werte des Dictionary zurück (ohne Schlüssel)  | \n"
   ]
  }
 ],
 "metadata": {
  "kernelspec": {
   "display_name": "Python 3 (ipykernel)",
   "language": "python",
   "name": "python3"
  },
  "language_info": {
   "codemirror_mode": {
    "name": "ipython",
    "version": 3
   },
   "file_extension": ".py",
   "mimetype": "text/x-python",
   "name": "python",
   "nbconvert_exporter": "python",
   "pygments_lexer": "ipython3",
   "version": "3.9.15"
  }
 },
 "nbformat": 4,
 "nbformat_minor": 5
}
