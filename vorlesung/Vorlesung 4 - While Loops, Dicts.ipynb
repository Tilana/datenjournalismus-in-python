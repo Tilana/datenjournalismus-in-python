{
 "cells": [
  {
   "cell_type": "markdown",
   "id": "d9a3430d",
   "metadata": {
    "slideshow": {
     "slide_type": "slide"
    }
   },
   "source": [
    "# Datenjournalismus in Python - \n",
    "# Eine praktische Einführung in die Programmierung\n",
    "\n",
    "\n",
    "### Natalie Widmann\n",
    "\n",
    "\n",
    "\n",
    "\n",
    "Wintersemester 2022 / 2023\n",
    "\n",
    "\n",
    "Universität Leipzig\n",
    "\n",
    "\n",
    "\n"
   ]
  },
  {
   "cell_type": "markdown",
   "id": "7e785d50",
   "metadata": {
    "slideshow": {
     "slide_type": "slide"
    }
   },
   "source": [
    "# Organisatorische Hinweise\n",
    "\n",
    "## 1. Benotetes Übungsblatt\n",
    "\n",
    "Das Übungsblatt wird direkt nach der Vorlesung auf Moodle hochgeladen. Ihr habt bis nächste Woche Donnerstag 24 Uhr Zeit für die Bearbeitung. In diesem Zeitraum muss es auf Moodle als *.py* oder *.ipynb* file hochgeladen werden.\n",
    "\n",
    "\n",
    "\n",
    "\n"
   ]
  },
  {
   "cell_type": "markdown",
   "id": "99a4f1a1",
   "metadata": {
    "slideshow": {
     "slide_type": "fragment"
    }
   },
   "source": [
    "## Feedback\n",
    "\n",
    "- mehr praktische Übungen\n",
    "- Unruhe während der Vorlesung\n",
    "- Technikprobleme beim Laden der Vorlesungsslides"
   ]
  },
  {
   "cell_type": "markdown",
   "id": "ddd2c07b",
   "metadata": {
    "slideshow": {
     "slide_type": "slide"
    }
   },
   "source": [
    "# Vorlesung 4\n",
    "\n",
    "## While Schleife, Dictionaries, Flow Control\n",
    "\n",
    "Wir analysieren die Nebeneinkünfte von Politiker:innen und lernen dabei **Dictionaries** als neuen Datentyp kennen.\n",
    "Wir werden mit Listen und For-Schleifen programmieren und **While-Schleifen**, sowie nützliche Kontrollmechanismen dieser kennenlernenzur.\n",
    "\n"
   ]
  },
  {
   "cell_type": "markdown",
   "id": "89fcaa4b",
   "metadata": {
    "slideshow": {
     "slide_type": "slide"
    }
   },
   "source": [
    "![Correctiv Recherche](../imgs/nebeneinkünfte.png)\n",
    "https://correctiv.org/aktuelles/wirtschaft/2021/06/24/nebeneinkuenfte-kommunalpolitiker-in-rheinland-pfalz-auf-gehaltslisten-von-rwe/#tabelle"
   ]
  },
  {
   "cell_type": "markdown",
   "id": "95b10944",
   "metadata": {
    "slideshow": {
     "slide_type": "slide"
    }
   },
   "source": [
    "## Beispieldaten\n",
    "\n",
    "Ein Einblick in die Nebeneinkünfte im Jahr 2020 von Manfred Schur (CDU), Landrat von Cochem-Zell."
   ]
  },
  {
   "cell_type": "code",
   "execution_count": 3,
   "id": "554e8550",
   "metadata": {
    "slideshow": {
     "slide_type": "fragment"
    }
   },
   "outputs": [],
   "source": [
    "arbeitgeber = ['Altlastenzweckverband Tierische Nebenprodukte', 'Zweckverband Tierische Nebenprodukte Südwest', '(Zweckverband) Sparkasse Mittelmosel - Eifel Mosel Hunsrück', 'Sparkassenverband RP', 'RWE', 'Planungsgemeinschaft Mittelrhein-Westerwald', 'Westenergie', 'Abfallzweckverband Rhein-Mosel-Eifel', 'Rheinische Zusatzversorgungskasse', 'Agentur für Arbeit']\n",
    "verdienst = [8073, 8073, 6038, 5575, 5200, 2195, 2000, 600, 194, 26]"
   ]
  },
  {
   "cell_type": "markdown",
   "id": "db9e4517",
   "metadata": {
    "slideshow": {
     "slide_type": "slide"
    }
   },
   "source": [
    "### Überblick:\n",
    "\n",
    "1. Wie viel Geld verdient Manfred Schur an Nebeneinkünften insgesamt?\n",
    "2. Wie viel Geld erhält Manfred Schur von RWE?"
   ]
  },
  {
   "cell_type": "code",
   "execution_count": 9,
   "id": "60d89739",
   "metadata": {
    "slideshow": {
     "slide_type": "fragment"
    }
   },
   "outputs": [
    {
     "data": {
      "text/plain": [
       "37974"
      ]
     },
     "execution_count": 9,
     "metadata": {},
     "output_type": "execute_result"
    }
   ],
   "source": [
    "# 1.\n",
    "sum(verdienst)"
   ]
  },
  {
   "cell_type": "code",
   "execution_count": 7,
   "id": "e443fc52",
   "metadata": {
    "slideshow": {
     "slide_type": "fragment"
    }
   },
   "outputs": [
    {
     "name": "stdout",
     "output_type": "stream",
     "text": [
      "5200\n"
     ]
    }
   ],
   "source": [
    "# 2.\n",
    "rwe_idx = arbeitgeber.index('RWE')\n",
    "print(verdienst[rwe_idx])"
   ]
  },
  {
   "cell_type": "markdown",
   "id": "bf032515",
   "metadata": {
    "slideshow": {
     "slide_type": "slide"
    }
   },
   "source": [
    "\n",
    "# Dictionaries\n",
    "\n",
    "Mit **Dictionaries** können die Daten übersichtlicher dargestellt und verarbeitet werden.\n",
    "\n",
    "Ein Dictionary ist ein weiterer Datentyp in Python, der es ermöglicht strukturierte Daten darzustellen.\n",
    "Übersetzt heißt Dictionary Wörterbuch. Dieser Funktion ähnlich ermöglichen Dictionaries es, Objektpaare abzubilden.\n",
    "\n",
    "\n",
    "## Syntax\n",
    "\n",
    "Die Objektpaare bestehen jeweils aus einem `Key` (Schlüssel) und einem `Value` (Wert).\n",
    "\n",
    "\n",
    " Mit dem Schlüssel kann man auf den Wert zugreifen.\n",
    " \n"
   ]
  },
  {
   "cell_type": "code",
   "execution_count": 10,
   "id": "7988bb18",
   "metadata": {
    "slideshow": {
     "slide_type": "slide"
    }
   },
   "outputs": [
    {
     "name": "stdout",
     "output_type": "stream",
     "text": [
      "{'Baum': 'tree', 'Haus': 'house', 'Auto': 'car'}\n"
     ]
    },
    {
     "data": {
      "text/plain": [
       "dict"
      ]
     },
     "execution_count": 10,
     "metadata": {},
     "output_type": "execute_result"
    }
   ],
   "source": [
    "# Deutsch - Englisch WÖrterbuch\n",
    "woerterbuch = {'Baum': 'tree', 'Haus': 'house', 'Auto': 'car'} \n",
    "\n",
    "print(woerterbuch)\n",
    "type(woerterbuch)"
   ]
  },
  {
   "cell_type": "code",
   "execution_count": 11,
   "id": "a801e324",
   "metadata": {
    "slideshow": {
     "slide_type": "fragment"
    }
   },
   "outputs": [
    {
     "data": {
      "text/plain": [
       "'house'"
      ]
     },
     "execution_count": 11,
     "metadata": {},
     "output_type": "execute_result"
    }
   ],
   "source": [
    "woerterbuch['Haus']"
   ]
  },
  {
   "cell_type": "code",
   "execution_count": 12,
   "id": "c565ab6a",
   "metadata": {
    "slideshow": {
     "slide_type": "slide"
    }
   },
   "outputs": [],
   "source": [
    "# Städte und ihre Einwohner:innen\n",
    "städte_einwohner = {\"Berlin\": 3_669_491,\n",
    "                    \"Hamburg\": 1_847_253,\n",
    "                    \"München\": 1_484_226,\n",
    "                    \"Köln\": 1_087_863,\n",
    "                    \"Frankfurt am Main\": 763_380,\n",
    "                    \"Stuttgart\": 635_911,\n",
    "                    \"Düsseldorf\": 621_877,\n",
    "                    \"Leipzig\": 593_145,\n",
    "                    \"Dortmund\": 588_250,\n",
    "                    \"Essen\": 582_760,\n",
    "                    \"Bremen\": 567_559,\n",
    "                    \"Dresden\": 556_780,\n",
    "                    \"Hannover\": 536_925,\n",
    "                    \"Nürnberg\": 518_370}"
   ]
  },
  {
   "cell_type": "code",
   "execution_count": 13,
   "id": "e5c93b78",
   "metadata": {
    "slideshow": {
     "slide_type": "fragment"
    }
   },
   "outputs": [
    {
     "data": {
      "text/plain": [
       "556780"
      ]
     },
     "execution_count": 13,
     "metadata": {},
     "output_type": "execute_result"
    }
   ],
   "source": [
    "städte_einwohner['Dresden']"
   ]
  },
  {
   "cell_type": "markdown",
   "id": "027b1a3f",
   "metadata": {
    "slideshow": {
     "slide_type": "slide"
    }
   },
   "source": [
    "# Dictionary Methoden\n",
    "\n",
    "Die folgenden Methoden sind für Dictionaries verfügbar:\n",
    "\n",
    " |  Methode  | \tBeschreibung | \n",
    "|----------|:-------------  |\n",
    " | .clear()  | \tLöscht alle Einträge des Dictionarys  | \n",
    " | .copy() \t | Erstellt eine Kopie | \n",
    " | .fromkeys()  | \tErstellt eine Kopie aus den Schlüsseln eines Dictionary | \n",
    " | .get() \t | Liest einen Wert zu einem übergebenen Schlüssel aus  | \n",
    " | .items()  | \tGibt alles Schlüssel und Werte aus | \n",
    " | .keys()  | \tZeit die Schlüssel eines Dictionary an  | \n",
    " | .pop()  | \tlöscht den Eintrag aus dem Dictionary des übergebenen Schlüssels und liefert dessen Inhalt als Rückgabewert  | \n",
    " | .popitem()  | \tLiefert einen Eintrag als Tupel zurück und löscht den Eintrag aus dem Dictionary (im Gegensatz zu pop() muss kein Schlüssel übergeben werden)  | \n",
    " | .setdefault()  | \tliefert den Wert eines Eintrags aus dem Dictionary, wenn der Schlüssel vorhanden ist. Ist kein entsprechender Schlüssel vorhanden, wird ein Schlüssel mit dem Wert im Dictionary gespeichert  | \n",
    " | .update()  | \tAktualisiert einen Wert, wenn der Schlüssel vorhanden ist. Wenn noch kein entsprechender Schlüssel vorhanden ist, wird Wert und Schlüssel eingetragen  | \n",
    " | .values()  | \tLiefert alle Werte des Dictionary zurück (ohne Schlüssel)  | \n"
   ]
  },
  {
   "cell_type": "code",
   "execution_count": 14,
   "id": "31435fa9",
   "metadata": {
    "slideshow": {
     "slide_type": "slide"
    }
   },
   "outputs": [
    {
     "name": "stdout",
     "output_type": "stream",
     "text": [
      "dict_keys(['Berlin', 'Hamburg', 'München', 'Köln', 'Frankfurt am Main', 'Stuttgart', 'Düsseldorf', 'Leipzig', 'Dortmund', 'Essen', 'Bremen', 'Dresden', 'Hannover', 'Nürnberg'])\n"
     ]
    }
   ],
   "source": [
    "print(städte_einwohner.keys())"
   ]
  },
  {
   "cell_type": "code",
   "execution_count": 15,
   "id": "55a04c76",
   "metadata": {
    "slideshow": {
     "slide_type": "fragment"
    }
   },
   "outputs": [
    {
     "name": "stdout",
     "output_type": "stream",
     "text": [
      "dict_values([3669491, 1847253, 1484226, 1087863, 763380, 635911, 621877, 593145, 588250, 582760, 567559, 556780, 536925, 518370])\n"
     ]
    }
   ],
   "source": [
    "print(städte_einwohner.values())"
   ]
  },
  {
   "cell_type": "code",
   "execution_count": 16,
   "id": "5beda2a2",
   "metadata": {
    "slideshow": {
     "slide_type": "fragment"
    }
   },
   "outputs": [
    {
     "name": "stdout",
     "output_type": "stream",
     "text": [
      "dict_items([('Berlin', 3669491), ('Hamburg', 1847253), ('München', 1484226), ('Köln', 1087863), ('Frankfurt am Main', 763380), ('Stuttgart', 635911), ('Düsseldorf', 621877), ('Leipzig', 593145), ('Dortmund', 588250), ('Essen', 582760), ('Bremen', 567559), ('Dresden', 556780), ('Hannover', 536925), ('Nürnberg', 518370)])\n"
     ]
    }
   ],
   "source": [
    "print(städte_einwohner.items())"
   ]
  },
  {
   "cell_type": "markdown",
   "id": "275fabd1",
   "metadata": {
    "slideshow": {
     "slide_type": "slide"
    }
   },
   "source": [
    "### Zurück zu den Nebeneinkünften von Landräten\n",
    "\n",
    "Daten als Dictionary dargestellt"
   ]
  },
  {
   "cell_type": "code",
   "execution_count": 18,
   "id": "f9e151fa",
   "metadata": {
    "slideshow": {
     "slide_type": "fragment"
    }
   },
   "outputs": [],
   "source": [
    "nebeneinkünfte = {'Altlastenzweckverband Tierische Nebenprodukte': 8073,\n",
    "                  'Zweckverband Tierische Nebenprodukte Südwest': 8073,\n",
    "                  '(Zweckverband) Sparkasse Mittelmosel - Eifel Mosel Hunsrück': 6038,\n",
    "                  'Sparkassenverband RP': 5575,\n",
    "                  'RWE': 5200,\n",
    "                  'Planungsgemeinschaft Mittelrhein-Westerwald': 2195,\n",
    "                  'Westenergie': 2000,\n",
    "                  'Abfallzweckverband Rhein-Mosel-Eifel': 600,\n",
    "                  'Rheinische Zusatzversorgungskasse': 194,\n",
    "                  'Agentur für Arbeit': 26}"
   ]
  },
  {
   "cell_type": "markdown",
   "id": "2907754f",
   "metadata": {
    "slideshow": {
     "slide_type": "slide"
    }
   },
   "source": [
    "### Überblick:\n",
    "\n",
    "1. Wie viel Geld verdient Manfred Schur an Nebeneinkünften insgesamt?\n",
    "2. Wie viel Geld erhält Manfred Schur von RWE?"
   ]
  },
  {
   "cell_type": "code",
   "execution_count": 19,
   "id": "476814cf",
   "metadata": {
    "slideshow": {
     "slide_type": "fragment"
    }
   },
   "outputs": [
    {
     "name": "stdout",
     "output_type": "stream",
     "text": [
      "37974\n"
     ]
    }
   ],
   "source": [
    "# 1. Wie viel Geld verdient Manfred Schur an Nebeneinkünften insgesamt?\n",
    "print(sum(nebeneinkünfte.values()))"
   ]
  },
  {
   "cell_type": "code",
   "execution_count": 25,
   "id": "841308c6",
   "metadata": {
    "slideshow": {
     "slide_type": "fragment"
    }
   },
   "outputs": [
    {
     "name": "stdout",
     "output_type": "stream",
     "text": [
      "5200\n",
      "dict_keys(['Altlastenzweckverband Tierische Nebenprodukte', 'Zweckverband Tierische Nebenprodukte Südwest', '(Zweckverband) Sparkasse Mittelmosel - Eifel Mosel Hunsrück', 'Sparkassenverband RP', 'RWE', 'Planungsgemeinschaft Mittelrhein-Westerwald', 'Westenergie', 'Abfallzweckverband Rhein-Mosel-Eifel', 'Rheinische Zusatzversorgungskasse', 'Agentur für Arbeit'])\n"
     ]
    }
   ],
   "source": [
    "# 2. Wie viel Geld erhält Manfred Schur von\n",
    "print(nebeneinkünfte['RWE'])"
   ]
  },
  {
   "cell_type": "markdown",
   "id": "440ccd86",
   "metadata": {
    "slideshow": {
     "slide_type": "slide"
    }
   },
   "source": [
    "## Verschachtelte Dictionaries ....\n",
    "\n",
    "\n",
    "\n",
    "Ein Einblick in die Nebeneinkünfte im Jahr 2020 von Manfred Schur (CDU), Landrat von Cochem-Zell."
   ]
  },
  {
   "cell_type": "code",
   "execution_count": 31,
   "id": "79a51afb",
   "metadata": {
    "slideshow": {
     "slide_type": "fragment"
    }
   },
   "outputs": [],
   "source": [
    "data_cochemzell = {\n",
    "                    'landrat': 'Manfred Schur',\n",
    "                    'partei': 'CDU',\n",
    "                    'nebeneinkünfte': {'Altlastenzweckverband Tierische Nebenprodukte': 8073,\n",
    "                                      'Zweckverband Tierische Nebenprodukte Südwest': 8073,\n",
    "                                      '(Zweckverband) Sparkasse Mittelmosel - Eifel Mosel Hunsrück': 6038,\n",
    "                                      'Sparkassenverband RP': 5575,\n",
    "                                      'RWE': 5200,\n",
    "                                      'Planungsgemeinschaft Mittelrhein-Westerwald': 2195,\n",
    "                                      'Westenergie': 2000,\n",
    "                                      'Abfallzweckverband Rhein-Mosel-Eifel': 600,\n",
    "                                      'Rheinische Zusatzversorgungskasse': 194,\n",
    "                                      'Agentur für Arbeit': 26,\n",
    "                                      }\n",
    "                 }"
   ]
  },
  {
   "cell_type": "code",
   "execution_count": 29,
   "id": "1503576e",
   "metadata": {
    "slideshow": {
     "slide_type": "slide"
    }
   },
   "outputs": [
    {
     "name": "stdout",
     "output_type": "stream",
     "text": [
      "<class 'dict'>\n"
     ]
    }
   ],
   "source": [
    "print(type(data_cochemzell))"
   ]
  },
  {
   "cell_type": "code",
   "execution_count": 30,
   "id": "d1955db7",
   "metadata": {
    "slideshow": {
     "slide_type": "fragment"
    }
   },
   "outputs": [
    {
     "name": "stdout",
     "output_type": "stream",
     "text": [
      "CDU\n",
      "<class 'str'>\n"
     ]
    }
   ],
   "source": [
    "print(data_cochemzell['partei'])\n",
    "print(type(data_cochemzell['partei']))"
   ]
  },
  {
   "cell_type": "code",
   "execution_count": 35,
   "id": "f219400f",
   "metadata": {
    "slideshow": {
     "slide_type": "fragment"
    }
   },
   "outputs": [
    {
     "name": "stdout",
     "output_type": "stream",
     "text": [
      "{'Altlastenzweckverband Tierische Nebenprodukte': 8073, 'Zweckverband Tierische Nebenprodukte Südwest': 8073, '(Zweckverband) Sparkasse Mittelmosel - Eifel Mosel Hunsrück': 6038, 'Sparkassenverband RP': 5575, 'RWE': 5200, 'Planungsgemeinschaft Mittelrhein-Westerwald': 2195, 'Westenergie': 2000, 'Abfallzweckverband Rhein-Mosel-Eifel': 600, 'Rheinische Zusatzversorgungskasse': 194, 'Agentur für Arbeit': 26}\n"
     ]
    }
   ],
   "source": [
    "print(data_cochemzell['nebeneinkünfte'])"
   ]
  },
  {
   "cell_type": "code",
   "execution_count": 75,
   "id": "f7ae6ce5",
   "metadata": {},
   "outputs": [
    {
     "data": {
      "text/plain": [
       "37974"
      ]
     },
     "execution_count": 75,
     "metadata": {},
     "output_type": "execute_result"
    }
   ],
   "source": [
    "def summe(nebeneinkünfte):\n",
    "    return sum(nebeneinkünfte.values())\n",
    "\n",
    "summe(data_cochemzell['nebeneinkünfte'])"
   ]
  },
  {
   "cell_type": "code",
   "execution_count": 33,
   "id": "0fe11bec",
   "metadata": {
    "scrolled": true,
    "slideshow": {
     "slide_type": "fragment"
    }
   },
   "outputs": [
    {
     "name": "stdout",
     "output_type": "stream",
     "text": [
      "5200\n"
     ]
    }
   ],
   "source": [
    "print(data_cochemzell['nebeneinkünfte']['RWE'])"
   ]
  },
  {
   "cell_type": "markdown",
   "id": "9f0fa2df",
   "metadata": {
    "slideshow": {
     "slide_type": "slide"
    }
   },
   "source": [
    "## Noch etwas Theorie: Leeres Dictionary erstellen\n",
    "\n",
    "Es gib zwei Möglichkeiten ein leeres Dictionary zu erstellen:"
   ]
  },
  {
   "cell_type": "code",
   "execution_count": 37,
   "id": "cc0b4c0a",
   "metadata": {
    "slideshow": {
     "slide_type": "fragment"
    }
   },
   "outputs": [
    {
     "name": "stdout",
     "output_type": "stream",
     "text": [
      "{}\n"
     ]
    }
   ],
   "source": [
    "# Leeres Dictionary\n",
    "empty_dict = {}\n",
    "type(empty_dict)\n",
    "\n",
    "empty_dict = dict()"
   ]
  },
  {
   "cell_type": "markdown",
   "id": "db22c032",
   "metadata": {
    "slideshow": {
     "slide_type": "slide"
    }
   },
   "source": [
    "## Hinzufügen / Überschreiben der Schlüssel-Objekt Paare\n",
    "\n",
    "Schlüssel-Objekt Paare können mit dem folgenden Aufruf überschrieben oder neu hinzugefügt werden:"
   ]
  },
  {
   "cell_type": "code",
   "execution_count": 50,
   "id": "1fb29d01",
   "metadata": {
    "slideshow": {
     "slide_type": "-"
    }
   },
   "outputs": [
    {
     "name": "stdout",
     "output_type": "stream",
     "text": [
      "{}\n",
      "{'Tisch': 'table'}\n",
      "{'Tisch': 'table', 'xx': 123}\n"
     ]
    }
   ],
   "source": [
    "# Definition des Wörterbuchs\n",
    "woerterbuch = {} \n",
    "print(woerterbuch)\n",
    "\n",
    "# Hinzufügen eines weiteren Eintrags\n",
    "woerterbuch['Tisch'] = 'table'\n",
    "print(woerterbuch)\n",
    "\n",
    "woerterbuch['xx'] = 123\n",
    "print(woerterbuch)"
   ]
  },
  {
   "cell_type": "code",
   "execution_count": 51,
   "id": "2335faf3",
   "metadata": {
    "slideshow": {
     "slide_type": "fragment"
    }
   },
   "outputs": [
    {
     "name": "stdout",
     "output_type": "stream",
     "text": [
      "{'Baum': 'tree', 'Haus': 'Huse', 'Auto': 'car'}\n",
      "{'Baum': 'tree', 'Haus': 'house', 'Auto': 'car'}\n"
     ]
    }
   ],
   "source": [
    "# Definition des Wörterbuchs\n",
    "woerterbuch = {'Baum': 'tree', 'Haus': 'Huse', 'Auto': 'car'} \n",
    "print(woerterbuch)\n",
    "\n",
    "# Korrektur eines Eintrags\n",
    "woerterbuch['Haus'] = 'house'\n",
    "print(woerterbuch)"
   ]
  },
  {
   "cell_type": "markdown",
   "id": "7dfbf8cc",
   "metadata": {
    "slideshow": {
     "slide_type": "slide"
    }
   },
   "source": [
    "## Schlüssel-Objekt Paar löschen\n",
    "\n",
    "Mit `del <dict>[<key>]` wird der *key* und der zugehörige *value* aus dem Dictionary gelöscht."
   ]
  },
  {
   "cell_type": "code",
   "execution_count": 52,
   "id": "24228f50",
   "metadata": {
    "scrolled": true,
    "slideshow": {
     "slide_type": "-"
    }
   },
   "outputs": [
    {
     "name": "stdout",
     "output_type": "stream",
     "text": [
      "{'Baum': 'tree', 'Haus': 'house', 'Auto': 'car'}\n",
      "{'Haus': 'house', 'Auto': 'car'}\n"
     ]
    }
   ],
   "source": [
    "# Definition des Wörterbuchs\n",
    "woerterbuch = {'Baum': 'tree', 'Haus': 'house', 'Auto': 'car'} \n",
    "print(woerterbuch)\n",
    "\n",
    "# Löschen eines Eintrags\n",
    "del woerterbuch['Baum']\n",
    "print(woerterbuch)"
   ]
  },
  {
   "cell_type": "code",
   "execution_count": 53,
   "id": "96d6c2b4",
   "metadata": {
    "slideshow": {
     "slide_type": "fragment"
    }
   },
   "outputs": [
    {
     "ename": "NameError",
     "evalue": "name 'woerterbuch' is not defined",
     "output_type": "error",
     "traceback": [
      "\u001b[0;31m---------------------------------------------------------------------------\u001b[0m",
      "\u001b[0;31mNameError\u001b[0m                                 Traceback (most recent call last)",
      "Cell \u001b[0;32mIn [53], line 3\u001b[0m\n\u001b[1;32m      1\u001b[0m \u001b[38;5;66;03m# Löschen des dictionaries\u001b[39;00m\n\u001b[1;32m      2\u001b[0m \u001b[38;5;28;01mdel\u001b[39;00m woerterbuch\n\u001b[0;32m----> 3\u001b[0m \u001b[38;5;28mprint\u001b[39m(woerterbuch)\n",
      "\u001b[0;31mNameError\u001b[0m: name 'woerterbuch' is not defined"
     ]
    }
   ],
   "source": [
    "# Löschen des dictionaries\n",
    "del woerterbuch\n",
    "print(woerterbuch)"
   ]
  },
  {
   "cell_type": "markdown",
   "id": "1e33adf3",
   "metadata": {
    "slideshow": {
     "slide_type": "slide"
    }
   },
   "source": [
    "## Durch Dictionaries iterieren\n",
    "\n",
    "Um auf alle Einträge eines Dictionaries nacheinander zuzugreifen kann durch Dictionaries iteriert werden."
   ]
  },
  {
   "cell_type": "code",
   "execution_count": null,
   "id": "2fc24671",
   "metadata": {
    "slideshow": {
     "slide_type": "-"
    }
   },
   "outputs": [],
   "source": [
    "städte_einwohner = {\"Berlin\": 3_669_491,\n",
    "                    \"Hamburg\": 1_847_253,\n",
    "                    \"München\": 1_484_226,\n",
    "                    \"Köln\": 1_087_863,\n",
    "                    \"Frankfurt am Main\": 763_380}"
   ]
  },
  {
   "cell_type": "code",
   "execution_count": 60,
   "id": "cd29192d",
   "metadata": {
    "slideshow": {
     "slide_type": "fragment"
    }
   },
   "outputs": [
    {
     "name": "stdout",
     "output_type": "stream",
     "text": [
      "In Berlin wohnen 3669491 Menschen.\n",
      "In Hamburg wohnen 1847253 Menschen.\n",
      "In München wohnen 1484226 Menschen.\n",
      "In Köln wohnen 1087863 Menschen.\n",
      "In Frankfurt am Main wohnen 763380 Menschen.\n",
      "In Stuttgart wohnen 635911 Menschen.\n",
      "In Düsseldorf wohnen 621877 Menschen.\n",
      "In Leipzig wohnen 593145 Menschen.\n",
      "In Dortmund wohnen 588250 Menschen.\n",
      "In Essen wohnen 582760 Menschen.\n",
      "In Bremen wohnen 567559 Menschen.\n",
      "In Dresden wohnen 556780 Menschen.\n",
      "In Hannover wohnen 536925 Menschen.\n",
      "In Nürnberg wohnen 518370 Menschen.\n"
     ]
    }
   ],
   "source": [
    "# Möglichkeit 1\n",
    "for stadt in städte_einwohner:\n",
    "    einwohner = städte_einwohner[stadt]\n",
    "    print(f'In {stadt} wohnen {einwohner} Menschen.')"
   ]
  },
  {
   "cell_type": "code",
   "execution_count": 61,
   "id": "fb881860",
   "metadata": {
    "slideshow": {
     "slide_type": "slide"
    }
   },
   "outputs": [
    {
     "name": "stdout",
     "output_type": "stream",
     "text": [
      "In Berlin wohnen 3669491 Menschen.\n",
      "In Hamburg wohnen 1847253 Menschen.\n",
      "In München wohnen 1484226 Menschen.\n",
      "In Köln wohnen 1087863 Menschen.\n",
      "In Frankfurt am Main wohnen 763380 Menschen.\n",
      "In Stuttgart wohnen 635911 Menschen.\n",
      "In Düsseldorf wohnen 621877 Menschen.\n",
      "In Leipzig wohnen 593145 Menschen.\n",
      "In Dortmund wohnen 588250 Menschen.\n",
      "In Essen wohnen 582760 Menschen.\n",
      "In Bremen wohnen 567559 Menschen.\n",
      "In Dresden wohnen 556780 Menschen.\n",
      "In Hannover wohnen 536925 Menschen.\n",
      "In Nürnberg wohnen 518370 Menschen.\n"
     ]
    }
   ],
   "source": [
    "# Möglichkeit 2\n",
    "for stadt, einwohner in städte_einwohner.items():\n",
    "    print(f'In {stadt} wohnen {einwohner} Menschen.')"
   ]
  },
  {
   "cell_type": "markdown",
   "id": "82fe2a10",
   "metadata": {
    "slideshow": {
     "slide_type": "slide"
    }
   },
   "source": [
    "## Zurück zu den Nebeneinkünften von Landräten\n",
    "\n",
    "Alle Nebeneinkünft von allen Landrät:innen in Rheinlandpfalz im Jahr 2020."
   ]
  },
  {
   "cell_type": "code",
   "execution_count": 10,
   "id": "58acd06d",
   "metadata": {
    "slideshow": {
     "slide_type": "slide"
    }
   },
   "outputs": [],
   "source": [
    "data = [\n",
    " {'kreis': 'Landkreis Mainz-Bingen',\n",
    "  'nebeneinkünfte': {'Planungsgemeinschaft Rheinhessen-Nahe': 1200,\n",
    "                     'Rheinhessenwein e.V.': 25,\n",
    "                     'Sparkasse Mainz': 8944,\n",
    "                     'Zweckverband Sparkasse Mainz': 200,\n",
    "                     'Zweckverband Sparkasse Rhein-Nahe': 9444,\n",
    "                     'Zweckverband Verkehrsbund Rhein Nahe': 613.55},\n",
    "  'partei': 'CDU',\n",
    "  'person': 'Dorothea Schäfer'},\n",
    " {'kreis': 'Kreisfreie Stadt Frankenthal (Pfalz)',\n",
    "  'nebeneinkünfte': {'Gewässerzweckverband Isenach-Eckbach': 6600,\n",
    "                     'Pfälzische Pensionsanstalt': 200,\n",
    "                     'Sparkasse Rhein-Haardt': 4074.96,\n",
    "                     'Sparkassenverband RP': 5575,\n",
    "                     'Verband Region Rhein-Neckar': 1560,\n",
    "                     'Zweckverband Sparkasse Rhein-Haardt': 135},\n",
    "  'partei': 'CDU',\n",
    "  'person': 'Martin Hebich'},\n",
    " {'kreis': 'Landkreis Trier-Saarburg',\n",
    "  'nebeneinkünfte': {'Innogy Westenergie': 1000,\n",
    "                     'Kommunaler Rat': 25.56,\n",
    "                     'Landkreistag RP': 6100,\n",
    "                     'RWE': 129000,\n",
    "                     'Sparkasse Trier': 9544,\n",
    "                     'Sparkassen- und Giroverband RP': 5898.65,\n",
    "                     'Zweckverband Industriepark Region Trier': 2208,\n",
    "                     'Zweckverband Sparkasse Trier': 150},\n",
    "  'partei': 'CDU',\n",
    "  'person': 'Günther Schartz'},\n",
    " {'kreis': 'Kreisfreie Stadt Mainz',\n",
    "  'nebeneinkünfte': {'Gas-Union Frankfurth/Mainz': 7812.5,\n",
    "                     'Sparkasse Mainz': 8844,\n",
    "                     'Zweckverband der Sparkasse Mainz': 300},\n",
    "  'partei': 'SPD',\n",
    "  'person': 'Michael Ebling'},\n",
    " {'kreis': 'Kreisfreie Stadt Speyer',\n",
    "  'nebeneinkünfte': {'Kommunaler Rat': 76.68,\n",
    "                     'Kreditausschuss': 400,\n",
    "                     'Sparkasse Vorderpfalz': 400,\n",
    "                     'Sparkassenverband RP': 7644,\n",
    "                     'Zweckverband Sparkasse Vorderpfalz': 320},\n",
    "  'partei': 'SPD',\n",
    "  'person': 'Stefanie Seiler'},\n",
    " {'kreis': 'Landkreis Kusel',\n",
    "  'nebeneinkünfte': {'Fremdenverkehrszweckverband': 1533.84,\n",
    "                     'Kreissparkasse Kusel': 6880},\n",
    "  'partei': 'CDU',\n",
    "  'person': 'Otto Rubly'},\n",
    " {'kreis': 'Kreisfreie Stadt Trier',\n",
    "  'nebeneinkünfte': {'Sparkasse Trier': 8944},\n",
    "  'partei': 'SPD',\n",
    "  'person': 'Wolfram Leibe'},\n",
    " {'kreis': 'Landkreis Bad Dürkheim',\n",
    "  'nebeneinkünfte': {'Landkreistag RP': 100,\n",
    "                     'Pfälzische Pensionsanstalt': 300,\n",
    "                     'Sparkasse Rhein-Haardt': 6950.04,\n",
    "                     'Verband Region Rhein-Neckar': 540,\n",
    "                     'Zweckverband Sparkasse Rhein-Haardt': 270,\n",
    "                     'Zweckverbandes Pollichia-Museum': 783.96},\n",
    "  'partei': 'CDU',\n",
    "  'person': 'Hans-Ulrich Ihlenfeld'},\n",
    " {'kreis': 'Landkreis Cochem-Zell',\n",
    "  'nebeneinkünfte': {'(Zweckverband) Sparkasse Mittelmosel - Eifel Mosel Hunsrück': 6038,\n",
    "                     'Abfallzweckverband Rhein-Mosel-Eifel': 600,\n",
    "                     'Agentur für Arbeit': 26,\n",
    "                     'Altlastenzweckverband Tierische Nebenprodukte': 8073.24,\n",
    "                     'Planungsgemeinschaft Mittelrhein-Westerwald': 2195,\n",
    "                     'RWE': 5200,\n",
    "                     'Rheinische Zusatzversorgungskasse': 194,\n",
    "                     'Sparkassenverband RP': 5575,\n",
    "                     'Westenergie': 2000,\n",
    "                     'Zweckverband Tierische Nebenprodukte Südwest': 8073.24},\n",
    "  'partei': 'CDU',\n",
    "  'person': 'Manfred Schnur'},\n",
    " {'kreis': 'Landkreis Südwestpfalz',\n",
    "  'nebeneinkünfte': {'Bezirkstag Pfalz': 2100,\n",
    "                     'Institut für Medien und Pädagogik e. V.': 17.9,\n",
    "                     'Kommunaler Rat': 51.12,\n",
    "                     'Landkreistag RP': 50,\n",
    "                     'Sparkasse Südwestpfalz': 8544,\n",
    "                     'Zweckverband Entwicklungsgebiet Flugplatz ZW': 1380.51},\n",
    "  'partei': 'CDU',\n",
    "  'person': 'Susanne Ganster'},\n",
    " {'kreis': 'Kreisfreie Stadt Kaiserslautern',\n",
    "  'nebeneinkünfte': {'Sparkassen- und Giroverband RP': 5269,\n",
    "                     'Stadtsparkasse': 5704},\n",
    "  'partei': 'SPD',\n",
    "  'person': 'Klaus Weichel'},\n",
    " {'kreis': 'Rhein-Lahn-Kreis',\n",
    "  'nebeneinkünfte': {'Agentur für Arbeit': 26,\n",
    "                     'Altlastenzweckverband Tierische Nebenprodukte': 3924.48,\n",
    "                     'Baugenossenschaft Rhein-Lahn eG': 200,\n",
    "                     'Kommunaler Rat': 51.12,\n",
    "                     'Landesbank Baden-Württemberg': 1283.33,\n",
    "                     'Nassauische Sparkasse': 4832.88,\n",
    "                     'Süwag Energie AG': 8000,\n",
    "                     'Zweckverband Tierische Nebenprodukte Südwest': 3924.48},\n",
    "  'partei': 'SPD',\n",
    "  'person': 'Frank Puchtler'},\n",
    " {'kreis': 'Landkreis Südliche Weinstraße',\n",
    "  'nebeneinkünfte': {'Agentur für Arbeit': 52,\n",
    "                     'Bezirksverband Pfalz': 150,\n",
    "                     'Landeszentrale für Medien und Kommunikation': 893,\n",
    "                     'Landkreistag RP': 50,\n",
    "                     'Pfalzklinikum für Psychiatrie u. Neurologie (AdöR)': 200,\n",
    "                     'Sparkasse Südliche Weinstraße': 9594,\n",
    "                     'Verband Region Rhein-Neckar': 660},\n",
    "  'partei': 'CDU',\n",
    "  'person': 'Dietmar Seefeldt'},\n",
    " {'kreis': 'Kreisfreie Stadt Ludwigshafen am Rhein',\n",
    "  'nebeneinkünfte': {'Sparkasse Vorderpfalz': 8644,\n",
    "                     'Verband Region Rhein-Neckar': 144},\n",
    "  'partei': 'SPD',\n",
    "  'person': 'Jutta Steinruck'},\n",
    " {'kreis': 'Landkreis Bernkastel-Wittlich',\n",
    "  'nebeneinkünfte': {'Agentur für Arbeit': 26,\n",
    "                     'Altlastenzweckverband Tierische Nebenprodukte': 50,\n",
    "                     'RWE': 5200,\n",
    "                     'Sparkasse Mittelmosel - Eifel Mosel Hunsrück': 400,\n",
    "                     'Zweckverband Abfallwirtschaft Region Trier': 7848,\n",
    "                     'Zweckverband Sparkasse Mittelmosel - Eifel Mosel Hunsrück': 8324},\n",
    "  'partei': 'CDU',\n",
    "  'person': 'Gregor Eibes'},\n",
    " {'kreis': 'Kreisfreie Stadt Neustadt an der Weinstraße',\n",
    "  'nebeneinkünfte': {'Sparkasse Rhein-Haardt': 4074.96,\n",
    "                     'Sparkassenverband RP': 231,\n",
    "                     'Verband Region Rhein-Neckar': 800,\n",
    "                     'Zusatzversorgungskasse der bayerischen Gemeinden': 250,\n",
    "                     'Zweckverband Sparkasse Rhein-Haardt': 135},\n",
    "  'partei': 'Freie Wähler',\n",
    "  'person': 'Marc Weigel'},\n",
    " {'kreis': 'Landkreis Germersheim',\n",
    "  'nebeneinkünfte': {'Landkreistag RP': 50,\n",
    "                     'Park & Bellheimer AG': 5950,\n",
    "                     'Pfälzische Pensionsanstalt': 100,\n",
    "                     'Sparkasse Germersheim-Kandel': 6680,\n",
    "                     'Sparkassen- und Giroverband RP': 14073.41,\n",
    "                     'Verkehrsverbund Rhein-Neckar': 1800,\n",
    "                     'Zweckverband Schienenpersonennahverkehr Süd': 7464},\n",
    "  'partei': 'CDU',\n",
    "  'person': 'Fritz Brechtel'},\n",
    " {'kreis': 'Kreisfreie Stadt Worms',\n",
    "  'nebeneinkünfte': {'Sparkasse Worms-Alzey-Ried': 8944,\n",
    "                     'Zweckverband Sparkasse Worms-Alzey-Ried': 150},\n",
    "  'partei': 'CDU',\n",
    "  'person': 'Adolf Kessel'},\n",
    " {'kreis': 'Rhein-Hunsrück-Kreis',\n",
    "  'nebeneinkünfte': {'Kreissparkasse Rhein-Hunsrück': 6980},\n",
    "  'partei': 'CDU',\n",
    "  'person': 'Marlon Brähr'},\n",
    " {'kreis': 'Landkreis Bad Kreuznach',\n",
    "  'nebeneinkünfte': {'Landkreistag RP': 50,\n",
    "                     'Sparkasse (div. Ebenen)': 9544,\n",
    "                     'Westenergie': 1000},\n",
    "  'partei': 'CDU',\n",
    "  'person': 'Bettina Dickes'},\n",
    " {'kreis': 'Kreisfreie Stadt Landau in der Pfalz',\n",
    "  'nebeneinkünfte': {'Kommunaler Rat': 51.12,\n",
    "                     'Sparkasse Südliche Weinstraße': 6698,\n",
    "                     'Sparkassenverband RP': 6236,\n",
    "                     'Zweckverband Sparkasse Südliche Weinstraße': 450},\n",
    "  'partei': 'CDU',\n",
    "  'person': 'Thomas Hirsch'},\n",
    " {'kreis': 'Westerwaldkreis',\n",
    "  'nebeneinkünfte': {'Landkreistag RP': 50,\n",
    "                     'Nassauische Sparkasse': 6978.95,\n",
    "                     'Planungsgemeinschaft Mittelrhein-Westerwald': 220,\n",
    "                     'Sparkasse Westerwald-Sieg': 9044,\n",
    "                     'Sparkassenverband RP': 308,\n",
    "                     'Sparkassenzweckverband Nassau': 383.45,\n",
    "                     'Sparkassenzweckverband Westerwald-Sieg': 100},\n",
    "  'partei': 'CDU',\n",
    "  'person': 'Achim Schwickert'},\n",
    " {'kreis': 'Eifelkreis Bitburg-Prüm',\n",
    "  'nebeneinkünfte': {'Beirat für Kommunalentwicklung RP': 190.16,\n",
    "                     'Kreissparkasse Bitburg-Prüm': 7080,\n",
    "                     'Kreisvolkshochschule': 3597,\n",
    "                     'Planungsgemeinschaft Region Trier': 600,\n",
    "                     'RWE': 6155,\n",
    "                     'Saarländischer Schwesternverband': 7735,\n",
    "                     'Westenergie': 1160,\n",
    "                     'Zweckverband Berufsbildungszentrum Bitburg-Prüm': 5181,\n",
    "                     'Zweckverband Flugplatz Bitburg': 5186,\n",
    "                     'Zweckverband Naturpark Südeifel': 5973,\n",
    "                     'Zweckverband Schienen-Personen-NahVerker': 3723,\n",
    "                     'Zweckverband Stausee Bitburg': 20,\n",
    "                     'Zweckverband Verkehrsbund Region Trier': 7032},\n",
    "  'partei': 'Freie Wähler',\n",
    "  'person': 'Joachim Streit'},\n",
    " {'kreis': 'Landkreis Birkenfeld',\n",
    "  'nebeneinkünfte': {'Kreissparkasse Birkenfeld': 6780,\n",
    "                     'Landkreistag RP': 100,\n",
    "                     'Planungsgemeinschaft Rheinhessen-Nahe': 100,\n",
    "                     'RWE': 5200,\n",
    "                     'Sparkassenverband RP': 153},\n",
    "  'partei': 'CDU',\n",
    "  'person': 'Matthias Schneider'},\n",
    " {'kreis': 'Landkreis Alzey-Worms',\n",
    "  'nebeneinkünfte': {'Innogy Westenergie': 1000,\n",
    "                     'Landkreistag RP': 150,\n",
    "                     'Planungsgemeinschaft Rheinhessen-Nahe': 1200,\n",
    "                     'Rheinhessenwein e.V.': 50,\n",
    "                     'Sparkasse Worms-Alzey-Ried': 9094,\n",
    "                     'Sparkassenverband RP': 5883},\n",
    "  'partei': 'SPD',\n",
    "  'person': 'Heiko Sippel'},\n",
    " {'kreis': 'Rhein-Pfalz-Kreis',\n",
    "  'nebeneinkünfte': {'Bezirksverband Pfalz': 100,\n",
    "                     'Landkreistag RP': 50,\n",
    "                     'Sparkasse Vorderpfalz': 8664,\n",
    "                     'Sparkassenverband RP': 308,\n",
    "                     'Verband Region Rhein-Neckar': 240},\n",
    "  'partei': 'CDU',\n",
    "  'person': 'Clemens Kärner'},\n",
    " {'kreis': 'Donnersbergkreis',\n",
    "  'nebeneinkünfte': {'Landkreistag RP': 100,\n",
    "                     'Planungsgemeinschaft Westpfalz': 780,\n",
    "                     'Sparkasse Donnersberg': 6842},\n",
    "  'partei': 'parteilos',\n",
    "  'person': 'Rainer Guth'},\n",
    " {'kreis': 'Landkreis Altenkirchen',\n",
    "  'nebeneinkünfte': {'RWE': 1000,\n",
    "                     'Sparkasse Westerwald-Sieg': 9244,\n",
    "                     'Zweckverband Sparkasse Westerwald-Sieg': 100},\n",
    "  'partei': 'CDU',\n",
    "  'person': 'Peter Enders'},\n",
    " {'kreis': 'Kreisfreie Stadt Pirmasens',\n",
    "  'nebeneinkünfte': {'Zweckverband Abfallverwertung Südwestpfalz': 3060},\n",
    "  'partei': 'CDU',\n",
    "  'person': 'Markus Zwick'},\n",
    " {'kreis': 'Landkreis Ahrweiler',\n",
    "  'nebeneinkünfte': {'Kreissparkasse Ahrweiler': 7080,\n",
    "                     'RWE': 5200,\n",
    "                     'Rheinland-Westenenergie': 2000,\n",
    "                     'Sparkassenverband RP': 5269,\n",
    "                     'Wasserversorgung Zweckverband Main-Eifel': 873.13,\n",
    "                     'Zweckverband SPNV': 7446},\n",
    "  'partei': 'CDU',\n",
    "  'person': 'Jürgen Pfähler'},\n",
    " {'kreis': 'Landkreis Kaiserslautern',\n",
    "  'nebeneinkünfte': {'Kreissparkasse Kaiserslautern': 9284},\n",
    "  'partei': 'CDU',\n",
    "  'person': 'Ralf Leßmeister'},\n",
    " {'kreis': 'Landkreis Neuwied',\n",
    "  'nebeneinkünfte': {'Landesmusikverband RLP': 480,\n",
    "                     'Landkreistag RP': 75,\n",
    "                     'Planungsgemeinschaft Mittelrhein-Westerwald': 165,\n",
    "                     'Sparkasse Neuwied': 8644,\n",
    "                     'Sparkasse Neuwied (Verbandsversammlung)': 200,\n",
    "                     'Süwag Energie AG': 3000},\n",
    "  'partei': 'CDU',\n",
    "  'person': 'Achim Hallerbach'},\n",
    " {'kreis': 'Kreisfreie Stadt Zweibrücken',\n",
    "  'nebeneinkünfte': {'Pfälzische Pensionsanstalt': 100,\n",
    "                     'Sparkasse Südwestpfalz': 5698,\n",
    "                     'ZAB consult GmbH': 1800,\n",
    "                     'Zweckverband der Entwicklungsgesellschaft Flugplatz Zweibrücken': 1687.29},\n",
    "  'partei': 'SPD',\n",
    "  'person': 'Marold Wosnitza'},\n",
    " {'kreis': 'Kreisfreie Stadt Koblenz',\n",
    "  'nebeneinkünfte': {'Sparkasse Koblenz': 9344, 'Sparkassenverband RP': 3016.7},\n",
    "  'partei': 'SPD',\n",
    "  'person': 'David Langner'},\n",
    " {'kreis': 'Landkreis Mayen-Koblenz',\n",
    "  'nebeneinkünfte': {'Fremdenverkehrszweckverband': 1860,\n",
    "                     'Hausverwaltung Schon & Müller': 100,\n",
    "                     'Innogy Westenergie': 2000,\n",
    "                     'Kreissparkasse Mayen': 7580,\n",
    "                     'Landkreistag RP': 950,\n",
    "                     'Planungsgemeinschaft Mittelrhein-Westerwald': 165,\n",
    "                     'RWE': 5200,\n",
    "                     'Sparkasse Koblenz': 9544,\n",
    "                     'Sparkassen Finanzdienste': 300,\n",
    "                     'Sparkassenverband RP': 5500,\n",
    "                     'Unfallkasse RP': 75,\n",
    "                     'Wasserversorgung Zweckverband Main-Eifel': 5658,\n",
    "                     'Zweckverband Industriepark A61': 225,\n",
    "                     'Zweckverband Vulkanpark': 150},\n",
    "  'partei': 'CDU',\n",
    "  'person': 'Alexander Saftig'}]"
   ]
  },
  {
   "cell_type": "markdown",
   "id": "4a4bd873",
   "metadata": {
    "slideshow": {
     "slide_type": "slide"
    }
   },
   "source": [
    "### Aufgabe:\n",
    "Berechne die Summe der Nebenkünfte und füge sie ins Dictionary ein"
   ]
  },
  {
   "cell_type": "code",
   "execution_count": 11,
   "id": "2ccebf2e",
   "metadata": {
    "slideshow": {
     "slide_type": "fragment"
    }
   },
   "outputs": [],
   "source": [
    "# Funktion, die die Summe aller Nebenverdienste berechnet\n",
    "def summe(nebenverdienste):\n",
    "    return sum(nebenverdienste.values())"
   ]
  },
  {
   "cell_type": "code",
   "execution_count": 12,
   "id": "953dad88",
   "metadata": {
    "slideshow": {
     "slide_type": "fragment"
    }
   },
   "outputs": [
    {
     "name": "stdout",
     "output_type": "stream",
     "text": [
      "Landkreis Mainz-Bingen\n",
      "Kreisfreie Stadt Frankenthal (Pfalz)\n",
      "Landkreis Trier-Saarburg\n",
      "Kreisfreie Stadt Mainz\n",
      "Kreisfreie Stadt Speyer\n",
      "Landkreis Kusel\n",
      "Kreisfreie Stadt Trier\n",
      "Landkreis Bad Dürkheim\n",
      "Landkreis Cochem-Zell\n",
      "Landkreis Südwestpfalz\n",
      "Kreisfreie Stadt Kaiserslautern\n",
      "Rhein-Lahn-Kreis\n",
      "Landkreis Südliche Weinstraße\n",
      "Kreisfreie Stadt Ludwigshafen am Rhein\n",
      "Landkreis Bernkastel-Wittlich\n",
      "Kreisfreie Stadt Neustadt an der Weinstraße\n",
      "Landkreis Germersheim\n",
      "Kreisfreie Stadt Worms\n",
      "Rhein-Hunsrück-Kreis\n",
      "Landkreis Bad Kreuznach\n",
      "Kreisfreie Stadt Landau in der Pfalz\n",
      "Westerwaldkreis\n",
      "Eifelkreis Bitburg-Prüm\n",
      "Landkreis Birkenfeld\n",
      "Landkreis Alzey-Worms\n",
      "Rhein-Pfalz-Kreis\n",
      "Donnersbergkreis\n",
      "Landkreis Altenkirchen\n",
      "Kreisfreie Stadt Pirmasens\n",
      "Landkreis Ahrweiler\n",
      "Landkreis Kaiserslautern\n",
      "Landkreis Neuwied\n",
      "Kreisfreie Stadt Zweibrücken\n",
      "Kreisfreie Stadt Koblenz\n",
      "Landkreis Mayen-Koblenz\n"
     ]
    }
   ],
   "source": [
    "# Einfügen der Summe ins Dictionary\n",
    "for kreisdata in data:\n",
    "    print(kreisdata['kreis'])\n",
    "    kreisdata['summe'] = summe(kreisdata['nebeneinkünfte'])"
   ]
  },
  {
   "cell_type": "code",
   "execution_count": 14,
   "id": "9e1f436c",
   "metadata": {},
   "outputs": [
    {
     "data": {
      "text/plain": [
       "{'kreis': 'Landkreis Mainz-Bingen',\n",
       " 'nebeneinkünfte': {'Planungsgemeinschaft Rheinhessen-Nahe': 1200,\n",
       "  'Rheinhessenwein e.V.': 25,\n",
       "  'Sparkasse Mainz': 8944,\n",
       "  'Zweckverband Sparkasse Mainz': 200,\n",
       "  'Zweckverband Sparkasse Rhein-Nahe': 9444,\n",
       "  'Zweckverband Verkehrsbund Rhein Nahe': 613.55},\n",
       " 'partei': 'CDU',\n",
       " 'person': 'Dorothea Schäfer',\n",
       " 'summe': 20426.55}"
      ]
     },
     "execution_count": 14,
     "metadata": {},
     "output_type": "execute_result"
    }
   ],
   "source": []
  },
  {
   "cell_type": "markdown",
   "id": "1661195c",
   "metadata": {
    "slideshow": {
     "slide_type": "slide"
    }
   },
   "source": [
    "## Weitere Recherchefragen??"
   ]
  },
  {
   "cell_type": "code",
   "execution_count": null,
   "id": "d9e9e7ec",
   "metadata": {},
   "outputs": [],
   "source": []
  },
  {
   "cell_type": "markdown",
   "id": "16af5512",
   "metadata": {
    "slideshow": {
     "slide_type": "fragment"
    }
   },
   "source": [
    "\n",
    "- Ist der Datensatz vollständig?\n",
    "- Wer verdient am meisten? In welchem Landkreis ist der:die Landrat:in im Amt?\n",
    "- Welche Firmen sind beteiligt? Wie viel bezahlen diese ingesamt an Landrät:innen?\n",
    "- Wie sind die Nebeneinkünfte auf die Parteien verteilt?"
   ]
  },
  {
   "cell_type": "markdown",
   "id": "64cad12e",
   "metadata": {
    "slideshow": {
     "slide_type": "slide"
    }
   },
   "source": [
    "Erstelle eine List mit den Gesamtnebeneinkünften der Landrät:innen.\n",
    "Gib das Minimum, Maximum und den Durchschnitt an Nebeneinkünften an."
   ]
  },
  {
   "cell_type": "code",
   "execution_count": null,
   "id": "89788cbc",
   "metadata": {
    "slideshow": {
     "slide_type": "fragment"
    }
   },
   "outputs": [],
   "source": [
    "# Code"
   ]
  },
  {
   "cell_type": "markdown",
   "id": "551db58c",
   "metadata": {
    "slideshow": {
     "slide_type": "slide"
    }
   },
   "source": [
    "Welche:r Landrat:in hat die höchsten Nebenverdienste?"
   ]
  },
  {
   "cell_type": "code",
   "execution_count": null,
   "id": "aa9ff5ec",
   "metadata": {
    "slideshow": {
     "slide_type": "fragment"
    }
   },
   "outputs": [],
   "source": [
    "# Code"
   ]
  },
  {
   "cell_type": "markdown",
   "id": "abf38b7d",
   "metadata": {
    "slideshow": {
     "slide_type": "slide"
    }
   },
   "source": [
    "### Dictionary Sortieren"
   ]
  },
  {
   "cell_type": "code",
   "execution_count": null,
   "id": "6e20d673",
   "metadata": {
    "slideshow": {
     "slide_type": "fragment"
    }
   },
   "outputs": [],
   "source": [
    "sorted_data = sorted(data, key=lambda d: d['summe'], reverse=True)\n",
    "\n",
    "from pprint import pprint\n",
    "pprint(sorted_data)"
   ]
  },
  {
   "cell_type": "markdown",
   "id": "2f37a642",
   "metadata": {
    "slideshow": {
     "slide_type": "slide"
    }
   },
   "source": [
    "### Parteien\n",
    "\n",
    "1. Schreibe eine Liste mit allen Parteien der Landrät:innen"
   ]
  },
  {
   "cell_type": "code",
   "execution_count": null,
   "id": "b388f6b9",
   "metadata": {
    "slideshow": {
     "slide_type": "fragment"
    }
   },
   "outputs": [],
   "source": []
  },
  {
   "cell_type": "markdown",
   "id": "c4fabb55",
   "metadata": {
    "slideshow": {
     "slide_type": "slide"
    }
   },
   "source": [
    "2. Erstelle ein Dictionary mit der Partei und der Gesamtsumme der einzelnen Landrät:innen\n",
    "\n",
    "```\n",
    "{'CDU': [129000, 8500, ..., 43000],\n",
    " 'SPD': [4700, 3721.0, ... , 3920],\n",
    " ... }\n",
    "```"
   ]
  },
  {
   "cell_type": "code",
   "execution_count": null,
   "id": "4df93f0c",
   "metadata": {
    "slideshow": {
     "slide_type": "fragment"
    }
   },
   "outputs": [],
   "source": []
  },
  {
   "cell_type": "code",
   "execution_count": null,
   "id": "6f1b912b",
   "metadata": {
    "slideshow": {
     "slide_type": "fragment"
    }
   },
   "outputs": [],
   "source": [
    "partei_data = {'CDU': [], 'SPD': [], 'Freie Wähler': [], 'parteilos': []}\n",
    "\n",
    "for partei in partei_data.keys():\n",
    "    for datapoint in data:\n",
    "        if datapoint['partei'] == partei:\n",
    "            partei_data[partei].append(datapoint['summe'])\n",
    "\n",
    "print(partei_daten)"
   ]
  },
  {
   "cell_type": "markdown",
   "id": "896ee7a2",
   "metadata": {
    "slideshow": {
     "slide_type": "slide"
    }
   },
   "source": [
    "3. Berechne den durchschnittlichen Betrag an Nebeneinkünften pro Partei.\n",
    "Fülle ein neues mit der Partei als Key und dem Durchschnittsbetrag als Value."
   ]
  },
  {
   "cell_type": "code",
   "execution_count": 6,
   "id": "c4c3a3c5",
   "metadata": {
    "slideshow": {
     "slide_type": "fragment"
    }
   },
   "outputs": [
    {
     "ename": "NameError",
     "evalue": "name 'partei_data' is not defined",
     "output_type": "error",
     "traceback": [
      "\u001b[0;31m---------------------------------------------------------------------------\u001b[0m",
      "\u001b[0;31mNameError\u001b[0m                                 Traceback (most recent call last)",
      "Cell \u001b[0;32mIn [6], line 2\u001b[0m\n\u001b[1;32m      1\u001b[0m avg_partei_data \u001b[38;5;241m=\u001b[39m {}\n\u001b[0;32m----> 2\u001b[0m \u001b[38;5;28;01mfor\u001b[39;00m partei, betrag \u001b[38;5;129;01min\u001b[39;00m partei_data\u001b[38;5;241m.\u001b[39mitems():\n\u001b[1;32m      3\u001b[0m     avg_partei_data[partei] \u001b[38;5;241m=\u001b[39m \u001b[38;5;28msum\u001b[39m(betrag) \u001b[38;5;241m/\u001b[39m \u001b[38;5;28mlen\u001b[39m(betrag)\n\u001b[1;32m      5\u001b[0m \u001b[38;5;28mprint\u001b[39m(avg_partei_data)\n",
      "\u001b[0;31mNameError\u001b[0m: name 'partei_data' is not defined"
     ]
    }
   ],
   "source": [
    "avg_partei_data = {}\n",
    "for partei, betrag in partei_data.items():\n",
    "    avg_partei_data[partei] = sum(betrag) / len(betrag)\n",
    "    \n",
    "print(avg_partei_data)"
   ]
  },
  {
   "cell_type": "markdown",
   "id": "7e866b25",
   "metadata": {
    "slideshow": {
     "slide_type": "slide"
    }
   },
   "source": [
    "### Firmen\n",
    "\n",
    "Welche Firmen zahlen Beträge an Landrät:innen aus?\n",
    "1. Erstelle eine Liste mit allen Firmen\n",
    "2. Filtere doppelt vorkommende Firmen aus"
   ]
  },
  {
   "cell_type": "code",
   "execution_count": null,
   "id": "1a540389",
   "metadata": {
    "slideshow": {
     "slide_type": "fragment"
    }
   },
   "outputs": [],
   "source": [
    "firmen = []\n",
    "for datapoint in data:\n",
    "    for firma in datapoint['nebeneinkünfte'].keys():\n",
    "        firmen.append(firma)\n",
    "\n",
    "print(firmen)"
   ]
  },
  {
   "cell_type": "code",
   "execution_count": null,
   "id": "289641d3",
   "metadata": {
    "slideshow": {
     "slide_type": "slide"
    }
   },
   "outputs": [],
   "source": [
    "#2.\n",
    "unique_firmen = []\n",
    "for firma in firmen:\n",
    "    if firma not in unique_firmen:\n",
    "        unique_firmen.append(firma)\n",
    "\n",
    "print(unique_firmen)"
   ]
  },
  {
   "cell_type": "code",
   "execution_count": null,
   "id": "d50aac9f",
   "metadata": {
    "slideshow": {
     "slide_type": "fragment"
    }
   },
   "outputs": [],
   "source": [
    "print(len(firmen))\n",
    "print(len(unique_firmen))"
   ]
  },
  {
   "cell_type": "code",
   "execution_count": null,
   "id": "92beaa39",
   "metadata": {
    "slideshow": {
     "slide_type": "slide"
    }
   },
   "outputs": [],
   "source": [
    "Welche Firma zahlt wie viel?"
   ]
  },
  {
   "cell_type": "code",
   "execution_count": null,
   "id": "00cf8114",
   "metadata": {
    "slideshow": {
     "slide_type": "fragment"
    }
   },
   "outputs": [],
   "source": [
    "firmen_data = {}\n",
    "for firma in unique_firmen:\n",
    "    gehälter = []\n",
    "    for datapoint in data:\n",
    "        for firma2, gehalt in datapoint['nebeneinkünfte'].items():\n",
    "            if firma == firma2:\n",
    "                gehälter.append(gehalt)              \n",
    "    firmen_data[firma] = gehälter\n",
    "\n",
    "\n",
    "print(firmen_data)"
   ]
  },
  {
   "cell_type": "code",
   "execution_count": null,
   "id": "e2bffe61",
   "metadata": {
    "slideshow": {
     "slide_type": "fragment"
    }
   },
   "outputs": [],
   "source": [
    "for firma, gehälter in firmen_data.items():\n",
    "    firmen_data[firma] = round(sum(gehälter), 0)\n",
    "    \n",
    "print(firmen_data)"
   ]
  },
  {
   "cell_type": "code",
   "execution_count": null,
   "id": "2d4d63f0",
   "metadata": {
    "slideshow": {
     "slide_type": "slide"
    }
   },
   "outputs": [],
   "source": [
    "sorted_data = sorted(firmen_data.items(), key=lambda item: item[1], reverse=True)\n",
    "print(sorted_data)"
   ]
  },
  {
   "cell_type": "markdown",
   "id": "4fbf2df1",
   "metadata": {
    "slideshow": {
     "slide_type": "slide"
    }
   },
   "source": [
    "## Eingabetool für Nebeneinkünfte"
   ]
  },
  {
   "cell_type": "code",
   "execution_count": null,
   "id": "e07a88ca",
   "metadata": {
    "slideshow": {
     "slide_type": "fragment"
    }
   },
   "outputs": [],
   "source": [
    "eingabe = 'X'\n",
    "while eingabe != 'x':\n",
    "    eingabe = input('Eingabe:')"
   ]
  },
  {
   "cell_type": "markdown",
   "id": "bb191f19",
   "metadata": {
    "slideshow": {
     "slide_type": "slide"
    }
   },
   "source": [
    "## While Loop\n",
    "\n",
    "Bei einer While Schleife wird eine Funktion so lange ausgeführt, bis eine Bedingung erreicht wird.\n",
    "\n",
    "\n",
    "## Syntax\n",
    "\n",
    "`while` ist das Schlüsselwort der While Schleife. Darauf folgt eine Bedingung - also ein Wahrheitswert: Ist die Bedingung `wahr` werden die Anweisung im Codeblock in der Schleife asugeführt. Ist die Bedingung `False` wird der Code übersprungen und die Schleife beendet.\n",
    "\n",
    "\n",
    "![While Schleife](../imgs/whileloop.png)"
   ]
  },
  {
   "cell_type": "code",
   "execution_count": null,
   "id": "8ad81d6c",
   "metadata": {
    "slideshow": {
     "slide_type": "slide"
    }
   },
   "outputs": [],
   "source": [
    "x = 1\n",
    "while x < 10:\n",
    "    print(x)\n",
    "    x = x + 1"
   ]
  },
  {
   "cell_type": "code",
   "execution_count": null,
   "id": "b08a2e38",
   "metadata": {
    "slideshow": {
     "slide_type": "slide"
    }
   },
   "outputs": [],
   "source": [
    "print('While Loop Start \\n')\n",
    "x = 1\n",
    "while x < 10:\n",
    "    print(x)\n",
    "    x = x + 1\n",
    "print('\\nWhile Loop Ende')"
   ]
  },
  {
   "cell_type": "markdown",
   "id": "d0e43c3b",
   "metadata": {
    "slideshow": {
     "slide_type": "slide"
    }
   },
   "source": [
    "# Achtung: Endlosschleife\n",
    "\n",
    "Eine Endlosschleife ist eine While Schleife ohne Abbruchbedingung.\n",
    "\n",
    "Das heißt die Anwendung wird immer wieder ausgeführt - so lange bis die Ausführung manuell gestoppt wird (Strg + C) oder Python geschlossen wird.\n",
    "\n"
   ]
  },
  {
   "cell_type": "code",
   "execution_count": null,
   "id": "318b6664",
   "metadata": {
    "slideshow": {
     "slide_type": "fragment"
    },
    "tags": [
     "skip-execution",
     "hide-output"
    ]
   },
   "outputs": [],
   "source": [
    "# Endlosschleife\n",
    "print('While Loop Start \\n')\n",
    "\n",
    "x = 1\n",
    "while x >= 1:\n",
    "    print(x)\n",
    "    x = x + 1\n",
    "    \n",
    "print('\\nWhile Loop Ende')"
   ]
  },
  {
   "cell_type": "markdown",
   "id": "aea04a44",
   "metadata": {
    "slideshow": {
     "slide_type": "slide"
    }
   },
   "source": [
    "## Eingabetool für Nebeneinkünfte"
   ]
  },
  {
   "cell_type": "code",
   "execution_count": 2,
   "id": "20daac06",
   "metadata": {
    "slideshow": {
     "slide_type": "-"
    }
   },
   "outputs": [
    {
     "name": "stdout",
     "output_type": "stream",
     "text": [
      "Firma:ziasd\n",
      "Gehalt:80\n",
      "{'ziasd': '80'}\n",
      "Firma:twitter\n",
      "Gehalt:7000\n",
      "{'ziasd': '80', 'twitter': '7000'}\n",
      "Firma:x\n",
      "Gehalt:234\n",
      "{'ziasd': '80', 'twitter': '7000', 'x': '234'}\n",
      "Alle Nebeneinkünfte:\n",
      "{'ziasd': '80', 'twitter': '7000', 'x': '234'}\n"
     ]
    }
   ],
   "source": [
    "firma = ''\n",
    "nebeneinkünfte = {}\n",
    "while firma != 'x':\n",
    "    firma = input('Firma:')\n",
    "    gehalt = input('Gehalt:')\n",
    "    nebeneinkünfte[firma] = gehalt\n",
    "    print(nebeneinkünfte)\n",
    "    \n",
    "print('Alle Nebeneinkünfte:')\n",
    "print(nebeneinkünfte)"
   ]
  },
  {
   "cell_type": "code",
   "execution_count": 3,
   "id": "4b8308d5",
   "metadata": {
    "slideshow": {
     "slide_type": "fragment"
    }
   },
   "outputs": [
    {
     "name": "stdout",
     "output_type": "stream",
     "text": [
      "Firma:rwe\n",
      "Gehalt:400\n",
      "{'rwe': '400'}\n",
      "Firma:xx\n",
      "Gehalt:800\n",
      "{'rwe': '400', 'xx': '800'}\n",
      "Firma:x\n",
      "While Loop Ende\n",
      "\n",
      "Alle Nebeneinkünfte:\n",
      "{'rwe': '400', 'xx': '800'}\n"
     ]
    }
   ],
   "source": [
    "firma = 'default'\n",
    "nebeneinkünfte = {}\n",
    "while firma != 'x':\n",
    "    firma = input('Firma:')\n",
    "    if firma == 'x':\n",
    "        break\n",
    "    gehalt = input('Gehalt:')\n",
    "    erwerb = {firma: gehalt}\n",
    "    nebeneinkünfte.update(erwerb)\n",
    "    print(nebeneinkünfte)\n",
    "    \n",
    "print('While Loop Ende\\n')\n",
    "print('Alle Nebeneinkünfte:')\n",
    "print(nebeneinkünfte)"
   ]
  },
  {
   "cell_type": "markdown",
   "id": "faacd6b2",
   "metadata": {
    "slideshow": {
     "slide_type": "slide"
    }
   },
   "source": [
    "# Flow Control\n",
    "\n",
    "Für mehr Kontrolle in For- und While-Schleifen sorgen die folgenden Anweisungen:\n",
    "\n",
    "**break** - bricht eine Schleife frühzeitig ab\n",
    "\n",
    "**continue** - überspringt die aktuelle Iteration. Der Rest der Schleife wird jedoch weiter ausgeführt \n",
    "\n",
    "**pass** - ignoriert eine Bedingung und führt die Schleife weiter aus"
   ]
  },
  {
   "cell_type": "code",
   "execution_count": 4,
   "id": "9694f01c",
   "metadata": {
    "slideshow": {
     "slide_type": "slide"
    }
   },
   "outputs": [
    {
     "name": "stdout",
     "output_type": "stream",
     "text": [
      "Start Loop\n",
      "\n",
      "Number is 0\n",
      "Number is 1\n",
      "Number is 2\n",
      "Number is 3\n",
      "Number is 4\n",
      "Number is 5\n",
      "Number is 6\n",
      "Number is 7\n",
      "Number is 8\n",
      "Number is 9\n",
      "\n",
      " End Loop\n"
     ]
    }
   ],
   "source": [
    "# Normale Schleife\n",
    "print('Start Loop\\n')\n",
    "\n",
    "for number in range(10):\n",
    "    print('Number is ' + str(number))\n",
    "\n",
    "print('\\n End Loop')"
   ]
  },
  {
   "cell_type": "code",
   "execution_count": 5,
   "id": "2b49dc21",
   "metadata": {
    "slideshow": {
     "slide_type": "slide"
    }
   },
   "outputs": [
    {
     "name": "stdout",
     "output_type": "stream",
     "text": [
      "Start Loop\n",
      "\n",
      "Number is 0\n",
      "Number is 1\n",
      "Number is 2\n",
      "Number is 3\n",
      "Number is 4\n",
      "\n",
      "End Loop\n"
     ]
    }
   ],
   "source": [
    "# Break\n",
    "print('Start Loop\\n')\n",
    "\n",
    "for number in range(10):\n",
    "    if number == 5:\n",
    "        break\n",
    "    print('Number is ' + str(number))\n",
    "\n",
    "print('\\nEnd Loop')"
   ]
  },
  {
   "cell_type": "code",
   "execution_count": 6,
   "id": "f9da56e1",
   "metadata": {
    "slideshow": {
     "slide_type": "slide"
    }
   },
   "outputs": [
    {
     "name": "stdout",
     "output_type": "stream",
     "text": [
      "Start Loop\n",
      "\n",
      "Number is 0\n",
      "Number is 1\n",
      "Number is 2\n",
      "Number is 3\n",
      "Number is 4\n",
      "Number is 6\n",
      "Number is 7\n",
      "Number is 8\n",
      "Number is 9\n",
      "\n",
      "End Loop\n"
     ]
    }
   ],
   "source": [
    "# Continue\n",
    "print('Start Loop\\n')\n",
    "\n",
    "for number in range(10):\n",
    "    if number == 5:\n",
    "        continue\n",
    "    print('Number is ' + str(number))\n",
    "\n",
    "print('\\nEnd Loop')"
   ]
  },
  {
   "cell_type": "code",
   "execution_count": 7,
   "id": "da07a61e",
   "metadata": {
    "scrolled": true,
    "slideshow": {
     "slide_type": "slide"
    }
   },
   "outputs": [
    {
     "name": "stdout",
     "output_type": "stream",
     "text": [
      "Start Loop\n",
      "\n",
      "Number is 0\n",
      "Number is 1\n",
      "Number is 2\n",
      "Number is 3\n",
      "Number is 4\n",
      "Number is 5\n",
      "Number is 6\n",
      "Number is 7\n",
      "Number is 8\n",
      "Number is 9\n",
      "\n",
      "End Loop\n"
     ]
    }
   ],
   "source": [
    "# Pass\n",
    "print('Start Loop\\n')\n",
    "\n",
    "for number in range(10):\n",
    "    if number == 5:\n",
    "        pass\n",
    "    print('Number is ' + str(number))\n",
    "\n",
    "print('\\nEnd Loop')"
   ]
  },
  {
   "cell_type": "markdown",
   "id": "d09fdbdc",
   "metadata": {
    "slideshow": {
     "slide_type": "slide"
    }
   },
   "source": [
    "### Pass\n",
    "\n",
    "`pass` wird häufig auch als Platzhalter eingefügt wenn beispielweise Funktionen noch nicht implementiert sind."
   ]
  },
  {
   "cell_type": "code",
   "execution_count": 8,
   "id": "a323fb24",
   "metadata": {
    "slideshow": {
     "slide_type": "-"
    }
   },
   "outputs": [],
   "source": [
    "def my_function():\n",
    "    pass\n",
    "\n",
    "my_function()"
   ]
  },
  {
   "cell_type": "markdown",
   "id": "e74a7453",
   "metadata": {
    "slideshow": {
     "slide_type": "slide"
    }
   },
   "source": [
    "# Zeit für Feedback\n",
    "\n",
    "\n",
    "\n",
    "Link: https://ahaslides.com/HG4ZU\n",
    "\n",
    "![Feedback QR Code](../imgs/qrcode_vl4.png)\n",
    "\n"
   ]
  },
  {
   "cell_type": "code",
   "execution_count": null,
   "id": "00df5096",
   "metadata": {},
   "outputs": [],
   "source": []
  }
 ],
 "metadata": {
  "celltoolbar": "Slideshow",
  "kernelspec": {
   "display_name": "Python 3 (ipykernel)",
   "language": "python",
   "name": "python3"
  },
  "language_info": {
   "codemirror_mode": {
    "name": "ipython",
    "version": 3
   },
   "file_extension": ".py",
   "mimetype": "text/x-python",
   "name": "python",
   "nbconvert_exporter": "python",
   "pygments_lexer": "ipython3",
   "version": "3.9.15"
  }
 },
 "nbformat": 4,
 "nbformat_minor": 5
}
