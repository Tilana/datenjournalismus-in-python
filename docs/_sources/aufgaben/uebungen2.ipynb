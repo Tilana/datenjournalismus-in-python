{
 "cells": [
  {
   "cell_type": "markdown",
   "id": "d1bfe66b",
   "metadata": {},
   "source": [
    "# String Methoden, Vergleichs- & boolsche Operatoren, if-elif-else\n",
    "Diese Aufgaben sind etwas anspruchsvoller. Probiert so weit wie möglich zu kommen. Falls ihr nicht weiter wisst probiert es mit einer Internetrecherche. Sonst reichen auch Lösungsansätze.\n",
    "## Strings und ihre Methoden\n",
    "Nutze die Methoden von Strings, um die gegebenen Anforderungen zu erfüllen."
   ]
  },
  {
   "cell_type": "code",
   "execution_count": null,
   "id": "af9271fb",
   "metadata": {},
   "outputs": [],
   "source": [
    "# Trenne den Apfel vom Baum, aber den Baum nicht vom Stamm\n",
    "a = \"Apfel-Baum-Stamm\""
   ]
  },
  {
   "cell_type": "code",
   "execution_count": null,
   "id": "23cff2c2",
   "metadata": {
    "tags": [
     "hide-input",
     "skip-execution"
    ]
   },
   "outputs": [],
   "source": [
    "print(a.split('-', 1))"
   ]
  },
  {
   "cell_type": "code",
   "execution_count": null,
   "id": "40413464",
   "metadata": {},
   "outputs": [],
   "source": [
    "# Schreibe den Namen zusammen\n",
    "name = ['Georg', 'Elser']"
   ]
  },
  {
   "cell_type": "code",
   "execution_count": null,
   "id": "2951d953",
   "metadata": {
    "tags": [
     "skip-execution",
     "hide-input"
    ]
   },
   "outputs": [],
   "source": [
    "# Möglichkeit 1: \n",
    "print(name[0] + ' ' + name[1])\n",
    "\n",
    "# Möglichkeit 2 mit join als Umkehroperation von split()\n",
    "print(' '.join(name))\n"
   ]
  },
  {
   "cell_type": "code",
   "execution_count": null,
   "id": "3472e27d",
   "metadata": {},
   "outputs": [],
   "source": [
    "# Füge dein Alter und deine Größe ein.\n",
    "text = 'Ich bin {} Jahre alt und {} cm groß.'"
   ]
  },
  {
   "cell_type": "code",
   "execution_count": null,
   "id": "5d3f1c39",
   "metadata": {
    "tags": [
     "hide-input",
     "skip-execution"
    ]
   },
   "outputs": [],
   "source": [
    "alter = 23\n",
    "groesse = 179\n",
    "\n",
    "# Möglichkeit 1 mit format\n",
    "text = 'Ich bin {} Jahre alt und {} cm groß'.format(alter, groesse)\n",
    "print(text)\n",
    "\n",
    "# Möglichkeit 2 mit f'-Strings für eine übersichtlichere Darstellung\n",
    "text = f'Ich bin {alter} Jahre alt und {groesse} cm groß.'\n",
    "print(text)"
   ]
  },
  {
   "cell_type": "code",
   "execution_count": null,
   "id": "5b8e92e2",
   "metadata": {},
   "outputs": [],
   "source": [
    "# Ersetze alle 'kl' durch 'r'\n",
    "satz = \"Alle kleinen Klaviere klingen geklaut besser.\""
   ]
  },
  {
   "cell_type": "code",
   "execution_count": null,
   "id": "b3ae78ae",
   "metadata": {
    "tags": [
     "skip-execution",
     "hide-input"
    ]
   },
   "outputs": [],
   "source": [
    "print(satz.replace('kl', 'r'))"
   ]
  },
  {
   "cell_type": "code",
   "execution_count": null,
   "id": "d8309202",
   "metadata": {},
   "outputs": [],
   "source": [
    "# Finde die Nadel im Heuhaufen\n",
    "heuhaufen = \"HeuHeuHeuHeuHeuHeuHeuHeuHeuHeuHeuHeuHeuHeuHeuHeuHeuHeuHeuHeuHeuHeuHeuHeuHeuHeuHeuHeuNadelHeuHeuHeuHeuHeuHeuHeuHeuHeuHeuHeuHeuHeuHeuHeuHeuHeuHeuHeuHeuHeuHeuHeuHeuHeuHeuHeuHeuHeuHeuHeuHeuHeuHeuHeuHeuHeuHeuHeuHeuHeuHeuHeuHeuHeuHeuHeuHeuHeuHeuHeuHeuHeuHeuHeuHeu\"\n"
   ]
  },
  {
   "cell_type": "code",
   "execution_count": null,
   "id": "3ef00b6b",
   "metadata": {
    "tags": [
     "hide-input",
     "skip-execution"
    ]
   },
   "outputs": [],
   "source": [
    "# Möglichkeit 1:\n",
    "print(heuhaufen.split('N'))\n",
    "\n",
    "# Möglichkeit 2:\n",
    "idx = heuhaufen.find('Nadel')\n",
    "print(heuhaufen[idx:idx + 5])"
   ]
  },
  {
   "cell_type": "code",
   "execution_count": null,
   "id": "733d55f2",
   "metadata": {},
   "outputs": [],
   "source": [
    "# Befindet sich überhaupt eine Nadel im Heuhaufen?"
   ]
  },
  {
   "cell_type": "code",
   "execution_count": null,
   "id": "6d5c9656",
   "metadata": {
    "tags": [
     "hide-input",
     "skip-execution"
    ]
   },
   "outputs": [],
   "source": [
    "if 'Nadel' in heuhaufen:\n",
    "    print('Ja')"
   ]
  },
  {
   "cell_type": "code",
   "execution_count": null,
   "id": "07a5b049",
   "metadata": {},
   "outputs": [],
   "source": [
    "# Großgeschrieben lässt sich die Nadel besser finden. Ändere Nadel im Heuhaufen zu NADEL um"
   ]
  },
  {
   "cell_type": "code",
   "execution_count": null,
   "id": "a0b3c956",
   "metadata": {
    "tags": [
     "skip-execution",
     "hide-input"
    ]
   },
   "outputs": [],
   "source": [
    "print(heuhaufen.replace('Nadel', 'NADEL'))"
   ]
  },
  {
   "cell_type": "code",
   "execution_count": null,
   "id": "95861be1",
   "metadata": {},
   "outputs": [],
   "source": [
    "# Lösche die voranstehenden und nachfolgenden Leerzeichen im Text\n",
    "text = '         Ich bin ein Text.       '"
   ]
  },
  {
   "cell_type": "code",
   "execution_count": null,
   "id": "c049ce50",
   "metadata": {
    "tags": [
     "skip-execution",
     "hide-input"
    ]
   },
   "outputs": [],
   "source": [
    "# Die strip()-Methode kann verwendet werden, um Texte am Anfang und Ende zu bereinigen.\n",
    "print(text.strip())"
   ]
  },
  {
   "cell_type": "code",
   "execution_count": null,
   "id": "e4d08b50",
   "metadata": {},
   "outputs": [],
   "source": [
    "# Überprüfe ob der string nur aus Buchstaben besteht\n",
    "string = 'ABCDEFGH1JKLMN0PQRSTUVWXYZ'"
   ]
  },
  {
   "cell_type": "code",
   "execution_count": null,
   "id": "549ea397",
   "metadata": {
    "tags": [
     "hide-input",
     "skip-execution"
    ]
   },
   "outputs": [],
   "source": [
    "string.isalpha()"
   ]
  },
  {
   "cell_type": "markdown",
   "id": "8c332e0e",
   "metadata": {},
   "source": [
    "Ändere das Wort 'Ring' in Großbuchstaben um. Nutze dafür einmal `.replace()` und einmal `.upper()`"
   ]
  },
  {
   "cell_type": "code",
   "execution_count": null,
   "id": "9943813c",
   "metadata": {},
   "outputs": [],
   "source": [
    "satz = \"Ein Ring, sie zu knechten.\""
   ]
  },
  {
   "cell_type": "code",
   "execution_count": null,
   "id": "dcc95c5e",
   "metadata": {
    "tags": [
     "skip-execution",
     "hide-input"
    ]
   },
   "outputs": [],
   "source": [
    "# Möglichkeit 1 mit replace\n",
    "print(satz.replace('Ring', 'RING'))\n",
    "\n",
    "satz = \"Ein Ring, sie zu knechten.\"\n",
    "# Möglichkeit 2 mit upper\n",
    "token = satz.split()\n",
    "print(token)\n",
    "token[1] = token[1].upper()\n",
    "print(token)\n",
    "satz = ' '.join(token)\n",
    "print(satz)"
   ]
  },
  {
   "cell_type": "markdown",
   "id": "ed8e971b",
   "metadata": {},
   "source": [
    "## Was ist wahr in Python?\n",
    "Welche Werte werden von Python als wahr ausgewertet? Welche Regel steckt dahinter?\n"
   ]
  },
  {
   "cell_type": "code",
   "execution_count": null,
   "id": "e180f034",
   "metadata": {},
   "outputs": [],
   "source": [
    "a = 20\n",
    "b = 0\n",
    "c = 'False'\n",
    "d = 0.1\n",
    "e = []\n",
    "f = ''\n",
    "g = None"
   ]
  },
  {
   "cell_type": "code",
   "execution_count": null,
   "id": "a1bf1b47",
   "metadata": {
    "tags": [
     "hide-input",
     "skip-execution"
    ]
   },
   "outputs": [],
   "source": [
    "# Mit bool(<variable>) wird eine Variable in einen Boolean verwandelt und wir sehen ihren Wahrheitswert\n",
    "print(bool(a))"
   ]
  },
  {
   "cell_type": "markdown",
   "id": "b822ca21",
   "metadata": {},
   "source": [
    "## Ein Gleichnis\n",
    "Gegeben sind fünf Thesen. Überprüfe mithilfe der Vergleichsoperatoren, die in der Vorlesung vorgestellt wurden, ob sie wahr sind."
   ]
  },
  {
   "cell_type": "code",
   "execution_count": null,
   "id": "afcf28e9",
   "metadata": {},
   "outputs": [],
   "source": [
    "\"\"\"These 1:\n",
    "Das doppelte von zehn ist mindestens so groß wie das dreifache von fünf.\"\"\""
   ]
  },
  {
   "cell_type": "code",
   "execution_count": null,
   "id": "85570d1a",
   "metadata": {
    "tags": [
     "hide-input",
     "skip-execution"
    ]
   },
   "outputs": [],
   "source": [
    "2*10 >= 3*5"
   ]
  },
  {
   "cell_type": "code",
   "execution_count": null,
   "id": "67f35f88",
   "metadata": {},
   "outputs": [],
   "source": [
    "\"\"\"\n",
    "These 2:\n",
    "13 zum Quadrat ist genau 169.\"\"\""
   ]
  },
  {
   "cell_type": "code",
   "execution_count": null,
   "id": "043f207f",
   "metadata": {
    "tags": [
     "hide-input",
     "skip-execution"
    ]
   },
   "outputs": [],
   "source": [
    "13**2 == 169"
   ]
  },
  {
   "cell_type": "code",
   "execution_count": null,
   "id": "efdae0ce",
   "metadata": {},
   "outputs": [],
   "source": [
    "\"\"\"These 3:\n",
    "Drei mal acht ist nicht das gleiche wie vier mal sechs.\"\"\""
   ]
  },
  {
   "cell_type": "code",
   "execution_count": null,
   "id": "5e43dbfe",
   "metadata": {
    "tags": [
     "hide-input",
     "skip-execution"
    ]
   },
   "outputs": [],
   "source": [
    "3*8 != 4*6"
   ]
  },
  {
   "cell_type": "code",
   "execution_count": null,
   "id": "8062b08e",
   "metadata": {},
   "outputs": [],
   "source": [
    "\"\"\"These 4:\n",
    "Fünf geteilt durch zwei ist weniger als dreimal ein halb.\"\"\""
   ]
  },
  {
   "cell_type": "code",
   "execution_count": null,
   "id": "6b512bb2",
   "metadata": {
    "tags": [
     "hide-input",
     "skip-execution"
    ]
   },
   "outputs": [],
   "source": [
    "5/2 < 3*0.5"
   ]
  },
  {
   "cell_type": "code",
   "execution_count": null,
   "id": "55268548",
   "metadata": {},
   "outputs": [],
   "source": [
    "\"\"\"These 5:\n",
    "Das zehnfache von 83 ist niemals so groß wie das fünffache von 161.\"\"\""
   ]
  },
  {
   "cell_type": "code",
   "execution_count": null,
   "id": "fd562e9d",
   "metadata": {
    "tags": [
     "hide-input",
     "skip-execution"
    ]
   },
   "outputs": [],
   "source": [
    "10*83 < 161"
   ]
  },
  {
   "cell_type": "markdown",
   "id": "ae9e2227",
   "metadata": {},
   "source": [
    "## Operation Wahrheit\n",
    "Mithilfe der (aussagen-)logischen Operatoren **not**, **or** und **and** können boolesche Werte ausgewertet werden. Ergänze diese Operatoren in den folgenden **if**-Abfragen, sodass ein bekannter Liedtext ausgegeben wird.\n"
   ]
  },
  {
   "cell_type": "code",
   "execution_count": null,
   "id": "e907019a",
   "metadata": {},
   "outputs": [],
   "source": [
    "if (3 < 5 and 64 > 66):\n",
    "    print('Griechischer Wein ist so wie das Blut der Erde')\n",
    "if  len('') == 1:\n",
    "    print('Komm, schenk dir ein')\n",
    "if ('Hallo' or 'False'):\n",
    "    print('Ich bau ein Schloss')\n",
    "if True or False:\n",
    "    print('Und wenn ich dann traurig werde')\n",
    "if 97 == 22:\n",
    "    print('Liegt es daran, dass ich immer träume von daheim')\n",
    "if 0 or 1 or 2:\n",
    "    print('Morgen Kinder wirds nix geben.')\n",
    "if False or True and False or True:\n",
    "    print('Du musst verzeihn.')"
   ]
  },
  {
   "cell_type": "code",
   "execution_count": null,
   "id": "7aea48f5",
   "metadata": {
    "tags": [
     "skip-execution",
     "hide-input"
    ]
   },
   "outputs": [],
   "source": [
    "if not(3 < 5 and 64 > 66):\n",
    "    print('Griechischer Wein ist so wie das Blut der Erde')\n",
    "if  not len('') == 1:\n",
    "    print('Komm, schenk dir ein')\n",
    "if not ('Hallo' or 'False'):\n",
    "    print('Ich bau ein Schloss')\n",
    "if True or False:\n",
    "    print('Und wenn ich dann traurig werde')\n",
    "if not 97 == 22:\n",
    "    print('Liegt es daran, dass ich immer träume von daheim')\n",
    "if 0 and 1 and 2:\n",
    "    print('Morgen Kinder wirds nix geben.')\n",
    "if False or True and False or True:\n",
    "    print('Du musst verzeihn.')"
   ]
  },
  {
   "cell_type": "markdown",
   "id": "cfe9c2a4",
   "metadata": {},
   "source": [
    "\n",
    "# Kontrollstrukturen\n"
   ]
  },
  {
   "cell_type": "markdown",
   "id": "eac9d9f4",
   "metadata": {},
   "source": [
    "Schreibe ein **if**-Statement welches prüft, ob eine Zahl positiv, negativ oder gleich null ist. Gebe als Ausgabe den Satz \"x ist positiv/negativ/null.\" entsprechend dem jeweiligen Fall aus. X soll dabei durch die überprüfte Zahl ersetzt werden.\n"
   ]
  },
  {
   "cell_type": "code",
   "execution_count": null,
   "id": "7fcae0c8",
   "metadata": {},
   "outputs": [],
   "source": [
    "# Dein Code"
   ]
  },
  {
   "cell_type": "code",
   "execution_count": null,
   "id": "6a634a3e",
   "metadata": {
    "tags": [
     "skip-execution",
     "hide-input"
    ]
   },
   "outputs": [],
   "source": [
    "x = float(input('Deine Zahl ist:'))\n",
    "\n",
    "text = '{} ist {}'\n",
    "\n",
    "if x > 0:\n",
    "    text = text.format(x, 'positiv')\n",
    "elif x < 0:\n",
    "    text = text.format(x, 'negativ')\n",
    "else:\n",
    "    text = text.format(x, '0')\n",
    "\n",
    "print(text)\n",
    "\n"
   ]
  }
 ],
 "metadata": {
  "celltoolbar": "Tags",
  "kernelspec": {
   "display_name": "Python 3 (ipykernel)",
   "language": "python",
   "name": "python3"
  },
  "language_info": {
   "codemirror_mode": {
    "name": "ipython",
    "version": 3
   },
   "file_extension": ".py",
   "mimetype": "text/x-python",
   "name": "python",
   "nbconvert_exporter": "python",
   "pygments_lexer": "ipython3",
   "version": "3.9.15"
  },
  "livereveal": {
   "autolaunch": true
  },
  "vscode": {
   "interpreter": {
    "hash": "f9f85f796d01129d0dd105a088854619f454435301f6ffec2fea96ecbd9be4ac"
   }
  }
 },
 "nbformat": 4,
 "nbformat_minor": 5
}
