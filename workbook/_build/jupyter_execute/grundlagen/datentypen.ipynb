{
 "cells": [
  {
   "cell_type": "markdown",
   "id": "70e80535",
   "metadata": {
    "slideshow": {
     "slide_type": "slide"
    }
   },
   "source": [
    "# Datentypen \n",
    "\n",
    "Jede Information in Python hat einen Datentyp. \n",
    "Je nach Datentyp sind bestimmte Berechnungen oder Methoden verfügbar.\n",
    "\n",
    "Die grundlegenden Datentypen:\n",
    "\n",
    "\n",
    "| Datentyp  | Beschreibung  | Beispiel |\n",
    "|----------|:-------------  |:-------- |\n",
    "| int |  *integer* - ganze Zahl |  3, 9031, 0, -18|\n",
    "| float |  Kommazahl | 2.4, -99.99, 0.007 |\n",
    "| string | Zeichenkette | \"Hello\", '23.9', 'String mit Zahlen 123' |\n",
    "| bool |  *boolean* - Wahrheitswerte | True, False |\n"
   ]
  },
  {
   "cell_type": "markdown",
   "id": "49fa17be",
   "metadata": {},
   "source": [
    "## Abfrage Datentyp\n",
    "\n",
    "Der Datentyp einer Variable kann mit `type()` abgefragt werden."
   ]
  },
  {
   "cell_type": "code",
   "execution_count": 1,
   "id": "aa3175a2",
   "metadata": {},
   "outputs": [
    {
     "data": {
      "text/plain": [
       "int"
      ]
     },
     "execution_count": 1,
     "metadata": {},
     "output_type": "execute_result"
    }
   ],
   "source": [
    "type(-3200191)"
   ]
  },
  {
   "cell_type": "code",
   "execution_count": 2,
   "id": "bb7624bf",
   "metadata": {},
   "outputs": [
    {
     "data": {
      "text/plain": [
       "float"
      ]
     },
     "execution_count": 2,
     "metadata": {},
     "output_type": "execute_result"
    }
   ],
   "source": [
    "type(23.8)"
   ]
  },
  {
   "cell_type": "code",
   "execution_count": 3,
   "id": "95468dbc",
   "metadata": {},
   "outputs": [
    {
     "data": {
      "text/plain": [
       "str"
      ]
     },
     "execution_count": 3,
     "metadata": {},
     "output_type": "execute_result"
    }
   ],
   "source": [
    "type('Hello World')"
   ]
  },
  {
   "cell_type": "code",
   "execution_count": 4,
   "id": "6e323fd7",
   "metadata": {},
   "outputs": [
    {
     "data": {
      "text/plain": [
       "bool"
      ]
     },
     "execution_count": 4,
     "metadata": {},
     "output_type": "execute_result"
    }
   ],
   "source": [
    "type(True)"
   ]
  },
  {
   "cell_type": "markdown",
   "id": "bd436a1e",
   "metadata": {},
   "source": [
    "## Ändern des Datentyps - Type Castings\n",
    "\n",
    "Der Datentyp einer Variable kann mithilfe der gleichnamigen Funktionen abgeändert werden. Dies wird auch *Type Casting* genannt."
   ]
  },
  {
   "cell_type": "code",
   "execution_count": 5,
   "id": "8282561d",
   "metadata": {},
   "outputs": [
    {
     "name": "stdout",
     "output_type": "stream",
     "text": [
      "5.7\n",
      "<class 'float'>\n",
      "5\n",
      "<class 'int'>\n",
      "5.7\n",
      "<class 'str'>\n",
      "True\n",
      "<class 'bool'>\n"
     ]
    }
   ],
   "source": [
    "# Von float zu...\n",
    "value = 5.7\n",
    "print(value)\n",
    "print(type(value))\n",
    "\n",
    "# von float zu int\n",
    "var = int(value)\n",
    "print(var)\n",
    "print(type(var))\n",
    "\n",
    "# von float zu string\n",
    "var = str(value)\n",
    "print(var)\n",
    "print(type(var))\n",
    "\n",
    "# von float zu bool\n",
    "var = bool(value)\n",
    "print(var)\n",
    "print(type(var))"
   ]
  },
  {
   "cell_type": "code",
   "execution_count": 6,
   "id": "169c3367",
   "metadata": {},
   "outputs": [
    {
     "name": "stdout",
     "output_type": "stream",
     "text": [
      "5\n",
      "<class 'int'>\n",
      "5.0\n",
      "<class 'float'>\n",
      "5\n",
      "<class 'str'>\n",
      "True\n",
      "<class 'bool'>\n"
     ]
    }
   ],
   "source": [
    "# Von int... \n",
    "value = 5\n",
    "print(value)\n",
    "print(type(value))\n",
    "\n",
    "# von int zu float\n",
    "var = float(value)\n",
    "print(var)\n",
    "print(type(var))\n",
    "\n",
    "# von int zu string\n",
    "var = str(value)\n",
    "print(var)\n",
    "print(type(var))\n",
    "\n",
    "# von int zu boolean\n",
    "var = bool(value)\n",
    "print(var)\n",
    "print(type(var))"
   ]
  },
  {
   "cell_type": "code",
   "execution_count": 7,
   "id": "88333989",
   "metadata": {},
   "outputs": [
    {
     "name": "stdout",
     "output_type": "stream",
     "text": [
      "3.2\n",
      "<class 'str'>\n",
      "3.2\n",
      "<class 'float'>\n",
      "True\n",
      "<class 'bool'>\n"
     ]
    }
   ],
   "source": [
    "# Von string zu ... \n",
    "value = '3.2'\n",
    "print(value)\n",
    "print(type(value))\n",
    "\n",
    "# von string zu float\n",
    "var = float(value)\n",
    "print(var)\n",
    "print(type(var))\n",
    "\n",
    "# von string zu boolean\n",
    "var = bool(value)\n",
    "print(var)\n",
    "print(type(var))"
   ]
  },
  {
   "cell_type": "code",
   "execution_count": 8,
   "id": "142027c3",
   "metadata": {},
   "outputs": [
    {
     "name": "stdout",
     "output_type": "stream",
     "text": [
      "False\n",
      "<class 'bool'>\n",
      "0\n",
      "<class 'int'>\n",
      "0.0\n",
      "<class 'float'>\n",
      "False\n",
      "<class 'str'>\n"
     ]
    }
   ],
   "source": [
    "# Von boolean zu...\n",
    "value = False\n",
    "print(value)\n",
    "print(type(value))\n",
    "\n",
    "# von bool zu int\n",
    "var = int(value)\n",
    "print(var)\n",
    "print(type(var))\n",
    "\n",
    "# von bool zu float\n",
    "var = float(value)\n",
    "print(var)\n",
    "print(type(var))\n",
    "\n",
    "# von bool zu string\n",
    "var = str(value)\n",
    "print(var)\n",
    "print(type(var))\n"
   ]
  },
  {
   "cell_type": "markdown",
   "id": "b973502a",
   "metadata": {},
   "source": [
    ":::warning\n",
    "\n",
    "Die Umwandlung zwischen Datentypen, beispielsweise von *string* zu *int*, funktioniert nur wenn der string den Datentyp, in unserem Beispiel eine ganze Zahl und eben nur diese, beinhaltet.\n",
    "\n",
    ":::"
   ]
  },
  {
   "cell_type": "code",
   "execution_count": 9,
   "id": "d2c6196a",
   "metadata": {},
   "outputs": [
    {
     "name": "stdout",
     "output_type": "stream",
     "text": [
      "-982\n",
      "<class 'int'>\n"
     ]
    }
   ],
   "source": [
    "# String mit ganzer Zahl zu int\n",
    "value = '-982'\n",
    "var = int(value)\n",
    "print(var)\n",
    "print(type(var))"
   ]
  },
  {
   "cell_type": "code",
   "execution_count": 10,
   "id": "ee648146",
   "metadata": {},
   "outputs": [
    {
     "ename": "ValueError",
     "evalue": "invalid literal for int() with base 10: '5.6'",
     "output_type": "error",
     "traceback": [
      "\u001b[0;31m---------------------------------------------------------------------------\u001b[0m",
      "\u001b[0;31mValueError\u001b[0m                                Traceback (most recent call last)",
      "Input \u001b[0;32mIn [10]\u001b[0m, in \u001b[0;36m<cell line: 3>\u001b[0;34m()\u001b[0m\n\u001b[1;32m      1\u001b[0m \u001b[38;5;66;03m# von string zu int\u001b[39;00m\n\u001b[1;32m      2\u001b[0m value \u001b[38;5;241m=\u001b[39m \u001b[38;5;124m'\u001b[39m\u001b[38;5;124m5.6\u001b[39m\u001b[38;5;124m'\u001b[39m\n\u001b[0;32m----> 3\u001b[0m var \u001b[38;5;241m=\u001b[39m \u001b[38;5;28;43mint\u001b[39;49m\u001b[43m(\u001b[49m\u001b[43mvalue\u001b[49m\u001b[43m)\u001b[49m\n\u001b[1;32m      4\u001b[0m \u001b[38;5;28mprint\u001b[39m(var)\n\u001b[1;32m      5\u001b[0m \u001b[38;5;28mprint\u001b[39m(\u001b[38;5;28mtype\u001b[39m(var))\n",
      "\u001b[0;31mValueError\u001b[0m: invalid literal for int() with base 10: '5.6'"
     ]
    }
   ],
   "source": [
    "# von string zu int\n",
    "value = '5.6'\n",
    "var = int(value)\n",
    "print(var)\n",
    "print(type(var))"
   ]
  },
  {
   "cell_type": "code",
   "execution_count": 17,
   "id": "0a1769f4",
   "metadata": {},
   "outputs": [
    {
     "ename": "ValueError",
     "evalue": "invalid literal for int() with base 10: 'Eine ganze Zahl 6 mit anderen Zeichen'",
     "output_type": "error",
     "traceback": [
      "\u001b[0;31m---------------------------------------------------------------------------\u001b[0m",
      "\u001b[0;31mValueError\u001b[0m                                Traceback (most recent call last)",
      "Cell \u001b[0;32mIn [17], line 3\u001b[0m\n\u001b[1;32m      1\u001b[0m \u001b[38;5;66;03m# von string zu int\u001b[39;00m\n\u001b[1;32m      2\u001b[0m value \u001b[38;5;241m=\u001b[39m \u001b[38;5;124m'\u001b[39m\u001b[38;5;124mEine ganze Zahl 6 mit anderen Zeichen\u001b[39m\u001b[38;5;124m'\u001b[39m\n\u001b[0;32m----> 3\u001b[0m var \u001b[38;5;241m=\u001b[39m \u001b[38;5;28mint\u001b[39m(value)\n\u001b[1;32m      4\u001b[0m \u001b[38;5;28mprint\u001b[39m(var)\n\u001b[1;32m      5\u001b[0m \u001b[38;5;28mprint\u001b[39m(\u001b[38;5;28mtype\u001b[39m(var))\n",
      "\u001b[0;31mValueError\u001b[0m: invalid literal for int() with base 10: 'Eine ganze Zahl 6 mit anderen Zeichen'"
     ]
    }
   ],
   "source": [
    "# von string zu int\n",
    "value = 'Eine ganze Zahl 6 mit anderen Zeichen'\n",
    "var = int(value)\n",
    "print(var)\n",
    "print(type(var))"
   ]
  },
  {
   "cell_type": "code",
   "execution_count": null,
   "id": "ab456467",
   "metadata": {},
   "outputs": [],
   "source": []
  }
 ],
 "metadata": {
  "celltoolbar": "Slideshow",
  "kernelspec": {
   "display_name": "Python 3.9.13 64-bit",
   "language": "python",
   "name": "python3"
  },
  "language_info": {
   "codemirror_mode": {
    "name": "ipython",
    "version": 3
   },
   "file_extension": ".py",
   "mimetype": "text/x-python",
   "name": "python",
   "nbconvert_exporter": "python",
   "pygments_lexer": "ipython3",
   "version": "3.8.10"
  },
  "livereveal": {
   "autolaunch": true
  },
  "vscode": {
   "interpreter": {
    "hash": "f9f85f796d01129d0dd105a088854619f454435301f6ffec2fea96ecbd9be4ac"
   }
  }
 },
 "nbformat": 4,
 "nbformat_minor": 5
}