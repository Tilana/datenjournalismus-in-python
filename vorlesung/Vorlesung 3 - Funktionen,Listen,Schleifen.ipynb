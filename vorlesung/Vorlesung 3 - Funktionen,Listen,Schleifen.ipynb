{
 "cells": [
  {
   "cell_type": "markdown",
   "id": "d9a3430d",
   "metadata": {
    "slideshow": {
     "slide_type": "slide"
    }
   },
   "source": [
    "# Datenjournalismus in Python - \n",
    "# Eine praktische Einführung in die Programmierung\n",
    "\n",
    "\n",
    "### Natalie Widmann\n",
    "\n",
    "\n",
    "\n",
    "\n",
    "Wintersemester 2022 / 2023\n",
    "\n",
    "\n",
    "Universität Leipzig\n",
    "\n",
    "\n",
    "\n"
   ]
  },
  {
   "cell_type": "markdown",
   "id": "7e785d50",
   "metadata": {
    "slideshow": {
     "slide_type": "slide"
    }
   },
   "source": [
    "# Vorlesung 3 - Funktionen, Listen & Schleifen\n",
    "\n",
    "\n",
    "## Inhalte\n",
    "\n",
    "Heute lernen wir:\n",
    "\n",
    "- Code lesen, verstehen und vereinfachen mithilfe von Funktionen\n",
    "- einfache Daten mit Listen darzustellen und deren Inhalte zu analysieren\n",
    "- Listen mithilfe von Schleifen zu bearbeiten um mehr Informationen daraus abzuleiten\n",
    "\n",
    "\n",
    "\n"
   ]
  },
  {
   "cell_type": "markdown",
   "id": "bba41643",
   "metadata": {
    "slideshow": {
     "slide_type": "slide"
    }
   },
   "source": [
    "#  Teil 1: Code Lesen und Verstehen\n",
    "\n",
    "## Recap: Automatisierte Wahlberichterstattung\n",
    "\n",
    "Was macht der Code?"
   ]
  },
  {
   "cell_type": "code",
   "execution_count": null,
   "id": "3f0183c3",
   "metadata": {
    "slideshow": {
     "slide_type": "slide"
    }
   },
   "outputs": [],
   "source": [
    "stadt = 'Görlitz'\n",
    "titel = 'Wahlen in {}'.format(stadt)\n",
    "\n",
    "kandidat1 = 'Helmut Wiese'\n",
    "prozent1 = 23.7\n",
    "\n",
    "kandidat2 = 'Gundula Lobrecht'\n",
    "prozent2 = 31.5\n",
    "\n",
    "\n",
    "if prozent1 == prozent2:\n",
    "    text = 'Die Wahl ist unentschieden. {} und {} erhalten beide {} Prozent der Stimmen.'\n",
    "    text = text.format(kandidat1, kandidat2, prozent1)\n",
    "else:\n",
    "    text = '{} gewinnt mit {} Prozent der Stimmen.'\n",
    "    vorsprung = ' Dies ist ein {} Vorsprung von {} Prozentpunkten.'\n",
    "    gewinner = kandidat1\n",
    "    prozent = prozent1\n",
    "    differenz = prozent1 - prozent2\n",
    "    \n",
    "    if prozent2 > prozent1:\n",
    "        gewinner = kandidat2\n",
    "        prozent = prozent2\n",
    "        differenz = prozent2 - prozent1\n",
    "        \n",
    "    text = text.format(gewinner, prozent)\n",
    "    differenz = round(differenz, 1)\n",
    "    \n",
    "    if differenz >= 0 and differenz <= 1:\n",
    "        ausmass = 'minimaler'\n",
    "    elif differenz > 1 and differenz < 3:\n",
    "        ausmass = 'knapper'\n",
    "    elif differenz >= 3 and differenz < 5:\n",
    "        ausmass = ''\n",
    "    elif differenz >= 5:\n",
    "        ausmass = 'erheblicher'\n",
    "    vorsprung = vorsprung.format(ausmass, differenz)\n",
    "    \n",
    "    amtsinhaber = ' {} wird neuer Bürgermeister von {}.'\n",
    "    amtsinhaber = amtsinhaber.format(gewinner, stadt)\n",
    "    if gewinner == kandidat2:\n",
    "        amtsinhaber = amtsinhaber.replace('neuer Bürgermeister', 'neue Bürgermeisterin')\n",
    "        \n",
    "    text = text + vorsprung + amtsinhaber\n",
    "      \n",
    "print(titel.upper(), text, sep='\\n\\n')\n"
   ]
  },
  {
   "cell_type": "markdown",
   "id": "b664f24e",
   "metadata": {
    "slideshow": {
     "slide_type": "slide"
    }
   },
   "source": [
    "# Funktionen\n",
    "\n",
    "Selbstdefinierte Funktionen helfen eine wiederkehrende Aufgabe zu erfüllen und den Code übersichtlich zu halten.\n",
    "\n",
    "\n",
    "\n",
    "\n",
    "## Syntax\n",
    "\n",
    "\n",
    "`def` ist das Schlüsselwort für eine Funktionsdefinition. Darauf folgt der Funktionsname, runde Klammern und ein Doppelpunkt. Alle Anweisungen, die eingerückt stehen werden beim Funktionsaufruf ausgeführt.\n",
    "\n",
    "\n",
    "\n",
    "![funktion](../imgs/funktion.png)\n",
    "\n",
    "\n",
    "Aufgerufen wird die Funktion über `<funktions_name>()`.\n",
    "\n",
    "\n",
    "### Beispiele"
   ]
  },
  {
   "cell_type": "code",
   "execution_count": null,
   "id": "8a35db0b",
   "metadata": {
    "slideshow": {
     "slide_type": "slide"
    }
   },
   "outputs": [],
   "source": [
    "# Funktion die Hallo Welt auf der Konsole ausgibt\n",
    "def say_hello_world():\n",
    "    print('Hallo Welt')"
   ]
  },
  {
   "cell_type": "code",
   "execution_count": null,
   "id": "5e788a78",
   "metadata": {
    "slideshow": {
     "slide_type": "fragment"
    }
   },
   "outputs": [],
   "source": [
    "say_hello_world()"
   ]
  },
  {
   "cell_type": "markdown",
   "id": "81597d62",
   "metadata": {
    "slideshow": {
     "slide_type": "slide"
    }
   },
   "source": [
    "## Parameter\n",
    "\n",
    "Funktionen können flexibler gestaltet werden, in dem Eingabeparameter definiert werden.\n",
    "\n",
    "Innerhalb dieser Funktion können diese Parameter wie ganz normale Variablen benutzt werden. \n"
   ]
  },
  {
   "cell_type": "code",
   "execution_count": null,
   "id": "8ad0f3a3",
   "metadata": {
    "slideshow": {
     "slide_type": "fragment"
    }
   },
   "outputs": [],
   "source": [
    "# Funktion die Hallo XY! auf der Konsole ausgibt\n",
    "def say_hello(name):\n",
    "    print(f'Hallo {name}!')"
   ]
  },
  {
   "cell_type": "code",
   "execution_count": null,
   "id": "4ee65b83",
   "metadata": {
    "slideshow": {
     "slide_type": "fragment"
    }
   },
   "outputs": [],
   "source": [
    "say_hello('Anna')"
   ]
  },
  {
   "cell_type": "code",
   "execution_count": null,
   "id": "e6b46831",
   "metadata": {
    "slideshow": {
     "slide_type": "fragment"
    }
   },
   "outputs": [],
   "source": [
    "say_hello('Arne')"
   ]
  },
  {
   "cell_type": "markdown",
   "id": "3189d52d",
   "metadata": {
    "slideshow": {
     "slide_type": "slide"
    }
   },
   "source": [
    "Es können beliebig viele Parameter übergeben werden. \n"
   ]
  },
  {
   "cell_type": "code",
   "execution_count": null,
   "id": "afce6a41",
   "metadata": {
    "slideshow": {
     "slide_type": "fragment"
    }
   },
   "outputs": [],
   "source": [
    "# Funktion die drei Zahlen aufaddiert\n",
    "def add_three_numbers(a, b, c):\n",
    "    print(a + b + c)"
   ]
  },
  {
   "cell_type": "code",
   "execution_count": null,
   "id": "f75f3e1b",
   "metadata": {
    "slideshow": {
     "slide_type": "fragment"
    }
   },
   "outputs": [],
   "source": [
    "add_three_numbers(3,9,1)"
   ]
  },
  {
   "cell_type": "markdown",
   "id": "1958fd9d",
   "metadata": {
    "slideshow": {
     "slide_type": "slide"
    }
   },
   "source": [
    "### Optionale Parameter\n",
    "\n",
    "Ein Parameter ist optional wenn in der Funktionsdefinition ein default Wert definiert wird\n"
   ]
  },
  {
   "cell_type": "code",
   "execution_count": null,
   "id": "560b4c35",
   "metadata": {
    "slideshow": {
     "slide_type": "fragment"
    }
   },
   "outputs": [],
   "source": [
    "# Funktion die bis zu drei Zahlen aufaddiert\n",
    "def add_numbers(a, b=0, c=0):\n",
    "    print(a + b + c )"
   ]
  },
  {
   "cell_type": "code",
   "execution_count": null,
   "id": "8343a042",
   "metadata": {
    "slideshow": {
     "slide_type": "fragment"
    }
   },
   "outputs": [],
   "source": [
    "add_numbers(7,2,1)\n",
    "add_numbers(8,9)\n",
    "add_numbers(3)"
   ]
  },
  {
   "cell_type": "markdown",
   "id": "d031c0a1",
   "metadata": {
    "slideshow": {
     "slide_type": "slide"
    }
   },
   "source": [
    "## Funktionen mit Rückgabewert\n",
    "\n",
    "Die Beispielfunktionen haben bisher Werte auf der Konsole ausgegeben.\n",
    "\n",
    "Die Anwendung von Funktionen ist jedoch meist, dass sie Werte entgegen nehmen, diese modifizieren oder auf deren Grundlage etwas neues berechnen. Das Ergebnis wird zurückgegeben, damit im Hauptprogramm damit weitergearbeitet werden kann.\n",
    "\n",
    "Dafür wird `return` am Ende einer Funktion benutzt.\n",
    "\n",
    "![funktion](../imgs/funktion_return.png)\n",
    "\n",
    "\n",
    "### Beispiel\n"
   ]
  },
  {
   "cell_type": "code",
   "execution_count": null,
   "id": "b003ca8b",
   "metadata": {
    "slideshow": {
     "slide_type": "slide"
    }
   },
   "outputs": [],
   "source": [
    "# Funktion die einen String bearbeitet\n",
    "def clean_string(string):\n",
    "    return string.lower().strip().title()"
   ]
  },
  {
   "cell_type": "code",
   "execution_count": null,
   "id": "6c987e03",
   "metadata": {
    "slideshow": {
     "slide_type": "fragment"
    }
   },
   "outputs": [],
   "source": [
    "var = '   haLLO wELt!  '\n",
    "clean_var = clean_string(var)\n",
    "print(clean_var)"
   ]
  },
  {
   "cell_type": "code",
   "execution_count": null,
   "id": "28547b12",
   "metadata": {
    "slideshow": {
     "slide_type": "slide"
    }
   },
   "outputs": [],
   "source": [
    "# Funktion die den größeren Wert zurück gibt\n",
    "def get_maximum(wert1, wert2):\n",
    "    if wert1 > wert2:\n",
    "        return wert1\n",
    "    return wert2"
   ]
  },
  {
   "cell_type": "code",
   "execution_count": null,
   "id": "3178eb4e",
   "metadata": {
    "slideshow": {
     "slide_type": "fragment"
    }
   },
   "outputs": [],
   "source": [
    "maximum = get_maximum(3, 8)\n",
    "print(maximum)"
   ]
  },
  {
   "cell_type": "code",
   "execution_count": null,
   "id": "8ae8d1ae",
   "metadata": {
    "scrolled": true,
    "slideshow": {
     "slide_type": "fragment"
    }
   },
   "outputs": [],
   "source": [
    "maximum = get_maximum(13, 9)\n",
    "print(maximum)"
   ]
  },
  {
   "cell_type": "markdown",
   "id": "02fc005e",
   "metadata": {
    "slideshow": {
     "slide_type": "slide"
    }
   },
   "source": [
    "## Funktionen für die Automatisierte Wahlberichterstattung"
   ]
  },
  {
   "cell_type": "code",
   "execution_count": null,
   "id": "375dcca9",
   "metadata": {
    "slideshow": {
     "slide_type": "fragment"
    }
   },
   "outputs": [],
   "source": [
    "# Gender a text\n",
    "def gender(text):\n",
    "    return text.replace('neuer Bürgermeister', 'neue Bürgermeisterin')"
   ]
  },
  {
   "cell_type": "code",
   "execution_count": null,
   "id": "6e73aada",
   "metadata": {
    "slideshow": {
     "slide_type": "fragment"
    }
   },
   "outputs": [],
   "source": [
    "text = 'XY wird neuer Bürgermeister.'\n",
    "gendered_text = gender(text)\n",
    "print(gendered_text)"
   ]
  },
  {
   "cell_type": "code",
   "execution_count": null,
   "id": "a81de1a8",
   "metadata": {
    "slideshow": {
     "slide_type": "slide"
    }
   },
   "outputs": [],
   "source": [
    "# Gender a text\n",
    "def gender(text):\n",
    "    text = text.replace('neuer Bürgermeister', 'neue Bürgermeisterin')\n",
    "    text = text.replace('Er', 'Sie')\n",
    "    return text"
   ]
  },
  {
   "cell_type": "code",
   "execution_count": null,
   "id": "005b9749",
   "metadata": {
    "slideshow": {
     "slide_type": "fragment"
    }
   },
   "outputs": [],
   "source": [
    "text = 'XY wird neuer Bürgermeister. Er holte 43 Prozent der Stimmen.'\n",
    "gendered_text = gender(text)\n",
    "print(gendered_text)"
   ]
  },
  {
   "cell_type": "markdown",
   "id": "afe6de29",
   "metadata": {
    "slideshow": {
     "slide_type": "slide"
    }
   },
   "source": [
    "## Automatisierte Wahlberichterstattung mit Funktionen"
   ]
  },
  {
   "cell_type": "code",
   "execution_count": null,
   "id": "2347d9b5",
   "metadata": {
    "slideshow": {
     "slide_type": "slide"
    }
   },
   "outputs": [],
   "source": [
    "# Erhalte Gewinner basierend auf den Prozent\n",
    "def get_gewinner(kandidat1, prozent1, kandidat2, prozent2):\n",
    "    if prozent1 > prozent2:\n",
    "        return kandidat1, prozent1\n",
    "    return kandidat2, prozent2\n",
    "\n",
    "# Berechne die Differenz zweier Zahlen\n",
    "def berechne_differenz(num1, num2):\n",
    "    return round(abs(num1 - num2), 1)\n",
    "\n",
    "# Bewerte den Vorsprung in Prozentpunkten\n",
    "def get_ausmass(differenz):\n",
    "    if differenz >= 0 and differenz <= 1:\n",
    "        ausmass = 'minimaler'\n",
    "    elif differenz > 1 and differenz < 3:\n",
    "        ausmass = 'knapper'\n",
    "    elif differenz >= 3 and differenz < 5:\n",
    "        ausmass = ''\n",
    "    elif differenz >= 5:\n",
    "        ausmass = 'erheblicher'\n",
    "    return ausmass\n",
    "    \n",
    "# Passe den Text dem Geschlecht an    \n",
    "def gender(text):\n",
    "    return text.replace('neuer Bürgermeister', 'neue Bürgermeisterin')"
   ]
  },
  {
   "cell_type": "code",
   "execution_count": null,
   "id": "e511501c",
   "metadata": {
    "slideshow": {
     "slide_type": "slide"
    }
   },
   "outputs": [],
   "source": [
    "# Wahldaten\n",
    "stadt = 'Görlitz'\n",
    "titel = 'Wahlen in {}'.format(stadt)\n",
    "\n",
    "kandidat1 = 'Helmut Wiese'\n",
    "prozent1 = 29.5\n",
    "\n",
    "kandidat2 = 'Gundula Lobrecht'\n",
    "prozent2 = 38.7\n",
    "\n",
    "# SKript\n",
    "if prozent1 == prozent2:\n",
    "    # Gleichstand\n",
    "    text = 'Die Wahl ist unentschieden. {} und {} erhalten beide {} Prozent der Stimmen.'\n",
    "    text = text.format(kandidat1, kandidat2, prozent1)\n",
    "else:\n",
    "    # Gewinner Text\n",
    "    text = '{} gewinnt mit {} Prozent der Stimmen.'\n",
    "    gewinner, prozent = get_gewinner(kandidat1, prozent1, kandidat2, prozent2)        \n",
    "    text = text.format(gewinner, prozent)\n",
    "    \n",
    "    # Vorsprung Text\n",
    "    vorsprung = ' Dies ist ein {} Vorsprung von {} Prozentpunkten.'\n",
    "    differenz = berechne_differenz(prozent1, prozent2)\n",
    "    ausmass = get_ausmass(differenz)\n",
    "    vorsprung = vorsprung.format(ausmass, differenz)\n",
    "    \n",
    "    # Amtsinhaber:in Text\n",
    "    amtsinhaber = ' {} wird neuer Bürgermeister von {}.'\n",
    "    amtsinhaber = amtsinhaber.format(gewinner, stadt)\n",
    "    if gewinner == kandidat2:\n",
    "        amtsinhaber = gender(amtsinhaber)\n",
    "\n",
    "\n",
    "    text = text + vorsprung + amtsinhaber \n",
    "    \n",
    "print(titel.upper(), text, sep='\\n\\n')\n"
   ]
  },
  {
   "cell_type": "markdown",
   "id": "39061754",
   "metadata": {
    "slideshow": {
     "slide_type": "slide"
    }
   },
   "source": [
    "# Teil 2 - Darstellung und Auswertung von einfachen Daten"
   ]
  },
  {
   "cell_type": "markdown",
   "id": "1f407c7a",
   "metadata": {
    "slideshow": {
     "slide_type": "slide"
    }
   },
   "source": [
    "Luftqualität in Leipzig\n",
    "\n",
    "![funktion](../imgs/luftqualitaet_leipzig.png)\n",
    "\n",
    "https://geoportal.leipzig.de/arcgis/apps/experiencebuilder/experience/?id=9a13182739c74c228ff27a0ec8fb7202"
   ]
  },
  {
   "cell_type": "markdown",
   "id": "47f2a517",
   "metadata": {
    "slideshow": {
     "slide_type": "slide"
    }
   },
   "source": [
    "### Hintergrund PM10\n",
    "\n",
    "Atmosphärische Partikel (PM) sind mikroskopische feste oder flüssige Materie, die in der Luft suspendiert sind. Quellen von Feinstaub können natürlich oder vom Mensch verursacht sein. Von größter Bedeutung für die Bevölkerungsgesundheit sind die Partikel, die klein genug sind, um in die tiefsten Teile der Lunge eingeatmet zu werden. Diese **Partikel haben einen Durchmesser von weniger als 10 Mikrometer** (ungefähr 1/7 der Dicke eines menschlichen Haares) und sind als PM10 definiert. PM10 ist eine **Mischung aus Materialien wie Rauch, Ruß, Staub, Salz, Säuren und Metallen.** Partikel bilden sich auch, wenn die von Kraftfahrzeugen und der Industrie emittierten Gase in der Atmosphäre miteinander reagieren. PM10 wird häufig als Nebel wahrgenommen, den man auch als **Smog** bezeichnet. **PM10 gehört zu den schädlichsten aller Luftschadstoffe**, da\n",
    "\n",
    "- PM10 kann die Anzahl und den Schweregrad von Asthmaanfällen erhöhen\n",
    "- PM10 verursacht oder verschlimmert Bronchitis und andere Lungenerkrankungen\n",
    "- PM10 reduziert die Fähigkeit des Körpers, Infektionen zu bekämpfen\n",
    "\n",
    "Quelle: https://www.meteoblue.com/de/wetter/outdoorsports/airquality/leipzig_deutschland_2879139"
   ]
  },
  {
   "cell_type": "code",
   "execution_count": null,
   "id": "28b060d3",
   "metadata": {
    "slideshow": {
     "slide_type": "fragment"
    }
   },
   "outputs": [],
   "source": [
    "# Feinstaub PM10\n",
    "pm10 = [15, 15, 16, 19, 23, 23, 40, 37, 38, 29, 16]"
   ]
  },
  {
   "cell_type": "markdown",
   "id": "ecac78fb",
   "metadata": {
    "slideshow": {
     "slide_type": "slide"
    }
   },
   "source": [
    "# Listen\n",
    "\n",
    "Ein Datentyp zur Darstellung von Sequenzen oder mehreren zusammengehörigen Objekten.\n",
    "\n",
    "### Syntax\n",
    "\n",
    "```\n",
    "<list_name> = [<object1>, <object2>, <object3>, ...]\n",
    "\n",
    "obst = ['Kiwi', 'Apfel', 'Brombeere', 'Mandarine']\n",
    "```\n",
    "\n"
   ]
  },
  {
   "cell_type": "code",
   "execution_count": null,
   "id": "8eeaa1b2",
   "metadata": {
    "slideshow": {
     "slide_type": "slide"
    }
   },
   "outputs": [],
   "source": [
    "primzahlen = [2, 3, 5, 7, 11, 13, 17, 19, 23, 29]\n",
    "print(primzahlen)\n",
    "\n",
    "code = [True, False, False, True, True, True]\n",
    "print(code)\n",
    "\n",
    "planeten = ['Merkur', 'Vater', 'Erde', 'Mars', 'Jupiter', 'Saturn', 'Uranus', 'Neptun']\n",
    "print(planeten)\n",
    "\n",
    "# Leere Liste\n",
    "leere_liste = []\n",
    "print(leere_liste)"
   ]
  },
  {
   "cell_type": "markdown",
   "id": "238c2c6f",
   "metadata": {
    "slideshow": {
     "slide_type": "slide"
    }
   },
   "source": [
    "Datentypen können auch gemischt werden"
   ]
  },
  {
   "cell_type": "code",
   "execution_count": null,
   "id": "05e40a2f",
   "metadata": {
    "slideshow": {
     "slide_type": "fragment"
    }
   },
   "outputs": [],
   "source": [
    "sonstiges = [7, 'Hello', -12, True, 62.9, False, 'Ende']"
   ]
  },
  {
   "cell_type": "markdown",
   "id": "8ca632e1",
   "metadata": {
    "slideshow": {
     "slide_type": "slide"
    }
   },
   "source": [
    "## Luftqualität Leipzig - Erste Analyse\n",
    "\n",
    "- Wie viele Messungen sind vorhanden?\n",
    "\n",
    "- Was ist der maximale Feinstaubwert? Welcher der minimale? Wie ist die Temperatur im Durchschnitt?\n",
    "\n"
   ]
  },
  {
   "cell_type": "code",
   "execution_count": null,
   "id": "4fa8a0d8",
   "metadata": {
    "slideshow": {
     "slide_type": "fragment"
    }
   },
   "outputs": [],
   "source": [
    "# Feinstaub PM10\n",
    "pm10 = [15, 15, 16, 19, 23, 23, 40, 37, 38, 29, 16]"
   ]
  },
  {
   "cell_type": "code",
   "execution_count": null,
   "id": "5a8317b2",
   "metadata": {
    "slideshow": {
     "slide_type": "fragment"
    }
   },
   "outputs": [],
   "source": [
    "# Anzahl an Messungen entspricht der Länge der List\n",
    "len(pm10)"
   ]
  },
  {
   "cell_type": "markdown",
   "id": "e6fcb215",
   "metadata": {
    "slideshow": {
     "slide_type": "slide"
    }
   },
   "source": [
    "Grundlegende Statistik"
   ]
  },
  {
   "cell_type": "code",
   "execution_count": null,
   "id": "cbd8d3a4",
   "metadata": {
    "slideshow": {
     "slide_type": "fragment"
    }
   },
   "outputs": [],
   "source": [
    "# Maximum\n",
    "max(pm10)"
   ]
  },
  {
   "cell_type": "code",
   "execution_count": null,
   "id": "8c9cd185",
   "metadata": {
    "slideshow": {
     "slide_type": "fragment"
    }
   },
   "outputs": [],
   "source": [
    "# Minimum\n",
    "min(pm10)"
   ]
  },
  {
   "cell_type": "code",
   "execution_count": null,
   "id": "800906a8",
   "metadata": {
    "slideshow": {
     "slide_type": "fragment"
    }
   },
   "outputs": [],
   "source": [
    "# Durchschnitt\n",
    "sum(pm10) / len(pm10)"
   ]
  },
  {
   "cell_type": "markdown",
   "id": "80bba146",
   "metadata": {
    "slideshow": {
     "slide_type": "slide"
    }
   },
   "source": [
    "# List Methoden - Beispiele\n",
    "\n",
    "| Methode  | Beschreibung  | \n",
    "|----------|:-------------  |\n",
    "| sort() |  Sortiert die Liste (aufsteigend, absteigend) |\n",
    "| index()  |  Gibt den Index eines Elements zurück |\n",
    "| count()  |  Gibt die Anzal des vorhandenen Listeneintrages zurück |\n",
    "| append() |  Fügt ein Element am Ende der Liste hinzu |\n",
    "| extend() |  Hängt eine andere Liste am Ende an  |\n",
    "| insert() |  Fügt ein Element in die Liste ein |\n",
    "| remove() |  Löscht ein Element aus der Liste |\n",
    "\n",
    "\n",
    "**Erinnerung**: Mit `dir(<object>)` werden alle Methoden eines Objektes angezeigt.\n",
    "\n"
   ]
  },
  {
   "cell_type": "code",
   "execution_count": null,
   "id": "d3838077",
   "metadata": {
    "slideshow": {
     "slide_type": "slide"
    }
   },
   "outputs": [],
   "source": [
    "# Wie häufig sind die Min / Max Messwerte?\n",
    "print('Häufigkeit Min Wert:')\n",
    "print(pm10.count(15))\n",
    "\n",
    "print('Häufigkeit Max Wert:')\n",
    "print(pm10.count(40))\n"
   ]
  },
  {
   "cell_type": "code",
   "execution_count": null,
   "id": "b4189180",
   "metadata": {
    "slideshow": {
     "slide_type": "slide"
    }
   },
   "outputs": [],
   "source": [
    "# An welchem Tag (nach Beginn der Messung) wurde der maximale Wert erreicht?\n",
    "print(pm10.index(40))"
   ]
  },
  {
   "cell_type": "code",
   "execution_count": null,
   "id": "15569e45",
   "metadata": {},
   "outputs": [],
   "source": [
    "pm10.sort()\n",
    "print(pm10)\n",
    "\n",
    "pm10.sort(reverse=True)\n",
    "print(pm10)"
   ]
  },
  {
   "cell_type": "markdown",
   "id": "b3c18c8d",
   "metadata": {
    "slideshow": {
     "slide_type": "slide"
    }
   },
   "source": [
    "# Index\n",
    "\n",
    "Jedes Element in einer Liste ist einem Index zugeordnet. Über diesen Index kann man uaf das Element zugreifen.\n",
    "\n",
    "Der Index startet immer bei 0.\n",
    "\n",
    "![ListIndex](../imgs/ListIndex.png)\n",
    "\n",
    "**Die Syntax**\n",
    "\n",
    "```\n",
    "    <listname>[<index>]\n",
    "```\n"
   ]
  },
  {
   "cell_type": "code",
   "execution_count": null,
   "id": "fb1fb05b",
   "metadata": {
    "slideshow": {
     "slide_type": "slide"
    }
   },
   "outputs": [],
   "source": [
    "# Indexing\n",
    "farben = ['gelb', 'rot', 'blau', 'grün', 'weiß']\n",
    "\n",
    "# Element an Index X\n",
    "print(farben[0])\n",
    "\n",
    "print(farben[1])\n",
    "\n",
    "print(farben[2])\n",
    "\n"
   ]
  },
  {
   "cell_type": "code",
   "execution_count": null,
   "id": "837fe80e",
   "metadata": {
    "slideshow": {
     "slide_type": "slide"
    }
   },
   "outputs": [],
   "source": [
    "# Wenn der Index gleich oder größer ist als die Länge der Liste, wird ein Fehler zurückgegeben\n",
    "print(len(farben))\n",
    "print(farben[5])\n",
    "print(farben[10])"
   ]
  },
  {
   "cell_type": "code",
   "execution_count": null,
   "id": "cbefb1a3",
   "metadata": {
    "slideshow": {
     "slide_type": "slide"
    }
   },
   "outputs": [],
   "source": [
    "# Feinstaub PM10\n",
    "pm10 = [15, 15, 16, 19, 23, 23, 40, 37, 38, 29, 16]\n",
    "pm10[0]"
   ]
  },
  {
   "cell_type": "markdown",
   "id": "7a234bee",
   "metadata": {
    "slideshow": {
     "slide_type": "slide"
    }
   },
   "source": [
    "# Negative Indizes\n",
    "\n",
    "Indizes können auch negativ sein. Dies bedeutet das vom Ende der Liste her gezählt wird.\n",
    "\n",
    "Der Index -1 ist dem letzten Element zugeordnet.\n",
    "\n",
    "\n"
   ]
  },
  {
   "cell_type": "code",
   "execution_count": null,
   "id": "dfb14358",
   "metadata": {
    "slideshow": {
     "slide_type": "subslide"
    }
   },
   "outputs": [],
   "source": [
    "farben = ['gelb', 'rot', 'blau', 'grün', 'weiß']\n",
    "print(farben[-1])"
   ]
  },
  {
   "cell_type": "code",
   "execution_count": null,
   "id": "b381027c",
   "metadata": {},
   "outputs": [],
   "source": [
    "print(farben[-3])"
   ]
  },
  {
   "cell_type": "markdown",
   "id": "4168122e",
   "metadata": {
    "slideshow": {
     "slide_type": "slide"
    }
   },
   "source": [
    "Über den Index können die Elemente einer Liste verändert werden. "
   ]
  },
  {
   "cell_type": "code",
   "execution_count": null,
   "id": "617d3bc8",
   "metadata": {
    "slideshow": {
     "slide_type": "fragment"
    }
   },
   "outputs": [],
   "source": [
    "rangliste = ['Eva', 'Ismail', 'Inga', 'Anna', 'Marc']\n",
    "\n",
    "print(rangliste)\n",
    "rangliste[2] = 'Evelin'\n",
    "print(rangliste)\n",
    "rangliste[3] = 'Ana'\n",
    "print(rangliste)"
   ]
  },
  {
   "cell_type": "markdown",
   "id": "256d3f2f",
   "metadata": {
    "slideshow": {
     "slide_type": "slide"
    }
   },
   "source": [
    "# Slicing\n",
    "\n",
    "Während mit Indexing auf einzelne Element in einer Liste zugegriffen wird, können mit **Slicing** Teilsequenzen einer Liste extrahiert werden. \n",
    "\n",
    "Dazu wird der Start- und der Endindex angegeben. \n",
    "\n",
    "Wobei zu beachten ist, dass die ausgegebene List den Endindex nicht beinhaltet.\n",
    "\n",
    "\n",
    "## Die Syntax\n",
    "\n",
    "```\n",
    "    <listname>[<startindex>:<endindex>]\n",
    "```\n",
    "    \n",
    "    \n",
    "\n",
    "\n"
   ]
  },
  {
   "cell_type": "code",
   "execution_count": null,
   "id": "76c9406d",
   "metadata": {
    "slideshow": {
     "slide_type": "fragment"
    }
   },
   "outputs": [],
   "source": [
    "# Beispiel\n",
    "abc = ['a', 'b', 'c', 'd', 'e', 'f', 'g', 'h', 'i', 'j']\n",
    "\n",
    "print(abc[0:3])\n",
    "print(abc[3:4])"
   ]
  },
  {
   "cell_type": "code",
   "execution_count": null,
   "id": "819d887f",
   "metadata": {
    "slideshow": {
     "slide_type": "subslide"
    }
   },
   "outputs": [],
   "source": [
    "print(abc[4:7])"
   ]
  },
  {
   "cell_type": "code",
   "execution_count": null,
   "id": "5b55f904",
   "metadata": {
    "slideshow": {
     "slide_type": "subslide"
    }
   },
   "outputs": [],
   "source": [
    "# Ist der Endindex größer als die Länge der Liste, wird diese - ohne Fehler - bis zum Ende ausgegeben\n",
    "print(abc[8:15])"
   ]
  },
  {
   "cell_type": "code",
   "execution_count": null,
   "id": "85518dc2",
   "metadata": {},
   "outputs": [],
   "source": [
    "print(abc[-3:-1])"
   ]
  },
  {
   "cell_type": "code",
   "execution_count": null,
   "id": "05de235e",
   "metadata": {
    "slideshow": {
     "slide_type": "subslide"
    }
   },
   "outputs": [],
   "source": [
    "# Entspricht der Startindex dem Anfang der Liste oder entspricht der Endindex dem Ende der Liste\n",
    "# können diese weggelassen werden\n",
    "\n",
    "print(abc[:3])"
   ]
  },
  {
   "cell_type": "code",
   "execution_count": null,
   "id": "7cabbf25",
   "metadata": {},
   "outputs": [],
   "source": [
    "print(abc[5:])"
   ]
  },
  {
   "cell_type": "code",
   "execution_count": null,
   "id": "35260638",
   "metadata": {},
   "outputs": [],
   "source": [
    "# Dies funktioniert natürlich auch bei negativen Indizes\n",
    "print(abc[-4:])"
   ]
  },
  {
   "cell_type": "code",
   "execution_count": null,
   "id": "c5d99b4d",
   "metadata": {},
   "outputs": [],
   "source": [
    "print(abc[:-4])"
   ]
  },
  {
   "cell_type": "code",
   "execution_count": null,
   "id": "6fabd680",
   "metadata": {},
   "outputs": [],
   "source": [
    "# Ohne Start- und Endindex wird die komplette Liste ausgegeben\n",
    "print(abc[:])"
   ]
  },
  {
   "cell_type": "markdown",
   "id": "ba36c638",
   "metadata": {
    "slideshow": {
     "slide_type": "slide"
    }
   },
   "source": [
    "# Slicing\n",
    "\n",
    "Zusätzlich zum Start- und Endindex, kann die Schrittgröße (*step*) mitangegeben werden.\n",
    "\n",
    "Die Schrittgröße bestimmt die Abstände zwischen den einzelnen Elementen.\n",
    "\n",
    "Der Defaultwert ist 1.\n",
    "\n",
    "\n",
    "\n",
    "## Die Syntax\n",
    "\n",
    "```\n",
    "    <listname>[<startindex>:<endindex>:<step>]\n",
    "```\n",
    "    \n",
    "    \n",
    "\n",
    "\n"
   ]
  },
  {
   "cell_type": "code",
   "execution_count": null,
   "id": "fec73a62",
   "metadata": {},
   "outputs": [],
   "source": [
    "print(abc)\n",
    "print(abc[1:8:2])"
   ]
  },
  {
   "cell_type": "code",
   "execution_count": null,
   "id": "2b6112f0",
   "metadata": {},
   "outputs": [],
   "source": [
    "print(abc[2::3])"
   ]
  },
  {
   "cell_type": "markdown",
   "id": "a0d93f50",
   "metadata": {
    "slideshow": {
     "slide_type": "slide"
    }
   },
   "source": [
    "# Nested Lists\n",
    "\n",
    "Listen können auch Listen beinhalten.\n",
    "\n"
   ]
  },
  {
   "cell_type": "code",
   "execution_count": null,
   "id": "ecc9760f",
   "metadata": {},
   "outputs": [],
   "source": [
    "sonstiges = [1, 7, 23, ['a', 'b', 'c'], 18, True, []]"
   ]
  },
  {
   "cell_type": "code",
   "execution_count": null,
   "id": "2b84b0f5",
   "metadata": {},
   "outputs": [],
   "source": [
    "elem2 = sonstiges[2]\n",
    "print(elem2)\n",
    "print(type(elem2))\n",
    "\n",
    "print('\\n - - - \\n')\n",
    "\n",
    "elem3 = sonstiges[3]\n",
    "print(elem3)\n",
    "print(type(elem3))"
   ]
  },
  {
   "cell_type": "code",
   "execution_count": null,
   "id": "f0d4b77d",
   "metadata": {},
   "outputs": [],
   "source": [
    "# Die erlernten Regeln zu Indexing und Slicing lassen sich hier genauso anwenden\n",
    "\n",
    "print(sonstiges[3][0])"
   ]
  },
  {
   "cell_type": "code",
   "execution_count": null,
   "id": "cc451361",
   "metadata": {},
   "outputs": [],
   "source": [
    "print(sonstiges[3][1:])"
   ]
  },
  {
   "cell_type": "markdown",
   "id": "98c582cb",
   "metadata": {},
   "source": [
    "## Zurück zur Luftqualität\n",
    "\n",
    "\n",
    "Ziel: Ein Warnsystem falls die Luftqualität in den gelben Bereich abrutscht.\n",
    "\n",
    "![funktion](../imgs/qualitaetsindex.png)\n",
    "\n",
    "\n"
   ]
  },
  {
   "cell_type": "code",
   "execution_count": null,
   "id": "e8b092da",
   "metadata": {},
   "outputs": [],
   "source": [
    "pm10 = [15, 15, 16, 19, 23, 23, 40, 37, 38, 29, 16]"
   ]
  },
  {
   "cell_type": "code",
   "execution_count": null,
   "id": "55c31f7c",
   "metadata": {},
   "outputs": [],
   "source": [
    "# 1. Schritt: Gib jeden Messwert\n",
    "for messwert in pm10:\n",
    "    print(messwert)"
   ]
  },
  {
   "cell_type": "code",
   "execution_count": null,
   "id": "ade0ad53",
   "metadata": {},
   "outputs": [],
   "source": [
    "# 2. Schritt: Falls die Schwelle von 36 Mikrogramm PM10 erreicht werden gib eine Warnung aus\n",
    "for messwert in pm10:\n",
    "    print(messwert)\n",
    "    if messwert >= 36:\n",
    "        print('Achtung: Die Luftqualität ist mäßig')"
   ]
  },
  {
   "cell_type": "markdown",
   "id": "3e5deba6",
   "metadata": {},
   "source": [
    "# Loops - Schleifen\n",
    "\n",
    "Schleifen - auch **Loops** genannt, ermöglichen eine effiziente Automatisierung und Wiederholung einer Funktion.\n",
    "\n",
    "\n"
   ]
  },
  {
   "cell_type": "markdown",
   "id": "eefeb112",
   "metadata": {},
   "source": [
    "# For Loop\n",
    "\n",
    "**For Loop** - Für jedes Element in einem **Iterable** (alle Objekte die iterierbar sind wie beispielswiese Listen, Strings, Tuple, etc.) wird eine Funktion ausgeführt.\n",
    "\n",
    "![ForLoop](../imgs/forloop.png)"
   ]
  },
  {
   "cell_type": "code",
   "execution_count": null,
   "id": "0af9c350",
   "metadata": {},
   "outputs": [],
   "source": [
    "# Für jede Zahl in der Liste, printe diese\n",
    "for number in [0, 1, 2, 3, 4, 5, 6, 7, 8, 9, 10]:\n",
    "    print(number)"
   ]
  },
  {
   "cell_type": "code",
   "execution_count": null,
   "id": "1e084995",
   "metadata": {},
   "outputs": [],
   "source": [
    "namen = ['Urs', 'Gundula', 'Amer', 'Ina', 'Sasan']\n",
    "\n",
    "# Für jeden Namen in der Liste, gib 'Hallo <name>' aus\n",
    "for name in namen:\n",
    "    print ('Hallo {}'.format(name))"
   ]
  },
  {
   "cell_type": "code",
   "execution_count": null,
   "id": "8c7c2633",
   "metadata": {},
   "outputs": [],
   "source": [
    "namen = ['Urs', 'Gundula', 'Amer', 'Ina', 'Sasan']\n",
    "\n",
    "print('Loop Start\\n')\n",
    "\n",
    "for name in namen:\n",
    "    print ('Hallo {}'.format(name))\n",
    "    \n",
    "print('\\nLoop Ende')"
   ]
  },
  {
   "cell_type": "markdown",
   "id": "6d8f641c",
   "metadata": {
    "slideshow": {
     "slide_type": "slide"
    }
   },
   "source": [
    " # Motivation Loops\n",
    " \n",
    " Schleifen sind wichtige Werkzeuge Daten zu verarbeiten, zu filtern oder Modifikationen vorzunehmen.\n",
    " \n",
    " Wir erinnern uns an die Luftqualitätsdaten von Leipzig.\n",
    " \n",
    " Fiktive Szenarien:\n",
    " \n",
    " (1) Die Stadt Leipzig verkündet, dasss die Messstation falsch geeicht und alle Werte zum 1,3 µg/m³ zu niedrig sind \n",
    " \n",
    " (2) Werte über 10 µg/m³ sind gesundheitsschädlich. Wie oft wurden diese Grenze überschritten?\n",
    " \n",
    " (3) Wie weit liegen diese Werte über der 10 µg/m³"
   ]
  },
  {
   "cell_type": "code",
   "execution_count": null,
   "id": "ddfef1c2",
   "metadata": {},
   "outputs": [],
   "source": [
    "# (1) Korrektur der Messwerte\n",
    "werte = [7, 8, 13, 9, 14, 10, 11, 7, 7, 8]\n",
    "\n",
    "neue_werte = []\n",
    "for wert in werte:\n",
    "    neuer_wert = wert + 1.3\n",
    "    neue_werte.append(neuer_wert)\n",
    "    \n",
    "print(neue_werte)\n",
    "\n"
   ]
  },
  {
   "cell_type": "code",
   "execution_count": null,
   "id": "6050e722",
   "metadata": {},
   "outputs": [],
   "source": [
    "# (2) Anzahl der Messwerte über der gesundheitsschädlichen Grenzen\n",
    "limit_count = 0\n",
    "for wert in werte:\n",
    "    if wert > 10:\n",
    "        limit_count = limit_count + 1\n",
    "print(limit_count)"
   ]
  },
  {
   "cell_type": "code",
   "execution_count": null,
   "id": "4d6a3cfb",
   "metadata": {},
   "outputs": [],
   "source": [
    "# (3) Differenz der Werte zur Grenze\n",
    "limit_values = []\n",
    "for wert in werte:\n",
    "    if wert > 10:\n",
    "        differenz = wert - 10\n",
    "        limit_values.append(differenz)\n",
    "        \n",
    "print(limit_values)\n"
   ]
  },
  {
   "cell_type": "markdown",
   "id": "4e900faa",
   "metadata": {
    "slideshow": {
     "slide_type": "slide"
    }
   },
   "source": [
    "# While Loop\n",
    "\n",
    "\n",
    "Eine Funktion wird so lange ausgeführt, bis eine Bedingung erreicht wird.\n",
    "\n",
    "![WhileLoop](../imgs/whileloop.png)\n"
   ]
  },
  {
   "cell_type": "code",
   "execution_count": null,
   "id": "8ad81d6c",
   "metadata": {
    "slideshow": {
     "slide_type": "slide"
    }
   },
   "outputs": [],
   "source": [
    "x = 1\n",
    "while x < 10:\n",
    "    print(x)\n",
    "    x = x + 1"
   ]
  },
  {
   "cell_type": "code",
   "execution_count": null,
   "id": "b08a2e38",
   "metadata": {
    "slideshow": {
     "slide_type": "slide"
    }
   },
   "outputs": [],
   "source": [
    "print('While Loop Start \\n')\n",
    "x = 1\n",
    "while x < 10:\n",
    "    print(x)\n",
    "    x = x + 1\n",
    "print('\\nWhile Loop Ende')"
   ]
  },
  {
   "cell_type": "markdown",
   "id": "bb191f19",
   "metadata": {
    "slideshow": {
     "slide_type": "slide"
    }
   },
   "source": [
    "# Endlosschleife\n",
    "\n",
    "Eine Endlosschleife ist eine While Schleife ohne Abbruchbedingung.\n",
    "\n",
    "Das heißt die Anwendung wird immer wieder ausgeführt - so lange bis die Ausführung manuell gestoppt wird (Strg + C) oder Python geschlossen wird.\n",
    "\n"
   ]
  },
  {
   "cell_type": "code",
   "execution_count": null,
   "id": "318b6664",
   "metadata": {
    "slideshow": {
     "slide_type": "fragment"
    }
   },
   "outputs": [],
   "source": [
    "# Endlosschleife\n",
    "print('While Loop Start \\n')\n",
    "\n",
    "x = 1\n",
    "while True:\n",
    "    print(x)\n",
    "    x = x + 1\n",
    "    \n",
    "print('\\nWhile Loop Ende')"
   ]
  },
  {
   "cell_type": "code",
   "execution_count": null,
   "id": "b01700a5",
   "metadata": {},
   "outputs": [],
   "source": [
    "eingabe = input('Rate eine Zahl ')"
   ]
  },
  {
   "cell_type": "markdown",
   "id": "2504c265",
   "metadata": {},
   "source": [
    "# Flow Control\n",
    "\n",
    "Für mehr Kontrolle in den Schleifen sorgen die folgenden Anweisungen:\n",
    "\n",
    "**break** - bricht eine Schleife frühzeitig ab\n",
    "\n",
    "**continue** - überspringt die aktuelle Iteration. Der Rest der Schleife wird jedoch weiter ausgeführt \n",
    "\n",
    "**pass** - Die Anweisung pass, die nach der bedingten if-Anweisung steht, teilt dem Programm mit, dass es die Schleife weiter ausführen und die Tatsache ignorieren soll, dass die Variable number während einer ihrer Iterationen als gleichwertig zu 5 ausgewertet wird."
   ]
  },
  {
   "cell_type": "code",
   "execution_count": null,
   "id": "35c02a02",
   "metadata": {},
   "outputs": [],
   "source": [
    "print('Start Loop\\n')\n",
    "\n",
    "for number in range(20):\n",
    "    if number == 5:\n",
    "        pass    \n",
    "    print('Number is ' + str(number))\n",
    "\n",
    "print('\\n End Loop')"
   ]
  },
  {
   "cell_type": "markdown",
   "id": "e74a7453",
   "metadata": {
    "slideshow": {
     "slide_type": "slide"
    }
   },
   "source": [
    "# Zeit für Feedback\n",
    "\n",
    "\n",
    "\n",
    "Link: https://ahaslides.com/L82AN\n",
    "\n",
    "![Feedback QR Code](../imgs/qrcode_vl3.png)\n",
    "\n"
   ]
  }
 ],
 "metadata": {
  "celltoolbar": "Slideshow",
  "kernelspec": {
   "display_name": "Python 3 (ipykernel)",
   "language": "python",
   "name": "python3"
  },
  "language_info": {
   "codemirror_mode": {
    "name": "ipython",
    "version": 3
   },
   "file_extension": ".py",
   "mimetype": "text/x-python",
   "name": "python",
   "nbconvert_exporter": "python",
   "pygments_lexer": "ipython3",
   "version": "3.9.15"
  },
  "livereveal": {
   "autolaunch": true
  },
  "vscode": {
   "interpreter": {
    "hash": "f9f85f796d01129d0dd105a088854619f454435301f6ffec2fea96ecbd9be4ac"
   }
  }
 },
 "nbformat": 4,
 "nbformat_minor": 5
}
