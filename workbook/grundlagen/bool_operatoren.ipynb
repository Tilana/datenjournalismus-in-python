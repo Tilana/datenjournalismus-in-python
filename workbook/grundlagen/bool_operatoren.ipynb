{
 "cells": [
  {
   "cell_type": "markdown",
   "id": "526a8077",
   "metadata": {
    "slideshow": {
     "slide_type": "slide"
    }
   },
   "source": [
    "\n",
    "# Logische (Boolsche) Operatoren\n",
    "\n",
    "Mit logische Operatoren können mehrere Vergleiche miteinander verknüpft werden.\n",
    "Dafür gibt es die Operatorn `and` (und) und `or` (oder).\n",
    "\n",
    "\n"
   ]
  },
  {
   "cell_type": "code",
   "execution_count": 13,
   "id": "d2ba07ec",
   "metadata": {},
   "outputs": [],
   "source": [
    "# Verknüfung mit and\n",
    "a = 3\n",
    "b = -1\n",
    "if a > 0 and b > 0:\n",
    "    print('Beide Werte sind positiv.')"
   ]
  },
  {
   "cell_type": "code",
   "execution_count": 14,
   "id": "4818276f",
   "metadata": {},
   "outputs": [
    {
     "name": "stdout",
     "output_type": "stream",
     "text": [
      "Mindestens ein Wert ist positiv.\n"
     ]
    }
   ],
   "source": [
    "# Verknüpfung mit or\n",
    "if a > 0 or b > 0:\n",
    "    print('Mindestens ein Wert ist positiv.')"
   ]
  },
  {
   "cell_type": "markdown",
   "id": "697a72c3",
   "metadata": {},
   "source": [
    "## not\n",
    "\n",
    "`not` ist ein Operator der den Wert umkehrt.\n",
    "Also aus `True` wird `False` und umgekehrt."
   ]
  },
  {
   "cell_type": "code",
   "execution_count": 9,
   "id": "20cb6eb1",
   "metadata": {},
   "outputs": [
    {
     "name": "stdout",
     "output_type": "stream",
     "text": [
      "True\n",
      "False\n"
     ]
    }
   ],
   "source": [
    "# not\n",
    "var = True\n",
    "print(var)\n",
    "print(not var)"
   ]
  },
  {
   "cell_type": "code",
   "execution_count": null,
   "id": "de3ffbd4",
   "metadata": {},
   "outputs": [],
   "source": [
    "a = 4\n",
    "if not a == 5:\n",
    "    print('a ungleich 5')"
   ]
  },
  {
   "cell_type": "code",
   "execution_count": 3,
   "id": "47796e31",
   "metadata": {},
   "outputs": [
    {
     "name": "stdout",
     "output_type": "stream",
     "text": [
      "Mail ist gültig\n"
     ]
    }
   ],
   "source": [
    "# überprüfe ob eine Mailadresse gültig ist\n",
    "mail = 'test@mailserver.de'\n",
    "if not '@' in mail:\n",
    "    print('Mail ist nicht gültig')\n",
    "else:\n",
    "    print('Mail ist gültig')"
   ]
  },
  {
   "cell_type": "code",
   "execution_count": null,
   "id": "7b041af8",
   "metadata": {},
   "outputs": [],
   "source": []
  }
 ],
 "metadata": {
  "kernelspec": {
   "display_name": "Python 3 (ipykernel)",
   "language": "python",
   "name": "python3"
  },
  "language_info": {
   "codemirror_mode": {
    "name": "ipython",
    "version": 3
   },
   "file_extension": ".py",
   "mimetype": "text/x-python",
   "name": "python",
   "nbconvert_exporter": "python",
   "pygments_lexer": "ipython3",
   "version": "3.9.13"
  }
 },
 "nbformat": 4,
 "nbformat_minor": 5
}
