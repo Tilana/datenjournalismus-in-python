{
 "cells": [
  {
   "cell_type": "markdown",
   "source": [
    "# Listen, Funktionen und Schleifen\n"
   ],
   "metadata": {
    "collapsed": false
   }
  },
  {
   "cell_type": "markdown",
   "source": [
    "## Listen"
   ],
   "metadata": {
    "collapsed": false
   }
  },
  {
   "cell_type": "markdown",
   "source": [
    "Initialisiere eine Liste mit den Werten folgenden Werten: dein Alter, die letzten Ziffern deiner Postleitzahl, dein Geburtsjahr und die ersten zwei Ziffern deiner Matrikelnummer."
   ],
   "metadata": {
    "collapsed": false
   }
  },
  {
   "cell_type": "code",
   "execution_count": null,
   "outputs": [],
   "source": [],
   "metadata": {
    "collapsed": false
   }
  },
  {
   "cell_type": "markdown",
   "source": [
    "Füge der Liste die Werte 64, 17, 45 hinzu."
   ],
   "metadata": {
    "collapsed": false
   }
  },
  {
   "cell_type": "code",
   "execution_count": null,
   "outputs": [],
   "source": [],
   "metadata": {
    "collapsed": false
   }
  },
  {
   "cell_type": "markdown",
   "source": [
    "Erweitere deine Liste mit der Liste 'abc'"
   ],
   "metadata": {
    "collapsed": false
   }
  },
  {
   "cell_type": "code",
   "execution_count": null,
   "outputs": [],
   "source": [
    "abc = [1,6,1,4]\n"
   ],
   "metadata": {
    "collapsed": false
   }
  },
  {
   "cell_type": "markdown",
   "source": [
    "Ersetze den 10. Wert deiner Liste mit 9."
   ],
   "metadata": {
    "collapsed": false
   }
  },
  {
   "cell_type": "code",
   "execution_count": null,
   "outputs": [],
   "source": [],
   "metadata": {
    "collapsed": false
   }
  },
  {
   "cell_type": "markdown",
   "source": [
    "\n",
    "Gegeben sei die Liste von Listen 'schachbrett'. In ihr sind die Positionen von Schachfiguren gespeichert.\n"
   ],
   "metadata": {
    "collapsed": false
   }
  },
  {
   "cell_type": "code",
   "execution_count": null,
   "outputs": [],
   "source": [
    "schachbrett = [['schwarzes Pferd', 'schwarzer Bauer', None, None, None, None, 'weisser Bauer', None],\n",
    "               [None, None, None, None, None, None, 'schwarzer Bauer', None],\n",
    "               [None, None, None, None, None, None, 'schwarzer König', None],\n",
    "               ['schwarzer Bauer', None, None, 'weisser Turm', None, None, None, None],\n",
    "               [None, None, 'weisser König' , None, 'schwarzer Läufer', 'schwarzer Bauer', None, None],\n",
    "               [None, None, None, None, None, None, None, None],\n",
    "               [None, None, 'weisse Dame', None, None, None, None, None],\n",
    "               ['schwarzer Bauer', None, None, None, None, 'schwarze Dame', None, None]]"
   ],
   "metadata": {
    "collapsed": false
   }
  },
  {
   "cell_type": "markdown",
   "source": [
    "Bewege die schwarze Dame diagonal zwei Felder weit über das Spielfeld und gebe ihre neue Position aus."
   ],
   "metadata": {
    "collapsed": false
   }
  },
  {
   "cell_type": "code",
   "execution_count": null,
   "outputs": [],
   "source": [],
   "metadata": {
    "collapsed": false
   }
  },
  {
   "cell_type": "markdown",
   "source": [
    "## Aufgabe 2: Funktionen"
   ],
   "metadata": {
    "collapsed": false
   }
  },
  {
   "cell_type": "markdown",
   "source": [
    "Schreibe eine Funktion, die als Eingabe eine Liste erhält und das arithmetische Mittel dieser Liste berechnet und zurückgibt. Teste diese Funktion mit deiner erstellten Liste aus Aufgabe 1."
   ],
   "metadata": {
    "collapsed": false
   }
  },
  {
   "cell_type": "code",
   "execution_count": null,
   "outputs": [],
   "source": [],
   "metadata": {
    "collapsed": false
   }
  },
  {
   "cell_type": "markdown",
   "source": [
    "Schreibe eine Funktion, die überprüft, ob ein König an der gegebenen Position steht (in unserem Beispiel steht die schwarze Dame auf [7][5]) und falls ein König existiert ihn in die angegebene Richtung bewegt. Die Richtung wird in den Himmelsrichtungen angegeben (d.h. NO = Nord-Ost usw.) und es soll überprüft werden, ob der König auf ein leeres Feld versetzt wird oder ob er sich über den Spielfeldrand hinaus bewegt. Falls sich der König auf ein Feld mit einer gleichfarbigen Figur stellen würde, bewegt sich der König nicht. Falls es eine andersfarbige Figur ist, wird diese geschlagen und der König wechselt das Feld.\n"
   ],
   "metadata": {
    "collapsed": false
   }
  },
  {
   "cell_type": "code",
   "execution_count": null,
   "outputs": [],
   "source": [],
   "metadata": {
    "collapsed": false
   }
  },
  {
   "cell_type": "markdown",
   "source": [
    "## for-Schleifen"
   ],
   "metadata": {
    "collapsed": false
   },
   "outputs": []
  },
  {
   "cell_type": "markdown",
   "source": [
    "Gib alle durch zwei teilbaren Werte deiner Liste aus."
   ],
   "metadata": {
    "collapsed": false
   }
  },
  {
   "cell_type": "code",
   "execution_count": null,
   "outputs": [],
   "source": [],
   "metadata": {
    "collapsed": false
   }
  },
  {
   "cell_type": "markdown",
   "source": [
    "Finde auf dem Schachbrett die Position des weißen Königs"
   ],
   "metadata": {
    "collapsed": false
   }
  },
  {
   "cell_type": "code",
   "execution_count": null,
   "outputs": [],
   "source": [],
   "metadata": {
    "collapsed": false
   }
  },
  {
   "cell_type": "markdown",
   "source": [
    "Finde heraus wie viele schwarze Bauern es auf dem Spielfeld gibt."
   ],
   "metadata": {
    "collapsed": false
   }
  },
  {
   "cell_type": "code",
   "execution_count": null,
   "outputs": [],
   "source": [],
   "metadata": {
    "collapsed": false
   }
  },
  {
   "cell_type": "markdown",
   "source": [
    "## while-Schleifen"
   ],
   "metadata": {
    "collapsed": false
   },
   "outputs": []
  },
  {
   "cell_type": "markdown",
   "source": [
    "Gib alle ungeraden Werte deiner Liste aus."
   ],
   "metadata": {
    "collapsed": false
   }
  },
  {
   "cell_type": "code",
   "execution_count": null,
   "outputs": [],
   "source": [],
   "metadata": {
    "collapsed": false
   }
  },
  {
   "cell_type": "markdown",
   "source": [
    "Bewege den weissen Turm so lange nach rechts bis er entweder am Spielfeldrand oder vor einer anderen Figur steht."
   ],
   "metadata": {
    "collapsed": false
   }
  },
  {
   "cell_type": "code",
   "execution_count": null,
   "outputs": [],
   "source": [],
   "metadata": {
    "collapsed": false
   }
  },
  {
   "cell_type": "markdown",
   "source": [
    "## Bonusaufgaben"
   ],
   "metadata": {
    "collapsed": false
   },
   "outputs": []
  },
  {
   "cell_type": "markdown",
   "source": [
    "\n",
    "Modifiziere die Funktion für den König so, dass sich diese modifizierte Funktion auf die Damen anwenden lassen. Hierbei wird zusätzlich zur Position und der Richtung auch noch die anzahl der Felder übergeben die sich die Königin bewegt."
   ],
   "metadata": {
    "collapsed": false
   }
  },
  {
   "cell_type": "code",
   "execution_count": null,
   "outputs": [],
   "source": [],
   "metadata": {
    "collapsed": false
   }
  },
  {
   "cell_type": "markdown",
   "source": [
    "Recherchiere im Internet nach Sortieralgorithmen und schreibe eine Funktion der einen Sortieralgorithmus deiner Wahl implementiert. Teste die Funktion mit deiner Liste."
   ],
   "metadata": {
    "collapsed": false
   }
  },
  {
   "cell_type": "code",
   "execution_count": null,
   "outputs": [],
   "source": [],
   "metadata": {
    "collapsed": false
   }
  }
 ],
 "metadata": {
  "kernelspec": {
   "display_name": "Python 3",
   "language": "python",
   "name": "python3"
  },
  "language_info": {
   "codemirror_mode": {
    "name": "ipython",
    "version": 2
   },
   "file_extension": ".py",
   "mimetype": "text/x-python",
   "name": "python",
   "nbconvert_exporter": "python",
   "pygments_lexer": "ipython2",
   "version": "2.7.6"
  }
 },
 "nbformat": 4,
 "nbformat_minor": 0
}
