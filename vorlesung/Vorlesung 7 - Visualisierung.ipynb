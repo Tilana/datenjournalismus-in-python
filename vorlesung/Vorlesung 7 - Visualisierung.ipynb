{
 "cells": [
  {
   "cell_type": "markdown",
   "id": "d9a3430d",
   "metadata": {
    "slideshow": {
     "slide_type": "slide"
    }
   },
   "source": [
    "# Datenjournalismus in Python - \n",
    "# Eine praktische Einführung in die Programmierung\n",
    "\n",
    "\n",
    "### Natalie Widmann\n",
    "\n",
    "\n",
    "\n",
    "\n",
    "Wintersemester 2022 / 2023\n",
    "\n",
    "\n",
    "Universität Leipzig\n",
    "\n",
    "\n",
    "\n"
   ]
  },
  {
   "cell_type": "markdown",
   "id": "a1c7d68a",
   "metadata": {
    "slideshow": {
     "slide_type": "slide"
    }
   },
   "source": [
    "### Aggregated figures for Natural Disasters in EM-DAT\n",
    "\n",
    "Link: https://data.humdata.org/dataset/emdat-country-profiles\n",
    "\n",
    "\n",
    "In 1988, the **Centre for Research on the Epidemiology of Disasters (CRED)** launched the **Emergency Events Database (EM-DAT)**. EM-DAT was created with the initial support of the **World Health Organisation (WHO) and the Belgian Government**.\n",
    "\n",
    "The main objective of the database is to **serve the purposes of humanitarian action at national and international levels**. The initiative aims to rationalise decision making for disaster preparedness, as well as provide an objective base for vulnerability assessment and priority setting.\n",
    "\n",
    "EM-DAT contains essential core data on the **occurrence and effects of over 22,000 mass disasters in the world from 1900 to the present day**. The database is compiled from various sources, including UN agencies, non-governmental organisations, insurance companies, research institutes and press agencies.\n",
    "\n"
   ]
  },
  {
   "cell_type": "code",
   "execution_count": 1,
   "id": "8658426c",
   "metadata": {
    "slideshow": {
     "slide_type": "slide"
    }
   },
   "outputs": [
    {
     "name": "stdout",
     "output_type": "stream",
     "text": [
      "Defaulting to user installation because normal site-packages is not writeable\n",
      "Requirement already satisfied: pandas in /home/natalie/.local/lib/python3.9/site-packages (1.5.1)\n",
      "Requirement already satisfied: python-dateutil>=2.8.1 in /home/natalie/.local/lib/python3.9/site-packages (from pandas) (2.8.2)\n",
      "Requirement already satisfied: numpy>=1.20.3 in /home/natalie/.local/lib/python3.9/site-packages (from pandas) (1.23.4)\n",
      "Requirement already satisfied: pytz>=2020.1 in /home/natalie/.local/lib/python3.9/site-packages (from pandas) (2022.6)\n",
      "Requirement already satisfied: six>=1.5 in /usr/lib/python3/dist-packages (from python-dateutil>=2.8.1->pandas) (1.14.0)\n",
      "Defaulting to user installation because normal site-packages is not writeable\n",
      "Requirement already satisfied: openpyxl in /home/natalie/.local/lib/python3.9/site-packages (3.0.10)\n",
      "Requirement already satisfied: et-xmlfile in /home/natalie/.local/lib/python3.9/site-packages (from openpyxl) (1.1.0)\n"
     ]
    }
   ],
   "source": [
    "# Install a pip package im Jupyter Notebook\n",
    "!pip3 install pandas\n",
    "!pip3 install openpyxl"
   ]
  },
  {
   "cell_type": "code",
   "execution_count": 51,
   "id": "9f32b8a8",
   "metadata": {
    "slideshow": {
     "slide_type": "slide"
    }
   },
   "outputs": [
    {
     "name": "stderr",
     "output_type": "stream",
     "text": [
      "/home/natalie/.local/lib/python3.9/site-packages/openpyxl/styles/stylesheet.py:226: UserWarning: Workbook contains no default style, apply openpyxl's default\n",
      "  warn(\"Workbook contains no default style, apply openpyxl's default\")\n"
     ]
    }
   ],
   "source": [
    "import pandas as pd\n",
    "data = pd.read_excel('../data/clean_emdat.xlsx', engine=\"openpyxl\")"
   ]
  },
  {
   "cell_type": "code",
   "execution_count": 52,
   "id": "8c93e778",
   "metadata": {},
   "outputs": [
    {
     "data": {
      "text/html": [
       "<div>\n",
       "<style scoped>\n",
       "    .dataframe tbody tr th:only-of-type {\n",
       "        vertical-align: middle;\n",
       "    }\n",
       "\n",
       "    .dataframe tbody tr th {\n",
       "        vertical-align: top;\n",
       "    }\n",
       "\n",
       "    .dataframe thead th {\n",
       "        text-align: right;\n",
       "    }\n",
       "</style>\n",
       "<table border=\"1\" class=\"dataframe\">\n",
       "  <thead>\n",
       "    <tr style=\"text-align: right;\">\n",
       "      <th></th>\n",
       "      <th>Year</th>\n",
       "      <th>Country</th>\n",
       "      <th>ISO</th>\n",
       "      <th>Disaster Group</th>\n",
       "      <th>Disaster Subroup</th>\n",
       "      <th>Disaster Type</th>\n",
       "      <th>Disaster Subtype</th>\n",
       "      <th>Total Events</th>\n",
       "      <th>Total Affected</th>\n",
       "      <th>Total Deaths</th>\n",
       "      <th>Total Damage (USD, original)</th>\n",
       "      <th>Total Damage (USD, adjusted)</th>\n",
       "      <th>CPI</th>\n",
       "    </tr>\n",
       "  </thead>\n",
       "  <tbody>\n",
       "    <tr>\n",
       "      <th>0</th>\n",
       "      <td>#date +occurred</td>\n",
       "      <td>#country +name</td>\n",
       "      <td>#country +code</td>\n",
       "      <td>#cause +group</td>\n",
       "      <td>#cause +subgroup</td>\n",
       "      <td>#cause +type</td>\n",
       "      <td>#cause +subtype</td>\n",
       "      <td>#frequency</td>\n",
       "      <td>#affected +ind</td>\n",
       "      <td>#affected +ind +killed</td>\n",
       "      <td>NaN</td>\n",
       "      <td>#value +usd</td>\n",
       "      <td>NaN</td>\n",
       "    </tr>\n",
       "    <tr>\n",
       "      <th>1</th>\n",
       "      <td>1900</td>\n",
       "      <td>Cabo Verde</td>\n",
       "      <td>CPV</td>\n",
       "      <td>Natural</td>\n",
       "      <td>Climatological</td>\n",
       "      <td>Drought</td>\n",
       "      <td>Drought</td>\n",
       "      <td>1</td>\n",
       "      <td>NaN</td>\n",
       "      <td>11000</td>\n",
       "      <td>NaN</td>\n",
       "      <td>NaN</td>\n",
       "      <td>3.077091</td>\n",
       "    </tr>\n",
       "    <tr>\n",
       "      <th>2</th>\n",
       "      <td>1900</td>\n",
       "      <td>India</td>\n",
       "      <td>IND</td>\n",
       "      <td>Natural</td>\n",
       "      <td>Climatological</td>\n",
       "      <td>Drought</td>\n",
       "      <td>Drought</td>\n",
       "      <td>1</td>\n",
       "      <td>NaN</td>\n",
       "      <td>1250000</td>\n",
       "      <td>NaN</td>\n",
       "      <td>NaN</td>\n",
       "      <td>3.077091</td>\n",
       "    </tr>\n",
       "    <tr>\n",
       "      <th>3</th>\n",
       "      <td>1900</td>\n",
       "      <td>Jamaica</td>\n",
       "      <td>JAM</td>\n",
       "      <td>Natural</td>\n",
       "      <td>Hydrological</td>\n",
       "      <td>Flood</td>\n",
       "      <td>NaN</td>\n",
       "      <td>1</td>\n",
       "      <td>NaN</td>\n",
       "      <td>300</td>\n",
       "      <td>NaN</td>\n",
       "      <td>NaN</td>\n",
       "      <td>3.077091</td>\n",
       "    </tr>\n",
       "    <tr>\n",
       "      <th>4</th>\n",
       "      <td>1900</td>\n",
       "      <td>Japan</td>\n",
       "      <td>JPN</td>\n",
       "      <td>Natural</td>\n",
       "      <td>Geophysical</td>\n",
       "      <td>Volcanic activity</td>\n",
       "      <td>Ash fall</td>\n",
       "      <td>1</td>\n",
       "      <td>NaN</td>\n",
       "      <td>30</td>\n",
       "      <td>NaN</td>\n",
       "      <td>NaN</td>\n",
       "      <td>3.077091</td>\n",
       "    </tr>\n",
       "    <tr>\n",
       "      <th>...</th>\n",
       "      <td>...</td>\n",
       "      <td>...</td>\n",
       "      <td>...</td>\n",
       "      <td>...</td>\n",
       "      <td>...</td>\n",
       "      <td>...</td>\n",
       "      <td>...</td>\n",
       "      <td>...</td>\n",
       "      <td>...</td>\n",
       "      <td>...</td>\n",
       "      <td>...</td>\n",
       "      <td>...</td>\n",
       "      <td>...</td>\n",
       "    </tr>\n",
       "    <tr>\n",
       "      <th>10338</th>\n",
       "      <td>2022</td>\n",
       "      <td>Yemen</td>\n",
       "      <td>YEM</td>\n",
       "      <td>Natural</td>\n",
       "      <td>Hydrological</td>\n",
       "      <td>Flood</td>\n",
       "      <td>Flash flood</td>\n",
       "      <td>1</td>\n",
       "      <td>3400</td>\n",
       "      <td>13</td>\n",
       "      <td>NaN</td>\n",
       "      <td>NaN</td>\n",
       "      <td>NaN</td>\n",
       "    </tr>\n",
       "    <tr>\n",
       "      <th>10339</th>\n",
       "      <td>2022</td>\n",
       "      <td>South Africa</td>\n",
       "      <td>ZAF</td>\n",
       "      <td>Natural</td>\n",
       "      <td>Hydrological</td>\n",
       "      <td>Flood</td>\n",
       "      <td>NaN</td>\n",
       "      <td>7</td>\n",
       "      <td>143119</td>\n",
       "      <td>562</td>\n",
       "      <td>3.164000e+09</td>\n",
       "      <td>NaN</td>\n",
       "      <td>NaN</td>\n",
       "    </tr>\n",
       "    <tr>\n",
       "      <th>10340</th>\n",
       "      <td>2022</td>\n",
       "      <td>Zambia</td>\n",
       "      <td>ZMB</td>\n",
       "      <td>Natural</td>\n",
       "      <td>Hydrological</td>\n",
       "      <td>Flood</td>\n",
       "      <td>NaN</td>\n",
       "      <td>1</td>\n",
       "      <td>15000</td>\n",
       "      <td>3</td>\n",
       "      <td>NaN</td>\n",
       "      <td>NaN</td>\n",
       "      <td>NaN</td>\n",
       "    </tr>\n",
       "    <tr>\n",
       "      <th>10341</th>\n",
       "      <td>2022</td>\n",
       "      <td>Zimbabwe</td>\n",
       "      <td>ZWE</td>\n",
       "      <td>Natural</td>\n",
       "      <td>Hydrological</td>\n",
       "      <td>Flood</td>\n",
       "      <td>NaN</td>\n",
       "      <td>1</td>\n",
       "      <td>NaN</td>\n",
       "      <td>NaN</td>\n",
       "      <td>NaN</td>\n",
       "      <td>NaN</td>\n",
       "      <td>NaN</td>\n",
       "    </tr>\n",
       "    <tr>\n",
       "      <th>10342</th>\n",
       "      <td>2022</td>\n",
       "      <td>Zimbabwe</td>\n",
       "      <td>ZWE</td>\n",
       "      <td>Natural</td>\n",
       "      <td>Meteorological</td>\n",
       "      <td>Storm</td>\n",
       "      <td>Tropical cyclone</td>\n",
       "      <td>1</td>\n",
       "      <td>3000</td>\n",
       "      <td>NaN</td>\n",
       "      <td>NaN</td>\n",
       "      <td>NaN</td>\n",
       "      <td>NaN</td>\n",
       "    </tr>\n",
       "  </tbody>\n",
       "</table>\n",
       "<p>10343 rows × 13 columns</p>\n",
       "</div>"
      ],
      "text/plain": [
       "                  Year         Country             ISO Disaster Group  \\\n",
       "0      #date +occurred  #country +name  #country +code  #cause +group   \n",
       "1                 1900      Cabo Verde             CPV        Natural   \n",
       "2                 1900           India             IND        Natural   \n",
       "3                 1900         Jamaica             JAM        Natural   \n",
       "4                 1900           Japan             JPN        Natural   \n",
       "...                ...             ...             ...            ...   \n",
       "10338             2022           Yemen             YEM        Natural   \n",
       "10339             2022    South Africa             ZAF        Natural   \n",
       "10340             2022          Zambia             ZMB        Natural   \n",
       "10341             2022        Zimbabwe             ZWE        Natural   \n",
       "10342             2022        Zimbabwe             ZWE        Natural   \n",
       "\n",
       "       Disaster Subroup      Disaster Type  Disaster Subtype Total Events  \\\n",
       "0      #cause +subgroup       #cause +type   #cause +subtype   #frequency   \n",
       "1        Climatological            Drought           Drought            1   \n",
       "2        Climatological            Drought           Drought            1   \n",
       "3          Hydrological              Flood               NaN            1   \n",
       "4           Geophysical  Volcanic activity          Ash fall            1   \n",
       "...                 ...                ...               ...          ...   \n",
       "10338      Hydrological              Flood       Flash flood            1   \n",
       "10339      Hydrological              Flood               NaN            7   \n",
       "10340      Hydrological              Flood               NaN            1   \n",
       "10341      Hydrological              Flood               NaN            1   \n",
       "10342    Meteorological              Storm  Tropical cyclone            1   \n",
       "\n",
       "       Total Affected            Total Deaths  Total Damage (USD, original)  \\\n",
       "0      #affected +ind  #affected +ind +killed                           NaN   \n",
       "1                 NaN                   11000                           NaN   \n",
       "2                 NaN                 1250000                           NaN   \n",
       "3                 NaN                     300                           NaN   \n",
       "4                 NaN                      30                           NaN   \n",
       "...               ...                     ...                           ...   \n",
       "10338            3400                      13                           NaN   \n",
       "10339          143119                     562                  3.164000e+09   \n",
       "10340           15000                       3                           NaN   \n",
       "10341             NaN                     NaN                           NaN   \n",
       "10342            3000                     NaN                           NaN   \n",
       "\n",
       "      Total Damage (USD, adjusted)       CPI  \n",
       "0                      #value +usd       NaN  \n",
       "1                              NaN  3.077091  \n",
       "2                              NaN  3.077091  \n",
       "3                              NaN  3.077091  \n",
       "4                              NaN  3.077091  \n",
       "...                            ...       ...  \n",
       "10338                          NaN       NaN  \n",
       "10339                          NaN       NaN  \n",
       "10340                          NaN       NaN  \n",
       "10341                          NaN       NaN  \n",
       "10342                          NaN       NaN  \n",
       "\n",
       "[10343 rows x 13 columns]"
      ]
     },
     "execution_count": 52,
     "metadata": {},
     "output_type": "execute_result"
    }
   ],
   "source": [
    "data"
   ]
  },
  {
   "cell_type": "code",
   "execution_count": 8,
   "id": "0a134e4c",
   "metadata": {
    "scrolled": true
   },
   "outputs": [
    {
     "name": "stdout",
     "output_type": "stream",
     "text": [
      "<class 'pandas.core.frame.DataFrame'>\n",
      "RangeIndex: 10342 entries, 1 to 10342\n",
      "Data columns (total 13 columns):\n",
      " #   Column                        Non-Null Count  Dtype  \n",
      "---  ------                        --------------  -----  \n",
      " 0   Year                          10342 non-null  int64  \n",
      " 1   Country                       10342 non-null  object \n",
      " 2   ISO                           10342 non-null  object \n",
      " 3   Disaster Group                10342 non-null  object \n",
      " 4   Disaster Subroup              10342 non-null  object \n",
      " 5   Disaster Type                 10342 non-null  object \n",
      " 6   Disaster Subtype              8225 non-null   object \n",
      " 7   Total Events                  10342 non-null  int64  \n",
      " 8   Total Affected                7506 non-null   float64\n",
      " 9   Total Deaths                  7317 non-null   float64\n",
      " 10  Total Damage (USD, original)  3796 non-null   float64\n",
      " 11  Total Damage (USD, adjusted)  3766 non-null   float64\n",
      " 12  CPI                           10149 non-null  float64\n",
      "dtypes: float64(5), int64(2), object(6)\n",
      "memory usage: 1.0+ MB\n"
     ]
    }
   ],
   "source": [
    "data.info()"
   ]
  },
  {
   "cell_type": "markdown",
   "id": "e1cc61e8",
   "metadata": {},
   "source": [
    "## Zurück zum Dashboard..."
   ]
  },
  {
   "cell_type": "markdown",
   "id": "2e424631",
   "metadata": {
    "slideshow": {
     "slide_type": "slide"
    }
   },
   "source": [
    "## Recherchefragen\n",
    "\n",
    "- Wie viele Todesopfer gibt es insgesamt in Deutschland?\n",
    "- Wie stark ist ein Land von Naturkatastrophen betroffen?\n",
    "- Welchen Anteil haben die unterschiedlichen Naturkatastrophentypen daran?\n",
    "- Wie hat sich die Anzahl der Naturkatastrophen über die Jahre hin entwickelt?"
   ]
  },
  {
   "cell_type": "markdown",
   "id": "3b0620e2",
   "metadata": {},
   "source": [
    "#### Wie viele Todesopfer gibt es insgesamt?"
   ]
  },
  {
   "cell_type": "code",
   "execution_count": 79,
   "id": "1f37395f",
   "metadata": {},
   "outputs": [
    {
     "data": {
      "text/plain": [
       "22845977.0"
      ]
     },
     "execution_count": 79,
     "metadata": {},
     "output_type": "execute_result"
    }
   ],
   "source": [
    "data[\"Total Deaths\"].sum()"
   ]
  },
  {
   "cell_type": "markdown",
   "id": "c18901cc",
   "metadata": {},
   "source": [
    "#### Wie viele Todesopfer gibt es insgesamt in Deutschland?"
   ]
  },
  {
   "cell_type": "code",
   "execution_count": 83,
   "id": "6c55e324",
   "metadata": {},
   "outputs": [
    {
     "data": {
      "text/html": [
       "<div>\n",
       "<style scoped>\n",
       "    .dataframe tbody tr th:only-of-type {\n",
       "        vertical-align: middle;\n",
       "    }\n",
       "\n",
       "    .dataframe tbody tr th {\n",
       "        vertical-align: top;\n",
       "    }\n",
       "\n",
       "    .dataframe thead th {\n",
       "        text-align: right;\n",
       "    }\n",
       "</style>\n",
       "<table border=\"1\" class=\"dataframe\">\n",
       "  <thead>\n",
       "    <tr style=\"text-align: right;\">\n",
       "      <th></th>\n",
       "      <th>Unnamed: 0</th>\n",
       "      <th>Year</th>\n",
       "      <th>Country</th>\n",
       "      <th>Disaster Subroup</th>\n",
       "      <th>Disaster Type</th>\n",
       "      <th>Disaster Subtype</th>\n",
       "      <th>Total Events</th>\n",
       "      <th>Total Affected</th>\n",
       "      <th>Total Deaths</th>\n",
       "      <th>Total Damage (USD, original)</th>\n",
       "      <th>CPI</th>\n",
       "    </tr>\n",
       "  </thead>\n",
       "  <tbody>\n",
       "    <tr>\n",
       "      <th>0</th>\n",
       "      <td>1</td>\n",
       "      <td>1900</td>\n",
       "      <td>Cabo Verde</td>\n",
       "      <td>Climatological</td>\n",
       "      <td>Drought</td>\n",
       "      <td>Drought</td>\n",
       "      <td>1</td>\n",
       "      <td>11000.0</td>\n",
       "      <td>11000.0</td>\n",
       "      <td>NaN</td>\n",
       "      <td>3.077091</td>\n",
       "    </tr>\n",
       "    <tr>\n",
       "      <th>1</th>\n",
       "      <td>2</td>\n",
       "      <td>1900</td>\n",
       "      <td>India</td>\n",
       "      <td>Climatological</td>\n",
       "      <td>Drought</td>\n",
       "      <td>Drought</td>\n",
       "      <td>1</td>\n",
       "      <td>1250000.0</td>\n",
       "      <td>1250000.0</td>\n",
       "      <td>NaN</td>\n",
       "      <td>3.077091</td>\n",
       "    </tr>\n",
       "    <tr>\n",
       "      <th>2</th>\n",
       "      <td>3</td>\n",
       "      <td>1900</td>\n",
       "      <td>Jamaica</td>\n",
       "      <td>Hydrological</td>\n",
       "      <td>Flood</td>\n",
       "      <td>No Subtype</td>\n",
       "      <td>1</td>\n",
       "      <td>300.0</td>\n",
       "      <td>300.0</td>\n",
       "      <td>NaN</td>\n",
       "      <td>3.077091</td>\n",
       "    </tr>\n",
       "    <tr>\n",
       "      <th>3</th>\n",
       "      <td>4</td>\n",
       "      <td>1900</td>\n",
       "      <td>Japan</td>\n",
       "      <td>Geophysical</td>\n",
       "      <td>Volcanic activity</td>\n",
       "      <td>Ash fall</td>\n",
       "      <td>1</td>\n",
       "      <td>30.0</td>\n",
       "      <td>30.0</td>\n",
       "      <td>NaN</td>\n",
       "      <td>3.077091</td>\n",
       "    </tr>\n",
       "    <tr>\n",
       "      <th>4</th>\n",
       "      <td>5</td>\n",
       "      <td>1900</td>\n",
       "      <td>Turkey</td>\n",
       "      <td>Geophysical</td>\n",
       "      <td>Earthquake</td>\n",
       "      <td>Ground movement</td>\n",
       "      <td>1</td>\n",
       "      <td>140.0</td>\n",
       "      <td>140.0</td>\n",
       "      <td>NaN</td>\n",
       "      <td>3.077091</td>\n",
       "    </tr>\n",
       "    <tr>\n",
       "      <th>...</th>\n",
       "      <td>...</td>\n",
       "      <td>...</td>\n",
       "      <td>...</td>\n",
       "      <td>...</td>\n",
       "      <td>...</td>\n",
       "      <td>...</td>\n",
       "      <td>...</td>\n",
       "      <td>...</td>\n",
       "      <td>...</td>\n",
       "      <td>...</td>\n",
       "      <td>...</td>\n",
       "    </tr>\n",
       "    <tr>\n",
       "      <th>10337</th>\n",
       "      <td>10338</td>\n",
       "      <td>2022</td>\n",
       "      <td>Yemen</td>\n",
       "      <td>Hydrological</td>\n",
       "      <td>Flood</td>\n",
       "      <td>Flash flood</td>\n",
       "      <td>1</td>\n",
       "      <td>3400.0</td>\n",
       "      <td>13.0</td>\n",
       "      <td>NaN</td>\n",
       "      <td>NaN</td>\n",
       "    </tr>\n",
       "    <tr>\n",
       "      <th>10338</th>\n",
       "      <td>10339</td>\n",
       "      <td>2022</td>\n",
       "      <td>South Africa</td>\n",
       "      <td>Hydrological</td>\n",
       "      <td>Flood</td>\n",
       "      <td>No Subtype</td>\n",
       "      <td>7</td>\n",
       "      <td>143119.0</td>\n",
       "      <td>562.0</td>\n",
       "      <td>3.164000e+09</td>\n",
       "      <td>NaN</td>\n",
       "    </tr>\n",
       "    <tr>\n",
       "      <th>10339</th>\n",
       "      <td>10340</td>\n",
       "      <td>2022</td>\n",
       "      <td>Zambia</td>\n",
       "      <td>Hydrological</td>\n",
       "      <td>Flood</td>\n",
       "      <td>No Subtype</td>\n",
       "      <td>1</td>\n",
       "      <td>15000.0</td>\n",
       "      <td>3.0</td>\n",
       "      <td>NaN</td>\n",
       "      <td>NaN</td>\n",
       "    </tr>\n",
       "    <tr>\n",
       "      <th>10340</th>\n",
       "      <td>10341</td>\n",
       "      <td>2022</td>\n",
       "      <td>Zimbabwe</td>\n",
       "      <td>Hydrological</td>\n",
       "      <td>Flood</td>\n",
       "      <td>No Subtype</td>\n",
       "      <td>1</td>\n",
       "      <td>0.0</td>\n",
       "      <td>0.0</td>\n",
       "      <td>NaN</td>\n",
       "      <td>NaN</td>\n",
       "    </tr>\n",
       "    <tr>\n",
       "      <th>10341</th>\n",
       "      <td>10342</td>\n",
       "      <td>2022</td>\n",
       "      <td>Zimbabwe</td>\n",
       "      <td>Meteorological</td>\n",
       "      <td>Storm</td>\n",
       "      <td>Tropical cyclone</td>\n",
       "      <td>1</td>\n",
       "      <td>3000.0</td>\n",
       "      <td>0.0</td>\n",
       "      <td>NaN</td>\n",
       "      <td>NaN</td>\n",
       "    </tr>\n",
       "  </tbody>\n",
       "</table>\n",
       "<p>10342 rows × 11 columns</p>\n",
       "</div>"
      ],
      "text/plain": [
       "       Unnamed: 0  Year       Country Disaster Subroup      Disaster Type  \\\n",
       "0               1  1900    Cabo Verde   Climatological            Drought   \n",
       "1               2  1900         India   Climatological            Drought   \n",
       "2               3  1900       Jamaica     Hydrological              Flood   \n",
       "3               4  1900         Japan      Geophysical  Volcanic activity   \n",
       "4               5  1900        Turkey      Geophysical         Earthquake   \n",
       "...           ...   ...           ...              ...                ...   \n",
       "10337       10338  2022         Yemen     Hydrological              Flood   \n",
       "10338       10339  2022  South Africa     Hydrological              Flood   \n",
       "10339       10340  2022        Zambia     Hydrological              Flood   \n",
       "10340       10341  2022      Zimbabwe     Hydrological              Flood   \n",
       "10341       10342  2022      Zimbabwe   Meteorological              Storm   \n",
       "\n",
       "       Disaster Subtype  Total Events  Total Affected  Total Deaths  \\\n",
       "0               Drought             1         11000.0       11000.0   \n",
       "1               Drought             1       1250000.0     1250000.0   \n",
       "2            No Subtype             1           300.0         300.0   \n",
       "3              Ash fall             1            30.0          30.0   \n",
       "4       Ground movement             1           140.0         140.0   \n",
       "...                 ...           ...             ...           ...   \n",
       "10337       Flash flood             1          3400.0          13.0   \n",
       "10338        No Subtype             7        143119.0         562.0   \n",
       "10339        No Subtype             1         15000.0           3.0   \n",
       "10340        No Subtype             1             0.0           0.0   \n",
       "10341  Tropical cyclone             1          3000.0           0.0   \n",
       "\n",
       "       Total Damage (USD, original)       CPI  \n",
       "0                               NaN  3.077091  \n",
       "1                               NaN  3.077091  \n",
       "2                               NaN  3.077091  \n",
       "3                               NaN  3.077091  \n",
       "4                               NaN  3.077091  \n",
       "...                             ...       ...  \n",
       "10337                           NaN       NaN  \n",
       "10338                  3.164000e+09       NaN  \n",
       "10339                           NaN       NaN  \n",
       "10340                           NaN       NaN  \n",
       "10341                           NaN       NaN  \n",
       "\n",
       "[10342 rows x 11 columns]"
      ]
     },
     "execution_count": 83,
     "metadata": {},
     "output_type": "execute_result"
    }
   ],
   "source": [
    "data"
   ]
  },
  {
   "cell_type": "code",
   "execution_count": 84,
   "id": "2d1d13f8",
   "metadata": {},
   "outputs": [
    {
     "data": {
      "text/plain": [
       "0        False\n",
       "1        False\n",
       "2        False\n",
       "3        False\n",
       "4        False\n",
       "         ...  \n",
       "10337    False\n",
       "10338    False\n",
       "10339    False\n",
       "10340    False\n",
       "10341    False\n",
       "Name: Country, Length: 10342, dtype: bool"
      ]
     },
     "execution_count": 84,
     "metadata": {},
     "output_type": "execute_result"
    }
   ],
   "source": [
    "data['Country'] == 'Germany'"
   ]
  },
  {
   "cell_type": "code",
   "execution_count": 85,
   "id": "70d135df",
   "metadata": {},
   "outputs": [
    {
     "data": {
      "text/html": [
       "<div>\n",
       "<style scoped>\n",
       "    .dataframe tbody tr th:only-of-type {\n",
       "        vertical-align: middle;\n",
       "    }\n",
       "\n",
       "    .dataframe tbody tr th {\n",
       "        vertical-align: top;\n",
       "    }\n",
       "\n",
       "    .dataframe thead th {\n",
       "        text-align: right;\n",
       "    }\n",
       "</style>\n",
       "<table border=\"1\" class=\"dataframe\">\n",
       "  <thead>\n",
       "    <tr style=\"text-align: right;\">\n",
       "      <th></th>\n",
       "      <th>Unnamed: 0</th>\n",
       "      <th>Year</th>\n",
       "      <th>Country</th>\n",
       "      <th>Disaster Subroup</th>\n",
       "      <th>Disaster Type</th>\n",
       "      <th>Disaster Subtype</th>\n",
       "      <th>Total Events</th>\n",
       "      <th>Total Affected</th>\n",
       "      <th>Total Deaths</th>\n",
       "      <th>Total Damage (USD, original)</th>\n",
       "      <th>CPI</th>\n",
       "    </tr>\n",
       "  </thead>\n",
       "  <tbody>\n",
       "    <tr>\n",
       "      <th>3120</th>\n",
       "      <td>3121</td>\n",
       "      <td>1990</td>\n",
       "      <td>Germany</td>\n",
       "      <td>Meteorological</td>\n",
       "      <td>Storm</td>\n",
       "      <td>No Subtype</td>\n",
       "      <td>6</td>\n",
       "      <td>64.0</td>\n",
       "      <td>64.0</td>\n",
       "      <td>4.440000e+09</td>\n",
       "      <td>48.218797</td>\n",
       "    </tr>\n",
       "    <tr>\n",
       "      <th>3288</th>\n",
       "      <td>3289</td>\n",
       "      <td>1991</td>\n",
       "      <td>Germany</td>\n",
       "      <td>Meteorological</td>\n",
       "      <td>Storm</td>\n",
       "      <td>No Subtype</td>\n",
       "      <td>1</td>\n",
       "      <td>0.0</td>\n",
       "      <td>0.0</td>\n",
       "      <td>5.000000e+06</td>\n",
       "      <td>50.260853</td>\n",
       "    </tr>\n",
       "    <tr>\n",
       "      <th>3430</th>\n",
       "      <td>3431</td>\n",
       "      <td>1992</td>\n",
       "      <td>Germany</td>\n",
       "      <td>Geophysical</td>\n",
       "      <td>Earthquake</td>\n",
       "      <td>Ground movement</td>\n",
       "      <td>1</td>\n",
       "      <td>1525.0</td>\n",
       "      <td>1.0</td>\n",
       "      <td>5.000000e+07</td>\n",
       "      <td>51.783162</td>\n",
       "    </tr>\n",
       "    <tr>\n",
       "      <th>3431</th>\n",
       "      <td>3432</td>\n",
       "      <td>1992</td>\n",
       "      <td>Germany</td>\n",
       "      <td>Hydrological</td>\n",
       "      <td>Flood</td>\n",
       "      <td>No Subtype</td>\n",
       "      <td>1</td>\n",
       "      <td>0.0</td>\n",
       "      <td>0.0</td>\n",
       "      <td>3.010000e+07</td>\n",
       "      <td>51.783162</td>\n",
       "    </tr>\n",
       "    <tr>\n",
       "      <th>3581</th>\n",
       "      <td>3582</td>\n",
       "      <td>1993</td>\n",
       "      <td>Germany</td>\n",
       "      <td>Hydrological</td>\n",
       "      <td>Flood</td>\n",
       "      <td>Riverine flood</td>\n",
       "      <td>1</td>\n",
       "      <td>100000.0</td>\n",
       "      <td>5.0</td>\n",
       "      <td>6.000000e+08</td>\n",
       "      <td>53.311620</td>\n",
       "    </tr>\n",
       "    <tr>\n",
       "      <th>...</th>\n",
       "      <td>...</td>\n",
       "      <td>...</td>\n",
       "      <td>...</td>\n",
       "      <td>...</td>\n",
       "      <td>...</td>\n",
       "      <td>...</td>\n",
       "      <td>...</td>\n",
       "      <td>...</td>\n",
       "      <td>...</td>\n",
       "      <td>...</td>\n",
       "      <td>...</td>\n",
       "    </tr>\n",
       "    <tr>\n",
       "      <th>9468</th>\n",
       "      <td>9469</td>\n",
       "      <td>2019</td>\n",
       "      <td>Germany</td>\n",
       "      <td>Meteorological</td>\n",
       "      <td>Storm</td>\n",
       "      <td>Convective storm</td>\n",
       "      <td>1</td>\n",
       "      <td>1.0</td>\n",
       "      <td>1.0</td>\n",
       "      <td>NaN</td>\n",
       "      <td>94.349092</td>\n",
       "    </tr>\n",
       "    <tr>\n",
       "      <th>9707</th>\n",
       "      <td>9708</td>\n",
       "      <td>2020</td>\n",
       "      <td>Germany</td>\n",
       "      <td>Meteorological</td>\n",
       "      <td>Storm</td>\n",
       "      <td>Extra-tropical storm</td>\n",
       "      <td>1</td>\n",
       "      <td>33.0</td>\n",
       "      <td>0.0</td>\n",
       "      <td>NaN</td>\n",
       "      <td>95.512967</td>\n",
       "    </tr>\n",
       "    <tr>\n",
       "      <th>9951</th>\n",
       "      <td>9952</td>\n",
       "      <td>2021</td>\n",
       "      <td>Germany</td>\n",
       "      <td>Hydrological</td>\n",
       "      <td>Flood</td>\n",
       "      <td>No Subtype</td>\n",
       "      <td>1</td>\n",
       "      <td>1000.0</td>\n",
       "      <td>197.0</td>\n",
       "      <td>4.000000e+10</td>\n",
       "      <td>100.000000</td>\n",
       "    </tr>\n",
       "    <tr>\n",
       "      <th>9952</th>\n",
       "      <td>9953</td>\n",
       "      <td>2021</td>\n",
       "      <td>Germany</td>\n",
       "      <td>Meteorological</td>\n",
       "      <td>Storm</td>\n",
       "      <td>Convective storm</td>\n",
       "      <td>2</td>\n",
       "      <td>604.0</td>\n",
       "      <td>1.0</td>\n",
       "      <td>NaN</td>\n",
       "      <td>100.000000</td>\n",
       "    </tr>\n",
       "    <tr>\n",
       "      <th>10187</th>\n",
       "      <td>10188</td>\n",
       "      <td>2022</td>\n",
       "      <td>Germany</td>\n",
       "      <td>Meteorological</td>\n",
       "      <td>Storm</td>\n",
       "      <td>Extra-tropical storm</td>\n",
       "      <td>3</td>\n",
       "      <td>2.0</td>\n",
       "      <td>7.0</td>\n",
       "      <td>NaN</td>\n",
       "      <td>NaN</td>\n",
       "    </tr>\n",
       "  </tbody>\n",
       "</table>\n",
       "<p>66 rows × 11 columns</p>\n",
       "</div>"
      ],
      "text/plain": [
       "       Unnamed: 0  Year  Country Disaster Subroup Disaster Type  \\\n",
       "3120         3121  1990  Germany   Meteorological         Storm   \n",
       "3288         3289  1991  Germany   Meteorological         Storm   \n",
       "3430         3431  1992  Germany      Geophysical    Earthquake   \n",
       "3431         3432  1992  Germany     Hydrological         Flood   \n",
       "3581         3582  1993  Germany     Hydrological         Flood   \n",
       "...           ...   ...      ...              ...           ...   \n",
       "9468         9469  2019  Germany   Meteorological         Storm   \n",
       "9707         9708  2020  Germany   Meteorological         Storm   \n",
       "9951         9952  2021  Germany     Hydrological         Flood   \n",
       "9952         9953  2021  Germany   Meteorological         Storm   \n",
       "10187       10188  2022  Germany   Meteorological         Storm   \n",
       "\n",
       "           Disaster Subtype  Total Events  Total Affected  Total Deaths  \\\n",
       "3120             No Subtype             6            64.0          64.0   \n",
       "3288             No Subtype             1             0.0           0.0   \n",
       "3430        Ground movement             1          1525.0           1.0   \n",
       "3431             No Subtype             1             0.0           0.0   \n",
       "3581         Riverine flood             1        100000.0           5.0   \n",
       "...                     ...           ...             ...           ...   \n",
       "9468       Convective storm             1             1.0           1.0   \n",
       "9707   Extra-tropical storm             1            33.0           0.0   \n",
       "9951             No Subtype             1          1000.0         197.0   \n",
       "9952       Convective storm             2           604.0           1.0   \n",
       "10187  Extra-tropical storm             3             2.0           7.0   \n",
       "\n",
       "       Total Damage (USD, original)         CPI  \n",
       "3120                   4.440000e+09   48.218797  \n",
       "3288                   5.000000e+06   50.260853  \n",
       "3430                   5.000000e+07   51.783162  \n",
       "3431                   3.010000e+07   51.783162  \n",
       "3581                   6.000000e+08   53.311620  \n",
       "...                             ...         ...  \n",
       "9468                            NaN   94.349092  \n",
       "9707                            NaN   95.512967  \n",
       "9951                   4.000000e+10  100.000000  \n",
       "9952                            NaN  100.000000  \n",
       "10187                           NaN         NaN  \n",
       "\n",
       "[66 rows x 11 columns]"
      ]
     },
     "execution_count": 85,
     "metadata": {},
     "output_type": "execute_result"
    }
   ],
   "source": [
    "data[data['Country'] == 'Germany']"
   ]
  },
  {
   "cell_type": "code",
   "execution_count": 82,
   "id": "6948a576",
   "metadata": {},
   "outputs": [
    {
     "ename": "KeyError",
     "evalue": "'Germany'",
     "output_type": "error",
     "traceback": [
      "\u001b[0;31m---------------------------------------------------------------------------\u001b[0m",
      "\u001b[0;31mKeyError\u001b[0m                                  Traceback (most recent call last)",
      "File \u001b[0;32m~/.local/lib/python3.9/site-packages/pandas/core/indexes/base.py:3803\u001b[0m, in \u001b[0;36mIndex.get_loc\u001b[0;34m(self, key, method, tolerance)\u001b[0m\n\u001b[1;32m   3802\u001b[0m \u001b[38;5;28;01mtry\u001b[39;00m:\n\u001b[0;32m-> 3803\u001b[0m     \u001b[38;5;28;01mreturn\u001b[39;00m \u001b[38;5;28;43mself\u001b[39;49m\u001b[38;5;241;43m.\u001b[39;49m\u001b[43m_engine\u001b[49m\u001b[38;5;241;43m.\u001b[39;49m\u001b[43mget_loc\u001b[49m\u001b[43m(\u001b[49m\u001b[43mcasted_key\u001b[49m\u001b[43m)\u001b[49m\n\u001b[1;32m   3804\u001b[0m \u001b[38;5;28;01mexcept\u001b[39;00m \u001b[38;5;167;01mKeyError\u001b[39;00m \u001b[38;5;28;01mas\u001b[39;00m err:\n",
      "File \u001b[0;32m~/.local/lib/python3.9/site-packages/pandas/_libs/index.pyx:138\u001b[0m, in \u001b[0;36mpandas._libs.index.IndexEngine.get_loc\u001b[0;34m()\u001b[0m\n",
      "File \u001b[0;32m~/.local/lib/python3.9/site-packages/pandas/_libs/index.pyx:165\u001b[0m, in \u001b[0;36mpandas._libs.index.IndexEngine.get_loc\u001b[0;34m()\u001b[0m\n",
      "File \u001b[0;32mpandas/_libs/hashtable_class_helper.pxi:5745\u001b[0m, in \u001b[0;36mpandas._libs.hashtable.PyObjectHashTable.get_item\u001b[0;34m()\u001b[0m\n",
      "File \u001b[0;32mpandas/_libs/hashtable_class_helper.pxi:5753\u001b[0m, in \u001b[0;36mpandas._libs.hashtable.PyObjectHashTable.get_item\u001b[0;34m()\u001b[0m\n",
      "\u001b[0;31mKeyError\u001b[0m: 'Germany'",
      "\nThe above exception was the direct cause of the following exception:\n",
      "\u001b[0;31mKeyError\u001b[0m                                  Traceback (most recent call last)",
      "Cell \u001b[0;32mIn [82], line 1\u001b[0m\n\u001b[0;32m----> 1\u001b[0m data[\u001b[38;5;124m'\u001b[39m\u001b[38;5;124mGermany\u001b[39m\u001b[38;5;124m'\u001b[39m]\n",
      "File \u001b[0;32m~/.local/lib/python3.9/site-packages/pandas/core/frame.py:3804\u001b[0m, in \u001b[0;36mDataFrame.__getitem__\u001b[0;34m(self, key)\u001b[0m\n\u001b[1;32m   3802\u001b[0m \u001b[38;5;28;01mif\u001b[39;00m \u001b[38;5;28mself\u001b[39m\u001b[38;5;241m.\u001b[39mcolumns\u001b[38;5;241m.\u001b[39mnlevels \u001b[38;5;241m>\u001b[39m \u001b[38;5;241m1\u001b[39m:\n\u001b[1;32m   3803\u001b[0m     \u001b[38;5;28;01mreturn\u001b[39;00m \u001b[38;5;28mself\u001b[39m\u001b[38;5;241m.\u001b[39m_getitem_multilevel(key)\n\u001b[0;32m-> 3804\u001b[0m indexer \u001b[38;5;241m=\u001b[39m \u001b[38;5;28;43mself\u001b[39;49m\u001b[38;5;241;43m.\u001b[39;49m\u001b[43mcolumns\u001b[49m\u001b[38;5;241;43m.\u001b[39;49m\u001b[43mget_loc\u001b[49m\u001b[43m(\u001b[49m\u001b[43mkey\u001b[49m\u001b[43m)\u001b[49m\n\u001b[1;32m   3805\u001b[0m \u001b[38;5;28;01mif\u001b[39;00m is_integer(indexer):\n\u001b[1;32m   3806\u001b[0m     indexer \u001b[38;5;241m=\u001b[39m [indexer]\n",
      "File \u001b[0;32m~/.local/lib/python3.9/site-packages/pandas/core/indexes/base.py:3805\u001b[0m, in \u001b[0;36mIndex.get_loc\u001b[0;34m(self, key, method, tolerance)\u001b[0m\n\u001b[1;32m   3803\u001b[0m     \u001b[38;5;28;01mreturn\u001b[39;00m \u001b[38;5;28mself\u001b[39m\u001b[38;5;241m.\u001b[39m_engine\u001b[38;5;241m.\u001b[39mget_loc(casted_key)\n\u001b[1;32m   3804\u001b[0m \u001b[38;5;28;01mexcept\u001b[39;00m \u001b[38;5;167;01mKeyError\u001b[39;00m \u001b[38;5;28;01mas\u001b[39;00m err:\n\u001b[0;32m-> 3805\u001b[0m     \u001b[38;5;28;01mraise\u001b[39;00m \u001b[38;5;167;01mKeyError\u001b[39;00m(key) \u001b[38;5;28;01mfrom\u001b[39;00m \u001b[38;5;21;01merr\u001b[39;00m\n\u001b[1;32m   3806\u001b[0m \u001b[38;5;28;01mexcept\u001b[39;00m \u001b[38;5;167;01mTypeError\u001b[39;00m:\n\u001b[1;32m   3807\u001b[0m     \u001b[38;5;66;03m# If we have a listlike key, _check_indexing_error will raise\u001b[39;00m\n\u001b[1;32m   3808\u001b[0m     \u001b[38;5;66;03m#  InvalidIndexError. Otherwise we fall through and re-raise\u001b[39;00m\n\u001b[1;32m   3809\u001b[0m     \u001b[38;5;66;03m#  the TypeError.\u001b[39;00m\n\u001b[1;32m   3810\u001b[0m     \u001b[38;5;28mself\u001b[39m\u001b[38;5;241m.\u001b[39m_check_indexing_error(key)\n",
      "\u001b[0;31mKeyError\u001b[0m: 'Germany'"
     ]
    }
   ],
   "source": [
    "data['Germany'] "
   ]
  },
  {
   "cell_type": "markdown",
   "id": "174d1a49",
   "metadata": {},
   "source": [
    "Korrektur der Ländernamen"
   ]
  },
  {
   "cell_type": "code",
   "execution_count": null,
   "id": "5d463a9d",
   "metadata": {
    "slideshow": {
     "slide_type": "slide"
    }
   },
   "outputs": [],
   "source": [
    "# Vorkommen von Deutschland\n",
    "for country in data['Country'].unique():\n",
    "    if 'german' in country.lower():\n",
    "        print(country)"
   ]
  },
  {
   "cell_type": "markdown",
   "id": "64e4ab94",
   "metadata": {},
   "source": [
    "Funktion die dies bereinigt"
   ]
  },
  {
   "cell_type": "code",
   "execution_count": null,
   "id": "7f57be66",
   "metadata": {},
   "outputs": [],
   "source": [
    "def clean_country\n"
   ]
  },
  {
   "cell_type": "code",
   "execution_count": null,
   "id": "3db4e733",
   "metadata": {},
   "outputs": [],
   "source": [
    "text = 'Germany Fed Rep'\n",
    "text = 'Mexico'\n",
    "clean_country(text)"
   ]
  },
  {
   "cell_type": "markdown",
   "id": "0d77e32c",
   "metadata": {},
   "source": [
    "Anwendung der Funktion auf alle Werte einer Spalte"
   ]
  },
  {
   "cell_type": "code",
   "execution_count": null,
   "id": "2e7c65ba",
   "metadata": {},
   "outputs": [],
   "source": [
    "for index, row in data.iterrows():\n",
    "    data.loc[index, \"Country\"] = clean_country(row['Country'])"
   ]
  },
  {
   "cell_type": "code",
   "execution_count": null,
   "id": "35d4a2d1",
   "metadata": {},
   "outputs": [],
   "source": [
    "help(data.loc)"
   ]
  },
  {
   "cell_type": "code",
   "execution_count": null,
   "id": "c9f9646e",
   "metadata": {},
   "outputs": [],
   "source": [
    "data[data['Country'] == 'Germany']"
   ]
  },
  {
   "cell_type": "markdown",
   "id": "eaa814b4",
   "metadata": {},
   "source": [
    "**oder** (viel übersichtlicher und effizienter)\n",
    "\n",
    "mit `apply()` kann eine Funktion auf eine komplette Spalte oder Zeile des Dataframes angewendet werden"
   ]
  },
  {
   "cell_type": "code",
   "execution_count": null,
   "id": "221bb2bf",
   "metadata": {},
   "outputs": [],
   "source": [
    "data['Country'] = data['Country'].apply(clean_country)"
   ]
  },
  {
   "cell_type": "markdown",
   "id": "4447e446",
   "metadata": {},
   "source": [
    "#### Wie viele Todesopfer gab es insgesamt in Deutschland?"
   ]
  },
  {
   "cell_type": "code",
   "execution_count": null,
   "id": "4a40731a",
   "metadata": {
    "scrolled": false
   },
   "outputs": [],
   "source": [
    "data[data['Country'] == 'Germany']"
   ]
  },
  {
   "cell_type": "markdown",
   "id": "ca38217d",
   "metadata": {},
   "source": [
    "#### Wie viele Todesopfer gab es insgesamt in Indien?"
   ]
  },
  {
   "cell_type": "code",
   "execution_count": null,
   "id": "1080db45",
   "metadata": {},
   "outputs": [],
   "source": []
  },
  {
   "cell_type": "markdown",
   "id": "d01c83b6",
   "metadata": {},
   "source": [
    "#### Allgemeine Funktion die Gesamtzahl der Todesopfer eines Landes ausgibt"
   ]
  },
  {
   "cell_type": "code",
   "execution_count": null,
   "id": "3e88539f",
   "metadata": {},
   "outputs": [],
   "source": []
  },
  {
   "cell_type": "markdown",
   "id": "a5d55b9f",
   "metadata": {},
   "source": [
    "### Dashboard Teil II\n",
    "\n",
    "#### Welchen Anteil haben die unterschiedlichen Naturkatastrophentypen in Deutschland?"
   ]
  },
  {
   "cell_type": "code",
   "execution_count": null,
   "id": "b222f6ef",
   "metadata": {},
   "outputs": [],
   "source": []
  },
  {
   "cell_type": "markdown",
   "id": "163fa3cb",
   "metadata": {},
   "source": [
    "# Visualisierung von DataFrames\n",
    "\n",
    "Matplotlib is a comprehensive library for creating static, animated, and interactive visualizations in Python.\n",
    "\n",
    "Matplotlib makes easy things easy and hard things possible.\n",
    "\n",
    "Install [matplotlib](https://matplotlib.org/)"
   ]
  },
  {
   "cell_type": "code",
   "execution_count": null,
   "id": "14287eb9",
   "metadata": {},
   "outputs": [],
   "source": [
    "!pip3 install --upgrade pip\n",
    "!pip3 install --upgrade Pillow\n",
    "!pip3 install matplotlib"
   ]
  },
  {
   "cell_type": "code",
   "execution_count": null,
   "id": "b5da17db",
   "metadata": {},
   "outputs": [],
   "source": [
    "import matplotlib.pyplot as plt"
   ]
  },
  {
   "cell_type": "code",
   "execution_count": null,
   "id": "d319deff",
   "metadata": {},
   "outputs": [],
   "source": [
    "germany_data['Disaster Type'].value_counts()"
   ]
  },
  {
   "cell_type": "code",
   "execution_count": null,
   "id": "64fcf496",
   "metadata": {
    "scrolled": true
   },
   "outputs": [],
   "source": [
    "fig = germany_data['Disaster Type'].value_counts().plot(kind='bar')"
   ]
  },
  {
   "cell_type": "code",
   "execution_count": null,
   "id": "2cf2e38e",
   "metadata": {
    "scrolled": true
   },
   "outputs": [],
   "source": [
    "germany_data['Disaster Type'].value_counts().plot(kind='pie')"
   ]
  },
  {
   "cell_type": "markdown",
   "id": "7204827f",
   "metadata": {
    "slideshow": {
     "slide_type": "slide"
    }
   },
   "source": [
    "## Recherchefragen\n",
    "\n",
    "#### Welche Naturkatastrophen fordern die meisten Todesopfer?"
   ]
  },
  {
   "cell_type": "markdown",
   "id": "a6957897",
   "metadata": {},
   "source": [
    "`.groupby()` gruppiert einen DataFrame nach den Werten einer oder mehreren Spalten.\n",
    "\n",
    "Die Spalten nach denen man Gruppieren möchte werden als Argument übergeben. Danach folgt die gewünschte Berechnung auf dieser Gruppe. Das Ergebnis wird als DataFrame zurückgegeben. "
   ]
  },
  {
   "cell_type": "code",
   "execution_count": null,
   "id": "119dd523",
   "metadata": {
    "scrolled": true
   },
   "outputs": [],
   "source": [
    "data.groupby('Disaster Type').sum()"
   ]
  },
  {
   "cell_type": "code",
   "execution_count": null,
   "id": "f4f4e7fe",
   "metadata": {
    "scrolled": true
   },
   "outputs": [],
   "source": [
    "data.groupby('Disaster Type')['Total Deaths'].sum()"
   ]
  },
  {
   "cell_type": "markdown",
   "id": "30e0d1a0",
   "metadata": {},
   "source": [
    "`.groupby()` kann auch auf mehrere Spalten gleichzeitig angewendet werden"
   ]
  },
  {
   "cell_type": "code",
   "execution_count": null,
   "id": "61a1cf0b",
   "metadata": {},
   "outputs": [],
   "source": [
    "data.groupby(['Disaster Type', 'Disaster Subtype'])['Total Deaths'].sum()"
   ]
  },
  {
   "cell_type": "markdown",
   "id": "1b8fce19",
   "metadata": {},
   "source": [
    "#### Visualisierung"
   ]
  },
  {
   "cell_type": "code",
   "execution_count": null,
   "id": "d31c1948",
   "metadata": {},
   "outputs": [],
   "source": [
    "data.groupby('Disaster Type')['Total Deaths'].sum().plot(kind='pie')"
   ]
  },
  {
   "cell_type": "markdown",
   "id": "7ba15cb5",
   "metadata": {},
   "source": [
    "#### Welche Naturkatastrophen fordern die meisten Todesopfer in Deutschland?"
   ]
  },
  {
   "cell_type": "code",
   "execution_count": null,
   "id": "b5f44033",
   "metadata": {},
   "outputs": [],
   "source": []
  },
  {
   "cell_type": "markdown",
   "id": "831be8d4",
   "metadata": {},
   "source": [
    "#### Generelle Funktion"
   ]
  },
  {
   "cell_type": "code",
   "execution_count": null,
   "id": "5f9d7b89",
   "metadata": {},
   "outputs": [],
   "source": [
    "country = 'India'\n",
    "country_data = data[data['Country'] == country]\n",
    "country_data.groupby('Disaster Type')['Total Deaths'].sum().plot(kind='pie')"
   ]
  },
  {
   "cell_type": "markdown",
   "id": "969368ee",
   "metadata": {},
   "source": [
    "## Dashboard Teil IV\n",
    "\n",
    "#### Wie hat sich die Anzahl der Naturkatastrophen über die Jahre hin entwickelt?"
   ]
  },
  {
   "cell_type": "code",
   "execution_count": null,
   "id": "d7712420",
   "metadata": {},
   "outputs": [],
   "source": [
    "yearly_events = data.groupby('Year')['Total Events'].sum()\n",
    "yearly_events.plot(kind='line', x='Year', y='Total Events', title='Anzahl an Naturkatastrophen pro Jahr')"
   ]
  },
  {
   "cell_type": "markdown",
   "id": "7a95806d",
   "metadata": {},
   "source": [
    "## Länderdashboard"
   ]
  },
  {
   "cell_type": "code",
   "execution_count": null,
   "id": "1a42939a",
   "metadata": {},
   "outputs": [],
   "source": [
    "def plot_pie(country_data):\n",
    "    country_data.groupby('Disaster Type')['Total Deaths'].sum().plot(kind='pie', title='Anteil an getöten Menschen nach Naturkatastrophentyp')\n",
    "    plt.show()"
   ]
  },
  {
   "cell_type": "code",
   "execution_count": null,
   "id": "a2f865f6",
   "metadata": {},
   "outputs": [],
   "source": [
    "def plot_time_evolution(country_data):\n",
    "    yearly_events = country_data.groupby('Year')['Total Events'].sum()\n",
    "    yearly_events.plot(kind='line', x='Year', y='Total Events', title='Anzahl an Naturkatastrophen pro Jahr')\n",
    "    plt.show()"
   ]
  },
  {
   "cell_type": "code",
   "execution_count": null,
   "id": "6b15a7fd",
   "metadata": {},
   "outputs": [],
   "source": [
    "def death_overview(country_data):\n",
    "    total_deaths = country_data[\"Total Deaths\"].sum()\n",
    "    print(f'Getötete Menschen seit 1900: {total_deaths:,.0f}')"
   ]
  },
  {
   "cell_type": "code",
   "execution_count": null,
   "id": "a40045ec",
   "metadata": {},
   "outputs": [],
   "source": [
    "def compute_anteil(country_total, world_total):\n",
    "    anteil = round(country_total / (world_total / 100.0), 2)\n",
    "    print(f'{anteil}% aller Menschen die weltweit von Naturkatastrophen betroffen sind leben hier.')"
   ]
  },
  {
   "cell_type": "code",
   "execution_count": null,
   "id": "409ea3bb",
   "metadata": {},
   "outputs": [],
   "source": [
    "def analyze(data, country):\n",
    "    print(f'Naturkatastrophen in {country.upper()} \\n')\n",
    "    country_data = data[data['Country'] == country]\n",
    "    \n",
    "    compute_anteil(country_data['Total Affected'].sum(), data['Total Affected'].sum())\n",
    "    death_overview(country_data)\n",
    "    plot_pie(country_data)\n",
    "    plot_time_evolution(country_data)"
   ]
  },
  {
   "cell_type": "code",
   "execution_count": null,
   "id": "ee148b1a",
   "metadata": {},
   "outputs": [],
   "source": [
    "analyze(data, 'Bangladesh')"
   ]
  },
  {
   "cell_type": "markdown",
   "id": "d2a9d7a5",
   "metadata": {},
   "source": [
    "### Überblick über die Welt\n",
    "\n",
    "Wie können wir die selbstdefinierte Funktion `analyze()` anpassen, so dass auch eine Gesamtstatistik, die alle Länder der Welt enthält abgefragt werden kann?"
   ]
  },
  {
   "cell_type": "code",
   "execution_count": null,
   "id": "6b94080d",
   "metadata": {},
   "outputs": [],
   "source": [
    "def analyze(data, country):\n",
    "    print(f'Naturkatastrophen in {country.upper()} \\n')\n",
    "    country_data = data[data['Country'] == country]\n",
    "    stats_overview(country_data)\n",
    "    plot_pie(country_data)\n",
    "    plot_time_evolution(country_data)"
   ]
  },
  {
   "cell_type": "code",
   "execution_count": null,
   "id": "b2ef99a8",
   "metadata": {},
   "outputs": [],
   "source": [
    "analyze(data, 'world')"
   ]
  },
  {
   "cell_type": "markdown",
   "id": "e74a7453",
   "metadata": {
    "slideshow": {
     "slide_type": "slide"
    }
   },
   "source": [
    "# Zeit für Feedback\n",
    "\n",
    "\n",
    "\n",
    "Link: https://ahaslides.com/HP3D5\n",
    "\n",
    "![Feedback QR Code](../imgs/qrcode_vl7.png)\n",
    "\n"
   ]
  },
  {
   "cell_type": "code",
   "execution_count": null,
   "id": "49d58eea",
   "metadata": {},
   "outputs": [],
   "source": []
  }
 ],
 "metadata": {
  "celltoolbar": "Slideshow",
  "kernelspec": {
   "display_name": "Python 3 (ipykernel)",
   "language": "python",
   "name": "python3"
  },
  "language_info": {
   "codemirror_mode": {
    "name": "ipython",
    "version": 3
   },
   "file_extension": ".py",
   "mimetype": "text/x-python",
   "name": "python",
   "nbconvert_exporter": "python",
   "pygments_lexer": "ipython3",
   "version": "3.9.15"
  }
 },
 "nbformat": 4,
 "nbformat_minor": 5
}
