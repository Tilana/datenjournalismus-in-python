{
 "cells": [
  {
   "cell_type": "markdown",
   "id": "d9a3430d",
   "metadata": {
    "slideshow": {
     "slide_type": "slide"
    }
   },
   "source": [
    "# Datenjournalismus in Python - \n",
    "# Eine praktische Einführung in die Programmierung\n",
    "\n",
    "\n",
    "### Natalie Widmann\n",
    "\n",
    "\n",
    "\n",
    "\n",
    "Wintersemester 2022 / 2023\n",
    "\n",
    "\n",
    "Universität Leipzig\n",
    "\n",
    "\n",
    "\n"
   ]
  },
  {
   "cell_type": "markdown",
   "id": "ecac78fb",
   "metadata": {
    "slideshow": {
     "slide_type": "slide"
    }
   },
   "source": [
    "## Was sind Daten?\n",
    "\n",
    "\n",
    "### Strukturierte Daten\n",
    "\n",
    "Strukturierte Daten sind gut organisiert und so formattiert, dass es einfach ist sie zu durchsuchen, sie maschinell zu lesen oder zu verarbeiten. Das einfachste Beispiel ist eine Tabelle in der jede Spalte eine Kategorie oder einen Wert festlegt. \n",
    "\n",
    "\n",
    "### Unstrukturierte Daten\n",
    "\n",
    "Im Gegensatz dazu sind unstrukturierte Daten nicht in einem bestimmten Format oder einer festgelegten Struktur verfügbar. Dazu zählen Texte, Bilder, Social Media Feeds, aber auch Audio Files, etc.\n",
    "\n",
    "\n",
    "### Semi-Strukturierte Daten\n",
    "\n",
    "Semi-strukturierte Daten bilden eine Mischform. Beispielsweise eine Tabelle mit E-Mail Daten, in der Empfänger, Betreff, Datum und Absender strukturierte Informationen enthalten, der eigentliche Text jedoch unstrukturiert ist. "
   ]
  },
  {
   "cell_type": "markdown",
   "id": "218a0599",
   "metadata": {
    "slideshow": {
     "slide_type": "slide"
    }
   },
   "source": [
    "## Was sind Daten?\n",
    "\n",
    "![Daten](../imgs/data.png)"
   ]
  },
  {
   "cell_type": "markdown",
   "id": "a1c7d68a",
   "metadata": {
    "slideshow": {
     "slide_type": "slide"
    }
   },
   "source": [
    "### Aggregated figures for Natural Disasters in EM-DAT\n",
    "\n",
    "Link: https://data.humdata.org/dataset/emdat-country-profiles\n",
    "\n",
    "\n",
    "In 1988, the **Centre for Research on the Epidemiology of Disasters (CRED)** launched the **Emergency Events Database (EM-DAT)**. EM-DAT was created with the initial support of the **World Health Organisation (WHO) and the Belgian Government**.\n",
    "\n",
    "The main objective of the database is to **serve the purposes of humanitarian action at national and international levels**. The initiative aims to rationalise decision making for disaster preparedness, as well as provide an objective base for vulnerability assessment and priority setting.\n",
    "\n",
    "EM-DAT contains essential core data on the **occurrence and effects of over 22,000 mass disasters in the world from 1900 to the present day**. The database is compiled from various sources, including UN agencies, non-governmental organisations, insurance companies, research institutes and press agencies.\n",
    "\n"
   ]
  },
  {
   "cell_type": "code",
   "execution_count": null,
   "id": "8658426c",
   "metadata": {
    "slideshow": {
     "slide_type": "slide"
    }
   },
   "outputs": [],
   "source": [
    "# Install a pip package im Jupyter Notebook\n",
    "!pip3 install pandas\n",
    "!pip3 install openpyxl"
   ]
  },
  {
   "cell_type": "code",
   "execution_count": null,
   "id": "9f32b8a8",
   "metadata": {
    "slideshow": {
     "slide_type": "slide"
    }
   },
   "outputs": [],
   "source": [
    "import pandas as pd\n",
    "data = pd.read_excel('../data/emdat.xlsx', engine=\"openpyxl\")"
   ]
  },
  {
   "cell_type": "code",
   "execution_count": null,
   "id": "8c93e778",
   "metadata": {},
   "outputs": [],
   "source": [
    "data"
   ]
  },
  {
   "cell_type": "markdown",
   "id": "e9751370",
   "metadata": {},
   "source": [
    "## Data Cleaning\n",
    "\n",
    "Entferne erste Zeile"
   ]
  },
  {
   "cell_type": "code",
   "execution_count": null,
   "id": "2b0a3698",
   "metadata": {
    "slideshow": {
     "slide_type": "-"
    }
   },
   "outputs": [],
   "source": [
    "data = data.drop(index=0)"
   ]
  },
  {
   "cell_type": "markdown",
   "id": "27d31bfb",
   "metadata": {},
   "source": [
    "Änderung des Datentyps für integeger und float Spalten"
   ]
  },
  {
   "cell_type": "code",
   "execution_count": null,
   "id": "5d5deef2",
   "metadata": {
    "slideshow": {
     "slide_type": "slide"
    }
   },
   "outputs": [],
   "source": [
    "cols = ['Year', 'Total Events', 'Total Affected', 'Total Deaths', 'Total Damage (USD, adjusted)']\n",
    "for col in cols:\n",
    "    data[col] = pd.to_numeric(data[col])"
   ]
  },
  {
   "cell_type": "code",
   "execution_count": null,
   "id": "0a134e4c",
   "metadata": {
    "scrolled": true
   },
   "outputs": [],
   "source": [
    "data"
   ]
  },
  {
   "cell_type": "markdown",
   "id": "80edafb1",
   "metadata": {},
   "source": [
    "Entferne irrelevante Spalten, hier: *ISO, Disaster Group, Total Damage (USD, adjusted)*"
   ]
  },
  {
   "cell_type": "code",
   "execution_count": null,
   "id": "2841e65c",
   "metadata": {},
   "outputs": [],
   "source": [
    "cols = ['ISO', 'Disaster Group', 'Total Damage (USD, adjusted)']\n",
    "data = data.drop(cols, axis=1)"
   ]
  },
  {
   "cell_type": "code",
   "execution_count": null,
   "id": "3348360e",
   "metadata": {
    "scrolled": false
   },
   "outputs": [],
   "source": [
    "data"
   ]
  },
  {
   "cell_type": "markdown",
   "id": "ce40a536",
   "metadata": {},
   "source": [
    "## Fehlende Werte - NaNs Values\n",
    "\n",
    "Wo fehlen Werte im Datensatz?\n",
    "Wie viele fehlen?"
   ]
  },
  {
   "cell_type": "code",
   "execution_count": null,
   "id": "d7265ae6",
   "metadata": {},
   "outputs": [],
   "source": [
    "data"
   ]
  },
  {
   "cell_type": "markdown",
   "id": "d3699c46",
   "metadata": {},
   "source": [
    "#### Wie viele Werte pro Spalte sind NaN?"
   ]
  },
  {
   "cell_type": "code",
   "execution_count": null,
   "id": "6b05c717",
   "metadata": {},
   "outputs": [],
   "source": [
    "data.info()"
   ]
  },
  {
   "cell_type": "code",
   "execution_count": null,
   "id": "801e0007",
   "metadata": {},
   "outputs": [],
   "source": [
    "data.isnull()"
   ]
  },
  {
   "cell_type": "code",
   "execution_count": null,
   "id": "fa11bccb",
   "metadata": {},
   "outputs": [],
   "source": [
    "data.isnull().sum()"
   ]
  },
  {
   "cell_type": "markdown",
   "id": "49359a60",
   "metadata": {},
   "source": [
    "### Möglichkeiten zum Umgang mit fehlenden Werte\n",
    "\n",
    "- Zeilen mit fehlenden Werten entfernen\n",
    "- fehlende Werte ersetzen\n"
   ]
  },
  {
   "cell_type": "markdown",
   "id": "eb244f4c",
   "metadata": {},
   "source": [
    "#### Alle Zeilen mit NaN Werten entfernen\n",
    "\n",
    "`dropna()` "
   ]
  },
  {
   "cell_type": "code",
   "execution_count": null,
   "id": "65b84c5d",
   "metadata": {},
   "outputs": [],
   "source": [
    "clean_data = data.dropna()\n",
    "clean_data"
   ]
  },
  {
   "cell_type": "markdown",
   "id": "905d5c01",
   "metadata": {},
   "source": [
    "Entferne nur Zeilen die in einer bestimmten Spalte NaN Werte haben"
   ]
  },
  {
   "cell_type": "code",
   "execution_count": null,
   "id": "87de22bb",
   "metadata": {},
   "outputs": [],
   "source": [
    "clean_data = data.dropna(subset=['Disaster Subtype', 'Total Affected'])\n",
    "clean_data"
   ]
  },
  {
   "cell_type": "markdown",
   "id": "446724b7",
   "metadata": {},
   "source": [
    "### Fehlende Werte entfernen\n",
    "\n",
    "**Vorteile**\n",
    "- einfache Handhabung\n",
    "- verständliche Methodik\n",
    "\n",
    "\n",
    "**Nachteile**\n",
    "- ein großer Teil der Daten wird nicht ausgewertet\n",
    "- fehlende Werte können eine ganz andere Geschichte erzählen\n",
    "- die Konsistenz über unterschiedliche Fragestellungen hinweg muss sichergestellt sein\n"
   ]
  },
  {
   "cell_type": "markdown",
   "id": "349cc57d",
   "metadata": {},
   "source": [
    "### Fehlende Werte ersetzen\n",
    "\n",
    "Mit `.fillna()` können alle NaN Werte in einem DataFrame oder einer Series automatisch ersetzt werden.\n",
    "\n",
    "Das Argument `inplace=True` wendet die Methode direkt auf den DataFrame an."
   ]
  },
  {
   "cell_type": "code",
   "execution_count": null,
   "id": "7d0fc284",
   "metadata": {},
   "outputs": [],
   "source": [
    "data.fillna(0)"
   ]
  },
  {
   "cell_type": "code",
   "execution_count": null,
   "id": "eb863439",
   "metadata": {},
   "outputs": [],
   "source": [
    "data[\"Disaster Subtype\"].fillna(\"No Subtype\", inplace=True)"
   ]
  },
  {
   "cell_type": "code",
   "execution_count": null,
   "id": "d4c71693",
   "metadata": {
    "scrolled": true
   },
   "outputs": [],
   "source": [
    "data"
   ]
  },
  {
   "cell_type": "markdown",
   "id": "3a963197",
   "metadata": {},
   "source": [
    "Welche Werte für Total Affected, Total Deaths oder Total Damage?\n",
    "\n",
    "- 0\n",
    "- arithmetisches Mittel\n",
    "- Median\n",
    "- Berechnung aus anderen Spalten"
   ]
  },
  {
   "cell_type": "code",
   "execution_count": null,
   "id": "219263af",
   "metadata": {},
   "outputs": [],
   "source": [
    "data[\"Total Deaths\"].fillna(0, inplace=True)"
   ]
  },
  {
   "cell_type": "code",
   "execution_count": null,
   "id": "c06714bb",
   "metadata": {},
   "outputs": [],
   "source": [
    "data[\"Total Affected\"].fillna(data['Total Deaths'], inplace=True)"
   ]
  },
  {
   "cell_type": "code",
   "execution_count": null,
   "id": "f0919c85",
   "metadata": {},
   "outputs": [],
   "source": [
    "data"
   ]
  },
  {
   "cell_type": "markdown",
   "id": "98ac5334",
   "metadata": {},
   "source": [
    "### Fehlende Werte ersetzen\n",
    "\n",
    "**Vorteile**\n",
    "- Verwendung möglichst aller Daten\n",
    "- genaue Analyse der fehlenden Werte kann zu neuen Erkenntnissen führen\n",
    "\n",
    "\n",
    "**Nachteile**\n",
    "- keine Standard Methodik\n",
    "- eventuelle Verfälschung der Daten\n",
    "\n"
   ]
  },
  {
   "cell_type": "markdown",
   "id": "45654a46",
   "metadata": {},
   "source": [
    "## Duplikate\n",
    "\n",
    "`.duplicated()` findet Zeilen mit genau den gleichen Werte.\n",
    "\n",
    "Mit `drop_duplicates()` können diese entfernt werden."
   ]
  },
  {
   "cell_type": "code",
   "execution_count": null,
   "id": "317407a8",
   "metadata": {
    "scrolled": true
   },
   "outputs": [],
   "source": [
    "data.duplicated()"
   ]
  },
  {
   "cell_type": "code",
   "execution_count": null,
   "id": "a94051aa",
   "metadata": {},
   "outputs": [],
   "source": [
    "data.drop_duplicates()"
   ]
  },
  {
   "cell_type": "markdown",
   "id": "4ddd6d49",
   "metadata": {},
   "source": [
    "## Daten speichern & Neu laden"
   ]
  },
  {
   "cell_type": "code",
   "execution_count": null,
   "id": "4978504c",
   "metadata": {},
   "outputs": [],
   "source": [
    "data.to_csv('../data/clean_emdat.csv')"
   ]
  },
  {
   "cell_type": "code",
   "execution_count": null,
   "id": "12a71892",
   "metadata": {},
   "outputs": [],
   "source": []
  },
  {
   "cell_type": "markdown",
   "id": "e1cc61e8",
   "metadata": {},
   "source": [
    "## Zurück zum Dashboard..."
   ]
  },
  {
   "cell_type": "markdown",
   "id": "2e424631",
   "metadata": {
    "slideshow": {
     "slide_type": "slide"
    }
   },
   "source": [
    "## Recherchefragen\n",
    "\n",
    "- Wie viele Todesopfer gibt es insgesamt in Deutschland?\n",
    "- Wie stark ist ein Land von Naturkatastrophen betroffen?\n",
    "- Welchen Anteil haben die unterschiedlichen Naturkatastrophentypen daran?\n",
    "- Wie hat sich die Anzahl der Naturkatastrophen über die Jahre hin entwickelt?"
   ]
  },
  {
   "cell_type": "markdown",
   "id": "3b0620e2",
   "metadata": {},
   "source": [
    "#### Wie viele Todesopfer gibt es insgesamt?"
   ]
  },
  {
   "cell_type": "code",
   "execution_count": null,
   "id": "1f37395f",
   "metadata": {},
   "outputs": [],
   "source": []
  },
  {
   "cell_type": "markdown",
   "id": "c18901cc",
   "metadata": {},
   "source": [
    "#### Wie viele Todesopfer gibt es insgesamt in Deutschland?"
   ]
  },
  {
   "cell_type": "code",
   "execution_count": null,
   "id": "2d1d13f8",
   "metadata": {},
   "outputs": [],
   "source": []
  },
  {
   "cell_type": "markdown",
   "id": "174d1a49",
   "metadata": {},
   "source": [
    "Korrektur der Ländernamen"
   ]
  },
  {
   "cell_type": "code",
   "execution_count": null,
   "id": "5d463a9d",
   "metadata": {
    "slideshow": {
     "slide_type": "slide"
    }
   },
   "outputs": [],
   "source": [
    "# Vorkommen von Deutschland\n",
    "for country in data['Country'].unique():\n",
    "    if 'german' in country.lower():\n",
    "        print(country)"
   ]
  },
  {
   "cell_type": "markdown",
   "id": "64e4ab94",
   "metadata": {},
   "source": [
    "Funktion die dies bereinigt"
   ]
  },
  {
   "cell_type": "code",
   "execution_count": null,
   "id": "7f57be66",
   "metadata": {},
   "outputs": [],
   "source": [
    "def clean_country\n"
   ]
  },
  {
   "cell_type": "code",
   "execution_count": null,
   "id": "3db4e733",
   "metadata": {},
   "outputs": [],
   "source": [
    "text = 'Germany Fed Rep'\n",
    "text = 'Mexico'\n",
    "clean_country(text)"
   ]
  },
  {
   "cell_type": "markdown",
   "id": "0d77e32c",
   "metadata": {},
   "source": [
    "Anwendung der Funktion auf alle Werte einer Spalte"
   ]
  },
  {
   "cell_type": "code",
   "execution_count": null,
   "id": "2e7c65ba",
   "metadata": {},
   "outputs": [],
   "source": [
    "for index, row in data.iterrows():\n",
    "    data.loc[index, \"Country\"] = clean_country(row['Country'])"
   ]
  },
  {
   "cell_type": "code",
   "execution_count": null,
   "id": "35d4a2d1",
   "metadata": {},
   "outputs": [],
   "source": [
    "help(data.loc)"
   ]
  },
  {
   "cell_type": "code",
   "execution_count": null,
   "id": "c9f9646e",
   "metadata": {},
   "outputs": [],
   "source": [
    "data[data['Country'] == 'Germany']"
   ]
  },
  {
   "cell_type": "markdown",
   "id": "eaa814b4",
   "metadata": {},
   "source": [
    "**oder** (viel übersichtlicher und effizienter)\n",
    "\n",
    "mit `apply()` kann eine Funktion auf eine komplette Spalte oder Zeile des Dataframes angewendet werden"
   ]
  },
  {
   "cell_type": "code",
   "execution_count": null,
   "id": "221bb2bf",
   "metadata": {},
   "outputs": [],
   "source": [
    "data['Country'] = data['Country'].apply(clean_country)"
   ]
  },
  {
   "cell_type": "markdown",
   "id": "4447e446",
   "metadata": {},
   "source": [
    "#### Wie viele Todesopfer gab es insgesamt in Deutschland?"
   ]
  },
  {
   "cell_type": "code",
   "execution_count": null,
   "id": "4a40731a",
   "metadata": {
    "scrolled": false
   },
   "outputs": [],
   "source": [
    "data[data['Country'] == 'Germany']"
   ]
  },
  {
   "cell_type": "markdown",
   "id": "ca38217d",
   "metadata": {},
   "source": [
    "#### Wie viele Todesopfer gab es insgesamt in Indien?"
   ]
  },
  {
   "cell_type": "code",
   "execution_count": null,
   "id": "1080db45",
   "metadata": {},
   "outputs": [],
   "source": []
  },
  {
   "cell_type": "markdown",
   "id": "d01c83b6",
   "metadata": {},
   "source": [
    "#### Allgemeine Funktion die Gesamtzahl der Todesopfer eines Landes ausgibt"
   ]
  },
  {
   "cell_type": "code",
   "execution_count": null,
   "id": "3e88539f",
   "metadata": {},
   "outputs": [],
   "source": []
  },
  {
   "cell_type": "markdown",
   "id": "a5d55b9f",
   "metadata": {},
   "source": [
    "### Dashboard Teil II\n",
    "\n",
    "#### Welchen Anteil haben die unterschiedlichen Naturkatastrophentypen in Deutschland?"
   ]
  },
  {
   "cell_type": "code",
   "execution_count": null,
   "id": "b222f6ef",
   "metadata": {},
   "outputs": [],
   "source": []
  },
  {
   "cell_type": "markdown",
   "id": "163fa3cb",
   "metadata": {},
   "source": [
    "# Visualisierung von DataFrames\n",
    "\n",
    "Matplotlib is a comprehensive library for creating static, animated, and interactive visualizations in Python.\n",
    "\n",
    "Matplotlib makes easy things easy and hard things possible.\n",
    "\n",
    "Install [matplotlib](https://matplotlib.org/)"
   ]
  },
  {
   "cell_type": "code",
   "execution_count": null,
   "id": "14287eb9",
   "metadata": {},
   "outputs": [],
   "source": [
    "!pip3 install --upgrade pip\n",
    "!pip3 install --upgrade Pillow\n",
    "!pip3 install matplotlib"
   ]
  },
  {
   "cell_type": "code",
   "execution_count": null,
   "id": "b5da17db",
   "metadata": {},
   "outputs": [],
   "source": [
    "import matplotlib.pyplot as plt"
   ]
  },
  {
   "cell_type": "code",
   "execution_count": null,
   "id": "d319deff",
   "metadata": {},
   "outputs": [],
   "source": [
    "germany_data['Disaster Type'].value_counts()"
   ]
  },
  {
   "cell_type": "code",
   "execution_count": null,
   "id": "64fcf496",
   "metadata": {
    "scrolled": true
   },
   "outputs": [],
   "source": [
    "fig = germany_data['Disaster Type'].value_counts().plot(kind='bar')"
   ]
  },
  {
   "cell_type": "code",
   "execution_count": null,
   "id": "2cf2e38e",
   "metadata": {
    "scrolled": true
   },
   "outputs": [],
   "source": [
    "germany_data['Disaster Type'].value_counts().plot(kind='pie')"
   ]
  },
  {
   "cell_type": "markdown",
   "id": "7204827f",
   "metadata": {
    "slideshow": {
     "slide_type": "slide"
    }
   },
   "source": [
    "## Recherchefragen\n",
    "\n",
    "#### Welche Naturkatastrophen fordern die meisten Todesopfer?"
   ]
  },
  {
   "cell_type": "markdown",
   "id": "a6957897",
   "metadata": {},
   "source": [
    "`.groupby()` gruppiert einen DataFrame nach den Werten einer oder mehreren Spalten.\n",
    "\n",
    "Die Spalten nach denen man Gruppieren möchte werden als Argument übergeben. Danach folgt die gewünschte Berechnung auf dieser Gruppe. Das Ergebnis wird als DataFrame zurückgegeben. "
   ]
  },
  {
   "cell_type": "code",
   "execution_count": null,
   "id": "119dd523",
   "metadata": {
    "scrolled": true
   },
   "outputs": [],
   "source": [
    "data.groupby('Disaster Type').sum()"
   ]
  },
  {
   "cell_type": "code",
   "execution_count": null,
   "id": "f4f4e7fe",
   "metadata": {
    "scrolled": true
   },
   "outputs": [],
   "source": [
    "data.groupby('Disaster Type')['Total Deaths'].sum()"
   ]
  },
  {
   "cell_type": "markdown",
   "id": "30e0d1a0",
   "metadata": {},
   "source": [
    "`.groupby()` kann auch auf mehrere Spalten gleichzeitig angewendet werden"
   ]
  },
  {
   "cell_type": "code",
   "execution_count": null,
   "id": "61a1cf0b",
   "metadata": {},
   "outputs": [],
   "source": [
    "data.groupby(['Disaster Type', 'Disaster Subtype'])['Total Deaths'].sum()"
   ]
  },
  {
   "cell_type": "markdown",
   "id": "1b8fce19",
   "metadata": {},
   "source": [
    "#### Visualisierung"
   ]
  },
  {
   "cell_type": "code",
   "execution_count": null,
   "id": "d31c1948",
   "metadata": {},
   "outputs": [],
   "source": [
    "data.groupby('Disaster Type')['Total Deaths'].sum().plot(kind='pie')"
   ]
  },
  {
   "cell_type": "markdown",
   "id": "7ba15cb5",
   "metadata": {},
   "source": [
    "#### Welche Naturkatastrophen fordern die meisten Todesopfer in Deutschland?"
   ]
  },
  {
   "cell_type": "code",
   "execution_count": null,
   "id": "b5f44033",
   "metadata": {},
   "outputs": [],
   "source": []
  },
  {
   "cell_type": "markdown",
   "id": "831be8d4",
   "metadata": {},
   "source": [
    "#### Generelle Funktion"
   ]
  },
  {
   "cell_type": "code",
   "execution_count": null,
   "id": "5f9d7b89",
   "metadata": {},
   "outputs": [],
   "source": [
    "country = 'India'\n",
    "country_data = data[data['Country'] == country]\n",
    "country_data.groupby('Disaster Type')['Total Deaths'].sum().plot(kind='pie')"
   ]
  },
  {
   "cell_type": "markdown",
   "id": "969368ee",
   "metadata": {},
   "source": [
    "## Dashboard Teil IV\n",
    "\n",
    "#### Wie hat sich die Anzahl der Naturkatastrophen über die Jahre hin entwickelt?"
   ]
  },
  {
   "cell_type": "code",
   "execution_count": null,
   "id": "d7712420",
   "metadata": {},
   "outputs": [],
   "source": [
    "yearly_events = data.groupby('Year')['Total Events'].sum()\n",
    "yearly_events.plot(kind='line', x='Year', y='Total Events', title='Anzahl an Naturkatastrophen pro Jahr')"
   ]
  },
  {
   "cell_type": "markdown",
   "id": "7a95806d",
   "metadata": {},
   "source": [
    "## Länderdashboard"
   ]
  },
  {
   "cell_type": "code",
   "execution_count": null,
   "id": "1a42939a",
   "metadata": {},
   "outputs": [],
   "source": [
    "def plot_pie(country_data):\n",
    "    country_data.groupby('Disaster Type')['Total Deaths'].sum().plot(kind='pie', title='Anteil an getöten Menschen nach Naturkatastrophentyp')\n",
    "    plt.show()"
   ]
  },
  {
   "cell_type": "code",
   "execution_count": null,
   "id": "a2f865f6",
   "metadata": {},
   "outputs": [],
   "source": [
    "def plot_time_evolution(country_data):\n",
    "    yearly_events = country_data.groupby('Year')['Total Events'].sum()\n",
    "    yearly_events.plot(kind='line', x='Year', y='Total Events', title='Anzahl an Naturkatastrophen pro Jahr')\n",
    "    plt.show()"
   ]
  },
  {
   "cell_type": "code",
   "execution_count": null,
   "id": "6b15a7fd",
   "metadata": {},
   "outputs": [],
   "source": [
    "def death_overview(country_data):\n",
    "    total_deaths = country_data[\"Total Deaths\"].sum()\n",
    "    print(f'Getötete Menschen seit 1900: {total_deaths:,.0f}')"
   ]
  },
  {
   "cell_type": "code",
   "execution_count": null,
   "id": "a40045ec",
   "metadata": {},
   "outputs": [],
   "source": [
    "def compute_anteil(country_total, world_total):\n",
    "    anteil = round(country_total / (world_total / 100.0), 2)\n",
    "    print(f'{anteil}% aller Menschen die weltweit von Naturkatastrophen betroffen sind leben hier.')"
   ]
  },
  {
   "cell_type": "code",
   "execution_count": null,
   "id": "409ea3bb",
   "metadata": {},
   "outputs": [],
   "source": [
    "def analyze(data, country):\n",
    "    print(f'Naturkatastrophen in {country.upper()} \\n')\n",
    "    country_data = data[data['Country'] == country]\n",
    "    \n",
    "    compute_anteil(country_data['Total Affected'].sum(), data['Total Affected'].sum())\n",
    "    death_overview(country_data)\n",
    "    plot_pie(country_data)\n",
    "    plot_time_evolution(country_data)"
   ]
  },
  {
   "cell_type": "code",
   "execution_count": null,
   "id": "ee148b1a",
   "metadata": {},
   "outputs": [],
   "source": [
    "analyze(data, 'Bangladesh')"
   ]
  },
  {
   "cell_type": "markdown",
   "id": "d2a9d7a5",
   "metadata": {},
   "source": [
    "### Überblick über die Welt\n",
    "\n",
    "Wie können wir die selbstdefinierte Funktion `analyze()` anpassen, so dass auch eine Gesamtstatistik, die alle Länder der Welt enthält abgefragt werden kann?"
   ]
  },
  {
   "cell_type": "code",
   "execution_count": null,
   "id": "6b94080d",
   "metadata": {},
   "outputs": [],
   "source": [
    "def analyze(data, country):\n",
    "    print(f'Naturkatastrophen in {country.upper()} \\n')\n",
    "    country_data = data[data['Country'] == country]\n",
    "    stats_overview(country_data)\n",
    "    plot_pie(country_data)\n",
    "    plot_time_evolution(country_data)"
   ]
  },
  {
   "cell_type": "code",
   "execution_count": null,
   "id": "b2ef99a8",
   "metadata": {},
   "outputs": [],
   "source": [
    "analyze(data, 'world')"
   ]
  },
  {
   "cell_type": "markdown",
   "id": "e74a7453",
   "metadata": {
    "slideshow": {
     "slide_type": "slide"
    }
   },
   "source": [
    "# Zeit für Feedback\n",
    "\n",
    "\n",
    "\n",
    "Link: https://ahaslides.com/3VAQJ\n",
    "\n",
    "![Feedback QR Code](../imgs/qrcode_vl6.png)\n",
    "\n"
   ]
  }
 ],
 "metadata": {
  "celltoolbar": "Slideshow",
  "kernelspec": {
   "display_name": "Python 3 (ipykernel)",
   "language": "python",
   "name": "python3"
  },
  "language_info": {
   "codemirror_mode": {
    "name": "ipython",
    "version": 3
   },
   "file_extension": ".py",
   "mimetype": "text/x-python",
   "name": "python",
   "nbconvert_exporter": "python",
   "pygments_lexer": "ipython3",
   "version": "3.9.15"
  }
 },
 "nbformat": 4,
 "nbformat_minor": 5
}
