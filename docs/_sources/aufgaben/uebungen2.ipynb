{
 "cells": [
  {
   "cell_type": "markdown",
   "id": "d1bfe66b",
   "metadata": {},
   "source": [
    "# String Methoden, Vergleichs- & boolsche Operatoren, if-elif-else\n",
    "Diese Aufgaben sind etwas anspruchsvoller. Probiert so weit wie möglich zu kommen. Falls ihr nicht weiter wisst probiert es mit einer Internetrecherche. Sonst reichen auch Lösungsansätze.\n",
    "\n",
    "## Strings und ihre Methoden\n",
    "Nutze die Methoden von Strings, um die gegebenen Anforderungen zu erfüllen."
   ]
  },
  {
   "cell_type": "code",
   "execution_count": null,
   "id": "efc49b34",
   "metadata": {},
   "outputs": [],
   "source": [
    "\"\"\"Trenne den Apfel vom Baum, aber den Baum nicht vom Stamm.\"\"\"\n",
    "a = \"Apfel-Baum-Stamm\"\n",
    "'''Schreibe den Namen zusammen.'''\n",
    "b = ['Georg', 'Elser']\n",
    "'''Füge hier dein Alter ein.'''\n",
    "c = 'Ich bin schon {} Jahre alt.'\n",
    "'''Ersetze alle 'kl' durch 'r'.'''\n",
    "d = \"Alle kleinen Klaviere klingen geklaut besser.\"\n",
    "'''Finde die Nadel im Heuhaufen'''\n",
    "e = \"HeuHeuHeuHeuHeuHeuHeuHeuHeuHeuHeuHeuHeuHeuHeuHeuHeuHeuHeuHeuHeuHeuHeuHeuHeuHeuHeuHeuNadelHeuHeuHeuHeuHeuHeuHeuHeuHeuHeuHeuHeuHeuHeuHeuHeuHeuHeuHeuHeuHeuHeuHeuHeuHeuHeuHeuHeuHeuHeuHeuHeuHeuHeuHeuHeuHeuHeuHeuHeuHeuHeuHeuHeuHeuHeuHeuHeuHeuHeuHeuHeuHeuHeuHeuHeu\"\n",
    "'''Überprüfe ob f nur aus Buchstaben besteht.'''\n",
    "f = 'ABCDEFGH1JKLMN0PQRSTUVWXYZ'\n"
   ]
  },
  {
   "cell_type": "markdown",
   "id": "65e3d2d7",
   "metadata": {},
   "source": [
    "\n",
    "Gegeben ist der folgende Satz. Nutze die Methoden von Strings, um das Wort 'Ring' in Großbuchstaben zu schreiben."
   ]
  },
  {
   "cell_type": "code",
   "execution_count": null,
   "id": "3d47f0e8",
   "metadata": {},
   "outputs": [],
   "source": [
    "satz = \"Ein Ring, sie zu knechten.\""
   ]
  },
  {
   "cell_type": "markdown",
   "id": "d227d7e4",
   "metadata": {},
   "source": [
    "## Was ist wahr in Python?\n",
    "Welche Werte werden von Python als wahr ausgewertet? Welche Regel steckt dahinter?\n"
   ]
  },
  {
   "cell_type": "code",
   "execution_count": null,
   "id": "eb9efff1",
   "metadata": {},
   "outputs": [],
   "source": [
    "a = 20\n",
    "b = 0\n",
    "c = 'False'\n",
    "d = 0.1\n",
    "e = []"
   ]
  },
  {
   "cell_type": "markdown",
   "id": "79b382ff",
   "metadata": {},
   "source": [
    "## Ein Gleichnis\n",
    "Gegeben sind fünf Thesen. Überprüfe mithilfe der Vergleichsoperatoren, die in der Vorlesung vorgestellt wurden, ob sie wahr sind."
   ]
  },
  {
   "cell_type": "code",
   "execution_count": null,
   "id": "7817254c",
   "metadata": {},
   "outputs": [],
   "source": [
    "\"\"\"These 1:\n",
    "Das doppelte von zehn ist mindestens so groß wie das dreifache von fünf.\"\"\"\n",
    "\n",
    "\"\"\"\n",
    "These 2:\n",
    "13 zum Quadrat ist genau 169.\"\"\"\n",
    "\n",
    "\"\"\"These 3:\n",
    "Drei mal acht ist nicht das gleiche wie vier mal sechs.\"\"\"\n",
    "\n",
    "\"\"\"These 4:\n",
    "Fünf geteilt durch zwei ist weniger als dreimal ein halb.\"\"\"\n",
    "\n",
    "\"\"\"These 5:\n",
    "Das zehnfache von 83 ist niemals so groß wie das fünffache von 161.\"\"\""
   ]
  },
  {
   "cell_type": "markdown",
   "id": "04eb667d",
   "metadata": {},
   "source": [
    "## Operation Wahrheit\n",
    "Mithilfe der (aussagen-)logischen Operatoren **not**, **or** und **and** können boolesche Werte ausgewertet werden. Ergänze diese Operatoren in den folgenden **if**-Abfragen, sodass ein bekannter Liedtext ausgegeben wird.\n"
   ]
  },
  {
   "cell_type": "code",
   "execution_count": null,
   "id": "d3f695d5",
   "metadata": {},
   "outputs": [],
   "source": [
    "if 3 < 5  64 > 66:\n",
    "    print('Griechischer Wein ist so wie das Blut der Erde')\n",
    "if len('') == 1:\n",
    "    print('Komm, schenk dir ein')\n",
    "if 'Hallo' 'False':\n",
    "    print('Ich bau ein Schloss')\n",
    "if True False:\n",
    "    print('Und wenn ich dann traurig werde')\n",
    "if 97 == 22:\n",
    "    print('Liegt es daran, dass ich immer träume von daheim')\n",
    "if 0 1 2:\n",
    "    print('Morgen Kinder wirds nix geben.')\n",
    "if False True False True:\n",
    "    print('Du musst verzeihn.')\n",
    "\n"
   ]
  },
  {
   "cell_type": "markdown",
   "id": "a6db5758",
   "metadata": {},
   "source": [
    "\n",
    "## Kontrollstrukturen\n"
   ]
  },
  {
   "cell_type": "markdown",
   "id": "d143cfbf",
   "metadata": {},
   "source": [
    "Schreibe ein **if**-Statement welches prüft, ob eine Zahl positiv, negativ oder gleich null ist. Gebe als Ausgabe den Satz \"x ist positiv/negativ/null.\" entsprechend dem jeweiligen Fall aus. X soll dabei durch die überprüfte Zahl ersetzt werden.\n"
   ]
  },
  {
   "cell_type": "code",
   "execution_count": null,
   "id": "e15cd442",
   "metadata": {},
   "outputs": [],
   "source": [
    "x = 64\n"
   ]
  }
 ],
 "metadata": {
  "celltoolbar": "Tags",
  "kernelspec": {
   "display_name": "Python 3 (ipykernel)",
   "language": "python",
   "name": "python3"
  },
  "language_info": {
   "codemirror_mode": {
    "name": "ipython",
    "version": 3
   },
   "file_extension": ".py",
   "mimetype": "text/x-python",
   "name": "python",
   "nbconvert_exporter": "python",
   "pygments_lexer": "ipython3",
   "version": "3.9.15"
  },
  "livereveal": {
   "autolaunch": true
  },
  "vscode": {
   "interpreter": {
    "hash": "f9f85f796d01129d0dd105a088854619f454435301f6ffec2fea96ecbd9be4ac"
   }
  }
 },
 "nbformat": 4,
 "nbformat_minor": 5
}
