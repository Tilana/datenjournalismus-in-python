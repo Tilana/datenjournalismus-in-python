{
 "cells": [
  {
   "cell_type": "markdown",
   "id": "b664f24e",
   "metadata": {},
   "source": [
    "# Selbstdefinierte Funktionen\n",
    "\n",
    "Selbstdefinierte Funktionen helfen eine wiederkehrende Aufgabe zu erfüllen und den Code übersichtlich zu halten.\n",
    "\n",
    "\n",
    "\n",
    "\n",
    "## Syntax\n",
    "\n",
    "\n",
    "`def` ist das Schlüsselwort für eine Funktionsdefinition. Darauf folgt der Funktionsname, runde Klammern und ein Doppelpunkt. Alle Anweisungen, die eingerückt stehen werden beim Funktionsaufruf ausgeführt.\n",
    "\n",
    "\n",
    "\n",
    "![funktion](../../imgs/funktion.png)\n",
    "\n",
    "\n",
    "Aufgerufen wird die Funktion über `<funktions_name>()`.\n",
    "\n",
    "\n",
    "### Beispiele"
   ]
  },
  {
   "cell_type": "code",
   "execution_count": 5,
   "id": "8a35db0b",
   "metadata": {},
   "outputs": [],
   "source": [
    "# Funktion die Hallo Welt auf der Konsole ausgibt\n",
    "def say_hello_world():\n",
    "    print('Hallo Welt')"
   ]
  },
  {
   "cell_type": "code",
   "execution_count": 6,
   "id": "21a9645d",
   "metadata": {},
   "outputs": [
    {
     "name": "stdout",
     "output_type": "stream",
     "text": [
      "Hallo Welt\n"
     ]
    }
   ],
   "source": [
    "say_hello_world()"
   ]
  },
  {
   "cell_type": "markdown",
   "id": "81597d62",
   "metadata": {},
   "source": [
    "## Parameter\n",
    "\n",
    "Funktionen können flexibler gestaltet werden, in dem Eingabeparameter definiert werden.\n",
    "\n",
    "Innerhalb dieser Funktion können diese Parameter wie ganz normale Variablen benutzt werden. \n"
   ]
  },
  {
   "cell_type": "code",
   "execution_count": 7,
   "id": "8ad0f3a3",
   "metadata": {},
   "outputs": [],
   "source": [
    "# Funktion die Hallo XY! auf der Konsole ausgibt\n",
    "def say_hello(name):\n",
    "    print(f'Hallo {name}!')"
   ]
  },
  {
   "cell_type": "code",
   "execution_count": 8,
   "id": "53f134b2",
   "metadata": {},
   "outputs": [
    {
     "name": "stdout",
     "output_type": "stream",
     "text": [
      "Hallo Max!\n"
     ]
    }
   ],
   "source": [
    "say_hello('Max')"
   ]
  },
  {
   "cell_type": "code",
   "execution_count": 11,
   "id": "e2f1eda1",
   "metadata": {},
   "outputs": [
    {
     "name": "stdout",
     "output_type": "stream",
     "text": [
      "Hallo Anne!\n"
     ]
    }
   ],
   "source": [
    "say_hello('Anne')"
   ]
  },
  {
   "cell_type": "markdown",
   "id": "3189d52d",
   "metadata": {},
   "source": [
    "Es können beliebig viele Parameter übergeben werden. \n"
   ]
  },
  {
   "cell_type": "code",
   "execution_count": 18,
   "id": "afce6a41",
   "metadata": {},
   "outputs": [],
   "source": [
    "# Funktion die drei Zahlen aufaddiert\n",
    "def add_three_numbers(a, b, c):\n",
    "    print(a + b + c)"
   ]
  },
  {
   "cell_type": "code",
   "execution_count": 19,
   "id": "f75f3e1b",
   "metadata": {},
   "outputs": [
    {
     "name": "stdout",
     "output_type": "stream",
     "text": [
      "13\n"
     ]
    }
   ],
   "source": [
    "add_three_numbers(3,9,1)"
   ]
  },
  {
   "cell_type": "markdown",
   "id": "1958fd9d",
   "metadata": {},
   "source": [
    "### Optionale Parameter\n",
    "\n",
    "Ein Parameter ist optional wenn in der Funktionsdefinition ein default Wert definiert wird\n"
   ]
  },
  {
   "cell_type": "code",
   "execution_count": 21,
   "id": "560b4c35",
   "metadata": {},
   "outputs": [],
   "source": [
    "# Funktion die bis zu drei Zahlen aufaddiert\n",
    "def add_numbers(a, b=0, c=0):\n",
    "    print(a + b + c )"
   ]
  },
  {
   "cell_type": "code",
   "execution_count": 23,
   "id": "8343a042",
   "metadata": {},
   "outputs": [
    {
     "name": "stdout",
     "output_type": "stream",
     "text": [
      "10\n",
      "17\n",
      "3\n"
     ]
    }
   ],
   "source": [
    "add_numbers(7,2,1)\n",
    "add_numbers(8,9)\n",
    "add_numbers(3)"
   ]
  },
  {
   "cell_type": "markdown",
   "id": "d031c0a1",
   "metadata": {},
   "source": [
    "## Funktionen mit Rückgabewert\n",
    "\n",
    "Die Beispielfunktionen haben bisher Werte auf der Konsole ausgegeben.\n",
    "\n",
    "Die Anwendung von Funktionen ist jedoch meist, dass sie Werte entgegen nehmen, diese modifizieren oder auf deren Grundlage etwas neues berechnen. Das Ergebnis wird zurückgegeben, damit im Hauptprogramm damit weitergearbeitet werden kann.\n",
    "\n",
    "Dafür wird `return` am Ende einer Funktion benutzt.\n",
    "\n",
    "![funktion](../../imgs/funktion_return.png)\n",
    "\n",
    "\n",
    "### Beispiel\n"
   ]
  },
  {
   "cell_type": "code",
   "execution_count": 28,
   "id": "b003ca8b",
   "metadata": {},
   "outputs": [],
   "source": [
    "# Funktion die einen String bearbeitet\n",
    "def clean_string(string):\n",
    "    return string.lower().strip().title()"
   ]
  },
  {
   "cell_type": "code",
   "execution_count": 31,
   "id": "6c987e03",
   "metadata": {},
   "outputs": [
    {
     "name": "stdout",
     "output_type": "stream",
     "text": [
      "Hallo welt!\n"
     ]
    }
   ],
   "source": [
    "var = '   haLLO wELt!  '\n",
    "clean_var = clean_string(var)\n",
    "print(clean_var)"
   ]
  },
  {
   "cell_type": "code",
   "execution_count": 25,
   "id": "28547b12",
   "metadata": {},
   "outputs": [],
   "source": [
    "# Funktion die den größeren Wert zurück gibt\n",
    "def get_maximum(wert1, wert2):\n",
    "    if wert1 > wert2:\n",
    "        return wert1\n",
    "    return wert2"
   ]
  },
  {
   "cell_type": "code",
   "execution_count": 26,
   "id": "8ae8d1ae",
   "metadata": {},
   "outputs": [
    {
     "name": "stdout",
     "output_type": "stream",
     "text": [
      "13\n"
     ]
    }
   ],
   "source": [
    "maximum = get_maximum(13, 9)\n",
    "print(maximum)"
   ]
  },
  {
   "cell_type": "code",
   "execution_count": 27,
   "id": "3178eb4e",
   "metadata": {},
   "outputs": [
    {
     "name": "stdout",
     "output_type": "stream",
     "text": [
      "8\n"
     ]
    }
   ],
   "source": [
    "maximum = get_maximum(3, 8)\n",
    "print(maximum)"
   ]
  }
 ],
 "metadata": {
  "kernelspec": {
   "display_name": "Python 3 (ipykernel)",
   "language": "python",
   "name": "python3"
  },
  "language_info": {
   "codemirror_mode": {
    "name": "ipython",
    "version": 3
   },
   "file_extension": ".py",
   "mimetype": "text/x-python",
   "name": "python",
   "nbconvert_exporter": "python",
   "pygments_lexer": "ipython3",
   "version": "3.9.15"
  }
 },
 "nbformat": 4,
 "nbformat_minor": 5
}
