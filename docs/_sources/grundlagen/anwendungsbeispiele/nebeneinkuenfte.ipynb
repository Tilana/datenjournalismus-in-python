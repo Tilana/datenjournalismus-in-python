{
 "cells": [
  {
   "cell_type": "markdown",
   "metadata": {
    "slideshow": {
     "slide_type": "slide"
    }
   },
   "source": [
    "# Nebeneinkünfte von Lokalpolitiker:innen\n",
    "\n",
    "Wir analysieren die Nebeneinkünfte von Landrät:innen in Rheinlandpfalz basierend auf den Daten und der Recherche von [Correctiv](https://correctiv.org/aktuelles/wirtschaft/2021/06/24/nebeneinkuenfte-kommunalpolitiker-in-rheinland-pfalz-auf-gehaltslisten-von-rwe/#tabelle)\n",
    "\n",
    "\n",
    "Die folgenden theoretischen Grundlagen werden dabei besprochen und geübt:\n",
    "- Dictionaries\n",
    "- Listen\n",
    "- For-Schleifen\n",
    "- While-Schleifen\n",
    "- Flow Control\n",
    "\n",
    "\n"
   ]
  },
  {
   "cell_type": "markdown",
   "metadata": {
    "slideshow": {
     "slide_type": "slide"
    }
   },
   "source": [
    "![Correctiv Recherche](../../../imgs/nebeneinkuenfte.png)"
   ]
  },
  {
   "cell_type": "markdown",
   "metadata": {
    "slideshow": {
     "slide_type": "slide"
    }
   },
   "source": [
    "## Beispieldaten\n",
    "\n",
    "Ein Einblick in die Nebeneinkünfte im Jahr 2020 von Manfred Schur (CDU), Landrat von Cochem-Zell."
   ]
  },
  {
   "cell_type": "code",
   "execution_count": 1,
   "metadata": {
    "slideshow": {
     "slide_type": "fragment"
    }
   },
   "outputs": [],
   "source": [
    "arbeitgeber = ['Altlastenzweckverband Tierische Nebenprodukte', 'Zweckverband Tierische Nebenprodukte Südwest', '(Zweckverband) Sparkasse Mittelmosel - Eifel Mosel Hunsrück', 'Sparkassenverband RP', 'RWE', 'Planungsgemeinschaft Mittelrhein-Westerwald', 'Westenergie', 'Abfallzweckverband Rhein-Mosel-Eifel', 'Rheinische Zusatzversorgungskasse', 'Agentur für Arbeit']\n",
    "verdienst = [8073, 8073, 6038, 5575, 5200, 2195, 2000, 600, 194, 26]"
   ]
  },
  {
   "cell_type": "markdown",
   "metadata": {
    "slideshow": {
     "slide_type": "slide"
    }
   },
   "source": [
    "### Überblick:\n",
    "\n",
    "1. Wie viel Geld verdient Manfred Schur an Nebeneinkünften insgesamt?\n",
    "2. Wie viel Geld erhält Manfred Schur von RWE?"
   ]
  },
  {
   "cell_type": "code",
   "execution_count": 2,
   "metadata": {
    "slideshow": {
     "slide_type": "fragment"
    }
   },
   "outputs": [
    {
     "data": {
      "text/plain": [
       "37974"
      ]
     },
     "execution_count": 2,
     "metadata": {},
     "output_type": "execute_result"
    }
   ],
   "source": [
    "# 1.\n",
    "sum(verdienst)"
   ]
  },
  {
   "cell_type": "code",
   "execution_count": 3,
   "metadata": {
    "slideshow": {
     "slide_type": "fragment"
    }
   },
   "outputs": [
    {
     "name": "stdout",
     "output_type": "stream",
     "text": [
      "5200\n"
     ]
    }
   ],
   "source": [
    "# 2.\n",
    "rwe_idx = arbeitgeber.index('RWE')\n",
    "print(verdienst[rwe_idx])"
   ]
  },
  {
   "cell_type": "markdown",
   "metadata": {
    "slideshow": {
     "slide_type": "slide"
    }
   },
   "source": [
    "## Daten als Dictionary"
   ]
  },
  {
   "cell_type": "code",
   "execution_count": 4,
   "metadata": {
    "slideshow": {
     "slide_type": "fragment"
    }
   },
   "outputs": [],
   "source": [
    "nebeneinkünfte = {'Altlastenzweckverband Tierische Nebenprodukte': 8073,\n",
    "                  'Zweckverband Tierische Nebenprodukte Südwest': 8073,\n",
    "                  '(Zweckverband) Sparkasse Mittelmosel - Eifel Mosel Hunsrück': 6038,\n",
    "                  'Sparkassenverband RP': 5575,\n",
    "                  'RWE': 5200,\n",
    "                  'Planungsgemeinschaft Mittelrhein-Westerwald': 2195,\n",
    "                  'Westenergie': 2000,\n",
    "                  'Abfallzweckverband Rhein-Mosel-Eifel': 600,\n",
    "                  'Rheinische Zusatzversorgungskasse': 194,\n",
    "                  'Agentur für Arbeit': 26}"
   ]
  },
  {
   "cell_type": "markdown",
   "metadata": {
    "slideshow": {
     "slide_type": "slide"
    }
   },
   "source": [
    "### Überblick:\n",
    "\n",
    "1. Wie viel Geld verdient Manfred Schur an Nebeneinkünften insgesamt?\n",
    "2. Wie viel Geld erhält Manfred Schur von RWE?"
   ]
  },
  {
   "cell_type": "code",
   "execution_count": 5,
   "metadata": {
    "slideshow": {
     "slide_type": "fragment"
    }
   },
   "outputs": [
    {
     "name": "stdout",
     "output_type": "stream",
     "text": [
      "37974\n"
     ]
    }
   ],
   "source": [
    "# 1. Wie viel Geld verdient Manfred Schur an Nebeneinkünften insgesamt?\n",
    "print(sum(nebeneinkünfte.values()))"
   ]
  },
  {
   "cell_type": "code",
   "execution_count": 6,
   "metadata": {
    "slideshow": {
     "slide_type": "fragment"
    }
   },
   "outputs": [
    {
     "name": "stdout",
     "output_type": "stream",
     "text": [
      "5200\n"
     ]
    }
   ],
   "source": [
    "# 2. Wie viel Geld erhält Manfred Schur von\n",
    "print(nebeneinkünfte['RWE'])"
   ]
  },
  {
   "cell_type": "markdown",
   "metadata": {
    "slideshow": {
     "slide_type": "slide"
    }
   },
   "source": [
    "## Verschachtelte Dictionaries ....\n"
   ]
  },
  {
   "cell_type": "code",
   "execution_count": 7,
   "metadata": {
    "slideshow": {
     "slide_type": "fragment"
    }
   },
   "outputs": [],
   "source": [
    "data_cochemzell = {\n",
    "                    'landrat': 'Manfred Schur',\n",
    "                    'partei': 'CDU',\n",
    "                    'nebeneinkünfte': {'Altlastenzweckverband Tierische Nebenprodukte': 8073,\n",
    "                                      'Zweckverband Tierische Nebenprodukte Südwest': 8073,\n",
    "                                      '(Zweckverband) Sparkasse Mittelmosel - Eifel Mosel Hunsrück': 6038,\n",
    "                                      'Sparkassenverband RP': 5575,\n",
    "                                      'RWE': 5200,\n",
    "                                      'Planungsgemeinschaft Mittelrhein-Westerwald': 2195,\n",
    "                                      'Westenergie': 2000,\n",
    "                                      'Abfallzweckverband Rhein-Mosel-Eifel': 600,\n",
    "                                      'Rheinische Zusatzversorgungskasse': 194,\n",
    "                                      'Agentur für Arbeit': 26,\n",
    "                                      }\n",
    "                 }"
   ]
  },
  {
   "cell_type": "code",
   "execution_count": 8,
   "metadata": {
    "slideshow": {
     "slide_type": "slide"
    }
   },
   "outputs": [
    {
     "name": "stdout",
     "output_type": "stream",
     "text": [
      "<class 'dict'>\n"
     ]
    }
   ],
   "source": [
    "print(type(data_cochemzell))"
   ]
  },
  {
   "cell_type": "code",
   "execution_count": 9,
   "metadata": {
    "slideshow": {
     "slide_type": "fragment"
    }
   },
   "outputs": [
    {
     "name": "stdout",
     "output_type": "stream",
     "text": [
      "CDU\n",
      "<class 'str'>\n"
     ]
    }
   ],
   "source": [
    "print(data_cochemzell['partei'])\n",
    "print(type(data_cochemzell['partei']))"
   ]
  },
  {
   "cell_type": "code",
   "execution_count": 10,
   "metadata": {
    "slideshow": {
     "slide_type": "fragment"
    }
   },
   "outputs": [
    {
     "name": "stdout",
     "output_type": "stream",
     "text": [
      "{'Altlastenzweckverband Tierische Nebenprodukte': 8073, 'Zweckverband Tierische Nebenprodukte Südwest': 8073, '(Zweckverband) Sparkasse Mittelmosel - Eifel Mosel Hunsrück': 6038, 'Sparkassenverband RP': 5575, 'RWE': 5200, 'Planungsgemeinschaft Mittelrhein-Westerwald': 2195, 'Westenergie': 2000, 'Abfallzweckverband Rhein-Mosel-Eifel': 600, 'Rheinische Zusatzversorgungskasse': 194, 'Agentur für Arbeit': 26}\n"
     ]
    }
   ],
   "source": [
    "print(data_cochemzell['nebeneinkünfte'])"
   ]
  },
  {
   "cell_type": "code",
   "execution_count": 11,
   "metadata": {},
   "outputs": [
    {
     "data": {
      "text/plain": [
       "37974"
      ]
     },
     "execution_count": 11,
     "metadata": {},
     "output_type": "execute_result"
    }
   ],
   "source": [
    "def summe(nebeneinkünfte):\n",
    "    return sum(nebeneinkünfte.values())\n",
    "\n",
    "summe(data_cochemzell['nebeneinkünfte'])"
   ]
  },
  {
   "cell_type": "code",
   "execution_count": 12,
   "metadata": {
    "scrolled": true,
    "slideshow": {
     "slide_type": "fragment"
    }
   },
   "outputs": [
    {
     "name": "stdout",
     "output_type": "stream",
     "text": [
      "5200\n"
     ]
    }
   ],
   "source": [
    "print(data_cochemzell['nebeneinkünfte']['RWE'])"
   ]
  },
  {
   "cell_type": "markdown",
   "metadata": {
    "slideshow": {
     "slide_type": "slide"
    }
   },
   "source": [
    "## Alle Nebeneinkünfte von allen Landrät:innen in Rheinlandpfalz im Jahr 2020."
   ]
  },
  {
   "cell_type": "code",
   "execution_count": 13,
   "metadata": {
    "slideshow": {
     "slide_type": "slide"
    }
   },
   "outputs": [],
   "source": [
    "data = [\n",
    " {'kreis': 'Landkreis Mainz-Bingen',\n",
    "  'nebeneinkünfte': {'Planungsgemeinschaft Rheinhessen-Nahe': 1200,\n",
    "                     'Rheinhessenwein e.V.': 25,\n",
    "                     'Sparkasse Mainz': 8944,\n",
    "                     'Zweckverband Sparkasse Mainz': 200,\n",
    "                     'Zweckverband Sparkasse Rhein-Nahe': 9444,\n",
    "                     'Zweckverband Verkehrsbund Rhein Nahe': 613.55},\n",
    "  'partei': 'CDU',\n",
    "  'person': 'Dorothea Schäfer'},\n",
    " {'kreis': 'Kreisfreie Stadt Frankenthal (Pfalz)',\n",
    "  'nebeneinkünfte': {'Gewässerzweckverband Isenach-Eckbach': 6600,\n",
    "                     'Pfälzische Pensionsanstalt': 200,\n",
    "                     'Sparkasse Rhein-Haardt': 4074.96,\n",
    "                     'Sparkassenverband RP': 5575,\n",
    "                     'Verband Region Rhein-Neckar': 1560,\n",
    "                     'Zweckverband Sparkasse Rhein-Haardt': 135},\n",
    "  'partei': 'CDU',\n",
    "  'person': 'Martin Hebich'},\n",
    " {'kreis': 'Landkreis Trier-Saarburg',\n",
    "  'nebeneinkünfte': {'Innogy Westenergie': 1000,\n",
    "                     'Kommunaler Rat': 25.56,\n",
    "                     'Landkreistag RP': 6100,\n",
    "                     'RWE': 129000,\n",
    "                     'Sparkasse Trier': 9544,\n",
    "                     'Sparkassen- und Giroverband RP': 5898.65,\n",
    "                     'Zweckverband Industriepark Region Trier': 2208,\n",
    "                     'Zweckverband Sparkasse Trier': 150},\n",
    "  'partei': 'CDU',\n",
    "  'person': 'Günther Schartz'},\n",
    " {'kreis': 'Kreisfreie Stadt Mainz',\n",
    "  'nebeneinkünfte': {'Gas-Union Frankfurth/Mainz': 7812.5,\n",
    "                     'Sparkasse Mainz': 8844,\n",
    "                     'Zweckverband der Sparkasse Mainz': 300},\n",
    "  'partei': 'SPD',\n",
    "  'person': 'Michael Ebling'},\n",
    " {'kreis': 'Kreisfreie Stadt Speyer',\n",
    "  'nebeneinkünfte': {'Kommunaler Rat': 76.68,\n",
    "                     'Kreditausschuss': 400,\n",
    "                     'Sparkasse Vorderpfalz': 400,\n",
    "                     'Sparkassenverband RP': 7644,\n",
    "                     'Zweckverband Sparkasse Vorderpfalz': 320},\n",
    "  'partei': 'SPD',\n",
    "  'person': 'Stefanie Seiler'},\n",
    " {'kreis': 'Landkreis Kusel',\n",
    "  'nebeneinkünfte': {'Fremdenverkehrszweckverband': 1533.84,\n",
    "                     'Kreissparkasse Kusel': 6880},\n",
    "  'partei': 'CDU',\n",
    "  'person': 'Otto Rubly'},\n",
    " {'kreis': 'Kreisfreie Stadt Trier',\n",
    "  'nebeneinkünfte': {'Sparkasse Trier': 8944},\n",
    "  'partei': 'SPD',\n",
    "  'person': 'Wolfram Leibe'},\n",
    " {'kreis': 'Landkreis Bad Dürkheim',\n",
    "  'nebeneinkünfte': {'Landkreistag RP': 100,\n",
    "                     'Pfälzische Pensionsanstalt': 300,\n",
    "                     'Sparkasse Rhein-Haardt': 6950.04,\n",
    "                     'Verband Region Rhein-Neckar': 540,\n",
    "                     'Zweckverband Sparkasse Rhein-Haardt': 270,\n",
    "                     'Zweckverbandes Pollichia-Museum': 783.96},\n",
    "  'partei': 'CDU',\n",
    "  'person': 'Hans-Ulrich Ihlenfeld'},\n",
    " {'kreis': 'Landkreis Cochem-Zell',\n",
    "  'nebeneinkünfte': {'(Zweckverband) Sparkasse Mittelmosel - Eifel Mosel Hunsrück': 6038,\n",
    "                     'Abfallzweckverband Rhein-Mosel-Eifel': 600,\n",
    "                     'Agentur für Arbeit': 26,\n",
    "                     'Altlastenzweckverband Tierische Nebenprodukte': 8073.24,\n",
    "                     'Planungsgemeinschaft Mittelrhein-Westerwald': 2195,\n",
    "                     'RWE': 5200,\n",
    "                     'Rheinische Zusatzversorgungskasse': 194,\n",
    "                     'Sparkassenverband RP': 5575,\n",
    "                     'Westenergie': 2000,\n",
    "                     'Zweckverband Tierische Nebenprodukte Südwest': 8073.24},\n",
    "  'partei': 'CDU',\n",
    "  'person': 'Manfred Schnur'},\n",
    " {'kreis': 'Landkreis Südwestpfalz',\n",
    "  'nebeneinkünfte': {'Bezirkstag Pfalz': 2100,\n",
    "                     'Institut für Medien und Pädagogik e. V.': 17.9,\n",
    "                     'Kommunaler Rat': 51.12,\n",
    "                     'Landkreistag RP': 50,\n",
    "                     'Sparkasse Südwestpfalz': 8544,\n",
    "                     'Zweckverband Entwicklungsgebiet Flugplatz ZW': 1380.51},\n",
    "  'partei': 'CDU',\n",
    "  'person': 'Susanne Ganster'},\n",
    " {'kreis': 'Kreisfreie Stadt Kaiserslautern',\n",
    "  'nebeneinkünfte': {'Sparkassen- und Giroverband RP': 5269,\n",
    "                     'Stadtsparkasse': 5704},\n",
    "  'partei': 'SPD',\n",
    "  'person': 'Klaus Weichel'},\n",
    " {'kreis': 'Rhein-Lahn-Kreis',\n",
    "  'nebeneinkünfte': {'Agentur für Arbeit': 26,\n",
    "                     'Altlastenzweckverband Tierische Nebenprodukte': 3924.48,\n",
    "                     'Baugenossenschaft Rhein-Lahn eG': 200,\n",
    "                     'Kommunaler Rat': 51.12,\n",
    "                     'Landesbank Baden-Württemberg': 1283.33,\n",
    "                     'Nassauische Sparkasse': 4832.88,\n",
    "                     'Süwag Energie AG': 8000,\n",
    "                     'Zweckverband Tierische Nebenprodukte Südwest': 3924.48},\n",
    "  'partei': 'SPD',\n",
    "  'person': 'Frank Puchtler'},\n",
    " {'kreis': 'Landkreis Südliche Weinstraße',\n",
    "  'nebeneinkünfte': {'Agentur für Arbeit': 52,\n",
    "                     'Bezirksverband Pfalz': 150,\n",
    "                     'Landeszentrale für Medien und Kommunikation': 893,\n",
    "                     'Landkreistag RP': 50,\n",
    "                     'Pfalzklinikum für Psychiatrie u. Neurologie (AdöR)': 200,\n",
    "                     'Sparkasse Südliche Weinstraße': 9594,\n",
    "                     'Verband Region Rhein-Neckar': 660},\n",
    "  'partei': 'CDU',\n",
    "  'person': 'Dietmar Seefeldt'},\n",
    " {'kreis': 'Kreisfreie Stadt Ludwigshafen am Rhein',\n",
    "  'nebeneinkünfte': {'Sparkasse Vorderpfalz': 8644,\n",
    "                     'Verband Region Rhein-Neckar': 144},\n",
    "  'partei': 'SPD',\n",
    "  'person': 'Jutta Steinruck'},\n",
    " {'kreis': 'Landkreis Bernkastel-Wittlich',\n",
    "  'nebeneinkünfte': {'Agentur für Arbeit': 26,\n",
    "                     'Altlastenzweckverband Tierische Nebenprodukte': 50,\n",
    "                     'RWE': 5200,\n",
    "                     'Sparkasse Mittelmosel - Eifel Mosel Hunsrück': 400,\n",
    "                     'Zweckverband Abfallwirtschaft Region Trier': 7848,\n",
    "                     'Zweckverband Sparkasse Mittelmosel - Eifel Mosel Hunsrück': 8324},\n",
    "  'partei': 'CDU',\n",
    "  'person': 'Gregor Eibes'},\n",
    " {'kreis': 'Kreisfreie Stadt Neustadt an der Weinstraße',\n",
    "  'nebeneinkünfte': {'Sparkasse Rhein-Haardt': 4074.96,\n",
    "                     'Sparkassenverband RP': 231,\n",
    "                     'Verband Region Rhein-Neckar': 800,\n",
    "                     'Zusatzversorgungskasse der bayerischen Gemeinden': 250,\n",
    "                     'Zweckverband Sparkasse Rhein-Haardt': 135},\n",
    "  'partei': 'Freie Wähler',\n",
    "  'person': 'Marc Weigel'},\n",
    " {'kreis': 'Landkreis Germersheim',\n",
    "  'nebeneinkünfte': {'Landkreistag RP': 50,\n",
    "                     'Park & Bellheimer AG': 5950,\n",
    "                     'Pfälzische Pensionsanstalt': 100,\n",
    "                     'Sparkasse Germersheim-Kandel': 6680,\n",
    "                     'Sparkassen- und Giroverband RP': 14073.41,\n",
    "                     'Verkehrsverbund Rhein-Neckar': 1800,\n",
    "                     'Zweckverband Schienenpersonennahverkehr Süd': 7464},\n",
    "  'partei': 'CDU',\n",
    "  'person': 'Fritz Brechtel'},\n",
    " {'kreis': 'Kreisfreie Stadt Worms',\n",
    "  'nebeneinkünfte': {'Sparkasse Worms-Alzey-Ried': 8944,\n",
    "                     'Zweckverband Sparkasse Worms-Alzey-Ried': 150},\n",
    "  'partei': 'CDU',\n",
    "  'person': 'Adolf Kessel'},\n",
    " {'kreis': 'Rhein-Hunsrück-Kreis',\n",
    "  'nebeneinkünfte': {'Kreissparkasse Rhein-Hunsrück': 6980},\n",
    "  'partei': 'CDU',\n",
    "  'person': 'Marlon Brähr'},\n",
    " {'kreis': 'Landkreis Bad Kreuznach',\n",
    "  'nebeneinkünfte': {'Landkreistag RP': 50,\n",
    "                     'Sparkasse (div. Ebenen)': 9544,\n",
    "                     'Westenergie': 1000},\n",
    "  'partei': 'CDU',\n",
    "  'person': 'Bettina Dickes'},\n",
    " {'kreis': 'Kreisfreie Stadt Landau in der Pfalz',\n",
    "  'nebeneinkünfte': {'Kommunaler Rat': 51.12,\n",
    "                     'Sparkasse Südliche Weinstraße': 6698,\n",
    "                     'Sparkassenverband RP': 6236,\n",
    "                     'Zweckverband Sparkasse Südliche Weinstraße': 450},\n",
    "  'partei': 'CDU',\n",
    "  'person': 'Thomas Hirsch'},\n",
    " {'kreis': 'Westerwaldkreis',\n",
    "  'nebeneinkünfte': {'Landkreistag RP': 50,\n",
    "                     'Nassauische Sparkasse': 6978.95,\n",
    "                     'Planungsgemeinschaft Mittelrhein-Westerwald': 220,\n",
    "                     'Sparkasse Westerwald-Sieg': 9044,\n",
    "                     'Sparkassenverband RP': 308,\n",
    "                     'Sparkassenzweckverband Nassau': 383.45,\n",
    "                     'Sparkassenzweckverband Westerwald-Sieg': 100},\n",
    "  'partei': 'CDU',\n",
    "  'person': 'Achim Schwickert'},\n",
    " {'kreis': 'Eifelkreis Bitburg-Prüm',\n",
    "  'nebeneinkünfte': {'Beirat für Kommunalentwicklung RP': 190.16,\n",
    "                     'Kreissparkasse Bitburg-Prüm': 7080,\n",
    "                     'Kreisvolkshochschule': 3597,\n",
    "                     'Planungsgemeinschaft Region Trier': 600,\n",
    "                     'RWE': 6155,\n",
    "                     'Saarländischer Schwesternverband': 7735,\n",
    "                     'Westenergie': 1160,\n",
    "                     'Zweckverband Berufsbildungszentrum Bitburg-Prüm': 5181,\n",
    "                     'Zweckverband Flugplatz Bitburg': 5186,\n",
    "                     'Zweckverband Naturpark Südeifel': 5973,\n",
    "                     'Zweckverband Schienen-Personen-NahVerker': 3723,\n",
    "                     'Zweckverband Stausee Bitburg': 20,\n",
    "                     'Zweckverband Verkehrsbund Region Trier': 7032},\n",
    "  'partei': 'Freie Wähler',\n",
    "  'person': 'Joachim Streit'},\n",
    " {'kreis': 'Landkreis Birkenfeld',\n",
    "  'nebeneinkünfte': {'Kreissparkasse Birkenfeld': 6780,\n",
    "                     'Landkreistag RP': 100,\n",
    "                     'Planungsgemeinschaft Rheinhessen-Nahe': 100,\n",
    "                     'RWE': 5200,\n",
    "                     'Sparkassenverband RP': 153},\n",
    "  'partei': 'CDU',\n",
    "  'person': 'Matthias Schneider'},\n",
    " {'kreis': 'Landkreis Alzey-Worms',\n",
    "  'nebeneinkünfte': {'Innogy Westenergie': 1000,\n",
    "                     'Landkreistag RP': 150,\n",
    "                     'Planungsgemeinschaft Rheinhessen-Nahe': 1200,\n",
    "                     'Rheinhessenwein e.V.': 50,\n",
    "                     'Sparkasse Worms-Alzey-Ried': 9094,\n",
    "                     'Sparkassenverband RP': 5883},\n",
    "  'partei': 'SPD',\n",
    "  'person': 'Heiko Sippel'},\n",
    " {'kreis': 'Rhein-Pfalz-Kreis',\n",
    "  'nebeneinkünfte': {'Bezirksverband Pfalz': 100,\n",
    "                     'Landkreistag RP': 50,\n",
    "                     'Sparkasse Vorderpfalz': 8664,\n",
    "                     'Sparkassenverband RP': 308,\n",
    "                     'Verband Region Rhein-Neckar': 240},\n",
    "  'partei': 'CDU',\n",
    "  'person': 'Clemens Kärner'},\n",
    " {'kreis': 'Donnersbergkreis',\n",
    "  'nebeneinkünfte': {'Landkreistag RP': 100,\n",
    "                     'Planungsgemeinschaft Westpfalz': 780,\n",
    "                     'Sparkasse Donnersberg': 6842},\n",
    "  'partei': 'parteilos',\n",
    "  'person': 'Rainer Guth'},\n",
    " {'kreis': 'Landkreis Altenkirchen',\n",
    "  'nebeneinkünfte': {'RWE': 1000,\n",
    "                     'Sparkasse Westerwald-Sieg': 9244,\n",
    "                     'Zweckverband Sparkasse Westerwald-Sieg': 100},\n",
    "  'partei': 'CDU',\n",
    "  'person': 'Peter Enders'},\n",
    " {'kreis': 'Kreisfreie Stadt Pirmasens',\n",
    "  'nebeneinkünfte': {'Zweckverband Abfallverwertung Südwestpfalz': 3060},\n",
    "  'partei': 'CDU',\n",
    "  'person': 'Markus Zwick'},\n",
    " {'kreis': 'Landkreis Ahrweiler',\n",
    "  'nebeneinkünfte': {'Kreissparkasse Ahrweiler': 7080,\n",
    "                     'RWE': 5200,\n",
    "                     'Rheinland-Westenenergie': 2000,\n",
    "                     'Sparkassenverband RP': 5269,\n",
    "                     'Wasserversorgung Zweckverband Main-Eifel': 873.13,\n",
    "                     'Zweckverband SPNV': 7446},\n",
    "  'partei': 'CDU',\n",
    "  'person': 'Jürgen Pfähler'},\n",
    " {'kreis': 'Landkreis Kaiserslautern',\n",
    "  'nebeneinkünfte': {'Kreissparkasse Kaiserslautern': 9284},\n",
    "  'partei': 'CDU',\n",
    "  'person': 'Ralf Leßmeister'},\n",
    " {'kreis': 'Landkreis Neuwied',\n",
    "  'nebeneinkünfte': {'Landesmusikverband RLP': 480,\n",
    "                     'Landkreistag RP': 75,\n",
    "                     'Planungsgemeinschaft Mittelrhein-Westerwald': 165,\n",
    "                     'Sparkasse Neuwied': 8644,\n",
    "                     'Sparkasse Neuwied (Verbandsversammlung)': 200,\n",
    "                     'Süwag Energie AG': 3000},\n",
    "  'partei': 'CDU',\n",
    "  'person': 'Achim Hallerbach'},\n",
    " {'kreis': 'Kreisfreie Stadt Zweibrücken',\n",
    "  'nebeneinkünfte': {'Pfälzische Pensionsanstalt': 100,\n",
    "                     'Sparkasse Südwestpfalz': 5698,\n",
    "                     'ZAB consult GmbH': 1800,\n",
    "                     'Zweckverband der Entwicklungsgesellschaft Flugplatz Zweibrücken': 1687.29},\n",
    "  'partei': 'SPD',\n",
    "  'person': 'Marold Wosnitza'},\n",
    " {'kreis': 'Kreisfreie Stadt Koblenz',\n",
    "  'nebeneinkünfte': {'Sparkasse Koblenz': 9344, 'Sparkassenverband RP': 3016.7},\n",
    "  'partei': 'SPD',\n",
    "  'person': 'David Langner'},\n",
    " {'kreis': 'Landkreis Mayen-Koblenz',\n",
    "  'nebeneinkünfte': {'Fremdenverkehrszweckverband': 1860,\n",
    "                     'Hausverwaltung Schon & Müller': 100,\n",
    "                     'Innogy Westenergie': 2000,\n",
    "                     'Kreissparkasse Mayen': 7580,\n",
    "                     'Landkreistag RP': 950,\n",
    "                     'Planungsgemeinschaft Mittelrhein-Westerwald': 165,\n",
    "                     'RWE': 5200,\n",
    "                     'Sparkasse Koblenz': 9544,\n",
    "                     'Sparkassen Finanzdienste': 300,\n",
    "                     'Sparkassenverband RP': 5500,\n",
    "                     'Unfallkasse RP': 75,\n",
    "                     'Wasserversorgung Zweckverband Main-Eifel': 5658,\n",
    "                     'Zweckverband Industriepark A61': 225,\n",
    "                     'Zweckverband Vulkanpark': 150},\n",
    "  'partei': 'CDU',\n",
    "  'person': 'Alexander Saftig'}]"
   ]
  },
  {
   "cell_type": "markdown",
   "metadata": {
    "slideshow": {
     "slide_type": "slide"
    }
   },
   "source": [
    "### Aufgabe:\n",
    "Berechne die Summe der Nebenkünfte und füge sie ins Dictionary ein"
   ]
  },
  {
   "cell_type": "code",
   "execution_count": 14,
   "metadata": {
    "slideshow": {
     "slide_type": "fragment"
    }
   },
   "outputs": [],
   "source": [
    "# Funktion, die die Summe aller Nebenverdienste berechnet\n",
    "def summe(nebenverdienste):\n",
    "    return round(sum(nebenverdienste.values()), 0)"
   ]
  },
  {
   "cell_type": "code",
   "execution_count": 15,
   "metadata": {
    "slideshow": {
     "slide_type": "fragment"
    }
   },
   "outputs": [
    {
     "name": "stdout",
     "output_type": "stream",
     "text": [
      "Landkreis Mainz-Bingen\n",
      "Kreisfreie Stadt Frankenthal (Pfalz)\n",
      "Landkreis Trier-Saarburg\n",
      "Kreisfreie Stadt Mainz\n",
      "Kreisfreie Stadt Speyer\n",
      "Landkreis Kusel\n",
      "Kreisfreie Stadt Trier\n",
      "Landkreis Bad Dürkheim\n",
      "Landkreis Cochem-Zell\n",
      "Landkreis Südwestpfalz\n",
      "Kreisfreie Stadt Kaiserslautern\n",
      "Rhein-Lahn-Kreis\n",
      "Landkreis Südliche Weinstraße\n",
      "Kreisfreie Stadt Ludwigshafen am Rhein\n",
      "Landkreis Bernkastel-Wittlich\n",
      "Kreisfreie Stadt Neustadt an der Weinstraße\n",
      "Landkreis Germersheim\n",
      "Kreisfreie Stadt Worms\n",
      "Rhein-Hunsrück-Kreis\n",
      "Landkreis Bad Kreuznach\n",
      "Kreisfreie Stadt Landau in der Pfalz\n",
      "Westerwaldkreis\n",
      "Eifelkreis Bitburg-Prüm\n",
      "Landkreis Birkenfeld\n",
      "Landkreis Alzey-Worms\n",
      "Rhein-Pfalz-Kreis\n",
      "Donnersbergkreis\n",
      "Landkreis Altenkirchen\n",
      "Kreisfreie Stadt Pirmasens\n",
      "Landkreis Ahrweiler\n",
      "Landkreis Kaiserslautern\n",
      "Landkreis Neuwied\n",
      "Kreisfreie Stadt Zweibrücken\n",
      "Kreisfreie Stadt Koblenz\n",
      "Landkreis Mayen-Koblenz\n"
     ]
    }
   ],
   "source": [
    "# Einfügen der Summe ins Dictionary\n",
    "for kreisdata in data:\n",
    "    print(kreisdata['kreis'])\n",
    "    kreisdata['summe'] = summe(kreisdata['nebeneinkünfte'])"
   ]
  },
  {
   "cell_type": "markdown",
   "metadata": {
    "slideshow": {
     "slide_type": "slide"
    }
   },
   "source": [
    "## Weitere Recherchefragen\n",
    "\n",
    "- Ist der Datensatz vollständig?\n",
    "- Wer verdient am meisten? In welchem Landkreis ist der:die Landrat:in im Amt?\n",
    "- Welche Firmen sind beteiligt? Wie viel bezahlen diese ingesamt an Landrät:innen?\n",
    "- Wie sind die Nebeneinkünfte auf die Parteien verteilt?"
   ]
  },
  {
   "cell_type": "code",
   "execution_count": 16,
   "metadata": {
    "slideshow": {
     "slide_type": "slide"
    }
   },
   "outputs": [
    {
     "data": {
      "text/plain": [
       "35"
      ]
     },
     "execution_count": 16,
     "metadata": {},
     "output_type": "execute_result"
    }
   ],
   "source": [
    "# Vollständigkeit der Daten\n",
    "len(data)"
   ]
  },
  {
   "cell_type": "markdown",
   "metadata": {
    "slideshow": {
     "slide_type": "fragment"
    }
   },
   "source": [
    "**Zusatz:** Laut Wikipedia gibt es 24 Landkreise und 12 kreisfreien Städte. Also insgesamt 36 Landrät:innen. Daher fehlen die Daten zu einem Kreis.\n",
    "Auf der Seite von Correctiv gibt es den Hinweis, dass Julia Gieseking, Landrätin in der Vulkaneifel, ihre Nebenverdienste nicth fristgerecht eingereicht hat."
   ]
  },
  {
   "cell_type": "markdown",
   "metadata": {
    "slideshow": {
     "slide_type": "slide"
    }
   },
   "source": [
    "Erstelle eine List mit den Gesamtnebeneinkünften der Landrät:innen.\n",
    "Gib das Minimum, Maximum und den Durchschnitt an Nebeneinkünften an."
   ]
  },
  {
   "cell_type": "code",
   "execution_count": 17,
   "metadata": {
    "slideshow": {
     "slide_type": "fragment"
    }
   },
   "outputs": [
    {
     "name": "stdout",
     "output_type": "stream",
     "text": [
      "[20427.0, 18145.0, 153926.0, 16956.0, 8841.0, 8414.0, 8944, 8944.0, 37974.0, 12144.0, 10973, 22242.0, 11599, 8788, 21848, 5491.0, 36117.0, 9094, 6980, 10594, 13435.0, 17084.0, 53632.0, 12333, 17377, 9362, 7722, 10344, 3060, 27868.0, 9284, 12564, 9285.0, 12361.0, 39307]\n"
     ]
    }
   ],
   "source": [
    "# Code\n",
    "gesamt_nebeneinkünfte = []\n",
    "\n",
    "for kreisdata in data:\n",
    "    gesamt_nebeneinkünfte.append(kreisdata['summe'])\n",
    "    \n",
    "print(gesamt_nebeneinkünfte)"
   ]
  },
  {
   "cell_type": "code",
   "execution_count": 18,
   "metadata": {},
   "outputs": [
    {
     "name": "stdout",
     "output_type": "stream",
     "text": [
      "Minimum: 3060 €\n",
      "Maximum: 153926.0 €\n",
      "Durchschnitt: 19813.11 €\n"
     ]
    }
   ],
   "source": [
    "# Minimum\n",
    "print('Minimum: {} €'.format(min(gesamt_nebeneinkünfte)))\n",
    "print('Maximum: {} €'.format(max(gesamt_nebeneinkünfte)))\n",
    "\n",
    "durchschnitt = round(sum(gesamt_nebeneinkünfte) / len(gesamt_nebeneinkünfte), 2)\n",
    "print('Durchschnitt: {} €'.format(durchschnitt))"
   ]
  },
  {
   "cell_type": "markdown",
   "metadata": {
    "slideshow": {
     "slide_type": "slide"
    }
   },
   "source": [
    "Welche:r Landrat:in hat die höchsten Nebenverdienste?"
   ]
  },
  {
   "cell_type": "code",
   "execution_count": 19,
   "metadata": {
    "slideshow": {
     "slide_type": "fragment"
    }
   },
   "outputs": [
    {
     "name": "stdout",
     "output_type": "stream",
     "text": [
      "Landkreis Trier-Saarburg\n",
      "Günther Schartz\n"
     ]
    }
   ],
   "source": [
    "# Code\n",
    "maximum = max(gesamt_nebeneinkünfte)\n",
    "\n",
    "for kreisdata in data:\n",
    "    if maximum == kreisdata['summe']:\n",
    "        print(kreisdata['kreis'])\n",
    "        print(kreisdata['person'])"
   ]
  },
  {
   "cell_type": "markdown",
   "metadata": {
    "slideshow": {
     "slide_type": "slide"
    }
   },
   "source": [
    "### Dictionary Sortieren"
   ]
  },
  {
   "cell_type": "code",
   "execution_count": 20,
   "metadata": {
    "slideshow": {
     "slide_type": "fragment"
    }
   },
   "outputs": [
    {
     "name": "stdout",
     "output_type": "stream",
     "text": [
      "[{'kreis': 'Landkreis Trier-Saarburg',\n",
      "  'nebeneinkünfte': {'Innogy Westenergie': 1000,\n",
      "                     'Kommunaler Rat': 25.56,\n",
      "                     'Landkreistag RP': 6100,\n",
      "                     'RWE': 129000,\n",
      "                     'Sparkasse Trier': 9544,\n",
      "                     'Sparkassen- und Giroverband RP': 5898.65,\n",
      "                     'Zweckverband Industriepark Region Trier': 2208,\n",
      "                     'Zweckverband Sparkasse Trier': 150},\n",
      "  'partei': 'CDU',\n",
      "  'person': 'Günther Schartz',\n",
      "  'summe': 153926.0},\n",
      " {'kreis': 'Eifelkreis Bitburg-Prüm',\n",
      "  'nebeneinkünfte': {'Beirat für Kommunalentwicklung RP': 190.16,\n",
      "                     'Kreissparkasse Bitburg-Prüm': 7080,\n",
      "                     'Kreisvolkshochschule': 3597,\n",
      "                     'Planungsgemeinschaft Region Trier': 600,\n",
      "                     'RWE': 6155,\n",
      "                     'Saarländischer Schwesternverband': 7735,\n",
      "                     'Westenergie': 1160,\n",
      "                     'Zweckverband Berufsbildungszentrum Bitburg-Prüm': 5181,\n",
      "                     'Zweckverband Flugplatz Bitburg': 5186,\n",
      "                     'Zweckverband Naturpark Südeifel': 5973,\n",
      "                     'Zweckverband Schienen-Personen-NahVerker': 3723,\n",
      "                     'Zweckverband Stausee Bitburg': 20,\n",
      "                     'Zweckverband Verkehrsbund Region Trier': 7032},\n",
      "  'partei': 'Freie Wähler',\n",
      "  'person': 'Joachim Streit',\n",
      "  'summe': 53632.0},\n",
      " {'kreis': 'Landkreis Mayen-Koblenz',\n",
      "  'nebeneinkünfte': {'Fremdenverkehrszweckverband': 1860,\n",
      "                     'Hausverwaltung Schon & Müller': 100,\n",
      "                     'Innogy Westenergie': 2000,\n",
      "                     'Kreissparkasse Mayen': 7580,\n",
      "                     'Landkreistag RP': 950,\n",
      "                     'Planungsgemeinschaft Mittelrhein-Westerwald': 165,\n",
      "                     'RWE': 5200,\n",
      "                     'Sparkasse Koblenz': 9544,\n",
      "                     'Sparkassen Finanzdienste': 300,\n",
      "                     'Sparkassenverband RP': 5500,\n",
      "                     'Unfallkasse RP': 75,\n",
      "                     'Wasserversorgung Zweckverband Main-Eifel': 5658,\n",
      "                     'Zweckverband Industriepark A61': 225,\n",
      "                     'Zweckverband Vulkanpark': 150},\n",
      "  'partei': 'CDU',\n",
      "  'person': 'Alexander Saftig',\n",
      "  'summe': 39307},\n",
      " {'kreis': 'Landkreis Cochem-Zell',\n",
      "  'nebeneinkünfte': {'(Zweckverband) Sparkasse Mittelmosel - Eifel Mosel Hunsrück': 6038,\n",
      "                     'Abfallzweckverband Rhein-Mosel-Eifel': 600,\n",
      "                     'Agentur für Arbeit': 26,\n",
      "                     'Altlastenzweckverband Tierische Nebenprodukte': 8073.24,\n",
      "                     'Planungsgemeinschaft Mittelrhein-Westerwald': 2195,\n",
      "                     'RWE': 5200,\n",
      "                     'Rheinische Zusatzversorgungskasse': 194,\n",
      "                     'Sparkassenverband RP': 5575,\n",
      "                     'Westenergie': 2000,\n",
      "                     'Zweckverband Tierische Nebenprodukte Südwest': 8073.24},\n",
      "  'partei': 'CDU',\n",
      "  'person': 'Manfred Schnur',\n",
      "  'summe': 37974.0},\n",
      " {'kreis': 'Landkreis Germersheim',\n",
      "  'nebeneinkünfte': {'Landkreistag RP': 50,\n",
      "                     'Park & Bellheimer AG': 5950,\n",
      "                     'Pfälzische Pensionsanstalt': 100,\n",
      "                     'Sparkasse Germersheim-Kandel': 6680,\n",
      "                     'Sparkassen- und Giroverband RP': 14073.41,\n",
      "                     'Verkehrsverbund Rhein-Neckar': 1800,\n",
      "                     'Zweckverband Schienenpersonennahverkehr Süd': 7464},\n",
      "  'partei': 'CDU',\n",
      "  'person': 'Fritz Brechtel',\n",
      "  'summe': 36117.0},\n",
      " {'kreis': 'Landkreis Ahrweiler',\n",
      "  'nebeneinkünfte': {'Kreissparkasse Ahrweiler': 7080,\n",
      "                     'RWE': 5200,\n",
      "                     'Rheinland-Westenenergie': 2000,\n",
      "                     'Sparkassenverband RP': 5269,\n",
      "                     'Wasserversorgung Zweckverband Main-Eifel': 873.13,\n",
      "                     'Zweckverband SPNV': 7446},\n",
      "  'partei': 'CDU',\n",
      "  'person': 'Jürgen Pfähler',\n",
      "  'summe': 27868.0},\n",
      " {'kreis': 'Rhein-Lahn-Kreis',\n",
      "  'nebeneinkünfte': {'Agentur für Arbeit': 26,\n",
      "                     'Altlastenzweckverband Tierische Nebenprodukte': 3924.48,\n",
      "                     'Baugenossenschaft Rhein-Lahn eG': 200,\n",
      "                     'Kommunaler Rat': 51.12,\n",
      "                     'Landesbank Baden-Württemberg': 1283.33,\n",
      "                     'Nassauische Sparkasse': 4832.88,\n",
      "                     'Süwag Energie AG': 8000,\n",
      "                     'Zweckverband Tierische Nebenprodukte Südwest': 3924.48},\n",
      "  'partei': 'SPD',\n",
      "  'person': 'Frank Puchtler',\n",
      "  'summe': 22242.0},\n",
      " {'kreis': 'Landkreis Bernkastel-Wittlich',\n",
      "  'nebeneinkünfte': {'Agentur für Arbeit': 26,\n",
      "                     'Altlastenzweckverband Tierische Nebenprodukte': 50,\n",
      "                     'RWE': 5200,\n",
      "                     'Sparkasse Mittelmosel - Eifel Mosel Hunsrück': 400,\n",
      "                     'Zweckverband Abfallwirtschaft Region Trier': 7848,\n",
      "                     'Zweckverband Sparkasse Mittelmosel - Eifel Mosel Hunsrück': 8324},\n",
      "  'partei': 'CDU',\n",
      "  'person': 'Gregor Eibes',\n",
      "  'summe': 21848},\n",
      " {'kreis': 'Landkreis Mainz-Bingen',\n",
      "  'nebeneinkünfte': {'Planungsgemeinschaft Rheinhessen-Nahe': 1200,\n",
      "                     'Rheinhessenwein e.V.': 25,\n",
      "                     'Sparkasse Mainz': 8944,\n",
      "                     'Zweckverband Sparkasse Mainz': 200,\n",
      "                     'Zweckverband Sparkasse Rhein-Nahe': 9444,\n",
      "                     'Zweckverband Verkehrsbund Rhein Nahe': 613.55},\n",
      "  'partei': 'CDU',\n",
      "  'person': 'Dorothea Schäfer',\n",
      "  'summe': 20427.0},\n",
      " {'kreis': 'Kreisfreie Stadt Frankenthal (Pfalz)',\n",
      "  'nebeneinkünfte': {'Gewässerzweckverband Isenach-Eckbach': 6600,\n",
      "                     'Pfälzische Pensionsanstalt': 200,\n",
      "                     'Sparkasse Rhein-Haardt': 4074.96,\n",
      "                     'Sparkassenverband RP': 5575,\n",
      "                     'Verband Region Rhein-Neckar': 1560,\n",
      "                     'Zweckverband Sparkasse Rhein-Haardt': 135},\n",
      "  'partei': 'CDU',\n",
      "  'person': 'Martin Hebich',\n",
      "  'summe': 18145.0},\n",
      " {'kreis': 'Landkreis Alzey-Worms',\n",
      "  'nebeneinkünfte': {'Innogy Westenergie': 1000,\n",
      "                     'Landkreistag RP': 150,\n",
      "                     'Planungsgemeinschaft Rheinhessen-Nahe': 1200,\n",
      "                     'Rheinhessenwein e.V.': 50,\n",
      "                     'Sparkasse Worms-Alzey-Ried': 9094,\n",
      "                     'Sparkassenverband RP': 5883},\n",
      "  'partei': 'SPD',\n",
      "  'person': 'Heiko Sippel',\n",
      "  'summe': 17377},\n",
      " {'kreis': 'Westerwaldkreis',\n",
      "  'nebeneinkünfte': {'Landkreistag RP': 50,\n",
      "                     'Nassauische Sparkasse': 6978.95,\n",
      "                     'Planungsgemeinschaft Mittelrhein-Westerwald': 220,\n",
      "                     'Sparkasse Westerwald-Sieg': 9044,\n",
      "                     'Sparkassenverband RP': 308,\n",
      "                     'Sparkassenzweckverband Nassau': 383.45,\n",
      "                     'Sparkassenzweckverband Westerwald-Sieg': 100},\n",
      "  'partei': 'CDU',\n",
      "  'person': 'Achim Schwickert',\n",
      "  'summe': 17084.0},\n",
      " {'kreis': 'Kreisfreie Stadt Mainz',\n",
      "  'nebeneinkünfte': {'Gas-Union Frankfurth/Mainz': 7812.5,\n",
      "                     'Sparkasse Mainz': 8844,\n",
      "                     'Zweckverband der Sparkasse Mainz': 300},\n",
      "  'partei': 'SPD',\n",
      "  'person': 'Michael Ebling',\n",
      "  'summe': 16956.0},\n",
      " {'kreis': 'Kreisfreie Stadt Landau in der Pfalz',\n",
      "  'nebeneinkünfte': {'Kommunaler Rat': 51.12,\n",
      "                     'Sparkasse Südliche Weinstraße': 6698,\n",
      "                     'Sparkassenverband RP': 6236,\n",
      "                     'Zweckverband Sparkasse Südliche Weinstraße': 450},\n",
      "  'partei': 'CDU',\n",
      "  'person': 'Thomas Hirsch',\n",
      "  'summe': 13435.0},\n",
      " {'kreis': 'Landkreis Neuwied',\n",
      "  'nebeneinkünfte': {'Landesmusikverband RLP': 480,\n",
      "                     'Landkreistag RP': 75,\n",
      "                     'Planungsgemeinschaft Mittelrhein-Westerwald': 165,\n",
      "                     'Sparkasse Neuwied': 8644,\n",
      "                     'Sparkasse Neuwied (Verbandsversammlung)': 200,\n",
      "                     'Süwag Energie AG': 3000},\n",
      "  'partei': 'CDU',\n",
      "  'person': 'Achim Hallerbach',\n",
      "  'summe': 12564},\n",
      " {'kreis': 'Kreisfreie Stadt Koblenz',\n",
      "  'nebeneinkünfte': {'Sparkasse Koblenz': 9344, 'Sparkassenverband RP': 3016.7},\n",
      "  'partei': 'SPD',\n",
      "  'person': 'David Langner',\n",
      "  'summe': 12361.0},\n",
      " {'kreis': 'Landkreis Birkenfeld',\n",
      "  'nebeneinkünfte': {'Kreissparkasse Birkenfeld': 6780,\n",
      "                     'Landkreistag RP': 100,\n",
      "                     'Planungsgemeinschaft Rheinhessen-Nahe': 100,\n",
      "                     'RWE': 5200,\n",
      "                     'Sparkassenverband RP': 153},\n",
      "  'partei': 'CDU',\n",
      "  'person': 'Matthias Schneider',\n",
      "  'summe': 12333},\n",
      " {'kreis': 'Landkreis Südwestpfalz',\n",
      "  'nebeneinkünfte': {'Bezirkstag Pfalz': 2100,\n",
      "                     'Institut für Medien und Pädagogik e. V.': 17.9,\n",
      "                     'Kommunaler Rat': 51.12,\n",
      "                     'Landkreistag RP': 50,\n",
      "                     'Sparkasse Südwestpfalz': 8544,\n",
      "                     'Zweckverband Entwicklungsgebiet Flugplatz ZW': 1380.51},\n",
      "  'partei': 'CDU',\n",
      "  'person': 'Susanne Ganster',\n",
      "  'summe': 12144.0},\n",
      " {'kreis': 'Landkreis Südliche Weinstraße',\n",
      "  'nebeneinkünfte': {'Agentur für Arbeit': 52,\n",
      "                     'Bezirksverband Pfalz': 150,\n",
      "                     'Landeszentrale für Medien und Kommunikation': 893,\n",
      "                     'Landkreistag RP': 50,\n",
      "                     'Pfalzklinikum für Psychiatrie u. Neurologie (AdöR)': 200,\n",
      "                     'Sparkasse Südliche Weinstraße': 9594,\n",
      "                     'Verband Region Rhein-Neckar': 660},\n",
      "  'partei': 'CDU',\n",
      "  'person': 'Dietmar Seefeldt',\n",
      "  'summe': 11599},\n",
      " {'kreis': 'Kreisfreie Stadt Kaiserslautern',\n",
      "  'nebeneinkünfte': {'Sparkassen- und Giroverband RP': 5269,\n",
      "                     'Stadtsparkasse': 5704},\n",
      "  'partei': 'SPD',\n",
      "  'person': 'Klaus Weichel',\n",
      "  'summe': 10973},\n",
      " {'kreis': 'Landkreis Bad Kreuznach',\n",
      "  'nebeneinkünfte': {'Landkreistag RP': 50,\n",
      "                     'Sparkasse (div. Ebenen)': 9544,\n",
      "                     'Westenergie': 1000},\n",
      "  'partei': 'CDU',\n",
      "  'person': 'Bettina Dickes',\n",
      "  'summe': 10594},\n",
      " {'kreis': 'Landkreis Altenkirchen',\n",
      "  'nebeneinkünfte': {'RWE': 1000,\n",
      "                     'Sparkasse Westerwald-Sieg': 9244,\n",
      "                     'Zweckverband Sparkasse Westerwald-Sieg': 100},\n",
      "  'partei': 'CDU',\n",
      "  'person': 'Peter Enders',\n",
      "  'summe': 10344},\n",
      " {'kreis': 'Rhein-Pfalz-Kreis',\n",
      "  'nebeneinkünfte': {'Bezirksverband Pfalz': 100,\n",
      "                     'Landkreistag RP': 50,\n",
      "                     'Sparkasse Vorderpfalz': 8664,\n",
      "                     'Sparkassenverband RP': 308,\n",
      "                     'Verband Region Rhein-Neckar': 240},\n",
      "  'partei': 'CDU',\n",
      "  'person': 'Clemens Kärner',\n",
      "  'summe': 9362},\n",
      " {'kreis': 'Kreisfreie Stadt Zweibrücken',\n",
      "  'nebeneinkünfte': {'Pfälzische Pensionsanstalt': 100,\n",
      "                     'Sparkasse Südwestpfalz': 5698,\n",
      "                     'ZAB consult GmbH': 1800,\n",
      "                     'Zweckverband der Entwicklungsgesellschaft Flugplatz Zweibrücken': 1687.29},\n",
      "  'partei': 'SPD',\n",
      "  'person': 'Marold Wosnitza',\n",
      "  'summe': 9285.0},\n",
      " {'kreis': 'Landkreis Kaiserslautern',\n",
      "  'nebeneinkünfte': {'Kreissparkasse Kaiserslautern': 9284},\n",
      "  'partei': 'CDU',\n",
      "  'person': 'Ralf Leßmeister',\n",
      "  'summe': 9284},\n",
      " {'kreis': 'Kreisfreie Stadt Worms',\n",
      "  'nebeneinkünfte': {'Sparkasse Worms-Alzey-Ried': 8944,\n",
      "                     'Zweckverband Sparkasse Worms-Alzey-Ried': 150},\n",
      "  'partei': 'CDU',\n",
      "  'person': 'Adolf Kessel',\n",
      "  'summe': 9094},\n",
      " {'kreis': 'Kreisfreie Stadt Trier',\n",
      "  'nebeneinkünfte': {'Sparkasse Trier': 8944},\n",
      "  'partei': 'SPD',\n",
      "  'person': 'Wolfram Leibe',\n",
      "  'summe': 8944},\n",
      " {'kreis': 'Landkreis Bad Dürkheim',\n",
      "  'nebeneinkünfte': {'Landkreistag RP': 100,\n",
      "                     'Pfälzische Pensionsanstalt': 300,\n",
      "                     'Sparkasse Rhein-Haardt': 6950.04,\n",
      "                     'Verband Region Rhein-Neckar': 540,\n",
      "                     'Zweckverband Sparkasse Rhein-Haardt': 270,\n",
      "                     'Zweckverbandes Pollichia-Museum': 783.96},\n",
      "  'partei': 'CDU',\n",
      "  'person': 'Hans-Ulrich Ihlenfeld',\n",
      "  'summe': 8944.0},\n",
      " {'kreis': 'Kreisfreie Stadt Speyer',\n",
      "  'nebeneinkünfte': {'Kommunaler Rat': 76.68,\n",
      "                     'Kreditausschuss': 400,\n",
      "                     'Sparkasse Vorderpfalz': 400,\n",
      "                     'Sparkassenverband RP': 7644,\n",
      "                     'Zweckverband Sparkasse Vorderpfalz': 320},\n",
      "  'partei': 'SPD',\n",
      "  'person': 'Stefanie Seiler',\n",
      "  'summe': 8841.0},\n",
      " {'kreis': 'Kreisfreie Stadt Ludwigshafen am Rhein',\n",
      "  'nebeneinkünfte': {'Sparkasse Vorderpfalz': 8644,\n",
      "                     'Verband Region Rhein-Neckar': 144},\n",
      "  'partei': 'SPD',\n",
      "  'person': 'Jutta Steinruck',\n",
      "  'summe': 8788},\n",
      " {'kreis': 'Landkreis Kusel',\n",
      "  'nebeneinkünfte': {'Fremdenverkehrszweckverband': 1533.84,\n",
      "                     'Kreissparkasse Kusel': 6880},\n",
      "  'partei': 'CDU',\n",
      "  'person': 'Otto Rubly',\n",
      "  'summe': 8414.0},\n",
      " {'kreis': 'Donnersbergkreis',\n",
      "  'nebeneinkünfte': {'Landkreistag RP': 100,\n",
      "                     'Planungsgemeinschaft Westpfalz': 780,\n",
      "                     'Sparkasse Donnersberg': 6842},\n",
      "  'partei': 'parteilos',\n",
      "  'person': 'Rainer Guth',\n",
      "  'summe': 7722},\n",
      " {'kreis': 'Rhein-Hunsrück-Kreis',\n",
      "  'nebeneinkünfte': {'Kreissparkasse Rhein-Hunsrück': 6980},\n",
      "  'partei': 'CDU',\n",
      "  'person': 'Marlon Brähr',\n",
      "  'summe': 6980},\n",
      " {'kreis': 'Kreisfreie Stadt Neustadt an der Weinstraße',\n",
      "  'nebeneinkünfte': {'Sparkasse Rhein-Haardt': 4074.96,\n",
      "                     'Sparkassenverband RP': 231,\n",
      "                     'Verband Region Rhein-Neckar': 800,\n",
      "                     'Zusatzversorgungskasse der bayerischen Gemeinden': 250,\n",
      "                     'Zweckverband Sparkasse Rhein-Haardt': 135},\n",
      "  'partei': 'Freie Wähler',\n",
      "  'person': 'Marc Weigel',\n",
      "  'summe': 5491.0},\n",
      " {'kreis': 'Kreisfreie Stadt Pirmasens',\n",
      "  'nebeneinkünfte': {'Zweckverband Abfallverwertung Südwestpfalz': 3060},\n",
      "  'partei': 'CDU',\n",
      "  'person': 'Markus Zwick',\n",
      "  'summe': 3060}]\n"
     ]
    }
   ],
   "source": [
    "sorted_data = sorted(data, key=lambda d: d['summe'], reverse=True)\n",
    "\n",
    "from pprint import pprint\n",
    "pprint(sorted_data)"
   ]
  },
  {
   "cell_type": "markdown",
   "metadata": {
    "slideshow": {
     "slide_type": "slide"
    }
   },
   "source": [
    "### Parteien\n",
    "\n",
    "1. Schreibe eine Liste mit allen Parteien der Landrät:innen"
   ]
  },
  {
   "cell_type": "code",
   "execution_count": 21,
   "metadata": {
    "slideshow": {
     "slide_type": "fragment"
    }
   },
   "outputs": [
    {
     "name": "stdout",
     "output_type": "stream",
     "text": [
      "['CDU', 'CDU', 'CDU', 'SPD', 'SPD', 'CDU', 'SPD', 'CDU', 'CDU', 'CDU', 'SPD', 'SPD', 'CDU', 'SPD', 'CDU', 'Freie Wähler', 'CDU', 'CDU', 'CDU', 'CDU', 'CDU', 'CDU', 'Freie Wähler', 'CDU', 'SPD', 'CDU', 'parteilos', 'CDU', 'CDU', 'CDU', 'CDU', 'CDU', 'SPD', 'SPD', 'CDU']\n"
     ]
    }
   ],
   "source": [
    "parteien = []\n",
    "for kreisdata in data:\n",
    "    parteien.append(kreisdata['partei'])\n",
    "    \n",
    "print(parteien)"
   ]
  },
  {
   "cell_type": "markdown",
   "metadata": {
    "slideshow": {
     "slide_type": "slide"
    }
   },
   "source": [
    "2. Erstelle ein Dictionary mit der Partei und der Gesamtsumme der einzelnen Landrät:innen\n",
    "\n",
    "```\n",
    "{'CDU': [129000, 8500, ..., 43000],\n",
    " 'SPD': [4700, 3721.0, ... , 3920],\n",
    " ... }\n",
    "```"
   ]
  },
  {
   "cell_type": "code",
   "execution_count": 22,
   "metadata": {
    "slideshow": {
     "slide_type": "fragment"
    }
   },
   "outputs": [
    {
     "name": "stdout",
     "output_type": "stream",
     "text": [
      "{'CDU': [20427.0, 18145.0, 153926.0, 8414.0, 8944.0, 37974.0, 12144.0, 11599, 21848, 36117.0, 9094, 6980, 10594, 13435.0, 17084.0, 12333, 9362, 10344, 3060, 27868.0, 9284, 12564, 39307], 'SPD': [16956.0, 8841.0, 8944, 10973, 22242.0, 8788, 17377, 9285.0, 12361.0], 'Freie Wähler': [5491.0, 53632.0], 'parteilos': [7722]}\n"
     ]
    }
   ],
   "source": [
    "partei_data = {'CDU': [], 'SPD': [], 'Freie Wähler': [], 'parteilos': []}\n",
    "\n",
    "for partei in partei_data.keys():\n",
    "    for datapoint in data:\n",
    "        if datapoint['partei'] == partei:\n",
    "            partei_data[partei].append(datapoint['summe'])\n",
    "\n",
    "print(partei_data)"
   ]
  },
  {
   "cell_type": "markdown",
   "metadata": {
    "slideshow": {
     "slide_type": "slide"
    }
   },
   "source": [
    "3. Berechne den durchschnittlichen Betrag an Nebeneinkünften pro Partei.\n",
    "Fülle ein neues Dictionary mit der Partei als Key und dem Durchschnittsbetrag als Value."
   ]
  },
  {
   "cell_type": "code",
   "execution_count": 23,
   "metadata": {
    "slideshow": {
     "slide_type": "fragment"
    }
   },
   "outputs": [
    {
     "name": "stdout",
     "output_type": "stream",
     "text": [
      "{'CDU': 22211, 'SPD': 12863, 'Freie Wähler': 29562, 'parteilos': 7722}\n"
     ]
    }
   ],
   "source": [
    "avg_partei_data = {}\n",
    "for partei, betrag in partei_data.items():\n",
    "    avg_partei_data[partei] = round( sum(betrag) / len(betrag) )\n",
    "    \n",
    "print(avg_partei_data)"
   ]
  },
  {
   "cell_type": "markdown",
   "metadata": {
    "slideshow": {
     "slide_type": "slide"
    }
   },
   "source": [
    "### Firmen\n",
    "\n",
    "Welche Firmen zahlen Beträge an Landrät:innen aus?\n",
    "1. Erstelle eine Liste mit allen Firmen\n",
    "2. Filtere doppelt vorkommende Firmen aus"
   ]
  },
  {
   "cell_type": "code",
   "execution_count": 24,
   "metadata": {
    "slideshow": {
     "slide_type": "fragment"
    }
   },
   "outputs": [
    {
     "name": "stdout",
     "output_type": "stream",
     "text": [
      "['Planungsgemeinschaft Rheinhessen-Nahe', 'Rheinhessenwein e.V.', 'Sparkasse Mainz', 'Zweckverband Sparkasse Mainz', 'Zweckverband Sparkasse Rhein-Nahe', 'Zweckverband Verkehrsbund Rhein Nahe', 'Gewässerzweckverband Isenach-Eckbach', 'Pfälzische Pensionsanstalt', 'Sparkasse Rhein-Haardt', 'Sparkassenverband RP', 'Verband Region Rhein-Neckar', 'Zweckverband Sparkasse Rhein-Haardt', 'Innogy Westenergie', 'Kommunaler Rat', 'Landkreistag RP', 'RWE', 'Sparkasse Trier', 'Sparkassen- und Giroverband RP', 'Zweckverband Industriepark Region Trier', 'Zweckverband Sparkasse Trier', 'Gas-Union Frankfurth/Mainz', 'Sparkasse Mainz', 'Zweckverband der Sparkasse Mainz', 'Kommunaler Rat', 'Kreditausschuss', 'Sparkasse Vorderpfalz', 'Sparkassenverband RP', 'Zweckverband Sparkasse Vorderpfalz', 'Fremdenverkehrszweckverband', 'Kreissparkasse Kusel', 'Sparkasse Trier', 'Landkreistag RP', 'Pfälzische Pensionsanstalt', 'Sparkasse Rhein-Haardt', 'Verband Region Rhein-Neckar', 'Zweckverband Sparkasse Rhein-Haardt', 'Zweckverbandes Pollichia-Museum', '(Zweckverband) Sparkasse Mittelmosel - Eifel Mosel Hunsrück', 'Abfallzweckverband Rhein-Mosel-Eifel', 'Agentur für Arbeit', 'Altlastenzweckverband Tierische Nebenprodukte', 'Planungsgemeinschaft Mittelrhein-Westerwald', 'RWE', 'Rheinische Zusatzversorgungskasse', 'Sparkassenverband RP', 'Westenergie', 'Zweckverband Tierische Nebenprodukte Südwest', 'Bezirkstag Pfalz', 'Institut für Medien und Pädagogik e. V.', 'Kommunaler Rat', 'Landkreistag RP', 'Sparkasse Südwestpfalz', 'Zweckverband Entwicklungsgebiet Flugplatz ZW', 'Sparkassen- und Giroverband RP', 'Stadtsparkasse', 'Agentur für Arbeit', 'Altlastenzweckverband Tierische Nebenprodukte', 'Baugenossenschaft Rhein-Lahn eG', 'Kommunaler Rat', 'Landesbank Baden-Württemberg', 'Nassauische Sparkasse', 'Süwag Energie AG', 'Zweckverband Tierische Nebenprodukte Südwest', 'Agentur für Arbeit', 'Bezirksverband Pfalz', 'Landeszentrale für Medien und Kommunikation', 'Landkreistag RP', 'Pfalzklinikum für Psychiatrie u. Neurologie (AdöR)', 'Sparkasse Südliche Weinstraße', 'Verband Region Rhein-Neckar', 'Sparkasse Vorderpfalz', 'Verband Region Rhein-Neckar', 'Agentur für Arbeit', 'Altlastenzweckverband Tierische Nebenprodukte', 'RWE', 'Sparkasse Mittelmosel - Eifel Mosel Hunsrück', 'Zweckverband Abfallwirtschaft Region Trier', 'Zweckverband Sparkasse Mittelmosel - Eifel Mosel Hunsrück', 'Sparkasse Rhein-Haardt', 'Sparkassenverband RP', 'Verband Region Rhein-Neckar', 'Zusatzversorgungskasse der bayerischen Gemeinden', 'Zweckverband Sparkasse Rhein-Haardt', 'Landkreistag RP', 'Park & Bellheimer AG', 'Pfälzische Pensionsanstalt', 'Sparkasse Germersheim-Kandel', 'Sparkassen- und Giroverband RP', 'Verkehrsverbund Rhein-Neckar', 'Zweckverband Schienenpersonennahverkehr Süd', 'Sparkasse Worms-Alzey-Ried', 'Zweckverband Sparkasse Worms-Alzey-Ried', 'Kreissparkasse Rhein-Hunsrück', 'Landkreistag RP', 'Sparkasse (div. Ebenen)', 'Westenergie', 'Kommunaler Rat', 'Sparkasse Südliche Weinstraße', 'Sparkassenverband RP', 'Zweckverband Sparkasse Südliche Weinstraße', 'Landkreistag RP', 'Nassauische Sparkasse', 'Planungsgemeinschaft Mittelrhein-Westerwald', 'Sparkasse Westerwald-Sieg', 'Sparkassenverband RP', 'Sparkassenzweckverband Nassau', 'Sparkassenzweckverband Westerwald-Sieg', 'Beirat für Kommunalentwicklung RP', 'Kreissparkasse Bitburg-Prüm', 'Kreisvolkshochschule', 'Planungsgemeinschaft Region Trier', 'RWE', 'Saarländischer Schwesternverband', 'Westenergie', 'Zweckverband Berufsbildungszentrum Bitburg-Prüm', 'Zweckverband Flugplatz Bitburg', 'Zweckverband Naturpark Südeifel', 'Zweckverband Schienen-Personen-NahVerker', 'Zweckverband Stausee Bitburg', 'Zweckverband Verkehrsbund Region Trier', 'Kreissparkasse Birkenfeld', 'Landkreistag RP', 'Planungsgemeinschaft Rheinhessen-Nahe', 'RWE', 'Sparkassenverband RP', 'Innogy Westenergie', 'Landkreistag RP', 'Planungsgemeinschaft Rheinhessen-Nahe', 'Rheinhessenwein e.V.', 'Sparkasse Worms-Alzey-Ried', 'Sparkassenverband RP', 'Bezirksverband Pfalz', 'Landkreistag RP', 'Sparkasse Vorderpfalz', 'Sparkassenverband RP', 'Verband Region Rhein-Neckar', 'Landkreistag RP', 'Planungsgemeinschaft Westpfalz', 'Sparkasse Donnersberg', 'RWE', 'Sparkasse Westerwald-Sieg', 'Zweckverband Sparkasse Westerwald-Sieg', 'Zweckverband Abfallverwertung Südwestpfalz', 'Kreissparkasse Ahrweiler', 'RWE', 'Rheinland-Westenenergie', 'Sparkassenverband RP', 'Wasserversorgung Zweckverband Main-Eifel', 'Zweckverband SPNV', 'Kreissparkasse Kaiserslautern', 'Landesmusikverband RLP', 'Landkreistag RP', 'Planungsgemeinschaft Mittelrhein-Westerwald', 'Sparkasse Neuwied', 'Sparkasse Neuwied (Verbandsversammlung)', 'Süwag Energie AG', 'Pfälzische Pensionsanstalt', 'Sparkasse Südwestpfalz', 'ZAB consult GmbH', 'Zweckverband der Entwicklungsgesellschaft Flugplatz Zweibrücken', 'Sparkasse Koblenz', 'Sparkassenverband RP', 'Fremdenverkehrszweckverband', 'Hausverwaltung Schon & Müller', 'Innogy Westenergie', 'Kreissparkasse Mayen', 'Landkreistag RP', 'Planungsgemeinschaft Mittelrhein-Westerwald', 'RWE', 'Sparkasse Koblenz', 'Sparkassen Finanzdienste', 'Sparkassenverband RP', 'Unfallkasse RP', 'Wasserversorgung Zweckverband Main-Eifel', 'Zweckverband Industriepark A61', 'Zweckverband Vulkanpark']\n"
     ]
    }
   ],
   "source": [
    "firmen = []\n",
    "for datapoint in data:\n",
    "    for firma in datapoint['nebeneinkünfte'].keys():\n",
    "        firmen.append(firma)\n",
    "\n",
    "print(firmen)"
   ]
  },
  {
   "cell_type": "code",
   "execution_count": 25,
   "metadata": {
    "slideshow": {
     "slide_type": "slide"
    }
   },
   "outputs": [
    {
     "name": "stdout",
     "output_type": "stream",
     "text": [
      "['Planungsgemeinschaft Rheinhessen-Nahe', 'Rheinhessenwein e.V.', 'Sparkasse Mainz', 'Zweckverband Sparkasse Mainz', 'Zweckverband Sparkasse Rhein-Nahe', 'Zweckverband Verkehrsbund Rhein Nahe', 'Gewässerzweckverband Isenach-Eckbach', 'Pfälzische Pensionsanstalt', 'Sparkasse Rhein-Haardt', 'Sparkassenverband RP', 'Verband Region Rhein-Neckar', 'Zweckverband Sparkasse Rhein-Haardt', 'Innogy Westenergie', 'Kommunaler Rat', 'Landkreistag RP', 'RWE', 'Sparkasse Trier', 'Sparkassen- und Giroverband RP', 'Zweckverband Industriepark Region Trier', 'Zweckverband Sparkasse Trier', 'Gas-Union Frankfurth/Mainz', 'Zweckverband der Sparkasse Mainz', 'Kreditausschuss', 'Sparkasse Vorderpfalz', 'Zweckverband Sparkasse Vorderpfalz', 'Fremdenverkehrszweckverband', 'Kreissparkasse Kusel', 'Zweckverbandes Pollichia-Museum', '(Zweckverband) Sparkasse Mittelmosel - Eifel Mosel Hunsrück', 'Abfallzweckverband Rhein-Mosel-Eifel', 'Agentur für Arbeit', 'Altlastenzweckverband Tierische Nebenprodukte', 'Planungsgemeinschaft Mittelrhein-Westerwald', 'Rheinische Zusatzversorgungskasse', 'Westenergie', 'Zweckverband Tierische Nebenprodukte Südwest', 'Bezirkstag Pfalz', 'Institut für Medien und Pädagogik e. V.', 'Sparkasse Südwestpfalz', 'Zweckverband Entwicklungsgebiet Flugplatz ZW', 'Stadtsparkasse', 'Baugenossenschaft Rhein-Lahn eG', 'Landesbank Baden-Württemberg', 'Nassauische Sparkasse', 'Süwag Energie AG', 'Bezirksverband Pfalz', 'Landeszentrale für Medien und Kommunikation', 'Pfalzklinikum für Psychiatrie u. Neurologie (AdöR)', 'Sparkasse Südliche Weinstraße', 'Sparkasse Mittelmosel - Eifel Mosel Hunsrück', 'Zweckverband Abfallwirtschaft Region Trier', 'Zweckverband Sparkasse Mittelmosel - Eifel Mosel Hunsrück', 'Zusatzversorgungskasse der bayerischen Gemeinden', 'Park & Bellheimer AG', 'Sparkasse Germersheim-Kandel', 'Verkehrsverbund Rhein-Neckar', 'Zweckverband Schienenpersonennahverkehr Süd', 'Sparkasse Worms-Alzey-Ried', 'Zweckverband Sparkasse Worms-Alzey-Ried', 'Kreissparkasse Rhein-Hunsrück', 'Sparkasse (div. Ebenen)', 'Zweckverband Sparkasse Südliche Weinstraße', 'Sparkasse Westerwald-Sieg', 'Sparkassenzweckverband Nassau', 'Sparkassenzweckverband Westerwald-Sieg', 'Beirat für Kommunalentwicklung RP', 'Kreissparkasse Bitburg-Prüm', 'Kreisvolkshochschule', 'Planungsgemeinschaft Region Trier', 'Saarländischer Schwesternverband', 'Zweckverband Berufsbildungszentrum Bitburg-Prüm', 'Zweckverband Flugplatz Bitburg', 'Zweckverband Naturpark Südeifel', 'Zweckverband Schienen-Personen-NahVerker', 'Zweckverband Stausee Bitburg', 'Zweckverband Verkehrsbund Region Trier', 'Kreissparkasse Birkenfeld', 'Planungsgemeinschaft Westpfalz', 'Sparkasse Donnersberg', 'Zweckverband Sparkasse Westerwald-Sieg', 'Zweckverband Abfallverwertung Südwestpfalz', 'Kreissparkasse Ahrweiler', 'Rheinland-Westenenergie', 'Wasserversorgung Zweckverband Main-Eifel', 'Zweckverband SPNV', 'Kreissparkasse Kaiserslautern', 'Landesmusikverband RLP', 'Sparkasse Neuwied', 'Sparkasse Neuwied (Verbandsversammlung)', 'ZAB consult GmbH', 'Zweckverband der Entwicklungsgesellschaft Flugplatz Zweibrücken', 'Sparkasse Koblenz', 'Hausverwaltung Schon & Müller', 'Kreissparkasse Mayen', 'Sparkassen Finanzdienste', 'Unfallkasse RP', 'Zweckverband Industriepark A61', 'Zweckverband Vulkanpark']\n"
     ]
    }
   ],
   "source": [
    "#2. Entferne Duplikate aus der Firmenliste\n",
    "unique_firmen = []\n",
    "for firma in firmen:\n",
    "    if firma not in unique_firmen:\n",
    "        unique_firmen.append(firma)\n",
    "\n",
    "print(unique_firmen)"
   ]
  },
  {
   "cell_type": "code",
   "execution_count": 26,
   "metadata": {
    "slideshow": {
     "slide_type": "fragment"
    }
   },
   "outputs": [
    {
     "name": "stdout",
     "output_type": "stream",
     "text": [
      "176\n",
      "98\n"
     ]
    }
   ],
   "source": [
    "# Vergleich wie viele Firmen öfter vorkommen\n",
    "print(len(firmen))\n",
    "print(len(unique_firmen))"
   ]
  },
  {
   "cell_type": "code",
   "execution_count": 27,
   "metadata": {
    "slideshow": {
     "slide_type": "slide"
    }
   },
   "outputs": [],
   "source": [
    "# Welche Firma zahlt in Summe am meisten an die Landrätinnen?"
   ]
  },
  {
   "cell_type": "code",
   "execution_count": 28,
   "metadata": {
    "slideshow": {
     "slide_type": "fragment"
    }
   },
   "outputs": [
    {
     "name": "stdout",
     "output_type": "stream",
     "text": [
      "{'Planungsgemeinschaft Rheinhessen-Nahe': [1200, 100, 1200], 'Rheinhessenwein e.V.': [25, 50], 'Sparkasse Mainz': [8944, 8844], 'Zweckverband Sparkasse Mainz': [200], 'Zweckverband Sparkasse Rhein-Nahe': [9444], 'Zweckverband Verkehrsbund Rhein Nahe': [613.55], 'Gewässerzweckverband Isenach-Eckbach': [6600], 'Pfälzische Pensionsanstalt': [200, 300, 100, 100], 'Sparkasse Rhein-Haardt': [4074.96, 6950.04, 4074.96], 'Sparkassenverband RP': [5575, 7644, 5575, 231, 6236, 308, 153, 5883, 308, 5269, 3016.7, 5500], 'Verband Region Rhein-Neckar': [1560, 540, 660, 144, 800, 240], 'Zweckverband Sparkasse Rhein-Haardt': [135, 270, 135], 'Innogy Westenergie': [1000, 1000, 2000], 'Kommunaler Rat': [25.56, 76.68, 51.12, 51.12, 51.12], 'Landkreistag RP': [6100, 100, 50, 50, 50, 50, 50, 100, 150, 50, 100, 75, 950], 'RWE': [129000, 5200, 5200, 6155, 5200, 1000, 5200, 5200], 'Sparkasse Trier': [9544, 8944], 'Sparkassen- und Giroverband RP': [5898.65, 5269, 14073.41], 'Zweckverband Industriepark Region Trier': [2208], 'Zweckverband Sparkasse Trier': [150], 'Gas-Union Frankfurth/Mainz': [7812.5], 'Zweckverband der Sparkasse Mainz': [300], 'Kreditausschuss': [400], 'Sparkasse Vorderpfalz': [400, 8644, 8664], 'Zweckverband Sparkasse Vorderpfalz': [320], 'Fremdenverkehrszweckverband': [1533.84, 1860], 'Kreissparkasse Kusel': [6880], 'Zweckverbandes Pollichia-Museum': [783.96], '(Zweckverband) Sparkasse Mittelmosel - Eifel Mosel Hunsrück': [6038], 'Abfallzweckverband Rhein-Mosel-Eifel': [600], 'Agentur für Arbeit': [26, 26, 52, 26], 'Altlastenzweckverband Tierische Nebenprodukte': [8073.24, 3924.48, 50], 'Planungsgemeinschaft Mittelrhein-Westerwald': [2195, 220, 165, 165], 'Rheinische Zusatzversorgungskasse': [194], 'Westenergie': [2000, 1000, 1160], 'Zweckverband Tierische Nebenprodukte Südwest': [8073.24, 3924.48], 'Bezirkstag Pfalz': [2100], 'Institut für Medien und Pädagogik e. V.': [17.9], 'Sparkasse Südwestpfalz': [8544, 5698], 'Zweckverband Entwicklungsgebiet Flugplatz ZW': [1380.51], 'Stadtsparkasse': [5704], 'Baugenossenschaft Rhein-Lahn eG': [200], 'Landesbank Baden-Württemberg': [1283.33], 'Nassauische Sparkasse': [4832.88, 6978.95], 'Süwag Energie AG': [8000, 3000], 'Bezirksverband Pfalz': [150, 100], 'Landeszentrale für Medien und Kommunikation': [893], 'Pfalzklinikum für Psychiatrie u. Neurologie (AdöR)': [200], 'Sparkasse Südliche Weinstraße': [9594, 6698], 'Sparkasse Mittelmosel - Eifel Mosel Hunsrück': [400], 'Zweckverband Abfallwirtschaft Region Trier': [7848], 'Zweckverband Sparkasse Mittelmosel - Eifel Mosel Hunsrück': [8324], 'Zusatzversorgungskasse der bayerischen Gemeinden': [250], 'Park & Bellheimer AG': [5950], 'Sparkasse Germersheim-Kandel': [6680], 'Verkehrsverbund Rhein-Neckar': [1800], 'Zweckverband Schienenpersonennahverkehr Süd': [7464], 'Sparkasse Worms-Alzey-Ried': [8944, 9094], 'Zweckverband Sparkasse Worms-Alzey-Ried': [150], 'Kreissparkasse Rhein-Hunsrück': [6980], 'Sparkasse (div. Ebenen)': [9544], 'Zweckverband Sparkasse Südliche Weinstraße': [450], 'Sparkasse Westerwald-Sieg': [9044, 9244], 'Sparkassenzweckverband Nassau': [383.45], 'Sparkassenzweckverband Westerwald-Sieg': [100], 'Beirat für Kommunalentwicklung RP': [190.16], 'Kreissparkasse Bitburg-Prüm': [7080], 'Kreisvolkshochschule': [3597], 'Planungsgemeinschaft Region Trier': [600], 'Saarländischer Schwesternverband': [7735], 'Zweckverband Berufsbildungszentrum Bitburg-Prüm': [5181], 'Zweckverband Flugplatz Bitburg': [5186], 'Zweckverband Naturpark Südeifel': [5973], 'Zweckverband Schienen-Personen-NahVerker': [3723], 'Zweckverband Stausee Bitburg': [20], 'Zweckverband Verkehrsbund Region Trier': [7032], 'Kreissparkasse Birkenfeld': [6780], 'Planungsgemeinschaft Westpfalz': [780], 'Sparkasse Donnersberg': [6842], 'Zweckverband Sparkasse Westerwald-Sieg': [100], 'Zweckverband Abfallverwertung Südwestpfalz': [3060], 'Kreissparkasse Ahrweiler': [7080], 'Rheinland-Westenenergie': [2000], 'Wasserversorgung Zweckverband Main-Eifel': [873.13, 5658], 'Zweckverband SPNV': [7446], 'Kreissparkasse Kaiserslautern': [9284], 'Landesmusikverband RLP': [480], 'Sparkasse Neuwied': [8644], 'Sparkasse Neuwied (Verbandsversammlung)': [200], 'ZAB consult GmbH': [1800], 'Zweckverband der Entwicklungsgesellschaft Flugplatz Zweibrücken': [1687.29], 'Sparkasse Koblenz': [9344, 9544], 'Hausverwaltung Schon & Müller': [100], 'Kreissparkasse Mayen': [7580], 'Sparkassen Finanzdienste': [300], 'Unfallkasse RP': [75], 'Zweckverband Industriepark A61': [225], 'Zweckverband Vulkanpark': [150]}\n"
     ]
    }
   ],
   "source": [
    "firmen_data = {}\n",
    "for firma in unique_firmen:\n",
    "    gehälter = []\n",
    "    for datapoint in data:\n",
    "        for firma2, gehalt in datapoint['nebeneinkünfte'].items():\n",
    "            if firma == firma2:\n",
    "                gehälter.append(gehalt)              \n",
    "    firmen_data[firma] = gehälter\n",
    "\n",
    "\n",
    "print(firmen_data)"
   ]
  },
  {
   "cell_type": "code",
   "execution_count": 29,
   "metadata": {
    "slideshow": {
     "slide_type": "fragment"
    }
   },
   "outputs": [
    {
     "name": "stdout",
     "output_type": "stream",
     "text": [
      "{'Planungsgemeinschaft Rheinhessen-Nahe': 2500, 'Rheinhessenwein e.V.': 75, 'Sparkasse Mainz': 17788, 'Zweckverband Sparkasse Mainz': 200, 'Zweckverband Sparkasse Rhein-Nahe': 9444, 'Zweckverband Verkehrsbund Rhein Nahe': 614.0, 'Gewässerzweckverband Isenach-Eckbach': 6600, 'Pfälzische Pensionsanstalt': 700, 'Sparkasse Rhein-Haardt': 15100.0, 'Sparkassenverband RP': 45699.0, 'Verband Region Rhein-Neckar': 3944, 'Zweckverband Sparkasse Rhein-Haardt': 540, 'Innogy Westenergie': 4000, 'Kommunaler Rat': 256.0, 'Landkreistag RP': 7875, 'RWE': 162155, 'Sparkasse Trier': 18488, 'Sparkassen- und Giroverband RP': 25241.0, 'Zweckverband Industriepark Region Trier': 2208, 'Zweckverband Sparkasse Trier': 150, 'Gas-Union Frankfurth/Mainz': 7812.0, 'Zweckverband der Sparkasse Mainz': 300, 'Kreditausschuss': 400, 'Sparkasse Vorderpfalz': 17708, 'Zweckverband Sparkasse Vorderpfalz': 320, 'Fremdenverkehrszweckverband': 3394.0, 'Kreissparkasse Kusel': 6880, 'Zweckverbandes Pollichia-Museum': 784.0, '(Zweckverband) Sparkasse Mittelmosel - Eifel Mosel Hunsrück': 6038, 'Abfallzweckverband Rhein-Mosel-Eifel': 600, 'Agentur für Arbeit': 130, 'Altlastenzweckverband Tierische Nebenprodukte': 12048.0, 'Planungsgemeinschaft Mittelrhein-Westerwald': 2745, 'Rheinische Zusatzversorgungskasse': 194, 'Westenergie': 4160, 'Zweckverband Tierische Nebenprodukte Südwest': 11998.0, 'Bezirkstag Pfalz': 2100, 'Institut für Medien und Pädagogik e. V.': 18.0, 'Sparkasse Südwestpfalz': 14242, 'Zweckverband Entwicklungsgebiet Flugplatz ZW': 1381.0, 'Stadtsparkasse': 5704, 'Baugenossenschaft Rhein-Lahn eG': 200, 'Landesbank Baden-Württemberg': 1283.0, 'Nassauische Sparkasse': 11812.0, 'Süwag Energie AG': 11000, 'Bezirksverband Pfalz': 250, 'Landeszentrale für Medien und Kommunikation': 893, 'Pfalzklinikum für Psychiatrie u. Neurologie (AdöR)': 200, 'Sparkasse Südliche Weinstraße': 16292, 'Sparkasse Mittelmosel - Eifel Mosel Hunsrück': 400, 'Zweckverband Abfallwirtschaft Region Trier': 7848, 'Zweckverband Sparkasse Mittelmosel - Eifel Mosel Hunsrück': 8324, 'Zusatzversorgungskasse der bayerischen Gemeinden': 250, 'Park & Bellheimer AG': 5950, 'Sparkasse Germersheim-Kandel': 6680, 'Verkehrsverbund Rhein-Neckar': 1800, 'Zweckverband Schienenpersonennahverkehr Süd': 7464, 'Sparkasse Worms-Alzey-Ried': 18038, 'Zweckverband Sparkasse Worms-Alzey-Ried': 150, 'Kreissparkasse Rhein-Hunsrück': 6980, 'Sparkasse (div. Ebenen)': 9544, 'Zweckverband Sparkasse Südliche Weinstraße': 450, 'Sparkasse Westerwald-Sieg': 18288, 'Sparkassenzweckverband Nassau': 383.0, 'Sparkassenzweckverband Westerwald-Sieg': 100, 'Beirat für Kommunalentwicklung RP': 190.0, 'Kreissparkasse Bitburg-Prüm': 7080, 'Kreisvolkshochschule': 3597, 'Planungsgemeinschaft Region Trier': 600, 'Saarländischer Schwesternverband': 7735, 'Zweckverband Berufsbildungszentrum Bitburg-Prüm': 5181, 'Zweckverband Flugplatz Bitburg': 5186, 'Zweckverband Naturpark Südeifel': 5973, 'Zweckverband Schienen-Personen-NahVerker': 3723, 'Zweckverband Stausee Bitburg': 20, 'Zweckverband Verkehrsbund Region Trier': 7032, 'Kreissparkasse Birkenfeld': 6780, 'Planungsgemeinschaft Westpfalz': 780, 'Sparkasse Donnersberg': 6842, 'Zweckverband Sparkasse Westerwald-Sieg': 100, 'Zweckverband Abfallverwertung Südwestpfalz': 3060, 'Kreissparkasse Ahrweiler': 7080, 'Rheinland-Westenenergie': 2000, 'Wasserversorgung Zweckverband Main-Eifel': 6531.0, 'Zweckverband SPNV': 7446, 'Kreissparkasse Kaiserslautern': 9284, 'Landesmusikverband RLP': 480, 'Sparkasse Neuwied': 8644, 'Sparkasse Neuwied (Verbandsversammlung)': 200, 'ZAB consult GmbH': 1800, 'Zweckverband der Entwicklungsgesellschaft Flugplatz Zweibrücken': 1687.0, 'Sparkasse Koblenz': 18888, 'Hausverwaltung Schon & Müller': 100, 'Kreissparkasse Mayen': 7580, 'Sparkassen Finanzdienste': 300, 'Unfallkasse RP': 75, 'Zweckverband Industriepark A61': 225, 'Zweckverband Vulkanpark': 150}\n"
     ]
    }
   ],
   "source": [
    "# Summiere die Gehälter pro Firma auf\n",
    "for firma, gehälter in firmen_data.items():\n",
    "    firmen_data[firma] = round(sum(gehälter), 0)\n",
    "    \n",
    "print(firmen_data)"
   ]
  },
  {
   "cell_type": "code",
   "execution_count": 30,
   "metadata": {
    "slideshow": {
     "slide_type": "slide"
    }
   },
   "outputs": [
    {
     "name": "stdout",
     "output_type": "stream",
     "text": [
      "[('RWE', 162155), ('Sparkassenverband RP', 45699.0), ('Sparkassen- und Giroverband RP', 25241.0), ('Sparkasse Koblenz', 18888), ('Sparkasse Trier', 18488), ('Sparkasse Westerwald-Sieg', 18288), ('Sparkasse Worms-Alzey-Ried', 18038), ('Sparkasse Mainz', 17788), ('Sparkasse Vorderpfalz', 17708), ('Sparkasse Südliche Weinstraße', 16292), ('Sparkasse Rhein-Haardt', 15100.0), ('Sparkasse Südwestpfalz', 14242), ('Altlastenzweckverband Tierische Nebenprodukte', 12048.0), ('Zweckverband Tierische Nebenprodukte Südwest', 11998.0), ('Nassauische Sparkasse', 11812.0), ('Süwag Energie AG', 11000), ('Sparkasse (div. Ebenen)', 9544), ('Zweckverband Sparkasse Rhein-Nahe', 9444), ('Kreissparkasse Kaiserslautern', 9284), ('Sparkasse Neuwied', 8644), ('Zweckverband Sparkasse Mittelmosel - Eifel Mosel Hunsrück', 8324), ('Landkreistag RP', 7875), ('Zweckverband Abfallwirtschaft Region Trier', 7848), ('Gas-Union Frankfurth/Mainz', 7812.0), ('Saarländischer Schwesternverband', 7735), ('Kreissparkasse Mayen', 7580), ('Zweckverband Schienenpersonennahverkehr Süd', 7464), ('Zweckverband SPNV', 7446), ('Kreissparkasse Bitburg-Prüm', 7080), ('Kreissparkasse Ahrweiler', 7080), ('Zweckverband Verkehrsbund Region Trier', 7032), ('Kreissparkasse Rhein-Hunsrück', 6980), ('Kreissparkasse Kusel', 6880), ('Sparkasse Donnersberg', 6842), ('Kreissparkasse Birkenfeld', 6780), ('Sparkasse Germersheim-Kandel', 6680), ('Gewässerzweckverband Isenach-Eckbach', 6600), ('Wasserversorgung Zweckverband Main-Eifel', 6531.0), ('(Zweckverband) Sparkasse Mittelmosel - Eifel Mosel Hunsrück', 6038), ('Zweckverband Naturpark Südeifel', 5973), ('Park & Bellheimer AG', 5950), ('Stadtsparkasse', 5704), ('Zweckverband Flugplatz Bitburg', 5186), ('Zweckverband Berufsbildungszentrum Bitburg-Prüm', 5181), ('Westenergie', 4160), ('Innogy Westenergie', 4000), ('Verband Region Rhein-Neckar', 3944), ('Zweckverband Schienen-Personen-NahVerker', 3723), ('Kreisvolkshochschule', 3597), ('Fremdenverkehrszweckverband', 3394.0), ('Zweckverband Abfallverwertung Südwestpfalz', 3060), ('Planungsgemeinschaft Mittelrhein-Westerwald', 2745), ('Planungsgemeinschaft Rheinhessen-Nahe', 2500), ('Zweckverband Industriepark Region Trier', 2208), ('Bezirkstag Pfalz', 2100), ('Rheinland-Westenenergie', 2000), ('Verkehrsverbund Rhein-Neckar', 1800), ('ZAB consult GmbH', 1800), ('Zweckverband der Entwicklungsgesellschaft Flugplatz Zweibrücken', 1687.0), ('Zweckverband Entwicklungsgebiet Flugplatz ZW', 1381.0), ('Landesbank Baden-Württemberg', 1283.0), ('Landeszentrale für Medien und Kommunikation', 893), ('Zweckverbandes Pollichia-Museum', 784.0), ('Planungsgemeinschaft Westpfalz', 780), ('Pfälzische Pensionsanstalt', 700), ('Zweckverband Verkehrsbund Rhein Nahe', 614.0), ('Abfallzweckverband Rhein-Mosel-Eifel', 600), ('Planungsgemeinschaft Region Trier', 600), ('Zweckverband Sparkasse Rhein-Haardt', 540), ('Landesmusikverband RLP', 480), ('Zweckverband Sparkasse Südliche Weinstraße', 450), ('Kreditausschuss', 400), ('Sparkasse Mittelmosel - Eifel Mosel Hunsrück', 400), ('Sparkassenzweckverband Nassau', 383.0), ('Zweckverband Sparkasse Vorderpfalz', 320), ('Zweckverband der Sparkasse Mainz', 300), ('Sparkassen Finanzdienste', 300), ('Kommunaler Rat', 256.0), ('Bezirksverband Pfalz', 250), ('Zusatzversorgungskasse der bayerischen Gemeinden', 250), ('Zweckverband Industriepark A61', 225), ('Zweckverband Sparkasse Mainz', 200), ('Baugenossenschaft Rhein-Lahn eG', 200), ('Pfalzklinikum für Psychiatrie u. Neurologie (AdöR)', 200), ('Sparkasse Neuwied (Verbandsversammlung)', 200), ('Rheinische Zusatzversorgungskasse', 194), ('Beirat für Kommunalentwicklung RP', 190.0), ('Zweckverband Sparkasse Trier', 150), ('Zweckverband Sparkasse Worms-Alzey-Ried', 150), ('Zweckverband Vulkanpark', 150), ('Agentur für Arbeit', 130), ('Sparkassenzweckverband Westerwald-Sieg', 100), ('Zweckverband Sparkasse Westerwald-Sieg', 100), ('Hausverwaltung Schon & Müller', 100), ('Rheinhessenwein e.V.', 75), ('Unfallkasse RP', 75), ('Zweckverband Stausee Bitburg', 20), ('Institut für Medien und Pädagogik e. V.', 18.0)]\n"
     ]
    }
   ],
   "source": [
    "# Sortiere das Dictionary mit den Gehältern pro Firma. Der höchste Betrag soll dabei an erster Stelle stehen\n",
    "sorted_data = sorted(firmen_data.items(), key=lambda item: item[1], reverse=True)\n",
    "print(sorted_data)"
   ]
  },
  {
   "cell_type": "markdown",
   "metadata": {
    "slideshow": {
     "slide_type": "slide"
    }
   },
   "source": [
    "## Eingabetool für Nebeneinkünfte"
   ]
  },
  {
   "cell_type": "code",
   "execution_count": null,
   "metadata": {
    "slideshow": {
     "slide_type": "-"
    },
    "tags": [
     "skip-execution"
    ]
   },
   "outputs": [],
   "source": [
    "firma = ''\n",
    "nebeneinkünfte = {}\n",
    "while firma != 'x':\n",
    "    firma = input('Firma:')\n",
    "    gehalt = input('Gehalt:')\n",
    "    nebeneinkünfte[firma] = gehalt\n",
    "    print(nebeneinkünfte)\n",
    "    \n",
    "print('Alle Nebeneinkünfte:')\n",
    "print(nebeneinkünfte)"
   ]
  },
  {
   "cell_type": "code",
   "execution_count": null,
   "metadata": {
    "slideshow": {
     "slide_type": "fragment"
    },
    "tags": [
     "skip-execution"
    ]
   },
   "outputs": [],
   "source": [
    "firma = 'default'\n",
    "nebeneinkünfte = {}\n",
    "while firma != 'x':\n",
    "    firma = input('Firma:')\n",
    "    if firma == 'x':\n",
    "        break\n",
    "    gehalt = input('Gehalt:')\n",
    "    erwerb = {firma: gehalt}\n",
    "    nebeneinkünfte.update(erwerb)\n",
    "    print(nebeneinkünfte)\n",
    "    \n",
    "print('While Loop Ende\\n')\n",
    "print('Alle Nebeneinkünfte:')\n",
    "print(nebeneinkünfte)"
   ]
  }
 ],
 "metadata": {
  "celltoolbar": "Tags",
  "kernelspec": {
   "display_name": "Python 3",
   "language": "python",
   "name": "python3"
  },
  "language_info": {
   "codemirror_mode": {
    "name": "ipython",
    "version": 3
   },
   "file_extension": ".py",
   "mimetype": "text/x-python",
   "name": "python",
   "nbconvert_exporter": "python",
   "pygments_lexer": "ipython3",
   "version": "3.7.3"
  },
  "vscode": {
   "interpreter": {
    "hash": "f9f85f796d01129d0dd105a088854619f454435301f6ffec2fea96ecbd9be4ac"
   }
  }
 },
 "nbformat": 4,
 "nbformat_minor": 5
}
