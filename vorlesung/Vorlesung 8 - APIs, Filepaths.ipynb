{
 "cells": [
  {
   "cell_type": "markdown",
   "id": "d9a3430d",
   "metadata": {
    "slideshow": {
     "slide_type": "slide"
    }
   },
   "source": [
    "# Datenjournalismus in Python - \n",
    "# Eine praktische Einführung in die Programmierung\n",
    "\n",
    "\n",
    "### Natalie Widmann\n",
    "\n",
    "\n",
    "\n",
    "\n",
    "Wintersemester 2022 / 2023\n",
    "\n",
    "\n",
    "Universität Leipzig\n",
    "\n",
    "\n",
    "\n"
   ]
  },
  {
   "cell_type": "markdown",
   "id": "bba078b0",
   "metadata": {
    "slideshow": {
     "slide_type": "slide"
    }
   },
   "source": [
    "## Organisation\n",
    "\n",
    "- Fehler auf dem Übungsblatt:\n",
    "  Ändere den Graphen, so dass die veröffentlichten Filme und Shows **pro Monat** angezeigt werden\n",
    "  \n",
    "  \n",
    "- Aufzeichnung der Veranstaltung\n"
   ]
  },
  {
   "cell_type": "markdown",
   "id": "31364e0e",
   "metadata": {
    "slideshow": {
     "slide_type": "slide"
    }
   },
   "source": [
    "## Organisation\n",
    "\n",
    "![Timeline](../imgs/kursplan.png)"
   ]
  },
  {
   "cell_type": "markdown",
   "id": "7e785d50",
   "metadata": {
    "slideshow": {
     "slide_type": "slide"
    }
   },
   "source": [
    "# Teil III - APIs und Webscraping\n",
    "\n",
    "\n",
    "## Ein API bietet im Vergleich zu Dateien folgende Vorteile:\n",
    "\n",
    "\n",
    "- **Schnellere Datenübertragung**: API's ermöglichen es, direkt auf die Daten zuzugreifen und sie in Echtzeit abzurufen, während bei Datendateien die Daten zunächst heruntergeladen und dann verarbeitet werden müssen.\n",
    "\n",
    "\n",
    "- **Flexibilität**: API's erlauben es, Daten in verschiedenen Formaten abzurufen und anzupassen, während Datendateien oft in einem festen Format vorliegen und nicht so leicht verändert werden können.\n",
    "\n",
    "\n",
    "- **Integration**: API's können leicht in bestehende Systeme integriert werden, während Datendateien oft manuell importiert und verarbeitet werden müssen.\n",
    "\n",
    "\n",
    "- **Sicherheit**: API's bieten oft zusätzliche Sicherheitsfunktionen wie Authentifizierung und Verschlüsselung, um die Daten vor unbefugtem Zugriff zu schützen.\n",
    "\n",
    "\n",
    "- **Skalierbarkeit**: API's ermöglichen es, Daten in großen Mengen abzurufen und zu verarbeiten, ohne dass die Leistung des Systems beeinträchtigt wird.\n",
    "\n",
    "\n"
   ]
  },
  {
   "cell_type": "markdown",
   "id": "f02fda06",
   "metadata": {
    "slideshow": {
     "slide_type": "slide"
    }
   },
   "source": [
    "## Vorlesung 8 - Inhalte\n",
    "\n",
    "- Was sind APIs?\n",
    "- Wie können wir Daten mit APIs abrufen und verarbeiten?\n",
    "- Wie und wo können wir Daten speichern?\n"
   ]
  },
  {
   "cell_type": "markdown",
   "id": "8612817d",
   "metadata": {
    "slideshow": {
     "slide_type": "slide"
    }
   },
   "source": [
    "## Twitter Demo\n"
   ]
  },
  {
   "cell_type": "code",
   "execution_count": null,
   "id": "d064f47a",
   "metadata": {},
   "outputs": [],
   "source": [
    "import requests\n",
    "\n",
    "# Lade Twitter API Token und erstelle den Header\n",
    "with open('.env', 'r') as f:\n",
    "    TOKEN = f.readline()\n",
    "headers = {\"Authorization\": \"Bearer {}\".format(TOKEN)}\n",
    "\n",
    "# Suchterm und Parameter\n",
    "keyword = \"Musk lang:de\"\n",
    "params = {'query': keyword,\n",
    "          'max_results': 10\n",
    "         }\n",
    "\n",
    "# API request\n",
    "url = \"https://api.twitter.com/2/tweets/search/recent\"\n",
    "response = requests.request('GET', url, headers=headers, params=params)\n",
    "data = response.json()['data']\n",
    "\n",
    "# Ausgabe der Tweets\n",
    "for tweet in data:\n",
    "    print(tweet['text'] + '\\n')"
   ]
  },
  {
   "cell_type": "markdown",
   "id": "a5890ec7",
   "metadata": {
    "slideshow": {
     "slide_type": "slide"
    }
   },
   "source": [
    "## Was ist eine API?\n",
    "\n",
    "Eine API (Application Programming Interface) ist eine Schnittstelle, die es Software-Programmen ermöglicht, miteinander zu kommunizieren und Daten auszutauschen. Sie stellt eine spezifizierte Menge von Funktionen und Protokollen bereit, die von anderen Programmen genutzt werden können, um zum Beispiel auf bestimmte Daten zuzugreifen oder bestimmte Funktionen auszuführen.\n",
    "\n",
    "Ein einfaches Beispiel für die Nutzung einer API ist die Integration von Wetterdaten in eine App. Die App nutzt dabei die Funktionen und Protokolle der Wetter-API, um aktuelle Wetterdaten von einer Wetter-Website abzurufen und in der App anzuzeigen.\n"
   ]
  },
  {
   "cell_type": "markdown",
   "id": "74807880",
   "metadata": {},
   "source": [
    "![API](../imgs/API.png)"
   ]
  },
  {
   "cell_type": "markdown",
   "id": "8226e3e0",
   "metadata": {},
   "source": [
    "### Unser erster API Request in Python\n",
    "\n",
    "Wir testen die [Open Notify API](http://open-notify.org/) die anzeigt wie viele Menschen gerade im All sind.\n",
    "\n",
    "\n",
    "\n",
    "Dafür benutzen wir das `requests` python package.\n",
    "\n",
    "Dokumentation: https://requests.readthedocs.io/en/latest/"
   ]
  },
  {
   "cell_type": "code",
   "execution_count": null,
   "id": "00df5096",
   "metadata": {},
   "outputs": [],
   "source": [
    "!pip install requests"
   ]
  },
  {
   "cell_type": "code",
   "execution_count": null,
   "id": "9a1de631",
   "metadata": {},
   "outputs": [],
   "source": [
    "import requests"
   ]
  },
  {
   "cell_type": "markdown",
   "id": "4397bdab",
   "metadata": {},
   "source": [
    "Um Daten einer API abzufragen verwendet man einen sogenannten `GET` request.\n",
    "Dafür hat das `request` package die Funktion `requests.get()`.\n",
    "Diese nimmt als Argument die url entgegen.\n",
    "\n"
   ]
  },
  {
   "cell_type": "code",
   "execution_count": null,
   "id": "a62af060",
   "metadata": {},
   "outputs": [],
   "source": [
    "url = 'http://api.open-notify.org/astros.json'\n",
    "response = requests.get(url)"
   ]
  },
  {
   "cell_type": "code",
   "execution_count": null,
   "id": "b22d35db",
   "metadata": {},
   "outputs": [],
   "source": [
    "response"
   ]
  },
  {
   "cell_type": "code",
   "execution_count": null,
   "id": "cfc14916",
   "metadata": {},
   "outputs": [],
   "source": [
    "dir(response)"
   ]
  },
  {
   "cell_type": "markdown",
   "id": "4e1f23c7",
   "metadata": {},
   "source": [
    "### Status Codes\n",
    "\n",
    "Die Antwort eines request, enthält einen response Code der sagt ob die Anfrage erfolgreich war.\n",
    "\n",
    "Der Status Code wird über `.status_code` abgerufen."
   ]
  },
  {
   "cell_type": "code",
   "execution_count": null,
   "id": "5eb96cca",
   "metadata": {},
   "outputs": [],
   "source": [
    "response.status_code"
   ]
  },
  {
   "cell_type": "markdown",
   "id": "a0f9afbd",
   "metadata": {},
   "source": [
    "### Die häufigsten HTTP-API-Statuscodes\n",
    "\n",
    "\n",
    "- **200 OK**: Der Server hat die Anfrage erfolgreich verarbeitet und die gewünschte Ressource zurückgegeben.\n",
    "\n",
    "\n",
    "- **301 Moved Permanently**: Die angeforderte Ressource wurde permanent an eine andere URL umgeleitet.\n",
    "\n",
    "\n",
    "- **400 Bad Request**: Die Anfrage konnte aufgrund eines Syntaxfehlers oder ungültiger Anfrageparameter nicht verarbeitet werden.\n",
    "\n",
    "\n",
    "- **401 Unauthorized**: Der Server konnte die Anfrage nicht authentifizieren und fordert daher eine gültige Anmeldung.\n",
    "\n",
    "\n",
    "- **403 Access Forbidden**: Die Zugansdaten sind für die Abfrage nicht ausreichend.\n",
    "\n",
    "\n",
    "- **404 Not Found**: Die angeforderte Ressource wurde vom Server nicht gefunden.\n",
    "\n",
    "\n",
    "- **500 Internal Server Error**: Der Server hat einen internen Fehler und kann die Anfrage nicht verarbeiten.\n",
    "\n"
   ]
  },
  {
   "cell_type": "markdown",
   "id": "2344d120",
   "metadata": {},
   "source": [
    "### API Data\n",
    "\n",
    "Die Daten der API können über `.json()` abgerufen werden."
   ]
  },
  {
   "cell_type": "code",
   "execution_count": null,
   "id": "42175341",
   "metadata": {},
   "outputs": [],
   "source": [
    "data = response.json()"
   ]
  },
  {
   "cell_type": "code",
   "execution_count": null,
   "id": "8f7d765f",
   "metadata": {},
   "outputs": [],
   "source": [
    "data"
   ]
  },
  {
   "cell_type": "code",
   "execution_count": null,
   "id": "25a24e08",
   "metadata": {},
   "outputs": [],
   "source": [
    "type(data)"
   ]
  },
  {
   "cell_type": "markdown",
   "id": "393e97ca",
   "metadata": {},
   "source": [
    "#### Welche Daten sind verfügbar?\n",
    "\n",
    "Zeige alle Keys im Dictionary an."
   ]
  },
  {
   "cell_type": "code",
   "execution_count": null,
   "id": "ed319310",
   "metadata": {},
   "outputs": [],
   "source": []
  },
  {
   "cell_type": "markdown",
   "id": "52ebd952",
   "metadata": {},
   "source": [
    "Zeige die Anzahl an Menschen an, die gerade im All ist"
   ]
  },
  {
   "cell_type": "code",
   "execution_count": null,
   "id": "cb18df43",
   "metadata": {},
   "outputs": [],
   "source": []
  },
  {
   "cell_type": "markdown",
   "id": "249ccbe5",
   "metadata": {},
   "source": [
    "Drucke die Namen aller Menschen im All aus"
   ]
  },
  {
   "cell_type": "code",
   "execution_count": null,
   "id": "cbc0128a",
   "metadata": {},
   "outputs": [],
   "source": []
  },
  {
   "cell_type": "markdown",
   "id": "0da68c10",
   "metadata": {},
   "source": [
    "## Daten speichern & Laden"
   ]
  },
  {
   "cell_type": "code",
   "execution_count": null,
   "id": "d113f127",
   "metadata": {},
   "outputs": [],
   "source": [
    "# Daten speichern\n",
    "import json\n",
    "with open(\"astronauts.json\", \"w\") as outfile:\n",
    "    json.dump(data, outfile)"
   ]
  },
  {
   "cell_type": "code",
   "execution_count": null,
   "id": "abda218a",
   "metadata": {},
   "outputs": [],
   "source": [
    "# Daten laden\n",
    "with open(\"astronauts.json\", \"r\") as openfile:\n",
    "    new_data = json.load(openfile)"
   ]
  },
  {
   "cell_type": "code",
   "execution_count": null,
   "id": "8e7de403",
   "metadata": {},
   "outputs": [],
   "source": [
    "new_data"
   ]
  },
  {
   "cell_type": "markdown",
   "id": "88613b58",
   "metadata": {},
   "source": [
    "## Dateipfade\n",
    "\n",
    "\n",
    "In Python, es gibt zwei Arten von Dateipfaden: **relative Pfade** und **absolute Pfade**.\n",
    "\n",
    "\n",
    "**Absolute Pfade** sind Pfade, die von der Wurzel des Dateisystems ausgehen. Zum Beispiel, wenn die Datei \"data.txt\" in dem Ordner `C:\\users\\meinname` gespeichert ist, würde der absolute Pfad zu dieser Datei `C:\\users\\meinname\\data.txt` lauten.\n",
    "\n",
    "\n",
    "**Relative Pfade** sind Pfade, die sich auf einen Pfad beziehen, der von dem aktuellen Verzeichnis des Programms ausgeht. Zum Beispiel, wenn Sie eine Datei namens `data.txt` in demselben Ordner speichern, in dem Ihr Python-Skript liegt, würde der relative Pfad zu dieser Datei `data.txt` lauten.\n",
    "\n"
   ]
  },
  {
   "cell_type": "code",
   "execution_count": null,
   "id": "827c88c1",
   "metadata": {},
   "outputs": [],
   "source": [
    "relativer_pfad = 'data.txt'\n",
    "with open(relativer_pfad, \"w\") as f:\n",
    "    f.write('Das ist ein Testtext.')"
   ]
  },
  {
   "cell_type": "markdown",
   "id": "9e11eb61",
   "metadata": {},
   "source": [
    "### Anzeigen des aktuellen Dateipfades"
   ]
  },
  {
   "cell_type": "code",
   "execution_count": null,
   "id": "e7bb857b",
   "metadata": {},
   "outputs": [],
   "source": [
    "import os\n",
    "os.getcwd()"
   ]
  },
  {
   "cell_type": "code",
   "execution_count": null,
   "id": "75c100f1",
   "metadata": {},
   "outputs": [],
   "source": [
    "absoluter_pfad = '/home/natalie/Documents/Datenjournalismus in Python/Code/vorlesung/'\n",
    "filename = 'data.txt'\n",
    "\n",
    "pfad = ab\n",
    "with open(absoluter_pfad, \"r\") as f:\n",
    "    test = f.read()"
   ]
  },
  {
   "cell_type": "code",
   "execution_count": null,
   "id": "d4d9efd5",
   "metadata": {},
   "outputs": [],
   "source": [
    "test"
   ]
  },
  {
   "cell_type": "markdown",
   "id": "435694cc",
   "metadata": {},
   "source": [
    "#### Relative Pfade\n",
    "\n",
    "Bei relativen Dateipfaden können wir mit `..` eine Ebene höher navigieren.\n",
    "\n",
    "`./` bedeutet im aktuellen Verzeichnis.\n",
    "\n"
   ]
  },
  {
   "cell_type": "code",
   "execution_count": null,
   "id": "181bc7b3",
   "metadata": {},
   "outputs": [],
   "source": [
    "# Erstelle einen Ordner eine Ebene höher als das aktuelle Arbeitsverzeichnis\n",
    "import os\n",
    "os.mkdir('../testdata')"
   ]
  },
  {
   "cell_type": "code",
   "execution_count": null,
   "id": "6710a6b1",
   "metadata": {},
   "outputs": [],
   "source": [
    "# Speichere eine Datei in dem neuen Ordner\n",
    "relativer_pfad = '../testdata/data.txt'\n",
    "with open(relativer_pfad, \"w\") as f:\n",
    "    f.write('Das ist ein Testtext 2.')"
   ]
  },
  {
   "cell_type": "markdown",
   "id": "e74a7453",
   "metadata": {
    "slideshow": {
     "slide_type": "slide"
    }
   },
   "source": [
    "# Zeit für Feedback\n",
    "\n",
    "\n",
    "\n",
    "Link: https://ahaslides.com/JQFRG\n",
    "\n",
    "![Feedback QR Code](../imgs/qrcode_vl8.png)\n",
    "\n"
   ]
  },
  {
   "cell_type": "code",
   "execution_count": null,
   "id": "54b475e7",
   "metadata": {},
   "outputs": [],
   "source": []
  }
 ],
 "metadata": {
  "celltoolbar": "Slideshow",
  "kernelspec": {
   "display_name": "Python 3 (ipykernel)",
   "language": "python",
   "name": "python3"
  },
  "language_info": {
   "codemirror_mode": {
    "name": "ipython",
    "version": 3
   },
   "file_extension": ".py",
   "mimetype": "text/x-python",
   "name": "python",
   "nbconvert_exporter": "python",
   "pygments_lexer": "ipython3",
   "version": "3.9.15"
  }
 },
 "nbformat": 4,
 "nbformat_minor": 5
}
