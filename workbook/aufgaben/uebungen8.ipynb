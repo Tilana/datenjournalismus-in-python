{
 "cells": [
  {
   "cell_type": "markdown",
   "metadata": {},
   "source": [
    "# Scraper \n",
    "\n",
    "## Können Sie mir mal die Webseite kratzen? - Scraping mit BeautifulSoup"
   ]
  },
  {
   "cell_type": "markdown",
   "metadata": {},
   "source": [
    "Stelle eine GET-Request an deine liebste Wikipedia-Seite."
   ]
  },
  {
   "cell_type": "code",
   "execution_count": 1,
   "metadata": {},
   "outputs": [],
   "source": [
    "# Code"
   ]
  },
  {
   "cell_type": "code",
   "execution_count": null,
   "metadata": {
    "tags": [
     "sip-execution",
     "hide-input"
    ]
   },
   "outputs": [],
   "source": [
    "import requests\n",
    "result = requests.get('https://de.wikipedia.org/wiki/Milovan_%C4%90ilas')\n",
    "result.text"
   ]
  },
  {
   "cell_type": "markdown",
   "metadata": {},
   "source": [
    "Installiere, falls nicht bereits geschehen Beautiful Soup."
   ]
  },
  {
   "cell_type": "code",
   "execution_count": null,
   "metadata": {},
   "outputs": [],
   "source": [
    "# Dein Code\n"
   ]
  },
  {
   "cell_type": "code",
   "execution_count": null,
   "metadata": {
    "tags": [
     "hide-input",
     "skip-execution"
    ]
   },
   "outputs": [],
   "source": [
    "!pip install beautifulsoup4"
   ]
  },
  {
   "cell_type": "markdown",
   "metadata": {},
   "source": [
    "Erstelle eine BeautifulSoup aus dem Text der Anfrage."
   ]
  },
  {
   "cell_type": "code",
   "execution_count": null,
   "metadata": {},
   "outputs": [],
   "source": [
    "# Code"
   ]
  },
  {
   "cell_type": "code",
   "execution_count": null,
   "metadata": {
    "tags": [
     "skip-execution",
     "hide-input"
    ]
   },
   "outputs": [],
   "source": [
    "'''\n",
    "Um diesen sehr langen und unübersichtlichen Text besser zu verarbeiten, überführen wir den erhaltenen String in ein BeautifulSoup Datenobjekt.\n",
    "Jetzt ist die Webseite mit den Funktionalitäten von BeautifulSoup durchsuchbar.\n",
    "Wichtig ist hier, dass ein Parser benötigt wird, der das HTML \"verstehen\" kann. Je nach dem Format der erhaltenen Antwort, kann auch ein anderer Parser z.B. für xml, benötigt werden.\n",
    "'''\n",
    "from bs4 import BeautifulSoup\n",
    "soup = BeautifulSoup(result.text, 'html.parser')"
   ]
  },
  {
   "cell_type": "markdown",
   "metadata": {},
   "source": [
    "Lass dir nur den Text des Artikels ausgeben."
   ]
  },
  {
   "cell_type": "code",
   "execution_count": null,
   "metadata": {},
   "outputs": [],
   "source": [
    "# Code"
   ]
  },
  {
   "cell_type": "code",
   "execution_count": null,
   "metadata": {
    "tags": [
     "skip-execution",
     "hide-input"
    ]
   },
   "outputs": [],
   "source": [
    "'''\n",
    "Eine der wichtigsten Funktionen von BeautifulSoup ist wohl find_all.\n",
    "Damit lässt sich nach bestimmten HTML-Tags suchen.\n",
    "Die wichtigsten HTML-Tags sind:\n",
    "<p> Paragraph </p>\n",
    "<a> Hyperlink (Anchor) </a>\n",
    "<ol> geordnete Liste </ol>\n",
    "<ul> ungeordnete Liste </ul>\n",
    "<li> Listeneintrag </li>\n",
    "\n",
    "In diesem Fall wissen wir, dass der gesamte Text in dieser Webseite innerhalb von einem Parargraph-Tag steht.\n",
    "'''\n",
    "text = ''\n",
    "for p in soup.find_all('p'):\n",
    "    text += p.text\n",
    "#text\n",
    "\n",
    "soup.get_text()\n"
   ]
  },
  {
   "cell_type": "markdown",
   "metadata": {},
   "source": [
    "Filtere alle Hyperlinks heraus."
   ]
  },
  {
   "cell_type": "code",
   "execution_count": null,
   "metadata": {},
   "outputs": [],
   "source": [
    "# Code"
   ]
  },
  {
   "cell_type": "code",
   "execution_count": null,
   "metadata": {
    "tags": [
     "skip-execution",
     "hide-input"
    ]
   },
   "outputs": [],
   "source": [
    "Mithilfe der get Funktion können wir auf Attribute der jeweiligen Tags zugreifen.\n",
    "So können wir z.B. die verlinkten Webseiten in einer Seite finden in dem wir uns das href-Attribut eines Anchor-Tags geben lassen.\n",
    "'''\n",
    "for link in soup.find_all('a'):\n",
    "    print(link.get('href'))\n"
   ]
  },
  {
   "cell_type": "markdown",
   "metadata": {},
   "source": [
    "Finde alle `<p>`Tags und Speichere sie in einer Liste"
   ]
  },
  {
   "cell_type": "code",
   "execution_count": 2,
   "metadata": {},
   "outputs": [],
   "source": [
    "# Code"
   ]
  },
  {
   "cell_type": "code",
   "execution_count": null,
   "metadata": {
    "tags": [
     "skip-execution",
     "hide-input"
    ]
   },
   "outputs": [],
   "source": [
    "absaetze = soup.find_all('p')\n",
    "absaetze"
   ]
  },
  {
   "cell_type": "markdown",
   "metadata": {},
   "source": [
    "Filtere jetzt nur die Hyperlinks von der Seite, die im Text vorkommen."
   ]
  },
  {
   "cell_type": "code",
   "execution_count": 3,
   "metadata": {},
   "outputs": [],
   "source": [
    "# Code"
   ]
  },
  {
   "cell_type": "code",
   "execution_count": null,
   "metadata": {
    "tags": [
     "skip-execution",
     "hide-input"
    ]
   },
   "outputs": [],
   "source": [
    "for p in absaetze:\n",
    "    print(p.text)\n",
    "    for link in p.find_all('a'):\n",
    "        print(link.get('href'))\n",
    "\n"
   ]
  },
  {
   "cell_type": "code",
   "execution_count": null,
   "outputs": [],
   "source": [],
   "metadata": {
    "collapsed": false
   }
  }
 ],
 "metadata": {
  "celltoolbar": "Tags",
  "kernelspec": {
   "display_name": "Python 3 (ipykernel)",
   "language": "python",
   "name": "python3"
  },
  "language_info": {
   "codemirror_mode": {
    "name": "ipython",
    "version": 3
   },
   "file_extension": ".py",
   "mimetype": "text/x-python",
   "name": "python",
   "nbconvert_exporter": "python",
   "pygments_lexer": "ipython3",
   "version": "3.9.16"
  }
 },
 "nbformat": 4,
 "nbformat_minor": 1
}
