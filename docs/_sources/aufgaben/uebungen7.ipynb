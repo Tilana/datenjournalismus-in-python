{
 "cells": [
  {
   "cell_type": "markdown",
   "metadata": {},
   "source": [
    "# Schnittstellen / API"
   ]
  },
  {
   "cell_type": "markdown",
   "metadata": {},
   "source": [
    "Mit der Pageviews API von Wikipedia können verschiedene Abrufstatistiken abgerufen werden.\n",
    "Mach dich zuerst mit der [Pageviews-Dokumentation](https://wikitech.wikimedia.org/wiki/Analytics/AQS/Pageviews) vertraut.\n",
    "Bearbeite anschließend die Aufgabe zum Wikipedia Jahresrückblick.\n"
   ]
  },
  {
   "cell_type": "markdown",
   "metadata": {},
   "source": [
    "Welche Wikipedia-Seiten wurden an deinem Geburtstag am häufigsten in Deutschland besucht?\n",
    "Speichere die Top 10 in einer Liste."
   ]
  },
  {
   "cell_type": "code",
   "execution_count": 1,
   "metadata": {},
   "outputs": [],
   "source": [
    "# Code"
   ]
  },
  {
   "cell_type": "code",
   "execution_count": 7,
   "metadata": {
    "tags": [
     "hide-input",
     "skip-execution"
    ]
   },
   "outputs": [
    {
     "data": {
      "text/plain": [
       "[{'article': 'Wikipedia:Hauptseite',\n",
       "  'project': 'de.wikipedia',\n",
       "  'views_ceil': 705800,\n",
       "  'rank': 1},\n",
       " {'article': 'Spezial:Suche',\n",
       "  'project': 'de.wikipedia',\n",
       "  'views_ceil': 136000,\n",
       "  'rank': 2},\n",
       " {'article': 'Jeffrey_Dahmer',\n",
       "  'project': 'de.wikipedia',\n",
       "  'views_ceil': 114100,\n",
       "  'rank': 3},\n",
       " {'article': 'Main_Page',\n",
       "  'project': 'en.wikipedia',\n",
       "  'views_ceil': 103100,\n",
       "  'rank': 4},\n",
       " {'article': 'Günter_Lamprecht',\n",
       "  'project': 'de.wikipedia',\n",
       "  'views_ceil': 88600,\n",
       "  'rank': 5},\n",
       " {'article': 'Special:MyPage/toolserverhelferleinconfig.js',\n",
       "  'project': 'de.wikipedia',\n",
       "  'views_ceil': 42900,\n",
       "  'rank': 6},\n",
       " {'article': 'Armageddon',\n",
       "  'project': 'de.wikipedia',\n",
       "  'views_ceil': 28700,\n",
       "  'rank': 7},\n",
       " {'article': 'Special:Search',\n",
       "  'project': 'en.wikipedia',\n",
       "  'views_ceil': 26300,\n",
       "  'rank': 8},\n",
       " {'article': 'Elisabeth_von_Österreich-Ungarn',\n",
       "  'project': 'de.wikipedia',\n",
       "  'views_ceil': 24400,\n",
       "  'rank': 9},\n",
       " {'article': 'Wladimir_Wladimirowitsch_Putin',\n",
       "  'project': 'de.wikipedia',\n",
       "  'views_ceil': 24200,\n",
       "  'rank': 10}]"
      ]
     },
     "execution_count": 7,
     "metadata": {},
     "output_type": "execute_result"
    }
   ],
   "source": [
    "\"\"\"\n",
    "Mit dem requests-Paket können REST-Abfragen an alle Webseiten gestellt werden. Wie in der Aufgabe \"REST-Abfragen auf normalen Webseiten\" deutlich wird, sind solche Abfragen aber nur auf extra dafür eingerichteten APIs sinnvoll.\n",
    "Die einfachsten REST-Abfragen beinhalten nur die URL, die abgefragt werden soll.\n",
    "Meistens wird aber auch eine Authentifizierung benötigt, die im sogenannten Header festgelegt sein muss.\n",
    "Was genau benötigt wird und wie die URL aussieht, um einer bestimmten API eine Abfrage zu stellen, sollte vor der Verwendung in der Dokumentation der jeweiligen API recherchiert werden.\n",
    "\"\"\"\n",
    "import requests\n",
    "url = 'https://wikimedia.org/api/rest_v1/metrics/pageviews/top-per-country/DE/all-access/2022/10/07'\n",
    "headers = {'user-agent': 'CoolBot/0.0 (https://example.org/coolbot/; coolbot@example.org)'}\n",
    "\n",
    "response = requests.get(url, headers=headers)\n",
    "# Hier speichern wir aus der erhaltenen Antwort die ersten 10 Ergebnisse.\n",
    "# Beachte, dass die Struktur der Antwort je nach API sehr unterschiedlich ist und damit auch der Zugriff auf die gewünschten Daten ganz anders aussehen kann.\n",
    "top10 = response.json()['items'][0]['articles'][:10]\n",
    "top10"
   ]
  },
  {
   "cell_type": "markdown",
   "metadata": {},
   "source": [
    "Ermittle nun für jede Seite der Top 10 wie häufig diese zwischen dem 1. Januar und dem 30. November 2022 aufgerufen wurde."
   ]
  },
  {
   "cell_type": "code",
   "execution_count": 2,
   "metadata": {},
   "outputs": [],
   "source": [
    "# Code"
   ]
  },
  {
   "cell_type": "code",
   "execution_count": 16,
   "metadata": {
    "tags": [
     "skip-execution",
     "hide-input"
    ]
   },
   "outputs": [
    {
     "data": {
      "text/plain": [
       "{'Wikipedia:Hauptseite': [44262455,\n",
       "  36924036,\n",
       "  43388543,\n",
       "  34314471,\n",
       "  36495483,\n",
       "  35085703,\n",
       "  36638610,\n",
       "  43347061,\n",
       "  45682846,\n",
       "  40416186,\n",
       "  41663638],\n",
       " 'Spezial:Suche': [8903866,\n",
       "  7663019,\n",
       "  8253779,\n",
       "  8019271,\n",
       "  7448381,\n",
       "  7140473,\n",
       "  7042975,\n",
       "  7102671,\n",
       "  7107440,\n",
       "  7598127,\n",
       "  7267013],\n",
       " 'Jeffrey_Dahmer': [25149,\n",
       "  23631,\n",
       "  19592,\n",
       "  28361,\n",
       "  25032,\n",
       "  25538,\n",
       "  20772,\n",
       "  33370,\n",
       "  1525563,\n",
       "  3360663,\n",
       "  498380],\n",
       " 'Main_Page': [370821303,\n",
       "  355461972,\n",
       "  363534154,\n",
       "  345340304,\n",
       "  373874468,\n",
       "  426538027,\n",
       "  395058931,\n",
       "  410623033,\n",
       "  345382769,\n",
       "  409487242,\n",
       "  396711178],\n",
       " 'Günter_Lamprecht': [6942,\n",
       "  6365,\n",
       "  8405,\n",
       "  5003,\n",
       "  6508,\n",
       "  4905,\n",
       "  6926,\n",
       "  12272,\n",
       "  4900,\n",
       "  146141,\n",
       "  6390],\n",
       " 'Armageddon': [4250,\n",
       "  3111,\n",
       "  3937,\n",
       "  2799,\n",
       "  2787,\n",
       "  3506,\n",
       "  2389,\n",
       "  2809,\n",
       "  3697,\n",
       "  112474,\n",
       "  4651],\n",
       " 'Special:Search': [51386256,\n",
       "  47538973,\n",
       "  61230888,\n",
       "  57099022,\n",
       "  52423122,\n",
       "  48578060,\n",
       "  50003781,\n",
       "  48936945,\n",
       "  51458391,\n",
       "  60878555,\n",
       "  49106176],\n",
       " 'Elisabeth_von_Österreich-Ungarn': [310795,\n",
       "  113627,\n",
       "  53185,\n",
       "  139013,\n",
       "  74521,\n",
       "  58298,\n",
       "  78653,\n",
       "  72093,\n",
       "  172067,\n",
       "  817391,\n",
       "  171248],\n",
       " 'Wladimir_Wladimirowitsch_Putin': [159914,\n",
       "  2105921,\n",
       "  1576213,\n",
       "  313807,\n",
       "  208446,\n",
       "  118831,\n",
       "  113471,\n",
       "  116797,\n",
       "  245639,\n",
       "  253360,\n",
       "  129941]}"
      ]
     },
     "execution_count": 16,
     "metadata": {},
     "output_type": "execute_result"
    }
   ],
   "source": [
    "def format_data(input:list) -> list:\n",
    "    \"\"\"\n",
    "    Die Hilfsfunktion format_data nimmt sich aus der Eingabeliste alle Viewzahlen\n",
    "    und speichert diese in einer neuen Liste, das ist Teil des Data Cleanings und hilft uns später die gewünschten Daten einfach in einen Pandas Dataframe zu speichern.\n",
    "    :param input: Eine Liste von Dictionaries, in denen jeweils die Viewzahlen zu finden sind.\n",
    "    :return: Eine Liste die alle Viewzahlen enthält.\n",
    "    \"\"\"\n",
    "    hilfsliste = []\n",
    "    for entry in input:\n",
    "        hilfsliste.append(entry['views'])\n",
    "\n",
    "    return hilfsliste\n",
    "\n",
    "\"\"\"\n",
    "Um jetzt für alle Seiten der Top 10 die monatlichen Aufrufzahlen in einem bestimmten Zeitraum zu finden müssen wir eine neue GET-Abfrage stellen.\n",
    "Um die URL nicht für jede Seite einzeln zu definieren, arbeiten wir mit einem f-String. So können wir die Variablen project und seite einfach an der entsprechenden Stelle einsetzen.\n",
    "Wichtig ist hierbei, dass die Variablen zuvor festgelegt werden (innerhalb der for-Schleife).\n",
    "\"\"\"\n",
    "yearly_views = {}\n",
    "for entry in top10:\n",
    "    seite = entry['article']\n",
    "    project = entry['project']\n",
    "\n",
    "    url2= f'https://wikimedia.org/api/rest_v1/metrics/pageviews/per-article/{project}/all-access/all-agents/{seite}/monthly/2022010100/2022113000'\n",
    "\n",
    "    response2 = requests.get(url2, headers=headers)\n",
    "    #print(response2.json())\n",
    "    \"\"\"Es kann vorkommen, dass in der Top 10 Seiten auftauchen, die für diese Anfrage eine fehlerhafte Antwort liefern, deshalb überprüfen wir vor dem speichern in unser Dictionary, ob die Antwort den Status Code 200 hat, also OK ist.\"\"\"\n",
    "    if response2.status_code == 200:\n",
    "        yearly_views[seite] = format_data(response2.json()['items'])\n",
    "\n",
    "yearly_views"
   ]
  },
  {
   "cell_type": "markdown",
   "metadata": {},
   "source": [
    "Speichere die Ergebnisse in einem pandas DataFrame und stelle die Aufrufzahlen der Top 10 in dem Zeitraum grafisch dar."
   ]
  },
  {
   "cell_type": "code",
   "execution_count": 3,
   "metadata": {},
   "outputs": [],
   "source": [
    "# Code"
   ]
  },
  {
   "cell_type": "code",
   "execution_count": 4,
   "metadata": {
    "tags": [
     "skip-execution",
     "hide-input"
    ]
   },
   "outputs": [
    {
     "ename": "NameError",
     "evalue": "name 'yearly_views' is not defined",
     "output_type": "error",
     "traceback": [
      "\u001b[0;31m---------------------------------------------------------------------------\u001b[0m",
      "\u001b[0;31mNameError\u001b[0m                                 Traceback (most recent call last)",
      "Cell \u001b[0;32mIn [4], line 7\u001b[0m\n\u001b[1;32m      5\u001b[0m \u001b[38;5;28;01mimport\u001b[39;00m \u001b[38;5;21;01mpandas\u001b[39;00m \u001b[38;5;28;01mas\u001b[39;00m \u001b[38;5;21;01mpd\u001b[39;00m\n\u001b[1;32m      6\u001b[0m \u001b[38;5;28;01mimport\u001b[39;00m \u001b[38;5;21;01mmatplotlib\u001b[39;00m\n\u001b[0;32m----> 7\u001b[0m df \u001b[38;5;241m=\u001b[39m pd\u001b[38;5;241m.\u001b[39mDataFrame(yearly_views, index\u001b[38;5;241m=\u001b[39m[\u001b[38;5;124m'\u001b[39m\u001b[38;5;124mjan\u001b[39m\u001b[38;5;124m'\u001b[39m, \u001b[38;5;124m'\u001b[39m\u001b[38;5;124mfeb\u001b[39m\u001b[38;5;124m'\u001b[39m, \u001b[38;5;124m'\u001b[39m\u001b[38;5;124mmar\u001b[39m\u001b[38;5;124m'\u001b[39m, \u001b[38;5;124m'\u001b[39m\u001b[38;5;124mapr\u001b[39m\u001b[38;5;124m'\u001b[39m, \u001b[38;5;124m'\u001b[39m\u001b[38;5;124mmai\u001b[39m\u001b[38;5;124m'\u001b[39m, \u001b[38;5;124m'\u001b[39m\u001b[38;5;124mjun\u001b[39m\u001b[38;5;124m'\u001b[39m, \u001b[38;5;124m'\u001b[39m\u001b[38;5;124mjul\u001b[39m\u001b[38;5;124m'\u001b[39m, \u001b[38;5;124m'\u001b[39m\u001b[38;5;124maug\u001b[39m\u001b[38;5;124m'\u001b[39m, \u001b[38;5;124m'\u001b[39m\u001b[38;5;124msep\u001b[39m\u001b[38;5;124m'\u001b[39m, \u001b[38;5;124m'\u001b[39m\u001b[38;5;124mokt\u001b[39m\u001b[38;5;124m'\u001b[39m, \u001b[38;5;124m'\u001b[39m\u001b[38;5;124mnov\u001b[39m\u001b[38;5;124m'\u001b[39m])\n\u001b[1;32m      8\u001b[0m df\u001b[38;5;241m.\u001b[39mplot(kind\u001b[38;5;241m=\u001b[39m\u001b[38;5;124m'\u001b[39m\u001b[38;5;124mline\u001b[39m\u001b[38;5;124m'\u001b[39m, logy \u001b[38;5;241m=\u001b[39m \u001b[38;5;28;01mTrue\u001b[39;00m)\n\u001b[1;32m      9\u001b[0m df\n",
      "\u001b[0;31mNameError\u001b[0m: name 'yearly_views' is not defined"
     ]
    }
   ],
   "source": [
    "\"\"\"\n",
    "Jetzt können wir unsere Ergebnisse in einen Pandas Dataframe übertragen und anschließend darstellen.\n",
    "Ich habe mich hier für eine logarithmische Darstellung der Y-Achse entschieden, da sonst die sehr häufig aber relativ konstanten besuchten Haupt- und Suchseiten die seltener aber wesentlich trendabhängiger besuchten Sonderseiten überschatten würden.\n",
    "\"\"\"\n",
    "import pandas as pd\n",
    "import matplotlib\n",
    "df = pd.DataFrame(yearly_views, index=['jan', 'feb', 'mar', 'apr', 'mai', 'jun', 'jul', 'aug', 'sep', 'okt', 'nov'])\n",
    "df.plot(kind='line', logy = True)\n",
    "df"
   ]
  },
  {
   "cell_type": "markdown",
   "metadata": {},
   "source": [
    "## REST-Abfragen auf normalen Webseiten"
   ]
  },
  {
   "cell_type": "markdown",
   "metadata": {},
   "source": [
    "Stelle eine get-request an deine Liebelingswebseite und gib den Status Code der Antwort aus."
   ]
  },
  {
   "cell_type": "code",
   "execution_count": 5,
   "metadata": {},
   "outputs": [],
   "source": [
    "# Code"
   ]
  },
  {
   "cell_type": "code",
   "execution_count": 1,
   "metadata": {
    "collapsed": true,
    "tags": [
     "skip-execution",
     "hide-input"
    ]
   },
   "outputs": [
    {
     "data": {
      "text/plain": [
       "200"
      ]
     },
     "execution_count": 1,
     "metadata": {},
     "output_type": "execute_result"
    }
   ],
   "source": [
    "\"\"\"\n",
    "Wie oben bereits erwähnt, lassen sich REST-Abfragen an jede gültige Webseite stellen. Wie zu sehen ist, ist auch der Status Code in Ordnung.\n",
    "Im Grunde funktionieren auch Webbrowser so, dass sie GET-Anfragen an die jeweiligen Seiten stellen und als Antwort einen HTML-Text erhalten, der dann dargestellt wird.\n",
    "\"\"\"\n",
    "import requests\n",
    "url = \"https://www.portalnovosti.com/ko-kain-klan\"\n",
    "\n",
    "response = requests.get(url)\n",
    "\n",
    "response.status_code"
   ]
  },
  {
   "cell_type": "markdown",
   "metadata": {},
   "source": [
    "Gib nun den Inhalt der Antwort aus."
   ]
  },
  {
   "cell_type": "code",
   "execution_count": null,
   "metadata": {},
   "outputs": [],
   "source": [
    "# Code"
   ]
  },
  {
   "cell_type": "code",
   "execution_count": 6,
   "metadata": {
    "tags": [
     "skip-execution",
     "hide-input"
    ]
   },
   "outputs": [
    {
     "ename": "NameError",
     "evalue": "name 'response' is not defined",
     "output_type": "error",
     "traceback": [
      "\u001b[0;31m---------------------------------------------------------------------------\u001b[0m",
      "\u001b[0;31mNameError\u001b[0m                                 Traceback (most recent call last)",
      "Cell \u001b[0;32mIn [6], line 4\u001b[0m\n\u001b[1;32m      1\u001b[0m \u001b[38;5;124;03m\"\"\"\u001b[39;00m\n\u001b[1;32m      2\u001b[0m \u001b[38;5;124;03mWie sich hier aber zeigt, sind HTML-Responses zur Datenakquirierung wenig geeignet, da sich Daten nur sehr aufwändig aus HTML holen lassen.\u001b[39;00m\n\u001b[1;32m      3\u001b[0m \u001b[38;5;124;03m\"\"\"\u001b[39;00m\n\u001b[0;32m----> 4\u001b[0m response\u001b[38;5;241m.\u001b[39mcontent\n",
      "\u001b[0;31mNameError\u001b[0m: name 'response' is not defined"
     ]
    }
   ],
   "source": [
    "\"\"\"\n",
    "Wie sich hier aber zeigt, sind HTML-Responses zur Datenakquirierung wenig geeignet, da sich Daten nur sehr aufwändig aus HTML holen lassen.\n",
    "\"\"\"\n",
    "response.content\n"
   ]
  },
  {
   "cell_type": "markdown",
   "metadata": {},
   "source": [
    "Versuche den eben ausgeben Inhalt im JSON-Format auszugeben."
   ]
  },
  {
   "cell_type": "code",
   "execution_count": 7,
   "metadata": {},
   "outputs": [],
   "source": [
    "# Code"
   ]
  },
  {
   "cell_type": "code",
   "execution_count": 2,
   "metadata": {
    "tags": [
     "skip-execution",
     "hide-input"
    ]
   },
   "outputs": [
    {
     "ename": "JSONDecodeError",
     "evalue": "Expecting value: line 1 column 1 (char 0)",
     "output_type": "error",
     "traceback": [
      "\u001b[0;31m---------------------------------------------------------------------------\u001b[0m",
      "\u001b[0;31mJSONDecodeError\u001b[0m                           Traceback (most recent call last)",
      "File \u001b[0;32m~/anaconda3/envs/rise-environment/lib/python3.10/site-packages/requests/models.py:971\u001b[0m, in \u001b[0;36mResponse.json\u001b[0;34m(self, **kwargs)\u001b[0m\n\u001b[1;32m    970\u001b[0m \u001b[38;5;28;01mtry\u001b[39;00m:\n\u001b[0;32m--> 971\u001b[0m     \u001b[38;5;28;01mreturn\u001b[39;00m \u001b[43mcomplexjson\u001b[49m\u001b[38;5;241;43m.\u001b[39;49m\u001b[43mloads\u001b[49m\u001b[43m(\u001b[49m\u001b[38;5;28;43mself\u001b[39;49m\u001b[38;5;241;43m.\u001b[39;49m\u001b[43mtext\u001b[49m\u001b[43m,\u001b[49m\u001b[43m \u001b[49m\u001b[38;5;241;43m*\u001b[39;49m\u001b[38;5;241;43m*\u001b[39;49m\u001b[43mkwargs\u001b[49m\u001b[43m)\u001b[49m\n\u001b[1;32m    972\u001b[0m \u001b[38;5;28;01mexcept\u001b[39;00m JSONDecodeError \u001b[38;5;28;01mas\u001b[39;00m e:\n\u001b[1;32m    973\u001b[0m     \u001b[38;5;66;03m# Catch JSON-related errors and raise as requests.JSONDecodeError\u001b[39;00m\n\u001b[1;32m    974\u001b[0m     \u001b[38;5;66;03m# This aliases json.JSONDecodeError and simplejson.JSONDecodeError\u001b[39;00m\n",
      "File \u001b[0;32m~/anaconda3/envs/rise-environment/lib/python3.10/json/__init__.py:346\u001b[0m, in \u001b[0;36mloads\u001b[0;34m(s, cls, object_hook, parse_float, parse_int, parse_constant, object_pairs_hook, **kw)\u001b[0m\n\u001b[1;32m    343\u001b[0m \u001b[38;5;28;01mif\u001b[39;00m (\u001b[38;5;28mcls\u001b[39m \u001b[38;5;129;01mis\u001b[39;00m \u001b[38;5;28;01mNone\u001b[39;00m \u001b[38;5;129;01mand\u001b[39;00m object_hook \u001b[38;5;129;01mis\u001b[39;00m \u001b[38;5;28;01mNone\u001b[39;00m \u001b[38;5;129;01mand\u001b[39;00m\n\u001b[1;32m    344\u001b[0m         parse_int \u001b[38;5;129;01mis\u001b[39;00m \u001b[38;5;28;01mNone\u001b[39;00m \u001b[38;5;129;01mand\u001b[39;00m parse_float \u001b[38;5;129;01mis\u001b[39;00m \u001b[38;5;28;01mNone\u001b[39;00m \u001b[38;5;129;01mand\u001b[39;00m\n\u001b[1;32m    345\u001b[0m         parse_constant \u001b[38;5;129;01mis\u001b[39;00m \u001b[38;5;28;01mNone\u001b[39;00m \u001b[38;5;129;01mand\u001b[39;00m object_pairs_hook \u001b[38;5;129;01mis\u001b[39;00m \u001b[38;5;28;01mNone\u001b[39;00m \u001b[38;5;129;01mand\u001b[39;00m \u001b[38;5;129;01mnot\u001b[39;00m kw):\n\u001b[0;32m--> 346\u001b[0m     \u001b[38;5;28;01mreturn\u001b[39;00m \u001b[43m_default_decoder\u001b[49m\u001b[38;5;241;43m.\u001b[39;49m\u001b[43mdecode\u001b[49m\u001b[43m(\u001b[49m\u001b[43ms\u001b[49m\u001b[43m)\u001b[49m\n\u001b[1;32m    347\u001b[0m \u001b[38;5;28;01mif\u001b[39;00m \u001b[38;5;28mcls\u001b[39m \u001b[38;5;129;01mis\u001b[39;00m \u001b[38;5;28;01mNone\u001b[39;00m:\n",
      "File \u001b[0;32m~/anaconda3/envs/rise-environment/lib/python3.10/json/decoder.py:337\u001b[0m, in \u001b[0;36mJSONDecoder.decode\u001b[0;34m(self, s, _w)\u001b[0m\n\u001b[1;32m    333\u001b[0m \u001b[38;5;124;03m\"\"\"Return the Python representation of ``s`` (a ``str`` instance\u001b[39;00m\n\u001b[1;32m    334\u001b[0m \u001b[38;5;124;03mcontaining a JSON document).\u001b[39;00m\n\u001b[1;32m    335\u001b[0m \n\u001b[1;32m    336\u001b[0m \u001b[38;5;124;03m\"\"\"\u001b[39;00m\n\u001b[0;32m--> 337\u001b[0m obj, end \u001b[38;5;241m=\u001b[39m \u001b[38;5;28;43mself\u001b[39;49m\u001b[38;5;241;43m.\u001b[39;49m\u001b[43mraw_decode\u001b[49m\u001b[43m(\u001b[49m\u001b[43ms\u001b[49m\u001b[43m,\u001b[49m\u001b[43m \u001b[49m\u001b[43midx\u001b[49m\u001b[38;5;241;43m=\u001b[39;49m\u001b[43m_w\u001b[49m\u001b[43m(\u001b[49m\u001b[43ms\u001b[49m\u001b[43m,\u001b[49m\u001b[43m \u001b[49m\u001b[38;5;241;43m0\u001b[39;49m\u001b[43m)\u001b[49m\u001b[38;5;241;43m.\u001b[39;49m\u001b[43mend\u001b[49m\u001b[43m(\u001b[49m\u001b[43m)\u001b[49m\u001b[43m)\u001b[49m\n\u001b[1;32m    338\u001b[0m end \u001b[38;5;241m=\u001b[39m _w(s, end)\u001b[38;5;241m.\u001b[39mend()\n",
      "File \u001b[0;32m~/anaconda3/envs/rise-environment/lib/python3.10/json/decoder.py:355\u001b[0m, in \u001b[0;36mJSONDecoder.raw_decode\u001b[0;34m(self, s, idx)\u001b[0m\n\u001b[1;32m    354\u001b[0m \u001b[38;5;28;01mexcept\u001b[39;00m \u001b[38;5;167;01mStopIteration\u001b[39;00m \u001b[38;5;28;01mas\u001b[39;00m err:\n\u001b[0;32m--> 355\u001b[0m     \u001b[38;5;28;01mraise\u001b[39;00m JSONDecodeError(\u001b[38;5;124m\"\u001b[39m\u001b[38;5;124mExpecting value\u001b[39m\u001b[38;5;124m\"\u001b[39m, s, err\u001b[38;5;241m.\u001b[39mvalue) \u001b[38;5;28;01mfrom\u001b[39;00m \u001b[38;5;28mNone\u001b[39m\n\u001b[1;32m    356\u001b[0m \u001b[38;5;28;01mreturn\u001b[39;00m obj, end\n",
      "\u001b[0;31mJSONDecodeError\u001b[0m: Expecting value: line 1 column 1 (char 0)",
      "\nDuring handling of the above exception, another exception occurred:\n",
      "\u001b[0;31mJSONDecodeError\u001b[0m                           Traceback (most recent call last)",
      "Cell \u001b[0;32mIn [2], line 2\u001b[0m\n\u001b[1;32m      1\u001b[0m \u001b[38;5;66;03m# Dein Code\u001b[39;00m\n\u001b[0;32m----> 2\u001b[0m response\u001b[38;5;241m.\u001b[39mjson()\n",
      "File \u001b[0;32m~/anaconda3/envs/rise-environment/lib/python3.10/site-packages/requests/models.py:975\u001b[0m, in \u001b[0;36mResponse.json\u001b[0;34m(self, **kwargs)\u001b[0m\n\u001b[1;32m    971\u001b[0m     \u001b[38;5;28;01mreturn\u001b[39;00m complexjson\u001b[38;5;241m.\u001b[39mloads(\u001b[38;5;28mself\u001b[39m\u001b[38;5;241m.\u001b[39mtext, \u001b[38;5;241m*\u001b[39m\u001b[38;5;241m*\u001b[39mkwargs)\n\u001b[1;32m    972\u001b[0m \u001b[38;5;28;01mexcept\u001b[39;00m JSONDecodeError \u001b[38;5;28;01mas\u001b[39;00m e:\n\u001b[1;32m    973\u001b[0m     \u001b[38;5;66;03m# Catch JSON-related errors and raise as requests.JSONDecodeError\u001b[39;00m\n\u001b[1;32m    974\u001b[0m     \u001b[38;5;66;03m# This aliases json.JSONDecodeError and simplejson.JSONDecodeError\u001b[39;00m\n\u001b[0;32m--> 975\u001b[0m     \u001b[38;5;28;01mraise\u001b[39;00m RequestsJSONDecodeError(e\u001b[38;5;241m.\u001b[39mmsg, e\u001b[38;5;241m.\u001b[39mdoc, e\u001b[38;5;241m.\u001b[39mpos)\n",
      "\u001b[0;31mJSONDecodeError\u001b[0m: Expecting value: line 1 column 1 (char 0)"
     ]
    }
   ],
   "source": [
    "\"\"\"\n",
    "Eine Response die HTML beinhaltet, kann logischerweise nicht als JSON dargestellt werden.\n",
    "\"\"\"\n",
    "response.json()\n",
    "\n",
    "\"\"\"\n",
    "Um zu überprüfen, um welches Format es sich in der Response handelt, lohnt ein Blick in den Header. Hier muss nach dem Eintrag 'Content-Type' gesucht werden.\n",
    "\"\"\"\n",
    "response.headers\n",
    "response.headers['Content-Type']"
   ]
  }
 ],
 "metadata": {
  "celltoolbar": "Tags",
  "kernelspec": {
   "display_name": "Python 3 (ipykernel)",
   "language": "python",
   "name": "python3"
  },
  "language_info": {
   "codemirror_mode": {
    "name": "ipython",
    "version": 3
   },
   "file_extension": ".py",
   "mimetype": "text/x-python",
   "name": "python",
   "nbconvert_exporter": "python",
   "pygments_lexer": "ipython3",
   "version": "3.9.16"
  }
 },
 "nbformat": 4,
 "nbformat_minor": 1
}
