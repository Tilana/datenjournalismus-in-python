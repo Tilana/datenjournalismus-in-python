{
 "cells": [
  {
   "cell_type": "markdown",
   "id": "d1bfe66b",
   "metadata": {},
   "source": [
    "# 1. Übungsblatt\n",
    "\n",
    "In diesem Übungsblatt decken wir die Grundlagen in Python ab. \n",
    "\n",
    "\n",
    "Die Abgabe ist bis zum 17. November um 24 Uhr über Moodle mögliche.\n",
    "Bitte gebt Python Code oder Jupyternotebooks ab.\n"
   ]
  },
  {
   "cell_type": "markdown",
   "id": "579315fe",
   "metadata": {},
   "source": [
    "## Quiztool\n",
    "\n",
    "Baue ein Quiztool für Freund:innen oder Familie.\n",
    "Inspiration für Fragen gibt es hier: https://www.gapminder.org/ aber ihr dürft euch auch selbst Fragen und Antworten audenken."
   ]
  },
  {
   "cell_type": "markdown",
   "id": "4706a77c",
   "metadata": {},
   "source": [
    "**1.** Zeige eine Frage mit 4 Antwortmöglichkeiten. Ein:e Nutzer:in kann 1,2,3,4 eingeben und bekommt zurück ob er:sie richtig liegt. \n",
    "\n"
   ]
  },
  {
   "cell_type": "code",
   "execution_count": null,
   "id": "78408bf3",
   "metadata": {},
   "outputs": [],
   "source": [
    "# Code\n"
   ]
  },
  {
   "cell_type": "markdown",
   "id": "251bb5b6",
   "metadata": {},
   "source": [
    "**2.** Gib einen Fehler aus, falls etwas anderers als die Antwortmöglichkeiten 1,2,3 oder 4 eingegeben wird"
   ]
  },
  {
   "cell_type": "code",
   "execution_count": null,
   "id": "7fcbe8af",
   "metadata": {},
   "outputs": [],
   "source": [
    "# Code"
   ]
  },
  {
   "cell_type": "markdown",
   "id": "0669f046",
   "metadata": {},
   "source": [
    "**3.** Wiederhole die Frage bis die richtige Antwort gefunden wurde"
   ]
  },
  {
   "cell_type": "code",
   "execution_count": null,
   "id": "3eeae56b",
   "metadata": {},
   "outputs": [],
   "source": [
    "# Code"
   ]
  },
  {
   "cell_type": "markdown",
   "id": "8bb482ef",
   "metadata": {},
   "source": [
    "# Luftdaten in Leipzig\n",
    "\n"
   ]
  },
  {
   "cell_type": "code",
   "execution_count": null,
   "id": "00b6cb1c",
   "metadata": {},
   "outputs": [],
   "source": []
  }
 ],
 "metadata": {
  "celltoolbar": "Tags",
  "kernelspec": {
   "display_name": "Python 3 (ipykernel)",
   "language": "python",
   "name": "python3"
  },
  "language_info": {
   "codemirror_mode": {
    "name": "ipython",
    "version": 3
   },
   "file_extension": ".py",
   "mimetype": "text/x-python",
   "name": "python",
   "nbconvert_exporter": "python",
   "pygments_lexer": "ipython3",
   "version": "3.9.15"
  },
  "livereveal": {
   "autolaunch": true
  },
  "vscode": {
   "interpreter": {
    "hash": "f9f85f796d01129d0dd105a088854619f454435301f6ffec2fea96ecbd9be4ac"
   }
  }
 },
 "nbformat": 4,
 "nbformat_minor": 5
}
