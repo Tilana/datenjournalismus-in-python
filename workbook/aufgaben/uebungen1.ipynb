{
 "cells": [
  {
   "cell_type": "markdown",
   "id": "d1bfe66b",
   "metadata": {},
   "source": [
    "# Operatoren, Datentypen & built-in Functions \n",
    "\n",
    "\n",
    "\n"
   ]
  },
  {
   "cell_type": "markdown",
   "id": "4706a77c",
   "metadata": {},
   "source": [
    "**Dividiere zwei Zahlen. Was passiert wenn du durch 0 teilst?**"
   ]
  },
  {
   "cell_type": "code",
   "execution_count": null,
   "id": "78408bf3",
   "metadata": {},
   "outputs": [],
   "source": [
    "# Code\n"
   ]
  },
  {
   "cell_type": "markdown",
   "id": "f2584587",
   "metadata": {},
   "source": [
    "**Welchen Datentyp haben die folgenden Variablen?**\n",
    "(im Zweifel einfach Ausprobieren)\n",
    "\n",
    "```\n",
    "a = -23\n",
    "b = 14.99999\n",
    "c = 'student_548399'\n",
    "d = 0.0\n",
    "e = True\n",
    "f = \"546\"\n",
    "g = -9.87\n",
    "h = False\n",
    "```"
   ]
  },
  {
   "cell_type": "markdown",
   "id": "251bb5b6",
   "metadata": {},
   "source": [
    "**Speichere deinen Namen als Variabel und gib ihn auf der Konsole aus**"
   ]
  },
  {
   "cell_type": "code",
   "execution_count": null,
   "id": "7fcbe8af",
   "metadata": {},
   "outputs": [],
   "source": [
    "# Code"
   ]
  },
  {
   "cell_type": "code",
   "execution_count": null,
   "id": "e01c0841",
   "metadata": {
    "tags": [
     "hide-input"
    ]
   },
   "outputs": [],
   "source": [
    "# Mögliche Lösung\n",
    "name = 'Eduard'\n",
    "print(name)"
   ]
  },
  {
   "cell_type": "markdown",
   "id": "fa400639",
   "metadata": {},
   "source": [
    "**Erstelle ein Programm, das einen beliebigen Namen als Eingabe entgegennimmt und 'Hallo < name >' auf der Konsole ausgibt.**"
   ]
  },
  {
   "cell_type": "code",
   "execution_count": null,
   "id": "ac55b348",
   "metadata": {},
   "outputs": [],
   "source": [
    "# Code"
   ]
  },
  {
   "cell_type": "code",
   "execution_count": null,
   "id": "3ae326f6",
   "metadata": {
    "tags": [
     "hide-input",
     "skip-execution"
    ]
   },
   "outputs": [],
   "source": [
    "# Mögliche Lösung\n",
    "name = input()\n",
    "print('Hallo', name)"
   ]
  },
  {
   "cell_type": "markdown",
   "id": "c3a6b752",
   "metadata": {},
   "source": [
    "**Was ist das Ergebnis des folgenden Codes?**"
   ]
  },
  {
   "cell_type": "code",
   "execution_count": null,
   "id": "74c5a8af",
   "metadata": {
    "tags": [
     "skip-execution"
    ]
   },
   "outputs": [],
   "source": [
    "3 + 2 * 3 - (9 - 8) * 2\n"
   ]
  },
  {
   "cell_type": "markdown",
   "id": "56c3e74b",
   "metadata": {},
   "source": [
    "**Welche der folgenden Variablennamen sind erlaubt?**\n",
    "(im Zweifel einfach Ausprobieren)\n",
    "\n",
    "```\n",
    "_570 = 'abc'\n",
    "\n",
    "test%variabel = 'abc'\n",
    "\n",
    "12 = 'abc'\n",
    "\n",
    "VARIABEL = 'abc'\n",
    "\n",
    "_ = 'abc'\n",
    "\n",
    "X = 'abc'\n",
    "\n",
    "print = 'abc'\n",
    "\n",
    "test_123 = 'abc'\n",
    "\n",
    "```"
   ]
  },
  {
   "cell_type": "code",
   "execution_count": null,
   "id": "ace1ff5a",
   "metadata": {},
   "outputs": [],
   "source": []
  },
  {
   "cell_type": "markdown",
   "id": "a75a744a",
   "metadata": {},
   "source": [
    "**Schreibe ein Programm, das 20 Meter pro Sekunde (m/s) in Kilometer pro Stunde (km/h) umwandelt**"
   ]
  },
  {
   "cell_type": "code",
   "execution_count": null,
   "id": "bc8bab35",
   "metadata": {},
   "outputs": [],
   "source": [
    "# Code\n",
    "meter_pro_sekunde = 20\n",
    "kilometer_pro_stunde = meter_pro_sekunde * 3.6\n",
    "print(kilometer_pro_stunde)"
   ]
  },
  {
   "cell_type": "code",
   "execution_count": null,
   "id": "9b600916",
   "metadata": {
    "scrolled": true,
    "tags": [
     "hide-input"
    ]
   },
   "outputs": [],
   "source": [
    "# Mögliche Lösung\n",
    "meter_pro_sek = 20\n",
    "km_pro_std = meter_pro_sek * 3.6\n",
    "print(km_pro_std)"
   ]
  },
  {
   "cell_type": "markdown",
   "id": "8bb482ef",
   "metadata": {},
   "source": [
    "**Schreibe ein Programm, das eine beliebiege Meter pro Sekunde (m/s) Eingabe in Kilometer pro Stunde (km/h) umwandelt**"
   ]
  },
  {
   "cell_type": "code",
   "execution_count": null,
   "id": "bf16bf9f",
   "metadata": {},
   "outputs": [],
   "source": [
    "# Code\n",
    "meter_pro_sekunde = float(input('Wie viel wollt ihr haben?'))\n",
    "kilometer_pro_stunde = meter_pro_sekunde * 3.6\n",
    "print(kilometer_pro_stunde)\n"
   ]
  },
  {
   "cell_type": "code",
   "execution_count": null,
   "id": "d8881c56",
   "metadata": {
    "scrolled": true,
    "tags": [
     "hide-input",
     "skip-execution"
    ]
   },
   "outputs": [],
   "source": [
    "# Mögliche Lösung\n",
    "meter_pro_sek = float(input())\n",
    "km_pro_std = meter_pro_sek * 3.6\n",
    "print(km_pro_std)"
   ]
  },
  {
   "cell_type": "code",
   "execution_count": null,
   "id": "00b6cb1c",
   "metadata": {},
   "outputs": [],
   "source": []
  }
 ],
 "metadata": {
  "celltoolbar": "Tags",
  "kernelspec": {
   "display_name": "Python 3 (ipykernel)",
   "language": "python",
   "name": "python3"
  },
  "language_info": {
   "codemirror_mode": {
    "name": "ipython",
    "version": 3
   },
   "file_extension": ".py",
   "mimetype": "text/x-python",
   "name": "python",
   "nbconvert_exporter": "python",
   "pygments_lexer": "ipython3",
   "version": "3.10.6"
  },
  "livereveal": {
   "autolaunch": true
  },
  "vscode": {
   "interpreter": {
    "hash": "f9f85f796d01129d0dd105a088854619f454435301f6ffec2fea96ecbd9be4ac"
   }
  }
 },
 "nbformat": 4,
 "nbformat_minor": 5
}
