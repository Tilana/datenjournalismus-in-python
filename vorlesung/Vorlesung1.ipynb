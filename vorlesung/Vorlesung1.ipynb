{
 "cells": [
  {
   "cell_type": "markdown",
   "id": "71c14673",
   "metadata": {
    "slideshow": {
     "slide_type": "slide"
    }
   },
   "source": [
    "# Modellierung und Programmierung\n",
    "\n",
    "\n",
    "### Natalie Widmann\n",
    "\n",
    "\n",
    "\n",
    "\n",
    "Wintersemester 2022 / 2023\n",
    "\n",
    "\n",
    "Universität Leipzig\n",
    "\n",
    "\n",
    "\n"
   ]
  },
  {
   "cell_type": "markdown",
   "id": "d9a3430d",
   "metadata": {
    "slideshow": {
     "slide_type": "slide"
    }
   },
   "source": [
    "# Datenjournalismus in Python - \n",
    "# Eine praktische Einführung in die Programmierung\n",
    "\n",
    "\n",
    "### Natalie Widmann\n",
    "\n",
    "\n",
    "\n",
    "\n",
    "Wintersemester 2022 / 2023\n",
    "\n",
    "\n",
    "Universität Leipzig\n",
    "\n",
    "\n",
    "\n"
   ]
  },
  {
   "cell_type": "markdown",
   "id": "f6ca51e0",
   "metadata": {
    "slideshow": {
     "slide_type": "slide"
    }
   },
   "source": [
    "# Agenda\n",
    "\n",
    "1. Kurs: Ziele & Organisation\n",
    "2. Motivation - Warum überhaupt programmieren lernen?\n",
    "3. Python als Taschenrechner - Oder wie reich ist Jeff Bezos?\n",
    "4. Von der Praxis zur Theorie\n",
    "    - Variablen\n",
    "    - Datentypen\n",
    "    - Inbuilt Functions\n",
    "    - Fehlermeldungen\n",
    "\n",
    "\n"
   ]
  },
  {
   "cell_type": "markdown",
   "id": "aa222d21",
   "metadata": {
    "slideshow": {
     "slide_type": "slide"
    }
   },
   "source": [
    "# Motivation - Warum überhaupt programmieren lernen?\n",
    "\n",
    "\n"
   ]
  },
  {
   "cell_type": "markdown",
   "id": "dad2ecd6",
   "metadata": {
    "cell_style": "split",
    "slideshow": {
     "slide_type": "slide"
    }
   },
   "source": [
    "## Daten als Grundlage für Journalismus\n",
    "\n",
    "Journalismus basiert fast immer auf Daten. Manchmal sind es nur einzelne Zahlen.\n",
    "Aber immer öfter\n",
    "Daten helfen uns:\n",
    " \n",
    "\n",
    "- Trends zu verstehen\n",
    "- Dimensionen greifbar zu machen\n",
    "- Ereignisse in Kontext zu setzen\n",
    "- in Interaktion mit Leser:innen zu treten"
   ]
  },
  {
   "cell_type": "markdown",
   "id": "9e098307",
   "metadata": {
    "cell_style": "split",
    "slideshow": {
     "slide_type": "-"
    }
   },
   "source": [
    "![Radmesser](../imgs/radmesser_tagesspiegel.png)"
   ]
  },
  {
   "cell_type": "markdown",
   "id": "1737b1e6",
   "metadata": {
    "cell_style": "split",
    "slideshow": {
     "slide_type": "slide"
    }
   },
   "source": [
    "![Klimawandel - Morgenpost](../imgs/klimawandel_morgenpost.png)"
   ]
  },
  {
   "cell_type": "markdown",
   "id": "884a10f9",
   "metadata": {
    "cell_style": "split",
    "slideshow": {
     "slide_type": "-"
    }
   },
   "source": [
    "![Merkel nach Zahlen](../imgs/asylanträge_merkel_br.png)"
   ]
  },
  {
   "cell_type": "markdown",
   "id": "3150a977",
   "metadata": {
    "cell_style": "split",
    "slideshow": {
     "slide_type": "slide"
    }
   },
   "source": [
    "## Daten, Daten, Daten\n",
    "\n",
    "\n",
    "Manchmal ist die Datenflut so überwältigend, dass Recherchen nur mit technischen Mitteln möglich sind.\n",
    "\n",
    "### Paradise Paper\n",
    "\n",
    "- 21 verschiedene Datenquellen\n",
    "- ca. 13,4 Millionen Dokumente oder 1,4 Terrabyte an Daten\n",
    "- mehr als 380 Journalist:innen aus 67 Ländern\n",
    " \n"
   ]
  },
  {
   "cell_type": "markdown",
   "id": "46e7e6e9",
   "metadata": {
    "cell_style": "split"
   },
   "source": [
    "![Paradisepaper](../imgs/pardisepaper.png)"
   ]
  },
  {
   "cell_type": "markdown",
   "id": "c0ce46c5",
   "metadata": {
    "slideshow": {
     "slide_type": "slide"
    }
   },
   "source": [
    "## Direkte Auswertung & Schnelles Prototyping\n",
    "\n",
    "Auch wenn ihr ein Team mit Entwickler:innen, Designer:innen und Co habt, könnt ihr Ideen schnell ausprobieren, Stichprobendaten auswerten und euer Team davon überzeugen.\n",
    "\n",
    "\n",
    "## Digitale Produktentwicklung\n",
    "\n",
    "- Aufwände abschätzen\n",
    "- Gemeinsame Sprache mit Entwickler:innen\n",
    "\n",
    "## Möglichkeiten kennen und kreativ sein\n",
    "\n",
    "- Machinelles Lernen als Hilfsmittel in der Recherche\n",
    "- Algortihmischen Bias aufdecken\n",
    "- aktueller Stand von Deep Fake Technologie\n"
   ]
  },
  {
   "cell_type": "markdown",
   "id": "0349b25c",
   "metadata": {
    "cell_style": "split",
    "slideshow": {
     "slide_type": "slide"
    }
   },
   "source": [
    "    \n",
    "![BR Fake Reviews](../imgs/fakereviews_br.png)\n",
    "\n",
    "https://interaktiv.br.de/falsche-google-bewertungen/\n",
    "\n",
    "\n",
    "\n",
    "\n"
   ]
  },
  {
   "cell_type": "markdown",
   "id": "b7d7e50b",
   "metadata": {
    "cell_style": "split"
   },
   "source": [
    "![Spy Planes](../imgs/spyplanes_buzzfeed.png)\n",
    "\n",
    "https://www.buzzfeednews.com/article/peteraldhous/hidden-spy-planes\n",
    "\n",
    "\n",
    "\n"
   ]
  },
  {
   "cell_type": "markdown",
   "id": "281f9b8e",
   "metadata": {
    "cell_style": "split",
    "slideshow": {
     "slide_type": "slide"
    }
   },
   "source": [
    "![Machine Bias](../imgs/machinebias_propublica.png)\n",
    "\n",
    "https://www.propublica.org/article/machine-bias-risk-assessments-in-criminal-sentencing\n",
    "\n",
    "\n",
    "\n",
    "\n",
    "\n"
   ]
  },
  {
   "cell_type": "markdown",
   "id": "43529459",
   "metadata": {
    "cell_style": "split"
   },
   "source": [
    "![Dalle](../imgs/dalle.png)\n",
    "\n",
    "https://openai.com/dall-e-2/\n",
    "\n",
    "\n",
    "\n",
    "\n"
   ]
  },
  {
   "cell_type": "markdown",
   "id": "09a0f62d",
   "metadata": {
    "cell_style": "split",
    "slideshow": {
     "slide_type": "slide"
    }
   },
   "source": [
    "# Python\n",
    "\n",
    "Python wurde 1991 von Guido van Rossom veröffentlicht und ist mittlerweile eine der beliebtesten Programmiersprachen. Gründe dafür sind:\n",
    "\n",
    "- die **Vielseitigkeit** - von Datenanalyse und Visualisierung über Webentwicklung bis hin zu maschinellem Lernen\n",
    "\n",
    "- die **Einfachheit** - Python ist übersichtlich und leicht zu lernen.\n",
    "\n",
    "- **Open Source Community** - die aktive Community behebt Fehler, entwickelt Python stets weiter und hilft bei Problemen\n"
   ]
  },
  {
   "cell_type": "markdown",
   "id": "f870219a",
   "metadata": {
    "cell_style": "split",
    "slideshow": {
     "slide_type": "-"
    }
   },
   "source": [
    "![RedMonk Programmiersprachen Ranking](../imgs/redmonk.png)\n",
    "\n",
    "\n",
    "\n",
    "\n",
    "\n"
   ]
  },
  {
   "cell_type": "markdown",
   "id": "98d19586",
   "metadata": {
    "cell_style": "center",
    "slideshow": {
     "slide_type": "slide"
    }
   },
   "source": [
    "# Unser erster Code"
   ]
  },
  {
   "cell_type": "code",
   "execution_count": null,
   "id": "8c1e569a",
   "metadata": {
    "slideshow": {
     "slide_type": "-"
    }
   },
   "outputs": [],
   "source": [
    "print('Hello World - Data Journalism in Leipzig!')"
   ]
  },
  {
   "cell_type": "markdown",
   "id": "3cca3719",
   "metadata": {
    "slideshow": {
     "slide_type": "slide"
    }
   },
   "source": [
    "# Python als Taschenrechner\n",
    "\n",
    "Python kann als einfacher Taschenrechner verwendet werden.\n",
    "\n",
    "\n",
    "Die Syntax:\n",
    "\n",
    "- Die Operatoren +, -, * und / werden wie gewohnt verwendet\n",
    "- Mit ** wird potenziert\n",
    "- Mit Klammern werden Ausdrücke gruppiert\n",
    "- Mit \\# beginnt ein Kommentar.\n",
    "  Kommentare dienen beschreiben de Code und werden nicht ausgeführt\n",
    "\n",
    "        "
   ]
  },
  {
   "cell_type": "code",
   "execution_count": null,
   "id": "b8f5763f",
   "metadata": {
    "slideshow": {
     "slide_type": "slide"
    }
   },
   "outputs": [],
   "source": [
    "# Addition\n",
    "5 + 6"
   ]
  },
  {
   "cell_type": "code",
   "execution_count": null,
   "id": "b0adfd86",
   "metadata": {
    "slideshow": {
     "slide_type": "fragment"
    }
   },
   "outputs": [],
   "source": [
    "# Subtraktion\n",
    "20 - 4"
   ]
  },
  {
   "cell_type": "code",
   "execution_count": null,
   "id": "21a79966",
   "metadata": {
    "slideshow": {
     "slide_type": "fragment"
    }
   },
   "outputs": [],
   "source": [
    "# Multiplikation\n",
    "2 * 6"
   ]
  },
  {
   "cell_type": "code",
   "execution_count": null,
   "id": "39e06c4c",
   "metadata": {
    "slideshow": {
     "slide_type": "fragment"
    }
   },
   "outputs": [],
   "source": [
    "# Division\n",
    "9 / 2"
   ]
  },
  {
   "cell_type": "code",
   "execution_count": null,
   "id": "93c3ca2b",
   "metadata": {
    "slideshow": {
     "slide_type": "fragment"
    }
   },
   "outputs": [],
   "source": [
    "# Potenzieren\n",
    "2 ** 3"
   ]
  },
  {
   "cell_type": "code",
   "execution_count": null,
   "id": "20d1d5e2",
   "metadata": {
    "slideshow": {
     "slide_type": "fragment"
    }
   },
   "outputs": [],
   "source": [
    "# Mit Klammern\n",
    "(4 + (2 * 3)) * 2"
   ]
  },
  {
   "cell_type": "markdown",
   "id": "a06229c0",
   "metadata": {
    "cell_style": "split",
    "slideshow": {
     "slide_type": "slide"
    }
   },
   "source": [
    "![Vergleich zum Reichtum von Jeff Bezos](../imgs/bezos.png)\n"
   ]
  },
  {
   "cell_type": "markdown",
   "id": "7cf88de1",
   "metadata": {
    "cell_style": "split"
   },
   "source": [
    "# Wie reich ist Jeff Bezos?\n",
    "\n",
    "\n",
    "Mit 150 Mrd. USD ist Jeff Bezos auf Platz 4 der reichsten Menschen der Welt.\n",
    "\n",
    "\n",
    "### Beispiele\n",
    "\n",
    "Grafik links: Datenvisualisierung von Mona Chalabi in [9 Ways to Imagine Jeff Bezos’ Wealth](https://www.nytimes.com/interactive/2022/04/07/magazine/jeff-bezos-net-worth.html) der New York Times, April 2022.\n",
    "\n",
    "1 Pixel Wealth:\n",
    "https://mkorostoff.github.io/1-pixel-wealth/"
   ]
  },
  {
   "cell_type": "markdown",
   "id": "c5db0722",
   "metadata": {
    "slideshow": {
     "slide_type": "slide"
    }
   },
   "source": [
    "# Hands On - Jeff Bezos Wealth\n",
    "\n",
    "## Wie lange muss man arbeiten um so reich zu werden?\n",
    "\n",
    "- Mit einem deutschen Durchschnittseinkommen? \n",
    "\n",
    "    Das aktuelle monatliche Durchschnittseinkommen beträgt 4100 Euro brutto bei einer Vollzeitstelle. Für eine Person in Steuerklasse I läuft das auf ca. 2579 Euro netto hinaus.\n",
    "\n"
   ]
  },
  {
   "cell_type": "code",
   "execution_count": 2,
   "id": "1ba31886",
   "metadata": {
    "slideshow": {
     "slide_type": "slide"
    }
   },
   "outputs": [
    {
     "name": "stdout",
     "output_type": "stream",
     "text": [
      "154500000000.0\n"
     ]
    }
   ],
   "source": [
    "# 1. Schritt: USD in € umrechnen (Kurs: 1,03)\n",
    "print(150000000000 * 1.03)"
   ]
  },
  {
   "cell_type": "code",
   "execution_count": 3,
   "id": "2de729a1",
   "metadata": {
    "slideshow": {
     "slide_type": "fragment"
    }
   },
   "outputs": [
    {
     "name": "stdout",
     "output_type": "stream",
     "text": [
      "154500000000.0\n"
     ]
    }
   ],
   "source": [
    "# 1. Schritt: USD in € umrechnen (Kurs: 1,03)\n",
    "vermoegen_in_usd = 150000000000\n",
    "kurs = 1.03\n",
    "vermoegen = vermoegen_in_usd * kurs\n",
    "\n",
    "print(vermoegen)"
   ]
  },
  {
   "cell_type": "code",
   "execution_count": 4,
   "id": "264fd8c9",
   "metadata": {
    "slideshow": {
     "slide_type": "fragment"
    }
   },
   "outputs": [
    {
     "name": "stdout",
     "output_type": "stream",
     "text": [
      "30948\n"
     ]
    }
   ],
   "source": [
    "# 2. Schritt: Von Monatsgehalt auf durchschnittliches Jahreseinkommen\n",
    "netto_pro_monat = 2579\n",
    "einkommen = 12 * netto_pro_monat\n",
    "print(einkommen)"
   ]
  },
  {
   "cell_type": "code",
   "execution_count": 5,
   "id": "64c79c43",
   "metadata": {
    "slideshow": {
     "slide_type": "fragment"
    }
   },
   "outputs": [
    {
     "name": "stdout",
     "output_type": "stream",
     "text": [
      "4992245.056223342\n"
     ]
    }
   ],
   "source": [
    "# 3. Schritt: Berechnung der Arbeitszeit in Jahren\n",
    "jahre = vermoegen/ einkommen\n",
    "print(jahre)"
   ]
  },
  {
   "cell_type": "markdown",
   "id": "b8607c54",
   "metadata": {
    "slideshow": {
     "slide_type": "slide"
    }
   },
   "source": [
    "# Die Welt vor 8 Millionen Jahren..."
   ]
  },
  {
   "cell_type": "markdown",
   "id": "f7059a63",
   "metadata": {
    "cell_style": "split",
    "slideshow": {
     "slide_type": "-"
    }
   },
   "source": [
    "<div align=\"center\">\n",
    "<img src=\"../imgs/menschenaffen.png\" width=\"600\"/ >\n",
    "    \n",
    "Vor 8 Millionen Jahren gab es noch keine Menschen auf der Erde. Das Suptropische Klima in Europa kühlt langsam ab und damit sterben auch die meisten europäischen Arten der Menschenartigen aus. Einzig der Oreopithecus überlebt vorest auf einer Insel bei Sardinien/Korsika\n",
    "\n",
    "\n",
    "Quelle: http://www.oteripedia.de/Neogen\n",
    "</div>\n",
    "\n"
   ]
  },
  {
   "cell_type": "markdown",
   "id": "1aa13da8",
   "metadata": {
    "cell_style": "split",
    "slideshow": {
     "slide_type": "-"
    }
   },
   "source": [
    "<div align=\"center\">\n",
    "<img src=\"../imgs/argentavis.png\" width=\"600\"/>\n",
    "    \n",
    "In Südamerika existiert der größte Vogel, der jemals auf der Erde lebte. Der Argentavis magnificens ist wahrscheinlich mit dem Geier verwandt und hat eine Flügelspannweite von 7,20 Metern. Er ist doppelt so groß wie der größte heutige Vogel, der Andenkondor mit 3,30 Metern Flügelspannweite. Die Flügelfläche des Argentavis magnificens beträgt 7 Quadratmeter. Der Vogel wiegt 70-78 Kilogramm. \n",
    "</div>\n",
    "\n"
   ]
  },
  {
   "cell_type": "markdown",
   "id": "4b9d9fa2",
   "metadata": {},
   "source": [
    "### Wie lange dauert es als Top Manager"
   ]
  },
  {
   "cell_type": "code",
   "execution_count": null,
   "id": "6a5c9da9",
   "metadata": {
    "slideshow": {
     "slide_type": "slide"
    }
   },
   "outputs": [],
   "source": [
    "# Wie lange dauert es als Top-Manager so viel Geld anzuhäufen?\n",
    "einkommen = 100000\n",
    "jahre = vermoegen/ einkommen\n",
    "print(jahre)"
   ]
  },
  {
   "cell_type": "markdown",
   "id": "efddc422",
   "metadata": {
    "slideshow": {
     "slide_type": "slide"
    }
   },
   "source": [
    "### Die Welt vor 1,5 Millionen Jahren"
   ]
  },
  {
   "cell_type": "markdown",
   "id": "49a230d4",
   "metadata": {
    "cell_style": "split",
    "slideshow": {
     "slide_type": "-"
    }
   },
   "source": [
    "![Homo Erectus](../imgs/homo_erectus.png)\n",
    "\n"
   ]
  },
  {
   "cell_type": "markdown",
   "id": "c6920ec0",
   "metadata": {
    "cell_style": "split",
    "slideshow": {
     "slide_type": "-"
    }
   },
   "source": [
    "Im heutigen Kenia lebt der Homo erectus. Er benutzt Faustkeile und ist wahrscheinlich in der Lage Feuer zu machen.\n",
    "\n",
    "Bis er Europa erreicht vergehen weitere 300.000 Jahre.\n",
    "\n",
    "\n",
    "\n",
    "\n",
    "\n",
    "\n",
    "\n",
    "Quelle: http://www.oteripedia.de/Pleistoz%C3%A4n"
   ]
  },
  {
   "cell_type": "markdown",
   "id": "cc1d8c6b",
   "metadata": {
    "slideshow": {
     "slide_type": "slide"
    }
   },
   "source": [
    "# Von der Praxis zur Theorie.... - Teil I"
   ]
  },
  {
   "cell_type": "markdown",
   "id": "70e80535",
   "metadata": {
    "slideshow": {
     "slide_type": "slide"
    }
   },
   "source": [
    "## Variablen\n",
    "\n",
    "Eine Variable ist die Zuweisung eines Wertes zu einem Namen.\n",
    "\n",
    "```\n",
    "<name> = <wert>\n",
    "```\n"
   ]
  },
  {
   "cell_type": "code",
   "execution_count": null,
   "id": "54a3262c",
   "metadata": {
    "slideshow": {
     "slide_type": "-"
    }
   },
   "outputs": [],
   "source": [
    "pi = 3.141592\n",
    "print(pi)"
   ]
  },
  {
   "cell_type": "markdown",
   "id": "f98e3e39",
   "metadata": {
    "slideshow": {
     "slide_type": "fragment"
    }
   },
   "source": [
    "Variablen können sich ändern:"
   ]
  },
  {
   "cell_type": "code",
   "execution_count": null,
   "id": "aee2544c",
   "metadata": {},
   "outputs": [],
   "source": [
    "favourite_fruit = \"banana\"\n",
    "print(favourite_fruit)\n",
    "favourite_fruit = \"strawberry\"\n",
    "print(favourite_fruit)"
   ]
  },
  {
   "cell_type": "code",
   "execution_count": null,
   "id": "73c7866b",
   "metadata": {
    "slideshow": {
     "slide_type": "fragment"
    }
   },
   "outputs": [],
   "source": [
    "vermoegen = 1200\n",
    "kosten_fahrrad = 300\n",
    "print(vermoegen)\n",
    "vermoegen = vermoegen - kosten_fahrrad\n",
    "print(vermoegen)"
   ]
  },
  {
   "cell_type": "markdown",
   "id": "0af4ed4d",
   "metadata": {
    "slideshow": {
     "slide_type": "slide"
    }
   },
   "source": [
    "## Variablenamen - Regeln & praktische Tipps\n",
    "\n",
    "1. Variablennamen sollten verständlich und aussagekräftig sein\n",
    "\n",
    "2. Variablennamen beginnen immer mit einem Buchstaben oder Unterstrich\n",
    "\n",
    "3. Der Rest des Variablennamens besteht aus Buchstaben, Zahlen oder Unterstrichen\n",
    "\n",
    "4. Variablennamen sind casesensitive (Groß- und Kleinschreibung wird unterschieden)\n",
    "\n",
    "5. Variablennamen können eingebaute Funktionen überscheiben. Daher immer einzigartige, eigenständige Namen verwenden\n",
    "\n"
   ]
  },
  {
   "cell_type": "markdown",
   "id": "c3438422",
   "metadata": {
    "slideshow": {
     "slide_type": "slide"
    }
   },
   "source": [
    "1. Variablennamen sollten verständlich und aussagekräftig sein"
   ]
  },
  {
   "cell_type": "code",
   "execution_count": null,
   "id": "8062f321",
   "metadata": {
    "cell_style": "split",
    "slideshow": {
     "slide_type": "fragment"
    }
   },
   "outputs": [],
   "source": [
    "X = 40075.017\n",
    "print(X)"
   ]
  },
  {
   "cell_type": "code",
   "execution_count": null,
   "id": "78b83e6f",
   "metadata": {
    "cell_style": "split",
    "slideshow": {
     "slide_type": "fragment"
    }
   },
   "outputs": [],
   "source": [
    "erdumfang = 40075.017\n",
    "print(erdumfang)"
   ]
  },
  {
   "cell_type": "markdown",
   "id": "1bebe2b9",
   "metadata": {
    "slideshow": {
     "slide_type": "slide"
    }
   },
   "source": [
    "2. Variablennamen beginnen immer mit einem Buchstaben oder Unterstrich"
   ]
  },
  {
   "cell_type": "code",
   "execution_count": null,
   "id": "41aae09d",
   "metadata": {
    "cell_style": "split",
    "slideshow": {
     "slide_type": "fragment"
    }
   },
   "outputs": [],
   "source": [
    "€ = 172\n",
    "print(€)"
   ]
  },
  {
   "cell_type": "code",
   "execution_count": null,
   "id": "1011c01d",
   "metadata": {
    "cell_style": "split",
    "slideshow": {
     "slide_type": "fragment"
    }
   },
   "outputs": [],
   "source": [
    "euro = 172\n",
    "print(euro)"
   ]
  },
  {
   "cell_type": "code",
   "execution_count": null,
   "id": "3cfefbfe",
   "metadata": {
    "cell_style": "center",
    "slideshow": {
     "slide_type": "fragment"
    }
   },
   "outputs": [],
   "source": [
    "10 = 'zehn'"
   ]
  },
  {
   "cell_type": "code",
   "execution_count": null,
   "id": "505b92ee",
   "metadata": {
    "cell_style": "split",
    "slideshow": {
     "slide_type": "fragment"
    }
   },
   "outputs": [],
   "source": [
    "_10 = 'zehn'\n",
    "print(_10)"
   ]
  },
  {
   "cell_type": "markdown",
   "id": "0b64fcb1",
   "metadata": {
    "slideshow": {
     "slide_type": "slide"
    }
   },
   "source": [
    "3. Der Rest des Variablennamens kann aus Buchstaben, Zahlen oder Unterstrichen zusammengesetzt sein"
   ]
  },
  {
   "cell_type": "code",
   "execution_count": null,
   "id": "794958f5",
   "metadata": {},
   "outputs": [],
   "source": [
    "student_883245_geburtstag = \"03.09.1996\""
   ]
  },
  {
   "cell_type": "code",
   "execution_count": null,
   "id": "0c1ccf27",
   "metadata": {},
   "outputs": [],
   "source": [
    "student_$10_geburtstag = \"21.02.2001\""
   ]
  },
  {
   "cell_type": "markdown",
   "id": "f7646d06",
   "metadata": {},
   "source": [
    "4. Variablennamen sind case-sensitive (Groß- und Kleinschreibung wird unterschieden)"
   ]
  },
  {
   "cell_type": "code",
   "execution_count": null,
   "id": "9068ffea",
   "metadata": {},
   "outputs": [],
   "source": [
    "name = \"Gundula\"\n",
    "print(Name)"
   ]
  },
  {
   "cell_type": "markdown",
   "id": "3b409703",
   "metadata": {},
   "source": [
    "5. Variablennamen können eingebaute Funktionen überscheiben. Daher immer einzigartige, eigenständige Namen verwenden"
   ]
  },
  {
   "cell_type": "code",
   "execution_count": null,
   "id": "d41a981d",
   "metadata": {},
   "outputs": [],
   "source": [
    "print = 'abc'"
   ]
  },
  {
   "cell_type": "code",
   "execution_count": null,
   "id": "d4bd2ac3",
   "metadata": {},
   "outputs": [],
   "source": [
    "print('Hello World')"
   ]
  },
  {
   "cell_type": "code",
   "execution_count": null,
   "id": "a622e402",
   "metadata": {},
   "outputs": [],
   "source": [
    "help(print)"
   ]
  },
  {
   "cell_type": "code",
   "execution_count": null,
   "id": "f87577bd",
   "metadata": {},
   "outputs": [],
   "source": [
    "print('Hello', 'World', sep=';;')"
   ]
  },
  {
   "cell_type": "code",
   "execution_count": null,
   "id": "3d91ecf4",
   "metadata": {},
   "outputs": [],
   "source": [
    "help(print)\n",
    "print = \"ACHTUNG - Variabelname entspricht dem Namen einer eingebauten Funktion\"\n",
    "print(print)\n",
    "help(print)"
   ]
  },
  {
   "cell_type": "markdown",
   "id": "d320738d",
   "metadata": {},
   "source": [
    "# Zurück zu Jeff Bezos: Was macht man mit so viel Geld?"
   ]
  },
  {
   "cell_type": "code",
   "execution_count": null,
   "id": "e2575623",
   "metadata": {},
   "outputs": [],
   "source": [
    "vermoegen = 154500000000\n",
    "\n",
    "# Wie oft könnte er das Banksy's geschreddertes Bild mit Wert von ca. 18,89 Millionen Euro kaufen?\n",
    "kosten_banksy = 18890000 \n",
    "anzahl = vermoegen / kosten_banksy\n",
    "print(anzahl)"
   ]
  },
  {
   "cell_type": "code",
   "execution_count": null,
   "id": "a018e448",
   "metadata": {},
   "outputs": [],
   "source": [
    "# Wie viele Boeing 737-700 zum Preis von 76 Millionen kann er kaufen?\n",
    "kosten_boeing737 = 76000000      \n",
    "anzahl = vermoegen / kosten_boeing737\n",
    "print(anzahl)"
   ]
  },
  {
   "cell_type": "markdown",
   "id": "a01c26b1",
   "metadata": {
    "slideshow": {
     "slide_type": "slide"
    }
   },
   "source": [
    "# Von der Praxis zur Theorie.... - Teil II"
   ]
  },
  {
   "cell_type": "markdown",
   "id": "a80a6844",
   "metadata": {
    "slideshow": {
     "slide_type": "slide"
    }
   },
   "source": [
    "## Datentypen\n",
    "\n",
    "\n",
    "- **int** - Integer (ganze Zahl) bspw. 4, -72, 12947\n",
    "- **float** - Float (Gleitkommazahl) bspw. 3.2, 4.9813, -2.3, 4.0\n",
    "- **string** - String bspw. 'Hello', \"vorname nachname!\"\n",
    "- **bool**- Boolean: True oder False\n",
    "\n",
    "\n"
   ]
  },
  {
   "cell_type": "code",
   "execution_count": 1,
   "id": "3f0f7d0f",
   "metadata": {},
   "outputs": [
    {
     "name": "stdout",
     "output_type": "stream",
     "text": [
      "<class 'int'>\n",
      "<class 'float'>\n",
      "<class 'str'>\n",
      "<class 'bool'>\n"
     ]
    }
   ],
   "source": [
    "print(type(2))\n",
    "print(type(9.3))\n",
    "print(type('abc'))\n",
    "print(type(True))"
   ]
  },
  {
   "cell_type": "markdown",
   "id": "2a5ab3dc",
   "metadata": {
    "slideshow": {
     "slide_type": "slide"
    }
   },
   "source": [
    "# Ändern des Datentyps - Type Castings\n",
    "\n",
    "Der Datentyp einer Variable kann mithilfe der gleichnamigen Funktionen abgeändert werden. Dies wird auch Type Casting genannt.\n",
    "\n"
   ]
  },
  {
   "cell_type": "code",
   "execution_count": null,
   "id": "7a576855",
   "metadata": {},
   "outputs": [],
   "source": [
    "# String variable\n",
    "var = '51'\n",
    "print(type(var))\n",
    "\n",
    "# Umwandlung als int\n",
    "var = int(var)\n",
    "print(type(var))\n",
    "\n",
    "# Umwandlung in float\n",
    "var = float(var)\n",
    "print(type(var))"
   ]
  },
  {
   "cell_type": "markdown",
   "id": "d1bfe66b",
   "metadata": {
    "slideshow": {
     "slide_type": "slide"
    }
   },
   "source": [
    "## Eingebaute Funktionen\n",
    "\n",
    "- sind fester Bestandteil der Programmiersprache\n",
    "\n",
    "\n",
    "- Die folgenden Funktionen haben wir schon kennengelernt:\n",
    "\n",
    "    - **print** - zeigt den Wert einer Variable in der Konsole\n",
    "    - **input** - nimmt Input von Nutzer:innen entgegen \n",
    "    - **type** - gibt den Datentyp einer Variabel oder eines Objektes zurück\n",
    "    - **help** - Beschreibung einer Funktion\n",
    "\n"
   ]
  },
  {
   "cell_type": "code",
   "execution_count": null,
   "id": "f1f2b2b8",
   "metadata": {},
   "outputs": [],
   "source": [
    "help(print)"
   ]
  },
  {
   "cell_type": "code",
   "execution_count": null,
   "id": "d8820a80",
   "metadata": {},
   "outputs": [],
   "source": [
    "help(3)"
   ]
  },
  {
   "cell_type": "markdown",
   "id": "9ce5dfe4",
   "metadata": {
    "slideshow": {
     "slide_type": "slide"
    }
   },
   "source": [
    "# input() \n",
    "\n",
    "Die Input funktion nimmt eine Eingabe eines:r Nutzer:in entegegen.\n",
    "Die Eingabe ist immer eine Zeichenkette, auch wenn sie nur aus Zahlen besteht.\n"
   ]
  },
  {
   "cell_type": "code",
   "execution_count": null,
   "id": "45ee5b3c",
   "metadata": {},
   "outputs": [],
   "source": [
    "# Input wird als Variabel gespeichert und ausgegeben\n",
    "eingabe = input()\n",
    "print(eingabe)"
   ]
  },
  {
   "cell_type": "code",
   "execution_count": null,
   "id": "43021f81",
   "metadata": {
    "slideshow": {
     "slide_type": "fragment"
    }
   },
   "outputs": [],
   "source": [
    "# Datentyp der Eingabe\n",
    "eingabe = input()\n",
    "print(type(eingabe))"
   ]
  },
  {
   "cell_type": "markdown",
   "id": "2cd7e7e5",
   "metadata": {
    "slideshow": {
     "slide_type": "slide"
    }
   },
   "source": [
    "## Wie oft kann Jeff sich X zum Preis von y € kaufen?\n",
    "### Eine kleines Programm dafür..."
   ]
  },
  {
   "cell_type": "code",
   "execution_count": null,
   "id": "561a56de",
   "metadata": {
    "slideshow": {
     "slide_type": "fragment"
    }
   },
   "outputs": [],
   "source": [
    "# Wie oft kann Jeff sich X kaufen\n",
    "vermoegen = 154500000000\n",
    "\n",
    "dinge = input('Dinge: ')\n",
    "kosten = input('Kosten:')\n",
    "\n",
    "anzahl = round(vermoegen / float(kosten))\n",
    "\n",
    "antwort = f'Bezos kann sich {anzahl} {dinge} zum Preis von {kosten} € kaufen.'\n",
    "print(antwort)\n"
   ]
  },
  {
   "cell_type": "code",
   "execution_count": null,
   "id": "de260c64",
   "metadata": {},
   "outputs": [],
   "source": [
    "var = input()\n",
    "var = float(var)\n",
    "type(var)"
   ]
  },
  {
   "cell_type": "markdown",
   "id": "120609cd",
   "metadata": {
    "slideshow": {
     "slide_type": "slide"
    }
   },
   "source": [
    "## Fehlermeldungen\n",
    "\n",
    "Direktes Feedback dass meist recht genau sagt wo der Fehler liegt:\n",
    "\n",
    "\n"
   ]
  },
  {
   "cell_type": "code",
   "execution_count": null,
   "id": "7e76c5fa",
   "metadata": {
    "slideshow": {
     "slide_type": "fragment"
    }
   },
   "outputs": [],
   "source": [
    "print \"zwanzig\""
   ]
  },
  {
   "cell_type": "code",
   "execution_count": null,
   "id": "b8364444",
   "metadata": {
    "slideshow": {
     "slide_type": "fragment"
    }
   },
   "outputs": [],
   "source": [
    "'zehn' + 3"
   ]
  },
  {
   "cell_type": "code",
   "execution_count": null,
   "id": "5ae9718f",
   "metadata": {
    "slideshow": {
     "slide_type": "fragment"
    }
   },
   "outputs": [],
   "source": [
    "1_variable = 'wert'"
   ]
  },
  {
   "cell_type": "markdown",
   "id": "e74a7453",
   "metadata": {
    "slideshow": {
     "slide_type": "slide"
    }
   },
   "source": [
    "# Zeit für Feedback\n",
    "\n",
    "\n",
    "\n",
    "Link: https://ahaslides.com/3H9Y3\n",
    "\n",
    "![Feedback QR Code](../imgs/qrcode.png)\n",
    "\n"
   ]
  }
 ],
 "metadata": {
  "celltoolbar": "Slideshow",
  "kernelspec": {
   "display_name": "Python 3 (ipykernel)",
   "language": "python",
   "name": "python3"
  },
  "language_info": {
   "codemirror_mode": {
    "name": "ipython",
    "version": 3
   },
   "file_extension": ".py",
   "mimetype": "text/x-python",
   "name": "python",
   "nbconvert_exporter": "python",
   "pygments_lexer": "ipython3",
   "version": "3.10.6"
  },
  "livereveal": {
   "autolaunch": true
  },
  "vscode": {
   "interpreter": {
    "hash": "f9f85f796d01129d0dd105a088854619f454435301f6ffec2fea96ecbd9be4ac"
   }
  }
 },
 "nbformat": 4,
 "nbformat_minor": 5
}
