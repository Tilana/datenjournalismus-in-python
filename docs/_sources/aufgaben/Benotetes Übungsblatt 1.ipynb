{
 "cells": [
  {
   "cell_type": "markdown",
   "id": "d1bfe66b",
   "metadata": {},
   "source": [
    "# Übungsblatt - Python Grundlagen\n",
    "\n",
    "In diesem Übungsblatt decken wir die Grundlagen in Python ab. \n",
    "\n",
    "\n",
    "Die Abgabe ist bis zum 17. November um 24 Uhr über Moodle mögliche.\n",
    "Bitte gebt Python Code oder Jupyternotebooks (Filetypen *.py* oder *.ipyb*) ab.\n",
    "\n",
    "Für die Bewertung ist der Lösungsweg relevant; reine Textantworten werden nicht gewertet. Jede Aufgabe gibt 5 Punkte. Bestanden hat wer mindestens 40% der Gesamtpunktzahl erreicht.\n",
    "\n",
    "Achtet auf verständliche Variablen und Kommentare im Code."
   ]
  },
  {
   "cell_type": "markdown",
   "id": "579315fe",
   "metadata": {},
   "source": [
    "## Quiztool\n",
    "\n",
    "Baue ein Quiztool für Familie oder Freund:innen.\n",
    "Inspiration für Fragen gibt es hier: https://www.gapminder.org/ . Gerne dürft ihr euch auch selbst Fragen und Antworten audenken."
   ]
  },
  {
   "cell_type": "markdown",
   "id": "4706a77c",
   "metadata": {},
   "source": [
    "**1.** Zeige eine Frage mit 4 Antwortmöglichkeiten an. Ein:e Nutzer:in kann 1,2,3,4 eingeben und bekommt zurück ob er:sie richtig liegt.\n",
    "\n",
    "Gib eine Warnung aus, falls etwas anderers als die Antwortmöglichkeiten 1 - 4 eingegeben wurde.\n",
    "\n"
   ]
  },
  {
   "cell_type": "code",
   "execution_count": null,
   "id": "78408bf3",
   "metadata": {},
   "outputs": [],
   "source": [
    "# Code\n"
   ]
  },
  {
   "cell_type": "markdown",
   "id": "0669f046",
   "metadata": {},
   "source": [
    "**2.** Wiederhole die Frage bis die richtige Antwort gefunden wurde."
   ]
  },
  {
   "cell_type": "code",
   "execution_count": null,
   "id": "3eeae56b",
   "metadata": {},
   "outputs": [],
   "source": [
    "# Code"
   ]
  },
  {
   "cell_type": "markdown",
   "id": "635fb4fb",
   "metadata": {},
   "source": [
    "**3.** Definiere mindestens 3 Fragen mit passenden Antworten, die nacheinander gestellt werden. Gib am Ende die Gesamtpunktzahl zurück."
   ]
  },
  {
   "cell_type": "code",
   "execution_count": null,
   "id": "544018a7",
   "metadata": {},
   "outputs": [],
   "source": [
    "# Code"
   ]
  },
  {
   "cell_type": "markdown",
   "id": "0d8b61d0",
   "metadata": {},
   "source": [
    "**Bonus** Randomisiere die Reihenfolge der Fragen, sowie die Anzeige der Antworten."
   ]
  },
  {
   "cell_type": "code",
   "execution_count": null,
   "id": "ae6d75eb",
   "metadata": {},
   "outputs": [],
   "source": [
    "# Code"
   ]
  },
  {
   "cell_type": "markdown",
   "id": "8bb482ef",
   "metadata": {},
   "source": [
    "# Oberbürgermeister in Leipzig\n",
    "\n",
    "Die folgende Liste enthält alle Oberbürgermeister von Leipzig seit 1877 bis heute. Die Liste ist chronologisch sortiert. Der amtierende Oberbürgermeister steht dabei an erster Stelle."
   ]
  },
  {
   "cell_type": "code",
   "execution_count": null,
   "id": "2aefbcbc",
   "metadata": {},
   "outputs": [],
   "source": [
    "oberbuergermeister = ['Burkhard Jung (SPD)', 'Andreas Müller (kommissarisch) (SPD)', 'Wolfgang Tiefensee (SPD)',\n",
    "                      'Hinrich Lehmann-Grube (SPD)', 'Günter Hädrich (kommissarisch) (parteilos)', 'Bernd Seidel (SED)',\n",
    "                      'Karl-Heinz Müller (SED)', 'Walter Kresse (SED)', 'Erich Uhlich (SED)', 'Max Ernst Opitz (SED)',\n",
    "                      'Erich Zeigner', 'Wilhelm Johannes Vierling', 'Alfred Freyberg (NSDAP)', 'Rudolf Haake (kommissarisch) (NSDAP)',\n",
    "                      'Walter Dönicke (NSDAP)', 'Rudolf Haake (kommissarisch) (NSDAP)', 'Carl Friedrich Goerdeler (DNVP)',\n",
    "                      'Karl Rothe (DVP)', 'Rudolf Dittrich (NLP)', 'Carl Bruno Tröndlin (NLP)', 'Otto Robert Georgi (NLP)']"
   ]
  },
  {
   "cell_type": "markdown",
   "id": "270396a7",
   "metadata": {},
   "source": [
    "**1. Überblick**\n",
    "a. Wie viele Oberbürgermeister hatte Leipzig seit 1877?\n",
    "b. Wie viele waren kommisarisch im Amt?\n",
    "c. Sortiere die Liste chronologisch, so dass der erste Oberbürgermeister von 1877, Otto Robert Georgi, an erster Stelle steht.\n"
   ]
  },
  {
   "cell_type": "code",
   "execution_count": null,
   "id": "b7d2e35c",
   "metadata": {},
   "outputs": [],
   "source": []
  },
  {
   "cell_type": "markdown",
   "id": "b70df9e6",
   "metadata": {},
   "source": [
    "**2. Analyse der Parteien**\n",
    "\n",
    "a. Erstelle eine Funktion die aus einem String mit Namen, Partei und eventuell dem Vermerk *kommissarisch* die Partei zurückgibt.\n",
    "\n",
    "b. Erstelle zwei neue Listen: eine mit den Namen der Oberbürgermeister, eine andere mit den zugehörigen Parteien. Welche Partei kommt am häufigsten vor?\n",
    "\n",
    "c. Für eine bessere Übersicht der Daten erstelle ein Dictionary, in folgendem Format:\n",
    "\n",
    "```\n",
    "überblick = {'SPD':       {'Amtszeiten': 4,\n",
    "                           'Oberbürgermeister': ['Hinrich Lehmann-Grube', ..., 'Burkhard Jung']},\n",
    "             'parteilos': {'Amtszeiten': 1,\n",
    "                           'Oberbürgermeister': ['Günter Hädrich'],\n",
    "             ...,\n",
    "             'NLP':       {..}\n",
    "             }\n",
    "```"
   ]
  },
  {
   "cell_type": "code",
   "execution_count": null,
   "id": "74244dbb",
   "metadata": {},
   "outputs": [],
   "source": []
  },
  {
   "cell_type": "markdown",
   "id": "5164add1",
   "metadata": {},
   "source": [
    "**3. Mehrfache Amtsinhaber**\n",
    "\n",
    "a. Gibt es Oberbürgermeister die mehrfach im Amt waren? Falls ja wer und wie viele Amtszeiten hatten sie?"
   ]
  },
  {
   "cell_type": "code",
   "execution_count": null,
   "id": "e38d6a55",
   "metadata": {},
   "outputs": [],
   "source": []
  },
  {
   "cell_type": "markdown",
   "id": "f5dcfd90",
   "metadata": {},
   "source": [
    "## Finde die Fehler\n",
    "\n",
    "Der Zoll veröffentlicht jeder Jahr eine Statistik über die Anzahl an sichergestellten Gegenständen. Folgende Daten enthalten die sichergestellten Waffen von 2019 - 2021. Ziel des Codes ist die prozentuale Zu- / Abnahme der Anzahl an sichergestellten Waffen zu berechnen.\n",
    "\n",
    "Leider haben im Code einige Fehler eingeschlichen. Finde sie und korrigiere den Code.\n",
    "\n",
    "Was passiert im Code? Gehe durch die einzelnen Abschnitte und kommentiere was geschieht.\n"
   ]
  },
  {
   "cell_type": "code",
   "execution_count": null,
   "id": "dc05173e",
   "metadata": {},
   "outputs": [],
   "source": [
    "data = {\n",
    "    'cols': ['Kriegswaffen (Stück)', 'Lang- und Faustfeuerwaffen', 'Andere Waffen', 'Munition', 'Explosivstoffe (kg)'],\n",
    "    2021: [40, 5.236, 6.198, 137.499, 36],\n",
    "    2020: [34, 372, 448, 31.533, 1],\n",
    "    2019: [30, 156, 202, 40.601, 8]\n",
    "}\n",
    "\n",
    "\n",
    "if len(data[2020]) != len(data[2019]) or len(data[2020]) == len(data[2021]):\n",
    "    print('Fehler: Überprüfe die Dateneingabe: Die Anzahl an Werten pro Jahr stimmt nicht überein.\\n\\n')\n",
    "\n",
    "values_diff = []\n",
    "for idx in range(len(data[2020])):\n",
    "    diff = differenz(data[2020][idx], data[2019][idx])\n",
    "    values_diff.append(diff)\n",
    "    \n",
    "if 'cols' in data:\n",
    "    print('Prozentuale Differenz: \\n')\n",
    "    idx = 0\n",
    "    for diff in values_diff:\n",
    "        category = data['cols'][idx]\n",
    "        print(f'{category: <28}: {diff} %')\n",
    "    \n",
    "    \n",
    "def differenz(val1=100, val2=0):\n",
    "    round(((val1 - val2) / val2 ) * 100, 1)"
   ]
  },
  {
   "cell_type": "code",
   "execution_count": null,
   "id": "af56c435",
   "metadata": {},
   "outputs": [],
   "source": []
  }
 ],
 "metadata": {
  "celltoolbar": "Tags",
  "kernelspec": {
   "display_name": "Python 3 (ipykernel)",
   "language": "python",
   "name": "python3"
  },
  "language_info": {
   "codemirror_mode": {
    "name": "ipython",
    "version": 3
   },
   "file_extension": ".py",
   "mimetype": "text/x-python",
   "name": "python",
   "nbconvert_exporter": "python",
   "pygments_lexer": "ipython3",
   "version": "3.9.15"
  },
  "livereveal": {
   "autolaunch": true
  },
  "vscode": {
   "interpreter": {
    "hash": "f9f85f796d01129d0dd105a088854619f454435301f6ffec2fea96ecbd9be4ac"
   }
  }
 },
 "nbformat": 4,
 "nbformat_minor": 5
}
