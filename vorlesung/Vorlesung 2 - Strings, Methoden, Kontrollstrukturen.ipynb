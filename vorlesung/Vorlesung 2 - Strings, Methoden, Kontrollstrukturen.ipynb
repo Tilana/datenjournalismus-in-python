{
 "cells": [
  {
   "cell_type": "markdown",
   "id": "7e785d50",
   "metadata": {
    "slideshow": {
     "slide_type": "slide"
    }
   },
   "source": [
    "# Vorlesung 2\n",
    "\n",
    "## Strings & ihre Methoden, Vergleichsoperatoren & Kontrollstrukturen\n"
   ]
  },
  {
   "cell_type": "markdown",
   "id": "c4b9a371",
   "metadata": {
    "slideshow": {
     "slide_type": "slide"
    }
   },
   "source": [
    "# Was wir lernen\n",
    "\n",
    "Wir automatisieren Texte und lernen dabei:\n",
    "\n",
    "- mit strings und ihren Methoden umzugehen\n",
    "- Vergleichsoperatoren und deren Verknüpfung\n",
    "- neue Kontrollstrukturen, wie die if-else Bedingungen, kennen\n",
    "\n"
   ]
  },
  {
   "cell_type": "markdown",
   "id": "a89d1d53",
   "metadata": {
    "cell_style": "split",
    "slideshow": {
     "slide_type": "slide"
    }
   },
   "source": [
    "# Automatisierte Wahlberichterstattung\n",
    "\n",
    "\n",
    "- Ergebnisse der Landtagswahlen für jeden Wahlkreis und jede Gemeinde in NRW\n",
    "\n",
    "- über 500 Artikel in unterschiedlichen Zuständen (Vorbericht, vorläufiges Ergebnis, amtliches Endergebnis)\n",
    "\n",
    "- redaktionell ist dies am Wahlabend nicht umsetzbar\n",
    "\n"
   ]
  },
  {
   "cell_type": "markdown",
   "id": "f57365e9",
   "metadata": {
    "cell_style": "split"
   },
   "source": [
    "\n",
    "![Automatisierte Wahlberichterstattung - WDR](../imgs/wdr_autom_bericht.png)"
   ]
  },
  {
   "cell_type": "code",
   "execution_count": 11,
   "id": "e882243d",
   "metadata": {
    "slideshow": {
     "slide_type": "slide"
    }
   },
   "outputs": [
    {
     "name": "stdout",
     "output_type": "stream",
     "text": [
      "Wahlen in Leipzig\n"
     ]
    }
   ],
   "source": [
    "titel = 'Wahlen in Leipzig'\n",
    "print(titel)"
   ]
  },
  {
   "cell_type": "code",
   "execution_count": 82,
   "id": "ad7c9ae7",
   "metadata": {
    "slideshow": {
     "slide_type": "slide"
    }
   },
   "outputs": [
    {
     "name": "stdout",
     "output_type": "stream",
     "text": [
      "Wahlen in Görlitz\n"
     ]
    }
   ],
   "source": [
    "stadt = 'Görlitz'\n",
    "title = 'Wahlen in {}'.format(stadt)\n",
    "print(title)"
   ]
  },
  {
   "cell_type": "markdown",
   "id": "eafbed5e",
   "metadata": {},
   "source": [
    "# Format - Eine String Methode"
   ]
  },
  {
   "cell_type": "code",
   "execution_count": 3,
   "id": "f7aca0c6",
   "metadata": {
    "slideshow": {
     "slide_type": "slide"
    }
   },
   "outputs": [
    {
     "name": "stdout",
     "output_type": "stream",
     "text": [
      "Mein Name ist Anna. Ich bin 23 Jahre alt.\n",
      "Mein Name ist Anna. Ich bin 23 Jahre alt.\n",
      "Mein Name ist Anna. Ich bin 23 Jahre alt.\n"
     ]
    }
   ],
   "source": [
    "text1 = \"Mein Name ist {name}. Ich bin {alter} Jahre alt.\".format(name=\"Anna\", alter=23)\n",
    "text2 = \"Mein Name ist {0}. Ich bin {1} Jahre alt.\".format(\"Anna\", 23)\n",
    "text3 = \"Mein Name ist {}. Ich bin {} Jahre alt.\".format(\"Anna\", 23) \n",
    "\n",
    "print(text1)\n",
    "print(text2)\n",
    "print(text3)"
   ]
  },
  {
   "cell_type": "markdown",
   "id": "8316ffb5",
   "metadata": {
    "cell_style": "center",
    "slideshow": {
     "slide_type": "slide"
    }
   },
   "source": [
    "# Methoden\n",
    "\n",
    "\n",
    "Methoden sind Funktionen, die aufgrund des Datentyps verfügbar sind.\n",
    "\n",
    "Sie verändern ein Objekt oder berechnen neue Werte anhand der Objektdaten.\n",
    "\n",
    "\n",
    "\n",
    "## Syntax:\n",
    "\n",
    "\n",
    "Dem Objekt folgt ein Punkt, ein valider Methodenname, sowie runde Klammern.\n",
    "\n",
    "Parameter Methoden können kein, ein oder mehrerer Argumente entgegen nehmen.\n",
    "\n",
    "\n",
    "```\n",
    "    objekt.methode()\n",
    "    \n",
    "    objekt.methode(arg1, arg2, arg3)\n",
    "   \n",
    "```\n",
    "\n"
   ]
  },
  {
   "cell_type": "markdown",
   "id": "95a080e8",
   "metadata": {
    "cell_style": "center",
    "slideshow": {
     "slide_type": "slide"
    }
   },
   "source": [
    "# String Methoden - Beispiele\n",
    "\n",
    "| Methods  | Beschreibung  | \n",
    "|----------|:-------------  |\n",
    "| lower() |  Converts a string into lower case |\n",
    "| upper() |  Converts a string into upper case |\n",
    "| strip() | Returns a trimmed version of the string |\n",
    "| split() |\tSplits the string at the specified separator, and returns a list |\n",
    "| replace()\t| Returns a string where a specified value is replaced with a specified value |\n",
    "| format() |\tFormats specified values in a string |\n",
    "\n",
    "\n",
    "Mit `dir(<object>)` werden alle Methoden eines Objektes angezeigt.\n"
   ]
  },
  {
   "cell_type": "code",
   "execution_count": 86,
   "id": "d28d81ee",
   "metadata": {
    "slideshow": {
     "slide_type": "slide"
    }
   },
   "outputs": [
    {
     "name": "stdout",
     "output_type": "stream",
     "text": [
      "WAHLEN IN LEIPZIG\n"
     ]
    }
   ],
   "source": [
    "# upper() - verwandelt einen string in Großbuchstaben\n",
    "titel = 'Wahlen in Leipzig'\n",
    "print(titel.upper())"
   ]
  },
  {
   "cell_type": "code",
   "execution_count": 18,
   "id": "10fa88da",
   "metadata": {
    "slideshow": {
     "slide_type": "fragment"
    }
   },
   "outputs": [
    {
     "name": "stdout",
     "output_type": "stream",
     "text": [
      "   Landeshauptstadt Leipzig  \n",
      "Landeshauptstadt Leipzig\n"
     ]
    }
   ],
   "source": [
    "# strip() - löscht voranstehende oder nachfolgende Leerzeichen eines Textes\n",
    "stadt = '   Landeshauptstadt Leipzig  '\n",
    "print(stadt)\n",
    "print(stadt.strip())"
   ]
  },
  {
   "cell_type": "code",
   "execution_count": 26,
   "id": "e181e8d2",
   "metadata": {
    "slideshow": {
     "slide_type": "fragment"
    }
   },
   "outputs": [
    {
     "name": "stdout",
     "output_type": "stream",
     "text": [
      " Angelika Hahnenbach\n"
     ]
    }
   ],
   "source": [
    "# split() - trennt einen String an einem Zeichen\n",
    "kandidatin = 'Hahnenbach, Angelika'\n",
    "nachname, vorname = kandidatin.split(',')\n",
    "print(vorname, nachname)"
   ]
  },
  {
   "cell_type": "code",
   "execution_count": 75,
   "id": "5b67e14a",
   "metadata": {
    "scrolled": true,
    "slideshow": {
     "slide_type": "slide"
    }
   },
   "outputs": [
    {
     "data": {
      "text/plain": [
       "['__add__',\n",
       " '__class__',\n",
       " '__contains__',\n",
       " '__delattr__',\n",
       " '__dir__',\n",
       " '__doc__',\n",
       " '__eq__',\n",
       " '__format__',\n",
       " '__ge__',\n",
       " '__getattribute__',\n",
       " '__getitem__',\n",
       " '__getnewargs__',\n",
       " '__gt__',\n",
       " '__hash__',\n",
       " '__init__',\n",
       " '__init_subclass__',\n",
       " '__iter__',\n",
       " '__le__',\n",
       " '__len__',\n",
       " '__lt__',\n",
       " '__mod__',\n",
       " '__mul__',\n",
       " '__ne__',\n",
       " '__new__',\n",
       " '__reduce__',\n",
       " '__reduce_ex__',\n",
       " '__repr__',\n",
       " '__rmod__',\n",
       " '__rmul__',\n",
       " '__setattr__',\n",
       " '__sizeof__',\n",
       " '__str__',\n",
       " '__subclasshook__',\n",
       " 'capitalize',\n",
       " 'casefold',\n",
       " 'center',\n",
       " 'count',\n",
       " 'encode',\n",
       " 'endswith',\n",
       " 'expandtabs',\n",
       " 'find',\n",
       " 'format',\n",
       " 'format_map',\n",
       " 'index',\n",
       " 'isalnum',\n",
       " 'isalpha',\n",
       " 'isascii',\n",
       " 'isdecimal',\n",
       " 'isdigit',\n",
       " 'isidentifier',\n",
       " 'islower',\n",
       " 'isnumeric',\n",
       " 'isprintable',\n",
       " 'isspace',\n",
       " 'istitle',\n",
       " 'isupper',\n",
       " 'join',\n",
       " 'ljust',\n",
       " 'lower',\n",
       " 'lstrip',\n",
       " 'maketrans',\n",
       " 'partition',\n",
       " 'replace',\n",
       " 'rfind',\n",
       " 'rindex',\n",
       " 'rjust',\n",
       " 'rpartition',\n",
       " 'rsplit',\n",
       " 'rstrip',\n",
       " 'split',\n",
       " 'splitlines',\n",
       " 'startswith',\n",
       " 'strip',\n",
       " 'swapcase',\n",
       " 'title',\n",
       " 'translate',\n",
       " 'upper',\n",
       " 'zfill']"
      ]
     },
     "execution_count": 75,
     "metadata": {},
     "output_type": "execute_result"
    }
   ],
   "source": [
    "# dir() zeigt alle verfügbaren Properties und Methoden eines Objektes an\n",
    "dir('Beispiel String')"
   ]
  },
  {
   "cell_type": "markdown",
   "id": "2b3261c1",
   "metadata": {
    "slideshow": {
     "slide_type": "slide"
    }
   },
   "source": [
    "## Zurück zu den automatisierten Wahltexten..\n",
    "\n"
   ]
  },
  {
   "cell_type": "code",
   "execution_count": 29,
   "id": "9e6fa51c",
   "metadata": {
    "slideshow": {
     "slide_type": "fragment"
    }
   },
   "outputs": [
    {
     "name": "stdout",
     "output_type": "stream",
     "text": [
      "Wahlen in Erfurt\n"
     ]
    }
   ],
   "source": [
    "# Titel\n",
    "stadt = 'Erfurt'\n",
    "title = 'Wahlen in {}'.format(stadt)\n",
    "print(title)"
   ]
  },
  {
   "cell_type": "code",
   "execution_count": 31,
   "id": "7f8e5fe3",
   "metadata": {
    "slideshow": {
     "slide_type": "fragment"
    }
   },
   "outputs": [
    {
     "name": "stdout",
     "output_type": "stream",
     "text": [
      "Marinne Klingenstein gewinnt mit 37.4 Prozent der Stimmen.\n"
     ]
    }
   ],
   "source": [
    "# Text\n",
    "kandidatin = 'Marianne Klingenstein'\n",
    "ergebnis = 37.4\n",
    "text = '{} gewinnt mit {} Prozent der Stimmen.'.format(kandidatin, ergebnis)\n",
    "print(text)"
   ]
  },
  {
   "cell_type": "code",
   "execution_count": 35,
   "id": "64b7585e",
   "metadata": {
    "slideshow": {
     "slide_type": "fragment"
    }
   },
   "outputs": [
    {
     "name": "stdout",
     "output_type": "stream",
     "text": [
      "WAHLEN IN ERFURT\n",
      "\n",
      "Marinne Klingenstein gewinnt mit 37.4 Prozent der Stimmen.\n"
     ]
    }
   ],
   "source": [
    "print(title.upper(), text, sep='\\n\\n')"
   ]
  },
  {
   "cell_type": "markdown",
   "id": "6ffd9c33",
   "metadata": {},
   "source": [
    "## Was wenn mehrere Kandidaten antreten?"
   ]
  },
  {
   "cell_type": "code",
   "execution_count": 39,
   "id": "e805b781",
   "metadata": {},
   "outputs": [
    {
     "name": "stdout",
     "output_type": "stream",
     "text": [
      "Helmut Wiese gewinnt mit 36.7 Prozent der Stimmen.\n"
     ]
    }
   ],
   "source": [
    "kandidat1 = 'Helmut Wiese'\n",
    "prozent1 = 36.7\n",
    "\n",
    "kandidat2 = 'Gundula Lobrecht'\n",
    "prozent2 = 17.4\n",
    "\n",
    "text = '{} gewinnt mit {} Prozent der Stimmen.'\n",
    "\n",
    "if prozent1 > prozent2:\n",
    "    text = text.format(kandidat1, prozent1)\n",
    "else:\n",
    "    text = text.format(kandidat2, prozent2)\n",
    "    \n",
    "print(text)\n"
   ]
  },
  {
   "cell_type": "markdown",
   "id": "26ec63fe",
   "metadata": {},
   "source": [
    "## Was passiert bei Gleichstand?"
   ]
  },
  {
   "cell_type": "code",
   "execution_count": 40,
   "id": "d40f8d0f",
   "metadata": {},
   "outputs": [
    {
     "name": "stdout",
     "output_type": "stream",
     "text": [
      "Gundula Lobrecht gewinnt mit 29.5 Prozent der Stimmen.\n"
     ]
    }
   ],
   "source": [
    "kandidat1 = 'Helmut Wiese'\n",
    "prozent1 = 29.5\n",
    "\n",
    "kandidat2 = 'Gundula Lobrecht'\n",
    "prozent2 = 29.5\n",
    "\n",
    "text = '{} gewinnt mit {} Prozent der Stimmen.'\n",
    "\n",
    "if prozent1 > prozent2:\n",
    "    text = text.format(kandidat1, prozent1)\n",
    "else:\n",
    "    text = text.format(kandidat2, prozent2)\n",
    "    \n",
    "print(text)\n"
   ]
  },
  {
   "cell_type": "code",
   "execution_count": 69,
   "id": "9a8bae83",
   "metadata": {},
   "outputs": [
    {
     "name": "stdout",
     "output_type": "stream",
     "text": [
      "Die Wahl ist unentschieden. Helmut Wiese und Gundula Lobrecht erhalten beide 29.5 Prozent der Stimmen.\n"
     ]
    }
   ],
   "source": [
    "kandidat1 = 'Helmut Wiese'\n",
    "prozent1 = 29.5\n",
    "\n",
    "kandidat2 = 'Gundula Lobrecht'\n",
    "prozent2 = 29.5\n",
    "\n",
    "text = '{} gewinnt mit {} Prozent der Stimmen.'\n",
    "\n",
    "if prozent1 > prozent2:\n",
    "    text = text.format(kandidat1, prozent1)\n",
    "elif prozent1 < prozent2:\n",
    "    text = text.format(kandidat2, prozent2)\n",
    "else:\n",
    "    text = 'Die Wahl ist unentschieden. {} und {} erhalten beide {} Prozent der Stimmen.'\n",
    "    text = text.format(kandidat1, kandidat2, prozent1)\n",
    "    \n",
    "print(text)\n"
   ]
  },
  {
   "cell_type": "markdown",
   "id": "0064b8dd",
   "metadata": {
    "cell_style": "split",
    "slideshow": {
     "slide_type": "slide"
    }
   },
   "source": [
    "# Kontrollstrukturen: if - else Bedingung\n",
    "\n",
    "\n",
    "## Ausführung\n",
    "\n",
    "Jede Bedingung wird nacheinander abgearbeitet. Das Schema ist wie folgt:\n",
    "\n",
    "Die Bedingung wird evaluiert falls diese\n",
    "\n",
    "- **wahr** ist (`True`): führe die Anweisung aus und überspringe alle anderen Bedingungen\n",
    "\n",
    "- **falsch** ist (`False`): springe zur nächsten Bedingung\n",
    "\n"
   ]
  },
  {
   "cell_type": "markdown",
   "id": "964673a0",
   "metadata": {
    "cell_style": "split",
    "slideshow": {
     "slide_type": "-"
    }
   },
   "source": [
    "![if](../imgs/elif.png)"
   ]
  },
  {
   "cell_type": "markdown",
   "id": "0936f58a",
   "metadata": {
    "cell_style": "split",
    "slideshow": {
     "slide_type": "slide"
    }
   },
   "source": [
    "# Kontrollstrukturen: if - else Bedingung\n",
    "\n",
    "\n",
    "## Syntax \n",
    "\n",
    "\n",
    "- **if** ist notwendig\n",
    "- **elif** optional, auch mehrere möglich\n",
    "- **else** optional, nur eine else Bedingung möglich\n",
    "\n",
    "\n"
   ]
  },
  {
   "cell_type": "markdown",
   "id": "5c698636",
   "metadata": {
    "cell_style": "split",
    "slideshow": {
     "slide_type": "slide"
    }
   },
   "source": [
    "# Beispiele\n",
    "\n",
    "\n"
   ]
  },
  {
   "cell_type": "code",
   "execution_count": 50,
   "id": "79a607b1",
   "metadata": {
    "slideshow": {
     "slide_type": "-"
    }
   },
   "outputs": [
    {
     "name": "stdout",
     "output_type": "stream",
     "text": [
      "x ist postiv.\n"
     ]
    }
   ],
   "source": [
    "# Beispiele if - else Bedingung\n",
    "\n",
    "x = 10\n",
    "\n",
    "if x == 0:\n",
    "    print('x ist Null.')\n",
    "elif x > 0:\n",
    "    print('x ist postiv.')\n",
    "else:\n",
    "    print('x ist negativ.')"
   ]
  },
  {
   "cell_type": "markdown",
   "id": "577e1931",
   "metadata": {
    "cell_style": "split",
    "slideshow": {
     "slide_type": "slide"
    }
   },
   "source": [
    "# Beispiele\n",
    "\n",
    "\n"
   ]
  },
  {
   "cell_type": "code",
   "execution_count": 45,
   "id": "7449d09c",
   "metadata": {},
   "outputs": [
    {
     "name": "stdout",
     "output_type": "stream",
     "text": [
      "Bestes Wanderwetter.\n"
     ]
    }
   ],
   "source": [
    "grad = 17\n",
    "\n",
    "if grad > 30:\n",
    "    print('Es ist vieeel zu heiß. Bloß nicht bewegen.')\n",
    "elif grad >= 25:\n",
    "    print('Angenehm warm - Pack die Badehose ein.')\n",
    "elif grad > 15:\n",
    "    print('Bestes Wanderwetter.')\n",
    "elif grad > 0:\n",
    "    print(\"Kalt - aber wozu gibt's warme Klamotten?\")\n",
    "else:\n",
    "    print('Brrrrrrrrrr')"
   ]
  },
  {
   "cell_type": "markdown",
   "id": "c326ad99",
   "metadata": {
    "slideshow": {
     "slide_type": "slide"
    }
   },
   "source": [
    "# Bedingungen\n",
    "\n",
    "Bei Bedingungen werden alle Zahlen implizit in Boolean verwandelt:\n",
    "\n",
    "- Zahlen:\n",
    "    0            -> False\n",
    "    alles andere -> True\n",
    "    \n",
    "- Strings:\n",
    "    Leerer String -> False\n",
    "    alles andere  -> True\n",
    "\n",
    "\n",
    "\n",
    "## Vergleichsoperatoren\n",
    "\n",
    "| Operator  | Beschreibung  | \n",
    "|----------|:-------------  |\n",
    "| == |  ist gleich |\n",
    "| != |  ist ungleich |\n",
    "| > | ist größer |\n",
    "| < | ist kleiner |\n",
    "| >=\t| ist größer oder gleich |\n",
    "| <= |\tist kleiner oder gleich|\n",
    "\n",
    "\n",
    "\n",
    "## Boolean (logische) Operatoren\n",
    "\n",
    "- **and**\n",
    "- **or**\n",
    "- **not**\n",
    "\n"
   ]
  },
  {
   "cell_type": "markdown",
   "id": "33413543",
   "metadata": {
    "slideshow": {
     "slide_type": "slide"
    }
   },
   "source": [
    "# Vergleichsoperatoren - Beispiele"
   ]
  },
  {
   "cell_type": "code",
   "execution_count": 53,
   "id": "f4f4c142",
   "metadata": {},
   "outputs": [
    {
     "name": "stdout",
     "output_type": "stream",
     "text": [
      "Hallo\n"
     ]
    }
   ],
   "source": [
    "if True:\n",
    "    print('Hello')"
   ]
  },
  {
   "cell_type": "code",
   "execution_count": 55,
   "id": "eb831589",
   "metadata": {
    "slideshow": {
     "slide_type": "fragment"
    }
   },
   "outputs": [],
   "source": [
    "if False:\n",
    "    print('Hello')"
   ]
  },
  {
   "cell_type": "code",
   "execution_count": 57,
   "id": "1b8acf1b",
   "metadata": {
    "slideshow": {
     "slide_type": "fragment"
    }
   },
   "outputs": [],
   "source": [
    "if 0:\n",
    "    print('Hello')"
   ]
  },
  {
   "cell_type": "code",
   "execution_count": 56,
   "id": "90dc6942",
   "metadata": {
    "slideshow": {
     "slide_type": "fragment"
    }
   },
   "outputs": [
    {
     "name": "stdout",
     "output_type": "stream",
     "text": [
      "Hello\n"
     ]
    }
   ],
   "source": [
    "if -20:\n",
    "    print('Hello')"
   ]
  },
  {
   "cell_type": "code",
   "execution_count": 58,
   "id": "ef06a568",
   "metadata": {
    "slideshow": {
     "slide_type": "fragment"
    }
   },
   "outputs": [],
   "source": [
    "if '':\n",
    "    print('Hello')"
   ]
  },
  {
   "cell_type": "code",
   "execution_count": 59,
   "id": "ef967bf3",
   "metadata": {
    "slideshow": {
     "slide_type": "fragment"
    }
   },
   "outputs": [
    {
     "name": "stdout",
     "output_type": "stream",
     "text": [
      "Hello\n"
     ]
    }
   ],
   "source": [
    "if 'Hello':\n",
    "    print('Hello')"
   ]
  },
  {
   "cell_type": "markdown",
   "id": "343f7581",
   "metadata": {
    "slideshow": {
     "slide_type": "slide"
    }
   },
   "source": [
    "# Zurück zu den automatisierten Wahltexten"
   ]
  },
  {
   "cell_type": "code",
   "execution_count": 68,
   "id": "b2797435",
   "metadata": {},
   "outputs": [
    {
     "name": "stdout",
     "output_type": "stream",
     "text": [
      "Die Wahl ist unentschieden. Helmut Wiese und Gundula Lobrecht erhalten beide 29.5 Prozent der Stimmen.\n"
     ]
    }
   ],
   "source": [
    "kandidat1 = 'Helmut Wiese'\n",
    "prozent1 = 29.5\n",
    "\n",
    "kandidat2 = 'Gundula Lobrecht'\n",
    "prozent2 = 29.5\n",
    "\n",
    "text = '{} gewinnt mit {} Prozent der Stimmen.'\n",
    "\n",
    "if prozent1 > prozent2:\n",
    "    text = text.format(kandidat1, prozent1)\n",
    "elif prozent1 < prozent2:\n",
    "    text = text.format(kandidat2, prozent2)\n",
    "else:\n",
    "    text = 'Die Wahl ist unentschieden. {} und {} erhalten beide {} Prozent der Stimmen.'\n",
    "    text = text.format(kandidat1, kandidat2, prozent1)\n",
    "    \n",
    "print(text)\n"
   ]
  },
  {
   "cell_type": "code",
   "execution_count": 67,
   "id": "5e16557c",
   "metadata": {
    "slideshow": {
     "slide_type": "slide"
    }
   },
   "outputs": [
    {
     "name": "stdout",
     "output_type": "stream",
     "text": [
      "WAHLEN IN ERFURT\n",
      "\n",
      "Helmut Wiese gewinnt mit 59.5 Prozent der Stimmen.\n"
     ]
    }
   ],
   "source": [
    "stadt = 'Görlitz'\n",
    "titel = 'Wahlen in {}'.format(stadt)\n",
    "\n",
    "kandidat1 = 'Helmut Wiese'\n",
    "prozent1 = 59.5\n",
    "\n",
    "kandidat2 = 'Gundula Lobrecht'\n",
    "prozent2 = 49.5\n",
    "\n",
    "text = '{} gewinnt mit {} Prozent der Stimmen.'\n",
    "\n",
    "if prozent1 > prozent2:\n",
    "    text = text.format(kandidat1, prozent1)\n",
    "elif prozent1 < prozent2:\n",
    "    text = text.format(kandidat2, prozent2)\n",
    "else:\n",
    "    text = 'Die Wahl ist unentschieden. {} und {} erhalten beide {} Prozent der Stimmen.'\n",
    "    text = text.format(kandidat1, kandidat2, prozent1)\n",
    "    \n",
    "    \n",
    "print(title.upper(), text, sep='\\n\\n')\n"
   ]
  },
  {
   "cell_type": "markdown",
   "id": "e68814cf",
   "metadata": {
    "slideshow": {
     "slide_type": "slide"
    }
   },
   "source": [
    "## Ein bisschen mehr Kontext...\n",
    "\n",
    "Wie groß ist der Vorsprung der führenden Kandidatin oder des führenden Kandidaten?"
   ]
  },
  {
   "cell_type": "code",
   "execution_count": 89,
   "id": "9fa9b4a0",
   "metadata": {
    "slideshow": {
     "slide_type": "slide"
    }
   },
   "outputs": [
    {
     "name": "stdout",
     "output_type": "stream",
     "text": [
      "WAHLEN IN GÖRLITZ\n",
      "\n",
      "Helmut Wiese gewinnt mit 59.5 Prozent der Stimmen. Dies entspricht einem Vorsprung von 10.0 Prozentpunkten zu Gundula Lobrecht.\n"
     ]
    }
   ],
   "source": [
    "stadt = 'Görlitz'\n",
    "titel = 'Wahlen in {}'.format(stadt)\n",
    "\n",
    "kandidat1 = 'Helmut Wiese'\n",
    "prozent1 = 59.5\n",
    "\n",
    "kandidat2 = 'Gundula Lobrecht'\n",
    "prozent2 = 49.5\n",
    "\n",
    "text_gewinner = '{} gewinnt mit {} Prozent der Stimmen.'\n",
    "text_vorsprung = 'Dies entspricht einem Vorsprung von {} Prozentpunkten zu {}.'\n",
    "\n",
    "if prozent1 > prozent2:\n",
    "    vorsprung = prozent1 - prozent2\n",
    "    text_vorsprung = text_vorsprung.format(vorsprung, kandidat2)\n",
    "    text_gewinner = text_gewinner.format(kandidat1, prozent1)   \n",
    "elif prozent1 < prozent2:\n",
    "    vorsprung = prozent2 - prozent1\n",
    "    text_vorsprung = text_vorsprung.format(vorsprung, kandidat1)\n",
    "    text_gewinner = text.format(kandidat2, prozent2)   \n",
    "else:\n",
    "    text_vorsprung = 'Die Wahl ist unentschieden. {} und {} erhalten beide {} Prozent der Stimmen.'\n",
    "    text_gewinner = text.format(kandidat1, kandidat2, prozent1)\n",
    "    \n",
    "print(titel.upper(), text_gewinner + ' ' + text_vorsprung, sep='\\n\\n')\n"
   ]
  },
  {
   "cell_type": "markdown",
   "id": "cf46b2e8",
   "metadata": {
    "slideshow": {
     "slide_type": "slide"
    }
   },
   "source": [
    "# Neu strukturiert..."
   ]
  },
  {
   "cell_type": "code",
   "execution_count": 106,
   "id": "c88d37e9",
   "metadata": {
    "slideshow": {
     "slide_type": "slide"
    }
   },
   "outputs": [
    {
     "name": "stdout",
     "output_type": "stream",
     "text": [
      "WAHLEN IN GÖRLITZ\n",
      "\n",
      "Helmut Wiese gewinnt mit 39.8 Prozent der Stimmen. Dies entspricht einem Vorsprung von 10.2 Prozentpunkten.\n"
     ]
    }
   ],
   "source": [
    "stadt = 'Görlitz'\n",
    "titel = 'Wahlen in {}'.format(stadt)\n",
    "\n",
    "kandidat1 = 'Helmut Wiese'\n",
    "prozent1 = 39.8\n",
    "kandidat2 = 'Gundula Lobrecht'\n",
    "prozent2 = 29.6\n",
    "\n",
    "if prozent1 == prozent2:\n",
    "    text = 'Die Wahl ist unentschieden. {} und {} erhalten beide {} Prozent der Stimmen.'\n",
    "    text = text.format(kandidat1, kandidat2, prozent1)\n",
    "else:\n",
    "    text_gewinner = '{} gewinnt mit {} Prozent der Stimmen.'\n",
    "    text_vorsprung = ' Dies entspricht einem Vorsprung von {} Prozentpunkten.' \n",
    "    gewinner = kandidat1\n",
    "    gewinner_prozent = prozent1\n",
    "    vorsprung = round(prozent1 - prozent2, 1)\n",
    "    \n",
    "    if prozent2 > prozent1:\n",
    "        gewinner = kandidat2\n",
    "        gewinner_prozent = kandidat2\n",
    "        vorsprung = round(prozent2 - prozent1, 1)\n",
    "\n",
    "    text_gewinner = text_gewinner.format(gewinner, gewinner_prozent)\n",
    "    text_vorsprung = text_vorsprung.format(vorsprung)\n",
    "    text = text_gewinner + text_vorsprung\n",
    "        \n",
    "print(titel.upper(), text, sep='\\n\\n')"
   ]
  },
  {
   "cell_type": "code",
   "execution_count": 7,
   "id": "e1a28483",
   "metadata": {
    "slideshow": {
     "slide_type": "slide"
    }
   },
   "outputs": [
    {
     "name": "stdout",
     "output_type": "stream",
     "text": [
      "WAHLEN IN GÖRLITZ\n",
      "\n",
      "29.9 gewinnt mit Helmut Wiese Prozent der Stimmen. Dies entspricht einem Vorsprung von 0.3 Prozentpunkten.\n"
     ]
    }
   ],
   "source": [
    "def berechne_vorsprung(proz1, proz2):\n",
    "    return round(proz1 - proz2, 1)\n",
    "\n",
    "def get_gewinner(proz1, kandidat1, proz2, kandidat2):\n",
    "    if prozent2 > prozent1:\n",
    "        return prozent2, kandidat2, berechne_vorsprung(proz2, proz1)\n",
    "    return prozent1, kandidat1, berechne_vorsprung(proz1, proz2)\n",
    "\n",
    "stadt = 'Görlitz'\n",
    "titel = 'Wahlen in {}'.format(stadt)\n",
    "\n",
    "kandidat1 = 'Helmut Wiese'\n",
    "prozent1 = 29.9\n",
    "kandidat2 = 'Gundula Lobrecht'\n",
    "prozent2 = 29.6\n",
    "\n",
    "if prozent1 == prozent2:\n",
    "    text = 'Die Wahl ist unentschieden. {} und {} erhalten beide {} Prozent der Stimmen.'\n",
    "    text = text.format(kandidat1, kandidat2, prozent1)\n",
    "else:\n",
    "    gewinner, gewinner_prozent, vorsprung = get_gewinner(prozent1, kandidat1, prozent2, kandidat2)\n",
    "    text_gewinner = '{} gewinnt mit {} Prozent der Stimmen.'.format(gewinner, gewinner_prozent)\n",
    "    text_vorsprung = ' Dies entspricht einem Vorsprung von {} Prozentpunkten.'.format(vorsprung)\n",
    "    text = text_gewinner + text_vorsprung\n",
    "        \n",
    "print(titel.upper(), text, sep='\\n\\n')"
   ]
  },
  {
   "cell_type": "code",
   "execution_count": 79,
   "id": "3ee39169",
   "metadata": {
    "slideshow": {
     "slide_type": "slide"
    }
   },
   "outputs": [
    {
     "name": "stdout",
     "output_type": "stream",
     "text": [
      "Wahlen in Görlitz\n",
      "\n",
      "Helmut Wiese gewinnt mit 29.5 Prozent der Stimmen. Dies ist ein minimaler Vorsprung von 0.8 Prozentpunkten. Helmut Wiese wird neuer Bürgermeister von Görlitz.\n"
     ]
    }
   ],
   "source": [
    "# Und noch ein bisschen....\n",
    "stadt = 'Görlitz'\n",
    "titel = 'Wahlen in {}'.format(stadt)\n",
    "\n",
    "candidate1 = 'Helmut Wiese'\n",
    "percentage1 = 29.5\n",
    "\n",
    "candidate2 = 'Gundula Lobrecht'\n",
    "percentage2 = 28.7\n",
    "\n",
    "\n",
    "if percentage1 == percentage2:\n",
    "    text = 'Die Wahl ist unentschieden. {} und {} erhalten beide {} Prozent der Stimmen.'\n",
    "    text = text.format(candidate1, candidate2, percentage1)\n",
    "else:\n",
    "    text = '{} gewinnt mit {} Prozent der Stimmen.'\n",
    "    vorsprung = ' Dies ist ein {} Vorsprung von {} Prozentpunkten.'\n",
    "    winner = candidate1\n",
    "    percentage = percentage1\n",
    "    difference = percentage1 - percentage2\n",
    "    \n",
    "    if percentage2 > percentage1:\n",
    "        winner = candidate2\n",
    "        percentage = percentage2\n",
    "        difference = percentage2 - percentage1\n",
    "        \n",
    "    text = text.format(winner, percentage)\n",
    "    \n",
    "    difference = round(difference, 1)\n",
    "    \n",
    "    if difference >= 0 and difference <= 1:\n",
    "        assess = 'minimaler'\n",
    "    elif difference > 1 and difference < 3:\n",
    "        assess = 'knapper'\n",
    "    elif difference >= 3 and difference < 5:\n",
    "        assess = ''\n",
    "    elif difference >= 5:\n",
    "        assess = 'erheblicher'\n",
    "    vorsprung = vorsprung.format(assess, difference)\n",
    "    \n",
    "    amtsinhaber = ' {} wird neuer Bürgermeister von {}.'\n",
    "    amtsinhaber = amtsinhaber.format(winner, stadt)\n",
    "    \n",
    "article = text + vorsprung + amtsinhaber    \n",
    "print(title, article, sep='\\n\\n')\n"
   ]
  },
  {
   "cell_type": "code",
   "execution_count": 14,
   "id": "905f7ada",
   "metadata": {
    "slideshow": {
     "slide_type": "slide"
    }
   },
   "outputs": [
    {
     "name": "stdout",
     "output_type": "stream",
     "text": [
      "WAHLEN IN GÖRLITZ\n",
      "\n",
      "Gundula Lobrecht gewinnt mit 29.7 Prozent der Stimmen. Dies ist ein minimaler Vorsprung von 0.2 Prozentpunkten. Damit wird Gundula Lobrecht neue Bürgermeisterin von Görlitz.\n"
     ]
    }
   ],
   "source": [
    "# Und noch ein bisschen....\n",
    "stadt = 'Görlitz'\n",
    "titel = 'Wahlen in {}'.format(stadt)\n",
    "\n",
    "candidate1 = 'Helmut Wiese'\n",
    "percentage1 = 29.5\n",
    "\n",
    "candidate2 = 'Gundula Lobrecht'\n",
    "percentage2 = 29.7\n",
    "\n",
    "\n",
    "if percentage1 == percentage2:\n",
    "    text = 'Die Wahl ist unentschieden. {} und {} erhalten beide {} Prozent der Stimmen.'\n",
    "    text = text.format(candidate1, candidate2, percentage1)\n",
    "else:\n",
    "    text = '{} gewinnt mit {} Prozent der Stimmen.'\n",
    "    vorsprung = ' Dies ist ein {} Vorsprung von {} Prozentpunkten.'\n",
    "    winner = candidate1\n",
    "    percentage = percentage1\n",
    "    difference = percentage1 - percentage2\n",
    "    \n",
    "    if percentage2 > percentage1:\n",
    "        winner = candidate2\n",
    "        percentage = percentage2\n",
    "        difference = percentage2 - percentage1\n",
    "        \n",
    "    text = text.format(winner, percentage)\n",
    "    \n",
    "    difference = round(difference, 1)\n",
    "    \n",
    "    if difference >= 0 and difference <= 1:\n",
    "        assess = 'minimaler'\n",
    "    elif difference > 1 and difference < 3:\n",
    "        assess = 'knapper'\n",
    "    elif difference >= 3 and difference < 5:\n",
    "        assess = ''\n",
    "    elif difference >= 5:\n",
    "        assess = 'erheblicher'\n",
    "    vorsprung = vorsprung.format(assess, difference)\n",
    "    \n",
    "    amtsinhaber = ' Damit wird {} neuer Bürgermeister von {}.'\n",
    "    amtsinhaber = amtsinhaber.format(winner, stadt)\n",
    "    if winner == candidate2:\n",
    "        amtsinhaber = amtsinhaber.replace('neuer Bürgermeister', 'neue Bürgermeisterin')\n",
    "    \n",
    "article = text + vorsprung + amtsinhaber    \n",
    "print(titel.upper(), article, sep='\\n\\n')\n"
   ]
  },
  {
   "cell_type": "markdown",
   "id": "e74a7453",
   "metadata": {
    "slideshow": {
     "slide_type": "slide"
    }
   },
   "source": [
    "# Zeit für Feedback\n",
    "\n",
    "\n",
    "\n",
    "Link: https://ahaslides.com/76EMY\n",
    "\n",
    "![Feedback QR Code](../imgs/qrcode_vl2.png)\n",
    "\n"
   ]
  }
 ],
 "metadata": {
  "celltoolbar": "Slideshow",
  "kernelspec": {
   "display_name": "Python 3 (ipykernel)",
   "language": "python",
   "name": "python3"
  },
  "language_info": {
   "codemirror_mode": {
    "name": "ipython",
    "version": 3
   },
   "file_extension": ".py",
   "mimetype": "text/x-python",
   "name": "python",
   "nbconvert_exporter": "python",
   "pygments_lexer": "ipython3",
   "version": "3.9.13"
  },
  "vscode": {
   "interpreter": {
    "hash": "f9f85f796d01129d0dd105a088854619f454435301f6ffec2fea96ecbd9be4ac"
   }
  }
 },
 "nbformat": 4,
 "nbformat_minor": 5
}
