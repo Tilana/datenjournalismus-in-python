{
 "cells": [
  {
   "cell_type": "markdown",
   "id": "e6306df5",
   "metadata": {},
   "source": [
    "\n",
    "# Fallunterscheidungen: if, else, elif\n",
    "\n",
    "\n",
    "\n",
    "## if-Bedingung \n",
    "\n",
    "Bei der *if-Bedingung* wird ein Teil des Codes nur dann ausgefüllt falls eine Bedingung erfüllt ist.\n",
    "\n",
    "\n",
    "Anders gesagt: \"Wenn dies, dann mach das\". \n",
    "\n",
    "\n",
    "\n",
    "### Syntax\n",
    "\n",
    "\n",
    "`if` ist das Schlüsselwort für die Fallunterscheidung. Dahinter folgt die eigentlich Bedingung, die ein Wahrheitswert (Boolean: entweder `True` oder `False` sein muss.\n",
    "Eingerückt befindet sich der Code der ausgeführt wird, falls die Bedingung zu `True` evaluiert.\n",
    "\n",
    "\n",
    "\n",
    "![if](../../imgs/if.png)\n",
    "\n",
    "\n",
    "### Beispiele"
   ]
  },
  {
   "cell_type": "code",
   "execution_count": 5,
   "id": "00eabba8",
   "metadata": {},
   "outputs": [],
   "source": [
    "# Wenn die Person älter als 18, gebe \"Person ist volljährig\" aus\n",
    "alter = 18\n",
    "if alter >= 18:\n",
    "    print('Person ist volljährig')"
   ]
  },
  {
   "cell_type": "code",
   "execution_count": 7,
   "id": "e0477730",
   "metadata": {},
   "outputs": [],
   "source": [
    "# Wenn eine Zahl restlos durch 2 teilbar ist, gib \"Zahl ist gerade\" aus\n",
    "zahl = 31\n",
    "if (zahl % 2) == 0:\n",
    "    print('Zahl ist gerade')"
   ]
  },
  {
   "cell_type": "code",
   "execution_count": 11,
   "id": "abcf0bd8",
   "metadata": {},
   "outputs": [],
   "source": [
    "# Wenn kein @ in der Mailadresse vorkommt, gib \"Mailadresse ist ungültig\" aus\n",
    "mail = 'testm@ailserver.com'\n",
    "if '@' not in mail:\n",
    "    print('Mailadresse ist ungültig')"
   ]
  },
  {
   "cell_type": "markdown",
   "id": "26767c71",
   "metadata": {},
   "source": [
    "\n",
    "## if-else - Bedingung \n",
    "\n",
    "\n",
    "Bei der *if-else* Bedingung wird zusätzlich zur *if* Bedingung, eine andere Anweisung ausgeführt falls die Bedingung nicht `True` ist.\n",
    "\n",
    "\n",
    "Anders gesagt: \"Wenn dies, dann führe Option 1 aus, wenn nicht Option 2\".  \n",
    "\n",
    "\n",
    "\n",
    "### Syntax\n",
    "\n",
    "\n",
    "```\n",
    "\n",
    "if <bedingung>:\n",
    "    # Code falls Bedingung True\n",
    "else:\n",
    "    # Code falls Bedingung False\n",
    "\n",
    "```\n",
    "\n",
    "\n",
    "### Beispiele"
   ]
  },
  {
   "cell_type": "code",
   "execution_count": 13,
   "id": "aec5feba",
   "metadata": {
    "scrolled": true
   },
   "outputs": [
    {
     "name": "stdout",
     "output_type": "stream",
     "text": [
      "Person ist minderjährig.\n"
     ]
    }
   ],
   "source": [
    "# Gib an ob eine Person volljährig ist oder nicht\n",
    "alter = 14\n",
    "if alter >= 18:\n",
    "    print('Person ist volljährig.')\n",
    "else:\n",
    "    print('Person ist minderjährig.')"
   ]
  },
  {
   "cell_type": "code",
   "execution_count": 24,
   "id": "de1d74d1",
   "metadata": {},
   "outputs": [
    {
     "name": "stdout",
     "output_type": "stream",
     "text": [
      "Achtung: durch 0 kann man nicht teilen!\n"
     ]
    }
   ],
   "source": [
    "# Teile zwei Zahlen durcheinander. Gib eine Fehlermeldung falls der Zähler = 0 ist\n",
    "a = 20\n",
    "b = 0\n",
    "if b != 0:\n",
    "    print(a/b)\n",
    "else:\n",
    "    print('Achtung: durch 0 kann man nicht teilen!')"
   ]
  },
  {
   "cell_type": "markdown",
   "id": "90612be2",
   "metadata": {},
   "source": [
    "\n",
    "## Mehrere Bedingungen: elif \n",
    "\n",
    "Mit *elif* können mehr als zwei Bedingungen überprüft und zur Ausführung von unterschiedlichen Anweisungen führen. \n",
    "\n",
    "Das Schlüsselwort ist zusammengesetzt aus *else* und *if*. Das heißt, die Anweisung wird nur ausgeführt wenn die vorherige Bedingung `False`wahr und die jetzige Bedingung `True` ist.\n",
    "  \n",
    "\n",
    "\n",
    "\n",
    "### Syntax\n",
    "\n",
    "\n",
    "```\n",
    "\n",
    "if <bedingung1>:\n",
    "    # Code falls Bedingung True\n",
    "elif <bedingung2>:\n",
    "    # Code falls Bedingung1 = False und Bedingung2 = True\n",
    "else:\n",
    "    # Code falls Bedingung1 = False und Bedingung2 = False\n",
    "\n",
    "```\n",
    "\n",
    "\n",
    "Es können beliebig viele *elif*-Bedingungen eingebaut werden.\n",
    "\n",
    "\n",
    "- **if** ist notwendig\n",
    "- **elif** optional, auch mehrere möglich\n",
    "- **else** optional, nur eine else Bedingung möglich\n",
    "\n",
    "\n",
    "![elif](../../imgs/elif.png)\n",
    "\n",
    "\n",
    "\n",
    "### Ausführung\n",
    "\n",
    "Jede Bedingung wird nacheinander abgearbeitet. Das Schema ist wie folgt:\n",
    "\n",
    "Die Bedingung wird evaluiert falls diese\n",
    "\n",
    "- **wahr** (`True`) ist: führe die Anweisung aus und überspringe alle anderen Bedingungen\n",
    "\n",
    "- **falsch** (`False`) ist: springe zur nächsten Bedingung\n",
    "\n",
    "\n",
    "### Beispiele"
   ]
  },
  {
   "cell_type": "code",
   "execution_count": 16,
   "id": "6396585e",
   "metadata": {},
   "outputs": [
    {
     "name": "stdout",
     "output_type": "stream",
     "text": [
      "x ist negativ.\n"
     ]
    }
   ],
   "source": [
    "x = -0.1\n",
    "if x == 0:\n",
    "    print('x ist Null.')\n",
    "elif x > 0:\n",
    "    print('x ist postiv.')\n",
    "else:\n",
    "    print('x ist negativ.')"
   ]
  },
  {
   "cell_type": "code",
   "execution_count": 22,
   "id": "2a61ac27",
   "metadata": {},
   "outputs": [
    {
     "name": "stdout",
     "output_type": "stream",
     "text": [
      "Angenehm warm - Pack die Badehose ein.\n"
     ]
    }
   ],
   "source": [
    "# Temperatureinordnung\n",
    "grad = 25\n",
    "if grad > 30:\n",
    "    print('Vieeel zu heiß!')\n",
    "elif grad >= 25:\n",
    "    print('Angenehm warm: Pack die Badehose ein.')\n",
    "elif grad >= 12:\n",
    "    print('Bestes Wanderwetter.')\n",
    "elif grad > 0:\n",
    "    print(\"Kalt... Aber wozu gibt's warme Klamotten?\")\n",
    "else:\n",
    "    print('Brrrrrrrrrr')"
   ]
  },
  {
   "cell_type": "markdown",
   "id": "fcbeb52f",
   "metadata": {},
   "source": [
    "## Verschachtelte if-Anweisungen\n",
    "\n",
    "*if-elif-else* Bedinungen können ineinander verschachtelt werden.\n",
    "\n",
    "Die gelernten Regeln zur Syntax und Ausführungsreihenfolge bleiben dabei bestehen."
   ]
  },
  {
   "cell_type": "code",
   "execution_count": 33,
   "id": "0e520b09",
   "metadata": {},
   "outputs": [
    {
     "name": "stdout",
     "output_type": "stream",
     "text": [
      "x positiv.\n"
     ]
    }
   ],
   "source": [
    "# Gib an ob eine Zahl positiv, negativ oder gleich Null ist\n",
    "x = 1\n",
    "if x >= 0:\n",
    "    if x > 0:\n",
    "        print('x ist positiv.')\n",
    "    else:\n",
    "        print('x ist 0.')\n",
    "else:\n",
    "    print('x ist negativ.')"
   ]
  }
 ],
 "metadata": {
  "kernelspec": {
   "display_name": "Python 3 (ipykernel)",
   "language": "python",
   "name": "python3"
  },
  "language_info": {
   "codemirror_mode": {
    "name": "ipython",
    "version": 3
   },
   "file_extension": ".py",
   "mimetype": "text/x-python",
   "name": "python",
   "nbconvert_exporter": "python",
   "pygments_lexer": "ipython3",
   "version": "3.9.15"
  },
  "vscode": {
   "interpreter": {
    "hash": "f9f85f796d01129d0dd105a088854619f454435301f6ffec2fea96ecbd9be4ac"
   }
  }
 },
 "nbformat": 4,
 "nbformat_minor": 5
}
