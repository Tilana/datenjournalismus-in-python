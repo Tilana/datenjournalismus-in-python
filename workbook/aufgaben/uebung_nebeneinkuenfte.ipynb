{
 "cells": [
  {
   "cell_type": "markdown",
   "metadata": {
    "slideshow": {
     "slide_type": "slide"
    }
   },
   "source": [
    "# Nebeneinkünfte von Lokalpolitiker:innen\n",
    "\n",
    "Wir analysieren die Nebeneinkünfte von Landrät:innen in Rheinlandpfalz basierend auf den Daten und der Recherche von [Correctiv](https://correctiv.org/aktuelles/wirtschaft/2021/06/24/nebeneinkuenfte-kommunalpolitiker-in-rheinland-pfalz-auf-gehaltslisten-von-rwe/#tabelle)\n",
    "\n",
    "\n",
    "Die folgenden theoretischen Grundlagen werden dabei besprochen und geübt:\n",
    "- Dictionaries\n",
    "- Listen\n",
    "- For-Schleifen\n",
    "- While-Schleifen\n",
    "- Flow Control\n",
    "\n",
    "\n"
   ]
  },
  {
   "cell_type": "markdown",
   "metadata": {
    "slideshow": {
     "slide_type": "slide"
    }
   },
   "source": [
    "![Correctiv Recherche](../../imgs/nebeneinkuenfte.png)"
   ]
  },
  {
   "cell_type": "markdown",
   "metadata": {
    "slideshow": {
     "slide_type": "slide"
    }
   },
   "source": [
    "## Beispieldaten\n",
    "\n",
    "Ein Einblick in die Nebeneinkünfte im Jahr 2020 von Manfred Schur (CDU), Landrat von Cochem-Zell."
   ]
  },
  {
   "cell_type": "code",
   "execution_count": 2,
   "metadata": {
    "slideshow": {
     "slide_type": "fragment"
    }
   },
   "outputs": [],
   "source": [
    "arbeitgeber = ['Altlastenzweckverband Tierische Nebenprodukte', 'Zweckverband Tierische Nebenprodukte Südwest', '(Zweckverband) Sparkasse Mittelmosel - Eifel Mosel Hunsrück', 'Sparkassenverband RP', 'RWE', 'Planungsgemeinschaft Mittelrhein-Westerwald', 'Westenergie', 'Abfallzweckverband Rhein-Mosel-Eifel', 'Rheinische Zusatzversorgungskasse', 'Agentur für Arbeit']\n",
    "verdienst = [8073, 8073, 6038, 5575, 5200, 2195, 2000, 600, 194, 26]"
   ]
  },
  {
   "cell_type": "markdown",
   "metadata": {
    "slideshow": {
     "slide_type": "slide"
    }
   },
   "source": [
    "### Überblick:\n",
    "\n",
    "1. Wie viel Geld verdient Manfred Schur an Nebeneinkünften insgesamt?\n",
    "2. Wie viel Geld erhält Manfred Schur von RWE?"
   ]
  },
  {
   "cell_type": "code",
   "execution_count": 3,
   "metadata": {
    "slideshow": {
     "slide_type": "fragment"
    }
   },
   "outputs": [],
   "source": [
    "# 1."
   ]
  },
  {
   "cell_type": "code",
   "execution_count": 5,
   "metadata": {
    "slideshow": {
     "slide_type": "fragment"
    }
   },
   "outputs": [],
   "source": [
    "# 2."
   ]
  },
  {
   "cell_type": "markdown",
   "metadata": {
    "slideshow": {
     "slide_type": "slide"
    }
   },
   "source": [
    "## Daten als Dictionary"
   ]
  },
  {
   "cell_type": "code",
   "execution_count": 8,
   "metadata": {
    "slideshow": {
     "slide_type": "fragment"
    }
   },
   "outputs": [],
   "source": [
    "nebeneinkünfte = {'Altlastenzweckverband Tierische Nebenprodukte': 8073,\n",
    "                  'Zweckverband Tierische Nebenprodukte Südwest': 8073,\n",
    "                  '(Zweckverband) Sparkasse Mittelmosel - Eifel Mosel Hunsrück': 6038,\n",
    "                  'Sparkassenverband RP': 5575,\n",
    "                  'RWE': 5200,\n",
    "                  'Planungsgemeinschaft Mittelrhein-Westerwald': 2195,\n",
    "                  'Westenergie': 2000,\n",
    "                  'Abfallzweckverband Rhein-Mosel-Eifel': 600,\n",
    "                  'Rheinische Zusatzversorgungskasse': 194,\n",
    "                  'Agentur für Arbeit': 26}"
   ]
  },
  {
   "cell_type": "markdown",
   "metadata": {
    "slideshow": {
     "slide_type": "slide"
    }
   },
   "source": [
    "### Überblick:\n",
    "\n",
    "1. Wie viel Geld verdient Manfred Schur an Nebeneinkünften insgesamt?\n",
    "2. Wie viel Geld erhält Manfred Schur von RWE?"
   ]
  },
  {
   "cell_type": "code",
   "execution_count": 11,
   "metadata": {
    "slideshow": {
     "slide_type": "fragment"
    }
   },
   "outputs": [],
   "source": [
    "# 1. Wie viel Geld verdient Manfred Schur an Nebeneinkünften insgesamt?\n"
   ]
  },
  {
   "cell_type": "code",
   "execution_count": 12,
   "metadata": {
    "slideshow": {
     "slide_type": "fragment"
    }
   },
   "outputs": [],
   "source": [
    "# 2. Wie viel Geld erhält Manfred Schur von RWE\n"
   ]
  },
  {
   "cell_type": "markdown",
   "metadata": {
    "slideshow": {
     "slide_type": "slide"
    }
   },
   "source": [
    "## Verschachtelte Dictionaries ....\n"
   ]
  },
  {
   "cell_type": "code",
   "execution_count": 10,
   "metadata": {
    "slideshow": {
     "slide_type": "fragment"
    }
   },
   "outputs": [],
   "source": [
    "data_cochemzell = {\n",
    "                    'landrat': 'Manfred Schur',\n",
    "                    'partei': 'CDU',\n",
    "                    'nebeneinkünfte': {'Altlastenzweckverband Tierische Nebenprodukte': 8073,\n",
    "                                      'Zweckverband Tierische Nebenprodukte Südwest': 8073,\n",
    "                                      '(Zweckverband) Sparkasse Mittelmosel - Eifel Mosel Hunsrück': 6038,\n",
    "                                      'Sparkassenverband RP': 5575,\n",
    "                                      'RWE': 5200,\n",
    "                                      'Planungsgemeinschaft Mittelrhein-Westerwald': 2195,\n",
    "                                      'Westenergie': 2000,\n",
    "                                      'Abfallzweckverband Rhein-Mosel-Eifel': 600,\n",
    "                                      'Rheinische Zusatzversorgungskasse': 194,\n",
    "                                      'Agentur für Arbeit': 26,\n",
    "                                      }\n",
    "                 }"
   ]
  },
  {
   "cell_type": "code",
   "execution_count": 11,
   "metadata": {
    "slideshow": {
     "slide_type": "slide"
    }
   },
   "outputs": [
    {
     "data": {
      "text/plain": [
       "dict"
      ]
     },
     "execution_count": 11,
     "metadata": {},
     "output_type": "execute_result"
    }
   ],
   "source": [
    "type(data_cochemzell)"
   ]
  },
  {
   "cell_type": "code",
   "execution_count": 12,
   "metadata": {
    "slideshow": {
     "slide_type": "fragment"
    }
   },
   "outputs": [
    {
     "name": "stdout",
     "output_type": "stream",
     "text": [
      "<class 'str'>\n"
     ]
    }
   ],
   "source": [
    "data_cochemzell['partei']\n"
   ]
  },
  {
   "cell_type": "code",
   "execution_count": 14,
   "metadata": {},
   "outputs": [
    {
     "data": {
      "text/plain": [
       "str"
      ]
     },
     "execution_count": 14,
     "metadata": {},
     "output_type": "execute_result"
    }
   ],
   "source": [
    "type(data_cochemzell['partei'])"
   ]
  },
  {
   "cell_type": "code",
   "execution_count": 13,
   "metadata": {
    "slideshow": {
     "slide_type": "fragment"
    }
   },
   "outputs": [
    {
     "data": {
      "text/plain": [
       "{'Altlastenzweckverband Tierische Nebenprodukte': 8073,\n",
       " 'Zweckverband Tierische Nebenprodukte Südwest': 8073,\n",
       " '(Zweckverband) Sparkasse Mittelmosel - Eifel Mosel Hunsrück': 6038,\n",
       " 'Sparkassenverband RP': 5575,\n",
       " 'RWE': 5200,\n",
       " 'Planungsgemeinschaft Mittelrhein-Westerwald': 2195,\n",
       " 'Westenergie': 2000,\n",
       " 'Abfallzweckverband Rhein-Mosel-Eifel': 600,\n",
       " 'Rheinische Zusatzversorgungskasse': 194,\n",
       " 'Agentur für Arbeit': 26}"
      ]
     },
     "execution_count": 13,
     "metadata": {},
     "output_type": "execute_result"
    }
   ],
   "source": [
    "data_cochemzell['nebeneinkünfte']"
   ]
  },
  {
   "cell_type": "code",
   "execution_count": 16,
   "metadata": {},
   "outputs": [
    {
     "data": {
      "text/plain": [
       "37974"
      ]
     },
     "execution_count": 16,
     "metadata": {},
     "output_type": "execute_result"
    }
   ],
   "source": [
    "def summe(nebeneinkünfte):\n",
    "    return sum(nebeneinkünfte.values())\n",
    "\n",
    "summe(data_cochemzell['nebeneinkünfte'])"
   ]
  },
  {
   "cell_type": "markdown",
   "metadata": {
    "slideshow": {
     "slide_type": "slide"
    }
   },
   "source": [
    "## Alle Nebeneinkünfte von allen Landrät:innen in Rheinlandpfalz im Jahr 2020."
   ]
  },
  {
   "cell_type": "code",
   "execution_count": 18,
   "metadata": {
    "slideshow": {
     "slide_type": "slide"
    }
   },
   "outputs": [],
   "source": [
    "data = [\n",
    " {'kreis': 'Landkreis Mainz-Bingen',\n",
    "  'nebeneinkünfte': {'Planungsgemeinschaft Rheinhessen-Nahe': 1200,\n",
    "                     'Rheinhessenwein e.V.': 25,\n",
    "                     'Sparkasse Mainz': 8944,\n",
    "                     'Zweckverband Sparkasse Mainz': 200,\n",
    "                     'Zweckverband Sparkasse Rhein-Nahe': 9444,\n",
    "                     'Zweckverband Verkehrsbund Rhein Nahe': 613.55},\n",
    "  'partei': 'CDU',\n",
    "  'person': 'Dorothea Schäfer'},\n",
    " {'kreis': 'Kreisfreie Stadt Frankenthal (Pfalz)',\n",
    "  'nebeneinkünfte': {'Gewässerzweckverband Isenach-Eckbach': 6600,\n",
    "                     'Pfälzische Pensionsanstalt': 200,\n",
    "                     'Sparkasse Rhein-Haardt': 4074.96,\n",
    "                     'Sparkassenverband RP': 5575,\n",
    "                     'Verband Region Rhein-Neckar': 1560,\n",
    "                     'Zweckverband Sparkasse Rhein-Haardt': 135},\n",
    "  'partei': 'CDU',\n",
    "  'person': 'Martin Hebich'},\n",
    " {'kreis': 'Landkreis Trier-Saarburg',\n",
    "  'nebeneinkünfte': {'Innogy Westenergie': 1000,\n",
    "                     'Kommunaler Rat': 25.56,\n",
    "                     'Landkreistag RP': 6100,\n",
    "                     'RWE': 129000,\n",
    "                     'Sparkasse Trier': 9544,\n",
    "                     'Sparkassen- und Giroverband RP': 5898.65,\n",
    "                     'Zweckverband Industriepark Region Trier': 2208,\n",
    "                     'Zweckverband Sparkasse Trier': 150},\n",
    "  'partei': 'CDU',\n",
    "  'person': 'Günther Schartz'},\n",
    " {'kreis': 'Kreisfreie Stadt Mainz',\n",
    "  'nebeneinkünfte': {'Gas-Union Frankfurth/Mainz': 7812.5,\n",
    "                     'Sparkasse Mainz': 8844,\n",
    "                     'Zweckverband der Sparkasse Mainz': 300},\n",
    "  'partei': 'SPD',\n",
    "  'person': 'Michael Ebling'},\n",
    " {'kreis': 'Kreisfreie Stadt Speyer',\n",
    "  'nebeneinkünfte': {'Kommunaler Rat': 76.68,\n",
    "                     'Kreditausschuss': 400,\n",
    "                     'Sparkasse Vorderpfalz': 400,\n",
    "                     'Sparkassenverband RP': 7644,\n",
    "                     'Zweckverband Sparkasse Vorderpfalz': 320},\n",
    "  'partei': 'SPD',\n",
    "  'person': 'Stefanie Seiler'},\n",
    " {'kreis': 'Landkreis Kusel',\n",
    "  'nebeneinkünfte': {'Fremdenverkehrszweckverband': 1533.84,\n",
    "                     'Kreissparkasse Kusel': 6880},\n",
    "  'partei': 'CDU',\n",
    "  'person': 'Otto Rubly'},\n",
    " {'kreis': 'Kreisfreie Stadt Trier',\n",
    "  'nebeneinkünfte': {'Sparkasse Trier': 8944},\n",
    "  'partei': 'SPD',\n",
    "  'person': 'Wolfram Leibe'},\n",
    " {'kreis': 'Landkreis Bad Dürkheim',\n",
    "  'nebeneinkünfte': {'Landkreistag RP': 100,\n",
    "                     'Pfälzische Pensionsanstalt': 300,\n",
    "                     'Sparkasse Rhein-Haardt': 6950.04,\n",
    "                     'Verband Region Rhein-Neckar': 540,\n",
    "                     'Zweckverband Sparkasse Rhein-Haardt': 270,\n",
    "                     'Zweckverbandes Pollichia-Museum': 783.96},\n",
    "  'partei': 'CDU',\n",
    "  'person': 'Hans-Ulrich Ihlenfeld'},\n",
    " {'kreis': 'Landkreis Cochem-Zell',\n",
    "  'nebeneinkünfte': {'(Zweckverband) Sparkasse Mittelmosel - Eifel Mosel Hunsrück': 6038,\n",
    "                     'Abfallzweckverband Rhein-Mosel-Eifel': 600,\n",
    "                     'Agentur für Arbeit': 26,\n",
    "                     'Altlastenzweckverband Tierische Nebenprodukte': 8073.24,\n",
    "                     'Planungsgemeinschaft Mittelrhein-Westerwald': 2195,\n",
    "                     'RWE': 5200,\n",
    "                     'Rheinische Zusatzversorgungskasse': 194,\n",
    "                     'Sparkassenverband RP': 5575,\n",
    "                     'Westenergie': 2000,\n",
    "                     'Zweckverband Tierische Nebenprodukte Südwest': 8073.24},\n",
    "  'partei': 'CDU',\n",
    "  'person': 'Manfred Schnur'},\n",
    " {'kreis': 'Landkreis Südwestpfalz',\n",
    "  'nebeneinkünfte': {'Bezirkstag Pfalz': 2100,\n",
    "                     'Institut für Medien und Pädagogik e. V.': 17.9,\n",
    "                     'Kommunaler Rat': 51.12,\n",
    "                     'Landkreistag RP': 50,\n",
    "                     'Sparkasse Südwestpfalz': 8544,\n",
    "                     'Zweckverband Entwicklungsgebiet Flugplatz ZW': 1380.51},\n",
    "  'partei': 'CDU',\n",
    "  'person': 'Susanne Ganster'},\n",
    " {'kreis': 'Kreisfreie Stadt Kaiserslautern',\n",
    "  'nebeneinkünfte': {'Sparkassen- und Giroverband RP': 5269,\n",
    "                     'Stadtsparkasse': 5704},\n",
    "  'partei': 'SPD',\n",
    "  'person': 'Klaus Weichel'},\n",
    " {'kreis': 'Rhein-Lahn-Kreis',\n",
    "  'nebeneinkünfte': {'Agentur für Arbeit': 26,\n",
    "                     'Altlastenzweckverband Tierische Nebenprodukte': 3924.48,\n",
    "                     'Baugenossenschaft Rhein-Lahn eG': 200,\n",
    "                     'Kommunaler Rat': 51.12,\n",
    "                     'Landesbank Baden-Württemberg': 1283.33,\n",
    "                     'Nassauische Sparkasse': 4832.88,\n",
    "                     'Süwag Energie AG': 8000,\n",
    "                     'Zweckverband Tierische Nebenprodukte Südwest': 3924.48},\n",
    "  'partei': 'SPD',\n",
    "  'person': 'Frank Puchtler'},\n",
    " {'kreis': 'Landkreis Südliche Weinstraße',\n",
    "  'nebeneinkünfte': {'Agentur für Arbeit': 52,\n",
    "                     'Bezirksverband Pfalz': 150,\n",
    "                     'Landeszentrale für Medien und Kommunikation': 893,\n",
    "                     'Landkreistag RP': 50,\n",
    "                     'Pfalzklinikum für Psychiatrie u. Neurologie (AdöR)': 200,\n",
    "                     'Sparkasse Südliche Weinstraße': 9594,\n",
    "                     'Verband Region Rhein-Neckar': 660},\n",
    "  'partei': 'CDU',\n",
    "  'person': 'Dietmar Seefeldt'},\n",
    " {'kreis': 'Kreisfreie Stadt Ludwigshafen am Rhein',\n",
    "  'nebeneinkünfte': {'Sparkasse Vorderpfalz': 8644,\n",
    "                     'Verband Region Rhein-Neckar': 144},\n",
    "  'partei': 'SPD',\n",
    "  'person': 'Jutta Steinruck'},\n",
    " {'kreis': 'Landkreis Bernkastel-Wittlich',\n",
    "  'nebeneinkünfte': {'Agentur für Arbeit': 26,\n",
    "                     'Altlastenzweckverband Tierische Nebenprodukte': 50,\n",
    "                     'RWE': 5200,\n",
    "                     'Sparkasse Mittelmosel - Eifel Mosel Hunsrück': 400,\n",
    "                     'Zweckverband Abfallwirtschaft Region Trier': 7848,\n",
    "                     'Zweckverband Sparkasse Mittelmosel - Eifel Mosel Hunsrück': 8324},\n",
    "  'partei': 'CDU',\n",
    "  'person': 'Gregor Eibes'},\n",
    " {'kreis': 'Kreisfreie Stadt Neustadt an der Weinstraße',\n",
    "  'nebeneinkünfte': {'Sparkasse Rhein-Haardt': 4074.96,\n",
    "                     'Sparkassenverband RP': 231,\n",
    "                     'Verband Region Rhein-Neckar': 800,\n",
    "                     'Zusatzversorgungskasse der bayerischen Gemeinden': 250,\n",
    "                     'Zweckverband Sparkasse Rhein-Haardt': 135},\n",
    "  'partei': 'Freie Wähler',\n",
    "  'person': 'Marc Weigel'},\n",
    " {'kreis': 'Landkreis Germersheim',\n",
    "  'nebeneinkünfte': {'Landkreistag RP': 50,\n",
    "                     'Park & Bellheimer AG': 5950,\n",
    "                     'Pfälzische Pensionsanstalt': 100,\n",
    "                     'Sparkasse Germersheim-Kandel': 6680,\n",
    "                     'Sparkassen- und Giroverband RP': 14073.41,\n",
    "                     'Verkehrsverbund Rhein-Neckar': 1800,\n",
    "                     'Zweckverband Schienenpersonennahverkehr Süd': 7464},\n",
    "  'partei': 'CDU',\n",
    "  'person': 'Fritz Brechtel'},\n",
    " {'kreis': 'Kreisfreie Stadt Worms',\n",
    "  'nebeneinkünfte': {'Sparkasse Worms-Alzey-Ried': 8944,\n",
    "                     'Zweckverband Sparkasse Worms-Alzey-Ried': 150},\n",
    "  'partei': 'CDU',\n",
    "  'person': 'Adolf Kessel'},\n",
    " {'kreis': 'Rhein-Hunsrück-Kreis',\n",
    "  'nebeneinkünfte': {'Kreissparkasse Rhein-Hunsrück': 6980},\n",
    "  'partei': 'CDU',\n",
    "  'person': 'Marlon Brähr'},\n",
    " {'kreis': 'Landkreis Bad Kreuznach',\n",
    "  'nebeneinkünfte': {'Landkreistag RP': 50,\n",
    "                     'Sparkasse (div. Ebenen)': 9544,\n",
    "                     'Westenergie': 1000},\n",
    "  'partei': 'CDU',\n",
    "  'person': 'Bettina Dickes'},\n",
    " {'kreis': 'Kreisfreie Stadt Landau in der Pfalz',\n",
    "  'nebeneinkünfte': {'Kommunaler Rat': 51.12,\n",
    "                     'Sparkasse Südliche Weinstraße': 6698,\n",
    "                     'Sparkassenverband RP': 6236,\n",
    "                     'Zweckverband Sparkasse Südliche Weinstraße': 450},\n",
    "  'partei': 'CDU',\n",
    "  'person': 'Thomas Hirsch'},\n",
    " {'kreis': 'Westerwaldkreis',\n",
    "  'nebeneinkünfte': {'Landkreistag RP': 50,\n",
    "                     'Nassauische Sparkasse': 6978.95,\n",
    "                     'Planungsgemeinschaft Mittelrhein-Westerwald': 220,\n",
    "                     'Sparkasse Westerwald-Sieg': 9044,\n",
    "                     'Sparkassenverband RP': 308,\n",
    "                     'Sparkassenzweckverband Nassau': 383.45,\n",
    "                     'Sparkassenzweckverband Westerwald-Sieg': 100},\n",
    "  'partei': 'CDU',\n",
    "  'person': 'Achim Schwickert'},\n",
    " {'kreis': 'Eifelkreis Bitburg-Prüm',\n",
    "  'nebeneinkünfte': {'Beirat für Kommunalentwicklung RP': 190.16,\n",
    "                     'Kreissparkasse Bitburg-Prüm': 7080,\n",
    "                     'Kreisvolkshochschule': 3597,\n",
    "                     'Planungsgemeinschaft Region Trier': 600,\n",
    "                     'RWE': 6155,\n",
    "                     'Saarländischer Schwesternverband': 7735,\n",
    "                     'Westenergie': 1160,\n",
    "                     'Zweckverband Berufsbildungszentrum Bitburg-Prüm': 5181,\n",
    "                     'Zweckverband Flugplatz Bitburg': 5186,\n",
    "                     'Zweckverband Naturpark Südeifel': 5973,\n",
    "                     'Zweckverband Schienen-Personen-NahVerker': 3723,\n",
    "                     'Zweckverband Stausee Bitburg': 20,\n",
    "                     'Zweckverband Verkehrsbund Region Trier': 7032},\n",
    "  'partei': 'Freie Wähler',\n",
    "  'person': 'Joachim Streit'},\n",
    " {'kreis': 'Landkreis Birkenfeld',\n",
    "  'nebeneinkünfte': {'Kreissparkasse Birkenfeld': 6780,\n",
    "                     'Landkreistag RP': 100,\n",
    "                     'Planungsgemeinschaft Rheinhessen-Nahe': 100,\n",
    "                     'RWE': 5200,\n",
    "                     'Sparkassenverband RP': 153},\n",
    "  'partei': 'CDU',\n",
    "  'person': 'Matthias Schneider'},\n",
    " {'kreis': 'Landkreis Alzey-Worms',\n",
    "  'nebeneinkünfte': {'Innogy Westenergie': 1000,\n",
    "                     'Landkreistag RP': 150,\n",
    "                     'Planungsgemeinschaft Rheinhessen-Nahe': 1200,\n",
    "                     'Rheinhessenwein e.V.': 50,\n",
    "                     'Sparkasse Worms-Alzey-Ried': 9094,\n",
    "                     'Sparkassenverband RP': 5883},\n",
    "  'partei': 'SPD',\n",
    "  'person': 'Heiko Sippel'},\n",
    " {'kreis': 'Rhein-Pfalz-Kreis',\n",
    "  'nebeneinkünfte': {'Bezirksverband Pfalz': 100,\n",
    "                     'Landkreistag RP': 50,\n",
    "                     'Sparkasse Vorderpfalz': 8664,\n",
    "                     'Sparkassenverband RP': 308,\n",
    "                     'Verband Region Rhein-Neckar': 240},\n",
    "  'partei': 'CDU',\n",
    "  'person': 'Clemens Kärner'},\n",
    " {'kreis': 'Donnersbergkreis',\n",
    "  'nebeneinkünfte': {'Landkreistag RP': 100,\n",
    "                     'Planungsgemeinschaft Westpfalz': 780,\n",
    "                     'Sparkasse Donnersberg': 6842},\n",
    "  'partei': 'parteilos',\n",
    "  'person': 'Rainer Guth'},\n",
    " {'kreis': 'Landkreis Altenkirchen',\n",
    "  'nebeneinkünfte': {'RWE': 1000,\n",
    "                     'Sparkasse Westerwald-Sieg': 9244,\n",
    "                     'Zweckverband Sparkasse Westerwald-Sieg': 100},\n",
    "  'partei': 'CDU',\n",
    "  'person': 'Peter Enders'},\n",
    " {'kreis': 'Kreisfreie Stadt Pirmasens',\n",
    "  'nebeneinkünfte': {'Zweckverband Abfallverwertung Südwestpfalz': 3060},\n",
    "  'partei': 'CDU',\n",
    "  'person': 'Markus Zwick'},\n",
    " {'kreis': 'Landkreis Ahrweiler',\n",
    "  'nebeneinkünfte': {'Kreissparkasse Ahrweiler': 7080,\n",
    "                     'RWE': 5200,\n",
    "                     'Rheinland-Westenenergie': 2000,\n",
    "                     'Sparkassenverband RP': 5269,\n",
    "                     'Wasserversorgung Zweckverband Main-Eifel': 873.13,\n",
    "                     'Zweckverband SPNV': 7446},\n",
    "  'partei': 'CDU',\n",
    "  'person': 'Jürgen Pfähler'},\n",
    " {'kreis': 'Landkreis Kaiserslautern',\n",
    "  'nebeneinkünfte': {'Kreissparkasse Kaiserslautern': 9284},\n",
    "  'partei': 'CDU',\n",
    "  'person': 'Ralf Leßmeister'},\n",
    " {'kreis': 'Landkreis Neuwied',\n",
    "  'nebeneinkünfte': {'Landesmusikverband RLP': 480,\n",
    "                     'Landkreistag RP': 75,\n",
    "                     'Planungsgemeinschaft Mittelrhein-Westerwald': 165,\n",
    "                     'Sparkasse Neuwied': 8644,\n",
    "                     'Sparkasse Neuwied (Verbandsversammlung)': 200,\n",
    "                     'Süwag Energie AG': 3000},\n",
    "  'partei': 'CDU',\n",
    "  'person': 'Achim Hallerbach'},\n",
    " {'kreis': 'Kreisfreie Stadt Zweibrücken',\n",
    "  'nebeneinkünfte': {'Pfälzische Pensionsanstalt': 100,\n",
    "                     'Sparkasse Südwestpfalz': 5698,\n",
    "                     'ZAB consult GmbH': 1800,\n",
    "                     'Zweckverband der Entwicklungsgesellschaft Flugplatz Zweibrücken': 1687.29},\n",
    "  'partei': 'SPD',\n",
    "  'person': 'Marold Wosnitza'},\n",
    " {'kreis': 'Kreisfreie Stadt Koblenz',\n",
    "  'nebeneinkünfte': {'Sparkasse Koblenz': 9344, 'Sparkassenverband RP': 3016.7},\n",
    "  'partei': 'SPD',\n",
    "  'person': 'David Langner'},\n",
    " {'kreis': 'Landkreis Mayen-Koblenz',\n",
    "  'nebeneinkünfte': {'Fremdenverkehrszweckverband': 1860,\n",
    "                     'Hausverwaltung Schon & Müller': 100,\n",
    "                     'Innogy Westenergie': 2000,\n",
    "                     'Kreissparkasse Mayen': 7580,\n",
    "                     'Landkreistag RP': 950,\n",
    "                     'Planungsgemeinschaft Mittelrhein-Westerwald': 165,\n",
    "                     'RWE': 5200,\n",
    "                     'Sparkasse Koblenz': 9544,\n",
    "                     'Sparkassen Finanzdienste': 300,\n",
    "                     'Sparkassenverband RP': 5500,\n",
    "                     'Unfallkasse RP': 75,\n",
    "                     'Wasserversorgung Zweckverband Main-Eifel': 5658,\n",
    "                     'Zweckverband Industriepark A61': 225,\n",
    "                     'Zweckverband Vulkanpark': 150},\n",
    "  'partei': 'CDU',\n",
    "  'person': 'Alexander Saftig'}]"
   ]
  },
  {
   "cell_type": "markdown",
   "metadata": {
    "slideshow": {
     "slide_type": "slide"
    }
   },
   "source": [
    "### Aufgabe:\n",
    "Berechne die Summe der Nebenkünfte und füge sie ins Dictionary ein"
   ]
  },
  {
   "cell_type": "code",
   "execution_count": 22,
   "metadata": {
    "slideshow": {
     "slide_type": "fragment"
    }
   },
   "outputs": [],
   "source": [
    "# Funktion, die die Summe aller Nebenverdienste berechnet\n",
    "def summe(nebenverdienste):\n",
    "    return round(sum(nebenverdienste.values()), 0)"
   ]
  },
  {
   "cell_type": "code",
   "execution_count": 23,
   "metadata": {
    "slideshow": {
     "slide_type": "fragment"
    }
   },
   "outputs": [
    {
     "name": "stdout",
     "output_type": "stream",
     "text": [
      "Landkreis Mainz-Bingen\n",
      "Kreisfreie Stadt Frankenthal (Pfalz)\n",
      "Landkreis Trier-Saarburg\n",
      "Kreisfreie Stadt Mainz\n",
      "Kreisfreie Stadt Speyer\n",
      "Landkreis Kusel\n",
      "Kreisfreie Stadt Trier\n",
      "Landkreis Bad Dürkheim\n",
      "Landkreis Cochem-Zell\n",
      "Landkreis Südwestpfalz\n",
      "Kreisfreie Stadt Kaiserslautern\n",
      "Rhein-Lahn-Kreis\n",
      "Landkreis Südliche Weinstraße\n",
      "Kreisfreie Stadt Ludwigshafen am Rhein\n",
      "Landkreis Bernkastel-Wittlich\n",
      "Kreisfreie Stadt Neustadt an der Weinstraße\n",
      "Landkreis Germersheim\n",
      "Kreisfreie Stadt Worms\n",
      "Rhein-Hunsrück-Kreis\n",
      "Landkreis Bad Kreuznach\n",
      "Kreisfreie Stadt Landau in der Pfalz\n",
      "Westerwaldkreis\n",
      "Eifelkreis Bitburg-Prüm\n",
      "Landkreis Birkenfeld\n",
      "Landkreis Alzey-Worms\n",
      "Rhein-Pfalz-Kreis\n",
      "Donnersbergkreis\n",
      "Landkreis Altenkirchen\n",
      "Kreisfreie Stadt Pirmasens\n",
      "Landkreis Ahrweiler\n",
      "Landkreis Kaiserslautern\n",
      "Landkreis Neuwied\n",
      "Kreisfreie Stadt Zweibrücken\n",
      "Kreisfreie Stadt Koblenz\n",
      "Landkreis Mayen-Koblenz\n"
     ]
    }
   ],
   "source": [
    "# Einfügen der Summe ins Dictionary\n",
    "for kreisdata in data:\n",
    "    print(kreisdata['kreis'])\n",
    "    kreisdata['summe'] = summe(kreisdata['nebeneinkünfte'])"
   ]
  },
  {
   "cell_type": "markdown",
   "metadata": {
    "slideshow": {
     "slide_type": "slide"
    }
   },
   "source": [
    "## Weitere Recherchefragen\n",
    "\n",
    "- Ist der Datensatz vollständig?\n",
    "- Wer verdient am meisten? In welchem Landkreis ist der:die Landrat:in im Amt?\n",
    "- Welche Firmen sind beteiligt? Wie viel bezahlen diese ingesamt an Landrät:innen?\n",
    "- Wie sind die Nebeneinkünfte auf die Parteien verteilt?"
   ]
  },
  {
   "cell_type": "code",
   "execution_count": 19,
   "metadata": {
    "slideshow": {
     "slide_type": "slide"
    }
   },
   "outputs": [
    {
     "data": {
      "text/plain": [
       "35"
      ]
     },
     "execution_count": 19,
     "metadata": {},
     "output_type": "execute_result"
    }
   ],
   "source": [
    "# Vollständigkeit der Daten prüfen\n"
   ]
  },
  {
   "cell_type": "code",
   "execution_count": null,
   "metadata": {},
   "outputs": [],
   "source": [
    "len(data)"
   ]
  },
  {
   "cell_type": "markdown",
   "metadata": {
    "slideshow": {
     "slide_type": "fragment"
    }
   },
   "source": [
    "**Zusatz:** Laut Wikipedia gibt es 24 Landkreise und 12 kreisfreien Städte. Also insgesamt 36 Landrät:innen. Daher fehlen die Daten zu einem Kreis.\n",
    "Auf der Seite von Correctiv gibt es den Hinweis, dass Julia Gieseking, Landrätin in der Vulkaneifel, ihre Nebenverdienste nicht fristgerecht eingereicht hat."
   ]
  },
  {
   "cell_type": "markdown",
   "metadata": {
    "slideshow": {
     "slide_type": "slide"
    }
   },
   "source": [
    "Erstelle eine List mit den Gesamtnebeneinkünften der Landrät:innen.\n",
    "Gib das Minimum, Maximum und den Durchschnitt an Nebeneinkünften an."
   ]
  },
  {
   "cell_type": "code",
   "execution_count": 24,
   "metadata": {
    "slideshow": {
     "slide_type": "fragment"
    }
   },
   "outputs": [
    {
     "name": "stdout",
     "output_type": "stream",
     "text": [
      "[20427.0, 18145.0, 153926.0, 16956.0, 8841.0, 8414.0, 8944, 8944.0, 37974.0, 12144.0, 10973, 22242.0, 11599, 8788, 21848, 5491.0, 36117.0, 9094, 6980, 10594, 13435.0, 17084.0, 53632.0, 12333, 17377, 9362, 7722, 10344, 3060, 27868.0, 9284, 12564, 9285.0, 12361.0, 39307]\n"
     ]
    }
   ],
   "source": [
    "# Code\n",
    "gesamt_nebeneinkünfte = []\n",
    "\n",
    "for kreisdata in data:\n",
    "    gesamt_nebeneinkünfte.append(kreisdata['summe'])\n",
    "    \n",
    "print(gesamt_nebeneinkünfte)"
   ]
  },
  {
   "cell_type": "code",
   "execution_count": 25,
   "metadata": {},
   "outputs": [
    {
     "name": "stdout",
     "output_type": "stream",
     "text": [
      "Minimum: 3060 €\n",
      "Maximum: 153926.0 €\n",
      "Durchschnitt: 19813.11 €\n"
     ]
    }
   ],
   "source": [
    "# Minimum\n",
    "print('Minimum: {} €'.format(min(gesamt_nebeneinkünfte)))\n",
    "print('Maximum: {} €'.format(max(gesamt_nebeneinkünfte)))\n",
    "\n",
    "durchschnitt = round(sum(gesamt_nebeneinkünfte) / len(gesamt_nebeneinkünfte), 2)\n",
    "print('Durchschnitt: {} €'.format(durchschnitt))"
   ]
  },
  {
   "cell_type": "markdown",
   "metadata": {
    "slideshow": {
     "slide_type": "slide"
    }
   },
   "source": [
    "Welche:r Landrat:in hat die höchsten Nebenverdienste?"
   ]
  },
  {
   "cell_type": "code",
   "execution_count": 26,
   "metadata": {
    "slideshow": {
     "slide_type": "fragment"
    }
   },
   "outputs": [
    {
     "name": "stdout",
     "output_type": "stream",
     "text": [
      "Landkreis Trier-Saarburg\n",
      "Günther Schartz\n"
     ]
    }
   ],
   "source": [
    "# Code\n",
    "maximum = max(gesamt_nebeneinkünfte)\n",
    "\n",
    "for kreisdata in data:\n",
    "    if maximum == kreisdata['summe']:\n",
    "        print(kreisdata['kreis'])\n",
    "        print(kreisdata['person'])"
   ]
  },
  {
   "cell_type": "markdown",
   "metadata": {
    "slideshow": {
     "slide_type": "slide"
    }
   },
   "source": [
    "### Dictionary Sortieren"
   ]
  },
  {
   "cell_type": "code",
   "execution_count": 29,
   "metadata": {
    "slideshow": {
     "slide_type": "fragment"
    }
   },
   "outputs": [
    {
     "name": "stdout",
     "output_type": "stream",
     "text": [
      "[{'kreis': 'Landkreis Trier-Saarburg',\n",
      "  'nebeneinkünfte': {'Innogy Westenergie': 1000,\n",
      "                     'Kommunaler Rat': 25.56,\n",
      "                     'Landkreistag RP': 6100,\n",
      "                     'RWE': 129000,\n",
      "                     'Sparkasse Trier': 9544,\n",
      "                     'Sparkassen- und Giroverband RP': 5898.65,\n",
      "                     'Zweckverband Industriepark Region Trier': 2208,\n",
      "                     'Zweckverband Sparkasse Trier': 150},\n",
      "  'partei': 'CDU',\n",
      "  'person': 'Günther Schartz',\n",
      "  'summe': 153926.0},\n",
      " {'kreis': 'Eifelkreis Bitburg-Prüm',\n",
      "  'nebeneinkünfte': {'Beirat für Kommunalentwicklung RP': 190.16,\n",
      "                     'Kreissparkasse Bitburg-Prüm': 7080,\n",
      "                     'Kreisvolkshochschule': 3597,\n",
      "                     'Planungsgemeinschaft Region Trier': 600,\n",
      "                     'RWE': 6155,\n",
      "                     'Saarländischer Schwesternverband': 7735,\n",
      "                     'Westenergie': 1160,\n",
      "                     'Zweckverband Berufsbildungszentrum Bitburg-Prüm': 5181,\n",
      "                     'Zweckverband Flugplatz Bitburg': 5186,\n",
      "                     'Zweckverband Naturpark Südeifel': 5973,\n",
      "                     'Zweckverband Schienen-Personen-NahVerker': 3723,\n",
      "                     'Zweckverband Stausee Bitburg': 20,\n",
      "                     'Zweckverband Verkehrsbund Region Trier': 7032},\n",
      "  'partei': 'Freie Wähler',\n",
      "  'person': 'Joachim Streit',\n",
      "  'summe': 53632.0},\n",
      " {'kreis': 'Landkreis Mayen-Koblenz',\n",
      "  'nebeneinkünfte': {'Fremdenverkehrszweckverband': 1860,\n",
      "                     'Hausverwaltung Schon & Müller': 100,\n",
      "                     'Innogy Westenergie': 2000,\n",
      "                     'Kreissparkasse Mayen': 7580,\n",
      "                     'Landkreistag RP': 950,\n",
      "                     'Planungsgemeinschaft Mittelrhein-Westerwald': 165,\n",
      "                     'RWE': 5200,\n",
      "                     'Sparkasse Koblenz': 9544,\n",
      "                     'Sparkassen Finanzdienste': 300,\n",
      "                     'Sparkassenverband RP': 5500,\n",
      "                     'Unfallkasse RP': 75,\n",
      "                     'Wasserversorgung Zweckverband Main-Eifel': 5658,\n",
      "                     'Zweckverband Industriepark A61': 225,\n",
      "                     'Zweckverband Vulkanpark': 150},\n",
      "  'partei': 'CDU',\n",
      "  'person': 'Alexander Saftig',\n",
      "  'summe': 39307},\n",
      " {'kreis': 'Landkreis Cochem-Zell',\n",
      "  'nebeneinkünfte': {'(Zweckverband) Sparkasse Mittelmosel - Eifel Mosel Hunsrück': 6038,\n",
      "                     'Abfallzweckverband Rhein-Mosel-Eifel': 600,\n",
      "                     'Agentur für Arbeit': 26,\n",
      "                     'Altlastenzweckverband Tierische Nebenprodukte': 8073.24,\n",
      "                     'Planungsgemeinschaft Mittelrhein-Westerwald': 2195,\n",
      "                     'RWE': 5200,\n",
      "                     'Rheinische Zusatzversorgungskasse': 194,\n",
      "                     'Sparkassenverband RP': 5575,\n",
      "                     'Westenergie': 2000,\n",
      "                     'Zweckverband Tierische Nebenprodukte Südwest': 8073.24},\n",
      "  'partei': 'CDU',\n",
      "  'person': 'Manfred Schnur',\n",
      "  'summe': 37974.0},\n",
      " {'kreis': 'Landkreis Germersheim',\n",
      "  'nebeneinkünfte': {'Landkreistag RP': 50,\n",
      "                     'Park & Bellheimer AG': 5950,\n",
      "                     'Pfälzische Pensionsanstalt': 100,\n",
      "                     'Sparkasse Germersheim-Kandel': 6680,\n",
      "                     'Sparkassen- und Giroverband RP': 14073.41,\n",
      "                     'Verkehrsverbund Rhein-Neckar': 1800,\n",
      "                     'Zweckverband Schienenpersonennahverkehr Süd': 7464},\n",
      "  'partei': 'CDU',\n",
      "  'person': 'Fritz Brechtel',\n",
      "  'summe': 36117.0},\n",
      " {'kreis': 'Landkreis Ahrweiler',\n",
      "  'nebeneinkünfte': {'Kreissparkasse Ahrweiler': 7080,\n",
      "                     'RWE': 5200,\n",
      "                     'Rheinland-Westenenergie': 2000,\n",
      "                     'Sparkassenverband RP': 5269,\n",
      "                     'Wasserversorgung Zweckverband Main-Eifel': 873.13,\n",
      "                     'Zweckverband SPNV': 7446},\n",
      "  'partei': 'CDU',\n",
      "  'person': 'Jürgen Pfähler',\n",
      "  'summe': 27868.0},\n",
      " {'kreis': 'Rhein-Lahn-Kreis',\n",
      "  'nebeneinkünfte': {'Agentur für Arbeit': 26,\n",
      "                     'Altlastenzweckverband Tierische Nebenprodukte': 3924.48,\n",
      "                     'Baugenossenschaft Rhein-Lahn eG': 200,\n",
      "                     'Kommunaler Rat': 51.12,\n",
      "                     'Landesbank Baden-Württemberg': 1283.33,\n",
      "                     'Nassauische Sparkasse': 4832.88,\n",
      "                     'Süwag Energie AG': 8000,\n",
      "                     'Zweckverband Tierische Nebenprodukte Südwest': 3924.48},\n",
      "  'partei': 'SPD',\n",
      "  'person': 'Frank Puchtler',\n",
      "  'summe': 22242.0},\n",
      " {'kreis': 'Landkreis Bernkastel-Wittlich',\n",
      "  'nebeneinkünfte': {'Agentur für Arbeit': 26,\n",
      "                     'Altlastenzweckverband Tierische Nebenprodukte': 50,\n",
      "                     'RWE': 5200,\n",
      "                     'Sparkasse Mittelmosel - Eifel Mosel Hunsrück': 400,\n",
      "                     'Zweckverband Abfallwirtschaft Region Trier': 7848,\n",
      "                     'Zweckverband Sparkasse Mittelmosel - Eifel Mosel Hunsrück': 8324},\n",
      "  'partei': 'CDU',\n",
      "  'person': 'Gregor Eibes',\n",
      "  'summe': 21848},\n",
      " {'kreis': 'Landkreis Mainz-Bingen',\n",
      "  'nebeneinkünfte': {'Planungsgemeinschaft Rheinhessen-Nahe': 1200,\n",
      "                     'Rheinhessenwein e.V.': 25,\n",
      "                     'Sparkasse Mainz': 8944,\n",
      "                     'Zweckverband Sparkasse Mainz': 200,\n",
      "                     'Zweckverband Sparkasse Rhein-Nahe': 9444,\n",
      "                     'Zweckverband Verkehrsbund Rhein Nahe': 613.55},\n",
      "  'partei': 'CDU',\n",
      "  'person': 'Dorothea Schäfer',\n",
      "  'summe': 20427.0},\n",
      " {'kreis': 'Kreisfreie Stadt Frankenthal (Pfalz)',\n",
      "  'nebeneinkünfte': {'Gewässerzweckverband Isenach-Eckbach': 6600,\n",
      "                     'Pfälzische Pensionsanstalt': 200,\n",
      "                     'Sparkasse Rhein-Haardt': 4074.96,\n",
      "                     'Sparkassenverband RP': 5575,\n",
      "                     'Verband Region Rhein-Neckar': 1560,\n",
      "                     'Zweckverband Sparkasse Rhein-Haardt': 135},\n",
      "  'partei': 'CDU',\n",
      "  'person': 'Martin Hebich',\n",
      "  'summe': 18145.0},\n",
      " {'kreis': 'Landkreis Alzey-Worms',\n",
      "  'nebeneinkünfte': {'Innogy Westenergie': 1000,\n",
      "                     'Landkreistag RP': 150,\n",
      "                     'Planungsgemeinschaft Rheinhessen-Nahe': 1200,\n",
      "                     'Rheinhessenwein e.V.': 50,\n",
      "                     'Sparkasse Worms-Alzey-Ried': 9094,\n",
      "                     'Sparkassenverband RP': 5883},\n",
      "  'partei': 'SPD',\n",
      "  'person': 'Heiko Sippel',\n",
      "  'summe': 17377},\n",
      " {'kreis': 'Westerwaldkreis',\n",
      "  'nebeneinkünfte': {'Landkreistag RP': 50,\n",
      "                     'Nassauische Sparkasse': 6978.95,\n",
      "                     'Planungsgemeinschaft Mittelrhein-Westerwald': 220,\n",
      "                     'Sparkasse Westerwald-Sieg': 9044,\n",
      "                     'Sparkassenverband RP': 308,\n",
      "                     'Sparkassenzweckverband Nassau': 383.45,\n",
      "                     'Sparkassenzweckverband Westerwald-Sieg': 100},\n",
      "  'partei': 'CDU',\n",
      "  'person': 'Achim Schwickert',\n",
      "  'summe': 17084.0},\n",
      " {'kreis': 'Kreisfreie Stadt Mainz',\n",
      "  'nebeneinkünfte': {'Gas-Union Frankfurth/Mainz': 7812.5,\n",
      "                     'Sparkasse Mainz': 8844,\n",
      "                     'Zweckverband der Sparkasse Mainz': 300},\n",
      "  'partei': 'SPD',\n",
      "  'person': 'Michael Ebling',\n",
      "  'summe': 16956.0},\n",
      " {'kreis': 'Kreisfreie Stadt Landau in der Pfalz',\n",
      "  'nebeneinkünfte': {'Kommunaler Rat': 51.12,\n",
      "                     'Sparkasse Südliche Weinstraße': 6698,\n",
      "                     'Sparkassenverband RP': 6236,\n",
      "                     'Zweckverband Sparkasse Südliche Weinstraße': 450},\n",
      "  'partei': 'CDU',\n",
      "  'person': 'Thomas Hirsch',\n",
      "  'summe': 13435.0},\n",
      " {'kreis': 'Landkreis Neuwied',\n",
      "  'nebeneinkünfte': {'Landesmusikverband RLP': 480,\n",
      "                     'Landkreistag RP': 75,\n",
      "                     'Planungsgemeinschaft Mittelrhein-Westerwald': 165,\n",
      "                     'Sparkasse Neuwied': 8644,\n",
      "                     'Sparkasse Neuwied (Verbandsversammlung)': 200,\n",
      "                     'Süwag Energie AG': 3000},\n",
      "  'partei': 'CDU',\n",
      "  'person': 'Achim Hallerbach',\n",
      "  'summe': 12564},\n",
      " {'kreis': 'Kreisfreie Stadt Koblenz',\n",
      "  'nebeneinkünfte': {'Sparkasse Koblenz': 9344, 'Sparkassenverband RP': 3016.7},\n",
      "  'partei': 'SPD',\n",
      "  'person': 'David Langner',\n",
      "  'summe': 12361.0},\n",
      " {'kreis': 'Landkreis Birkenfeld',\n",
      "  'nebeneinkünfte': {'Kreissparkasse Birkenfeld': 6780,\n",
      "                     'Landkreistag RP': 100,\n",
      "                     'Planungsgemeinschaft Rheinhessen-Nahe': 100,\n",
      "                     'RWE': 5200,\n",
      "                     'Sparkassenverband RP': 153},\n",
      "  'partei': 'CDU',\n",
      "  'person': 'Matthias Schneider',\n",
      "  'summe': 12333},\n",
      " {'kreis': 'Landkreis Südwestpfalz',\n",
      "  'nebeneinkünfte': {'Bezirkstag Pfalz': 2100,\n",
      "                     'Institut für Medien und Pädagogik e. V.': 17.9,\n",
      "                     'Kommunaler Rat': 51.12,\n",
      "                     'Landkreistag RP': 50,\n",
      "                     'Sparkasse Südwestpfalz': 8544,\n",
      "                     'Zweckverband Entwicklungsgebiet Flugplatz ZW': 1380.51},\n",
      "  'partei': 'CDU',\n",
      "  'person': 'Susanne Ganster',\n",
      "  'summe': 12144.0},\n",
      " {'kreis': 'Landkreis Südliche Weinstraße',\n",
      "  'nebeneinkünfte': {'Agentur für Arbeit': 52,\n",
      "                     'Bezirksverband Pfalz': 150,\n",
      "                     'Landeszentrale für Medien und Kommunikation': 893,\n",
      "                     'Landkreistag RP': 50,\n",
      "                     'Pfalzklinikum für Psychiatrie u. Neurologie (AdöR)': 200,\n",
      "                     'Sparkasse Südliche Weinstraße': 9594,\n",
      "                     'Verband Region Rhein-Neckar': 660},\n",
      "  'partei': 'CDU',\n",
      "  'person': 'Dietmar Seefeldt',\n",
      "  'summe': 11599},\n",
      " {'kreis': 'Kreisfreie Stadt Kaiserslautern',\n",
      "  'nebeneinkünfte': {'Sparkassen- und Giroverband RP': 5269,\n",
      "                     'Stadtsparkasse': 5704},\n",
      "  'partei': 'SPD',\n",
      "  'person': 'Klaus Weichel',\n",
      "  'summe': 10973},\n",
      " {'kreis': 'Landkreis Bad Kreuznach',\n",
      "  'nebeneinkünfte': {'Landkreistag RP': 50,\n",
      "                     'Sparkasse (div. Ebenen)': 9544,\n",
      "                     'Westenergie': 1000},\n",
      "  'partei': 'CDU',\n",
      "  'person': 'Bettina Dickes',\n",
      "  'summe': 10594},\n",
      " {'kreis': 'Landkreis Altenkirchen',\n",
      "  'nebeneinkünfte': {'RWE': 1000,\n",
      "                     'Sparkasse Westerwald-Sieg': 9244,\n",
      "                     'Zweckverband Sparkasse Westerwald-Sieg': 100},\n",
      "  'partei': 'CDU',\n",
      "  'person': 'Peter Enders',\n",
      "  'summe': 10344},\n",
      " {'kreis': 'Rhein-Pfalz-Kreis',\n",
      "  'nebeneinkünfte': {'Bezirksverband Pfalz': 100,\n",
      "                     'Landkreistag RP': 50,\n",
      "                     'Sparkasse Vorderpfalz': 8664,\n",
      "                     'Sparkassenverband RP': 308,\n",
      "                     'Verband Region Rhein-Neckar': 240},\n",
      "  'partei': 'CDU',\n",
      "  'person': 'Clemens Kärner',\n",
      "  'summe': 9362},\n",
      " {'kreis': 'Kreisfreie Stadt Zweibrücken',\n",
      "  'nebeneinkünfte': {'Pfälzische Pensionsanstalt': 100,\n",
      "                     'Sparkasse Südwestpfalz': 5698,\n",
      "                     'ZAB consult GmbH': 1800,\n",
      "                     'Zweckverband der Entwicklungsgesellschaft Flugplatz Zweibrücken': 1687.29},\n",
      "  'partei': 'SPD',\n",
      "  'person': 'Marold Wosnitza',\n",
      "  'summe': 9285.0},\n",
      " {'kreis': 'Landkreis Kaiserslautern',\n",
      "  'nebeneinkünfte': {'Kreissparkasse Kaiserslautern': 9284},\n",
      "  'partei': 'CDU',\n",
      "  'person': 'Ralf Leßmeister',\n",
      "  'summe': 9284},\n",
      " {'kreis': 'Kreisfreie Stadt Worms',\n",
      "  'nebeneinkünfte': {'Sparkasse Worms-Alzey-Ried': 8944,\n",
      "                     'Zweckverband Sparkasse Worms-Alzey-Ried': 150},\n",
      "  'partei': 'CDU',\n",
      "  'person': 'Adolf Kessel',\n",
      "  'summe': 9094},\n",
      " {'kreis': 'Kreisfreie Stadt Trier',\n",
      "  'nebeneinkünfte': {'Sparkasse Trier': 8944},\n",
      "  'partei': 'SPD',\n",
      "  'person': 'Wolfram Leibe',\n",
      "  'summe': 8944},\n",
      " {'kreis': 'Landkreis Bad Dürkheim',\n",
      "  'nebeneinkünfte': {'Landkreistag RP': 100,\n",
      "                     'Pfälzische Pensionsanstalt': 300,\n",
      "                     'Sparkasse Rhein-Haardt': 6950.04,\n",
      "                     'Verband Region Rhein-Neckar': 540,\n",
      "                     'Zweckverband Sparkasse Rhein-Haardt': 270,\n",
      "                     'Zweckverbandes Pollichia-Museum': 783.96},\n",
      "  'partei': 'CDU',\n",
      "  'person': 'Hans-Ulrich Ihlenfeld',\n",
      "  'summe': 8944.0},\n",
      " {'kreis': 'Kreisfreie Stadt Speyer',\n",
      "  'nebeneinkünfte': {'Kommunaler Rat': 76.68,\n",
      "                     'Kreditausschuss': 400,\n",
      "                     'Sparkasse Vorderpfalz': 400,\n",
      "                     'Sparkassenverband RP': 7644,\n",
      "                     'Zweckverband Sparkasse Vorderpfalz': 320},\n",
      "  'partei': 'SPD',\n",
      "  'person': 'Stefanie Seiler',\n",
      "  'summe': 8841.0},\n",
      " {'kreis': 'Kreisfreie Stadt Ludwigshafen am Rhein',\n",
      "  'nebeneinkünfte': {'Sparkasse Vorderpfalz': 8644,\n",
      "                     'Verband Region Rhein-Neckar': 144},\n",
      "  'partei': 'SPD',\n",
      "  'person': 'Jutta Steinruck',\n",
      "  'summe': 8788},\n",
      " {'kreis': 'Landkreis Kusel',\n",
      "  'nebeneinkünfte': {'Fremdenverkehrszweckverband': 1533.84,\n",
      "                     'Kreissparkasse Kusel': 6880},\n",
      "  'partei': 'CDU',\n",
      "  'person': 'Otto Rubly',\n",
      "  'summe': 8414.0},\n",
      " {'kreis': 'Donnersbergkreis',\n",
      "  'nebeneinkünfte': {'Landkreistag RP': 100,\n",
      "                     'Planungsgemeinschaft Westpfalz': 780,\n",
      "                     'Sparkasse Donnersberg': 6842},\n",
      "  'partei': 'parteilos',\n",
      "  'person': 'Rainer Guth',\n",
      "  'summe': 7722},\n",
      " {'kreis': 'Rhein-Hunsrück-Kreis',\n",
      "  'nebeneinkünfte': {'Kreissparkasse Rhein-Hunsrück': 6980},\n",
      "  'partei': 'CDU',\n",
      "  'person': 'Marlon Brähr',\n",
      "  'summe': 6980},\n",
      " {'kreis': 'Kreisfreie Stadt Neustadt an der Weinstraße',\n",
      "  'nebeneinkünfte': {'Sparkasse Rhein-Haardt': 4074.96,\n",
      "                     'Sparkassenverband RP': 231,\n",
      "                     'Verband Region Rhein-Neckar': 800,\n",
      "                     'Zusatzversorgungskasse der bayerischen Gemeinden': 250,\n",
      "                     'Zweckverband Sparkasse Rhein-Haardt': 135},\n",
      "  'partei': 'Freie Wähler',\n",
      "  'person': 'Marc Weigel',\n",
      "  'summe': 5491.0},\n",
      " {'kreis': 'Kreisfreie Stadt Pirmasens',\n",
      "  'nebeneinkünfte': {'Zweckverband Abfallverwertung Südwestpfalz': 3060},\n",
      "  'partei': 'CDU',\n",
      "  'person': 'Markus Zwick',\n",
      "  'summe': 3060}]\n"
     ]
    }
   ],
   "source": [
    "sorted_data = sorted(data, key=lambda d: d['summe'], reverse=True)\n",
    "\n",
    "from pprint import pprint\n",
    "pprint(sorted_data)"
   ]
  },
  {
   "cell_type": "markdown",
   "metadata": {
    "slideshow": {
     "slide_type": "slide"
    }
   },
   "source": [
    "### Parteien\n",
    "\n",
    "1. Schreibe eine Liste mit allen Parteien der Landrät:innen"
   ]
  },
  {
   "cell_type": "markdown",
   "metadata": {
    "slideshow": {
     "slide_type": "slide"
    }
   },
   "source": [
    "2. Welche Partei hat insgesamt die höchsten Nebeneinkünfte?\n",
    "\n",
    "Schritt 1: Erstelle ein Dictionary mit der Partei und einer Liste der jeweiligen Nebeneinkünfte.\n",
    "\n",
    "```\n",
    "{'CDU': [129000, 8500, ..., 43000],\n",
    " 'SPD': [4700, 3721.0, ... , 3920],\n",
    " ... }\n",
    "```"
   ]
  },
  {
   "cell_type": "markdown",
   "metadata": {
    "slideshow": {
     "slide_type": "slide"
    }
   },
   "source": [
    "3. Berechne den insgesamten Betrag an Nebeneinkünften pro Partei.\n",
    "Fülle ein neues Dictionary mit der Partei als Key und der Summe an Nebeneinkünften Value."
   ]
  },
  {
   "cell_type": "markdown",
   "metadata": {
    "slideshow": {
     "slide_type": "slide"
    }
   },
   "source": [
    "### Firmen\n",
    "\n",
    "Welche Firmen zahlen Beträge an Landrät:innen aus?\n",
    "1. Erstelle eine Liste mit allen Firmen\n",
    "2. Filtere doppelt vorkommende Firmen aus"
   ]
  },
  {
   "cell_type": "code",
   "execution_count": null,
   "metadata": {},
   "outputs": [],
   "source": []
  },
  {
   "cell_type": "code",
   "execution_count": null,
   "metadata": {
    "slideshow": {
     "slide_type": "fragment"
    }
   },
   "outputs": [],
   "source": [
    "firmen = []\n",
    "for datapoint in data:\n",
    "    for firma in datapoint['nebeneinkünfte'].keys():\n",
    "        firmen.append(firma)\n",
    "\n",
    "print(firmen)"
   ]
  },
  {
   "cell_type": "code",
   "execution_count": null,
   "metadata": {},
   "outputs": [],
   "source": [
    "#2. Entferne Duplikate aus der Firmenliste\n"
   ]
  },
  {
   "cell_type": "code",
   "execution_count": null,
   "metadata": {
    "slideshow": {
     "slide_type": "slide"
    }
   },
   "outputs": [],
   "source": [
    "\n",
    "unique_firmen = []\n",
    "for firma in firmen:\n",
    "    if firma not in unique_firmen:\n",
    "        unique_firmen.append(firma)\n",
    "\n",
    "print(unique_firmen)"
   ]
  },
  {
   "cell_type": "code",
   "execution_count": null,
   "metadata": {
    "slideshow": {
     "slide_type": "fragment"
    }
   },
   "outputs": [],
   "source": [
    "# Vergleich wie viele Firmen öfter vorkommen\n",
    "print(len(firmen))\n",
    "print(len(unique_firmen))"
   ]
  },
  {
   "cell_type": "code",
   "execution_count": null,
   "metadata": {
    "slideshow": {
     "slide_type": "slide"
    }
   },
   "outputs": [],
   "source": [
    "# Welche Firma zahlt in Summe am meisten an die Landrätinnen?"
   ]
  },
  {
   "cell_type": "code",
   "execution_count": null,
   "metadata": {},
   "outputs": [],
   "source": []
  },
  {
   "cell_type": "code",
   "execution_count": null,
   "metadata": {
    "slideshow": {
     "slide_type": "fragment"
    }
   },
   "outputs": [],
   "source": [
    "firmen_data = {}\n",
    "for firma in unique_firmen:\n",
    "    gehälter = []\n",
    "    for datapoint in data:\n",
    "        for firma2, gehalt in datapoint['nebeneinkünfte'].items():\n",
    "            if firma == firma2:\n",
    "                gehälter.append(gehalt)              \n",
    "    firmen_data[firma] = gehälter\n",
    "\n",
    "\n",
    "print(firmen_data)"
   ]
  },
  {
   "cell_type": "code",
   "execution_count": null,
   "metadata": {
    "slideshow": {
     "slide_type": "fragment"
    }
   },
   "outputs": [],
   "source": [
    "# Summiere die Gehälter pro Firma auf\n",
    "for firma, gehälter in firmen_data.items():\n",
    "    firmen_data[firma] = round(sum(gehälter), 0)\n",
    "    \n",
    "print(firmen_data)"
   ]
  },
  {
   "cell_type": "code",
   "execution_count": null,
   "metadata": {
    "slideshow": {
     "slide_type": "slide"
    }
   },
   "outputs": [],
   "source": [
    "# Sortiere das Dictionary mit den Gehältern pro Firma. Der höchste Betrag soll dabei an erster Stelle stehen\n",
    "sorted_data = sorted(firmen_data.items(), key=lambda item: item[1], reverse=True)\n",
    "print(sorted_data)"
   ]
  },
  {
   "cell_type": "markdown",
   "metadata": {
    "slideshow": {
     "slide_type": "slide"
    }
   },
   "source": [
    "## Eingabetool für Nebeneinkünfte"
   ]
  },
  {
   "cell_type": "code",
   "execution_count": null,
   "metadata": {
    "slideshow": {
     "slide_type": "-"
    },
    "tags": [
     "skip-execution"
    ]
   },
   "outputs": [],
   "source": [
    "firma = ''\n",
    "nebeneinkünfte = {}\n",
    "while firma != 'x':\n",
    "    firma = input('Firma:')\n",
    "    gehalt = input('Gehalt:')\n",
    "    nebeneinkünfte[firma] = gehalt\n",
    "    print(nebeneinkünfte)\n",
    "    \n",
    "print('Alle Nebeneinkünfte:')\n",
    "print(nebeneinkünfte)"
   ]
  },
  {
   "cell_type": "code",
   "execution_count": null,
   "metadata": {
    "slideshow": {
     "slide_type": "fragment"
    },
    "tags": [
     "skip-execution"
    ]
   },
   "outputs": [],
   "source": [
    "firma = 'default'\n",
    "nebeneinkünfte = {}\n",
    "while firma != 'x':\n",
    "    firma = input('Firma:')\n",
    "    if firma == 'x':\n",
    "        break\n",
    "    gehalt = input('Gehalt:')\n",
    "    erwerb = {firma: gehalt}\n",
    "    nebeneinkünfte.update(erwerb)\n",
    "    print(nebeneinkünfte)\n",
    "    \n",
    "print('While Loop Ende\\n')\n",
    "print('Alle Nebeneinkünfte:')\n",
    "print(nebeneinkünfte)"
   ]
  }
 ],
 "metadata": {
  "celltoolbar": "Slideshow",
  "kernelspec": {
   "display_name": "Python 3",
   "language": "python",
   "name": "python3"
  },
  "language_info": {
   "codemirror_mode": {
    "name": "ipython",
    "version": 3
   },
   "file_extension": ".py",
   "mimetype": "text/x-python",
   "name": "python",
   "nbconvert_exporter": "python",
   "pygments_lexer": "ipython3",
   "version": "3.7.3"
  },
  "vscode": {
   "interpreter": {
    "hash": "f9f85f796d01129d0dd105a088854619f454435301f6ffec2fea96ecbd9be4ac"
   }
  }
 },
 "nbformat": 4,
 "nbformat_minor": 5
}
