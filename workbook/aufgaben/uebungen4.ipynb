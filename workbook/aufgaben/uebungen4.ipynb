{
 "cells": [
  {
   "cell_type": "markdown",
   "id": "e4369257",
   "metadata": {},
   "source": [
    "# While-Schleifen und Dictionaries\n",
    "\n",
    "## *while*-Schleifen"
   ]
  },
  {
   "cell_type": "markdown",
   "id": "12ba88b1",
   "metadata": {},
   "source": [
    "Gib mithilfe einer while-Schleife alle ungeraden Werte der gegebenen Liste aus."
   ]
  },
  {
   "cell_type": "code",
   "execution_count": null,
   "id": "d808af57",
   "metadata": {},
   "outputs": [],
   "source": [
    "# Dein Code\n",
    "viele_zahlen = [x for x in range(0, 10000) if x%9==0]\n",
    "print(viele_zahlen)"
   ]
  },
  {
   "cell_type": "markdown",
   "id": "8fa9d820",
   "metadata": {
    "collapsed": false
   },
   "source": [
    "Schreibe eine Funktion, die alle ganzen Zahlen zwischen 1 und einem Wert x die durch 3 und durch 7 teilbar sind in einer Liste zurückgibt.\n",
    "Verwende hier eine Zählervariable, die in einer *while*-Schleife hochgezählt wird.\n",
    "Nutze *continue*, um Werte zu überspringen, die nicht zur Ergebnisliste hinzugefügt werden sollen.\n",
    "Nutze *break*, wenn das angegebene Maximum erreicht wurde, um die *while*-Schleife zu beenden."
   ]
  },
  {
   "cell_type": "code",
   "execution_count": null,
   "id": "de3f355f",
   "metadata": {
    "collapsed": false
   },
   "outputs": [],
   "source": [
    "def durch3und4(letzteZahl:int)->list :\n"
   ]
  },
  {
   "cell_type": "code",
   "execution_count": null,
   "id": "62603aff",
   "metadata": {},
   "outputs": [],
   "source": [
    "schachbrett = [['schwarzes Pferd', 'schwarzer Bauer', None, None, None, None, 'weisser Bauer', None],\n",
    "               [None, None, None, None, None, None, 'schwarzer Bauer', None],\n",
    "               [None, None, None, None, None, None, 'schwarzer König', None],\n",
    "               ['schwarzer Bauer', None, None, 'weisser Turm', None, None, None, None],\n",
    "               [None, None, 'weisser König' , None, 'schwarzer Läufer', 'schwarzer Bauer', None, None],\n",
    "               [None, None, None, None, None, None, None, None],\n",
    "               [None, None, 'weisse Dame', None, None, None, None, None],\n",
    "               ['schwarzer Bauer', None, None, None, None, 'schwarze Dame', None, None]]"
   ]
  },
  {
   "cell_type": "markdown",
   "id": "c78dde76",
   "metadata": {},
   "source": [
    "Bewege den weissen Turm so lange nach rechts bis er entweder am Spielfeldrand oder vor einer anderen Figur steht."
   ]
  },
  {
   "cell_type": "code",
   "execution_count": null,
   "id": "acc00e54",
   "metadata": {
    "collapsed": false
   },
   "outputs": [],
   "source": [
    "# Dein Code"
   ]
  },
  {
   "cell_type": "markdown",
   "id": "96b4a321",
   "metadata": {
    "collapsed": false
   },
   "source": [
    "## Dictionaries\n",
    "\n",
    "Erstelle ein Dictionary *blumen* in dem für jede Blume die Farben ihrer Blüten gespeichert werden. Speichere direkt drei Einträge zu Rose, Enzian und Margeriten."
   ]
  },
  {
   "cell_type": "code",
   "execution_count": null,
   "id": "107119db",
   "metadata": {
    "collapsed": false
   },
   "outputs": [],
   "source": [
    "# Dein Code"
   ]
  },
  {
   "cell_type": "markdown",
   "id": "9b51734d",
   "metadata": {
    "collapsed": false
   },
   "source": [
    "Füge deine Lieblingsblume zu *blumen* hinzu."
   ]
  },
  {
   "cell_type": "code",
   "execution_count": null,
   "id": "ae75e1ed",
   "metadata": {
    "collapsed": false
   },
   "outputs": [],
   "source": [
    "# Dein Code"
   ]
  },
  {
   "cell_type": "markdown",
   "id": "2cc65fde",
   "metadata": {
    "collapsed": false
   },
   "source": [
    "Entferne den Eintrag zu Enzian."
   ]
  },
  {
   "cell_type": "code",
   "execution_count": null,
   "id": "1144f5c0",
   "metadata": {
    "collapsed": false
   },
   "outputs": [],
   "source": [
    "# Dein Code"
   ]
  },
  {
   "cell_type": "markdown",
   "id": "19f19193",
   "metadata": {
    "collapsed": false
   },
   "source": [
    "Gib für alle gespeicherten Blumen die Blütenfarbe aus."
   ]
  },
  {
   "cell_type": "code",
   "execution_count": null,
   "id": "3aff685f",
   "metadata": {
    "collapsed": false
   },
   "outputs": [],
   "source": [
    "# Dein Code"
   ]
  }
 ],
 "metadata": {
  "kernelspec": {
   "display_name": "Python 3.9.15 64-bit",
   "language": "python",
   "name": "python3"
  },
  "language_info": {
   "codemirror_mode": {
    "name": "ipython",
    "version": 3
   },
   "file_extension": ".py",
   "mimetype": "text/x-python",
   "name": "python",
   "nbconvert_exporter": "python",
   "pygments_lexer": "ipython3",
   "version": "3.9.15"
  },
  "vscode": {
   "interpreter": {
    "hash": "f9f85f796d01129d0dd105a088854619f454435301f6ffec2fea96ecbd9be4ac"
   }
  }
 },
 "nbformat": 4,
 "nbformat_minor": 5
}
