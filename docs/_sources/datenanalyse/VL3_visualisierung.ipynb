{
 "cells": [
  {
   "cell_type": "markdown",
   "id": "d9a3430d",
   "metadata": {
    "slideshow": {
     "slide_type": "slide"
    }
   },
   "source": [
    "# Datenanalyse Teil III\n",
    "\n",
    "### Natalie Widmann\n",
    "\n",
    "\n",
    "\n",
    "\n",
    "Wintersemester 2023 / 2024\n",
    "\n",
    "\n",
    "Universität Leipzig\n",
    "\n",
    "\n",
    "\n"
   ]
  },
  {
   "cell_type": "markdown",
   "id": "a1c7d68a",
   "metadata": {
    "slideshow": {
     "slide_type": "slide"
    }
   },
   "source": [
    "### Ziel\n",
    "\n",
    "Wir visualisieren die Daten im EM-DAT Datensatz und bauen ein Länderdashboard damit.\n"
   ]
  },
  {
   "cell_type": "markdown",
   "id": "a3b3b413",
   "metadata": {},
   "source": [
    "![Datenpipeline](../../imgs/datapipeline.png)"
   ]
  },
  {
   "cell_type": "code",
   "execution_count": null,
   "id": "8658426c",
   "metadata": {
    "scrolled": true,
    "slideshow": {
     "slide_type": "slide"
    }
   },
   "outputs": [],
   "source": [
    "# Install a pip package im Jupyter Notebook\n",
    "!pip3 install pandas"
   ]
  },
  {
   "cell_type": "code",
   "execution_count": null,
   "id": "9f32b8a8",
   "metadata": {
    "scrolled": true,
    "slideshow": {
     "slide_type": "slide"
    }
   },
   "outputs": [],
   "source": [
    "import pandas as pd\n",
    "pd.set_option('display.float_format', '{:.2f}'.format)\n",
    "\n",
    "data = pd.read_csv('../../data/clean_emdat.csv', index_col=0)"
   ]
  },
  {
   "cell_type": "code",
   "execution_count": null,
   "id": "8c93e778",
   "metadata": {},
   "outputs": [],
   "source": [
    "data"
   ]
  },
  {
   "cell_type": "code",
   "execution_count": null,
   "id": "0a134e4c",
   "metadata": {},
   "outputs": [],
   "source": [
    "data.info()"
   ]
  },
  {
   "cell_type": "markdown",
   "id": "e1cc61e8",
   "metadata": {},
   "source": [
    "## Das Dashboard..."
   ]
  },
  {
   "cell_type": "markdown",
   "id": "2e424631",
   "metadata": {
    "slideshow": {
     "slide_type": "slide"
    }
   },
   "source": [
    "## Recherchefragen\n",
    "\n",
    "- Wie viele Todesopfer gibt es in einem Land?\n",
    "- Wie stark ist ein Land von Naturkatastrophen betroffen?\n",
    "- Welchen Anteil haben die unterschiedlichen Naturkatastrophentypen daran?\n",
    "- Wie hat sich die Anzahl der Naturkatastrophen über die Jahre hin entwickelt?"
   ]
  },
  {
   "cell_type": "markdown",
   "id": "f0905851",
   "metadata": {},
   "source": [
    "### Wie viele Todesopfer gibt es in einem Land?"
   ]
  },
  {
   "cell_type": "markdown",
   "id": "3b0620e2",
   "metadata": {},
   "source": [
    "#### Wie viele Todesopfer gibt es insgesamt?"
   ]
  },
  {
   "cell_type": "code",
   "execution_count": null,
   "id": "1f37395f",
   "metadata": {
    "scrolled": true
   },
   "outputs": [],
   "source": [
    "data[\"Total Deaths\"].sum()"
   ]
  },
  {
   "cell_type": "markdown",
   "id": "c18901cc",
   "metadata": {},
   "source": [
    "#### Wie viele Todesopfer gibt es insgesamt in Deutschland?"
   ]
  },
  {
   "cell_type": "code",
   "execution_count": null,
   "id": "2d1d13f8",
   "metadata": {
    "scrolled": true
   },
   "outputs": [],
   "source": [
    "data['Country'] == 'Germany'"
   ]
  },
  {
   "cell_type": "code",
   "execution_count": null,
   "id": "70d135df",
   "metadata": {
    "scrolled": true
   },
   "outputs": [],
   "source": [
    "data[data['Country'] == 'Germany']"
   ]
  },
  {
   "cell_type": "code",
   "execution_count": null,
   "id": "4a40731a",
   "metadata": {
    "scrolled": true
   },
   "outputs": [],
   "source": [
    "data[data['Country'] == 'Germany']['Total Deaths'].sum()"
   ]
  },
  {
   "cell_type": "code",
   "execution_count": null,
   "id": "cef527b5",
   "metadata": {
    "scrolled": true
   },
   "outputs": [],
   "source": [
    "data_germany = data[data['Country'] == 'Germany']\n",
    "data_germany['Total Deaths'].sum()"
   ]
  },
  {
   "cell_type": "markdown",
   "id": "ca38217d",
   "metadata": {},
   "source": [
    "#### Wie viele Todesopfer gab es insgesamt in Indien?"
   ]
  },
  {
   "cell_type": "code",
   "execution_count": null,
   "id": "1080db45",
   "metadata": {
    "scrolled": true
   },
   "outputs": [],
   "source": [
    "data_land = data[data['Country'] == 'India']\n",
    "data_land['Total Deaths'].sum()"
   ]
  },
  {
   "cell_type": "markdown",
   "id": "d01c83b6",
   "metadata": {},
   "source": [
    "#### Allgemeine Funktion die Gesamtzahl der Todesopfer eines Landes ausgibt"
   ]
  },
  {
   "cell_type": "code",
   "execution_count": null,
   "id": "3e88539f",
   "metadata": {
    "scrolled": true
   },
   "outputs": [],
   "source": [
    "def get_total_deaths(data, country):\n",
    "    data_land = data[data['Country'] == country]\n",
    "    return data_land['Total Deaths'].sum()"
   ]
  },
  {
   "cell_type": "code",
   "execution_count": null,
   "id": "6c18cdf4",
   "metadata": {
    "scrolled": true
   },
   "outputs": [],
   "source": [
    "get_total_deaths(data, 'Japan')"
   ]
  },
  {
   "cell_type": "markdown",
   "id": "a5d55b9f",
   "metadata": {},
   "source": [
    "## Dashboard Teil II\n",
    "\n",
    "### Welchen Anteil haben die unterschiedlichen Naturkatastrophentypen in Deutschland?"
   ]
  },
  {
   "cell_type": "code",
   "execution_count": null,
   "id": "b222f6ef",
   "metadata": {
    "scrolled": true
   },
   "outputs": [],
   "source": [
    "germany_data = data[data['Country'] == 'Germany']\n",
    "germany_data['Disaster Type'].value_counts(normalize=True)"
   ]
  },
  {
   "cell_type": "markdown",
   "id": "163fa3cb",
   "metadata": {},
   "source": [
    "# Visualisierung von DataFrames\n",
    "\n",
    "[Matplotlib](https://matplotlib.org/) is a comprehensive library for creating static, animated, and interactive visualizations in Python.\n",
    "\n",
    "Matplotlib makes easy things easy and hard things possible.\n",
    "\n",
    "Install matplotlib:"
   ]
  },
  {
   "cell_type": "code",
   "execution_count": null,
   "id": "14287eb9",
   "metadata": {
    "scrolled": true
   },
   "outputs": [],
   "source": [
    "!pip3 install --upgrade pip\n",
    "!pip3 install --upgrade Pillow\n",
    "!pip3 install matplotlib\n",
    "\n",
    "import matplotlib.pyplot as plt"
   ]
  },
  {
   "cell_type": "code",
   "execution_count": null,
   "id": "03f4af2b",
   "metadata": {
    "scrolled": true
   },
   "outputs": [],
   "source": [
    "germany_data = data[data['Country'] == 'Germany']"
   ]
  },
  {
   "cell_type": "code",
   "execution_count": null,
   "id": "d319deff",
   "metadata": {
    "scrolled": true
   },
   "outputs": [],
   "source": [
    "germany_data['Disaster Type'].value_counts()"
   ]
  },
  {
   "cell_type": "code",
   "execution_count": null,
   "id": "64fcf496",
   "metadata": {},
   "outputs": [],
   "source": [
    "germany_data['Disaster Type'].value_counts().plot(kind='bar')"
   ]
  },
  {
   "cell_type": "code",
   "execution_count": null,
   "id": "2cf2e38e",
   "metadata": {},
   "outputs": [],
   "source": [
    "germany_data['Disaster Type'].value_counts().plot(kind='pie')"
   ]
  },
  {
   "cell_type": "markdown",
   "id": "7204827f",
   "metadata": {
    "slideshow": {
     "slide_type": "slide"
    }
   },
   "source": [
    "## Recherchefragen\n",
    "\n",
    "#### Welche Naturkatastrophen fordern die meisten Todesopfer?"
   ]
  },
  {
   "cell_type": "markdown",
   "id": "a6957897",
   "metadata": {},
   "source": [
    "`.groupby()` gruppiert einen DataFrame nach den Werten einer oder mehreren Spalten.\n",
    "\n",
    "Die Spalten nach denen man Gruppieren möchte werden als Argument übergeben. Danach folgt die gewünschte Berechnung auf dieser Gruppe. Das Ergebnis wird als DataFrame zurückgegeben. "
   ]
  },
  {
   "cell_type": "code",
   "execution_count": null,
   "id": "57224183",
   "metadata": {
    "scrolled": true
   },
   "outputs": [],
   "source": [
    "data"
   ]
  },
  {
   "cell_type": "code",
   "execution_count": null,
   "id": "99bc48aa",
   "metadata": {
    "scrolled": true
   },
   "outputs": [],
   "source": [
    "data['Total Deaths'].sum()"
   ]
  },
  {
   "cell_type": "code",
   "execution_count": null,
   "id": "f4f4e7fe",
   "metadata": {},
   "outputs": [],
   "source": [
    "data.groupby('Disaster Type')['Total Deaths'].sum()"
   ]
  },
  {
   "cell_type": "markdown",
   "id": "30e0d1a0",
   "metadata": {},
   "source": [
    "`.groupby()` kann auch auf mehrere Spalten gleichzeitig angewendet werden"
   ]
  },
  {
   "cell_type": "code",
   "execution_count": null,
   "id": "61a1cf0b",
   "metadata": {
    "scrolled": true
   },
   "outputs": [],
   "source": [
    "data.groupby(['Disaster Type', 'Disaster Subtype'])['Total Deaths'].sum()"
   ]
  },
  {
   "cell_type": "code",
   "execution_count": null,
   "id": "0bbb03c0",
   "metadata": {},
   "outputs": [],
   "source": [
    "data.groupby('Disaster Type')"
   ]
  },
  {
   "cell_type": "markdown",
   "id": "1b8fce19",
   "metadata": {},
   "source": [
    "### Visualisierung"
   ]
  },
  {
   "cell_type": "code",
   "execution_count": null,
   "id": "d31c1948",
   "metadata": {
    "scrolled": true
   },
   "outputs": [],
   "source": [
    "data.groupby('Disaster Type')['Total Deaths'].sum().plot(kind='pie')"
   ]
  },
  {
   "cell_type": "markdown",
   "id": "7ba15cb5",
   "metadata": {},
   "source": [
    "#### Welche Naturkatastrophen fordern die meisten Todesopfer in Deutschland?"
   ]
  },
  {
   "cell_type": "code",
   "execution_count": null,
   "id": "b5f44033",
   "metadata": {
    "scrolled": true
   },
   "outputs": [],
   "source": [
    "germany_data = data[data['Country'] == 'Germany']\n",
    "germany_data.groupby('Disaster Type')['Total Deaths'].sum().plot(kind='pie')"
   ]
  },
  {
   "cell_type": "markdown",
   "id": "831be8d4",
   "metadata": {},
   "source": [
    "#### Generelle Funktion"
   ]
  },
  {
   "cell_type": "code",
   "execution_count": null,
   "id": "5f9d7b89",
   "metadata": {
    "scrolled": true
   },
   "outputs": [],
   "source": [
    "country = 'India'\n",
    "country_data = data[data['Country'] == country]\n",
    "country_data.groupby('Disaster Type')['Total Deaths'].sum().plot(kind='pie')"
   ]
  },
  {
   "cell_type": "code",
   "execution_count": null,
   "id": "ed2fe77b",
   "metadata": {
    "scrolled": true
   },
   "outputs": [],
   "source": [
    "def plot_death_by_disastertype(data, country):\n",
    "    country_data = data[data['Country'] == country]\n",
    "    country_data.groupby('Disaster Type')['Total Deaths'].sum().plot(kind='pie')"
   ]
  },
  {
   "cell_type": "code",
   "execution_count": null,
   "id": "414ccbb0",
   "metadata": {},
   "outputs": [],
   "source": [
    "plot_death_by_disastertype(data, 'Egypt')"
   ]
  },
  {
   "cell_type": "markdown",
   "id": "969368ee",
   "metadata": {},
   "source": [
    "## Dashboard Teil III\n",
    "\n",
    "#### Wie hat sich die Anzahl der Naturkatastrophen über die Jahre hin entwickelt?"
   ]
  },
  {
   "cell_type": "markdown",
   "id": "9c012e7f",
   "metadata": {},
   "source": [
    "**Berechne für jedes Jahr die Summe aus allen `Events`**"
   ]
  },
  {
   "cell_type": "code",
   "execution_count": null,
   "id": "4c798a37",
   "metadata": {},
   "outputs": [],
   "source": [
    "data.groupby('Year')['Total Events'].sum()"
   ]
  },
  {
   "cell_type": "code",
   "execution_count": null,
   "id": "70ea7baa",
   "metadata": {
    "scrolled": true
   },
   "outputs": [],
   "source": [
    "data['Total Events'].sum()"
   ]
  },
  {
   "cell_type": "code",
   "execution_count": null,
   "id": "e4a170c5",
   "metadata": {
    "scrolled": true
   },
   "outputs": [],
   "source": [
    "data.groupby('Year').min()"
   ]
  },
  {
   "cell_type": "code",
   "execution_count": null,
   "id": "35496989",
   "metadata": {
    "scrolled": true
   },
   "outputs": [],
   "source": [
    "data[['Total Events', 'Year']].groupby('Year')['Total Events'].sum()"
   ]
  },
  {
   "cell_type": "code",
   "execution_count": null,
   "id": "d7712420",
   "metadata": {},
   "outputs": [],
   "source": [
    "yearly_events = data.groupby('Year')['Total Events'].sum()\n",
    "yearly_events.plot(kind='line', x='Year', y='Total Events', title='Anzahl an Naturkatastrophen pro Jahr')"
   ]
  },
  {
   "cell_type": "markdown",
   "id": "e1435bcd",
   "metadata": {},
   "source": [
    "**Plotte für Deutschland die Entwicklung der Anzahl an Naturkatastrophen über die Jahre hinweg**"
   ]
  },
  {
   "cell_type": "code",
   "execution_count": null,
   "id": "cb4d9790",
   "metadata": {
    "scrolled": true
   },
   "outputs": [],
   "source": [
    "yearly_events =germany_data.groupby('Year')['Total Events'].sum()\n",
    "yearly_events.plot(kind='line', x='Year', y='Total Events', title='Anzahl an Naturkatastrophen pro Jahr')"
   ]
  },
  {
   "cell_type": "markdown",
   "id": "609b8d41",
   "metadata": {},
   "source": [
    "**Generelle Funktion**"
   ]
  },
  {
   "cell_type": "code",
   "execution_count": null,
   "id": "7d5589be",
   "metadata": {
    "scrolled": true
   },
   "outputs": [],
   "source": [
    "def plot_evolution(data, country):\n",
    "    land_data = data[data['Country'] == county]\n",
    "    yearly_events = land_data.groupby('Year')['Total Events'].sum()\n",
    "    yearly_events.plot(kind='line', x='Year', y='Total Events', title='Anzahl an Naturkatastrophen pro Jahr')"
   ]
  },
  {
   "cell_type": "markdown",
   "id": "7a95806d",
   "metadata": {},
   "source": [
    "## Länderdashboard"
   ]
  },
  {
   "cell_type": "code",
   "execution_count": null,
   "id": "1a42939a",
   "metadata": {
    "scrolled": true
   },
   "outputs": [],
   "source": [
    "def plot_pie(country_data):\n",
    "    country_data.groupby('Disaster Type')['Total Deaths'].sum().plot(kind='pie', title='Anteil an getöten Menschen nach Naturkatastrophentyp')\n",
    "    plt.show()"
   ]
  },
  {
   "cell_type": "code",
   "execution_count": null,
   "id": "a2f865f6",
   "metadata": {
    "scrolled": true
   },
   "outputs": [],
   "source": [
    "def plot_time_evolution(country_data):\n",
    "    yearly_events = country_data.groupby('Year')['Total Events'].sum()\n",
    "    yearly_events.plot(kind='line', x='Year', y='Total Events', title='Anzahl an Naturkatastrophen pro Jahr')\n",
    "    plt.show()"
   ]
  },
  {
   "cell_type": "code",
   "execution_count": null,
   "id": "6b15a7fd",
   "metadata": {
    "scrolled": true
   },
   "outputs": [],
   "source": [
    "def death_overview(country_data):\n",
    "    total_deaths = country_data[\"Total Deaths\"].sum()\n",
    "    print(f'Getötete Menschen seit 1900: {total_deaths:,.0f}')"
   ]
  },
  {
   "cell_type": "code",
   "execution_count": null,
   "id": "a40045ec",
   "metadata": {
    "scrolled": true
   },
   "outputs": [],
   "source": [
    "def compute_anteil(country_total, world_total):\n",
    "    anteil = round(country_total / (world_total / 100.0), 2)\n",
    "    print(f'{anteil}% aller Menschen die weltweit von Naturkatastrophen betroffen sind leben hier.')"
   ]
  },
  {
   "cell_type": "code",
   "execution_count": null,
   "id": "409ea3bb",
   "metadata": {
    "scrolled": true
   },
   "outputs": [],
   "source": [
    "def analyze(data, country):\n",
    "    print(f'Naturkatastrophen in {country.upper()} \\n')\n",
    "    country_data = data[data['Country'] == country]\n",
    "    \n",
    "    # compute_anteil(country_data['Total Affected'].sum(), data['Total Affected'].sum())\n",
    "    text = death_overview(country_data)\n",
    "    plot_pie(country_data)\n",
    "    plot_time_evolution(country_data)"
   ]
  },
  {
   "cell_type": "code",
   "execution_count": null,
   "id": "ee148b1a",
   "metadata": {
    "scrolled": true
   },
   "outputs": [],
   "source": [
    "analyze(data, 'Bangladesh')"
   ]
  },
  {
   "cell_type": "markdown",
   "id": "d2a9d7a5",
   "metadata": {},
   "source": [
    "### Überblick über die Welt\n",
    "\n",
    "Wie können wir die selbstdefinierte Funktion `analyze()` anpassen, so dass auch eine Gesamtstatistik, die alle Länder der Welt enthält abgefragt werden kann?"
   ]
  },
  {
   "cell_type": "code",
   "execution_count": null,
   "id": "4d215f83",
   "metadata": {
    "scrolled": true
   },
   "outputs": [],
   "source": [
    "def analyze(data, country):\n",
    "    print(f'Naturkatastrophen in {country.upper()} \\n')\n",
    "    country_data = data[data['Country'] == country]\n",
    "    if country == 'world':\n",
    "        country_data = data   \n",
    "    compute_anteil(country_data['Total Affected'].sum(), data['Total Affected'].sum())\n",
    "    death_overview(country_data)\n",
    "    plot_pie(country_data)\n",
    "    plot_time_evolution(country_data)"
   ]
  },
  {
   "cell_type": "code",
   "execution_count": null,
   "id": "b2ef99a8",
   "metadata": {
    "scrolled": true
   },
   "outputs": [],
   "source": [
    "analyze(data, 'world')"
   ]
  },
  {
   "cell_type": "code",
   "execution_count": null,
   "id": "49d58eea",
   "metadata": {
    "scrolled": true
   },
   "outputs": [],
   "source": []
  }
 ],
 "metadata": {
  "celltoolbar": "Slideshow",
  "kernelspec": {
   "display_name": "Python 3 (ipykernel)",
   "language": "python",
   "name": "python3"
  },
  "language_info": {
   "codemirror_mode": {
    "name": "ipython",
    "version": 3
   },
   "file_extension": ".py",
   "mimetype": "text/x-python",
   "name": "python",
   "nbconvert_exporter": "python",
   "pygments_lexer": "ipython3",
   "version": "3.11.4"
  },
  "vscode": {
   "interpreter": {
    "hash": "f9f85f796d01129d0dd105a088854619f454435301f6ffec2fea96ecbd9be4ac"
   }
  }
 },
 "nbformat": 4,
 "nbformat_minor": 5
}
