{
 "cells": [
  {
   "cell_type": "markdown",
   "id": "d9a3430d",
   "metadata": {
    "slideshow": {
     "slide_type": "slide"
    }
   },
   "source": [
    "# Datenanalyse Teil III - Visualisierungen\n",
    "\n",
    "### Natalie Widmann\n",
    "\n",
    "\n",
    "\n",
    "\n",
    "Wintersemester 2024 / 2025\n",
    "\n",
    "\n",
    "Universität Leipzig\n",
    "\n",
    "\n",
    "\n"
   ]
  },
  {
   "cell_type": "markdown",
   "id": "a1c7d68a",
   "metadata": {
    "slideshow": {
     "slide_type": "slide"
    }
   },
   "source": [
    "### Ziel\n",
    "\n",
    "- Grundlagen der Datenvisualisierungen\n",
    "- \n"
   ]
  },
  {
   "cell_type": "markdown",
   "id": "a3b3b413",
   "metadata": {},
   "source": [
    "![Datenpipeline](../../imgs/datapipeline.png)"
   ]
  },
  {
   "cell_type": "code",
   "execution_count": 17,
   "id": "8658426c",
   "metadata": {
    "scrolled": true,
    "slideshow": {
     "slide_type": "slide"
    }
   },
   "outputs": [
    {
     "name": "stdout",
     "output_type": "stream",
     "text": [
      "Requirement already satisfied: pandas in /home/natalie-widmann/anaconda3/lib/python3.11/site-packages (2.2.3)\n",
      "Requirement already satisfied: numpy>=1.23.2 in /home/natalie-widmann/anaconda3/lib/python3.11/site-packages (from pandas) (1.26.4)\n",
      "Requirement already satisfied: python-dateutil>=2.8.2 in /home/natalie-widmann/anaconda3/lib/python3.11/site-packages (from pandas) (2.8.2)\n",
      "Requirement already satisfied: pytz>=2020.1 in /home/natalie-widmann/anaconda3/lib/python3.11/site-packages (from pandas) (2023.3.post1)\n",
      "Requirement already satisfied: tzdata>=2022.7 in /home/natalie-widmann/anaconda3/lib/python3.11/site-packages (from pandas) (2023.3)\n",
      "Requirement already satisfied: six>=1.5 in /home/natalie-widmann/anaconda3/lib/python3.11/site-packages (from python-dateutil>=2.8.2->pandas) (1.16.0)\n"
     ]
    }
   ],
   "source": [
    "# Install a pip package im Jupyter Notebook\n",
    "!pip3 install pandas"
   ]
  },
  {
   "cell_type": "code",
   "execution_count": 4,
   "id": "9f32b8a8",
   "metadata": {
    "scrolled": true,
    "slideshow": {
     "slide_type": "slide"
    }
   },
   "outputs": [
    {
     "data": {
      "text/html": [
       "<div>\n",
       "<style scoped>\n",
       "    .dataframe tbody tr th:only-of-type {\n",
       "        vertical-align: middle;\n",
       "    }\n",
       "\n",
       "    .dataframe tbody tr th {\n",
       "        vertical-align: top;\n",
       "    }\n",
       "\n",
       "    .dataframe thead th {\n",
       "        text-align: right;\n",
       "    }\n",
       "</style>\n",
       "<table border=\"1\" class=\"dataframe\">\n",
       "  <thead>\n",
       "    <tr style=\"text-align: right;\">\n",
       "      <th></th>\n",
       "      <th>Year</th>\n",
       "      <th>Country</th>\n",
       "      <th>ISO</th>\n",
       "      <th>Disaster Group</th>\n",
       "      <th>Disaster Subroup</th>\n",
       "      <th>Disaster Type</th>\n",
       "      <th>Disaster Subtype</th>\n",
       "      <th>Total Events</th>\n",
       "      <th>Total Affected</th>\n",
       "      <th>Total Deaths</th>\n",
       "      <th>Total Damage (USD, original)</th>\n",
       "      <th>Total Damage (USD, adjusted)</th>\n",
       "      <th>CPI</th>\n",
       "    </tr>\n",
       "  </thead>\n",
       "  <tbody>\n",
       "    <tr>\n",
       "      <th>0</th>\n",
       "      <td>#date +occurred</td>\n",
       "      <td>#country +name</td>\n",
       "      <td>#country +code</td>\n",
       "      <td>#cause +group</td>\n",
       "      <td>#cause +subgroup</td>\n",
       "      <td>#cause +type</td>\n",
       "      <td>#cause +subtype</td>\n",
       "      <td>#frequency</td>\n",
       "      <td>#affected +ind</td>\n",
       "      <td>#affected +ind +killed</td>\n",
       "      <td>NaN</td>\n",
       "      <td>#value +usd</td>\n",
       "      <td>NaN</td>\n",
       "    </tr>\n",
       "    <tr>\n",
       "      <th>1</th>\n",
       "      <td>2000</td>\n",
       "      <td>Afghanistan</td>\n",
       "      <td>AFG</td>\n",
       "      <td>Natural</td>\n",
       "      <td>Climatological</td>\n",
       "      <td>Drought</td>\n",
       "      <td>Drought</td>\n",
       "      <td>1</td>\n",
       "      <td>2580000</td>\n",
       "      <td>37</td>\n",
       "      <td>50000.00</td>\n",
       "      <td>88473</td>\n",
       "      <td>56.51</td>\n",
       "    </tr>\n",
       "    <tr>\n",
       "      <th>2</th>\n",
       "      <td>2000</td>\n",
       "      <td>Algeria</td>\n",
       "      <td>DZA</td>\n",
       "      <td>Natural</td>\n",
       "      <td>Hydrological</td>\n",
       "      <td>Flood</td>\n",
       "      <td>Flash flood</td>\n",
       "      <td>1</td>\n",
       "      <td>100</td>\n",
       "      <td>28</td>\n",
       "      <td>NaN</td>\n",
       "      <td>NaN</td>\n",
       "      <td>56.51</td>\n",
       "    </tr>\n",
       "    <tr>\n",
       "      <th>3</th>\n",
       "      <td>2000</td>\n",
       "      <td>Algeria</td>\n",
       "      <td>DZA</td>\n",
       "      <td>Natural</td>\n",
       "      <td>Meteorological</td>\n",
       "      <td>Storm</td>\n",
       "      <td>Storm (General)</td>\n",
       "      <td>1</td>\n",
       "      <td>10</td>\n",
       "      <td>4</td>\n",
       "      <td>NaN</td>\n",
       "      <td>NaN</td>\n",
       "      <td>56.51</td>\n",
       "    </tr>\n",
       "    <tr>\n",
       "      <th>4</th>\n",
       "      <td>2000</td>\n",
       "      <td>Angola</td>\n",
       "      <td>AGO</td>\n",
       "      <td>Natural</td>\n",
       "      <td>Hydrological</td>\n",
       "      <td>Flood</td>\n",
       "      <td>Flood (General)</td>\n",
       "      <td>3</td>\n",
       "      <td>9011</td>\n",
       "      <td>15</td>\n",
       "      <td>NaN</td>\n",
       "      <td>NaN</td>\n",
       "      <td>56.51</td>\n",
       "    </tr>\n",
       "    <tr>\n",
       "      <th>...</th>\n",
       "      <td>...</td>\n",
       "      <td>...</td>\n",
       "      <td>...</td>\n",
       "      <td>...</td>\n",
       "      <td>...</td>\n",
       "      <td>...</td>\n",
       "      <td>...</td>\n",
       "      <td>...</td>\n",
       "      <td>...</td>\n",
       "      <td>...</td>\n",
       "      <td>...</td>\n",
       "      <td>...</td>\n",
       "      <td>...</td>\n",
       "    </tr>\n",
       "    <tr>\n",
       "      <th>6141</th>\n",
       "      <td>2024</td>\n",
       "      <td>Viet Nam</td>\n",
       "      <td>VNM</td>\n",
       "      <td>Natural</td>\n",
       "      <td>Meteorological</td>\n",
       "      <td>Storm</td>\n",
       "      <td>Tropical cyclone</td>\n",
       "      <td>3</td>\n",
       "      <td>3747257</td>\n",
       "      <td>354</td>\n",
       "      <td>2000000000.00</td>\n",
       "      <td>NaN</td>\n",
       "      <td>NaN</td>\n",
       "    </tr>\n",
       "    <tr>\n",
       "      <th>6142</th>\n",
       "      <td>2024</td>\n",
       "      <td>Yemen</td>\n",
       "      <td>YEM</td>\n",
       "      <td>Natural</td>\n",
       "      <td>Hydrological</td>\n",
       "      <td>Flood</td>\n",
       "      <td>Flash flood</td>\n",
       "      <td>1</td>\n",
       "      <td>1075</td>\n",
       "      <td>40</td>\n",
       "      <td>NaN</td>\n",
       "      <td>NaN</td>\n",
       "      <td>NaN</td>\n",
       "    </tr>\n",
       "    <tr>\n",
       "      <th>6143</th>\n",
       "      <td>2024</td>\n",
       "      <td>Yemen</td>\n",
       "      <td>YEM</td>\n",
       "      <td>Natural</td>\n",
       "      <td>Hydrological</td>\n",
       "      <td>Flood</td>\n",
       "      <td>Flood (General)</td>\n",
       "      <td>2</td>\n",
       "      <td>210439</td>\n",
       "      <td>62</td>\n",
       "      <td>NaN</td>\n",
       "      <td>NaN</td>\n",
       "      <td>NaN</td>\n",
       "    </tr>\n",
       "    <tr>\n",
       "      <th>6144</th>\n",
       "      <td>2024</td>\n",
       "      <td>Zambia</td>\n",
       "      <td>ZMB</td>\n",
       "      <td>Natural</td>\n",
       "      <td>Climatological</td>\n",
       "      <td>Drought</td>\n",
       "      <td>Drought</td>\n",
       "      <td>1</td>\n",
       "      <td>6600000</td>\n",
       "      <td>NaN</td>\n",
       "      <td>NaN</td>\n",
       "      <td>NaN</td>\n",
       "      <td>NaN</td>\n",
       "    </tr>\n",
       "    <tr>\n",
       "      <th>6145</th>\n",
       "      <td>2024</td>\n",
       "      <td>Zimbabwe</td>\n",
       "      <td>ZWE</td>\n",
       "      <td>Natural</td>\n",
       "      <td>Climatological</td>\n",
       "      <td>Drought</td>\n",
       "      <td>Drought</td>\n",
       "      <td>1</td>\n",
       "      <td>7600000</td>\n",
       "      <td>NaN</td>\n",
       "      <td>NaN</td>\n",
       "      <td>NaN</td>\n",
       "      <td>NaN</td>\n",
       "    </tr>\n",
       "  </tbody>\n",
       "</table>\n",
       "<p>6146 rows × 13 columns</p>\n",
       "</div>"
      ],
      "text/plain": [
       "                 Year         Country             ISO Disaster Group  \\\n",
       "0     #date +occurred  #country +name  #country +code  #cause +group   \n",
       "1                2000     Afghanistan             AFG        Natural   \n",
       "2                2000         Algeria             DZA        Natural   \n",
       "3                2000         Algeria             DZA        Natural   \n",
       "4                2000          Angola             AGO        Natural   \n",
       "...               ...             ...             ...            ...   \n",
       "6141             2024        Viet Nam             VNM        Natural   \n",
       "6142             2024           Yemen             YEM        Natural   \n",
       "6143             2024           Yemen             YEM        Natural   \n",
       "6144             2024          Zambia             ZMB        Natural   \n",
       "6145             2024        Zimbabwe             ZWE        Natural   \n",
       "\n",
       "      Disaster Subroup Disaster Type  Disaster Subtype Total Events  \\\n",
       "0     #cause +subgroup  #cause +type   #cause +subtype   #frequency   \n",
       "1       Climatological       Drought           Drought            1   \n",
       "2         Hydrological         Flood       Flash flood            1   \n",
       "3       Meteorological         Storm   Storm (General)            1   \n",
       "4         Hydrological         Flood   Flood (General)            3   \n",
       "...                ...           ...               ...          ...   \n",
       "6141    Meteorological         Storm  Tropical cyclone            3   \n",
       "6142      Hydrological         Flood       Flash flood            1   \n",
       "6143      Hydrological         Flood   Flood (General)            2   \n",
       "6144    Climatological       Drought           Drought            1   \n",
       "6145    Climatological       Drought           Drought            1   \n",
       "\n",
       "      Total Affected            Total Deaths  Total Damage (USD, original)  \\\n",
       "0     #affected +ind  #affected +ind +killed                           NaN   \n",
       "1            2580000                      37                      50000.00   \n",
       "2                100                      28                           NaN   \n",
       "3                 10                       4                           NaN   \n",
       "4               9011                      15                           NaN   \n",
       "...              ...                     ...                           ...   \n",
       "6141         3747257                     354                 2000000000.00   \n",
       "6142            1075                      40                           NaN   \n",
       "6143          210439                      62                           NaN   \n",
       "6144         6600000                     NaN                           NaN   \n",
       "6145         7600000                     NaN                           NaN   \n",
       "\n",
       "     Total Damage (USD, adjusted)   CPI  \n",
       "0                     #value +usd   NaN  \n",
       "1                           88473 56.51  \n",
       "2                             NaN 56.51  \n",
       "3                             NaN 56.51  \n",
       "4                             NaN 56.51  \n",
       "...                           ...   ...  \n",
       "6141                          NaN   NaN  \n",
       "6142                          NaN   NaN  \n",
       "6143                          NaN   NaN  \n",
       "6144                          NaN   NaN  \n",
       "6145                          NaN   NaN  \n",
       "\n",
       "[6146 rows x 13 columns]"
      ]
     },
     "execution_count": 4,
     "metadata": {},
     "output_type": "execute_result"
    }
   ],
   "source": [
    "import pandas as pd\n",
    "pd.set_option('display.float_format', '{:.2f}'.format)\n",
    "\n",
    "data_url = \"https://data.humdata.org/dataset/74163686-a029-4e27-8fbf-c5bfcd13f953/resource/c5ce40d6-07b1-4f36-955a-d6196436ff6b/download/emdat-country-profiles_2024_12_02.xlsx\"\n",
    "data = pd.read_excel(data_url, engine=\"openpyxl\")\n",
    "data"
   ]
  },
  {
   "cell_type": "code",
   "execution_count": 19,
   "id": "8c93e778",
   "metadata": {},
   "outputs": [],
   "source": [
    "# Data Cleaning\n",
    "data = data.drop(index=0)\n",
    "\n",
    "cols = ['Year', 'Total Events', 'Total Affected', 'Total Deaths', 'Total Damage (USD, adjusted)']\n",
    "for col in cols:\n",
    "    data[col] = pd.to_numeric(data[col])\n",
    "\n",
    "\n",
    "cols = ['ISO', 'Disaster Group', 'Total Damage (USD, adjusted)', 'CPI']\n",
    "data.drop(cols, axis=1, inplace=True)"
   ]
  },
  {
   "cell_type": "code",
   "execution_count": 20,
   "id": "0a134e4c",
   "metadata": {},
   "outputs": [
    {
     "data": {
      "text/html": [
       "<div>\n",
       "<style scoped>\n",
       "    .dataframe tbody tr th:only-of-type {\n",
       "        vertical-align: middle;\n",
       "    }\n",
       "\n",
       "    .dataframe tbody tr th {\n",
       "        vertical-align: top;\n",
       "    }\n",
       "\n",
       "    .dataframe thead th {\n",
       "        text-align: right;\n",
       "    }\n",
       "</style>\n",
       "<table border=\"1\" class=\"dataframe\">\n",
       "  <thead>\n",
       "    <tr style=\"text-align: right;\">\n",
       "      <th></th>\n",
       "      <th>Year</th>\n",
       "      <th>Country</th>\n",
       "      <th>Disaster Subroup</th>\n",
       "      <th>Disaster Type</th>\n",
       "      <th>Disaster Subtype</th>\n",
       "      <th>Total Events</th>\n",
       "      <th>Total Affected</th>\n",
       "      <th>Total Deaths</th>\n",
       "      <th>Total Damage (USD, original)</th>\n",
       "    </tr>\n",
       "  </thead>\n",
       "  <tbody>\n",
       "    <tr>\n",
       "      <th>1</th>\n",
       "      <td>2000</td>\n",
       "      <td>Afghanistan</td>\n",
       "      <td>Climatological</td>\n",
       "      <td>Drought</td>\n",
       "      <td>Drought</td>\n",
       "      <td>1</td>\n",
       "      <td>2580000.00</td>\n",
       "      <td>37.00</td>\n",
       "      <td>50000.00</td>\n",
       "    </tr>\n",
       "    <tr>\n",
       "      <th>2</th>\n",
       "      <td>2000</td>\n",
       "      <td>Algeria</td>\n",
       "      <td>Hydrological</td>\n",
       "      <td>Flood</td>\n",
       "      <td>Flash flood</td>\n",
       "      <td>1</td>\n",
       "      <td>100.00</td>\n",
       "      <td>28.00</td>\n",
       "      <td>NaN</td>\n",
       "    </tr>\n",
       "    <tr>\n",
       "      <th>3</th>\n",
       "      <td>2000</td>\n",
       "      <td>Algeria</td>\n",
       "      <td>Meteorological</td>\n",
       "      <td>Storm</td>\n",
       "      <td>Storm (General)</td>\n",
       "      <td>1</td>\n",
       "      <td>10.00</td>\n",
       "      <td>4.00</td>\n",
       "      <td>NaN</td>\n",
       "    </tr>\n",
       "    <tr>\n",
       "      <th>4</th>\n",
       "      <td>2000</td>\n",
       "      <td>Angola</td>\n",
       "      <td>Hydrological</td>\n",
       "      <td>Flood</td>\n",
       "      <td>Flood (General)</td>\n",
       "      <td>3</td>\n",
       "      <td>9011.00</td>\n",
       "      <td>15.00</td>\n",
       "      <td>NaN</td>\n",
       "    </tr>\n",
       "    <tr>\n",
       "      <th>5</th>\n",
       "      <td>2000</td>\n",
       "      <td>Angola</td>\n",
       "      <td>Hydrological</td>\n",
       "      <td>Flood</td>\n",
       "      <td>Riverine flood</td>\n",
       "      <td>1</td>\n",
       "      <td>70000.00</td>\n",
       "      <td>31.00</td>\n",
       "      <td>10000000.00</td>\n",
       "    </tr>\n",
       "    <tr>\n",
       "      <th>...</th>\n",
       "      <td>...</td>\n",
       "      <td>...</td>\n",
       "      <td>...</td>\n",
       "      <td>...</td>\n",
       "      <td>...</td>\n",
       "      <td>...</td>\n",
       "      <td>...</td>\n",
       "      <td>...</td>\n",
       "      <td>...</td>\n",
       "    </tr>\n",
       "    <tr>\n",
       "      <th>6126</th>\n",
       "      <td>2024</td>\n",
       "      <td>Viet Nam</td>\n",
       "      <td>Meteorological</td>\n",
       "      <td>Storm</td>\n",
       "      <td>Tropical cyclone</td>\n",
       "      <td>3</td>\n",
       "      <td>3747257.00</td>\n",
       "      <td>354.00</td>\n",
       "      <td>2000000000.00</td>\n",
       "    </tr>\n",
       "    <tr>\n",
       "      <th>6127</th>\n",
       "      <td>2024</td>\n",
       "      <td>Yemen</td>\n",
       "      <td>Hydrological</td>\n",
       "      <td>Flood</td>\n",
       "      <td>Flash flood</td>\n",
       "      <td>1</td>\n",
       "      <td>1075.00</td>\n",
       "      <td>40.00</td>\n",
       "      <td>NaN</td>\n",
       "    </tr>\n",
       "    <tr>\n",
       "      <th>6128</th>\n",
       "      <td>2024</td>\n",
       "      <td>Yemen</td>\n",
       "      <td>Hydrological</td>\n",
       "      <td>Flood</td>\n",
       "      <td>Flood (General)</td>\n",
       "      <td>2</td>\n",
       "      <td>210439.00</td>\n",
       "      <td>62.00</td>\n",
       "      <td>NaN</td>\n",
       "    </tr>\n",
       "    <tr>\n",
       "      <th>6129</th>\n",
       "      <td>2024</td>\n",
       "      <td>Zambia</td>\n",
       "      <td>Climatological</td>\n",
       "      <td>Drought</td>\n",
       "      <td>Drought</td>\n",
       "      <td>1</td>\n",
       "      <td>6600000.00</td>\n",
       "      <td>NaN</td>\n",
       "      <td>NaN</td>\n",
       "    </tr>\n",
       "    <tr>\n",
       "      <th>6130</th>\n",
       "      <td>2024</td>\n",
       "      <td>Zimbabwe</td>\n",
       "      <td>Climatological</td>\n",
       "      <td>Drought</td>\n",
       "      <td>Drought</td>\n",
       "      <td>1</td>\n",
       "      <td>7600000.00</td>\n",
       "      <td>NaN</td>\n",
       "      <td>NaN</td>\n",
       "    </tr>\n",
       "  </tbody>\n",
       "</table>\n",
       "<p>6130 rows × 9 columns</p>\n",
       "</div>"
      ],
      "text/plain": [
       "      Year      Country Disaster Subroup Disaster Type  Disaster Subtype  \\\n",
       "1     2000  Afghanistan   Climatological       Drought           Drought   \n",
       "2     2000      Algeria     Hydrological         Flood       Flash flood   \n",
       "3     2000      Algeria   Meteorological         Storm   Storm (General)   \n",
       "4     2000       Angola     Hydrological         Flood   Flood (General)   \n",
       "5     2000       Angola     Hydrological         Flood    Riverine flood   \n",
       "...    ...          ...              ...           ...               ...   \n",
       "6126  2024     Viet Nam   Meteorological         Storm  Tropical cyclone   \n",
       "6127  2024        Yemen     Hydrological         Flood       Flash flood   \n",
       "6128  2024        Yemen     Hydrological         Flood   Flood (General)   \n",
       "6129  2024       Zambia   Climatological       Drought           Drought   \n",
       "6130  2024     Zimbabwe   Climatological       Drought           Drought   \n",
       "\n",
       "      Total Events  Total Affected  Total Deaths  Total Damage (USD, original)  \n",
       "1                1      2580000.00         37.00                      50000.00  \n",
       "2                1          100.00         28.00                           NaN  \n",
       "3                1           10.00          4.00                           NaN  \n",
       "4                3         9011.00         15.00                           NaN  \n",
       "5                1        70000.00         31.00                   10000000.00  \n",
       "...            ...             ...           ...                           ...  \n",
       "6126             3      3747257.00        354.00                 2000000000.00  \n",
       "6127             1         1075.00         40.00                           NaN  \n",
       "6128             2       210439.00         62.00                           NaN  \n",
       "6129             1      6600000.00           NaN                           NaN  \n",
       "6130             1      7600000.00           NaN                           NaN  \n",
       "\n",
       "[6130 rows x 9 columns]"
      ]
     },
     "execution_count": 20,
     "metadata": {},
     "output_type": "execute_result"
    }
   ],
   "source": [
    "data"
   ]
  },
  {
   "cell_type": "markdown",
   "id": "e1cc61e8",
   "metadata": {},
   "source": [
    "## Visualisierungen\n",
    "\n",
    "#### Karte"
   ]
  },
  {
   "cell_type": "code",
   "execution_count": 1,
   "id": "d0b35592-572f-4098-9559-21f875e81eae",
   "metadata": {},
   "outputs": [
    {
     "ename": "NameError",
     "evalue": "name 'data' is not defined",
     "output_type": "error",
     "traceback": [
      "\u001b[0;31m---------------------------------------------------------------------------\u001b[0m",
      "\u001b[0;31mNameError\u001b[0m                                 Traceback (most recent call last)",
      "Cell \u001b[0;32mIn[1], line 1\u001b[0m\n\u001b[0;32m----> 1\u001b[0m summary \u001b[38;5;241m=\u001b[39m data\u001b[38;5;241m.\u001b[39mgroupby(\u001b[38;5;124m'\u001b[39m\u001b[38;5;124mCountry\u001b[39m\u001b[38;5;124m'\u001b[39m)[\u001b[38;5;124m'\u001b[39m\u001b[38;5;124mTotal Events\u001b[39m\u001b[38;5;124m'\u001b[39m]\u001b[38;5;241m.\u001b[39msum()\u001b[38;5;241m.\u001b[39mreset_index()\n\u001b[1;32m      2\u001b[0m summary\u001b[38;5;241m.\u001b[39mhead()\n",
      "\u001b[0;31mNameError\u001b[0m: name 'data' is not defined"
     ]
    }
   ],
   "source": [
    "summary = data.groupby('Country')['Total Events'].sum().reset_index()\n",
    "summary.head()"
   ]
  },
  {
   "cell_type": "code",
   "execution_count": 3,
   "id": "a1b84ca8-682c-4a40-9d6e-621faac3fed2",
   "metadata": {},
   "outputs": [
    {
     "ename": "NameError",
     "evalue": "name 'summary' is not defined",
     "output_type": "error",
     "traceback": [
      "\u001b[0;31m---------------------------------------------------------------------------\u001b[0m",
      "\u001b[0;31mNameError\u001b[0m                                 Traceback (most recent call last)",
      "Cell \u001b[0;32mIn[3], line 4\u001b[0m\n\u001b[1;32m      1\u001b[0m \u001b[38;5;28;01mimport\u001b[39;00m \u001b[38;5;21;01mplotly\u001b[39;00m\u001b[38;5;21;01m.\u001b[39;00m\u001b[38;5;21;01mexpress\u001b[39;00m \u001b[38;5;28;01mas\u001b[39;00m \u001b[38;5;21;01mpx\u001b[39;00m\n\u001b[1;32m      3\u001b[0m fig \u001b[38;5;241m=\u001b[39m px\u001b[38;5;241m.\u001b[39mchoropleth(\n\u001b[0;32m----> 4\u001b[0m     summary,\n\u001b[1;32m      5\u001b[0m     locations\u001b[38;5;241m=\u001b[39m\u001b[38;5;124m\"\u001b[39m\u001b[38;5;124mCountry\u001b[39m\u001b[38;5;124m\"\u001b[39m,\n\u001b[1;32m      6\u001b[0m     locationmode\u001b[38;5;241m=\u001b[39m\u001b[38;5;124m\"\u001b[39m\u001b[38;5;124mcountry names\u001b[39m\u001b[38;5;124m\"\u001b[39m,\n\u001b[1;32m      7\u001b[0m     color\u001b[38;5;241m=\u001b[39m\u001b[38;5;124m\"\u001b[39m\u001b[38;5;124mTotal Events\u001b[39m\u001b[38;5;124m\"\u001b[39m,\n\u001b[1;32m      8\u001b[0m     title\u001b[38;5;241m=\u001b[39m\u001b[38;5;124m\"\u001b[39m\u001b[38;5;124mValues by Country\u001b[39m\u001b[38;5;124m\"\u001b[39m,\n\u001b[1;32m      9\u001b[0m     color_continuous_scale\u001b[38;5;241m=\u001b[39mpx\u001b[38;5;241m.\u001b[39mcolors\u001b[38;5;241m.\u001b[39msequential\u001b[38;5;241m.\u001b[39mPlasma\n\u001b[1;32m     10\u001b[0m )\n\u001b[1;32m     12\u001b[0m \u001b[38;5;66;03m# Increase figure size\u001b[39;00m\n\u001b[1;32m     13\u001b[0m fig\u001b[38;5;241m.\u001b[39mupdate_layout(\n\u001b[1;32m     14\u001b[0m     width\u001b[38;5;241m=\u001b[39m\u001b[38;5;241m1000\u001b[39m,  \n\u001b[1;32m     15\u001b[0m     height\u001b[38;5;241m=\u001b[39m\u001b[38;5;241m800\u001b[39m \n\u001b[1;32m     16\u001b[0m )\n",
      "\u001b[0;31mNameError\u001b[0m: name 'summary' is not defined"
     ]
    }
   ],
   "source": [
    "import plotly.express as px\n",
    "\n",
    "fig = px.choropleth(\n",
    "    summary,\n",
    "    locations=\"Country\",\n",
    "    locationmode=\"country names\",\n",
    "    color=\"Total Events\",\n",
    "    title=\"Values by Country\",\n",
    "    color_continuous_scale=px.colors.sequential.Plasma\n",
    ")\n",
    "\n",
    "# Increase figure size\n",
    "fig.update_layout(\n",
    "    width=1000,  \n",
    "    height=800 \n",
    ")\n",
    "\n",
    "fig.show()"
   ]
  },
  {
   "cell_type": "markdown",
   "id": "2e424631",
   "metadata": {
    "slideshow": {
     "slide_type": "slide"
    }
   },
   "source": [
    "## Recherchefragen\n",
    "\n",
    "- Wie viele Todesopfer gibt es in einem Land?\n",
    "- Wie stark ist ein Land von Naturkatastrophen betroffen?\n",
    "- Welchen Anteil haben die unterschiedlichen Naturkatastrophentypen daran?\n",
    "- Wie hat sich die Anzahl der Naturkatastrophen über die Jahre hin entwickelt?"
   ]
  },
  {
   "cell_type": "markdown",
   "id": "f0905851",
   "metadata": {},
   "source": [
    "### Wie viele Todesopfer gibt es in einem Land?"
   ]
  },
  {
   "cell_type": "markdown",
   "id": "3b0620e2",
   "metadata": {},
   "source": [
    "#### Wie viele Todesopfer gibt es insgesamt?"
   ]
  },
  {
   "cell_type": "code",
   "execution_count": 21,
   "id": "1f37395f",
   "metadata": {
    "scrolled": true
   },
   "outputs": [
    {
     "data": {
      "text/plain": [
       "1484617.0"
      ]
     },
     "execution_count": 21,
     "metadata": {},
     "output_type": "execute_result"
    }
   ],
   "source": [
    "data[\"Total Deaths\"].sum()"
   ]
  },
  {
   "cell_type": "markdown",
   "id": "c18901cc",
   "metadata": {},
   "source": [
    "#### Wie viele Todesopfer gibt es insgesamt in Deutschland?"
   ]
  },
  {
   "cell_type": "code",
   "execution_count": 23,
   "id": "70d135df",
   "metadata": {
    "scrolled": true
   },
   "outputs": [
    {
     "data": {
      "text/html": [
       "<div>\n",
       "<style scoped>\n",
       "    .dataframe tbody tr th:only-of-type {\n",
       "        vertical-align: middle;\n",
       "    }\n",
       "\n",
       "    .dataframe tbody tr th {\n",
       "        vertical-align: top;\n",
       "    }\n",
       "\n",
       "    .dataframe thead th {\n",
       "        text-align: right;\n",
       "    }\n",
       "</style>\n",
       "<table border=\"1\" class=\"dataframe\">\n",
       "  <thead>\n",
       "    <tr style=\"text-align: right;\">\n",
       "      <th></th>\n",
       "      <th>Year</th>\n",
       "      <th>Country</th>\n",
       "      <th>Disaster Subroup</th>\n",
       "      <th>Disaster Type</th>\n",
       "      <th>Disaster Subtype</th>\n",
       "      <th>Total Events</th>\n",
       "      <th>Total Affected</th>\n",
       "      <th>Total Deaths</th>\n",
       "      <th>Total Damage (USD, original)</th>\n",
       "    </tr>\n",
       "  </thead>\n",
       "  <tbody>\n",
       "    <tr>\n",
       "      <th>365</th>\n",
       "      <td>2001</td>\n",
       "      <td>Germany</td>\n",
       "      <td>Meteorological</td>\n",
       "      <td>Storm</td>\n",
       "      <td>Lightning/Thunderstorms</td>\n",
       "      <td>1</td>\n",
       "      <td>NaN</td>\n",
       "      <td>6.00</td>\n",
       "      <td>300000000.00</td>\n",
       "    </tr>\n",
       "    <tr>\n",
       "      <th>626</th>\n",
       "      <td>2002</td>\n",
       "      <td>Germany</td>\n",
       "      <td>Hydrological</td>\n",
       "      <td>Flood</td>\n",
       "      <td>Flood (General)</td>\n",
       "      <td>1</td>\n",
       "      <td>330108.00</td>\n",
       "      <td>27.00</td>\n",
       "      <td>11600000000.00</td>\n",
       "    </tr>\n",
       "    <tr>\n",
       "      <th>627</th>\n",
       "      <td>2002</td>\n",
       "      <td>Germany</td>\n",
       "      <td>Meteorological</td>\n",
       "      <td>Storm</td>\n",
       "      <td>Extra-tropical storm</td>\n",
       "      <td>1</td>\n",
       "      <td>NaN</td>\n",
       "      <td>11.00</td>\n",
       "      <td>1800000000.00</td>\n",
       "    </tr>\n",
       "    <tr>\n",
       "      <th>628</th>\n",
       "      <td>2002</td>\n",
       "      <td>Germany</td>\n",
       "      <td>Meteorological</td>\n",
       "      <td>Storm</td>\n",
       "      <td>Storm (General)</td>\n",
       "      <td>2</td>\n",
       "      <td>19.00</td>\n",
       "      <td>11.00</td>\n",
       "      <td>250000000.00</td>\n",
       "    </tr>\n",
       "    <tr>\n",
       "      <th>915</th>\n",
       "      <td>2003</td>\n",
       "      <td>Germany</td>\n",
       "      <td>Meteorological</td>\n",
       "      <td>Extreme temperature</td>\n",
       "      <td>Heat wave</td>\n",
       "      <td>1</td>\n",
       "      <td>NaN</td>\n",
       "      <td>9355.00</td>\n",
       "      <td>1650000000.00</td>\n",
       "    </tr>\n",
       "    <tr>\n",
       "      <th>916</th>\n",
       "      <td>2003</td>\n",
       "      <td>Germany</td>\n",
       "      <td>Meteorological</td>\n",
       "      <td>Storm</td>\n",
       "      <td>Extra-tropical storm</td>\n",
       "      <td>1</td>\n",
       "      <td>NaN</td>\n",
       "      <td>5.00</td>\n",
       "      <td>300000000.00</td>\n",
       "    </tr>\n",
       "    <tr>\n",
       "      <th>917</th>\n",
       "      <td>2003</td>\n",
       "      <td>Germany</td>\n",
       "      <td>Meteorological</td>\n",
       "      <td>Storm</td>\n",
       "      <td>Lightning/Thunderstorms</td>\n",
       "      <td>1</td>\n",
       "      <td>NaN</td>\n",
       "      <td>10.00</td>\n",
       "      <td>NaN</td>\n",
       "    </tr>\n",
       "    <tr>\n",
       "      <th>1148</th>\n",
       "      <td>2004</td>\n",
       "      <td>Germany</td>\n",
       "      <td>Geophysical</td>\n",
       "      <td>Earthquake</td>\n",
       "      <td>Ground movement</td>\n",
       "      <td>1</td>\n",
       "      <td>150.00</td>\n",
       "      <td>NaN</td>\n",
       "      <td>12000000.00</td>\n",
       "    </tr>\n",
       "    <tr>\n",
       "      <th>1149</th>\n",
       "      <td>2004</td>\n",
       "      <td>Germany</td>\n",
       "      <td>Meteorological</td>\n",
       "      <td>Storm</td>\n",
       "      <td>Storm (General)</td>\n",
       "      <td>1</td>\n",
       "      <td>NaN</td>\n",
       "      <td>2.00</td>\n",
       "      <td>130000000.00</td>\n",
       "    </tr>\n",
       "    <tr>\n",
       "      <th>1417</th>\n",
       "      <td>2005</td>\n",
       "      <td>Germany</td>\n",
       "      <td>Hydrological</td>\n",
       "      <td>Flood</td>\n",
       "      <td>Riverine flood</td>\n",
       "      <td>2</td>\n",
       "      <td>450.00</td>\n",
       "      <td>1.00</td>\n",
       "      <td>220000000.00</td>\n",
       "    </tr>\n",
       "    <tr>\n",
       "      <th>1418</th>\n",
       "      <td>2005</td>\n",
       "      <td>Germany</td>\n",
       "      <td>Meteorological</td>\n",
       "      <td>Extreme temperature</td>\n",
       "      <td>Cold wave</td>\n",
       "      <td>1</td>\n",
       "      <td>165.00</td>\n",
       "      <td>1.00</td>\n",
       "      <td>300000000.00</td>\n",
       "    </tr>\n",
       "    <tr>\n",
       "      <th>1419</th>\n",
       "      <td>2005</td>\n",
       "      <td>Germany</td>\n",
       "      <td>Meteorological</td>\n",
       "      <td>Storm</td>\n",
       "      <td>Extra-tropical storm</td>\n",
       "      <td>1</td>\n",
       "      <td>2.00</td>\n",
       "      <td>2.00</td>\n",
       "      <td>270000000.00</td>\n",
       "    </tr>\n",
       "    <tr>\n",
       "      <th>1677</th>\n",
       "      <td>2006</td>\n",
       "      <td>Germany</td>\n",
       "      <td>Hydrological</td>\n",
       "      <td>Flood</td>\n",
       "      <td>Riverine flood</td>\n",
       "      <td>1</td>\n",
       "      <td>1000.00</td>\n",
       "      <td>NaN</td>\n",
       "      <td>NaN</td>\n",
       "    </tr>\n",
       "    <tr>\n",
       "      <th>1678</th>\n",
       "      <td>2006</td>\n",
       "      <td>Germany</td>\n",
       "      <td>Meteorological</td>\n",
       "      <td>Extreme temperature</td>\n",
       "      <td>Heat wave</td>\n",
       "      <td>1</td>\n",
       "      <td>NaN</td>\n",
       "      <td>2.00</td>\n",
       "      <td>NaN</td>\n",
       "    </tr>\n",
       "    <tr>\n",
       "      <th>1679</th>\n",
       "      <td>2006</td>\n",
       "      <td>Germany</td>\n",
       "      <td>Meteorological</td>\n",
       "      <td>Extreme temperature</td>\n",
       "      <td>Severe winter conditions</td>\n",
       "      <td>1</td>\n",
       "      <td>NaN</td>\n",
       "      <td>10.00</td>\n",
       "      <td>NaN</td>\n",
       "    </tr>\n",
       "    <tr>\n",
       "      <th>1680</th>\n",
       "      <td>2006</td>\n",
       "      <td>Germany</td>\n",
       "      <td>Meteorological</td>\n",
       "      <td>Storm</td>\n",
       "      <td>Hail</td>\n",
       "      <td>1</td>\n",
       "      <td>100.00</td>\n",
       "      <td>1.00</td>\n",
       "      <td>NaN</td>\n",
       "    </tr>\n",
       "    <tr>\n",
       "      <th>1681</th>\n",
       "      <td>2006</td>\n",
       "      <td>Germany</td>\n",
       "      <td>Meteorological</td>\n",
       "      <td>Storm</td>\n",
       "      <td>Storm (General)</td>\n",
       "      <td>2</td>\n",
       "      <td>200.00</td>\n",
       "      <td>10.00</td>\n",
       "      <td>NaN</td>\n",
       "    </tr>\n",
       "    <tr>\n",
       "      <th>1931</th>\n",
       "      <td>2007</td>\n",
       "      <td>Germany</td>\n",
       "      <td>Hydrological</td>\n",
       "      <td>Flood</td>\n",
       "      <td>Riverine flood</td>\n",
       "      <td>1</td>\n",
       "      <td>NaN</td>\n",
       "      <td>1.00</td>\n",
       "      <td>NaN</td>\n",
       "    </tr>\n",
       "    <tr>\n",
       "      <th>1932</th>\n",
       "      <td>2007</td>\n",
       "      <td>Germany</td>\n",
       "      <td>Meteorological</td>\n",
       "      <td>Storm</td>\n",
       "      <td>Blizzard/Winter storm</td>\n",
       "      <td>1</td>\n",
       "      <td>NaN</td>\n",
       "      <td>7.00</td>\n",
       "      <td>NaN</td>\n",
       "    </tr>\n",
       "    <tr>\n",
       "      <th>1933</th>\n",
       "      <td>2007</td>\n",
       "      <td>Germany</td>\n",
       "      <td>Meteorological</td>\n",
       "      <td>Storm</td>\n",
       "      <td>Extra-tropical storm</td>\n",
       "      <td>1</td>\n",
       "      <td>130.00</td>\n",
       "      <td>11.00</td>\n",
       "      <td>5500000000.00</td>\n",
       "    </tr>\n",
       "    <tr>\n",
       "      <th>2187</th>\n",
       "      <td>2008</td>\n",
       "      <td>Germany</td>\n",
       "      <td>Meteorological</td>\n",
       "      <td>Storm</td>\n",
       "      <td>Extra-tropical storm</td>\n",
       "      <td>1</td>\n",
       "      <td>NaN</td>\n",
       "      <td>5.00</td>\n",
       "      <td>1200000000.00</td>\n",
       "    </tr>\n",
       "    <tr>\n",
       "      <th>2188</th>\n",
       "      <td>2008</td>\n",
       "      <td>Germany</td>\n",
       "      <td>Meteorological</td>\n",
       "      <td>Storm</td>\n",
       "      <td>Severe weather</td>\n",
       "      <td>1</td>\n",
       "      <td>NaN</td>\n",
       "      <td>3.00</td>\n",
       "      <td>1500000000.00</td>\n",
       "    </tr>\n",
       "    <tr>\n",
       "      <th>2415</th>\n",
       "      <td>2009</td>\n",
       "      <td>Germany</td>\n",
       "      <td>Hydrological</td>\n",
       "      <td>Flood</td>\n",
       "      <td>Riverine flood</td>\n",
       "      <td>1</td>\n",
       "      <td>NaN</td>\n",
       "      <td>NaN</td>\n",
       "      <td>20000000.00</td>\n",
       "    </tr>\n",
       "    <tr>\n",
       "      <th>2416</th>\n",
       "      <td>2009</td>\n",
       "      <td>Germany</td>\n",
       "      <td>Meteorological</td>\n",
       "      <td>Extreme temperature</td>\n",
       "      <td>Cold wave</td>\n",
       "      <td>2</td>\n",
       "      <td>NaN</td>\n",
       "      <td>15.00</td>\n",
       "      <td>NaN</td>\n",
       "    </tr>\n",
       "    <tr>\n",
       "      <th>2417</th>\n",
       "      <td>2009</td>\n",
       "      <td>Germany</td>\n",
       "      <td>Meteorological</td>\n",
       "      <td>Storm</td>\n",
       "      <td>Lightning/Thunderstorms</td>\n",
       "      <td>1</td>\n",
       "      <td>NaN</td>\n",
       "      <td>1.00</td>\n",
       "      <td>50000000.00</td>\n",
       "    </tr>\n",
       "    <tr>\n",
       "      <th>2647</th>\n",
       "      <td>2010</td>\n",
       "      <td>Germany</td>\n",
       "      <td>Hydrological</td>\n",
       "      <td>Flood</td>\n",
       "      <td>Flash flood</td>\n",
       "      <td>1</td>\n",
       "      <td>NaN</td>\n",
       "      <td>3.00</td>\n",
       "      <td>NaN</td>\n",
       "    </tr>\n",
       "    <tr>\n",
       "      <th>2648</th>\n",
       "      <td>2010</td>\n",
       "      <td>Germany</td>\n",
       "      <td>Meteorological</td>\n",
       "      <td>Extreme temperature</td>\n",
       "      <td>Cold wave</td>\n",
       "      <td>1</td>\n",
       "      <td>NaN</td>\n",
       "      <td>1.00</td>\n",
       "      <td>NaN</td>\n",
       "    </tr>\n",
       "    <tr>\n",
       "      <th>2649</th>\n",
       "      <td>2010</td>\n",
       "      <td>Germany</td>\n",
       "      <td>Meteorological</td>\n",
       "      <td>Storm</td>\n",
       "      <td>Blizzard/Winter storm</td>\n",
       "      <td>1</td>\n",
       "      <td>NaN</td>\n",
       "      <td>NaN</td>\n",
       "      <td>NaN</td>\n",
       "    </tr>\n",
       "    <tr>\n",
       "      <th>2650</th>\n",
       "      <td>2010</td>\n",
       "      <td>Germany</td>\n",
       "      <td>Meteorological</td>\n",
       "      <td>Storm</td>\n",
       "      <td>Extra-tropical storm</td>\n",
       "      <td>1</td>\n",
       "      <td>NaN</td>\n",
       "      <td>4.00</td>\n",
       "      <td>1000000000.00</td>\n",
       "    </tr>\n",
       "    <tr>\n",
       "      <th>3103</th>\n",
       "      <td>2012</td>\n",
       "      <td>Germany</td>\n",
       "      <td>Meteorological</td>\n",
       "      <td>Extreme temperature</td>\n",
       "      <td>Cold wave</td>\n",
       "      <td>2</td>\n",
       "      <td>NaN</td>\n",
       "      <td>6.00</td>\n",
       "      <td>NaN</td>\n",
       "    </tr>\n",
       "    <tr>\n",
       "      <th>3309</th>\n",
       "      <td>2013</td>\n",
       "      <td>Germany</td>\n",
       "      <td>Hydrological</td>\n",
       "      <td>Flood</td>\n",
       "      <td>Riverine flood</td>\n",
       "      <td>1</td>\n",
       "      <td>6350.00</td>\n",
       "      <td>4.00</td>\n",
       "      <td>12900000000.00</td>\n",
       "    </tr>\n",
       "    <tr>\n",
       "      <th>3310</th>\n",
       "      <td>2013</td>\n",
       "      <td>Germany</td>\n",
       "      <td>Meteorological</td>\n",
       "      <td>Storm</td>\n",
       "      <td>Extra-tropical storm</td>\n",
       "      <td>2</td>\n",
       "      <td>2.00</td>\n",
       "      <td>7.00</td>\n",
       "      <td>NaN</td>\n",
       "    </tr>\n",
       "    <tr>\n",
       "      <th>3311</th>\n",
       "      <td>2013</td>\n",
       "      <td>Germany</td>\n",
       "      <td>Meteorological</td>\n",
       "      <td>Storm</td>\n",
       "      <td>Hail</td>\n",
       "      <td>1</td>\n",
       "      <td>NaN</td>\n",
       "      <td>NaN</td>\n",
       "      <td>4800000000.00</td>\n",
       "    </tr>\n",
       "    <tr>\n",
       "      <th>3502</th>\n",
       "      <td>2014</td>\n",
       "      <td>Germany</td>\n",
       "      <td>Meteorological</td>\n",
       "      <td>Storm</td>\n",
       "      <td>Lightning/Thunderstorms</td>\n",
       "      <td>2</td>\n",
       "      <td>1.00</td>\n",
       "      <td>8.00</td>\n",
       "      <td>400000000.00</td>\n",
       "    </tr>\n",
       "    <tr>\n",
       "      <th>3960</th>\n",
       "      <td>2016</td>\n",
       "      <td>Germany</td>\n",
       "      <td>Hydrological</td>\n",
       "      <td>Flood</td>\n",
       "      <td>Flood (General)</td>\n",
       "      <td>1</td>\n",
       "      <td>NaN</td>\n",
       "      <td>7.00</td>\n",
       "      <td>2000000000.00</td>\n",
       "    </tr>\n",
       "    <tr>\n",
       "      <th>4192</th>\n",
       "      <td>2017</td>\n",
       "      <td>Germany</td>\n",
       "      <td>Hydrological</td>\n",
       "      <td>Flood</td>\n",
       "      <td>Riverine flood</td>\n",
       "      <td>1</td>\n",
       "      <td>600.00</td>\n",
       "      <td>NaN</td>\n",
       "      <td>NaN</td>\n",
       "    </tr>\n",
       "    <tr>\n",
       "      <th>4193</th>\n",
       "      <td>2017</td>\n",
       "      <td>Germany</td>\n",
       "      <td>Meteorological</td>\n",
       "      <td>Storm</td>\n",
       "      <td>Hail</td>\n",
       "      <td>1</td>\n",
       "      <td>NaN</td>\n",
       "      <td>2.00</td>\n",
       "      <td>740000000.00</td>\n",
       "    </tr>\n",
       "    <tr>\n",
       "      <th>4194</th>\n",
       "      <td>2017</td>\n",
       "      <td>Germany</td>\n",
       "      <td>Meteorological</td>\n",
       "      <td>Storm</td>\n",
       "      <td>Severe weather</td>\n",
       "      <td>1</td>\n",
       "      <td>24.00</td>\n",
       "      <td>3.00</td>\n",
       "      <td>159000000.00</td>\n",
       "    </tr>\n",
       "    <tr>\n",
       "      <th>4421</th>\n",
       "      <td>2018</td>\n",
       "      <td>Germany</td>\n",
       "      <td>Meteorological</td>\n",
       "      <td>Extreme temperature</td>\n",
       "      <td>Heat wave</td>\n",
       "      <td>1</td>\n",
       "      <td>NaN</td>\n",
       "      <td>NaN</td>\n",
       "      <td>NaN</td>\n",
       "    </tr>\n",
       "    <tr>\n",
       "      <th>4422</th>\n",
       "      <td>2018</td>\n",
       "      <td>Germany</td>\n",
       "      <td>Meteorological</td>\n",
       "      <td>Storm</td>\n",
       "      <td>Extra-tropical storm</td>\n",
       "      <td>1</td>\n",
       "      <td>12.00</td>\n",
       "      <td>5.00</td>\n",
       "      <td>588475000.00</td>\n",
       "    </tr>\n",
       "    <tr>\n",
       "      <th>4667</th>\n",
       "      <td>2019</td>\n",
       "      <td>Germany</td>\n",
       "      <td>Meteorological</td>\n",
       "      <td>Extreme temperature</td>\n",
       "      <td>Heat wave</td>\n",
       "      <td>2</td>\n",
       "      <td>NaN</td>\n",
       "      <td>4.00</td>\n",
       "      <td>NaN</td>\n",
       "    </tr>\n",
       "    <tr>\n",
       "      <th>4668</th>\n",
       "      <td>2019</td>\n",
       "      <td>Germany</td>\n",
       "      <td>Meteorological</td>\n",
       "      <td>Storm</td>\n",
       "      <td>Blizzard/Winter storm</td>\n",
       "      <td>1</td>\n",
       "      <td>NaN</td>\n",
       "      <td>1.00</td>\n",
       "      <td>NaN</td>\n",
       "    </tr>\n",
       "    <tr>\n",
       "      <th>4907</th>\n",
       "      <td>2020</td>\n",
       "      <td>Germany</td>\n",
       "      <td>Meteorological</td>\n",
       "      <td>Storm</td>\n",
       "      <td>Extra-tropical storm</td>\n",
       "      <td>1</td>\n",
       "      <td>33.00</td>\n",
       "      <td>NaN</td>\n",
       "      <td>NaN</td>\n",
       "    </tr>\n",
       "    <tr>\n",
       "      <th>5167</th>\n",
       "      <td>2021</td>\n",
       "      <td>Germany</td>\n",
       "      <td>Hydrological</td>\n",
       "      <td>Flood</td>\n",
       "      <td>Flood (General)</td>\n",
       "      <td>1</td>\n",
       "      <td>1000.00</td>\n",
       "      <td>226.00</td>\n",
       "      <td>40000000000.00</td>\n",
       "    </tr>\n",
       "    <tr>\n",
       "      <th>5168</th>\n",
       "      <td>2021</td>\n",
       "      <td>Germany</td>\n",
       "      <td>Meteorological</td>\n",
       "      <td>Storm</td>\n",
       "      <td>Lightning/Thunderstorms</td>\n",
       "      <td>1</td>\n",
       "      <td>600.00</td>\n",
       "      <td>NaN</td>\n",
       "      <td>NaN</td>\n",
       "    </tr>\n",
       "    <tr>\n",
       "      <th>5169</th>\n",
       "      <td>2021</td>\n",
       "      <td>Germany</td>\n",
       "      <td>Meteorological</td>\n",
       "      <td>Storm</td>\n",
       "      <td>Storm (General)</td>\n",
       "      <td>1</td>\n",
       "      <td>4.00</td>\n",
       "      <td>1.00</td>\n",
       "      <td>NaN</td>\n",
       "    </tr>\n",
       "    <tr>\n",
       "      <th>5434</th>\n",
       "      <td>2022</td>\n",
       "      <td>Germany</td>\n",
       "      <td>Meteorological</td>\n",
       "      <td>Extreme temperature</td>\n",
       "      <td>Heat wave</td>\n",
       "      <td>1</td>\n",
       "      <td>NaN</td>\n",
       "      <td>8173.00</td>\n",
       "      <td>NaN</td>\n",
       "    </tr>\n",
       "    <tr>\n",
       "      <th>5435</th>\n",
       "      <td>2022</td>\n",
       "      <td>Germany</td>\n",
       "      <td>Meteorological</td>\n",
       "      <td>Storm</td>\n",
       "      <td>Extra-tropical storm</td>\n",
       "      <td>3</td>\n",
       "      <td>2.00</td>\n",
       "      <td>7.00</td>\n",
       "      <td>1023156000.00</td>\n",
       "    </tr>\n",
       "    <tr>\n",
       "      <th>5716</th>\n",
       "      <td>2023</td>\n",
       "      <td>Germany</td>\n",
       "      <td>Meteorological</td>\n",
       "      <td>Extreme temperature</td>\n",
       "      <td>Heat wave</td>\n",
       "      <td>1</td>\n",
       "      <td>NaN</td>\n",
       "      <td>6376.00</td>\n",
       "      <td>NaN</td>\n",
       "    </tr>\n",
       "    <tr>\n",
       "      <th>5717</th>\n",
       "      <td>2023</td>\n",
       "      <td>Germany</td>\n",
       "      <td>Meteorological</td>\n",
       "      <td>Storm</td>\n",
       "      <td>Blizzard/Winter storm</td>\n",
       "      <td>1</td>\n",
       "      <td>NaN</td>\n",
       "      <td>2.00</td>\n",
       "      <td>NaN</td>\n",
       "    </tr>\n",
       "    <tr>\n",
       "      <th>5718</th>\n",
       "      <td>2023</td>\n",
       "      <td>Germany</td>\n",
       "      <td>Meteorological</td>\n",
       "      <td>Storm</td>\n",
       "      <td>Extra-tropical storm</td>\n",
       "      <td>1</td>\n",
       "      <td>NaN</td>\n",
       "      <td>1.00</td>\n",
       "      <td>NaN</td>\n",
       "    </tr>\n",
       "    <tr>\n",
       "      <th>5719</th>\n",
       "      <td>2023</td>\n",
       "      <td>Germany</td>\n",
       "      <td>Meteorological</td>\n",
       "      <td>Storm</td>\n",
       "      <td>Severe weather</td>\n",
       "      <td>1</td>\n",
       "      <td>NaN</td>\n",
       "      <td>1.00</td>\n",
       "      <td>NaN</td>\n",
       "    </tr>\n",
       "    <tr>\n",
       "      <th>5984</th>\n",
       "      <td>2024</td>\n",
       "      <td>Germany</td>\n",
       "      <td>Hydrological</td>\n",
       "      <td>Flood</td>\n",
       "      <td>Flood (General)</td>\n",
       "      <td>1</td>\n",
       "      <td>3407.00</td>\n",
       "      <td>12.00</td>\n",
       "      <td>5400000000.00</td>\n",
       "    </tr>\n",
       "  </tbody>\n",
       "</table>\n",
       "</div>"
      ],
      "text/plain": [
       "      Year  Country Disaster Subroup        Disaster Type  \\\n",
       "365   2001  Germany   Meteorological                Storm   \n",
       "626   2002  Germany     Hydrological                Flood   \n",
       "627   2002  Germany   Meteorological                Storm   \n",
       "628   2002  Germany   Meteorological                Storm   \n",
       "915   2003  Germany   Meteorological  Extreme temperature   \n",
       "916   2003  Germany   Meteorological                Storm   \n",
       "917   2003  Germany   Meteorological                Storm   \n",
       "1148  2004  Germany      Geophysical           Earthquake   \n",
       "1149  2004  Germany   Meteorological                Storm   \n",
       "1417  2005  Germany     Hydrological                Flood   \n",
       "1418  2005  Germany   Meteorological  Extreme temperature   \n",
       "1419  2005  Germany   Meteorological                Storm   \n",
       "1677  2006  Germany     Hydrological                Flood   \n",
       "1678  2006  Germany   Meteorological  Extreme temperature   \n",
       "1679  2006  Germany   Meteorological  Extreme temperature   \n",
       "1680  2006  Germany   Meteorological                Storm   \n",
       "1681  2006  Germany   Meteorological                Storm   \n",
       "1931  2007  Germany     Hydrological                Flood   \n",
       "1932  2007  Germany   Meteorological                Storm   \n",
       "1933  2007  Germany   Meteorological                Storm   \n",
       "2187  2008  Germany   Meteorological                Storm   \n",
       "2188  2008  Germany   Meteorological                Storm   \n",
       "2415  2009  Germany     Hydrological                Flood   \n",
       "2416  2009  Germany   Meteorological  Extreme temperature   \n",
       "2417  2009  Germany   Meteorological                Storm   \n",
       "2647  2010  Germany     Hydrological                Flood   \n",
       "2648  2010  Germany   Meteorological  Extreme temperature   \n",
       "2649  2010  Germany   Meteorological                Storm   \n",
       "2650  2010  Germany   Meteorological                Storm   \n",
       "3103  2012  Germany   Meteorological  Extreme temperature   \n",
       "3309  2013  Germany     Hydrological                Flood   \n",
       "3310  2013  Germany   Meteorological                Storm   \n",
       "3311  2013  Germany   Meteorological                Storm   \n",
       "3502  2014  Germany   Meteorological                Storm   \n",
       "3960  2016  Germany     Hydrological                Flood   \n",
       "4192  2017  Germany     Hydrological                Flood   \n",
       "4193  2017  Germany   Meteorological                Storm   \n",
       "4194  2017  Germany   Meteorological                Storm   \n",
       "4421  2018  Germany   Meteorological  Extreme temperature   \n",
       "4422  2018  Germany   Meteorological                Storm   \n",
       "4667  2019  Germany   Meteorological  Extreme temperature   \n",
       "4668  2019  Germany   Meteorological                Storm   \n",
       "4907  2020  Germany   Meteorological                Storm   \n",
       "5167  2021  Germany     Hydrological                Flood   \n",
       "5168  2021  Germany   Meteorological                Storm   \n",
       "5169  2021  Germany   Meteorological                Storm   \n",
       "5434  2022  Germany   Meteorological  Extreme temperature   \n",
       "5435  2022  Germany   Meteorological                Storm   \n",
       "5716  2023  Germany   Meteorological  Extreme temperature   \n",
       "5717  2023  Germany   Meteorological                Storm   \n",
       "5718  2023  Germany   Meteorological                Storm   \n",
       "5719  2023  Germany   Meteorological                Storm   \n",
       "5984  2024  Germany     Hydrological                Flood   \n",
       "\n",
       "              Disaster Subtype  Total Events  Total Affected  Total Deaths  \\\n",
       "365    Lightning/Thunderstorms             1             NaN          6.00   \n",
       "626            Flood (General)             1       330108.00         27.00   \n",
       "627       Extra-tropical storm             1             NaN         11.00   \n",
       "628            Storm (General)             2           19.00         11.00   \n",
       "915                  Heat wave             1             NaN       9355.00   \n",
       "916       Extra-tropical storm             1             NaN          5.00   \n",
       "917    Lightning/Thunderstorms             1             NaN         10.00   \n",
       "1148           Ground movement             1          150.00           NaN   \n",
       "1149           Storm (General)             1             NaN          2.00   \n",
       "1417            Riverine flood             2          450.00          1.00   \n",
       "1418                 Cold wave             1          165.00          1.00   \n",
       "1419      Extra-tropical storm             1            2.00          2.00   \n",
       "1677            Riverine flood             1         1000.00           NaN   \n",
       "1678                 Heat wave             1             NaN          2.00   \n",
       "1679  Severe winter conditions             1             NaN         10.00   \n",
       "1680                      Hail             1          100.00          1.00   \n",
       "1681           Storm (General)             2          200.00         10.00   \n",
       "1931            Riverine flood             1             NaN          1.00   \n",
       "1932     Blizzard/Winter storm             1             NaN          7.00   \n",
       "1933      Extra-tropical storm             1          130.00         11.00   \n",
       "2187      Extra-tropical storm             1             NaN          5.00   \n",
       "2188            Severe weather             1             NaN          3.00   \n",
       "2415            Riverine flood             1             NaN           NaN   \n",
       "2416                 Cold wave             2             NaN         15.00   \n",
       "2417   Lightning/Thunderstorms             1             NaN          1.00   \n",
       "2647               Flash flood             1             NaN          3.00   \n",
       "2648                 Cold wave             1             NaN          1.00   \n",
       "2649     Blizzard/Winter storm             1             NaN           NaN   \n",
       "2650      Extra-tropical storm             1             NaN          4.00   \n",
       "3103                 Cold wave             2             NaN          6.00   \n",
       "3309            Riverine flood             1         6350.00          4.00   \n",
       "3310      Extra-tropical storm             2            2.00          7.00   \n",
       "3311                      Hail             1             NaN           NaN   \n",
       "3502   Lightning/Thunderstorms             2            1.00          8.00   \n",
       "3960           Flood (General)             1             NaN          7.00   \n",
       "4192            Riverine flood             1          600.00           NaN   \n",
       "4193                      Hail             1             NaN          2.00   \n",
       "4194            Severe weather             1           24.00          3.00   \n",
       "4421                 Heat wave             1             NaN           NaN   \n",
       "4422      Extra-tropical storm             1           12.00          5.00   \n",
       "4667                 Heat wave             2             NaN          4.00   \n",
       "4668     Blizzard/Winter storm             1             NaN          1.00   \n",
       "4907      Extra-tropical storm             1           33.00           NaN   \n",
       "5167           Flood (General)             1         1000.00        226.00   \n",
       "5168   Lightning/Thunderstorms             1          600.00           NaN   \n",
       "5169           Storm (General)             1            4.00          1.00   \n",
       "5434                 Heat wave             1             NaN       8173.00   \n",
       "5435      Extra-tropical storm             3            2.00          7.00   \n",
       "5716                 Heat wave             1             NaN       6376.00   \n",
       "5717     Blizzard/Winter storm             1             NaN          2.00   \n",
       "5718      Extra-tropical storm             1             NaN          1.00   \n",
       "5719            Severe weather             1             NaN          1.00   \n",
       "5984           Flood (General)             1         3407.00         12.00   \n",
       "\n",
       "      Total Damage (USD, original)  \n",
       "365                   300000000.00  \n",
       "626                 11600000000.00  \n",
       "627                  1800000000.00  \n",
       "628                   250000000.00  \n",
       "915                  1650000000.00  \n",
       "916                   300000000.00  \n",
       "917                            NaN  \n",
       "1148                   12000000.00  \n",
       "1149                  130000000.00  \n",
       "1417                  220000000.00  \n",
       "1418                  300000000.00  \n",
       "1419                  270000000.00  \n",
       "1677                           NaN  \n",
       "1678                           NaN  \n",
       "1679                           NaN  \n",
       "1680                           NaN  \n",
       "1681                           NaN  \n",
       "1931                           NaN  \n",
       "1932                           NaN  \n",
       "1933                 5500000000.00  \n",
       "2187                 1200000000.00  \n",
       "2188                 1500000000.00  \n",
       "2415                   20000000.00  \n",
       "2416                           NaN  \n",
       "2417                   50000000.00  \n",
       "2647                           NaN  \n",
       "2648                           NaN  \n",
       "2649                           NaN  \n",
       "2650                 1000000000.00  \n",
       "3103                           NaN  \n",
       "3309                12900000000.00  \n",
       "3310                           NaN  \n",
       "3311                 4800000000.00  \n",
       "3502                  400000000.00  \n",
       "3960                 2000000000.00  \n",
       "4192                           NaN  \n",
       "4193                  740000000.00  \n",
       "4194                  159000000.00  \n",
       "4421                           NaN  \n",
       "4422                  588475000.00  \n",
       "4667                           NaN  \n",
       "4668                           NaN  \n",
       "4907                           NaN  \n",
       "5167                40000000000.00  \n",
       "5168                           NaN  \n",
       "5169                           NaN  \n",
       "5434                           NaN  \n",
       "5435                 1023156000.00  \n",
       "5716                           NaN  \n",
       "5717                           NaN  \n",
       "5718                           NaN  \n",
       "5719                           NaN  \n",
       "5984                 5400000000.00  "
      ]
     },
     "execution_count": 23,
     "metadata": {},
     "output_type": "execute_result"
    }
   ],
   "source": [
    "data[data['Country'] == 'Germany']"
   ]
  },
  {
   "cell_type": "code",
   "execution_count": 24,
   "id": "4a40731a",
   "metadata": {
    "scrolled": true
   },
   "outputs": [
    {
     "data": {
      "text/plain": [
       "24351.0"
      ]
     },
     "execution_count": 24,
     "metadata": {},
     "output_type": "execute_result"
    }
   ],
   "source": [
    "data[data['Country'] == 'Germany']['Total Deaths'].sum()"
   ]
  },
  {
   "cell_type": "code",
   "execution_count": 25,
   "id": "cef527b5",
   "metadata": {
    "scrolled": true
   },
   "outputs": [
    {
     "data": {
      "text/plain": [
       "24351.0"
      ]
     },
     "execution_count": 25,
     "metadata": {},
     "output_type": "execute_result"
    }
   ],
   "source": [
    "data_germany = data[data['Country'] == 'Germany']\n",
    "data_germany['Total Deaths'].sum()"
   ]
  },
  {
   "cell_type": "markdown",
   "id": "ca38217d",
   "metadata": {},
   "source": [
    "#### Wie viele Todesopfer gab es insgesamt in Indien?"
   ]
  },
  {
   "cell_type": "code",
   "execution_count": 27,
   "id": "1080db45",
   "metadata": {
    "scrolled": true
   },
   "outputs": [
    {
     "data": {
      "text/plain": [
       "88881.0"
      ]
     },
     "execution_count": 27,
     "metadata": {},
     "output_type": "execute_result"
    }
   ],
   "source": [
    "data_land = data[data['Country'] == 'India']\n",
    "data_land['Total Deaths'].sum()"
   ]
  },
  {
   "cell_type": "markdown",
   "id": "a5d55b9f",
   "metadata": {},
   "source": [
    "### Welchen Anteil haben die unterschiedlichen Naturkatastrophentypen in Deutschland?"
   ]
  },
  {
   "cell_type": "code",
   "execution_count": 28,
   "id": "b222f6ef",
   "metadata": {
    "scrolled": true
   },
   "outputs": [
    {
     "data": {
      "text/plain": [
       "Disaster Type\n",
       "Storm                 0.57\n",
       "Flood                 0.21\n",
       "Extreme temperature   0.21\n",
       "Earthquake            0.02\n",
       "Name: proportion, dtype: float64"
      ]
     },
     "execution_count": 28,
     "metadata": {},
     "output_type": "execute_result"
    }
   ],
   "source": [
    "germany_data = data[data['Country'] == 'Germany']\n",
    "germany_data['Disaster Type'].value_counts(normalize=True)"
   ]
  },
  {
   "cell_type": "markdown",
   "id": "163fa3cb",
   "metadata": {},
   "source": [
    "# Visualisierung von DataFrames\n",
    "\n",
    "[Matplotlib](https://matplotlib.org/) is a comprehensive library for creating static, animated, and interactive visualizations in Python.\n",
    "\n",
    "Matplotlib makes easy things easy and hard things possible.\n",
    "\n",
    "Install matplotlib:"
   ]
  },
  {
   "cell_type": "code",
   "execution_count": 29,
   "id": "14287eb9",
   "metadata": {
    "scrolled": true
   },
   "outputs": [
    {
     "name": "stdout",
     "output_type": "stream",
     "text": [
      "Requirement already satisfied: pip in /home/natalie-widmann/anaconda3/lib/python3.11/site-packages (23.3.1)\n",
      "Collecting pip\n",
      "  Using cached pip-24.3.1-py3-none-any.whl.metadata (3.7 kB)\n",
      "Using cached pip-24.3.1-py3-none-any.whl (1.8 MB)\n",
      "Installing collected packages: pip\n",
      "  Attempting uninstall: pip\n",
      "    Found existing installation: pip 23.3.1\n",
      "    Uninstalling pip-23.3.1:\n",
      "      Successfully uninstalled pip-23.3.1\n",
      "Successfully installed pip-24.3.1\n",
      "Requirement already satisfied: Pillow in /home/natalie-widmann/anaconda3/lib/python3.11/site-packages (10.2.0)\n",
      "Collecting Pillow\n",
      "  Downloading pillow-11.0.0-cp311-cp311-manylinux_2_28_x86_64.whl.metadata (9.1 kB)\n",
      "Downloading pillow-11.0.0-cp311-cp311-manylinux_2_28_x86_64.whl (4.4 MB)\n",
      "\u001b[2K   \u001b[38;2;114;156;31m━━━━━━━━━━━━━━━━━━━━━━━━━━━━━━━━━━━━━━━━\u001b[0m \u001b[32m4.4/4.4 MB\u001b[0m \u001b[31m4.4 MB/s\u001b[0m eta \u001b[36m0:00:00\u001b[0m MB/s\u001b[0m eta \u001b[36m0:00:01\u001b[0m:01\u001b[0m\n",
      "\u001b[?25hInstalling collected packages: Pillow\n",
      "  Attempting uninstall: Pillow\n",
      "    Found existing installation: pillow 10.2.0\n",
      "    Uninstalling pillow-10.2.0:\n",
      "      Successfully uninstalled pillow-10.2.0\n",
      "\u001b[31mERROR: pip's dependency resolver does not currently take into account all the packages that are installed. This behaviour is the source of the following dependency conflicts.\n",
      "streamlit 1.30.0 requires pillow<11,>=7.1.0, but you have pillow 11.0.0 which is incompatible.\u001b[0m\u001b[31m\n",
      "\u001b[0mSuccessfully installed Pillow-11.0.0\n",
      "Requirement already satisfied: matplotlib in /home/natalie-widmann/anaconda3/lib/python3.11/site-packages (3.8.0)\n",
      "Requirement already satisfied: contourpy>=1.0.1 in /home/natalie-widmann/anaconda3/lib/python3.11/site-packages (from matplotlib) (1.2.0)\n",
      "Requirement already satisfied: cycler>=0.10 in /home/natalie-widmann/anaconda3/lib/python3.11/site-packages (from matplotlib) (0.11.0)\n",
      "Requirement already satisfied: fonttools>=4.22.0 in /home/natalie-widmann/anaconda3/lib/python3.11/site-packages (from matplotlib) (4.25.0)\n",
      "Requirement already satisfied: kiwisolver>=1.0.1 in /home/natalie-widmann/anaconda3/lib/python3.11/site-packages (from matplotlib) (1.4.4)\n",
      "Requirement already satisfied: numpy<2,>=1.21 in /home/natalie-widmann/anaconda3/lib/python3.11/site-packages (from matplotlib) (1.26.4)\n",
      "Requirement already satisfied: packaging>=20.0 in /home/natalie-widmann/anaconda3/lib/python3.11/site-packages (from matplotlib) (23.1)\n",
      "Requirement already satisfied: pillow>=6.2.0 in /home/natalie-widmann/anaconda3/lib/python3.11/site-packages (from matplotlib) (11.0.0)\n",
      "Requirement already satisfied: pyparsing>=2.3.1 in /home/natalie-widmann/anaconda3/lib/python3.11/site-packages (from matplotlib) (3.0.9)\n",
      "Requirement already satisfied: python-dateutil>=2.7 in /home/natalie-widmann/anaconda3/lib/python3.11/site-packages (from matplotlib) (2.8.2)\n",
      "Requirement already satisfied: six>=1.5 in /home/natalie-widmann/anaconda3/lib/python3.11/site-packages (from python-dateutil>=2.7->matplotlib) (1.16.0)\n"
     ]
    }
   ],
   "source": [
    "!pip3 install --upgrade pip\n",
    "!pip3 install --upgrade Pillow\n",
    "!pip3 install matplotlib\n",
    "\n",
    "import matplotlib.pyplot as plt"
   ]
  },
  {
   "cell_type": "code",
   "execution_count": 30,
   "id": "03f4af2b",
   "metadata": {
    "scrolled": true
   },
   "outputs": [],
   "source": [
    "germany_data = data[data['Country'] == 'Germany']"
   ]
  },
  {
   "cell_type": "code",
   "execution_count": 33,
   "id": "d319deff",
   "metadata": {
    "scrolled": true
   },
   "outputs": [
    {
     "data": {
      "text/plain": [
       "Disaster Type\n",
       "Storm                  30\n",
       "Flood                  11\n",
       "Extreme temperature    11\n",
       "Earthquake              1\n",
       "Name: count, dtype: int64"
      ]
     },
     "execution_count": 33,
     "metadata": {},
     "output_type": "execute_result"
    }
   ],
   "source": [
    "germany_data['Disaster Type'].value_counts()"
   ]
  },
  {
   "cell_type": "code",
   "execution_count": 34,
   "id": "64fcf496",
   "metadata": {},
   "outputs": [
    {
     "data": {
      "text/plain": [
       "<Axes: xlabel='Disaster Type'>"
      ]
     },
     "execution_count": 34,
     "metadata": {},
     "output_type": "execute_result"
    },
    {
     "data": {
      "image/png": "[encoded data removed]",
      "text/plain": [
       "<Figure size 640x480 with 1 Axes>"
      ]
     },
     "metadata": {},
     "output_type": "display_data"
    }
   ],
   "source": [
    "germany_data['Disaster Type'].value_counts().plot(kind='bar')"
   ]
  },
  {
   "cell_type": "code",
   "execution_count": 35,
   "id": "2cf2e38e",
   "metadata": {},
   "outputs": [
    {
     "data": {
      "text/plain": [
       "<Axes: ylabel='count'>"
      ]
     },
     "execution_count": 35,
     "metadata": {},
     "output_type": "execute_result"
    },
    {
     "data": {
      "image/png": "[encoded data removed]",
      "text/plain": [
       "<Figure size 640x480 with 1 Axes>"
      ]
     },
     "metadata": {},
     "output_type": "display_data"
    }
   ],
   "source": [
    "germany_data['Disaster Type'].value_counts().plot(kind='pie')"
   ]
  },
  {
   "cell_type": "code",
   "execution_count": 64,
   "id": "6cd4b0ec-44ea-4bc1-86a2-77f304bf3b8c",
   "metadata": {},
   "outputs": [
    {
     "ename": "ValueError",
     "evalue": "Could not interpret value `Sales` for parameter `y`",
     "output_type": "error",
     "traceback": [
      "\u001b[0;31m---------------------------------------------------------------------------\u001b[0m",
      "\u001b[0;31mValueError\u001b[0m                                Traceback (most recent call last)",
      "Cell \u001b[0;32mIn[64], line 8\u001b[0m\n\u001b[1;32m      5\u001b[0m df \u001b[38;5;241m=\u001b[39m pd\u001b[38;5;241m.\u001b[39mDataFrame(data)\n\u001b[1;32m      7\u001b[0m \u001b[38;5;66;03m# Line plot\u001b[39;00m\n\u001b[0;32m----> 8\u001b[0m sns\u001b[38;5;241m.\u001b[39mlineplot(data\u001b[38;5;241m=\u001b[39mgermany_data, x\u001b[38;5;241m=\u001b[39m\u001b[38;5;124m'\u001b[39m\u001b[38;5;124mYear\u001b[39m\u001b[38;5;124m'\u001b[39m, y\u001b[38;5;241m=\u001b[39m\u001b[38;5;124m'\u001b[39m\u001b[38;5;124mSales\u001b[39m\u001b[38;5;124m'\u001b[39m)\n\u001b[1;32m      9\u001b[0m plt\u001b[38;5;241m.\u001b[39mtitle(\u001b[38;5;124m'\u001b[39m\u001b[38;5;124mSales Over Time\u001b[39m\u001b[38;5;124m'\u001b[39m)\n\u001b[1;32m     10\u001b[0m plt\u001b[38;5;241m.\u001b[39mshow()\n",
      "File \u001b[0;32m~/anaconda3/lib/python3.11/site-packages/seaborn/relational.py:618\u001b[0m, in \u001b[0;36mlineplot\u001b[0;34m(data, x, y, hue, size, style, units, palette, hue_order, hue_norm, sizes, size_order, size_norm, dashes, markers, style_order, estimator, errorbar, n_boot, seed, orient, sort, err_style, err_kws, legend, ci, ax, **kwargs)\u001b[0m\n\u001b[1;32m    615\u001b[0m errorbar \u001b[38;5;241m=\u001b[39m _deprecate_ci(errorbar, ci)\n\u001b[1;32m    617\u001b[0m variables \u001b[38;5;241m=\u001b[39m _LinePlotter\u001b[38;5;241m.\u001b[39mget_semantics(\u001b[38;5;28mlocals\u001b[39m())\n\u001b[0;32m--> 618\u001b[0m p \u001b[38;5;241m=\u001b[39m _LinePlotter(\n\u001b[1;32m    619\u001b[0m     data\u001b[38;5;241m=\u001b[39mdata, variables\u001b[38;5;241m=\u001b[39mvariables,\n\u001b[1;32m    620\u001b[0m     estimator\u001b[38;5;241m=\u001b[39mestimator, n_boot\u001b[38;5;241m=\u001b[39mn_boot, seed\u001b[38;5;241m=\u001b[39mseed, errorbar\u001b[38;5;241m=\u001b[39merrorbar,\n\u001b[1;32m    621\u001b[0m     sort\u001b[38;5;241m=\u001b[39msort, orient\u001b[38;5;241m=\u001b[39morient, err_style\u001b[38;5;241m=\u001b[39merr_style, err_kws\u001b[38;5;241m=\u001b[39merr_kws,\n\u001b[1;32m    622\u001b[0m     legend\u001b[38;5;241m=\u001b[39mlegend,\n\u001b[1;32m    623\u001b[0m )\n\u001b[1;32m    625\u001b[0m p\u001b[38;5;241m.\u001b[39mmap_hue(palette\u001b[38;5;241m=\u001b[39mpalette, order\u001b[38;5;241m=\u001b[39mhue_order, norm\u001b[38;5;241m=\u001b[39mhue_norm)\n\u001b[1;32m    626\u001b[0m p\u001b[38;5;241m.\u001b[39mmap_size(sizes\u001b[38;5;241m=\u001b[39msizes, order\u001b[38;5;241m=\u001b[39msize_order, norm\u001b[38;5;241m=\u001b[39msize_norm)\n",
      "File \u001b[0;32m~/anaconda3/lib/python3.11/site-packages/seaborn/relational.py:365\u001b[0m, in \u001b[0;36m_LinePlotter.__init__\u001b[0;34m(self, data, variables, estimator, n_boot, seed, errorbar, sort, orient, err_style, err_kws, legend)\u001b[0m\n\u001b[1;32m    351\u001b[0m \u001b[38;5;28;01mdef\u001b[39;00m \u001b[38;5;21m__init__\u001b[39m(\n\u001b[1;32m    352\u001b[0m     \u001b[38;5;28mself\u001b[39m, \u001b[38;5;241m*\u001b[39m,\n\u001b[1;32m    353\u001b[0m     data\u001b[38;5;241m=\u001b[39m\u001b[38;5;28;01mNone\u001b[39;00m, variables\u001b[38;5;241m=\u001b[39m{},\n\u001b[0;32m   (...)\u001b[0m\n\u001b[1;32m    359\u001b[0m     \u001b[38;5;66;03m# the kind of plot to draw, but for the time being we need to set\u001b[39;00m\n\u001b[1;32m    360\u001b[0m     \u001b[38;5;66;03m# this information so the SizeMapping can use it\u001b[39;00m\n\u001b[1;32m    361\u001b[0m     \u001b[38;5;28mself\u001b[39m\u001b[38;5;241m.\u001b[39m_default_size_range \u001b[38;5;241m=\u001b[39m (\n\u001b[1;32m    362\u001b[0m         np\u001b[38;5;241m.\u001b[39mr_[\u001b[38;5;241m.5\u001b[39m, \u001b[38;5;241m2\u001b[39m] \u001b[38;5;241m*\u001b[39m mpl\u001b[38;5;241m.\u001b[39mrcParams[\u001b[38;5;124m\"\u001b[39m\u001b[38;5;124mlines.linewidth\u001b[39m\u001b[38;5;124m\"\u001b[39m]\n\u001b[1;32m    363\u001b[0m     )\n\u001b[0;32m--> 365\u001b[0m     \u001b[38;5;28msuper\u001b[39m()\u001b[38;5;241m.\u001b[39m\u001b[38;5;21m__init__\u001b[39m(data\u001b[38;5;241m=\u001b[39mdata, variables\u001b[38;5;241m=\u001b[39mvariables)\n\u001b[1;32m    367\u001b[0m     \u001b[38;5;28mself\u001b[39m\u001b[38;5;241m.\u001b[39mestimator \u001b[38;5;241m=\u001b[39m estimator\n\u001b[1;32m    368\u001b[0m     \u001b[38;5;28mself\u001b[39m\u001b[38;5;241m.\u001b[39merrorbar \u001b[38;5;241m=\u001b[39m errorbar\n",
      "File \u001b[0;32m~/anaconda3/lib/python3.11/site-packages/seaborn/_oldcore.py:640\u001b[0m, in \u001b[0;36mVectorPlotter.__init__\u001b[0;34m(self, data, variables)\u001b[0m\n\u001b[1;32m    635\u001b[0m \u001b[38;5;66;03m# var_ordered is relevant only for categorical axis variables, and may\u001b[39;00m\n\u001b[1;32m    636\u001b[0m \u001b[38;5;66;03m# be better handled by an internal axis information object that tracks\u001b[39;00m\n\u001b[1;32m    637\u001b[0m \u001b[38;5;66;03m# such information and is set up by the scale_* methods. The analogous\u001b[39;00m\n\u001b[1;32m    638\u001b[0m \u001b[38;5;66;03m# information for numeric axes would be information about log scales.\u001b[39;00m\n\u001b[1;32m    639\u001b[0m \u001b[38;5;28mself\u001b[39m\u001b[38;5;241m.\u001b[39m_var_ordered \u001b[38;5;241m=\u001b[39m {\u001b[38;5;124m\"\u001b[39m\u001b[38;5;124mx\u001b[39m\u001b[38;5;124m\"\u001b[39m: \u001b[38;5;28;01mFalse\u001b[39;00m, \u001b[38;5;124m\"\u001b[39m\u001b[38;5;124my\u001b[39m\u001b[38;5;124m\"\u001b[39m: \u001b[38;5;28;01mFalse\u001b[39;00m}  \u001b[38;5;66;03m# alt., used DefaultDict\u001b[39;00m\n\u001b[0;32m--> 640\u001b[0m \u001b[38;5;28mself\u001b[39m\u001b[38;5;241m.\u001b[39massign_variables(data, variables)\n\u001b[1;32m    642\u001b[0m \u001b[38;5;28;01mfor\u001b[39;00m var, \u001b[38;5;28mcls\u001b[39m \u001b[38;5;129;01min\u001b[39;00m \u001b[38;5;28mself\u001b[39m\u001b[38;5;241m.\u001b[39m_semantic_mappings\u001b[38;5;241m.\u001b[39mitems():\n\u001b[1;32m    643\u001b[0m \n\u001b[1;32m    644\u001b[0m     \u001b[38;5;66;03m# Create the mapping function\u001b[39;00m\n\u001b[1;32m    645\u001b[0m     map_func \u001b[38;5;241m=\u001b[39m partial(\u001b[38;5;28mcls\u001b[39m\u001b[38;5;241m.\u001b[39mmap, plotter\u001b[38;5;241m=\u001b[39m\u001b[38;5;28mself\u001b[39m)\n",
      "File \u001b[0;32m~/anaconda3/lib/python3.11/site-packages/seaborn/_oldcore.py:701\u001b[0m, in \u001b[0;36mVectorPlotter.assign_variables\u001b[0;34m(self, data, variables)\u001b[0m\n\u001b[1;32m    699\u001b[0m \u001b[38;5;28;01melse\u001b[39;00m:\n\u001b[1;32m    700\u001b[0m     \u001b[38;5;28mself\u001b[39m\u001b[38;5;241m.\u001b[39minput_format \u001b[38;5;241m=\u001b[39m \u001b[38;5;124m\"\u001b[39m\u001b[38;5;124mlong\u001b[39m\u001b[38;5;124m\"\u001b[39m\n\u001b[0;32m--> 701\u001b[0m     plot_data, variables \u001b[38;5;241m=\u001b[39m \u001b[38;5;28mself\u001b[39m\u001b[38;5;241m.\u001b[39m_assign_variables_longform(\n\u001b[1;32m    702\u001b[0m         data, \u001b[38;5;241m*\u001b[39m\u001b[38;5;241m*\u001b[39mvariables,\n\u001b[1;32m    703\u001b[0m     )\n\u001b[1;32m    705\u001b[0m \u001b[38;5;28mself\u001b[39m\u001b[38;5;241m.\u001b[39mplot_data \u001b[38;5;241m=\u001b[39m plot_data\n\u001b[1;32m    706\u001b[0m \u001b[38;5;28mself\u001b[39m\u001b[38;5;241m.\u001b[39mvariables \u001b[38;5;241m=\u001b[39m variables\n",
      "File \u001b[0;32m~/anaconda3/lib/python3.11/site-packages/seaborn/_oldcore.py:938\u001b[0m, in \u001b[0;36mVectorPlotter._assign_variables_longform\u001b[0;34m(self, data, **kwargs)\u001b[0m\n\u001b[1;32m    933\u001b[0m \u001b[38;5;28;01melif\u001b[39;00m \u001b[38;5;28misinstance\u001b[39m(val, (\u001b[38;5;28mstr\u001b[39m, \u001b[38;5;28mbytes\u001b[39m)):\n\u001b[1;32m    934\u001b[0m \n\u001b[1;32m    935\u001b[0m     \u001b[38;5;66;03m# This looks like a column name but we don't know what it means!\u001b[39;00m\n\u001b[1;32m    937\u001b[0m     err \u001b[38;5;241m=\u001b[39m \u001b[38;5;124mf\u001b[39m\u001b[38;5;124m\"\u001b[39m\u001b[38;5;124mCould not interpret value `\u001b[39m\u001b[38;5;132;01m{\u001b[39;00mval\u001b[38;5;132;01m}\u001b[39;00m\u001b[38;5;124m` for parameter `\u001b[39m\u001b[38;5;132;01m{\u001b[39;00mkey\u001b[38;5;132;01m}\u001b[39;00m\u001b[38;5;124m`\u001b[39m\u001b[38;5;124m\"\u001b[39m\n\u001b[0;32m--> 938\u001b[0m     \u001b[38;5;28;01mraise\u001b[39;00m \u001b[38;5;167;01mValueError\u001b[39;00m(err)\n\u001b[1;32m    940\u001b[0m \u001b[38;5;28;01melse\u001b[39;00m:\n\u001b[1;32m    941\u001b[0m \n\u001b[1;32m    942\u001b[0m     \u001b[38;5;66;03m# Otherwise, assume the value is itself data\u001b[39;00m\n\u001b[1;32m    943\u001b[0m \n\u001b[1;32m    944\u001b[0m     \u001b[38;5;66;03m# Raise when data object is present and a vector can't matched\u001b[39;00m\n\u001b[1;32m    945\u001b[0m     \u001b[38;5;28;01mif\u001b[39;00m \u001b[38;5;28misinstance\u001b[39m(data, pd\u001b[38;5;241m.\u001b[39mDataFrame) \u001b[38;5;129;01mand\u001b[39;00m \u001b[38;5;129;01mnot\u001b[39;00m \u001b[38;5;28misinstance\u001b[39m(val, pd\u001b[38;5;241m.\u001b[39mSeries):\n",
      "\u001b[0;31mValueError\u001b[0m: Could not interpret value `Sales` for parameter `y`"
     ]
    }
   ],
   "source": [
    "import seaborn as sns\n",
    "\n",
    "# Sample data\n",
    "data = {'Year': [2015, 2016, 2017, 2018, 2019], 'Sales': [200, 300, 400, 350, 500]}\n",
    "df = pd.DataFrame(data)\n",
    "\n",
    "# Line plot\n",
    "sns.lineplot(data=germany_data, x='Year', y='Sales')\n",
    "plt.title('Sales Over Time')\n",
    "plt.show()"
   ]
  },
  {
   "cell_type": "markdown",
   "id": "7204827f",
   "metadata": {
    "slideshow": {
     "slide_type": "slide"
    }
   },
   "source": [
    "## Recherchefragen\n",
    "\n",
    "#### Welche Naturkatastrophen fordern die meisten Todesopfer?"
   ]
  },
  {
   "cell_type": "markdown",
   "id": "a6957897",
   "metadata": {},
   "source": [
    "`.groupby()` gruppiert einen DataFrame nach den Werten einer oder mehreren Spalten.\n",
    "\n",
    "Die Spalten nach denen man Gruppieren möchte werden als Argument übergeben. Danach folgt die gewünschte Berechnung auf dieser Gruppe. Das Ergebnis wird als DataFrame zurückgegeben. "
   ]
  },
  {
   "cell_type": "code",
   "execution_count": 36,
   "id": "57224183",
   "metadata": {
    "scrolled": true
   },
   "outputs": [
    {
     "data": {
      "text/html": [
       "<div>\n",
       "<style scoped>\n",
       "    .dataframe tbody tr th:only-of-type {\n",
       "        vertical-align: middle;\n",
       "    }\n",
       "\n",
       "    .dataframe tbody tr th {\n",
       "        vertical-align: top;\n",
       "    }\n",
       "\n",
       "    .dataframe thead th {\n",
       "        text-align: right;\n",
       "    }\n",
       "</style>\n",
       "<table border=\"1\" class=\"dataframe\">\n",
       "  <thead>\n",
       "    <tr style=\"text-align: right;\">\n",
       "      <th></th>\n",
       "      <th>Year</th>\n",
       "      <th>Country</th>\n",
       "      <th>Disaster Subroup</th>\n",
       "      <th>Disaster Type</th>\n",
       "      <th>Disaster Subtype</th>\n",
       "      <th>Total Events</th>\n",
       "      <th>Total Affected</th>\n",
       "      <th>Total Deaths</th>\n",
       "      <th>Total Damage (USD, original)</th>\n",
       "    </tr>\n",
       "  </thead>\n",
       "  <tbody>\n",
       "    <tr>\n",
       "      <th>1</th>\n",
       "      <td>2000</td>\n",
       "      <td>Afghanistan</td>\n",
       "      <td>Climatological</td>\n",
       "      <td>Drought</td>\n",
       "      <td>Drought</td>\n",
       "      <td>1</td>\n",
       "      <td>2580000.00</td>\n",
       "      <td>37.00</td>\n",
       "      <td>50000.00</td>\n",
       "    </tr>\n",
       "    <tr>\n",
       "      <th>2</th>\n",
       "      <td>2000</td>\n",
       "      <td>Algeria</td>\n",
       "      <td>Hydrological</td>\n",
       "      <td>Flood</td>\n",
       "      <td>Flash flood</td>\n",
       "      <td>1</td>\n",
       "      <td>100.00</td>\n",
       "      <td>28.00</td>\n",
       "      <td>NaN</td>\n",
       "    </tr>\n",
       "    <tr>\n",
       "      <th>3</th>\n",
       "      <td>2000</td>\n",
       "      <td>Algeria</td>\n",
       "      <td>Meteorological</td>\n",
       "      <td>Storm</td>\n",
       "      <td>Storm (General)</td>\n",
       "      <td>1</td>\n",
       "      <td>10.00</td>\n",
       "      <td>4.00</td>\n",
       "      <td>NaN</td>\n",
       "    </tr>\n",
       "    <tr>\n",
       "      <th>4</th>\n",
       "      <td>2000</td>\n",
       "      <td>Angola</td>\n",
       "      <td>Hydrological</td>\n",
       "      <td>Flood</td>\n",
       "      <td>Flood (General)</td>\n",
       "      <td>3</td>\n",
       "      <td>9011.00</td>\n",
       "      <td>15.00</td>\n",
       "      <td>NaN</td>\n",
       "    </tr>\n",
       "    <tr>\n",
       "      <th>5</th>\n",
       "      <td>2000</td>\n",
       "      <td>Angola</td>\n",
       "      <td>Hydrological</td>\n",
       "      <td>Flood</td>\n",
       "      <td>Riverine flood</td>\n",
       "      <td>1</td>\n",
       "      <td>70000.00</td>\n",
       "      <td>31.00</td>\n",
       "      <td>10000000.00</td>\n",
       "    </tr>\n",
       "    <tr>\n",
       "      <th>...</th>\n",
       "      <td>...</td>\n",
       "      <td>...</td>\n",
       "      <td>...</td>\n",
       "      <td>...</td>\n",
       "      <td>...</td>\n",
       "      <td>...</td>\n",
       "      <td>...</td>\n",
       "      <td>...</td>\n",
       "      <td>...</td>\n",
       "    </tr>\n",
       "    <tr>\n",
       "      <th>6126</th>\n",
       "      <td>2024</td>\n",
       "      <td>Viet Nam</td>\n",
       "      <td>Meteorological</td>\n",
       "      <td>Storm</td>\n",
       "      <td>Tropical cyclone</td>\n",
       "      <td>3</td>\n",
       "      <td>3747257.00</td>\n",
       "      <td>354.00</td>\n",
       "      <td>2000000000.00</td>\n",
       "    </tr>\n",
       "    <tr>\n",
       "      <th>6127</th>\n",
       "      <td>2024</td>\n",
       "      <td>Yemen</td>\n",
       "      <td>Hydrological</td>\n",
       "      <td>Flood</td>\n",
       "      <td>Flash flood</td>\n",
       "      <td>1</td>\n",
       "      <td>1075.00</td>\n",
       "      <td>40.00</td>\n",
       "      <td>NaN</td>\n",
       "    </tr>\n",
       "    <tr>\n",
       "      <th>6128</th>\n",
       "      <td>2024</td>\n",
       "      <td>Yemen</td>\n",
       "      <td>Hydrological</td>\n",
       "      <td>Flood</td>\n",
       "      <td>Flood (General)</td>\n",
       "      <td>2</td>\n",
       "      <td>210439.00</td>\n",
       "      <td>62.00</td>\n",
       "      <td>NaN</td>\n",
       "    </tr>\n",
       "    <tr>\n",
       "      <th>6129</th>\n",
       "      <td>2024</td>\n",
       "      <td>Zambia</td>\n",
       "      <td>Climatological</td>\n",
       "      <td>Drought</td>\n",
       "      <td>Drought</td>\n",
       "      <td>1</td>\n",
       "      <td>6600000.00</td>\n",
       "      <td>NaN</td>\n",
       "      <td>NaN</td>\n",
       "    </tr>\n",
       "    <tr>\n",
       "      <th>6130</th>\n",
       "      <td>2024</td>\n",
       "      <td>Zimbabwe</td>\n",
       "      <td>Climatological</td>\n",
       "      <td>Drought</td>\n",
       "      <td>Drought</td>\n",
       "      <td>1</td>\n",
       "      <td>7600000.00</td>\n",
       "      <td>NaN</td>\n",
       "      <td>NaN</td>\n",
       "    </tr>\n",
       "  </tbody>\n",
       "</table>\n",
       "<p>6130 rows × 9 columns</p>\n",
       "</div>"
      ],
      "text/plain": [
       "      Year      Country Disaster Subroup Disaster Type  Disaster Subtype  \\\n",
       "1     2000  Afghanistan   Climatological       Drought           Drought   \n",
       "2     2000      Algeria     Hydrological         Flood       Flash flood   \n",
       "3     2000      Algeria   Meteorological         Storm   Storm (General)   \n",
       "4     2000       Angola     Hydrological         Flood   Flood (General)   \n",
       "5     2000       Angola     Hydrological         Flood    Riverine flood   \n",
       "...    ...          ...              ...           ...               ...   \n",
       "6126  2024     Viet Nam   Meteorological         Storm  Tropical cyclone   \n",
       "6127  2024        Yemen     Hydrological         Flood       Flash flood   \n",
       "6128  2024        Yemen     Hydrological         Flood   Flood (General)   \n",
       "6129  2024       Zambia   Climatological       Drought           Drought   \n",
       "6130  2024     Zimbabwe   Climatological       Drought           Drought   \n",
       "\n",
       "      Total Events  Total Affected  Total Deaths  Total Damage (USD, original)  \n",
       "1                1      2580000.00         37.00                      50000.00  \n",
       "2                1          100.00         28.00                           NaN  \n",
       "3                1           10.00          4.00                           NaN  \n",
       "4                3         9011.00         15.00                           NaN  \n",
       "5                1        70000.00         31.00                   10000000.00  \n",
       "...            ...             ...           ...                           ...  \n",
       "6126             3      3747257.00        354.00                 2000000000.00  \n",
       "6127             1         1075.00         40.00                           NaN  \n",
       "6128             2       210439.00         62.00                           NaN  \n",
       "6129             1      6600000.00           NaN                           NaN  \n",
       "6130             1      7600000.00           NaN                           NaN  \n",
       "\n",
       "[6130 rows x 9 columns]"
      ]
     },
     "execution_count": 36,
     "metadata": {},
     "output_type": "execute_result"
    }
   ],
   "source": [
    "data"
   ]
  },
  {
   "cell_type": "code",
   "execution_count": 37,
   "id": "99bc48aa",
   "metadata": {
    "scrolled": true
   },
   "outputs": [
    {
     "data": {
      "text/plain": [
       "1484617.0"
      ]
     },
     "execution_count": 37,
     "metadata": {},
     "output_type": "execute_result"
    }
   ],
   "source": [
    "data['Total Deaths'].sum()"
   ]
  },
  {
   "cell_type": "code",
   "execution_count": 38,
   "id": "f4f4e7fe",
   "metadata": {},
   "outputs": [
    {
     "data": {
      "text/plain": [
       "Disaster Type\n",
       "Animal incident                   12.00\n",
       "Drought                        24160.00\n",
       "Earthquake                    790639.00\n",
       "Extreme temperature           285797.00\n",
       "Flood                         135661.00\n",
       "Glacial lake outburst flood      439.00\n",
       "Impact                             0.00\n",
       "Infestation                        0.00\n",
       "Mass movement (dry)              382.00\n",
       "Mass movement (wet)            20632.00\n",
       "Storm                         222670.00\n",
       "Volcanic activity               1744.00\n",
       "Wildfire                        2481.00\n",
       "Name: Total Deaths, dtype: float64"
      ]
     },
     "execution_count": 38,
     "metadata": {},
     "output_type": "execute_result"
    }
   ],
   "source": [
    "data.groupby('Disaster Type')['Total Deaths'].sum()"
   ]
  },
  {
   "cell_type": "markdown",
   "id": "30e0d1a0",
   "metadata": {},
   "source": [
    "`.groupby()` kann auch auf mehrere Spalten gleichzeitig angewendet werden"
   ]
  },
  {
   "cell_type": "code",
   "execution_count": 39,
   "id": "61a1cf0b",
   "metadata": {
    "scrolled": true
   },
   "outputs": [
    {
     "data": {
      "text/plain": [
       "Disaster Type                Disaster Subtype                \n",
       "Animal incident              Animal incident                        12.00\n",
       "Drought                      Drought                             24160.00\n",
       "Earthquake                   Ground movement                    537909.00\n",
       "                             Tsunami                            252730.00\n",
       "Extreme temperature          Cold wave                           12616.00\n",
       "                             Heat wave                          269501.00\n",
       "                             Severe winter conditions             3680.00\n",
       "Flood                        Coastal flood                         602.00\n",
       "                             Flash flood                         25891.00\n",
       "                             Flood (General)                     39295.00\n",
       "                             Riverine flood                      69873.00\n",
       "Glacial lake outburst flood  Glacial lake outburst flood           439.00\n",
       "Impact                       Collision                               0.00\n",
       "Infestation                  Locust infestation                      0.00\n",
       "                             Worms infestation                       0.00\n",
       "Mass movement (dry)          Avalanche (dry)                        16.00\n",
       "                             Landslide (dry)                       247.00\n",
       "                             Rockfall (dry)                        119.00\n",
       "Mass movement (wet)          Avalanche (wet)                      1856.00\n",
       "                             Landslide (wet)                     15698.00\n",
       "                             Mudslide                             2638.00\n",
       "                             Rockfall (wet)                        153.00\n",
       "                             Sudden Subsidence (wet)               287.00\n",
       "Storm                        Blizzard/Winter storm                2872.00\n",
       "                             Derecho                                24.00\n",
       "                             Extra-tropical storm                  419.00\n",
       "                             Hail                                  303.00\n",
       "                             Lightning/Thunderstorms              2078.00\n",
       "                             Sand/Dust storm                       325.00\n",
       "                             Severe weather                       1546.00\n",
       "                             Storm (General)                     16504.00\n",
       "                             Storm surge                           100.00\n",
       "                             Tornado                              2107.00\n",
       "                             Tropical cyclone                   196392.00\n",
       "Volcanic activity            Ash fall                              663.00\n",
       "                             Lahar                                   0.00\n",
       "                             Lava flow                              33.00\n",
       "                             Pyroclastic flow                      532.00\n",
       "                             Volcanic activity (General)           516.00\n",
       "Wildfire                     Forest fire                          1076.00\n",
       "                             Land fire (Brush, Bush, Pasture)      487.00\n",
       "                             Wildfire (General)                    918.00\n",
       "Name: Total Deaths, dtype: float64"
      ]
     },
     "execution_count": 39,
     "metadata": {},
     "output_type": "execute_result"
    }
   ],
   "source": [
    "data.groupby(['Disaster Type', 'Disaster Subtype'])['Total Deaths'].sum()"
   ]
  },
  {
   "cell_type": "markdown",
   "id": "1b8fce19",
   "metadata": {},
   "source": [
    "### Visualisierung"
   ]
  },
  {
   "cell_type": "code",
   "execution_count": 41,
   "id": "d31c1948",
   "metadata": {
    "scrolled": true
   },
   "outputs": [
    {
     "data": {
      "text/plain": [
       "<Axes: ylabel='Total Deaths'>"
      ]
     },
     "execution_count": 41,
     "metadata": {},
     "output_type": "execute_result"
    },
    {
     "data": {
      "image/png": "[encoded data removed]",
      "text/plain": [
       "<Figure size 640x480 with 1 Axes>"
      ]
     },
     "metadata": {},
     "output_type": "display_data"
    }
   ],
   "source": [
    "data.groupby('Disaster Type')['Total Deaths'].sum().plot(kind='pie')"
   ]
  },
  {
   "cell_type": "markdown",
   "id": "7ba15cb5",
   "metadata": {},
   "source": [
    "#### Welche Naturkatastrophen fordern die meisten Todesopfer in Deutschland?"
   ]
  },
  {
   "cell_type": "code",
   "execution_count": 42,
   "id": "b5f44033",
   "metadata": {
    "scrolled": true
   },
   "outputs": [
    {
     "data": {
      "text/plain": [
       "<Axes: ylabel='Total Deaths'>"
      ]
     },
     "execution_count": 42,
     "metadata": {},
     "output_type": "execute_result"
    },
    {
     "data": {
      "image/png": "[encoded data removed]",
      "text/plain": [
       "<Figure size 640x480 with 1 Axes>"
      ]
     },
     "metadata": {},
     "output_type": "display_data"
    }
   ],
   "source": [
    "germany_data = data[data['Country'] == 'Germany']\n",
    "germany_data.groupby('Disaster Type')['Total Deaths'].sum().plot(kind='pie')"
   ]
  },
  {
   "cell_type": "markdown",
   "id": "831be8d4",
   "metadata": {},
   "source": [
    "#### Generelle Funktion"
   ]
  },
  {
   "cell_type": "code",
   "execution_count": 43,
   "id": "5f9d7b89",
   "metadata": {
    "scrolled": true
   },
   "outputs": [
    {
     "data": {
      "text/plain": [
       "<Axes: ylabel='Total Deaths'>"
      ]
     },
     "execution_count": 43,
     "metadata": {},
     "output_type": "execute_result"
    },
    {
     "data": {
      "image/png": "[encoded data removed]",
      "text/plain": [
       "<Figure size 640x480 with 1 Axes>"
      ]
     },
     "metadata": {},
     "output_type": "display_data"
    }
   ],
   "source": [
    "country = 'India'\n",
    "country_data = data[data['Country'] == country]\n",
    "country_data.groupby('Disaster Type')['Total Deaths'].sum().plot(kind='pie')"
   ]
  },
  {
   "cell_type": "code",
   "execution_count": 44,
   "id": "ed2fe77b",
   "metadata": {
    "scrolled": true
   },
   "outputs": [],
   "source": [
    "def plot_death_by_disastertype(data, country):\n",
    "    country_data = data[data['Country'] == country]\n",
    "    country_data.groupby('Disaster Type')['Total Deaths'].sum().plot(kind='pie')"
   ]
  },
  {
   "cell_type": "code",
   "execution_count": 45,
   "id": "414ccbb0",
   "metadata": {},
   "outputs": [
    {
     "data": {
      "image/png": "[encoded data removed]",
      "text/plain": [
       "<Figure size 640x480 with 1 Axes>"
      ]
     },
     "metadata": {},
     "output_type": "display_data"
    }
   ],
   "source": [
    "plot_death_by_disastertype(data, 'Egypt')"
   ]
  },
  {
   "cell_type": "markdown",
   "id": "969368ee",
   "metadata": {},
   "source": [
    "#### Wie hat sich die Anzahl der Naturkatastrophen über die Jahre hin entwickelt?"
   ]
  },
  {
   "cell_type": "markdown",
   "id": "9c012e7f",
   "metadata": {},
   "source": [
    "**Berechne für jedes Jahr die Summe aus allen `Events`**"
   ]
  },
  {
   "cell_type": "code",
   "execution_count": 46,
   "id": "4c798a37",
   "metadata": {},
   "outputs": [
    {
     "data": {
      "text/plain": [
       "Year\n",
       "2000    402\n",
       "2001    372\n",
       "2002    414\n",
       "2003    358\n",
       "2004    359\n",
       "2005    429\n",
       "2006    402\n",
       "2007    410\n",
       "2008    351\n",
       "2009    344\n",
       "2010    394\n",
       "2011    329\n",
       "2012    347\n",
       "2013    330\n",
       "2014    322\n",
       "2015    386\n",
       "2016    324\n",
       "2017    344\n",
       "2018    317\n",
       "2019    400\n",
       "2020    399\n",
       "2021    433\n",
       "2022    418\n",
       "2023    437\n",
       "2024    309\n",
       "Name: Total Events, dtype: int64"
      ]
     },
     "execution_count": 46,
     "metadata": {},
     "output_type": "execute_result"
    }
   ],
   "source": [
    "data.groupby('Year')['Total Events'].sum()"
   ]
  },
  {
   "cell_type": "code",
   "execution_count": 47,
   "id": "70ea7baa",
   "metadata": {
    "scrolled": true
   },
   "outputs": [
    {
     "data": {
      "text/plain": [
       "9330"
      ]
     },
     "execution_count": 47,
     "metadata": {},
     "output_type": "execute_result"
    }
   ],
   "source": [
    "data['Total Events'].sum()"
   ]
  },
  {
   "cell_type": "code",
   "execution_count": 51,
   "id": "d7712420",
   "metadata": {},
   "outputs": [
    {
     "data": {
      "text/plain": [
       "<Axes: title={'center': 'Anzahl an Naturkatastrophen pro Jahr'}, xlabel='Year'>"
      ]
     },
     "execution_count": 51,
     "metadata": {},
     "output_type": "execute_result"
    },
    {
     "data": {
      "image/png": "[encoded data removed]",
      "text/plain": [
       "<Figure size 640x480 with 1 Axes>"
      ]
     },
     "metadata": {},
     "output_type": "display_data"
    }
   ],
   "source": [
    "yearly_events = data.groupby('Year')['Total Events'].sum()\n",
    "yearly_events.plot(kind='line', x='Year', y='Total Events', title='Anzahl an Naturkatastrophen pro Jahr')"
   ]
  },
  {
   "cell_type": "markdown",
   "id": "e1435bcd",
   "metadata": {},
   "source": [
    "**Plotte für Deutschland die Entwicklung der Anzahl an Naturkatastrophen über die Jahre hinweg**"
   ]
  },
  {
   "cell_type": "code",
   "execution_count": 52,
   "id": "cb4d9790",
   "metadata": {
    "scrolled": true
   },
   "outputs": [
    {
     "data": {
      "text/plain": [
       "<Axes: title={'center': 'Anzahl an Naturkatastrophen pro Jahr'}, xlabel='Year'>"
      ]
     },
     "execution_count": 52,
     "metadata": {},
     "output_type": "execute_result"
    },
    {
     "data": {
      "image/png": "[encoded data removed]",
      "text/plain": [
       "<Figure size 640x480 with 1 Axes>"
      ]
     },
     "metadata": {},
     "output_type": "display_data"
    }
   ],
   "source": [
    "yearly_events =germany_data.groupby('Year')['Total Events'].sum()\n",
    "yearly_events.plot(kind='line', x='Year', y='Total Events', title='Anzahl an Naturkatastrophen pro Jahr')"
   ]
  },
  {
   "cell_type": "markdown",
   "id": "7a95806d",
   "metadata": {},
   "source": [
    "## Länderdashboard"
   ]
  },
  {
   "cell_type": "code",
   "execution_count": 53,
   "id": "1a42939a",
   "metadata": {
    "scrolled": true
   },
   "outputs": [],
   "source": [
    "def plot_pie(country_data):\n",
    "    country_data.groupby('Disaster Type')['Total Deaths'].sum().plot(kind='pie', title='Anteil an getöten Menschen nach Naturkatastrophentyp')\n",
    "    plt.show()"
   ]
  },
  {
   "cell_type": "code",
   "execution_count": 54,
   "id": "a2f865f6",
   "metadata": {
    "scrolled": true
   },
   "outputs": [],
   "source": [
    "def plot_time_evolution(country_data):\n",
    "    yearly_events = country_data.groupby('Year')['Total Events'].sum()\n",
    "    yearly_events.plot(kind='line', x='Year', y='Total Events', title='Anzahl an Naturkatastrophen pro Jahr')\n",
    "    plt.show()"
   ]
  },
  {
   "cell_type": "code",
   "execution_count": 55,
   "id": "6b15a7fd",
   "metadata": {
    "scrolled": true
   },
   "outputs": [],
   "source": [
    "def death_overview(country_data):\n",
    "    total_deaths = country_data[\"Total Deaths\"].sum()\n",
    "    print(f'Getötete Menschen seit 1900: {total_deaths:,.0f}')"
   ]
  },
  {
   "cell_type": "code",
   "execution_count": 56,
   "id": "a40045ec",
   "metadata": {
    "scrolled": true
   },
   "outputs": [],
   "source": [
    "def compute_anteil(country_total, world_total):\n",
    "    anteil = round(country_total / (world_total / 100.0), 2)\n",
    "    print(f'{anteil}% aller Menschen die weltweit von Naturkatastrophen betroffen sind leben hier.')"
   ]
  },
  {
   "cell_type": "code",
   "execution_count": 57,
   "id": "409ea3bb",
   "metadata": {
    "scrolled": true
   },
   "outputs": [],
   "source": [
    "def analyze(data, country):\n",
    "    print(f'Naturkatastrophen in {country.upper()} \\n')\n",
    "    country_data = data[data['Country'] == country]\n",
    "    \n",
    "    # compute_anteil(country_data['Total Affected'].sum(), data['Total Affected'].sum())\n",
    "    text = death_overview(country_data)\n",
    "    plot_pie(country_data)\n",
    "    plot_time_evolution(country_data)"
   ]
  },
  {
   "cell_type": "code",
   "execution_count": 58,
   "id": "ee148b1a",
   "metadata": {
    "scrolled": true
   },
   "outputs": [
    {
     "name": "stdout",
     "output_type": "stream",
     "text": [
      "Naturkatastrophen in BANGLADESH \n",
      "\n",
      "Getötete Menschen seit 1900: 11,716\n"
     ]
    },
    {
     "data": {
      "image/png": "[encoded data removed]",
      "text/plain": [
       "<Figure size 640x480 with 1 Axes>"
      ]
     },
     "metadata": {},
     "output_type": "display_data"
    },
    {
     "data": {
      "image/png": "[encoded data removed]",
      "text/plain": [
       "<Figure size 640x480 with 1 Axes>"
      ]
     },
     "metadata": {},
     "output_type": "display_data"
    }
   ],
   "source": [
    "analyze(data, 'Bangladesh')"
   ]
  },
  {
   "cell_type": "markdown",
   "id": "d2a9d7a5",
   "metadata": {},
   "source": [
    "### Überblick über die Welt\n",
    "\n",
    "Wie können wir die selbstdefinierte Funktion `analyze()` anpassen, so dass auch eine Gesamtstatistik, die alle Länder der Welt enthält abgefragt werden kann?"
   ]
  },
  {
   "cell_type": "code",
   "execution_count": 59,
   "id": "4d215f83",
   "metadata": {
    "scrolled": true
   },
   "outputs": [],
   "source": [
    "def analyze(data, country):\n",
    "    print(f'Naturkatastrophen in {country.upper()} \\n')\n",
    "    country_data = data[data['Country'] == country]\n",
    "    if country == 'world':\n",
    "        country_data = data   \n",
    "    compute_anteil(country_data['Total Affected'].sum(), data['Total Affected'].sum())\n",
    "    death_overview(country_data)\n",
    "    plot_pie(country_data)\n",
    "    plot_time_evolution(country_data)"
   ]
  },
  {
   "cell_type": "code",
   "execution_count": 60,
   "id": "b2ef99a8",
   "metadata": {
    "scrolled": true
   },
   "outputs": [
    {
     "name": "stdout",
     "output_type": "stream",
     "text": [
      "Naturkatastrophen in WORLD \n",
      "\n",
      "100.0% aller Menschen die weltweit von Naturkatastrophen betroffen sind leben hier.\n",
      "Getötete Menschen seit 1900: 1,484,617\n"
     ]
    },
    {
     "data": {
      "image/png": "[encoded data removed]",
      "text/plain": [
       "<Figure size 640x480 with 1 Axes>"
      ]
     },
     "metadata": {},
     "output_type": "display_data"
    },
    {
     "data": {
      "image/png": "[encoded data removed]",
      "text/plain": [
       "<Figure size 640x480 with 1 Axes>"
      ]
     },
     "metadata": {},
     "output_type": "display_data"
    }
   ],
   "source": [
    "analyze(data, 'world')"
   ]
  },
  {
   "cell_type": "code",
   "execution_count": null,
   "id": "49d58eea",
   "metadata": {
    "scrolled": true
   },
   "outputs": [],
   "source": []
  }
 ],
 "metadata": {
  "celltoolbar": "Slideshow",
  "kernelspec": {
   "display_name": "Python 3 (ipykernel)",
   "language": "python",
   "name": "python3"
  },
  "language_info": {
   "codemirror_mode": {
    "name": "ipython",
    "version": 3
   },
   "file_extension": ".py",
   "mimetype": "text/x-python",
   "name": "python",
   "nbconvert_exporter": "python",
   "pygments_lexer": "ipython3",
   "version": "3.11.7"
  },
  "vscode": {
   "interpreter": {
    "hash": "f9f85f796d01129d0dd105a088854619f454435301f6ffec2fea96ecbd9be4ac"
   }
  }
 },
 "nbformat": 4,
 "nbformat_minor": 5
}
