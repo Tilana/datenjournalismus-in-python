{
 "cells": [
  {
   "cell_type": "markdown",
   "id": "d9a3430d",
   "metadata": {
    "slideshow": {
     "slide_type": "slide"
    }
   },
   "source": [
    "# Visualisierung\n",
    "\n"
   ]
  },
  {
   "cell_type": "markdown",
   "id": "a1c7d68a",
   "metadata": {
    "slideshow": {
     "slide_type": "slide"
    }
   },
   "source": [
    "### Ziel\n",
    "\n",
    "Wir visualisieren die Daten im EM-DAT Datensatz und bauen ein Länderdashboard damit.\n"
   ]
  },
  {
   "cell_type": "markdown",
   "id": "a3b3b413",
   "metadata": {},
   "source": [
    "![Datenpipeline](../../imgs/datapipeline.png)"
   ]
  },
  {
   "cell_type": "code",
   "execution_count": 1,
   "id": "8658426c",
   "metadata": {
    "scrolled": true,
    "slideshow": {
     "slide_type": "slide"
    }
   },
   "outputs": [
    {
     "name": "stdout",
     "output_type": "stream",
     "text": [
      "Defaulting to user installation because normal site-packages is not writeable\n",
      "Requirement already satisfied: pandas in /home/natalie/.local/lib/python3.9/site-packages (1.5.1)\n",
      "Requirement already satisfied: python-dateutil>=2.8.1 in /home/natalie/.local/lib/python3.9/site-packages (from pandas) (2.8.2)\n",
      "Requirement already satisfied: pytz>=2020.1 in /home/natalie/.local/lib/python3.9/site-packages (from pandas) (2022.6)\n",
      "Requirement already satisfied: numpy>=1.20.3 in /home/natalie/.local/lib/python3.9/site-packages (from pandas) (1.23.4)\n",
      "Requirement already satisfied: six>=1.5 in /usr/lib/python3/dist-packages (from python-dateutil>=2.8.1->pandas) (1.14.0)\n"
     ]
    }
   ],
   "source": [
    "# Install a pip package im Jupyter Notebook\n",
    "!pip3 install pandas"
   ]
  },
  {
   "cell_type": "code",
   "execution_count": 2,
   "id": "9f32b8a8",
   "metadata": {
    "scrolled": true,
    "slideshow": {
     "slide_type": "slide"
    }
   },
   "outputs": [],
   "source": [
    "import pandas as pd\n",
    "data = pd.read_csv('../../data/clean_emdat.csv', index_col=0)"
   ]
  },
  {
   "cell_type": "code",
   "execution_count": 3,
   "id": "8c93e778",
   "metadata": {
    "scrolled": false
   },
   "outputs": [
    {
     "data": {
      "text/html": [
       "<div>\n",
       "<style scoped>\n",
       "    .dataframe tbody tr th:only-of-type {\n",
       "        vertical-align: middle;\n",
       "    }\n",
       "\n",
       "    .dataframe tbody tr th {\n",
       "        vertical-align: top;\n",
       "    }\n",
       "\n",
       "    .dataframe thead th {\n",
       "        text-align: right;\n",
       "    }\n",
       "</style>\n",
       "<table border=\"1\" class=\"dataframe\">\n",
       "  <thead>\n",
       "    <tr style=\"text-align: right;\">\n",
       "      <th></th>\n",
       "      <th>Year</th>\n",
       "      <th>Country</th>\n",
       "      <th>Disaster Subroup</th>\n",
       "      <th>Disaster Type</th>\n",
       "      <th>Disaster Subtype</th>\n",
       "      <th>Total Events</th>\n",
       "      <th>Total Affected</th>\n",
       "      <th>Total Deaths</th>\n",
       "      <th>Total Damage (USD, original)</th>\n",
       "      <th>CPI</th>\n",
       "    </tr>\n",
       "  </thead>\n",
       "  <tbody>\n",
       "    <tr>\n",
       "      <th>1</th>\n",
       "      <td>1900</td>\n",
       "      <td>Cabo Verde</td>\n",
       "      <td>Climatological</td>\n",
       "      <td>Drought</td>\n",
       "      <td>Drought</td>\n",
       "      <td>1</td>\n",
       "      <td>11000.0</td>\n",
       "      <td>11000.0</td>\n",
       "      <td>NaN</td>\n",
       "      <td>3.077091</td>\n",
       "    </tr>\n",
       "    <tr>\n",
       "      <th>2</th>\n",
       "      <td>1900</td>\n",
       "      <td>India</td>\n",
       "      <td>Climatological</td>\n",
       "      <td>Drought</td>\n",
       "      <td>Drought</td>\n",
       "      <td>1</td>\n",
       "      <td>1250000.0</td>\n",
       "      <td>1250000.0</td>\n",
       "      <td>NaN</td>\n",
       "      <td>3.077091</td>\n",
       "    </tr>\n",
       "    <tr>\n",
       "      <th>3</th>\n",
       "      <td>1900</td>\n",
       "      <td>Jamaica</td>\n",
       "      <td>Hydrological</td>\n",
       "      <td>Flood</td>\n",
       "      <td>No Subtype</td>\n",
       "      <td>1</td>\n",
       "      <td>300.0</td>\n",
       "      <td>300.0</td>\n",
       "      <td>NaN</td>\n",
       "      <td>3.077091</td>\n",
       "    </tr>\n",
       "    <tr>\n",
       "      <th>4</th>\n",
       "      <td>1900</td>\n",
       "      <td>Japan</td>\n",
       "      <td>Geophysical</td>\n",
       "      <td>Volcanic activity</td>\n",
       "      <td>Ash fall</td>\n",
       "      <td>1</td>\n",
       "      <td>30.0</td>\n",
       "      <td>30.0</td>\n",
       "      <td>NaN</td>\n",
       "      <td>3.077091</td>\n",
       "    </tr>\n",
       "    <tr>\n",
       "      <th>5</th>\n",
       "      <td>1900</td>\n",
       "      <td>Turkey</td>\n",
       "      <td>Geophysical</td>\n",
       "      <td>Earthquake</td>\n",
       "      <td>Ground movement</td>\n",
       "      <td>1</td>\n",
       "      <td>140.0</td>\n",
       "      <td>140.0</td>\n",
       "      <td>NaN</td>\n",
       "      <td>3.077091</td>\n",
       "    </tr>\n",
       "    <tr>\n",
       "      <th>...</th>\n",
       "      <td>...</td>\n",
       "      <td>...</td>\n",
       "      <td>...</td>\n",
       "      <td>...</td>\n",
       "      <td>...</td>\n",
       "      <td>...</td>\n",
       "      <td>...</td>\n",
       "      <td>...</td>\n",
       "      <td>...</td>\n",
       "      <td>...</td>\n",
       "    </tr>\n",
       "    <tr>\n",
       "      <th>10338</th>\n",
       "      <td>2022</td>\n",
       "      <td>Yemen</td>\n",
       "      <td>Hydrological</td>\n",
       "      <td>Flood</td>\n",
       "      <td>Flash flood</td>\n",
       "      <td>1</td>\n",
       "      <td>3400.0</td>\n",
       "      <td>13.0</td>\n",
       "      <td>NaN</td>\n",
       "      <td>NaN</td>\n",
       "    </tr>\n",
       "    <tr>\n",
       "      <th>10339</th>\n",
       "      <td>2022</td>\n",
       "      <td>South Africa</td>\n",
       "      <td>Hydrological</td>\n",
       "      <td>Flood</td>\n",
       "      <td>No Subtype</td>\n",
       "      <td>7</td>\n",
       "      <td>143119.0</td>\n",
       "      <td>562.0</td>\n",
       "      <td>3.164000e+09</td>\n",
       "      <td>NaN</td>\n",
       "    </tr>\n",
       "    <tr>\n",
       "      <th>10340</th>\n",
       "      <td>2022</td>\n",
       "      <td>Zambia</td>\n",
       "      <td>Hydrological</td>\n",
       "      <td>Flood</td>\n",
       "      <td>No Subtype</td>\n",
       "      <td>1</td>\n",
       "      <td>15000.0</td>\n",
       "      <td>3.0</td>\n",
       "      <td>NaN</td>\n",
       "      <td>NaN</td>\n",
       "    </tr>\n",
       "    <tr>\n",
       "      <th>10341</th>\n",
       "      <td>2022</td>\n",
       "      <td>Zimbabwe</td>\n",
       "      <td>Hydrological</td>\n",
       "      <td>Flood</td>\n",
       "      <td>No Subtype</td>\n",
       "      <td>1</td>\n",
       "      <td>0.0</td>\n",
       "      <td>0.0</td>\n",
       "      <td>NaN</td>\n",
       "      <td>NaN</td>\n",
       "    </tr>\n",
       "    <tr>\n",
       "      <th>10342</th>\n",
       "      <td>2022</td>\n",
       "      <td>Zimbabwe</td>\n",
       "      <td>Meteorological</td>\n",
       "      <td>Storm</td>\n",
       "      <td>Tropical cyclone</td>\n",
       "      <td>1</td>\n",
       "      <td>3000.0</td>\n",
       "      <td>0.0</td>\n",
       "      <td>NaN</td>\n",
       "      <td>NaN</td>\n",
       "    </tr>\n",
       "  </tbody>\n",
       "</table>\n",
       "<p>10342 rows × 10 columns</p>\n",
       "</div>"
      ],
      "text/plain": [
       "       Year       Country Disaster Subroup      Disaster Type  \\\n",
       "1      1900    Cabo Verde   Climatological            Drought   \n",
       "2      1900         India   Climatological            Drought   \n",
       "3      1900       Jamaica     Hydrological              Flood   \n",
       "4      1900         Japan      Geophysical  Volcanic activity   \n",
       "5      1900        Turkey      Geophysical         Earthquake   \n",
       "...     ...           ...              ...                ...   \n",
       "10338  2022         Yemen     Hydrological              Flood   \n",
       "10339  2022  South Africa     Hydrological              Flood   \n",
       "10340  2022        Zambia     Hydrological              Flood   \n",
       "10341  2022      Zimbabwe     Hydrological              Flood   \n",
       "10342  2022      Zimbabwe   Meteorological              Storm   \n",
       "\n",
       "       Disaster Subtype  Total Events  Total Affected  Total Deaths  \\\n",
       "1               Drought             1         11000.0       11000.0   \n",
       "2               Drought             1       1250000.0     1250000.0   \n",
       "3            No Subtype             1           300.0         300.0   \n",
       "4              Ash fall             1            30.0          30.0   \n",
       "5       Ground movement             1           140.0         140.0   \n",
       "...                 ...           ...             ...           ...   \n",
       "10338       Flash flood             1          3400.0          13.0   \n",
       "10339        No Subtype             7        143119.0         562.0   \n",
       "10340        No Subtype             1         15000.0           3.0   \n",
       "10341        No Subtype             1             0.0           0.0   \n",
       "10342  Tropical cyclone             1          3000.0           0.0   \n",
       "\n",
       "       Total Damage (USD, original)       CPI  \n",
       "1                               NaN  3.077091  \n",
       "2                               NaN  3.077091  \n",
       "3                               NaN  3.077091  \n",
       "4                               NaN  3.077091  \n",
       "5                               NaN  3.077091  \n",
       "...                             ...       ...  \n",
       "10338                           NaN       NaN  \n",
       "10339                  3.164000e+09       NaN  \n",
       "10340                           NaN       NaN  \n",
       "10341                           NaN       NaN  \n",
       "10342                           NaN       NaN  \n",
       "\n",
       "[10342 rows x 10 columns]"
      ]
     },
     "execution_count": 3,
     "metadata": {},
     "output_type": "execute_result"
    }
   ],
   "source": [
    "data"
   ]
  },
  {
   "cell_type": "code",
   "execution_count": 4,
   "id": "0a134e4c",
   "metadata": {
    "scrolled": false
   },
   "outputs": [
    {
     "name": "stdout",
     "output_type": "stream",
     "text": [
      "<class 'pandas.core.frame.DataFrame'>\n",
      "Int64Index: 10342 entries, 1 to 10342\n",
      "Data columns (total 10 columns):\n",
      " #   Column                        Non-Null Count  Dtype  \n",
      "---  ------                        --------------  -----  \n",
      " 0   Year                          10342 non-null  int64  \n",
      " 1   Country                       10342 non-null  object \n",
      " 2   Disaster Subroup              10342 non-null  object \n",
      " 3   Disaster Type                 10342 non-null  object \n",
      " 4   Disaster Subtype              10342 non-null  object \n",
      " 5   Total Events                  10342 non-null  int64  \n",
      " 6   Total Affected                10342 non-null  float64\n",
      " 7   Total Deaths                  10342 non-null  float64\n",
      " 8   Total Damage (USD, original)  3796 non-null   float64\n",
      " 9   CPI                           10149 non-null  float64\n",
      "dtypes: float64(4), int64(2), object(4)\n",
      "memory usage: 888.8+ KB\n"
     ]
    }
   ],
   "source": [
    "data.info()"
   ]
  },
  {
   "cell_type": "markdown",
   "id": "e1cc61e8",
   "metadata": {},
   "source": [
    "## Das Dashboard..."
   ]
  },
  {
   "cell_type": "markdown",
   "id": "2e424631",
   "metadata": {
    "slideshow": {
     "slide_type": "slide"
    }
   },
   "source": [
    "## Recherchefragen\n",
    "\n",
    "- Wie viele Todesopfer gibt es in einem Land?\n",
    "- Wie stark ist ein Land von Naturkatastrophen betroffen?\n",
    "- Welchen Anteil haben die unterschiedlichen Naturkatastrophentypen daran?\n",
    "- Wie hat sich die Anzahl der Naturkatastrophen über die Jahre hin entwickelt?"
   ]
  },
  {
   "cell_type": "markdown",
   "id": "f0905851",
   "metadata": {},
   "source": [
    "### Wie viele Todesopfer gibt es in einem Land?"
   ]
  },
  {
   "cell_type": "markdown",
   "id": "3b0620e2",
   "metadata": {},
   "source": [
    "#### Wie viele Todesopfer gibt es insgesamt?"
   ]
  },
  {
   "cell_type": "code",
   "execution_count": 5,
   "id": "1f37395f",
   "metadata": {
    "scrolled": true
   },
   "outputs": [
    {
     "data": {
      "text/plain": [
       "22845977.0"
      ]
     },
     "execution_count": 5,
     "metadata": {},
     "output_type": "execute_result"
    }
   ],
   "source": [
    "data[\"Total Deaths\"].sum()"
   ]
  },
  {
   "cell_type": "markdown",
   "id": "c18901cc",
   "metadata": {},
   "source": [
    "#### Wie viele Todesopfer gibt es insgesamt in Deutschland?"
   ]
  },
  {
   "cell_type": "code",
   "execution_count": 6,
   "id": "2d1d13f8",
   "metadata": {
    "scrolled": true
   },
   "outputs": [
    {
     "data": {
      "text/plain": [
       "1        False\n",
       "2        False\n",
       "3        False\n",
       "4        False\n",
       "5        False\n",
       "         ...  \n",
       "10338    False\n",
       "10339    False\n",
       "10340    False\n",
       "10341    False\n",
       "10342    False\n",
       "Name: Country, Length: 10342, dtype: bool"
      ]
     },
     "execution_count": 6,
     "metadata": {},
     "output_type": "execute_result"
    }
   ],
   "source": [
    "data['Country'] == 'Germany'"
   ]
  },
  {
   "cell_type": "code",
   "execution_count": 7,
   "id": "70d135df",
   "metadata": {
    "scrolled": true
   },
   "outputs": [
    {
     "data": {
      "text/html": [
       "<div>\n",
       "<style scoped>\n",
       "    .dataframe tbody tr th:only-of-type {\n",
       "        vertical-align: middle;\n",
       "    }\n",
       "\n",
       "    .dataframe tbody tr th {\n",
       "        vertical-align: top;\n",
       "    }\n",
       "\n",
       "    .dataframe thead th {\n",
       "        text-align: right;\n",
       "    }\n",
       "</style>\n",
       "<table border=\"1\" class=\"dataframe\">\n",
       "  <thead>\n",
       "    <tr style=\"text-align: right;\">\n",
       "      <th></th>\n",
       "      <th>Year</th>\n",
       "      <th>Country</th>\n",
       "      <th>Disaster Subroup</th>\n",
       "      <th>Disaster Type</th>\n",
       "      <th>Disaster Subtype</th>\n",
       "      <th>Total Events</th>\n",
       "      <th>Total Affected</th>\n",
       "      <th>Total Deaths</th>\n",
       "      <th>Total Damage (USD, original)</th>\n",
       "      <th>CPI</th>\n",
       "    </tr>\n",
       "  </thead>\n",
       "  <tbody>\n",
       "    <tr>\n",
       "      <th>3121</th>\n",
       "      <td>1990</td>\n",
       "      <td>Germany</td>\n",
       "      <td>Meteorological</td>\n",
       "      <td>Storm</td>\n",
       "      <td>No Subtype</td>\n",
       "      <td>6</td>\n",
       "      <td>64.0</td>\n",
       "      <td>64.0</td>\n",
       "      <td>4.440000e+09</td>\n",
       "      <td>48.218797</td>\n",
       "    </tr>\n",
       "    <tr>\n",
       "      <th>3289</th>\n",
       "      <td>1991</td>\n",
       "      <td>Germany</td>\n",
       "      <td>Meteorological</td>\n",
       "      <td>Storm</td>\n",
       "      <td>No Subtype</td>\n",
       "      <td>1</td>\n",
       "      <td>0.0</td>\n",
       "      <td>0.0</td>\n",
       "      <td>5.000000e+06</td>\n",
       "      <td>50.260853</td>\n",
       "    </tr>\n",
       "    <tr>\n",
       "      <th>3431</th>\n",
       "      <td>1992</td>\n",
       "      <td>Germany</td>\n",
       "      <td>Geophysical</td>\n",
       "      <td>Earthquake</td>\n",
       "      <td>Ground movement</td>\n",
       "      <td>1</td>\n",
       "      <td>1525.0</td>\n",
       "      <td>1.0</td>\n",
       "      <td>5.000000e+07</td>\n",
       "      <td>51.783162</td>\n",
       "    </tr>\n",
       "    <tr>\n",
       "      <th>3432</th>\n",
       "      <td>1992</td>\n",
       "      <td>Germany</td>\n",
       "      <td>Hydrological</td>\n",
       "      <td>Flood</td>\n",
       "      <td>No Subtype</td>\n",
       "      <td>1</td>\n",
       "      <td>0.0</td>\n",
       "      <td>0.0</td>\n",
       "      <td>3.010000e+07</td>\n",
       "      <td>51.783162</td>\n",
       "    </tr>\n",
       "    <tr>\n",
       "      <th>3582</th>\n",
       "      <td>1993</td>\n",
       "      <td>Germany</td>\n",
       "      <td>Hydrological</td>\n",
       "      <td>Flood</td>\n",
       "      <td>Riverine flood</td>\n",
       "      <td>1</td>\n",
       "      <td>100000.0</td>\n",
       "      <td>5.0</td>\n",
       "      <td>6.000000e+08</td>\n",
       "      <td>53.311620</td>\n",
       "    </tr>\n",
       "    <tr>\n",
       "      <th>...</th>\n",
       "      <td>...</td>\n",
       "      <td>...</td>\n",
       "      <td>...</td>\n",
       "      <td>...</td>\n",
       "      <td>...</td>\n",
       "      <td>...</td>\n",
       "      <td>...</td>\n",
       "      <td>...</td>\n",
       "      <td>...</td>\n",
       "      <td>...</td>\n",
       "    </tr>\n",
       "    <tr>\n",
       "      <th>9469</th>\n",
       "      <td>2019</td>\n",
       "      <td>Germany</td>\n",
       "      <td>Meteorological</td>\n",
       "      <td>Storm</td>\n",
       "      <td>Convective storm</td>\n",
       "      <td>1</td>\n",
       "      <td>1.0</td>\n",
       "      <td>1.0</td>\n",
       "      <td>NaN</td>\n",
       "      <td>94.349092</td>\n",
       "    </tr>\n",
       "    <tr>\n",
       "      <th>9708</th>\n",
       "      <td>2020</td>\n",
       "      <td>Germany</td>\n",
       "      <td>Meteorological</td>\n",
       "      <td>Storm</td>\n",
       "      <td>Extra-tropical storm</td>\n",
       "      <td>1</td>\n",
       "      <td>33.0</td>\n",
       "      <td>0.0</td>\n",
       "      <td>NaN</td>\n",
       "      <td>95.512967</td>\n",
       "    </tr>\n",
       "    <tr>\n",
       "      <th>9952</th>\n",
       "      <td>2021</td>\n",
       "      <td>Germany</td>\n",
       "      <td>Hydrological</td>\n",
       "      <td>Flood</td>\n",
       "      <td>No Subtype</td>\n",
       "      <td>1</td>\n",
       "      <td>1000.0</td>\n",
       "      <td>197.0</td>\n",
       "      <td>4.000000e+10</td>\n",
       "      <td>100.000000</td>\n",
       "    </tr>\n",
       "    <tr>\n",
       "      <th>9953</th>\n",
       "      <td>2021</td>\n",
       "      <td>Germany</td>\n",
       "      <td>Meteorological</td>\n",
       "      <td>Storm</td>\n",
       "      <td>Convective storm</td>\n",
       "      <td>2</td>\n",
       "      <td>604.0</td>\n",
       "      <td>1.0</td>\n",
       "      <td>NaN</td>\n",
       "      <td>100.000000</td>\n",
       "    </tr>\n",
       "    <tr>\n",
       "      <th>10188</th>\n",
       "      <td>2022</td>\n",
       "      <td>Germany</td>\n",
       "      <td>Meteorological</td>\n",
       "      <td>Storm</td>\n",
       "      <td>Extra-tropical storm</td>\n",
       "      <td>3</td>\n",
       "      <td>2.0</td>\n",
       "      <td>7.0</td>\n",
       "      <td>NaN</td>\n",
       "      <td>NaN</td>\n",
       "    </tr>\n",
       "  </tbody>\n",
       "</table>\n",
       "<p>66 rows × 10 columns</p>\n",
       "</div>"
      ],
      "text/plain": [
       "       Year  Country Disaster Subroup Disaster Type      Disaster Subtype  \\\n",
       "3121   1990  Germany   Meteorological         Storm            No Subtype   \n",
       "3289   1991  Germany   Meteorological         Storm            No Subtype   \n",
       "3431   1992  Germany      Geophysical    Earthquake       Ground movement   \n",
       "3432   1992  Germany     Hydrological         Flood            No Subtype   \n",
       "3582   1993  Germany     Hydrological         Flood        Riverine flood   \n",
       "...     ...      ...              ...           ...                   ...   \n",
       "9469   2019  Germany   Meteorological         Storm      Convective storm   \n",
       "9708   2020  Germany   Meteorological         Storm  Extra-tropical storm   \n",
       "9952   2021  Germany     Hydrological         Flood            No Subtype   \n",
       "9953   2021  Germany   Meteorological         Storm      Convective storm   \n",
       "10188  2022  Germany   Meteorological         Storm  Extra-tropical storm   \n",
       "\n",
       "       Total Events  Total Affected  Total Deaths  \\\n",
       "3121              6            64.0          64.0   \n",
       "3289              1             0.0           0.0   \n",
       "3431              1          1525.0           1.0   \n",
       "3432              1             0.0           0.0   \n",
       "3582              1        100000.0           5.0   \n",
       "...             ...             ...           ...   \n",
       "9469              1             1.0           1.0   \n",
       "9708              1            33.0           0.0   \n",
       "9952              1          1000.0         197.0   \n",
       "9953              2           604.0           1.0   \n",
       "10188             3             2.0           7.0   \n",
       "\n",
       "       Total Damage (USD, original)         CPI  \n",
       "3121                   4.440000e+09   48.218797  \n",
       "3289                   5.000000e+06   50.260853  \n",
       "3431                   5.000000e+07   51.783162  \n",
       "3432                   3.010000e+07   51.783162  \n",
       "3582                   6.000000e+08   53.311620  \n",
       "...                             ...         ...  \n",
       "9469                            NaN   94.349092  \n",
       "9708                            NaN   95.512967  \n",
       "9952                   4.000000e+10  100.000000  \n",
       "9953                            NaN  100.000000  \n",
       "10188                           NaN         NaN  \n",
       "\n",
       "[66 rows x 10 columns]"
      ]
     },
     "execution_count": 7,
     "metadata": {},
     "output_type": "execute_result"
    }
   ],
   "source": [
    "data[data['Country'] == 'Germany']"
   ]
  },
  {
   "cell_type": "markdown",
   "id": "174d1a49",
   "metadata": {},
   "source": [
    "#### Korrektur der Ländernamen für Deutschland"
   ]
  },
  {
   "cell_type": "code",
   "execution_count": 8,
   "id": "5d463a9d",
   "metadata": {
    "scrolled": true,
    "slideshow": {
     "slide_type": "slide"
    }
   },
   "outputs": [
    {
     "name": "stdout",
     "output_type": "stream",
     "text": [
      "Germany Fed Rep\n",
      "Germany Dem Rep\n",
      "Germany\n"
     ]
    }
   ],
   "source": [
    "# Vorkommen von Deutschland\n",
    "for country in data['Country'].unique():\n",
    "    if 'german' in country.lower():\n",
    "        print(country)"
   ]
  },
  {
   "cell_type": "markdown",
   "id": "64e4ab94",
   "metadata": {},
   "source": [
    "Schreibe eine Funktion die dies bereinigt.\n",
    "\n",
    "**Eingabe**: beliebiger Ländername (bspw. Indonesia, Belgium, Germany Fed Rep, etc.)\n",
    "\n",
    "**Ausgabe**: der Ländername oder Germany falls einer der oben gelisteten Namen eingegeben wurde"
   ]
  },
  {
   "cell_type": "code",
   "execution_count": 9,
   "id": "7f57be66",
   "metadata": {
    "scrolled": true
   },
   "outputs": [],
   "source": [
    "def clean_country(land):\n",
    "    if 'german' in land.lower():\n",
    "        return 'Germany'\n",
    "    else:\n",
    "        return land"
   ]
  },
  {
   "cell_type": "code",
   "execution_count": 10,
   "id": "3db4e733",
   "metadata": {
    "scrolled": true
   },
   "outputs": [
    {
     "name": "stdout",
     "output_type": "stream",
     "text": [
      "Germany\n"
     ]
    }
   ],
   "source": [
    "text = 'Germany Fed Rep'\n",
    "clean_text = clean_country(text)\n",
    "print(clean_text)"
   ]
  },
  {
   "cell_type": "markdown",
   "id": "0d77e32c",
   "metadata": {},
   "source": [
    "Anwendung der Funktion auf alle Werte einer Spalte"
   ]
  },
  {
   "cell_type": "code",
   "execution_count": 11,
   "id": "2e7c65ba",
   "metadata": {
    "scrolled": true
   },
   "outputs": [
    {
     "name": "stdout",
     "output_type": "stream",
     "text": [
      "225\n"
     ]
    }
   ],
   "source": [
    "new_unique_countries = []\n",
    "for country in data['Country'].unique():\n",
    "    corrected_name = clean_country(country)\n",
    "    new_unique_countries.append(corrected_name)\n",
    "print(len(new_unique_countries))"
   ]
  },
  {
   "cell_type": "code",
   "execution_count": 12,
   "id": "d6c797dd",
   "metadata": {
    "scrolled": true
   },
   "outputs": [
    {
     "data": {
      "text/plain": [
       "225"
      ]
     },
     "execution_count": 12,
     "metadata": {},
     "output_type": "execute_result"
    }
   ],
   "source": [
    "len(data['Country'].unique())"
   ]
  },
  {
   "cell_type": "code",
   "execution_count": 13,
   "id": "37a13a7f",
   "metadata": {
    "scrolled": true
   },
   "outputs": [],
   "source": [
    "for index, row in data.iterrows():\n",
    "    data.loc[index, \"Country\"] = clean_country(row['Country'])"
   ]
  },
  {
   "cell_type": "code",
   "execution_count": 14,
   "id": "35d4a2d1",
   "metadata": {
    "scrolled": false
   },
   "outputs": [
    {
     "name": "stdout",
     "output_type": "stream",
     "text": [
      "Help on _LocIndexer in module pandas.core.indexing object:\n",
      "\n",
      "class _LocIndexer(_LocationIndexer)\n",
      " |  Access a group of rows and columns by label(s) or a boolean array.\n",
      " |  \n",
      " |  ``.loc[]`` is primarily label based, but may also be used with a\n",
      " |  boolean array.\n",
      " |  \n",
      " |  Allowed inputs are:\n",
      " |  \n",
      " |  - A single label, e.g. ``5`` or ``'a'``, (note that ``5`` is\n",
      " |    interpreted as a *label* of the index, and **never** as an\n",
      " |    integer position along the index).\n",
      " |  - A list or array of labels, e.g. ``['a', 'b', 'c']``.\n",
      " |  - A slice object with labels, e.g. ``'a':'f'``.\n",
      " |  \n",
      " |    .. warning:: Note that contrary to usual python slices, **both** the\n",
      " |        start and the stop are included\n",
      " |  \n",
      " |  - A boolean array of the same length as the axis being sliced,\n",
      " |    e.g. ``[True, False, True]``.\n",
      " |  - An alignable boolean Series. The index of the key will be aligned before\n",
      " |    masking.\n",
      " |  - An alignable Index. The Index of the returned selection will be the input.\n",
      " |  - A ``callable`` function with one argument (the calling Series or\n",
      " |    DataFrame) and that returns valid output for indexing (one of the above)\n",
      " |  \n",
      " |  See more at :ref:`Selection by Label <indexing.label>`.\n",
      " |  \n",
      " |  Raises\n",
      " |  ------\n",
      " |  KeyError\n",
      " |      If any items are not found.\n",
      " |  IndexingError\n",
      " |      If an indexed key is passed and its index is unalignable to the frame index.\n",
      " |  \n",
      " |  See Also\n",
      " |  --------\n",
      " |  DataFrame.at : Access a single value for a row/column label pair.\n",
      " |  DataFrame.iloc : Access group of rows and columns by integer position(s).\n",
      " |  DataFrame.xs : Returns a cross-section (row(s) or column(s)) from the\n",
      " |      Series/DataFrame.\n",
      " |  Series.loc : Access group of values using labels.\n",
      " |  \n",
      " |  Examples\n",
      " |  --------\n",
      " |  **Getting values**\n",
      " |  \n",
      " |  >>> df = pd.DataFrame([[1, 2], [4, 5], [7, 8]],\n",
      " |  ...      index=['cobra', 'viper', 'sidewinder'],\n",
      " |  ...      columns=['max_speed', 'shield'])\n",
      " |  >>> df\n",
      " |              max_speed  shield\n",
      " |  cobra               1       2\n",
      " |  viper               4       5\n",
      " |  sidewinder          7       8\n",
      " |  \n",
      " |  Single label. Note this returns the row as a Series.\n",
      " |  \n",
      " |  >>> df.loc['viper']\n",
      " |  max_speed    4\n",
      " |  shield       5\n",
      " |  Name: viper, dtype: int64\n",
      " |  \n",
      " |  List of labels. Note using ``[[]]`` returns a DataFrame.\n",
      " |  \n",
      " |  >>> df.loc[['viper', 'sidewinder']]\n",
      " |              max_speed  shield\n",
      " |  viper               4       5\n",
      " |  sidewinder          7       8\n",
      " |  \n",
      " |  Single label for row and column\n",
      " |  \n",
      " |  >>> df.loc['cobra', 'shield']\n",
      " |  2\n",
      " |  \n",
      " |  Slice with labels for row and single label for column. As mentioned\n",
      " |  above, note that both the start and stop of the slice are included.\n",
      " |  \n",
      " |  >>> df.loc['cobra':'viper', 'max_speed']\n",
      " |  cobra    1\n",
      " |  viper    4\n",
      " |  Name: max_speed, dtype: int64\n",
      " |  \n",
      " |  Boolean list with the same length as the row axis\n",
      " |  \n",
      " |  >>> df.loc[[False, False, True]]\n",
      " |              max_speed  shield\n",
      " |  sidewinder          7       8\n",
      " |  \n",
      " |  Alignable boolean Series:\n",
      " |  \n",
      " |  >>> df.loc[pd.Series([False, True, False],\n",
      " |  ...        index=['viper', 'sidewinder', 'cobra'])]\n",
      " |              max_speed  shield\n",
      " |  sidewinder          7       8\n",
      " |  \n",
      " |  Index (same behavior as ``df.reindex``)\n",
      " |  \n",
      " |  >>> df.loc[pd.Index([\"cobra\", \"viper\"], name=\"foo\")]\n",
      " |         max_speed  shield\n",
      " |  foo\n",
      " |  cobra          1       2\n",
      " |  viper          4       5\n",
      " |  \n",
      " |  Conditional that returns a boolean Series\n",
      " |  \n",
      " |  >>> df.loc[df['shield'] > 6]\n",
      " |              max_speed  shield\n",
      " |  sidewinder          7       8\n",
      " |  \n",
      " |  Conditional that returns a boolean Series with column labels specified\n",
      " |  \n",
      " |  >>> df.loc[df['shield'] > 6, ['max_speed']]\n",
      " |              max_speed\n",
      " |  sidewinder          7\n",
      " |  \n",
      " |  Callable that returns a boolean Series\n",
      " |  \n",
      " |  >>> df.loc[lambda df: df['shield'] == 8]\n",
      " |              max_speed  shield\n",
      " |  sidewinder          7       8\n",
      " |  \n",
      " |  **Setting values**\n",
      " |  \n",
      " |  Set value for all items matching the list of labels\n",
      " |  \n",
      " |  >>> df.loc[['viper', 'sidewinder'], ['shield']] = 50\n",
      " |  >>> df\n",
      " |              max_speed  shield\n",
      " |  cobra               1       2\n",
      " |  viper               4      50\n",
      " |  sidewinder          7      50\n",
      " |  \n",
      " |  Set value for an entire row\n",
      " |  \n",
      " |  >>> df.loc['cobra'] = 10\n",
      " |  >>> df\n",
      " |              max_speed  shield\n",
      " |  cobra              10      10\n",
      " |  viper               4      50\n",
      " |  sidewinder          7      50\n",
      " |  \n",
      " |  Set value for an entire column\n",
      " |  \n",
      " |  >>> df.loc[:, 'max_speed'] = 30\n",
      " |  >>> df\n",
      " |              max_speed  shield\n",
      " |  cobra              30      10\n",
      " |  viper              30      50\n",
      " |  sidewinder         30      50\n",
      " |  \n",
      " |  Set value for rows matching callable condition\n",
      " |  \n",
      " |  >>> df.loc[df['shield'] > 35] = 0\n",
      " |  >>> df\n",
      " |              max_speed  shield\n",
      " |  cobra              30      10\n",
      " |  viper               0       0\n",
      " |  sidewinder          0       0\n",
      " |  \n",
      " |  **Getting values on a DataFrame with an index that has integer labels**\n",
      " |  \n",
      " |  Another example using integers for the index\n",
      " |  \n",
      " |  >>> df = pd.DataFrame([[1, 2], [4, 5], [7, 8]],\n",
      " |  ...      index=[7, 8, 9], columns=['max_speed', 'shield'])\n",
      " |  >>> df\n",
      " |     max_speed  shield\n",
      " |  7          1       2\n",
      " |  8          4       5\n",
      " |  9          7       8\n",
      " |  \n",
      " |  Slice with integer labels for rows. As mentioned above, note that both\n",
      " |  the start and stop of the slice are included.\n",
      " |  \n",
      " |  >>> df.loc[7:9]\n",
      " |     max_speed  shield\n",
      " |  7          1       2\n",
      " |  8          4       5\n",
      " |  9          7       8\n",
      " |  \n",
      " |  **Getting values with a MultiIndex**\n",
      " |  \n",
      " |  A number of examples using a DataFrame with a MultiIndex\n",
      " |  \n",
      " |  >>> tuples = [\n",
      " |  ...    ('cobra', 'mark i'), ('cobra', 'mark ii'),\n",
      " |  ...    ('sidewinder', 'mark i'), ('sidewinder', 'mark ii'),\n",
      " |  ...    ('viper', 'mark ii'), ('viper', 'mark iii')\n",
      " |  ... ]\n",
      " |  >>> index = pd.MultiIndex.from_tuples(tuples)\n",
      " |  >>> values = [[12, 2], [0, 4], [10, 20],\n",
      " |  ...         [1, 4], [7, 1], [16, 36]]\n",
      " |  >>> df = pd.DataFrame(values, columns=['max_speed', 'shield'], index=index)\n",
      " |  >>> df\n",
      " |                       max_speed  shield\n",
      " |  cobra      mark i           12       2\n",
      " |             mark ii           0       4\n",
      " |  sidewinder mark i           10      20\n",
      " |             mark ii           1       4\n",
      " |  viper      mark ii           7       1\n",
      " |             mark iii         16      36\n",
      " |  \n",
      " |  Single label. Note this returns a DataFrame with a single index.\n",
      " |  \n",
      " |  >>> df.loc['cobra']\n",
      " |           max_speed  shield\n",
      " |  mark i          12       2\n",
      " |  mark ii          0       4\n",
      " |  \n",
      " |  Single index tuple. Note this returns a Series.\n",
      " |  \n",
      " |  >>> df.loc[('cobra', 'mark ii')]\n",
      " |  max_speed    0\n",
      " |  shield       4\n",
      " |  Name: (cobra, mark ii), dtype: int64\n",
      " |  \n",
      " |  Single label for row and column. Similar to passing in a tuple, this\n",
      " |  returns a Series.\n",
      " |  \n",
      " |  >>> df.loc['cobra', 'mark i']\n",
      " |  max_speed    12\n",
      " |  shield        2\n",
      " |  Name: (cobra, mark i), dtype: int64\n",
      " |  \n",
      " |  Single tuple. Note using ``[[]]`` returns a DataFrame.\n",
      " |  \n",
      " |  >>> df.loc[[('cobra', 'mark ii')]]\n",
      " |                 max_speed  shield\n",
      " |  cobra mark ii          0       4\n",
      " |  \n",
      " |  Single tuple for the index with a single label for the column\n",
      " |  \n",
      " |  >>> df.loc[('cobra', 'mark i'), 'shield']\n",
      " |  2\n",
      " |  \n",
      " |  Slice from index tuple to single label\n",
      " |  \n",
      " |  >>> df.loc[('cobra', 'mark i'):'viper']\n",
      " |                       max_speed  shield\n",
      " |  cobra      mark i           12       2\n",
      " |             mark ii           0       4\n",
      " |  sidewinder mark i           10      20\n",
      " |             mark ii           1       4\n",
      " |  viper      mark ii           7       1\n",
      " |             mark iii         16      36\n",
      " |  \n",
      " |  Slice from index tuple to index tuple\n",
      " |  \n",
      " |  >>> df.loc[('cobra', 'mark i'):('viper', 'mark ii')]\n",
      " |                      max_speed  shield\n",
      " |  cobra      mark i          12       2\n",
      " |             mark ii          0       4\n",
      " |  sidewinder mark i          10      20\n",
      " |             mark ii          1       4\n",
      " |  viper      mark ii          7       1\n",
      " |  \n",
      " |  Please see the :ref:`user guide<advanced.advanced_hierarchical>`\n",
      " |  for more details and explanations of advanced indexing.\n",
      " |  \n",
      " |  Method resolution order:\n",
      " |      _LocIndexer\n",
      " |      _LocationIndexer\n",
      " |      pandas._libs.indexing.NDFrameIndexerBase\n",
      " |      builtins.object\n",
      " |  \n",
      " |  Data and other attributes defined here:\n",
      " |  \n",
      " |  __annotations__ = {'_takeable': 'bool'}\n",
      " |  \n",
      " |  ----------------------------------------------------------------------\n",
      " |  Methods inherited from _LocationIndexer:\n",
      " |  \n",
      " |  __call__(self: '_LocationIndexerT', axis=None) -> '_LocationIndexerT'\n",
      " |      Call self as a function.\n",
      " |  \n",
      " |  __getitem__(self, key)\n",
      " |  \n",
      " |  __setitem__(self, key, value) -> 'None'\n",
      " |  \n",
      " |  ----------------------------------------------------------------------\n",
      " |  Data descriptors inherited from _LocationIndexer:\n",
      " |  \n",
      " |  __dict__\n",
      " |      dictionary for instance variables (if defined)\n",
      " |  \n",
      " |  __weakref__\n",
      " |      list of weak references to the object (if defined)\n",
      " |  \n",
      " |  ----------------------------------------------------------------------\n",
      " |  Data and other attributes inherited from _LocationIndexer:\n",
      " |  \n",
      " |  axis = None\n",
      " |  \n",
      " |  ----------------------------------------------------------------------\n",
      " |  Methods inherited from pandas._libs.indexing.NDFrameIndexerBase:\n",
      " |  \n",
      " |  __init__(self, /, *args, **kwargs)\n",
      " |      Initialize self.  See help(type(self)) for accurate signature.\n",
      " |  \n",
      " |  __reduce__ = __reduce_cython__(...)\n",
      " |  \n",
      " |  __setstate__ = __setstate_cython__(...)\n",
      " |  \n",
      " |  ----------------------------------------------------------------------\n",
      " |  Static methods inherited from pandas._libs.indexing.NDFrameIndexerBase:\n",
      " |  \n",
      " |  __new__(*args, **kwargs) from builtins.type\n",
      " |      Create and return a new object.  See help(type) for accurate signature.\n",
      " |  \n",
      " |  ----------------------------------------------------------------------\n",
      " |  Data descriptors inherited from pandas._libs.indexing.NDFrameIndexerBase:\n",
      " |  \n",
      " |  name\n",
      " |  \n",
      " |  ndim\n",
      " |  \n",
      " |  obj\n",
      "\n"
     ]
    }
   ],
   "source": [
    "help(data.loc)"
   ]
  },
  {
   "cell_type": "code",
   "execution_count": 15,
   "id": "c9f9646e",
   "metadata": {
    "scrolled": true
   },
   "outputs": [
    {
     "data": {
      "text/html": [
       "<div>\n",
       "<style scoped>\n",
       "    .dataframe tbody tr th:only-of-type {\n",
       "        vertical-align: middle;\n",
       "    }\n",
       "\n",
       "    .dataframe tbody tr th {\n",
       "        vertical-align: top;\n",
       "    }\n",
       "\n",
       "    .dataframe thead th {\n",
       "        text-align: right;\n",
       "    }\n",
       "</style>\n",
       "<table border=\"1\" class=\"dataframe\">\n",
       "  <thead>\n",
       "    <tr style=\"text-align: right;\">\n",
       "      <th></th>\n",
       "      <th>Year</th>\n",
       "      <th>Country</th>\n",
       "      <th>Disaster Subroup</th>\n",
       "      <th>Disaster Type</th>\n",
       "      <th>Disaster Subtype</th>\n",
       "      <th>Total Events</th>\n",
       "      <th>Total Affected</th>\n",
       "      <th>Total Deaths</th>\n",
       "      <th>Total Damage (USD, original)</th>\n",
       "      <th>CPI</th>\n",
       "    </tr>\n",
       "  </thead>\n",
       "  <tbody>\n",
       "    <tr>\n",
       "      <th>140</th>\n",
       "      <td>1920</td>\n",
       "      <td>Germany</td>\n",
       "      <td>Hydrological</td>\n",
       "      <td>Flood</td>\n",
       "      <td>No Subtype</td>\n",
       "      <td>1</td>\n",
       "      <td>0.0</td>\n",
       "      <td>0.0</td>\n",
       "      <td>2.000000e+07</td>\n",
       "      <td>7.409635</td>\n",
       "    </tr>\n",
       "    <tr>\n",
       "      <th>170</th>\n",
       "      <td>1925</td>\n",
       "      <td>Germany</td>\n",
       "      <td>Hydrological</td>\n",
       "      <td>Flood</td>\n",
       "      <td>No Subtype</td>\n",
       "      <td>1</td>\n",
       "      <td>0.0</td>\n",
       "      <td>0.0</td>\n",
       "      <td>1.900000e+07</td>\n",
       "      <td>6.486508</td>\n",
       "    </tr>\n",
       "    <tr>\n",
       "      <th>183</th>\n",
       "      <td>1926</td>\n",
       "      <td>Germany</td>\n",
       "      <td>Hydrological</td>\n",
       "      <td>Flood</td>\n",
       "      <td>No Subtype</td>\n",
       "      <td>1</td>\n",
       "      <td>0.0</td>\n",
       "      <td>0.0</td>\n",
       "      <td>3.100000e+07</td>\n",
       "      <td>6.548049</td>\n",
       "    </tr>\n",
       "    <tr>\n",
       "      <th>219</th>\n",
       "      <td>1929</td>\n",
       "      <td>Germany</td>\n",
       "      <td>Meteorological</td>\n",
       "      <td>Storm</td>\n",
       "      <td>Convective storm</td>\n",
       "      <td>1</td>\n",
       "      <td>0.0</td>\n",
       "      <td>0.0</td>\n",
       "      <td>5.500000e+07</td>\n",
       "      <td>6.351116</td>\n",
       "    </tr>\n",
       "    <tr>\n",
       "      <th>549</th>\n",
       "      <td>1953</td>\n",
       "      <td>Germany</td>\n",
       "      <td>Meteorological</td>\n",
       "      <td>Storm</td>\n",
       "      <td>Convective storm</td>\n",
       "      <td>1</td>\n",
       "      <td>0.0</td>\n",
       "      <td>0.0</td>\n",
       "      <td>2.500000e+07</td>\n",
       "      <td>9.895924</td>\n",
       "    </tr>\n",
       "    <tr>\n",
       "      <th>...</th>\n",
       "      <td>...</td>\n",
       "      <td>...</td>\n",
       "      <td>...</td>\n",
       "      <td>...</td>\n",
       "      <td>...</td>\n",
       "      <td>...</td>\n",
       "      <td>...</td>\n",
       "      <td>...</td>\n",
       "      <td>...</td>\n",
       "      <td>...</td>\n",
       "    </tr>\n",
       "    <tr>\n",
       "      <th>9469</th>\n",
       "      <td>2019</td>\n",
       "      <td>Germany</td>\n",
       "      <td>Meteorological</td>\n",
       "      <td>Storm</td>\n",
       "      <td>Convective storm</td>\n",
       "      <td>1</td>\n",
       "      <td>1.0</td>\n",
       "      <td>1.0</td>\n",
       "      <td>NaN</td>\n",
       "      <td>94.349092</td>\n",
       "    </tr>\n",
       "    <tr>\n",
       "      <th>9708</th>\n",
       "      <td>2020</td>\n",
       "      <td>Germany</td>\n",
       "      <td>Meteorological</td>\n",
       "      <td>Storm</td>\n",
       "      <td>Extra-tropical storm</td>\n",
       "      <td>1</td>\n",
       "      <td>33.0</td>\n",
       "      <td>0.0</td>\n",
       "      <td>NaN</td>\n",
       "      <td>95.512967</td>\n",
       "    </tr>\n",
       "    <tr>\n",
       "      <th>9952</th>\n",
       "      <td>2021</td>\n",
       "      <td>Germany</td>\n",
       "      <td>Hydrological</td>\n",
       "      <td>Flood</td>\n",
       "      <td>No Subtype</td>\n",
       "      <td>1</td>\n",
       "      <td>1000.0</td>\n",
       "      <td>197.0</td>\n",
       "      <td>4.000000e+10</td>\n",
       "      <td>100.000000</td>\n",
       "    </tr>\n",
       "    <tr>\n",
       "      <th>9953</th>\n",
       "      <td>2021</td>\n",
       "      <td>Germany</td>\n",
       "      <td>Meteorological</td>\n",
       "      <td>Storm</td>\n",
       "      <td>Convective storm</td>\n",
       "      <td>2</td>\n",
       "      <td>604.0</td>\n",
       "      <td>1.0</td>\n",
       "      <td>NaN</td>\n",
       "      <td>100.000000</td>\n",
       "    </tr>\n",
       "    <tr>\n",
       "      <th>10188</th>\n",
       "      <td>2022</td>\n",
       "      <td>Germany</td>\n",
       "      <td>Meteorological</td>\n",
       "      <td>Storm</td>\n",
       "      <td>Extra-tropical storm</td>\n",
       "      <td>3</td>\n",
       "      <td>2.0</td>\n",
       "      <td>7.0</td>\n",
       "      <td>NaN</td>\n",
       "      <td>NaN</td>\n",
       "    </tr>\n",
       "  </tbody>\n",
       "</table>\n",
       "<p>87 rows × 10 columns</p>\n",
       "</div>"
      ],
      "text/plain": [
       "       Year  Country Disaster Subroup Disaster Type      Disaster Subtype  \\\n",
       "140    1920  Germany     Hydrological         Flood            No Subtype   \n",
       "170    1925  Germany     Hydrological         Flood            No Subtype   \n",
       "183    1926  Germany     Hydrological         Flood            No Subtype   \n",
       "219    1929  Germany   Meteorological         Storm      Convective storm   \n",
       "549    1953  Germany   Meteorological         Storm      Convective storm   \n",
       "...     ...      ...              ...           ...                   ...   \n",
       "9469   2019  Germany   Meteorological         Storm      Convective storm   \n",
       "9708   2020  Germany   Meteorological         Storm  Extra-tropical storm   \n",
       "9952   2021  Germany     Hydrological         Flood            No Subtype   \n",
       "9953   2021  Germany   Meteorological         Storm      Convective storm   \n",
       "10188  2022  Germany   Meteorological         Storm  Extra-tropical storm   \n",
       "\n",
       "       Total Events  Total Affected  Total Deaths  \\\n",
       "140               1             0.0           0.0   \n",
       "170               1             0.0           0.0   \n",
       "183               1             0.0           0.0   \n",
       "219               1             0.0           0.0   \n",
       "549               1             0.0           0.0   \n",
       "...             ...             ...           ...   \n",
       "9469              1             1.0           1.0   \n",
       "9708              1            33.0           0.0   \n",
       "9952              1          1000.0         197.0   \n",
       "9953              2           604.0           1.0   \n",
       "10188             3             2.0           7.0   \n",
       "\n",
       "       Total Damage (USD, original)         CPI  \n",
       "140                    2.000000e+07    7.409635  \n",
       "170                    1.900000e+07    6.486508  \n",
       "183                    3.100000e+07    6.548049  \n",
       "219                    5.500000e+07    6.351116  \n",
       "549                    2.500000e+07    9.895924  \n",
       "...                             ...         ...  \n",
       "9469                            NaN   94.349092  \n",
       "9708                            NaN   95.512967  \n",
       "9952                   4.000000e+10  100.000000  \n",
       "9953                            NaN  100.000000  \n",
       "10188                           NaN         NaN  \n",
       "\n",
       "[87 rows x 10 columns]"
      ]
     },
     "execution_count": 15,
     "metadata": {},
     "output_type": "execute_result"
    }
   ],
   "source": [
    "data[data['Country'] == 'Germany']"
   ]
  },
  {
   "cell_type": "markdown",
   "id": "eaa814b4",
   "metadata": {},
   "source": [
    "**Alternative Lösungsmöglichkeit** (viel übersichtlicher und effizienter)\n",
    "\n",
    "mit `apply()` kann eine Funktion auf eine komplette Spalte oder Zeile des Dataframes angewendet werden"
   ]
  },
  {
   "cell_type": "code",
   "execution_count": 16,
   "id": "221bb2bf",
   "metadata": {
    "scrolled": true
   },
   "outputs": [],
   "source": [
    "data['Country'] = data['Country'].apply(clean_country)"
   ]
  },
  {
   "cell_type": "code",
   "execution_count": 17,
   "id": "2c1fce6f",
   "metadata": {
    "scrolled": true
   },
   "outputs": [
    {
     "data": {
      "text/html": [
       "<div>\n",
       "<style scoped>\n",
       "    .dataframe tbody tr th:only-of-type {\n",
       "        vertical-align: middle;\n",
       "    }\n",
       "\n",
       "    .dataframe tbody tr th {\n",
       "        vertical-align: top;\n",
       "    }\n",
       "\n",
       "    .dataframe thead th {\n",
       "        text-align: right;\n",
       "    }\n",
       "</style>\n",
       "<table border=\"1\" class=\"dataframe\">\n",
       "  <thead>\n",
       "    <tr style=\"text-align: right;\">\n",
       "      <th></th>\n",
       "      <th>Year</th>\n",
       "      <th>Country</th>\n",
       "      <th>Disaster Subroup</th>\n",
       "      <th>Disaster Type</th>\n",
       "      <th>Disaster Subtype</th>\n",
       "      <th>Total Events</th>\n",
       "      <th>Total Affected</th>\n",
       "      <th>Total Deaths</th>\n",
       "      <th>Total Damage (USD, original)</th>\n",
       "      <th>CPI</th>\n",
       "    </tr>\n",
       "  </thead>\n",
       "  <tbody>\n",
       "    <tr>\n",
       "      <th>140</th>\n",
       "      <td>1920</td>\n",
       "      <td>Germany</td>\n",
       "      <td>Hydrological</td>\n",
       "      <td>Flood</td>\n",
       "      <td>No Subtype</td>\n",
       "      <td>1</td>\n",
       "      <td>0.0</td>\n",
       "      <td>0.0</td>\n",
       "      <td>2.000000e+07</td>\n",
       "      <td>7.409635</td>\n",
       "    </tr>\n",
       "    <tr>\n",
       "      <th>170</th>\n",
       "      <td>1925</td>\n",
       "      <td>Germany</td>\n",
       "      <td>Hydrological</td>\n",
       "      <td>Flood</td>\n",
       "      <td>No Subtype</td>\n",
       "      <td>1</td>\n",
       "      <td>0.0</td>\n",
       "      <td>0.0</td>\n",
       "      <td>1.900000e+07</td>\n",
       "      <td>6.486508</td>\n",
       "    </tr>\n",
       "    <tr>\n",
       "      <th>183</th>\n",
       "      <td>1926</td>\n",
       "      <td>Germany</td>\n",
       "      <td>Hydrological</td>\n",
       "      <td>Flood</td>\n",
       "      <td>No Subtype</td>\n",
       "      <td>1</td>\n",
       "      <td>0.0</td>\n",
       "      <td>0.0</td>\n",
       "      <td>3.100000e+07</td>\n",
       "      <td>6.548049</td>\n",
       "    </tr>\n",
       "    <tr>\n",
       "      <th>219</th>\n",
       "      <td>1929</td>\n",
       "      <td>Germany</td>\n",
       "      <td>Meteorological</td>\n",
       "      <td>Storm</td>\n",
       "      <td>Convective storm</td>\n",
       "      <td>1</td>\n",
       "      <td>0.0</td>\n",
       "      <td>0.0</td>\n",
       "      <td>5.500000e+07</td>\n",
       "      <td>6.351116</td>\n",
       "    </tr>\n",
       "    <tr>\n",
       "      <th>549</th>\n",
       "      <td>1953</td>\n",
       "      <td>Germany</td>\n",
       "      <td>Meteorological</td>\n",
       "      <td>Storm</td>\n",
       "      <td>Convective storm</td>\n",
       "      <td>1</td>\n",
       "      <td>0.0</td>\n",
       "      <td>0.0</td>\n",
       "      <td>2.500000e+07</td>\n",
       "      <td>9.895924</td>\n",
       "    </tr>\n",
       "    <tr>\n",
       "      <th>...</th>\n",
       "      <td>...</td>\n",
       "      <td>...</td>\n",
       "      <td>...</td>\n",
       "      <td>...</td>\n",
       "      <td>...</td>\n",
       "      <td>...</td>\n",
       "      <td>...</td>\n",
       "      <td>...</td>\n",
       "      <td>...</td>\n",
       "      <td>...</td>\n",
       "    </tr>\n",
       "    <tr>\n",
       "      <th>9469</th>\n",
       "      <td>2019</td>\n",
       "      <td>Germany</td>\n",
       "      <td>Meteorological</td>\n",
       "      <td>Storm</td>\n",
       "      <td>Convective storm</td>\n",
       "      <td>1</td>\n",
       "      <td>1.0</td>\n",
       "      <td>1.0</td>\n",
       "      <td>NaN</td>\n",
       "      <td>94.349092</td>\n",
       "    </tr>\n",
       "    <tr>\n",
       "      <th>9708</th>\n",
       "      <td>2020</td>\n",
       "      <td>Germany</td>\n",
       "      <td>Meteorological</td>\n",
       "      <td>Storm</td>\n",
       "      <td>Extra-tropical storm</td>\n",
       "      <td>1</td>\n",
       "      <td>33.0</td>\n",
       "      <td>0.0</td>\n",
       "      <td>NaN</td>\n",
       "      <td>95.512967</td>\n",
       "    </tr>\n",
       "    <tr>\n",
       "      <th>9952</th>\n",
       "      <td>2021</td>\n",
       "      <td>Germany</td>\n",
       "      <td>Hydrological</td>\n",
       "      <td>Flood</td>\n",
       "      <td>No Subtype</td>\n",
       "      <td>1</td>\n",
       "      <td>1000.0</td>\n",
       "      <td>197.0</td>\n",
       "      <td>4.000000e+10</td>\n",
       "      <td>100.000000</td>\n",
       "    </tr>\n",
       "    <tr>\n",
       "      <th>9953</th>\n",
       "      <td>2021</td>\n",
       "      <td>Germany</td>\n",
       "      <td>Meteorological</td>\n",
       "      <td>Storm</td>\n",
       "      <td>Convective storm</td>\n",
       "      <td>2</td>\n",
       "      <td>604.0</td>\n",
       "      <td>1.0</td>\n",
       "      <td>NaN</td>\n",
       "      <td>100.000000</td>\n",
       "    </tr>\n",
       "    <tr>\n",
       "      <th>10188</th>\n",
       "      <td>2022</td>\n",
       "      <td>Germany</td>\n",
       "      <td>Meteorological</td>\n",
       "      <td>Storm</td>\n",
       "      <td>Extra-tropical storm</td>\n",
       "      <td>3</td>\n",
       "      <td>2.0</td>\n",
       "      <td>7.0</td>\n",
       "      <td>NaN</td>\n",
       "      <td>NaN</td>\n",
       "    </tr>\n",
       "  </tbody>\n",
       "</table>\n",
       "<p>87 rows × 10 columns</p>\n",
       "</div>"
      ],
      "text/plain": [
       "       Year  Country Disaster Subroup Disaster Type      Disaster Subtype  \\\n",
       "140    1920  Germany     Hydrological         Flood            No Subtype   \n",
       "170    1925  Germany     Hydrological         Flood            No Subtype   \n",
       "183    1926  Germany     Hydrological         Flood            No Subtype   \n",
       "219    1929  Germany   Meteorological         Storm      Convective storm   \n",
       "549    1953  Germany   Meteorological         Storm      Convective storm   \n",
       "...     ...      ...              ...           ...                   ...   \n",
       "9469   2019  Germany   Meteorological         Storm      Convective storm   \n",
       "9708   2020  Germany   Meteorological         Storm  Extra-tropical storm   \n",
       "9952   2021  Germany     Hydrological         Flood            No Subtype   \n",
       "9953   2021  Germany   Meteorological         Storm      Convective storm   \n",
       "10188  2022  Germany   Meteorological         Storm  Extra-tropical storm   \n",
       "\n",
       "       Total Events  Total Affected  Total Deaths  \\\n",
       "140               1             0.0           0.0   \n",
       "170               1             0.0           0.0   \n",
       "183               1             0.0           0.0   \n",
       "219               1             0.0           0.0   \n",
       "549               1             0.0           0.0   \n",
       "...             ...             ...           ...   \n",
       "9469              1             1.0           1.0   \n",
       "9708              1            33.0           0.0   \n",
       "9952              1          1000.0         197.0   \n",
       "9953              2           604.0           1.0   \n",
       "10188             3             2.0           7.0   \n",
       "\n",
       "       Total Damage (USD, original)         CPI  \n",
       "140                    2.000000e+07    7.409635  \n",
       "170                    1.900000e+07    6.486508  \n",
       "183                    3.100000e+07    6.548049  \n",
       "219                    5.500000e+07    6.351116  \n",
       "549                    2.500000e+07    9.895924  \n",
       "...                             ...         ...  \n",
       "9469                            NaN   94.349092  \n",
       "9708                            NaN   95.512967  \n",
       "9952                   4.000000e+10  100.000000  \n",
       "9953                            NaN  100.000000  \n",
       "10188                           NaN         NaN  \n",
       "\n",
       "[87 rows x 10 columns]"
      ]
     },
     "execution_count": 17,
     "metadata": {},
     "output_type": "execute_result"
    }
   ],
   "source": [
    "data[data['Country'] == 'Germany']"
   ]
  },
  {
   "cell_type": "markdown",
   "id": "4447e446",
   "metadata": {},
   "source": [
    "#### Wie viele Todesopfer gab es insgesamt in Deutschland?"
   ]
  },
  {
   "cell_type": "code",
   "execution_count": 18,
   "id": "4a40731a",
   "metadata": {
    "scrolled": true
   },
   "outputs": [
    {
     "data": {
      "text/plain": [
       "10419.0"
      ]
     },
     "execution_count": 18,
     "metadata": {},
     "output_type": "execute_result"
    }
   ],
   "source": [
    "data[data['Country'] == 'Germany']['Total Deaths'].sum()"
   ]
  },
  {
   "cell_type": "code",
   "execution_count": 19,
   "id": "cef527b5",
   "metadata": {
    "scrolled": true
   },
   "outputs": [
    {
     "data": {
      "text/plain": [
       "10419.0"
      ]
     },
     "execution_count": 19,
     "metadata": {},
     "output_type": "execute_result"
    }
   ],
   "source": [
    "data_germany = data[data['Country'] == 'Germany']\n",
    "data_germany['Total Deaths'].sum()"
   ]
  },
  {
   "cell_type": "markdown",
   "id": "ca38217d",
   "metadata": {},
   "source": [
    "#### Wie viele Todesopfer gab es insgesamt in Indien?"
   ]
  },
  {
   "cell_type": "code",
   "execution_count": 20,
   "id": "1080db45",
   "metadata": {
    "scrolled": true
   },
   "outputs": [
    {
     "data": {
      "text/plain": [
       "4591827.0"
      ]
     },
     "execution_count": 20,
     "metadata": {},
     "output_type": "execute_result"
    }
   ],
   "source": [
    "data_land = data[data['Country'] == 'India']\n",
    "data_land['Total Deaths'].sum()"
   ]
  },
  {
   "cell_type": "markdown",
   "id": "d01c83b6",
   "metadata": {},
   "source": [
    "#### Allgemeine Funktion die Gesamtzahl der Todesopfer eines Landes ausgibt"
   ]
  },
  {
   "cell_type": "code",
   "execution_count": 21,
   "id": "3e88539f",
   "metadata": {
    "scrolled": true
   },
   "outputs": [],
   "source": [
    "def get_total_deaths(data, country):\n",
    "    data_land = data[data['Country'] == country]\n",
    "    return data_land['Total Deaths'].sum()"
   ]
  },
  {
   "cell_type": "code",
   "execution_count": 22,
   "id": "6c18cdf4",
   "metadata": {
    "scrolled": true
   },
   "outputs": [
    {
     "data": {
      "text/plain": [
       "239400.0"
      ]
     },
     "execution_count": 22,
     "metadata": {},
     "output_type": "execute_result"
    }
   ],
   "source": [
    "get_total_deaths(data, 'Japan')"
   ]
  },
  {
   "cell_type": "markdown",
   "id": "a5d55b9f",
   "metadata": {},
   "source": [
    "## Dashboard Teil II\n",
    "\n",
    "### Welchen Anteil haben die unterschiedlichen Naturkatastrophentypen in Deutschland?"
   ]
  },
  {
   "cell_type": "code",
   "execution_count": 23,
   "id": "b222f6ef",
   "metadata": {
    "scrolled": true
   },
   "outputs": [
    {
     "data": {
      "text/plain": [
       "Storm                   0.540230\n",
       "Flood                   0.264368\n",
       "Extreme temperature     0.137931\n",
       "Earthquake              0.034483\n",
       "Wildfire                0.011494\n",
       "Landslide               0.011494\n",
       "Name: Disaster Type, dtype: float64"
      ]
     },
     "execution_count": 23,
     "metadata": {},
     "output_type": "execute_result"
    }
   ],
   "source": [
    "germany_data = data[data['Country'] == 'Germany']\n",
    "germany_data['Disaster Type'].value_counts(normalize=True)"
   ]
  },
  {
   "cell_type": "markdown",
   "id": "163fa3cb",
   "metadata": {},
   "source": [
    "# Visualisierung von DataFrames\n",
    "\n",
    "[Matplotlib](https://matplotlib.org/) is a comprehensive library for creating static, animated, and interactive visualizations in Python.\n",
    "\n",
    "Matplotlib makes easy things easy and hard things possible.\n",
    "\n",
    "Install matplotlib:"
   ]
  },
  {
   "cell_type": "code",
   "execution_count": null,
   "id": "14287eb9",
   "metadata": {
    "scrolled": true
   },
   "outputs": [],
   "source": [
    "!pip3 install --upgrade pip\n",
    "!pip3 install --upgrade Pillow\n",
    "!pip3 install matplotlib\n",
    "\n",
    "import matplotlib.pyplot as plt"
   ]
  },
  {
   "cell_type": "code",
   "execution_count": 27,
   "id": "03f4af2b",
   "metadata": {
    "scrolled": true
   },
   "outputs": [],
   "source": [
    "germany_data = data[data['Country'] == 'Germany']"
   ]
  },
  {
   "cell_type": "code",
   "execution_count": 28,
   "id": "d319deff",
   "metadata": {
    "scrolled": true
   },
   "outputs": [
    {
     "data": {
      "text/plain": [
       "Storm                   47\n",
       "Flood                   23\n",
       "Extreme temperature     12\n",
       "Earthquake               3\n",
       "Wildfire                 1\n",
       "Landslide                1\n",
       "Name: Disaster Type, dtype: int64"
      ]
     },
     "execution_count": 28,
     "metadata": {},
     "output_type": "execute_result"
    }
   ],
   "source": [
    "germany_data['Disaster Type'].value_counts()"
   ]
  },
  {
   "cell_type": "code",
   "execution_count": 29,
   "id": "64fcf496",
   "metadata": {
    "scrolled": false
   },
   "outputs": [
    {
     "data": {
      "text/plain": [
       "<AxesSubplot: >"
      ]
     },
     "execution_count": 29,
     "metadata": {},
     "output_type": "execute_result"
    },
    {
     "data": {
      "image/png": "[encoded data removed]",
      "text/plain": [
       "<Figure size 640x480 with 1 Axes>"
      ]
     },
     "metadata": {},
     "output_type": "display_data"
    }
   ],
   "source": [
    "germany_data['Disaster Type'].value_counts().plot(kind='bar')"
   ]
  },
  {
   "cell_type": "code",
   "execution_count": 30,
   "id": "2cf2e38e",
   "metadata": {
    "scrolled": false
   },
   "outputs": [
    {
     "data": {
      "text/plain": [
       "<AxesSubplot: ylabel='Disaster Type'>"
      ]
     },
     "execution_count": 30,
     "metadata": {},
     "output_type": "execute_result"
    },
    {
     "data": {
      "image/png": "[encoded data removed]",
      "text/plain": [
       "<Figure size 640x480 with 1 Axes>"
      ]
     },
     "metadata": {},
     "output_type": "display_data"
    }
   ],
   "source": [
    "germany_data['Disaster Type'].value_counts().plot(kind='pie')"
   ]
  },
  {
   "cell_type": "markdown",
   "id": "7204827f",
   "metadata": {
    "slideshow": {
     "slide_type": "slide"
    }
   },
   "source": [
    "## Recherchefragen\n",
    "\n",
    "#### Welche Naturkatastrophen fordern die meisten Todesopfer?"
   ]
  },
  {
   "cell_type": "markdown",
   "id": "a6957897",
   "metadata": {},
   "source": [
    "`.groupby()` gruppiert einen DataFrame nach den Werten einer oder mehreren Spalten.\n",
    "\n",
    "Die Spalten nach denen man Gruppieren möchte werden als Argument übergeben. Danach folgt die gewünschte Berechnung auf dieser Gruppe. Das Ergebnis wird als DataFrame zurückgegeben. "
   ]
  },
  {
   "cell_type": "code",
   "execution_count": 31,
   "id": "57224183",
   "metadata": {
    "scrolled": true
   },
   "outputs": [
    {
     "data": {
      "text/html": [
       "<div>\n",
       "<style scoped>\n",
       "    .dataframe tbody tr th:only-of-type {\n",
       "        vertical-align: middle;\n",
       "    }\n",
       "\n",
       "    .dataframe tbody tr th {\n",
       "        vertical-align: top;\n",
       "    }\n",
       "\n",
       "    .dataframe thead th {\n",
       "        text-align: right;\n",
       "    }\n",
       "</style>\n",
       "<table border=\"1\" class=\"dataframe\">\n",
       "  <thead>\n",
       "    <tr style=\"text-align: right;\">\n",
       "      <th></th>\n",
       "      <th>Year</th>\n",
       "      <th>Country</th>\n",
       "      <th>Disaster Subroup</th>\n",
       "      <th>Disaster Type</th>\n",
       "      <th>Disaster Subtype</th>\n",
       "      <th>Total Events</th>\n",
       "      <th>Total Affected</th>\n",
       "      <th>Total Deaths</th>\n",
       "      <th>Total Damage (USD, original)</th>\n",
       "      <th>CPI</th>\n",
       "    </tr>\n",
       "  </thead>\n",
       "  <tbody>\n",
       "    <tr>\n",
       "      <th>1</th>\n",
       "      <td>1900</td>\n",
       "      <td>Cabo Verde</td>\n",
       "      <td>Climatological</td>\n",
       "      <td>Drought</td>\n",
       "      <td>Drought</td>\n",
       "      <td>1</td>\n",
       "      <td>11000.0</td>\n",
       "      <td>11000.0</td>\n",
       "      <td>NaN</td>\n",
       "      <td>3.077091</td>\n",
       "    </tr>\n",
       "    <tr>\n",
       "      <th>2</th>\n",
       "      <td>1900</td>\n",
       "      <td>India</td>\n",
       "      <td>Climatological</td>\n",
       "      <td>Drought</td>\n",
       "      <td>Drought</td>\n",
       "      <td>1</td>\n",
       "      <td>1250000.0</td>\n",
       "      <td>1250000.0</td>\n",
       "      <td>NaN</td>\n",
       "      <td>3.077091</td>\n",
       "    </tr>\n",
       "    <tr>\n",
       "      <th>3</th>\n",
       "      <td>1900</td>\n",
       "      <td>Jamaica</td>\n",
       "      <td>Hydrological</td>\n",
       "      <td>Flood</td>\n",
       "      <td>No Subtype</td>\n",
       "      <td>1</td>\n",
       "      <td>300.0</td>\n",
       "      <td>300.0</td>\n",
       "      <td>NaN</td>\n",
       "      <td>3.077091</td>\n",
       "    </tr>\n",
       "    <tr>\n",
       "      <th>4</th>\n",
       "      <td>1900</td>\n",
       "      <td>Japan</td>\n",
       "      <td>Geophysical</td>\n",
       "      <td>Volcanic activity</td>\n",
       "      <td>Ash fall</td>\n",
       "      <td>1</td>\n",
       "      <td>30.0</td>\n",
       "      <td>30.0</td>\n",
       "      <td>NaN</td>\n",
       "      <td>3.077091</td>\n",
       "    </tr>\n",
       "    <tr>\n",
       "      <th>5</th>\n",
       "      <td>1900</td>\n",
       "      <td>Turkey</td>\n",
       "      <td>Geophysical</td>\n",
       "      <td>Earthquake</td>\n",
       "      <td>Ground movement</td>\n",
       "      <td>1</td>\n",
       "      <td>140.0</td>\n",
       "      <td>140.0</td>\n",
       "      <td>NaN</td>\n",
       "      <td>3.077091</td>\n",
       "    </tr>\n",
       "    <tr>\n",
       "      <th>...</th>\n",
       "      <td>...</td>\n",
       "      <td>...</td>\n",
       "      <td>...</td>\n",
       "      <td>...</td>\n",
       "      <td>...</td>\n",
       "      <td>...</td>\n",
       "      <td>...</td>\n",
       "      <td>...</td>\n",
       "      <td>...</td>\n",
       "      <td>...</td>\n",
       "    </tr>\n",
       "    <tr>\n",
       "      <th>10338</th>\n",
       "      <td>2022</td>\n",
       "      <td>Yemen</td>\n",
       "      <td>Hydrological</td>\n",
       "      <td>Flood</td>\n",
       "      <td>Flash flood</td>\n",
       "      <td>1</td>\n",
       "      <td>3400.0</td>\n",
       "      <td>13.0</td>\n",
       "      <td>NaN</td>\n",
       "      <td>NaN</td>\n",
       "    </tr>\n",
       "    <tr>\n",
       "      <th>10339</th>\n",
       "      <td>2022</td>\n",
       "      <td>South Africa</td>\n",
       "      <td>Hydrological</td>\n",
       "      <td>Flood</td>\n",
       "      <td>No Subtype</td>\n",
       "      <td>7</td>\n",
       "      <td>143119.0</td>\n",
       "      <td>562.0</td>\n",
       "      <td>3.164000e+09</td>\n",
       "      <td>NaN</td>\n",
       "    </tr>\n",
       "    <tr>\n",
       "      <th>10340</th>\n",
       "      <td>2022</td>\n",
       "      <td>Zambia</td>\n",
       "      <td>Hydrological</td>\n",
       "      <td>Flood</td>\n",
       "      <td>No Subtype</td>\n",
       "      <td>1</td>\n",
       "      <td>15000.0</td>\n",
       "      <td>3.0</td>\n",
       "      <td>NaN</td>\n",
       "      <td>NaN</td>\n",
       "    </tr>\n",
       "    <tr>\n",
       "      <th>10341</th>\n",
       "      <td>2022</td>\n",
       "      <td>Zimbabwe</td>\n",
       "      <td>Hydrological</td>\n",
       "      <td>Flood</td>\n",
       "      <td>No Subtype</td>\n",
       "      <td>1</td>\n",
       "      <td>0.0</td>\n",
       "      <td>0.0</td>\n",
       "      <td>NaN</td>\n",
       "      <td>NaN</td>\n",
       "    </tr>\n",
       "    <tr>\n",
       "      <th>10342</th>\n",
       "      <td>2022</td>\n",
       "      <td>Zimbabwe</td>\n",
       "      <td>Meteorological</td>\n",
       "      <td>Storm</td>\n",
       "      <td>Tropical cyclone</td>\n",
       "      <td>1</td>\n",
       "      <td>3000.0</td>\n",
       "      <td>0.0</td>\n",
       "      <td>NaN</td>\n",
       "      <td>NaN</td>\n",
       "    </tr>\n",
       "  </tbody>\n",
       "</table>\n",
       "<p>10342 rows × 10 columns</p>\n",
       "</div>"
      ],
      "text/plain": [
       "       Year       Country Disaster Subroup      Disaster Type  \\\n",
       "1      1900    Cabo Verde   Climatological            Drought   \n",
       "2      1900         India   Climatological            Drought   \n",
       "3      1900       Jamaica     Hydrological              Flood   \n",
       "4      1900         Japan      Geophysical  Volcanic activity   \n",
       "5      1900        Turkey      Geophysical         Earthquake   \n",
       "...     ...           ...              ...                ...   \n",
       "10338  2022         Yemen     Hydrological              Flood   \n",
       "10339  2022  South Africa     Hydrological              Flood   \n",
       "10340  2022        Zambia     Hydrological              Flood   \n",
       "10341  2022      Zimbabwe     Hydrological              Flood   \n",
       "10342  2022      Zimbabwe   Meteorological              Storm   \n",
       "\n",
       "       Disaster Subtype  Total Events  Total Affected  Total Deaths  \\\n",
       "1               Drought             1         11000.0       11000.0   \n",
       "2               Drought             1       1250000.0     1250000.0   \n",
       "3            No Subtype             1           300.0         300.0   \n",
       "4              Ash fall             1            30.0          30.0   \n",
       "5       Ground movement             1           140.0         140.0   \n",
       "...                 ...           ...             ...           ...   \n",
       "10338       Flash flood             1          3400.0          13.0   \n",
       "10339        No Subtype             7        143119.0         562.0   \n",
       "10340        No Subtype             1         15000.0           3.0   \n",
       "10341        No Subtype             1             0.0           0.0   \n",
       "10342  Tropical cyclone             1          3000.0           0.0   \n",
       "\n",
       "       Total Damage (USD, original)       CPI  \n",
       "1                               NaN  3.077091  \n",
       "2                               NaN  3.077091  \n",
       "3                               NaN  3.077091  \n",
       "4                               NaN  3.077091  \n",
       "5                               NaN  3.077091  \n",
       "...                             ...       ...  \n",
       "10338                           NaN       NaN  \n",
       "10339                  3.164000e+09       NaN  \n",
       "10340                           NaN       NaN  \n",
       "10341                           NaN       NaN  \n",
       "10342                           NaN       NaN  \n",
       "\n",
       "[10342 rows x 10 columns]"
      ]
     },
     "execution_count": 31,
     "metadata": {},
     "output_type": "execute_result"
    }
   ],
   "source": [
    "data"
   ]
  },
  {
   "cell_type": "code",
   "execution_count": 32,
   "id": "99bc48aa",
   "metadata": {
    "scrolled": true
   },
   "outputs": [
    {
     "data": {
      "text/plain": [
       "22845977.0"
      ]
     },
     "execution_count": 32,
     "metadata": {},
     "output_type": "execute_result"
    }
   ],
   "source": [
    "data['Total Deaths'].sum()"
   ]
  },
  {
   "cell_type": "code",
   "execution_count": 33,
   "id": "f4f4e7fe",
   "metadata": {
    "scrolled": false
   },
   "outputs": [
    {
     "data": {
      "text/plain": [
       "Disaster Type\n",
       "Animal accident                12.0\n",
       "Drought                  11733889.0\n",
       "Earthquake                2343594.0\n",
       "Extreme temperature        194056.0\n",
       "Flood                     7002950.0\n",
       "Fog                          4000.0\n",
       "Glacial lake outburst         262.0\n",
       "Insect infestation              0.0\n",
       "Landslide                   67417.0\n",
       "Mass movement (dry)          4644.0\n",
       "Storm                     1403607.0\n",
       "Volcanic activity           86893.0\n",
       "Wildfire                     4653.0\n",
       "Name: Total Deaths, dtype: float64"
      ]
     },
     "execution_count": 33,
     "metadata": {},
     "output_type": "execute_result"
    }
   ],
   "source": [
    "data.groupby('Disaster Type')['Total Deaths'].sum()"
   ]
  },
  {
   "cell_type": "code",
   "execution_count": 34,
   "id": "0bbb03c0",
   "metadata": {},
   "outputs": [
    {
     "name": "stderr",
     "output_type": "stream",
     "text": [
      "/tmp/ipykernel_490129/3612715955.py:1: FutureWarning: The default value of numeric_only in DataFrameGroupBy.sum is deprecated. In a future version, numeric_only will default to False. Either specify numeric_only or select only columns which should be valid for the function.\n",
      "  data.groupby('Disaster Type').sum()\n"
     ]
    },
    {
     "data": {
      "text/html": [
       "<div>\n",
       "<style scoped>\n",
       "    .dataframe tbody tr th:only-of-type {\n",
       "        vertical-align: middle;\n",
       "    }\n",
       "\n",
       "    .dataframe tbody tr th {\n",
       "        vertical-align: top;\n",
       "    }\n",
       "\n",
       "    .dataframe thead th {\n",
       "        text-align: right;\n",
       "    }\n",
       "</style>\n",
       "<table border=\"1\" class=\"dataframe\">\n",
       "  <thead>\n",
       "    <tr style=\"text-align: right;\">\n",
       "      <th></th>\n",
       "      <th>Year</th>\n",
       "      <th>Total Events</th>\n",
       "      <th>Total Affected</th>\n",
       "      <th>Total Deaths</th>\n",
       "      <th>Total Damage (USD, original)</th>\n",
       "      <th>CPI</th>\n",
       "    </tr>\n",
       "    <tr>\n",
       "      <th>Disaster Type</th>\n",
       "      <th></th>\n",
       "      <th></th>\n",
       "      <th></th>\n",
       "      <th></th>\n",
       "      <th></th>\n",
       "      <th></th>\n",
       "    </tr>\n",
       "  </thead>\n",
       "  <tbody>\n",
       "    <tr>\n",
       "      <th>Animal accident</th>\n",
       "      <td>2014</td>\n",
       "      <td>1</td>\n",
       "      <td>5.000000e+00</td>\n",
       "      <td>12.0</td>\n",
       "      <td>0.000000e+00</td>\n",
       "      <td>87.366298</td>\n",
       "    </tr>\n",
       "    <tr>\n",
       "      <th>Drought</th>\n",
       "      <td>1543555</td>\n",
       "      <td>792</td>\n",
       "      <td>2.869852e+09</td>\n",
       "      <td>11733889.0</td>\n",
       "      <td>2.098881e+11</td>\n",
       "      <td>43039.824471</td>\n",
       "    </tr>\n",
       "    <tr>\n",
       "      <th>Earthquake</th>\n",
       "      <td>2134925</td>\n",
       "      <td>1576</td>\n",
       "      <td>2.052983e+08</td>\n",
       "      <td>2343594.0</td>\n",
       "      <td>8.653494e+11</td>\n",
       "      <td>46522.663819</td>\n",
       "    </tr>\n",
       "    <tr>\n",
       "      <th>Extreme temperature</th>\n",
       "      <td>1115693</td>\n",
       "      <td>607</td>\n",
       "      <td>1.038223e+08</td>\n",
       "      <td>194056.0</td>\n",
       "      <td>6.886634e+10</td>\n",
       "      <td>38106.532522</td>\n",
       "    </tr>\n",
       "    <tr>\n",
       "      <th>Flood</th>\n",
       "      <td>7604541</td>\n",
       "      <td>5730</td>\n",
       "      <td>3.967537e+09</td>\n",
       "      <td>7002950.0</td>\n",
       "      <td>9.771118e+11</td>\n",
       "      <td>239869.775450</td>\n",
       "    </tr>\n",
       "    <tr>\n",
       "      <th>Fog</th>\n",
       "      <td>1952</td>\n",
       "      <td>1</td>\n",
       "      <td>4.000000e+03</td>\n",
       "      <td>4000.0</td>\n",
       "      <td>0.000000e+00</td>\n",
       "      <td>9.822074</td>\n",
       "    </tr>\n",
       "    <tr>\n",
       "      <th>Glacial lake outburst</th>\n",
       "      <td>4043</td>\n",
       "      <td>3</td>\n",
       "      <td>3.600000e+01</td>\n",
       "      <td>262.0</td>\n",
       "      <td>2.100000e+08</td>\n",
       "      <td>100.000000</td>\n",
       "    </tr>\n",
       "    <tr>\n",
       "      <th>Insect infestation</th>\n",
       "      <td>183314</td>\n",
       "      <td>95</td>\n",
       "      <td>2.802200e+06</td>\n",
       "      <td>0.0</td>\n",
       "      <td>2.292000e+08</td>\n",
       "      <td>4880.908507</td>\n",
       "    </tr>\n",
       "    <tr>\n",
       "      <th>Landslide</th>\n",
       "      <td>1277348</td>\n",
       "      <td>789</td>\n",
       "      <td>1.480567e+07</td>\n",
       "      <td>67417.0</td>\n",
       "      <td>1.125893e+10</td>\n",
       "      <td>36989.405750</td>\n",
       "    </tr>\n",
       "    <tr>\n",
       "      <th>Mass movement (dry)</th>\n",
       "      <td>93320</td>\n",
       "      <td>48</td>\n",
       "      <td>3.105800e+04</td>\n",
       "      <td>4644.0</td>\n",
       "      <td>2.090000e+08</td>\n",
       "      <td>2269.255805</td>\n",
       "    </tr>\n",
       "    <tr>\n",
       "      <th>Storm</th>\n",
       "      <td>5473348</td>\n",
       "      <td>4579</td>\n",
       "      <td>1.256494e+09</td>\n",
       "      <td>1403607.0</td>\n",
       "      <td>1.749046e+12</td>\n",
       "      <td>149355.146763</td>\n",
       "    </tr>\n",
       "    <tr>\n",
       "      <th>Volcanic activity</th>\n",
       "      <td>457628</td>\n",
       "      <td>269</td>\n",
       "      <td>1.004262e+07</td>\n",
       "      <td>86893.0</td>\n",
       "      <td>6.326912e+09</td>\n",
       "      <td>12030.182594</td>\n",
       "    </tr>\n",
       "    <tr>\n",
       "      <th>Wildfire</th>\n",
       "      <td>744227</td>\n",
       "      <td>453</td>\n",
       "      <td>1.836880e+07</td>\n",
       "      <td>4653.0</td>\n",
       "      <td>1.290320e+11</td>\n",
       "      <td>23624.803026</td>\n",
       "    </tr>\n",
       "  </tbody>\n",
       "</table>\n",
       "</div>"
      ],
      "text/plain": [
       "                          Year  Total Events  Total Affected  Total Deaths  \\\n",
       "Disaster Type                                                                \n",
       "Animal accident           2014             1    5.000000e+00          12.0   \n",
       "Drought                1543555           792    2.869852e+09    11733889.0   \n",
       "Earthquake             2134925          1576    2.052983e+08     2343594.0   \n",
       "Extreme temperature    1115693           607    1.038223e+08      194056.0   \n",
       "Flood                  7604541          5730    3.967537e+09     7002950.0   \n",
       "Fog                       1952             1    4.000000e+03        4000.0   \n",
       "Glacial lake outburst     4043             3    3.600000e+01         262.0   \n",
       "Insect infestation      183314            95    2.802200e+06           0.0   \n",
       "Landslide              1277348           789    1.480567e+07       67417.0   \n",
       "Mass movement (dry)      93320            48    3.105800e+04        4644.0   \n",
       "Storm                  5473348          4579    1.256494e+09     1403607.0   \n",
       "Volcanic activity       457628           269    1.004262e+07       86893.0   \n",
       "Wildfire                744227           453    1.836880e+07        4653.0   \n",
       "\n",
       "                       Total Damage (USD, original)            CPI  \n",
       "Disaster Type                                                       \n",
       "Animal accident                        0.000000e+00      87.366298  \n",
       "Drought                                2.098881e+11   43039.824471  \n",
       "Earthquake                             8.653494e+11   46522.663819  \n",
       "Extreme temperature                    6.886634e+10   38106.532522  \n",
       "Flood                                  9.771118e+11  239869.775450  \n",
       "Fog                                    0.000000e+00       9.822074  \n",
       "Glacial lake outburst                  2.100000e+08     100.000000  \n",
       "Insect infestation                     2.292000e+08    4880.908507  \n",
       "Landslide                              1.125893e+10   36989.405750  \n",
       "Mass movement (dry)                    2.090000e+08    2269.255805  \n",
       "Storm                                  1.749046e+12  149355.146763  \n",
       "Volcanic activity                      6.326912e+09   12030.182594  \n",
       "Wildfire                               1.290320e+11   23624.803026  "
      ]
     },
     "execution_count": 34,
     "metadata": {},
     "output_type": "execute_result"
    }
   ],
   "source": [
    "data.groupby('Disaster Type').sum()"
   ]
  },
  {
   "cell_type": "code",
   "execution_count": 35,
   "id": "119dd523",
   "metadata": {
    "scrolled": false
   },
   "outputs": [
    {
     "name": "stderr",
     "output_type": "stream",
     "text": [
      "/tmp/ipykernel_490129/3612715955.py:1: FutureWarning: The default value of numeric_only in DataFrameGroupBy.sum is deprecated. In a future version, numeric_only will default to False. Either specify numeric_only or select only columns which should be valid for the function.\n",
      "  data.groupby('Disaster Type').sum()\n"
     ]
    },
    {
     "data": {
      "text/html": [
       "<div>\n",
       "<style scoped>\n",
       "    .dataframe tbody tr th:only-of-type {\n",
       "        vertical-align: middle;\n",
       "    }\n",
       "\n",
       "    .dataframe tbody tr th {\n",
       "        vertical-align: top;\n",
       "    }\n",
       "\n",
       "    .dataframe thead th {\n",
       "        text-align: right;\n",
       "    }\n",
       "</style>\n",
       "<table border=\"1\" class=\"dataframe\">\n",
       "  <thead>\n",
       "    <tr style=\"text-align: right;\">\n",
       "      <th></th>\n",
       "      <th>Year</th>\n",
       "      <th>Total Events</th>\n",
       "      <th>Total Affected</th>\n",
       "      <th>Total Deaths</th>\n",
       "      <th>Total Damage (USD, original)</th>\n",
       "      <th>CPI</th>\n",
       "    </tr>\n",
       "    <tr>\n",
       "      <th>Disaster Type</th>\n",
       "      <th></th>\n",
       "      <th></th>\n",
       "      <th></th>\n",
       "      <th></th>\n",
       "      <th></th>\n",
       "      <th></th>\n",
       "    </tr>\n",
       "  </thead>\n",
       "  <tbody>\n",
       "    <tr>\n",
       "      <th>Animal accident</th>\n",
       "      <td>2014</td>\n",
       "      <td>1</td>\n",
       "      <td>5.000000e+00</td>\n",
       "      <td>12.0</td>\n",
       "      <td>0.000000e+00</td>\n",
       "      <td>87.366298</td>\n",
       "    </tr>\n",
       "    <tr>\n",
       "      <th>Drought</th>\n",
       "      <td>1543555</td>\n",
       "      <td>792</td>\n",
       "      <td>2.869852e+09</td>\n",
       "      <td>11733889.0</td>\n",
       "      <td>2.098881e+11</td>\n",
       "      <td>43039.824471</td>\n",
       "    </tr>\n",
       "    <tr>\n",
       "      <th>Earthquake</th>\n",
       "      <td>2134925</td>\n",
       "      <td>1576</td>\n",
       "      <td>2.052983e+08</td>\n",
       "      <td>2343594.0</td>\n",
       "      <td>8.653494e+11</td>\n",
       "      <td>46522.663819</td>\n",
       "    </tr>\n",
       "    <tr>\n",
       "      <th>Extreme temperature</th>\n",
       "      <td>1115693</td>\n",
       "      <td>607</td>\n",
       "      <td>1.038223e+08</td>\n",
       "      <td>194056.0</td>\n",
       "      <td>6.886634e+10</td>\n",
       "      <td>38106.532522</td>\n",
       "    </tr>\n",
       "    <tr>\n",
       "      <th>Flood</th>\n",
       "      <td>7604541</td>\n",
       "      <td>5730</td>\n",
       "      <td>3.967537e+09</td>\n",
       "      <td>7002950.0</td>\n",
       "      <td>9.771118e+11</td>\n",
       "      <td>239869.775450</td>\n",
       "    </tr>\n",
       "    <tr>\n",
       "      <th>Fog</th>\n",
       "      <td>1952</td>\n",
       "      <td>1</td>\n",
       "      <td>4.000000e+03</td>\n",
       "      <td>4000.0</td>\n",
       "      <td>0.000000e+00</td>\n",
       "      <td>9.822074</td>\n",
       "    </tr>\n",
       "    <tr>\n",
       "      <th>Glacial lake outburst</th>\n",
       "      <td>4043</td>\n",
       "      <td>3</td>\n",
       "      <td>3.600000e+01</td>\n",
       "      <td>262.0</td>\n",
       "      <td>2.100000e+08</td>\n",
       "      <td>100.000000</td>\n",
       "    </tr>\n",
       "    <tr>\n",
       "      <th>Insect infestation</th>\n",
       "      <td>183314</td>\n",
       "      <td>95</td>\n",
       "      <td>2.802200e+06</td>\n",
       "      <td>0.0</td>\n",
       "      <td>2.292000e+08</td>\n",
       "      <td>4880.908507</td>\n",
       "    </tr>\n",
       "    <tr>\n",
       "      <th>Landslide</th>\n",
       "      <td>1277348</td>\n",
       "      <td>789</td>\n",
       "      <td>1.480567e+07</td>\n",
       "      <td>67417.0</td>\n",
       "      <td>1.125893e+10</td>\n",
       "      <td>36989.405750</td>\n",
       "    </tr>\n",
       "    <tr>\n",
       "      <th>Mass movement (dry)</th>\n",
       "      <td>93320</td>\n",
       "      <td>48</td>\n",
       "      <td>3.105800e+04</td>\n",
       "      <td>4644.0</td>\n",
       "      <td>2.090000e+08</td>\n",
       "      <td>2269.255805</td>\n",
       "    </tr>\n",
       "    <tr>\n",
       "      <th>Storm</th>\n",
       "      <td>5473348</td>\n",
       "      <td>4579</td>\n",
       "      <td>1.256494e+09</td>\n",
       "      <td>1403607.0</td>\n",
       "      <td>1.749046e+12</td>\n",
       "      <td>149355.146763</td>\n",
       "    </tr>\n",
       "    <tr>\n",
       "      <th>Volcanic activity</th>\n",
       "      <td>457628</td>\n",
       "      <td>269</td>\n",
       "      <td>1.004262e+07</td>\n",
       "      <td>86893.0</td>\n",
       "      <td>6.326912e+09</td>\n",
       "      <td>12030.182594</td>\n",
       "    </tr>\n",
       "    <tr>\n",
       "      <th>Wildfire</th>\n",
       "      <td>744227</td>\n",
       "      <td>453</td>\n",
       "      <td>1.836880e+07</td>\n",
       "      <td>4653.0</td>\n",
       "      <td>1.290320e+11</td>\n",
       "      <td>23624.803026</td>\n",
       "    </tr>\n",
       "  </tbody>\n",
       "</table>\n",
       "</div>"
      ],
      "text/plain": [
       "                          Year  Total Events  Total Affected  Total Deaths  \\\n",
       "Disaster Type                                                                \n",
       "Animal accident           2014             1    5.000000e+00          12.0   \n",
       "Drought                1543555           792    2.869852e+09    11733889.0   \n",
       "Earthquake             2134925          1576    2.052983e+08     2343594.0   \n",
       "Extreme temperature    1115693           607    1.038223e+08      194056.0   \n",
       "Flood                  7604541          5730    3.967537e+09     7002950.0   \n",
       "Fog                       1952             1    4.000000e+03        4000.0   \n",
       "Glacial lake outburst     4043             3    3.600000e+01         262.0   \n",
       "Insect infestation      183314            95    2.802200e+06           0.0   \n",
       "Landslide              1277348           789    1.480567e+07       67417.0   \n",
       "Mass movement (dry)      93320            48    3.105800e+04        4644.0   \n",
       "Storm                  5473348          4579    1.256494e+09     1403607.0   \n",
       "Volcanic activity       457628           269    1.004262e+07       86893.0   \n",
       "Wildfire                744227           453    1.836880e+07        4653.0   \n",
       "\n",
       "                       Total Damage (USD, original)            CPI  \n",
       "Disaster Type                                                       \n",
       "Animal accident                        0.000000e+00      87.366298  \n",
       "Drought                                2.098881e+11   43039.824471  \n",
       "Earthquake                             8.653494e+11   46522.663819  \n",
       "Extreme temperature                    6.886634e+10   38106.532522  \n",
       "Flood                                  9.771118e+11  239869.775450  \n",
       "Fog                                    0.000000e+00       9.822074  \n",
       "Glacial lake outburst                  2.100000e+08     100.000000  \n",
       "Insect infestation                     2.292000e+08    4880.908507  \n",
       "Landslide                              1.125893e+10   36989.405750  \n",
       "Mass movement (dry)                    2.090000e+08    2269.255805  \n",
       "Storm                                  1.749046e+12  149355.146763  \n",
       "Volcanic activity                      6.326912e+09   12030.182594  \n",
       "Wildfire                               1.290320e+11   23624.803026  "
      ]
     },
     "execution_count": 35,
     "metadata": {},
     "output_type": "execute_result"
    }
   ],
   "source": [
    "data.groupby('Disaster Type').sum()"
   ]
  },
  {
   "cell_type": "markdown",
   "id": "30e0d1a0",
   "metadata": {},
   "source": [
    "`.groupby()` kann auch auf mehrere Spalten gleichzeitig angewendet werden"
   ]
  },
  {
   "cell_type": "code",
   "execution_count": 36,
   "id": "61a1cf0b",
   "metadata": {
    "scrolled": true
   },
   "outputs": [
    {
     "data": {
      "text/plain": [
       "Disaster Type          Disaster Subtype                \n",
       "Animal accident        No Subtype                                12.0\n",
       "Drought                Drought                             11733812.0\n",
       "                       No Subtype                                77.0\n",
       "Earthquake             Ground movement                      2075949.0\n",
       "                       No Subtype                               221.0\n",
       "                       Tsunami                               267424.0\n",
       "Extreme temperature    Cold wave                              17765.0\n",
       "                       Heat wave                             172555.0\n",
       "                       Severe winter conditions                3736.0\n",
       "Flood                  Coastal flood                           5352.0\n",
       "                       Flash flood                            70835.0\n",
       "                       No Subtype                           2480837.0\n",
       "                       Riverine flood                       4445926.0\n",
       "Fog                    No Subtype                              4000.0\n",
       "Glacial lake outburst  No Subtype                               262.0\n",
       "Insect infestation     Grasshopper                                0.0\n",
       "                       Locust                                     0.0\n",
       "                       No Subtype                                 0.0\n",
       "Landslide              Avalanche                               5227.0\n",
       "                       Landslide                              41435.0\n",
       "                       Mudslide                                4913.0\n",
       "                       No Subtype                             15427.0\n",
       "                       Rockfall                                 128.0\n",
       "                       Subsidence                               287.0\n",
       "Mass movement (dry)    Avalanche                                349.0\n",
       "                       Landslide                               3774.0\n",
       "                       No Subtype                                10.0\n",
       "                       Rockfall                                 477.0\n",
       "                       Subsidence                                34.0\n",
       "Storm                  Convective storm                       22730.0\n",
       "                       Extra-tropical storm                     558.0\n",
       "                       No Subtype                             25135.0\n",
       "                       Tropical cyclone                     1355184.0\n",
       "Volcanic activity      Ash fall                               85831.0\n",
       "                       Lava flow                                 33.0\n",
       "                       No Subtype                               516.0\n",
       "                       Pyroclastic flow                         513.0\n",
       "Wildfire               Forest fire                             3334.0\n",
       "                       Land fire (Brush, Bush, Pasture)         966.0\n",
       "                       No Subtype                               353.0\n",
       "Name: Total Deaths, dtype: float64"
      ]
     },
     "execution_count": 36,
     "metadata": {},
     "output_type": "execute_result"
    }
   ],
   "source": [
    "data.groupby(['Disaster Type', 'Disaster Subtype'])['Total Deaths'].sum()"
   ]
  },
  {
   "cell_type": "markdown",
   "id": "1b8fce19",
   "metadata": {},
   "source": [
    "### Visualisierung"
   ]
  },
  {
   "cell_type": "code",
   "execution_count": 37,
   "id": "d31c1948",
   "metadata": {
    "scrolled": true
   },
   "outputs": [
    {
     "data": {
      "text/plain": [
       "<AxesSubplot: ylabel='Total Deaths'>"
      ]
     },
     "execution_count": 37,
     "metadata": {},
     "output_type": "execute_result"
    },
    {
     "data": {
      "image/png": "[encoded data removed]",
      "text/plain": [
       "<Figure size 640x480 with 1 Axes>"
      ]
     },
     "metadata": {},
     "output_type": "display_data"
    }
   ],
   "source": [
    "data.groupby('Disaster Type')['Total Deaths'].sum().plot(kind='pie')"
   ]
  },
  {
   "cell_type": "markdown",
   "id": "7ba15cb5",
   "metadata": {},
   "source": [
    "#### Welche Naturkatastrophen fordern die meisten Todesopfer in Deutschland?"
   ]
  },
  {
   "cell_type": "code",
   "execution_count": 38,
   "id": "b5f44033",
   "metadata": {
    "scrolled": true
   },
   "outputs": [
    {
     "data": {
      "text/plain": [
       "<AxesSubplot: ylabel='Total Deaths'>"
      ]
     },
     "execution_count": 38,
     "metadata": {},
     "output_type": "execute_result"
    },
    {
     "data": {
      "image/png": "[encoded data removed]",
      "text/plain": [
       "<Figure size 640x480 with 1 Axes>"
      ]
     },
     "metadata": {},
     "output_type": "display_data"
    }
   ],
   "source": [
    "germany_data = data[data['Country'] == 'Germany']\n",
    "germany_data.groupby('Disaster Type')['Total Deaths'].sum().plot(kind='pie')"
   ]
  },
  {
   "cell_type": "code",
   "execution_count": 39,
   "id": "7d3f22cc",
   "metadata": {
    "scrolled": true
   },
   "outputs": [
    {
     "data": {
      "text/plain": [
       "<AxesSubplot: ylabel='Total Deaths'>"
      ]
     },
     "execution_count": 39,
     "metadata": {},
     "output_type": "execute_result"
    },
    {
     "data": {
      "image/png": "[encoded data removed]",
      "text/plain": [
       "<Figure size 640x480 with 1 Axes>"
      ]
     },
     "metadata": {},
     "output_type": "display_data"
    }
   ],
   "source": [
    "data[data['Country'] == 'Germany'].groupby('Disaster Type')['Total Deaths'].sum().plot(kind='pie')"
   ]
  },
  {
   "cell_type": "markdown",
   "id": "831be8d4",
   "metadata": {},
   "source": [
    "#### Generelle Funktion"
   ]
  },
  {
   "cell_type": "code",
   "execution_count": 40,
   "id": "5f9d7b89",
   "metadata": {
    "scrolled": true
   },
   "outputs": [
    {
     "data": {
      "text/plain": [
       "<AxesSubplot: ylabel='Total Deaths'>"
      ]
     },
     "execution_count": 40,
     "metadata": {},
     "output_type": "execute_result"
    },
    {
     "data": {
      "image/png": "[encoded data removed]",
      "text/plain": [
       "<Figure size 640x480 with 1 Axes>"
      ]
     },
     "metadata": {},
     "output_type": "display_data"
    }
   ],
   "source": [
    "country = 'India'\n",
    "country_data = data[data['Country'] == country]\n",
    "country_data.groupby('Disaster Type')['Total Deaths'].sum().plot(kind='pie')"
   ]
  },
  {
   "cell_type": "code",
   "execution_count": 41,
   "id": "ed2fe77b",
   "metadata": {
    "scrolled": true
   },
   "outputs": [],
   "source": [
    "def plot_death_by_disastertype(data, country):\n",
    "    country_data = data[data['Country'] == country]\n",
    "    country_data.groupby('Disaster Type')['Total Deaths'].sum().plot(kind='pie')"
   ]
  },
  {
   "cell_type": "code",
   "execution_count": 42,
   "id": "414ccbb0",
   "metadata": {},
   "outputs": [
    {
     "data": {
      "image/png": "[encoded data removed]",
      "text/plain": [
       "<Figure size 640x480 with 1 Axes>"
      ]
     },
     "metadata": {},
     "output_type": "display_data"
    }
   ],
   "source": [
    "plot_death_by_disastertype(data, 'Egypt')"
   ]
  },
  {
   "cell_type": "markdown",
   "id": "969368ee",
   "metadata": {},
   "source": [
    "## Dashboard Teil III\n",
    "\n",
    "#### Wie hat sich die Anzahl der Naturkatastrophen über die Jahre hin entwickelt?"
   ]
  },
  {
   "cell_type": "markdown",
   "id": "9c012e7f",
   "metadata": {},
   "source": [
    "**Berechne für jedes Jahr die Summe aus allen `Events`**"
   ]
  },
  {
   "cell_type": "code",
   "execution_count": 43,
   "id": "4c798a37",
   "metadata": {},
   "outputs": [
    {
     "data": {
      "text/plain": [
       "Year\n",
       "1900      6\n",
       "1901      1\n",
       "1902     10\n",
       "1903     12\n",
       "1904      4\n",
       "       ... \n",
       "2018    320\n",
       "2019    404\n",
       "2020    395\n",
       "2021    432\n",
       "2022    315\n",
       "Name: Total Events, Length: 123, dtype: int64"
      ]
     },
     "execution_count": 43,
     "metadata": {},
     "output_type": "execute_result"
    }
   ],
   "source": [
    "data.groupby('Year')['Total Events'].sum()"
   ]
  },
  {
   "cell_type": "code",
   "execution_count": 44,
   "id": "70ea7baa",
   "metadata": {
    "scrolled": true
   },
   "outputs": [
    {
     "data": {
      "text/plain": [
       "14943"
      ]
     },
     "execution_count": 44,
     "metadata": {},
     "output_type": "execute_result"
    }
   ],
   "source": [
    "data['Total Events'].sum()"
   ]
  },
  {
   "cell_type": "code",
   "execution_count": 45,
   "id": "e4a170c5",
   "metadata": {
    "scrolled": true
   },
   "outputs": [
    {
     "data": {
      "text/html": [
       "<div>\n",
       "<style scoped>\n",
       "    .dataframe tbody tr th:only-of-type {\n",
       "        vertical-align: middle;\n",
       "    }\n",
       "\n",
       "    .dataframe tbody tr th {\n",
       "        vertical-align: top;\n",
       "    }\n",
       "\n",
       "    .dataframe thead th {\n",
       "        text-align: right;\n",
       "    }\n",
       "</style>\n",
       "<table border=\"1\" class=\"dataframe\">\n",
       "  <thead>\n",
       "    <tr style=\"text-align: right;\">\n",
       "      <th></th>\n",
       "      <th>Country</th>\n",
       "      <th>Disaster Subroup</th>\n",
       "      <th>Disaster Type</th>\n",
       "      <th>Disaster Subtype</th>\n",
       "      <th>Total Events</th>\n",
       "      <th>Total Affected</th>\n",
       "      <th>Total Deaths</th>\n",
       "      <th>Total Damage (USD, original)</th>\n",
       "      <th>CPI</th>\n",
       "    </tr>\n",
       "    <tr>\n",
       "      <th>Year</th>\n",
       "      <th></th>\n",
       "      <th></th>\n",
       "      <th></th>\n",
       "      <th></th>\n",
       "      <th></th>\n",
       "      <th></th>\n",
       "      <th></th>\n",
       "      <th></th>\n",
       "      <th></th>\n",
       "    </tr>\n",
       "  </thead>\n",
       "  <tbody>\n",
       "    <tr>\n",
       "      <th>1900</th>\n",
       "      <td>Cabo Verde</td>\n",
       "      <td>Climatological</td>\n",
       "      <td>Drought</td>\n",
       "      <td>Ash fall</td>\n",
       "      <td>1</td>\n",
       "      <td>30.0</td>\n",
       "      <td>30.0</td>\n",
       "      <td>30000000.0</td>\n",
       "      <td>3.077091</td>\n",
       "    </tr>\n",
       "    <tr>\n",
       "      <th>1901</th>\n",
       "      <td>Japan</td>\n",
       "      <td>Geophysical</td>\n",
       "      <td>Earthquake</td>\n",
       "      <td>Tsunami</td>\n",
       "      <td>1</td>\n",
       "      <td>24.0</td>\n",
       "      <td>18.0</td>\n",
       "      <td>NaN</td>\n",
       "      <td>3.077091</td>\n",
       "    </tr>\n",
       "    <tr>\n",
       "      <th>1902</th>\n",
       "      <td>Azerbaijan</td>\n",
       "      <td>Geophysical</td>\n",
       "      <td>Earthquake</td>\n",
       "      <td>Ash fall</td>\n",
       "      <td>1</td>\n",
       "      <td>125.0</td>\n",
       "      <td>86.0</td>\n",
       "      <td>25000000.0</td>\n",
       "      <td>3.200175</td>\n",
       "    </tr>\n",
       "    <tr>\n",
       "      <th>1903</th>\n",
       "      <td>Canada</td>\n",
       "      <td>Climatological</td>\n",
       "      <td>Drought</td>\n",
       "      <td>Ash fall</td>\n",
       "      <td>1</td>\n",
       "      <td>0.0</td>\n",
       "      <td>0.0</td>\n",
       "      <td>480000000.0</td>\n",
       "      <td>3.323258</td>\n",
       "    </tr>\n",
       "    <tr>\n",
       "      <th>1904</th>\n",
       "      <td>Bangladesh</td>\n",
       "      <td>Geophysical</td>\n",
       "      <td>Earthquake</td>\n",
       "      <td>Ground movement</td>\n",
       "      <td>1</td>\n",
       "      <td>0.0</td>\n",
       "      <td>0.0</td>\n",
       "      <td>NaN</td>\n",
       "      <td>3.323258</td>\n",
       "    </tr>\n",
       "    <tr>\n",
       "      <th>...</th>\n",
       "      <td>...</td>\n",
       "      <td>...</td>\n",
       "      <td>...</td>\n",
       "      <td>...</td>\n",
       "      <td>...</td>\n",
       "      <td>...</td>\n",
       "      <td>...</td>\n",
       "      <td>...</td>\n",
       "      <td>...</td>\n",
       "    </tr>\n",
       "    <tr>\n",
       "      <th>2018</th>\n",
       "      <td>Afghanistan</td>\n",
       "      <td>Climatological</td>\n",
       "      <td>Drought</td>\n",
       "      <td>Ash fall</td>\n",
       "      <td>1</td>\n",
       "      <td>0.0</td>\n",
       "      <td>0.0</td>\n",
       "      <td>36000.0</td>\n",
       "      <td>92.669670</td>\n",
       "    </tr>\n",
       "    <tr>\n",
       "      <th>2019</th>\n",
       "      <td>Afghanistan</td>\n",
       "      <td>Biological</td>\n",
       "      <td>Drought</td>\n",
       "      <td>Ash fall</td>\n",
       "      <td>1</td>\n",
       "      <td>0.0</td>\n",
       "      <td>0.0</td>\n",
       "      <td>4000000.0</td>\n",
       "      <td>94.349092</td>\n",
       "    </tr>\n",
       "    <tr>\n",
       "      <th>2020</th>\n",
       "      <td>Afghanistan</td>\n",
       "      <td>Biological</td>\n",
       "      <td>Drought</td>\n",
       "      <td>Ash fall</td>\n",
       "      <td>1</td>\n",
       "      <td>0.0</td>\n",
       "      <td>0.0</td>\n",
       "      <td>1500000.0</td>\n",
       "      <td>95.512967</td>\n",
       "    </tr>\n",
       "    <tr>\n",
       "      <th>2021</th>\n",
       "      <td>Afghanistan</td>\n",
       "      <td>Climatological</td>\n",
       "      <td>Drought</td>\n",
       "      <td>Ash fall</td>\n",
       "      <td>1</td>\n",
       "      <td>0.0</td>\n",
       "      <td>0.0</td>\n",
       "      <td>120000.0</td>\n",
       "      <td>100.000000</td>\n",
       "    </tr>\n",
       "    <tr>\n",
       "      <th>2022</th>\n",
       "      <td>Afghanistan</td>\n",
       "      <td>Climatological</td>\n",
       "      <td>Drought</td>\n",
       "      <td>Ash fall</td>\n",
       "      <td>1</td>\n",
       "      <td>0.0</td>\n",
       "      <td>0.0</td>\n",
       "      <td>240000.0</td>\n",
       "      <td>NaN</td>\n",
       "    </tr>\n",
       "  </tbody>\n",
       "</table>\n",
       "<p>123 rows × 9 columns</p>\n",
       "</div>"
      ],
      "text/plain": [
       "          Country Disaster Subroup Disaster Type Disaster Subtype  \\\n",
       "Year                                                                \n",
       "1900   Cabo Verde   Climatological       Drought         Ash fall   \n",
       "1901        Japan      Geophysical    Earthquake          Tsunami   \n",
       "1902   Azerbaijan      Geophysical    Earthquake         Ash fall   \n",
       "1903       Canada   Climatological       Drought         Ash fall   \n",
       "1904   Bangladesh      Geophysical    Earthquake  Ground movement   \n",
       "...           ...              ...           ...              ...   \n",
       "2018  Afghanistan   Climatological       Drought         Ash fall   \n",
       "2019  Afghanistan       Biological       Drought         Ash fall   \n",
       "2020  Afghanistan       Biological       Drought         Ash fall   \n",
       "2021  Afghanistan   Climatological       Drought         Ash fall   \n",
       "2022  Afghanistan   Climatological       Drought         Ash fall   \n",
       "\n",
       "      Total Events  Total Affected  Total Deaths  \\\n",
       "Year                                               \n",
       "1900             1            30.0          30.0   \n",
       "1901             1            24.0          18.0   \n",
       "1902             1           125.0          86.0   \n",
       "1903             1             0.0           0.0   \n",
       "1904             1             0.0           0.0   \n",
       "...            ...             ...           ...   \n",
       "2018             1             0.0           0.0   \n",
       "2019             1             0.0           0.0   \n",
       "2020             1             0.0           0.0   \n",
       "2021             1             0.0           0.0   \n",
       "2022             1             0.0           0.0   \n",
       "\n",
       "      Total Damage (USD, original)         CPI  \n",
       "Year                                            \n",
       "1900                    30000000.0    3.077091  \n",
       "1901                           NaN    3.077091  \n",
       "1902                    25000000.0    3.200175  \n",
       "1903                   480000000.0    3.323258  \n",
       "1904                           NaN    3.323258  \n",
       "...                            ...         ...  \n",
       "2018                       36000.0   92.669670  \n",
       "2019                     4000000.0   94.349092  \n",
       "2020                     1500000.0   95.512967  \n",
       "2021                      120000.0  100.000000  \n",
       "2022                      240000.0         NaN  \n",
       "\n",
       "[123 rows x 9 columns]"
      ]
     },
     "execution_count": 45,
     "metadata": {},
     "output_type": "execute_result"
    }
   ],
   "source": [
    "data.groupby('Year').min()"
   ]
  },
  {
   "cell_type": "code",
   "execution_count": 46,
   "id": "35496989",
   "metadata": {
    "scrolled": true
   },
   "outputs": [
    {
     "data": {
      "text/plain": [
       "Year\n",
       "1900      6\n",
       "1901      1\n",
       "1902     10\n",
       "1903     12\n",
       "1904      4\n",
       "       ... \n",
       "2018    320\n",
       "2019    404\n",
       "2020    395\n",
       "2021    432\n",
       "2022    315\n",
       "Name: Total Events, Length: 123, dtype: int64"
      ]
     },
     "execution_count": 46,
     "metadata": {},
     "output_type": "execute_result"
    }
   ],
   "source": [
    "data[['Total Events', 'Year']].groupby('Year')['Total Events'].sum()"
   ]
  },
  {
   "cell_type": "code",
   "execution_count": null,
   "id": "d7712420",
   "metadata": {
    "scrolled": false
   },
   "outputs": [],
   "source": [
    "yearly_events = data.groupby('Year')['Total Events'].sum()\n",
    "yearly_events.plot(kind='line', x='Year', y='Total Events', title='Anzahl an Naturkatastrophen pro Jahr')"
   ]
  },
  {
   "cell_type": "markdown",
   "id": "e1435bcd",
   "metadata": {},
   "source": [
    "**Plotte für Deutschland die Entwicklung der Anzahl an Naturkatastrophen über die Jahre hinweg**"
   ]
  },
  {
   "cell_type": "code",
   "execution_count": 48,
   "id": "cb4d9790",
   "metadata": {
    "scrolled": true
   },
   "outputs": [
    {
     "data": {
      "text/plain": [
       "<AxesSubplot: title={'center': 'Anzahl an Naturkatastrophen pro Jahr'}, xlabel='Year'>"
      ]
     },
     "execution_count": 48,
     "metadata": {},
     "output_type": "execute_result"
    },
    {
     "data": {
      "image/png": "[encoded data removed]",
      "text/plain": [
       "<Figure size 640x480 with 1 Axes>"
      ]
     },
     "metadata": {},
     "output_type": "display_data"
    }
   ],
   "source": [
    "yearly_events =germany_data.groupby('Year')['Total Events'].sum()\n",
    "yearly_events.plot(kind='line', x='Year', y='Total Events', title='Anzahl an Naturkatastrophen pro Jahr')"
   ]
  },
  {
   "cell_type": "markdown",
   "id": "609b8d41",
   "metadata": {},
   "source": [
    "**Generelle Funktion**"
   ]
  },
  {
   "cell_type": "code",
   "execution_count": 49,
   "id": "7d5589be",
   "metadata": {
    "scrolled": true
   },
   "outputs": [],
   "source": [
    "def plot_evolution(data, country):\n",
    "    land_data = data[data['Country'] == county]\n",
    "    yearly_events = land_data.groupby('Year')['Total Events'].sum()\n",
    "    yearly_events.plot(kind='line', x='Year', y='Total Events', title='Anzahl an Naturkatastrophen pro Jahr')"
   ]
  },
  {
   "cell_type": "markdown",
   "id": "7a95806d",
   "metadata": {},
   "source": [
    "## Länderdashboard"
   ]
  },
  {
   "cell_type": "code",
   "execution_count": 50,
   "id": "1a42939a",
   "metadata": {
    "scrolled": true
   },
   "outputs": [],
   "source": [
    "def plot_pie(country_data):\n",
    "    country_data.groupby('Disaster Type')['Total Deaths'].sum().plot(kind='pie', title='Anteil an getöten Menschen nach Naturkatastrophentyp')\n",
    "    plt.show()"
   ]
  },
  {
   "cell_type": "code",
   "execution_count": 51,
   "id": "a2f865f6",
   "metadata": {
    "scrolled": true
   },
   "outputs": [],
   "source": [
    "def plot_time_evolution(country_data):\n",
    "    yearly_events = country_data.groupby('Year')['Total Events'].sum()\n",
    "    yearly_events.plot(kind='line', x='Year', y='Total Events', title='Anzahl an Naturkatastrophen pro Jahr')\n",
    "    plt.show()"
   ]
  },
  {
   "cell_type": "code",
   "execution_count": 52,
   "id": "6b15a7fd",
   "metadata": {
    "scrolled": true
   },
   "outputs": [],
   "source": [
    "def death_overview(country_data):\n",
    "    total_deaths = country_data[\"Total Deaths\"].sum()\n",
    "    print(f'Getötete Menschen seit 1900: {total_deaths:,.0f}')"
   ]
  },
  {
   "cell_type": "code",
   "execution_count": 53,
   "id": "a40045ec",
   "metadata": {
    "scrolled": true
   },
   "outputs": [],
   "source": [
    "def compute_anteil(country_total, world_total):\n",
    "    anteil = round(country_total / (world_total / 100.0), 2)\n",
    "    print(f'{anteil}% aller Menschen die weltweit von Naturkatastrophen betroffen sind leben hier.')"
   ]
  },
  {
   "cell_type": "code",
   "execution_count": 54,
   "id": "409ea3bb",
   "metadata": {
    "scrolled": true
   },
   "outputs": [],
   "source": [
    "def analyze(data, country):\n",
    "    print(f'Naturkatastrophen in {country.upper()} \\n')\n",
    "    country_data = data[data['Country'] == country]\n",
    "    \n",
    "    # compute_anteil(country_data['Total Affected'].sum(), data['Total Affected'].sum())\n",
    "    text = death_overview(country_data)\n",
    "    plot_pie(country_data)\n",
    "    plot_time_evolution(country_data)"
   ]
  },
  {
   "cell_type": "code",
   "execution_count": 55,
   "id": "ee148b1a",
   "metadata": {
    "scrolled": true
   },
   "outputs": [
    {
     "name": "stdout",
     "output_type": "stream",
     "text": [
      "Naturkatastrophen in BANGLADESH \n",
      "\n",
      "Getötete Menschen seit 1900: 2,590,902\n"
     ]
    },
    {
     "data": {
      "image/png": "[encoded data removed]",
      "text/plain": [
       "<Figure size 640x480 with 1 Axes>"
      ]
     },
     "metadata": {},
     "output_type": "display_data"
    },
    {
     "data": {
      "image/png": "[encoded data removed]",
      "text/plain": [
       "<Figure size 640x480 with 1 Axes>"
      ]
     },
     "metadata": {},
     "output_type": "display_data"
    }
   ],
   "source": [
    "analyze(data, 'Bangladesh')"
   ]
  },
  {
   "cell_type": "markdown",
   "id": "d2a9d7a5",
   "metadata": {},
   "source": [
    "### Überblick über die Welt\n",
    "\n",
    "Wie können wir die selbstdefinierte Funktion `analyze()` anpassen, so dass auch eine Gesamtstatistik, die alle Länder der Welt enthält abgefragt werden kann?"
   ]
  },
  {
   "cell_type": "code",
   "execution_count": 137,
   "id": "4d215f83",
   "metadata": {
    "scrolled": true
   },
   "outputs": [],
   "source": [
    "def analyze(data, country):\n",
    "    print(f'Naturkatastrophen in {country.upper()} \\n')\n",
    "    country_data = data[data['Country'] == country]\n",
    "    if country == 'world':\n",
    "        country_data = data   \n",
    "    compute_anteil(country_data['Total Affected'].sum(), data['Total Affected'].sum())\n",
    "    death_overview(country_data)\n",
    "    plot_pie(country_data)\n",
    "    plot_time_evolution(country_data)"
   ]
  },
  {
   "cell_type": "code",
   "execution_count": 136,
   "id": "b2ef99a8",
   "metadata": {
    "scrolled": true
   },
   "outputs": [
    {
     "name": "stdout",
     "output_type": "stream",
     "text": [
      "Naturkatastrophen in WORLD \n",
      "\n",
      "100.0% aller Menschen die weltweit von Naturkatastrophen betroffen sind leben hier.\n",
      "Getötete Menschen seit 1900: 22,845,977\n"
     ]
    },
    {
     "data": {
      "image/png": "[encoded data removed]",
      "text/plain": [
       "<Figure size 640x480 with 1 Axes>"
      ]
     },
     "metadata": {},
     "output_type": "display_data"
    },
    {
     "data": {
      "image/png": "[encoded data removed]",
      "text/plain": [
       "<Figure size 640x480 with 1 Axes>"
      ]
     },
     "metadata": {},
     "output_type": "display_data"
    }
   ],
   "source": [
    "analyze(data, 'world')"
   ]
  },
  {
   "cell_type": "markdown",
   "id": "e74a7453",
   "metadata": {
    "slideshow": {
     "slide_type": "slide"
    }
   },
   "source": [
    "# Zeit für Feedback\n",
    "\n",
    "\n",
    "\n",
    "Link: https://ahaslides.com/HP3D5\n",
    "\n",
    "![Feedback QR Code](../imgs/qrcode_vl7.png)\n",
    "\n"
   ]
  },
  {
   "cell_type": "code",
   "execution_count": null,
   "id": "49d58eea",
   "metadata": {
    "scrolled": true
   },
   "outputs": [],
   "source": []
  }
 ],
 "metadata": {
  "celltoolbar": "Slideshow",
  "kernelspec": {
   "display_name": "Python 3 (ipykernel)",
   "language": "python",
   "name": "python3"
  },
  "language_info": {
   "codemirror_mode": {
    "name": "ipython",
    "version": 3
   },
   "file_extension": ".py",
   "mimetype": "text/x-python",
   "name": "python",
   "nbconvert_exporter": "python",
   "pygments_lexer": "ipython3",
   "version": "3.9.15"
  }
 },
 "nbformat": 4,
 "nbformat_minor": 5
}
