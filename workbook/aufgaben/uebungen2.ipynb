{
 "cells": [
  {
   "cell_type": "markdown",
   "id": "d1bfe66b",
   "metadata": {},
   "source": [
    "# String Methoden, Vergleichs- & boolsche Operatoren, if-elif-else\n",
    "Diese Aufgaben sind etwas anspruchsvoller. Probiert so weit wie möglich zu kommen. Falls ihr nicht weiter wisst probiert es mit einer Internetrecherche. Sonst reichen auch Lösungsansätze.\n",
    "## Strings und ihre Methoden\n",
    "Nutze die Methoden von Strings, um die gegebenen Anforderungen zu erfüllen."
   ],
   "outputs": []
  },
  {
   "cell_type": "code",
   "execution_count": 20,
   "outputs": [
    {
     "name": "stdout",
     "output_type": "stream",
     "text": [
      "['Apfel', 'Baum-Stamm']\n",
      "Georg Elser\n",
      "GeorgElser\n",
      "Ich bin schon 23 Jahre alt. Und 179 cm groß.\n",
      "Ich bin schon 23 Jahre alt. Und 179 cm groß.\n",
      "Alle reinen Klaviere ringen geraut besser.\n",
      "['HeuHeuHeuHeuHeuHeuHeuHeuHeuHeuHeuHeuHeuHeuHeuHeuHeuHeuHeuHeuHeuHeuHeuHeuHeuHeuHeuHeu', 'adelHeuHeuHeuHeuHeuHeuHeuHeuHeuHeuHeuHeuHeuHeuHeuHeuHeuHeuHeuHeuHeuHeuHeuHeuHeuHeuHeuHeuHeuHeuHeuHeuHeuHeuHeuHeuHeuHeuHeuHeuHeuHeuHeuHeuHeuHeuHeuHeuHeuHeuHeuHeuHeuHeuHeuHeu']\n",
      "Ja\n",
      "84\n",
      "HeuHeuHeuHeuHeuHeuHeuHeuHeuHeuHeuHeuHeuHeuHeuHeuHeuHeuHeuHeuHeuHeuHeuHeuHeuHeuHeuHeuNADELHeuHeuHeuHeuHeuHeuHeuHeuHeuHeuHeuHeuHeuHeuHeuHeuHeuHeuHeuHeuHeuHeuHeuHeuHeuHeuHeuHeuHeuHeuHeuHeuHeuHeuHeuHeuHeuHeuHeuHeuHeuHeuHeuHeuHeuHeuHeuHeuHeuHeuHeuHeuHeuHeuHeuHeu\n",
      "Ich bin ein Text.\n",
      "False\n"
     ]
    }
   ],
   "source": [
    "\"\"\"Trenne den Apfel vom Baum, aber den Baum nicht vom Stamm.\"\"\"\n",
    "a = \"Apfel-Baum-Stamm\"\n",
    "print(a.split('-', 1))\n",
    "\n",
    "'''Schreibe den Namen zusammen.'''\n",
    "b = ['Georg', 'Elser']\n",
    "# join() ist sozusagen die Umkehroperation von split().\n",
    "print(' '.join(b))\n",
    "print(b[0] + '' + b[1])\n",
    "'''Füge hier dein Alter ein.'''\n",
    "c = 'Ich bin schon {} Jahre alt. Und {} cm groß.'.format(23, 179)\n",
    "alter = 23\n",
    "# Mithilfe von f'' lassen sich Strings einfacher und übersichtlicher formatieren.\n",
    "print(f'Ich bin schon {alter} Jahre alt. Und {179} cm groß.')\n",
    "print(c)\n",
    "\n",
    "'''Ersetze alle 'kl' durch 'r'.'''\n",
    "d = \"Alle kleinen Klaviere klingen geklaut besser.\"\n",
    "print(d.replace('kl', 'r'))\n",
    "'''Finde die Nadel im Heuhaufen'''\n",
    "e = \"HeuHeuHeuHeuHeuHeuHeuHeuHeuHeuHeuHeuHeuHeuHeuHeuHeuHeuHeuHeuHeuHeuHeuHeuHeuHeuHeuHeuNadelHeuHeuHeuHeuHeuHeuHeuHeuHeuHeuHeuHeuHeuHeuHeuHeuHeuHeuHeuHeuHeuHeuHeuHeuHeuHeuHeuHeuHeuHeuHeuHeuHeuHeuHeuHeuHeuHeuHeuHeuHeuHeuHeuHeuHeuHeuHeuHeuHeuHeuHeuHeuHeuHeuHeuHeu\"\n",
    "print(e.split('N'))\n",
    "# Befindet sich überhaupt eine Nadel im Heuhaufen?\n",
    "if 'Nadel' in e:\n",
    "    print('Ja')\n",
    "# find() gibt uns den Turm\n",
    "print(e.find('Nadel'))\n",
    "# Großgeschrieben lässt sich die Nadel besser finden.\n",
    "print(e.replace('Nadel', 'NADEL'))\n",
    "# Die strip()-Methode kann vorallem verwendet werden, um Texte am Anfang und Ende zu bereinigen.\n",
    "print('         Ich bin ein Text.       '.strip())\n",
    "'''Überprüfe ob f nur aus Buchstaben besteht.'''\n",
    "f = 'ABCDEFGH1JKLMN0PQRSTUVWXYZ'\n",
    "print(f.isalpha())\n"
   ],
   "metadata": {
    "collapsed": false
   }
  },
  {
   "cell_type": "code",
   "execution_count": null,
   "outputs": [],
   "source": [],
   "metadata": {
    "collapsed": false
   }
  },
  {
   "cell_type": "markdown",
   "source": [
    "\n",
    "Gegeben ist der folgende Satz. Nutze die Methoden von Strings, um das Wort 'Ring' in Großbuchstaben zu schreiben."
   ],
   "metadata": {
    "collapsed": false
   }
  },
  {
   "cell_type": "code",
   "execution_count": 26,
   "outputs": [
    {
     "name": "stdout",
     "output_type": "stream",
     "text": [
      "Ein RING, sie zu knechten.\n",
      "['Ein', 'Drink,', 'sie', 'zu', 'knechten.']\n",
      "['Ein', 'DRINK,', 'sie', 'zu', 'knechten.']\n"
     ]
    },
    {
     "data": {
      "text/plain": "'Ein DRINK, sie zu knechten.'"
     },
     "execution_count": 26,
     "metadata": {},
     "output_type": "execute_result"
    }
   ],
   "source": [
    "satz = \"Ein Ring, sie zu knechten.\"\n",
    "satz1 = \"Ein Ding, sie zu knechten.\"\n",
    "satz5 = \"Ein Drink, sie zu knechten.\"\n",
    "print(satz.replace('Ring', 'RING'))\n",
    "\n",
    "# Alternativ: Wenn immer das zweite Wort in einem Satz verändert werden soll.\n",
    "token = satz5.split()\n",
    "print(token)\n",
    "token[1] = token[1].upper()\n",
    "print(token)\n",
    "' '.join(token)"
   ],
   "metadata": {
    "collapsed": false
   }
  },
  {
   "cell_type": "markdown",
   "source": [
    "## Was ist wahr in Python?\n",
    "Welche Werte werden von Python als wahr ausgewertet? Welche Regel steckt dahinter?\n"
   ],
   "metadata": {
    "collapsed": false
   }
  },
  {
   "cell_type": "code",
   "execution_count": 28,
   "outputs": [
    {
     "name": "stdout",
     "output_type": "stream",
     "text": [
      "True\n",
      "False\n",
      "True\n",
      "True\n",
      "False\n",
      "Hallo\n"
     ]
    },
    {
     "ename": "ValueError",
     "evalue": "list.remove(x): x not in list",
     "output_type": "error",
     "traceback": [
      "\u001B[0;31m---------------------------------------------------------------------------\u001B[0m",
      "\u001B[0;31mValueError\u001B[0m                                Traceback (most recent call last)",
      "Cell \u001B[0;32mIn [28], line 18\u001B[0m\n\u001B[1;32m     16\u001B[0m \u001B[38;5;28;01mif\u001B[39;00m e:\n\u001B[1;32m     17\u001B[0m     \u001B[38;5;28mprint\u001B[39m(\u001B[38;5;124m'\u001B[39m\u001B[38;5;124mHallo\u001B[39m\u001B[38;5;124m'\u001B[39m)\n\u001B[0;32m---> 18\u001B[0m     e\u001B[38;5;241m.\u001B[39mremove(\u001B[38;5;241m0\u001B[39m)\n\u001B[1;32m     19\u001B[0m \u001B[38;5;28;01mif\u001B[39;00m e:\n\u001B[1;32m     20\u001B[0m     \u001B[38;5;28mprint\u001B[39m(\u001B[38;5;124m'\u001B[39m\u001B[38;5;124mHallo\u001B[39m\u001B[38;5;124m'\u001B[39m)\n",
      "\u001B[0;31mValueError\u001B[0m: list.remove(x): x not in list"
     ]
    }
   ],
   "source": [
    "a = 20\n",
    "b = 0\n",
    "c = 'False'\n",
    "d = 0.1\n",
    "e = []\n",
    "f = ''\n",
    "g = None\n",
    "\n",
    "print(bool(a))\n",
    "print(bool(b))\n",
    "print(bool(c))\n",
    "print(bool(d))\n",
    "print(bool(e))"
   ],
   "metadata": {
    "collapsed": false
   }
  },
  {
   "cell_type": "markdown",
   "source": [
    "## Ein Gleichnis\n",
    "Gegeben sind fünf Thesen. Überprüfe mithilfe der Vergleichsoperatoren, die in der Vorlesung vorgestellt wurden, ob sie wahr sind."
   ],
   "metadata": {
    "collapsed": false
   }
  },
  {
   "cell_type": "code",
   "execution_count": 38,
   "outputs": [
    {
     "name": "stdout",
     "output_type": "stream",
     "text": [
      "True\n",
      "True\n",
      "False\n",
      "False\n",
      "False\n",
      "False\n"
     ]
    },
    {
     "ename": "TypeError",
     "evalue": "'>' not supported between instances of 'str' and 'int'",
     "output_type": "error",
     "traceback": [
      "\u001B[0;31m---------------------------------------------------------------------------\u001B[0m",
      "\u001B[0;31mTypeError\u001B[0m                                 Traceback (most recent call last)",
      "Cell \u001B[0;32mIn [38], line 19\u001B[0m\n\u001B[1;32m     16\u001B[0m \u001B[38;5;28mprint\u001B[39m(\u001B[38;5;241m10\u001B[39m\u001B[38;5;241m*\u001B[39m\u001B[38;5;241m83\u001B[39m \u001B[38;5;241m<\u001B[39m \u001B[38;5;241m161\u001B[39m)\n\u001B[1;32m     18\u001B[0m \u001B[38;5;28mprint\u001B[39m(\u001B[38;5;124m'\u001B[39m\u001B[38;5;124mHallo\u001B[39m\u001B[38;5;124m'\u001B[39m \u001B[38;5;241m==\u001B[39m \u001B[38;5;124m'\u001B[39m\u001B[38;5;124mHalli\u001B[39m\u001B[38;5;124m'\u001B[39m)\n\u001B[0;32m---> 19\u001B[0m \u001B[38;5;28mprint\u001B[39m(\u001B[38;5;124m'\u001B[39m\u001B[38;5;124mHallo\u001B[39m\u001B[38;5;124m'\u001B[39m \u001B[38;5;241m>\u001B[39m \u001B[38;5;241m123\u001B[39m)\n",
      "\u001B[0;31mTypeError\u001B[0m: '>' not supported between instances of 'str' and 'int'"
     ]
    }
   ],
   "source": [
    "\"\"\"These 1:\n",
    "Das doppelte von zehn ist mindestens so groß wie das dreifache von fünf.\"\"\"\n",
    "print(2*10 >= 3*5)\n",
    "\"\"\"\n",
    "These 2:\n",
    "13 zum Quadrat ist genau 169.\"\"\"\n",
    "print(13**2 == 169)\n",
    "\"\"\"These 3:\n",
    "Drei mal acht ist nicht das gleiche wie vier mal sechs.\"\"\"\n",
    "print(3*8 != 4*6)\n",
    "\"\"\"These 4:\n",
    "Fünf geteilt durch zwei ist weniger als dreimal ein halb.\"\"\"\n",
    "print(5/2 < 3*0.5)\n",
    "\"\"\"These 5:\n",
    "Das zehnfache von 83 ist niemals so groß wie das fünffache von 161.\"\"\"\n",
    "print(10*83 < 161)\n",
    "\n"
   ],
   "metadata": {
    "collapsed": false
   }
  },
  {
   "cell_type": "markdown",
   "source": [
    "## Operation Wahrheit\n",
    "Mithilfe der (aussagen-)logischen Operatoren **not**, **or** und **and** können boolesche Werte ausgewertet werden. Ergänze diese Operatoren in den folgenden **if**-Abfragen, sodass ein bekannter Liedtext ausgegeben wird.\n"
   ],
   "metadata": {
    "collapsed": false
   }
  },
  {
   "cell_type": "code",
   "execution_count": 39,
   "outputs": [
    {
     "name": "stdout",
     "output_type": "stream",
     "text": [
      "Griechischer Wein ist so wie das Blut der Erde\n",
      "Komm, schenk dir ein\n",
      "Und wenn ich dann traurig werde\n",
      "Liegt es daran, dass ich immer träume von daheim\n",
      "Du musst verzeihn.\n"
     ]
    }
   ],
   "source": [
    "if not(3 < 5 and 64 > 66):\n",
    "    print('Griechischer Wein ist so wie das Blut der Erde')\n",
    "if  not len('') == 1:\n",
    "    print('Komm, schenk dir ein')\n",
    "if not ('Hallo' or 'False'):\n",
    "    print('Ich bau ein Schloss')\n",
    "if True or False:\n",
    "    print('Und wenn ich dann traurig werde')\n",
    "if not 97 == 22:\n",
    "    print('Liegt es daran, dass ich immer träume von daheim')\n",
    "if 0 and 1 and 2:\n",
    "    print('Morgen Kinder wirds nix geben.')\n",
    "if False or True and False or True:\n",
    "    print('Du musst verzeihn.')\n",
    "\n",
    "\n"
   ],
   "metadata": {
    "collapsed": false
   }
  },
  {
   "cell_type": "markdown",
   "source": [
    "\n",
    "# Kontrollstrukturen\n"
   ],
   "metadata": {
    "collapsed": false
   }
  },
  {
   "cell_type": "markdown",
   "source": [
    "Schreibe ein **if**-Statement welches prüft, ob eine Zahl positiv, negativ oder gleich null ist. Gebe als Ausgabe den Satz \"x ist positiv/negativ/null.\" entsprechend dem jeweiligen Fall aus. X soll dabei durch die überprüfte Zahl ersetzt werden.\n"
   ],
   "metadata": {
    "collapsed": false
   }
  },
  {
   "cell_type": "code",
   "execution_count": 40,
   "outputs": [
    {
     "name": "stdout",
     "output_type": "stream",
     "text": [
      "64.0 ist positiv\n"
     ]
    }
   ],
   "source": [
    "x = float(input('Deine Zahl ist:'))\n",
    "\n",
    "text = '{} ist {}'\n",
    "\n",
    "if x > 0:\n",
    "    text = text.format(x, 'positiv')\n",
    "elif x < 0:\n",
    "    text = text.format(x, 'negativ')\n",
    "else:\n",
    "    text = text.format(x, '0')\n",
    "\n",
    "print(text)\n",
    "\n"
   ],
   "metadata": {
    "collapsed": false
   }
  },
  {
   "cell_type": "code",
   "execution_count": null,
   "outputs": [],
   "source": [],
   "metadata": {
    "collapsed": false
   }
  }
 ],
 "metadata": {
  "celltoolbar": "Tags",
  "kernelspec": {
   "display_name": "Python 3 (ipykernel)",
   "language": "python",
   "name": "python3"
  },
  "language_info": {
   "codemirror_mode": {
    "name": "ipython",
    "version": 3
   },
   "file_extension": ".py",
   "mimetype": "text/x-python",
   "name": "python",
   "nbconvert_exporter": "python",
   "pygments_lexer": "ipython3",
   "version": "3.9.13"
  },
  "livereveal": {
   "autolaunch": true
  },
  "vscode": {
   "interpreter": {
    "hash": "f9f85f796d01129d0dd105a088854619f454435301f6ffec2fea96ecbd9be4ac"
   }
  }
 },
 "nbformat": 4,
 "nbformat_minor": 5
}
