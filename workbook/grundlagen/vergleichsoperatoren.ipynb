{
 "cells": [
  {
   "cell_type": "markdown",
   "id": "ba1670e7",
   "metadata": {
    "slideshow": {
     "slide_type": "slide"
    }
   },
   "source": [
    "# Vergleichsoperatoren\n",
    "\n",
    "Vergleichsoperatoren helfen Werte miteinander zu vergleichen. Vergleiche evaluieren immer zu Wahrheitswerten (`Boolean`).\n",
    "\n",
    "| Operator  | Beschreibung  | \n",
    "|----------|:-------------  |\n",
    "| == |  ist gleich |\n",
    "| != |  ist ungleich |\n",
    "| > | ist größer |\n",
    "| < | ist kleiner |\n",
    "| >=\t| ist größer oder gleich |\n",
    "| <= |\tist kleiner oder gleich|\n",
    "\n"
   ]
  },
  {
   "cell_type": "code",
   "execution_count": 4,
   "id": "52786cae",
   "metadata": {
    "slideshow": {
     "slide_type": "fragment"
    }
   },
   "outputs": [
    {
     "name": "stdout",
     "output_type": "stream",
     "text": [
      "True\n",
      "<class 'bool'>\n"
     ]
    }
   ],
   "source": [
    "# Ungleichheit\n",
    "a = 7\n",
    "b = 8\n",
    "var = a != b\n",
    "print(var)\n",
    "print(type(var))\n"
   ]
  },
  {
   "cell_type": "code",
   "execution_count": 5,
   "id": "06ae0fdf",
   "metadata": {
    "slideshow": {
     "slide_type": "fragment"
    }
   },
   "outputs": [
    {
     "name": "stdout",
     "output_type": "stream",
     "text": [
      "False\n",
      "<class 'bool'>\n"
     ]
    }
   ],
   "source": [
    "# Gleichheit\n",
    "a = 'Staphylococcus aureus'\n",
    "b = 'Staphylococcus aireus'\n",
    "var = a == b\n",
    "print(var)\n",
    "print(type(var))\n"
   ]
  },
  {
   "cell_type": "code",
   "execution_count": 8,
   "id": "0c3262d0",
   "metadata": {},
   "outputs": [
    {
     "name": "stdout",
     "output_type": "stream",
     "text": [
      "False\n"
     ]
    }
   ],
   "source": [
    "# Größer und Größer gleich\n",
    "print(10 > 10)\n",
    "print(10 >= 10)"
   ]
  },
  {
   "cell_type": "code",
   "execution_count": null,
   "id": "c5a3a1e6",
   "metadata": {},
   "outputs": [],
   "source": []
  }
 ],
 "metadata": {
  "kernelspec": {
   "display_name": "Python 3 (ipykernel)",
   "language": "python",
   "name": "python3"
  },
  "language_info": {
   "codemirror_mode": {
    "name": "ipython",
    "version": 3
   },
   "file_extension": ".py",
   "mimetype": "text/x-python",
   "name": "python",
   "nbconvert_exporter": "python",
   "pygments_lexer": "ipython3",
   "version": "3.9.13"
  }
 },
 "nbformat": 4,
 "nbformat_minor": 5
}
