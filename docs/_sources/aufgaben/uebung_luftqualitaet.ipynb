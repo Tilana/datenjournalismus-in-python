{
 "cells": [
  {
   "cell_type": "markdown",
   "metadata": {
    "slideshow": {
     "slide_type": "slide"
    }
   },
   "source": [
    "# Analyse der Luftqualität in Leipzig\n",
    "\n",
    "Wir analysieren die Luftqualität in Leipzig basierend auf den Daten des [Geoportals Leipzig](https://geoportal.leipzig.de/arcgis/apps/experiencebuilder/experience/?id=9a13182739c74c228ff27a0ec8fb7202)\n",
    "\n",
    "Python Grundlagen:\n",
    "- Listen\n",
    "- if-Bedingungen\n",
    "- For-Schleifen."
   ]
  },
  {
   "cell_type": "markdown",
   "metadata": {
    "slideshow": {
     "slide_type": "slide"
    }
   },
   "source": [
    "![Luftqualitätsmonitor in Leipzig](../../imgs/luftqualitaet_leipzig.png)\n",
    "\n"
   ]
  },
  {
   "cell_type": "markdown",
   "metadata": {
    "slideshow": {
     "slide_type": "slide"
    }
   },
   "source": [
    "## Hintergrund PM10\n",
    "\n",
    "Atmosphärische Partikel (PM) sind mikroskopische feste oder flüssige Materie, die in der Luft suspendiert sind. [...] Von größter Bedeutung für die Bevölkerungsgesundheit sind die Partikel, die klein genug sind, um in die tiefsten Teile der Lunge eingeatmet zu werden. Diese **Partikel haben einen Durchmesser von weniger als 10 Mikrometer** (ungefähr 1/7 der Dicke eines menschlichen Haares) und sind als PM10 definiert. PM10 ist eine **Mischung aus Materialien wie Rauch, Ruß, Staub, Salz, Säuren und Metallen.** [...] PM10 wird häufig als Nebel wahrgenommen, den man auch als **Smog** bezeichnet. **PM10 gehört zu den schädlichsten aller Luftschadstoffe**, da\n",
    "\n",
    "- PM10 kann die Anzahl und den Schweregrad von Asthmaanfällen erhöhen\n",
    "- PM10 verursacht oder verschlimmert Bronchitis und andere Lungenerkrankungen\n",
    "- PM10 reduziert die Fähigkeit des Körpers, Infektionen zu bekämpfen\n",
    "\n",
    "Quelle: https://www.meteoblue.com/de/wetter/outdoorsports/airquality/leipzig_deutschland_2879139"
   ]
  },
  {
   "cell_type": "markdown",
   "metadata": {
    "slideshow": {
     "slide_type": "slide"
    }
   },
   "source": [
    "## PM10 Daten"
   ]
  },
  {
   "cell_type": "code",
   "execution_count": 1,
   "metadata": {
    "slideshow": {
     "slide_type": "fragment"
    }
   },
   "outputs": [
    {
     "name": "stdout",
     "output_type": "stream",
     "text": [
      "[15, 15, 16, 19, 23, 23, 40, 37, 38, 29, 16]\n",
      "<class 'list'>\n"
     ]
    }
   ],
   "source": [
    "# Feinstaub PM10 in Mikrometer / Kubikmeter\n",
    "pm10 = [15, 15, 16, 19, 23, 23, 40, 37, 38, 29, 16]"
   ]
  },
  {
   "cell_type": "markdown",
   "metadata": {
    "slideshow": {
     "slide_type": "slide"
    }
   },
   "source": [
    "## Luftqualität Leipzig - Erste Analyse\n",
    "\n",
    "- Wie viele Messungen sind vorhanden?\n",
    "\n",
    "- Was ist der maximale Feinstaubwert? Welcher der minimale? Was der Durchschnittswert?\n",
    "\n"
   ]
  },
  {
   "cell_type": "code",
   "execution_count": 2,
   "metadata": {
    "slideshow": {
     "slide_type": "fragment"
    }
   },
   "outputs": [],
   "source": [
    "# Wie viele PM10 Wert Messungen sind in den Daten?\n"
   ]
  },
  {
   "cell_type": "markdown",
   "metadata": {
    "slideshow": {
     "slide_type": "slide"
    }
   },
   "source": [
    "### Grundlegende Statistik"
   ]
  },
  {
   "cell_type": "code",
   "execution_count": 4,
   "metadata": {
    "slideshow": {
     "slide_type": "fragment"
    }
   },
   "outputs": [],
   "source": [
    "# Berechne den maximalen PM10 Wert"
   ]
  },
  {
   "cell_type": "code",
   "execution_count": 5,
   "metadata": {
    "slideshow": {
     "slide_type": "fragment"
    }
   },
   "outputs": [],
   "source": [
    "# Berechne den minimalen PM10 Wert\n"
   ]
  },
  {
   "cell_type": "code",
   "execution_count": 6,
   "metadata": {
    "slideshow": {
     "slide_type": "fragment"
    }
   },
   "outputs": [],
   "source": [
    "# Berechne den durchschnittlichen PM10 Wert\n"
   ]
  },
  {
   "cell_type": "code",
   "execution_count": 7,
   "metadata": {
    "slideshow": {
     "slide_type": "slide"
    }
   },
   "outputs": [],
   "source": [
    "# Wie häufig sind die Min / Max Messwerte?"
   ]
  },
  {
   "cell_type": "code",
   "execution_count": 8,
   "metadata": {
    "slideshow": {
     "slide_type": "fragment"
    }
   },
   "outputs": [],
   "source": [
    "# An welchem Tag (nach Beginn der Messung) wurde der maximale Wert erreicht?"
   ]
  },
  {
   "cell_type": "code",
   "execution_count": 9,
   "metadata": {
    "slideshow": {
     "slide_type": "slide"
    }
   },
   "outputs": [],
   "source": [
    "# Sortiere die pm10 Werte aufsteigend\n",
    "\n",
    "\n",
    "# Sortiere die pm10 Werte absteigend"
   ]
  },
  {
   "cell_type": "markdown",
   "metadata": {},
   "source": [
    "## Warnsystem\n",
    "\n",
    "Ziel: Ein Warnsystem falls die Luftqualität in den gelben Bereich abrutscht.\n",
    "\n",
    "![Warnsystem](../../imgs/qualitaetsindex.png)\n",
    "\n",
    "\n"
   ]
  },
  {
   "cell_type": "code",
   "execution_count": 10,
   "metadata": {},
   "outputs": [],
   "source": [
    "pm10 = [15, 15, 16, 19, 23, 23, 40, 37, 38, 29, 16]"
   ]
  },
  {
   "cell_type": "code",
   "execution_count": 11,
   "metadata": {},
   "outputs": [],
   "source": [
    "# 1. Schritt: Gib jeden Messwert aus\n"
   ]
  },
  {
   "cell_type": "code",
   "execution_count": 12,
   "metadata": {
    "scrolled": true
   },
   "outputs": [],
   "source": [
    "# 2. Schritt: Falls die Schwelle von 36 Mikrogramm PM10 erreicht werden gib eine Warnung aus\n"
   ]
  },
  {
   "cell_type": "markdown",
   "metadata": {},
   "source": [
    " ## Aufgaben:\n",
    " \n",
    " Angenommen:\n",
    " \n",
    " (1) Die Stadt Leipzig verkündet, dasss die Messstation falsch geeicht wurden und alle Werte zum 1,3 µg/m³ zu niedrig sind.\n",
    "    Erstelle eine neue Liste mit den angepassten Messwerten\n",
    "    \n",
    " (2) Werte von über 36 µg/m³ sind gesundheitsschädlich. Wie oft wurden diese Grenze überschritten?\n",
    " \n",
    " (3) Wie weit liegen die Messwerte über oder unter der Grenze von 36 µg/m³"
   ]
  },
  {
   "cell_type": "code",
   "execution_count": 13,
   "metadata": {},
   "outputs": [],
   "source": [
    "# (1) Korrektur der Messwerte\n"
   ]
  },
  {
   "cell_type": "code",
   "execution_count": 14,
   "metadata": {},
   "outputs": [],
   "source": [
    "# (2) Gesundheitsschädliche Werte\n"
   ]
  },
  {
   "cell_type": "code",
   "execution_count": 15,
   "metadata": {},
   "outputs": [],
   "source": [
    "# (3) Differenz zur Grenze\n"
   ]
  }
 ],
 "metadata": {
  "celltoolbar": "Slideshow",
  "kernelspec": {
   "display_name": "Python 3",
   "language": "python",
   "name": "python3"
  },
  "language_info": {
   "codemirror_mode": {
    "name": "ipython",
    "version": 3
   },
   "file_extension": ".py",
   "mimetype": "text/x-python",
   "name": "python",
   "nbconvert_exporter": "python",
   "pygments_lexer": "ipython3",
   "version": "3.7.3"
  },
  "vscode": {
   "interpreter": {
    "hash": "f9f85f796d01129d0dd105a088854619f454435301f6ffec2fea96ecbd9be4ac"
   }
  }
 },
 "nbformat": 4,
 "nbformat_minor": 5
}
