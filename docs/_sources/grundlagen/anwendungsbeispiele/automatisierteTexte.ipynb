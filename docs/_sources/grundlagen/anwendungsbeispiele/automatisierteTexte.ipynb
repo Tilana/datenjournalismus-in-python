{
 "cells": [
  {
   "cell_type": "markdown",
   "metadata": {
    "slideshow": {
     "slide_type": "slide"
    }
   },
   "source": [
    "# Automatisierte Texte\n",
    "\n",
    "Wir automatisieren Texte und lernen dabei:\n",
    "\n",
    "- mit strings und ihren Methoden umzugehen\n",
    "- Vergleichsoperatoren und deren Verknüpfung\n",
    "- neue Kontrollstrukturen, wie die if-else Bedingungen, kennen\n",
    "\n"
   ]
  },
  {
   "cell_type": "markdown",
   "metadata": {
    "cell_style": "split",
    "slideshow": {
     "slide_type": "slide"
    }
   },
   "source": [
    "## Automatisierte Wahlberichterstattung\n",
    "\n",
    "\n",
    "- Ergebnisse der Landtagswahlen für jeden Wahlkreis und jede Gemeinde in NRW\n",
    "\n",
    "- über 500 Artikel in unterschiedlichen Zuständen (Vorbericht, vorläufiges Ergebnis, amtliches Endergebnis)\n",
    "\n",
    "- redaktionell ist dies am Wahlabend nicht umsetzbar\n",
    "\n"
   ]
  },
  {
   "cell_type": "markdown",
   "metadata": {
    "cell_style": "split"
   },
   "source": [
    "\n",
    "![Automatisierte Wahlberichterstattung - WDR](../../../imgs/wdr_autom_bericht.png)"
   ]
  },
  {
   "cell_type": "markdown",
   "metadata": {
    "slideshow": {
     "slide_type": "slide"
    }
   },
   "source": [
    "### Los geht's..."
   ]
  },
  {
   "cell_type": "code",
   "execution_count": null,
   "metadata": {
    "slideshow": {
     "slide_type": "fragment"
    }
   },
   "outputs": [],
   "source": [
    "titel = 'Wahlen in Leipzig'\n",
    "print(titel)"
   ]
  },
  {
   "cell_type": "code",
   "execution_count": null,
   "metadata": {
    "slideshow": {
     "slide_type": "slide"
    }
   },
   "outputs": [],
   "source": [
    "# mit veränderbarem Stadtnamen\n",
    "stadt = 'Görlitz'\n",
    "titel = f'Wahlen in {stadt}'\n",
    "print(titel)"
   ]
  },
  {
   "cell_type": "code",
   "execution_count": null,
   "metadata": {
    "slideshow": {
     "slide_type": "fragment"
    }
   },
   "outputs": [],
   "source": [
    "stadt = 'Görlitz'\n",
    "titel = f'Wahlen in {stadt}'\n",
    "teaser = f'In {stadt} wurde heute gewählt. ...'\n",
    "print(titel, teaser, sep='\\n\\n')\n"
   ]
  },
  {
   "cell_type": "markdown",
   "metadata": {
    "slideshow": {
     "slide_type": "slide"
    }
   },
   "source": [
    "Wie können wir den Titel in Großbuchstaben ausgeben?"
   ]
  },
  {
   "cell_type": "code",
   "execution_count": null,
   "metadata": {
    "scrolled": true,
    "slideshow": {
     "slide_type": "fragment"
    }
   },
   "outputs": [],
   "source": [
    "stadt = 'Görlitz'\n",
    "titel = f'WAHLEN IN {stadt}'\n",
    "teaser = f'In {stadt} wurde heute gewählt. ...'\n",
    "print(titel, teaser, sep='\\n\\n')\n"
   ]
  },
  {
   "cell_type": "code",
   "execution_count": null,
   "metadata": {
    "slideshow": {
     "slide_type": "fragment"
    }
   },
   "outputs": [],
   "source": [
    "stadt = 'Görlitz'\n",
    "titel = f'Wahlen in {stadt}'\n",
    "teaser = f'In {stadt} wurde heute gewählt. ...'\n",
    "print(titel.upper(), teaser, sep='\\n\\n')\n"
   ]
  },
  {
   "cell_type": "markdown",
   "metadata": {
    "slideshow": {
     "slide_type": "slide"
    }
   },
   "source": [
    "## Titel und Teaser...\n",
    "\n",
    "...diesmal mit .format() anstatt f-strings"
   ]
  },
  {
   "cell_type": "code",
   "execution_count": null,
   "metadata": {
    "slideshow": {
     "slide_type": "fragment"
    }
   },
   "outputs": [],
   "source": [
    "# Titel und Teaser\n",
    "stadt = 'Görlitz'\n",
    "\n",
    "titel = 'Wahlen in {}'.format(stadt)\n",
    "teaser = 'In {} wurde heute gewählt.'.format(stadt)\n",
    "\n",
    "print(titel, teaser, sep='\\n\\n')"
   ]
  },
  {
   "cell_type": "code",
   "execution_count": null,
   "metadata": {
    "slideshow": {
     "slide_type": "slide"
    }
   },
   "outputs": [],
   "source": [
    "# Text\n",
    "kandidatin = 'Marianne Klingenstein'\n",
    "prozent = 37.4\n",
    "\n",
    "text = '{} gewinnt mit {} Prozent der Stimmen.'.format(kandidatin, prozent)\n",
    "\n",
    "print(text)"
   ]
  },
  {
   "cell_type": "code",
   "execution_count": null,
   "metadata": {
    "slideshow": {
     "slide_type": "fragment"
    }
   },
   "outputs": [],
   "source": [
    "artikel = teaser + text\n",
    "\n",
    "print(titel.upper(), artikel, sep='\\n\\n')"
   ]
  },
  {
   "cell_type": "code",
   "execution_count": null,
   "metadata": {
    "slideshow": {
     "slide_type": "fragment"
    }
   },
   "outputs": [],
   "source": [
    "artikel = teaser + ' ' + text\n",
    "\n",
    "print(titel.upper(), artikel, sep='\\n\\n')"
   ]
  },
  {
   "cell_type": "markdown",
   "metadata": {
    "slideshow": {
     "slide_type": "slide"
    }
   },
   "source": [
    "## Was wenn mehrere Kandidat:innen antreten?"
   ]
  },
  {
   "cell_type": "code",
   "execution_count": null,
   "metadata": {
    "slideshow": {
     "slide_type": "fragment"
    }
   },
   "outputs": [],
   "source": [
    "kandidatin1 = 'Helmut Wiese'\n",
    "prozent1 = 23.8\n",
    "\n",
    "kandidatin2 = 'Gundula Lobrecht'\n",
    "prozent2 = 17.4\n",
    "\n",
    "text = '{} gewinnt mit {} Prozent der Stimmen.'\n",
    "\n",
    "if prozent1 > prozent2:\n",
    "    text = text.format(kandidatin1, prozent1)\n",
    "else:\n",
    "    text = text.format(kandidatin2, prozent2)\n",
    "    \n",
    "print(text)\n"
   ]
  },
  {
   "cell_type": "markdown",
   "metadata": {
    "slideshow": {
     "slide_type": "slide"
    }
   },
   "source": [
    "## Was passiert bei Gleichstand?"
   ]
  },
  {
   "cell_type": "code",
   "execution_count": null,
   "metadata": {
    "slideshow": {
     "slide_type": "fragment"
    }
   },
   "outputs": [],
   "source": [
    "kandidat1 = 'Helmut Wiese'\n",
    "prozent1 = 29.5\n",
    "\n",
    "kandidat2 = 'Gundula Lobrecht'\n",
    "prozent2 = 29.5\n",
    "\n",
    "text = '{} gewinnt mit {} Prozent der Stimmen.'\n",
    "\n",
    "if prozent1 > prozent2:\n",
    "    text = text.format(kandidat1, prozent1)\n",
    "else:\n",
    "    text = text.format(kandidat2, prozent2)\n",
    "    \n",
    "print(text)\n"
   ]
  },
  {
   "cell_type": "code",
   "execution_count": null,
   "metadata": {
    "slideshow": {
     "slide_type": "slide"
    }
   },
   "outputs": [],
   "source": [
    "kandidat1 = 'Helmut Wiese'\n",
    "prozent1 = 29.5\n",
    "\n",
    "kandidat2 = 'Gundula Lobrecht'\n",
    "prozent2 = 29.5\n",
    "\n",
    "text = '{} gewinnt mit {} Prozent der Stimmen.'\n",
    "\n",
    "if prozent1 > prozent2:\n",
    "    text = text.format(kandidat1, prozent1)\n",
    "elif prozent1 < prozent2:\n",
    "    text = text.format(kandidat2, prozent2)\n",
    "else:\n",
    "    text = 'Die Wahl ist unentschieden. {} und {} erhalten beide {} Prozent der Stimmen.'\n",
    "    text = text.format(kandidat1, kandidat2, prozent1)\n",
    "    \n",
    "print(text)\n"
   ]
  },
  {
   "cell_type": "code",
   "execution_count": null,
   "metadata": {
    "slideshow": {
     "slide_type": "slide"
    }
   },
   "outputs": [],
   "source": [
    "stadt = 'Görlitz'\n",
    "titel = 'Wahlen in {}'.format(stadt)\n",
    "\n",
    "kandidat1 = 'Helmut Wiese'\n",
    "prozent1 = 9.25\n",
    "\n",
    "kandidat2 = 'Gundula Lobrecht'\n",
    "prozent2 = 41.5\n",
    "\n",
    "text = '{} gewinnt mit {} Prozent der Stimmen.'\n",
    "\n",
    "if prozent1 > prozent2:\n",
    "    text = text.format(kandidat1, prozent1)\n",
    "elif prozent1 < prozent2:\n",
    "    text = text.format(kandidat2, prozent2)\n",
    "else:\n",
    "    text = 'Die Wahl ist unentschieden. {} und {} erhalten beide {} Prozent der Stimmen.'\n",
    "    text = text.format(kandidat1, kandidat2, prozent1)\n",
    "    \n",
    "\n",
    "print(titel.upper(), text, sep='\\n\\n')\n"
   ]
  },
  {
   "cell_type": "markdown",
   "metadata": {
    "slideshow": {
     "slide_type": "slide"
    }
   },
   "source": [
    "## Ein bisschen mehr Kontext...\n",
    "\n",
    "Wie groß ist der Vorsprung der führenden Kandidatin oder des führenden Kandidaten?"
   ]
  },
  {
   "cell_type": "code",
   "execution_count": null,
   "metadata": {
    "slideshow": {
     "slide_type": "slide"
    }
   },
   "outputs": [],
   "source": [
    "stadt = 'Görlitz'\n",
    "titel = 'Wahlen in {}'.format(stadt)\n",
    "\n",
    "kandidat1 = 'Helmut Wiese'\n",
    "prozent1 = 59.5\n",
    "\n",
    "kandidat2 = 'Gundula Lobrecht'\n",
    "prozent2 = 49.5\n",
    "\n",
    "text_gewinner = '{} gewinnt mit {} Prozent der Stimmen.'\n",
    "text_vorsprung = 'Dies entspricht einem Vorsprung von {} Prozentpunkten zu {}.'\n",
    "\n",
    "if prozent1 > prozent2:\n",
    "    vorsprung = prozent1 - prozent2\n",
    "    text_vorsprung = text_vorsprung.format(vorsprung, kandidat2)\n",
    "    text_gewinner = text_gewinner.format(kandidat1, prozent1)   \n",
    "elif prozent1 < prozent2:\n",
    "    vorsprung = prozent2 - prozent1\n",
    "    text_vorsprung = text_vorsprung.format(vorsprung, kandidat1)\n",
    "    text_gewinner = text.format(kandidat2, prozent2)   \n",
    "else:\n",
    "    text_vorsprung = 'Die Wahl ist unentschieden. {} und {} erhalten beide {} Prozent der Stimmen.'\n",
    "    text_gewinner = text.format(kandidat1, kandidat2, prozent1)\n",
    "    \n",
    "print(titel.upper(), text_gewinner + ' ' + text_vorsprung, sep='\\n\\n')\n"
   ]
  },
  {
   "cell_type": "markdown",
   "metadata": {
    "slideshow": {
     "slide_type": "slide"
    }
   },
   "source": [
    "### Neu strukturiert..."
   ]
  },
  {
   "cell_type": "code",
   "execution_count": null,
   "metadata": {
    "slideshow": {
     "slide_type": "slide"
    }
   },
   "outputs": [],
   "source": [
    "stadt = 'Görlitz'\n",
    "titel = 'Wahlen in {}'.format(stadt)\n",
    "\n",
    "kandidat1 = 'Helmut Wiese'\n",
    "prozent1 = 29.8\n",
    "kandidat2 = 'Gundula Lobrecht'\n",
    "prozent2 = 32.7\n",
    "\n",
    "if prozent1 == prozent2:\n",
    "    text = 'Die Wahl ist unentschieden. {} und {} erhalten beide {} Prozent der Stimmen.'\n",
    "    text = text.format(kandidat1, kandidat2, prozent1)\n",
    "else:\n",
    "    text_gewinner = '{} gewinnt mit {} Prozent der Stimmen.'\n",
    "    text_vorsprung = ' Dies entspricht einem Vorsprung von {} Prozentpunkten.' \n",
    "    gewinner = kandidat1\n",
    "    gewinner_prozent = prozent1\n",
    "    vorsprung = round(prozent1 - prozent2, 1)\n",
    "    \n",
    "    if prozent2 > prozent1:\n",
    "        gewinner = kandidat2\n",
    "        gewinner_prozent = prozent2\n",
    "        vorsprung = round(prozent2 - prozent1, 1)\n",
    "\n",
    "    text_gewinner = text_gewinner.format(gewinner, gewinner_prozent)\n",
    "    text_vorsprung = text_vorsprung.format(vorsprung)\n",
    "    text = text_gewinner + text_vorsprung\n",
    "        \n",
    "print(titel.upper(), text, sep='\\n\\n')"
   ]
  },
  {
   "cell_type": "markdown",
   "metadata": {
    "slideshow": {
     "slide_type": "slide"
    }
   },
   "source": [
    "### Ein bisschen mehr Kontext\n",
    "Wie kann der Vorsprung von dem:der Erstplatzierten zu dem:der Zweitplatzierten bewertet werden?\n",
    "\n",
    "Ist er minimal, knapp oder erheblich?"
   ]
  },
  {
   "cell_type": "code",
   "execution_count": 1,
   "metadata": {
    "slideshow": {
     "slide_type": "slide"
    }
   },
   "outputs": [
    {
     "name": "stdout",
     "output_type": "stream",
     "text": [
      "Wahlen in Görlitz\n",
      "\n",
      "Helmut Wiese gewinnt mit 29.5 Prozent der Stimmen. Dies ist ein minimaler Vorsprung von 0.8 Prozentpunkten.\n"
     ]
    }
   ],
   "source": [
    "# Und noch ein bisschen Kontext\n",
    "stadt = 'Görlitz'\n",
    "titel = 'Wahlen in {}'.format(stadt)\n",
    "\n",
    "kandidat1 = 'Helmut Wiese'\n",
    "prozent1 = 29.5\n",
    "\n",
    "kandidat2 = 'Gundula Lobrecht'\n",
    "prozent2 = 28.7\n",
    "\n",
    "\n",
    "if prozent1 == prozent2:\n",
    "    text = 'Die Wahl ist unentschieden. {} und {} erhalten beide {} Prozent der Stimmen.'\n",
    "    text = text.format(kandidat1, kandidat2, prozent1)\n",
    "else:\n",
    "    text = '{} gewinnt mit {} Prozent der Stimmen.'\n",
    "    vorsprung = ' Dies ist ein {} Vorsprung von {} Prozentpunkten.'\n",
    "    gewinner = kandidat1\n",
    "    prozent = prozent1\n",
    "    differenz = prozent1 - prozent2\n",
    "    \n",
    "    if prozent2 > prozent1:\n",
    "        gewinner = kandidat2\n",
    "        prozent = prozent2\n",
    "        differenz = prozent2 - prozent1\n",
    "        \n",
    "    text = text.format(gewinner, prozent)\n",
    "    \n",
    "    # bestimme das Ausmaß des Abstands zwischen Gewinner:in und Zweitplatzierter:m\n",
    "    differenz = round(differenz, 1)\n",
    "    \n",
    "    if differenz >= 0 and differenz <= 1:\n",
    "        ausmass = 'minimaler'\n",
    "    elif differenz > 1 and differenz < 3:\n",
    "        ausmass = 'knapper'\n",
    "    elif differenz >= 3 and differenz < 5:\n",
    "        ausmass = ''\n",
    "    elif differenz >= 5:\n",
    "        ausmass = 'erheblicher'\n",
    "    vorsprung = vorsprung.format(ausmass, differenz)\n",
    "    \n",
    "article = text + vorsprung   \n",
    "print(titel, article, sep='\\n\\n')\n"
   ]
  },
  {
   "cell_type": "markdown",
   "metadata": {
    "slideshow": {
     "slide_type": "slide"
    }
   },
   "source": [
    "### Ein bisschen mehr Kontext..\n",
    "\n",
    "Ein Satz zum:zur neuen Amtsinhaber:in der Stadt"
   ]
  },
  {
   "cell_type": "code",
   "execution_count": null,
   "metadata": {
    "slideshow": {
     "slide_type": "slide"
    }
   },
   "outputs": [],
   "source": [
    "# Und noch ein bisschen Kontext\n",
    "stadt = 'Görlitz'\n",
    "titel = 'Wahlen in {}'.format(stadt)\n",
    "\n",
    "kandidat1 = 'Helmut Wiese'\n",
    "prozent1 = 29.5\n",
    "\n",
    "kandidat2 = 'Gundula Lobrecht'\n",
    "prozent2 = 28.7\n",
    "\n",
    "\n",
    "if prozent1 == prozent2:\n",
    "    text = 'Die Wahl ist unentschieden. {} und {} erhalten beide {} Prozent der Stimmen.'\n",
    "    text = text.format(kandidat1, kandidat2, prozent1)\n",
    "else:\n",
    "    text = '{} gewinnt mit {} Prozent der Stimmen.'\n",
    "    vorsprung = ' Dies ist ein {} Vorsprung von {} Prozentpunkten.'\n",
    "    gewinner = kandidat1\n",
    "    prozent = prozent1\n",
    "    differenz = prozent1 - prozent2\n",
    "    \n",
    "    if prozent2 > prozent1:\n",
    "        gewinner = kandidat2\n",
    "        prozent = prozent2\n",
    "        differenz = prozent2 - prozent1\n",
    "        \n",
    "    text = text.format(gewinner, prozent)\n",
    "    \n",
    "    # bestimme das Ausmaß des Abstands zwischen Gewinner:in und Zweitplatzierter:m\n",
    "    differenz = round(differenz, 1)\n",
    "    \n",
    "    if differenz >= 0 and differenz <= 1:\n",
    "        ausmass = 'minimaler'\n",
    "    elif differenz > 1 and differenz < 3:\n",
    "        ausmass = 'knapper'\n",
    "    elif differenz >= 3 and differenz < 5:\n",
    "        ausmass = ''\n",
    "    elif differenz >= 5:\n",
    "        ausmass = 'erheblicher'\n",
    "    vorsprung = vorsprung.format(ausmass, differenz)\n",
    "    \n",
    "    amtsinhaber = ' {} wird neuer Bürgermeister von {}.'\n",
    "    amtsinhaber = amtsinhaber.format(gewinner, stadt)\n",
    "    \n",
    "article = text + vorsprung + amtsinhaber    \n",
    "print(titel, article, sep='\\n\\n')\n"
   ]
  },
  {
   "cell_type": "code",
   "execution_count": null,
   "metadata": {
    "slideshow": {
     "slide_type": "slide"
    }
   },
   "outputs": [],
   "source": [
    "# Und noch korrekt gegendert\n",
    "stadt = 'Görlitz'\n",
    "titel = 'Wahlen in {}'.format(stadt)\n",
    "\n",
    "kandidat1 = 'Helmut Wiese'\n",
    "prozent1 = 29.5\n",
    "\n",
    "kandidat2 = 'Gundula Lobrecht'\n",
    "prozent2 = 38.7\n",
    "\n",
    "\n",
    "if prozent1 == prozent2:\n",
    "    text = 'Die Wahl ist unentschieden. {} und {} erhalten beide {} Prozent der Stimmen.'\n",
    "    text = text.format(kandidat1, kandidat2, prozent1)\n",
    "else:\n",
    "    text = '{} gewinnt mit {} Prozent der Stimmen.'\n",
    "    vorsprung = ' Dies ist ein {} Vorsprung von {} Prozentpunkten.'\n",
    "    gewinner = kandidat1\n",
    "    prozent = prozent1\n",
    "    differenz = prozent1 - prozent2\n",
    "    \n",
    "    if prozent2 > prozent1:\n",
    "        gewinner = kandidat2\n",
    "        prozent = prozent2\n",
    "        differenz = prozent2 - prozent1\n",
    "        \n",
    "    text = text.format(gewinner, prozent)\n",
    "    \n",
    "    # bestimme das Ausmaß des Abstands zwischen Gewinner:in und Zweitplatzierter:m\n",
    "    differenz = round(differenz, 1)\n",
    "    \n",
    "    if differenz >= 0 and differenz <= 1:\n",
    "        ausmass = 'minimaler'\n",
    "    elif differenz > 1 and differenz < 3:\n",
    "        ausmass = 'knapper'\n",
    "    elif differenz >= 3 and differenz < 5:\n",
    "        ausmass = ''\n",
    "    elif differenz >= 5:\n",
    "        ausmass = 'erheblicher'\n",
    "    vorsprung = vorsprung.format(ausmass, differenz)\n",
    "    \n",
    "    amtsinhaber = ' {} wird neuer Bürgermeister von {}.'\n",
    "    amtsinhaber = amtsinhaber.format(gewinner, stadt)\n",
    "    if gewinner == kandidat2:\n",
    "        amtsinhaber = amtsinhaber.replace('neuer Bürgermeister', 'neue Bürgermeisterin')\n",
    "    \n",
    "article = text + vorsprung + amtsinhaber    \n",
    "print(titel, article, sep='\\n\\n')\n"
   ]
  },
  {
   "cell_type": "markdown",
   "metadata": {
    "slideshow": {
     "slide_type": "slide"
    }
   },
   "source": [
    "## Automatisierte Wahlberichterstattung mit Funktionen\n",
    "\n",
    "Funktionen helfen uns den Code übersichtlich zu halten und wiederkehrende Aufgaben effizient zu lösen."
   ]
  },
  {
   "cell_type": "code",
   "execution_count": 52,
   "metadata": {
    "slideshow": {
     "slide_type": "slide"
    }
   },
   "outputs": [],
   "source": [
    "# Erhalte Gewinner basierend auf den Prozent\n",
    "def get_gewinner(kandidat1, prozent1, kandidat2, prozent2):\n",
    "    if prozent1 > prozent2:\n",
    "        return kandidat1, prozent1\n",
    "    return kandidat2, prozent2\n",
    "\n",
    "# Berechne die Differenz zweier Zahlen\n",
    "def berechne_differenz(num1, num2):\n",
    "    return round(abs(num1 - num2), 1)\n",
    "\n",
    "# Bewerte den Vorsprung in Prozentpunkten\n",
    "def get_ausmass(differenz):\n",
    "    if differenz >= 0 and differenz <= 1:\n",
    "        ausmass = 'minimaler'\n",
    "    elif differenz > 1 and differenz < 3:\n",
    "        ausmass = 'knapper'\n",
    "    elif differenz >= 3 and differenz < 5:\n",
    "        ausmass = ''\n",
    "    elif differenz >= 5:\n",
    "        ausmass = 'erheblicher'\n",
    "    return ausmass\n",
    "    \n",
    "# Passe den Text dem Geschlecht an    \n",
    "def gender(text):\n",
    "    return text.replace('neuer Bürgermeister', 'neue Bürgermeisterin')"
   ]
  },
  {
   "cell_type": "code",
   "execution_count": 53,
   "metadata": {
    "slideshow": {
     "slide_type": "slide"
    }
   },
   "outputs": [
    {
     "name": "stdout",
     "output_type": "stream",
     "text": [
      "WAHLEN IN GÖRLITZ\n",
      "\n",
      "Helmut Wiese gewinnt mit 32.5 Prozent der Stimmen. Dies ist ein  Vorsprung von 3.0 Prozentpunkten. Helmut Wiese wird neuer Bürgermeister von Görlitz.\n"
     ]
    }
   ],
   "source": [
    "# Wahldaten\n",
    "stadt = 'Görlitz'\n",
    "titel = 'Wahlen in {}'.format(stadt)\n",
    "\n",
    "kandidat1 = 'Helmut Wiese'\n",
    "prozent1 = 32.5\n",
    "\n",
    "kandidat2 = 'Gundula Lobrecht'\n",
    "prozent2 = 29.5\n",
    "\n",
    "# SKript\n",
    "if prozent1 == prozent2:\n",
    "    # Gleichstand\n",
    "    text = 'Die Wahl ist unentschieden. {} und {} erhalten beide {} Prozent der Stimmen.'\n",
    "    text = text.format(kandidat1, kandidat2, prozent1)\n",
    "else:\n",
    "    # Gewinner Text\n",
    "    text = '{} gewinnt mit {} Prozent der Stimmen.'\n",
    "    gewinner, prozent = get_gewinner(kandidat1, prozent1, kandidat2, prozent2)        \n",
    "    text = text.format(gewinner, prozent)\n",
    "    \n",
    "    # Vorsprung Text\n",
    "    vorsprung = ' Dies ist ein {} Vorsprung von {} Prozentpunkten.'\n",
    "    differenz = berechne_differenz(prozent1, prozent2)\n",
    "    ausmass = get_ausmass(differenz)\n",
    "    vorsprung = vorsprung.format(ausmass, differenz)\n",
    "    \n",
    "    # Amtsinhaber:in Text\n",
    "    amtsinhaber = ' {} wird neuer Bürgermeister von {}.'\n",
    "    amtsinhaber = amtsinhaber.format(gewinner, stadt)\n",
    "    if gewinner == kandidat2:\n",
    "        amtsinhaber = gender(amtsinhaber)\n",
    "\n",
    "\n",
    "    text = text + vorsprung + amtsinhaber \n",
    "    \n",
    "print(titel.upper(), text, sep='\\n\\n')\n"
   ]
  }
 ],
 "metadata": {
  "celltoolbar": "Slideshow",
  "kernelspec": {
   "display_name": "Python 3",
   "language": "python",
   "name": "python3"
  },
  "language_info": {
   "codemirror_mode": {
    "name": "ipython",
    "version": 3
   },
   "file_extension": ".py",
   "mimetype": "text/x-python",
   "name": "python",
   "nbconvert_exporter": "python",
   "pygments_lexer": "ipython3",
   "version": "3.7.3"
  },
  "vscode": {
   "interpreter": {
    "hash": "f9f85f796d01129d0dd105a088854619f454435301f6ffec2fea96ecbd9be4ac"
   }
  }
 },
 "nbformat": 4,
 "nbformat_minor": 5
}
