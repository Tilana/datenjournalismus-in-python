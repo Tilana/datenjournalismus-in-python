{
 "cells": [
  {
   "cell_type": "markdown",
   "metadata": {},
   "source": [
    "# Methoden\n",
    "\n",
    "\n",
    "Methoden sind Funktionen, die aufgrund des Datentyps verfügbar sind.\n",
    "\n",
    "Sie verändern ein Objekt oder berechnen neue Werte anhand der Objektdaten.\n",
    "\n",
    "\n",
    "\n",
    "## Syntax:\n",
    "\n",
    "\n",
    "Dem Objekt folgt ein Punkt, ein valider Methodenname, sowie runde Klammern.\n",
    "\n",
    "Parameter Methoden können kein, ein oder mehrerer Argumente entgegen nehmen.\n",
    "\n",
    "\n",
    "```\n",
    "    objekt.methode()\n",
    "    \n",
    "    objekt.methode(arg1, arg2, arg3)\n",
    "   \n",
    "```\n"
   ]
  },
  {
   "cell_type": "markdown",
   "metadata": {},
   "source": [
    "## String Methoden - Beispiele\n",
    "\n",
    "| Methods  | Beschreibung  | \n",
    "|----------|:-------------  |\n",
    "| lower() |  Converts a string into lower case |\n",
    "| upper() |  Converts a string into upper case |\n",
    "| strip() | Returns a trimmed version of the string |\n",
    "| split() |\tSplits the string at the specified separator, and returns a list |\n",
    "| replace()\t| Returns a string where a specified value is replaced with a specified value |\n",
    "| format() |\tFormats specified values in a string |\n"
   ]
  },
  {
   "cell_type": "code",
   "execution_count": 4,
   "metadata": {},
   "outputs": [
    {
     "name": "stdout",
     "output_type": "stream",
     "text": [
      "Wahlen in Leipzig\n",
      "WAHLEN IN LEIPZIG\n"
     ]
    }
   ],
   "source": [
    "# upper() - verwandelt einen string in Großbuchstaben\n",
    "titel = 'Wahlen in Leipzig'\n",
    "print(titel)\n",
    "print(titel.upper())"
   ]
  },
  {
   "cell_type": "code",
   "execution_count": 3,
   "metadata": {},
   "outputs": [
    {
     "name": "stdout",
     "output_type": "stream",
     "text": [
      "   Landeshauptstadt Leipzig  \n",
      "Landeshauptstadt Leipzig\n"
     ]
    }
   ],
   "source": [
    "# strip() - löscht voranstehende oder nachfolgende Leerzeichen eines Textes\n",
    "stadt = '   Landeshauptstadt Leipzig  '\n",
    "print(stadt)\n",
    "print(stadt.strip())"
   ]
  },
  {
   "cell_type": "code",
   "execution_count": 5,
   "metadata": {},
   "outputs": [
    {
     "name": "stdout",
     "output_type": "stream",
     "text": [
      "Hahnenbach, Angelika\n",
      " Angelika Hahnenbach\n"
     ]
    }
   ],
   "source": [
    "# split() - trennt einen String an einem Zeichen\n",
    "kandidatin = 'Hahnenbach, Angelika'\n",
    "print(kandidatin)\n",
    "nachname, vorname = kandidatin.split(',')\n",
    "print(vorname, nachname)"
   ]
  },
  {
   "cell_type": "markdown",
   "metadata": {},
   "source": [
    "## dir()\n",
    "\n",
    "Mit `dir(<object>)` werden alle Methoden eines Objektes angezeigt."
   ]
  },
  {
   "cell_type": "code",
   "execution_count": null,
   "metadata": {},
   "outputs": [],
   "source": [
    "# dir() zeigt alle verfügbaren Properties und Methoden eines Objektes an\n",
    "dir('Beispiel String')"
   ]
  }
 ],
 "metadata": {
  "kernelspec": {
   "display_name": "Python 3 (ipykernel)",
   "language": "python",
   "name": "python3"
  },
  "language_info": {
   "codemirror_mode": {
    "name": "ipython",
    "version": 3
   },
   "file_extension": ".py",
   "mimetype": "text/x-python",
   "name": "python",
   "nbconvert_exporter": "python",
   "pygments_lexer": "ipython3",
   "version": "3.9.13"
  },
  "vscode": {
   "interpreter": {
    "hash": "f9f85f796d01129d0dd105a088854619f454435301f6ffec2fea96ecbd9be4ac"
   }
  }
 },
 "nbformat": 4,
 "nbformat_minor": 2
}
