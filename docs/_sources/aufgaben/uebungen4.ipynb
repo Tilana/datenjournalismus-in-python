{
 "cells": [
  {
   "cell_type": "markdown",
   "id": "e4369257",
   "metadata": {},
   "source": [
    "# While-Schleifen &  Dictionaries\n",
    "\n",
    "## *while*-Schleifen"
   ]
  },
  {
   "cell_type": "markdown",
   "id": "12ba88b1",
   "metadata": {},
   "source": [
    "Gib mithilfe einer while-Schleife alle ungeraden Werte der gegebenen Liste aus."
   ]
  },
  {
   "cell_type": "code",
   "execution_count": null,
   "id": "805d32b9",
   "metadata": {},
   "outputs": [],
   "source": [
    "# Dein Code"
   ]
  },
  {
   "cell_type": "code",
   "execution_count": null,
   "id": "d808af57",
   "metadata": {
    "tags": [
     "hide-input",
     "skip-execution"
    ]
   },
   "outputs": [],
   "source": [
    "\"\"\"\n",
    "Grundsätzlich ist es möglich jede for-Schleife auch als while-Schleife zu definieren\n",
    "und umgekehrt. Aus berechenbarkeitstheoretischer Sicht spricht man davon, dass beide\n",
    "Schleifenarten gleichmächtig sind.\n",
    "\n",
    "Der entscheidende Unterschied liegt in der Lesbarkeit und Verständlichkeit.\n",
    "Grundsätzlich lässt sich sagen, wenn ich für alle Elemente in einer Liste\n",
    "eine bestimmte Aktion ausführen will, ist die Verwendung einer for-Schleife meist sinnvoll.\n",
    "\n",
    "Seltener sollen bestimmte Aktionen nur solange ausgeführt werden bis ein bestimmter Zustand\n",
    "eintritt oder nicht mehr zutrifft, dann ist eine while-Schleife angebracht.\n",
    "\"\"\"\n",
    "viele_zahlen = [x for x in range(0, 10000) if x%9==0]\n",
    "\n",
    "for elem in viele_zahlen:\n",
    "    if elem % 2 ==1:\n",
    "        print(elem)\n",
    "\n",
    "i = 0\n",
    "while i < len(viele_zahlen):\n",
    "    if viele_zahlen[i] % 2 ==1:\n",
    "        print(viele_zahlen[i])\n",
    "    i += 1\n",
    "\n"
   ]
  },
  {
   "cell_type": "markdown",
   "id": "39323d43",
   "metadata": {},
   "source": [
    "Schreibe eine Funktion, die alle ganzen Zahlen zwischen 1 und einem Wert x die durch 3 und durch 7 teilbar sind in einer Liste zurückgibt.\n",
    "Verwende hier eine Zählervariable, die in einer *while*-Schleife hochgezählt wird.\n",
    "Nutze *continue*, um Werte zu überspringen, die nicht zur Ergebnisliste hinzugefügt werden sollen.\n",
    "Nutze *break*, wenn das angegebene Maximum erreicht wurde, um die *while*-Schleife zu beenden."
   ]
  },
  {
   "cell_type": "code",
   "execution_count": null,
   "id": "0a8c2474",
   "metadata": {},
   "outputs": [],
   "source": [
    "# Dein Code"
   ]
  },
  {
   "cell_type": "code",
   "execution_count": null,
   "id": "e3ecb096",
   "metadata": {
    "tags": [
     "hide-input",
     "skip-execution"
    ]
   },
   "outputs": [],
   "source": [
    "def durch3und7(letzteZahl:int) -> list:\n",
    "    i = 1\n",
    "    durch3_7 = []\n",
    "    while i < letzteZahl:\n",
    "        if i%3==0 and i%7==0:\n",
    "            durch3_7.append(i)\n",
    "        i += 1\n",
    "\n",
    "    return durch3_7\n",
    "\n",
    "\n",
    "print(durch3und7(1000))"
   ]
  },
  {
   "cell_type": "markdown",
   "id": "c78dde76",
   "metadata": {},
   "source": [
    "Bewege den weissen Turm so lange nach rechts bis er entweder am Spielfeldrand oder vor einer anderen Figur steht."
   ]
  },
  {
   "cell_type": "code",
   "execution_count": null,
   "id": "62603aff",
   "metadata": {},
   "outputs": [],
   "source": [
    "schachbrett = [['schwarzes Pferd', 'schwarzer Bauer', None, None, None, None, 'weisser Bauer', None],\n",
    "               [None, None, None, None, None, None, 'schwarzer Bauer', None],\n",
    "               [None, None, None, None, None, None, 'schwarzer König', None],\n",
    "               ['schwarzer Bauer', None, None, 'weisser Turm', None, None, None, None],\n",
    "               [None, None, 'weisser König' , None, 'schwarzer Läufer', 'schwarzer Bauer', None, None],\n",
    "               [None, None, None, None, None, None, None, None],\n",
    "               [None, None, 'weisse Dame', None, None, None, None, None],\n",
    "               ['schwarzer Bauer', None, None, None, None, 'schwarze Dame', None, None]]"
   ]
  },
  {
   "cell_type": "code",
   "execution_count": null,
   "id": "ae9a0c3c",
   "metadata": {},
   "outputs": [],
   "source": [
    "# Dein Code"
   ]
  },
  {
   "cell_type": "code",
   "execution_count": null,
   "id": "3958b705",
   "metadata": {
    "tags": [
     "skip-execution",
     "hide-input"
    ]
   },
   "outputs": [],
   "source": [
    "reiheWT = schachbrett[3]\n",
    "positionWT = reiheWT.index('weisser Turm')\n",
    "nächstesFeld = positionWT+1\n",
    "while nächstesFeld < len(reiheWT):\n",
    "    if not reiheWT[nächstesFeld]:\n",
    "        tmp = reiheWT[nächstesFeld]\n",
    "        reiheWT[nächstesFeld] = reiheWT[positionWT]\n",
    "        reiheWT[positionWT] = tmp\n",
    "        positionWT = nächstesFeld\n",
    "        nächstesFeld = positionWT +1\n",
    "\n",
    "print(positionWT)\n",
    "print(reiheWT)"
   ]
  },
  {
   "cell_type": "markdown",
   "id": "108367e6",
   "metadata": {},
   "source": [
    "## Dictionaries\n",
    "\n",
    "Erstelle ein Dictionary *blumen* in dem für jede Blume die Farben ihrer Blüten gespeichert werden. Speichere direkt drei Einträge zu Rose, Enzian und Margeriten."
   ]
  },
  {
   "cell_type": "code",
   "execution_count": null,
   "id": "d6267d9d",
   "metadata": {},
   "outputs": [],
   "source": [
    "# Dein Code"
   ]
  },
  {
   "cell_type": "code",
   "execution_count": null,
   "id": "4e734de3",
   "metadata": {
    "tags": [
     "skip-execution",
     "hide-input"
    ]
   },
   "outputs": [],
   "source": [
    "\"\"\"\n",
    "Zum Definieren von Dictionaries bieten sich die folgenden beide Möglichkeiten.\n",
    "Wenn der Inhalt eines dicts bereits zum Definitionszeitpunkt bekannt ist,\n",
    "ist die zweite Option meist einfacher.\n",
    "\n",
    "Wenn das dict erst im Laufe des Programms (z.B. in einer for-Schleife) gefüllt werden soll,\n",
    "muss die erste Option verwendet werden.\n",
    "\"\"\"\n",
    "blumen = {}\n",
    "blumen['rose'] = ['rosa', 'rot', 'schwarze']\n",
    "blumen['enzian'] = 'blau'\n",
    "blumen['margeriten'] = 'weiss'\n",
    "\n",
    "blumen2 = {'Rose': 'rot',\n",
    "           'Enzian': 'blau',\n",
    "           'margeriten': 'weiss'}\n",
    "print(blumen)"
   ]
  },
  {
   "cell_type": "markdown",
   "id": "38140d4c",
   "metadata": {},
   "source": [
    "Füge deine Lieblingsblume zu *blumen* hinzu."
   ]
  },
  {
   "cell_type": "code",
   "execution_count": null,
   "id": "a8cf4281",
   "metadata": {},
   "outputs": [],
   "source": [
    "# Dein Code"
   ]
  },
  {
   "cell_type": "code",
   "execution_count": null,
   "id": "d1e0abe0",
   "metadata": {
    "tags": [
     "hide-input",
     "skip-execution"
    ]
   },
   "outputs": [],
   "source": [
    "blumen['tulpe'] = 'gelb'\n",
    "print(blumen)"
   ]
  },
  {
   "cell_type": "markdown",
   "id": "0ab27ed7",
   "metadata": {},
   "source": [
    "Entferne den Eintrag zu Enzian."
   ]
  },
  {
   "cell_type": "code",
   "execution_count": null,
   "id": "f34cd0ef",
   "metadata": {},
   "outputs": [],
   "source": [
    "# Dein Code"
   ]
  },
  {
   "cell_type": "code",
   "execution_count": null,
   "id": "9a9a49ee",
   "metadata": {
    "tags": [
     "skip-execution",
     "hide-input"
    ]
   },
   "outputs": [],
   "source": [
    "\"\"\"\n",
    "Mit dem del-Statement können wir konkrete Werte \"fallenlassen\".\n",
    "Dabei kann es sich um einzelne Variablen handeln, aber auch um Einträge in lists, dicts, usw.\n",
    "\n",
    "Alle Iterables haben aber auch eigene Funktionen um bestimmte Werte zu löschen.\n",
    "\"\"\"\n",
    "del blumen['enzian']\n",
    "#blumen.pop('enzian')\n",
    "\n",
    "del blumen['rose'][2]\n",
    "#blumen['rose'].remove('schwarz')\n",
    "\n",
    "\n",
    "print(blumen)\n",
    "\n",
    "\"\"\"\n",
    "Hier wird eine Variable x definiert und ausgegeben.\n",
    "Anschließend wird x mit del gelöscht.\n",
    "Die Fehlermeldung bei der zweiten Ausgabe zeigt, dass x fallengelassen wurde.\n",
    "\"\"\"\n",
    "x = 1945\n",
    "print(x)\n",
    "del x\n",
    "print(x)\n"
   ]
  },
  {
   "cell_type": "markdown",
   "id": "4bfe5ca8",
   "metadata": {},
   "source": [
    "Gib für alle gespeicherten Blumen die Blütenfarbe aus."
   ]
  },
  {
   "cell_type": "code",
   "execution_count": null,
   "id": "d6db128d",
   "metadata": {},
   "outputs": [],
   "source": [
    "# Dein Code"
   ]
  },
  {
   "cell_type": "code",
   "execution_count": null,
   "id": "21fc630d",
   "metadata": {
    "tags": [
     "skip-execution",
     "hide-input"
    ]
   },
   "outputs": [],
   "source": [
    "print(blumen.values())\n",
    "for farbe in blumen.values():\n",
    "    print(farbe)\n",
    "\n",
    "for blume in blumen.keys():\n",
    "    if 'r' in blume:\n",
    "        print(blumen[blume])"
   ]
  },
  {
   "cell_type": "code",
   "execution_count": null,
   "id": "a2474242",
   "metadata": {
    "tags": [
     "skip-execution"
    ]
   },
   "outputs": [],
   "source": [
    "\"\"\"\n",
    "Das lambda-Statement erstellt eine (anonyme) Hilfsfunktion.\n",
    "Sie besteht aus einem Funktionskopf mit Eingabeparametern\n",
    "und einem Funktionskörper mit EINER Expression.\n",
    "\n",
    "Einige Built-in-Functions in Python erwarten als Eingabeparameter eine Funktion.\n",
    "Um sich die Definition einer neuen Funktion zu sparen, bietet sich dann oft\n",
    "das Verwenden von Lambda an.\n",
    "\n",
    "Die folgenden Verwendungen von sorted sind äquivalent zueinander.\n",
    "Beachte auch den untypischen Funktionsaufruf im ersten Beispiel ohne Klammern.\n",
    "Bei Lambda-Funktionen können außerdem keine Annotationen verwendet werden.\n",
    "Damit sind z.B. die Festlegung auf einen Rückgabe- und einen Eingabe-Datentyp nicht möglich.\n",
    "\n",
    "Normalerweise werden Lambda-Funktionen vor allem in built-in-Functions wie\n",
    "filter, map, oder sorted verwendet.\n",
    "Der offizielle Python style guide (PEP 8) rät von der Verwendung von lambda-Funktionen ab.\n",
    "\n",
    "Ausführlich wird das Thema lambda-Funktion zum Beispiel [hier](https://realpython.com/python-lambda/) besprochen.\n",
    "\"\"\"\n",
    "\n",
    "def lower_string(s:str)->str:\n",
    "    return s.lower()\n",
    "\n",
    "blumen_sort = sorted(blumen, key=lower_string)\n",
    "blumen_sortiert = sorted(blumen, key=lambda b:b.lower())\n",
    "print(blumen_sort)\n",
    "print(blumen_sortiert)"
   ]
  }
 ],
 "metadata": {
  "celltoolbar": "Tags",
  "kernelspec": {
   "display_name": "Python 3 (ipykernel)",
   "language": "python",
   "name": "python3"
  },
  "language_info": {
   "codemirror_mode": {
    "name": "ipython",
    "version": 3
   },
   "file_extension": ".py",
   "mimetype": "text/x-python",
   "name": "python",
   "nbconvert_exporter": "python",
   "pygments_lexer": "ipython3",
   "version": "3.9.15"
  },
  "vscode": {
   "interpreter": {
    "hash": "f9f85f796d01129d0dd105a088854619f454435301f6ffec2fea96ecbd9be4ac"
   }
  }
 },
 "nbformat": 4,
 "nbformat_minor": 5
}
