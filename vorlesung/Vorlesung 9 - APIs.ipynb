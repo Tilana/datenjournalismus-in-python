{
 "cells": [
  {
   "cell_type": "markdown",
   "id": "d9a3430d",
   "metadata": {
    "slideshow": {
     "slide_type": "slide"
    }
   },
   "source": [
    "# Datenjournalismus in Python - \n",
    "# Eine praktische Einführung in die Programmierung\n",
    "\n",
    "\n",
    "### Natalie Widmann\n",
    "\n",
    "\n",
    "\n",
    "\n",
    "Wintersemester 2022 / 2023\n",
    "\n",
    "\n",
    "Universität Leipzig\n",
    "\n",
    "\n",
    "\n"
   ]
  },
  {
   "cell_type": "markdown",
   "id": "31364e0e",
   "metadata": {
    "slideshow": {
     "slide_type": "slide"
    }
   },
   "source": [
    "## Organisation\n",
    "\n",
    "![Timeline](../imgs/kursplan.png)"
   ]
  },
  {
   "cell_type": "markdown",
   "id": "667793b3",
   "metadata": {},
   "source": [
    "## Projekt"
   ]
  },
  {
   "cell_type": "markdown",
   "id": "7e785d50",
   "metadata": {
    "slideshow": {
     "slide_type": "slide"
    }
   },
   "source": [
    "# Teil III - APIs\n",
    "\n",
    "\n"
   ]
  },
  {
   "cell_type": "markdown",
   "id": "a5890ec7",
   "metadata": {
    "slideshow": {
     "slide_type": "slide"
    }
   },
   "source": [
    "## Was ist eine API?\n",
    "\n",
    "Eine API (Application Programming Interface) ist eine Schnittstelle, die es Software-Programmen ermöglicht, miteinander zu kommunizieren und Daten auszutauschen. Sie stellt eine spezifizierte Menge von Funktionen und Protokollen bereit, die von anderen Programmen genutzt werden können, um zum Beispiel auf bestimmte Daten zuzugreifen oder bestimmte Funktionen auszuführen.\n",
    "\n",
    "Ein einfaches Beispiel für die Nutzung einer API ist die Integration von Wetterdaten in eine App. Die App nutzt dabei die Funktionen und Protokolle der Wetter-API, um aktuelle Wetterdaten von einer Wetter-Website abzurufen und in der App anzuzeigen.\n"
   ]
  },
  {
   "cell_type": "markdown",
   "id": "74807880",
   "metadata": {},
   "source": [
    "![API](../imgs/API.png)"
   ]
  },
  {
   "cell_type": "markdown",
   "id": "8226e3e0",
   "metadata": {},
   "source": [
    "### Unser erster API Request in Python\n",
    "\n",
    "Wir testen die [Open Notify API](http://open-notify.org/) die anzeigt wie viele Menschen gerade im All sind.\n",
    "\n",
    "\n",
    "\n",
    "Dafür benutzen wir das `requests` python package.\n",
    "\n",
    "Dokumentation: https://requests.readthedocs.io/en/latest/"
   ]
  },
  {
   "cell_type": "code",
   "execution_count": null,
   "id": "00df5096",
   "metadata": {},
   "outputs": [],
   "source": [
    "!pip install requests"
   ]
  },
  {
   "cell_type": "code",
   "execution_count": null,
   "id": "9a1de631",
   "metadata": {},
   "outputs": [],
   "source": [
    "import requests"
   ]
  },
  {
   "cell_type": "markdown",
   "id": "4397bdab",
   "metadata": {},
   "source": [
    "Um Daten einer API abzufragen verwendet man einen sogenannten `GET` request.\n",
    "Dafür hat das `request` package die Funktion `requests.get()`.\n",
    "Diese nimmt als Argument die url entgegen.\n",
    "\n"
   ]
  },
  {
   "cell_type": "code",
   "execution_count": null,
   "id": "a62af060",
   "metadata": {
    "scrolled": false
   },
   "outputs": [],
   "source": [
    "url = 'http://api.open-notify.org/astros.json'\n",
    "response = requests.get(url)"
   ]
  },
  {
   "cell_type": "code",
   "execution_count": null,
   "id": "b22d35db",
   "metadata": {},
   "outputs": [],
   "source": [
    "response"
   ]
  },
  {
   "cell_type": "code",
   "execution_count": null,
   "id": "cfc14916",
   "metadata": {},
   "outputs": [],
   "source": [
    "dir(response)"
   ]
  },
  {
   "cell_type": "markdown",
   "id": "4e1f23c7",
   "metadata": {},
   "source": [
    "### Status Codes\n",
    "\n",
    "Die Antwort eines request, enthält einen response Code der sagt ob die Anfrage erfolgreich war.\n",
    "\n",
    "Der Status Code wird über `.status_code` abgerufen."
   ]
  },
  {
   "cell_type": "code",
   "execution_count": null,
   "id": "5eb96cca",
   "metadata": {},
   "outputs": [],
   "source": [
    "response.status_code"
   ]
  },
  {
   "cell_type": "markdown",
   "id": "a0f9afbd",
   "metadata": {},
   "source": [
    "### Die häufigsten HTTP-API-Statuscodes\n",
    "\n",
    "\n",
    "- **200 OK**: Der Server hat die Anfrage erfolgreich verarbeitet und die gewünschte Ressource zurückgegeben.\n",
    "\n",
    "\n",
    "- **301 Moved Permanently**: Die angeforderte Ressource wurde permanent an eine andere URL umgeleitet.\n",
    "\n",
    "\n",
    "- **400 Bad Request**: Die Anfrage konnte aufgrund eines Syntaxfehlers oder ungültiger Anfrageparameter nicht verarbeitet werden.\n",
    "\n",
    "\n",
    "- **401 Unauthorized**: Der Server konnte die Anfrage nicht authentifizieren und fordert daher eine gültige Anmeldung.\n",
    "\n",
    "\n",
    "- **403 Access Forbidden**: Die Zugansdaten sind für die Abfrage nicht ausreichend.\n",
    "\n",
    "\n",
    "- **404 Not Found**: Die angeforderte Ressource wurde vom Server nicht gefunden.\n",
    "\n",
    "\n",
    "- **500 Internal Server Error**: Der Server hat einen internen Fehler und kann die Anfrage nicht verarbeiten.\n",
    "\n"
   ]
  },
  {
   "cell_type": "markdown",
   "id": "2344d120",
   "metadata": {},
   "source": [
    "### API Data\n",
    "\n",
    "Die Daten der API können über `.json()` abgerufen werden."
   ]
  },
  {
   "cell_type": "code",
   "execution_count": null,
   "id": "42175341",
   "metadata": {},
   "outputs": [],
   "source": [
    "data = response.json()"
   ]
  },
  {
   "cell_type": "code",
   "execution_count": null,
   "id": "8f7d765f",
   "metadata": {},
   "outputs": [],
   "source": [
    "data"
   ]
  },
  {
   "cell_type": "code",
   "execution_count": null,
   "id": "25a24e08",
   "metadata": {},
   "outputs": [],
   "source": [
    "type(data)"
   ]
  },
  {
   "cell_type": "markdown",
   "id": "393e97ca",
   "metadata": {},
   "source": [
    "#### Welche Daten sind verfügbar?\n",
    "\n",
    "Zeige alle Keys im Dictionary an."
   ]
  },
  {
   "cell_type": "code",
   "execution_count": null,
   "id": "ed319310",
   "metadata": {},
   "outputs": [],
   "source": []
  },
  {
   "cell_type": "markdown",
   "id": "52ebd952",
   "metadata": {},
   "source": [
    "Zeige die Anzahl an Menschen an, die gerade im All ist"
   ]
  },
  {
   "cell_type": "code",
   "execution_count": null,
   "id": "cb18df43",
   "metadata": {},
   "outputs": [],
   "source": []
  },
  {
   "cell_type": "markdown",
   "id": "249ccbe5",
   "metadata": {},
   "source": [
    "Drucke die Namen aller Menschen im All aus"
   ]
  },
  {
   "cell_type": "code",
   "execution_count": null,
   "id": "cbc0128a",
   "metadata": {},
   "outputs": [],
   "source": []
  },
  {
   "cell_type": "markdown",
   "id": "d08e8ff1",
   "metadata": {},
   "source": [
    "## Abgeordnetenwatch\n",
    "\n",
    "**Das Ziel**\n",
    "\n",
    "Unsere Vision ist eine selbstbestimmte Gesellschaft. Diese befördern wir durch mehr Beteiligungsmöglichkeiten und Transparenz in der Politik.\n",
    "\n",
    "**Was wir wollen:**\n",
    "- eine öffentliche Form des Austausches zwischen Bürger:innen und der Politik bieten\n",
    "- höheren Rechenschaftsdruck der Politiker gegenüber den Wähler:innen herbeiführen\n",
    "- Parlamente und Abgeordnete stärker in den Fokus der Öffentlichkeit rücken\n",
    "- umfangreichere und vollständigere Berichterstattung über Politik ermöglichen\n",
    "- Medienberichte leichter hinterfragbar machen\n",
    "- einfachen und direkten Zugang zu politischen Informationen, mehr Transparenz\n",
    "- eine dauerhafte Beteiligungsmöglichkeit für Wähler:innen schaffen\n",
    "\n",
    "\n",
    "**API Dokumentation**\n",
    "\n",
    "https://www.abgeordnetenwatch.de/api"
   ]
  },
  {
   "cell_type": "code",
   "execution_count": null,
   "id": "8b4de6fa",
   "metadata": {},
   "outputs": [],
   "source": [
    "import requests\n",
    "url = 'https://www.abgeordnetenwatch.de/api/v2/politicians'\n",
    "response = requests.get(url)"
   ]
  },
  {
   "cell_type": "markdown",
   "id": "7086aeaf",
   "metadata": {},
   "source": [
    "### Die API Antwort verstehen und deuten"
   ]
  },
  {
   "cell_type": "code",
   "execution_count": null,
   "id": "5bd557e5",
   "metadata": {},
   "outputs": [],
   "source": [
    "response.status_code"
   ]
  },
  {
   "cell_type": "code",
   "execution_count": null,
   "id": "8b797bfa",
   "metadata": {},
   "outputs": [],
   "source": [
    "result = response.json()"
   ]
  },
  {
   "cell_type": "code",
   "execution_count": null,
   "id": "f702a0ee",
   "metadata": {},
   "outputs": [],
   "source": [
    "result"
   ]
  },
  {
   "cell_type": "code",
   "execution_count": null,
   "id": "c9240d7c",
   "metadata": {},
   "outputs": [],
   "source": [
    "type(result)"
   ]
  },
  {
   "cell_type": "code",
   "execution_count": null,
   "id": "20aac35c",
   "metadata": {},
   "outputs": [],
   "source": [
    "result.keys()"
   ]
  },
  {
   "cell_type": "code",
   "execution_count": null,
   "id": "ed860117",
   "metadata": {},
   "outputs": [],
   "source": [
    "result['meta']"
   ]
  },
  {
   "cell_type": "code",
   "execution_count": null,
   "id": "add5254a",
   "metadata": {},
   "outputs": [],
   "source": [
    "result['data']"
   ]
  },
  {
   "cell_type": "code",
   "execution_count": null,
   "id": "04e94f74",
   "metadata": {},
   "outputs": [],
   "source": [
    "type(result['data'])"
   ]
  },
  {
   "cell_type": "code",
   "execution_count": null,
   "id": "d0f60067",
   "metadata": {},
   "outputs": [],
   "source": [
    "len(result['data'])"
   ]
  },
  {
   "cell_type": "code",
   "execution_count": null,
   "id": "e8b4fb84",
   "metadata": {},
   "outputs": [],
   "source": [
    "result['data'][0]"
   ]
  },
  {
   "cell_type": "markdown",
   "id": "dd971324",
   "metadata": {},
   "source": [
    "### Relevante Daten extrahieren"
   ]
  },
  {
   "cell_type": "code",
   "execution_count": null,
   "id": "3bad2acc",
   "metadata": {},
   "outputs": [],
   "source": [
    "url = 'https://www.abgeordnetenwatch.de/api/v2/politicians'\n",
    "response = requests.get(url)\n",
    "data = response.json()['data']"
   ]
  },
  {
   "cell_type": "code",
   "execution_count": null,
   "id": "5f450045",
   "metadata": {},
   "outputs": [],
   "source": [
    "data"
   ]
  },
  {
   "cell_type": "code",
   "execution_count": null,
   "id": "d0bdda87",
   "metadata": {},
   "outputs": [],
   "source": [
    "len(data)"
   ]
  },
  {
   "cell_type": "markdown",
   "id": "fc16733f",
   "metadata": {},
   "source": [
    "### Parameter anpassen\n",
    "\n",
    "Anzahl der Ergebnisse erhöhen"
   ]
  },
  {
   "cell_type": "code",
   "execution_count": null,
   "id": "d01bca1c",
   "metadata": {},
   "outputs": [],
   "source": [
    "url = 'https://www.abgeordnetenwatch.de/api/v2/politicians?&range_end=1000'\n",
    "response = requests.get(url)\n",
    "data = response.json()['data']"
   ]
  },
  {
   "cell_type": "code",
   "execution_count": null,
   "id": "9b0b7eab",
   "metadata": {},
   "outputs": [],
   "source": [
    "data"
   ]
  },
  {
   "cell_type": "code",
   "execution_count": null,
   "id": "db94fda3",
   "metadata": {},
   "outputs": [],
   "source": [
    "len(data)"
   ]
  },
  {
   "cell_type": "markdown",
   "id": "209a2a43",
   "metadata": {},
   "source": [
    "### Request Funktion verallgemeinern"
   ]
  },
  {
   "cell_type": "code",
   "execution_count": null,
   "id": "b2ea6a2a",
   "metadata": {},
   "outputs": [],
   "source": [
    "def request_data(url):\n",
    "    response = requests.get(url)\n",
    "    return response.json()['data']"
   ]
  },
  {
   "cell_type": "code",
   "execution_count": null,
   "id": "02922d7f",
   "metadata": {},
   "outputs": [],
   "source": [
    "url = 'https://www.abgeordnetenwatch.de/api/v2/politicians?&range_end=1000'\n",
    "data = request_data(url)"
   ]
  },
  {
   "cell_type": "code",
   "execution_count": null,
   "id": "6232190b",
   "metadata": {},
   "outputs": [],
   "source": [
    "data"
   ]
  },
  {
   "cell_type": "code",
   "execution_count": null,
   "id": "f806e099",
   "metadata": {},
   "outputs": [],
   "source": [
    "def request_data(url, limit=1000):\n",
    "    limit = f'&range_end={limit}'\n",
    "    response = requests.get(url + limit)\n",
    "    return response.json()['data']"
   ]
  },
  {
   "cell_type": "code",
   "execution_count": null,
   "id": "fc375443",
   "metadata": {},
   "outputs": [],
   "source": [
    "url = 'https://www.abgeordnetenwatch.de/api/v2/politicians?'\n",
    "data = request_data(url, limit=30)"
   ]
  },
  {
   "cell_type": "code",
   "execution_count": null,
   "id": "1fd0887a",
   "metadata": {},
   "outputs": [],
   "source": [
    "len(data)"
   ]
  },
  {
   "cell_type": "markdown",
   "id": "18b2c19b",
   "metadata": {},
   "source": [
    "### Daten zu einzelnen Politikern abfragen\n",
    "\n",
    "\n",
    "https://www.abgeordnetenwatch.de/api/entitaeten/politician"
   ]
  },
  {
   "cell_type": "code",
   "execution_count": null,
   "id": "0f0a8706",
   "metadata": {},
   "outputs": [],
   "source": [
    "politiker_id = '79334'\n",
    "url = f'https://www.abgeordnetenwatch.de/api/v2/politicians/{politiker_id}?'\n",
    "data = request_data(url)"
   ]
  },
  {
   "cell_type": "code",
   "execution_count": null,
   "id": "37375c6a",
   "metadata": {},
   "outputs": [],
   "source": [
    "data"
   ]
  },
  {
   "cell_type": "markdown",
   "id": "92fba566",
   "metadata": {},
   "source": [
    "### In der Query filtern"
   ]
  },
  {
   "cell_type": "code",
   "execution_count": null,
   "id": "b700577b",
   "metadata": {},
   "outputs": [],
   "source": [
    "# Nach Vornamen filtern\n",
    "base_url = 'https://www.abgeordnetenwatch.de/api/v2/politicians?'\n",
    "query_filter = \"first_name=Gregor\"\n",
    "url = base_url + query_filter\n",
    "data = request_data(url)"
   ]
  },
  {
   "cell_type": "code",
   "execution_count": null,
   "id": "632207d9",
   "metadata": {},
   "outputs": [],
   "source": [
    "data"
   ]
  },
  {
   "cell_type": "code",
   "execution_count": null,
   "id": "8d25f7c2",
   "metadata": {},
   "outputs": [],
   "source": [
    "# Nach Geburtsjahr kleiner gleich X\n",
    "base_url = 'https://www.abgeordnetenwatch.de/api/v2/politicians?'\n",
    "query_filter = \"year_of_birth[lte]=1932\"\n",
    "url = base_url + query_filter\n",
    "data = request_data(url)"
   ]
  },
  {
   "cell_type": "code",
   "execution_count": null,
   "id": "ae89f918",
   "metadata": {},
   "outputs": [],
   "source": [
    "data"
   ]
  },
  {
   "cell_type": "code",
   "execution_count": null,
   "id": "21ae99b0",
   "metadata": {},
   "outputs": [],
   "source": [
    "# Mehrere Filter mit & verknüpfen\n",
    "base_url = 'https://www.abgeordnetenwatch.de/api/v2/politicians?'\n",
    "query_filter = \"residence=Leipzig&first_name=Klaus\"\n",
    "url = base_url + query_filter\n",
    "data = request_data(url)"
   ]
  },
  {
   "cell_type": "code",
   "execution_count": null,
   "id": "44eac6f2",
   "metadata": {},
   "outputs": [],
   "source": [
    "data"
   ]
  },
  {
   "cell_type": "code",
   "execution_count": null,
   "id": "2f887248",
   "metadata": {},
   "outputs": [],
   "source": [
    "# Filtern auf Basis einer anderen Entität\n",
    "base_url = 'https://www.abgeordnetenwatch.de/api/v2/politicians?'\n",
    "query_filter = \"party[entity.label]=CDU\"\n",
    "url = base_url + query_filter\n",
    "data = request_data(url)"
   ]
  },
  {
   "cell_type": "code",
   "execution_count": null,
   "id": "de3a9e57",
   "metadata": {},
   "outputs": [],
   "source": [
    "data"
   ]
  },
  {
   "cell_type": "markdown",
   "id": "49b848af",
   "metadata": {},
   "source": [
    "### Aktuelle Abstimmungen im Bundestag\n",
    "\n",
    "https://www.abgeordnetenwatch.de/api/entitaeten/poll"
   ]
  },
  {
   "cell_type": "code",
   "execution_count": null,
   "id": "88228f18",
   "metadata": {},
   "outputs": [],
   "source": [
    "poll_id = 4876\n",
    "url = f'https://www.abgeordnetenwatch.de/api/v2/polls/{poll_id}?'\n",
    "data = request_data(url)"
   ]
  },
  {
   "cell_type": "code",
   "execution_count": null,
   "id": "e8118071",
   "metadata": {},
   "outputs": [],
   "source": [
    "data"
   ]
  },
  {
   "cell_type": "code",
   "execution_count": null,
   "id": "936e44b4",
   "metadata": {},
   "outputs": [],
   "source": [
    "# Alle Abstimmungen der Abgeordneten\n",
    "poll_id = '4876'\n",
    "url = f'https://www.abgeordnetenwatch.de/api/v2/votes?poll={poll_id}'\n",
    "data = request_data(url)"
   ]
  },
  {
   "cell_type": "code",
   "execution_count": null,
   "id": "372758df",
   "metadata": {},
   "outputs": [],
   "source": [
    "data"
   ]
  },
  {
   "cell_type": "code",
   "execution_count": null,
   "id": "e85ac9e1",
   "metadata": {},
   "outputs": [],
   "source": [
    "len(data)"
   ]
  },
  {
   "cell_type": "markdown",
   "id": "98c21061",
   "metadata": {},
   "source": [
    "### Daten in DataFrame umwandeln und bearbeiten"
   ]
  },
  {
   "cell_type": "code",
   "execution_count": null,
   "id": "9451aaf2",
   "metadata": {},
   "outputs": [],
   "source": [
    "import pandas as pd\n",
    "df = pd.DataFrame(data)"
   ]
  },
  {
   "cell_type": "code",
   "execution_count": null,
   "id": "2a392c75",
   "metadata": {},
   "outputs": [],
   "source": [
    "df"
   ]
  },
  {
   "cell_type": "code",
   "execution_count": null,
   "id": "a9f3d112",
   "metadata": {},
   "outputs": [],
   "source": [
    "def extract_name(label):\n",
    "    return label.split('-')[0].strip()"
   ]
  },
  {
   "cell_type": "code",
   "execution_count": null,
   "id": "6d4a7ffa",
   "metadata": {},
   "outputs": [],
   "source": [
    "df['name'] = df['label'].apply(extract_name)"
   ]
  },
  {
   "cell_type": "code",
   "execution_count": null,
   "id": "c656438c",
   "metadata": {},
   "outputs": [],
   "source": [
    "def extract_fraction(fraction_dict):\n",
    "    label = fraction_dict['label']\n",
    "    return label.split('(')[0].strip()"
   ]
  },
  {
   "cell_type": "code",
   "execution_count": null,
   "id": "bc306afb",
   "metadata": {},
   "outputs": [],
   "source": [
    "extract_fraction(data[0]['fraction'])"
   ]
  },
  {
   "cell_type": "code",
   "execution_count": null,
   "id": "7f75d8bf",
   "metadata": {},
   "outputs": [],
   "source": [
    "df['fraction'] = df['fraction'].apply(extract_fraction)"
   ]
  },
  {
   "cell_type": "code",
   "execution_count": null,
   "id": "f2ca2e06",
   "metadata": {},
   "outputs": [],
   "source": [
    "df"
   ]
  },
  {
   "cell_type": "markdown",
   "id": "a57308d4",
   "metadata": {},
   "source": [
    "### Abstimmungsverhalten nach Partei"
   ]
  },
  {
   "cell_type": "code",
   "execution_count": null,
   "id": "e615c1a0",
   "metadata": {},
   "outputs": [],
   "source": [
    "df = df[['name', 'fraction', 'vote', 'reason_no_show',]]"
   ]
  },
  {
   "cell_type": "code",
   "execution_count": null,
   "id": "8464773e",
   "metadata": {},
   "outputs": [],
   "source": [
    "df.groupby('fraction')['vote'].value_counts()"
   ]
  },
  {
   "cell_type": "markdown",
   "id": "dba65d9b",
   "metadata": {},
   "source": [
    "### Daten speichern"
   ]
  },
  {
   "cell_type": "code",
   "execution_count": null,
   "id": "925baf15",
   "metadata": {},
   "outputs": [],
   "source": [
    "df.to_csv('abstimmung.csv')"
   ]
  },
  {
   "cell_type": "markdown",
   "id": "e74a7453",
   "metadata": {
    "slideshow": {
     "slide_type": "slide"
    }
   },
   "source": [
    "# Zeit für Feedback\n",
    "\n",
    "\n",
    "\n",
    "Link: https://ahaslides.com/JQFRG\n",
    "\n",
    "![Feedback QR Code](../imgs/qrcode_vl8.png)\n",
    "\n"
   ]
  }
 ],
 "metadata": {
  "celltoolbar": "Slideshow",
  "kernelspec": {
   "display_name": "Python 3 (ipykernel)",
   "language": "python",
   "name": "python3"
  },
  "language_info": {
   "codemirror_mode": {
    "name": "ipython",
    "version": 3
   },
   "file_extension": ".py",
   "mimetype": "text/x-python",
   "name": "python",
   "nbconvert_exporter": "python",
   "pygments_lexer": "ipython3",
   "version": "3.9.15"
  }
 },
 "nbformat": 4,
 "nbformat_minor": 5
}
