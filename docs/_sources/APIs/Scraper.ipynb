{
 "cells": [
  {
   "cell_type": "markdown",
   "id": "7e785d50",
   "metadata": {
    "slideshow": {
     "slide_type": "slide"
    }
   },
   "source": [
    "# Web Scraping\n",
    "\n",
    " ### Inhalte\n",
    " \n",
    " - Was ist Web Scraping? \n",
    " - Die Grundlagen von Webseiten verstehen\n",
    " - Einen Scraper in Python bauen\n"
   ]
  },
  {
   "cell_type": "markdown",
   "id": "54c2047c",
   "metadata": {
    "slideshow": {
     "slide_type": "slide"
    }
   },
   "source": [
    "# Was ist Web Scraping?\n",
    "\n",
    "**to scrape:** etw. abkratzen, schaben, schürfen\n",
    "\n",
    "Unter Web Scraping versteht man das Extrahieren (oder Abkratzen) von Inhalten und Daten von Webseiten. \n",
    "\n",
    "\n",
    "Ein Scraper ist ein Programm (Python-Skript) mit zwei Kernaufgaben:\n",
    "\n",
    "- dem Aufrufen der gewünschten Webseiten\n",
    "- die Extraktion und Ablage der relevanten Informationen\n",
    "\n",
    "\n",
    "![API](../../imgs/scraping.png)\n",
    "Quelle: https://kinsta.com/de/wissensdatenbank/was-ist-web-scraping/\n",
    "\n",
    "\n"
   ]
  },
  {
   "cell_type": "markdown",
   "id": "9799501c",
   "metadata": {
    "slideshow": {
     "slide_type": "slide"
    }
   },
   "source": [
    "## Web Crawling vs. Web Scraping\n",
    "\n",
    "![Crawler vs Scraper](../../imgs/crawl_vs_scrape.png)\n",
    "![Crawler vs Scraper](../../imgs/crawler.png)\n",
    "\n",
    "Quellen:\n",
    "\n",
    "https://limeproxies.netlify.app/blog/crawling-vs-scraping\n",
    "\n",
    "https://dev.to/soax/web-crawling-vs-web-scraping-what-is-the-difference-4chl\n"
   ]
  },
  {
   "cell_type": "markdown",
   "id": "762e9b05",
   "metadata": {
    "slideshow": {
     "slide_type": "slide"
    }
   },
   "source": [
    "## Wann benutzen wir Scraper?\n",
    "\n",
    "- Wenn die gewünschten Daten nicht verfügbar sind:\n",
    "    - keine Datenfiles (csv, json, excel, etc.)\n",
    "    - keine API Schnittstelle\n",
    "- Wenn die Informationen auf einer (oder mehreren) Webseiten\n",
    "    - strukturiert abrufbar sind\n",
    "    - nicht hinter Paywalls, Passwörtern oder Captchas versteckt sind\n"
   ]
  },
  {
   "cell_type": "markdown",
   "id": "3511f51b",
   "metadata": {
    "slideshow": {
     "slide_type": "slide"
    }
   },
   "source": [
    "## Ist Scrapen legal?\n",
    "\n",
    "Die kurze Antwort: **Meistens ja, aber es kommt drauf an.**\n",
    "\n",
    "    \n",
    "Öffentlich zugängliche Daten, also Inhalte ohne \"Schutzvorrichtungen\", zu sammeln ist legal unter Berücksichtigung des  Urheberrechts und bei personenbezogenen Daten auch der DSGVO.\n",
    "\n",
    "\n",
    "Quelle: https://www.computerwoche.de/a/was-ist-scraping,3551081\n",
    "\n",
    "\n"
   ]
  },
  {
   "cell_type": "markdown",
   "id": "44b03f8c",
   "metadata": {
    "slideshow": {
     "slide_type": "slide"
    }
   },
   "source": [
    "## Robots.txt\n",
    "\n",
    "Viele Webseiten veröffentlichen eine *robots.txt* Datei. Diese zeigt an ob und wie Bots auf der Seite erlaubt sind.\n",
    "\n",
    "Beispielsweise:\n",
    "\n",
    "- https://www.uni-leipzig.de/robots.txt\n",
    "- https://www.airbnb.com/robots.txt\n"
   ]
  },
  {
   "cell_type": "markdown",
   "id": "dcd4f0bb",
   "metadata": {
    "slideshow": {
     "slide_type": "slide"
    }
   },
   "source": [
    "# Die Grundlagen von Webseiten verstehen\n",
    "\n",
    "Die Grundlage einer Webseite besteht aus einem **Hypertext Markup Language (HTML)** File.\n",
    "Dieses teilt die Seite in Abschnitte ein und definiert welche Textabschnitte Überschriften oder Paragraphen sind.\n",
    "\n",
    "\n",
    "Mit **Cascading Style Sheets (CSS)** wird das Design festgelegt, beispielsweise die Schriftart und Schriftfarbe oder die Abstände zwischen Textelementen.\n",
    "\n",
    "Zusätzlich wird **JavaScript** verwendet um PopUps oder interaktive Elemente auf eine Webseite einzufügen.\n",
    "\n",
    "\n",
    "Die Entwicklertools im Browser helfen eine Seite zu verstehen.\n"
   ]
  },
  {
   "cell_type": "markdown",
   "id": "8227ad1d",
   "metadata": {},
   "source": [
    "# Einen Scraper bauen"
   ]
  },
  {
   "cell_type": "code",
   "execution_count": null,
   "id": "a64a7f00",
   "metadata": {
    "tags": [
     "skip-execution"
    ]
   },
   "outputs": [],
   "source": [
    "!pip install requests\n",
    "import requests"
   ]
  },
  {
   "cell_type": "code",
   "execution_count": null,
   "id": "a8077621",
   "metadata": {},
   "outputs": [],
   "source": [
    "url = 'https://www.mdr.de/nachrichten/sachsen/index.html'\n",
    "response = requests.get(url)"
   ]
  },
  {
   "cell_type": "code",
   "execution_count": null,
   "id": "31c29f65",
   "metadata": {},
   "outputs": [],
   "source": [
    "response"
   ]
  },
  {
   "cell_type": "code",
   "execution_count": null,
   "id": "08c3726a",
   "metadata": {},
   "outputs": [],
   "source": [
    "dir(response)"
   ]
  },
  {
   "cell_type": "code",
   "execution_count": null,
   "id": "7c6b4eba",
   "metadata": {},
   "outputs": [],
   "source": [
    "response.status_code"
   ]
  },
  {
   "cell_type": "code",
   "execution_count": null,
   "id": "529325e4",
   "metadata": {},
   "outputs": [],
   "source": [
    "response.json()"
   ]
  },
  {
   "cell_type": "code",
   "execution_count": null,
   "id": "85ff18d7",
   "metadata": {},
   "outputs": [],
   "source": [
    "response.text"
   ]
  },
  {
   "cell_type": "code",
   "execution_count": null,
   "id": "469302f3",
   "metadata": {},
   "outputs": [],
   "source": [
    "type(response.text)"
   ]
  },
  {
   "cell_type": "code",
   "execution_count": null,
   "id": "ea1d1bb2",
   "metadata": {},
   "outputs": [],
   "source": [
    "'Wetter' in response.text"
   ]
  },
  {
   "cell_type": "code",
   "execution_count": null,
   "id": "f42eff19",
   "metadata": {},
   "outputs": [],
   "source": [
    "response.text.find(\"title\")"
   ]
  },
  {
   "cell_type": "code",
   "execution_count": null,
   "id": "98534b44",
   "metadata": {},
   "outputs": [],
   "source": [
    "response.text[170:250]"
   ]
  },
  {
   "cell_type": "markdown",
   "id": "4542a9df",
   "metadata": {},
   "source": [
    "# BeautifulSoup\n",
    "\n",
    "Beautiful Soup is a Python library for pulling data out of HTML and XML files. It works with your favorite parser to provide idiomatic ways of navigating, searching, and modifying the parse tree. It commonly saves programmers hours or days of work.\n",
    "\n",
    "Dokumentation: https://beautiful-soup-4.readthedocs.io/en/latest/"
   ]
  },
  {
   "cell_type": "code",
   "execution_count": null,
   "id": "430a93a9",
   "metadata": {},
   "outputs": [],
   "source": [
    "!pip3 install beautifulsoup4"
   ]
  },
  {
   "cell_type": "code",
   "execution_count": null,
   "id": "89e0d16d",
   "metadata": {},
   "outputs": [],
   "source": [
    "import requests \n",
    "from bs4 import BeautifulSoup\n",
    "\n",
    "results = BeautifulSoup(response.text, 'html.parser')"
   ]
  },
  {
   "cell_type": "code",
   "execution_count": null,
   "id": "f0c77159",
   "metadata": {},
   "outputs": [],
   "source": [
    "results"
   ]
  },
  {
   "cell_type": "code",
   "execution_count": null,
   "id": "4c075338",
   "metadata": {},
   "outputs": [],
   "source": [
    "type(results)"
   ]
  },
  {
   "cell_type": "code",
   "execution_count": null,
   "id": "078be886",
   "metadata": {},
   "outputs": [],
   "source": [
    "dir(results)"
   ]
  },
  {
   "cell_type": "markdown",
   "id": "ac6d73ab",
   "metadata": {},
   "source": [
    "### Nachrichtenblöcke finden"
   ]
  },
  {
   "cell_type": "code",
   "execution_count": null,
   "id": "927c1f1f",
   "metadata": {},
   "outputs": [],
   "source": [
    "teaser = results.find_all('div', class_='teaser')"
   ]
  },
  {
   "cell_type": "code",
   "execution_count": null,
   "id": "85c92b25",
   "metadata": {},
   "outputs": [],
   "source": [
    "teaser"
   ]
  },
  {
   "cell_type": "code",
   "execution_count": null,
   "id": "edc4812b",
   "metadata": {},
   "outputs": [],
   "source": [
    "teaser = results.find_all('a', class_='linkAll')"
   ]
  },
  {
   "cell_type": "code",
   "execution_count": null,
   "id": "d9342e9f",
   "metadata": {},
   "outputs": [],
   "source": [
    "teaser"
   ]
  },
  {
   "cell_type": "code",
   "execution_count": null,
   "id": "f8acb457",
   "metadata": {},
   "outputs": [],
   "source": [
    "type(teaser)"
   ]
  },
  {
   "cell_type": "code",
   "execution_count": null,
   "id": "0406ccb2",
   "metadata": {},
   "outputs": [],
   "source": [
    "len(teaser)"
   ]
  },
  {
   "cell_type": "code",
   "execution_count": null,
   "id": "2f0aa824",
   "metadata": {},
   "outputs": [],
   "source": [
    "teaser[0]"
   ]
  },
  {
   "cell_type": "code",
   "execution_count": null,
   "id": "383e4090",
   "metadata": {},
   "outputs": [],
   "source": [
    "teaser[1]"
   ]
  },
  {
   "cell_type": "markdown",
   "id": "332e826a",
   "metadata": {},
   "source": [
    "## Aufgabe\n",
    "\n",
    "Finde alle Überschriften (Headlines) auf der Seite"
   ]
  },
  {
   "cell_type": "code",
   "execution_count": null,
   "id": "85554580",
   "metadata": {},
   "outputs": [],
   "source": []
  },
  {
   "cell_type": "code",
   "execution_count": null,
   "id": "34aa361f",
   "metadata": {},
   "outputs": [],
   "source": [
    "headlines"
   ]
  },
  {
   "cell_type": "code",
   "execution_count": null,
   "id": "a55ba429",
   "metadata": {},
   "outputs": [],
   "source": [
    "headlines[0]"
   ]
  },
  {
   "cell_type": "code",
   "execution_count": null,
   "id": "e19f0e01",
   "metadata": {},
   "outputs": [],
   "source": [
    "type(headlines[0])"
   ]
  },
  {
   "cell_type": "markdown",
   "id": "0848e505",
   "metadata": {},
   "source": [
    "## Beautiful Soup Tag Element\n",
    "\n",
    "https://beautiful-soup-4.readthedocs.io/en/latest/#kinds-of-objects"
   ]
  },
  {
   "cell_type": "code",
   "execution_count": null,
   "id": "a1b23b28",
   "metadata": {},
   "outputs": [],
   "source": [
    "dir(headlines[0])"
   ]
  },
  {
   "cell_type": "code",
   "execution_count": null,
   "id": "bdab5dc7",
   "metadata": {},
   "outputs": [],
   "source": [
    "headlines[0].text"
   ]
  },
  {
   "cell_type": "markdown",
   "id": "89dc7682",
   "metadata": {},
   "source": [
    "## Aufgabe\n",
    "\n",
    "Iteriere durch alle Headlines und gibt den Text aus"
   ]
  },
  {
   "cell_type": "code",
   "execution_count": null,
   "id": "0ded1429",
   "metadata": {},
   "outputs": [],
   "source": []
  },
  {
   "cell_type": "markdown",
   "id": "815c9665",
   "metadata": {},
   "source": [
    "## Duplikate entfernen"
   ]
  },
  {
   "cell_type": "code",
   "execution_count": null,
   "id": "8c763102",
   "metadata": {},
   "outputs": [],
   "source": [
    "# Duplikate entfernen\n",
    "titel = []\n",
    "for headline in headlines:\n",
    "    clean_headline = headline.text.strip()\n",
    "    if clean_headline not in titel:\n",
    "        titel.append(clean_headline)\n",
    "\n",
    "# Titel ausgeben        \n",
    "for elem in titel:\n",
    "    print(elem)"
   ]
  },
  {
   "cell_type": "markdown",
   "id": "c2ce6ff8",
   "metadata": {},
   "source": [
    "## Auf Links zugreifen"
   ]
  },
  {
   "cell_type": "code",
   "execution_count": null,
   "id": "9fc7137b",
   "metadata": {},
   "outputs": [],
   "source": [
    "headlines"
   ]
  },
  {
   "cell_type": "code",
   "execution_count": null,
   "id": "3f353d9d",
   "metadata": {},
   "outputs": [],
   "source": [
    "headlines[0].get('title')"
   ]
  },
  {
   "cell_type": "code",
   "execution_count": null,
   "id": "cf244794",
   "metadata": {},
   "outputs": [],
   "source": [
    "headlines[0].get('href')"
   ]
  },
  {
   "cell_type": "markdown",
   "id": "fac8c9b1",
   "metadata": {},
   "source": [
    "## Titel und Link in Dictionary speichern"
   ]
  },
  {
   "cell_type": "code",
   "execution_count": null,
   "id": "4b3da3f8",
   "metadata": {},
   "outputs": [],
   "source": [
    "data = []\n",
    "titel = []\n",
    "for headline in headlines:\n",
    "    clean_headline = headline.text.strip()\n",
    "    if clean_headline not in titel:\n",
    "        current_data = {'titel': clean_headline,\n",
    "                        'link': headline.get('href')}\n",
    "        data.append(current_data)\n",
    "        titel.append(clean_headline)"
   ]
  },
  {
   "cell_type": "code",
   "execution_count": null,
   "id": "3a2c4610",
   "metadata": {},
   "outputs": [],
   "source": [
    "# Einzelnen Elemente ausgeben\n",
    "for elem in data:\n",
    "    print(elem)"
   ]
  },
  {
   "cell_type": "code",
   "execution_count": null,
   "id": "12623a70",
   "metadata": {},
   "outputs": [],
   "source": [
    "data[0]"
   ]
  },
  {
   "cell_type": "markdown",
   "id": "98f15870",
   "metadata": {},
   "source": [
    "## Daten in Dataframe umwandeln und speichern"
   ]
  },
  {
   "cell_type": "code",
   "execution_count": null,
   "id": "23a2278b",
   "metadata": {},
   "outputs": [],
   "source": [
    "import pandas as pd\n",
    "df = pd.DataFrame(data)"
   ]
  },
  {
   "cell_type": "code",
   "execution_count": null,
   "id": "28ecf636",
   "metadata": {},
   "outputs": [],
   "source": [
    "df"
   ]
  },
  {
   "cell_type": "code",
   "execution_count": null,
   "id": "21749dd5",
   "metadata": {},
   "outputs": [],
   "source": [
    "df.to_csv('nachrichten_sachsen.csv')"
   ]
  },
  {
   "cell_type": "markdown",
   "id": "c81cd785",
   "metadata": {},
   "source": [
    "## Informationen auf den einzelnen Seiten holen"
   ]
  },
  {
   "cell_type": "code",
   "execution_count": null,
   "id": "afd26a73",
   "metadata": {},
   "outputs": [],
   "source": [
    "data[0]['link']"
   ]
  },
  {
   "cell_type": "code",
   "execution_count": null,
   "id": "61bb48b2",
   "metadata": {},
   "outputs": [],
   "source": [
    "base_url = \"https://www.mdr.de/\"\n",
    "url = base_url + data[0]['link']"
   ]
  },
  {
   "cell_type": "code",
   "execution_count": null,
   "id": "14295f4d",
   "metadata": {},
   "outputs": [],
   "source": [
    "print(url)"
   ]
  },
  {
   "cell_type": "code",
   "execution_count": null,
   "id": "47fd0dfe",
   "metadata": {},
   "outputs": [],
   "source": [
    "response = requests.get(url)\n",
    "result = BeautifulSoup(response.text, 'html.parser')"
   ]
  },
  {
   "cell_type": "code",
   "execution_count": null,
   "id": "62d43c20",
   "metadata": {},
   "outputs": [],
   "source": [
    "result"
   ]
  },
  {
   "cell_type": "markdown",
   "id": "6270a0ba",
   "metadata": {},
   "source": [
    "### Den Autor extrahieren"
   ]
  },
  {
   "cell_type": "code",
   "execution_count": null,
   "id": "9c74aa02",
   "metadata": {},
   "outputs": [],
   "source": [
    "author = result.find('p', class_='author').text"
   ]
  },
  {
   "cell_type": "code",
   "execution_count": null,
   "id": "8db7a545",
   "metadata": {},
   "outputs": [],
   "source": [
    "author"
   ]
  },
  {
   "cell_type": "code",
   "execution_count": null,
   "id": "33f084ca",
   "metadata": {},
   "outputs": [],
   "source": []
  },
  {
   "cell_type": "markdown",
   "id": "8aae440f",
   "metadata": {},
   "source": [
    "### Das Veröffentlichungsdatum extrahieren"
   ]
  },
  {
   "cell_type": "code",
   "execution_count": null,
   "id": "6446d0c1",
   "metadata": {},
   "outputs": [],
   "source": [
    "webtime = result.find('p', class_='webtime')"
   ]
  },
  {
   "cell_type": "code",
   "execution_count": null,
   "id": "1d186e52",
   "metadata": {},
   "outputs": [],
   "source": [
    "dateinfo = webtime.select('span')"
   ]
  },
  {
   "cell_type": "code",
   "execution_count": null,
   "id": "efeabec1",
   "metadata": {},
   "outputs": [],
   "source": [
    "dateinfo"
   ]
  },
  {
   "cell_type": "code",
   "execution_count": null,
   "id": "e69c2785",
   "metadata": {},
   "outputs": [],
   "source": [
    "dateinfo[1].text"
   ]
  },
  {
   "cell_type": "code",
   "execution_count": null,
   "id": "5a969988",
   "metadata": {},
   "outputs": [],
   "source": [
    "full_date = dateinfo[1].text + dateinfo[2].text"
   ]
  },
  {
   "cell_type": "markdown",
   "id": "c39460e8",
   "metadata": {},
   "source": [
    "## Abstecher: Timestamps in Python\n",
    "\n",
    "String Datum in Datetime umwandeln.\n",
    "\n",
    "Module: Datetime\n",
    " - https://docs.python.org/3/library/datetime.html\n",
    " \n",
    "Funktion: Strptime\n",
    " https://www.geeksforgeeks.org/python-datetime-strptime-function/"
   ]
  },
  {
   "cell_type": "code",
   "execution_count": null,
   "id": "eb197005",
   "metadata": {},
   "outputs": [],
   "source": [
    "from datetime import datetime\n",
    "import locale\n",
    "\n",
    "locale.setlocale(locale.LC_ALL, 'de_DE.utf8')\n",
    "\n",
    "datetime.strptime(dateinfo[1].text, '%d. %B %Y, ')"
   ]
  },
  {
   "cell_type": "code",
   "execution_count": null,
   "id": "b85525e8",
   "metadata": {},
   "outputs": [],
   "source": [
    "full_date"
   ]
  },
  {
   "cell_type": "code",
   "execution_count": null,
   "id": "d3abbbf4",
   "metadata": {},
   "outputs": [],
   "source": [
    "from datetime import datetime\n",
    "import locale\n",
    "locale.setlocale(locale.LC_ALL, 'de_DE.utf8')\n",
    "\n",
    "def create_timestamp(elements):\n",
    "    date = elements[1].text\n",
    "    time = elements[2].text\n",
    "    return datetime.strptime(date + time, '%d. %B %Y, %H:%M Uhr')"
   ]
  },
  {
   "cell_type": "code",
   "execution_count": null,
   "id": "258bf118",
   "metadata": {},
   "outputs": [],
   "source": [
    "create_timestamp(dateinfo)"
   ]
  },
  {
   "cell_type": "markdown",
   "id": "be6ebff8",
   "metadata": {},
   "source": [
    "## Aufgabe:\n",
    "\n",
    "Extrahiere von allen gespeicherten Links die Autoren und das zugehörige Veröffentlichungsdatum"
   ]
  },
  {
   "cell_type": "code",
   "execution_count": null,
   "id": "77283b5b",
   "metadata": {},
   "outputs": [],
   "source": []
  }
 ],
 "metadata": {
  "celltoolbar": "Tags",
  "kernelspec": {
   "display_name": "Python 3 (ipykernel)",
   "language": "python",
   "name": "python3"
  },
  "language_info": {
   "codemirror_mode": {
    "name": "ipython",
    "version": 3
   },
   "file_extension": ".py",
   "mimetype": "text/x-python",
   "name": "python",
   "nbconvert_exporter": "python",
   "pygments_lexer": "ipython3",
   "version": "3.9.15"
  },
  "vscode": {
   "interpreter": {
    "hash": "f9f85f796d01129d0dd105a088854619f454435301f6ffec2fea96ecbd9be4ac"
   }
  }
 },
 "nbformat": 4,
 "nbformat_minor": 5
}
