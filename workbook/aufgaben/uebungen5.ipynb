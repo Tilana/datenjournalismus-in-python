{
 "cells": [
  {
   "cell_type": "markdown",
   "source": [
    "# Übung 5"
   ],
   "metadata": {
    "collapsed": false
   }
  },
  {
   "cell_type": "markdown",
   "source": [
    "## Pakete"
   ],
   "metadata": {
    "collapsed": false
   }
  },
  {
   "cell_type": "markdown",
   "source": [
    "Importiere das Modul \"math\" und runde mit \"floor\" den Wert 2.77259 ab."
   ],
   "metadata": {
    "collapsed": false
   }
  },
  {
   "cell_type": "code",
   "execution_count": null,
   "outputs": [],
   "source": [
    "# Dein Code"
   ],
   "metadata": {
    "collapsed": false
   }
  },
  {
   "cell_type": "markdown",
   "source": [
    "Importiere aus dem Modul \"math\" die Funktion \"log\" als einzige Funktion und berechne den Logarithmus von 100 zur Basis 4"
   ],
   "metadata": {
    "collapsed": false
   }
  },
  {
   "cell_type": "code",
   "execution_count": null,
   "outputs": [],
   "source": [
    "# Dein Code"
   ],
   "metadata": {
    "collapsed": false
   }
  },
  {
   "cell_type": "markdown",
   "source": [
    "Importiere die Funktion \"sqrt\" aus dem Modul \"math\" als die Funktion \"wurzel_aus\"."
   ],
   "metadata": {
    "collapsed": false
   }
  },
  {
   "cell_type": "code",
   "execution_count": null,
   "outputs": [],
   "source": [
    "# Dein Code"
   ],
   "metadata": {
    "collapsed": false
   }
  },
  {
   "cell_type": "markdown",
   "source": [
    "## Pandas"
   ],
   "metadata": {
    "collapsed": false
   }
  },
  {
   "cell_type": "markdown",
   "source": [],
   "metadata": {
    "collapsed": false
   }
  },
  {
   "cell_type": "code",
   "execution_count": 4,
   "metadata": {
    "collapsed": true
   },
   "outputs": [
    {
     "data": {
      "text/plain": "          Date  Josip Broz Tito  Saban Saulic  Bijelo Dugme\n0   2022-10-26             2300             5           192\n1   2022-10-27             2440             4           192\n2   2022-10-28             2314             0           223\n3   2022-10-29             2253             2           238\n4   2022-10-30             2258             0           274\n5   2022-10-31             2425             3           207\n6   2022-11-01             2682             1           237\n7   2022-11-02             2625             3           196\n8   2022-11-03             2505             4           178\n9   2022-11-04             2267             5           231\n10  2022-11-05             2257             0           247\n11  2022-11-06             2379             2           271\n12  2022-11-07             2513             2           207\n13  2022-11-08             2548             2           227\n14  2022-11-09             2189             1           173\n15  2022-11-10             2279             2           185\n16  2022-11-11             2347             3           267\n17  2022-11-12             2168             3           294\n18  2022-11-13             2461             2           340\n19  2022-11-14             2525             2           202\n20  2022-11-15             2528             3           231",
      "text/html": "<div>\n<style scoped>\n    .dataframe tbody tr th:only-of-type {\n        vertical-align: middle;\n    }\n\n    .dataframe tbody tr th {\n        vertical-align: top;\n    }\n\n    .dataframe thead th {\n        text-align: right;\n    }\n</style>\n<table border=\"1\" class=\"dataframe\">\n  <thead>\n    <tr style=\"text-align: right;\">\n      <th></th>\n      <th>Date</th>\n      <th>Josip Broz Tito</th>\n      <th>Saban Saulic</th>\n      <th>Bijelo Dugme</th>\n    </tr>\n  </thead>\n  <tbody>\n    <tr>\n      <th>0</th>\n      <td>2022-10-26</td>\n      <td>2300</td>\n      <td>5</td>\n      <td>192</td>\n    </tr>\n    <tr>\n      <th>1</th>\n      <td>2022-10-27</td>\n      <td>2440</td>\n      <td>4</td>\n      <td>192</td>\n    </tr>\n    <tr>\n      <th>2</th>\n      <td>2022-10-28</td>\n      <td>2314</td>\n      <td>0</td>\n      <td>223</td>\n    </tr>\n    <tr>\n      <th>3</th>\n      <td>2022-10-29</td>\n      <td>2253</td>\n      <td>2</td>\n      <td>238</td>\n    </tr>\n    <tr>\n      <th>4</th>\n      <td>2022-10-30</td>\n      <td>2258</td>\n      <td>0</td>\n      <td>274</td>\n    </tr>\n    <tr>\n      <th>5</th>\n      <td>2022-10-31</td>\n      <td>2425</td>\n      <td>3</td>\n      <td>207</td>\n    </tr>\n    <tr>\n      <th>6</th>\n      <td>2022-11-01</td>\n      <td>2682</td>\n      <td>1</td>\n      <td>237</td>\n    </tr>\n    <tr>\n      <th>7</th>\n      <td>2022-11-02</td>\n      <td>2625</td>\n      <td>3</td>\n      <td>196</td>\n    </tr>\n    <tr>\n      <th>8</th>\n      <td>2022-11-03</td>\n      <td>2505</td>\n      <td>4</td>\n      <td>178</td>\n    </tr>\n    <tr>\n      <th>9</th>\n      <td>2022-11-04</td>\n      <td>2267</td>\n      <td>5</td>\n      <td>231</td>\n    </tr>\n    <tr>\n      <th>10</th>\n      <td>2022-11-05</td>\n      <td>2257</td>\n      <td>0</td>\n      <td>247</td>\n    </tr>\n    <tr>\n      <th>11</th>\n      <td>2022-11-06</td>\n      <td>2379</td>\n      <td>2</td>\n      <td>271</td>\n    </tr>\n    <tr>\n      <th>12</th>\n      <td>2022-11-07</td>\n      <td>2513</td>\n      <td>2</td>\n      <td>207</td>\n    </tr>\n    <tr>\n      <th>13</th>\n      <td>2022-11-08</td>\n      <td>2548</td>\n      <td>2</td>\n      <td>227</td>\n    </tr>\n    <tr>\n      <th>14</th>\n      <td>2022-11-09</td>\n      <td>2189</td>\n      <td>1</td>\n      <td>173</td>\n    </tr>\n    <tr>\n      <th>15</th>\n      <td>2022-11-10</td>\n      <td>2279</td>\n      <td>2</td>\n      <td>185</td>\n    </tr>\n    <tr>\n      <th>16</th>\n      <td>2022-11-11</td>\n      <td>2347</td>\n      <td>3</td>\n      <td>267</td>\n    </tr>\n    <tr>\n      <th>17</th>\n      <td>2022-11-12</td>\n      <td>2168</td>\n      <td>3</td>\n      <td>294</td>\n    </tr>\n    <tr>\n      <th>18</th>\n      <td>2022-11-13</td>\n      <td>2461</td>\n      <td>2</td>\n      <td>340</td>\n    </tr>\n    <tr>\n      <th>19</th>\n      <td>2022-11-14</td>\n      <td>2525</td>\n      <td>2</td>\n      <td>202</td>\n    </tr>\n    <tr>\n      <th>20</th>\n      <td>2022-11-15</td>\n      <td>2528</td>\n      <td>3</td>\n      <td>231</td>\n    </tr>\n  </tbody>\n</table>\n</div>"
     },
     "execution_count": 4,
     "metadata": {},
     "output_type": "execute_result"
    }
   ],
   "source": [
    "import pandas as pd\n",
    "df = pd.read_csv('pageviews-20221026-20221115.csv')\n",
    "df"
   ]
  },
  {
   "cell_type": "code",
   "execution_count": 6,
   "outputs": [
    {
     "name": "stdout",
     "output_type": "stream",
     "text": [
      "<class 'pandas.core.frame.DataFrame'>\n",
      "RangeIndex: 21 entries, 0 to 20\n",
      "Data columns (total 4 columns):\n",
      " #   Column           Non-Null Count  Dtype \n",
      "---  ------           --------------  ----- \n",
      " 0   Date             21 non-null     object\n",
      " 1   Josip Broz Tito  21 non-null     int64 \n",
      " 2   Saban Saulic     21 non-null     int64 \n",
      " 3   Bijelo Dugme     21 non-null     int64 \n",
      "dtypes: int64(3), object(1)\n",
      "memory usage: 800.0+ bytes\n"
     ]
    }
   ],
   "source": [
    "df.info()"
   ],
   "metadata": {
    "collapsed": false
   }
  },
  {
   "cell_type": "code",
   "execution_count": 7,
   "outputs": [
    {
     "data": {
      "text/plain": "       Josip Broz Tito  Saban Saulic  Bijelo Dugme\ncount        21.000000     21.000000     21.000000\nmean       2393.476190      2.333333    229.142857\nstd         146.022471      1.460593     42.126341\nmin        2168.000000      0.000000    173.000000\n25%        2267.000000      2.000000    196.000000\n50%        2379.000000      2.000000    227.000000\n75%        2513.000000      3.000000    247.000000\nmax        2682.000000      5.000000    340.000000",
      "text/html": "<div>\n<style scoped>\n    .dataframe tbody tr th:only-of-type {\n        vertical-align: middle;\n    }\n\n    .dataframe tbody tr th {\n        vertical-align: top;\n    }\n\n    .dataframe thead th {\n        text-align: right;\n    }\n</style>\n<table border=\"1\" class=\"dataframe\">\n  <thead>\n    <tr style=\"text-align: right;\">\n      <th></th>\n      <th>Josip Broz Tito</th>\n      <th>Saban Saulic</th>\n      <th>Bijelo Dugme</th>\n    </tr>\n  </thead>\n  <tbody>\n    <tr>\n      <th>count</th>\n      <td>21.000000</td>\n      <td>21.000000</td>\n      <td>21.000000</td>\n    </tr>\n    <tr>\n      <th>mean</th>\n      <td>2393.476190</td>\n      <td>2.333333</td>\n      <td>229.142857</td>\n    </tr>\n    <tr>\n      <th>std</th>\n      <td>146.022471</td>\n      <td>1.460593</td>\n      <td>42.126341</td>\n    </tr>\n    <tr>\n      <th>min</th>\n      <td>2168.000000</td>\n      <td>0.000000</td>\n      <td>173.000000</td>\n    </tr>\n    <tr>\n      <th>25%</th>\n      <td>2267.000000</td>\n      <td>2.000000</td>\n      <td>196.000000</td>\n    </tr>\n    <tr>\n      <th>50%</th>\n      <td>2379.000000</td>\n      <td>2.000000</td>\n      <td>227.000000</td>\n    </tr>\n    <tr>\n      <th>75%</th>\n      <td>2513.000000</td>\n      <td>3.000000</td>\n      <td>247.000000</td>\n    </tr>\n    <tr>\n      <th>max</th>\n      <td>2682.000000</td>\n      <td>5.000000</td>\n      <td>340.000000</td>\n    </tr>\n  </tbody>\n</table>\n</div>"
     },
     "execution_count": 7,
     "metadata": {},
     "output_type": "execute_result"
    }
   ],
   "source": [
    "df.describe()"
   ],
   "metadata": {
    "collapsed": false
   }
  },
  {
   "cell_type": "code",
   "execution_count": null,
   "outputs": [],
   "source": [],
   "metadata": {
    "collapsed": false
   }
  }
 ],
 "metadata": {
  "kernelspec": {
   "display_name": "Python 3",
   "language": "python",
   "name": "python3"
  },
  "language_info": {
   "codemirror_mode": {
    "name": "ipython",
    "version": 2
   },
   "file_extension": ".py",
   "mimetype": "text/x-python",
   "name": "python",
   "nbconvert_exporter": "python",
   "pygments_lexer": "ipython2",
   "version": "2.7.6"
  }
 },
 "nbformat": 4,
 "nbformat_minor": 0
}
