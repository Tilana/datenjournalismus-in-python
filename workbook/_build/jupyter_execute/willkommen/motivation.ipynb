{
 "cells": [
  {
   "cell_type": "markdown",
   "id": "aa222d21",
   "metadata": {
    "slideshow": {
     "slide_type": "slide"
    }
   },
   "source": [
    "# Motivation\n",
    "\n",
    "Warum ist Programmieren überhaupt relevant für angehende Journalist:innen?\n",
    "\n",
    "Gründe dafür gibt es viele - und auch sehr unterschiedliche. Auch wenn man selbst nicht im Datenjournalismus arbeiten möchte, lohnt es sich die Grundlagen einer Programmiersprache zu beherrschen. \n"
   ]
  },
  {
   "cell_type": "markdown",
   "id": "dad2ecd6",
   "metadata": {
    "cell_style": "split",
    "slideshow": {
     "slide_type": "slide"
    }
   },
   "source": [
    "## Daten als Grundlage für Journalismus\n",
    "\n",
    "Journalismus basiert fast immer auf Daten. Manchmal sind es nur einzelne Zahlen.\n",
    "Aber immer öfter helfen uns Daten:\n",
    " \n",
    "\n",
    "- Trends zu verstehen\n",
    "- Dimensionen greifbar zu machen\n",
    "- Ereignisse in Kontext zu setzen\n",
    "- in Interaktion mit Leser:innen zu treten"
   ]
  },
  {
   "cell_type": "markdown",
   "id": "9e098307",
   "metadata": {
    "cell_style": "split",
    "slideshow": {
     "slide_type": "-"
    }
   },
   "source": [
    "![Radmesser](../../imgs/radmesser_tagesspiegel.png)"
   ]
  },
  {
   "cell_type": "markdown",
   "id": "1737b1e6",
   "metadata": {
    "cell_style": "split",
    "slideshow": {
     "slide_type": "slide"
    }
   },
   "source": [
    "![Klimawandel - Morgenpost](../../imgs/klimawandel_morgenpost.png)"
   ]
  },
  {
   "cell_type": "markdown",
   "id": "884a10f9",
   "metadata": {
    "cell_style": "split",
    "slideshow": {
     "slide_type": "-"
    }
   },
   "source": [
    "![Merkel nach Zahlen](../../imgs/asylantraege_merkel_br.png)"
   ]
  },
  {
   "cell_type": "markdown",
   "id": "3150a977",
   "metadata": {
    "cell_style": "split",
    "slideshow": {
     "slide_type": "slide"
    }
   },
   "source": [
    "## Daten, Daten, Daten\n",
    "\n",
    "\n",
    "Manchmal ist die Datenflut so überwältigend, dass Recherchen nur mit technischen Mitteln möglich sind.\n",
    "\n",
    "### Paradise Paper\n",
    "\n",
    "- 21 verschiedene Datenquellen\n",
    "- ca. 13,4 Millionen Dokumente oder 1,4 Terrabyte an Daten\n",
    "- mehr als 380 Journalist:innen aus 67 Ländern\n",
    " \n"
   ]
  },
  {
   "cell_type": "markdown",
   "id": "46e7e6e9",
   "metadata": {
    "cell_style": "split"
   },
   "source": [
    "![Paradisepaper](../../imgs/pardisepaper.png)"
   ]
  },
  {
   "cell_type": "markdown",
   "id": "c0ce46c5",
   "metadata": {
    "slideshow": {
     "slide_type": "slide"
    }
   },
   "source": [
    "## Direkte Auswertung & Schnelles Prototyping\n",
    "\n",
    "Selbst in einem Team mit Entwickler:innen ist es von Vorteili für Journalist:innen die Grundlagen der Programmierung zu beherrschen um schnell Ideen auszuprobieren, Stichprobendaten zu untersuchen, kleine Prototypen zu basten und so das Team von einer Idee zu begeistern.\n",
    "\n",
    "## Digitale Produktentwicklung\n",
    "\n",
    "In der digitalen Produktentwicklung sind Programmierkenntnisse hilfreich um Aufwände abzuschätzen und eine gemeinsame Sprache mit Entwickler:innen zu sprechen.\n",
    "\n",
    "## Möglichkeiten kennen und kreativ sein\n",
    "\n",
    "- Machinelles Lernen als Hilfsmittel in der Recherche\n",
    "- Algortihmischen Bias aufdecken\n",
    "- aktueller Stand von Deep Fake Technologie\n"
   ]
  },
  {
   "cell_type": "markdown",
   "id": "0349b25c",
   "metadata": {
    "cell_style": "split",
    "slideshow": {
     "slide_type": "slide"
    }
   },
   "source": [
    "    \n",
    "![BR Fake Reviews](../../imgs/fakereviews_br.png)\n",
    "\n",
    "https://interaktiv.br.de/falsche-google-bewertungen/\n",
    "\n",
    "\n",
    "\n",
    "\n"
   ]
  },
  {
   "cell_type": "markdown",
   "id": "b7d7e50b",
   "metadata": {
    "cell_style": "split"
   },
   "source": [
    "![Spy Planes](../../imgs/spyplanes_buzzfeed.png)\n",
    "\n",
    "https://www.buzzfeednews.com/article/peteraldhous/hidden-spy-planes\n",
    "\n",
    "\n",
    "\n"
   ]
  },
  {
   "cell_type": "markdown",
   "id": "281f9b8e",
   "metadata": {
    "cell_style": "split",
    "slideshow": {
     "slide_type": "slide"
    }
   },
   "source": [
    "![Machine Bias](../../imgs/machinebias_propublica.png)\n",
    "\n",
    "https://www.propublica.org/article/machine-bias-risk-assessments-in-criminal-sentencing\n",
    "\n",
    "\n",
    "\n",
    "\n",
    "\n"
   ]
  },
  {
   "cell_type": "markdown",
   "id": "43529459",
   "metadata": {
    "cell_style": "split"
   },
   "source": [
    "![Dalle](../../imgs/dalle.png)\n",
    "\n",
    "https://openai.com/dall-e-2/\n",
    "\n",
    "\n",
    "\n",
    "\n"
   ]
  },
  {
   "cell_type": "markdown",
   "id": "887d4f89",
   "metadata": {},
   "source": []
  }
 ],
 "metadata": {
  "celltoolbar": "Slideshow",
  "kernelspec": {
   "display_name": "Python 3.9.13 64-bit",
   "language": "python",
   "name": "python3"
  },
  "language_info": {
   "codemirror_mode": {
    "name": "ipython",
    "version": 3
   },
   "file_extension": ".py",
   "mimetype": "text/x-python",
   "name": "python",
   "nbconvert_exporter": "python",
   "pygments_lexer": "ipython3",
   "version": "3.8.10"
  },
  "livereveal": {
   "autolaunch": true
  },
  "vscode": {
   "interpreter": {
    "hash": "f9f85f796d01129d0dd105a088854619f454435301f6ffec2fea96ecbd9be4ac"
   }
  }
 },
 "nbformat": 4,
 "nbformat_minor": 5
}