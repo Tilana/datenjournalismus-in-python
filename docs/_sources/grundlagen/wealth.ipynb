{
 "cells": [
  {
   "cell_type": "markdown",
   "id": "7cf88de1",
   "metadata": {
    "cell_style": "split"
   },
   "source": [
    "# Wie reich ist Jeff Bezos?\n",
    "\n",
    "\n",
    "Mit 150 Mrd. USD ist Jeff Bezos auf Platz 4 der reichsten Menschen der Welt.\n",
    "\n",
    "\n",
    "### Datenvisualisierung\n",
    "\n",
    "1 Pixel Wealth:\n",
    "https://mkorostoff.github.io/1-pixel-wealth/\n"
   ]
  },
  {
   "cell_type": "markdown",
   "id": "a06229c0",
   "metadata": {
    "cell_style": "split",
    "slideshow": {
     "slide_type": "slide"
    }
   },
   "source": [
    "![Vergleich zum Reichtum von Jeff Bezos](../../imgs/bezos.png)\n",
    "\n",
    "\n",
    "Datenvisualisierung von Mona Chalabi in [9 Ways to Imagine Jeff Bezos’ Wealth](https://www.nytimes.com/interactive/2022/04/07/magazine/jeff-bezos-net-worth.html) der New York Times, April 2022.\n"
   ]
  },
  {
   "cell_type": "markdown",
   "id": "c5db0722",
   "metadata": {
    "slideshow": {
     "slide_type": "slide"
    }
   },
   "source": [
    "## Wie lange muss man arbeiten um so reich wie Jeff Bezos zu werden?\n",
    "\n",
    "Das aktuelle monatliche Durchschnittseinkommen in Deutschland beträgt 4100 Euro brutto bei einer Vollzeitstelle.\n",
    "\n",
    "\n",
    "Für eine Person in Steuerklasse I läuft das auf ca. 1588 Euro netto hinaus.\n",
    "\n"
   ]
  },
  {
   "cell_type": "code",
   "execution_count": 15,
   "id": "1ba31886",
   "metadata": {
    "slideshow": {
     "slide_type": "slide"
    }
   },
   "outputs": [
    {
     "name": "stdout",
     "output_type": "stream",
     "text": [
      "154500000000.0\n"
     ]
    }
   ],
   "source": [
    "# 1. Schritt: USD in € umrechnen (Kurs: 1,03)\n",
    "print(150000000000 * 1.03)"
   ]
  },
  {
   "cell_type": "code",
   "execution_count": 19,
   "id": "2de729a1",
   "metadata": {
    "slideshow": {
     "slide_type": "fragment"
    }
   },
   "outputs": [
    {
     "name": "stdout",
     "output_type": "stream",
     "text": [
      "154500000000.0\n"
     ]
    }
   ],
   "source": [
    "# 1. Schritt: USD in € umrechnen (Kurs: 1,03)\n",
    "vermoegen_in_usd = 150000000000\n",
    "kurs = 1.03\n",
    "vermoegen = vermoegen_in_usd * kurs\n",
    "\n",
    "print(vermoegen)"
   ]
  },
  {
   "cell_type": "code",
   "execution_count": 27,
   "id": "264fd8c9",
   "metadata": {
    "slideshow": {
     "slide_type": "fragment"
    }
   },
   "outputs": [
    {
     "name": "stdout",
     "output_type": "stream",
     "text": [
      "19056\n"
     ]
    }
   ],
   "source": [
    "# 2. Schritt: Von Monatsgehalt auf durchschnittliches Jahreseinkommen\n",
    "netto_pro_monat = 1588\n",
    "einkommen = 12 * netto_pro_monat\n",
    "print(einkommen)"
   ]
  },
  {
   "cell_type": "code",
   "execution_count": 28,
   "id": "64c79c43",
   "metadata": {
    "slideshow": {
     "slide_type": "fragment"
    }
   },
   "outputs": [
    {
     "name": "stdout",
     "output_type": "stream",
     "text": [
      "8107682.619647355\n"
     ]
    }
   ],
   "source": [
    "# 3. Schritt: Berechnung der Arbeitszeit in Jahren\n",
    "jahre = vermoegen/ einkommen\n",
    "print(jahre)"
   ]
  },
  {
   "cell_type": "markdown",
   "id": "b8607c54",
   "metadata": {
    "slideshow": {
     "slide_type": "slide"
    }
   },
   "source": [
    "### Die Welt vor 8 Millionen Jahren..."
   ]
  },
  {
   "cell_type": "markdown",
   "id": "f7059a63",
   "metadata": {
    "cell_style": "split",
    "slideshow": {
     "slide_type": "-"
    }
   },
   "source": [
    "![Menschenaffen](../../imgs/menschenaffen.png)\n",
    "\n",
    "Vor 8 Millionen Jahren gab es noch keine Menschen auf der Erde. Das Suptropische Klima in Europa kühlt langsam ab und damit sterben auch die meisten europäischen Arten der Menschenartigen aus. Einzig der Oreopithecus überlebt vorest auf einer Insel bei Sardinien/Korsika\n"
   ]
  },
  {
   "cell_type": "markdown",
   "id": "ce546d65",
   "metadata": {
    "cell_style": "split"
   },
   "source": [
    "\n",
    "![Argentavis](../../imgs/argentavis.png)\n",
    "    \n",
    "In Südamerika existiert der größte Vogel, der jemals auf der Erde lebte. Der Argentavis magnificens ist wahrscheinlich mit dem Geier verwandt und hat eine Flügelspannweite von 7,20 Metern. Er ist doppelt so groß wie der größte heutige Vogel, der Andenkondor mit 3,30 Metern Flügelspannweite. Die Flügelfläche des Argentavis magnificens beträgt 7 Quadratmeter. Der Vogel wiegt 70-78 Kilogramm."
   ]
  },
  {
   "cell_type": "markdown",
   "id": "4b9d9fa2",
   "metadata": {
    "cell_style": "center"
   },
   "source": [
    "## Wie lange muss man mit einem Spitzengehalt sparen?"
   ]
  },
  {
   "cell_type": "code",
   "execution_count": 18,
   "id": "6a5c9da9",
   "metadata": {
    "slideshow": {
     "slide_type": "slide"
    }
   },
   "outputs": [
    {
     "name": "stdout",
     "output_type": "stream",
     "text": [
      "1545000.0\n"
     ]
    }
   ],
   "source": [
    "# Wie lange dauert es als Top-Manager so viel Geld anzuhäufen?\n",
    "einkommen = 100000\n",
    "jahre = vermoegen/ einkommen\n",
    "print(jahre)"
   ]
  },
  {
   "cell_type": "markdown",
   "id": "efddc422",
   "metadata": {
    "slideshow": {
     "slide_type": "slide"
    }
   },
   "source": [
    "### Die Welt vor 1,5 Millionen Jahren"
   ]
  },
  {
   "cell_type": "markdown",
   "id": "49a230d4",
   "metadata": {
    "cell_style": "split",
    "slideshow": {
     "slide_type": "-"
    }
   },
   "source": [
    "![Homo Erectus](../../imgs/homo_erectus.png)\n",
    "\n"
   ]
  },
  {
   "cell_type": "markdown",
   "id": "c6920ec0",
   "metadata": {
    "cell_style": "split",
    "slideshow": {
     "slide_type": "-"
    }
   },
   "source": [
    "Im heutigen Kenia lebt der Homo erectus. Er benutzt Faustkeile und ist wahrscheinlich in der Lage Feuer zu machen.\n",
    "\n",
    "Bis er Europa erreicht vergehen weitere 300.000 Jahre.\n",
    "\n",
    "\n",
    "\n",
    "\n",
    "\n",
    "\n",
    "\n",
    "Quelle: http://www.oteripedia.de/Pleistoz%C3%A4n"
   ]
  },
  {
   "cell_type": "markdown",
   "id": "d320738d",
   "metadata": {},
   "source": [
    "## Was kann man mit so viel Geld machen?"
   ]
  },
  {
   "cell_type": "code",
   "execution_count": 5,
   "id": "e2575623",
   "metadata": {},
   "outputs": [
    {
     "name": "stdout",
     "output_type": "stream",
     "text": [
      "8178.930651138168\n"
     ]
    }
   ],
   "source": [
    "vermoegen = 154500000000\n",
    "\n",
    "# Wie oft könnte er das Banksy's geschreddertes Bild mit Wert von ca. 18,89 Millionen Euro kaufen?\n",
    "kosten_banksy = 18890000 \n",
    "anzahl = vermoegen / kosten_banksy\n",
    "print(anzahl)"
   ]
  },
  {
   "cell_type": "code",
   "execution_count": 4,
   "id": "a018e448",
   "metadata": {},
   "outputs": [
    {
     "name": "stdout",
     "output_type": "stream",
     "text": [
      "1973.6842105263158\n"
     ]
    }
   ],
   "source": [
    "# Wie viele Boeing 737-700 zum Preis von 76 Millionen kann er kaufen?\n",
    "kosten_boeing737 = 76000000      \n",
    "anzahl = vermoegen / kosten_boeing737\n",
    "print(anzahl)"
   ]
  },
  {
   "cell_type": "markdown",
   "id": "9ce5dfe4",
   "metadata": {
    "slideshow": {
     "slide_type": "slide"
    }
   },
   "source": [
    "## Eine kleines Programm dafür..."
   ]
  },
  {
   "cell_type": "code",
   "execution_count": 2,
   "id": "561a56de",
   "metadata": {
    "slideshow": {
     "slide_type": "fragment"
    },
    "tags": [
     "skip-execution"
    ]
   },
   "outputs": [
    {
     "name": "stdout",
     "output_type": "stream",
     "text": [
      "Bezos kann sich 1103571.4285714286 Tesla X zum Preis von 140000 € kaufen.\n"
     ]
    }
   ],
   "source": [
    "# Wie oft kann Jeff sich X kaufen\n",
    "vermoegen = 154500000000\n",
    "\n",
    "dinge = input('Dinge: ')\n",
    "kosten = input('Kosten:')\n",
    "\n",
    "anzahl = vermoegen / float(kosten)\n",
    "\n",
    "antwort = f'Bezos kann sich {anzahl} {dinge} zum Preis von {kosten} € kaufen.'\n",
    "print(antwort)\n"
   ]
  },
  {
   "cell_type": "code",
   "execution_count": null,
   "id": "fe66809d",
   "metadata": {},
   "outputs": [],
   "source": []
  }
 ],
 "metadata": {
  "celltoolbar": "Tags",
  "kernelspec": {
   "display_name": "Python 3 (ipykernel)",
   "language": "python",
   "name": "python3"
  },
  "language_info": {
   "codemirror_mode": {
    "name": "ipython",
    "version": 3
   },
   "file_extension": ".py",
   "mimetype": "text/x-python",
   "name": "python",
   "nbconvert_exporter": "python",
   "pygments_lexer": "ipython3",
   "version": "3.9.13"
  },
  "livereveal": {
   "autolaunch": true
  },
  "vscode": {
   "interpreter": {
    "hash": "f9f85f796d01129d0dd105a088854619f454435301f6ffec2fea96ecbd9be4ac"
   }
  }
 },
 "nbformat": 4,
 "nbformat_minor": 5
}
