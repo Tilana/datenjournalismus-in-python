{
 "cells": [
  {
   "cell_type": "markdown",
   "id": "e4369257",
   "metadata": {},
   "source": [
    "# Übungsbaltt 4\n",
    "\n",
    "## *while*-Schleifen"
   ]
  },
  {
   "cell_type": "markdown",
   "id": "12ba88b1",
   "metadata": {},
   "source": [
    "Gib alle ungeraden Werte deiner Liste aus."
   ]
  },
  {
   "cell_type": "code",
   "execution_count": 7,
   "id": "d808af57",
   "metadata": {},
   "outputs": [],
   "source": [
    "# Dein Code"
   ]
  },
  {
   "cell_type": "markdown",
   "source": [
    "Schreibe eine Funktion, die alle ganzen Zahlen zwischen 1 und einem Wert x die durch 3 und durch 7 teilbar sind zurückgibt.\n",
    "Nutze hierfür keine Liste, sondern eine *while*-Schleife und nutze *continue* um werte zu überspringen, die nicht berücksichtigt werden sollen.\n",
    "Nutze *break* um die *while*-Schleife zu beenden."
   ],
   "metadata": {
    "collapsed": false
   }
  },
  {
   "cell_type": "code",
   "execution_count": 8,
   "outputs": [],
   "source": [
    "def durch3und4(letzteZahl:int)->list :\n"
   ],
   "metadata": {
    "collapsed": false
   }
  },
  {
   "cell_type": "code",
   "execution_count": 9,
   "id": "62603aff",
   "metadata": {},
   "outputs": [],
   "source": [
    "schachbrett = [['schwarzes Pferd', 'schwarzer Bauer', None, None, None, None, 'weisser Bauer', None],\n",
    "               [None, None, None, None, None, None, 'schwarzer Bauer', None],\n",
    "               [None, None, None, None, None, None, 'schwarzer König', None],\n",
    "               ['schwarzer Bauer', None, None, 'weisser Turm', None, None, None, None],\n",
    "               [None, None, 'weisser König' , None, 'schwarzer Läufer', 'schwarzer Bauer', None, None],\n",
    "               [None, None, None, None, None, None, None, None],\n",
    "               [None, None, 'weisse Dame', None, None, None, None, None],\n",
    "               ['schwarzer Bauer', None, None, None, None, 'schwarze Dame', None, None]]"
   ]
  },
  {
   "cell_type": "markdown",
   "id": "c78dde76",
   "metadata": {},
   "source": [
    "Bewege den weissen Turm so lange nach rechts bis er entweder am Spielfeldrand oder vor einer anderen Figur steht."
   ]
  },
  {
   "cell_type": "code",
   "execution_count": 10,
   "id": "4e153e59",
   "metadata": {},
   "outputs": [],
   "source": [
    "# Dein Code"
   ]
  },
  {
   "cell_type": "markdown",
   "source": [
    "## Dictionary's\n",
    "\n",
    "Erstelle ein Dictionary *blumen* in dem für jede Blume die Farben ihrer Blüten gespeichert werden. Speichere direkt drei Einträge zu Rose, Enzian und Margeriten."
   ],
   "metadata": {
    "collapsed": false
   }
  },
  {
   "cell_type": "code",
   "execution_count": 11,
   "outputs": [],
   "source": [
    "# Dein Code"
   ],
   "metadata": {
    "collapsed": false
   }
  },
  {
   "cell_type": "markdown",
   "source": [
    "Füge deine Lieblingsblume zu *blumen* hinzu."
   ],
   "metadata": {
    "collapsed": false
   }
  },
  {
   "cell_type": "code",
   "execution_count": 12,
   "outputs": [],
   "source": [
    "# Dein Code"
   ],
   "metadata": {
    "collapsed": false
   }
  },
  {
   "cell_type": "markdown",
   "source": [
    "Entferne den Eintrag zu Enzian."
   ],
   "metadata": {
    "collapsed": false
   }
  },
  {
   "cell_type": "code",
   "execution_count": 13,
   "outputs": [],
   "source": [
    "# Dein Code"
   ],
   "metadata": {
    "collapsed": false
   }
  }
 ],
 "metadata": {
  "kernelspec": {
   "display_name": "Python 3 (ipykernel)",
   "language": "python",
   "name": "python3"
  },
  "language_info": {
   "codemirror_mode": {
    "name": "ipython",
    "version": 3
   },
   "file_extension": ".py",
   "mimetype": "text/x-python",
   "name": "python",
   "nbconvert_exporter": "python",
   "pygments_lexer": "ipython3",
   "version": "3.9.15"
  }
 },
 "nbformat": 4,
 "nbformat_minor": 5
}
