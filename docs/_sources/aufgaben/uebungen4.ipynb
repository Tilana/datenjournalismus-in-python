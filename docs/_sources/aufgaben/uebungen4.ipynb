{
 "cells": [
  {
   "cell_type": "markdown",
   "id": "e4369257",
   "metadata": {},
   "source": [
    "## while-Schleifen"
   ]
  },
  {
   "cell_type": "markdown",
   "id": "12ba88b1",
   "metadata": {},
   "source": [
    "Gib alle ungeraden Werte deiner Liste aus."
   ]
  },
  {
   "cell_type": "code",
   "execution_count": null,
   "id": "d808af57",
   "metadata": {},
   "outputs": [],
   "source": []
  },
  {
   "cell_type": "code",
   "execution_count": null,
   "id": "62603aff",
   "metadata": {},
   "outputs": [],
   "source": [
    "schachbrett = [['schwarzes Pferd', 'schwarzer Bauer', None, None, None, None, 'weisser Bauer', None],\n",
    "               [None, None, None, None, None, None, 'schwarzer Bauer', None],\n",
    "               [None, None, None, None, None, None, 'schwarzer König', None],\n",
    "               ['schwarzer Bauer', None, None, 'weisser Turm', None, None, None, None],\n",
    "               [None, None, 'weisser König' , None, 'schwarzer Läufer', 'schwarzer Bauer', None, None],\n",
    "               [None, None, None, None, None, None, None, None],\n",
    "               [None, None, 'weisse Dame', None, None, None, None, None],\n",
    "               ['schwarzer Bauer', None, None, None, None, 'schwarze Dame', None, None]]"
   ]
  },
  {
   "cell_type": "markdown",
   "id": "c78dde76",
   "metadata": {},
   "source": [
    "Bewege den weissen Turm so lange nach rechts bis er entweder am Spielfeldrand oder vor einer anderen Figur steht."
   ]
  },
  {
   "cell_type": "code",
   "execution_count": null,
   "id": "4e153e59",
   "metadata": {},
   "outputs": [],
   "source": []
  }
 ],
 "metadata": {
  "kernelspec": {
   "display_name": "Python 3 (ipykernel)",
   "language": "python",
   "name": "python3"
  },
  "language_info": {
   "codemirror_mode": {
    "name": "ipython",
    "version": 3
   },
   "file_extension": ".py",
   "mimetype": "text/x-python",
   "name": "python",
   "nbconvert_exporter": "python",
   "pygments_lexer": "ipython3",
   "version": "3.9.15"
  }
 },
 "nbformat": 4,
 "nbformat_minor": 5
}
