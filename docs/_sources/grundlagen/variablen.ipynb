{
 "cells": [
  {
   "cell_type": "markdown",
   "id": "70e80535",
   "metadata": {
    "slideshow": {
     "slide_type": "slide"
    }
   },
   "source": [
    "# Variablen\n",
    "\n",
    "Eine Variable ist die Zuweisung eines Wertes zu einem Namen.\n",
    "\n",
    "\n",
    "## Syntax\n",
    "\n",
    "```\n",
    "<name> = <wert>\n",
    "```\n",
    "\n",
    "\n",
    "### Beispiel"
   ]
  },
  {
   "cell_type": "code",
   "execution_count": 1,
   "id": "54a3262c",
   "metadata": {
    "slideshow": {
     "slide_type": "-"
    }
   },
   "outputs": [
    {
     "name": "stdout",
     "output_type": "stream",
     "text": [
      "3.141592\n"
     ]
    }
   ],
   "source": [
    "pi = 3.141592\n",
    "print(pi)"
   ]
  },
  {
   "cell_type": "markdown",
   "id": "f98e3e39",
   "metadata": {
    "slideshow": {
     "slide_type": "fragment"
    }
   },
   "source": [
    "Variablen können sich ändern:"
   ]
  },
  {
   "cell_type": "code",
   "execution_count": 2,
   "id": "aee2544c",
   "metadata": {},
   "outputs": [
    {
     "name": "stdout",
     "output_type": "stream",
     "text": [
      "banana\n",
      "strawberry\n"
     ]
    }
   ],
   "source": [
    "# Beispiel 1\n",
    "favourite_fruit = \"banana\"\n",
    "print(favourite_fruit)\n",
    "favourite_fruit = \"strawberry\"\n",
    "print(favourite_fruit)"
   ]
  },
  {
   "cell_type": "code",
   "execution_count": 8,
   "id": "73c7866b",
   "metadata": {
    "slideshow": {
     "slide_type": "fragment"
    }
   },
   "outputs": [
    {
     "name": "stdout",
     "output_type": "stream",
     "text": [
      "1200\n",
      "900\n"
     ]
    }
   ],
   "source": [
    "# Beispiel 2\n",
    "vermoegen = 1200\n",
    "print(vermoegen)\n",
    "kosten_fahrrad = 300\n",
    "vermoegen = vermoegen - kosten_fahrrad\n",
    "print(vermoegen)"
   ]
  },
  {
   "cell_type": "markdown",
   "id": "0af4ed4d",
   "metadata": {
    "slideshow": {
     "slide_type": "slide"
    }
   },
   "source": [
    "## Variablenamen - Regeln & praktische Tipps\n",
    "\n",
    "\n",
    "Variablennamen...\n",
    "\n",
    "- ... sollten verständlich und aussagekräftig sein\n",
    "\n",
    "- ... bestehen aus Buchstaben, Zahlen oder Unterstrichen\n",
    "\n",
    "- ... beginnen immer mit einem Buchstaben oder Unterstrich\n",
    "\n",
    "- ... case-sensitive, das heißt Groß- und Kleinschreibung wird unterschieden\n",
    "\n"
   ]
  },
  {
   "cell_type": "markdown",
   "id": "e13f05c1",
   "metadata": {},
   "source": [
    "\n",
    "\n",
    "::: {warning}\n",
    "\n",
    "Variablennamen können eingebaute Funktionen oder Schlüsselwörter überscheiben.\n",
    "\n",
    "Daher immer unbesetzte Namen verwenden.\n",
    "\n",
    ":::\n",
    "\n",
    "\n"
   ]
  },
  {
   "cell_type": "markdown",
   "id": "c3438422",
   "metadata": {
    "slideshow": {
     "slide_type": "slide"
    }
   },
   "source": [
    "**Variablennamen sollten verständlich und aussagekräftig sein**"
   ]
  },
  {
   "cell_type": "code",
   "execution_count": 4,
   "id": "8062f321",
   "metadata": {
    "cell_style": "split",
    "slideshow": {
     "slide_type": "fragment"
    }
   },
   "outputs": [
    {
     "name": "stdout",
     "output_type": "stream",
     "text": [
      "40075.017\n"
     ]
    }
   ],
   "source": [
    "X = 40075.017\n",
    "print(X)"
   ]
  },
  {
   "cell_type": "markdown",
   "id": "0f3602eb",
   "metadata": {},
   "source": [
    "vs."
   ]
  },
  {
   "cell_type": "code",
   "execution_count": 5,
   "id": "78b83e6f",
   "metadata": {
    "cell_style": "split",
    "slideshow": {
     "slide_type": "fragment"
    }
   },
   "outputs": [
    {
     "name": "stdout",
     "output_type": "stream",
     "text": [
      "40075.017\n"
     ]
    }
   ],
   "source": [
    "erdumfang = 40075.017\n",
    "print(erdumfang)"
   ]
  },
  {
   "cell_type": "markdown",
   "id": "0b64fcb1",
   "metadata": {
    "slideshow": {
     "slide_type": "slide"
    }
   },
   "source": [
    "**Variablennamen bestehen kann aus Buchstaben, Zahlen oder Unterstrichen** "
   ]
  },
  {
   "cell_type": "code",
   "execution_count": 6,
   "id": "794958f5",
   "metadata": {},
   "outputs": [],
   "source": [
    "student_883245_geburtstag = \"03.09.1996\""
   ]
  },
  {
   "cell_type": "code",
   "execution_count": 7,
   "id": "0c1ccf27",
   "metadata": {},
   "outputs": [
    {
     "ename": "SyntaxError",
     "evalue": "invalid syntax (2781941791.py, line 1)",
     "output_type": "error",
     "traceback": [
      "\u001b[0;36m  Cell \u001b[0;32mIn [7], line 1\u001b[0;36m\u001b[0m\n\u001b[0;31m    student_$10_geburtstag = \"21.02.2001\"\u001b[0m\n\u001b[0m            ^\u001b[0m\n\u001b[0;31mSyntaxError\u001b[0m\u001b[0;31m:\u001b[0m invalid syntax\n"
     ]
    }
   ],
   "source": [
    "student_$10_geburtstag = \"21.02.2001\""
   ]
  },
  {
   "cell_type": "markdown",
   "id": "1bebe2b9",
   "metadata": {
    "slideshow": {
     "slide_type": "slide"
    }
   },
   "source": [
    "**Variablennamen beginnen immer mit einem Buchstaben oder Unterstrich**"
   ]
  },
  {
   "cell_type": "code",
   "execution_count": null,
   "id": "41aae09d",
   "metadata": {
    "cell_style": "split",
    "slideshow": {
     "slide_type": "fragment"
    }
   },
   "outputs": [
    {
     "ename": "SyntaxError",
     "evalue": "invalid character '€' (U+20AC) (2888791788.py, line 1)",
     "output_type": "error",
     "traceback": [
      "\u001b[0;36m  Cell \u001b[0;32mIn [6], line 1\u001b[0;36m\u001b[0m\n\u001b[0;31m    € = 172   # €\u001b[0m\n\u001b[0m    ^\u001b[0m\n\u001b[0;31mSyntaxError\u001b[0m\u001b[0;31m:\u001b[0m invalid character '€' (U+20AC)\n"
     ]
    }
   ],
   "source": [
    "# Beispiel 1\n",
    "€ = 172   # €\n",
    "print(€)"
   ]
  },
  {
   "cell_type": "markdown",
   "id": "0f3602eb",
   "metadata": {},
   "source": [
    "vs."
   ]
  },
  {
   "cell_type": "code",
   "execution_count": null,
   "id": "1011c01d",
   "metadata": {
    "cell_style": "split",
    "slideshow": {
     "slide_type": "fragment"
    }
   },
   "outputs": [
    {
     "name": "stdout",
     "output_type": "stream",
     "text": [
      "172\n"
     ]
    }
   ],
   "source": [
    "euro = 172\n",
    "print(euro)"
   ]
  },
  {
   "cell_type": "code",
   "execution_count": null,
   "id": "3cfefbfe",
   "metadata": {
    "cell_style": "split",
    "slideshow": {
     "slide_type": "fragment"
    }
   },
   "outputs": [
    {
     "ename": "SyntaxError",
     "evalue": "cannot assign to literal (1457940772.py, line 1)",
     "output_type": "error",
     "traceback": [
      "\u001b[0;36m  Cell \u001b[0;32mIn [8], line 1\u001b[0;36m\u001b[0m\n\u001b[0;31m    10 = 'zehn'\u001b[0m\n\u001b[0m    ^\u001b[0m\n\u001b[0;31mSyntaxError\u001b[0m\u001b[0;31m:\u001b[0m cannot assign to literal\n"
     ]
    }
   ],
   "source": [
    "# Beispiel 2\n",
    "10 = 'zehn'"
   ]
  },
  {
   "cell_type": "markdown",
   "id": "0f3602eb",
   "metadata": {},
   "source": [
    "vs."
   ]
  },
  {
   "cell_type": "code",
   "execution_count": null,
   "id": "505b92ee",
   "metadata": {
    "cell_style": "split",
    "slideshow": {
     "slide_type": "fragment"
    }
   },
   "outputs": [],
   "source": [
    "_10 = 'zehn'"
   ]
  },
  {
   "cell_type": "markdown",
   "id": "f7646d06",
   "metadata": {},
   "source": [
    "**Variablennamen sind case-sensitive**"
   ]
  },
  {
   "cell_type": "code",
   "execution_count": null,
   "id": "9068ffea",
   "metadata": {},
   "outputs": [
    {
     "ename": "NameError",
     "evalue": "name 'Name' is not defined",
     "output_type": "error",
     "traceback": [
      "\u001b[0;31m---------------------------------------------------------------------------\u001b[0m",
      "\u001b[0;31mNameError\u001b[0m                                 Traceback (most recent call last)",
      "Cell \u001b[0;32mIn [10], line 2\u001b[0m\n\u001b[1;32m      1\u001b[0m name \u001b[38;5;241m=\u001b[39m \u001b[38;5;124m\"\u001b[39m\u001b[38;5;124mGundula\u001b[39m\u001b[38;5;124m\"\u001b[39m\n\u001b[0;32m----> 2\u001b[0m \u001b[38;5;28mprint\u001b[39m(Name)\n",
      "\u001b[0;31mNameError\u001b[0m: name 'Name' is not defined"
     ]
    }
   ],
   "source": [
    "name = \"Gundula\"\n",
    "print(Name)"
   ]
  },
  {
   "cell_type": "markdown",
   "id": "f09d1393",
   "metadata": {},
   "source": [
    "vs."
   ]
  },
  {
   "cell_type": "code",
   "execution_count": null,
   "id": "a38e85c9",
   "metadata": {},
   "outputs": [
    {
     "name": "stdout",
     "output_type": "stream",
     "text": [
      "Gundula\n"
     ]
    }
   ],
   "source": [
    "print(name)"
   ]
  },
  {
   "cell_type": "markdown",
   "id": "3b409703",
   "metadata": {},
   "source": [
    "**Variablennamen können eingebaute Funktionen überscheiben**"
   ]
  },
  {
   "cell_type": "code",
   "execution_count": null,
   "id": "3d91ecf4",
   "metadata": {},
   "outputs": [
    {
     "ename": "TypeError",
     "evalue": "'str' object is not callable",
     "output_type": "error",
     "traceback": [
      "\u001b[0;31m---------------------------------------------------------------------------\u001b[0m",
      "\u001b[0;31mTypeError\u001b[0m                                 Traceback (most recent call last)",
      "Cell \u001b[0;32mIn [15], line 1\u001b[0m\n\u001b[0;32m----> 1\u001b[0m \u001b[38;5;28mprint\u001b[39m(\u001b[38;5;124m'\u001b[39m\u001b[38;5;124mHello\u001b[39m\u001b[38;5;124m'\u001b[39m)\n\u001b[1;32m      2\u001b[0m \u001b[38;5;28mprint\u001b[39m \u001b[38;5;241m=\u001b[39m \u001b[38;5;124m\"\u001b[39m\u001b[38;5;124mACHTUNG - Variabelname entspricht dem Namen einer eingebauten Funktion\u001b[39m\u001b[38;5;124m\"\u001b[39m\n\u001b[1;32m      3\u001b[0m \u001b[38;5;28mprint\u001b[39m(\u001b[38;5;124m'\u001b[39m\u001b[38;5;124mHello\u001b[39m\u001b[38;5;124m'\u001b[39m)\n",
      "\u001b[0;31mTypeError\u001b[0m: 'str' object is not callable"
     ]
    }
   ],
   "source": [
    "print('Hello')\n",
    "print = \"ACHTUNG - Variablename entspricht dem Namen einer eingebauten Funktion\"\n",
    "print('Hello')"
   ]
  },
  {
   "cell_type": "markdown",
   "id": "5de5b8e2",
   "metadata": {},
   "source": [
    "Eindeutige und nicht vergebene Variablennamen verhindern diesen Fehler.\n",
    "\n",
    "Ist es doch mal passiert, dass eine eingebaute Funktion oder ein Schlüsselwort überschrieben wurde, hilft es, die Variable umzubenennen und Python (in Jupyter Notebooks den Kernel) neu zu starten."
   ]
  },
  {
   "cell_type": "markdown",
   "id": "e9a9f56d",
   "metadata": {},
   "source": []
  }
 ],
 "metadata": {
  "celltoolbar": "Slideshow",
  "kernelspec": {
   "display_name": "Python 3.9.13 64-bit",
   "language": "python",
   "name": "python3"
  },
  "language_info": {
   "codemirror_mode": {
    "name": "ipython",
    "version": 3
   },
   "file_extension": ".py",
   "mimetype": "text/x-python",
   "name": "python",
   "nbconvert_exporter": "python",
   "pygments_lexer": "ipython3",
   "version": "3.9.15"
  },
  "livereveal": {
   "autolaunch": true
  },
  "vscode": {
   "interpreter": {
    "hash": "f9f85f796d01129d0dd105a088854619f454435301f6ffec2fea96ecbd9be4ac"
   }
  }
 },
 "nbformat": 4,
 "nbformat_minor": 5
}
