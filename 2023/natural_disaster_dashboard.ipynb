{
 "cells": [
  {
   "cell_type": "markdown",
   "metadata": {
    "slideshow": {
     "slide_type": "slide"
    }
   },
   "source": [
    "# Natural Disasters Data\n",
    "\n",
    "## The Dataset"
   ]
  },
  {
   "cell_type": "markdown",
   "metadata": {
    "slideshow": {
     "slide_type": "slide"
    }
   },
   "source": [
    "### Aggregated figures for Natural Disasters in EM-DAT\n",
    "\n",
    "Link: https://data.humdata.org/dataset/emdat-country-profiles\n",
    "\n",
    "\n",
    "In 1988, the **Centre for Research on the Epidemiology of Disasters (CRED)** launched the **Emergency Events Database (EM-DAT)**. EM-DAT was created with the initial support of the **World Health Organisation (WHO) and the Belgian Government**.\n",
    "\n",
    "The main objective of the database is to **serve the purposes of humanitarian action at national and international levels**. The initiative aims to rationalise decision making for disaster preparedness, as well as provide an objective base for vulnerability assessment and priority setting.\n",
    "\n",
    "EM-DAT contains essential core data on the **occurrence and effects of over 22,000 mass disasters in the world from 1900 to the present day**. The database is compiled from various sources, including UN agencies, non-governmental organisations, insurance companies, research institutes and press agencies.\n",
    "\n"
   ]
  },
  {
   "cell_type": "markdown",
   "metadata": {
    "slideshow": {
     "slide_type": "slide"
    }
   },
   "source": [
    "## Recherchefragen\n",
    "\n",
    "- Wie stark ist ein Land von Naturkatastrophen betroffen?\n",
    "- Wie viele Todesopfer gibt es insgesamt?\n",
    "- Welchen Anteil haben die unterschiedlichen Naturkatastrophentypen daran?\n",
    "- Wie hat sich die Anzahl der Naturkatastrophen über die Jahre hin entwickelt?"
   ]
  },
  {
   "cell_type": "code",
   "execution_count": 1,
   "metadata": {
    "slideshow": {
     "slide_type": "slide"
    },
    "tags": [
     "hide-output"
    ]
   },
   "outputs": [
    {
     "name": "stdout",
     "output_type": "stream",
     "text": [
      "WARNING: pip is being invoked by an old script wrapper. This will fail in a future version of pip.\n",
      "Please see https://github.com/pypa/pip/issues/5599 for advice on fixing the underlying issue.\n",
      "To avoid this problem you can invoke Python with '-m pip' instead of running pip directly.\n",
      "Requirement already satisfied: pip in /home/natalie/snap/jupyter/common/lib/python3.7/site-packages (23.3.1)\n",
      "WARNING: pip is being invoked by an old script wrapper. This will fail in a future version of pip.\n",
      "Please see https://github.com/pypa/pip/issues/5599 for advice on fixing the underlying issue.\n",
      "To avoid this problem you can invoke Python with '-m pip' instead of running pip directly.\n",
      "Requirement already satisfied: Pillow in /home/natalie/snap/jupyter/common/lib/python3.7/site-packages (9.5.0)\n",
      "WARNING: pip is being invoked by an old script wrapper. This will fail in a future version of pip.\n",
      "Please see https://github.com/pypa/pip/issues/5599 for advice on fixing the underlying issue.\n",
      "To avoid this problem you can invoke Python with '-m pip' instead of running pip directly.\n",
      "Requirement already satisfied: matplotlib in /home/natalie/snap/jupyter/common/lib/python3.7/site-packages (3.5.3)\n",
      "Requirement already satisfied: cycler>=0.10 in /home/natalie/snap/jupyter/common/lib/python3.7/site-packages (from matplotlib) (0.11.0)\n",
      "Requirement already satisfied: fonttools>=4.22.0 in /home/natalie/snap/jupyter/common/lib/python3.7/site-packages (from matplotlib) (4.38.0)\n",
      "Requirement already satisfied: kiwisolver>=1.0.1 in /home/natalie/snap/jupyter/common/lib/python3.7/site-packages (from matplotlib) (1.4.5)\n",
      "Requirement already satisfied: numpy>=1.17 in /home/natalie/snap/jupyter/common/lib/python3.7/site-packages (from matplotlib) (1.21.6)\n",
      "Requirement already satisfied: packaging>=20.0 in /home/natalie/snap/jupyter/common/lib/python3.7/site-packages (from matplotlib) (23.2)\n",
      "Requirement already satisfied: pillow>=6.2.0 in /home/natalie/snap/jupyter/common/lib/python3.7/site-packages (from matplotlib) (9.5.0)\n",
      "Requirement already satisfied: pyparsing>=2.2.1 in /home/natalie/snap/jupyter/common/lib/python3.7/site-packages (from matplotlib) (3.1.1)\n",
      "Requirement already satisfied: python-dateutil>=2.7 in /snap/jupyter/6/lib/python3.7/site-packages (from matplotlib) (2.8.0)\n",
      "Requirement already satisfied: typing-extensions in /home/natalie/snap/jupyter/common/lib/python3.7/site-packages (from kiwisolver>=1.0.1->matplotlib) (4.7.1)\n",
      "Requirement already satisfied: six>=1.5 in /snap/jupyter/6/lib/python3.7/site-packages (from python-dateutil>=2.7->matplotlib) (1.12.0)\n",
      "WARNING: pip is being invoked by an old script wrapper. This will fail in a future version of pip.\n",
      "Please see https://github.com/pypa/pip/issues/5599 for advice on fixing the underlying issue.\n",
      "To avoid this problem you can invoke Python with '-m pip' instead of running pip directly.\n",
      "Requirement already satisfied: pandas in /home/natalie/snap/jupyter/common/lib/python3.7/site-packages (1.3.5)\n",
      "Requirement already satisfied: python-dateutil>=2.7.3 in /snap/jupyter/6/lib/python3.7/site-packages (from pandas) (2.8.0)\n",
      "Requirement already satisfied: pytz>=2017.3 in /home/natalie/snap/jupyter/common/lib/python3.7/site-packages (from pandas) (2023.3.post1)\n",
      "Requirement already satisfied: numpy>=1.17.3 in /home/natalie/snap/jupyter/common/lib/python3.7/site-packages (from pandas) (1.21.6)\n",
      "Requirement already satisfied: six>=1.5 in /snap/jupyter/6/lib/python3.7/site-packages (from python-dateutil>=2.7.3->pandas) (1.12.0)\n",
      "WARNING: pip is being invoked by an old script wrapper. This will fail in a future version of pip.\n",
      "Please see https://github.com/pypa/pip/issues/5599 for advice on fixing the underlying issue.\n",
      "To avoid this problem you can invoke Python with '-m pip' instead of running pip directly.\n",
      "Requirement already satisfied: openpyxl in /home/natalie/snap/jupyter/common/lib/python3.7/site-packages (3.1.2)\n",
      "Requirement already satisfied: et-xmlfile in /home/natalie/snap/jupyter/common/lib/python3.7/site-packages (from openpyxl) (1.1.0)\n",
      "WARNING: pip is being invoked by an old script wrapper. This will fail in a future version of pip.\n",
      "Please see https://github.com/pypa/pip/issues/5599 for advice on fixing the underlying issue.\n",
      "To avoid this problem you can invoke Python with '-m pip' instead of running pip directly.\n",
      "Requirement already satisfied: seaborn in /home/natalie/snap/jupyter/common/lib/python3.7/site-packages (0.12.2)\n",
      "Requirement already satisfied: numpy!=1.24.0,>=1.17 in /home/natalie/snap/jupyter/common/lib/python3.7/site-packages (from seaborn) (1.21.6)\n",
      "Requirement already satisfied: pandas>=0.25 in /home/natalie/snap/jupyter/common/lib/python3.7/site-packages (from seaborn) (1.3.5)\n",
      "Requirement already satisfied: matplotlib!=3.6.1,>=3.1 in /home/natalie/snap/jupyter/common/lib/python3.7/site-packages (from seaborn) (3.5.3)\n",
      "Requirement already satisfied: typing_extensions in /home/natalie/snap/jupyter/common/lib/python3.7/site-packages (from seaborn) (4.7.1)\n",
      "Requirement already satisfied: cycler>=0.10 in /home/natalie/snap/jupyter/common/lib/python3.7/site-packages (from matplotlib!=3.6.1,>=3.1->seaborn) (0.11.0)\n",
      "Requirement already satisfied: fonttools>=4.22.0 in /home/natalie/snap/jupyter/common/lib/python3.7/site-packages (from matplotlib!=3.6.1,>=3.1->seaborn) (4.38.0)\n",
      "Requirement already satisfied: kiwisolver>=1.0.1 in /home/natalie/snap/jupyter/common/lib/python3.7/site-packages (from matplotlib!=3.6.1,>=3.1->seaborn) (1.4.5)\n",
      "Requirement already satisfied: packaging>=20.0 in /home/natalie/snap/jupyter/common/lib/python3.7/site-packages (from matplotlib!=3.6.1,>=3.1->seaborn) (23.2)\n",
      "Requirement already satisfied: pillow>=6.2.0 in /home/natalie/snap/jupyter/common/lib/python3.7/site-packages (from matplotlib!=3.6.1,>=3.1->seaborn) (9.5.0)\n",
      "Requirement already satisfied: pyparsing>=2.2.1 in /home/natalie/snap/jupyter/common/lib/python3.7/site-packages (from matplotlib!=3.6.1,>=3.1->seaborn) (3.1.1)\n",
      "Requirement already satisfied: python-dateutil>=2.7 in /snap/jupyter/6/lib/python3.7/site-packages (from matplotlib!=3.6.1,>=3.1->seaborn) (2.8.0)\n",
      "Requirement already satisfied: pytz>=2017.3 in /home/natalie/snap/jupyter/common/lib/python3.7/site-packages (from pandas>=0.25->seaborn) (2023.3.post1)\n",
      "Requirement already satisfied: six>=1.5 in /snap/jupyter/6/lib/python3.7/site-packages (from python-dateutil>=2.7->matplotlib!=3.6.1,>=3.1->seaborn) (1.12.0)\n"
     ]
    }
   ],
   "source": [
    "# Install all necessary packages\n",
    "!pip install --upgrade pip\n",
    "!pip install --upgrade Pillow\n",
    "!pip install matplotlib\n",
    "!pip install pandas\n",
    "!pip install openpyxl\n",
    "!pip install seaborn"
   ]
  },
  {
   "cell_type": "code",
   "execution_count": 2,
   "metadata": {
    "slideshow": {
     "slide_type": "slide"
    }
   },
   "outputs": [],
   "source": [
    "import pandas as pd\n",
    "import matplotlib.pyplot as plt\n",
    "import seaborn as sns\n",
    "data = pd.read_excel('../data/emdat.xlsx', engine=\"openpyxl\")"
   ]
  },
  {
   "cell_type": "code",
   "execution_count": 3,
   "metadata": {},
   "outputs": [
    {
     "data": {
      "text/html": [
       "<div>\n",
       "<style scoped>\n",
       "    .dataframe tbody tr th:only-of-type {\n",
       "        vertical-align: middle;\n",
       "    }\n",
       "\n",
       "    .dataframe tbody tr th {\n",
       "        vertical-align: top;\n",
       "    }\n",
       "\n",
       "    .dataframe thead th {\n",
       "        text-align: right;\n",
       "    }\n",
       "</style>\n",
       "<table border=\"1\" class=\"dataframe\">\n",
       "  <thead>\n",
       "    <tr style=\"text-align: right;\">\n",
       "      <th></th>\n",
       "      <th>Year</th>\n",
       "      <th>Country</th>\n",
       "      <th>ISO</th>\n",
       "      <th>Disaster Group</th>\n",
       "      <th>Disaster Subroup</th>\n",
       "      <th>Disaster Type</th>\n",
       "      <th>Disaster Subtype</th>\n",
       "      <th>Total Events</th>\n",
       "      <th>Total Affected</th>\n",
       "      <th>Total Deaths</th>\n",
       "      <th>Total Damage (USD, original)</th>\n",
       "      <th>Total Damage (USD, adjusted)</th>\n",
       "      <th>CPI</th>\n",
       "    </tr>\n",
       "  </thead>\n",
       "  <tbody>\n",
       "    <tr>\n",
       "      <th>0</th>\n",
       "      <td>#date +occurred</td>\n",
       "      <td>#country +name</td>\n",
       "      <td>#country +code</td>\n",
       "      <td>#cause +group</td>\n",
       "      <td>#cause +subgroup</td>\n",
       "      <td>#cause +type</td>\n",
       "      <td>#cause +subtype</td>\n",
       "      <td>#frequency</td>\n",
       "      <td>#affected +ind</td>\n",
       "      <td>#affected +ind +killed</td>\n",
       "      <td>NaN</td>\n",
       "      <td>#value +usd</td>\n",
       "      <td>NaN</td>\n",
       "    </tr>\n",
       "    <tr>\n",
       "      <th>1</th>\n",
       "      <td>2000</td>\n",
       "      <td>Afghanistan</td>\n",
       "      <td>AFG</td>\n",
       "      <td>Natural</td>\n",
       "      <td>Climatological</td>\n",
       "      <td>Drought</td>\n",
       "      <td>Drought</td>\n",
       "      <td>1</td>\n",
       "      <td>2580000</td>\n",
       "      <td>37</td>\n",
       "      <td>50000.0</td>\n",
       "      <td>84975</td>\n",
       "      <td>58.840648</td>\n",
       "    </tr>\n",
       "    <tr>\n",
       "      <th>2</th>\n",
       "      <td>2000</td>\n",
       "      <td>Algeria</td>\n",
       "      <td>DZA</td>\n",
       "      <td>Natural</td>\n",
       "      <td>Hydrological</td>\n",
       "      <td>Flood</td>\n",
       "      <td>Flash flood</td>\n",
       "      <td>2</td>\n",
       "      <td>105</td>\n",
       "      <td>37</td>\n",
       "      <td>NaN</td>\n",
       "      <td>NaN</td>\n",
       "      <td>58.840648</td>\n",
       "    </tr>\n",
       "    <tr>\n",
       "      <th>3</th>\n",
       "      <td>2000</td>\n",
       "      <td>Algeria</td>\n",
       "      <td>DZA</td>\n",
       "      <td>Natural</td>\n",
       "      <td>Hydrological</td>\n",
       "      <td>Flood</td>\n",
       "      <td>Flood (General)</td>\n",
       "      <td>2</td>\n",
       "      <td>100</td>\n",
       "      <td>7</td>\n",
       "      <td>NaN</td>\n",
       "      <td>NaN</td>\n",
       "      <td>58.840648</td>\n",
       "    </tr>\n",
       "    <tr>\n",
       "      <th>4</th>\n",
       "      <td>2000</td>\n",
       "      <td>Algeria</td>\n",
       "      <td>DZA</td>\n",
       "      <td>Natural</td>\n",
       "      <td>Meteorological</td>\n",
       "      <td>Storm</td>\n",
       "      <td>Storm (General)</td>\n",
       "      <td>1</td>\n",
       "      <td>10</td>\n",
       "      <td>4</td>\n",
       "      <td>NaN</td>\n",
       "      <td>NaN</td>\n",
       "      <td>58.840648</td>\n",
       "    </tr>\n",
       "    <tr>\n",
       "      <th>...</th>\n",
       "      <td>...</td>\n",
       "      <td>...</td>\n",
       "      <td>...</td>\n",
       "      <td>...</td>\n",
       "      <td>...</td>\n",
       "      <td>...</td>\n",
       "      <td>...</td>\n",
       "      <td>...</td>\n",
       "      <td>...</td>\n",
       "      <td>...</td>\n",
       "      <td>...</td>\n",
       "      <td>...</td>\n",
       "      <td>...</td>\n",
       "    </tr>\n",
       "    <tr>\n",
       "      <th>5834</th>\n",
       "      <td>2023</td>\n",
       "      <td>Viet Nam</td>\n",
       "      <td>VNM</td>\n",
       "      <td>Natural</td>\n",
       "      <td>Meteorological</td>\n",
       "      <td>Storm</td>\n",
       "      <td>Tropical cyclone</td>\n",
       "      <td>1</td>\n",
       "      <td>3</td>\n",
       "      <td>1</td>\n",
       "      <td>NaN</td>\n",
       "      <td>NaN</td>\n",
       "      <td>NaN</td>\n",
       "    </tr>\n",
       "    <tr>\n",
       "      <th>5835</th>\n",
       "      <td>2023</td>\n",
       "      <td>Yemen</td>\n",
       "      <td>YEM</td>\n",
       "      <td>Natural</td>\n",
       "      <td>Hydrological</td>\n",
       "      <td>Flood</td>\n",
       "      <td>Flood (General)</td>\n",
       "      <td>1</td>\n",
       "      <td>169035</td>\n",
       "      <td>39</td>\n",
       "      <td>NaN</td>\n",
       "      <td>NaN</td>\n",
       "      <td>NaN</td>\n",
       "    </tr>\n",
       "    <tr>\n",
       "      <th>5836</th>\n",
       "      <td>2023</td>\n",
       "      <td>Zambia</td>\n",
       "      <td>ZMB</td>\n",
       "      <td>Natural</td>\n",
       "      <td>Hydrological</td>\n",
       "      <td>Flood</td>\n",
       "      <td>Flash flood</td>\n",
       "      <td>1</td>\n",
       "      <td>154608</td>\n",
       "      <td>NaN</td>\n",
       "      <td>NaN</td>\n",
       "      <td>NaN</td>\n",
       "      <td>NaN</td>\n",
       "    </tr>\n",
       "    <tr>\n",
       "      <th>5837</th>\n",
       "      <td>2023</td>\n",
       "      <td>Zambia</td>\n",
       "      <td>ZMB</td>\n",
       "      <td>Natural</td>\n",
       "      <td>Hydrological</td>\n",
       "      <td>Flood</td>\n",
       "      <td>Flood (General)</td>\n",
       "      <td>1</td>\n",
       "      <td>22000</td>\n",
       "      <td>NaN</td>\n",
       "      <td>NaN</td>\n",
       "      <td>NaN</td>\n",
       "      <td>NaN</td>\n",
       "    </tr>\n",
       "    <tr>\n",
       "      <th>5838</th>\n",
       "      <td>2023</td>\n",
       "      <td>Zimbabwe</td>\n",
       "      <td>ZWE</td>\n",
       "      <td>Natural</td>\n",
       "      <td>Meteorological</td>\n",
       "      <td>Storm</td>\n",
       "      <td>Tropical cyclone</td>\n",
       "      <td>1</td>\n",
       "      <td>NaN</td>\n",
       "      <td>2</td>\n",
       "      <td>NaN</td>\n",
       "      <td>NaN</td>\n",
       "      <td>NaN</td>\n",
       "    </tr>\n",
       "  </tbody>\n",
       "</table>\n",
       "<p>5839 rows × 13 columns</p>\n",
       "</div>"
      ],
      "text/plain": [
       "                 Year         Country             ISO Disaster Group  \\\n",
       "0     #date +occurred  #country +name  #country +code  #cause +group   \n",
       "1                2000     Afghanistan             AFG        Natural   \n",
       "2                2000         Algeria             DZA        Natural   \n",
       "3                2000         Algeria             DZA        Natural   \n",
       "4                2000         Algeria             DZA        Natural   \n",
       "...               ...             ...             ...            ...   \n",
       "5834             2023        Viet Nam             VNM        Natural   \n",
       "5835             2023           Yemen             YEM        Natural   \n",
       "5836             2023          Zambia             ZMB        Natural   \n",
       "5837             2023          Zambia             ZMB        Natural   \n",
       "5838             2023        Zimbabwe             ZWE        Natural   \n",
       "\n",
       "      Disaster Subroup Disaster Type  Disaster Subtype Total Events  \\\n",
       "0     #cause +subgroup  #cause +type   #cause +subtype   #frequency   \n",
       "1       Climatological       Drought           Drought            1   \n",
       "2         Hydrological         Flood       Flash flood            2   \n",
       "3         Hydrological         Flood   Flood (General)            2   \n",
       "4       Meteorological         Storm   Storm (General)            1   \n",
       "...                ...           ...               ...          ...   \n",
       "5834    Meteorological         Storm  Tropical cyclone            1   \n",
       "5835      Hydrological         Flood   Flood (General)            1   \n",
       "5836      Hydrological         Flood       Flash flood            1   \n",
       "5837      Hydrological         Flood   Flood (General)            1   \n",
       "5838    Meteorological         Storm  Tropical cyclone            1   \n",
       "\n",
       "      Total Affected            Total Deaths  Total Damage (USD, original)  \\\n",
       "0     #affected +ind  #affected +ind +killed                           NaN   \n",
       "1            2580000                      37                       50000.0   \n",
       "2                105                      37                           NaN   \n",
       "3                100                       7                           NaN   \n",
       "4                 10                       4                           NaN   \n",
       "...              ...                     ...                           ...   \n",
       "5834               3                       1                           NaN   \n",
       "5835          169035                      39                           NaN   \n",
       "5836          154608                     NaN                           NaN   \n",
       "5837           22000                     NaN                           NaN   \n",
       "5838             NaN                       2                           NaN   \n",
       "\n",
       "     Total Damage (USD, adjusted)        CPI  \n",
       "0                     #value +usd        NaN  \n",
       "1                           84975  58.840648  \n",
       "2                             NaN  58.840648  \n",
       "3                             NaN  58.840648  \n",
       "4                             NaN  58.840648  \n",
       "...                           ...        ...  \n",
       "5834                          NaN        NaN  \n",
       "5835                          NaN        NaN  \n",
       "5836                          NaN        NaN  \n",
       "5837                          NaN        NaN  \n",
       "5838                          NaN        NaN  \n",
       "\n",
       "[5839 rows x 13 columns]"
      ]
     },
     "execution_count": 3,
     "metadata": {},
     "output_type": "execute_result"
    }
   ],
   "source": [
    "data"
   ]
  },
  {
   "cell_type": "code",
   "execution_count": 8,
   "metadata": {
    "slideshow": {
     "slide_type": "slide"
    }
   },
   "outputs": [],
   "source": [
    "data = data.drop(index=0)\n",
    "cols = ['Year', 'Total Events', 'Total Affected', 'Total Deaths', 'Total Damage (USD, adjusted)']\n",
    "for col in cols:\n",
    "    data[col] = pd.to_numeric(data[col])"
   ]
  },
  {
   "cell_type": "code",
   "execution_count": 9,
   "metadata": {},
   "outputs": [],
   "source": [
    "cols = ['ISO', 'Disaster Group', 'Total Damage (USD, adjusted)']\n",
    "data.drop(cols, axis=1, inplace=True)"
   ]
  },
  {
   "cell_type": "code",
   "execution_count": 10,
   "metadata": {},
   "outputs": [
    {
     "data": {
      "text/html": [
       "<div>\n",
       "<style scoped>\n",
       "    .dataframe tbody tr th:only-of-type {\n",
       "        vertical-align: middle;\n",
       "    }\n",
       "\n",
       "    .dataframe tbody tr th {\n",
       "        vertical-align: top;\n",
       "    }\n",
       "\n",
       "    .dataframe thead th {\n",
       "        text-align: right;\n",
       "    }\n",
       "</style>\n",
       "<table border=\"1\" class=\"dataframe\">\n",
       "  <thead>\n",
       "    <tr style=\"text-align: right;\">\n",
       "      <th></th>\n",
       "      <th>Year</th>\n",
       "      <th>Country</th>\n",
       "      <th>Disaster Subroup</th>\n",
       "      <th>Disaster Type</th>\n",
       "      <th>Disaster Subtype</th>\n",
       "      <th>Total Events</th>\n",
       "      <th>Total Affected</th>\n",
       "      <th>Total Deaths</th>\n",
       "      <th>Total Damage (USD, original)</th>\n",
       "      <th>CPI</th>\n",
       "    </tr>\n",
       "  </thead>\n",
       "  <tbody>\n",
       "    <tr>\n",
       "      <th>1</th>\n",
       "      <td>2000</td>\n",
       "      <td>Afghanistan</td>\n",
       "      <td>Climatological</td>\n",
       "      <td>Drought</td>\n",
       "      <td>Drought</td>\n",
       "      <td>1</td>\n",
       "      <td>2580000.0</td>\n",
       "      <td>37.0</td>\n",
       "      <td>50000.0</td>\n",
       "      <td>58.840648</td>\n",
       "    </tr>\n",
       "    <tr>\n",
       "      <th>2</th>\n",
       "      <td>2000</td>\n",
       "      <td>Algeria</td>\n",
       "      <td>Hydrological</td>\n",
       "      <td>Flood</td>\n",
       "      <td>Flash flood</td>\n",
       "      <td>2</td>\n",
       "      <td>105.0</td>\n",
       "      <td>37.0</td>\n",
       "      <td>NaN</td>\n",
       "      <td>58.840648</td>\n",
       "    </tr>\n",
       "    <tr>\n",
       "      <th>3</th>\n",
       "      <td>2000</td>\n",
       "      <td>Algeria</td>\n",
       "      <td>Hydrological</td>\n",
       "      <td>Flood</td>\n",
       "      <td>Flood (General)</td>\n",
       "      <td>2</td>\n",
       "      <td>100.0</td>\n",
       "      <td>7.0</td>\n",
       "      <td>NaN</td>\n",
       "      <td>58.840648</td>\n",
       "    </tr>\n",
       "    <tr>\n",
       "      <th>4</th>\n",
       "      <td>2000</td>\n",
       "      <td>Algeria</td>\n",
       "      <td>Meteorological</td>\n",
       "      <td>Storm</td>\n",
       "      <td>Storm (General)</td>\n",
       "      <td>1</td>\n",
       "      <td>10.0</td>\n",
       "      <td>4.0</td>\n",
       "      <td>NaN</td>\n",
       "      <td>58.840648</td>\n",
       "    </tr>\n",
       "    <tr>\n",
       "      <th>5</th>\n",
       "      <td>2000</td>\n",
       "      <td>Angola</td>\n",
       "      <td>Hydrological</td>\n",
       "      <td>Flood</td>\n",
       "      <td>Flood (General)</td>\n",
       "      <td>3</td>\n",
       "      <td>9011.0</td>\n",
       "      <td>15.0</td>\n",
       "      <td>NaN</td>\n",
       "      <td>58.840648</td>\n",
       "    </tr>\n",
       "    <tr>\n",
       "      <th>...</th>\n",
       "      <td>...</td>\n",
       "      <td>...</td>\n",
       "      <td>...</td>\n",
       "      <td>...</td>\n",
       "      <td>...</td>\n",
       "      <td>...</td>\n",
       "      <td>...</td>\n",
       "      <td>...</td>\n",
       "      <td>...</td>\n",
       "      <td>...</td>\n",
       "    </tr>\n",
       "    <tr>\n",
       "      <th>5833</th>\n",
       "      <td>2023</td>\n",
       "      <td>Viet Nam</td>\n",
       "      <td>Hydrological</td>\n",
       "      <td>Flood</td>\n",
       "      <td>Flood (General)</td>\n",
       "      <td>1</td>\n",
       "      <td>463.0</td>\n",
       "      <td>4.0</td>\n",
       "      <td>NaN</td>\n",
       "      <td>NaN</td>\n",
       "    </tr>\n",
       "    <tr>\n",
       "      <th>5834</th>\n",
       "      <td>2023</td>\n",
       "      <td>Viet Nam</td>\n",
       "      <td>Meteorological</td>\n",
       "      <td>Storm</td>\n",
       "      <td>Tropical cyclone</td>\n",
       "      <td>1</td>\n",
       "      <td>3.0</td>\n",
       "      <td>1.0</td>\n",
       "      <td>NaN</td>\n",
       "      <td>NaN</td>\n",
       "    </tr>\n",
       "    <tr>\n",
       "      <th>5835</th>\n",
       "      <td>2023</td>\n",
       "      <td>Yemen</td>\n",
       "      <td>Hydrological</td>\n",
       "      <td>Flood</td>\n",
       "      <td>Flood (General)</td>\n",
       "      <td>1</td>\n",
       "      <td>169035.0</td>\n",
       "      <td>39.0</td>\n",
       "      <td>NaN</td>\n",
       "      <td>NaN</td>\n",
       "    </tr>\n",
       "    <tr>\n",
       "      <th>5836</th>\n",
       "      <td>2023</td>\n",
       "      <td>Zambia</td>\n",
       "      <td>Hydrological</td>\n",
       "      <td>Flood</td>\n",
       "      <td>Flash flood</td>\n",
       "      <td>1</td>\n",
       "      <td>154608.0</td>\n",
       "      <td>NaN</td>\n",
       "      <td>NaN</td>\n",
       "      <td>NaN</td>\n",
       "    </tr>\n",
       "    <tr>\n",
       "      <th>5837</th>\n",
       "      <td>2023</td>\n",
       "      <td>Zambia</td>\n",
       "      <td>Hydrological</td>\n",
       "      <td>Flood</td>\n",
       "      <td>Flood (General)</td>\n",
       "      <td>1</td>\n",
       "      <td>22000.0</td>\n",
       "      <td>NaN</td>\n",
       "      <td>NaN</td>\n",
       "      <td>NaN</td>\n",
       "    </tr>\n",
       "  </tbody>\n",
       "</table>\n",
       "<p>4692 rows × 10 columns</p>\n",
       "</div>"
      ],
      "text/plain": [
       "      Year      Country Disaster Subroup Disaster Type  Disaster Subtype  \\\n",
       "1     2000  Afghanistan   Climatological       Drought           Drought   \n",
       "2     2000      Algeria     Hydrological         Flood       Flash flood   \n",
       "3     2000      Algeria     Hydrological         Flood   Flood (General)   \n",
       "4     2000      Algeria   Meteorological         Storm   Storm (General)   \n",
       "5     2000       Angola     Hydrological         Flood   Flood (General)   \n",
       "...    ...          ...              ...           ...               ...   \n",
       "5833  2023     Viet Nam     Hydrological         Flood   Flood (General)   \n",
       "5834  2023     Viet Nam   Meteorological         Storm  Tropical cyclone   \n",
       "5835  2023        Yemen     Hydrological         Flood   Flood (General)   \n",
       "5836  2023       Zambia     Hydrological         Flood       Flash flood   \n",
       "5837  2023       Zambia     Hydrological         Flood   Flood (General)   \n",
       "\n",
       "      Total Events  Total Affected  Total Deaths  \\\n",
       "1                1       2580000.0          37.0   \n",
       "2                2           105.0          37.0   \n",
       "3                2           100.0           7.0   \n",
       "4                1            10.0           4.0   \n",
       "5                3          9011.0          15.0   \n",
       "...            ...             ...           ...   \n",
       "5833             1           463.0           4.0   \n",
       "5834             1             3.0           1.0   \n",
       "5835             1        169035.0          39.0   \n",
       "5836             1        154608.0           NaN   \n",
       "5837             1         22000.0           NaN   \n",
       "\n",
       "      Total Damage (USD, original)        CPI  \n",
       "1                          50000.0  58.840648  \n",
       "2                              NaN  58.840648  \n",
       "3                              NaN  58.840648  \n",
       "4                              NaN  58.840648  \n",
       "5                              NaN  58.840648  \n",
       "...                            ...        ...  \n",
       "5833                           NaN        NaN  \n",
       "5834                           NaN        NaN  \n",
       "5835                           NaN        NaN  \n",
       "5836                           NaN        NaN  \n",
       "5837                           NaN        NaN  \n",
       "\n",
       "[4692 rows x 10 columns]"
      ]
     },
     "execution_count": 10,
     "metadata": {},
     "output_type": "execute_result"
    }
   ],
   "source": [
    "data = data.dropna(subset=['Disaster Subtype', 'Total Affected'])\n",
    "data[\"Total Affected\"].fillna(data['Total Deaths'], inplace=True)\n",
    "data.drop_duplicates()"
   ]
  },
  {
   "cell_type": "code",
   "execution_count": 12,
   "metadata": {
    "scrolled": true
   },
   "outputs": [
    {
     "data": {
      "image/png": "[encoded data removed]",
      "text/plain": [
       "<Figure size 864x432 with 1 Axes>"
      ]
     },
     "metadata": {
      "needs_background": "light"
     },
     "output_type": "display_data"
    }
   ],
   "source": [
    "# Plot Total Affected over the years\n",
    "plt.figure(figsize=(12, 6))\n",
    "sns.lineplot(x='Year', y='Total Affected', data=data, estimator='sum', errorbar=None)\n",
    "plt.title('Total Affected Over the Years')\n",
    "plt.xlabel('Year')\n",
    "plt.ylabel('Total Affected')\n",
    "plt.show()\n"
   ]
  },
  {
   "cell_type": "code",
   "execution_count": null,
   "metadata": {},
   "outputs": [],
   "source": [
    "\n",
    "# Plot Total Events by Disaster Subgroup\n",
    "plt.figure(figsize=(14, 8))\n",
    "sns.countplot(x='Year', data=data, hue='Disaster Type', palette='Set2')\n",
    "plt.title('Total Events by Disaster Type')\n",
    "plt.xlabel('year')\n",
    "plt.ylabel('Total Events')\n",
    "plt.xticks(rotation=45)\n",
    "plt.show()\n"
   ]
  },
  {
   "cell_type": "code",
   "execution_count": 54,
   "metadata": {},
   "outputs": [
    {
     "data": {
      "image/png": "[encoded data removed]",
      "text/plain": [
       "<Figure size 720x432 with 1 Axes>"
      ]
     },
     "metadata": {
      "needs_background": "light"
     },
     "output_type": "display_data"
    }
   ],
   "source": [
    "# Plot Total Damage vs. Total Deaths\n",
    "plt.figure(figsize=(10, 6))\n",
    "sns.scatterplot(x='Total Deaths', y='Total Damage (USD, original)', data=data, hue='Year', palette='viridis')\n",
    "plt.title('Total Damage vs. Total Deaths')\n",
    "plt.xlabel('Total Deaths')\n",
    "plt.ylabel('Total Damage (USD, original)')\n",
    "plt.show()"
   ]
  },
  {
   "cell_type": "code",
   "execution_count": 38,
   "metadata": {},
   "outputs": [],
   "source": [
    "def create_title(country):\n",
    "    '''takes a country string and return the title'''\n",
    "    return f'\\n\\n Naturkatastrophen in {country} \\n\\n'.upper()"
   ]
  },
  {
   "cell_type": "code",
   "execution_count": 23,
   "metadata": {},
   "outputs": [],
   "source": [
    "def plot_pie(country_data):\n",
    "    '''creates a pie chart with the total deaths per disaster type'''\n",
    "    deaths_per_disaster = country_data.groupby('Disaster Type')['Total Deaths'].sum()\n",
    "    deaths_per_disaster.plot(kind='pie', title='Anteil an getöten Menschen nach Naturkatastrophentyp')\n",
    "    plt.show()"
   ]
  },
  {
   "cell_type": "code",
   "execution_count": 39,
   "metadata": {},
   "outputs": [],
   "source": [
    "def plot_time_evolution(country_data):\n",
    "    '''plots the number of natural disasters over the years'''\n",
    "    yearly_events = country_data.groupby('Year')['Total Events'].sum()\n",
    "    yearly_events.plot(kind='line', x='Year', y='Total Events', title='Anzahl an Naturkatastrophen pro Jahr')\n",
    "    plt.show()"
   ]
  },
  {
   "cell_type": "code",
   "execution_count": 40,
   "metadata": {},
   "outputs": [],
   "source": [
    "def death_overview(country_data):\n",
    "    '''prints the total number of death people '''\n",
    "    total_deaths = country_data[\"Total Deaths\"].sum()\n",
    "    print(f'Getötete Menschen seit 1900: {total_deaths:,.0f}')"
   ]
  },
  {
   "cell_type": "code",
   "execution_count": 41,
   "metadata": {},
   "outputs": [],
   "source": [
    "def compute_anteil(country_total, world_total):\n",
    "    '''computes the percentage of people affected compared to the world'''\n",
    "    anteil = round(country_total / (world_total / 100.0), 2)\n",
    "    print(f'{anteil}% aller Menschen die weltweit von Naturkatastrophen betroffen sind leben hier.\\n')"
   ]
  },
  {
   "cell_type": "code",
   "execution_count": 42,
   "metadata": {},
   "outputs": [],
   "source": [
    "def analyze(data, country='world'):\n",
    "    '''brings all functions together to create a country report'''\n",
    "    print(create_title(country))\n",
    "    \n",
    "    # extract the data belonging to a country\n",
    "    country_data = data[data['Country'] == country]  \n",
    "    # if 'world' is the argument the full dataset is evaluated\n",
    "    if country == 'world':\n",
    "        country_data = data\n",
    "    \n",
    "    # compute the number of people affected\n",
    "    compute_anteil(country_data['Total Affected'].sum(), data['Total Affected'].sum())\n",
    "    death_overview(country_data)\n",
    "    \n",
    "    # plot the graphs\n",
    "    plot_pie(country_data)\n",
    "    plot_time_evolution(country_data)"
   ]
  },
  {
   "cell_type": "code",
   "execution_count": 43,
   "metadata": {
    "scrolled": false
   },
   "outputs": [
    {
     "name": "stdout",
     "output_type": "stream",
     "text": [
      "\n",
      "\n",
      " NATURKATASTROPHEN IN GERMANY \n",
      "\n",
      "\n",
      "0.01% aller Menschen die weltweit von Naturkatastrophen betroffen sind leben hier.\n",
      "\n",
      "Getötete Menschen seit 1900: 296\n"
     ]
    },
    {
     "data": {
      "image/png": "[encoded data removed]",
      "text/plain": [
       "<Figure size 432x288 with 1 Axes>"
      ]
     },
     "metadata": {},
     "output_type": "display_data"
    },
    {
     "data": {
      "image/png": "[encoded data removed]",
      "text/plain": [
       "<Figure size 432x288 with 1 Axes>"
      ]
     },
     "metadata": {
      "needs_background": "light"
     },
     "output_type": "display_data"
    }
   ],
   "source": [
    "analyze(data, 'Germany')"
   ]
  },
  {
   "cell_type": "code",
   "execution_count": 30,
   "metadata": {
    "scrolled": false
   },
   "outputs": [
    {
     "name": "stdout",
     "output_type": "stream",
     "text": [
      "\n",
      "\n",
      " NATURKATASTROPHEN IN INDIA \n",
      "\n",
      "\n",
      "24.57% aller Menschen die weltweit von Naturkatastrophen betroffen sind leben hier.\n",
      "\n",
      "Getötete Menschen seit 1900: 87,391\n"
     ]
    },
    {
     "data": {
      "image/png": "[encoded data removed]",
      "text/plain": [
       "<Figure size 432x288 with 1 Axes>"
      ]
     },
     "metadata": {},
     "output_type": "display_data"
    },
    {
     "data": {
      "image/png": "[encoded data removed]",
      "text/plain": [
       "<Figure size 432x288 with 1 Axes>"
      ]
     },
     "metadata": {
      "needs_background": "light"
     },
     "output_type": "display_data"
    }
   ],
   "source": [
    "analyze(data, 'India')"
   ]
  },
  {
   "cell_type": "code",
   "execution_count": null,
   "metadata": {},
   "outputs": [],
   "source": []
  }
 ],
 "metadata": {
  "celltoolbar": "Tags",
  "kernelspec": {
   "display_name": "Python 3",
   "language": "python",
   "name": "python3"
  },
  "language_info": {
   "codemirror_mode": {
    "name": "ipython",
    "version": 3
   },
   "file_extension": ".py",
   "mimetype": "text/x-python",
   "name": "python",
   "nbconvert_exporter": "python",
   "pygments_lexer": "ipython3",
   "version": "3.7.3"
  }
 },
 "nbformat": 4,
 "nbformat_minor": 5
}
